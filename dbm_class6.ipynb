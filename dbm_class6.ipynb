{
    "metadata": {
        "kernelspec": {
            "name": "SQL",
            "display_name": "SQL",
            "language": "sql"
        },
        "language_info": {
            "name": "sql",
            "version": ""
        }
    },
    "nbformat_minor": 2,
    "nbformat": 4,
    "cells": [
        {
            "cell_type": "markdown",
            "source": [
                "# Introduction to SQL\n",
                "\n",
                "## Overview of the SQL query language\n",
                "\n",
                "The **Structured Query Language (SQL)** has several parts:\n",
                "\n",
                "1. **Data-definition language (DDL)**; the SQL DDL provides commands for defining relation schemas (e.g. ``student (age, name, sex, ...)``), deleting relations, and modifying relation schemas. Specifically with commands for:\n",
                "    * **Integrity**; specifying integrity constraints that the data stored in the database must satisfy. Updates that violate integrity constraints are disallowed.\n",
                "    * **View definition**;\n",
                "2. **Data-manipulation language (DML)**; the SQL DML provides the ability to query information from the database and to insert tuples into, delete tuples from, and modify tuples in a database. Here, it seems crucial to point out that SQL allows for:\n",
                "    * **transaction control**; a transaction is a unit of work performed against a database, such as update or delete; SQL contains commands to control whether the transactions are actually concluded or not which is useful to guarantee the integrity of the database, namely via commands such as ``COMMIT`` or ``ROLL BACK``\n",
                "\n",
                "## Basic data types\n",
                "\n",
                "Main built-in data types supported:\n",
                "\n",
                "* ``char(n)``; a fixed-length character string with user-specified length n, if the string is shorter than *n* SQL recycles it with spaces, e.g. if ``char(3)``,\"hi\" becomes \"hi \"\n",
                "* ``varchar(n)``; A variable-length character string with user-specified maximum length;\n",
                "* ``boolean``; logical values TRUE, FALSE AND UNKNOWN\n",
                "* ``int``; An integer;\n",
                "* ``smallint``; \n",
                "* ``numeric(p,d)``; a fixed-point number with user-specified precision, defined by the *p* parameter as number of digits of the number, and *d* as the number of the *p* digits to the right of the decimal point.\n",
                "* ``real, double precision``; Floating-point and double-precision floating-point numbers with machine dependent precision;\n",
                "* ``float(n)``; A floating-point number wiht precision of at least n digits\n",
                "* ``date``; defaults to the following format YYYY-MM-DD. For other formats, including time and datetime, [see](https://docs.microsoft.com/en-us/sql/t-sql/data-types/date-transact-sql?view=sql-server-ver15)\n",
                "\n",
                "## Basic Schema Definition (creating databases and tables)\n",
                "\n",
                "Before actually writting the code, lets create a temp database. If it already exists delete it.\n",
                "\n",
                ""
            ],
            "metadata": {
                "azdata_cell_guid": "659ec809-d657-4975-ba36-1d6464a2d645"
            }
        },
        {
            "cell_type": "code",
            "source": [
                "-- conditional creation of a temporary database\n",
                "USE master;\n",
                "GO\n",
                "IF EXISTS (SELECT * FROM sys.databases WHERE name = 'uni')\n",
                "    BEGIN\n",
                "        -- delete the db\n",
                "        DROP DATABASE uni\n",
                "        -- create it\n",
                "        CREATE DATABASE uni\n",
                "    END\n",
                "ELSE \n",
                "    BEGIN\n",
                "        -- create it\n",
                "        CREATE DATABASE uni\n",
                "    END;\n",
                "GO\n",
                "\n",
                "-- double check\n",
                "SELECT name, database_id AS id FROM sys.databases WHERE name = 'uni';\n",
                "GO"
            ],
            "metadata": {
                "azdata_cell_guid": "aab3b5b2-bdbc-41fa-8255-facff0667ac1"
            },
            "outputs": [
                {
                    "output_type": "display_data",
                    "data": {
                        "text/html": "Commands completed successfully."
                    },
                    "metadata": {}
                },
                {
                    "output_type": "display_data",
                    "data": {
                        "text/html": "Commands completed successfully."
                    },
                    "metadata": {}
                },
                {
                    "output_type": "display_data",
                    "data": {
                        "text/html": "(1 row affected)"
                    },
                    "metadata": {}
                },
                {
                    "output_type": "display_data",
                    "data": {
                        "text/html": "Total execution time: 00:00:01.098"
                    },
                    "metadata": {}
                },
                {
                    "output_type": "execute_result",
                    "metadata": {
                        "resultSet": {
                            "id": 0,
                            "batchId": 2,
                            "rowCount": 1,
                            "complete": false,
                            "columnInfo": [
                                {
                                    "isBytes": false,
                                    "isChars": true,
                                    "isSqlVariant": false,
                                    "isUdt": false,
                                    "isXml": false,
                                    "isJson": false,
                                    "sqlDbType": 12,
                                    "isHierarchyId": false,
                                    "isSqlXmlType": false,
                                    "isUnknownType": false,
                                    "isUpdatable": false,
                                    "allowDBNull": true,
                                    "baseCatalogName": null,
                                    "baseColumnName": null,
                                    "baseSchemaName": null,
                                    "baseServerName": null,
                                    "baseTableName": null,
                                    "columnName": "name",
                                    "columnOrdinal": 0,
                                    "columnSize": 128,
                                    "isAliased": null,
                                    "isAutoIncrement": false,
                                    "isExpression": null,
                                    "isHidden": null,
                                    "isIdentity": false,
                                    "isKey": null,
                                    "isLong": false,
                                    "isReadOnly": true,
                                    "isUnique": false,
                                    "numericPrecision": 255,
                                    "numericScale": 255,
                                    "udtAssemblyQualifiedName": null,
                                    "dataType": "System.String, System.Private.CoreLib, Version=4.0.0.0, Culture=neutral, PublicKeyToken=7cec85d7bea7798e",
                                    "dataTypeName": "nvarchar"
                                },
                                {
                                    "isBytes": false,
                                    "isChars": false,
                                    "isSqlVariant": false,
                                    "isUdt": false,
                                    "isXml": false,
                                    "isJson": false,
                                    "sqlDbType": 8,
                                    "isHierarchyId": false,
                                    "isSqlXmlType": false,
                                    "isUnknownType": false,
                                    "isUpdatable": true,
                                    "allowDBNull": false,
                                    "baseCatalogName": null,
                                    "baseColumnName": null,
                                    "baseSchemaName": null,
                                    "baseServerName": null,
                                    "baseTableName": null,
                                    "columnName": "id",
                                    "columnOrdinal": 1,
                                    "columnSize": 4,
                                    "isAliased": null,
                                    "isAutoIncrement": false,
                                    "isExpression": null,
                                    "isHidden": null,
                                    "isIdentity": false,
                                    "isKey": null,
                                    "isLong": false,
                                    "isReadOnly": false,
                                    "isUnique": false,
                                    "numericPrecision": 10,
                                    "numericScale": 255,
                                    "udtAssemblyQualifiedName": null,
                                    "dataType": "System.Int32, System.Private.CoreLib, Version=4.0.0.0, Culture=neutral, PublicKeyToken=7cec85d7bea7798e",
                                    "dataTypeName": "int"
                                }
                            ],
                            "specialAction": null
                        }
                    },
                    "execution_count": 1,
                    "data": {
                        "application/vnd.dataresource+json": {
                            "schema": {
                                "fields": [
                                    {
                                        "name": "name"
                                    },
                                    {
                                        "name": "id"
                                    }
                                ]
                            },
                            "data": [
                                {
                                    "0": "uni",
                                    "1": "7"
                                }
                            ]
                        },
                        "text/html": [
                            "<table>",
                            "<tr><th>name</th><th>id</th></tr>",
                            "<tr><td>uni</td><td>7</td></tr>",
                            "</table>"
                        ]
                    }
                }
            ],
            "execution_count": 1
        },
        {
            "cell_type": "markdown",
            "source": [
                "We define a SQL relation via the <code>CREATE TABLE</code> command. The command below defines the relation department. Notice that integrity constraints are added at the bottom within a list. In this cade we specificy that dept_name is the primary key of the department relation."
            ],
            "metadata": {
                "azdata_cell_guid": "0b379d90-27c2-4b1c-a8bb-da6f6a50ccaf"
            }
        },
        {
            "cell_type": "code",
            "source": [
                "-- select the relevant db\n",
                "USE uni;\n",
                "GO\n",
                "\n",
                "-- creat the dept table\n",
                "CREATE TABLE department (\n",
                "    dept_name VARCHAR(20),\n",
                "    building VARCHAR(15),\n",
                "    budget numeric (12,2),\n",
                "    PRIMARY KEY (dept_name)\n",
                ")\n",
                "\n",
                "-- double-check\n",
                "SELECT * FROM department;\n",
                "GO"
            ],
            "metadata": {
                "azdata_cell_guid": "3802d6e8-60e6-4ef4-ae21-f8dacbc803f8"
            },
            "outputs": [
                {
                    "output_type": "display_data",
                    "data": {
                        "text/html": "Commands completed successfully."
                    },
                    "metadata": {}
                },
                {
                    "output_type": "display_data",
                    "data": {
                        "text/html": "(0 rows affected)"
                    },
                    "metadata": {}
                },
                {
                    "output_type": "display_data",
                    "data": {
                        "text/html": "Total execution time: 00:00:00.027"
                    },
                    "metadata": {}
                },
                {
                    "output_type": "execute_result",
                    "metadata": {
                        "resultSet": {
                            "id": 0,
                            "batchId": 1,
                            "rowCount": 0,
                            "complete": false,
                            "columnInfo": [
                                {
                                    "isBytes": false,
                                    "isChars": true,
                                    "isSqlVariant": false,
                                    "isUdt": false,
                                    "isXml": false,
                                    "isJson": false,
                                    "sqlDbType": 22,
                                    "isHierarchyId": false,
                                    "isSqlXmlType": false,
                                    "isUnknownType": false,
                                    "isUpdatable": true,
                                    "allowDBNull": false,
                                    "baseCatalogName": null,
                                    "baseColumnName": null,
                                    "baseSchemaName": null,
                                    "baseServerName": null,
                                    "baseTableName": null,
                                    "columnName": "dept_name",
                                    "columnOrdinal": 0,
                                    "columnSize": 20,
                                    "isAliased": null,
                                    "isAutoIncrement": false,
                                    "isExpression": null,
                                    "isHidden": null,
                                    "isIdentity": false,
                                    "isKey": null,
                                    "isLong": false,
                                    "isReadOnly": false,
                                    "isUnique": false,
                                    "numericPrecision": 255,
                                    "numericScale": 255,
                                    "udtAssemblyQualifiedName": null,
                                    "dataType": "System.String, System.Private.CoreLib, Version=4.0.0.0, Culture=neutral, PublicKeyToken=7cec85d7bea7798e",
                                    "dataTypeName": "varchar"
                                },
                                {
                                    "isBytes": false,
                                    "isChars": true,
                                    "isSqlVariant": false,
                                    "isUdt": false,
                                    "isXml": false,
                                    "isJson": false,
                                    "sqlDbType": 22,
                                    "isHierarchyId": false,
                                    "isSqlXmlType": false,
                                    "isUnknownType": false,
                                    "isUpdatable": true,
                                    "allowDBNull": true,
                                    "baseCatalogName": null,
                                    "baseColumnName": null,
                                    "baseSchemaName": null,
                                    "baseServerName": null,
                                    "baseTableName": null,
                                    "columnName": "building",
                                    "columnOrdinal": 1,
                                    "columnSize": 15,
                                    "isAliased": null,
                                    "isAutoIncrement": false,
                                    "isExpression": null,
                                    "isHidden": null,
                                    "isIdentity": false,
                                    "isKey": null,
                                    "isLong": false,
                                    "isReadOnly": false,
                                    "isUnique": false,
                                    "numericPrecision": 255,
                                    "numericScale": 255,
                                    "udtAssemblyQualifiedName": null,
                                    "dataType": "System.String, System.Private.CoreLib, Version=4.0.0.0, Culture=neutral, PublicKeyToken=7cec85d7bea7798e",
                                    "dataTypeName": "varchar"
                                },
                                {
                                    "isBytes": false,
                                    "isChars": false,
                                    "isSqlVariant": false,
                                    "isUdt": false,
                                    "isXml": false,
                                    "isJson": false,
                                    "sqlDbType": 5,
                                    "isHierarchyId": false,
                                    "isSqlXmlType": false,
                                    "isUnknownType": false,
                                    "isUpdatable": true,
                                    "allowDBNull": true,
                                    "baseCatalogName": null,
                                    "baseColumnName": null,
                                    "baseSchemaName": null,
                                    "baseServerName": null,
                                    "baseTableName": null,
                                    "columnName": "budget",
                                    "columnOrdinal": 2,
                                    "columnSize": 17,
                                    "isAliased": null,
                                    "isAutoIncrement": false,
                                    "isExpression": null,
                                    "isHidden": null,
                                    "isIdentity": false,
                                    "isKey": null,
                                    "isLong": false,
                                    "isReadOnly": false,
                                    "isUnique": false,
                                    "numericPrecision": 12,
                                    "numericScale": 2,
                                    "udtAssemblyQualifiedName": null,
                                    "dataType": "System.Decimal, System.Private.CoreLib, Version=4.0.0.0, Culture=neutral, PublicKeyToken=7cec85d7bea7798e",
                                    "dataTypeName": "decimal"
                                }
                            ],
                            "specialAction": null
                        }
                    },
                    "execution_count": 2,
                    "data": {
                        "application/vnd.dataresource+json": {
                            "schema": {
                                "fields": [
                                    {
                                        "name": "dept_name"
                                    },
                                    {
                                        "name": "building"
                                    },
                                    {
                                        "name": "budget"
                                    }
                                ]
                            },
                            "data": []
                        },
                        "text/html": [
                            "<table>",
                            "<tr><th>dept_name</th><th>building</th><th>budget</th></tr>",
                            "</table>"
                        ]
                    }
                }
            ],
            "execution_count": 2
        },
        {
            "cell_type": "markdown",
            "source": [
                "Sql <strong>supports a number of different integrity constraints</strong>, namely:\n",
                "\n",
                "- `FOREIGN KEY (A_1, ..., A_n) REFERENCE s`; recall that foreign key restriction state that the value of attributes `(A_1, ..., A_n)` for any tuple in the relation must correspond to values of the primary key attributes of some tuple in relation s.<br>\n",
                "\n",
                "<br>"
            ],
            "metadata": {
                "azdata_cell_guid": "095fe054-fcbd-48b4-9c9c-283318ec0bc1"
            }
        },
        {
            "cell_type": "code",
            "source": [
                "--create another table\n",
                "CREATE TABLE professors (\n",
                "    prof_id int,\n",
                "    prof_name varchar(250),\n",
                "    salary NUMERIC(8,2),\n",
                "    dept_name varchar(20),\n",
                "    PRIMARY KEY (prof_id),\n",
                "    FOREIGN KEY (dept_name) REFERENCES department\n",
                ");\n",
                "GO\n",
                "\n",
                "SELECT * FROM professors;\n",
                "GO"
            ],
            "metadata": {
                "azdata_cell_guid": "ee4bc07f-4161-4022-96c2-cac359739411"
            },
            "outputs": [
                {
                    "output_type": "display_data",
                    "data": {
                        "text/html": "Commands completed successfully."
                    },
                    "metadata": {}
                },
                {
                    "output_type": "display_data",
                    "data": {
                        "text/html": "(0 rows affected)"
                    },
                    "metadata": {}
                },
                {
                    "output_type": "display_data",
                    "data": {
                        "text/html": "Total execution time: 00:00:00.012"
                    },
                    "metadata": {}
                },
                {
                    "output_type": "execute_result",
                    "metadata": {
                        "resultSet": {
                            "id": 0,
                            "batchId": 1,
                            "rowCount": 0,
                            "complete": false,
                            "columnInfo": [
                                {
                                    "isBytes": false,
                                    "isChars": false,
                                    "isSqlVariant": false,
                                    "isUdt": false,
                                    "isXml": false,
                                    "isJson": false,
                                    "sqlDbType": 8,
                                    "isHierarchyId": false,
                                    "isSqlXmlType": false,
                                    "isUnknownType": false,
                                    "isUpdatable": true,
                                    "allowDBNull": false,
                                    "baseCatalogName": null,
                                    "baseColumnName": null,
                                    "baseSchemaName": null,
                                    "baseServerName": null,
                                    "baseTableName": null,
                                    "columnName": "prof_id",
                                    "columnOrdinal": 0,
                                    "columnSize": 4,
                                    "isAliased": null,
                                    "isAutoIncrement": false,
                                    "isExpression": null,
                                    "isHidden": null,
                                    "isIdentity": false,
                                    "isKey": null,
                                    "isLong": false,
                                    "isReadOnly": false,
                                    "isUnique": false,
                                    "numericPrecision": 10,
                                    "numericScale": 255,
                                    "udtAssemblyQualifiedName": null,
                                    "dataType": "System.Int32, System.Private.CoreLib, Version=4.0.0.0, Culture=neutral, PublicKeyToken=7cec85d7bea7798e",
                                    "dataTypeName": "int"
                                },
                                {
                                    "isBytes": false,
                                    "isChars": true,
                                    "isSqlVariant": false,
                                    "isUdt": false,
                                    "isXml": false,
                                    "isJson": false,
                                    "sqlDbType": 22,
                                    "isHierarchyId": false,
                                    "isSqlXmlType": false,
                                    "isUnknownType": false,
                                    "isUpdatable": true,
                                    "allowDBNull": true,
                                    "baseCatalogName": null,
                                    "baseColumnName": null,
                                    "baseSchemaName": null,
                                    "baseServerName": null,
                                    "baseTableName": null,
                                    "columnName": "prof_name",
                                    "columnOrdinal": 1,
                                    "columnSize": 250,
                                    "isAliased": null,
                                    "isAutoIncrement": false,
                                    "isExpression": null,
                                    "isHidden": null,
                                    "isIdentity": false,
                                    "isKey": null,
                                    "isLong": false,
                                    "isReadOnly": false,
                                    "isUnique": false,
                                    "numericPrecision": 255,
                                    "numericScale": 255,
                                    "udtAssemblyQualifiedName": null,
                                    "dataType": "System.String, System.Private.CoreLib, Version=4.0.0.0, Culture=neutral, PublicKeyToken=7cec85d7bea7798e",
                                    "dataTypeName": "varchar"
                                },
                                {
                                    "isBytes": false,
                                    "isChars": false,
                                    "isSqlVariant": false,
                                    "isUdt": false,
                                    "isXml": false,
                                    "isJson": false,
                                    "sqlDbType": 5,
                                    "isHierarchyId": false,
                                    "isSqlXmlType": false,
                                    "isUnknownType": false,
                                    "isUpdatable": true,
                                    "allowDBNull": true,
                                    "baseCatalogName": null,
                                    "baseColumnName": null,
                                    "baseSchemaName": null,
                                    "baseServerName": null,
                                    "baseTableName": null,
                                    "columnName": "salary",
                                    "columnOrdinal": 2,
                                    "columnSize": 17,
                                    "isAliased": null,
                                    "isAutoIncrement": false,
                                    "isExpression": null,
                                    "isHidden": null,
                                    "isIdentity": false,
                                    "isKey": null,
                                    "isLong": false,
                                    "isReadOnly": false,
                                    "isUnique": false,
                                    "numericPrecision": 8,
                                    "numericScale": 2,
                                    "udtAssemblyQualifiedName": null,
                                    "dataType": "System.Decimal, System.Private.CoreLib, Version=4.0.0.0, Culture=neutral, PublicKeyToken=7cec85d7bea7798e",
                                    "dataTypeName": "decimal"
                                },
                                {
                                    "isBytes": false,
                                    "isChars": true,
                                    "isSqlVariant": false,
                                    "isUdt": false,
                                    "isXml": false,
                                    "isJson": false,
                                    "sqlDbType": 22,
                                    "isHierarchyId": false,
                                    "isSqlXmlType": false,
                                    "isUnknownType": false,
                                    "isUpdatable": true,
                                    "allowDBNull": true,
                                    "baseCatalogName": null,
                                    "baseColumnName": null,
                                    "baseSchemaName": null,
                                    "baseServerName": null,
                                    "baseTableName": null,
                                    "columnName": "dept_name",
                                    "columnOrdinal": 3,
                                    "columnSize": 20,
                                    "isAliased": null,
                                    "isAutoIncrement": false,
                                    "isExpression": null,
                                    "isHidden": null,
                                    "isIdentity": false,
                                    "isKey": null,
                                    "isLong": false,
                                    "isReadOnly": false,
                                    "isUnique": false,
                                    "numericPrecision": 255,
                                    "numericScale": 255,
                                    "udtAssemblyQualifiedName": null,
                                    "dataType": "System.String, System.Private.CoreLib, Version=4.0.0.0, Culture=neutral, PublicKeyToken=7cec85d7bea7798e",
                                    "dataTypeName": "varchar"
                                }
                            ],
                            "specialAction": null
                        }
                    },
                    "execution_count": 3,
                    "data": {
                        "application/vnd.dataresource+json": {
                            "schema": {
                                "fields": [
                                    {
                                        "name": "prof_id"
                                    },
                                    {
                                        "name": "prof_name"
                                    },
                                    {
                                        "name": "salary"
                                    },
                                    {
                                        "name": "dept_name"
                                    }
                                ]
                            },
                            "data": []
                        },
                        "text/html": [
                            "<table>",
                            "<tr><th>prof_id</th><th>prof_name</th><th>salary</th><th>dept_name</th></tr>",
                            "</table>"
                        ]
                    }
                }
            ],
            "execution_count": 3
        },
        {
            "cell_type": "markdown",
            "source": [
                "- `PRIMARY KEY ((A_1, ..., A_n)`; the primary key attributes are required to be **non-null** and **unique**. The primary key specifications are optional but strongly recommended."
            ],
            "metadata": {
                "azdata_cell_guid": "b2c73aa3-4b46-414f-86f9-41fb587b2e54"
            }
        },
        {
            "cell_type": "code",
            "source": [
                "-- another example\n",
                "CREATE TABLE courses (\n",
                "    course_id int,\n",
                "    title varchar(15),\n",
                "    dept_name varchar(20),\n",
                "    PRIMARY KEY (course_id),\n",
                "    FOREIGN KEY (dept_name) REFERENCES department\n",
                ");\n",
                "GO\n",
                "\n",
                "-- primary key can be composed by many fields\n",
                "CREATE TABLE teaches(\n",
                "    prof_id int,\n",
                "    course_id int,\n",
                "    semester varchar(6),\n",
                "    year numeric(4,0),\n",
                "    PRIMARY KEY (prof_id, course_id, semester, year),\n",
                "    FOREIGN KEY (course_id) REFERENCES courses,\n",
                "    FOREIGN KEY (prof_id) REFERENCES professors,\n",
                ");\n",
                "GO\n",
                "\n",
                "SELECT * FROM courses;\n",
                "GO\n",
                "\n",
                "SELECT * FROM teaches;\n",
                "GO"
            ],
            "metadata": {
                "azdata_cell_guid": "f12dfc35-b642-4f45-b9df-af2ecb623dfc"
            },
            "outputs": [
                {
                    "output_type": "display_data",
                    "data": {
                        "text/html": "Commands completed successfully."
                    },
                    "metadata": {}
                },
                {
                    "output_type": "display_data",
                    "data": {
                        "text/html": "Commands completed successfully."
                    },
                    "metadata": {}
                },
                {
                    "output_type": "display_data",
                    "data": {
                        "text/html": "(0 rows affected)"
                    },
                    "metadata": {}
                },
                {
                    "output_type": "display_data",
                    "data": {
                        "text/html": "(0 rows affected)"
                    },
                    "metadata": {}
                },
                {
                    "output_type": "display_data",
                    "data": {
                        "text/html": "Total execution time: 00:00:00.027"
                    },
                    "metadata": {}
                },
                {
                    "output_type": "execute_result",
                    "metadata": {
                        "resultSet": {
                            "id": 0,
                            "batchId": 2,
                            "rowCount": 0,
                            "complete": false,
                            "columnInfo": [
                                {
                                    "isBytes": false,
                                    "isChars": false,
                                    "isSqlVariant": false,
                                    "isUdt": false,
                                    "isXml": false,
                                    "isJson": false,
                                    "sqlDbType": 8,
                                    "isHierarchyId": false,
                                    "isSqlXmlType": false,
                                    "isUnknownType": false,
                                    "isUpdatable": true,
                                    "allowDBNull": false,
                                    "baseCatalogName": null,
                                    "baseColumnName": null,
                                    "baseSchemaName": null,
                                    "baseServerName": null,
                                    "baseTableName": null,
                                    "columnName": "course_id",
                                    "columnOrdinal": 0,
                                    "columnSize": 4,
                                    "isAliased": null,
                                    "isAutoIncrement": false,
                                    "isExpression": null,
                                    "isHidden": null,
                                    "isIdentity": false,
                                    "isKey": null,
                                    "isLong": false,
                                    "isReadOnly": false,
                                    "isUnique": false,
                                    "numericPrecision": 10,
                                    "numericScale": 255,
                                    "udtAssemblyQualifiedName": null,
                                    "dataType": "System.Int32, System.Private.CoreLib, Version=4.0.0.0, Culture=neutral, PublicKeyToken=7cec85d7bea7798e",
                                    "dataTypeName": "int"
                                },
                                {
                                    "isBytes": false,
                                    "isChars": true,
                                    "isSqlVariant": false,
                                    "isUdt": false,
                                    "isXml": false,
                                    "isJson": false,
                                    "sqlDbType": 22,
                                    "isHierarchyId": false,
                                    "isSqlXmlType": false,
                                    "isUnknownType": false,
                                    "isUpdatable": true,
                                    "allowDBNull": true,
                                    "baseCatalogName": null,
                                    "baseColumnName": null,
                                    "baseSchemaName": null,
                                    "baseServerName": null,
                                    "baseTableName": null,
                                    "columnName": "title",
                                    "columnOrdinal": 1,
                                    "columnSize": 15,
                                    "isAliased": null,
                                    "isAutoIncrement": false,
                                    "isExpression": null,
                                    "isHidden": null,
                                    "isIdentity": false,
                                    "isKey": null,
                                    "isLong": false,
                                    "isReadOnly": false,
                                    "isUnique": false,
                                    "numericPrecision": 255,
                                    "numericScale": 255,
                                    "udtAssemblyQualifiedName": null,
                                    "dataType": "System.String, System.Private.CoreLib, Version=4.0.0.0, Culture=neutral, PublicKeyToken=7cec85d7bea7798e",
                                    "dataTypeName": "varchar"
                                },
                                {
                                    "isBytes": false,
                                    "isChars": true,
                                    "isSqlVariant": false,
                                    "isUdt": false,
                                    "isXml": false,
                                    "isJson": false,
                                    "sqlDbType": 22,
                                    "isHierarchyId": false,
                                    "isSqlXmlType": false,
                                    "isUnknownType": false,
                                    "isUpdatable": true,
                                    "allowDBNull": true,
                                    "baseCatalogName": null,
                                    "baseColumnName": null,
                                    "baseSchemaName": null,
                                    "baseServerName": null,
                                    "baseTableName": null,
                                    "columnName": "dept_name",
                                    "columnOrdinal": 2,
                                    "columnSize": 20,
                                    "isAliased": null,
                                    "isAutoIncrement": false,
                                    "isExpression": null,
                                    "isHidden": null,
                                    "isIdentity": false,
                                    "isKey": null,
                                    "isLong": false,
                                    "isReadOnly": false,
                                    "isUnique": false,
                                    "numericPrecision": 255,
                                    "numericScale": 255,
                                    "udtAssemblyQualifiedName": null,
                                    "dataType": "System.String, System.Private.CoreLib, Version=4.0.0.0, Culture=neutral, PublicKeyToken=7cec85d7bea7798e",
                                    "dataTypeName": "varchar"
                                }
                            ],
                            "specialAction": null
                        }
                    },
                    "execution_count": 4,
                    "data": {
                        "application/vnd.dataresource+json": {
                            "schema": {
                                "fields": [
                                    {
                                        "name": "course_id"
                                    },
                                    {
                                        "name": "title"
                                    },
                                    {
                                        "name": "dept_name"
                                    }
                                ]
                            },
                            "data": []
                        },
                        "text/html": [
                            "<table>",
                            "<tr><th>course_id</th><th>title</th><th>dept_name</th></tr>",
                            "</table>"
                        ]
                    }
                },
                {
                    "output_type": "execute_result",
                    "metadata": {
                        "resultSet": {
                            "id": 0,
                            "batchId": 3,
                            "rowCount": 0,
                            "complete": false,
                            "columnInfo": [
                                {
                                    "isBytes": false,
                                    "isChars": false,
                                    "isSqlVariant": false,
                                    "isUdt": false,
                                    "isXml": false,
                                    "isJson": false,
                                    "sqlDbType": 8,
                                    "isHierarchyId": false,
                                    "isSqlXmlType": false,
                                    "isUnknownType": false,
                                    "isUpdatable": true,
                                    "allowDBNull": false,
                                    "baseCatalogName": null,
                                    "baseColumnName": null,
                                    "baseSchemaName": null,
                                    "baseServerName": null,
                                    "baseTableName": null,
                                    "columnName": "prof_id",
                                    "columnOrdinal": 0,
                                    "columnSize": 4,
                                    "isAliased": null,
                                    "isAutoIncrement": false,
                                    "isExpression": null,
                                    "isHidden": null,
                                    "isIdentity": false,
                                    "isKey": null,
                                    "isLong": false,
                                    "isReadOnly": false,
                                    "isUnique": false,
                                    "numericPrecision": 10,
                                    "numericScale": 255,
                                    "udtAssemblyQualifiedName": null,
                                    "dataType": "System.Int32, System.Private.CoreLib, Version=4.0.0.0, Culture=neutral, PublicKeyToken=7cec85d7bea7798e",
                                    "dataTypeName": "int"
                                },
                                {
                                    "isBytes": false,
                                    "isChars": false,
                                    "isSqlVariant": false,
                                    "isUdt": false,
                                    "isXml": false,
                                    "isJson": false,
                                    "sqlDbType": 8,
                                    "isHierarchyId": false,
                                    "isSqlXmlType": false,
                                    "isUnknownType": false,
                                    "isUpdatable": true,
                                    "allowDBNull": false,
                                    "baseCatalogName": null,
                                    "baseColumnName": null,
                                    "baseSchemaName": null,
                                    "baseServerName": null,
                                    "baseTableName": null,
                                    "columnName": "course_id",
                                    "columnOrdinal": 1,
                                    "columnSize": 4,
                                    "isAliased": null,
                                    "isAutoIncrement": false,
                                    "isExpression": null,
                                    "isHidden": null,
                                    "isIdentity": false,
                                    "isKey": null,
                                    "isLong": false,
                                    "isReadOnly": false,
                                    "isUnique": false,
                                    "numericPrecision": 10,
                                    "numericScale": 255,
                                    "udtAssemblyQualifiedName": null,
                                    "dataType": "System.Int32, System.Private.CoreLib, Version=4.0.0.0, Culture=neutral, PublicKeyToken=7cec85d7bea7798e",
                                    "dataTypeName": "int"
                                },
                                {
                                    "isBytes": false,
                                    "isChars": true,
                                    "isSqlVariant": false,
                                    "isUdt": false,
                                    "isXml": false,
                                    "isJson": false,
                                    "sqlDbType": 22,
                                    "isHierarchyId": false,
                                    "isSqlXmlType": false,
                                    "isUnknownType": false,
                                    "isUpdatable": true,
                                    "allowDBNull": false,
                                    "baseCatalogName": null,
                                    "baseColumnName": null,
                                    "baseSchemaName": null,
                                    "baseServerName": null,
                                    "baseTableName": null,
                                    "columnName": "semester",
                                    "columnOrdinal": 2,
                                    "columnSize": 6,
                                    "isAliased": null,
                                    "isAutoIncrement": false,
                                    "isExpression": null,
                                    "isHidden": null,
                                    "isIdentity": false,
                                    "isKey": null,
                                    "isLong": false,
                                    "isReadOnly": false,
                                    "isUnique": false,
                                    "numericPrecision": 255,
                                    "numericScale": 255,
                                    "udtAssemblyQualifiedName": null,
                                    "dataType": "System.String, System.Private.CoreLib, Version=4.0.0.0, Culture=neutral, PublicKeyToken=7cec85d7bea7798e",
                                    "dataTypeName": "varchar"
                                },
                                {
                                    "isBytes": false,
                                    "isChars": false,
                                    "isSqlVariant": false,
                                    "isUdt": false,
                                    "isXml": false,
                                    "isJson": false,
                                    "sqlDbType": 5,
                                    "isHierarchyId": false,
                                    "isSqlXmlType": false,
                                    "isUnknownType": false,
                                    "isUpdatable": true,
                                    "allowDBNull": false,
                                    "baseCatalogName": null,
                                    "baseColumnName": null,
                                    "baseSchemaName": null,
                                    "baseServerName": null,
                                    "baseTableName": null,
                                    "columnName": "year",
                                    "columnOrdinal": 3,
                                    "columnSize": 17,
                                    "isAliased": null,
                                    "isAutoIncrement": false,
                                    "isExpression": null,
                                    "isHidden": null,
                                    "isIdentity": false,
                                    "isKey": null,
                                    "isLong": false,
                                    "isReadOnly": false,
                                    "isUnique": false,
                                    "numericPrecision": 4,
                                    "numericScale": 0,
                                    "udtAssemblyQualifiedName": null,
                                    "dataType": "System.Decimal, System.Private.CoreLib, Version=4.0.0.0, Culture=neutral, PublicKeyToken=7cec85d7bea7798e",
                                    "dataTypeName": "decimal"
                                }
                            ],
                            "specialAction": null
                        }
                    },
                    "execution_count": 4,
                    "data": {
                        "application/vnd.dataresource+json": {
                            "schema": {
                                "fields": [
                                    {
                                        "name": "prof_id"
                                    },
                                    {
                                        "name": "course_id"
                                    },
                                    {
                                        "name": "semester"
                                    },
                                    {
                                        "name": "year"
                                    }
                                ]
                            },
                            "data": []
                        },
                        "text/html": [
                            "<table>",
                            "<tr><th>prof_id</th><th>course_id</th><th>semester</th><th>year</th></tr>",
                            "</table>"
                        ]
                    }
                }
            ],
            "execution_count": 4
        },
        {
            "cell_type": "markdown",
            "source": [
                "## Droping dabases and tables\n",
                "\n",
                "It is pretty straightforward."
            ],
            "metadata": {
                "azdata_cell_guid": "68e442b5-dd58-4543-9e58-32bd51a7bfd1"
            }
        },
        {
            "cell_type": "code",
            "source": [
                "-- Switch database being used\n",
                "USE master;\n",
                "GO\n",
                "-- droping a database as a whole\n",
                "DROP DATABASE uni;\n",
                "GO\n",
                "-- rebuilding it but without foreign key constraints\n",
                "CREATE DATABASE uni;\n",
                "GO\n",
                "USE uni;\n",
                "GO\n",
                "CREATE TABLE courses (\n",
                "    course_id int,\n",
                "    title varchar(15),\n",
                "    dept_name varchar(20),\n",
                "    PRIMARY KEY (course_id)\n",
                ");\n",
                "GO\n",
                "CREATE TABLE teaches(\n",
                "    prof_id int,\n",
                "    course_id int,\n",
                "    semester varchar(6),\n",
                "    year numeric(4,0),\n",
                "    PRIMARY KEY (prof_id, course_id, semester, year)\n",
                ");\n",
                "GO\n",
                "CREATE TABLE professors (\n",
                "    prof_id int,\n",
                "    prof_name varchar(250),\n",
                "    salary NUMERIC(8,2),\n",
                "    dept_name varchar(20),\n",
                "    PRIMARY KEY (prof_id),\n",
                ");\n",
                "GO\n",
                "\n",
                "SELECT name, object_id AS id FROM sys.tables;\n",
                "GO \n",
                "-- Drop a table\n",
                "DROP TABLE courses;\n",
                "GO\n",
                "-- check\n",
                "SELECT name, object_id AS id FROM sys.tables;\n",
                "GO \n",
                "-- Drop two tables\n",
                "DROP TABLE teaches, professors;\n",
                "GO\n",
                "-- check\n",
                "SELECT name, object_id AS id FROM sys.tables;\n",
                "GO\n",
                "-- Switch database being used\n",
                "USE tempdb;\n",
                "GO\n",
                "-- Drop the entire database\n",
                "DROP DATABASE uni;\n",
                "GO\n",
                "-- check\n",
                "SELECT name FROM sys.databases;\n",
                "GO  "
            ],
            "metadata": {
                "azdata_cell_guid": "6d191b65-46b5-44c3-8a17-39c65599ae35"
            },
            "outputs": [
                {
                    "output_type": "display_data",
                    "data": {
                        "text/html": "Commands completed successfully."
                    },
                    "metadata": {}
                },
                {
                    "output_type": "display_data",
                    "data": {
                        "text/html": "Commands completed successfully."
                    },
                    "metadata": {}
                },
                {
                    "output_type": "display_data",
                    "data": {
                        "text/html": "Commands completed successfully."
                    },
                    "metadata": {}
                },
                {
                    "output_type": "display_data",
                    "data": {
                        "text/html": "Commands completed successfully."
                    },
                    "metadata": {}
                },
                {
                    "output_type": "display_data",
                    "data": {
                        "text/html": "Commands completed successfully."
                    },
                    "metadata": {}
                },
                {
                    "output_type": "display_data",
                    "data": {
                        "text/html": "Commands completed successfully."
                    },
                    "metadata": {}
                },
                {
                    "output_type": "display_data",
                    "data": {
                        "text/html": "Commands completed successfully."
                    },
                    "metadata": {}
                },
                {
                    "output_type": "display_data",
                    "data": {
                        "text/html": "(3 rows affected)"
                    },
                    "metadata": {}
                },
                {
                    "output_type": "display_data",
                    "data": {
                        "text/html": "Commands completed successfully."
                    },
                    "metadata": {}
                },
                {
                    "output_type": "display_data",
                    "data": {
                        "text/html": "(2 rows affected)"
                    },
                    "metadata": {}
                },
                {
                    "output_type": "display_data",
                    "data": {
                        "text/html": "Commands completed successfully."
                    },
                    "metadata": {}
                },
                {
                    "output_type": "display_data",
                    "data": {
                        "text/html": "(0 rows affected)"
                    },
                    "metadata": {}
                },
                {
                    "output_type": "display_data",
                    "data": {
                        "text/html": "Commands completed successfully."
                    },
                    "metadata": {}
                },
                {
                    "output_type": "display_data",
                    "data": {
                        "text/html": "Commands completed successfully."
                    },
                    "metadata": {}
                },
                {
                    "output_type": "display_data",
                    "data": {
                        "text/html": "(6 rows affected)"
                    },
                    "metadata": {}
                },
                {
                    "output_type": "display_data",
                    "data": {
                        "text/html": "Total execution time: 00:00:01.763"
                    },
                    "metadata": {}
                },
                {
                    "output_type": "execute_result",
                    "metadata": {
                        "resultSet": {
                            "id": 0,
                            "batchId": 7,
                            "rowCount": 3,
                            "complete": true,
                            "columnInfo": [
                                {
                                    "isBytes": false,
                                    "isChars": true,
                                    "isSqlVariant": false,
                                    "isUdt": false,
                                    "isXml": false,
                                    "isJson": false,
                                    "sqlDbType": 12,
                                    "isHierarchyId": false,
                                    "isSqlXmlType": false,
                                    "isUnknownType": false,
                                    "isUpdatable": true,
                                    "allowDBNull": false,
                                    "baseCatalogName": null,
                                    "baseColumnName": null,
                                    "baseSchemaName": null,
                                    "baseServerName": null,
                                    "baseTableName": null,
                                    "columnName": "name",
                                    "columnOrdinal": 0,
                                    "columnSize": 128,
                                    "isAliased": null,
                                    "isAutoIncrement": false,
                                    "isExpression": null,
                                    "isHidden": null,
                                    "isIdentity": false,
                                    "isKey": null,
                                    "isLong": false,
                                    "isReadOnly": false,
                                    "isUnique": false,
                                    "numericPrecision": 255,
                                    "numericScale": 255,
                                    "udtAssemblyQualifiedName": null,
                                    "dataType": "System.String, System.Private.CoreLib, Version=4.0.0.0, Culture=neutral, PublicKeyToken=7cec85d7bea7798e",
                                    "dataTypeName": "nvarchar"
                                },
                                {
                                    "isBytes": false,
                                    "isChars": false,
                                    "isSqlVariant": false,
                                    "isUdt": false,
                                    "isXml": false,
                                    "isJson": false,
                                    "sqlDbType": 8,
                                    "isHierarchyId": false,
                                    "isSqlXmlType": false,
                                    "isUnknownType": false,
                                    "isUpdatable": true,
                                    "allowDBNull": false,
                                    "baseCatalogName": null,
                                    "baseColumnName": null,
                                    "baseSchemaName": null,
                                    "baseServerName": null,
                                    "baseTableName": null,
                                    "columnName": "id",
                                    "columnOrdinal": 1,
                                    "columnSize": 4,
                                    "isAliased": null,
                                    "isAutoIncrement": false,
                                    "isExpression": null,
                                    "isHidden": null,
                                    "isIdentity": false,
                                    "isKey": null,
                                    "isLong": false,
                                    "isReadOnly": false,
                                    "isUnique": false,
                                    "numericPrecision": 10,
                                    "numericScale": 255,
                                    "udtAssemblyQualifiedName": null,
                                    "dataType": "System.Int32, System.Private.CoreLib, Version=4.0.0.0, Culture=neutral, PublicKeyToken=7cec85d7bea7798e",
                                    "dataTypeName": "int"
                                }
                            ],
                            "specialAction": {
                                "none": true,
                                "expectYukonXMLShowPlan": false
                            }
                        }
                    },
                    "execution_count": 5,
                    "data": {
                        "application/vnd.dataresource+json": {
                            "schema": {
                                "fields": [
                                    {
                                        "name": "name"
                                    },
                                    {
                                        "name": "id"
                                    }
                                ]
                            },
                            "data": [
                                {
                                    "0": "courses",
                                    "1": "581577110"
                                },
                                {
                                    "0": "teaches",
                                    "1": "613577224"
                                },
                                {
                                    "0": "professors",
                                    "1": "645577338"
                                }
                            ]
                        },
                        "text/html": [
                            "<table>",
                            "<tr><th>name</th><th>id</th></tr>",
                            "<tr><td>courses</td><td>581577110</td></tr>",
                            "<tr><td>teaches</td><td>613577224</td></tr>",
                            "<tr><td>professors</td><td>645577338</td></tr>",
                            "</table>"
                        ]
                    }
                },
                {
                    "output_type": "execute_result",
                    "metadata": {
                        "resultSet": {
                            "id": 0,
                            "batchId": 9,
                            "rowCount": 2,
                            "complete": true,
                            "columnInfo": [
                                {
                                    "isBytes": false,
                                    "isChars": true,
                                    "isSqlVariant": false,
                                    "isUdt": false,
                                    "isXml": false,
                                    "isJson": false,
                                    "sqlDbType": 12,
                                    "isHierarchyId": false,
                                    "isSqlXmlType": false,
                                    "isUnknownType": false,
                                    "isUpdatable": true,
                                    "allowDBNull": false,
                                    "baseCatalogName": null,
                                    "baseColumnName": null,
                                    "baseSchemaName": null,
                                    "baseServerName": null,
                                    "baseTableName": null,
                                    "columnName": "name",
                                    "columnOrdinal": 0,
                                    "columnSize": 128,
                                    "isAliased": null,
                                    "isAutoIncrement": false,
                                    "isExpression": null,
                                    "isHidden": null,
                                    "isIdentity": false,
                                    "isKey": null,
                                    "isLong": false,
                                    "isReadOnly": false,
                                    "isUnique": false,
                                    "numericPrecision": 255,
                                    "numericScale": 255,
                                    "udtAssemblyQualifiedName": null,
                                    "dataType": "System.String, System.Private.CoreLib, Version=4.0.0.0, Culture=neutral, PublicKeyToken=7cec85d7bea7798e",
                                    "dataTypeName": "nvarchar"
                                },
                                {
                                    "isBytes": false,
                                    "isChars": false,
                                    "isSqlVariant": false,
                                    "isUdt": false,
                                    "isXml": false,
                                    "isJson": false,
                                    "sqlDbType": 8,
                                    "isHierarchyId": false,
                                    "isSqlXmlType": false,
                                    "isUnknownType": false,
                                    "isUpdatable": true,
                                    "allowDBNull": false,
                                    "baseCatalogName": null,
                                    "baseColumnName": null,
                                    "baseSchemaName": null,
                                    "baseServerName": null,
                                    "baseTableName": null,
                                    "columnName": "id",
                                    "columnOrdinal": 1,
                                    "columnSize": 4,
                                    "isAliased": null,
                                    "isAutoIncrement": false,
                                    "isExpression": null,
                                    "isHidden": null,
                                    "isIdentity": false,
                                    "isKey": null,
                                    "isLong": false,
                                    "isReadOnly": false,
                                    "isUnique": false,
                                    "numericPrecision": 10,
                                    "numericScale": 255,
                                    "udtAssemblyQualifiedName": null,
                                    "dataType": "System.Int32, System.Private.CoreLib, Version=4.0.0.0, Culture=neutral, PublicKeyToken=7cec85d7bea7798e",
                                    "dataTypeName": "int"
                                }
                            ],
                            "specialAction": {
                                "none": true,
                                "expectYukonXMLShowPlan": false
                            }
                        }
                    },
                    "execution_count": 5,
                    "data": {
                        "application/vnd.dataresource+json": {
                            "schema": {
                                "fields": [
                                    {
                                        "name": "name"
                                    },
                                    {
                                        "name": "id"
                                    }
                                ]
                            },
                            "data": [
                                {
                                    "0": "teaches",
                                    "1": "613577224"
                                },
                                {
                                    "0": "professors",
                                    "1": "645577338"
                                }
                            ]
                        },
                        "text/html": [
                            "<table>",
                            "<tr><th>name</th><th>id</th></tr>",
                            "<tr><td>teaches</td><td>613577224</td></tr>",
                            "<tr><td>professors</td><td>645577338</td></tr>",
                            "</table>"
                        ]
                    }
                },
                {
                    "output_type": "execute_result",
                    "metadata": {
                        "resultSet": {
                            "id": 0,
                            "batchId": 11,
                            "rowCount": 0,
                            "complete": false,
                            "columnInfo": [
                                {
                                    "isBytes": false,
                                    "isChars": true,
                                    "isSqlVariant": false,
                                    "isUdt": false,
                                    "isXml": false,
                                    "isJson": false,
                                    "sqlDbType": 12,
                                    "isHierarchyId": false,
                                    "isSqlXmlType": false,
                                    "isUnknownType": false,
                                    "isUpdatable": true,
                                    "allowDBNull": false,
                                    "baseCatalogName": null,
                                    "baseColumnName": null,
                                    "baseSchemaName": null,
                                    "baseServerName": null,
                                    "baseTableName": null,
                                    "columnName": "name",
                                    "columnOrdinal": 0,
                                    "columnSize": 128,
                                    "isAliased": null,
                                    "isAutoIncrement": false,
                                    "isExpression": null,
                                    "isHidden": null,
                                    "isIdentity": false,
                                    "isKey": null,
                                    "isLong": false,
                                    "isReadOnly": false,
                                    "isUnique": false,
                                    "numericPrecision": 255,
                                    "numericScale": 255,
                                    "udtAssemblyQualifiedName": null,
                                    "dataType": "System.String, System.Private.CoreLib, Version=4.0.0.0, Culture=neutral, PublicKeyToken=7cec85d7bea7798e",
                                    "dataTypeName": "nvarchar"
                                },
                                {
                                    "isBytes": false,
                                    "isChars": false,
                                    "isSqlVariant": false,
                                    "isUdt": false,
                                    "isXml": false,
                                    "isJson": false,
                                    "sqlDbType": 8,
                                    "isHierarchyId": false,
                                    "isSqlXmlType": false,
                                    "isUnknownType": false,
                                    "isUpdatable": true,
                                    "allowDBNull": false,
                                    "baseCatalogName": null,
                                    "baseColumnName": null,
                                    "baseSchemaName": null,
                                    "baseServerName": null,
                                    "baseTableName": null,
                                    "columnName": "id",
                                    "columnOrdinal": 1,
                                    "columnSize": 4,
                                    "isAliased": null,
                                    "isAutoIncrement": false,
                                    "isExpression": null,
                                    "isHidden": null,
                                    "isIdentity": false,
                                    "isKey": null,
                                    "isLong": false,
                                    "isReadOnly": false,
                                    "isUnique": false,
                                    "numericPrecision": 10,
                                    "numericScale": 255,
                                    "udtAssemblyQualifiedName": null,
                                    "dataType": "System.Int32, System.Private.CoreLib, Version=4.0.0.0, Culture=neutral, PublicKeyToken=7cec85d7bea7798e",
                                    "dataTypeName": "int"
                                }
                            ],
                            "specialAction": null
                        }
                    },
                    "execution_count": 5,
                    "data": {
                        "application/vnd.dataresource+json": {
                            "schema": {
                                "fields": [
                                    {
                                        "name": "name"
                                    },
                                    {
                                        "name": "id"
                                    }
                                ]
                            },
                            "data": []
                        },
                        "text/html": [
                            "<table>",
                            "<tr><th>name</th><th>id</th></tr>",
                            "</table>"
                        ]
                    }
                },
                {
                    "output_type": "execute_result",
                    "metadata": {
                        "resultSet": {
                            "id": 0,
                            "batchId": 14,
                            "rowCount": 6,
                            "complete": true,
                            "columnInfo": [
                                {
                                    "isBytes": false,
                                    "isChars": true,
                                    "isSqlVariant": false,
                                    "isUdt": false,
                                    "isXml": false,
                                    "isJson": false,
                                    "sqlDbType": 12,
                                    "isHierarchyId": false,
                                    "isSqlXmlType": false,
                                    "isUnknownType": false,
                                    "isUpdatable": false,
                                    "allowDBNull": true,
                                    "baseCatalogName": null,
                                    "baseColumnName": null,
                                    "baseSchemaName": null,
                                    "baseServerName": null,
                                    "baseTableName": null,
                                    "columnName": "name",
                                    "columnOrdinal": 0,
                                    "columnSize": 128,
                                    "isAliased": null,
                                    "isAutoIncrement": false,
                                    "isExpression": null,
                                    "isHidden": null,
                                    "isIdentity": false,
                                    "isKey": null,
                                    "isLong": false,
                                    "isReadOnly": true,
                                    "isUnique": false,
                                    "numericPrecision": 255,
                                    "numericScale": 255,
                                    "udtAssemblyQualifiedName": null,
                                    "dataType": "System.String, System.Private.CoreLib, Version=4.0.0.0, Culture=neutral, PublicKeyToken=7cec85d7bea7798e",
                                    "dataTypeName": "nvarchar"
                                }
                            ],
                            "specialAction": {
                                "none": true,
                                "expectYukonXMLShowPlan": false
                            }
                        }
                    },
                    "execution_count": 5,
                    "data": {
                        "application/vnd.dataresource+json": {
                            "schema": {
                                "fields": [
                                    {
                                        "name": "name"
                                    }
                                ]
                            },
                            "data": [
                                {
                                    "0": "master"
                                },
                                {
                                    "0": "tempdb"
                                },
                                {
                                    "0": "model"
                                },
                                {
                                    "0": "msdb"
                                },
                                {
                                    "0": "udemy"
                                },
                                {
                                    "0": "dbm_project"
                                }
                            ]
                        },
                        "text/html": [
                            "<table>",
                            "<tr><th>name</th></tr>",
                            "<tr><td>master</td></tr>",
                            "<tr><td>tempdb</td></tr>",
                            "<tr><td>model</td></tr>",
                            "<tr><td>msdb</td></tr>",
                            "<tr><td>udemy</td></tr>",
                            "<tr><td>dbm_project</td></tr>",
                            "</table>"
                        ]
                    }
                }
            ],
            "execution_count": 5
        },
        {
            "cell_type": "markdown",
            "source": [
                "As for dropping columns, we have to preced the ``DROP`` with a ``ALTER TABLE``."
            ],
            "metadata": {
                "azdata_cell_guid": "41e4a0a3-c177-4876-93c3-859514c58fde"
            }
        },
        {
            "cell_type": "code",
            "source": [
                "-- rebuilding it but without foreign key constraints\n",
                "CREATE DATABASE uni;\n",
                "GO\n",
                "USE uni;\n",
                "GO\n",
                "CREATE TABLE courses (\n",
                "    course_id int,\n",
                "    title varchar(15),\n",
                "    dept_name varchar(20),\n",
                "    fooh varchar(100)\n",
                ");\n",
                "GO\n",
                "-- Drop the dept_name columns\n",
                "ALTER TABLE courses\n",
                "DROP COLUMN dept_name;\n",
                "GO\n",
                "SELECT * FROM courses;\n",
                "GO\n",
                "\n",
                "-- Drop two columns\n",
                "ALTER TABLE courses\n",
                "DROP COLUMN title, course_id;\n",
                "GO\n",
                "SELECT * FROM courses;\n",
                "GO"
            ],
            "metadata": {
                "azdata_cell_guid": "9964a4f6-a8cb-407a-8563-779b91512a46"
            },
            "outputs": [
                {
                    "output_type": "display_data",
                    "data": {
                        "text/html": "Commands completed successfully."
                    },
                    "metadata": {}
                },
                {
                    "output_type": "display_data",
                    "data": {
                        "text/html": "Commands completed successfully."
                    },
                    "metadata": {}
                },
                {
                    "output_type": "display_data",
                    "data": {
                        "text/html": "Commands completed successfully."
                    },
                    "metadata": {}
                },
                {
                    "output_type": "display_data",
                    "data": {
                        "text/html": "Commands completed successfully."
                    },
                    "metadata": {}
                },
                {
                    "output_type": "display_data",
                    "data": {
                        "text/html": "(0 rows affected)"
                    },
                    "metadata": {}
                },
                {
                    "output_type": "display_data",
                    "data": {
                        "text/html": "Commands completed successfully."
                    },
                    "metadata": {}
                },
                {
                    "output_type": "display_data",
                    "data": {
                        "text/html": "(0 rows affected)"
                    },
                    "metadata": {}
                },
                {
                    "output_type": "display_data",
                    "data": {
                        "text/html": "Total execution time: 00:00:00.779"
                    },
                    "metadata": {}
                },
                {
                    "output_type": "execute_result",
                    "metadata": {
                        "resultSet": {
                            "id": 0,
                            "batchId": 4,
                            "rowCount": 0,
                            "complete": false,
                            "columnInfo": [
                                {
                                    "isBytes": false,
                                    "isChars": false,
                                    "isSqlVariant": false,
                                    "isUdt": false,
                                    "isXml": false,
                                    "isJson": false,
                                    "sqlDbType": 8,
                                    "isHierarchyId": false,
                                    "isSqlXmlType": false,
                                    "isUnknownType": false,
                                    "isUpdatable": true,
                                    "allowDBNull": true,
                                    "baseCatalogName": null,
                                    "baseColumnName": null,
                                    "baseSchemaName": null,
                                    "baseServerName": null,
                                    "baseTableName": null,
                                    "columnName": "course_id",
                                    "columnOrdinal": 0,
                                    "columnSize": 4,
                                    "isAliased": null,
                                    "isAutoIncrement": false,
                                    "isExpression": null,
                                    "isHidden": null,
                                    "isIdentity": false,
                                    "isKey": null,
                                    "isLong": false,
                                    "isReadOnly": false,
                                    "isUnique": false,
                                    "numericPrecision": 10,
                                    "numericScale": 255,
                                    "udtAssemblyQualifiedName": null,
                                    "dataType": "System.Int32, System.Private.CoreLib, Version=4.0.0.0, Culture=neutral, PublicKeyToken=7cec85d7bea7798e",
                                    "dataTypeName": "int"
                                },
                                {
                                    "isBytes": false,
                                    "isChars": true,
                                    "isSqlVariant": false,
                                    "isUdt": false,
                                    "isXml": false,
                                    "isJson": false,
                                    "sqlDbType": 22,
                                    "isHierarchyId": false,
                                    "isSqlXmlType": false,
                                    "isUnknownType": false,
                                    "isUpdatable": true,
                                    "allowDBNull": true,
                                    "baseCatalogName": null,
                                    "baseColumnName": null,
                                    "baseSchemaName": null,
                                    "baseServerName": null,
                                    "baseTableName": null,
                                    "columnName": "title",
                                    "columnOrdinal": 1,
                                    "columnSize": 15,
                                    "isAliased": null,
                                    "isAutoIncrement": false,
                                    "isExpression": null,
                                    "isHidden": null,
                                    "isIdentity": false,
                                    "isKey": null,
                                    "isLong": false,
                                    "isReadOnly": false,
                                    "isUnique": false,
                                    "numericPrecision": 255,
                                    "numericScale": 255,
                                    "udtAssemblyQualifiedName": null,
                                    "dataType": "System.String, System.Private.CoreLib, Version=4.0.0.0, Culture=neutral, PublicKeyToken=7cec85d7bea7798e",
                                    "dataTypeName": "varchar"
                                },
                                {
                                    "isBytes": false,
                                    "isChars": true,
                                    "isSqlVariant": false,
                                    "isUdt": false,
                                    "isXml": false,
                                    "isJson": false,
                                    "sqlDbType": 22,
                                    "isHierarchyId": false,
                                    "isSqlXmlType": false,
                                    "isUnknownType": false,
                                    "isUpdatable": true,
                                    "allowDBNull": true,
                                    "baseCatalogName": null,
                                    "baseColumnName": null,
                                    "baseSchemaName": null,
                                    "baseServerName": null,
                                    "baseTableName": null,
                                    "columnName": "fooh",
                                    "columnOrdinal": 2,
                                    "columnSize": 100,
                                    "isAliased": null,
                                    "isAutoIncrement": false,
                                    "isExpression": null,
                                    "isHidden": null,
                                    "isIdentity": false,
                                    "isKey": null,
                                    "isLong": false,
                                    "isReadOnly": false,
                                    "isUnique": false,
                                    "numericPrecision": 255,
                                    "numericScale": 255,
                                    "udtAssemblyQualifiedName": null,
                                    "dataType": "System.String, System.Private.CoreLib, Version=4.0.0.0, Culture=neutral, PublicKeyToken=7cec85d7bea7798e",
                                    "dataTypeName": "varchar"
                                }
                            ],
                            "specialAction": null
                        }
                    },
                    "execution_count": 6,
                    "data": {
                        "application/vnd.dataresource+json": {
                            "schema": {
                                "fields": [
                                    {
                                        "name": "course_id"
                                    },
                                    {
                                        "name": "title"
                                    },
                                    {
                                        "name": "fooh"
                                    }
                                ]
                            },
                            "data": []
                        },
                        "text/html": [
                            "<table>",
                            "<tr><th>course_id</th><th>title</th><th>fooh</th></tr>",
                            "</table>"
                        ]
                    }
                },
                {
                    "output_type": "execute_result",
                    "metadata": {
                        "resultSet": {
                            "id": 0,
                            "batchId": 6,
                            "rowCount": 0,
                            "complete": false,
                            "columnInfo": [
                                {
                                    "isBytes": false,
                                    "isChars": true,
                                    "isSqlVariant": false,
                                    "isUdt": false,
                                    "isXml": false,
                                    "isJson": false,
                                    "sqlDbType": 22,
                                    "isHierarchyId": false,
                                    "isSqlXmlType": false,
                                    "isUnknownType": false,
                                    "isUpdatable": true,
                                    "allowDBNull": true,
                                    "baseCatalogName": null,
                                    "baseColumnName": null,
                                    "baseSchemaName": null,
                                    "baseServerName": null,
                                    "baseTableName": null,
                                    "columnName": "fooh",
                                    "columnOrdinal": 0,
                                    "columnSize": 100,
                                    "isAliased": null,
                                    "isAutoIncrement": false,
                                    "isExpression": null,
                                    "isHidden": null,
                                    "isIdentity": false,
                                    "isKey": null,
                                    "isLong": false,
                                    "isReadOnly": false,
                                    "isUnique": false,
                                    "numericPrecision": 255,
                                    "numericScale": 255,
                                    "udtAssemblyQualifiedName": null,
                                    "dataType": "System.String, System.Private.CoreLib, Version=4.0.0.0, Culture=neutral, PublicKeyToken=7cec85d7bea7798e",
                                    "dataTypeName": "varchar"
                                }
                            ],
                            "specialAction": null
                        }
                    },
                    "execution_count": 6,
                    "data": {
                        "application/vnd.dataresource+json": {
                            "schema": {
                                "fields": [
                                    {
                                        "name": "fooh"
                                    }
                                ]
                            },
                            "data": []
                        },
                        "text/html": [
                            "<table>",
                            "<tr><th>fooh</th></tr>",
                            "</table>"
                        ]
                    }
                }
            ],
            "execution_count": 6
        },
        {
            "cell_type": "markdown",
            "source": [
                "We can also drop constraints. This is particularly useful to do before removing a column with a constraint."
            ],
            "metadata": {
                "azdata_cell_guid": "64f348b3-7a10-46b1-9dd6-8f523a582f11"
            }
        },
        {
            "cell_type": "code",
            "source": [
                "-- Create a table with constraints\n",
                "CREATE TABLE doc_exc (\n",
                "    column_a int NOT NULL CONSTRAINT my_constraint UNIQUE,\n",
                "    column_b int NOT NULL CONSTRAINT my_pk_constraint PRIMARY KEY\n",
                ");\n",
                "GO\n",
                "-- Remove the constraints\n",
                "ALTER TABLE doc_exc\n",
                "DROP CONSTRAINT my_constraint, my_pk_constraint;\n",
                "GO"
            ],
            "metadata": {
                "azdata_cell_guid": "417aa276-2111-4514-ac0e-de9da8270e05"
            },
            "outputs": [
                {
                    "output_type": "display_data",
                    "data": {
                        "text/html": "Commands completed successfully."
                    },
                    "metadata": {}
                },
                {
                    "output_type": "display_data",
                    "data": {
                        "text/html": "Commands completed successfully."
                    },
                    "metadata": {}
                },
                {
                    "output_type": "display_data",
                    "data": {
                        "text/html": "Total execution time: 00:00:00.014"
                    },
                    "metadata": {}
                }
            ],
            "execution_count": 7
        },
        {
            "cell_type": "markdown",
            "source": [
                "## Basic structure of SQL queries\n",
                "\n",
                "The basic structure of SQL queries consists of three clauses:\n",
                "\n",
                "- `SELECT` -\\> **column list**;\n",
                "- `FROM` -\\> **table list**;\n",
                "- `WHERE` -\\> **predicate/logical condition**\n",
                "\n",
                "For example, using our database above, “Find the names of all instructors.” Instructor names are found in the instructor relation, so we put that relation in the from clause. The instructor’s name appears in the name attribute, so we put that in the select clause.\n",
                "\n",
                "```\n",
                "SELECT name \n",
                "FROM instructor;\n",
                "```\n",
                "\n",
                "Now consider another query, “Find the department names of all instructors,” which can be written as:\n",
                "\n",
                "```\n",
                "SELECT dept_name\n",
                "FROM instructor;\n",
                "```\n",
                "\n",
                "Given the question at hand, we might just be interested in distinct department names since the duplicates are not informative. We can do so by adding this clause.\n",
                "\n",
                "```\n",
                "SELECT DISTINCT dept_name\n",
                "FROM instructor;\n",
                "```\n",
                "\n",
                "Now we will focus a bit more on slightly more complex queries. As such lets re-create our database, add two tables and fill it with some fake data. The code below does that."
            ],
            "metadata": {
                "azdata_cell_guid": "16229abd-3aea-41d4-972d-3d267b5918e6"
            }
        },
        {
            "cell_type": "code",
            "source": [
                "-- conditional creation of a temporary database\n",
                "USE master;\n",
                "GO\n",
                "IF EXISTS (SELECT * FROM sys.databases WHERE name = 'uni')\n",
                "    BEGIN\n",
                "        -- delete the db\n",
                "        DROP DATABASE uni\n",
                "        -- create it\n",
                "        CREATE DATABASE uni\n",
                "        USE uni\n",
                "        -- creat the dept table\n",
                "        CREATE TABLE department (\n",
                "            dept_name VARCHAR(20),\n",
                "            building VARCHAR(15),\n",
                "            budget numeric (12,2),\n",
                "            PRIMARY KEY (dept_name)\n",
                "        )\n",
                "        -- create the prof table\n",
                "        CREATE TABLE professors (\n",
                "            prof_id int,\n",
                "            prof_name varchar(250),\n",
                "            dept_name varchar(20),\n",
                "            salary numeric(8,2),\n",
                "            PRIMARY KEY (prof_id),\n",
                "        )\n",
                "        -- insert some data\n",
                "        insert into professors values ('10101', 'Srinivasan', 'Comp. Sci.', '65000');\n",
                "        insert into professors values ('12121', 'Wu', 'Finance', '90000');\n",
                "        insert into professors values ('15151', 'Mozart', 'Music', '40000');\n",
                "        insert into department values ('Biology', 'Watson', '90000');\n",
                "        insert into department values ('Comp. Sci.', 'Taylor', '100000');\n",
                "        insert into department values ('Elec. Eng.', 'Taylor', '85000');\n",
                "        insert into department values ('Finance', 'Painter', '120000');\n",
                "    END;\n",
                "    GO"
            ],
            "metadata": {
                "azdata_cell_guid": "c9158143-124d-4869-80ea-4fdc66c5793f"
            },
            "outputs": [
                {
                    "output_type": "display_data",
                    "data": {
                        "text/html": "Commands completed successfully."
                    },
                    "metadata": {}
                },
                {
                    "output_type": "display_data",
                    "data": {
                        "text/html": "(1 row affected)"
                    },
                    "metadata": {}
                },
                {
                    "output_type": "display_data",
                    "data": {
                        "text/html": "(1 row affected)"
                    },
                    "metadata": {}
                },
                {
                    "output_type": "display_data",
                    "data": {
                        "text/html": "(1 row affected)"
                    },
                    "metadata": {}
                },
                {
                    "output_type": "display_data",
                    "data": {
                        "text/html": "(1 row affected)"
                    },
                    "metadata": {}
                },
                {
                    "output_type": "display_data",
                    "data": {
                        "text/html": "(1 row affected)"
                    },
                    "metadata": {}
                },
                {
                    "output_type": "display_data",
                    "data": {
                        "text/html": "(1 row affected)"
                    },
                    "metadata": {}
                },
                {
                    "output_type": "display_data",
                    "data": {
                        "text/html": "(1 row affected)"
                    },
                    "metadata": {}
                },
                {
                    "output_type": "display_data",
                    "data": {
                        "text/html": "Total execution time: 00:00:00.795"
                    },
                    "metadata": {}
                }
            ],
            "execution_count": 8
        },
        {
            "cell_type": "code",
            "source": [
                "USE uni;\n",
                "GO\n",
                "SELECT * FROM professors;\n",
                "GO\n",
                "SELECT * FROM department;\n",
                "GO"
            ],
            "metadata": {
                "azdata_cell_guid": "b402d679-e58d-4ecf-836c-349057a8775c"
            },
            "outputs": [
                {
                    "output_type": "display_data",
                    "data": {
                        "text/html": "Commands completed successfully."
                    },
                    "metadata": {}
                },
                {
                    "output_type": "display_data",
                    "data": {
                        "text/html": "(3 rows affected)"
                    },
                    "metadata": {}
                },
                {
                    "output_type": "display_data",
                    "data": {
                        "text/html": "(4 rows affected)"
                    },
                    "metadata": {}
                },
                {
                    "output_type": "display_data",
                    "data": {
                        "text/html": "Total execution time: 00:00:00.031"
                    },
                    "metadata": {}
                },
                {
                    "output_type": "execute_result",
                    "metadata": {
                        "resultSet": {
                            "id": 0,
                            "batchId": 1,
                            "rowCount": 3,
                            "complete": true,
                            "columnInfo": [
                                {
                                    "isBytes": false,
                                    "isChars": false,
                                    "isSqlVariant": false,
                                    "isUdt": false,
                                    "isXml": false,
                                    "isJson": false,
                                    "sqlDbType": 8,
                                    "isHierarchyId": false,
                                    "isSqlXmlType": false,
                                    "isUnknownType": false,
                                    "isUpdatable": true,
                                    "allowDBNull": false,
                                    "baseCatalogName": null,
                                    "baseColumnName": null,
                                    "baseSchemaName": null,
                                    "baseServerName": null,
                                    "baseTableName": null,
                                    "columnName": "prof_id",
                                    "columnOrdinal": 0,
                                    "columnSize": 4,
                                    "isAliased": null,
                                    "isAutoIncrement": false,
                                    "isExpression": null,
                                    "isHidden": null,
                                    "isIdentity": false,
                                    "isKey": null,
                                    "isLong": false,
                                    "isReadOnly": false,
                                    "isUnique": false,
                                    "numericPrecision": 10,
                                    "numericScale": 255,
                                    "udtAssemblyQualifiedName": null,
                                    "dataType": "System.Int32, System.Private.CoreLib, Version=4.0.0.0, Culture=neutral, PublicKeyToken=7cec85d7bea7798e",
                                    "dataTypeName": "int"
                                },
                                {
                                    "isBytes": false,
                                    "isChars": true,
                                    "isSqlVariant": false,
                                    "isUdt": false,
                                    "isXml": false,
                                    "isJson": false,
                                    "sqlDbType": 22,
                                    "isHierarchyId": false,
                                    "isSqlXmlType": false,
                                    "isUnknownType": false,
                                    "isUpdatable": true,
                                    "allowDBNull": true,
                                    "baseCatalogName": null,
                                    "baseColumnName": null,
                                    "baseSchemaName": null,
                                    "baseServerName": null,
                                    "baseTableName": null,
                                    "columnName": "prof_name",
                                    "columnOrdinal": 1,
                                    "columnSize": 250,
                                    "isAliased": null,
                                    "isAutoIncrement": false,
                                    "isExpression": null,
                                    "isHidden": null,
                                    "isIdentity": false,
                                    "isKey": null,
                                    "isLong": false,
                                    "isReadOnly": false,
                                    "isUnique": false,
                                    "numericPrecision": 255,
                                    "numericScale": 255,
                                    "udtAssemblyQualifiedName": null,
                                    "dataType": "System.String, System.Private.CoreLib, Version=4.0.0.0, Culture=neutral, PublicKeyToken=7cec85d7bea7798e",
                                    "dataTypeName": "varchar"
                                },
                                {
                                    "isBytes": false,
                                    "isChars": true,
                                    "isSqlVariant": false,
                                    "isUdt": false,
                                    "isXml": false,
                                    "isJson": false,
                                    "sqlDbType": 22,
                                    "isHierarchyId": false,
                                    "isSqlXmlType": false,
                                    "isUnknownType": false,
                                    "isUpdatable": true,
                                    "allowDBNull": true,
                                    "baseCatalogName": null,
                                    "baseColumnName": null,
                                    "baseSchemaName": null,
                                    "baseServerName": null,
                                    "baseTableName": null,
                                    "columnName": "dept_name",
                                    "columnOrdinal": 2,
                                    "columnSize": 20,
                                    "isAliased": null,
                                    "isAutoIncrement": false,
                                    "isExpression": null,
                                    "isHidden": null,
                                    "isIdentity": false,
                                    "isKey": null,
                                    "isLong": false,
                                    "isReadOnly": false,
                                    "isUnique": false,
                                    "numericPrecision": 255,
                                    "numericScale": 255,
                                    "udtAssemblyQualifiedName": null,
                                    "dataType": "System.String, System.Private.CoreLib, Version=4.0.0.0, Culture=neutral, PublicKeyToken=7cec85d7bea7798e",
                                    "dataTypeName": "varchar"
                                },
                                {
                                    "isBytes": false,
                                    "isChars": false,
                                    "isSqlVariant": false,
                                    "isUdt": false,
                                    "isXml": false,
                                    "isJson": false,
                                    "sqlDbType": 5,
                                    "isHierarchyId": false,
                                    "isSqlXmlType": false,
                                    "isUnknownType": false,
                                    "isUpdatable": true,
                                    "allowDBNull": true,
                                    "baseCatalogName": null,
                                    "baseColumnName": null,
                                    "baseSchemaName": null,
                                    "baseServerName": null,
                                    "baseTableName": null,
                                    "columnName": "salary",
                                    "columnOrdinal": 3,
                                    "columnSize": 17,
                                    "isAliased": null,
                                    "isAutoIncrement": false,
                                    "isExpression": null,
                                    "isHidden": null,
                                    "isIdentity": false,
                                    "isKey": null,
                                    "isLong": false,
                                    "isReadOnly": false,
                                    "isUnique": false,
                                    "numericPrecision": 8,
                                    "numericScale": 2,
                                    "udtAssemblyQualifiedName": null,
                                    "dataType": "System.Decimal, System.Private.CoreLib, Version=4.0.0.0, Culture=neutral, PublicKeyToken=7cec85d7bea7798e",
                                    "dataTypeName": "decimal"
                                }
                            ],
                            "specialAction": {
                                "none": true,
                                "expectYukonXMLShowPlan": false
                            }
                        }
                    },
                    "execution_count": 9,
                    "data": {
                        "application/vnd.dataresource+json": {
                            "schema": {
                                "fields": [
                                    {
                                        "name": "prof_id"
                                    },
                                    {
                                        "name": "prof_name"
                                    },
                                    {
                                        "name": "dept_name"
                                    },
                                    {
                                        "name": "salary"
                                    }
                                ]
                            },
                            "data": [
                                {
                                    "0": "10101",
                                    "1": "Srinivasan",
                                    "2": "Comp. Sci.",
                                    "3": "65000.00"
                                },
                                {
                                    "0": "12121",
                                    "1": "Wu",
                                    "2": "Finance",
                                    "3": "90000.00"
                                },
                                {
                                    "0": "15151",
                                    "1": "Mozart",
                                    "2": "Music",
                                    "3": "40000.00"
                                }
                            ]
                        },
                        "text/html": [
                            "<table>",
                            "<tr><th>prof_id</th><th>prof_name</th><th>dept_name</th><th>salary</th></tr>",
                            "<tr><td>10101</td><td>Srinivasan</td><td>Comp. Sci.</td><td>65000.00</td></tr>",
                            "<tr><td>12121</td><td>Wu</td><td>Finance</td><td>90000.00</td></tr>",
                            "<tr><td>15151</td><td>Mozart</td><td>Music</td><td>40000.00</td></tr>",
                            "</table>"
                        ]
                    }
                },
                {
                    "output_type": "execute_result",
                    "metadata": {
                        "resultSet": {
                            "id": 0,
                            "batchId": 2,
                            "rowCount": 4,
                            "complete": true,
                            "columnInfo": [
                                {
                                    "isBytes": false,
                                    "isChars": true,
                                    "isSqlVariant": false,
                                    "isUdt": false,
                                    "isXml": false,
                                    "isJson": false,
                                    "sqlDbType": 22,
                                    "isHierarchyId": false,
                                    "isSqlXmlType": false,
                                    "isUnknownType": false,
                                    "isUpdatable": true,
                                    "allowDBNull": false,
                                    "baseCatalogName": null,
                                    "baseColumnName": null,
                                    "baseSchemaName": null,
                                    "baseServerName": null,
                                    "baseTableName": null,
                                    "columnName": "dept_name",
                                    "columnOrdinal": 0,
                                    "columnSize": 20,
                                    "isAliased": null,
                                    "isAutoIncrement": false,
                                    "isExpression": null,
                                    "isHidden": null,
                                    "isIdentity": false,
                                    "isKey": null,
                                    "isLong": false,
                                    "isReadOnly": false,
                                    "isUnique": false,
                                    "numericPrecision": 255,
                                    "numericScale": 255,
                                    "udtAssemblyQualifiedName": null,
                                    "dataType": "System.String, System.Private.CoreLib, Version=4.0.0.0, Culture=neutral, PublicKeyToken=7cec85d7bea7798e",
                                    "dataTypeName": "varchar"
                                },
                                {
                                    "isBytes": false,
                                    "isChars": true,
                                    "isSqlVariant": false,
                                    "isUdt": false,
                                    "isXml": false,
                                    "isJson": false,
                                    "sqlDbType": 22,
                                    "isHierarchyId": false,
                                    "isSqlXmlType": false,
                                    "isUnknownType": false,
                                    "isUpdatable": true,
                                    "allowDBNull": true,
                                    "baseCatalogName": null,
                                    "baseColumnName": null,
                                    "baseSchemaName": null,
                                    "baseServerName": null,
                                    "baseTableName": null,
                                    "columnName": "building",
                                    "columnOrdinal": 1,
                                    "columnSize": 15,
                                    "isAliased": null,
                                    "isAutoIncrement": false,
                                    "isExpression": null,
                                    "isHidden": null,
                                    "isIdentity": false,
                                    "isKey": null,
                                    "isLong": false,
                                    "isReadOnly": false,
                                    "isUnique": false,
                                    "numericPrecision": 255,
                                    "numericScale": 255,
                                    "udtAssemblyQualifiedName": null,
                                    "dataType": "System.String, System.Private.CoreLib, Version=4.0.0.0, Culture=neutral, PublicKeyToken=7cec85d7bea7798e",
                                    "dataTypeName": "varchar"
                                },
                                {
                                    "isBytes": false,
                                    "isChars": false,
                                    "isSqlVariant": false,
                                    "isUdt": false,
                                    "isXml": false,
                                    "isJson": false,
                                    "sqlDbType": 5,
                                    "isHierarchyId": false,
                                    "isSqlXmlType": false,
                                    "isUnknownType": false,
                                    "isUpdatable": true,
                                    "allowDBNull": true,
                                    "baseCatalogName": null,
                                    "baseColumnName": null,
                                    "baseSchemaName": null,
                                    "baseServerName": null,
                                    "baseTableName": null,
                                    "columnName": "budget",
                                    "columnOrdinal": 2,
                                    "columnSize": 17,
                                    "isAliased": null,
                                    "isAutoIncrement": false,
                                    "isExpression": null,
                                    "isHidden": null,
                                    "isIdentity": false,
                                    "isKey": null,
                                    "isLong": false,
                                    "isReadOnly": false,
                                    "isUnique": false,
                                    "numericPrecision": 12,
                                    "numericScale": 2,
                                    "udtAssemblyQualifiedName": null,
                                    "dataType": "System.Decimal, System.Private.CoreLib, Version=4.0.0.0, Culture=neutral, PublicKeyToken=7cec85d7bea7798e",
                                    "dataTypeName": "decimal"
                                }
                            ],
                            "specialAction": {
                                "none": true,
                                "expectYukonXMLShowPlan": false
                            }
                        }
                    },
                    "execution_count": 9,
                    "data": {
                        "application/vnd.dataresource+json": {
                            "schema": {
                                "fields": [
                                    {
                                        "name": "dept_name"
                                    },
                                    {
                                        "name": "building"
                                    },
                                    {
                                        "name": "budget"
                                    }
                                ]
                            },
                            "data": [
                                {
                                    "0": "Biology",
                                    "1": "Watson",
                                    "2": "90000.00"
                                },
                                {
                                    "0": "Comp. Sci.",
                                    "1": "Taylor",
                                    "2": "100000.00"
                                },
                                {
                                    "0": "Elec. Eng.",
                                    "1": "Taylor",
                                    "2": "85000.00"
                                },
                                {
                                    "0": "Finance",
                                    "1": "Painter",
                                    "2": "120000.00"
                                }
                            ]
                        },
                        "text/html": [
                            "<table>",
                            "<tr><th>dept_name</th><th>building</th><th>budget</th></tr>",
                            "<tr><td>Biology</td><td>Watson</td><td>90000.00</td></tr>",
                            "<tr><td>Comp. Sci.</td><td>Taylor</td><td>100000.00</td></tr>",
                            "<tr><td>Elec. Eng.</td><td>Taylor</td><td>85000.00</td></tr>",
                            "<tr><td>Finance</td><td>Painter</td><td>120000.00</td></tr>",
                            "</table>"
                        ]
                    }
                }
            ],
            "execution_count": 9
        },
        {
            "cell_type": "markdown",
            "source": [
                "As stated before, the <code>where</code> clause filter the rows in the result relation which satisfy a specified predicated. For example, <em>“Find the names of all instructors in the Computer Science department who have salary greater than $40,000.”</em>"
            ],
            "metadata": {
                "azdata_cell_guid": "5557a855-bc66-434c-94c6-3e9e6ffd8024"
            }
        },
        {
            "cell_type": "code",
            "source": [
                "SELECT prof_name AS [Relevant Professor] FROM professors\n",
                "WHERE (\n",
                "    dept_name = 'Comp. Sci.' AND salary > 40000.00\n",
                ");\n",
                "GO"
            ],
            "metadata": {
                "azdata_cell_guid": "201df800-7345-45f0-8f3a-d54835c1e509"
            },
            "outputs": [
                {
                    "output_type": "display_data",
                    "data": {
                        "text/html": "(1 row affected)"
                    },
                    "metadata": {}
                },
                {
                    "output_type": "display_data",
                    "data": {
                        "text/html": "Total execution time: 00:00:00.014"
                    },
                    "metadata": {}
                },
                {
                    "output_type": "execute_result",
                    "metadata": {
                        "resultSet": {
                            "id": 0,
                            "batchId": 0,
                            "rowCount": 1,
                            "complete": true,
                            "columnInfo": [
                                {
                                    "isBytes": false,
                                    "isChars": true,
                                    "isSqlVariant": false,
                                    "isUdt": false,
                                    "isXml": false,
                                    "isJson": false,
                                    "sqlDbType": 22,
                                    "isHierarchyId": false,
                                    "isSqlXmlType": false,
                                    "isUnknownType": false,
                                    "isUpdatable": true,
                                    "allowDBNull": true,
                                    "baseCatalogName": null,
                                    "baseColumnName": null,
                                    "baseSchemaName": null,
                                    "baseServerName": null,
                                    "baseTableName": null,
                                    "columnName": "Relevant Professor",
                                    "columnOrdinal": 0,
                                    "columnSize": 250,
                                    "isAliased": null,
                                    "isAutoIncrement": false,
                                    "isExpression": null,
                                    "isHidden": null,
                                    "isIdentity": false,
                                    "isKey": null,
                                    "isLong": false,
                                    "isReadOnly": false,
                                    "isUnique": false,
                                    "numericPrecision": 255,
                                    "numericScale": 255,
                                    "udtAssemblyQualifiedName": null,
                                    "dataType": "System.String, System.Private.CoreLib, Version=4.0.0.0, Culture=neutral, PublicKeyToken=7cec85d7bea7798e",
                                    "dataTypeName": "varchar"
                                }
                            ],
                            "specialAction": {
                                "none": true,
                                "expectYukonXMLShowPlan": false
                            }
                        }
                    },
                    "execution_count": 10,
                    "data": {
                        "application/vnd.dataresource+json": {
                            "schema": {
                                "fields": [
                                    {
                                        "name": "Relevant Professor"
                                    }
                                ]
                            },
                            "data": [
                                {
                                    "0": "Srinivasan"
                                }
                            ]
                        },
                        "text/html": [
                            "<table>",
                            "<tr><th>Relevant Professor</th></tr>",
                            "<tr><td>Srinivasan</td></tr>",
                            "</table>"
                        ]
                    }
                }
            ],
            "execution_count": 10
        },
        {
            "cell_type": "markdown",
            "source": [
                "SQL allows the use of the logical connectives and, or, and not in the where clause. The operands of the logical connectives can be expressions involving the comparison operators \\<, \\<=, \\>, \\>=, =, and \\<\\> (<strong>NOT EQUAL TO</strong>). SQL allows us to use the comparison operators to compare strings and arithmetic expressions, as well as special types, such as date types.\n",
                "\n",
                "Another example,* find all departments which are not hosted at the Taylor building*"
            ],
            "metadata": {
                "azdata_cell_guid": "1c76ca21-5e1e-4d51-97db-119e9af5e66c"
            }
        },
        {
            "cell_type": "code",
            "source": [
                "SELECT dept_name AS department FROM department\n",
                "WHERE building <> 'Taylor';\n",
                "GO"
            ],
            "metadata": {
                "azdata_cell_guid": "1afc4653-3b34-46de-a04b-9242dfad33b4"
            },
            "outputs": [
                {
                    "output_type": "display_data",
                    "data": {
                        "text/html": "(2 rows affected)"
                    },
                    "metadata": {}
                },
                {
                    "output_type": "display_data",
                    "data": {
                        "text/html": "Total execution time: 00:00:00.009"
                    },
                    "metadata": {}
                },
                {
                    "output_type": "execute_result",
                    "metadata": {
                        "resultSet": {
                            "id": 0,
                            "batchId": 0,
                            "rowCount": 2,
                            "complete": true,
                            "columnInfo": [
                                {
                                    "isBytes": false,
                                    "isChars": true,
                                    "isSqlVariant": false,
                                    "isUdt": false,
                                    "isXml": false,
                                    "isJson": false,
                                    "sqlDbType": 22,
                                    "isHierarchyId": false,
                                    "isSqlXmlType": false,
                                    "isUnknownType": false,
                                    "isUpdatable": true,
                                    "allowDBNull": false,
                                    "baseCatalogName": null,
                                    "baseColumnName": null,
                                    "baseSchemaName": null,
                                    "baseServerName": null,
                                    "baseTableName": null,
                                    "columnName": "department",
                                    "columnOrdinal": 0,
                                    "columnSize": 20,
                                    "isAliased": null,
                                    "isAutoIncrement": false,
                                    "isExpression": null,
                                    "isHidden": null,
                                    "isIdentity": false,
                                    "isKey": null,
                                    "isLong": false,
                                    "isReadOnly": false,
                                    "isUnique": false,
                                    "numericPrecision": 255,
                                    "numericScale": 255,
                                    "udtAssemblyQualifiedName": null,
                                    "dataType": "System.String, System.Private.CoreLib, Version=4.0.0.0, Culture=neutral, PublicKeyToken=7cec85d7bea7798e",
                                    "dataTypeName": "varchar"
                                }
                            ],
                            "specialAction": {
                                "none": true,
                                "expectYukonXMLShowPlan": false
                            }
                        }
                    },
                    "execution_count": 11,
                    "data": {
                        "application/vnd.dataresource+json": {
                            "schema": {
                                "fields": [
                                    {
                                        "name": "department"
                                    }
                                ]
                            },
                            "data": [
                                {
                                    "0": "Biology"
                                },
                                {
                                    "0": "Finance"
                                }
                            ]
                        },
                        "text/html": [
                            "<table>",
                            "<tr><th>department</th></tr>",
                            "<tr><td>Biology</td></tr>",
                            "<tr><td>Finance</td></tr>",
                            "</table>"
                        ]
                    }
                }
            ],
            "execution_count": 11
        },
        {
            "cell_type": "markdown",
            "source": [
                "Another crucial predicate is the <code>LIKE %STRING%</code> which allows for partial matching with wildcards.\n",
                "\n",
                "* Percent (%): The % character matches any substring.\n",
                "* Underscore ( ): The character matches any character."
            ],
            "metadata": {
                "azdata_cell_guid": "5cb9900f-76ab-4837-837d-01a8646e580d"
            }
        },
        {
            "cell_type": "code",
            "source": [
                "-- starting with a ta and ending with r\n",
                "SELECT dept_name AS department FROM department\n",
                "WHERE building NOT LIKE 'Ta%r';\n",
                "GO"
            ],
            "metadata": {
                "azdata_cell_guid": "fad1c565-159a-4c70-be8d-f579528ebd53"
            },
            "outputs": [
                {
                    "output_type": "display_data",
                    "data": {
                        "text/html": "(2 rows affected)"
                    },
                    "metadata": {}
                },
                {
                    "output_type": "display_data",
                    "data": {
                        "text/html": "Total execution time: 00:00:00.004"
                    },
                    "metadata": {}
                },
                {
                    "output_type": "execute_result",
                    "metadata": {
                        "resultSet": {
                            "id": 0,
                            "batchId": 0,
                            "rowCount": 2,
                            "complete": true,
                            "columnInfo": [
                                {
                                    "isBytes": false,
                                    "isChars": true,
                                    "isSqlVariant": false,
                                    "isUdt": false,
                                    "isXml": false,
                                    "isJson": false,
                                    "sqlDbType": 22,
                                    "isHierarchyId": false,
                                    "isSqlXmlType": false,
                                    "isUnknownType": false,
                                    "isUpdatable": true,
                                    "allowDBNull": false,
                                    "baseCatalogName": null,
                                    "baseColumnName": null,
                                    "baseSchemaName": null,
                                    "baseServerName": null,
                                    "baseTableName": null,
                                    "columnName": "department",
                                    "columnOrdinal": 0,
                                    "columnSize": 20,
                                    "isAliased": null,
                                    "isAutoIncrement": false,
                                    "isExpression": null,
                                    "isHidden": null,
                                    "isIdentity": false,
                                    "isKey": null,
                                    "isLong": false,
                                    "isReadOnly": false,
                                    "isUnique": false,
                                    "numericPrecision": 255,
                                    "numericScale": 255,
                                    "udtAssemblyQualifiedName": null,
                                    "dataType": "System.String, System.Private.CoreLib, Version=4.0.0.0, Culture=neutral, PublicKeyToken=7cec85d7bea7798e",
                                    "dataTypeName": "varchar"
                                }
                            ],
                            "specialAction": {
                                "none": true,
                                "expectYukonXMLShowPlan": false
                            }
                        }
                    },
                    "execution_count": 12,
                    "data": {
                        "application/vnd.dataresource+json": {
                            "schema": {
                                "fields": [
                                    {
                                        "name": "department"
                                    }
                                ]
                            },
                            "data": [
                                {
                                    "0": "Biology"
                                },
                                {
                                    "0": "Finance"
                                }
                            ]
                        },
                        "text/html": [
                            "<table>",
                            "<tr><th>department</th></tr>",
                            "<tr><td>Biology</td></tr>",
                            "<tr><td>Finance</td></tr>",
                            "</table>"
                        ]
                    }
                }
            ],
            "execution_count": 12
        },
        {
            "cell_type": "code",
            "source": [
                "-- regex\n",
                "SELECT dept_name AS department FROM department\n",
                "WHERE building NOT LIKE 'Tay__r';\n",
                "GO"
            ],
            "metadata": {
                "azdata_cell_guid": "3d4aaa99-297a-49a1-a4d0-82786aafbf00"
            },
            "outputs": [
                {
                    "output_type": "display_data",
                    "data": {
                        "text/html": "(2 rows affected)"
                    },
                    "metadata": {}
                },
                {
                    "output_type": "display_data",
                    "data": {
                        "text/html": "Total execution time: 00:00:00.007"
                    },
                    "metadata": {}
                },
                {
                    "output_type": "execute_result",
                    "metadata": {
                        "resultSet": {
                            "id": 0,
                            "batchId": 0,
                            "rowCount": 2,
                            "complete": true,
                            "columnInfo": [
                                {
                                    "isBytes": false,
                                    "isChars": true,
                                    "isSqlVariant": false,
                                    "isUdt": false,
                                    "isXml": false,
                                    "isJson": false,
                                    "sqlDbType": 22,
                                    "isHierarchyId": false,
                                    "isSqlXmlType": false,
                                    "isUnknownType": false,
                                    "isUpdatable": true,
                                    "allowDBNull": false,
                                    "baseCatalogName": null,
                                    "baseColumnName": null,
                                    "baseSchemaName": null,
                                    "baseServerName": null,
                                    "baseTableName": null,
                                    "columnName": "department",
                                    "columnOrdinal": 0,
                                    "columnSize": 20,
                                    "isAliased": null,
                                    "isAutoIncrement": false,
                                    "isExpression": null,
                                    "isHidden": null,
                                    "isIdentity": false,
                                    "isKey": null,
                                    "isLong": false,
                                    "isReadOnly": false,
                                    "isUnique": false,
                                    "numericPrecision": 255,
                                    "numericScale": 255,
                                    "udtAssemblyQualifiedName": null,
                                    "dataType": "System.String, System.Private.CoreLib, Version=4.0.0.0, Culture=neutral, PublicKeyToken=7cec85d7bea7798e",
                                    "dataTypeName": "varchar"
                                }
                            ],
                            "specialAction": {
                                "none": true,
                                "expectYukonXMLShowPlan": false
                            }
                        }
                    },
                    "execution_count": 13,
                    "data": {
                        "application/vnd.dataresource+json": {
                            "schema": {
                                "fields": [
                                    {
                                        "name": "department"
                                    }
                                ]
                            },
                            "data": [
                                {
                                    "0": "Biology"
                                },
                                {
                                    "0": "Finance"
                                }
                            ]
                        },
                        "text/html": [
                            "<table>",
                            "<tr><th>department</th></tr>",
                            "<tr><td>Biology</td></tr>",
                            "<tr><td>Finance</td></tr>",
                            "</table>"
                        ]
                    }
                }
            ],
            "execution_count": 13
        },
        {
            "cell_type": "markdown",
            "source": [
                "Similar we can filter observations which are a subset of some list."
            ],
            "metadata": {
                "azdata_cell_guid": "343170a5-a62c-4223-98b4-3758ccc029e4"
            }
        },
        {
            "cell_type": "code",
            "source": [
                "SELECT dept_name AS department FROM department\n",
                "WHERE building IN ('FOOH', ' Baah', 'Watson', 'Painter');\n",
                "GO"
            ],
            "metadata": {
                "azdata_cell_guid": "f40c5fec-f56a-4d9e-acd2-d06675a73540"
            },
            "outputs": [
                {
                    "output_type": "display_data",
                    "data": {
                        "text/html": "(2 rows affected)"
                    },
                    "metadata": {}
                },
                {
                    "output_type": "display_data",
                    "data": {
                        "text/html": "Total execution time: 00:00:00.007"
                    },
                    "metadata": {}
                },
                {
                    "output_type": "execute_result",
                    "metadata": {
                        "resultSet": {
                            "id": 0,
                            "batchId": 0,
                            "rowCount": 2,
                            "complete": true,
                            "columnInfo": [
                                {
                                    "isBytes": false,
                                    "isChars": true,
                                    "isSqlVariant": false,
                                    "isUdt": false,
                                    "isXml": false,
                                    "isJson": false,
                                    "sqlDbType": 22,
                                    "isHierarchyId": false,
                                    "isSqlXmlType": false,
                                    "isUnknownType": false,
                                    "isUpdatable": true,
                                    "allowDBNull": false,
                                    "baseCatalogName": null,
                                    "baseColumnName": null,
                                    "baseSchemaName": null,
                                    "baseServerName": null,
                                    "baseTableName": null,
                                    "columnName": "department",
                                    "columnOrdinal": 0,
                                    "columnSize": 20,
                                    "isAliased": null,
                                    "isAutoIncrement": false,
                                    "isExpression": null,
                                    "isHidden": null,
                                    "isIdentity": false,
                                    "isKey": null,
                                    "isLong": false,
                                    "isReadOnly": false,
                                    "isUnique": false,
                                    "numericPrecision": 255,
                                    "numericScale": 255,
                                    "udtAssemblyQualifiedName": null,
                                    "dataType": "System.String, System.Private.CoreLib, Version=4.0.0.0, Culture=neutral, PublicKeyToken=7cec85d7bea7798e",
                                    "dataTypeName": "varchar"
                                }
                            ],
                            "specialAction": {
                                "none": true,
                                "expectYukonXMLShowPlan": false
                            }
                        }
                    },
                    "execution_count": 14,
                    "data": {
                        "application/vnd.dataresource+json": {
                            "schema": {
                                "fields": [
                                    {
                                        "name": "department"
                                    }
                                ]
                            },
                            "data": [
                                {
                                    "0": "Biology"
                                },
                                {
                                    "0": "Finance"
                                }
                            ]
                        },
                        "text/html": [
                            "<table>",
                            "<tr><th>department</th></tr>",
                            "<tr><td>Biology</td></tr>",
                            "<tr><td>Finance</td></tr>",
                            "</table>"
                        ]
                    }
                }
            ],
            "execution_count": 14
        },
        {
            "cell_type": "markdown",
            "source": [
                "The ``BETWEEN`` predicate evaluates whether the tuple is whithin a certain interval of values."
            ],
            "metadata": {
                "azdata_cell_guid": "55224028-7b18-4234-b110-331b5810d53f"
            }
        },
        {
            "cell_type": "code",
            "source": [
                "SELECT budget FROM department\n",
                "WHERE budget BETWEEN 95000.00 AND 140000.00;\n",
                "GO"
            ],
            "metadata": {
                "azdata_cell_guid": "8597edb7-4a4d-4abd-9af6-e3cf4a16dcac"
            },
            "outputs": [
                {
                    "output_type": "display_data",
                    "data": {
                        "text/html": "(2 rows affected)"
                    },
                    "metadata": {}
                },
                {
                    "output_type": "display_data",
                    "data": {
                        "text/html": "Total execution time: 00:00:00.015"
                    },
                    "metadata": {}
                },
                {
                    "output_type": "execute_result",
                    "metadata": {
                        "resultSet": {
                            "id": 0,
                            "batchId": 0,
                            "rowCount": 2,
                            "complete": true,
                            "columnInfo": [
                                {
                                    "isBytes": false,
                                    "isChars": false,
                                    "isSqlVariant": false,
                                    "isUdt": false,
                                    "isXml": false,
                                    "isJson": false,
                                    "sqlDbType": 5,
                                    "isHierarchyId": false,
                                    "isSqlXmlType": false,
                                    "isUnknownType": false,
                                    "isUpdatable": true,
                                    "allowDBNull": true,
                                    "baseCatalogName": null,
                                    "baseColumnName": null,
                                    "baseSchemaName": null,
                                    "baseServerName": null,
                                    "baseTableName": null,
                                    "columnName": "budget",
                                    "columnOrdinal": 0,
                                    "columnSize": 17,
                                    "isAliased": null,
                                    "isAutoIncrement": false,
                                    "isExpression": null,
                                    "isHidden": null,
                                    "isIdentity": false,
                                    "isKey": null,
                                    "isLong": false,
                                    "isReadOnly": false,
                                    "isUnique": false,
                                    "numericPrecision": 12,
                                    "numericScale": 2,
                                    "udtAssemblyQualifiedName": null,
                                    "dataType": "System.Decimal, System.Private.CoreLib, Version=4.0.0.0, Culture=neutral, PublicKeyToken=7cec85d7bea7798e",
                                    "dataTypeName": "decimal"
                                }
                            ],
                            "specialAction": {
                                "none": true,
                                "expectYukonXMLShowPlan": false
                            }
                        }
                    },
                    "execution_count": 15,
                    "data": {
                        "application/vnd.dataresource+json": {
                            "schema": {
                                "fields": [
                                    {
                                        "name": "budget"
                                    }
                                ]
                            },
                            "data": [
                                {
                                    "0": "100000.00"
                                },
                                {
                                    "0": "120000.00"
                                }
                            ]
                        },
                        "text/html": [
                            "<table>",
                            "<tr><th>budget</th></tr>",
                            "<tr><td>100000.00</td></tr>",
                            "<tr><td>120000.00</td></tr>",
                            "</table>"
                        ]
                    }
                }
            ],
            "execution_count": 15
        },
        {
            "cell_type": "code",
            "source": [
                "-- refining the result with cast\n",
                "SELECT d.dept_name, CAST(d.budget / 1000 AS int) AS [budget in thousands]\n",
                "FROM department AS d\n",
                "ORDER BY [budget in thousands] desc;\n",
                "GO"
            ],
            "metadata": {
                "azdata_cell_guid": "374f8c77-d0ad-4e19-9979-6d4c5a911b2c"
            },
            "outputs": [
                {
                    "output_type": "display_data",
                    "data": {
                        "text/html": "(4 rows affected)"
                    },
                    "metadata": {}
                },
                {
                    "output_type": "display_data",
                    "data": {
                        "text/html": "Total execution time: 00:00:00.012"
                    },
                    "metadata": {}
                },
                {
                    "output_type": "execute_result",
                    "metadata": {
                        "resultSet": {
                            "id": 0,
                            "batchId": 0,
                            "rowCount": 4,
                            "complete": true,
                            "columnInfo": [
                                {
                                    "isBytes": false,
                                    "isChars": true,
                                    "isSqlVariant": false,
                                    "isUdt": false,
                                    "isXml": false,
                                    "isJson": false,
                                    "sqlDbType": 22,
                                    "isHierarchyId": false,
                                    "isSqlXmlType": false,
                                    "isUnknownType": false,
                                    "isUpdatable": true,
                                    "allowDBNull": false,
                                    "baseCatalogName": null,
                                    "baseColumnName": null,
                                    "baseSchemaName": null,
                                    "baseServerName": null,
                                    "baseTableName": null,
                                    "columnName": "dept_name",
                                    "columnOrdinal": 0,
                                    "columnSize": 20,
                                    "isAliased": null,
                                    "isAutoIncrement": false,
                                    "isExpression": null,
                                    "isHidden": null,
                                    "isIdentity": false,
                                    "isKey": null,
                                    "isLong": false,
                                    "isReadOnly": false,
                                    "isUnique": false,
                                    "numericPrecision": 255,
                                    "numericScale": 255,
                                    "udtAssemblyQualifiedName": null,
                                    "dataType": "System.String, System.Private.CoreLib, Version=4.0.0.0, Culture=neutral, PublicKeyToken=7cec85d7bea7798e",
                                    "dataTypeName": "varchar"
                                },
                                {
                                    "isBytes": false,
                                    "isChars": false,
                                    "isSqlVariant": false,
                                    "isUdt": false,
                                    "isXml": false,
                                    "isJson": false,
                                    "sqlDbType": 8,
                                    "isHierarchyId": false,
                                    "isSqlXmlType": false,
                                    "isUnknownType": false,
                                    "isUpdatable": false,
                                    "allowDBNull": true,
                                    "baseCatalogName": null,
                                    "baseColumnName": null,
                                    "baseSchemaName": null,
                                    "baseServerName": null,
                                    "baseTableName": null,
                                    "columnName": "budget in thousands",
                                    "columnOrdinal": 1,
                                    "columnSize": 4,
                                    "isAliased": null,
                                    "isAutoIncrement": false,
                                    "isExpression": null,
                                    "isHidden": null,
                                    "isIdentity": false,
                                    "isKey": null,
                                    "isLong": false,
                                    "isReadOnly": true,
                                    "isUnique": false,
                                    "numericPrecision": 10,
                                    "numericScale": 255,
                                    "udtAssemblyQualifiedName": null,
                                    "dataType": "System.Int32, System.Private.CoreLib, Version=4.0.0.0, Culture=neutral, PublicKeyToken=7cec85d7bea7798e",
                                    "dataTypeName": "int"
                                }
                            ],
                            "specialAction": {
                                "none": true,
                                "expectYukonXMLShowPlan": false
                            }
                        }
                    },
                    "execution_count": 16,
                    "data": {
                        "application/vnd.dataresource+json": {
                            "schema": {
                                "fields": [
                                    {
                                        "name": "dept_name"
                                    },
                                    {
                                        "name": "budget in thousands"
                                    }
                                ]
                            },
                            "data": [
                                {
                                    "0": "Finance",
                                    "1": "120"
                                },
                                {
                                    "0": "Comp. Sci.",
                                    "1": "100"
                                },
                                {
                                    "0": "Biology",
                                    "1": "90"
                                },
                                {
                                    "0": "Elec. Eng.",
                                    "1": "85"
                                }
                            ]
                        },
                        "text/html": [
                            "<table>",
                            "<tr><th>dept_name</th><th>budget in thousands</th></tr>",
                            "<tr><td>Finance</td><td>120</td></tr>",
                            "<tr><td>Comp. Sci.</td><td>100</td></tr>",
                            "<tr><td>Biology</td><td>90</td></tr>",
                            "<tr><td>Elec. Eng.</td><td>85</td></tr>",
                            "</table>"
                        ]
                    }
                }
            ],
            "execution_count": 16
        },
        {
            "cell_type": "markdown",
            "source": [
                "We also have predicates for filtering out or in NULL observations."
            ],
            "metadata": {
                "azdata_cell_guid": "fdbbdbfd-9ee6-4c89-85c4-ad6444d1e3de"
            }
        },
        {
            "cell_type": "code",
            "source": [
                "SELECT dept_name AS name, building\n",
                "FROM department\n",
                "WHERE building IS NOT NULL;\n",
                "\n",
                "SELECT dept_name AS name, building\n",
                "FROM department\n",
                "WHERE building IS NULL;"
            ],
            "metadata": {
                "azdata_cell_guid": "e1ba6905-7734-4eb0-b93f-a57c0e53c862"
            },
            "outputs": [
                {
                    "output_type": "display_data",
                    "data": {
                        "text/html": "(4 rows affected)"
                    },
                    "metadata": {}
                },
                {
                    "output_type": "display_data",
                    "data": {
                        "text/html": "(0 rows affected)"
                    },
                    "metadata": {}
                },
                {
                    "output_type": "display_data",
                    "data": {
                        "text/html": "Total execution time: 00:00:00.010"
                    },
                    "metadata": {}
                },
                {
                    "output_type": "execute_result",
                    "metadata": {
                        "resultSet": {
                            "id": 0,
                            "batchId": 0,
                            "rowCount": 4,
                            "complete": true,
                            "columnInfo": [
                                {
                                    "isBytes": false,
                                    "isChars": true,
                                    "isSqlVariant": false,
                                    "isUdt": false,
                                    "isXml": false,
                                    "isJson": false,
                                    "sqlDbType": 22,
                                    "isHierarchyId": false,
                                    "isSqlXmlType": false,
                                    "isUnknownType": false,
                                    "isUpdatable": true,
                                    "allowDBNull": false,
                                    "baseCatalogName": null,
                                    "baseColumnName": null,
                                    "baseSchemaName": null,
                                    "baseServerName": null,
                                    "baseTableName": null,
                                    "columnName": "name",
                                    "columnOrdinal": 0,
                                    "columnSize": 20,
                                    "isAliased": null,
                                    "isAutoIncrement": false,
                                    "isExpression": null,
                                    "isHidden": null,
                                    "isIdentity": false,
                                    "isKey": null,
                                    "isLong": false,
                                    "isReadOnly": false,
                                    "isUnique": false,
                                    "numericPrecision": 255,
                                    "numericScale": 255,
                                    "udtAssemblyQualifiedName": null,
                                    "dataType": "System.String, System.Private.CoreLib, Version=4.0.0.0, Culture=neutral, PublicKeyToken=7cec85d7bea7798e",
                                    "dataTypeName": "varchar"
                                },
                                {
                                    "isBytes": false,
                                    "isChars": true,
                                    "isSqlVariant": false,
                                    "isUdt": false,
                                    "isXml": false,
                                    "isJson": false,
                                    "sqlDbType": 22,
                                    "isHierarchyId": false,
                                    "isSqlXmlType": false,
                                    "isUnknownType": false,
                                    "isUpdatable": true,
                                    "allowDBNull": true,
                                    "baseCatalogName": null,
                                    "baseColumnName": null,
                                    "baseSchemaName": null,
                                    "baseServerName": null,
                                    "baseTableName": null,
                                    "columnName": "building",
                                    "columnOrdinal": 1,
                                    "columnSize": 15,
                                    "isAliased": null,
                                    "isAutoIncrement": false,
                                    "isExpression": null,
                                    "isHidden": null,
                                    "isIdentity": false,
                                    "isKey": null,
                                    "isLong": false,
                                    "isReadOnly": false,
                                    "isUnique": false,
                                    "numericPrecision": 255,
                                    "numericScale": 255,
                                    "udtAssemblyQualifiedName": null,
                                    "dataType": "System.String, System.Private.CoreLib, Version=4.0.0.0, Culture=neutral, PublicKeyToken=7cec85d7bea7798e",
                                    "dataTypeName": "varchar"
                                }
                            ],
                            "specialAction": {
                                "none": true,
                                "expectYukonXMLShowPlan": false
                            }
                        }
                    },
                    "execution_count": 17,
                    "data": {
                        "application/vnd.dataresource+json": {
                            "schema": {
                                "fields": [
                                    {
                                        "name": "name"
                                    },
                                    {
                                        "name": "building"
                                    }
                                ]
                            },
                            "data": [
                                {
                                    "0": "Biology",
                                    "1": "Watson"
                                },
                                {
                                    "0": "Comp. Sci.",
                                    "1": "Taylor"
                                },
                                {
                                    "0": "Elec. Eng.",
                                    "1": "Taylor"
                                },
                                {
                                    "0": "Finance",
                                    "1": "Painter"
                                }
                            ]
                        },
                        "text/html": [
                            "<table>",
                            "<tr><th>name</th><th>building</th></tr>",
                            "<tr><td>Biology</td><td>Watson</td></tr>",
                            "<tr><td>Comp. Sci.</td><td>Taylor</td></tr>",
                            "<tr><td>Elec. Eng.</td><td>Taylor</td></tr>",
                            "<tr><td>Finance</td><td>Painter</td></tr>",
                            "</table>"
                        ]
                    }
                },
                {
                    "output_type": "execute_result",
                    "metadata": {
                        "resultSet": {
                            "id": 1,
                            "batchId": 0,
                            "rowCount": 0,
                            "complete": false,
                            "columnInfo": [
                                {
                                    "isBytes": false,
                                    "isChars": true,
                                    "isSqlVariant": false,
                                    "isUdt": false,
                                    "isXml": false,
                                    "isJson": false,
                                    "sqlDbType": 22,
                                    "isHierarchyId": false,
                                    "isSqlXmlType": false,
                                    "isUnknownType": false,
                                    "isUpdatable": true,
                                    "allowDBNull": false,
                                    "baseCatalogName": null,
                                    "baseColumnName": null,
                                    "baseSchemaName": null,
                                    "baseServerName": null,
                                    "baseTableName": null,
                                    "columnName": "name",
                                    "columnOrdinal": 0,
                                    "columnSize": 20,
                                    "isAliased": null,
                                    "isAutoIncrement": false,
                                    "isExpression": null,
                                    "isHidden": null,
                                    "isIdentity": false,
                                    "isKey": null,
                                    "isLong": false,
                                    "isReadOnly": false,
                                    "isUnique": false,
                                    "numericPrecision": 255,
                                    "numericScale": 255,
                                    "udtAssemblyQualifiedName": null,
                                    "dataType": "System.String, System.Private.CoreLib, Version=4.0.0.0, Culture=neutral, PublicKeyToken=7cec85d7bea7798e",
                                    "dataTypeName": "varchar"
                                },
                                {
                                    "isBytes": false,
                                    "isChars": true,
                                    "isSqlVariant": false,
                                    "isUdt": false,
                                    "isXml": false,
                                    "isJson": false,
                                    "sqlDbType": 22,
                                    "isHierarchyId": false,
                                    "isSqlXmlType": false,
                                    "isUnknownType": false,
                                    "isUpdatable": true,
                                    "allowDBNull": true,
                                    "baseCatalogName": null,
                                    "baseColumnName": null,
                                    "baseSchemaName": null,
                                    "baseServerName": null,
                                    "baseTableName": null,
                                    "columnName": "building",
                                    "columnOrdinal": 1,
                                    "columnSize": 15,
                                    "isAliased": null,
                                    "isAutoIncrement": false,
                                    "isExpression": null,
                                    "isHidden": null,
                                    "isIdentity": false,
                                    "isKey": null,
                                    "isLong": false,
                                    "isReadOnly": false,
                                    "isUnique": false,
                                    "numericPrecision": 255,
                                    "numericScale": 255,
                                    "udtAssemblyQualifiedName": null,
                                    "dataType": "System.String, System.Private.CoreLib, Version=4.0.0.0, Culture=neutral, PublicKeyToken=7cec85d7bea7798e",
                                    "dataTypeName": "varchar"
                                }
                            ],
                            "specialAction": null
                        }
                    },
                    "execution_count": 17,
                    "data": {
                        "application/vnd.dataresource+json": {
                            "schema": {
                                "fields": [
                                    {
                                        "name": "name"
                                    },
                                    {
                                        "name": "building"
                                    }
                                ]
                            },
                            "data": []
                        },
                        "text/html": [
                            "<table>",
                            "<tr><th>name</th><th>building</th></tr>",
                            "</table>"
                        ]
                    }
                }
            ],
            "execution_count": 17
        },
        {
            "cell_type": "markdown",
            "source": [
                "### Queries on Multiple Relations\n",
                "\n",
                "As an example, suppose we want to answer the query *“Retrieve the names of all instructors, along with their department names and department building name.* Notice how we droped one professor from the music department. That is because the music department is still missing from this table."
            ],
            "metadata": {
                "azdata_cell_guid": "fd1bf2c5-be65-458c-9f17-d0a22124bf65"
            }
        },
        {
            "cell_type": "code",
            "source": [
                "SELECT p.prof_name AS names, p.dept_name, d.building\n",
                "FROM professors AS p, department AS d\n",
                "WHERE p.dept_name = d.dept_name;\n",
                "GO"
            ],
            "metadata": {
                "azdata_cell_guid": "809ed84e-8aa6-4c67-a2c0-9c9761b14092",
                "tags": []
            },
            "outputs": [
                {
                    "output_type": "display_data",
                    "data": {
                        "text/html": "(2 rows affected)"
                    },
                    "metadata": {}
                },
                {
                    "output_type": "display_data",
                    "data": {
                        "text/html": "Total execution time: 00:00:00.013"
                    },
                    "metadata": {}
                },
                {
                    "output_type": "execute_result",
                    "metadata": {
                        "resultSet": {
                            "id": 0,
                            "batchId": 0,
                            "rowCount": 2,
                            "complete": true,
                            "columnInfo": [
                                {
                                    "isBytes": false,
                                    "isChars": true,
                                    "isSqlVariant": false,
                                    "isUdt": false,
                                    "isXml": false,
                                    "isJson": false,
                                    "sqlDbType": 22,
                                    "isHierarchyId": false,
                                    "isSqlXmlType": false,
                                    "isUnknownType": false,
                                    "isUpdatable": true,
                                    "allowDBNull": true,
                                    "baseCatalogName": null,
                                    "baseColumnName": null,
                                    "baseSchemaName": null,
                                    "baseServerName": null,
                                    "baseTableName": null,
                                    "columnName": "names",
                                    "columnOrdinal": 0,
                                    "columnSize": 250,
                                    "isAliased": null,
                                    "isAutoIncrement": false,
                                    "isExpression": null,
                                    "isHidden": null,
                                    "isIdentity": false,
                                    "isKey": null,
                                    "isLong": false,
                                    "isReadOnly": false,
                                    "isUnique": false,
                                    "numericPrecision": 255,
                                    "numericScale": 255,
                                    "udtAssemblyQualifiedName": null,
                                    "dataType": "System.String, System.Private.CoreLib, Version=4.0.0.0, Culture=neutral, PublicKeyToken=7cec85d7bea7798e",
                                    "dataTypeName": "varchar"
                                },
                                {
                                    "isBytes": false,
                                    "isChars": true,
                                    "isSqlVariant": false,
                                    "isUdt": false,
                                    "isXml": false,
                                    "isJson": false,
                                    "sqlDbType": 22,
                                    "isHierarchyId": false,
                                    "isSqlXmlType": false,
                                    "isUnknownType": false,
                                    "isUpdatable": true,
                                    "allowDBNull": true,
                                    "baseCatalogName": null,
                                    "baseColumnName": null,
                                    "baseSchemaName": null,
                                    "baseServerName": null,
                                    "baseTableName": null,
                                    "columnName": "dept_name",
                                    "columnOrdinal": 1,
                                    "columnSize": 20,
                                    "isAliased": null,
                                    "isAutoIncrement": false,
                                    "isExpression": null,
                                    "isHidden": null,
                                    "isIdentity": false,
                                    "isKey": null,
                                    "isLong": false,
                                    "isReadOnly": false,
                                    "isUnique": false,
                                    "numericPrecision": 255,
                                    "numericScale": 255,
                                    "udtAssemblyQualifiedName": null,
                                    "dataType": "System.String, System.Private.CoreLib, Version=4.0.0.0, Culture=neutral, PublicKeyToken=7cec85d7bea7798e",
                                    "dataTypeName": "varchar"
                                },
                                {
                                    "isBytes": false,
                                    "isChars": true,
                                    "isSqlVariant": false,
                                    "isUdt": false,
                                    "isXml": false,
                                    "isJson": false,
                                    "sqlDbType": 22,
                                    "isHierarchyId": false,
                                    "isSqlXmlType": false,
                                    "isUnknownType": false,
                                    "isUpdatable": true,
                                    "allowDBNull": true,
                                    "baseCatalogName": null,
                                    "baseColumnName": null,
                                    "baseSchemaName": null,
                                    "baseServerName": null,
                                    "baseTableName": null,
                                    "columnName": "building",
                                    "columnOrdinal": 2,
                                    "columnSize": 15,
                                    "isAliased": null,
                                    "isAutoIncrement": false,
                                    "isExpression": null,
                                    "isHidden": null,
                                    "isIdentity": false,
                                    "isKey": null,
                                    "isLong": false,
                                    "isReadOnly": false,
                                    "isUnique": false,
                                    "numericPrecision": 255,
                                    "numericScale": 255,
                                    "udtAssemblyQualifiedName": null,
                                    "dataType": "System.String, System.Private.CoreLib, Version=4.0.0.0, Culture=neutral, PublicKeyToken=7cec85d7bea7798e",
                                    "dataTypeName": "varchar"
                                }
                            ],
                            "specialAction": {
                                "none": true,
                                "expectYukonXMLShowPlan": false
                            }
                        }
                    },
                    "execution_count": 18,
                    "data": {
                        "application/vnd.dataresource+json": {
                            "schema": {
                                "fields": [
                                    {
                                        "name": "names"
                                    },
                                    {
                                        "name": "dept_name"
                                    },
                                    {
                                        "name": "building"
                                    }
                                ]
                            },
                            "data": [
                                {
                                    "0": "Srinivasan",
                                    "1": "Comp. Sci.",
                                    "2": "Taylor"
                                },
                                {
                                    "0": "Wu",
                                    "1": "Finance",
                                    "2": "Painter"
                                }
                            ]
                        },
                        "text/html": [
                            "<table>",
                            "<tr><th>names</th><th>dept_name</th><th>building</th></tr>",
                            "<tr><td>Srinivasan</td><td>Comp. Sci.</td><td>Taylor</td></tr>",
                            "<tr><td>Wu</td><td>Finance</td><td>Painter</td></tr>",
                            "</table>"
                        ]
                    }
                }
            ],
            "execution_count": 18
        },
        {
            "cell_type": "markdown",
            "source": [
                "Although the clauses must be written in the order above, the easiest way to understand the operations specified by the query is to consider the clauses in operational order: first <strong>from</strong>, then <strong>where</strong>, and then <strong>select</strong>.\n",
                "\n",
                "  \n",
                "\n",
                "The from clause by itself defines a cartesian product of the relations listed in the clause. The resulting relation has all attributes from all relations present in the clause."
            ],
            "metadata": {
                "azdata_cell_guid": "2925f28e-ddbd-4539-b74e-4e37db872b32"
            }
        },
        {
            "cell_type": "code",
            "source": [
                "-- cartesian product of two relations in SQL\n",
                "SELECT prof.*, dept.* \n",
                "FROM professors AS prof, department AS dept;\n",
                "GO"
            ],
            "metadata": {
                "azdata_cell_guid": "7dde7bf9-2b7a-4388-8ce1-37a0a579e473"
            },
            "outputs": [
                {
                    "output_type": "display_data",
                    "data": {
                        "text/html": "(12 rows affected)"
                    },
                    "metadata": {}
                },
                {
                    "output_type": "display_data",
                    "data": {
                        "text/html": "Total execution time: 00:00:00.026"
                    },
                    "metadata": {}
                },
                {
                    "output_type": "execute_result",
                    "metadata": {
                        "resultSet": {
                            "id": 0,
                            "batchId": 0,
                            "rowCount": 12,
                            "complete": true,
                            "columnInfo": [
                                {
                                    "isBytes": false,
                                    "isChars": false,
                                    "isSqlVariant": false,
                                    "isUdt": false,
                                    "isXml": false,
                                    "isJson": false,
                                    "sqlDbType": 8,
                                    "isHierarchyId": false,
                                    "isSqlXmlType": false,
                                    "isUnknownType": false,
                                    "isUpdatable": true,
                                    "allowDBNull": false,
                                    "baseCatalogName": null,
                                    "baseColumnName": null,
                                    "baseSchemaName": null,
                                    "baseServerName": null,
                                    "baseTableName": null,
                                    "columnName": "prof_id",
                                    "columnOrdinal": 0,
                                    "columnSize": 4,
                                    "isAliased": null,
                                    "isAutoIncrement": false,
                                    "isExpression": null,
                                    "isHidden": null,
                                    "isIdentity": false,
                                    "isKey": null,
                                    "isLong": false,
                                    "isReadOnly": false,
                                    "isUnique": false,
                                    "numericPrecision": 10,
                                    "numericScale": 255,
                                    "udtAssemblyQualifiedName": null,
                                    "dataType": "System.Int32, System.Private.CoreLib, Version=4.0.0.0, Culture=neutral, PublicKeyToken=7cec85d7bea7798e",
                                    "dataTypeName": "int"
                                },
                                {
                                    "isBytes": false,
                                    "isChars": true,
                                    "isSqlVariant": false,
                                    "isUdt": false,
                                    "isXml": false,
                                    "isJson": false,
                                    "sqlDbType": 22,
                                    "isHierarchyId": false,
                                    "isSqlXmlType": false,
                                    "isUnknownType": false,
                                    "isUpdatable": true,
                                    "allowDBNull": true,
                                    "baseCatalogName": null,
                                    "baseColumnName": null,
                                    "baseSchemaName": null,
                                    "baseServerName": null,
                                    "baseTableName": null,
                                    "columnName": "prof_name",
                                    "columnOrdinal": 1,
                                    "columnSize": 250,
                                    "isAliased": null,
                                    "isAutoIncrement": false,
                                    "isExpression": null,
                                    "isHidden": null,
                                    "isIdentity": false,
                                    "isKey": null,
                                    "isLong": false,
                                    "isReadOnly": false,
                                    "isUnique": false,
                                    "numericPrecision": 255,
                                    "numericScale": 255,
                                    "udtAssemblyQualifiedName": null,
                                    "dataType": "System.String, System.Private.CoreLib, Version=4.0.0.0, Culture=neutral, PublicKeyToken=7cec85d7bea7798e",
                                    "dataTypeName": "varchar"
                                },
                                {
                                    "isBytes": false,
                                    "isChars": true,
                                    "isSqlVariant": false,
                                    "isUdt": false,
                                    "isXml": false,
                                    "isJson": false,
                                    "sqlDbType": 22,
                                    "isHierarchyId": false,
                                    "isSqlXmlType": false,
                                    "isUnknownType": false,
                                    "isUpdatable": true,
                                    "allowDBNull": true,
                                    "baseCatalogName": null,
                                    "baseColumnName": null,
                                    "baseSchemaName": null,
                                    "baseServerName": null,
                                    "baseTableName": null,
                                    "columnName": "dept_name",
                                    "columnOrdinal": 2,
                                    "columnSize": 20,
                                    "isAliased": null,
                                    "isAutoIncrement": false,
                                    "isExpression": null,
                                    "isHidden": null,
                                    "isIdentity": false,
                                    "isKey": null,
                                    "isLong": false,
                                    "isReadOnly": false,
                                    "isUnique": false,
                                    "numericPrecision": 255,
                                    "numericScale": 255,
                                    "udtAssemblyQualifiedName": null,
                                    "dataType": "System.String, System.Private.CoreLib, Version=4.0.0.0, Culture=neutral, PublicKeyToken=7cec85d7bea7798e",
                                    "dataTypeName": "varchar"
                                },
                                {
                                    "isBytes": false,
                                    "isChars": false,
                                    "isSqlVariant": false,
                                    "isUdt": false,
                                    "isXml": false,
                                    "isJson": false,
                                    "sqlDbType": 5,
                                    "isHierarchyId": false,
                                    "isSqlXmlType": false,
                                    "isUnknownType": false,
                                    "isUpdatable": true,
                                    "allowDBNull": true,
                                    "baseCatalogName": null,
                                    "baseColumnName": null,
                                    "baseSchemaName": null,
                                    "baseServerName": null,
                                    "baseTableName": null,
                                    "columnName": "salary",
                                    "columnOrdinal": 3,
                                    "columnSize": 17,
                                    "isAliased": null,
                                    "isAutoIncrement": false,
                                    "isExpression": null,
                                    "isHidden": null,
                                    "isIdentity": false,
                                    "isKey": null,
                                    "isLong": false,
                                    "isReadOnly": false,
                                    "isUnique": false,
                                    "numericPrecision": 8,
                                    "numericScale": 2,
                                    "udtAssemblyQualifiedName": null,
                                    "dataType": "System.Decimal, System.Private.CoreLib, Version=4.0.0.0, Culture=neutral, PublicKeyToken=7cec85d7bea7798e",
                                    "dataTypeName": "decimal"
                                },
                                {
                                    "isBytes": false,
                                    "isChars": true,
                                    "isSqlVariant": false,
                                    "isUdt": false,
                                    "isXml": false,
                                    "isJson": false,
                                    "sqlDbType": 22,
                                    "isHierarchyId": false,
                                    "isSqlXmlType": false,
                                    "isUnknownType": false,
                                    "isUpdatable": true,
                                    "allowDBNull": false,
                                    "baseCatalogName": null,
                                    "baseColumnName": null,
                                    "baseSchemaName": null,
                                    "baseServerName": null,
                                    "baseTableName": null,
                                    "columnName": "dept_name",
                                    "columnOrdinal": 4,
                                    "columnSize": 20,
                                    "isAliased": null,
                                    "isAutoIncrement": false,
                                    "isExpression": null,
                                    "isHidden": null,
                                    "isIdentity": false,
                                    "isKey": null,
                                    "isLong": false,
                                    "isReadOnly": false,
                                    "isUnique": false,
                                    "numericPrecision": 255,
                                    "numericScale": 255,
                                    "udtAssemblyQualifiedName": null,
                                    "dataType": "System.String, System.Private.CoreLib, Version=4.0.0.0, Culture=neutral, PublicKeyToken=7cec85d7bea7798e",
                                    "dataTypeName": "varchar"
                                },
                                {
                                    "isBytes": false,
                                    "isChars": true,
                                    "isSqlVariant": false,
                                    "isUdt": false,
                                    "isXml": false,
                                    "isJson": false,
                                    "sqlDbType": 22,
                                    "isHierarchyId": false,
                                    "isSqlXmlType": false,
                                    "isUnknownType": false,
                                    "isUpdatable": true,
                                    "allowDBNull": true,
                                    "baseCatalogName": null,
                                    "baseColumnName": null,
                                    "baseSchemaName": null,
                                    "baseServerName": null,
                                    "baseTableName": null,
                                    "columnName": "building",
                                    "columnOrdinal": 5,
                                    "columnSize": 15,
                                    "isAliased": null,
                                    "isAutoIncrement": false,
                                    "isExpression": null,
                                    "isHidden": null,
                                    "isIdentity": false,
                                    "isKey": null,
                                    "isLong": false,
                                    "isReadOnly": false,
                                    "isUnique": false,
                                    "numericPrecision": 255,
                                    "numericScale": 255,
                                    "udtAssemblyQualifiedName": null,
                                    "dataType": "System.String, System.Private.CoreLib, Version=4.0.0.0, Culture=neutral, PublicKeyToken=7cec85d7bea7798e",
                                    "dataTypeName": "varchar"
                                },
                                {
                                    "isBytes": false,
                                    "isChars": false,
                                    "isSqlVariant": false,
                                    "isUdt": false,
                                    "isXml": false,
                                    "isJson": false,
                                    "sqlDbType": 5,
                                    "isHierarchyId": false,
                                    "isSqlXmlType": false,
                                    "isUnknownType": false,
                                    "isUpdatable": true,
                                    "allowDBNull": true,
                                    "baseCatalogName": null,
                                    "baseColumnName": null,
                                    "baseSchemaName": null,
                                    "baseServerName": null,
                                    "baseTableName": null,
                                    "columnName": "budget",
                                    "columnOrdinal": 6,
                                    "columnSize": 17,
                                    "isAliased": null,
                                    "isAutoIncrement": false,
                                    "isExpression": null,
                                    "isHidden": null,
                                    "isIdentity": false,
                                    "isKey": null,
                                    "isLong": false,
                                    "isReadOnly": false,
                                    "isUnique": false,
                                    "numericPrecision": 12,
                                    "numericScale": 2,
                                    "udtAssemblyQualifiedName": null,
                                    "dataType": "System.Decimal, System.Private.CoreLib, Version=4.0.0.0, Culture=neutral, PublicKeyToken=7cec85d7bea7798e",
                                    "dataTypeName": "decimal"
                                }
                            ],
                            "specialAction": {
                                "none": true,
                                "expectYukonXMLShowPlan": false
                            }
                        }
                    },
                    "execution_count": 19,
                    "data": {
                        "application/vnd.dataresource+json": {
                            "schema": {
                                "fields": [
                                    {
                                        "name": "prof_id"
                                    },
                                    {
                                        "name": "prof_name"
                                    },
                                    {
                                        "name": "dept_name"
                                    },
                                    {
                                        "name": "salary"
                                    },
                                    {
                                        "name": "dept_name"
                                    },
                                    {
                                        "name": "building"
                                    },
                                    {
                                        "name": "budget"
                                    }
                                ]
                            },
                            "data": [
                                {
                                    "0": "10101",
                                    "1": "Srinivasan",
                                    "2": "Comp. Sci.",
                                    "3": "65000.00",
                                    "4": "Biology",
                                    "5": "Watson",
                                    "6": "90000.00"
                                },
                                {
                                    "0": "10101",
                                    "1": "Srinivasan",
                                    "2": "Comp. Sci.",
                                    "3": "65000.00",
                                    "4": "Comp. Sci.",
                                    "5": "Taylor",
                                    "6": "100000.00"
                                },
                                {
                                    "0": "10101",
                                    "1": "Srinivasan",
                                    "2": "Comp. Sci.",
                                    "3": "65000.00",
                                    "4": "Elec. Eng.",
                                    "5": "Taylor",
                                    "6": "85000.00"
                                },
                                {
                                    "0": "10101",
                                    "1": "Srinivasan",
                                    "2": "Comp. Sci.",
                                    "3": "65000.00",
                                    "4": "Finance",
                                    "5": "Painter",
                                    "6": "120000.00"
                                },
                                {
                                    "0": "12121",
                                    "1": "Wu",
                                    "2": "Finance",
                                    "3": "90000.00",
                                    "4": "Biology",
                                    "5": "Watson",
                                    "6": "90000.00"
                                },
                                {
                                    "0": "12121",
                                    "1": "Wu",
                                    "2": "Finance",
                                    "3": "90000.00",
                                    "4": "Comp. Sci.",
                                    "5": "Taylor",
                                    "6": "100000.00"
                                },
                                {
                                    "0": "12121",
                                    "1": "Wu",
                                    "2": "Finance",
                                    "3": "90000.00",
                                    "4": "Elec. Eng.",
                                    "5": "Taylor",
                                    "6": "85000.00"
                                },
                                {
                                    "0": "12121",
                                    "1": "Wu",
                                    "2": "Finance",
                                    "3": "90000.00",
                                    "4": "Finance",
                                    "5": "Painter",
                                    "6": "120000.00"
                                },
                                {
                                    "0": "15151",
                                    "1": "Mozart",
                                    "2": "Music",
                                    "3": "40000.00",
                                    "4": "Biology",
                                    "5": "Watson",
                                    "6": "90000.00"
                                },
                                {
                                    "0": "15151",
                                    "1": "Mozart",
                                    "2": "Music",
                                    "3": "40000.00",
                                    "4": "Comp. Sci.",
                                    "5": "Taylor",
                                    "6": "100000.00"
                                },
                                {
                                    "0": "15151",
                                    "1": "Mozart",
                                    "2": "Music",
                                    "3": "40000.00",
                                    "4": "Elec. Eng.",
                                    "5": "Taylor",
                                    "6": "85000.00"
                                },
                                {
                                    "0": "15151",
                                    "1": "Mozart",
                                    "2": "Music",
                                    "3": "40000.00",
                                    "4": "Finance",
                                    "5": "Painter",
                                    "6": "120000.00"
                                }
                            ]
                        },
                        "text/html": [
                            "<table>",
                            "<tr><th>prof_id</th><th>prof_name</th><th>dept_name</th><th>salary</th><th>dept_name</th><th>building</th><th>budget</th></tr>",
                            "<tr><td>10101</td><td>Srinivasan</td><td>Comp. Sci.</td><td>65000.00</td><td>Biology</td><td>Watson</td><td>90000.00</td></tr>",
                            "<tr><td>10101</td><td>Srinivasan</td><td>Comp. Sci.</td><td>65000.00</td><td>Comp. Sci.</td><td>Taylor</td><td>100000.00</td></tr>",
                            "<tr><td>10101</td><td>Srinivasan</td><td>Comp. Sci.</td><td>65000.00</td><td>Elec. Eng.</td><td>Taylor</td><td>85000.00</td></tr>",
                            "<tr><td>10101</td><td>Srinivasan</td><td>Comp. Sci.</td><td>65000.00</td><td>Finance</td><td>Painter</td><td>120000.00</td></tr>",
                            "<tr><td>12121</td><td>Wu</td><td>Finance</td><td>90000.00</td><td>Biology</td><td>Watson</td><td>90000.00</td></tr>",
                            "<tr><td>12121</td><td>Wu</td><td>Finance</td><td>90000.00</td><td>Comp. Sci.</td><td>Taylor</td><td>100000.00</td></tr>",
                            "<tr><td>12121</td><td>Wu</td><td>Finance</td><td>90000.00</td><td>Elec. Eng.</td><td>Taylor</td><td>85000.00</td></tr>",
                            "<tr><td>12121</td><td>Wu</td><td>Finance</td><td>90000.00</td><td>Finance</td><td>Painter</td><td>120000.00</td></tr>",
                            "<tr><td>15151</td><td>Mozart</td><td>Music</td><td>40000.00</td><td>Biology</td><td>Watson</td><td>90000.00</td></tr>",
                            "<tr><td>15151</td><td>Mozart</td><td>Music</td><td>40000.00</td><td>Comp. Sci.</td><td>Taylor</td><td>100000.00</td></tr>",
                            "<tr><td>15151</td><td>Mozart</td><td>Music</td><td>40000.00</td><td>Elec. Eng.</td><td>Taylor</td><td>85000.00</td></tr>",
                            "<tr><td>15151</td><td>Mozart</td><td>Music</td><td>40000.00</td><td>Finance</td><td>Painter</td><td>120000.00</td></tr>",
                            "</table>"
                        ]
                    }
                }
            ],
            "execution_count": 19
        },
        {
            "cell_type": "markdown",
            "source": [
                "This leads to a very large relation with plenty of duplicated and incorrenct information. Instead, the predicate in the where clause is used to restrict the combinations created by the cartesian product to those that are meaningful for the relevant question.\n",
                "\n",
                "### Set operations\n",
                "\n",
                "SQL operations <strong>UNION</strong>, <strong>INTERSECT</strong>, and <strong>EXCEPT</strong> operate in relations and correspond to the mathematical set operations ∪, ∩, and −.\n",
                "\n",
                "We can find the set of all disciplines at the Taylor building with a budget above 89,000"
            ],
            "metadata": {
                "azdata_cell_guid": "3cee5944-32e6-49f9-bd1f-cfd7c4363b14"
            }
        },
        {
            "cell_type": "code",
            "source": [
                "SELECT dept_name AS name \n",
                "FROM department\n",
                "WHERE building = 'Taylor' and budget > 89000.00;\n",
                "GO"
            ],
            "metadata": {
                "azdata_cell_guid": "92adc30a-0239-43bb-830b-ed427aa306c2",
                "tags": []
            },
            "outputs": [
                {
                    "output_type": "display_data",
                    "data": {
                        "text/html": "(1 row affected)"
                    },
                    "metadata": {}
                },
                {
                    "output_type": "display_data",
                    "data": {
                        "text/html": "Total execution time: 00:00:00.007"
                    },
                    "metadata": {}
                },
                {
                    "output_type": "execute_result",
                    "metadata": {
                        "resultSet": {
                            "id": 0,
                            "batchId": 0,
                            "rowCount": 1,
                            "complete": true,
                            "columnInfo": [
                                {
                                    "isBytes": false,
                                    "isChars": true,
                                    "isSqlVariant": false,
                                    "isUdt": false,
                                    "isXml": false,
                                    "isJson": false,
                                    "sqlDbType": 22,
                                    "isHierarchyId": false,
                                    "isSqlXmlType": false,
                                    "isUnknownType": false,
                                    "isUpdatable": true,
                                    "allowDBNull": false,
                                    "baseCatalogName": null,
                                    "baseColumnName": null,
                                    "baseSchemaName": null,
                                    "baseServerName": null,
                                    "baseTableName": null,
                                    "columnName": "name",
                                    "columnOrdinal": 0,
                                    "columnSize": 20,
                                    "isAliased": null,
                                    "isAutoIncrement": false,
                                    "isExpression": null,
                                    "isHidden": null,
                                    "isIdentity": false,
                                    "isKey": null,
                                    "isLong": false,
                                    "isReadOnly": false,
                                    "isUnique": false,
                                    "numericPrecision": 255,
                                    "numericScale": 255,
                                    "udtAssemblyQualifiedName": null,
                                    "dataType": "System.String, System.Private.CoreLib, Version=4.0.0.0, Culture=neutral, PublicKeyToken=7cec85d7bea7798e",
                                    "dataTypeName": "varchar"
                                }
                            ],
                            "specialAction": {
                                "none": true,
                                "expectYukonXMLShowPlan": false
                            }
                        }
                    },
                    "execution_count": 20,
                    "data": {
                        "application/vnd.dataresource+json": {
                            "schema": {
                                "fields": [
                                    {
                                        "name": "name"
                                    }
                                ]
                            },
                            "data": [
                                {
                                    "0": "Comp. Sci."
                                }
                            ]
                        },
                        "text/html": [
                            "<table>",
                            "<tr><th>name</th></tr>",
                            "<tr><td>Comp. Sci.</td></tr>",
                            "</table>"
                        ]
                    }
                }
            ],
            "execution_count": 20
        },
        {
            "cell_type": "markdown",
            "source": [
                "Similarly, we can find the set of all disciplines at the Watson building with a budget above 89,000"
            ],
            "metadata": {
                "azdata_cell_guid": "09c6e538-2a23-4ab4-b8cf-99108d23e982"
            }
        },
        {
            "cell_type": "code",
            "source": [
                "SELECT dept_name AS name \n",
                "FROM department\n",
                "WHERE building = 'Watson' and budget > 89000.00;\n",
                "GO\n",
                ""
            ],
            "metadata": {
                "azdata_cell_guid": "1e306a9f-3c2e-4a3d-802f-c348350ef3ae"
            },
            "outputs": [
                {
                    "output_type": "display_data",
                    "data": {
                        "text/html": "(1 row affected)"
                    },
                    "metadata": {}
                },
                {
                    "output_type": "display_data",
                    "data": {
                        "text/html": "Total execution time: 00:00:00.002"
                    },
                    "metadata": {}
                },
                {
                    "output_type": "execute_result",
                    "metadata": {
                        "resultSet": {
                            "id": 0,
                            "batchId": 0,
                            "rowCount": 1,
                            "complete": true,
                            "columnInfo": [
                                {
                                    "isBytes": false,
                                    "isChars": true,
                                    "isSqlVariant": false,
                                    "isUdt": false,
                                    "isXml": false,
                                    "isJson": false,
                                    "sqlDbType": 22,
                                    "isHierarchyId": false,
                                    "isSqlXmlType": false,
                                    "isUnknownType": false,
                                    "isUpdatable": true,
                                    "allowDBNull": false,
                                    "baseCatalogName": null,
                                    "baseColumnName": null,
                                    "baseSchemaName": null,
                                    "baseServerName": null,
                                    "baseTableName": null,
                                    "columnName": "name",
                                    "columnOrdinal": 0,
                                    "columnSize": 20,
                                    "isAliased": null,
                                    "isAutoIncrement": false,
                                    "isExpression": null,
                                    "isHidden": null,
                                    "isIdentity": false,
                                    "isKey": null,
                                    "isLong": false,
                                    "isReadOnly": false,
                                    "isUnique": false,
                                    "numericPrecision": 255,
                                    "numericScale": 255,
                                    "udtAssemblyQualifiedName": null,
                                    "dataType": "System.String, System.Private.CoreLib, Version=4.0.0.0, Culture=neutral, PublicKeyToken=7cec85d7bea7798e",
                                    "dataTypeName": "varchar"
                                }
                            ],
                            "specialAction": {
                                "none": true,
                                "expectYukonXMLShowPlan": false
                            }
                        }
                    },
                    "execution_count": 21,
                    "data": {
                        "application/vnd.dataresource+json": {
                            "schema": {
                                "fields": [
                                    {
                                        "name": "name"
                                    }
                                ]
                            },
                            "data": [
                                {
                                    "0": "Biology"
                                }
                            ]
                        },
                        "text/html": [
                            "<table>",
                            "<tr><th>name</th></tr>",
                            "<tr><td>Biology</td></tr>",
                            "</table>"
                        ]
                    }
                }
            ],
            "execution_count": 21
        },
        {
            "cell_type": "markdown",
            "source": [
                "To find the set of all departments in Taylor or Watson with a budget above 89.000 we can resort o the union operator."
            ],
            "metadata": {
                "azdata_cell_guid": "c1134a61-5f18-473a-917e-ec4bb78e3864"
            }
        },
        {
            "cell_type": "code",
            "source": [
                "(SELECT dept_name AS name \n",
                "FROM department\n",
                "WHERE building = 'Taylor' and budget > 89000.00)\n",
                "UNION\n",
                "(SELECT dept_name AS name \n",
                "FROM department\n",
                "WHERE building = 'Watson' and budget > 89000.00);\n",
                "GO\n",
                "\n",
                "-- alternatively, we could've have written\n",
                "SELECT dept_name AS name \n",
                "FROM department\n",
                "WHERE building IN ('Taylor', 'Watson') and budget > 89000.00;\n",
                "GO"
            ],
            "metadata": {
                "azdata_cell_guid": "ede3b6a2-c84d-46eb-b6e2-2d1c9c196e91"
            },
            "outputs": [
                {
                    "output_type": "display_data",
                    "data": {
                        "text/html": "(2 rows affected)"
                    },
                    "metadata": {}
                },
                {
                    "output_type": "display_data",
                    "data": {
                        "text/html": "(2 rows affected)"
                    },
                    "metadata": {}
                },
                {
                    "output_type": "display_data",
                    "data": {
                        "text/html": "Total execution time: 00:00:00.008"
                    },
                    "metadata": {}
                },
                {
                    "output_type": "execute_result",
                    "metadata": {
                        "resultSet": {
                            "id": 0,
                            "batchId": 0,
                            "rowCount": 2,
                            "complete": true,
                            "columnInfo": [
                                {
                                    "isBytes": false,
                                    "isChars": true,
                                    "isSqlVariant": false,
                                    "isUdt": false,
                                    "isXml": false,
                                    "isJson": false,
                                    "sqlDbType": 22,
                                    "isHierarchyId": false,
                                    "isSqlXmlType": false,
                                    "isUnknownType": false,
                                    "isUpdatable": false,
                                    "allowDBNull": false,
                                    "baseCatalogName": null,
                                    "baseColumnName": null,
                                    "baseSchemaName": null,
                                    "baseServerName": null,
                                    "baseTableName": null,
                                    "columnName": "name",
                                    "columnOrdinal": 0,
                                    "columnSize": 20,
                                    "isAliased": null,
                                    "isAutoIncrement": false,
                                    "isExpression": null,
                                    "isHidden": null,
                                    "isIdentity": false,
                                    "isKey": null,
                                    "isLong": false,
                                    "isReadOnly": true,
                                    "isUnique": false,
                                    "numericPrecision": 255,
                                    "numericScale": 255,
                                    "udtAssemblyQualifiedName": null,
                                    "dataType": "System.String, System.Private.CoreLib, Version=4.0.0.0, Culture=neutral, PublicKeyToken=7cec85d7bea7798e",
                                    "dataTypeName": "varchar"
                                }
                            ],
                            "specialAction": {
                                "none": true,
                                "expectYukonXMLShowPlan": false
                            }
                        }
                    },
                    "execution_count": 22,
                    "data": {
                        "application/vnd.dataresource+json": {
                            "schema": {
                                "fields": [
                                    {
                                        "name": "name"
                                    }
                                ]
                            },
                            "data": [
                                {
                                    "0": "Biology"
                                },
                                {
                                    "0": "Comp. Sci."
                                }
                            ]
                        },
                        "text/html": [
                            "<table>",
                            "<tr><th>name</th></tr>",
                            "<tr><td>Biology</td></tr>",
                            "<tr><td>Comp. Sci.</td></tr>",
                            "</table>"
                        ]
                    }
                },
                {
                    "output_type": "execute_result",
                    "metadata": {
                        "resultSet": {
                            "id": 0,
                            "batchId": 1,
                            "rowCount": 2,
                            "complete": true,
                            "columnInfo": [
                                {
                                    "isBytes": false,
                                    "isChars": true,
                                    "isSqlVariant": false,
                                    "isUdt": false,
                                    "isXml": false,
                                    "isJson": false,
                                    "sqlDbType": 22,
                                    "isHierarchyId": false,
                                    "isSqlXmlType": false,
                                    "isUnknownType": false,
                                    "isUpdatable": true,
                                    "allowDBNull": false,
                                    "baseCatalogName": null,
                                    "baseColumnName": null,
                                    "baseSchemaName": null,
                                    "baseServerName": null,
                                    "baseTableName": null,
                                    "columnName": "name",
                                    "columnOrdinal": 0,
                                    "columnSize": 20,
                                    "isAliased": null,
                                    "isAutoIncrement": false,
                                    "isExpression": null,
                                    "isHidden": null,
                                    "isIdentity": false,
                                    "isKey": null,
                                    "isLong": false,
                                    "isReadOnly": false,
                                    "isUnique": false,
                                    "numericPrecision": 255,
                                    "numericScale": 255,
                                    "udtAssemblyQualifiedName": null,
                                    "dataType": "System.String, System.Private.CoreLib, Version=4.0.0.0, Culture=neutral, PublicKeyToken=7cec85d7bea7798e",
                                    "dataTypeName": "varchar"
                                }
                            ],
                            "specialAction": {
                                "none": true,
                                "expectYukonXMLShowPlan": false
                            }
                        }
                    },
                    "execution_count": 22,
                    "data": {
                        "application/vnd.dataresource+json": {
                            "schema": {
                                "fields": [
                                    {
                                        "name": "name"
                                    }
                                ]
                            },
                            "data": [
                                {
                                    "0": "Biology"
                                },
                                {
                                    "0": "Comp. Sci."
                                }
                            ]
                        },
                        "text/html": [
                            "<table>",
                            "<tr><th>name</th></tr>",
                            "<tr><td>Biology</td></tr>",
                            "<tr><td>Comp. Sci.</td></tr>",
                            "</table>"
                        ]
                    }
                }
            ],
            "execution_count": 22
        },
        {
            "cell_type": "markdown",
            "source": [
                "Now turning to the intersection, we can identify the set of department names which are mentioned in both tables.<br>"
            ],
            "metadata": {
                "azdata_cell_guid": "fd8f7d12-2aed-4e36-975a-6c0bfd6d193e"
            }
        },
        {
            "cell_type": "code",
            "source": [
                "SELECT dept_name FROM professors\n",
                "INTERSECT\n",
                "SELECT dept_name FROM department;\n",
                "GO"
            ],
            "metadata": {
                "azdata_cell_guid": "9b6c2e3c-1e28-4526-a21f-f5e96c16b522"
            },
            "outputs": [
                {
                    "output_type": "display_data",
                    "data": {
                        "text/html": "(2 rows affected)"
                    },
                    "metadata": {}
                },
                {
                    "output_type": "display_data",
                    "data": {
                        "text/html": "Total execution time: 00:00:00.003"
                    },
                    "metadata": {}
                },
                {
                    "output_type": "execute_result",
                    "metadata": {
                        "resultSet": {
                            "id": 0,
                            "batchId": 0,
                            "rowCount": 2,
                            "complete": true,
                            "columnInfo": [
                                {
                                    "isBytes": false,
                                    "isChars": true,
                                    "isSqlVariant": false,
                                    "isUdt": false,
                                    "isXml": false,
                                    "isJson": false,
                                    "sqlDbType": 22,
                                    "isHierarchyId": false,
                                    "isSqlXmlType": false,
                                    "isUnknownType": false,
                                    "isUpdatable": true,
                                    "allowDBNull": false,
                                    "baseCatalogName": null,
                                    "baseColumnName": null,
                                    "baseSchemaName": null,
                                    "baseServerName": null,
                                    "baseTableName": null,
                                    "columnName": "dept_name",
                                    "columnOrdinal": 0,
                                    "columnSize": 20,
                                    "isAliased": null,
                                    "isAutoIncrement": false,
                                    "isExpression": null,
                                    "isHidden": null,
                                    "isIdentity": false,
                                    "isKey": null,
                                    "isLong": false,
                                    "isReadOnly": false,
                                    "isUnique": false,
                                    "numericPrecision": 255,
                                    "numericScale": 255,
                                    "udtAssemblyQualifiedName": null,
                                    "dataType": "System.String, System.Private.CoreLib, Version=4.0.0.0, Culture=neutral, PublicKeyToken=7cec85d7bea7798e",
                                    "dataTypeName": "varchar"
                                }
                            ],
                            "specialAction": {
                                "none": true,
                                "expectYukonXMLShowPlan": false
                            }
                        }
                    },
                    "execution_count": 23,
                    "data": {
                        "application/vnd.dataresource+json": {
                            "schema": {
                                "fields": [
                                    {
                                        "name": "dept_name"
                                    }
                                ]
                            },
                            "data": [
                                {
                                    "0": "Comp. Sci."
                                },
                                {
                                    "0": "Finance"
                                }
                            ]
                        },
                        "text/html": [
                            "<table>",
                            "<tr><th>dept_name</th></tr>",
                            "<tr><td>Comp. Sci.</td></tr>",
                            "<tr><td>Finance</td></tr>",
                            "</table>"
                        ]
                    }
                }
            ],
            "execution_count": 23
        },
        {
            "cell_type": "markdown",
            "source": [
                "The except operator outputs all tuples from the first input relation which do not occur in the second input (i.e. as an anti-join). As we saw before, it is confirmed here that the only department in the professors tables which is not in the department table is the music department."
            ],
            "metadata": {
                "azdata_cell_guid": "e4880717-5cb9-4bcc-82e7-641822b55e03"
            }
        },
        {
            "cell_type": "code",
            "source": [
                "SELECT dept_name FROM professors\n",
                "EXCEPT\n",
                "SELECT dept_name FROM department;\n",
                "GO"
            ],
            "metadata": {
                "azdata_cell_guid": "82ed51fc-881c-44b0-a429-7377dfca73bf"
            },
            "outputs": [
                {
                    "output_type": "display_data",
                    "data": {
                        "text/html": "(1 row affected)"
                    },
                    "metadata": {}
                },
                {
                    "output_type": "display_data",
                    "data": {
                        "text/html": "Total execution time: 00:00:00.005"
                    },
                    "metadata": {}
                },
                {
                    "output_type": "execute_result",
                    "metadata": {
                        "resultSet": {
                            "id": 0,
                            "batchId": 0,
                            "rowCount": 1,
                            "complete": true,
                            "columnInfo": [
                                {
                                    "isBytes": false,
                                    "isChars": true,
                                    "isSqlVariant": false,
                                    "isUdt": false,
                                    "isXml": false,
                                    "isJson": false,
                                    "sqlDbType": 22,
                                    "isHierarchyId": false,
                                    "isSqlXmlType": false,
                                    "isUnknownType": false,
                                    "isUpdatable": true,
                                    "allowDBNull": true,
                                    "baseCatalogName": null,
                                    "baseColumnName": null,
                                    "baseSchemaName": null,
                                    "baseServerName": null,
                                    "baseTableName": null,
                                    "columnName": "dept_name",
                                    "columnOrdinal": 0,
                                    "columnSize": 20,
                                    "isAliased": null,
                                    "isAutoIncrement": false,
                                    "isExpression": null,
                                    "isHidden": null,
                                    "isIdentity": false,
                                    "isKey": null,
                                    "isLong": false,
                                    "isReadOnly": false,
                                    "isUnique": false,
                                    "numericPrecision": 255,
                                    "numericScale": 255,
                                    "udtAssemblyQualifiedName": null,
                                    "dataType": "System.String, System.Private.CoreLib, Version=4.0.0.0, Culture=neutral, PublicKeyToken=7cec85d7bea7798e",
                                    "dataTypeName": "varchar"
                                }
                            ],
                            "specialAction": {
                                "none": true,
                                "expectYukonXMLShowPlan": false
                            }
                        }
                    },
                    "execution_count": 24,
                    "data": {
                        "application/vnd.dataresource+json": {
                            "schema": {
                                "fields": [
                                    {
                                        "name": "dept_name"
                                    }
                                ]
                            },
                            "data": [
                                {
                                    "0": "Music"
                                }
                            ]
                        },
                        "text/html": [
                            "<table>",
                            "<tr><th>dept_name</th></tr>",
                            "<tr><td>Music</td></tr>",
                            "</table>"
                        ]
                    }
                }
            ],
            "execution_count": 24
        },
        {
            "cell_type": "markdown",
            "source": [
                "### Null Values\n",
                "\n",
                "Null values present special problem in relational operations, including arithmetic, comparison, and set operations. In comparison operations, SQL treats null values as unknown."
            ],
            "metadata": {
                "azdata_cell_guid": "f030adb7-d4ee-4549-91dd-de69ed4639c9"
            }
        },
        {
            "cell_type": "code",
            "source": [
                "-- add an empty column to departments\n",
                "insert into department values ('Law.', 'Sottomayor', NULL)"
            ],
            "metadata": {
                "azdata_cell_guid": "53417e90-c0cf-4c1e-ad5b-b928b88694fc"
            },
            "outputs": [
                {
                    "output_type": "display_data",
                    "data": {
                        "text/html": "(1 row affected)"
                    },
                    "metadata": {}
                },
                {
                    "output_type": "display_data",
                    "data": {
                        "text/html": "Total execution time: 00:00:00.004"
                    },
                    "metadata": {}
                }
            ],
            "execution_count": 25
        },
        {
            "cell_type": "markdown",
            "source": [
                "For example, in this query SQL identifies NULL as part of the resulting tuple of department with budgets higher than 10000 but also notice that once we make this specific query, the row with the NULL is not part of it - which does not make much sense."
            ],
            "metadata": {
                "azdata_cell_guid": "90dbcbfc-1bef-44fa-967d-ed67da73c604"
            }
        },
        {
            "cell_type": "code",
            "source": [
                "SELECT budget FROM department\n",
                "WHERE budget < 10000.00;\n",
                "GO\n",
                "\n",
                "SELECT budget FROM department\n",
                "WHERE budget > 10000.00;\n",
                "GO"
            ],
            "metadata": {
                "azdata_cell_guid": "1d8dc3c1-77e1-4f1f-afb3-2b45e5620dd7"
            },
            "outputs": [
                {
                    "output_type": "display_data",
                    "data": {
                        "text/html": "(0 rows affected)"
                    },
                    "metadata": {}
                },
                {
                    "output_type": "display_data",
                    "data": {
                        "text/html": "(4 rows affected)"
                    },
                    "metadata": {}
                },
                {
                    "output_type": "display_data",
                    "data": {
                        "text/html": "Total execution time: 00:00:00.013"
                    },
                    "metadata": {}
                },
                {
                    "output_type": "execute_result",
                    "metadata": {
                        "resultSet": {
                            "id": 0,
                            "batchId": 0,
                            "rowCount": 0,
                            "complete": false,
                            "columnInfo": [
                                {
                                    "isBytes": false,
                                    "isChars": false,
                                    "isSqlVariant": false,
                                    "isUdt": false,
                                    "isXml": false,
                                    "isJson": false,
                                    "sqlDbType": 5,
                                    "isHierarchyId": false,
                                    "isSqlXmlType": false,
                                    "isUnknownType": false,
                                    "isUpdatable": true,
                                    "allowDBNull": true,
                                    "baseCatalogName": null,
                                    "baseColumnName": null,
                                    "baseSchemaName": null,
                                    "baseServerName": null,
                                    "baseTableName": null,
                                    "columnName": "budget",
                                    "columnOrdinal": 0,
                                    "columnSize": 17,
                                    "isAliased": null,
                                    "isAutoIncrement": false,
                                    "isExpression": null,
                                    "isHidden": null,
                                    "isIdentity": false,
                                    "isKey": null,
                                    "isLong": false,
                                    "isReadOnly": false,
                                    "isUnique": false,
                                    "numericPrecision": 12,
                                    "numericScale": 2,
                                    "udtAssemblyQualifiedName": null,
                                    "dataType": "System.Decimal, System.Private.CoreLib, Version=4.0.0.0, Culture=neutral, PublicKeyToken=7cec85d7bea7798e",
                                    "dataTypeName": "decimal"
                                }
                            ],
                            "specialAction": null
                        }
                    },
                    "execution_count": 26,
                    "data": {
                        "application/vnd.dataresource+json": {
                            "schema": {
                                "fields": [
                                    {
                                        "name": "budget"
                                    }
                                ]
                            },
                            "data": []
                        },
                        "text/html": [
                            "<table>",
                            "<tr><th>budget</th></tr>",
                            "</table>"
                        ]
                    }
                },
                {
                    "output_type": "execute_result",
                    "metadata": {
                        "resultSet": {
                            "id": 0,
                            "batchId": 1,
                            "rowCount": 4,
                            "complete": true,
                            "columnInfo": [
                                {
                                    "isBytes": false,
                                    "isChars": false,
                                    "isSqlVariant": false,
                                    "isUdt": false,
                                    "isXml": false,
                                    "isJson": false,
                                    "sqlDbType": 5,
                                    "isHierarchyId": false,
                                    "isSqlXmlType": false,
                                    "isUnknownType": false,
                                    "isUpdatable": true,
                                    "allowDBNull": true,
                                    "baseCatalogName": null,
                                    "baseColumnName": null,
                                    "baseSchemaName": null,
                                    "baseServerName": null,
                                    "baseTableName": null,
                                    "columnName": "budget",
                                    "columnOrdinal": 0,
                                    "columnSize": 17,
                                    "isAliased": null,
                                    "isAutoIncrement": false,
                                    "isExpression": null,
                                    "isHidden": null,
                                    "isIdentity": false,
                                    "isKey": null,
                                    "isLong": false,
                                    "isReadOnly": false,
                                    "isUnique": false,
                                    "numericPrecision": 12,
                                    "numericScale": 2,
                                    "udtAssemblyQualifiedName": null,
                                    "dataType": "System.Decimal, System.Private.CoreLib, Version=4.0.0.0, Culture=neutral, PublicKeyToken=7cec85d7bea7798e",
                                    "dataTypeName": "decimal"
                                }
                            ],
                            "specialAction": {
                                "none": true,
                                "expectYukonXMLShowPlan": false
                            }
                        }
                    },
                    "execution_count": 26,
                    "data": {
                        "application/vnd.dataresource+json": {
                            "schema": {
                                "fields": [
                                    {
                                        "name": "budget"
                                    }
                                ]
                            },
                            "data": [
                                {
                                    "0": "90000.00"
                                },
                                {
                                    "0": "100000.00"
                                },
                                {
                                    "0": "85000.00"
                                },
                                {
                                    "0": "120000.00"
                                }
                            ]
                        },
                        "text/html": [
                            "<table>",
                            "<tr><th>budget</th></tr>",
                            "<tr><td>90000.00</td></tr>",
                            "<tr><td>100000.00</td></tr>",
                            "<tr><td>85000.00</td></tr>",
                            "<tr><td>120000.00</td></tr>",
                            "</table>"
                        ]
                    }
                }
            ],
            "execution_count": 26
        },
        {
            "cell_type": "markdown",
            "source": [
                "SQL treats treats it as an unknown. As we know, UNKNOWN is a logical operator which implies that we can manipulate it in the WHERE clause using logical comparisons. However, we have a special keyword ``null`` which we can use in the predicate to work with null values"
            ],
            "metadata": {
                "azdata_cell_guid": "4a374923-1817-4251-b4ee-086d4e2b8711"
            }
        },
        {
            "cell_type": "markdown",
            "source": [
                ""
            ],
            "metadata": {
                "azdata_cell_guid": "fd6a830e-310a-4674-95cf-ca22faa18105"
            }
        },
        {
            "cell_type": "code",
            "source": [
                "SELECT budget FROM department\n",
                "WHERE budget IS NOT NULL AND budget > 10000.00;\n",
                "GO\n",
                "\n",
                "-- we can also identify the tuple with the missing data\n",
                "SELECT * FROM department \n",
                "WHERE budget IS NULL;\n",
                "GO"
            ],
            "metadata": {
                "azdata_cell_guid": "2d337768-c923-46d1-a19e-693d9694fdba"
            },
            "outputs": [
                {
                    "output_type": "display_data",
                    "data": {
                        "text/html": "(4 rows affected)"
                    },
                    "metadata": {}
                },
                {
                    "output_type": "display_data",
                    "data": {
                        "text/html": "(1 row affected)"
                    },
                    "metadata": {}
                },
                {
                    "output_type": "display_data",
                    "data": {
                        "text/html": "Total execution time: 00:00:00.008"
                    },
                    "metadata": {}
                },
                {
                    "output_type": "execute_result",
                    "metadata": {
                        "resultSet": {
                            "id": 0,
                            "batchId": 0,
                            "rowCount": 4,
                            "complete": true,
                            "columnInfo": [
                                {
                                    "isBytes": false,
                                    "isChars": false,
                                    "isSqlVariant": false,
                                    "isUdt": false,
                                    "isXml": false,
                                    "isJson": false,
                                    "sqlDbType": 5,
                                    "isHierarchyId": false,
                                    "isSqlXmlType": false,
                                    "isUnknownType": false,
                                    "isUpdatable": true,
                                    "allowDBNull": true,
                                    "baseCatalogName": null,
                                    "baseColumnName": null,
                                    "baseSchemaName": null,
                                    "baseServerName": null,
                                    "baseTableName": null,
                                    "columnName": "budget",
                                    "columnOrdinal": 0,
                                    "columnSize": 17,
                                    "isAliased": null,
                                    "isAutoIncrement": false,
                                    "isExpression": null,
                                    "isHidden": null,
                                    "isIdentity": false,
                                    "isKey": null,
                                    "isLong": false,
                                    "isReadOnly": false,
                                    "isUnique": false,
                                    "numericPrecision": 12,
                                    "numericScale": 2,
                                    "udtAssemblyQualifiedName": null,
                                    "dataType": "System.Decimal, System.Private.CoreLib, Version=4.0.0.0, Culture=neutral, PublicKeyToken=7cec85d7bea7798e",
                                    "dataTypeName": "decimal"
                                }
                            ],
                            "specialAction": {
                                "none": true,
                                "expectYukonXMLShowPlan": false
                            }
                        }
                    },
                    "execution_count": 27,
                    "data": {
                        "application/vnd.dataresource+json": {
                            "schema": {
                                "fields": [
                                    {
                                        "name": "budget"
                                    }
                                ]
                            },
                            "data": [
                                {
                                    "0": "90000.00"
                                },
                                {
                                    "0": "100000.00"
                                },
                                {
                                    "0": "85000.00"
                                },
                                {
                                    "0": "120000.00"
                                }
                            ]
                        },
                        "text/html": [
                            "<table>",
                            "<tr><th>budget</th></tr>",
                            "<tr><td>90000.00</td></tr>",
                            "<tr><td>100000.00</td></tr>",
                            "<tr><td>85000.00</td></tr>",
                            "<tr><td>120000.00</td></tr>",
                            "</table>"
                        ]
                    }
                },
                {
                    "output_type": "execute_result",
                    "metadata": {
                        "resultSet": {
                            "id": 0,
                            "batchId": 1,
                            "rowCount": 1,
                            "complete": true,
                            "columnInfo": [
                                {
                                    "isBytes": false,
                                    "isChars": true,
                                    "isSqlVariant": false,
                                    "isUdt": false,
                                    "isXml": false,
                                    "isJson": false,
                                    "sqlDbType": 22,
                                    "isHierarchyId": false,
                                    "isSqlXmlType": false,
                                    "isUnknownType": false,
                                    "isUpdatable": true,
                                    "allowDBNull": false,
                                    "baseCatalogName": null,
                                    "baseColumnName": null,
                                    "baseSchemaName": null,
                                    "baseServerName": null,
                                    "baseTableName": null,
                                    "columnName": "dept_name",
                                    "columnOrdinal": 0,
                                    "columnSize": 20,
                                    "isAliased": null,
                                    "isAutoIncrement": false,
                                    "isExpression": null,
                                    "isHidden": null,
                                    "isIdentity": false,
                                    "isKey": null,
                                    "isLong": false,
                                    "isReadOnly": false,
                                    "isUnique": false,
                                    "numericPrecision": 255,
                                    "numericScale": 255,
                                    "udtAssemblyQualifiedName": null,
                                    "dataType": "System.String, System.Private.CoreLib, Version=4.0.0.0, Culture=neutral, PublicKeyToken=7cec85d7bea7798e",
                                    "dataTypeName": "varchar"
                                },
                                {
                                    "isBytes": false,
                                    "isChars": true,
                                    "isSqlVariant": false,
                                    "isUdt": false,
                                    "isXml": false,
                                    "isJson": false,
                                    "sqlDbType": 22,
                                    "isHierarchyId": false,
                                    "isSqlXmlType": false,
                                    "isUnknownType": false,
                                    "isUpdatable": true,
                                    "allowDBNull": true,
                                    "baseCatalogName": null,
                                    "baseColumnName": null,
                                    "baseSchemaName": null,
                                    "baseServerName": null,
                                    "baseTableName": null,
                                    "columnName": "building",
                                    "columnOrdinal": 1,
                                    "columnSize": 15,
                                    "isAliased": null,
                                    "isAutoIncrement": false,
                                    "isExpression": null,
                                    "isHidden": null,
                                    "isIdentity": false,
                                    "isKey": null,
                                    "isLong": false,
                                    "isReadOnly": false,
                                    "isUnique": false,
                                    "numericPrecision": 255,
                                    "numericScale": 255,
                                    "udtAssemblyQualifiedName": null,
                                    "dataType": "System.String, System.Private.CoreLib, Version=4.0.0.0, Culture=neutral, PublicKeyToken=7cec85d7bea7798e",
                                    "dataTypeName": "varchar"
                                },
                                {
                                    "isBytes": false,
                                    "isChars": false,
                                    "isSqlVariant": false,
                                    "isUdt": false,
                                    "isXml": false,
                                    "isJson": false,
                                    "sqlDbType": 5,
                                    "isHierarchyId": false,
                                    "isSqlXmlType": false,
                                    "isUnknownType": false,
                                    "isUpdatable": true,
                                    "allowDBNull": true,
                                    "baseCatalogName": null,
                                    "baseColumnName": null,
                                    "baseSchemaName": null,
                                    "baseServerName": null,
                                    "baseTableName": null,
                                    "columnName": "budget",
                                    "columnOrdinal": 2,
                                    "columnSize": 17,
                                    "isAliased": null,
                                    "isAutoIncrement": false,
                                    "isExpression": null,
                                    "isHidden": null,
                                    "isIdentity": false,
                                    "isKey": null,
                                    "isLong": false,
                                    "isReadOnly": false,
                                    "isUnique": false,
                                    "numericPrecision": 12,
                                    "numericScale": 2,
                                    "udtAssemblyQualifiedName": null,
                                    "dataType": "System.Decimal, System.Private.CoreLib, Version=4.0.0.0, Culture=neutral, PublicKeyToken=7cec85d7bea7798e",
                                    "dataTypeName": "decimal"
                                }
                            ],
                            "specialAction": {
                                "none": true,
                                "expectYukonXMLShowPlan": false
                            }
                        }
                    },
                    "execution_count": 27,
                    "data": {
                        "application/vnd.dataresource+json": {
                            "schema": {
                                "fields": [
                                    {
                                        "name": "dept_name"
                                    },
                                    {
                                        "name": "building"
                                    },
                                    {
                                        "name": "budget"
                                    }
                                ]
                            },
                            "data": [
                                {
                                    "0": "Law.",
                                    "1": "Sottomayor",
                                    "2": "NULL"
                                }
                            ]
                        },
                        "text/html": [
                            "<table>",
                            "<tr><th>dept_name</th><th>building</th><th>budget</th></tr>",
                            "<tr><td>Law.</td><td>Sottomayor</td><td>NULL</td></tr>",
                            "</table>"
                        ]
                    }
                }
            ],
            "execution_count": 27
        },
        {
            "cell_type": "markdown",
            "source": [
                "### Aggregate functions\n",
                "\n",
                "Aggregate functions are functions that take a collection of valus as input and return a single value. SQL offers five standard built-in aggregate functions:\n",
                "\n",
                "- Average: `avg`\n",
                "- Minimum: `min`\n",
                "- Maximum: `max`\n",
                "- Total: `sum`\n",
                "- Count: `count`\n",
                "\n",
                "For example, in the query below we find the average salary of the professors."
            ],
            "metadata": {
                "azdata_cell_guid": "59f25ea6-99b0-4a96-975c-0bd68f81eb4c"
            }
        },
        {
            "cell_type": "code",
            "source": [
                "SELECT AVG(salary) as [Avg. budget]\n",
                "FROM professors;\n",
                "GO\n",
                "\n",
                "-- issue of nulls\n",
                "SELECT AVG(budget) as [Avg. budget]\n",
                "FROM department\n",
                "WHERE budget IS NOT NULL;\n",
                "GO"
            ],
            "metadata": {
                "azdata_cell_guid": "244c6ad3-a1bd-4e7a-a820-b14bf2896b95"
            },
            "outputs": [
                {
                    "output_type": "display_data",
                    "data": {
                        "text/html": "(1 row affected)"
                    },
                    "metadata": {}
                },
                {
                    "output_type": "display_data",
                    "data": {
                        "text/html": "(1 row affected)"
                    },
                    "metadata": {}
                },
                {
                    "output_type": "display_data",
                    "data": {
                        "text/html": "Total execution time: 00:00:00.007"
                    },
                    "metadata": {}
                },
                {
                    "output_type": "execute_result",
                    "metadata": {
                        "resultSet": {
                            "id": 0,
                            "batchId": 0,
                            "rowCount": 1,
                            "complete": true,
                            "columnInfo": [
                                {
                                    "isBytes": false,
                                    "isChars": false,
                                    "isSqlVariant": false,
                                    "isUdt": false,
                                    "isXml": false,
                                    "isJson": false,
                                    "sqlDbType": 5,
                                    "isHierarchyId": false,
                                    "isSqlXmlType": false,
                                    "isUnknownType": false,
                                    "isUpdatable": false,
                                    "allowDBNull": true,
                                    "baseCatalogName": null,
                                    "baseColumnName": null,
                                    "baseSchemaName": null,
                                    "baseServerName": null,
                                    "baseTableName": null,
                                    "columnName": "Avg. budget",
                                    "columnOrdinal": 0,
                                    "columnSize": 17,
                                    "isAliased": null,
                                    "isAutoIncrement": false,
                                    "isExpression": null,
                                    "isHidden": null,
                                    "isIdentity": false,
                                    "isKey": null,
                                    "isLong": false,
                                    "isReadOnly": true,
                                    "isUnique": false,
                                    "numericPrecision": 38,
                                    "numericScale": 6,
                                    "udtAssemblyQualifiedName": null,
                                    "dataType": "System.Decimal, System.Private.CoreLib, Version=4.0.0.0, Culture=neutral, PublicKeyToken=7cec85d7bea7798e",
                                    "dataTypeName": "decimal"
                                }
                            ],
                            "specialAction": {
                                "none": true,
                                "expectYukonXMLShowPlan": false
                            }
                        }
                    },
                    "execution_count": 28,
                    "data": {
                        "application/vnd.dataresource+json": {
                            "schema": {
                                "fields": [
                                    {
                                        "name": "Avg. budget"
                                    }
                                ]
                            },
                            "data": [
                                {
                                    "0": "65000.000000"
                                }
                            ]
                        },
                        "text/html": [
                            "<table>",
                            "<tr><th>Avg. budget</th></tr>",
                            "<tr><td>65000.000000</td></tr>",
                            "</table>"
                        ]
                    }
                },
                {
                    "output_type": "execute_result",
                    "metadata": {
                        "resultSet": {
                            "id": 0,
                            "batchId": 1,
                            "rowCount": 1,
                            "complete": true,
                            "columnInfo": [
                                {
                                    "isBytes": false,
                                    "isChars": false,
                                    "isSqlVariant": false,
                                    "isUdt": false,
                                    "isXml": false,
                                    "isJson": false,
                                    "sqlDbType": 5,
                                    "isHierarchyId": false,
                                    "isSqlXmlType": false,
                                    "isUnknownType": false,
                                    "isUpdatable": false,
                                    "allowDBNull": true,
                                    "baseCatalogName": null,
                                    "baseColumnName": null,
                                    "baseSchemaName": null,
                                    "baseServerName": null,
                                    "baseTableName": null,
                                    "columnName": "Avg. budget",
                                    "columnOrdinal": 0,
                                    "columnSize": 17,
                                    "isAliased": null,
                                    "isAutoIncrement": false,
                                    "isExpression": null,
                                    "isHidden": null,
                                    "isIdentity": false,
                                    "isKey": null,
                                    "isLong": false,
                                    "isReadOnly": true,
                                    "isUnique": false,
                                    "numericPrecision": 38,
                                    "numericScale": 6,
                                    "udtAssemblyQualifiedName": null,
                                    "dataType": "System.Decimal, System.Private.CoreLib, Version=4.0.0.0, Culture=neutral, PublicKeyToken=7cec85d7bea7798e",
                                    "dataTypeName": "decimal"
                                }
                            ],
                            "specialAction": {
                                "none": true,
                                "expectYukonXMLShowPlan": false
                            }
                        }
                    },
                    "execution_count": 28,
                    "data": {
                        "application/vnd.dataresource+json": {
                            "schema": {
                                "fields": [
                                    {
                                        "name": "Avg. budget"
                                    }
                                ]
                            },
                            "data": [
                                {
                                    "0": "98750.000000"
                                }
                            ]
                        },
                        "text/html": [
                            "<table>",
                            "<tr><th>Avg. budget</th></tr>",
                            "<tr><td>98750.000000</td></tr>",
                            "</table>"
                        ]
                    }
                }
            ],
            "execution_count": 28
        },
        {
            "cell_type": "markdown",
            "source": [
                "In this case we also remove duplicates since we want to know how many buildings are in our university database."
            ],
            "metadata": {
                "azdata_cell_guid": "5c9d5b1b-848d-4417-86ce-42128608ca81"
            }
        },
        {
            "cell_type": "code",
            "source": [
                "SELECT COUNT(\n",
                "    DISTINCT building\n",
                ") AS [number of buildings]\n",
                "FROM department;\n",
                "GO\n",
                "-- check\n",
                "SELECT DISTINCT building\n",
                "FROM department;\n",
                "GO"
            ],
            "metadata": {
                "azdata_cell_guid": "edf9f5e3-ef5c-4f0a-abf2-7f9a8b7fbb02"
            },
            "outputs": [
                {
                    "output_type": "display_data",
                    "data": {
                        "text/html": "(1 row affected)"
                    },
                    "metadata": {}
                },
                {
                    "output_type": "display_data",
                    "data": {
                        "text/html": "(4 rows affected)"
                    },
                    "metadata": {}
                },
                {
                    "output_type": "display_data",
                    "data": {
                        "text/html": "Total execution time: 00:00:00.008"
                    },
                    "metadata": {}
                },
                {
                    "output_type": "execute_result",
                    "metadata": {
                        "resultSet": {
                            "id": 0,
                            "batchId": 0,
                            "rowCount": 1,
                            "complete": true,
                            "columnInfo": [
                                {
                                    "isBytes": false,
                                    "isChars": false,
                                    "isSqlVariant": false,
                                    "isUdt": false,
                                    "isXml": false,
                                    "isJson": false,
                                    "sqlDbType": 8,
                                    "isHierarchyId": false,
                                    "isSqlXmlType": false,
                                    "isUnknownType": false,
                                    "isUpdatable": false,
                                    "allowDBNull": true,
                                    "baseCatalogName": null,
                                    "baseColumnName": null,
                                    "baseSchemaName": null,
                                    "baseServerName": null,
                                    "baseTableName": null,
                                    "columnName": "number of buildings",
                                    "columnOrdinal": 0,
                                    "columnSize": 4,
                                    "isAliased": null,
                                    "isAutoIncrement": false,
                                    "isExpression": null,
                                    "isHidden": null,
                                    "isIdentity": false,
                                    "isKey": null,
                                    "isLong": false,
                                    "isReadOnly": true,
                                    "isUnique": false,
                                    "numericPrecision": 10,
                                    "numericScale": 255,
                                    "udtAssemblyQualifiedName": null,
                                    "dataType": "System.Int32, System.Private.CoreLib, Version=4.0.0.0, Culture=neutral, PublicKeyToken=7cec85d7bea7798e",
                                    "dataTypeName": "int"
                                }
                            ],
                            "specialAction": {
                                "none": true,
                                "expectYukonXMLShowPlan": false
                            }
                        }
                    },
                    "execution_count": 29,
                    "data": {
                        "application/vnd.dataresource+json": {
                            "schema": {
                                "fields": [
                                    {
                                        "name": "number of buildings"
                                    }
                                ]
                            },
                            "data": [
                                {
                                    "0": "4"
                                }
                            ]
                        },
                        "text/html": [
                            "<table>",
                            "<tr><th>number of buildings</th></tr>",
                            "<tr><td>4</td></tr>",
                            "</table>"
                        ]
                    }
                },
                {
                    "output_type": "execute_result",
                    "metadata": {
                        "resultSet": {
                            "id": 0,
                            "batchId": 1,
                            "rowCount": 4,
                            "complete": true,
                            "columnInfo": [
                                {
                                    "isBytes": false,
                                    "isChars": true,
                                    "isSqlVariant": false,
                                    "isUdt": false,
                                    "isXml": false,
                                    "isJson": false,
                                    "sqlDbType": 22,
                                    "isHierarchyId": false,
                                    "isSqlXmlType": false,
                                    "isUnknownType": false,
                                    "isUpdatable": true,
                                    "allowDBNull": true,
                                    "baseCatalogName": null,
                                    "baseColumnName": null,
                                    "baseSchemaName": null,
                                    "baseServerName": null,
                                    "baseTableName": null,
                                    "columnName": "building",
                                    "columnOrdinal": 0,
                                    "columnSize": 15,
                                    "isAliased": null,
                                    "isAutoIncrement": false,
                                    "isExpression": null,
                                    "isHidden": null,
                                    "isIdentity": false,
                                    "isKey": null,
                                    "isLong": false,
                                    "isReadOnly": false,
                                    "isUnique": false,
                                    "numericPrecision": 255,
                                    "numericScale": 255,
                                    "udtAssemblyQualifiedName": null,
                                    "dataType": "System.String, System.Private.CoreLib, Version=4.0.0.0, Culture=neutral, PublicKeyToken=7cec85d7bea7798e",
                                    "dataTypeName": "varchar"
                                }
                            ],
                            "specialAction": {
                                "none": true,
                                "expectYukonXMLShowPlan": false
                            }
                        }
                    },
                    "execution_count": 29,
                    "data": {
                        "application/vnd.dataresource+json": {
                            "schema": {
                                "fields": [
                                    {
                                        "name": "building"
                                    }
                                ]
                            },
                            "data": [
                                {
                                    "0": "Painter"
                                },
                                {
                                    "0": "Sottomayor"
                                },
                                {
                                    "0": "Taylor"
                                },
                                {
                                    "0": "Watson"
                                }
                            ]
                        },
                        "text/html": [
                            "<table>",
                            "<tr><th>building</th></tr>",
                            "<tr><td>Painter</td></tr>",
                            "<tr><td>Sottomayor</td></tr>",
                            "<tr><td>Taylor</td></tr>",
                            "<tr><td>Watson</td></tr>",
                            "</table>"
                        ]
                    }
                }
            ],
            "execution_count": 29
        },
        {
            "cell_type": "markdown",
            "source": [
                "1. Quite useful to know, it is ilegal to count the number of distinct rows in the following way. However, we can just count them as a whole."
            ],
            "metadata": {
                "azdata_cell_guid": "8295f2fe-b7df-4827-8f42-17fcd15c7768"
            }
        },
        {
            "cell_type": "code",
            "source": [
                "\n",
                "-- this is fine\n",
                "SELECT COUNT (*) as [Row count]\n",
                "FROM department;\n",
                "GO\n",
                ""
            ],
            "metadata": {
                "azdata_cell_guid": "71eb8dd4-825b-499d-8719-47acd839b262"
            },
            "outputs": [
                {
                    "output_type": "display_data",
                    "data": {
                        "text/html": "(1 row affected)"
                    },
                    "metadata": {}
                },
                {
                    "output_type": "display_data",
                    "data": {
                        "text/html": "Total execution time: 00:00:00.003"
                    },
                    "metadata": {}
                },
                {
                    "output_type": "execute_result",
                    "metadata": {
                        "resultSet": {
                            "id": 0,
                            "batchId": 0,
                            "rowCount": 1,
                            "complete": true,
                            "columnInfo": [
                                {
                                    "isBytes": false,
                                    "isChars": false,
                                    "isSqlVariant": false,
                                    "isUdt": false,
                                    "isXml": false,
                                    "isJson": false,
                                    "sqlDbType": 8,
                                    "isHierarchyId": false,
                                    "isSqlXmlType": false,
                                    "isUnknownType": false,
                                    "isUpdatable": false,
                                    "allowDBNull": true,
                                    "baseCatalogName": null,
                                    "baseColumnName": null,
                                    "baseSchemaName": null,
                                    "baseServerName": null,
                                    "baseTableName": null,
                                    "columnName": "Row count",
                                    "columnOrdinal": 0,
                                    "columnSize": 4,
                                    "isAliased": null,
                                    "isAutoIncrement": false,
                                    "isExpression": null,
                                    "isHidden": null,
                                    "isIdentity": false,
                                    "isKey": null,
                                    "isLong": false,
                                    "isReadOnly": true,
                                    "isUnique": false,
                                    "numericPrecision": 10,
                                    "numericScale": 255,
                                    "udtAssemblyQualifiedName": null,
                                    "dataType": "System.Int32, System.Private.CoreLib, Version=4.0.0.0, Culture=neutral, PublicKeyToken=7cec85d7bea7798e",
                                    "dataTypeName": "int"
                                }
                            ],
                            "specialAction": {
                                "none": true,
                                "expectYukonXMLShowPlan": false
                            }
                        }
                    },
                    "execution_count": 30,
                    "data": {
                        "application/vnd.dataresource+json": {
                            "schema": {
                                "fields": [
                                    {
                                        "name": "Row count"
                                    }
                                ]
                            },
                            "data": [
                                {
                                    "0": "5"
                                }
                            ]
                        },
                        "text/html": [
                            "<table>",
                            "<tr><th>Row count</th></tr>",
                            "<tr><td>5</td></tr>",
                            "</table>"
                        ]
                    }
                }
            ],
            "execution_count": 30
        },
        {
            "cell_type": "markdown",
            "source": [
                "### Aggregation by groups\n",
                "\n",
                "There are circumstances where we would like to apply the aggregate function not only to a single set of tuples, but also to a group of sets of tuples. For this it is useful to get a larger database, so I am re-creating the uni data base [using the followign scripts](https://www.db-book.com/db7/university-lab-dir/sample_tables-dir/index.html)"
            ],
            "metadata": {
                "azdata_cell_guid": "7a25eb88-cf50-48d4-9f0c-530941845023"
            }
        },
        {
            "cell_type": "code",
            "source": [
                "USE master;\n",
                "GO\n",
                "\n",
                "-- dump the database\n",
                "IF EXISTS (SELECT name FROM sys.databases WHERE name = 'uni')\n",
                "    BEGIN\n",
                "        DROP DATABASE uni\n",
                "    END;\n",
                "    GO\n",
                "\n",
                "-- check\n",
                "SELECT name FROM sys.databases;\n",
                "GO\n",
                "\n",
                "-- re-create the database\n",
                "CREATE DATABASE uni;\n",
                "GO\n",
                "USE uni;\n",
                "GO\n",
                "-- create tables\n",
                "create table classroom\n",
                "\t(building\t\tvarchar(15),\n",
                "\t room_number\t\tvarchar(7),\n",
                "\t capacity\t\tnumeric(4,0),\n",
                "\t primary key (building, room_number)\n",
                "\t);\n",
                "\n",
                "create table department\n",
                "\t(dept_name\t\tvarchar(20), \n",
                "\t building\t\tvarchar(15), \n",
                "\t budget\t\t        numeric(12,2) check (budget > 0),\n",
                "\t primary key (dept_name)\n",
                "\t);\n",
                "\n",
                "create table course\n",
                "\t(course_id\t\tvarchar(8), \n",
                "\t title\t\t\tvarchar(50), \n",
                "\t dept_name\t\tvarchar(20),\n",
                "\t credits\t\tnumeric(2,0) check (credits > 0),\n",
                "\t primary key (course_id),\n",
                "\t foreign key (dept_name) references department (dept_name)\n",
                "\t\ton delete set null\n",
                "\t);\n",
                "\n",
                "create table instructor\n",
                "\t(ID\t\t\tvarchar(5), \n",
                "\t name\t\t\tvarchar(20) not null, \n",
                "\t dept_name\t\tvarchar(20), \n",
                "\t salary\t\t\tnumeric(8,2) check (salary > 29000),\n",
                "\t primary key (ID),\n",
                "\t foreign key (dept_name) references department (dept_name)\n",
                "\t\ton delete set null\n",
                "\t);\n",
                "\n",
                "create table section\n",
                "\t(course_id\t\tvarchar(8), \n",
                "         sec_id\t\t\tvarchar(8),\n",
                "\t semester\t\tvarchar(6)\n",
                "\t\tcheck (semester in ('Fall', 'Winter', 'Spring', 'Summer')), \n",
                "\t year\t\t\tnumeric(4,0) check (year > 1701 and year < 2100), \n",
                "\t building\t\tvarchar(15),\n",
                "\t room_number\t\tvarchar(7),\n",
                "\t time_slot_id\t\tvarchar(4),\n",
                "\t primary key (course_id, sec_id, semester, year),\n",
                "\t foreign key (course_id) references course (course_id)\n",
                "\t\ton delete cascade,\n",
                "\t foreign key (building, room_number) references classroom (building, room_number)\n",
                "\t\ton delete set null\n",
                "\t);\n",
                "\n",
                "create table teaches\n",
                "\t(ID\t\t\tvarchar(5), \n",
                "\t course_id\t\tvarchar(8),\n",
                "\t sec_id\t\t\tvarchar(8), \n",
                "\t semester\t\tvarchar(6),\n",
                "\t year\t\t\tnumeric(4,0),\n",
                "\t primary key (ID, course_id, sec_id, semester, year),\n",
                "\t foreign key (course_id, sec_id, semester, year) references section (course_id, sec_id, semester, year)\n",
                "\t\ton delete cascade,\n",
                "\t foreign key (ID) references instructor (ID)\n",
                "\t\ton delete cascade\n",
                "\t);\n",
                "\n",
                "create table student\n",
                "\t(ID\t\t\tvarchar(5), \n",
                "\t name\t\t\tvarchar(20) not null, \n",
                "\t dept_name\t\tvarchar(20), \n",
                "\t tot_cred\t\tnumeric(3,0) check (tot_cred >= 0),\n",
                "\t primary key (ID),\n",
                "\t foreign key (dept_name) references department (dept_name)\n",
                "\t\ton delete set null\n",
                "\t);\n",
                "\n",
                "create table takes\n",
                "\t(ID\t\t\tvarchar(5), \n",
                "\t course_id\t\tvarchar(8),\n",
                "\t sec_id\t\t\tvarchar(8), \n",
                "\t semester\t\tvarchar(6),\n",
                "\t year\t\t\tnumeric(4,0),\n",
                "\t grade\t\t        varchar(2),\n",
                "\t primary key (ID, course_id, sec_id, semester, year),\n",
                "\t foreign key (course_id, sec_id, semester, year) references section (course_id, sec_id, semester, year)\n",
                "\t\ton delete cascade,\n",
                "\t foreign key (ID) references student (ID)\n",
                "\t\ton delete cascade\n",
                "\t);\n",
                "\n",
                "create table advisor\n",
                "\t(s_ID\t\t\tvarchar(5),\n",
                "\t i_ID\t\t\tvarchar(5),\n",
                "\t primary key (s_ID),\n",
                "\t foreign key (i_ID) references instructor (ID)\n",
                "\t\ton delete set null,\n",
                "\t foreign key (s_ID) references student (ID)\n",
                "\t\ton delete cascade\n",
                "\t);\n",
                "\n",
                "create table time_slot\n",
                "\t(time_slot_id\t\tvarchar(4),\n",
                "\t day\t\t\tvarchar(1),\n",
                "\t start_hr\t\tnumeric(2) check (start_hr >= 0 and start_hr < 24),\n",
                "\t start_min\t\tnumeric(2) check (start_min >= 0 and start_min < 60),\n",
                "\t end_hr\t\t\tnumeric(2) check (end_hr >= 0 and end_hr < 24),\n",
                "\t end_min\t\tnumeric(2) check (end_min >= 0 and end_min < 60),\n",
                "\t primary key (time_slot_id, day, start_hr, start_min)\n",
                "\t);\n",
                "\n",
                "create table prereq\n",
                "\t(course_id\t\tvarchar(8), \n",
                "\t prereq_id\t\tvarchar(8),\n",
                "\t primary key (course_id, prereq_id),\n",
                "\t foreign key (course_id) references course (course_id)\n",
                "\t\ton delete cascade,\n",
                "\t foreign key (prereq_id) references course (course_id)\n",
                "\t);\n",
                "\n",
                "-- add data\n",
                "insert into time_slot values ( 'A', 'M', 8, 0, 8, 50);\n",
                "insert into time_slot values ( 'A', 'W', 8, 0, 8, 50);\n",
                "insert into time_slot values ( 'A', 'F', 8, 0, 8, 50);\n",
                "insert into time_slot values ( 'B', 'M', 9, 0, 9, 50);\n",
                "insert into time_slot values ( 'B', 'W', 9, 0, 9, 50);\n",
                "insert into time_slot values ( 'B', 'F', 9, 0, 9, 50);\n",
                "insert into time_slot values ( 'C', 'M', 11, 0, 11, 50);\n",
                "insert into time_slot values ( 'C', 'W', 11, 0, 11, 50);\n",
                "insert into time_slot values ( 'C', 'F', 11, 0, 11, 50);\n",
                "insert into time_slot values ( 'D', 'M', 13, 0, 13, 50);\n",
                "insert into time_slot values ( 'D', 'W', 13, 0, 13, 50);\n",
                "insert into time_slot values ( 'D', 'F', 13, 0, 13, 50);\n",
                "insert into time_slot values ( 'E', 'T', 10, 30, 11, 45);\n",
                "insert into time_slot values ( 'E', 'R', 10, 30, 11, 45);\n",
                "insert into time_slot values ( 'F', 'T', 14, 30, 15, 45);\n",
                "insert into time_slot values ( 'F', 'R', 14, 30, 15, 45);\n",
                "insert into time_slot values ( 'G', 'M', 16, 0, 16, 50);\n",
                "insert into time_slot values ( 'G', 'W', 16, 0, 16, 50);\n",
                "insert into time_slot values ( 'G', 'F', 16, 0, 16, 50);\n",
                "insert into time_slot values ( 'H', 'W', 10, 0, 12, 30);\n",
                "insert into classroom values('Lamberton', 134, 10);\n",
                "insert into classroom values('Chandler', 375, 10);\n",
                "insert into classroom values('Fairchild', 145, 27);\n",
                "insert into classroom values('Nassau', 45, 92);\n",
                "insert into classroom values('Grace', 40, 34);\n",
                "insert into classroom values('Whitman', 134, 120);\n",
                "insert into classroom values('Lamberton', 143, 10);\n",
                "insert into classroom values('Taylor', 812, 115);\n",
                "insert into classroom values('Saucon', 113, 109);\n",
                "insert into classroom values('Painter', 86, 97);\n",
                "insert into classroom values('Alumni', 547, 26);\n",
                "insert into classroom values('Alumni', 143, 47);\n",
                "insert into classroom values('Drown', 757, 18);\n",
                "insert into classroom values('Saucon', 180, 15);\n",
                "insert into classroom values('Whitman', 434, 32);\n",
                "insert into classroom values('Saucon', 844, 24);\n",
                "insert into classroom values('Bronfman', 700, 12);\n",
                "insert into classroom values('Polya', 808, 28);\n",
                "insert into classroom values('Gates', 707, 65);\n",
                "insert into classroom values('Gates', 314, 10);\n",
                "insert into classroom values('Main', 45, 30);\n",
                "insert into classroom values('Taylor', 183, 71);\n",
                "insert into classroom values('Power', 972, 10);\n",
                "insert into classroom values('Garfield', 119, 59);\n",
                "insert into classroom values('Rathbone', 261, 60);\n",
                "insert into classroom values('Stabler', 105, 113);\n",
                "insert into classroom values('Power', 717, 12);\n",
                "insert into classroom values('Main', 425, 22);\n",
                "insert into classroom values('Lambeau', 348, 51);\n",
                "insert into classroom values('Chandler', 804, 11);\n",
                "insert into department values('Civil Eng.', 'Chandler', 255041.46);\n",
                "insert into department values('Biology', 'Candlestick', 647610.55);\n",
                "insert into department values('History', 'Taylor', 699140.86);\n",
                "insert into department values('Physics', 'Wrigley', 942162.76);\n",
                "insert into department values('Marketing', 'Lambeau', 210627.58);\n",
                "insert into department values('Pol. Sci.', 'Whitman', 573745.09);\n",
                "insert into department values('English', 'Palmer', 611042.66);\n",
                "insert into department values('Accounting', 'Saucon', 441840.92);\n",
                "insert into department values('Comp. Sci.', 'Lamberton', 106378.69);\n",
                "insert into department values('Languages', 'Linderman', 601283.60);\n",
                "insert into department values('Finance', 'Candlestick', 866831.75);\n",
                "insert into department values('Geology', 'Palmer', 406557.93);\n",
                "insert into department values('Cybernetics', 'Mercer', 794541.46);\n",
                "insert into department values('Astronomy', 'Taylor', 617253.94);\n",
                "insert into department values('Athletics', 'Bronfman', 734550.70);\n",
                "insert into department values('Statistics', 'Taylor', 395051.74);\n",
                "insert into department values('Psychology', 'Thompson', 848175.04);\n",
                "insert into department values('Math', 'Brodhead', 777605.11);\n",
                "insert into department values('Elec. Eng.', 'Main', 276527.61);\n",
                "insert into department values('Mech. Eng.', 'Rauch', 520350.65);\n",
                "insert into course values('787', 'C  Programming', 'Mech. Eng.', 4);\n",
                "insert into course values('238', 'The Music of Donovan', 'Mech. Eng.', 3);\n",
                "insert into course values('608', 'Electron Microscopy', 'Mech. Eng.', 3);\n",
                "insert into course values('539', 'International Finance', 'Comp. Sci.', 3);\n",
                "insert into course values('278', 'Greek Tragedy', 'Statistics', 4);\n",
                "insert into course values('972', 'Greek Tragedy', 'Psychology', 4);\n",
                "insert into course values('391', 'Virology', 'Biology', 3);\n",
                "insert into course values('814', 'Compiler Design', 'Elec. Eng.', 3);\n",
                "insert into course values('272', 'Geology', 'Mech. Eng.', 3);\n",
                "insert into course values('612', 'Mobile Computing', 'Physics', 3);\n",
                "insert into course values('237', 'Surfing', 'Cybernetics', 3);\n",
                "insert into course values('313', 'International Trade', 'Marketing', 3);\n",
                "insert into course values('887', 'Latin', 'Mech. Eng.', 3);\n",
                "insert into course values('328', 'Composition and Literature', 'Cybernetics', 3);\n",
                "insert into course values('984', 'Music of the 50s', 'History', 3);\n",
                "insert into course values('241', 'Biostatistics', 'Geology', 3);\n",
                "insert into course values('338', 'Graph Theory', 'Psychology', 3);\n",
                "insert into course values('400', 'Visual BASIC', 'Psychology', 4);\n",
                "insert into course values('760', 'How to Groom your Cat', 'Accounting', 3);\n",
                "insert into course values('629', 'Finite Element Analysis', 'Cybernetics', 3);\n",
                "insert into course values('762', 'The Monkeys', 'History', 4);\n",
                "insert into course values('242', 'Rock and Roll', 'Marketing', 3);\n",
                "insert into course values('482', 'FOCAL Programming', 'Psychology', 4);\n",
                "insert into course values('581', 'Calculus', 'Pol. Sci.', 4);\n",
                "insert into course values('843', 'Environmental Law', 'Math', 4);\n",
                "insert into course values('679', 'The Beatles', 'Math', 3);\n",
                "insert into course values('704', 'Marine Mammals', 'Geology', 4);\n",
                "insert into course values('774', 'Game Programming', 'Cybernetics', 4);\n",
                "insert into course values('591', 'Shakespeare', 'Pol. Sci.', 4);\n",
                "insert into course values('319', 'World History', 'Finance', 4);\n",
                "insert into course values('960', 'Tort Law', 'Civil Eng.', 3);\n",
                "insert into course values('274', 'Corporate Law', 'Comp. Sci.', 4);\n",
                "insert into course values('426', 'Video Gaming', 'Finance', 3);\n",
                "insert into course values('852', 'World History', 'Athletics', 4);\n",
                "insert into course values('408', 'Bankruptcy', 'Accounting', 3);\n",
                "insert into course values('808', 'Organic Chemistry', 'English', 4);\n",
                "insert into course values('902', 'Existentialism', 'Finance', 3);\n",
                "insert into course values('730', 'Quantum Mechanics', 'Elec. Eng.', 4);\n",
                "insert into course values('362', 'Embedded Systems', 'Finance', 4);\n",
                "insert into course values('341', 'Quantum Mechanics', 'Cybernetics', 3);\n",
                "insert into course values('582', 'Marine Mammals', 'Cybernetics', 3);\n",
                "insert into course values('867', 'The IBM 360 Architecture', 'History', 3);\n",
                "insert into course values('169', 'Marine Mammals', 'Elec. Eng.', 3);\n",
                "insert into course values('680', 'Electricity and Magnetism', 'Civil Eng.', 3);\n",
                "insert into course values('227', 'Elastic Structures', 'Languages', 4);\n",
                "insert into course values('991', 'Transaction Processing', 'Psychology', 3);\n",
                "insert into course values('366', 'Computational Biology', 'English', 3);\n",
                "insert into course values('376', 'Cost Accounting', 'Physics', 4);\n",
                "insert into course values('489', 'Journalism', 'Astronomy', 4);\n",
                "insert into course values('663', 'Geology', 'Psychology', 3);\n",
                "insert into course values('461', 'Physical Chemistry', 'Math', 3);\n",
                "insert into course values('105', 'Image Processing', 'Astronomy', 3);\n",
                "insert into course values('407', 'Industrial Organization', 'Languages', 4);\n",
                "insert into course values('254', 'Security', 'Cybernetics', 3);\n",
                "insert into course values('998', 'Immunology', 'Civil Eng.', 4);\n",
                "insert into course values('457', 'Systems Software', 'History', 3);\n",
                "insert into course values('401', 'Sanitary Engineering', 'Athletics', 4);\n",
                "insert into course values('127', 'Thermodynamics', 'Geology', 3);\n",
                "insert into course values('399', 'RPG Programming', 'Pol. Sci.', 4);\n",
                "insert into course values('949', 'Japanese', 'Comp. Sci.', 3);\n",
                "insert into course values('496', 'Aquatic Chemistry', 'Cybernetics', 3);\n",
                "insert into course values('334', 'International Trade', 'Athletics', 3);\n",
                "insert into course values('544', 'Differential Geometry', 'Statistics', 3);\n",
                "insert into course values('451', 'Database System Concepts', 'Pol. Sci.', 4);\n",
                "insert into course values('190', 'Romantic Literature', 'Civil Eng.', 3);\n",
                "insert into course values('630', 'Religion', 'English', 3);\n",
                "insert into course values('761', 'Existentialism', 'Athletics', 3);\n",
                "insert into course values('804', 'Introduction to Burglary', 'Cybernetics', 4);\n",
                "insert into course values('781', 'Compiler Design', 'Finance', 4);\n",
                "insert into course values('805', 'Composition and Literature', 'Statistics', 4);\n",
                "insert into course values('318', 'Geology', 'Cybernetics', 3);\n",
                "insert into course values('353', 'Operating Systems', 'Psychology', 3);\n",
                "insert into course values('394', 'C  Programming', 'Athletics', 3);\n",
                "insert into course values('137', 'Manufacturing', 'Finance', 3);\n",
                "insert into course values('192', 'Drama', 'Languages', 4);\n",
                "insert into course values('681', 'Medieval Civilization or Lack Thereof', 'English', 3);\n",
                "insert into course values('377', 'Differential Geometry', 'Astronomy', 4);\n",
                "insert into course values('959', 'Bacteriology', 'Physics', 4);\n",
                "insert into course values('235', 'International Trade', 'Math', 3);\n",
                "insert into course values('421', 'Aquatic Chemistry', 'Athletics', 4);\n",
                "insert into course values('647', 'Service-Oriented Architectures', 'Comp. Sci.', 4);\n",
                "insert into course values('598', 'Number Theory', 'Accounting', 4);\n",
                "insert into course values('858', 'Sailing', 'Math', 4);\n",
                "insert into course values('487', 'Physical Chemistry', 'History', 3);\n",
                "insert into course values('133', 'Antidisestablishmentarianism in Modern America', 'Biology', 4);\n",
                "insert into course values('267', 'Hydraulics', 'Physics', 4);\n",
                "insert into course values('200', 'The Music of the Ramones', 'Accounting', 4);\n",
                "insert into course values('664', 'Elastic Structures', 'English', 3);\n",
                "insert into course values('599', 'Mechanics', 'Psychology', 4);\n",
                "insert into course values('456', 'Hebrew', 'Civil Eng.', 3);\n",
                "insert into course values('558', 'Environmental Law', 'Psychology', 3);\n",
                "insert into course values('919', 'Computability Theory', 'Math', 3);\n",
                "insert into course values('546', 'Creative Writing', 'Mech. Eng.', 4);\n",
                "insert into course values('969', 'The Monkeys', 'Astronomy', 4);\n",
                "insert into course values('877', 'Composition and Literature', 'Biology', 4);\n",
                "insert into course values('337', 'Differential Geometry', 'Statistics', 3);\n",
                "insert into course values('983', 'Virology', 'Languages', 4);\n",
                "insert into course values('603', 'Care and Feeding of Cats', 'Statistics', 3);\n",
                "insert into course values('747', 'International Practicum', 'Comp. Sci.', 4);\n",
                "insert into course values('659', 'Geology', 'Math', 4);\n",
                "insert into course values('559', 'Martian History', 'Biology', 3);\n",
                "insert into course values('403', 'Immunology', 'Biology', 3);\n",
                "insert into course values('436', 'Stream Processing', 'Physics', 4);\n",
                "insert into course values('656', 'Groups and Rings', 'Civil Eng.', 4);\n",
                "insert into course values('731', 'The Music of Donovan', 'Physics', 4);\n",
                "insert into course values('820', 'Assembly Language Programming', 'Cybernetics', 3);\n",
                "insert into course values('898', 'Petroleum Engineering', 'Marketing', 4);\n",
                "insert into course values('545', 'International Practicum', 'History', 3);\n",
                "insert into course values('893', 'Systems Software', 'Cybernetics', 3);\n",
                "insert into course values('818', 'Environmental Law', 'Astronomy', 4);\n",
                "insert into course values('618', 'Thermodynamics', 'English', 4);\n",
                "insert into course values('416', 'Data Mining', 'Accounting', 3);\n",
                "insert into course values('716', 'Medieval Civilization or Lack Thereof', 'Languages', 4);\n",
                "insert into course values('130', 'Differential Geometry', 'Physics', 3);\n",
                "insert into course values('476', 'International Communication', 'Astronomy', 4);\n",
                "insert into course values('101', 'Diffusion and Phase Transformation', 'Mech. Eng.', 3);\n",
                "insert into course values('123', 'Differential Equations', 'Mech. Eng.', 3);\n",
                "insert into course values('209', 'International Trade', 'Cybernetics', 4);\n",
                "insert into course values('352', 'Compiler Design', 'Psychology', 4);\n",
                "insert into course values('393', 'Aerodynamics', 'Languages', 3);\n",
                "insert into course values('795', 'Death and Taxes', 'Marketing', 3);\n",
                "insert into course values('577', 'The Music of Dave Edmunds', 'Elec. Eng.', 3);\n",
                "insert into course values('584', 'Computability Theory', 'Comp. Sci.', 3);\n",
                "insert into course values('864', 'Heat Transfer', 'Geology', 3);\n",
                "insert into course values('594', 'Cognitive Psychology', 'Finance', 3);\n",
                "insert into course values('802', 'African History', 'Cybernetics', 3);\n",
                "insert into course values('692', 'Cat Herding', 'Athletics', 3);\n",
                "insert into course values('258', 'Colloid and Surface Chemistry', 'Math', 3);\n",
                "insert into course values('748', 'Tort Law', 'Cybernetics', 4);\n",
                "insert into course values('770', 'European History', 'Pol. Sci.', 3);\n",
                "insert into course values('340', 'Corporate Law', 'History', 3);\n",
                "insert into course values('158', 'Elastic Structures', 'Cybernetics', 3);\n",
                "insert into course values('276', 'Game Design', 'Comp. Sci.', 4);\n",
                "insert into course values('626', 'Multimedia Design', 'History', 4);\n",
                "insert into course values('696', 'Heat Transfer', 'Marketing', 4);\n",
                "insert into course values('239', 'The Music of the Ramones', 'Physics', 4);\n",
                "insert into course values('962', 'Animal Behavior', 'Psychology', 3);\n",
                "insert into course values('527', 'Graphics', 'Finance', 3);\n",
                "insert into course values('275', 'Romantic Literature', 'Languages', 3);\n",
                "insert into course values('549', 'Banking and Finance', 'Astronomy', 3);\n",
                "insert into course values('974', 'Astronautics', 'Accounting', 3);\n",
                "insert into course values('897', 'How to Succeed in Business Without Really Trying', 'Languages', 4);\n",
                "insert into course values('359', 'Game Programming', 'Comp. Sci.', 4);\n",
                "insert into course values('345', 'Race Car Driving', 'Accounting', 4);\n",
                "insert into course values('371', 'Milton', 'Finance', 3);\n",
                "insert into course values('284', 'Topology', 'Comp. Sci.', 4);\n",
                "insert into course values('642', 'Video Gaming', 'Psychology', 3);\n",
                "insert into course values('769', 'Logic', 'Elec. Eng.', 4);\n",
                "insert into course values('947', 'Real-Time Database Systems', 'Accounting', 3);\n",
                "insert into course values('265', 'Thermal Physics', 'Cybernetics', 4);\n",
                "insert into course values('927', 'Differential Geometry', 'Cybernetics', 4);\n",
                "insert into course values('694', 'Optics', 'Math', 3);\n",
                "insert into course values('580', 'The Music of Dave Edmunds', 'Physics', 4);\n",
                "insert into course values('324', 'Ponzi Schemes', 'Civil Eng.', 3);\n",
                "insert into course values('349', 'Networking', 'Finance', 4);\n",
                "insert into course values('392', 'Recursive Function Theory', 'Astronomy', 4);\n",
                "insert into course values('735', 'Greek Tragedy', 'Geology', 3);\n",
                "insert into course values('702', 'Arabic', 'Biology', 3);\n",
                "insert into course values('458', 'The Renaissance', 'Civil Eng.', 4);\n",
                "insert into course values('348', 'Compiler Design', 'Elec. Eng.', 3);\n",
                "insert into course values('500', 'Networking', 'Astronomy', 3);\n",
                "insert into course values('494', 'Automobile Mechanics', 'Pol. Sci.', 4);\n",
                "insert into course values('411', 'Music of the 80s', 'Mech. Eng.', 4);\n",
                "insert into course values('493', 'Music of the 50s', 'Geology', 3);\n",
                "insert into course values('396', 'C  Programming', 'Languages', 3);\n",
                "insert into course values('810', 'Mobile Computing', 'Geology', 3);\n",
                "insert into course values('631', 'Plasma Physics', 'Elec. Eng.', 4);\n",
                "insert into course values('486', 'Accounting', 'Geology', 3);\n",
                "insert into course values('963', 'Groups and Rings', 'Languages', 4);\n",
                "insert into course values('445', 'Biostatistics', 'Finance', 3);\n",
                "insert into course values('292', 'Electron Microscopy', 'English', 4);\n",
                "insert into course values('830', 'Sensor Networks', 'Astronomy', 4);\n",
                "insert into course values('604', 'UNIX System Programmming', 'Statistics', 4);\n",
                "insert into course values('857', 'UNIX System Programmming', 'Geology', 4);\n",
                "insert into course values('304', 'Music 2 New for your Instructor', 'Finance', 4);\n",
                "insert into course values('922', 'Microeconomics', 'Finance', 4);\n",
                "insert into course values('571', 'Plastics', 'Comp. Sci.', 4);\n",
                "insert into course values('628', 'Existentialism', 'Accounting', 3);\n",
                "insert into course values('841', 'Fractal Geometry', 'Mech. Eng.', 4);\n",
                "insert into course values('586', 'Image Processing', 'Finance', 4);\n",
                "insert into course values('139', 'Number Theory', 'English', 4);\n",
                "insert into course values('666', 'Multivariable Calculus', 'Accounting', 3);\n",
                "insert into course values('443', 'Journalism', 'Physics', 4);\n",
                "insert into course values('195', 'Numerical Methods', 'Geology', 4);\n",
                "insert into course values('634', 'Astronomy', 'Cybernetics', 4);\n",
                "insert into course values('224', 'International Finance', 'Athletics', 3);\n",
                "insert into course values('791', 'Operating Systems', 'Marketing', 3);\n",
                "insert into course values('875', 'Bioinformatics', 'Cybernetics', 3);\n",
                "insert into course values('958', 'Fiction Writing', 'Mech. Eng.', 3);\n",
                "insert into course values('415', 'Numerical Methods', 'Biology', 3);\n",
                "insert into course values('442', 'Strength of Materials', 'Athletics', 3);\n",
                "insert into course values('468', 'Fractal Geometry', 'Civil Eng.', 4);\n",
                "insert into course values('270', 'Music of the 90s', 'Math', 4);\n",
                "insert into course values('966', 'Sanitary Engineering', 'History', 3);\n",
                "insert into course values('793', 'Decison Support Systems', 'Civil Eng.', 3);\n",
                "insert into course values('236', 'Design and Analysis of Algorithms', 'Mech. Eng.', 3);\n",
                "insert into course values('792', 'Image Processing', 'Accounting', 3);\n",
                "insert into course values('561', 'The Music of Donovan', 'Elec. Eng.', 4);\n",
                "insert into course values('344', 'Quantum Mechanics', 'Accounting', 4);\n",
                "insert into course values('780', 'Geology', 'Psychology', 3);\n",
                "insert into instructor values('63395', 'McKinnon', 'Cybernetics', 94333.99);\n",
                "insert into instructor values('78699', 'Pingr', 'Statistics', 59303.62);\n",
                "insert into instructor values('96895', 'Mird', 'Marketing', 119921.41);\n",
                "insert into instructor values('4233', 'Luo', 'English', 88791.45);\n",
                "insert into instructor values('4034', 'Murata', 'Athletics', 61387.56);\n",
                "insert into instructor values('50885', 'Konstantinides', 'Languages', 32570.50);\n",
                "insert into instructor values('79653', 'Levine', 'Elec. Eng.', 89805.83);\n",
                "insert into instructor values('50330', 'Shuming', 'Physics', 108011.81);\n",
                "insert into instructor values('80759', 'Queiroz', 'Biology', 45538.32);\n",
                "insert into instructor values('73623', 'Sullivan', 'Elec. Eng.', 90038.09);\n",
                "insert into instructor values('97302', 'Bertolino', 'Mech. Eng.', 51647.57);\n",
                "insert into instructor values('57180', 'Hau', 'Accounting', 43966.29);\n",
                "insert into instructor values('74420', 'Voronina', 'Physics', 121141.99);\n",
                "insert into instructor values('35579', 'Soisalon-Soininen', 'Psychology', 62579.61);\n",
                "insert into instructor values('31955', 'Moreira', 'Accounting', 71351.42);\n",
                "insert into instructor values('37687', 'Arias', 'Statistics', 104563.38);\n",
                "insert into instructor values('6569', 'Mingoz', 'Finance', 105311.38);\n",
                "insert into instructor values('16807', 'Yazdi', 'Athletics', 98333.65);\n",
                "insert into instructor values('14365', 'Lembr', 'Accounting', 32241.56);\n",
                "insert into instructor values('90643', 'Choll', 'Statistics', 57807.09);\n",
                "insert into instructor values('81991', 'Valtchev', 'Biology', 77036.18);\n",
                "insert into instructor values('95030', 'Arinb', 'Statistics', 54805.11);\n",
                "insert into instructor values('15347', 'Bawa', 'Athletics', 72140.88);\n",
                "insert into instructor values('74426', 'Kenje', 'Marketing', 106554.73);\n",
                "insert into instructor values('42782', 'Vicentino', 'Elec. Eng.', 34272.67);\n",
                "insert into instructor values('58558', 'Dusserre', 'Marketing', 66143.25);\n",
                "insert into instructor values('63287', 'Jaekel', 'Athletics', 103146.87);\n",
                "insert into instructor values('59795', 'Desyl', 'Languages', 48803.38);\n",
                "insert into instructor values('22591', 'DAgostino', 'Psychology', 59706.49);\n",
                "insert into instructor values('48570', 'Sarkar', 'Pol. Sci.', 87549.80);\n",
                "insert into instructor values('79081', 'Ullman ', 'Accounting', 47307.10);\n",
                "insert into instructor values('52647', 'Bancilhon', 'Pol. Sci.', 87958.01);\n",
                "insert into instructor values('25946', 'Liley', 'Languages', 90891.69);\n",
                "insert into instructor values('36897', 'Morris', 'Marketing', 43770.36);\n",
                "insert into instructor values('72553', 'Yin', 'English', 46397.59);\n",
                "insert into instructor values('3199', 'Gustafsson', 'Elec. Eng.', 82534.37);\n",
                "insert into instructor values('34175', 'Bondi', 'Comp. Sci.', 115469.11);\n",
                "insert into instructor values('48507', 'Lent', 'Mech. Eng.', 107978.47);\n",
                "insert into instructor values('65931', 'Pimenta', 'Cybernetics', 79866.95);\n",
                "insert into instructor values('3335', 'Bourrier', 'Comp. Sci.', 80797.83);\n",
                "insert into instructor values('64871', 'Gutierrez', 'Statistics', 45310.53);\n",
                "insert into instructor values('95709', 'Sakurai', 'English', 118143.98);\n",
                "insert into instructor values('43779', 'Romero', 'Astronomy', 79070.08);\n",
                "insert into instructor values('77346', 'Mahmoud', 'Geology', 99382.59);\n",
                "insert into instructor values('28097', 'Kean', 'English', 35023.18);\n",
                "insert into instructor values('90376', 'Bietzk', 'Cybernetics', 117836.50);\n",
                "insert into instructor values('28400', 'Atanassov', 'Statistics', 84982.92);\n",
                "insert into instructor values('41930', 'Tung', 'Athletics', 50482.03);\n",
                "insert into instructor values('19368', 'Wieland', 'Pol. Sci.', 124651.41);\n",
                "insert into instructor values('99052', 'Dale', 'Cybernetics', 93348.83);\n",
                "\n",
                "-- check\n",
                "SELECT TOP 10 * FROM course;\n",
                "GO\n",
                ""
            ],
            "metadata": {
                "azdata_cell_guid": "32f26441-1614-40b8-9f66-cfa1bf58d93c"
            },
            "outputs": [
                {
                    "output_type": "display_data",
                    "data": {
                        "text/html": "Commands completed successfully."
                    },
                    "metadata": {}
                },
                {
                    "output_type": "display_data",
                    "data": {
                        "text/html": "Commands completed successfully."
                    },
                    "metadata": {}
                },
                {
                    "output_type": "display_data",
                    "data": {
                        "text/html": "(6 rows affected)"
                    },
                    "metadata": {}
                },
                {
                    "output_type": "display_data",
                    "data": {
                        "text/html": "Commands completed successfully."
                    },
                    "metadata": {}
                },
                {
                    "output_type": "display_data",
                    "data": {
                        "text/html": "Commands completed successfully."
                    },
                    "metadata": {}
                },
                {
                    "output_type": "display_data",
                    "data": {
                        "text/html": "(1 row affected)"
                    },
                    "metadata": {}
                },
                {
                    "output_type": "display_data",
                    "data": {
                        "text/html": "(1 row affected)"
                    },
                    "metadata": {}
                },
                {
                    "output_type": "display_data",
                    "data": {
                        "text/html": "(1 row affected)"
                    },
                    "metadata": {}
                },
                {
                    "output_type": "display_data",
                    "data": {
                        "text/html": "(1 row affected)"
                    },
                    "metadata": {}
                },
                {
                    "output_type": "display_data",
                    "data": {
                        "text/html": "(1 row affected)"
                    },
                    "metadata": {}
                },
                {
                    "output_type": "display_data",
                    "data": {
                        "text/html": "(1 row affected)"
                    },
                    "metadata": {}
                },
                {
                    "output_type": "display_data",
                    "data": {
                        "text/html": "(1 row affected)"
                    },
                    "metadata": {}
                },
                {
                    "output_type": "display_data",
                    "data": {
                        "text/html": "(1 row affected)"
                    },
                    "metadata": {}
                },
                {
                    "output_type": "display_data",
                    "data": {
                        "text/html": "(1 row affected)"
                    },
                    "metadata": {}
                },
                {
                    "output_type": "display_data",
                    "data": {
                        "text/html": "(1 row affected)"
                    },
                    "metadata": {}
                },
                {
                    "output_type": "display_data",
                    "data": {
                        "text/html": "(1 row affected)"
                    },
                    "metadata": {}
                },
                {
                    "output_type": "display_data",
                    "data": {
                        "text/html": "(1 row affected)"
                    },
                    "metadata": {}
                },
                {
                    "output_type": "display_data",
                    "data": {
                        "text/html": "(1 row affected)"
                    },
                    "metadata": {}
                },
                {
                    "output_type": "display_data",
                    "data": {
                        "text/html": "(1 row affected)"
                    },
                    "metadata": {}
                },
                {
                    "output_type": "display_data",
                    "data": {
                        "text/html": "(1 row affected)"
                    },
                    "metadata": {}
                },
                {
                    "output_type": "display_data",
                    "data": {
                        "text/html": "(1 row affected)"
                    },
                    "metadata": {}
                },
                {
                    "output_type": "display_data",
                    "data": {
                        "text/html": "(1 row affected)"
                    },
                    "metadata": {}
                },
                {
                    "output_type": "display_data",
                    "data": {
                        "text/html": "(1 row affected)"
                    },
                    "metadata": {}
                },
                {
                    "output_type": "display_data",
                    "data": {
                        "text/html": "(1 row affected)"
                    },
                    "metadata": {}
                },
                {
                    "output_type": "display_data",
                    "data": {
                        "text/html": "(1 row affected)"
                    },
                    "metadata": {}
                },
                {
                    "output_type": "display_data",
                    "data": {
                        "text/html": "(1 row affected)"
                    },
                    "metadata": {}
                },
                {
                    "output_type": "display_data",
                    "data": {
                        "text/html": "(1 row affected)"
                    },
                    "metadata": {}
                },
                {
                    "output_type": "display_data",
                    "data": {
                        "text/html": "(1 row affected)"
                    },
                    "metadata": {}
                },
                {
                    "output_type": "display_data",
                    "data": {
                        "text/html": "(1 row affected)"
                    },
                    "metadata": {}
                },
                {
                    "output_type": "display_data",
                    "data": {
                        "text/html": "(1 row affected)"
                    },
                    "metadata": {}
                },
                {
                    "output_type": "display_data",
                    "data": {
                        "text/html": "(1 row affected)"
                    },
                    "metadata": {}
                },
                {
                    "output_type": "display_data",
                    "data": {
                        "text/html": "(1 row affected)"
                    },
                    "metadata": {}
                },
                {
                    "output_type": "display_data",
                    "data": {
                        "text/html": "(1 row affected)"
                    },
                    "metadata": {}
                },
                {
                    "output_type": "display_data",
                    "data": {
                        "text/html": "(1 row affected)"
                    },
                    "metadata": {}
                },
                {
                    "output_type": "display_data",
                    "data": {
                        "text/html": "(1 row affected)"
                    },
                    "metadata": {}
                },
                {
                    "output_type": "display_data",
                    "data": {
                        "text/html": "(1 row affected)"
                    },
                    "metadata": {}
                },
                {
                    "output_type": "display_data",
                    "data": {
                        "text/html": "(1 row affected)"
                    },
                    "metadata": {}
                },
                {
                    "output_type": "display_data",
                    "data": {
                        "text/html": "(1 row affected)"
                    },
                    "metadata": {}
                },
                {
                    "output_type": "display_data",
                    "data": {
                        "text/html": "(1 row affected)"
                    },
                    "metadata": {}
                },
                {
                    "output_type": "display_data",
                    "data": {
                        "text/html": "(1 row affected)"
                    },
                    "metadata": {}
                },
                {
                    "output_type": "display_data",
                    "data": {
                        "text/html": "(1 row affected)"
                    },
                    "metadata": {}
                },
                {
                    "output_type": "display_data",
                    "data": {
                        "text/html": "(1 row affected)"
                    },
                    "metadata": {}
                },
                {
                    "output_type": "display_data",
                    "data": {
                        "text/html": "(1 row affected)"
                    },
                    "metadata": {}
                },
                {
                    "output_type": "display_data",
                    "data": {
                        "text/html": "(1 row affected)"
                    },
                    "metadata": {}
                },
                {
                    "output_type": "display_data",
                    "data": {
                        "text/html": "(1 row affected)"
                    },
                    "metadata": {}
                },
                {
                    "output_type": "display_data",
                    "data": {
                        "text/html": "(1 row affected)"
                    },
                    "metadata": {}
                },
                {
                    "output_type": "display_data",
                    "data": {
                        "text/html": "(1 row affected)"
                    },
                    "metadata": {}
                },
                {
                    "output_type": "display_data",
                    "data": {
                        "text/html": "(1 row affected)"
                    },
                    "metadata": {}
                },
                {
                    "output_type": "display_data",
                    "data": {
                        "text/html": "(1 row affected)"
                    },
                    "metadata": {}
                },
                {
                    "output_type": "display_data",
                    "data": {
                        "text/html": "(1 row affected)"
                    },
                    "metadata": {}
                },
                {
                    "output_type": "display_data",
                    "data": {
                        "text/html": "(1 row affected)"
                    },
                    "metadata": {}
                },
                {
                    "output_type": "display_data",
                    "data": {
                        "text/html": "(1 row affected)"
                    },
                    "metadata": {}
                },
                {
                    "output_type": "display_data",
                    "data": {
                        "text/html": "(1 row affected)"
                    },
                    "metadata": {}
                },
                {
                    "output_type": "display_data",
                    "data": {
                        "text/html": "(1 row affected)"
                    },
                    "metadata": {}
                },
                {
                    "output_type": "display_data",
                    "data": {
                        "text/html": "(1 row affected)"
                    },
                    "metadata": {}
                },
                {
                    "output_type": "display_data",
                    "data": {
                        "text/html": "(1 row affected)"
                    },
                    "metadata": {}
                },
                {
                    "output_type": "display_data",
                    "data": {
                        "text/html": "(1 row affected)"
                    },
                    "metadata": {}
                },
                {
                    "output_type": "display_data",
                    "data": {
                        "text/html": "(1 row affected)"
                    },
                    "metadata": {}
                },
                {
                    "output_type": "display_data",
                    "data": {
                        "text/html": "(1 row affected)"
                    },
                    "metadata": {}
                },
                {
                    "output_type": "display_data",
                    "data": {
                        "text/html": "(1 row affected)"
                    },
                    "metadata": {}
                },
                {
                    "output_type": "display_data",
                    "data": {
                        "text/html": "(1 row affected)"
                    },
                    "metadata": {}
                },
                {
                    "output_type": "display_data",
                    "data": {
                        "text/html": "(1 row affected)"
                    },
                    "metadata": {}
                },
                {
                    "output_type": "display_data",
                    "data": {
                        "text/html": "(1 row affected)"
                    },
                    "metadata": {}
                },
                {
                    "output_type": "display_data",
                    "data": {
                        "text/html": "(1 row affected)"
                    },
                    "metadata": {}
                },
                {
                    "output_type": "display_data",
                    "data": {
                        "text/html": "(1 row affected)"
                    },
                    "metadata": {}
                },
                {
                    "output_type": "display_data",
                    "data": {
                        "text/html": "(1 row affected)"
                    },
                    "metadata": {}
                },
                {
                    "output_type": "display_data",
                    "data": {
                        "text/html": "(1 row affected)"
                    },
                    "metadata": {}
                },
                {
                    "output_type": "display_data",
                    "data": {
                        "text/html": "(1 row affected)"
                    },
                    "metadata": {}
                },
                {
                    "output_type": "display_data",
                    "data": {
                        "text/html": "(1 row affected)"
                    },
                    "metadata": {}
                },
                {
                    "output_type": "display_data",
                    "data": {
                        "text/html": "(1 row affected)"
                    },
                    "metadata": {}
                },
                {
                    "output_type": "display_data",
                    "data": {
                        "text/html": "(1 row affected)"
                    },
                    "metadata": {}
                },
                {
                    "output_type": "display_data",
                    "data": {
                        "text/html": "(1 row affected)"
                    },
                    "metadata": {}
                },
                {
                    "output_type": "display_data",
                    "data": {
                        "text/html": "(1 row affected)"
                    },
                    "metadata": {}
                },
                {
                    "output_type": "display_data",
                    "data": {
                        "text/html": "(1 row affected)"
                    },
                    "metadata": {}
                },
                {
                    "output_type": "display_data",
                    "data": {
                        "text/html": "(1 row affected)"
                    },
                    "metadata": {}
                },
                {
                    "output_type": "display_data",
                    "data": {
                        "text/html": "(1 row affected)"
                    },
                    "metadata": {}
                },
                {
                    "output_type": "display_data",
                    "data": {
                        "text/html": "(1 row affected)"
                    },
                    "metadata": {}
                },
                {
                    "output_type": "display_data",
                    "data": {
                        "text/html": "(1 row affected)"
                    },
                    "metadata": {}
                },
                {
                    "output_type": "display_data",
                    "data": {
                        "text/html": "(1 row affected)"
                    },
                    "metadata": {}
                },
                {
                    "output_type": "display_data",
                    "data": {
                        "text/html": "(1 row affected)"
                    },
                    "metadata": {}
                },
                {
                    "output_type": "display_data",
                    "data": {
                        "text/html": "(1 row affected)"
                    },
                    "metadata": {}
                },
                {
                    "output_type": "display_data",
                    "data": {
                        "text/html": "(1 row affected)"
                    },
                    "metadata": {}
                },
                {
                    "output_type": "display_data",
                    "data": {
                        "text/html": "(1 row affected)"
                    },
                    "metadata": {}
                },
                {
                    "output_type": "display_data",
                    "data": {
                        "text/html": "(1 row affected)"
                    },
                    "metadata": {}
                },
                {
                    "output_type": "display_data",
                    "data": {
                        "text/html": "(1 row affected)"
                    },
                    "metadata": {}
                },
                {
                    "output_type": "display_data",
                    "data": {
                        "text/html": "(1 row affected)"
                    },
                    "metadata": {}
                },
                {
                    "output_type": "display_data",
                    "data": {
                        "text/html": "(1 row affected)"
                    },
                    "metadata": {}
                },
                {
                    "output_type": "display_data",
                    "data": {
                        "text/html": "(1 row affected)"
                    },
                    "metadata": {}
                },
                {
                    "output_type": "display_data",
                    "data": {
                        "text/html": "(1 row affected)"
                    },
                    "metadata": {}
                },
                {
                    "output_type": "display_data",
                    "data": {
                        "text/html": "(1 row affected)"
                    },
                    "metadata": {}
                },
                {
                    "output_type": "display_data",
                    "data": {
                        "text/html": "(1 row affected)"
                    },
                    "metadata": {}
                },
                {
                    "output_type": "display_data",
                    "data": {
                        "text/html": "(1 row affected)"
                    },
                    "metadata": {}
                },
                {
                    "output_type": "display_data",
                    "data": {
                        "text/html": "(1 row affected)"
                    },
                    "metadata": {}
                },
                {
                    "output_type": "display_data",
                    "data": {
                        "text/html": "(1 row affected)"
                    },
                    "metadata": {}
                },
                {
                    "output_type": "display_data",
                    "data": {
                        "text/html": "(1 row affected)"
                    },
                    "metadata": {}
                },
                {
                    "output_type": "display_data",
                    "data": {
                        "text/html": "(1 row affected)"
                    },
                    "metadata": {}
                },
                {
                    "output_type": "display_data",
                    "data": {
                        "text/html": "(1 row affected)"
                    },
                    "metadata": {}
                },
                {
                    "output_type": "display_data",
                    "data": {
                        "text/html": "(1 row affected)"
                    },
                    "metadata": {}
                },
                {
                    "output_type": "display_data",
                    "data": {
                        "text/html": "(1 row affected)"
                    },
                    "metadata": {}
                },
                {
                    "output_type": "display_data",
                    "data": {
                        "text/html": "(1 row affected)"
                    },
                    "metadata": {}
                },
                {
                    "output_type": "display_data",
                    "data": {
                        "text/html": "(1 row affected)"
                    },
                    "metadata": {}
                },
                {
                    "output_type": "display_data",
                    "data": {
                        "text/html": "(1 row affected)"
                    },
                    "metadata": {}
                },
                {
                    "output_type": "display_data",
                    "data": {
                        "text/html": "(1 row affected)"
                    },
                    "metadata": {}
                },
                {
                    "output_type": "display_data",
                    "data": {
                        "text/html": "(1 row affected)"
                    },
                    "metadata": {}
                },
                {
                    "output_type": "display_data",
                    "data": {
                        "text/html": "(1 row affected)"
                    },
                    "metadata": {}
                },
                {
                    "output_type": "display_data",
                    "data": {
                        "text/html": "(1 row affected)"
                    },
                    "metadata": {}
                },
                {
                    "output_type": "display_data",
                    "data": {
                        "text/html": "(1 row affected)"
                    },
                    "metadata": {}
                },
                {
                    "output_type": "display_data",
                    "data": {
                        "text/html": "(1 row affected)"
                    },
                    "metadata": {}
                },
                {
                    "output_type": "display_data",
                    "data": {
                        "text/html": "(1 row affected)"
                    },
                    "metadata": {}
                },
                {
                    "output_type": "display_data",
                    "data": {
                        "text/html": "(1 row affected)"
                    },
                    "metadata": {}
                },
                {
                    "output_type": "display_data",
                    "data": {
                        "text/html": "(1 row affected)"
                    },
                    "metadata": {}
                },
                {
                    "output_type": "display_data",
                    "data": {
                        "text/html": "(1 row affected)"
                    },
                    "metadata": {}
                },
                {
                    "output_type": "display_data",
                    "data": {
                        "text/html": "(1 row affected)"
                    },
                    "metadata": {}
                },
                {
                    "output_type": "display_data",
                    "data": {
                        "text/html": "(1 row affected)"
                    },
                    "metadata": {}
                },
                {
                    "output_type": "display_data",
                    "data": {
                        "text/html": "(1 row affected)"
                    },
                    "metadata": {}
                },
                {
                    "output_type": "display_data",
                    "data": {
                        "text/html": "(1 row affected)"
                    },
                    "metadata": {}
                },
                {
                    "output_type": "display_data",
                    "data": {
                        "text/html": "(1 row affected)"
                    },
                    "metadata": {}
                },
                {
                    "output_type": "display_data",
                    "data": {
                        "text/html": "(1 row affected)"
                    },
                    "metadata": {}
                },
                {
                    "output_type": "display_data",
                    "data": {
                        "text/html": "(1 row affected)"
                    },
                    "metadata": {}
                },
                {
                    "output_type": "display_data",
                    "data": {
                        "text/html": "(1 row affected)"
                    },
                    "metadata": {}
                },
                {
                    "output_type": "display_data",
                    "data": {
                        "text/html": "(1 row affected)"
                    },
                    "metadata": {}
                },
                {
                    "output_type": "display_data",
                    "data": {
                        "text/html": "(1 row affected)"
                    },
                    "metadata": {}
                },
                {
                    "output_type": "display_data",
                    "data": {
                        "text/html": "(1 row affected)"
                    },
                    "metadata": {}
                },
                {
                    "output_type": "display_data",
                    "data": {
                        "text/html": "(1 row affected)"
                    },
                    "metadata": {}
                },
                {
                    "output_type": "display_data",
                    "data": {
                        "text/html": "(1 row affected)"
                    },
                    "metadata": {}
                },
                {
                    "output_type": "display_data",
                    "data": {
                        "text/html": "(1 row affected)"
                    },
                    "metadata": {}
                },
                {
                    "output_type": "display_data",
                    "data": {
                        "text/html": "(1 row affected)"
                    },
                    "metadata": {}
                },
                {
                    "output_type": "display_data",
                    "data": {
                        "text/html": "(1 row affected)"
                    },
                    "metadata": {}
                },
                {
                    "output_type": "display_data",
                    "data": {
                        "text/html": "(1 row affected)"
                    },
                    "metadata": {}
                },
                {
                    "output_type": "display_data",
                    "data": {
                        "text/html": "(1 row affected)"
                    },
                    "metadata": {}
                },
                {
                    "output_type": "display_data",
                    "data": {
                        "text/html": "(1 row affected)"
                    },
                    "metadata": {}
                },
                {
                    "output_type": "display_data",
                    "data": {
                        "text/html": "(1 row affected)"
                    },
                    "metadata": {}
                },
                {
                    "output_type": "display_data",
                    "data": {
                        "text/html": "(1 row affected)"
                    },
                    "metadata": {}
                },
                {
                    "output_type": "display_data",
                    "data": {
                        "text/html": "(1 row affected)"
                    },
                    "metadata": {}
                },
                {
                    "output_type": "display_data",
                    "data": {
                        "text/html": "(1 row affected)"
                    },
                    "metadata": {}
                },
                {
                    "output_type": "display_data",
                    "data": {
                        "text/html": "(1 row affected)"
                    },
                    "metadata": {}
                },
                {
                    "output_type": "display_data",
                    "data": {
                        "text/html": "(1 row affected)"
                    },
                    "metadata": {}
                },
                {
                    "output_type": "display_data",
                    "data": {
                        "text/html": "(1 row affected)"
                    },
                    "metadata": {}
                },
                {
                    "output_type": "display_data",
                    "data": {
                        "text/html": "(1 row affected)"
                    },
                    "metadata": {}
                },
                {
                    "output_type": "display_data",
                    "data": {
                        "text/html": "(1 row affected)"
                    },
                    "metadata": {}
                },
                {
                    "output_type": "display_data",
                    "data": {
                        "text/html": "(1 row affected)"
                    },
                    "metadata": {}
                },
                {
                    "output_type": "display_data",
                    "data": {
                        "text/html": "(1 row affected)"
                    },
                    "metadata": {}
                },
                {
                    "output_type": "display_data",
                    "data": {
                        "text/html": "(1 row affected)"
                    },
                    "metadata": {}
                },
                {
                    "output_type": "display_data",
                    "data": {
                        "text/html": "(1 row affected)"
                    },
                    "metadata": {}
                },
                {
                    "output_type": "display_data",
                    "data": {
                        "text/html": "(1 row affected)"
                    },
                    "metadata": {}
                },
                {
                    "output_type": "display_data",
                    "data": {
                        "text/html": "(1 row affected)"
                    },
                    "metadata": {}
                },
                {
                    "output_type": "display_data",
                    "data": {
                        "text/html": "(1 row affected)"
                    },
                    "metadata": {}
                },
                {
                    "output_type": "display_data",
                    "data": {
                        "text/html": "(1 row affected)"
                    },
                    "metadata": {}
                },
                {
                    "output_type": "display_data",
                    "data": {
                        "text/html": "(1 row affected)"
                    },
                    "metadata": {}
                },
                {
                    "output_type": "display_data",
                    "data": {
                        "text/html": "(1 row affected)"
                    },
                    "metadata": {}
                },
                {
                    "output_type": "display_data",
                    "data": {
                        "text/html": "(1 row affected)"
                    },
                    "metadata": {}
                },
                {
                    "output_type": "display_data",
                    "data": {
                        "text/html": "(1 row affected)"
                    },
                    "metadata": {}
                },
                {
                    "output_type": "display_data",
                    "data": {
                        "text/html": "(1 row affected)"
                    },
                    "metadata": {}
                },
                {
                    "output_type": "display_data",
                    "data": {
                        "text/html": "(1 row affected)"
                    },
                    "metadata": {}
                },
                {
                    "output_type": "display_data",
                    "data": {
                        "text/html": "(1 row affected)"
                    },
                    "metadata": {}
                },
                {
                    "output_type": "display_data",
                    "data": {
                        "text/html": "(1 row affected)"
                    },
                    "metadata": {}
                },
                {
                    "output_type": "display_data",
                    "data": {
                        "text/html": "(1 row affected)"
                    },
                    "metadata": {}
                },
                {
                    "output_type": "display_data",
                    "data": {
                        "text/html": "(1 row affected)"
                    },
                    "metadata": {}
                },
                {
                    "output_type": "display_data",
                    "data": {
                        "text/html": "(1 row affected)"
                    },
                    "metadata": {}
                },
                {
                    "output_type": "display_data",
                    "data": {
                        "text/html": "(1 row affected)"
                    },
                    "metadata": {}
                },
                {
                    "output_type": "display_data",
                    "data": {
                        "text/html": "(1 row affected)"
                    },
                    "metadata": {}
                },
                {
                    "output_type": "display_data",
                    "data": {
                        "text/html": "(1 row affected)"
                    },
                    "metadata": {}
                },
                {
                    "output_type": "display_data",
                    "data": {
                        "text/html": "(1 row affected)"
                    },
                    "metadata": {}
                },
                {
                    "output_type": "display_data",
                    "data": {
                        "text/html": "(1 row affected)"
                    },
                    "metadata": {}
                },
                {
                    "output_type": "display_data",
                    "data": {
                        "text/html": "(1 row affected)"
                    },
                    "metadata": {}
                },
                {
                    "output_type": "display_data",
                    "data": {
                        "text/html": "(1 row affected)"
                    },
                    "metadata": {}
                },
                {
                    "output_type": "display_data",
                    "data": {
                        "text/html": "(1 row affected)"
                    },
                    "metadata": {}
                },
                {
                    "output_type": "display_data",
                    "data": {
                        "text/html": "(1 row affected)"
                    },
                    "metadata": {}
                },
                {
                    "output_type": "display_data",
                    "data": {
                        "text/html": "(1 row affected)"
                    },
                    "metadata": {}
                },
                {
                    "output_type": "display_data",
                    "data": {
                        "text/html": "(1 row affected)"
                    },
                    "metadata": {}
                },
                {
                    "output_type": "display_data",
                    "data": {
                        "text/html": "(1 row affected)"
                    },
                    "metadata": {}
                },
                {
                    "output_type": "display_data",
                    "data": {
                        "text/html": "(1 row affected)"
                    },
                    "metadata": {}
                },
                {
                    "output_type": "display_data",
                    "data": {
                        "text/html": "(1 row affected)"
                    },
                    "metadata": {}
                },
                {
                    "output_type": "display_data",
                    "data": {
                        "text/html": "(1 row affected)"
                    },
                    "metadata": {}
                },
                {
                    "output_type": "display_data",
                    "data": {
                        "text/html": "(1 row affected)"
                    },
                    "metadata": {}
                },
                {
                    "output_type": "display_data",
                    "data": {
                        "text/html": "(1 row affected)"
                    },
                    "metadata": {}
                },
                {
                    "output_type": "display_data",
                    "data": {
                        "text/html": "(1 row affected)"
                    },
                    "metadata": {}
                },
                {
                    "output_type": "display_data",
                    "data": {
                        "text/html": "(1 row affected)"
                    },
                    "metadata": {}
                },
                {
                    "output_type": "display_data",
                    "data": {
                        "text/html": "(1 row affected)"
                    },
                    "metadata": {}
                },
                {
                    "output_type": "display_data",
                    "data": {
                        "text/html": "(1 row affected)"
                    },
                    "metadata": {}
                },
                {
                    "output_type": "display_data",
                    "data": {
                        "text/html": "(1 row affected)"
                    },
                    "metadata": {}
                },
                {
                    "output_type": "display_data",
                    "data": {
                        "text/html": "(1 row affected)"
                    },
                    "metadata": {}
                },
                {
                    "output_type": "display_data",
                    "data": {
                        "text/html": "(1 row affected)"
                    },
                    "metadata": {}
                },
                {
                    "output_type": "display_data",
                    "data": {
                        "text/html": "(1 row affected)"
                    },
                    "metadata": {}
                },
                {
                    "output_type": "display_data",
                    "data": {
                        "text/html": "(1 row affected)"
                    },
                    "metadata": {}
                },
                {
                    "output_type": "display_data",
                    "data": {
                        "text/html": "(1 row affected)"
                    },
                    "metadata": {}
                },
                {
                    "output_type": "display_data",
                    "data": {
                        "text/html": "(1 row affected)"
                    },
                    "metadata": {}
                },
                {
                    "output_type": "display_data",
                    "data": {
                        "text/html": "(1 row affected)"
                    },
                    "metadata": {}
                },
                {
                    "output_type": "display_data",
                    "data": {
                        "text/html": "(1 row affected)"
                    },
                    "metadata": {}
                },
                {
                    "output_type": "display_data",
                    "data": {
                        "text/html": "(1 row affected)"
                    },
                    "metadata": {}
                },
                {
                    "output_type": "display_data",
                    "data": {
                        "text/html": "(1 row affected)"
                    },
                    "metadata": {}
                },
                {
                    "output_type": "display_data",
                    "data": {
                        "text/html": "(1 row affected)"
                    },
                    "metadata": {}
                },
                {
                    "output_type": "display_data",
                    "data": {
                        "text/html": "(1 row affected)"
                    },
                    "metadata": {}
                },
                {
                    "output_type": "display_data",
                    "data": {
                        "text/html": "(1 row affected)"
                    },
                    "metadata": {}
                },
                {
                    "output_type": "display_data",
                    "data": {
                        "text/html": "(1 row affected)"
                    },
                    "metadata": {}
                },
                {
                    "output_type": "display_data",
                    "data": {
                        "text/html": "(1 row affected)"
                    },
                    "metadata": {}
                },
                {
                    "output_type": "display_data",
                    "data": {
                        "text/html": "(1 row affected)"
                    },
                    "metadata": {}
                },
                {
                    "output_type": "display_data",
                    "data": {
                        "text/html": "(1 row affected)"
                    },
                    "metadata": {}
                },
                {
                    "output_type": "display_data",
                    "data": {
                        "text/html": "(1 row affected)"
                    },
                    "metadata": {}
                },
                {
                    "output_type": "display_data",
                    "data": {
                        "text/html": "(1 row affected)"
                    },
                    "metadata": {}
                },
                {
                    "output_type": "display_data",
                    "data": {
                        "text/html": "(1 row affected)"
                    },
                    "metadata": {}
                },
                {
                    "output_type": "display_data",
                    "data": {
                        "text/html": "(1 row affected)"
                    },
                    "metadata": {}
                },
                {
                    "output_type": "display_data",
                    "data": {
                        "text/html": "(1 row affected)"
                    },
                    "metadata": {}
                },
                {
                    "output_type": "display_data",
                    "data": {
                        "text/html": "(1 row affected)"
                    },
                    "metadata": {}
                },
                {
                    "output_type": "display_data",
                    "data": {
                        "text/html": "(1 row affected)"
                    },
                    "metadata": {}
                },
                {
                    "output_type": "display_data",
                    "data": {
                        "text/html": "(1 row affected)"
                    },
                    "metadata": {}
                },
                {
                    "output_type": "display_data",
                    "data": {
                        "text/html": "(1 row affected)"
                    },
                    "metadata": {}
                },
                {
                    "output_type": "display_data",
                    "data": {
                        "text/html": "(1 row affected)"
                    },
                    "metadata": {}
                },
                {
                    "output_type": "display_data",
                    "data": {
                        "text/html": "(1 row affected)"
                    },
                    "metadata": {}
                },
                {
                    "output_type": "display_data",
                    "data": {
                        "text/html": "(1 row affected)"
                    },
                    "metadata": {}
                },
                {
                    "output_type": "display_data",
                    "data": {
                        "text/html": "(1 row affected)"
                    },
                    "metadata": {}
                },
                {
                    "output_type": "display_data",
                    "data": {
                        "text/html": "(1 row affected)"
                    },
                    "metadata": {}
                },
                {
                    "output_type": "display_data",
                    "data": {
                        "text/html": "(1 row affected)"
                    },
                    "metadata": {}
                },
                {
                    "output_type": "display_data",
                    "data": {
                        "text/html": "(1 row affected)"
                    },
                    "metadata": {}
                },
                {
                    "output_type": "display_data",
                    "data": {
                        "text/html": "(1 row affected)"
                    },
                    "metadata": {}
                },
                {
                    "output_type": "display_data",
                    "data": {
                        "text/html": "(1 row affected)"
                    },
                    "metadata": {}
                },
                {
                    "output_type": "display_data",
                    "data": {
                        "text/html": "(1 row affected)"
                    },
                    "metadata": {}
                },
                {
                    "output_type": "display_data",
                    "data": {
                        "text/html": "(1 row affected)"
                    },
                    "metadata": {}
                },
                {
                    "output_type": "display_data",
                    "data": {
                        "text/html": "(1 row affected)"
                    },
                    "metadata": {}
                },
                {
                    "output_type": "display_data",
                    "data": {
                        "text/html": "(1 row affected)"
                    },
                    "metadata": {}
                },
                {
                    "output_type": "display_data",
                    "data": {
                        "text/html": "(1 row affected)"
                    },
                    "metadata": {}
                },
                {
                    "output_type": "display_data",
                    "data": {
                        "text/html": "(1 row affected)"
                    },
                    "metadata": {}
                },
                {
                    "output_type": "display_data",
                    "data": {
                        "text/html": "(1 row affected)"
                    },
                    "metadata": {}
                },
                {
                    "output_type": "display_data",
                    "data": {
                        "text/html": "(1 row affected)"
                    },
                    "metadata": {}
                },
                {
                    "output_type": "display_data",
                    "data": {
                        "text/html": "(1 row affected)"
                    },
                    "metadata": {}
                },
                {
                    "output_type": "display_data",
                    "data": {
                        "text/html": "(1 row affected)"
                    },
                    "metadata": {}
                },
                {
                    "output_type": "display_data",
                    "data": {
                        "text/html": "(1 row affected)"
                    },
                    "metadata": {}
                },
                {
                    "output_type": "display_data",
                    "data": {
                        "text/html": "(1 row affected)"
                    },
                    "metadata": {}
                },
                {
                    "output_type": "display_data",
                    "data": {
                        "text/html": "(1 row affected)"
                    },
                    "metadata": {}
                },
                {
                    "output_type": "display_data",
                    "data": {
                        "text/html": "(1 row affected)"
                    },
                    "metadata": {}
                },
                {
                    "output_type": "display_data",
                    "data": {
                        "text/html": "(1 row affected)"
                    },
                    "metadata": {}
                },
                {
                    "output_type": "display_data",
                    "data": {
                        "text/html": "(1 row affected)"
                    },
                    "metadata": {}
                },
                {
                    "output_type": "display_data",
                    "data": {
                        "text/html": "(1 row affected)"
                    },
                    "metadata": {}
                },
                {
                    "output_type": "display_data",
                    "data": {
                        "text/html": "(1 row affected)"
                    },
                    "metadata": {}
                },
                {
                    "output_type": "display_data",
                    "data": {
                        "text/html": "(1 row affected)"
                    },
                    "metadata": {}
                },
                {
                    "output_type": "display_data",
                    "data": {
                        "text/html": "(1 row affected)"
                    },
                    "metadata": {}
                },
                {
                    "output_type": "display_data",
                    "data": {
                        "text/html": "(1 row affected)"
                    },
                    "metadata": {}
                },
                {
                    "output_type": "display_data",
                    "data": {
                        "text/html": "(1 row affected)"
                    },
                    "metadata": {}
                },
                {
                    "output_type": "display_data",
                    "data": {
                        "text/html": "(1 row affected)"
                    },
                    "metadata": {}
                },
                {
                    "output_type": "display_data",
                    "data": {
                        "text/html": "(1 row affected)"
                    },
                    "metadata": {}
                },
                {
                    "output_type": "display_data",
                    "data": {
                        "text/html": "(1 row affected)"
                    },
                    "metadata": {}
                },
                {
                    "output_type": "display_data",
                    "data": {
                        "text/html": "(1 row affected)"
                    },
                    "metadata": {}
                },
                {
                    "output_type": "display_data",
                    "data": {
                        "text/html": "(1 row affected)"
                    },
                    "metadata": {}
                },
                {
                    "output_type": "display_data",
                    "data": {
                        "text/html": "(1 row affected)"
                    },
                    "metadata": {}
                },
                {
                    "output_type": "display_data",
                    "data": {
                        "text/html": "(1 row affected)"
                    },
                    "metadata": {}
                },
                {
                    "output_type": "display_data",
                    "data": {
                        "text/html": "(1 row affected)"
                    },
                    "metadata": {}
                },
                {
                    "output_type": "display_data",
                    "data": {
                        "text/html": "(1 row affected)"
                    },
                    "metadata": {}
                },
                {
                    "output_type": "display_data",
                    "data": {
                        "text/html": "(1 row affected)"
                    },
                    "metadata": {}
                },
                {
                    "output_type": "display_data",
                    "data": {
                        "text/html": "(1 row affected)"
                    },
                    "metadata": {}
                },
                {
                    "output_type": "display_data",
                    "data": {
                        "text/html": "(1 row affected)"
                    },
                    "metadata": {}
                },
                {
                    "output_type": "display_data",
                    "data": {
                        "text/html": "(1 row affected)"
                    },
                    "metadata": {}
                },
                {
                    "output_type": "display_data",
                    "data": {
                        "text/html": "(1 row affected)"
                    },
                    "metadata": {}
                },
                {
                    "output_type": "display_data",
                    "data": {
                        "text/html": "(1 row affected)"
                    },
                    "metadata": {}
                },
                {
                    "output_type": "display_data",
                    "data": {
                        "text/html": "(1 row affected)"
                    },
                    "metadata": {}
                },
                {
                    "output_type": "display_data",
                    "data": {
                        "text/html": "(1 row affected)"
                    },
                    "metadata": {}
                },
                {
                    "output_type": "display_data",
                    "data": {
                        "text/html": "(1 row affected)"
                    },
                    "metadata": {}
                },
                {
                    "output_type": "display_data",
                    "data": {
                        "text/html": "(1 row affected)"
                    },
                    "metadata": {}
                },
                {
                    "output_type": "display_data",
                    "data": {
                        "text/html": "(1 row affected)"
                    },
                    "metadata": {}
                },
                {
                    "output_type": "display_data",
                    "data": {
                        "text/html": "(1 row affected)"
                    },
                    "metadata": {}
                },
                {
                    "output_type": "display_data",
                    "data": {
                        "text/html": "(1 row affected)"
                    },
                    "metadata": {}
                },
                {
                    "output_type": "display_data",
                    "data": {
                        "text/html": "(1 row affected)"
                    },
                    "metadata": {}
                },
                {
                    "output_type": "display_data",
                    "data": {
                        "text/html": "(1 row affected)"
                    },
                    "metadata": {}
                },
                {
                    "output_type": "display_data",
                    "data": {
                        "text/html": "(1 row affected)"
                    },
                    "metadata": {}
                },
                {
                    "output_type": "display_data",
                    "data": {
                        "text/html": "(1 row affected)"
                    },
                    "metadata": {}
                },
                {
                    "output_type": "display_data",
                    "data": {
                        "text/html": "(1 row affected)"
                    },
                    "metadata": {}
                },
                {
                    "output_type": "display_data",
                    "data": {
                        "text/html": "(1 row affected)"
                    },
                    "metadata": {}
                },
                {
                    "output_type": "display_data",
                    "data": {
                        "text/html": "(1 row affected)"
                    },
                    "metadata": {}
                },
                {
                    "output_type": "display_data",
                    "data": {
                        "text/html": "(1 row affected)"
                    },
                    "metadata": {}
                },
                {
                    "output_type": "display_data",
                    "data": {
                        "text/html": "(1 row affected)"
                    },
                    "metadata": {}
                },
                {
                    "output_type": "display_data",
                    "data": {
                        "text/html": "(1 row affected)"
                    },
                    "metadata": {}
                },
                {
                    "output_type": "display_data",
                    "data": {
                        "text/html": "(1 row affected)"
                    },
                    "metadata": {}
                },
                {
                    "output_type": "display_data",
                    "data": {
                        "text/html": "(1 row affected)"
                    },
                    "metadata": {}
                },
                {
                    "output_type": "display_data",
                    "data": {
                        "text/html": "(1 row affected)"
                    },
                    "metadata": {}
                },
                {
                    "output_type": "display_data",
                    "data": {
                        "text/html": "(1 row affected)"
                    },
                    "metadata": {}
                },
                {
                    "output_type": "display_data",
                    "data": {
                        "text/html": "(1 row affected)"
                    },
                    "metadata": {}
                },
                {
                    "output_type": "display_data",
                    "data": {
                        "text/html": "(1 row affected)"
                    },
                    "metadata": {}
                },
                {
                    "output_type": "display_data",
                    "data": {
                        "text/html": "(1 row affected)"
                    },
                    "metadata": {}
                },
                {
                    "output_type": "display_data",
                    "data": {
                        "text/html": "(1 row affected)"
                    },
                    "metadata": {}
                },
                {
                    "output_type": "display_data",
                    "data": {
                        "text/html": "(1 row affected)"
                    },
                    "metadata": {}
                },
                {
                    "output_type": "display_data",
                    "data": {
                        "text/html": "(1 row affected)"
                    },
                    "metadata": {}
                },
                {
                    "output_type": "display_data",
                    "data": {
                        "text/html": "(1 row affected)"
                    },
                    "metadata": {}
                },
                {
                    "output_type": "display_data",
                    "data": {
                        "text/html": "(1 row affected)"
                    },
                    "metadata": {}
                },
                {
                    "output_type": "display_data",
                    "data": {
                        "text/html": "(1 row affected)"
                    },
                    "metadata": {}
                },
                {
                    "output_type": "display_data",
                    "data": {
                        "text/html": "(1 row affected)"
                    },
                    "metadata": {}
                },
                {
                    "output_type": "display_data",
                    "data": {
                        "text/html": "(1 row affected)"
                    },
                    "metadata": {}
                },
                {
                    "output_type": "display_data",
                    "data": {
                        "text/html": "(1 row affected)"
                    },
                    "metadata": {}
                },
                {
                    "output_type": "display_data",
                    "data": {
                        "text/html": "(1 row affected)"
                    },
                    "metadata": {}
                },
                {
                    "output_type": "display_data",
                    "data": {
                        "text/html": "(1 row affected)"
                    },
                    "metadata": {}
                },
                {
                    "output_type": "display_data",
                    "data": {
                        "text/html": "(1 row affected)"
                    },
                    "metadata": {}
                },
                {
                    "output_type": "display_data",
                    "data": {
                        "text/html": "(1 row affected)"
                    },
                    "metadata": {}
                },
                {
                    "output_type": "display_data",
                    "data": {
                        "text/html": "(1 row affected)"
                    },
                    "metadata": {}
                },
                {
                    "output_type": "display_data",
                    "data": {
                        "text/html": "(1 row affected)"
                    },
                    "metadata": {}
                },
                {
                    "output_type": "display_data",
                    "data": {
                        "text/html": "(1 row affected)"
                    },
                    "metadata": {}
                },
                {
                    "output_type": "display_data",
                    "data": {
                        "text/html": "(1 row affected)"
                    },
                    "metadata": {}
                },
                {
                    "output_type": "display_data",
                    "data": {
                        "text/html": "(1 row affected)"
                    },
                    "metadata": {}
                },
                {
                    "output_type": "display_data",
                    "data": {
                        "text/html": "(1 row affected)"
                    },
                    "metadata": {}
                },
                {
                    "output_type": "display_data",
                    "data": {
                        "text/html": "(1 row affected)"
                    },
                    "metadata": {}
                },
                {
                    "output_type": "display_data",
                    "data": {
                        "text/html": "(1 row affected)"
                    },
                    "metadata": {}
                },
                {
                    "output_type": "display_data",
                    "data": {
                        "text/html": "(1 row affected)"
                    },
                    "metadata": {}
                },
                {
                    "output_type": "display_data",
                    "data": {
                        "text/html": "(1 row affected)"
                    },
                    "metadata": {}
                },
                {
                    "output_type": "display_data",
                    "data": {
                        "text/html": "(1 row affected)"
                    },
                    "metadata": {}
                },
                {
                    "output_type": "display_data",
                    "data": {
                        "text/html": "(1 row affected)"
                    },
                    "metadata": {}
                },
                {
                    "output_type": "display_data",
                    "data": {
                        "text/html": "(1 row affected)"
                    },
                    "metadata": {}
                },
                {
                    "output_type": "display_data",
                    "data": {
                        "text/html": "(1 row affected)"
                    },
                    "metadata": {}
                },
                {
                    "output_type": "display_data",
                    "data": {
                        "text/html": "(1 row affected)"
                    },
                    "metadata": {}
                },
                {
                    "output_type": "display_data",
                    "data": {
                        "text/html": "(1 row affected)"
                    },
                    "metadata": {}
                },
                {
                    "output_type": "display_data",
                    "data": {
                        "text/html": "(1 row affected)"
                    },
                    "metadata": {}
                },
                {
                    "output_type": "display_data",
                    "data": {
                        "text/html": "(1 row affected)"
                    },
                    "metadata": {}
                },
                {
                    "output_type": "display_data",
                    "data": {
                        "text/html": "(1 row affected)"
                    },
                    "metadata": {}
                },
                {
                    "output_type": "display_data",
                    "data": {
                        "text/html": "(1 row affected)"
                    },
                    "metadata": {}
                },
                {
                    "output_type": "display_data",
                    "data": {
                        "text/html": "(1 row affected)"
                    },
                    "metadata": {}
                },
                {
                    "output_type": "display_data",
                    "data": {
                        "text/html": "(1 row affected)"
                    },
                    "metadata": {}
                },
                {
                    "output_type": "display_data",
                    "data": {
                        "text/html": "(1 row affected)"
                    },
                    "metadata": {}
                },
                {
                    "output_type": "display_data",
                    "data": {
                        "text/html": "(1 row affected)"
                    },
                    "metadata": {}
                },
                {
                    "output_type": "display_data",
                    "data": {
                        "text/html": "(1 row affected)"
                    },
                    "metadata": {}
                },
                {
                    "output_type": "display_data",
                    "data": {
                        "text/html": "(1 row affected)"
                    },
                    "metadata": {}
                },
                {
                    "output_type": "display_data",
                    "data": {
                        "text/html": "(1 row affected)"
                    },
                    "metadata": {}
                },
                {
                    "output_type": "display_data",
                    "data": {
                        "text/html": "(1 row affected)"
                    },
                    "metadata": {}
                },
                {
                    "output_type": "display_data",
                    "data": {
                        "text/html": "(1 row affected)"
                    },
                    "metadata": {}
                },
                {
                    "output_type": "display_data",
                    "data": {
                        "text/html": "(1 row affected)"
                    },
                    "metadata": {}
                },
                {
                    "output_type": "display_data",
                    "data": {
                        "text/html": "(1 row affected)"
                    },
                    "metadata": {}
                },
                {
                    "output_type": "display_data",
                    "data": {
                        "text/html": "(1 row affected)"
                    },
                    "metadata": {}
                },
                {
                    "output_type": "display_data",
                    "data": {
                        "text/html": "(1 row affected)"
                    },
                    "metadata": {}
                },
                {
                    "output_type": "display_data",
                    "data": {
                        "text/html": "(1 row affected)"
                    },
                    "metadata": {}
                },
                {
                    "output_type": "display_data",
                    "data": {
                        "text/html": "(1 row affected)"
                    },
                    "metadata": {}
                },
                {
                    "output_type": "display_data",
                    "data": {
                        "text/html": "(10 rows affected)"
                    },
                    "metadata": {}
                },
                {
                    "output_type": "display_data",
                    "data": {
                        "text/html": "Total execution time: 00:00:01.410"
                    },
                    "metadata": {}
                },
                {
                    "output_type": "execute_result",
                    "metadata": {
                        "resultSet": {
                            "id": 0,
                            "batchId": 2,
                            "rowCount": 6,
                            "complete": true,
                            "columnInfo": [
                                {
                                    "isBytes": false,
                                    "isChars": true,
                                    "isSqlVariant": false,
                                    "isUdt": false,
                                    "isXml": false,
                                    "isJson": false,
                                    "sqlDbType": 12,
                                    "isHierarchyId": false,
                                    "isSqlXmlType": false,
                                    "isUnknownType": false,
                                    "isUpdatable": false,
                                    "allowDBNull": true,
                                    "baseCatalogName": null,
                                    "baseColumnName": null,
                                    "baseSchemaName": null,
                                    "baseServerName": null,
                                    "baseTableName": null,
                                    "columnName": "name",
                                    "columnOrdinal": 0,
                                    "columnSize": 128,
                                    "isAliased": null,
                                    "isAutoIncrement": false,
                                    "isExpression": null,
                                    "isHidden": null,
                                    "isIdentity": false,
                                    "isKey": null,
                                    "isLong": false,
                                    "isReadOnly": true,
                                    "isUnique": false,
                                    "numericPrecision": 255,
                                    "numericScale": 255,
                                    "udtAssemblyQualifiedName": null,
                                    "dataType": "System.String, System.Private.CoreLib, Version=4.0.0.0, Culture=neutral, PublicKeyToken=7cec85d7bea7798e",
                                    "dataTypeName": "nvarchar"
                                }
                            ],
                            "specialAction": {
                                "none": true,
                                "expectYukonXMLShowPlan": false
                            }
                        }
                    },
                    "execution_count": 40,
                    "data": {
                        "application/vnd.dataresource+json": {
                            "schema": {
                                "fields": [
                                    {
                                        "name": "name"
                                    }
                                ]
                            },
                            "data": [
                                {
                                    "0": "master"
                                },
                                {
                                    "0": "tempdb"
                                },
                                {
                                    "0": "model"
                                },
                                {
                                    "0": "msdb"
                                },
                                {
                                    "0": "udemy"
                                },
                                {
                                    "0": "dbm_project"
                                }
                            ]
                        },
                        "text/html": [
                            "<table>",
                            "<tr><th>name</th></tr>",
                            "<tr><td>master</td></tr>",
                            "<tr><td>tempdb</td></tr>",
                            "<tr><td>model</td></tr>",
                            "<tr><td>msdb</td></tr>",
                            "<tr><td>udemy</td></tr>",
                            "<tr><td>dbm_project</td></tr>",
                            "</table>"
                        ]
                    }
                },
                {
                    "output_type": "execute_result",
                    "metadata": {
                        "resultSet": {
                            "id": 0,
                            "batchId": 5,
                            "rowCount": 10,
                            "complete": true,
                            "columnInfo": [
                                {
                                    "isBytes": false,
                                    "isChars": true,
                                    "isSqlVariant": false,
                                    "isUdt": false,
                                    "isXml": false,
                                    "isJson": false,
                                    "sqlDbType": 22,
                                    "isHierarchyId": false,
                                    "isSqlXmlType": false,
                                    "isUnknownType": false,
                                    "isUpdatable": true,
                                    "allowDBNull": false,
                                    "baseCatalogName": null,
                                    "baseColumnName": null,
                                    "baseSchemaName": null,
                                    "baseServerName": null,
                                    "baseTableName": null,
                                    "columnName": "course_id",
                                    "columnOrdinal": 0,
                                    "columnSize": 8,
                                    "isAliased": null,
                                    "isAutoIncrement": false,
                                    "isExpression": null,
                                    "isHidden": null,
                                    "isIdentity": false,
                                    "isKey": null,
                                    "isLong": false,
                                    "isReadOnly": false,
                                    "isUnique": false,
                                    "numericPrecision": 255,
                                    "numericScale": 255,
                                    "udtAssemblyQualifiedName": null,
                                    "dataType": "System.String, System.Private.CoreLib, Version=4.0.0.0, Culture=neutral, PublicKeyToken=7cec85d7bea7798e",
                                    "dataTypeName": "varchar"
                                },
                                {
                                    "isBytes": false,
                                    "isChars": true,
                                    "isSqlVariant": false,
                                    "isUdt": false,
                                    "isXml": false,
                                    "isJson": false,
                                    "sqlDbType": 22,
                                    "isHierarchyId": false,
                                    "isSqlXmlType": false,
                                    "isUnknownType": false,
                                    "isUpdatable": true,
                                    "allowDBNull": true,
                                    "baseCatalogName": null,
                                    "baseColumnName": null,
                                    "baseSchemaName": null,
                                    "baseServerName": null,
                                    "baseTableName": null,
                                    "columnName": "title",
                                    "columnOrdinal": 1,
                                    "columnSize": 50,
                                    "isAliased": null,
                                    "isAutoIncrement": false,
                                    "isExpression": null,
                                    "isHidden": null,
                                    "isIdentity": false,
                                    "isKey": null,
                                    "isLong": false,
                                    "isReadOnly": false,
                                    "isUnique": false,
                                    "numericPrecision": 255,
                                    "numericScale": 255,
                                    "udtAssemblyQualifiedName": null,
                                    "dataType": "System.String, System.Private.CoreLib, Version=4.0.0.0, Culture=neutral, PublicKeyToken=7cec85d7bea7798e",
                                    "dataTypeName": "varchar"
                                },
                                {
                                    "isBytes": false,
                                    "isChars": true,
                                    "isSqlVariant": false,
                                    "isUdt": false,
                                    "isXml": false,
                                    "isJson": false,
                                    "sqlDbType": 22,
                                    "isHierarchyId": false,
                                    "isSqlXmlType": false,
                                    "isUnknownType": false,
                                    "isUpdatable": true,
                                    "allowDBNull": true,
                                    "baseCatalogName": null,
                                    "baseColumnName": null,
                                    "baseSchemaName": null,
                                    "baseServerName": null,
                                    "baseTableName": null,
                                    "columnName": "dept_name",
                                    "columnOrdinal": 2,
                                    "columnSize": 20,
                                    "isAliased": null,
                                    "isAutoIncrement": false,
                                    "isExpression": null,
                                    "isHidden": null,
                                    "isIdentity": false,
                                    "isKey": null,
                                    "isLong": false,
                                    "isReadOnly": false,
                                    "isUnique": false,
                                    "numericPrecision": 255,
                                    "numericScale": 255,
                                    "udtAssemblyQualifiedName": null,
                                    "dataType": "System.String, System.Private.CoreLib, Version=4.0.0.0, Culture=neutral, PublicKeyToken=7cec85d7bea7798e",
                                    "dataTypeName": "varchar"
                                },
                                {
                                    "isBytes": false,
                                    "isChars": false,
                                    "isSqlVariant": false,
                                    "isUdt": false,
                                    "isXml": false,
                                    "isJson": false,
                                    "sqlDbType": 5,
                                    "isHierarchyId": false,
                                    "isSqlXmlType": false,
                                    "isUnknownType": false,
                                    "isUpdatable": true,
                                    "allowDBNull": true,
                                    "baseCatalogName": null,
                                    "baseColumnName": null,
                                    "baseSchemaName": null,
                                    "baseServerName": null,
                                    "baseTableName": null,
                                    "columnName": "credits",
                                    "columnOrdinal": 3,
                                    "columnSize": 17,
                                    "isAliased": null,
                                    "isAutoIncrement": false,
                                    "isExpression": null,
                                    "isHidden": null,
                                    "isIdentity": false,
                                    "isKey": null,
                                    "isLong": false,
                                    "isReadOnly": false,
                                    "isUnique": false,
                                    "numericPrecision": 2,
                                    "numericScale": 0,
                                    "udtAssemblyQualifiedName": null,
                                    "dataType": "System.Decimal, System.Private.CoreLib, Version=4.0.0.0, Culture=neutral, PublicKeyToken=7cec85d7bea7798e",
                                    "dataTypeName": "decimal"
                                }
                            ],
                            "specialAction": {
                                "none": true,
                                "expectYukonXMLShowPlan": false
                            }
                        }
                    },
                    "execution_count": 40,
                    "data": {
                        "application/vnd.dataresource+json": {
                            "schema": {
                                "fields": [
                                    {
                                        "name": "course_id"
                                    },
                                    {
                                        "name": "title"
                                    },
                                    {
                                        "name": "dept_name"
                                    },
                                    {
                                        "name": "credits"
                                    }
                                ]
                            },
                            "data": [
                                {
                                    "0": "101",
                                    "1": "Diffusion and Phase Transformation",
                                    "2": "Mech. Eng.",
                                    "3": "3"
                                },
                                {
                                    "0": "105",
                                    "1": "Image Processing",
                                    "2": "Astronomy",
                                    "3": "3"
                                },
                                {
                                    "0": "123",
                                    "1": "Differential Equations",
                                    "2": "Mech. Eng.",
                                    "3": "3"
                                },
                                {
                                    "0": "127",
                                    "1": "Thermodynamics",
                                    "2": "Geology",
                                    "3": "3"
                                },
                                {
                                    "0": "130",
                                    "1": "Differential Geometry",
                                    "2": "Physics",
                                    "3": "3"
                                },
                                {
                                    "0": "133",
                                    "1": "Antidisestablishmentarianism in Modern America",
                                    "2": "Biology",
                                    "3": "4"
                                },
                                {
                                    "0": "137",
                                    "1": "Manufacturing",
                                    "2": "Finance",
                                    "3": "3"
                                },
                                {
                                    "0": "139",
                                    "1": "Number Theory",
                                    "2": "English",
                                    "3": "4"
                                },
                                {
                                    "0": "158",
                                    "1": "Elastic Structures",
                                    "2": "Cybernetics",
                                    "3": "3"
                                },
                                {
                                    "0": "169",
                                    "1": "Marine Mammals",
                                    "2": "Elec. Eng.",
                                    "3": "3"
                                }
                            ]
                        },
                        "text/html": [
                            "<table>",
                            "<tr><th>course_id</th><th>title</th><th>dept_name</th><th>credits</th></tr>",
                            "<tr><td>101</td><td>Diffusion and Phase Transformation</td><td>Mech. Eng.</td><td>3</td></tr>",
                            "<tr><td>105</td><td>Image Processing</td><td>Astronomy</td><td>3</td></tr>",
                            "<tr><td>123</td><td>Differential Equations</td><td>Mech. Eng.</td><td>3</td></tr>",
                            "<tr><td>127</td><td>Thermodynamics</td><td>Geology</td><td>3</td></tr>",
                            "<tr><td>130</td><td>Differential Geometry</td><td>Physics</td><td>3</td></tr>",
                            "<tr><td>133</td><td>Antidisestablishmentarianism in Modern America</td><td>Biology</td><td>4</td></tr>",
                            "<tr><td>137</td><td>Manufacturing</td><td>Finance</td><td>3</td></tr>",
                            "<tr><td>139</td><td>Number Theory</td><td>English</td><td>4</td></tr>",
                            "<tr><td>158</td><td>Elastic Structures</td><td>Cybernetics</td><td>3</td></tr>",
                            "<tr><td>169</td><td>Marine Mammals</td><td>Elec. Eng.</td><td>3</td></tr>",
                            "</table>"
                        ]
                    }
                }
            ],
            "execution_count": 40
        },
        {
            "cell_type": "markdown",
            "source": [
                "We can aggregate observations by group using the ``GROUP BY`` clause. As an ilustration, we can find the number of courses offered by each department."
            ],
            "metadata": {
                "azdata_cell_guid": "43ced61b-4b81-49de-a203-d70e5aa14ecd"
            }
        },
        {
            "cell_type": "code",
            "source": [
                "SELECT dept_name, COUNT(course_id) as [course number]\n",
                "FROM course\n",
                "GROUP BY dept_name;\n",
                "GO"
            ],
            "metadata": {
                "azdata_cell_guid": "67efdd10-eb27-4485-b11a-31af0f27524d"
            },
            "outputs": [
                {
                    "output_type": "display_data",
                    "data": {
                        "text/html": "(20 rows affected)"
                    },
                    "metadata": {}
                },
                {
                    "output_type": "display_data",
                    "data": {
                        "text/html": "Total execution time: 00:00:00.004"
                    },
                    "metadata": {}
                },
                {
                    "output_type": "execute_result",
                    "metadata": {
                        "resultSet": {
                            "id": 0,
                            "batchId": 0,
                            "rowCount": 20,
                            "complete": true,
                            "columnInfo": [
                                {
                                    "isBytes": false,
                                    "isChars": true,
                                    "isSqlVariant": false,
                                    "isUdt": false,
                                    "isXml": false,
                                    "isJson": false,
                                    "sqlDbType": 22,
                                    "isHierarchyId": false,
                                    "isSqlXmlType": false,
                                    "isUnknownType": false,
                                    "isUpdatable": true,
                                    "allowDBNull": true,
                                    "baseCatalogName": null,
                                    "baseColumnName": null,
                                    "baseSchemaName": null,
                                    "baseServerName": null,
                                    "baseTableName": null,
                                    "columnName": "dept_name",
                                    "columnOrdinal": 0,
                                    "columnSize": 20,
                                    "isAliased": null,
                                    "isAutoIncrement": false,
                                    "isExpression": null,
                                    "isHidden": null,
                                    "isIdentity": false,
                                    "isKey": null,
                                    "isLong": false,
                                    "isReadOnly": false,
                                    "isUnique": false,
                                    "numericPrecision": 255,
                                    "numericScale": 255,
                                    "udtAssemblyQualifiedName": null,
                                    "dataType": "System.String, System.Private.CoreLib, Version=4.0.0.0, Culture=neutral, PublicKeyToken=7cec85d7bea7798e",
                                    "dataTypeName": "varchar"
                                },
                                {
                                    "isBytes": false,
                                    "isChars": false,
                                    "isSqlVariant": false,
                                    "isUdt": false,
                                    "isXml": false,
                                    "isJson": false,
                                    "sqlDbType": 8,
                                    "isHierarchyId": false,
                                    "isSqlXmlType": false,
                                    "isUnknownType": false,
                                    "isUpdatable": false,
                                    "allowDBNull": true,
                                    "baseCatalogName": null,
                                    "baseColumnName": null,
                                    "baseSchemaName": null,
                                    "baseServerName": null,
                                    "baseTableName": null,
                                    "columnName": "course number",
                                    "columnOrdinal": 1,
                                    "columnSize": 4,
                                    "isAliased": null,
                                    "isAutoIncrement": false,
                                    "isExpression": null,
                                    "isHidden": null,
                                    "isIdentity": false,
                                    "isKey": null,
                                    "isLong": false,
                                    "isReadOnly": true,
                                    "isUnique": false,
                                    "numericPrecision": 10,
                                    "numericScale": 255,
                                    "udtAssemblyQualifiedName": null,
                                    "dataType": "System.Int32, System.Private.CoreLib, Version=4.0.0.0, Culture=neutral, PublicKeyToken=7cec85d7bea7798e",
                                    "dataTypeName": "int"
                                }
                            ],
                            "specialAction": {
                                "none": true,
                                "expectYukonXMLShowPlan": false
                            }
                        }
                    },
                    "execution_count": 42,
                    "data": {
                        "application/vnd.dataresource+json": {
                            "schema": {
                                "fields": [
                                    {
                                        "name": "dept_name"
                                    },
                                    {
                                        "name": "course number"
                                    }
                                ]
                            },
                            "data": [
                                {
                                    "0": "Accounting",
                                    "1": "12"
                                },
                                {
                                    "0": "Astronomy",
                                    "1": "10"
                                },
                                {
                                    "0": "Athletics",
                                    "1": "9"
                                },
                                {
                                    "0": "Biology",
                                    "1": "7"
                                },
                                {
                                    "0": "Civil Eng.",
                                    "1": "10"
                                },
                                {
                                    "0": "Comp. Sci.",
                                    "1": "10"
                                },
                                {
                                    "0": "Cybernetics",
                                    "1": "20"
                                },
                                {
                                    "0": "Elec. Eng.",
                                    "1": "8"
                                },
                                {
                                    "0": "English",
                                    "1": "8"
                                },
                                {
                                    "0": "Finance",
                                    "1": "14"
                                },
                                {
                                    "0": "Geology",
                                    "1": "10"
                                },
                                {
                                    "0": "History",
                                    "1": "9"
                                },
                                {
                                    "0": "Languages",
                                    "1": "10"
                                },
                                {
                                    "0": "Marketing",
                                    "1": "6"
                                },
                                {
                                    "0": "Math",
                                    "1": "10"
                                },
                                {
                                    "0": "Mech. Eng.",
                                    "1": "12"
                                },
                                {
                                    "0": "Physics",
                                    "1": "10"
                                },
                                {
                                    "0": "Pol. Sci.",
                                    "1": "6"
                                },
                                {
                                    "0": "Psychology",
                                    "1": "13"
                                },
                                {
                                    "0": "Statistics",
                                    "1": "6"
                                }
                            ]
                        },
                        "text/html": [
                            "<table>",
                            "<tr><th>dept_name</th><th>course number</th></tr>",
                            "<tr><td>Accounting</td><td>12</td></tr>",
                            "<tr><td>Astronomy</td><td>10</td></tr>",
                            "<tr><td>Athletics</td><td>9</td></tr>",
                            "<tr><td>Biology</td><td>7</td></tr>",
                            "<tr><td>Civil Eng.</td><td>10</td></tr>",
                            "<tr><td>Comp. Sci.</td><td>10</td></tr>",
                            "<tr><td>Cybernetics</td><td>20</td></tr>",
                            "<tr><td>Elec. Eng.</td><td>8</td></tr>",
                            "<tr><td>English</td><td>8</td></tr>",
                            "<tr><td>Finance</td><td>14</td></tr>",
                            "<tr><td>Geology</td><td>10</td></tr>",
                            "<tr><td>History</td><td>9</td></tr>",
                            "<tr><td>Languages</td><td>10</td></tr>",
                            "<tr><td>Marketing</td><td>6</td></tr>",
                            "<tr><td>Math</td><td>10</td></tr>",
                            "<tr><td>Mech. Eng.</td><td>12</td></tr>",
                            "<tr><td>Physics</td><td>10</td></tr>",
                            "<tr><td>Pol. Sci.</td><td>6</td></tr>",
                            "<tr><td>Psychology</td><td>13</td></tr>",
                            "<tr><td>Statistics</td><td>6</td></tr>",
                            "</table>"
                        ]
                    }
                }
            ],
            "execution_count": 42
        },
        {
            "cell_type": "markdown",
            "source": [
                "Similarly, we can find the number of departments by building."
            ],
            "metadata": {
                "azdata_cell_guid": "3278baf2-14d7-4e0c-8fb7-7e720812f50d"
            }
        },
        {
            "cell_type": "code",
            "source": [
                "-- find the available table\n",
                "SELECT TABLE_NAME FROM INFORMATION_SCHEMA.TABLES ;\n",
                "GO\n",
                "\n",
                "-- make the query\n",
                "SELECT building, COUNT(dept_name) as [department count]\n",
                "FROM department\n",
                "GROUP BY building;\n",
                "GO"
            ],
            "metadata": {
                "azdata_cell_guid": "e953300b-59ba-4e84-bb7f-62bccde0e7ec"
            },
            "outputs": [
                {
                    "output_type": "display_data",
                    "data": {
                        "text/html": "(11 rows affected)"
                    },
                    "metadata": {}
                },
                {
                    "output_type": "display_data",
                    "data": {
                        "text/html": "(16 rows affected)"
                    },
                    "metadata": {}
                },
                {
                    "output_type": "display_data",
                    "data": {
                        "text/html": "Total execution time: 00:00:00.024"
                    },
                    "metadata": {}
                },
                {
                    "output_type": "execute_result",
                    "metadata": {
                        "resultSet": {
                            "id": 0,
                            "batchId": 0,
                            "rowCount": 11,
                            "complete": true,
                            "columnInfo": [
                                {
                                    "isBytes": false,
                                    "isChars": true,
                                    "isSqlVariant": false,
                                    "isUdt": false,
                                    "isXml": false,
                                    "isJson": false,
                                    "sqlDbType": 12,
                                    "isHierarchyId": false,
                                    "isSqlXmlType": false,
                                    "isUnknownType": false,
                                    "isUpdatable": true,
                                    "allowDBNull": false,
                                    "baseCatalogName": null,
                                    "baseColumnName": null,
                                    "baseSchemaName": null,
                                    "baseServerName": null,
                                    "baseTableName": null,
                                    "columnName": "TABLE_NAME",
                                    "columnOrdinal": 0,
                                    "columnSize": 128,
                                    "isAliased": null,
                                    "isAutoIncrement": false,
                                    "isExpression": null,
                                    "isHidden": null,
                                    "isIdentity": false,
                                    "isKey": null,
                                    "isLong": false,
                                    "isReadOnly": false,
                                    "isUnique": false,
                                    "numericPrecision": 255,
                                    "numericScale": 255,
                                    "udtAssemblyQualifiedName": null,
                                    "dataType": "System.String, System.Private.CoreLib, Version=4.0.0.0, Culture=neutral, PublicKeyToken=7cec85d7bea7798e",
                                    "dataTypeName": "nvarchar"
                                }
                            ],
                            "specialAction": {
                                "none": true,
                                "expectYukonXMLShowPlan": false
                            }
                        }
                    },
                    "execution_count": 49,
                    "data": {
                        "application/vnd.dataresource+json": {
                            "schema": {
                                "fields": [
                                    {
                                        "name": "TABLE_NAME"
                                    }
                                ]
                            },
                            "data": [
                                {
                                    "0": "classroom"
                                },
                                {
                                    "0": "department"
                                },
                                {
                                    "0": "course"
                                },
                                {
                                    "0": "instructor"
                                },
                                {
                                    "0": "section"
                                },
                                {
                                    "0": "teaches"
                                },
                                {
                                    "0": "student"
                                },
                                {
                                    "0": "takes"
                                },
                                {
                                    "0": "advisor"
                                },
                                {
                                    "0": "time_slot"
                                },
                                {
                                    "0": "prereq"
                                }
                            ]
                        },
                        "text/html": [
                            "<table>",
                            "<tr><th>TABLE_NAME</th></tr>",
                            "<tr><td>classroom</td></tr>",
                            "<tr><td>department</td></tr>",
                            "<tr><td>course</td></tr>",
                            "<tr><td>instructor</td></tr>",
                            "<tr><td>section</td></tr>",
                            "<tr><td>teaches</td></tr>",
                            "<tr><td>student</td></tr>",
                            "<tr><td>takes</td></tr>",
                            "<tr><td>advisor</td></tr>",
                            "<tr><td>time_slot</td></tr>",
                            "<tr><td>prereq</td></tr>",
                            "</table>"
                        ]
                    }
                },
                {
                    "output_type": "execute_result",
                    "metadata": {
                        "resultSet": {
                            "id": 0,
                            "batchId": 1,
                            "rowCount": 16,
                            "complete": true,
                            "columnInfo": [
                                {
                                    "isBytes": false,
                                    "isChars": true,
                                    "isSqlVariant": false,
                                    "isUdt": false,
                                    "isXml": false,
                                    "isJson": false,
                                    "sqlDbType": 22,
                                    "isHierarchyId": false,
                                    "isSqlXmlType": false,
                                    "isUnknownType": false,
                                    "isUpdatable": true,
                                    "allowDBNull": true,
                                    "baseCatalogName": null,
                                    "baseColumnName": null,
                                    "baseSchemaName": null,
                                    "baseServerName": null,
                                    "baseTableName": null,
                                    "columnName": "building",
                                    "columnOrdinal": 0,
                                    "columnSize": 15,
                                    "isAliased": null,
                                    "isAutoIncrement": false,
                                    "isExpression": null,
                                    "isHidden": null,
                                    "isIdentity": false,
                                    "isKey": null,
                                    "isLong": false,
                                    "isReadOnly": false,
                                    "isUnique": false,
                                    "numericPrecision": 255,
                                    "numericScale": 255,
                                    "udtAssemblyQualifiedName": null,
                                    "dataType": "System.String, System.Private.CoreLib, Version=4.0.0.0, Culture=neutral, PublicKeyToken=7cec85d7bea7798e",
                                    "dataTypeName": "varchar"
                                },
                                {
                                    "isBytes": false,
                                    "isChars": false,
                                    "isSqlVariant": false,
                                    "isUdt": false,
                                    "isXml": false,
                                    "isJson": false,
                                    "sqlDbType": 8,
                                    "isHierarchyId": false,
                                    "isSqlXmlType": false,
                                    "isUnknownType": false,
                                    "isUpdatable": false,
                                    "allowDBNull": true,
                                    "baseCatalogName": null,
                                    "baseColumnName": null,
                                    "baseSchemaName": null,
                                    "baseServerName": null,
                                    "baseTableName": null,
                                    "columnName": "department count",
                                    "columnOrdinal": 1,
                                    "columnSize": 4,
                                    "isAliased": null,
                                    "isAutoIncrement": false,
                                    "isExpression": null,
                                    "isHidden": null,
                                    "isIdentity": false,
                                    "isKey": null,
                                    "isLong": false,
                                    "isReadOnly": true,
                                    "isUnique": false,
                                    "numericPrecision": 10,
                                    "numericScale": 255,
                                    "udtAssemblyQualifiedName": null,
                                    "dataType": "System.Int32, System.Private.CoreLib, Version=4.0.0.0, Culture=neutral, PublicKeyToken=7cec85d7bea7798e",
                                    "dataTypeName": "int"
                                }
                            ],
                            "specialAction": {
                                "none": true,
                                "expectYukonXMLShowPlan": false
                            }
                        }
                    },
                    "execution_count": 49,
                    "data": {
                        "application/vnd.dataresource+json": {
                            "schema": {
                                "fields": [
                                    {
                                        "name": "building"
                                    },
                                    {
                                        "name": "department count"
                                    }
                                ]
                            },
                            "data": [
                                {
                                    "0": "Brodhead",
                                    "1": "1"
                                },
                                {
                                    "0": "Bronfman",
                                    "1": "1"
                                },
                                {
                                    "0": "Candlestick",
                                    "1": "2"
                                },
                                {
                                    "0": "Chandler",
                                    "1": "1"
                                },
                                {
                                    "0": "Lambeau",
                                    "1": "1"
                                },
                                {
                                    "0": "Lamberton",
                                    "1": "1"
                                },
                                {
                                    "0": "Linderman",
                                    "1": "1"
                                },
                                {
                                    "0": "Main",
                                    "1": "1"
                                },
                                {
                                    "0": "Mercer",
                                    "1": "1"
                                },
                                {
                                    "0": "Palmer",
                                    "1": "2"
                                },
                                {
                                    "0": "Rauch",
                                    "1": "1"
                                },
                                {
                                    "0": "Saucon",
                                    "1": "1"
                                },
                                {
                                    "0": "Taylor",
                                    "1": "3"
                                },
                                {
                                    "0": "Thompson",
                                    "1": "1"
                                },
                                {
                                    "0": "Whitman",
                                    "1": "1"
                                },
                                {
                                    "0": "Wrigley",
                                    "1": "1"
                                }
                            ]
                        },
                        "text/html": [
                            "<table>",
                            "<tr><th>building</th><th>department count</th></tr>",
                            "<tr><td>Brodhead</td><td>1</td></tr>",
                            "<tr><td>Bronfman</td><td>1</td></tr>",
                            "<tr><td>Candlestick</td><td>2</td></tr>",
                            "<tr><td>Chandler</td><td>1</td></tr>",
                            "<tr><td>Lambeau</td><td>1</td></tr>",
                            "<tr><td>Lamberton</td><td>1</td></tr>",
                            "<tr><td>Linderman</td><td>1</td></tr>",
                            "<tr><td>Main</td><td>1</td></tr>",
                            "<tr><td>Mercer</td><td>1</td></tr>",
                            "<tr><td>Palmer</td><td>2</td></tr>",
                            "<tr><td>Rauch</td><td>1</td></tr>",
                            "<tr><td>Saucon</td><td>1</td></tr>",
                            "<tr><td>Taylor</td><td>3</td></tr>",
                            "<tr><td>Thompson</td><td>1</td></tr>",
                            "<tr><td>Whitman</td><td>1</td></tr>",
                            "<tr><td>Wrigley</td><td>1</td></tr>",
                            "</table>"
                        ]
                    }
                }
            ],
            "execution_count": 49
        },
        {
            "cell_type": "markdown",
            "source": [
                "At times it is useful to state a condition that applies to groups rather than to tuples - that is, a <code>WHERE</code> for groups. For this, we can use the <code>HAVING</code> clause. For example, we may be interested in the average budget by building where the average budget must exceed 500,000."
            ],
            "metadata": {
                "azdata_cell_guid": "8dc0d616-59cc-4595-ab0e-444de9e541ca"
            }
        },
        {
            "cell_type": "code",
            "source": [
                "-- all\n",
                "SELECT building, AVG(budget) as [average budget]\n",
                "FROM department\n",
                "GROUP BY building;\n",
                "GO\n",
                "\n",
                "-- filtered\n",
                "SELECT building, AVG(budget) as [average budget]\n",
                "FROM department\n",
                "GROUP BY building\n",
                "HAVING AVG(budget) > 500000.00;\n",
                "GO"
            ],
            "metadata": {
                "azdata_cell_guid": "206ec1b0-64e4-4381-af23-466b1b505375"
            },
            "outputs": [
                {
                    "output_type": "display_data",
                    "data": {
                        "text/html": "(16 rows affected)"
                    },
                    "metadata": {}
                },
                {
                    "output_type": "display_data",
                    "data": {
                        "text/html": "(11 rows affected)"
                    },
                    "metadata": {}
                },
                {
                    "output_type": "display_data",
                    "data": {
                        "text/html": "Total execution time: 00:00:00.007"
                    },
                    "metadata": {}
                },
                {
                    "output_type": "execute_result",
                    "metadata": {
                        "resultSet": {
                            "id": 0,
                            "batchId": 0,
                            "rowCount": 16,
                            "complete": true,
                            "columnInfo": [
                                {
                                    "isBytes": false,
                                    "isChars": true,
                                    "isSqlVariant": false,
                                    "isUdt": false,
                                    "isXml": false,
                                    "isJson": false,
                                    "sqlDbType": 22,
                                    "isHierarchyId": false,
                                    "isSqlXmlType": false,
                                    "isUnknownType": false,
                                    "isUpdatable": true,
                                    "allowDBNull": true,
                                    "baseCatalogName": null,
                                    "baseColumnName": null,
                                    "baseSchemaName": null,
                                    "baseServerName": null,
                                    "baseTableName": null,
                                    "columnName": "building",
                                    "columnOrdinal": 0,
                                    "columnSize": 15,
                                    "isAliased": null,
                                    "isAutoIncrement": false,
                                    "isExpression": null,
                                    "isHidden": null,
                                    "isIdentity": false,
                                    "isKey": null,
                                    "isLong": false,
                                    "isReadOnly": false,
                                    "isUnique": false,
                                    "numericPrecision": 255,
                                    "numericScale": 255,
                                    "udtAssemblyQualifiedName": null,
                                    "dataType": "System.String, System.Private.CoreLib, Version=4.0.0.0, Culture=neutral, PublicKeyToken=7cec85d7bea7798e",
                                    "dataTypeName": "varchar"
                                },
                                {
                                    "isBytes": false,
                                    "isChars": false,
                                    "isSqlVariant": false,
                                    "isUdt": false,
                                    "isXml": false,
                                    "isJson": false,
                                    "sqlDbType": 5,
                                    "isHierarchyId": false,
                                    "isSqlXmlType": false,
                                    "isUnknownType": false,
                                    "isUpdatable": false,
                                    "allowDBNull": true,
                                    "baseCatalogName": null,
                                    "baseColumnName": null,
                                    "baseSchemaName": null,
                                    "baseServerName": null,
                                    "baseTableName": null,
                                    "columnName": "average budget",
                                    "columnOrdinal": 1,
                                    "columnSize": 17,
                                    "isAliased": null,
                                    "isAutoIncrement": false,
                                    "isExpression": null,
                                    "isHidden": null,
                                    "isIdentity": false,
                                    "isKey": null,
                                    "isLong": false,
                                    "isReadOnly": true,
                                    "isUnique": false,
                                    "numericPrecision": 38,
                                    "numericScale": 6,
                                    "udtAssemblyQualifiedName": null,
                                    "dataType": "System.Decimal, System.Private.CoreLib, Version=4.0.0.0, Culture=neutral, PublicKeyToken=7cec85d7bea7798e",
                                    "dataTypeName": "decimal"
                                }
                            ],
                            "specialAction": {
                                "none": true,
                                "expectYukonXMLShowPlan": false
                            }
                        }
                    },
                    "execution_count": 55,
                    "data": {
                        "application/vnd.dataresource+json": {
                            "schema": {
                                "fields": [
                                    {
                                        "name": "building"
                                    },
                                    {
                                        "name": "average budget"
                                    }
                                ]
                            },
                            "data": [
                                {
                                    "0": "Brodhead",
                                    "1": "777605.110000"
                                },
                                {
                                    "0": "Bronfman",
                                    "1": "734550.700000"
                                },
                                {
                                    "0": "Candlestick",
                                    "1": "757221.150000"
                                },
                                {
                                    "0": "Chandler",
                                    "1": "255041.460000"
                                },
                                {
                                    "0": "Lambeau",
                                    "1": "210627.580000"
                                },
                                {
                                    "0": "Lamberton",
                                    "1": "106378.690000"
                                },
                                {
                                    "0": "Linderman",
                                    "1": "601283.600000"
                                },
                                {
                                    "0": "Main",
                                    "1": "276527.610000"
                                },
                                {
                                    "0": "Mercer",
                                    "1": "794541.460000"
                                },
                                {
                                    "0": "Palmer",
                                    "1": "508800.295000"
                                },
                                {
                                    "0": "Rauch",
                                    "1": "520350.650000"
                                },
                                {
                                    "0": "Saucon",
                                    "1": "441840.920000"
                                },
                                {
                                    "0": "Taylor",
                                    "1": "570482.180000"
                                },
                                {
                                    "0": "Thompson",
                                    "1": "848175.040000"
                                },
                                {
                                    "0": "Whitman",
                                    "1": "573745.090000"
                                },
                                {
                                    "0": "Wrigley",
                                    "1": "942162.760000"
                                }
                            ]
                        },
                        "text/html": [
                            "<table>",
                            "<tr><th>building</th><th>average budget</th></tr>",
                            "<tr><td>Brodhead</td><td>777605.110000</td></tr>",
                            "<tr><td>Bronfman</td><td>734550.700000</td></tr>",
                            "<tr><td>Candlestick</td><td>757221.150000</td></tr>",
                            "<tr><td>Chandler</td><td>255041.460000</td></tr>",
                            "<tr><td>Lambeau</td><td>210627.580000</td></tr>",
                            "<tr><td>Lamberton</td><td>106378.690000</td></tr>",
                            "<tr><td>Linderman</td><td>601283.600000</td></tr>",
                            "<tr><td>Main</td><td>276527.610000</td></tr>",
                            "<tr><td>Mercer</td><td>794541.460000</td></tr>",
                            "<tr><td>Palmer</td><td>508800.295000</td></tr>",
                            "<tr><td>Rauch</td><td>520350.650000</td></tr>",
                            "<tr><td>Saucon</td><td>441840.920000</td></tr>",
                            "<tr><td>Taylor</td><td>570482.180000</td></tr>",
                            "<tr><td>Thompson</td><td>848175.040000</td></tr>",
                            "<tr><td>Whitman</td><td>573745.090000</td></tr>",
                            "<tr><td>Wrigley</td><td>942162.760000</td></tr>",
                            "</table>"
                        ]
                    }
                },
                {
                    "output_type": "execute_result",
                    "metadata": {
                        "resultSet": {
                            "id": 0,
                            "batchId": 1,
                            "rowCount": 11,
                            "complete": true,
                            "columnInfo": [
                                {
                                    "isBytes": false,
                                    "isChars": true,
                                    "isSqlVariant": false,
                                    "isUdt": false,
                                    "isXml": false,
                                    "isJson": false,
                                    "sqlDbType": 22,
                                    "isHierarchyId": false,
                                    "isSqlXmlType": false,
                                    "isUnknownType": false,
                                    "isUpdatable": true,
                                    "allowDBNull": true,
                                    "baseCatalogName": null,
                                    "baseColumnName": null,
                                    "baseSchemaName": null,
                                    "baseServerName": null,
                                    "baseTableName": null,
                                    "columnName": "building",
                                    "columnOrdinal": 0,
                                    "columnSize": 15,
                                    "isAliased": null,
                                    "isAutoIncrement": false,
                                    "isExpression": null,
                                    "isHidden": null,
                                    "isIdentity": false,
                                    "isKey": null,
                                    "isLong": false,
                                    "isReadOnly": false,
                                    "isUnique": false,
                                    "numericPrecision": 255,
                                    "numericScale": 255,
                                    "udtAssemblyQualifiedName": null,
                                    "dataType": "System.String, System.Private.CoreLib, Version=4.0.0.0, Culture=neutral, PublicKeyToken=7cec85d7bea7798e",
                                    "dataTypeName": "varchar"
                                },
                                {
                                    "isBytes": false,
                                    "isChars": false,
                                    "isSqlVariant": false,
                                    "isUdt": false,
                                    "isXml": false,
                                    "isJson": false,
                                    "sqlDbType": 5,
                                    "isHierarchyId": false,
                                    "isSqlXmlType": false,
                                    "isUnknownType": false,
                                    "isUpdatable": false,
                                    "allowDBNull": true,
                                    "baseCatalogName": null,
                                    "baseColumnName": null,
                                    "baseSchemaName": null,
                                    "baseServerName": null,
                                    "baseTableName": null,
                                    "columnName": "average budget",
                                    "columnOrdinal": 1,
                                    "columnSize": 17,
                                    "isAliased": null,
                                    "isAutoIncrement": false,
                                    "isExpression": null,
                                    "isHidden": null,
                                    "isIdentity": false,
                                    "isKey": null,
                                    "isLong": false,
                                    "isReadOnly": true,
                                    "isUnique": false,
                                    "numericPrecision": 38,
                                    "numericScale": 6,
                                    "udtAssemblyQualifiedName": null,
                                    "dataType": "System.Decimal, System.Private.CoreLib, Version=4.0.0.0, Culture=neutral, PublicKeyToken=7cec85d7bea7798e",
                                    "dataTypeName": "decimal"
                                }
                            ],
                            "specialAction": {
                                "none": true,
                                "expectYukonXMLShowPlan": false
                            }
                        }
                    },
                    "execution_count": 55,
                    "data": {
                        "application/vnd.dataresource+json": {
                            "schema": {
                                "fields": [
                                    {
                                        "name": "building"
                                    },
                                    {
                                        "name": "average budget"
                                    }
                                ]
                            },
                            "data": [
                                {
                                    "0": "Brodhead",
                                    "1": "777605.110000"
                                },
                                {
                                    "0": "Bronfman",
                                    "1": "734550.700000"
                                },
                                {
                                    "0": "Candlestick",
                                    "1": "757221.150000"
                                },
                                {
                                    "0": "Linderman",
                                    "1": "601283.600000"
                                },
                                {
                                    "0": "Mercer",
                                    "1": "794541.460000"
                                },
                                {
                                    "0": "Palmer",
                                    "1": "508800.295000"
                                },
                                {
                                    "0": "Rauch",
                                    "1": "520350.650000"
                                },
                                {
                                    "0": "Taylor",
                                    "1": "570482.180000"
                                },
                                {
                                    "0": "Thompson",
                                    "1": "848175.040000"
                                },
                                {
                                    "0": "Whitman",
                                    "1": "573745.090000"
                                },
                                {
                                    "0": "Wrigley",
                                    "1": "942162.760000"
                                }
                            ]
                        },
                        "text/html": [
                            "<table>",
                            "<tr><th>building</th><th>average budget</th></tr>",
                            "<tr><td>Brodhead</td><td>777605.110000</td></tr>",
                            "<tr><td>Bronfman</td><td>734550.700000</td></tr>",
                            "<tr><td>Candlestick</td><td>757221.150000</td></tr>",
                            "<tr><td>Linderman</td><td>601283.600000</td></tr>",
                            "<tr><td>Mercer</td><td>794541.460000</td></tr>",
                            "<tr><td>Palmer</td><td>508800.295000</td></tr>",
                            "<tr><td>Rauch</td><td>520350.650000</td></tr>",
                            "<tr><td>Taylor</td><td>570482.180000</td></tr>",
                            "<tr><td>Thompson</td><td>848175.040000</td></tr>",
                            "<tr><td>Whitman</td><td>573745.090000</td></tr>",
                            "<tr><td>Wrigley</td><td>942162.760000</td></tr>",
                            "</table>"
                        ]
                    }
                }
            ],
            "execution_count": 55
        },
        {
            "cell_type": "markdown",
            "source": [
                "### Nested subqueries\n",
                "\n",
                "SQL provides a mechanism for nesting subqueries. A subquery is a **select-from-where expression that is nested within another query**."
            ],
            "metadata": {
                "azdata_cell_guid": "56b3d4db-d927-4fc0-a2a6-78c7c89a9490"
            }
        }
    ]
}