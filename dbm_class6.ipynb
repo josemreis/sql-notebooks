{
    "metadata": {
        "kernelspec": {
            "name": "SQL",
            "display_name": "SQL",
            "language": "sql"
        },
        "language_info": {
            "name": "sql",
            "version": ""
        }
    },
    "nbformat_minor": 2,
    "nbformat": 4,
    "cells": [
        {
            "cell_type": "markdown",
            "source": [
                "# Introduction to SQL\n",
                "\n",
                "## Overview of the SQL query language\n",
                "\n",
                "The **Structured Query Language (SQL)** has several parts:\n",
                "\n",
                "1. **Data-definition language (DDL)**; the SQL DDL provides commands for defining relation schemas (e.g. ``student (age, name, sex, ...)``), deleting relations, and modifying relation schemas. Specifically with commands for:\n",
                "    * **Integrity**; specifying integrity constraints that the data stored in the database must satisfy. Updates that violate integrity constraints are disallowed.\n",
                "    * **View definition**;\n",
                "2. **Data-manipulation language (DML)**; the SQL DML provides the ability to query information from the database and to insert tuples into, delete tuples from, and modify tuples in a database. Here, it seems crucial to point out that SQL allows for:\n",
                "    * **transaction control**; a transaction is a unit of work performed against a database, such as update or delete; SQL contains commands to control whether the transactions are actually concluded or not which is useful to guarantee the integrity of the database, namely via commands such as ``COMMIT`` or ``ROLL BACK``\n",
                "\n",
                "## Basic data types\n",
                "\n",
                "Main built-in data types supported:\n",
                "\n",
                "* ``char(n)``; a fixed-length character string with user-specified length n, if the string is shorter than *n* SQL recycles it with spaces, e.g. if ``char(3)``,\"hi\" becomes \"hi \"\n",
                "* ``varchar(n)``; A variable-length character string with user-specified maximum length;\n",
                "* ``boolean``; logical values TRUE, FALSE AND UNKNOWN\n",
                "* ``int``; An integer;\n",
                "* ``smallint``; \n",
                "* ``numeric(p,d)``; a fixed-point number with user-specified precision, defined by the *p* parameter as number of digits of the number, and *d* as the number of the *p* digits to the right of the decimal point.\n",
                "* ``real, double precision``; Floating-point and double-precision floating-point numbers with machine dependent precision;\n",
                "* ``float(n)``; A floating-point number wiht precision of at least n digits\n",
                "* ``date``; defaults to the following format YYYY-MM-DD. For other formats, including time and datetime, [see](https://docs.microsoft.com/en-us/sql/t-sql/data-types/date-transact-sql?view=sql-server-ver15)\n",
                "\n",
                "## Basic Schema Definition (creating databases and tables)\n",
                "\n",
                "Before actually writting the code, lets create a temp database. If it already exists delete it.\n",
                "\n",
                ""
            ],
            "metadata": {
                "azdata_cell_guid": "659ec809-d657-4975-ba36-1d6464a2d645"
            }
        },
        {
            "cell_type": "code",
            "source": [
                "-- conditional creation of a temporary database\n",
                "USE master;\n",
                "GO\n",
                "IF EXISTS (SELECT * FROM sys.databases WHERE name = 'uni')\n",
                "    BEGIN\n",
                "        -- delete the db\n",
                "        DROP DATABASE uni\n",
                "        -- create it\n",
                "        CREATE DATABASE uni\n",
                "    END\n",
                "ELSE \n",
                "    BEGIN\n",
                "        -- create it\n",
                "        CREATE DATABASE uni\n",
                "    END;\n",
                "GO\n",
                "\n",
                "-- double check\n",
                "SELECT name, database_id AS id FROM sys.databases WHERE name = 'uni';\n",
                "GO"
            ],
            "metadata": {
                "azdata_cell_guid": "aab3b5b2-bdbc-41fa-8255-facff0667ac1"
            },
            "outputs": [
                {
                    "output_type": "display_data",
                    "data": {
                        "text/html": "Commands completed successfully."
                    },
                    "metadata": {}
                },
                {
                    "output_type": "display_data",
                    "data": {
                        "text/html": "Commands completed successfully."
                    },
                    "metadata": {}
                },
                {
                    "output_type": "display_data",
                    "data": {
                        "text/html": "(1 row affected)"
                    },
                    "metadata": {}
                },
                {
                    "output_type": "display_data",
                    "data": {
                        "text/html": "Total execution time: 00:00:01.710"
                    },
                    "metadata": {}
                },
                {
                    "output_type": "execute_result",
                    "execution_count": 1,
                    "data": {
                        "application/vnd.dataresource+json": {
                            "schema": {
                                "fields": [
                                    {
                                        "name": "name"
                                    },
                                    {
                                        "name": "id"
                                    }
                                ]
                            },
                            "data": [
                                {
                                    "0": "uni",
                                    "1": "7"
                                }
                            ]
                        },
                        "text/html": "<table><tr><th>name</th><th>id</th></tr><tr><td>uni</td><td>7</td></tr></table>"
                    },
                    "metadata": {
                        "resultSet": {
                            "id": 0,
                            "batchId": 2,
                            "rowCount": 1,
                            "complete": true,
                            "columnInfo": [
                                {
                                    "isBytes": false,
                                    "isChars": true,
                                    "isSqlVariant": false,
                                    "isUdt": false,
                                    "isXml": false,
                                    "isJson": false,
                                    "sqlDbType": 12,
                                    "isHierarchyId": false,
                                    "isSqlXmlType": false,
                                    "isUnknownType": false,
                                    "isUpdatable": false,
                                    "allowDBNull": true,
                                    "baseCatalogName": null,
                                    "baseColumnName": null,
                                    "baseSchemaName": null,
                                    "baseServerName": null,
                                    "baseTableName": null,
                                    "columnName": "name",
                                    "columnOrdinal": 0,
                                    "columnSize": 128,
                                    "isAliased": null,
                                    "isAutoIncrement": false,
                                    "isExpression": null,
                                    "isHidden": null,
                                    "isIdentity": false,
                                    "isKey": null,
                                    "isLong": false,
                                    "isReadOnly": true,
                                    "isUnique": false,
                                    "numericPrecision": 255,
                                    "numericScale": 255,
                                    "udtAssemblyQualifiedName": null,
                                    "dataType": "System.String, System.Private.CoreLib, Version=4.0.0.0, Culture=neutral, PublicKeyToken=7cec85d7bea7798e",
                                    "dataTypeName": "nvarchar"
                                },
                                {
                                    "isBytes": false,
                                    "isChars": false,
                                    "isSqlVariant": false,
                                    "isUdt": false,
                                    "isXml": false,
                                    "isJson": false,
                                    "sqlDbType": 8,
                                    "isHierarchyId": false,
                                    "isSqlXmlType": false,
                                    "isUnknownType": false,
                                    "isUpdatable": true,
                                    "allowDBNull": false,
                                    "baseCatalogName": null,
                                    "baseColumnName": null,
                                    "baseSchemaName": null,
                                    "baseServerName": null,
                                    "baseTableName": null,
                                    "columnName": "id",
                                    "columnOrdinal": 1,
                                    "columnSize": 4,
                                    "isAliased": null,
                                    "isAutoIncrement": false,
                                    "isExpression": null,
                                    "isHidden": null,
                                    "isIdentity": false,
                                    "isKey": null,
                                    "isLong": false,
                                    "isReadOnly": false,
                                    "isUnique": false,
                                    "numericPrecision": 10,
                                    "numericScale": 255,
                                    "udtAssemblyQualifiedName": null,
                                    "dataType": "System.Int32, System.Private.CoreLib, Version=4.0.0.0, Culture=neutral, PublicKeyToken=7cec85d7bea7798e",
                                    "dataTypeName": "int"
                                }
                            ],
                            "specialAction": {
                                "none": true,
                                "expectYukonXMLShowPlan": false
                            }
                        }
                    }
                }
            ],
            "execution_count": 1
        },
        {
            "cell_type": "markdown",
            "source": [
                "We define a SQL relation via the <code>CREATE TABLE</code> command. The command below defines the relation department. Notice that integrity constraints are added at the bottom within a list. In this cade we specificy that dept_name is the primary key of the department relation."
            ],
            "metadata": {
                "azdata_cell_guid": "0b379d90-27c2-4b1c-a8bb-da6f6a50ccaf"
            }
        },
        {
            "cell_type": "code",
            "source": [
                "-- select the relevant db\n",
                "USE uni;\n",
                "GO\n",
                "\n",
                "-- creat the dept table\n",
                "CREATE TABLE department (\n",
                "    dept_name VARCHAR(20),\n",
                "    building VARCHAR(15),\n",
                "    budget numeric (12,2),\n",
                "    PRIMARY KEY (dept_name)\n",
                ")\n",
                "\n",
                "-- double-check\n",
                "SELECT * FROM department;\n",
                "GO"
            ],
            "metadata": {
                "azdata_cell_guid": "3802d6e8-60e6-4ef4-ae21-f8dacbc803f8"
            },
            "outputs": [
                {
                    "output_type": "display_data",
                    "data": {
                        "text/html": "Commands completed successfully."
                    },
                    "metadata": {}
                },
                {
                    "output_type": "display_data",
                    "data": {
                        "text/html": "(0 rows affected)"
                    },
                    "metadata": {}
                },
                {
                    "output_type": "display_data",
                    "data": {
                        "text/html": "Total execution time: 00:00:00.874"
                    },
                    "metadata": {}
                },
                {
                    "output_type": "execute_result",
                    "execution_count": 2,
                    "data": {
                        "application/vnd.dataresource+json": {
                            "schema": {
                                "fields": [
                                    {
                                        "name": "dept_name"
                                    },
                                    {
                                        "name": "building"
                                    },
                                    {
                                        "name": "budget"
                                    }
                                ]
                            },
                            "data": []
                        },
                        "text/html": "<table><tr><th>dept_name</th><th>building</th><th>budget</th></tr></table>"
                    },
                    "metadata": {
                        "resultSet": {
                            "id": 0,
                            "batchId": 1,
                            "rowCount": 0,
                            "complete": false,
                            "columnInfo": [
                                {
                                    "isBytes": false,
                                    "isChars": true,
                                    "isSqlVariant": false,
                                    "isUdt": false,
                                    "isXml": false,
                                    "isJson": false,
                                    "sqlDbType": 22,
                                    "isHierarchyId": false,
                                    "isSqlXmlType": false,
                                    "isUnknownType": false,
                                    "isUpdatable": true,
                                    "allowDBNull": false,
                                    "baseCatalogName": null,
                                    "baseColumnName": null,
                                    "baseSchemaName": null,
                                    "baseServerName": null,
                                    "baseTableName": null,
                                    "columnName": "dept_name",
                                    "columnOrdinal": 0,
                                    "columnSize": 20,
                                    "isAliased": null,
                                    "isAutoIncrement": false,
                                    "isExpression": null,
                                    "isHidden": null,
                                    "isIdentity": false,
                                    "isKey": null,
                                    "isLong": false,
                                    "isReadOnly": false,
                                    "isUnique": false,
                                    "numericPrecision": 255,
                                    "numericScale": 255,
                                    "udtAssemblyQualifiedName": null,
                                    "dataType": "System.String, System.Private.CoreLib, Version=4.0.0.0, Culture=neutral, PublicKeyToken=7cec85d7bea7798e",
                                    "dataTypeName": "varchar"
                                },
                                {
                                    "isBytes": false,
                                    "isChars": true,
                                    "isSqlVariant": false,
                                    "isUdt": false,
                                    "isXml": false,
                                    "isJson": false,
                                    "sqlDbType": 22,
                                    "isHierarchyId": false,
                                    "isSqlXmlType": false,
                                    "isUnknownType": false,
                                    "isUpdatable": true,
                                    "allowDBNull": true,
                                    "baseCatalogName": null,
                                    "baseColumnName": null,
                                    "baseSchemaName": null,
                                    "baseServerName": null,
                                    "baseTableName": null,
                                    "columnName": "building",
                                    "columnOrdinal": 1,
                                    "columnSize": 15,
                                    "isAliased": null,
                                    "isAutoIncrement": false,
                                    "isExpression": null,
                                    "isHidden": null,
                                    "isIdentity": false,
                                    "isKey": null,
                                    "isLong": false,
                                    "isReadOnly": false,
                                    "isUnique": false,
                                    "numericPrecision": 255,
                                    "numericScale": 255,
                                    "udtAssemblyQualifiedName": null,
                                    "dataType": "System.String, System.Private.CoreLib, Version=4.0.0.0, Culture=neutral, PublicKeyToken=7cec85d7bea7798e",
                                    "dataTypeName": "varchar"
                                },
                                {
                                    "isBytes": false,
                                    "isChars": false,
                                    "isSqlVariant": false,
                                    "isUdt": false,
                                    "isXml": false,
                                    "isJson": false,
                                    "sqlDbType": 5,
                                    "isHierarchyId": false,
                                    "isSqlXmlType": false,
                                    "isUnknownType": false,
                                    "isUpdatable": true,
                                    "allowDBNull": true,
                                    "baseCatalogName": null,
                                    "baseColumnName": null,
                                    "baseSchemaName": null,
                                    "baseServerName": null,
                                    "baseTableName": null,
                                    "columnName": "budget",
                                    "columnOrdinal": 2,
                                    "columnSize": 17,
                                    "isAliased": null,
                                    "isAutoIncrement": false,
                                    "isExpression": null,
                                    "isHidden": null,
                                    "isIdentity": false,
                                    "isKey": null,
                                    "isLong": false,
                                    "isReadOnly": false,
                                    "isUnique": false,
                                    "numericPrecision": 12,
                                    "numericScale": 2,
                                    "udtAssemblyQualifiedName": null,
                                    "dataType": "System.Decimal, System.Private.CoreLib, Version=4.0.0.0, Culture=neutral, PublicKeyToken=7cec85d7bea7798e",
                                    "dataTypeName": "decimal"
                                }
                            ],
                            "specialAction": null
                        }
                    }
                }
            ],
            "execution_count": 2
        },
        {
            "cell_type": "markdown",
            "source": [
                "Sql <strong>supports a number of different integrity constraints</strong>, namely:\n",
                "\n",
                "- `FOREIGN KEY (A_1, ..., A_n) REFERENCE s`; recall that foreign key restriction state that the value of attributes `(A_1, ..., A_n)` for any tuple in the relation must correspond to values of the primary key attributes of some tuple in relation s.<br>\n",
                "\n",
                "<br>"
            ],
            "metadata": {
                "azdata_cell_guid": "095fe054-fcbd-48b4-9c9c-283318ec0bc1"
            }
        },
        {
            "cell_type": "code",
            "source": [
                "--create another table\n",
                "CREATE TABLE professors (\n",
                "    prof_id int,\n",
                "    prof_name varchar(250),\n",
                "    salary NUMERIC(8,2),\n",
                "    dept_name varchar(20),\n",
                "    PRIMARY KEY (prof_id),\n",
                "    FOREIGN KEY (dept_name) REFERENCES department\n",
                ");\n",
                "GO\n",
                "\n",
                "SELECT * FROM professors;\n",
                "GO"
            ],
            "metadata": {
                "azdata_cell_guid": "ee4bc07f-4161-4022-96c2-cac359739411"
            },
            "outputs": [
                {
                    "output_type": "display_data",
                    "data": {
                        "text/html": "Commands completed successfully."
                    },
                    "metadata": {}
                },
                {
                    "output_type": "display_data",
                    "data": {
                        "text/html": "(0 rows affected)"
                    },
                    "metadata": {}
                },
                {
                    "output_type": "display_data",
                    "data": {
                        "text/html": "Total execution time: 00:00:00.015"
                    },
                    "metadata": {}
                },
                {
                    "output_type": "execute_result",
                    "execution_count": 3,
                    "data": {
                        "application/vnd.dataresource+json": {
                            "schema": {
                                "fields": [
                                    {
                                        "name": "prof_id"
                                    },
                                    {
                                        "name": "prof_name"
                                    },
                                    {
                                        "name": "salary"
                                    },
                                    {
                                        "name": "dept_name"
                                    }
                                ]
                            },
                            "data": []
                        },
                        "text/html": "<table><tr><th>prof_id</th><th>prof_name</th><th>salary</th><th>dept_name</th></tr></table>"
                    },
                    "metadata": {
                        "resultSet": {
                            "id": 0,
                            "batchId": 1,
                            "rowCount": 0,
                            "complete": false,
                            "columnInfo": [
                                {
                                    "isBytes": false,
                                    "isChars": false,
                                    "isSqlVariant": false,
                                    "isUdt": false,
                                    "isXml": false,
                                    "isJson": false,
                                    "sqlDbType": 8,
                                    "isHierarchyId": false,
                                    "isSqlXmlType": false,
                                    "isUnknownType": false,
                                    "isUpdatable": true,
                                    "allowDBNull": false,
                                    "baseCatalogName": null,
                                    "baseColumnName": null,
                                    "baseSchemaName": null,
                                    "baseServerName": null,
                                    "baseTableName": null,
                                    "columnName": "prof_id",
                                    "columnOrdinal": 0,
                                    "columnSize": 4,
                                    "isAliased": null,
                                    "isAutoIncrement": false,
                                    "isExpression": null,
                                    "isHidden": null,
                                    "isIdentity": false,
                                    "isKey": null,
                                    "isLong": false,
                                    "isReadOnly": false,
                                    "isUnique": false,
                                    "numericPrecision": 10,
                                    "numericScale": 255,
                                    "udtAssemblyQualifiedName": null,
                                    "dataType": "System.Int32, System.Private.CoreLib, Version=4.0.0.0, Culture=neutral, PublicKeyToken=7cec85d7bea7798e",
                                    "dataTypeName": "int"
                                },
                                {
                                    "isBytes": false,
                                    "isChars": true,
                                    "isSqlVariant": false,
                                    "isUdt": false,
                                    "isXml": false,
                                    "isJson": false,
                                    "sqlDbType": 22,
                                    "isHierarchyId": false,
                                    "isSqlXmlType": false,
                                    "isUnknownType": false,
                                    "isUpdatable": true,
                                    "allowDBNull": true,
                                    "baseCatalogName": null,
                                    "baseColumnName": null,
                                    "baseSchemaName": null,
                                    "baseServerName": null,
                                    "baseTableName": null,
                                    "columnName": "prof_name",
                                    "columnOrdinal": 1,
                                    "columnSize": 250,
                                    "isAliased": null,
                                    "isAutoIncrement": false,
                                    "isExpression": null,
                                    "isHidden": null,
                                    "isIdentity": false,
                                    "isKey": null,
                                    "isLong": false,
                                    "isReadOnly": false,
                                    "isUnique": false,
                                    "numericPrecision": 255,
                                    "numericScale": 255,
                                    "udtAssemblyQualifiedName": null,
                                    "dataType": "System.String, System.Private.CoreLib, Version=4.0.0.0, Culture=neutral, PublicKeyToken=7cec85d7bea7798e",
                                    "dataTypeName": "varchar"
                                },
                                {
                                    "isBytes": false,
                                    "isChars": false,
                                    "isSqlVariant": false,
                                    "isUdt": false,
                                    "isXml": false,
                                    "isJson": false,
                                    "sqlDbType": 5,
                                    "isHierarchyId": false,
                                    "isSqlXmlType": false,
                                    "isUnknownType": false,
                                    "isUpdatable": true,
                                    "allowDBNull": true,
                                    "baseCatalogName": null,
                                    "baseColumnName": null,
                                    "baseSchemaName": null,
                                    "baseServerName": null,
                                    "baseTableName": null,
                                    "columnName": "salary",
                                    "columnOrdinal": 2,
                                    "columnSize": 17,
                                    "isAliased": null,
                                    "isAutoIncrement": false,
                                    "isExpression": null,
                                    "isHidden": null,
                                    "isIdentity": false,
                                    "isKey": null,
                                    "isLong": false,
                                    "isReadOnly": false,
                                    "isUnique": false,
                                    "numericPrecision": 8,
                                    "numericScale": 2,
                                    "udtAssemblyQualifiedName": null,
                                    "dataType": "System.Decimal, System.Private.CoreLib, Version=4.0.0.0, Culture=neutral, PublicKeyToken=7cec85d7bea7798e",
                                    "dataTypeName": "decimal"
                                },
                                {
                                    "isBytes": false,
                                    "isChars": true,
                                    "isSqlVariant": false,
                                    "isUdt": false,
                                    "isXml": false,
                                    "isJson": false,
                                    "sqlDbType": 22,
                                    "isHierarchyId": false,
                                    "isSqlXmlType": false,
                                    "isUnknownType": false,
                                    "isUpdatable": true,
                                    "allowDBNull": true,
                                    "baseCatalogName": null,
                                    "baseColumnName": null,
                                    "baseSchemaName": null,
                                    "baseServerName": null,
                                    "baseTableName": null,
                                    "columnName": "dept_name",
                                    "columnOrdinal": 3,
                                    "columnSize": 20,
                                    "isAliased": null,
                                    "isAutoIncrement": false,
                                    "isExpression": null,
                                    "isHidden": null,
                                    "isIdentity": false,
                                    "isKey": null,
                                    "isLong": false,
                                    "isReadOnly": false,
                                    "isUnique": false,
                                    "numericPrecision": 255,
                                    "numericScale": 255,
                                    "udtAssemblyQualifiedName": null,
                                    "dataType": "System.String, System.Private.CoreLib, Version=4.0.0.0, Culture=neutral, PublicKeyToken=7cec85d7bea7798e",
                                    "dataTypeName": "varchar"
                                }
                            ],
                            "specialAction": null
                        }
                    }
                }
            ],
            "execution_count": 3
        },
        {
            "cell_type": "markdown",
            "source": [
                "- `PRIMARY KEY ((A_1, ..., A_n)`; the primary key attributes are required to be **non-null** and **unique**. The primary key specifications are optional but strongly recommended."
            ],
            "metadata": {
                "azdata_cell_guid": "b2c73aa3-4b46-414f-86f9-41fb587b2e54"
            }
        },
        {
            "cell_type": "code",
            "source": [
                "-- another example\n",
                "CREATE TABLE courses (\n",
                "    course_id int,\n",
                "    title varchar(15),\n",
                "    dept_name varchar(20),\n",
                "    PRIMARY KEY (course_id),\n",
                "    FOREIGN KEY (dept_name) REFERENCES department\n",
                ");\n",
                "GO\n",
                "\n",
                "-- primary key can be composed by many fields\n",
                "CREATE TABLE teaches(\n",
                "    prof_id int,\n",
                "    course_id int,\n",
                "    semester varchar(6),\n",
                "    year numeric(4,0),\n",
                "    PRIMARY KEY (prof_id, course_id, semester, year),\n",
                "    FOREIGN KEY (course_id) REFERENCES courses,\n",
                "    FOREIGN KEY (prof_id) REFERENCES professors,\n",
                ");\n",
                "GO\n",
                "\n",
                "SELECT * FROM courses;\n",
                "GO\n",
                "\n",
                "SELECT * FROM teaches;\n",
                "GO"
            ],
            "metadata": {
                "azdata_cell_guid": "f12dfc35-b642-4f45-b9df-af2ecb623dfc"
            },
            "outputs": [
                {
                    "output_type": "display_data",
                    "data": {
                        "text/html": "Commands completed successfully."
                    },
                    "metadata": {}
                },
                {
                    "output_type": "display_data",
                    "data": {
                        "text/html": "Commands completed successfully."
                    },
                    "metadata": {}
                },
                {
                    "output_type": "display_data",
                    "data": {
                        "text/html": "(0 rows affected)"
                    },
                    "metadata": {}
                },
                {
                    "output_type": "display_data",
                    "data": {
                        "text/html": "(0 rows affected)"
                    },
                    "metadata": {}
                },
                {
                    "output_type": "display_data",
                    "data": {
                        "text/html": "Total execution time: 00:00:00.044"
                    },
                    "metadata": {}
                },
                {
                    "output_type": "execute_result",
                    "execution_count": 4,
                    "data": {
                        "application/vnd.dataresource+json": {
                            "schema": {
                                "fields": [
                                    {
                                        "name": "course_id"
                                    },
                                    {
                                        "name": "title"
                                    },
                                    {
                                        "name": "dept_name"
                                    }
                                ]
                            },
                            "data": []
                        },
                        "text/html": "<table><tr><th>course_id</th><th>title</th><th>dept_name</th></tr></table>"
                    },
                    "metadata": {
                        "resultSet": {
                            "id": 0,
                            "batchId": 2,
                            "rowCount": 0,
                            "complete": false,
                            "columnInfo": [
                                {
                                    "isBytes": false,
                                    "isChars": false,
                                    "isSqlVariant": false,
                                    "isUdt": false,
                                    "isXml": false,
                                    "isJson": false,
                                    "sqlDbType": 8,
                                    "isHierarchyId": false,
                                    "isSqlXmlType": false,
                                    "isUnknownType": false,
                                    "isUpdatable": true,
                                    "allowDBNull": false,
                                    "baseCatalogName": null,
                                    "baseColumnName": null,
                                    "baseSchemaName": null,
                                    "baseServerName": null,
                                    "baseTableName": null,
                                    "columnName": "course_id",
                                    "columnOrdinal": 0,
                                    "columnSize": 4,
                                    "isAliased": null,
                                    "isAutoIncrement": false,
                                    "isExpression": null,
                                    "isHidden": null,
                                    "isIdentity": false,
                                    "isKey": null,
                                    "isLong": false,
                                    "isReadOnly": false,
                                    "isUnique": false,
                                    "numericPrecision": 10,
                                    "numericScale": 255,
                                    "udtAssemblyQualifiedName": null,
                                    "dataType": "System.Int32, System.Private.CoreLib, Version=4.0.0.0, Culture=neutral, PublicKeyToken=7cec85d7bea7798e",
                                    "dataTypeName": "int"
                                },
                                {
                                    "isBytes": false,
                                    "isChars": true,
                                    "isSqlVariant": false,
                                    "isUdt": false,
                                    "isXml": false,
                                    "isJson": false,
                                    "sqlDbType": 22,
                                    "isHierarchyId": false,
                                    "isSqlXmlType": false,
                                    "isUnknownType": false,
                                    "isUpdatable": true,
                                    "allowDBNull": true,
                                    "baseCatalogName": null,
                                    "baseColumnName": null,
                                    "baseSchemaName": null,
                                    "baseServerName": null,
                                    "baseTableName": null,
                                    "columnName": "title",
                                    "columnOrdinal": 1,
                                    "columnSize": 15,
                                    "isAliased": null,
                                    "isAutoIncrement": false,
                                    "isExpression": null,
                                    "isHidden": null,
                                    "isIdentity": false,
                                    "isKey": null,
                                    "isLong": false,
                                    "isReadOnly": false,
                                    "isUnique": false,
                                    "numericPrecision": 255,
                                    "numericScale": 255,
                                    "udtAssemblyQualifiedName": null,
                                    "dataType": "System.String, System.Private.CoreLib, Version=4.0.0.0, Culture=neutral, PublicKeyToken=7cec85d7bea7798e",
                                    "dataTypeName": "varchar"
                                },
                                {
                                    "isBytes": false,
                                    "isChars": true,
                                    "isSqlVariant": false,
                                    "isUdt": false,
                                    "isXml": false,
                                    "isJson": false,
                                    "sqlDbType": 22,
                                    "isHierarchyId": false,
                                    "isSqlXmlType": false,
                                    "isUnknownType": false,
                                    "isUpdatable": true,
                                    "allowDBNull": true,
                                    "baseCatalogName": null,
                                    "baseColumnName": null,
                                    "baseSchemaName": null,
                                    "baseServerName": null,
                                    "baseTableName": null,
                                    "columnName": "dept_name",
                                    "columnOrdinal": 2,
                                    "columnSize": 20,
                                    "isAliased": null,
                                    "isAutoIncrement": false,
                                    "isExpression": null,
                                    "isHidden": null,
                                    "isIdentity": false,
                                    "isKey": null,
                                    "isLong": false,
                                    "isReadOnly": false,
                                    "isUnique": false,
                                    "numericPrecision": 255,
                                    "numericScale": 255,
                                    "udtAssemblyQualifiedName": null,
                                    "dataType": "System.String, System.Private.CoreLib, Version=4.0.0.0, Culture=neutral, PublicKeyToken=7cec85d7bea7798e",
                                    "dataTypeName": "varchar"
                                }
                            ],
                            "specialAction": null
                        }
                    }
                },
                {
                    "output_type": "execute_result",
                    "execution_count": 4,
                    "data": {
                        "application/vnd.dataresource+json": {
                            "schema": {
                                "fields": [
                                    {
                                        "name": "prof_id"
                                    },
                                    {
                                        "name": "course_id"
                                    },
                                    {
                                        "name": "semester"
                                    },
                                    {
                                        "name": "year"
                                    }
                                ]
                            },
                            "data": []
                        },
                        "text/html": "<table><tr><th>prof_id</th><th>course_id</th><th>semester</th><th>year</th></tr></table>"
                    },
                    "metadata": {
                        "resultSet": {
                            "id": 0,
                            "batchId": 3,
                            "rowCount": 0,
                            "complete": false,
                            "columnInfo": [
                                {
                                    "isBytes": false,
                                    "isChars": false,
                                    "isSqlVariant": false,
                                    "isUdt": false,
                                    "isXml": false,
                                    "isJson": false,
                                    "sqlDbType": 8,
                                    "isHierarchyId": false,
                                    "isSqlXmlType": false,
                                    "isUnknownType": false,
                                    "isUpdatable": true,
                                    "allowDBNull": false,
                                    "baseCatalogName": null,
                                    "baseColumnName": null,
                                    "baseSchemaName": null,
                                    "baseServerName": null,
                                    "baseTableName": null,
                                    "columnName": "prof_id",
                                    "columnOrdinal": 0,
                                    "columnSize": 4,
                                    "isAliased": null,
                                    "isAutoIncrement": false,
                                    "isExpression": null,
                                    "isHidden": null,
                                    "isIdentity": false,
                                    "isKey": null,
                                    "isLong": false,
                                    "isReadOnly": false,
                                    "isUnique": false,
                                    "numericPrecision": 10,
                                    "numericScale": 255,
                                    "udtAssemblyQualifiedName": null,
                                    "dataType": "System.Int32, System.Private.CoreLib, Version=4.0.0.0, Culture=neutral, PublicKeyToken=7cec85d7bea7798e",
                                    "dataTypeName": "int"
                                },
                                {
                                    "isBytes": false,
                                    "isChars": false,
                                    "isSqlVariant": false,
                                    "isUdt": false,
                                    "isXml": false,
                                    "isJson": false,
                                    "sqlDbType": 8,
                                    "isHierarchyId": false,
                                    "isSqlXmlType": false,
                                    "isUnknownType": false,
                                    "isUpdatable": true,
                                    "allowDBNull": false,
                                    "baseCatalogName": null,
                                    "baseColumnName": null,
                                    "baseSchemaName": null,
                                    "baseServerName": null,
                                    "baseTableName": null,
                                    "columnName": "course_id",
                                    "columnOrdinal": 1,
                                    "columnSize": 4,
                                    "isAliased": null,
                                    "isAutoIncrement": false,
                                    "isExpression": null,
                                    "isHidden": null,
                                    "isIdentity": false,
                                    "isKey": null,
                                    "isLong": false,
                                    "isReadOnly": false,
                                    "isUnique": false,
                                    "numericPrecision": 10,
                                    "numericScale": 255,
                                    "udtAssemblyQualifiedName": null,
                                    "dataType": "System.Int32, System.Private.CoreLib, Version=4.0.0.0, Culture=neutral, PublicKeyToken=7cec85d7bea7798e",
                                    "dataTypeName": "int"
                                },
                                {
                                    "isBytes": false,
                                    "isChars": true,
                                    "isSqlVariant": false,
                                    "isUdt": false,
                                    "isXml": false,
                                    "isJson": false,
                                    "sqlDbType": 22,
                                    "isHierarchyId": false,
                                    "isSqlXmlType": false,
                                    "isUnknownType": false,
                                    "isUpdatable": true,
                                    "allowDBNull": false,
                                    "baseCatalogName": null,
                                    "baseColumnName": null,
                                    "baseSchemaName": null,
                                    "baseServerName": null,
                                    "baseTableName": null,
                                    "columnName": "semester",
                                    "columnOrdinal": 2,
                                    "columnSize": 6,
                                    "isAliased": null,
                                    "isAutoIncrement": false,
                                    "isExpression": null,
                                    "isHidden": null,
                                    "isIdentity": false,
                                    "isKey": null,
                                    "isLong": false,
                                    "isReadOnly": false,
                                    "isUnique": false,
                                    "numericPrecision": 255,
                                    "numericScale": 255,
                                    "udtAssemblyQualifiedName": null,
                                    "dataType": "System.String, System.Private.CoreLib, Version=4.0.0.0, Culture=neutral, PublicKeyToken=7cec85d7bea7798e",
                                    "dataTypeName": "varchar"
                                },
                                {
                                    "isBytes": false,
                                    "isChars": false,
                                    "isSqlVariant": false,
                                    "isUdt": false,
                                    "isXml": false,
                                    "isJson": false,
                                    "sqlDbType": 5,
                                    "isHierarchyId": false,
                                    "isSqlXmlType": false,
                                    "isUnknownType": false,
                                    "isUpdatable": true,
                                    "allowDBNull": false,
                                    "baseCatalogName": null,
                                    "baseColumnName": null,
                                    "baseSchemaName": null,
                                    "baseServerName": null,
                                    "baseTableName": null,
                                    "columnName": "year",
                                    "columnOrdinal": 3,
                                    "columnSize": 17,
                                    "isAliased": null,
                                    "isAutoIncrement": false,
                                    "isExpression": null,
                                    "isHidden": null,
                                    "isIdentity": false,
                                    "isKey": null,
                                    "isLong": false,
                                    "isReadOnly": false,
                                    "isUnique": false,
                                    "numericPrecision": 4,
                                    "numericScale": 0,
                                    "udtAssemblyQualifiedName": null,
                                    "dataType": "System.Decimal, System.Private.CoreLib, Version=4.0.0.0, Culture=neutral, PublicKeyToken=7cec85d7bea7798e",
                                    "dataTypeName": "decimal"
                                }
                            ],
                            "specialAction": null
                        }
                    }
                }
            ],
            "execution_count": 4
        },
        {
            "cell_type": "markdown",
            "source": [
                "## Droping dabases and tables\n",
                "\n",
                "It is pretty straightforward."
            ],
            "metadata": {
                "azdata_cell_guid": "68e442b5-dd58-4543-9e58-32bd51a7bfd1"
            }
        },
        {
            "cell_type": "code",
            "source": [
                "-- Switch database being used\n",
                "USE master;\n",
                "GO\n",
                "-- droping a database as a whole\n",
                "DROP DATABASE uni;\n",
                "GO\n",
                "-- rebuilding it but without foreign key constraints\n",
                "CREATE DATABASE uni;\n",
                "GO\n",
                "USE uni;\n",
                "GO\n",
                "CREATE TABLE courses (\n",
                "    course_id int,\n",
                "    title varchar(15),\n",
                "    dept_name varchar(20),\n",
                "    PRIMARY KEY (course_id)\n",
                ");\n",
                "GO\n",
                "CREATE TABLE teaches(\n",
                "    prof_id int,\n",
                "    course_id int,\n",
                "    semester varchar(6),\n",
                "    year numeric(4,0),\n",
                "    PRIMARY KEY (prof_id, course_id, semester, year)\n",
                ");\n",
                "GO\n",
                "CREATE TABLE professors (\n",
                "    prof_id int,\n",
                "    prof_name varchar(250),\n",
                "    salary NUMERIC(8,2),\n",
                "    dept_name varchar(20),\n",
                "    PRIMARY KEY (prof_id),\n",
                ");\n",
                "GO\n",
                "\n",
                "SELECT name, object_id AS id FROM sys.tables;\n",
                "GO \n",
                "-- Drop a table\n",
                "DROP TABLE courses;\n",
                "GO\n",
                "-- check\n",
                "SELECT name, object_id AS id FROM sys.tables;\n",
                "GO \n",
                "-- Drop two tables\n",
                "DROP TABLE teaches, professors;\n",
                "GO\n",
                "-- check\n",
                "SELECT name, object_id AS id FROM sys.tables;\n",
                "GO\n",
                "-- Switch database being used\n",
                "USE tempdb;\n",
                "GO\n",
                "-- Drop the entire database\n",
                "DROP DATABASE uni;\n",
                "GO\n",
                "-- check\n",
                "SELECT name FROM sys.databases;\n",
                "GO  "
            ],
            "metadata": {
                "azdata_cell_guid": "6d191b65-46b5-44c3-8a17-39c65599ae35"
            },
            "outputs": [
                {
                    "output_type": "display_data",
                    "data": {
                        "text/html": "Commands completed successfully."
                    },
                    "metadata": {}
                },
                {
                    "output_type": "display_data",
                    "data": {
                        "text/html": "Commands completed successfully."
                    },
                    "metadata": {}
                },
                {
                    "output_type": "display_data",
                    "data": {
                        "text/html": "Commands completed successfully."
                    },
                    "metadata": {}
                },
                {
                    "output_type": "display_data",
                    "data": {
                        "text/html": "Commands completed successfully."
                    },
                    "metadata": {}
                },
                {
                    "output_type": "display_data",
                    "data": {
                        "text/html": "Commands completed successfully."
                    },
                    "metadata": {}
                },
                {
                    "output_type": "display_data",
                    "data": {
                        "text/html": "Commands completed successfully."
                    },
                    "metadata": {}
                },
                {
                    "output_type": "display_data",
                    "data": {
                        "text/html": "Commands completed successfully."
                    },
                    "metadata": {}
                },
                {
                    "output_type": "display_data",
                    "data": {
                        "text/html": "(3 rows affected)"
                    },
                    "metadata": {}
                },
                {
                    "output_type": "display_data",
                    "data": {
                        "text/html": "Commands completed successfully."
                    },
                    "metadata": {}
                },
                {
                    "output_type": "display_data",
                    "data": {
                        "text/html": "(2 rows affected)"
                    },
                    "metadata": {}
                },
                {
                    "output_type": "display_data",
                    "data": {
                        "text/html": "Commands completed successfully."
                    },
                    "metadata": {}
                },
                {
                    "output_type": "display_data",
                    "data": {
                        "text/html": "(0 rows affected)"
                    },
                    "metadata": {}
                },
                {
                    "output_type": "display_data",
                    "data": {
                        "text/html": "Commands completed successfully."
                    },
                    "metadata": {}
                },
                {
                    "output_type": "display_data",
                    "data": {
                        "text/html": "Commands completed successfully."
                    },
                    "metadata": {}
                },
                {
                    "output_type": "display_data",
                    "data": {
                        "text/html": "(6 rows affected)"
                    },
                    "metadata": {}
                },
                {
                    "output_type": "display_data",
                    "data": {
                        "text/html": "Total execution time: 00:00:01.180"
                    },
                    "metadata": {}
                },
                {
                    "output_type": "execute_result",
                    "execution_count": 5,
                    "data": {
                        "application/vnd.dataresource+json": {
                            "schema": {
                                "fields": [
                                    {
                                        "name": "name"
                                    },
                                    {
                                        "name": "id"
                                    }
                                ]
                            },
                            "data": [
                                {
                                    "0": "courses",
                                    "1": "581577110"
                                },
                                {
                                    "0": "teaches",
                                    "1": "613577224"
                                },
                                {
                                    "0": "professors",
                                    "1": "645577338"
                                }
                            ]
                        },
                        "text/html": "<table><tr><th>name</th><th>id</th></tr><tr><td>courses</td><td>581577110</td></tr><tr><td>teaches</td><td>613577224</td></tr><tr><td>professors</td><td>645577338</td></tr></table>"
                    },
                    "metadata": {
                        "resultSet": {
                            "id": 0,
                            "batchId": 7,
                            "rowCount": 3,
                            "complete": true,
                            "columnInfo": [
                                {
                                    "isBytes": false,
                                    "isChars": true,
                                    "isSqlVariant": false,
                                    "isUdt": false,
                                    "isXml": false,
                                    "isJson": false,
                                    "sqlDbType": 12,
                                    "isHierarchyId": false,
                                    "isSqlXmlType": false,
                                    "isUnknownType": false,
                                    "isUpdatable": true,
                                    "allowDBNull": false,
                                    "baseCatalogName": null,
                                    "baseColumnName": null,
                                    "baseSchemaName": null,
                                    "baseServerName": null,
                                    "baseTableName": null,
                                    "columnName": "name",
                                    "columnOrdinal": 0,
                                    "columnSize": 128,
                                    "isAliased": null,
                                    "isAutoIncrement": false,
                                    "isExpression": null,
                                    "isHidden": null,
                                    "isIdentity": false,
                                    "isKey": null,
                                    "isLong": false,
                                    "isReadOnly": false,
                                    "isUnique": false,
                                    "numericPrecision": 255,
                                    "numericScale": 255,
                                    "udtAssemblyQualifiedName": null,
                                    "dataType": "System.String, System.Private.CoreLib, Version=4.0.0.0, Culture=neutral, PublicKeyToken=7cec85d7bea7798e",
                                    "dataTypeName": "nvarchar"
                                },
                                {
                                    "isBytes": false,
                                    "isChars": false,
                                    "isSqlVariant": false,
                                    "isUdt": false,
                                    "isXml": false,
                                    "isJson": false,
                                    "sqlDbType": 8,
                                    "isHierarchyId": false,
                                    "isSqlXmlType": false,
                                    "isUnknownType": false,
                                    "isUpdatable": true,
                                    "allowDBNull": false,
                                    "baseCatalogName": null,
                                    "baseColumnName": null,
                                    "baseSchemaName": null,
                                    "baseServerName": null,
                                    "baseTableName": null,
                                    "columnName": "id",
                                    "columnOrdinal": 1,
                                    "columnSize": 4,
                                    "isAliased": null,
                                    "isAutoIncrement": false,
                                    "isExpression": null,
                                    "isHidden": null,
                                    "isIdentity": false,
                                    "isKey": null,
                                    "isLong": false,
                                    "isReadOnly": false,
                                    "isUnique": false,
                                    "numericPrecision": 10,
                                    "numericScale": 255,
                                    "udtAssemblyQualifiedName": null,
                                    "dataType": "System.Int32, System.Private.CoreLib, Version=4.0.0.0, Culture=neutral, PublicKeyToken=7cec85d7bea7798e",
                                    "dataTypeName": "int"
                                }
                            ],
                            "specialAction": {
                                "none": true,
                                "expectYukonXMLShowPlan": false
                            }
                        }
                    }
                },
                {
                    "output_type": "execute_result",
                    "execution_count": 5,
                    "data": {
                        "application/vnd.dataresource+json": {
                            "schema": {
                                "fields": [
                                    {
                                        "name": "name"
                                    },
                                    {
                                        "name": "id"
                                    }
                                ]
                            },
                            "data": [
                                {
                                    "0": "teaches",
                                    "1": "613577224"
                                },
                                {
                                    "0": "professors",
                                    "1": "645577338"
                                }
                            ]
                        },
                        "text/html": "<table><tr><th>name</th><th>id</th></tr><tr><td>teaches</td><td>613577224</td></tr><tr><td>professors</td><td>645577338</td></tr></table>"
                    },
                    "metadata": {
                        "resultSet": {
                            "id": 0,
                            "batchId": 9,
                            "rowCount": 2,
                            "complete": true,
                            "columnInfo": [
                                {
                                    "isBytes": false,
                                    "isChars": true,
                                    "isSqlVariant": false,
                                    "isUdt": false,
                                    "isXml": false,
                                    "isJson": false,
                                    "sqlDbType": 12,
                                    "isHierarchyId": false,
                                    "isSqlXmlType": false,
                                    "isUnknownType": false,
                                    "isUpdatable": true,
                                    "allowDBNull": false,
                                    "baseCatalogName": null,
                                    "baseColumnName": null,
                                    "baseSchemaName": null,
                                    "baseServerName": null,
                                    "baseTableName": null,
                                    "columnName": "name",
                                    "columnOrdinal": 0,
                                    "columnSize": 128,
                                    "isAliased": null,
                                    "isAutoIncrement": false,
                                    "isExpression": null,
                                    "isHidden": null,
                                    "isIdentity": false,
                                    "isKey": null,
                                    "isLong": false,
                                    "isReadOnly": false,
                                    "isUnique": false,
                                    "numericPrecision": 255,
                                    "numericScale": 255,
                                    "udtAssemblyQualifiedName": null,
                                    "dataType": "System.String, System.Private.CoreLib, Version=4.0.0.0, Culture=neutral, PublicKeyToken=7cec85d7bea7798e",
                                    "dataTypeName": "nvarchar"
                                },
                                {
                                    "isBytes": false,
                                    "isChars": false,
                                    "isSqlVariant": false,
                                    "isUdt": false,
                                    "isXml": false,
                                    "isJson": false,
                                    "sqlDbType": 8,
                                    "isHierarchyId": false,
                                    "isSqlXmlType": false,
                                    "isUnknownType": false,
                                    "isUpdatable": true,
                                    "allowDBNull": false,
                                    "baseCatalogName": null,
                                    "baseColumnName": null,
                                    "baseSchemaName": null,
                                    "baseServerName": null,
                                    "baseTableName": null,
                                    "columnName": "id",
                                    "columnOrdinal": 1,
                                    "columnSize": 4,
                                    "isAliased": null,
                                    "isAutoIncrement": false,
                                    "isExpression": null,
                                    "isHidden": null,
                                    "isIdentity": false,
                                    "isKey": null,
                                    "isLong": false,
                                    "isReadOnly": false,
                                    "isUnique": false,
                                    "numericPrecision": 10,
                                    "numericScale": 255,
                                    "udtAssemblyQualifiedName": null,
                                    "dataType": "System.Int32, System.Private.CoreLib, Version=4.0.0.0, Culture=neutral, PublicKeyToken=7cec85d7bea7798e",
                                    "dataTypeName": "int"
                                }
                            ],
                            "specialAction": {
                                "none": true,
                                "expectYukonXMLShowPlan": false
                            }
                        }
                    }
                },
                {
                    "output_type": "execute_result",
                    "execution_count": 5,
                    "data": {
                        "application/vnd.dataresource+json": {
                            "schema": {
                                "fields": [
                                    {
                                        "name": "name"
                                    },
                                    {
                                        "name": "id"
                                    }
                                ]
                            },
                            "data": []
                        },
                        "text/html": "<table><tr><th>name</th><th>id</th></tr></table>"
                    },
                    "metadata": {
                        "resultSet": {
                            "id": 0,
                            "batchId": 11,
                            "rowCount": 0,
                            "complete": false,
                            "columnInfo": [
                                {
                                    "isBytes": false,
                                    "isChars": true,
                                    "isSqlVariant": false,
                                    "isUdt": false,
                                    "isXml": false,
                                    "isJson": false,
                                    "sqlDbType": 12,
                                    "isHierarchyId": false,
                                    "isSqlXmlType": false,
                                    "isUnknownType": false,
                                    "isUpdatable": true,
                                    "allowDBNull": false,
                                    "baseCatalogName": null,
                                    "baseColumnName": null,
                                    "baseSchemaName": null,
                                    "baseServerName": null,
                                    "baseTableName": null,
                                    "columnName": "name",
                                    "columnOrdinal": 0,
                                    "columnSize": 128,
                                    "isAliased": null,
                                    "isAutoIncrement": false,
                                    "isExpression": null,
                                    "isHidden": null,
                                    "isIdentity": false,
                                    "isKey": null,
                                    "isLong": false,
                                    "isReadOnly": false,
                                    "isUnique": false,
                                    "numericPrecision": 255,
                                    "numericScale": 255,
                                    "udtAssemblyQualifiedName": null,
                                    "dataType": "System.String, System.Private.CoreLib, Version=4.0.0.0, Culture=neutral, PublicKeyToken=7cec85d7bea7798e",
                                    "dataTypeName": "nvarchar"
                                },
                                {
                                    "isBytes": false,
                                    "isChars": false,
                                    "isSqlVariant": false,
                                    "isUdt": false,
                                    "isXml": false,
                                    "isJson": false,
                                    "sqlDbType": 8,
                                    "isHierarchyId": false,
                                    "isSqlXmlType": false,
                                    "isUnknownType": false,
                                    "isUpdatable": true,
                                    "allowDBNull": false,
                                    "baseCatalogName": null,
                                    "baseColumnName": null,
                                    "baseSchemaName": null,
                                    "baseServerName": null,
                                    "baseTableName": null,
                                    "columnName": "id",
                                    "columnOrdinal": 1,
                                    "columnSize": 4,
                                    "isAliased": null,
                                    "isAutoIncrement": false,
                                    "isExpression": null,
                                    "isHidden": null,
                                    "isIdentity": false,
                                    "isKey": null,
                                    "isLong": false,
                                    "isReadOnly": false,
                                    "isUnique": false,
                                    "numericPrecision": 10,
                                    "numericScale": 255,
                                    "udtAssemblyQualifiedName": null,
                                    "dataType": "System.Int32, System.Private.CoreLib, Version=4.0.0.0, Culture=neutral, PublicKeyToken=7cec85d7bea7798e",
                                    "dataTypeName": "int"
                                }
                            ],
                            "specialAction": null
                        }
                    }
                },
                {
                    "output_type": "execute_result",
                    "execution_count": 5,
                    "data": {
                        "application/vnd.dataresource+json": {
                            "schema": {
                                "fields": [
                                    {
                                        "name": "name"
                                    }
                                ]
                            },
                            "data": [
                                {
                                    "0": "master"
                                },
                                {
                                    "0": "tempdb"
                                },
                                {
                                    "0": "model"
                                },
                                {
                                    "0": "msdb"
                                },
                                {
                                    "0": "udemy"
                                },
                                {
                                    "0": "dbm_project"
                                }
                            ]
                        },
                        "text/html": "<table><tr><th>name</th></tr><tr><td>master</td></tr><tr><td>tempdb</td></tr><tr><td>model</td></tr><tr><td>msdb</td></tr><tr><td>udemy</td></tr><tr><td>dbm_project</td></tr></table>"
                    },
                    "metadata": {
                        "resultSet": {
                            "id": 0,
                            "batchId": 14,
                            "rowCount": 6,
                            "complete": true,
                            "columnInfo": [
                                {
                                    "isBytes": false,
                                    "isChars": true,
                                    "isSqlVariant": false,
                                    "isUdt": false,
                                    "isXml": false,
                                    "isJson": false,
                                    "sqlDbType": 12,
                                    "isHierarchyId": false,
                                    "isSqlXmlType": false,
                                    "isUnknownType": false,
                                    "isUpdatable": false,
                                    "allowDBNull": true,
                                    "baseCatalogName": null,
                                    "baseColumnName": null,
                                    "baseSchemaName": null,
                                    "baseServerName": null,
                                    "baseTableName": null,
                                    "columnName": "name",
                                    "columnOrdinal": 0,
                                    "columnSize": 128,
                                    "isAliased": null,
                                    "isAutoIncrement": false,
                                    "isExpression": null,
                                    "isHidden": null,
                                    "isIdentity": false,
                                    "isKey": null,
                                    "isLong": false,
                                    "isReadOnly": true,
                                    "isUnique": false,
                                    "numericPrecision": 255,
                                    "numericScale": 255,
                                    "udtAssemblyQualifiedName": null,
                                    "dataType": "System.String, System.Private.CoreLib, Version=4.0.0.0, Culture=neutral, PublicKeyToken=7cec85d7bea7798e",
                                    "dataTypeName": "nvarchar"
                                }
                            ],
                            "specialAction": {
                                "none": true,
                                "expectYukonXMLShowPlan": false
                            }
                        }
                    }
                }
            ],
            "execution_count": 5
        },
        {
            "cell_type": "markdown",
            "source": [
                "As for dropping columns, we have to preced the ``DROP`` with a ``ALTER TABLE``."
            ],
            "metadata": {
                "azdata_cell_guid": "41e4a0a3-c177-4876-93c3-859514c58fde"
            }
        },
        {
            "cell_type": "code",
            "source": [
                "-- rebuilding it but without foreign key constraints\n",
                "CREATE DATABASE uni;\n",
                "GO\n",
                "USE uni;\n",
                "GO\n",
                "CREATE TABLE courses (\n",
                "    course_id int,\n",
                "    title varchar(15),\n",
                "    dept_name varchar(20),\n",
                "    fooh varchar(100)\n",
                ");\n",
                "GO\n",
                "-- Drop the dept_name columns\n",
                "ALTER TABLE courses\n",
                "DROP COLUMN dept_name;\n",
                "GO\n",
                "SELECT * FROM courses;\n",
                "GO\n",
                "\n",
                "-- Drop two columns\n",
                "ALTER TABLE courses\n",
                "DROP COLUMN title, course_id;\n",
                "GO\n",
                "SELECT * FROM courses;\n",
                "GO"
            ],
            "metadata": {
                "azdata_cell_guid": "9964a4f6-a8cb-407a-8563-779b91512a46"
            },
            "outputs": [
                {
                    "output_type": "display_data",
                    "data": {
                        "text/html": "Commands completed successfully."
                    },
                    "metadata": {}
                },
                {
                    "output_type": "display_data",
                    "data": {
                        "text/html": "Commands completed successfully."
                    },
                    "metadata": {}
                },
                {
                    "output_type": "display_data",
                    "data": {
                        "text/html": "Commands completed successfully."
                    },
                    "metadata": {}
                },
                {
                    "output_type": "display_data",
                    "data": {
                        "text/html": "Commands completed successfully."
                    },
                    "metadata": {}
                },
                {
                    "output_type": "display_data",
                    "data": {
                        "text/html": "(0 rows affected)"
                    },
                    "metadata": {}
                },
                {
                    "output_type": "display_data",
                    "data": {
                        "text/html": "Commands completed successfully."
                    },
                    "metadata": {}
                },
                {
                    "output_type": "display_data",
                    "data": {
                        "text/html": "(0 rows affected)"
                    },
                    "metadata": {}
                },
                {
                    "output_type": "display_data",
                    "data": {
                        "text/html": "Total execution time: 00:00:00.638"
                    },
                    "metadata": {}
                },
                {
                    "output_type": "execute_result",
                    "execution_count": 6,
                    "data": {
                        "application/vnd.dataresource+json": {
                            "schema": {
                                "fields": [
                                    {
                                        "name": "course_id"
                                    },
                                    {
                                        "name": "title"
                                    },
                                    {
                                        "name": "fooh"
                                    }
                                ]
                            },
                            "data": []
                        },
                        "text/html": "<table><tr><th>course_id</th><th>title</th><th>fooh</th></tr></table>"
                    },
                    "metadata": {
                        "resultSet": {
                            "id": 0,
                            "batchId": 4,
                            "rowCount": 0,
                            "complete": false,
                            "columnInfo": [
                                {
                                    "isBytes": false,
                                    "isChars": false,
                                    "isSqlVariant": false,
                                    "isUdt": false,
                                    "isXml": false,
                                    "isJson": false,
                                    "sqlDbType": 8,
                                    "isHierarchyId": false,
                                    "isSqlXmlType": false,
                                    "isUnknownType": false,
                                    "isUpdatable": true,
                                    "allowDBNull": true,
                                    "baseCatalogName": null,
                                    "baseColumnName": null,
                                    "baseSchemaName": null,
                                    "baseServerName": null,
                                    "baseTableName": null,
                                    "columnName": "course_id",
                                    "columnOrdinal": 0,
                                    "columnSize": 4,
                                    "isAliased": null,
                                    "isAutoIncrement": false,
                                    "isExpression": null,
                                    "isHidden": null,
                                    "isIdentity": false,
                                    "isKey": null,
                                    "isLong": false,
                                    "isReadOnly": false,
                                    "isUnique": false,
                                    "numericPrecision": 10,
                                    "numericScale": 255,
                                    "udtAssemblyQualifiedName": null,
                                    "dataType": "System.Int32, System.Private.CoreLib, Version=4.0.0.0, Culture=neutral, PublicKeyToken=7cec85d7bea7798e",
                                    "dataTypeName": "int"
                                },
                                {
                                    "isBytes": false,
                                    "isChars": true,
                                    "isSqlVariant": false,
                                    "isUdt": false,
                                    "isXml": false,
                                    "isJson": false,
                                    "sqlDbType": 22,
                                    "isHierarchyId": false,
                                    "isSqlXmlType": false,
                                    "isUnknownType": false,
                                    "isUpdatable": true,
                                    "allowDBNull": true,
                                    "baseCatalogName": null,
                                    "baseColumnName": null,
                                    "baseSchemaName": null,
                                    "baseServerName": null,
                                    "baseTableName": null,
                                    "columnName": "title",
                                    "columnOrdinal": 1,
                                    "columnSize": 15,
                                    "isAliased": null,
                                    "isAutoIncrement": false,
                                    "isExpression": null,
                                    "isHidden": null,
                                    "isIdentity": false,
                                    "isKey": null,
                                    "isLong": false,
                                    "isReadOnly": false,
                                    "isUnique": false,
                                    "numericPrecision": 255,
                                    "numericScale": 255,
                                    "udtAssemblyQualifiedName": null,
                                    "dataType": "System.String, System.Private.CoreLib, Version=4.0.0.0, Culture=neutral, PublicKeyToken=7cec85d7bea7798e",
                                    "dataTypeName": "varchar"
                                },
                                {
                                    "isBytes": false,
                                    "isChars": true,
                                    "isSqlVariant": false,
                                    "isUdt": false,
                                    "isXml": false,
                                    "isJson": false,
                                    "sqlDbType": 22,
                                    "isHierarchyId": false,
                                    "isSqlXmlType": false,
                                    "isUnknownType": false,
                                    "isUpdatable": true,
                                    "allowDBNull": true,
                                    "baseCatalogName": null,
                                    "baseColumnName": null,
                                    "baseSchemaName": null,
                                    "baseServerName": null,
                                    "baseTableName": null,
                                    "columnName": "fooh",
                                    "columnOrdinal": 2,
                                    "columnSize": 100,
                                    "isAliased": null,
                                    "isAutoIncrement": false,
                                    "isExpression": null,
                                    "isHidden": null,
                                    "isIdentity": false,
                                    "isKey": null,
                                    "isLong": false,
                                    "isReadOnly": false,
                                    "isUnique": false,
                                    "numericPrecision": 255,
                                    "numericScale": 255,
                                    "udtAssemblyQualifiedName": null,
                                    "dataType": "System.String, System.Private.CoreLib, Version=4.0.0.0, Culture=neutral, PublicKeyToken=7cec85d7bea7798e",
                                    "dataTypeName": "varchar"
                                }
                            ],
                            "specialAction": null
                        }
                    }
                },
                {
                    "output_type": "execute_result",
                    "execution_count": 6,
                    "data": {
                        "application/vnd.dataresource+json": {
                            "schema": {
                                "fields": [
                                    {
                                        "name": "fooh"
                                    }
                                ]
                            },
                            "data": []
                        },
                        "text/html": "<table><tr><th>fooh</th></tr></table>"
                    },
                    "metadata": {
                        "resultSet": {
                            "id": 0,
                            "batchId": 6,
                            "rowCount": 0,
                            "complete": false,
                            "columnInfo": [
                                {
                                    "isBytes": false,
                                    "isChars": true,
                                    "isSqlVariant": false,
                                    "isUdt": false,
                                    "isXml": false,
                                    "isJson": false,
                                    "sqlDbType": 22,
                                    "isHierarchyId": false,
                                    "isSqlXmlType": false,
                                    "isUnknownType": false,
                                    "isUpdatable": true,
                                    "allowDBNull": true,
                                    "baseCatalogName": null,
                                    "baseColumnName": null,
                                    "baseSchemaName": null,
                                    "baseServerName": null,
                                    "baseTableName": null,
                                    "columnName": "fooh",
                                    "columnOrdinal": 0,
                                    "columnSize": 100,
                                    "isAliased": null,
                                    "isAutoIncrement": false,
                                    "isExpression": null,
                                    "isHidden": null,
                                    "isIdentity": false,
                                    "isKey": null,
                                    "isLong": false,
                                    "isReadOnly": false,
                                    "isUnique": false,
                                    "numericPrecision": 255,
                                    "numericScale": 255,
                                    "udtAssemblyQualifiedName": null,
                                    "dataType": "System.String, System.Private.CoreLib, Version=4.0.0.0, Culture=neutral, PublicKeyToken=7cec85d7bea7798e",
                                    "dataTypeName": "varchar"
                                }
                            ],
                            "specialAction": null
                        }
                    }
                }
            ],
            "execution_count": 6
        },
        {
            "cell_type": "markdown",
            "source": [
                "We can also drop constraints. This is particularly useful to do before removing a column with a constraint."
            ],
            "metadata": {
                "azdata_cell_guid": "64f348b3-7a10-46b1-9dd6-8f523a582f11"
            }
        },
        {
            "cell_type": "code",
            "source": [
                "-- Create a table with constraints\n",
                "CREATE TABLE doc_exc (\n",
                "    column_a int NOT NULL CONSTRAINT my_constraint UNIQUE,\n",
                "    column_b int NOT NULL CONSTRAINT my_pk_constraint PRIMARY KEY\n",
                ");\n",
                "GO\n",
                "-- Remove the constraints\n",
                "ALTER TABLE doc_exc\n",
                "DROP CONSTRAINT my_constraint, my_pk_constraint;\n",
                "GO"
            ],
            "metadata": {
                "azdata_cell_guid": "417aa276-2111-4514-ac0e-de9da8270e05"
            },
            "outputs": [
                {
                    "output_type": "display_data",
                    "data": {
                        "text/html": "Commands completed successfully."
                    },
                    "metadata": {}
                },
                {
                    "output_type": "display_data",
                    "data": {
                        "text/html": "Commands completed successfully."
                    },
                    "metadata": {}
                },
                {
                    "output_type": "display_data",
                    "data": {
                        "text/html": "Total execution time: 00:00:00.011"
                    },
                    "metadata": {}
                }
            ],
            "execution_count": 7
        },
        {
            "cell_type": "markdown",
            "source": [
                "## Basic structure of SQL queries\n",
                "\n",
                "The basic structure of SQL queries consists of three clauses:\n",
                "\n",
                "- `SELECT` -\\> **column list**;\n",
                "- `FROM` -\\> **table list**;\n",
                "- `WHERE` -\\> **predicate/logical condition**\n",
                "\n",
                "For example, using our database above, “Find the names of all instructors.” Instructor names are found in the instructor relation, so we put that relation in the from clause. The instructor’s name appears in the name attribute, so we put that in the select clause.\n",
                "\n",
                "```\n",
                "SELECT name \n",
                "FROM instructor;\n",
                "```\n",
                "\n",
                "Now consider another query, “Find the department names of all instructors,” which can be written as:\n",
                "\n",
                "```\n",
                "SELECT dept_name\n",
                "FROM instructor;\n",
                "```\n",
                "\n",
                "Given the question at hand, we might just be interested in distinct department names since the duplicates are not informative. We can do so by adding this clause.\n",
                "\n",
                "```\n",
                "SELECT DISTINCT dept_name\n",
                "FROM instructor;\n",
                "```\n",
                "\n",
                "Now we will focus a bit more on slightly more complex queries. As such lets re-create our database, add two tables and fill it with some fake data. The code below does that."
            ],
            "metadata": {
                "azdata_cell_guid": "16229abd-3aea-41d4-972d-3d267b5918e6"
            }
        },
        {
            "cell_type": "code",
            "source": [
                "-- conditional creation of a temporary database\n",
                "USE master;\n",
                "GO\n",
                "IF EXISTS (SELECT * FROM sys.databases WHERE name = 'uni')\n",
                "    BEGIN\n",
                "        -- delete the db\n",
                "        DROP DATABASE uni\n",
                "        -- create it\n",
                "        CREATE DATABASE uni\n",
                "        USE uni\n",
                "        -- creat the dept table\n",
                "        CREATE TABLE department (\n",
                "            dept_name VARCHAR(20),\n",
                "            building VARCHAR(15),\n",
                "            budget numeric (12,2),\n",
                "            PRIMARY KEY (dept_name)\n",
                "        )\n",
                "        -- create the prof table\n",
                "        CREATE TABLE professors (\n",
                "            prof_id int,\n",
                "            prof_name varchar(250),\n",
                "            dept_name varchar(20),\n",
                "            salary numeric(8,2),\n",
                "            PRIMARY KEY (prof_id),\n",
                "        )\n",
                "        -- insert some data\n",
                "        insert into professors values ('10101', 'Srinivasan', 'Comp. Sci.', '65000');\n",
                "        insert into professors values ('12121', 'Wu', 'Finance', '90000');\n",
                "        insert into professors values ('15151', 'Mozart', 'Music', '40000');\n",
                "        insert into department values ('Biology', 'Watson', '90000');\n",
                "        insert into department values ('Comp. Sci.', 'Taylor', '100000');\n",
                "        insert into department values ('Elec. Eng.', 'Taylor', '85000');\n",
                "        insert into department values ('Finance', 'Painter', '120000');\n",
                "    END;\n",
                "    GO"
            ],
            "metadata": {
                "azdata_cell_guid": "c9158143-124d-4869-80ea-4fdc66c5793f"
            },
            "outputs": [
                {
                    "output_type": "display_data",
                    "data": {
                        "text/html": "Commands completed successfully."
                    },
                    "metadata": {}
                },
                {
                    "output_type": "display_data",
                    "data": {
                        "text/html": "(1 row affected)"
                    },
                    "metadata": {}
                },
                {
                    "output_type": "display_data",
                    "data": {
                        "text/html": "(1 row affected)"
                    },
                    "metadata": {}
                },
                {
                    "output_type": "display_data",
                    "data": {
                        "text/html": "(1 row affected)"
                    },
                    "metadata": {}
                },
                {
                    "output_type": "display_data",
                    "data": {
                        "text/html": "(1 row affected)"
                    },
                    "metadata": {}
                },
                {
                    "output_type": "display_data",
                    "data": {
                        "text/html": "(1 row affected)"
                    },
                    "metadata": {}
                },
                {
                    "output_type": "display_data",
                    "data": {
                        "text/html": "(1 row affected)"
                    },
                    "metadata": {}
                },
                {
                    "output_type": "display_data",
                    "data": {
                        "text/html": "(1 row affected)"
                    },
                    "metadata": {}
                },
                {
                    "output_type": "display_data",
                    "data": {
                        "text/html": "Total execution time: 00:00:00.747"
                    },
                    "metadata": {}
                }
            ],
            "execution_count": 8
        },
        {
            "cell_type": "code",
            "source": [
                "USE uni;\n",
                "GO\n",
                "SELECT * FROM professors;\n",
                "GO\n",
                "SELECT * FROM department;\n",
                "GO"
            ],
            "metadata": {
                "azdata_cell_guid": "b402d679-e58d-4ecf-836c-349057a8775c"
            },
            "outputs": [
                {
                    "output_type": "display_data",
                    "data": {
                        "text/html": "Commands completed successfully."
                    },
                    "metadata": {}
                },
                {
                    "output_type": "display_data",
                    "data": {
                        "text/html": "(3 rows affected)"
                    },
                    "metadata": {}
                },
                {
                    "output_type": "display_data",
                    "data": {
                        "text/html": "(4 rows affected)"
                    },
                    "metadata": {}
                },
                {
                    "output_type": "display_data",
                    "data": {
                        "text/html": "Total execution time: 00:00:00.013"
                    },
                    "metadata": {}
                },
                {
                    "output_type": "execute_result",
                    "execution_count": 9,
                    "data": {
                        "application/vnd.dataresource+json": {
                            "schema": {
                                "fields": [
                                    {
                                        "name": "prof_id"
                                    },
                                    {
                                        "name": "prof_name"
                                    },
                                    {
                                        "name": "dept_name"
                                    },
                                    {
                                        "name": "salary"
                                    }
                                ]
                            },
                            "data": [
                                {
                                    "0": "10101",
                                    "1": "Srinivasan",
                                    "2": "Comp. Sci.",
                                    "3": "65000.00"
                                },
                                {
                                    "0": "12121",
                                    "1": "Wu",
                                    "2": "Finance",
                                    "3": "90000.00"
                                },
                                {
                                    "0": "15151",
                                    "1": "Mozart",
                                    "2": "Music",
                                    "3": "40000.00"
                                }
                            ]
                        },
                        "text/html": "<table><tr><th>prof_id</th><th>prof_name</th><th>dept_name</th><th>salary</th></tr><tr><td>10101</td><td>Srinivasan</td><td>Comp. Sci.</td><td>65000.00</td></tr><tr><td>12121</td><td>Wu</td><td>Finance</td><td>90000.00</td></tr><tr><td>15151</td><td>Mozart</td><td>Music</td><td>40000.00</td></tr></table>"
                    },
                    "metadata": {
                        "resultSet": {
                            "id": 0,
                            "batchId": 1,
                            "rowCount": 3,
                            "complete": true,
                            "columnInfo": [
                                {
                                    "isBytes": false,
                                    "isChars": false,
                                    "isSqlVariant": false,
                                    "isUdt": false,
                                    "isXml": false,
                                    "isJson": false,
                                    "sqlDbType": 8,
                                    "isHierarchyId": false,
                                    "isSqlXmlType": false,
                                    "isUnknownType": false,
                                    "isUpdatable": true,
                                    "allowDBNull": false,
                                    "baseCatalogName": null,
                                    "baseColumnName": null,
                                    "baseSchemaName": null,
                                    "baseServerName": null,
                                    "baseTableName": null,
                                    "columnName": "prof_id",
                                    "columnOrdinal": 0,
                                    "columnSize": 4,
                                    "isAliased": null,
                                    "isAutoIncrement": false,
                                    "isExpression": null,
                                    "isHidden": null,
                                    "isIdentity": false,
                                    "isKey": null,
                                    "isLong": false,
                                    "isReadOnly": false,
                                    "isUnique": false,
                                    "numericPrecision": 10,
                                    "numericScale": 255,
                                    "udtAssemblyQualifiedName": null,
                                    "dataType": "System.Int32, System.Private.CoreLib, Version=4.0.0.0, Culture=neutral, PublicKeyToken=7cec85d7bea7798e",
                                    "dataTypeName": "int"
                                },
                                {
                                    "isBytes": false,
                                    "isChars": true,
                                    "isSqlVariant": false,
                                    "isUdt": false,
                                    "isXml": false,
                                    "isJson": false,
                                    "sqlDbType": 22,
                                    "isHierarchyId": false,
                                    "isSqlXmlType": false,
                                    "isUnknownType": false,
                                    "isUpdatable": true,
                                    "allowDBNull": true,
                                    "baseCatalogName": null,
                                    "baseColumnName": null,
                                    "baseSchemaName": null,
                                    "baseServerName": null,
                                    "baseTableName": null,
                                    "columnName": "prof_name",
                                    "columnOrdinal": 1,
                                    "columnSize": 250,
                                    "isAliased": null,
                                    "isAutoIncrement": false,
                                    "isExpression": null,
                                    "isHidden": null,
                                    "isIdentity": false,
                                    "isKey": null,
                                    "isLong": false,
                                    "isReadOnly": false,
                                    "isUnique": false,
                                    "numericPrecision": 255,
                                    "numericScale": 255,
                                    "udtAssemblyQualifiedName": null,
                                    "dataType": "System.String, System.Private.CoreLib, Version=4.0.0.0, Culture=neutral, PublicKeyToken=7cec85d7bea7798e",
                                    "dataTypeName": "varchar"
                                },
                                {
                                    "isBytes": false,
                                    "isChars": true,
                                    "isSqlVariant": false,
                                    "isUdt": false,
                                    "isXml": false,
                                    "isJson": false,
                                    "sqlDbType": 22,
                                    "isHierarchyId": false,
                                    "isSqlXmlType": false,
                                    "isUnknownType": false,
                                    "isUpdatable": true,
                                    "allowDBNull": true,
                                    "baseCatalogName": null,
                                    "baseColumnName": null,
                                    "baseSchemaName": null,
                                    "baseServerName": null,
                                    "baseTableName": null,
                                    "columnName": "dept_name",
                                    "columnOrdinal": 2,
                                    "columnSize": 20,
                                    "isAliased": null,
                                    "isAutoIncrement": false,
                                    "isExpression": null,
                                    "isHidden": null,
                                    "isIdentity": false,
                                    "isKey": null,
                                    "isLong": false,
                                    "isReadOnly": false,
                                    "isUnique": false,
                                    "numericPrecision": 255,
                                    "numericScale": 255,
                                    "udtAssemblyQualifiedName": null,
                                    "dataType": "System.String, System.Private.CoreLib, Version=4.0.0.0, Culture=neutral, PublicKeyToken=7cec85d7bea7798e",
                                    "dataTypeName": "varchar"
                                },
                                {
                                    "isBytes": false,
                                    "isChars": false,
                                    "isSqlVariant": false,
                                    "isUdt": false,
                                    "isXml": false,
                                    "isJson": false,
                                    "sqlDbType": 5,
                                    "isHierarchyId": false,
                                    "isSqlXmlType": false,
                                    "isUnknownType": false,
                                    "isUpdatable": true,
                                    "allowDBNull": true,
                                    "baseCatalogName": null,
                                    "baseColumnName": null,
                                    "baseSchemaName": null,
                                    "baseServerName": null,
                                    "baseTableName": null,
                                    "columnName": "salary",
                                    "columnOrdinal": 3,
                                    "columnSize": 17,
                                    "isAliased": null,
                                    "isAutoIncrement": false,
                                    "isExpression": null,
                                    "isHidden": null,
                                    "isIdentity": false,
                                    "isKey": null,
                                    "isLong": false,
                                    "isReadOnly": false,
                                    "isUnique": false,
                                    "numericPrecision": 8,
                                    "numericScale": 2,
                                    "udtAssemblyQualifiedName": null,
                                    "dataType": "System.Decimal, System.Private.CoreLib, Version=4.0.0.0, Culture=neutral, PublicKeyToken=7cec85d7bea7798e",
                                    "dataTypeName": "decimal"
                                }
                            ],
                            "specialAction": {
                                "none": true,
                                "expectYukonXMLShowPlan": false
                            }
                        }
                    }
                },
                {
                    "output_type": "execute_result",
                    "execution_count": 9,
                    "data": {
                        "application/vnd.dataresource+json": {
                            "schema": {
                                "fields": [
                                    {
                                        "name": "dept_name"
                                    },
                                    {
                                        "name": "building"
                                    },
                                    {
                                        "name": "budget"
                                    }
                                ]
                            },
                            "data": [
                                {
                                    "0": "Biology",
                                    "1": "Watson",
                                    "2": "90000.00"
                                },
                                {
                                    "0": "Comp. Sci.",
                                    "1": "Taylor",
                                    "2": "100000.00"
                                },
                                {
                                    "0": "Elec. Eng.",
                                    "1": "Taylor",
                                    "2": "85000.00"
                                },
                                {
                                    "0": "Finance",
                                    "1": "Painter",
                                    "2": "120000.00"
                                }
                            ]
                        },
                        "text/html": "<table><tr><th>dept_name</th><th>building</th><th>budget</th></tr><tr><td>Biology</td><td>Watson</td><td>90000.00</td></tr><tr><td>Comp. Sci.</td><td>Taylor</td><td>100000.00</td></tr><tr><td>Elec. Eng.</td><td>Taylor</td><td>85000.00</td></tr><tr><td>Finance</td><td>Painter</td><td>120000.00</td></tr></table>"
                    },
                    "metadata": {
                        "resultSet": {
                            "id": 0,
                            "batchId": 2,
                            "rowCount": 4,
                            "complete": true,
                            "columnInfo": [
                                {
                                    "isBytes": false,
                                    "isChars": true,
                                    "isSqlVariant": false,
                                    "isUdt": false,
                                    "isXml": false,
                                    "isJson": false,
                                    "sqlDbType": 22,
                                    "isHierarchyId": false,
                                    "isSqlXmlType": false,
                                    "isUnknownType": false,
                                    "isUpdatable": true,
                                    "allowDBNull": false,
                                    "baseCatalogName": null,
                                    "baseColumnName": null,
                                    "baseSchemaName": null,
                                    "baseServerName": null,
                                    "baseTableName": null,
                                    "columnName": "dept_name",
                                    "columnOrdinal": 0,
                                    "columnSize": 20,
                                    "isAliased": null,
                                    "isAutoIncrement": false,
                                    "isExpression": null,
                                    "isHidden": null,
                                    "isIdentity": false,
                                    "isKey": null,
                                    "isLong": false,
                                    "isReadOnly": false,
                                    "isUnique": false,
                                    "numericPrecision": 255,
                                    "numericScale": 255,
                                    "udtAssemblyQualifiedName": null,
                                    "dataType": "System.String, System.Private.CoreLib, Version=4.0.0.0, Culture=neutral, PublicKeyToken=7cec85d7bea7798e",
                                    "dataTypeName": "varchar"
                                },
                                {
                                    "isBytes": false,
                                    "isChars": true,
                                    "isSqlVariant": false,
                                    "isUdt": false,
                                    "isXml": false,
                                    "isJson": false,
                                    "sqlDbType": 22,
                                    "isHierarchyId": false,
                                    "isSqlXmlType": false,
                                    "isUnknownType": false,
                                    "isUpdatable": true,
                                    "allowDBNull": true,
                                    "baseCatalogName": null,
                                    "baseColumnName": null,
                                    "baseSchemaName": null,
                                    "baseServerName": null,
                                    "baseTableName": null,
                                    "columnName": "building",
                                    "columnOrdinal": 1,
                                    "columnSize": 15,
                                    "isAliased": null,
                                    "isAutoIncrement": false,
                                    "isExpression": null,
                                    "isHidden": null,
                                    "isIdentity": false,
                                    "isKey": null,
                                    "isLong": false,
                                    "isReadOnly": false,
                                    "isUnique": false,
                                    "numericPrecision": 255,
                                    "numericScale": 255,
                                    "udtAssemblyQualifiedName": null,
                                    "dataType": "System.String, System.Private.CoreLib, Version=4.0.0.0, Culture=neutral, PublicKeyToken=7cec85d7bea7798e",
                                    "dataTypeName": "varchar"
                                },
                                {
                                    "isBytes": false,
                                    "isChars": false,
                                    "isSqlVariant": false,
                                    "isUdt": false,
                                    "isXml": false,
                                    "isJson": false,
                                    "sqlDbType": 5,
                                    "isHierarchyId": false,
                                    "isSqlXmlType": false,
                                    "isUnknownType": false,
                                    "isUpdatable": true,
                                    "allowDBNull": true,
                                    "baseCatalogName": null,
                                    "baseColumnName": null,
                                    "baseSchemaName": null,
                                    "baseServerName": null,
                                    "baseTableName": null,
                                    "columnName": "budget",
                                    "columnOrdinal": 2,
                                    "columnSize": 17,
                                    "isAliased": null,
                                    "isAutoIncrement": false,
                                    "isExpression": null,
                                    "isHidden": null,
                                    "isIdentity": false,
                                    "isKey": null,
                                    "isLong": false,
                                    "isReadOnly": false,
                                    "isUnique": false,
                                    "numericPrecision": 12,
                                    "numericScale": 2,
                                    "udtAssemblyQualifiedName": null,
                                    "dataType": "System.Decimal, System.Private.CoreLib, Version=4.0.0.0, Culture=neutral, PublicKeyToken=7cec85d7bea7798e",
                                    "dataTypeName": "decimal"
                                }
                            ],
                            "specialAction": {
                                "none": true,
                                "expectYukonXMLShowPlan": false
                            }
                        }
                    }
                }
            ],
            "execution_count": 9
        },
        {
            "cell_type": "markdown",
            "source": [
                "As stated before, the <code>where</code> clause filter the rows in the result relation which satisfy a specified predicated. For example, <em>“Find the names of all instructors in the Computer Science department who have salary greater than $40,000.”</em>"
            ],
            "metadata": {
                "azdata_cell_guid": "5557a855-bc66-434c-94c6-3e9e6ffd8024"
            }
        },
        {
            "cell_type": "code",
            "source": [
                "SELECT prof_name AS [Relevant Professor] FROM professors\n",
                "WHERE (\n",
                "    dept_name = 'Comp. Sci.' AND salary > 40000.00\n",
                ");\n",
                "GO"
            ],
            "metadata": {
                "azdata_cell_guid": "201df800-7345-45f0-8f3a-d54835c1e509"
            },
            "outputs": [
                {
                    "output_type": "display_data",
                    "data": {
                        "text/html": "(1 row affected)"
                    },
                    "metadata": {}
                },
                {
                    "output_type": "display_data",
                    "data": {
                        "text/html": "Total execution time: 00:00:00.013"
                    },
                    "metadata": {}
                },
                {
                    "output_type": "execute_result",
                    "execution_count": 10,
                    "data": {
                        "application/vnd.dataresource+json": {
                            "schema": {
                                "fields": [
                                    {
                                        "name": "Relevant Professor"
                                    }
                                ]
                            },
                            "data": [
                                {
                                    "0": "Srinivasan"
                                }
                            ]
                        },
                        "text/html": "<table><tr><th>Relevant Professor</th></tr><tr><td>Srinivasan</td></tr></table>"
                    },
                    "metadata": {
                        "resultSet": {
                            "id": 0,
                            "batchId": 0,
                            "rowCount": 1,
                            "complete": true,
                            "columnInfo": [
                                {
                                    "isBytes": false,
                                    "isChars": true,
                                    "isSqlVariant": false,
                                    "isUdt": false,
                                    "isXml": false,
                                    "isJson": false,
                                    "sqlDbType": 22,
                                    "isHierarchyId": false,
                                    "isSqlXmlType": false,
                                    "isUnknownType": false,
                                    "isUpdatable": true,
                                    "allowDBNull": true,
                                    "baseCatalogName": null,
                                    "baseColumnName": null,
                                    "baseSchemaName": null,
                                    "baseServerName": null,
                                    "baseTableName": null,
                                    "columnName": "Relevant Professor",
                                    "columnOrdinal": 0,
                                    "columnSize": 250,
                                    "isAliased": null,
                                    "isAutoIncrement": false,
                                    "isExpression": null,
                                    "isHidden": null,
                                    "isIdentity": false,
                                    "isKey": null,
                                    "isLong": false,
                                    "isReadOnly": false,
                                    "isUnique": false,
                                    "numericPrecision": 255,
                                    "numericScale": 255,
                                    "udtAssemblyQualifiedName": null,
                                    "dataType": "System.String, System.Private.CoreLib, Version=4.0.0.0, Culture=neutral, PublicKeyToken=7cec85d7bea7798e",
                                    "dataTypeName": "varchar"
                                }
                            ],
                            "specialAction": {
                                "none": true,
                                "expectYukonXMLShowPlan": false
                            }
                        }
                    }
                }
            ],
            "execution_count": 10
        },
        {
            "cell_type": "markdown",
            "source": [
                "SQL allows the use of the logical connectives and, or, and not in the where clause. The operands of the logical connectives can be expressions involving the comparison operators \\<, \\<=, \\>, \\>=, =, and \\<\\> (<strong>NOT EQUAL TO</strong>). SQL allows us to use the comparison operators to compare strings and arithmetic expressions, as well as special types, such as date types.\n",
                "\n",
                "Another example,* find all departments which are not hosted at the Taylor building*"
            ],
            "metadata": {
                "azdata_cell_guid": "1c76ca21-5e1e-4d51-97db-119e9af5e66c"
            }
        },
        {
            "cell_type": "code",
            "source": [
                "SELECT dept_name AS department FROM department\n",
                "WHERE building <> 'Taylor';\n",
                "GO"
            ],
            "metadata": {
                "azdata_cell_guid": "1afc4653-3b34-46de-a04b-9242dfad33b4"
            },
            "outputs": [
                {
                    "output_type": "display_data",
                    "data": {
                        "text/html": "(2 rows affected)"
                    },
                    "metadata": {}
                },
                {
                    "output_type": "display_data",
                    "data": {
                        "text/html": "Total execution time: 00:00:00.008"
                    },
                    "metadata": {}
                },
                {
                    "output_type": "execute_result",
                    "execution_count": 11,
                    "data": {
                        "application/vnd.dataresource+json": {
                            "schema": {
                                "fields": [
                                    {
                                        "name": "department"
                                    }
                                ]
                            },
                            "data": [
                                {
                                    "0": "Biology"
                                },
                                {
                                    "0": "Finance"
                                }
                            ]
                        },
                        "text/html": "<table><tr><th>department</th></tr><tr><td>Biology</td></tr><tr><td>Finance</td></tr></table>"
                    },
                    "metadata": {
                        "resultSet": {
                            "id": 0,
                            "batchId": 0,
                            "rowCount": 2,
                            "complete": true,
                            "columnInfo": [
                                {
                                    "isBytes": false,
                                    "isChars": true,
                                    "isSqlVariant": false,
                                    "isUdt": false,
                                    "isXml": false,
                                    "isJson": false,
                                    "sqlDbType": 22,
                                    "isHierarchyId": false,
                                    "isSqlXmlType": false,
                                    "isUnknownType": false,
                                    "isUpdatable": true,
                                    "allowDBNull": false,
                                    "baseCatalogName": null,
                                    "baseColumnName": null,
                                    "baseSchemaName": null,
                                    "baseServerName": null,
                                    "baseTableName": null,
                                    "columnName": "department",
                                    "columnOrdinal": 0,
                                    "columnSize": 20,
                                    "isAliased": null,
                                    "isAutoIncrement": false,
                                    "isExpression": null,
                                    "isHidden": null,
                                    "isIdentity": false,
                                    "isKey": null,
                                    "isLong": false,
                                    "isReadOnly": false,
                                    "isUnique": false,
                                    "numericPrecision": 255,
                                    "numericScale": 255,
                                    "udtAssemblyQualifiedName": null,
                                    "dataType": "System.String, System.Private.CoreLib, Version=4.0.0.0, Culture=neutral, PublicKeyToken=7cec85d7bea7798e",
                                    "dataTypeName": "varchar"
                                }
                            ],
                            "specialAction": {
                                "none": true,
                                "expectYukonXMLShowPlan": false
                            }
                        }
                    }
                }
            ],
            "execution_count": 11
        },
        {
            "cell_type": "markdown",
            "source": [
                "Another crucial predicate is the <code>LIKE %STRING%</code> which allows for partial matching with wildcards.\n",
                "\n",
                "* Percent (%): The % character matches any substring.\n",
                "* Underscore ( ): The character matches any character."
            ],
            "metadata": {
                "azdata_cell_guid": "5cb9900f-76ab-4837-837d-01a8646e580d"
            }
        },
        {
            "cell_type": "code",
            "source": [
                "-- starting with a ta and ending with r\n",
                "SELECT dept_name AS department FROM department\n",
                "WHERE building NOT LIKE 'Ta%r';\n",
                "GO"
            ],
            "metadata": {
                "azdata_cell_guid": "fad1c565-159a-4c70-be8d-f579528ebd53"
            },
            "outputs": [
                {
                    "output_type": "display_data",
                    "data": {
                        "text/html": "(2 rows affected)"
                    },
                    "metadata": {}
                },
                {
                    "output_type": "display_data",
                    "data": {
                        "text/html": "Total execution time: 00:00:00.004"
                    },
                    "metadata": {}
                },
                {
                    "output_type": "execute_result",
                    "execution_count": 12,
                    "data": {
                        "application/vnd.dataresource+json": {
                            "schema": {
                                "fields": [
                                    {
                                        "name": "department"
                                    }
                                ]
                            },
                            "data": [
                                {
                                    "0": "Biology"
                                },
                                {
                                    "0": "Finance"
                                }
                            ]
                        },
                        "text/html": "<table><tr><th>department</th></tr><tr><td>Biology</td></tr><tr><td>Finance</td></tr></table>"
                    },
                    "metadata": {
                        "resultSet": {
                            "id": 0,
                            "batchId": 0,
                            "rowCount": 2,
                            "complete": true,
                            "columnInfo": [
                                {
                                    "isBytes": false,
                                    "isChars": true,
                                    "isSqlVariant": false,
                                    "isUdt": false,
                                    "isXml": false,
                                    "isJson": false,
                                    "sqlDbType": 22,
                                    "isHierarchyId": false,
                                    "isSqlXmlType": false,
                                    "isUnknownType": false,
                                    "isUpdatable": true,
                                    "allowDBNull": false,
                                    "baseCatalogName": null,
                                    "baseColumnName": null,
                                    "baseSchemaName": null,
                                    "baseServerName": null,
                                    "baseTableName": null,
                                    "columnName": "department",
                                    "columnOrdinal": 0,
                                    "columnSize": 20,
                                    "isAliased": null,
                                    "isAutoIncrement": false,
                                    "isExpression": null,
                                    "isHidden": null,
                                    "isIdentity": false,
                                    "isKey": null,
                                    "isLong": false,
                                    "isReadOnly": false,
                                    "isUnique": false,
                                    "numericPrecision": 255,
                                    "numericScale": 255,
                                    "udtAssemblyQualifiedName": null,
                                    "dataType": "System.String, System.Private.CoreLib, Version=4.0.0.0, Culture=neutral, PublicKeyToken=7cec85d7bea7798e",
                                    "dataTypeName": "varchar"
                                }
                            ],
                            "specialAction": {
                                "none": true,
                                "expectYukonXMLShowPlan": false
                            }
                        }
                    }
                }
            ],
            "execution_count": 12
        },
        {
            "cell_type": "code",
            "source": [
                "-- regex\n",
                "SELECT dept_name AS department FROM department\n",
                "WHERE building NOT LIKE 'Tay__r';\n",
                "GO"
            ],
            "metadata": {
                "azdata_cell_guid": "3d4aaa99-297a-49a1-a4d0-82786aafbf00"
            },
            "outputs": [
                {
                    "output_type": "display_data",
                    "data": {
                        "text/html": "(2 rows affected)"
                    },
                    "metadata": {}
                },
                {
                    "output_type": "display_data",
                    "data": {
                        "text/html": "Total execution time: 00:00:00.005"
                    },
                    "metadata": {}
                },
                {
                    "output_type": "execute_result",
                    "execution_count": 13,
                    "data": {
                        "application/vnd.dataresource+json": {
                            "schema": {
                                "fields": [
                                    {
                                        "name": "department"
                                    }
                                ]
                            },
                            "data": [
                                {
                                    "0": "Biology"
                                },
                                {
                                    "0": "Finance"
                                }
                            ]
                        },
                        "text/html": "<table><tr><th>department</th></tr><tr><td>Biology</td></tr><tr><td>Finance</td></tr></table>"
                    },
                    "metadata": {
                        "resultSet": {
                            "id": 0,
                            "batchId": 0,
                            "rowCount": 2,
                            "complete": true,
                            "columnInfo": [
                                {
                                    "isBytes": false,
                                    "isChars": true,
                                    "isSqlVariant": false,
                                    "isUdt": false,
                                    "isXml": false,
                                    "isJson": false,
                                    "sqlDbType": 22,
                                    "isHierarchyId": false,
                                    "isSqlXmlType": false,
                                    "isUnknownType": false,
                                    "isUpdatable": true,
                                    "allowDBNull": false,
                                    "baseCatalogName": null,
                                    "baseColumnName": null,
                                    "baseSchemaName": null,
                                    "baseServerName": null,
                                    "baseTableName": null,
                                    "columnName": "department",
                                    "columnOrdinal": 0,
                                    "columnSize": 20,
                                    "isAliased": null,
                                    "isAutoIncrement": false,
                                    "isExpression": null,
                                    "isHidden": null,
                                    "isIdentity": false,
                                    "isKey": null,
                                    "isLong": false,
                                    "isReadOnly": false,
                                    "isUnique": false,
                                    "numericPrecision": 255,
                                    "numericScale": 255,
                                    "udtAssemblyQualifiedName": null,
                                    "dataType": "System.String, System.Private.CoreLib, Version=4.0.0.0, Culture=neutral, PublicKeyToken=7cec85d7bea7798e",
                                    "dataTypeName": "varchar"
                                }
                            ],
                            "specialAction": {
                                "none": true,
                                "expectYukonXMLShowPlan": false
                            }
                        }
                    }
                }
            ],
            "execution_count": 13
        },
        {
            "cell_type": "markdown",
            "source": [
                "Similar we can filter observations which are a subset of some list."
            ],
            "metadata": {
                "azdata_cell_guid": "343170a5-a62c-4223-98b4-3758ccc029e4"
            }
        },
        {
            "cell_type": "code",
            "source": [
                "SELECT dept_name AS department FROM department\n",
                "WHERE building IN ('FOOH', ' Baah', 'Watson', 'Painter');\n",
                "GO"
            ],
            "metadata": {
                "azdata_cell_guid": "f40c5fec-f56a-4d9e-acd2-d06675a73540"
            },
            "outputs": [
                {
                    "output_type": "display_data",
                    "data": {
                        "text/html": "(2 rows affected)"
                    },
                    "metadata": {}
                },
                {
                    "output_type": "display_data",
                    "data": {
                        "text/html": "Total execution time: 00:00:00.004"
                    },
                    "metadata": {}
                },
                {
                    "output_type": "execute_result",
                    "execution_count": 14,
                    "data": {
                        "application/vnd.dataresource+json": {
                            "schema": {
                                "fields": [
                                    {
                                        "name": "department"
                                    }
                                ]
                            },
                            "data": [
                                {
                                    "0": "Biology"
                                },
                                {
                                    "0": "Finance"
                                }
                            ]
                        },
                        "text/html": "<table><tr><th>department</th></tr><tr><td>Biology</td></tr><tr><td>Finance</td></tr></table>"
                    },
                    "metadata": {
                        "resultSet": {
                            "id": 0,
                            "batchId": 0,
                            "rowCount": 2,
                            "complete": true,
                            "columnInfo": [
                                {
                                    "isBytes": false,
                                    "isChars": true,
                                    "isSqlVariant": false,
                                    "isUdt": false,
                                    "isXml": false,
                                    "isJson": false,
                                    "sqlDbType": 22,
                                    "isHierarchyId": false,
                                    "isSqlXmlType": false,
                                    "isUnknownType": false,
                                    "isUpdatable": true,
                                    "allowDBNull": false,
                                    "baseCatalogName": null,
                                    "baseColumnName": null,
                                    "baseSchemaName": null,
                                    "baseServerName": null,
                                    "baseTableName": null,
                                    "columnName": "department",
                                    "columnOrdinal": 0,
                                    "columnSize": 20,
                                    "isAliased": null,
                                    "isAutoIncrement": false,
                                    "isExpression": null,
                                    "isHidden": null,
                                    "isIdentity": false,
                                    "isKey": null,
                                    "isLong": false,
                                    "isReadOnly": false,
                                    "isUnique": false,
                                    "numericPrecision": 255,
                                    "numericScale": 255,
                                    "udtAssemblyQualifiedName": null,
                                    "dataType": "System.String, System.Private.CoreLib, Version=4.0.0.0, Culture=neutral, PublicKeyToken=7cec85d7bea7798e",
                                    "dataTypeName": "varchar"
                                }
                            ],
                            "specialAction": {
                                "none": true,
                                "expectYukonXMLShowPlan": false
                            }
                        }
                    }
                }
            ],
            "execution_count": 14
        },
        {
            "cell_type": "markdown",
            "source": [
                "The ``BETWEEN`` predicate evaluates whether the tuple is whithin a certain interval of values."
            ],
            "metadata": {
                "azdata_cell_guid": "55224028-7b18-4234-b110-331b5810d53f"
            }
        },
        {
            "cell_type": "code",
            "source": [
                "SELECT budget FROM department\n",
                "WHERE budget BETWEEN 95000.00 AND 140000.00;\n",
                "GO"
            ],
            "metadata": {
                "azdata_cell_guid": "8597edb7-4a4d-4abd-9af6-e3cf4a16dcac"
            },
            "outputs": [
                {
                    "output_type": "display_data",
                    "data": {
                        "text/html": "(2 rows affected)"
                    },
                    "metadata": {}
                },
                {
                    "output_type": "display_data",
                    "data": {
                        "text/html": "Total execution time: 00:00:00.006"
                    },
                    "metadata": {}
                },
                {
                    "output_type": "execute_result",
                    "execution_count": 15,
                    "data": {
                        "application/vnd.dataresource+json": {
                            "schema": {
                                "fields": [
                                    {
                                        "name": "budget"
                                    }
                                ]
                            },
                            "data": [
                                {
                                    "0": "100000.00"
                                },
                                {
                                    "0": "120000.00"
                                }
                            ]
                        },
                        "text/html": "<table><tr><th>budget</th></tr><tr><td>100000.00</td></tr><tr><td>120000.00</td></tr></table>"
                    },
                    "metadata": {
                        "resultSet": {
                            "id": 0,
                            "batchId": 0,
                            "rowCount": 2,
                            "complete": true,
                            "columnInfo": [
                                {
                                    "isBytes": false,
                                    "isChars": false,
                                    "isSqlVariant": false,
                                    "isUdt": false,
                                    "isXml": false,
                                    "isJson": false,
                                    "sqlDbType": 5,
                                    "isHierarchyId": false,
                                    "isSqlXmlType": false,
                                    "isUnknownType": false,
                                    "isUpdatable": true,
                                    "allowDBNull": true,
                                    "baseCatalogName": null,
                                    "baseColumnName": null,
                                    "baseSchemaName": null,
                                    "baseServerName": null,
                                    "baseTableName": null,
                                    "columnName": "budget",
                                    "columnOrdinal": 0,
                                    "columnSize": 17,
                                    "isAliased": null,
                                    "isAutoIncrement": false,
                                    "isExpression": null,
                                    "isHidden": null,
                                    "isIdentity": false,
                                    "isKey": null,
                                    "isLong": false,
                                    "isReadOnly": false,
                                    "isUnique": false,
                                    "numericPrecision": 12,
                                    "numericScale": 2,
                                    "udtAssemblyQualifiedName": null,
                                    "dataType": "System.Decimal, System.Private.CoreLib, Version=4.0.0.0, Culture=neutral, PublicKeyToken=7cec85d7bea7798e",
                                    "dataTypeName": "decimal"
                                }
                            ],
                            "specialAction": {
                                "none": true,
                                "expectYukonXMLShowPlan": false
                            }
                        }
                    }
                }
            ],
            "execution_count": 15
        },
        {
            "cell_type": "code",
            "source": [
                "-- refining the result with cast\n",
                "SELECT d.dept_name, CAST(d.budget / 1000 AS int) AS [budget in thousands]\n",
                "FROM department AS d\n",
                "ORDER BY [budget in thousands] desc;\n",
                "GO"
            ],
            "metadata": {
                "azdata_cell_guid": "374f8c77-d0ad-4e19-9979-6d4c5a911b2c"
            },
            "outputs": [
                {
                    "output_type": "display_data",
                    "data": {
                        "text/html": "(4 rows affected)"
                    },
                    "metadata": {}
                },
                {
                    "output_type": "display_data",
                    "data": {
                        "text/html": "Total execution time: 00:00:00.003"
                    },
                    "metadata": {}
                },
                {
                    "output_type": "execute_result",
                    "execution_count": 16,
                    "data": {
                        "application/vnd.dataresource+json": {
                            "schema": {
                                "fields": [
                                    {
                                        "name": "dept_name"
                                    },
                                    {
                                        "name": "budget in thousands"
                                    }
                                ]
                            },
                            "data": [
                                {
                                    "0": "Finance",
                                    "1": "120"
                                },
                                {
                                    "0": "Comp. Sci.",
                                    "1": "100"
                                },
                                {
                                    "0": "Biology",
                                    "1": "90"
                                },
                                {
                                    "0": "Elec. Eng.",
                                    "1": "85"
                                }
                            ]
                        },
                        "text/html": "<table><tr><th>dept_name</th><th>budget in thousands</th></tr><tr><td>Finance</td><td>120</td></tr><tr><td>Comp. Sci.</td><td>100</td></tr><tr><td>Biology</td><td>90</td></tr><tr><td>Elec. Eng.</td><td>85</td></tr></table>"
                    },
                    "metadata": {
                        "resultSet": {
                            "id": 0,
                            "batchId": 0,
                            "rowCount": 4,
                            "complete": true,
                            "columnInfo": [
                                {
                                    "isBytes": false,
                                    "isChars": true,
                                    "isSqlVariant": false,
                                    "isUdt": false,
                                    "isXml": false,
                                    "isJson": false,
                                    "sqlDbType": 22,
                                    "isHierarchyId": false,
                                    "isSqlXmlType": false,
                                    "isUnknownType": false,
                                    "isUpdatable": true,
                                    "allowDBNull": false,
                                    "baseCatalogName": null,
                                    "baseColumnName": null,
                                    "baseSchemaName": null,
                                    "baseServerName": null,
                                    "baseTableName": null,
                                    "columnName": "dept_name",
                                    "columnOrdinal": 0,
                                    "columnSize": 20,
                                    "isAliased": null,
                                    "isAutoIncrement": false,
                                    "isExpression": null,
                                    "isHidden": null,
                                    "isIdentity": false,
                                    "isKey": null,
                                    "isLong": false,
                                    "isReadOnly": false,
                                    "isUnique": false,
                                    "numericPrecision": 255,
                                    "numericScale": 255,
                                    "udtAssemblyQualifiedName": null,
                                    "dataType": "System.String, System.Private.CoreLib, Version=4.0.0.0, Culture=neutral, PublicKeyToken=7cec85d7bea7798e",
                                    "dataTypeName": "varchar"
                                },
                                {
                                    "isBytes": false,
                                    "isChars": false,
                                    "isSqlVariant": false,
                                    "isUdt": false,
                                    "isXml": false,
                                    "isJson": false,
                                    "sqlDbType": 8,
                                    "isHierarchyId": false,
                                    "isSqlXmlType": false,
                                    "isUnknownType": false,
                                    "isUpdatable": false,
                                    "allowDBNull": true,
                                    "baseCatalogName": null,
                                    "baseColumnName": null,
                                    "baseSchemaName": null,
                                    "baseServerName": null,
                                    "baseTableName": null,
                                    "columnName": "budget in thousands",
                                    "columnOrdinal": 1,
                                    "columnSize": 4,
                                    "isAliased": null,
                                    "isAutoIncrement": false,
                                    "isExpression": null,
                                    "isHidden": null,
                                    "isIdentity": false,
                                    "isKey": null,
                                    "isLong": false,
                                    "isReadOnly": true,
                                    "isUnique": false,
                                    "numericPrecision": 10,
                                    "numericScale": 255,
                                    "udtAssemblyQualifiedName": null,
                                    "dataType": "System.Int32, System.Private.CoreLib, Version=4.0.0.0, Culture=neutral, PublicKeyToken=7cec85d7bea7798e",
                                    "dataTypeName": "int"
                                }
                            ],
                            "specialAction": {
                                "none": true,
                                "expectYukonXMLShowPlan": false
                            }
                        }
                    }
                }
            ],
            "execution_count": 16
        },
        {
            "cell_type": "markdown",
            "source": [
                "We also have predicates for filtering out or in NULL observations."
            ],
            "metadata": {
                "azdata_cell_guid": "fdbbdbfd-9ee6-4c89-85c4-ad6444d1e3de"
            }
        },
        {
            "cell_type": "code",
            "source": [
                "SELECT dept_name AS name, building\n",
                "FROM department\n",
                "WHERE building IS NOT NULL;\n",
                "\n",
                "SELECT dept_name AS name, building\n",
                "FROM department\n",
                "WHERE building IS NULL;"
            ],
            "metadata": {
                "azdata_cell_guid": "e1ba6905-7734-4eb0-b93f-a57c0e53c862"
            },
            "outputs": [
                {
                    "output_type": "display_data",
                    "data": {
                        "text/html": "(4 rows affected)"
                    },
                    "metadata": {}
                },
                {
                    "output_type": "display_data",
                    "data": {
                        "text/html": "(0 rows affected)"
                    },
                    "metadata": {}
                },
                {
                    "output_type": "display_data",
                    "data": {
                        "text/html": "Total execution time: 00:00:00.004"
                    },
                    "metadata": {}
                },
                {
                    "output_type": "execute_result",
                    "execution_count": 17,
                    "data": {
                        "application/vnd.dataresource+json": {
                            "schema": {
                                "fields": [
                                    {
                                        "name": "name"
                                    },
                                    {
                                        "name": "building"
                                    }
                                ]
                            },
                            "data": [
                                {
                                    "0": "Biology",
                                    "1": "Watson"
                                },
                                {
                                    "0": "Comp. Sci.",
                                    "1": "Taylor"
                                },
                                {
                                    "0": "Elec. Eng.",
                                    "1": "Taylor"
                                },
                                {
                                    "0": "Finance",
                                    "1": "Painter"
                                }
                            ]
                        },
                        "text/html": "<table><tr><th>name</th><th>building</th></tr><tr><td>Biology</td><td>Watson</td></tr><tr><td>Comp. Sci.</td><td>Taylor</td></tr><tr><td>Elec. Eng.</td><td>Taylor</td></tr><tr><td>Finance</td><td>Painter</td></tr></table>"
                    },
                    "metadata": {
                        "resultSet": {
                            "id": 0,
                            "batchId": 0,
                            "rowCount": 4,
                            "complete": true,
                            "columnInfo": [
                                {
                                    "isBytes": false,
                                    "isChars": true,
                                    "isSqlVariant": false,
                                    "isUdt": false,
                                    "isXml": false,
                                    "isJson": false,
                                    "sqlDbType": 22,
                                    "isHierarchyId": false,
                                    "isSqlXmlType": false,
                                    "isUnknownType": false,
                                    "isUpdatable": true,
                                    "allowDBNull": false,
                                    "baseCatalogName": null,
                                    "baseColumnName": null,
                                    "baseSchemaName": null,
                                    "baseServerName": null,
                                    "baseTableName": null,
                                    "columnName": "name",
                                    "columnOrdinal": 0,
                                    "columnSize": 20,
                                    "isAliased": null,
                                    "isAutoIncrement": false,
                                    "isExpression": null,
                                    "isHidden": null,
                                    "isIdentity": false,
                                    "isKey": null,
                                    "isLong": false,
                                    "isReadOnly": false,
                                    "isUnique": false,
                                    "numericPrecision": 255,
                                    "numericScale": 255,
                                    "udtAssemblyQualifiedName": null,
                                    "dataType": "System.String, System.Private.CoreLib, Version=4.0.0.0, Culture=neutral, PublicKeyToken=7cec85d7bea7798e",
                                    "dataTypeName": "varchar"
                                },
                                {
                                    "isBytes": false,
                                    "isChars": true,
                                    "isSqlVariant": false,
                                    "isUdt": false,
                                    "isXml": false,
                                    "isJson": false,
                                    "sqlDbType": 22,
                                    "isHierarchyId": false,
                                    "isSqlXmlType": false,
                                    "isUnknownType": false,
                                    "isUpdatable": true,
                                    "allowDBNull": true,
                                    "baseCatalogName": null,
                                    "baseColumnName": null,
                                    "baseSchemaName": null,
                                    "baseServerName": null,
                                    "baseTableName": null,
                                    "columnName": "building",
                                    "columnOrdinal": 1,
                                    "columnSize": 15,
                                    "isAliased": null,
                                    "isAutoIncrement": false,
                                    "isExpression": null,
                                    "isHidden": null,
                                    "isIdentity": false,
                                    "isKey": null,
                                    "isLong": false,
                                    "isReadOnly": false,
                                    "isUnique": false,
                                    "numericPrecision": 255,
                                    "numericScale": 255,
                                    "udtAssemblyQualifiedName": null,
                                    "dataType": "System.String, System.Private.CoreLib, Version=4.0.0.0, Culture=neutral, PublicKeyToken=7cec85d7bea7798e",
                                    "dataTypeName": "varchar"
                                }
                            ],
                            "specialAction": {
                                "none": true,
                                "expectYukonXMLShowPlan": false
                            }
                        }
                    }
                },
                {
                    "output_type": "execute_result",
                    "execution_count": 17,
                    "data": {
                        "application/vnd.dataresource+json": {
                            "schema": {
                                "fields": [
                                    {
                                        "name": "name"
                                    },
                                    {
                                        "name": "building"
                                    }
                                ]
                            },
                            "data": []
                        },
                        "text/html": "<table><tr><th>name</th><th>building</th></tr></table>"
                    },
                    "metadata": {
                        "resultSet": {
                            "id": 1,
                            "batchId": 0,
                            "rowCount": 0,
                            "complete": false,
                            "columnInfo": [
                                {
                                    "isBytes": false,
                                    "isChars": true,
                                    "isSqlVariant": false,
                                    "isUdt": false,
                                    "isXml": false,
                                    "isJson": false,
                                    "sqlDbType": 22,
                                    "isHierarchyId": false,
                                    "isSqlXmlType": false,
                                    "isUnknownType": false,
                                    "isUpdatable": true,
                                    "allowDBNull": false,
                                    "baseCatalogName": null,
                                    "baseColumnName": null,
                                    "baseSchemaName": null,
                                    "baseServerName": null,
                                    "baseTableName": null,
                                    "columnName": "name",
                                    "columnOrdinal": 0,
                                    "columnSize": 20,
                                    "isAliased": null,
                                    "isAutoIncrement": false,
                                    "isExpression": null,
                                    "isHidden": null,
                                    "isIdentity": false,
                                    "isKey": null,
                                    "isLong": false,
                                    "isReadOnly": false,
                                    "isUnique": false,
                                    "numericPrecision": 255,
                                    "numericScale": 255,
                                    "udtAssemblyQualifiedName": null,
                                    "dataType": "System.String, System.Private.CoreLib, Version=4.0.0.0, Culture=neutral, PublicKeyToken=7cec85d7bea7798e",
                                    "dataTypeName": "varchar"
                                },
                                {
                                    "isBytes": false,
                                    "isChars": true,
                                    "isSqlVariant": false,
                                    "isUdt": false,
                                    "isXml": false,
                                    "isJson": false,
                                    "sqlDbType": 22,
                                    "isHierarchyId": false,
                                    "isSqlXmlType": false,
                                    "isUnknownType": false,
                                    "isUpdatable": true,
                                    "allowDBNull": true,
                                    "baseCatalogName": null,
                                    "baseColumnName": null,
                                    "baseSchemaName": null,
                                    "baseServerName": null,
                                    "baseTableName": null,
                                    "columnName": "building",
                                    "columnOrdinal": 1,
                                    "columnSize": 15,
                                    "isAliased": null,
                                    "isAutoIncrement": false,
                                    "isExpression": null,
                                    "isHidden": null,
                                    "isIdentity": false,
                                    "isKey": null,
                                    "isLong": false,
                                    "isReadOnly": false,
                                    "isUnique": false,
                                    "numericPrecision": 255,
                                    "numericScale": 255,
                                    "udtAssemblyQualifiedName": null,
                                    "dataType": "System.String, System.Private.CoreLib, Version=4.0.0.0, Culture=neutral, PublicKeyToken=7cec85d7bea7798e",
                                    "dataTypeName": "varchar"
                                }
                            ],
                            "specialAction": null
                        }
                    }
                }
            ],
            "execution_count": 17
        },
        {
            "cell_type": "markdown",
            "source": [
                "### Queries on Multiple Relations\n",
                "\n",
                "As an example, suppose we want to answer the query *“Retrieve the names of all instructors, along with their department names and department building name.* Notice how we droped one professor from the music department. That is because the music department is still missing from this table."
            ],
            "metadata": {
                "azdata_cell_guid": "fd1bf2c5-be65-458c-9f17-d0a22124bf65"
            }
        },
        {
            "cell_type": "code",
            "source": [
                "SELECT p.prof_name AS names, p.dept_name, d.building\n",
                "FROM professors AS p, department AS d\n",
                "WHERE p.dept_name = d.dept_name;\n",
                "GO"
            ],
            "metadata": {
                "azdata_cell_guid": "809ed84e-8aa6-4c67-a2c0-9c9761b14092",
                "tags": []
            },
            "outputs": [
                {
                    "output_type": "display_data",
                    "data": {
                        "text/html": "(2 rows affected)"
                    },
                    "metadata": {}
                },
                {
                    "output_type": "display_data",
                    "data": {
                        "text/html": "Total execution time: 00:00:00.007"
                    },
                    "metadata": {}
                },
                {
                    "output_type": "execute_result",
                    "execution_count": 18,
                    "data": {
                        "application/vnd.dataresource+json": {
                            "schema": {
                                "fields": [
                                    {
                                        "name": "names"
                                    },
                                    {
                                        "name": "dept_name"
                                    },
                                    {
                                        "name": "building"
                                    }
                                ]
                            },
                            "data": [
                                {
                                    "0": "Srinivasan",
                                    "1": "Comp. Sci.",
                                    "2": "Taylor"
                                },
                                {
                                    "0": "Wu",
                                    "1": "Finance",
                                    "2": "Painter"
                                }
                            ]
                        },
                        "text/html": "<table><tr><th>names</th><th>dept_name</th><th>building</th></tr><tr><td>Srinivasan</td><td>Comp. Sci.</td><td>Taylor</td></tr><tr><td>Wu</td><td>Finance</td><td>Painter</td></tr></table>"
                    },
                    "metadata": {
                        "resultSet": {
                            "id": 0,
                            "batchId": 0,
                            "rowCount": 2,
                            "complete": true,
                            "columnInfo": [
                                {
                                    "isBytes": false,
                                    "isChars": true,
                                    "isSqlVariant": false,
                                    "isUdt": false,
                                    "isXml": false,
                                    "isJson": false,
                                    "sqlDbType": 22,
                                    "isHierarchyId": false,
                                    "isSqlXmlType": false,
                                    "isUnknownType": false,
                                    "isUpdatable": true,
                                    "allowDBNull": true,
                                    "baseCatalogName": null,
                                    "baseColumnName": null,
                                    "baseSchemaName": null,
                                    "baseServerName": null,
                                    "baseTableName": null,
                                    "columnName": "names",
                                    "columnOrdinal": 0,
                                    "columnSize": 250,
                                    "isAliased": null,
                                    "isAutoIncrement": false,
                                    "isExpression": null,
                                    "isHidden": null,
                                    "isIdentity": false,
                                    "isKey": null,
                                    "isLong": false,
                                    "isReadOnly": false,
                                    "isUnique": false,
                                    "numericPrecision": 255,
                                    "numericScale": 255,
                                    "udtAssemblyQualifiedName": null,
                                    "dataType": "System.String, System.Private.CoreLib, Version=4.0.0.0, Culture=neutral, PublicKeyToken=7cec85d7bea7798e",
                                    "dataTypeName": "varchar"
                                },
                                {
                                    "isBytes": false,
                                    "isChars": true,
                                    "isSqlVariant": false,
                                    "isUdt": false,
                                    "isXml": false,
                                    "isJson": false,
                                    "sqlDbType": 22,
                                    "isHierarchyId": false,
                                    "isSqlXmlType": false,
                                    "isUnknownType": false,
                                    "isUpdatable": true,
                                    "allowDBNull": true,
                                    "baseCatalogName": null,
                                    "baseColumnName": null,
                                    "baseSchemaName": null,
                                    "baseServerName": null,
                                    "baseTableName": null,
                                    "columnName": "dept_name",
                                    "columnOrdinal": 1,
                                    "columnSize": 20,
                                    "isAliased": null,
                                    "isAutoIncrement": false,
                                    "isExpression": null,
                                    "isHidden": null,
                                    "isIdentity": false,
                                    "isKey": null,
                                    "isLong": false,
                                    "isReadOnly": false,
                                    "isUnique": false,
                                    "numericPrecision": 255,
                                    "numericScale": 255,
                                    "udtAssemblyQualifiedName": null,
                                    "dataType": "System.String, System.Private.CoreLib, Version=4.0.0.0, Culture=neutral, PublicKeyToken=7cec85d7bea7798e",
                                    "dataTypeName": "varchar"
                                },
                                {
                                    "isBytes": false,
                                    "isChars": true,
                                    "isSqlVariant": false,
                                    "isUdt": false,
                                    "isXml": false,
                                    "isJson": false,
                                    "sqlDbType": 22,
                                    "isHierarchyId": false,
                                    "isSqlXmlType": false,
                                    "isUnknownType": false,
                                    "isUpdatable": true,
                                    "allowDBNull": true,
                                    "baseCatalogName": null,
                                    "baseColumnName": null,
                                    "baseSchemaName": null,
                                    "baseServerName": null,
                                    "baseTableName": null,
                                    "columnName": "building",
                                    "columnOrdinal": 2,
                                    "columnSize": 15,
                                    "isAliased": null,
                                    "isAutoIncrement": false,
                                    "isExpression": null,
                                    "isHidden": null,
                                    "isIdentity": false,
                                    "isKey": null,
                                    "isLong": false,
                                    "isReadOnly": false,
                                    "isUnique": false,
                                    "numericPrecision": 255,
                                    "numericScale": 255,
                                    "udtAssemblyQualifiedName": null,
                                    "dataType": "System.String, System.Private.CoreLib, Version=4.0.0.0, Culture=neutral, PublicKeyToken=7cec85d7bea7798e",
                                    "dataTypeName": "varchar"
                                }
                            ],
                            "specialAction": {
                                "none": true,
                                "expectYukonXMLShowPlan": false
                            }
                        }
                    }
                }
            ],
            "execution_count": 18
        },
        {
            "cell_type": "markdown",
            "source": [
                "Although the clauses must be written in the order above, the easiest way to understand the operations specified by the query is to consider the clauses in operational order: first <strong>from</strong>, then <strong>where</strong>, and then <strong>select</strong>.\n",
                "\n",
                "  \n",
                "\n",
                "The from clause by itself defines a cartesian product of the relations listed in the clause. The resulting relation has all attributes from all relations present in the clause."
            ],
            "metadata": {
                "azdata_cell_guid": "2925f28e-ddbd-4539-b74e-4e37db872b32"
            }
        },
        {
            "cell_type": "code",
            "source": [
                "-- cartesian product of two relations in SQL\n",
                "SELECT prof.*, dept.* \n",
                "FROM professors AS prof, department AS dept;\n",
                "GO"
            ],
            "metadata": {
                "azdata_cell_guid": "7dde7bf9-2b7a-4388-8ce1-37a0a579e473"
            },
            "outputs": [
                {
                    "output_type": "display_data",
                    "data": {
                        "text/html": "(12 rows affected)"
                    },
                    "metadata": {}
                },
                {
                    "output_type": "display_data",
                    "data": {
                        "text/html": "Total execution time: 00:00:00.012"
                    },
                    "metadata": {}
                },
                {
                    "output_type": "execute_result",
                    "execution_count": 19,
                    "data": {
                        "application/vnd.dataresource+json": {
                            "schema": {
                                "fields": [
                                    {
                                        "name": "prof_id"
                                    },
                                    {
                                        "name": "prof_name"
                                    },
                                    {
                                        "name": "dept_name"
                                    },
                                    {
                                        "name": "salary"
                                    },
                                    {
                                        "name": "dept_name"
                                    },
                                    {
                                        "name": "building"
                                    },
                                    {
                                        "name": "budget"
                                    }
                                ]
                            },
                            "data": [
                                {
                                    "0": "10101",
                                    "1": "Srinivasan",
                                    "2": "Comp. Sci.",
                                    "3": "65000.00",
                                    "4": "Biology",
                                    "5": "Watson",
                                    "6": "90000.00"
                                },
                                {
                                    "0": "10101",
                                    "1": "Srinivasan",
                                    "2": "Comp. Sci.",
                                    "3": "65000.00",
                                    "4": "Comp. Sci.",
                                    "5": "Taylor",
                                    "6": "100000.00"
                                },
                                {
                                    "0": "10101",
                                    "1": "Srinivasan",
                                    "2": "Comp. Sci.",
                                    "3": "65000.00",
                                    "4": "Elec. Eng.",
                                    "5": "Taylor",
                                    "6": "85000.00"
                                },
                                {
                                    "0": "10101",
                                    "1": "Srinivasan",
                                    "2": "Comp. Sci.",
                                    "3": "65000.00",
                                    "4": "Finance",
                                    "5": "Painter",
                                    "6": "120000.00"
                                },
                                {
                                    "0": "12121",
                                    "1": "Wu",
                                    "2": "Finance",
                                    "3": "90000.00",
                                    "4": "Biology",
                                    "5": "Watson",
                                    "6": "90000.00"
                                },
                                {
                                    "0": "12121",
                                    "1": "Wu",
                                    "2": "Finance",
                                    "3": "90000.00",
                                    "4": "Comp. Sci.",
                                    "5": "Taylor",
                                    "6": "100000.00"
                                },
                                {
                                    "0": "12121",
                                    "1": "Wu",
                                    "2": "Finance",
                                    "3": "90000.00",
                                    "4": "Elec. Eng.",
                                    "5": "Taylor",
                                    "6": "85000.00"
                                },
                                {
                                    "0": "12121",
                                    "1": "Wu",
                                    "2": "Finance",
                                    "3": "90000.00",
                                    "4": "Finance",
                                    "5": "Painter",
                                    "6": "120000.00"
                                },
                                {
                                    "0": "15151",
                                    "1": "Mozart",
                                    "2": "Music",
                                    "3": "40000.00",
                                    "4": "Biology",
                                    "5": "Watson",
                                    "6": "90000.00"
                                },
                                {
                                    "0": "15151",
                                    "1": "Mozart",
                                    "2": "Music",
                                    "3": "40000.00",
                                    "4": "Comp. Sci.",
                                    "5": "Taylor",
                                    "6": "100000.00"
                                },
                                {
                                    "0": "15151",
                                    "1": "Mozart",
                                    "2": "Music",
                                    "3": "40000.00",
                                    "4": "Elec. Eng.",
                                    "5": "Taylor",
                                    "6": "85000.00"
                                },
                                {
                                    "0": "15151",
                                    "1": "Mozart",
                                    "2": "Music",
                                    "3": "40000.00",
                                    "4": "Finance",
                                    "5": "Painter",
                                    "6": "120000.00"
                                }
                            ]
                        },
                        "text/html": "<table><tr><th>prof_id</th><th>prof_name</th><th>dept_name</th><th>salary</th><th>dept_name</th><th>building</th><th>budget</th></tr><tr><td>10101</td><td>Srinivasan</td><td>Comp. Sci.</td><td>65000.00</td><td>Biology</td><td>Watson</td><td>90000.00</td></tr><tr><td>10101</td><td>Srinivasan</td><td>Comp. Sci.</td><td>65000.00</td><td>Comp. Sci.</td><td>Taylor</td><td>100000.00</td></tr><tr><td>10101</td><td>Srinivasan</td><td>Comp. Sci.</td><td>65000.00</td><td>Elec. Eng.</td><td>Taylor</td><td>85000.00</td></tr><tr><td>10101</td><td>Srinivasan</td><td>Comp. Sci.</td><td>65000.00</td><td>Finance</td><td>Painter</td><td>120000.00</td></tr><tr><td>12121</td><td>Wu</td><td>Finance</td><td>90000.00</td><td>Biology</td><td>Watson</td><td>90000.00</td></tr><tr><td>12121</td><td>Wu</td><td>Finance</td><td>90000.00</td><td>Comp. Sci.</td><td>Taylor</td><td>100000.00</td></tr><tr><td>12121</td><td>Wu</td><td>Finance</td><td>90000.00</td><td>Elec. Eng.</td><td>Taylor</td><td>85000.00</td></tr><tr><td>12121</td><td>Wu</td><td>Finance</td><td>90000.00</td><td>Finance</td><td>Painter</td><td>120000.00</td></tr><tr><td>15151</td><td>Mozart</td><td>Music</td><td>40000.00</td><td>Biology</td><td>Watson</td><td>90000.00</td></tr><tr><td>15151</td><td>Mozart</td><td>Music</td><td>40000.00</td><td>Comp. Sci.</td><td>Taylor</td><td>100000.00</td></tr><tr><td>15151</td><td>Mozart</td><td>Music</td><td>40000.00</td><td>Elec. Eng.</td><td>Taylor</td><td>85000.00</td></tr><tr><td>15151</td><td>Mozart</td><td>Music</td><td>40000.00</td><td>Finance</td><td>Painter</td><td>120000.00</td></tr></table>"
                    },
                    "metadata": {
                        "resultSet": {
                            "id": 0,
                            "batchId": 0,
                            "rowCount": 12,
                            "complete": true,
                            "columnInfo": [
                                {
                                    "isBytes": false,
                                    "isChars": false,
                                    "isSqlVariant": false,
                                    "isUdt": false,
                                    "isXml": false,
                                    "isJson": false,
                                    "sqlDbType": 8,
                                    "isHierarchyId": false,
                                    "isSqlXmlType": false,
                                    "isUnknownType": false,
                                    "isUpdatable": true,
                                    "allowDBNull": false,
                                    "baseCatalogName": null,
                                    "baseColumnName": null,
                                    "baseSchemaName": null,
                                    "baseServerName": null,
                                    "baseTableName": null,
                                    "columnName": "prof_id",
                                    "columnOrdinal": 0,
                                    "columnSize": 4,
                                    "isAliased": null,
                                    "isAutoIncrement": false,
                                    "isExpression": null,
                                    "isHidden": null,
                                    "isIdentity": false,
                                    "isKey": null,
                                    "isLong": false,
                                    "isReadOnly": false,
                                    "isUnique": false,
                                    "numericPrecision": 10,
                                    "numericScale": 255,
                                    "udtAssemblyQualifiedName": null,
                                    "dataType": "System.Int32, System.Private.CoreLib, Version=4.0.0.0, Culture=neutral, PublicKeyToken=7cec85d7bea7798e",
                                    "dataTypeName": "int"
                                },
                                {
                                    "isBytes": false,
                                    "isChars": true,
                                    "isSqlVariant": false,
                                    "isUdt": false,
                                    "isXml": false,
                                    "isJson": false,
                                    "sqlDbType": 22,
                                    "isHierarchyId": false,
                                    "isSqlXmlType": false,
                                    "isUnknownType": false,
                                    "isUpdatable": true,
                                    "allowDBNull": true,
                                    "baseCatalogName": null,
                                    "baseColumnName": null,
                                    "baseSchemaName": null,
                                    "baseServerName": null,
                                    "baseTableName": null,
                                    "columnName": "prof_name",
                                    "columnOrdinal": 1,
                                    "columnSize": 250,
                                    "isAliased": null,
                                    "isAutoIncrement": false,
                                    "isExpression": null,
                                    "isHidden": null,
                                    "isIdentity": false,
                                    "isKey": null,
                                    "isLong": false,
                                    "isReadOnly": false,
                                    "isUnique": false,
                                    "numericPrecision": 255,
                                    "numericScale": 255,
                                    "udtAssemblyQualifiedName": null,
                                    "dataType": "System.String, System.Private.CoreLib, Version=4.0.0.0, Culture=neutral, PublicKeyToken=7cec85d7bea7798e",
                                    "dataTypeName": "varchar"
                                },
                                {
                                    "isBytes": false,
                                    "isChars": true,
                                    "isSqlVariant": false,
                                    "isUdt": false,
                                    "isXml": false,
                                    "isJson": false,
                                    "sqlDbType": 22,
                                    "isHierarchyId": false,
                                    "isSqlXmlType": false,
                                    "isUnknownType": false,
                                    "isUpdatable": true,
                                    "allowDBNull": true,
                                    "baseCatalogName": null,
                                    "baseColumnName": null,
                                    "baseSchemaName": null,
                                    "baseServerName": null,
                                    "baseTableName": null,
                                    "columnName": "dept_name",
                                    "columnOrdinal": 2,
                                    "columnSize": 20,
                                    "isAliased": null,
                                    "isAutoIncrement": false,
                                    "isExpression": null,
                                    "isHidden": null,
                                    "isIdentity": false,
                                    "isKey": null,
                                    "isLong": false,
                                    "isReadOnly": false,
                                    "isUnique": false,
                                    "numericPrecision": 255,
                                    "numericScale": 255,
                                    "udtAssemblyQualifiedName": null,
                                    "dataType": "System.String, System.Private.CoreLib, Version=4.0.0.0, Culture=neutral, PublicKeyToken=7cec85d7bea7798e",
                                    "dataTypeName": "varchar"
                                },
                                {
                                    "isBytes": false,
                                    "isChars": false,
                                    "isSqlVariant": false,
                                    "isUdt": false,
                                    "isXml": false,
                                    "isJson": false,
                                    "sqlDbType": 5,
                                    "isHierarchyId": false,
                                    "isSqlXmlType": false,
                                    "isUnknownType": false,
                                    "isUpdatable": true,
                                    "allowDBNull": true,
                                    "baseCatalogName": null,
                                    "baseColumnName": null,
                                    "baseSchemaName": null,
                                    "baseServerName": null,
                                    "baseTableName": null,
                                    "columnName": "salary",
                                    "columnOrdinal": 3,
                                    "columnSize": 17,
                                    "isAliased": null,
                                    "isAutoIncrement": false,
                                    "isExpression": null,
                                    "isHidden": null,
                                    "isIdentity": false,
                                    "isKey": null,
                                    "isLong": false,
                                    "isReadOnly": false,
                                    "isUnique": false,
                                    "numericPrecision": 8,
                                    "numericScale": 2,
                                    "udtAssemblyQualifiedName": null,
                                    "dataType": "System.Decimal, System.Private.CoreLib, Version=4.0.0.0, Culture=neutral, PublicKeyToken=7cec85d7bea7798e",
                                    "dataTypeName": "decimal"
                                },
                                {
                                    "isBytes": false,
                                    "isChars": true,
                                    "isSqlVariant": false,
                                    "isUdt": false,
                                    "isXml": false,
                                    "isJson": false,
                                    "sqlDbType": 22,
                                    "isHierarchyId": false,
                                    "isSqlXmlType": false,
                                    "isUnknownType": false,
                                    "isUpdatable": true,
                                    "allowDBNull": false,
                                    "baseCatalogName": null,
                                    "baseColumnName": null,
                                    "baseSchemaName": null,
                                    "baseServerName": null,
                                    "baseTableName": null,
                                    "columnName": "dept_name",
                                    "columnOrdinal": 4,
                                    "columnSize": 20,
                                    "isAliased": null,
                                    "isAutoIncrement": false,
                                    "isExpression": null,
                                    "isHidden": null,
                                    "isIdentity": false,
                                    "isKey": null,
                                    "isLong": false,
                                    "isReadOnly": false,
                                    "isUnique": false,
                                    "numericPrecision": 255,
                                    "numericScale": 255,
                                    "udtAssemblyQualifiedName": null,
                                    "dataType": "System.String, System.Private.CoreLib, Version=4.0.0.0, Culture=neutral, PublicKeyToken=7cec85d7bea7798e",
                                    "dataTypeName": "varchar"
                                },
                                {
                                    "isBytes": false,
                                    "isChars": true,
                                    "isSqlVariant": false,
                                    "isUdt": false,
                                    "isXml": false,
                                    "isJson": false,
                                    "sqlDbType": 22,
                                    "isHierarchyId": false,
                                    "isSqlXmlType": false,
                                    "isUnknownType": false,
                                    "isUpdatable": true,
                                    "allowDBNull": true,
                                    "baseCatalogName": null,
                                    "baseColumnName": null,
                                    "baseSchemaName": null,
                                    "baseServerName": null,
                                    "baseTableName": null,
                                    "columnName": "building",
                                    "columnOrdinal": 5,
                                    "columnSize": 15,
                                    "isAliased": null,
                                    "isAutoIncrement": false,
                                    "isExpression": null,
                                    "isHidden": null,
                                    "isIdentity": false,
                                    "isKey": null,
                                    "isLong": false,
                                    "isReadOnly": false,
                                    "isUnique": false,
                                    "numericPrecision": 255,
                                    "numericScale": 255,
                                    "udtAssemblyQualifiedName": null,
                                    "dataType": "System.String, System.Private.CoreLib, Version=4.0.0.0, Culture=neutral, PublicKeyToken=7cec85d7bea7798e",
                                    "dataTypeName": "varchar"
                                },
                                {
                                    "isBytes": false,
                                    "isChars": false,
                                    "isSqlVariant": false,
                                    "isUdt": false,
                                    "isXml": false,
                                    "isJson": false,
                                    "sqlDbType": 5,
                                    "isHierarchyId": false,
                                    "isSqlXmlType": false,
                                    "isUnknownType": false,
                                    "isUpdatable": true,
                                    "allowDBNull": true,
                                    "baseCatalogName": null,
                                    "baseColumnName": null,
                                    "baseSchemaName": null,
                                    "baseServerName": null,
                                    "baseTableName": null,
                                    "columnName": "budget",
                                    "columnOrdinal": 6,
                                    "columnSize": 17,
                                    "isAliased": null,
                                    "isAutoIncrement": false,
                                    "isExpression": null,
                                    "isHidden": null,
                                    "isIdentity": false,
                                    "isKey": null,
                                    "isLong": false,
                                    "isReadOnly": false,
                                    "isUnique": false,
                                    "numericPrecision": 12,
                                    "numericScale": 2,
                                    "udtAssemblyQualifiedName": null,
                                    "dataType": "System.Decimal, System.Private.CoreLib, Version=4.0.0.0, Culture=neutral, PublicKeyToken=7cec85d7bea7798e",
                                    "dataTypeName": "decimal"
                                }
                            ],
                            "specialAction": {
                                "none": true,
                                "expectYukonXMLShowPlan": false
                            }
                        }
                    }
                }
            ],
            "execution_count": 19
        },
        {
            "cell_type": "markdown",
            "source": [
                "This leads to a very large relation with plenty of duplicated and incorrenct information. Instead, the predicate in the where clause is used to restrict the combinations created by the cartesian product to those that are meaningful for the relevant question.\n",
                "\n",
                "### Set operations\n",
                "\n",
                "SQL operations <strong>UNION</strong>, <strong>INTERSECT</strong>, and <strong>EXCEPT</strong> operate in relations and correspond to the mathematical set operations ∪, ∩, and −.\n",
                "\n",
                "We can find the set of all disciplines at the Taylor building with a budget above 89,000"
            ],
            "metadata": {
                "azdata_cell_guid": "3cee5944-32e6-49f9-bd1f-cfd7c4363b14"
            }
        },
        {
            "cell_type": "code",
            "source": [
                "SELECT dept_name AS name \n",
                "FROM department\n",
                "WHERE building = 'Taylor' and budget > 89000.00;\n",
                "GO"
            ],
            "metadata": {
                "azdata_cell_guid": "92adc30a-0239-43bb-830b-ed427aa306c2",
                "tags": []
            },
            "outputs": [
                {
                    "output_type": "display_data",
                    "data": {
                        "text/html": "(1 row affected)"
                    },
                    "metadata": {}
                },
                {
                    "output_type": "display_data",
                    "data": {
                        "text/html": "Total execution time: 00:00:00.003"
                    },
                    "metadata": {}
                },
                {
                    "output_type": "execute_result",
                    "execution_count": 20,
                    "data": {
                        "application/vnd.dataresource+json": {
                            "schema": {
                                "fields": [
                                    {
                                        "name": "name"
                                    }
                                ]
                            },
                            "data": [
                                {
                                    "0": "Comp. Sci."
                                }
                            ]
                        },
                        "text/html": "<table><tr><th>name</th></tr><tr><td>Comp. Sci.</td></tr></table>"
                    },
                    "metadata": {
                        "resultSet": {
                            "id": 0,
                            "batchId": 0,
                            "rowCount": 1,
                            "complete": true,
                            "columnInfo": [
                                {
                                    "isBytes": false,
                                    "isChars": true,
                                    "isSqlVariant": false,
                                    "isUdt": false,
                                    "isXml": false,
                                    "isJson": false,
                                    "sqlDbType": 22,
                                    "isHierarchyId": false,
                                    "isSqlXmlType": false,
                                    "isUnknownType": false,
                                    "isUpdatable": true,
                                    "allowDBNull": false,
                                    "baseCatalogName": null,
                                    "baseColumnName": null,
                                    "baseSchemaName": null,
                                    "baseServerName": null,
                                    "baseTableName": null,
                                    "columnName": "name",
                                    "columnOrdinal": 0,
                                    "columnSize": 20,
                                    "isAliased": null,
                                    "isAutoIncrement": false,
                                    "isExpression": null,
                                    "isHidden": null,
                                    "isIdentity": false,
                                    "isKey": null,
                                    "isLong": false,
                                    "isReadOnly": false,
                                    "isUnique": false,
                                    "numericPrecision": 255,
                                    "numericScale": 255,
                                    "udtAssemblyQualifiedName": null,
                                    "dataType": "System.String, System.Private.CoreLib, Version=4.0.0.0, Culture=neutral, PublicKeyToken=7cec85d7bea7798e",
                                    "dataTypeName": "varchar"
                                }
                            ],
                            "specialAction": {
                                "none": true,
                                "expectYukonXMLShowPlan": false
                            }
                        }
                    }
                }
            ],
            "execution_count": 20
        },
        {
            "cell_type": "markdown",
            "source": [
                "Similarly, we can find the set of all disciplines at the Watson building with a budget above 89,000"
            ],
            "metadata": {
                "azdata_cell_guid": "09c6e538-2a23-4ab4-b8cf-99108d23e982"
            }
        },
        {
            "cell_type": "code",
            "source": [
                "SELECT dept_name AS name \n",
                "FROM department\n",
                "WHERE building = 'Watson' and budget > 89000.00;\n",
                "GO\n",
                ""
            ],
            "metadata": {
                "azdata_cell_guid": "1e306a9f-3c2e-4a3d-802f-c348350ef3ae"
            },
            "outputs": [
                {
                    "output_type": "display_data",
                    "data": {
                        "text/html": "(1 row affected)"
                    },
                    "metadata": {}
                },
                {
                    "output_type": "display_data",
                    "data": {
                        "text/html": "Total execution time: 00:00:00.011"
                    },
                    "metadata": {}
                },
                {
                    "output_type": "execute_result",
                    "execution_count": 21,
                    "data": {
                        "application/vnd.dataresource+json": {
                            "schema": {
                                "fields": [
                                    {
                                        "name": "name"
                                    }
                                ]
                            },
                            "data": [
                                {
                                    "0": "Biology"
                                }
                            ]
                        },
                        "text/html": "<table><tr><th>name</th></tr><tr><td>Biology</td></tr></table>"
                    },
                    "metadata": {
                        "resultSet": {
                            "id": 0,
                            "batchId": 0,
                            "rowCount": 1,
                            "complete": true,
                            "columnInfo": [
                                {
                                    "isBytes": false,
                                    "isChars": true,
                                    "isSqlVariant": false,
                                    "isUdt": false,
                                    "isXml": false,
                                    "isJson": false,
                                    "sqlDbType": 22,
                                    "isHierarchyId": false,
                                    "isSqlXmlType": false,
                                    "isUnknownType": false,
                                    "isUpdatable": true,
                                    "allowDBNull": false,
                                    "baseCatalogName": null,
                                    "baseColumnName": null,
                                    "baseSchemaName": null,
                                    "baseServerName": null,
                                    "baseTableName": null,
                                    "columnName": "name",
                                    "columnOrdinal": 0,
                                    "columnSize": 20,
                                    "isAliased": null,
                                    "isAutoIncrement": false,
                                    "isExpression": null,
                                    "isHidden": null,
                                    "isIdentity": false,
                                    "isKey": null,
                                    "isLong": false,
                                    "isReadOnly": false,
                                    "isUnique": false,
                                    "numericPrecision": 255,
                                    "numericScale": 255,
                                    "udtAssemblyQualifiedName": null,
                                    "dataType": "System.String, System.Private.CoreLib, Version=4.0.0.0, Culture=neutral, PublicKeyToken=7cec85d7bea7798e",
                                    "dataTypeName": "varchar"
                                }
                            ],
                            "specialAction": {
                                "none": true,
                                "expectYukonXMLShowPlan": false
                            }
                        }
                    }
                }
            ],
            "execution_count": 21
        },
        {
            "cell_type": "markdown",
            "source": [
                "To find the set of all departments in Taylor or Watson with a budget above 89.000 we can resort o the union operator."
            ],
            "metadata": {
                "azdata_cell_guid": "c1134a61-5f18-473a-917e-ec4bb78e3864"
            }
        },
        {
            "cell_type": "code",
            "source": [
                "(SELECT dept_name AS name \n",
                "FROM department\n",
                "WHERE building = 'Taylor' and budget > 89000.00)\n",
                "UNION\n",
                "(SELECT dept_name AS name \n",
                "FROM department\n",
                "WHERE building = 'Watson' and budget > 89000.00);\n",
                "GO\n",
                "\n",
                "-- alternatively, we could've have written\n",
                "SELECT dept_name AS name \n",
                "FROM department\n",
                "WHERE building IN ('Taylor', 'Watson') and budget > 89000.00;\n",
                "GO"
            ],
            "metadata": {
                "azdata_cell_guid": "ede3b6a2-c84d-46eb-b6e2-2d1c9c196e91"
            },
            "outputs": [
                {
                    "output_type": "display_data",
                    "data": {
                        "text/html": "(2 rows affected)"
                    },
                    "metadata": {}
                },
                {
                    "output_type": "display_data",
                    "data": {
                        "text/html": "(2 rows affected)"
                    },
                    "metadata": {}
                },
                {
                    "output_type": "display_data",
                    "data": {
                        "text/html": "Total execution time: 00:00:00.006"
                    },
                    "metadata": {}
                },
                {
                    "output_type": "execute_result",
                    "execution_count": 22,
                    "data": {
                        "application/vnd.dataresource+json": {
                            "schema": {
                                "fields": [
                                    {
                                        "name": "name"
                                    }
                                ]
                            },
                            "data": [
                                {
                                    "0": "Biology"
                                },
                                {
                                    "0": "Comp. Sci."
                                }
                            ]
                        },
                        "text/html": "<table><tr><th>name</th></tr><tr><td>Biology</td></tr><tr><td>Comp. Sci.</td></tr></table>"
                    },
                    "metadata": {
                        "resultSet": {
                            "id": 0,
                            "batchId": 0,
                            "rowCount": 2,
                            "complete": true,
                            "columnInfo": [
                                {
                                    "isBytes": false,
                                    "isChars": true,
                                    "isSqlVariant": false,
                                    "isUdt": false,
                                    "isXml": false,
                                    "isJson": false,
                                    "sqlDbType": 22,
                                    "isHierarchyId": false,
                                    "isSqlXmlType": false,
                                    "isUnknownType": false,
                                    "isUpdatable": false,
                                    "allowDBNull": false,
                                    "baseCatalogName": null,
                                    "baseColumnName": null,
                                    "baseSchemaName": null,
                                    "baseServerName": null,
                                    "baseTableName": null,
                                    "columnName": "name",
                                    "columnOrdinal": 0,
                                    "columnSize": 20,
                                    "isAliased": null,
                                    "isAutoIncrement": false,
                                    "isExpression": null,
                                    "isHidden": null,
                                    "isIdentity": false,
                                    "isKey": null,
                                    "isLong": false,
                                    "isReadOnly": true,
                                    "isUnique": false,
                                    "numericPrecision": 255,
                                    "numericScale": 255,
                                    "udtAssemblyQualifiedName": null,
                                    "dataType": "System.String, System.Private.CoreLib, Version=4.0.0.0, Culture=neutral, PublicKeyToken=7cec85d7bea7798e",
                                    "dataTypeName": "varchar"
                                }
                            ],
                            "specialAction": {
                                "none": true,
                                "expectYukonXMLShowPlan": false
                            }
                        }
                    }
                },
                {
                    "output_type": "execute_result",
                    "execution_count": 22,
                    "data": {
                        "application/vnd.dataresource+json": {
                            "schema": {
                                "fields": [
                                    {
                                        "name": "name"
                                    }
                                ]
                            },
                            "data": [
                                {
                                    "0": "Biology"
                                },
                                {
                                    "0": "Comp. Sci."
                                }
                            ]
                        },
                        "text/html": "<table><tr><th>name</th></tr><tr><td>Biology</td></tr><tr><td>Comp. Sci.</td></tr></table>"
                    },
                    "metadata": {
                        "resultSet": {
                            "id": 0,
                            "batchId": 1,
                            "rowCount": 2,
                            "complete": true,
                            "columnInfo": [
                                {
                                    "isBytes": false,
                                    "isChars": true,
                                    "isSqlVariant": false,
                                    "isUdt": false,
                                    "isXml": false,
                                    "isJson": false,
                                    "sqlDbType": 22,
                                    "isHierarchyId": false,
                                    "isSqlXmlType": false,
                                    "isUnknownType": false,
                                    "isUpdatable": true,
                                    "allowDBNull": false,
                                    "baseCatalogName": null,
                                    "baseColumnName": null,
                                    "baseSchemaName": null,
                                    "baseServerName": null,
                                    "baseTableName": null,
                                    "columnName": "name",
                                    "columnOrdinal": 0,
                                    "columnSize": 20,
                                    "isAliased": null,
                                    "isAutoIncrement": false,
                                    "isExpression": null,
                                    "isHidden": null,
                                    "isIdentity": false,
                                    "isKey": null,
                                    "isLong": false,
                                    "isReadOnly": false,
                                    "isUnique": false,
                                    "numericPrecision": 255,
                                    "numericScale": 255,
                                    "udtAssemblyQualifiedName": null,
                                    "dataType": "System.String, System.Private.CoreLib, Version=4.0.0.0, Culture=neutral, PublicKeyToken=7cec85d7bea7798e",
                                    "dataTypeName": "varchar"
                                }
                            ],
                            "specialAction": {
                                "none": true,
                                "expectYukonXMLShowPlan": false
                            }
                        }
                    }
                }
            ],
            "execution_count": 22
        },
        {
            "cell_type": "markdown",
            "source": [
                "Now turning to the intersection, we can identify the set of department names which are mentioned in both tables.<br>"
            ],
            "metadata": {
                "azdata_cell_guid": "fd8f7d12-2aed-4e36-975a-6c0bfd6d193e"
            }
        },
        {
            "cell_type": "code",
            "source": [
                "SELECT dept_name FROM professors\n",
                "INTERSECT\n",
                "SELECT dept_name FROM department;\n",
                "GO"
            ],
            "metadata": {
                "azdata_cell_guid": "9b6c2e3c-1e28-4526-a21f-f5e96c16b522"
            },
            "outputs": [
                {
                    "output_type": "display_data",
                    "data": {
                        "text/html": "(2 rows affected)"
                    },
                    "metadata": {}
                },
                {
                    "output_type": "display_data",
                    "data": {
                        "text/html": "Total execution time: 00:00:00.003"
                    },
                    "metadata": {}
                },
                {
                    "output_type": "execute_result",
                    "execution_count": 23,
                    "data": {
                        "application/vnd.dataresource+json": {
                            "schema": {
                                "fields": [
                                    {
                                        "name": "dept_name"
                                    }
                                ]
                            },
                            "data": [
                                {
                                    "0": "Comp. Sci."
                                },
                                {
                                    "0": "Finance"
                                }
                            ]
                        },
                        "text/html": "<table><tr><th>dept_name</th></tr><tr><td>Comp. Sci.</td></tr><tr><td>Finance</td></tr></table>"
                    },
                    "metadata": {
                        "resultSet": {
                            "id": 0,
                            "batchId": 0,
                            "rowCount": 2,
                            "complete": true,
                            "columnInfo": [
                                {
                                    "isBytes": false,
                                    "isChars": true,
                                    "isSqlVariant": false,
                                    "isUdt": false,
                                    "isXml": false,
                                    "isJson": false,
                                    "sqlDbType": 22,
                                    "isHierarchyId": false,
                                    "isSqlXmlType": false,
                                    "isUnknownType": false,
                                    "isUpdatable": true,
                                    "allowDBNull": false,
                                    "baseCatalogName": null,
                                    "baseColumnName": null,
                                    "baseSchemaName": null,
                                    "baseServerName": null,
                                    "baseTableName": null,
                                    "columnName": "dept_name",
                                    "columnOrdinal": 0,
                                    "columnSize": 20,
                                    "isAliased": null,
                                    "isAutoIncrement": false,
                                    "isExpression": null,
                                    "isHidden": null,
                                    "isIdentity": false,
                                    "isKey": null,
                                    "isLong": false,
                                    "isReadOnly": false,
                                    "isUnique": false,
                                    "numericPrecision": 255,
                                    "numericScale": 255,
                                    "udtAssemblyQualifiedName": null,
                                    "dataType": "System.String, System.Private.CoreLib, Version=4.0.0.0, Culture=neutral, PublicKeyToken=7cec85d7bea7798e",
                                    "dataTypeName": "varchar"
                                }
                            ],
                            "specialAction": {
                                "none": true,
                                "expectYukonXMLShowPlan": false
                            }
                        }
                    }
                }
            ],
            "execution_count": 23
        },
        {
            "cell_type": "markdown",
            "source": [
                "The except operator outputs all tuples from the first input relation which do not occur in the second input (i.e. as an anti-join). As we saw before, it is confirmed here that the only department in the professors tables which is not in the department table is the music department."
            ],
            "metadata": {
                "azdata_cell_guid": "e4880717-5cb9-4bcc-82e7-641822b55e03"
            }
        },
        {
            "cell_type": "code",
            "source": [
                "SELECT dept_name FROM professors\n",
                "EXCEPT\n",
                "SELECT dept_name FROM department;\n",
                "GO"
            ],
            "metadata": {
                "azdata_cell_guid": "82ed51fc-881c-44b0-a429-7377dfca73bf"
            },
            "outputs": [
                {
                    "output_type": "display_data",
                    "data": {
                        "text/html": "(1 row affected)"
                    },
                    "metadata": {}
                },
                {
                    "output_type": "display_data",
                    "data": {
                        "text/html": "Total execution time: 00:00:00.003"
                    },
                    "metadata": {}
                },
                {
                    "output_type": "execute_result",
                    "execution_count": 24,
                    "data": {
                        "application/vnd.dataresource+json": {
                            "schema": {
                                "fields": [
                                    {
                                        "name": "dept_name"
                                    }
                                ]
                            },
                            "data": [
                                {
                                    "0": "Music"
                                }
                            ]
                        },
                        "text/html": "<table><tr><th>dept_name</th></tr><tr><td>Music</td></tr></table>"
                    },
                    "metadata": {
                        "resultSet": {
                            "id": 0,
                            "batchId": 0,
                            "rowCount": 1,
                            "complete": true,
                            "columnInfo": [
                                {
                                    "isBytes": false,
                                    "isChars": true,
                                    "isSqlVariant": false,
                                    "isUdt": false,
                                    "isXml": false,
                                    "isJson": false,
                                    "sqlDbType": 22,
                                    "isHierarchyId": false,
                                    "isSqlXmlType": false,
                                    "isUnknownType": false,
                                    "isUpdatable": true,
                                    "allowDBNull": true,
                                    "baseCatalogName": null,
                                    "baseColumnName": null,
                                    "baseSchemaName": null,
                                    "baseServerName": null,
                                    "baseTableName": null,
                                    "columnName": "dept_name",
                                    "columnOrdinal": 0,
                                    "columnSize": 20,
                                    "isAliased": null,
                                    "isAutoIncrement": false,
                                    "isExpression": null,
                                    "isHidden": null,
                                    "isIdentity": false,
                                    "isKey": null,
                                    "isLong": false,
                                    "isReadOnly": false,
                                    "isUnique": false,
                                    "numericPrecision": 255,
                                    "numericScale": 255,
                                    "udtAssemblyQualifiedName": null,
                                    "dataType": "System.String, System.Private.CoreLib, Version=4.0.0.0, Culture=neutral, PublicKeyToken=7cec85d7bea7798e",
                                    "dataTypeName": "varchar"
                                }
                            ],
                            "specialAction": {
                                "none": true,
                                "expectYukonXMLShowPlan": false
                            }
                        }
                    }
                }
            ],
            "execution_count": 24
        },
        {
            "cell_type": "markdown",
            "source": [
                "### Null Values\n",
                "\n",
                "Null values present special problem in relational operations, including arithmetic, comparison, and set operations. In comparison operations, SQL treats null values as unknown."
            ],
            "metadata": {
                "azdata_cell_guid": "f030adb7-d4ee-4549-91dd-de69ed4639c9"
            }
        },
        {
            "cell_type": "code",
            "source": [
                "-- add an empty column to departments\n",
                "insert into department values ('Law.', 'Sottomayor', NULL)"
            ],
            "metadata": {
                "azdata_cell_guid": "53417e90-c0cf-4c1e-ad5b-b928b88694fc"
            },
            "outputs": [
                {
                    "output_type": "display_data",
                    "data": {
                        "text/html": "(1 row affected)"
                    },
                    "metadata": {}
                },
                {
                    "output_type": "display_data",
                    "data": {
                        "text/html": "Total execution time: 00:00:00.004"
                    },
                    "metadata": {}
                }
            ],
            "execution_count": 25
        },
        {
            "cell_type": "markdown",
            "source": [
                "For example, in this query SQL identifies NULL as part of the resulting tuple of department with budgets higher than 10000 but also notice that once we make this specific query, the row with the NULL is not part of it - which does not make much sense."
            ],
            "metadata": {
                "azdata_cell_guid": "90dbcbfc-1bef-44fa-967d-ed67da73c604"
            }
        },
        {
            "cell_type": "code",
            "source": [
                "SELECT budget FROM department\n",
                "WHERE budget < 10000.00;\n",
                "GO\n",
                "\n",
                "SELECT budget FROM department\n",
                "WHERE budget > 10000.00;\n",
                "GO"
            ],
            "metadata": {
                "azdata_cell_guid": "1d8dc3c1-77e1-4f1f-afb3-2b45e5620dd7"
            },
            "outputs": [
                {
                    "output_type": "display_data",
                    "data": {
                        "text/html": "(0 rows affected)"
                    },
                    "metadata": {}
                },
                {
                    "output_type": "display_data",
                    "data": {
                        "text/html": "(4 rows affected)"
                    },
                    "metadata": {}
                },
                {
                    "output_type": "display_data",
                    "data": {
                        "text/html": "Total execution time: 00:00:00.007"
                    },
                    "metadata": {}
                },
                {
                    "output_type": "execute_result",
                    "execution_count": 26,
                    "data": {
                        "application/vnd.dataresource+json": {
                            "schema": {
                                "fields": [
                                    {
                                        "name": "budget"
                                    }
                                ]
                            },
                            "data": []
                        },
                        "text/html": "<table><tr><th>budget</th></tr></table>"
                    },
                    "metadata": {
                        "resultSet": {
                            "id": 0,
                            "batchId": 0,
                            "rowCount": 0,
                            "complete": false,
                            "columnInfo": [
                                {
                                    "isBytes": false,
                                    "isChars": false,
                                    "isSqlVariant": false,
                                    "isUdt": false,
                                    "isXml": false,
                                    "isJson": false,
                                    "sqlDbType": 5,
                                    "isHierarchyId": false,
                                    "isSqlXmlType": false,
                                    "isUnknownType": false,
                                    "isUpdatable": true,
                                    "allowDBNull": true,
                                    "baseCatalogName": null,
                                    "baseColumnName": null,
                                    "baseSchemaName": null,
                                    "baseServerName": null,
                                    "baseTableName": null,
                                    "columnName": "budget",
                                    "columnOrdinal": 0,
                                    "columnSize": 17,
                                    "isAliased": null,
                                    "isAutoIncrement": false,
                                    "isExpression": null,
                                    "isHidden": null,
                                    "isIdentity": false,
                                    "isKey": null,
                                    "isLong": false,
                                    "isReadOnly": false,
                                    "isUnique": false,
                                    "numericPrecision": 12,
                                    "numericScale": 2,
                                    "udtAssemblyQualifiedName": null,
                                    "dataType": "System.Decimal, System.Private.CoreLib, Version=4.0.0.0, Culture=neutral, PublicKeyToken=7cec85d7bea7798e",
                                    "dataTypeName": "decimal"
                                }
                            ],
                            "specialAction": null
                        }
                    }
                },
                {
                    "output_type": "execute_result",
                    "execution_count": 26,
                    "data": {
                        "application/vnd.dataresource+json": {
                            "schema": {
                                "fields": [
                                    {
                                        "name": "budget"
                                    }
                                ]
                            },
                            "data": [
                                {
                                    "0": "90000.00"
                                },
                                {
                                    "0": "100000.00"
                                },
                                {
                                    "0": "85000.00"
                                },
                                {
                                    "0": "120000.00"
                                }
                            ]
                        },
                        "text/html": "<table><tr><th>budget</th></tr><tr><td>90000.00</td></tr><tr><td>100000.00</td></tr><tr><td>85000.00</td></tr><tr><td>120000.00</td></tr></table>"
                    },
                    "metadata": {
                        "resultSet": {
                            "id": 0,
                            "batchId": 1,
                            "rowCount": 4,
                            "complete": true,
                            "columnInfo": [
                                {
                                    "isBytes": false,
                                    "isChars": false,
                                    "isSqlVariant": false,
                                    "isUdt": false,
                                    "isXml": false,
                                    "isJson": false,
                                    "sqlDbType": 5,
                                    "isHierarchyId": false,
                                    "isSqlXmlType": false,
                                    "isUnknownType": false,
                                    "isUpdatable": true,
                                    "allowDBNull": true,
                                    "baseCatalogName": null,
                                    "baseColumnName": null,
                                    "baseSchemaName": null,
                                    "baseServerName": null,
                                    "baseTableName": null,
                                    "columnName": "budget",
                                    "columnOrdinal": 0,
                                    "columnSize": 17,
                                    "isAliased": null,
                                    "isAutoIncrement": false,
                                    "isExpression": null,
                                    "isHidden": null,
                                    "isIdentity": false,
                                    "isKey": null,
                                    "isLong": false,
                                    "isReadOnly": false,
                                    "isUnique": false,
                                    "numericPrecision": 12,
                                    "numericScale": 2,
                                    "udtAssemblyQualifiedName": null,
                                    "dataType": "System.Decimal, System.Private.CoreLib, Version=4.0.0.0, Culture=neutral, PublicKeyToken=7cec85d7bea7798e",
                                    "dataTypeName": "decimal"
                                }
                            ],
                            "specialAction": {
                                "none": true,
                                "expectYukonXMLShowPlan": false
                            }
                        }
                    }
                }
            ],
            "execution_count": 26
        },
        {
            "cell_type": "markdown",
            "source": [
                "SQL treats treats it as an unknown. As we know, UNKNOWN is a logical operator which implies that we can manipulate it in the WHERE clause using logical comparisons. However, we have a special keyword ``null`` which we can use in the predicate to work with null values"
            ],
            "metadata": {
                "azdata_cell_guid": "4a374923-1817-4251-b4ee-086d4e2b8711"
            }
        },
        {
            "cell_type": "markdown",
            "source": [
                ""
            ],
            "metadata": {
                "azdata_cell_guid": "fd6a830e-310a-4674-95cf-ca22faa18105"
            }
        },
        {
            "cell_type": "code",
            "source": [
                "SELECT budget FROM department\n",
                "WHERE budget IS NOT NULL AND budget > 10000.00;\n",
                "GO\n",
                "\n",
                "-- we can also identify the tuple with the missing data\n",
                "SELECT * FROM department \n",
                "WHERE budget IS NULL;\n",
                "GO"
            ],
            "metadata": {
                "azdata_cell_guid": "2d337768-c923-46d1-a19e-693d9694fdba"
            },
            "outputs": [
                {
                    "output_type": "display_data",
                    "data": {
                        "text/html": "(4 rows affected)"
                    },
                    "metadata": {}
                },
                {
                    "output_type": "display_data",
                    "data": {
                        "text/html": "(1 row affected)"
                    },
                    "metadata": {}
                },
                {
                    "output_type": "display_data",
                    "data": {
                        "text/html": "Total execution time: 00:00:00.009"
                    },
                    "metadata": {}
                },
                {
                    "output_type": "execute_result",
                    "execution_count": 27,
                    "data": {
                        "application/vnd.dataresource+json": {
                            "schema": {
                                "fields": [
                                    {
                                        "name": "budget"
                                    }
                                ]
                            },
                            "data": [
                                {
                                    "0": "90000.00"
                                },
                                {
                                    "0": "100000.00"
                                },
                                {
                                    "0": "85000.00"
                                },
                                {
                                    "0": "120000.00"
                                }
                            ]
                        },
                        "text/html": "<table><tr><th>budget</th></tr><tr><td>90000.00</td></tr><tr><td>100000.00</td></tr><tr><td>85000.00</td></tr><tr><td>120000.00</td></tr></table>"
                    },
                    "metadata": {
                        "resultSet": {
                            "id": 0,
                            "batchId": 0,
                            "rowCount": 4,
                            "complete": true,
                            "columnInfo": [
                                {
                                    "isBytes": false,
                                    "isChars": false,
                                    "isSqlVariant": false,
                                    "isUdt": false,
                                    "isXml": false,
                                    "isJson": false,
                                    "sqlDbType": 5,
                                    "isHierarchyId": false,
                                    "isSqlXmlType": false,
                                    "isUnknownType": false,
                                    "isUpdatable": true,
                                    "allowDBNull": true,
                                    "baseCatalogName": null,
                                    "baseColumnName": null,
                                    "baseSchemaName": null,
                                    "baseServerName": null,
                                    "baseTableName": null,
                                    "columnName": "budget",
                                    "columnOrdinal": 0,
                                    "columnSize": 17,
                                    "isAliased": null,
                                    "isAutoIncrement": false,
                                    "isExpression": null,
                                    "isHidden": null,
                                    "isIdentity": false,
                                    "isKey": null,
                                    "isLong": false,
                                    "isReadOnly": false,
                                    "isUnique": false,
                                    "numericPrecision": 12,
                                    "numericScale": 2,
                                    "udtAssemblyQualifiedName": null,
                                    "dataType": "System.Decimal, System.Private.CoreLib, Version=4.0.0.0, Culture=neutral, PublicKeyToken=7cec85d7bea7798e",
                                    "dataTypeName": "decimal"
                                }
                            ],
                            "specialAction": {
                                "none": true,
                                "expectYukonXMLShowPlan": false
                            }
                        }
                    }
                },
                {
                    "output_type": "execute_result",
                    "execution_count": 27,
                    "data": {
                        "application/vnd.dataresource+json": {
                            "schema": {
                                "fields": [
                                    {
                                        "name": "dept_name"
                                    },
                                    {
                                        "name": "building"
                                    },
                                    {
                                        "name": "budget"
                                    }
                                ]
                            },
                            "data": [
                                {
                                    "0": "Law.",
                                    "1": "Sottomayor",
                                    "2": "NULL"
                                }
                            ]
                        },
                        "text/html": "<table><tr><th>dept_name</th><th>building</th><th>budget</th></tr><tr><td>Law.</td><td>Sottomayor</td><td>NULL</td></tr></table>"
                    },
                    "metadata": {
                        "resultSet": {
                            "id": 0,
                            "batchId": 1,
                            "rowCount": 1,
                            "complete": true,
                            "columnInfo": [
                                {
                                    "isBytes": false,
                                    "isChars": true,
                                    "isSqlVariant": false,
                                    "isUdt": false,
                                    "isXml": false,
                                    "isJson": false,
                                    "sqlDbType": 22,
                                    "isHierarchyId": false,
                                    "isSqlXmlType": false,
                                    "isUnknownType": false,
                                    "isUpdatable": true,
                                    "allowDBNull": false,
                                    "baseCatalogName": null,
                                    "baseColumnName": null,
                                    "baseSchemaName": null,
                                    "baseServerName": null,
                                    "baseTableName": null,
                                    "columnName": "dept_name",
                                    "columnOrdinal": 0,
                                    "columnSize": 20,
                                    "isAliased": null,
                                    "isAutoIncrement": false,
                                    "isExpression": null,
                                    "isHidden": null,
                                    "isIdentity": false,
                                    "isKey": null,
                                    "isLong": false,
                                    "isReadOnly": false,
                                    "isUnique": false,
                                    "numericPrecision": 255,
                                    "numericScale": 255,
                                    "udtAssemblyQualifiedName": null,
                                    "dataType": "System.String, System.Private.CoreLib, Version=4.0.0.0, Culture=neutral, PublicKeyToken=7cec85d7bea7798e",
                                    "dataTypeName": "varchar"
                                },
                                {
                                    "isBytes": false,
                                    "isChars": true,
                                    "isSqlVariant": false,
                                    "isUdt": false,
                                    "isXml": false,
                                    "isJson": false,
                                    "sqlDbType": 22,
                                    "isHierarchyId": false,
                                    "isSqlXmlType": false,
                                    "isUnknownType": false,
                                    "isUpdatable": true,
                                    "allowDBNull": true,
                                    "baseCatalogName": null,
                                    "baseColumnName": null,
                                    "baseSchemaName": null,
                                    "baseServerName": null,
                                    "baseTableName": null,
                                    "columnName": "building",
                                    "columnOrdinal": 1,
                                    "columnSize": 15,
                                    "isAliased": null,
                                    "isAutoIncrement": false,
                                    "isExpression": null,
                                    "isHidden": null,
                                    "isIdentity": false,
                                    "isKey": null,
                                    "isLong": false,
                                    "isReadOnly": false,
                                    "isUnique": false,
                                    "numericPrecision": 255,
                                    "numericScale": 255,
                                    "udtAssemblyQualifiedName": null,
                                    "dataType": "System.String, System.Private.CoreLib, Version=4.0.0.0, Culture=neutral, PublicKeyToken=7cec85d7bea7798e",
                                    "dataTypeName": "varchar"
                                },
                                {
                                    "isBytes": false,
                                    "isChars": false,
                                    "isSqlVariant": false,
                                    "isUdt": false,
                                    "isXml": false,
                                    "isJson": false,
                                    "sqlDbType": 5,
                                    "isHierarchyId": false,
                                    "isSqlXmlType": false,
                                    "isUnknownType": false,
                                    "isUpdatable": true,
                                    "allowDBNull": true,
                                    "baseCatalogName": null,
                                    "baseColumnName": null,
                                    "baseSchemaName": null,
                                    "baseServerName": null,
                                    "baseTableName": null,
                                    "columnName": "budget",
                                    "columnOrdinal": 2,
                                    "columnSize": 17,
                                    "isAliased": null,
                                    "isAutoIncrement": false,
                                    "isExpression": null,
                                    "isHidden": null,
                                    "isIdentity": false,
                                    "isKey": null,
                                    "isLong": false,
                                    "isReadOnly": false,
                                    "isUnique": false,
                                    "numericPrecision": 12,
                                    "numericScale": 2,
                                    "udtAssemblyQualifiedName": null,
                                    "dataType": "System.Decimal, System.Private.CoreLib, Version=4.0.0.0, Culture=neutral, PublicKeyToken=7cec85d7bea7798e",
                                    "dataTypeName": "decimal"
                                }
                            ],
                            "specialAction": {
                                "none": true,
                                "expectYukonXMLShowPlan": false
                            }
                        }
                    }
                }
            ],
            "execution_count": 27
        },
        {
            "cell_type": "markdown",
            "source": [
                "### Aggregate functions\n",
                "\n",
                "Aggregate functions are functions that take a collection of valus as input and return a single value. SQL offers five standard built-in aggregate functions:\n",
                "\n",
                "- Average: `avg`\n",
                "- Minimum: `min`\n",
                "- Maximum: `max`\n",
                "- Total: `sum`\n",
                "- Count: `count`\n",
                "\n",
                "For example, in the query below we find the average salary of the professors."
            ],
            "metadata": {
                "azdata_cell_guid": "59f25ea6-99b0-4a96-975c-0bd68f81eb4c"
            }
        },
        {
            "cell_type": "code",
            "source": [
                "SELECT AVG(salary) as [Avg. budget]\n",
                "FROM professors;\n",
                "GO\n",
                "\n",
                "-- issue of nulls\n",
                "SELECT AVG(budget) as [Avg. budget]\n",
                "FROM department\n",
                "WHERE budget IS NOT NULL;\n",
                "GO"
            ],
            "metadata": {
                "azdata_cell_guid": "244c6ad3-a1bd-4e7a-a820-b14bf2896b95"
            },
            "outputs": [
                {
                    "output_type": "display_data",
                    "data": {
                        "text/html": "(1 row affected)"
                    },
                    "metadata": {}
                },
                {
                    "output_type": "display_data",
                    "data": {
                        "text/html": "(1 row affected)"
                    },
                    "metadata": {}
                },
                {
                    "output_type": "display_data",
                    "data": {
                        "text/html": "Total execution time: 00:00:00.007"
                    },
                    "metadata": {}
                },
                {
                    "output_type": "execute_result",
                    "execution_count": 28,
                    "data": {
                        "application/vnd.dataresource+json": {
                            "schema": {
                                "fields": [
                                    {
                                        "name": "Avg. budget"
                                    }
                                ]
                            },
                            "data": [
                                {
                                    "0": "65000.000000"
                                }
                            ]
                        },
                        "text/html": "<table><tr><th>Avg. budget</th></tr><tr><td>65000.000000</td></tr></table>"
                    },
                    "metadata": {
                        "resultSet": {
                            "id": 0,
                            "batchId": 0,
                            "rowCount": 1,
                            "complete": true,
                            "columnInfo": [
                                {
                                    "isBytes": false,
                                    "isChars": false,
                                    "isSqlVariant": false,
                                    "isUdt": false,
                                    "isXml": false,
                                    "isJson": false,
                                    "sqlDbType": 5,
                                    "isHierarchyId": false,
                                    "isSqlXmlType": false,
                                    "isUnknownType": false,
                                    "isUpdatable": false,
                                    "allowDBNull": true,
                                    "baseCatalogName": null,
                                    "baseColumnName": null,
                                    "baseSchemaName": null,
                                    "baseServerName": null,
                                    "baseTableName": null,
                                    "columnName": "Avg. budget",
                                    "columnOrdinal": 0,
                                    "columnSize": 17,
                                    "isAliased": null,
                                    "isAutoIncrement": false,
                                    "isExpression": null,
                                    "isHidden": null,
                                    "isIdentity": false,
                                    "isKey": null,
                                    "isLong": false,
                                    "isReadOnly": true,
                                    "isUnique": false,
                                    "numericPrecision": 38,
                                    "numericScale": 6,
                                    "udtAssemblyQualifiedName": null,
                                    "dataType": "System.Decimal, System.Private.CoreLib, Version=4.0.0.0, Culture=neutral, PublicKeyToken=7cec85d7bea7798e",
                                    "dataTypeName": "decimal"
                                }
                            ],
                            "specialAction": {
                                "none": true,
                                "expectYukonXMLShowPlan": false
                            }
                        }
                    }
                },
                {
                    "output_type": "execute_result",
                    "execution_count": 28,
                    "data": {
                        "application/vnd.dataresource+json": {
                            "schema": {
                                "fields": [
                                    {
                                        "name": "Avg. budget"
                                    }
                                ]
                            },
                            "data": [
                                {
                                    "0": "98750.000000"
                                }
                            ]
                        },
                        "text/html": "<table><tr><th>Avg. budget</th></tr><tr><td>98750.000000</td></tr></table>"
                    },
                    "metadata": {
                        "resultSet": {
                            "id": 0,
                            "batchId": 1,
                            "rowCount": 1,
                            "complete": true,
                            "columnInfo": [
                                {
                                    "isBytes": false,
                                    "isChars": false,
                                    "isSqlVariant": false,
                                    "isUdt": false,
                                    "isXml": false,
                                    "isJson": false,
                                    "sqlDbType": 5,
                                    "isHierarchyId": false,
                                    "isSqlXmlType": false,
                                    "isUnknownType": false,
                                    "isUpdatable": false,
                                    "allowDBNull": true,
                                    "baseCatalogName": null,
                                    "baseColumnName": null,
                                    "baseSchemaName": null,
                                    "baseServerName": null,
                                    "baseTableName": null,
                                    "columnName": "Avg. budget",
                                    "columnOrdinal": 0,
                                    "columnSize": 17,
                                    "isAliased": null,
                                    "isAutoIncrement": false,
                                    "isExpression": null,
                                    "isHidden": null,
                                    "isIdentity": false,
                                    "isKey": null,
                                    "isLong": false,
                                    "isReadOnly": true,
                                    "isUnique": false,
                                    "numericPrecision": 38,
                                    "numericScale": 6,
                                    "udtAssemblyQualifiedName": null,
                                    "dataType": "System.Decimal, System.Private.CoreLib, Version=4.0.0.0, Culture=neutral, PublicKeyToken=7cec85d7bea7798e",
                                    "dataTypeName": "decimal"
                                }
                            ],
                            "specialAction": {
                                "none": true,
                                "expectYukonXMLShowPlan": false
                            }
                        }
                    }
                }
            ],
            "execution_count": 28
        },
        {
            "cell_type": "markdown",
            "source": [
                "In this case we also remove duplicates since we want to know how many buildings are in our university database."
            ],
            "metadata": {
                "azdata_cell_guid": "5c9d5b1b-848d-4417-86ce-42128608ca81"
            }
        },
        {
            "cell_type": "code",
            "source": [
                "SELECT COUNT(\n",
                "    DISTINCT building\n",
                ") AS [number of buildings]\n",
                "FROM department;\n",
                "GO\n",
                "-- check\n",
                "SELECT DISTINCT building\n",
                "FROM department;\n",
                "GO"
            ],
            "metadata": {
                "azdata_cell_guid": "edf9f5e3-ef5c-4f0a-abf2-7f9a8b7fbb02"
            },
            "outputs": [
                {
                    "output_type": "display_data",
                    "data": {
                        "text/html": "(1 row affected)"
                    },
                    "metadata": {}
                },
                {
                    "output_type": "display_data",
                    "data": {
                        "text/html": "(4 rows affected)"
                    },
                    "metadata": {}
                },
                {
                    "output_type": "display_data",
                    "data": {
                        "text/html": "Total execution time: 00:00:00.006"
                    },
                    "metadata": {}
                },
                {
                    "output_type": "execute_result",
                    "execution_count": 29,
                    "data": {
                        "application/vnd.dataresource+json": {
                            "schema": {
                                "fields": [
                                    {
                                        "name": "number of buildings"
                                    }
                                ]
                            },
                            "data": [
                                {
                                    "0": "4"
                                }
                            ]
                        },
                        "text/html": "<table><tr><th>number of buildings</th></tr><tr><td>4</td></tr></table>"
                    },
                    "metadata": {
                        "resultSet": {
                            "id": 0,
                            "batchId": 0,
                            "rowCount": 1,
                            "complete": true,
                            "columnInfo": [
                                {
                                    "isBytes": false,
                                    "isChars": false,
                                    "isSqlVariant": false,
                                    "isUdt": false,
                                    "isXml": false,
                                    "isJson": false,
                                    "sqlDbType": 8,
                                    "isHierarchyId": false,
                                    "isSqlXmlType": false,
                                    "isUnknownType": false,
                                    "isUpdatable": false,
                                    "allowDBNull": true,
                                    "baseCatalogName": null,
                                    "baseColumnName": null,
                                    "baseSchemaName": null,
                                    "baseServerName": null,
                                    "baseTableName": null,
                                    "columnName": "number of buildings",
                                    "columnOrdinal": 0,
                                    "columnSize": 4,
                                    "isAliased": null,
                                    "isAutoIncrement": false,
                                    "isExpression": null,
                                    "isHidden": null,
                                    "isIdentity": false,
                                    "isKey": null,
                                    "isLong": false,
                                    "isReadOnly": true,
                                    "isUnique": false,
                                    "numericPrecision": 10,
                                    "numericScale": 255,
                                    "udtAssemblyQualifiedName": null,
                                    "dataType": "System.Int32, System.Private.CoreLib, Version=4.0.0.0, Culture=neutral, PublicKeyToken=7cec85d7bea7798e",
                                    "dataTypeName": "int"
                                }
                            ],
                            "specialAction": {
                                "none": true,
                                "expectYukonXMLShowPlan": false
                            }
                        }
                    }
                },
                {
                    "output_type": "execute_result",
                    "execution_count": 29,
                    "data": {
                        "application/vnd.dataresource+json": {
                            "schema": {
                                "fields": [
                                    {
                                        "name": "building"
                                    }
                                ]
                            },
                            "data": [
                                {
                                    "0": "Painter"
                                },
                                {
                                    "0": "Sottomayor"
                                },
                                {
                                    "0": "Taylor"
                                },
                                {
                                    "0": "Watson"
                                }
                            ]
                        },
                        "text/html": "<table><tr><th>building</th></tr><tr><td>Painter</td></tr><tr><td>Sottomayor</td></tr><tr><td>Taylor</td></tr><tr><td>Watson</td></tr></table>"
                    },
                    "metadata": {
                        "resultSet": {
                            "id": 0,
                            "batchId": 1,
                            "rowCount": 4,
                            "complete": true,
                            "columnInfo": [
                                {
                                    "isBytes": false,
                                    "isChars": true,
                                    "isSqlVariant": false,
                                    "isUdt": false,
                                    "isXml": false,
                                    "isJson": false,
                                    "sqlDbType": 22,
                                    "isHierarchyId": false,
                                    "isSqlXmlType": false,
                                    "isUnknownType": false,
                                    "isUpdatable": true,
                                    "allowDBNull": true,
                                    "baseCatalogName": null,
                                    "baseColumnName": null,
                                    "baseSchemaName": null,
                                    "baseServerName": null,
                                    "baseTableName": null,
                                    "columnName": "building",
                                    "columnOrdinal": 0,
                                    "columnSize": 15,
                                    "isAliased": null,
                                    "isAutoIncrement": false,
                                    "isExpression": null,
                                    "isHidden": null,
                                    "isIdentity": false,
                                    "isKey": null,
                                    "isLong": false,
                                    "isReadOnly": false,
                                    "isUnique": false,
                                    "numericPrecision": 255,
                                    "numericScale": 255,
                                    "udtAssemblyQualifiedName": null,
                                    "dataType": "System.String, System.Private.CoreLib, Version=4.0.0.0, Culture=neutral, PublicKeyToken=7cec85d7bea7798e",
                                    "dataTypeName": "varchar"
                                }
                            ],
                            "specialAction": {
                                "none": true,
                                "expectYukonXMLShowPlan": false
                            }
                        }
                    }
                }
            ],
            "execution_count": 29
        },
        {
            "cell_type": "markdown",
            "source": [
                "1. Quite useful to know, it is ilegal to count the number of distinct rows in the following way. However, we can just count them as a whole."
            ],
            "metadata": {
                "azdata_cell_guid": "8295f2fe-b7df-4827-8f42-17fcd15c7768"
            }
        },
        {
            "cell_type": "code",
            "source": [
                "\n",
                "-- this is fine\n",
                "SELECT COUNT (*) as [Row count]\n",
                "FROM department;\n",
                "GO\n",
                ""
            ],
            "metadata": {
                "azdata_cell_guid": "71eb8dd4-825b-499d-8719-47acd839b262"
            },
            "outputs": [
                {
                    "output_type": "display_data",
                    "data": {
                        "text/html": "(1 row affected)"
                    },
                    "metadata": {}
                },
                {
                    "output_type": "display_data",
                    "data": {
                        "text/html": "Total execution time: 00:00:00.002"
                    },
                    "metadata": {}
                },
                {
                    "output_type": "execute_result",
                    "execution_count": 30,
                    "data": {
                        "application/vnd.dataresource+json": {
                            "schema": {
                                "fields": [
                                    {
                                        "name": "Row count"
                                    }
                                ]
                            },
                            "data": [
                                {
                                    "0": "5"
                                }
                            ]
                        },
                        "text/html": "<table><tr><th>Row count</th></tr><tr><td>5</td></tr></table>"
                    },
                    "metadata": {
                        "resultSet": {
                            "id": 0,
                            "batchId": 0,
                            "rowCount": 1,
                            "complete": true,
                            "columnInfo": [
                                {
                                    "isBytes": false,
                                    "isChars": false,
                                    "isSqlVariant": false,
                                    "isUdt": false,
                                    "isXml": false,
                                    "isJson": false,
                                    "sqlDbType": 8,
                                    "isHierarchyId": false,
                                    "isSqlXmlType": false,
                                    "isUnknownType": false,
                                    "isUpdatable": false,
                                    "allowDBNull": true,
                                    "baseCatalogName": null,
                                    "baseColumnName": null,
                                    "baseSchemaName": null,
                                    "baseServerName": null,
                                    "baseTableName": null,
                                    "columnName": "Row count",
                                    "columnOrdinal": 0,
                                    "columnSize": 4,
                                    "isAliased": null,
                                    "isAutoIncrement": false,
                                    "isExpression": null,
                                    "isHidden": null,
                                    "isIdentity": false,
                                    "isKey": null,
                                    "isLong": false,
                                    "isReadOnly": true,
                                    "isUnique": false,
                                    "numericPrecision": 10,
                                    "numericScale": 255,
                                    "udtAssemblyQualifiedName": null,
                                    "dataType": "System.Int32, System.Private.CoreLib, Version=4.0.0.0, Culture=neutral, PublicKeyToken=7cec85d7bea7798e",
                                    "dataTypeName": "int"
                                }
                            ],
                            "specialAction": {
                                "none": true,
                                "expectYukonXMLShowPlan": false
                            }
                        }
                    }
                }
            ],
            "execution_count": 30
        },
        {
            "cell_type": "markdown",
            "source": [
                "### Aggregation by groups\n",
                "\n",
                "There are circumstances where we would like to apply the aggregate function not only to a single set of tuples, but also to a group of sets of tuples. For this it is useful to get a larger database, so I am re-creating the uni data base [using the followign scripts](https://www.db-book.com/db7/university-lab-dir/sample_tables-dir/index.html)"
            ],
            "metadata": {
                "azdata_cell_guid": "7a25eb88-cf50-48d4-9f0c-530941845023"
            }
        },
        {
            "cell_type": "code",
            "source": [
                "USE master;\n",
                "GO\n",
                "\n",
                "-- dump the database\n",
                "IF EXISTS (SELECT name FROM sys.databases WHERE name = 'uni')\n",
                "    BEGIN\n",
                "        DROP DATABASE uni\n",
                "    END;\n",
                "    GO\n",
                "\n",
                "-- check\n",
                "SELECT name FROM sys.databases;\n",
                "GO\n",
                "\n",
                "-- re-create the database\n",
                "CREATE DATABASE uni;\n",
                "GO\n",
                "USE uni;\n",
                "GO\n",
                "-- create tables\n",
                "create table classroom\n",
                "\t(building\t\tvarchar(15),\n",
                "\t room_number\t\tvarchar(7),\n",
                "\t capacity\t\tnumeric(4,0),\n",
                "\t primary key (building, room_number)\n",
                "\t);\n",
                "\n",
                "create table department\n",
                "\t(dept_name\t\tvarchar(20), \n",
                "\t building\t\tvarchar(15), \n",
                "\t budget\t\t        numeric(12,2) check (budget > 0),\n",
                "\t primary key (dept_name)\n",
                "\t);\n",
                "\n",
                "create table course\n",
                "\t(course_id\t\tvarchar(8), \n",
                "\t title\t\t\tvarchar(50), \n",
                "\t dept_name\t\tvarchar(20),\n",
                "\t credits\t\tnumeric(2,0) check (credits > 0),\n",
                "\t primary key (course_id),\n",
                "\t foreign key (dept_name) references department (dept_name)\n",
                "\t\ton delete set null\n",
                "\t);\n",
                "\n",
                "create table instructor\n",
                "\t(ID\t\t\tvarchar(5), \n",
                "\t prof_name\t\t\tvarchar(20) not null, \n",
                "\t dept_name\t\tvarchar(20), \n",
                "\t salary\t\t\tnumeric(8,2) check (salary > 29000),\n",
                "\t primary key (ID),\n",
                "\t foreign key (dept_name) references department (dept_name)\n",
                "\t\ton delete set null\n",
                "\t);\n",
                "\n",
                "create table time_slot\n",
                "\t(time_slot_id\t\tvarchar(4),\n",
                "\t day\t\t\tvarchar(1),\n",
                "\t start_hr\t\tnumeric(2) check (start_hr >= 0 and start_hr < 24),\n",
                "\t start_min\t\tnumeric(2) check (start_min >= 0 and start_min < 60),\n",
                "\t end_hr\t\t\tnumeric(2) check (end_hr >= 0 and end_hr < 24),\n",
                "\t end_min\t\tnumeric(2) check (end_min >= 0 and end_min < 60),\n",
                "\t primary key (time_slot_id, day, start_hr, start_min)\n",
                "\t);\n",
                "\n",
                "-- add data\n",
                "insert into time_slot values ( 'A', 'M', 8, 0, 8, 50);\n",
                "insert into time_slot values ( 'A', 'W', 8, 0, 8, 50);\n",
                "insert into time_slot values ( 'A', 'F', 8, 0, 8, 50);\n",
                "insert into time_slot values ( 'B', 'M', 9, 0, 9, 50);\n",
                "insert into time_slot values ( 'B', 'W', 9, 0, 9, 50);\n",
                "insert into time_slot values ( 'B', 'F', 9, 0, 9, 50);\n",
                "insert into time_slot values ( 'C', 'M', 11, 0, 11, 50);\n",
                "insert into time_slot values ( 'C', 'W', 11, 0, 11, 50);\n",
                "insert into time_slot values ( 'C', 'F', 11, 0, 11, 50);\n",
                "insert into time_slot values ( 'D', 'M', 13, 0, 13, 50);\n",
                "insert into time_slot values ( 'D', 'W', 13, 0, 13, 50);\n",
                "insert into time_slot values ( 'D', 'F', 13, 0, 13, 50);\n",
                "insert into time_slot values ( 'E', 'T', 10, 30, 11, 45);\n",
                "insert into time_slot values ( 'E', 'R', 10, 30, 11, 45);\n",
                "insert into time_slot values ( 'F', 'T', 14, 30, 15, 45);\n",
                "insert into time_slot values ( 'F', 'R', 14, 30, 15, 45);\n",
                "insert into time_slot values ( 'G', 'M', 16, 0, 16, 50);\n",
                "insert into time_slot values ( 'G', 'W', 16, 0, 16, 50);\n",
                "insert into time_slot values ( 'G', 'F', 16, 0, 16, 50);\n",
                "insert into time_slot values ( 'H', 'W', 10, 0, 12, 30);\n",
                "insert into classroom values('Lamberton', 134, 10);\n",
                "insert into classroom values('Chandler', 375, 10);\n",
                "insert into classroom values('Fairchild', 145, 27);\n",
                "insert into classroom values('Nassau', 45, 92);\n",
                "insert into classroom values('Grace', 40, 34);\n",
                "insert into classroom values('Whitman', 134, 120);\n",
                "insert into classroom values('Lamberton', 143, 10);\n",
                "insert into classroom values('Taylor', 812, 115);\n",
                "insert into classroom values('Saucon', 113, 109);\n",
                "insert into classroom values('Painter', 86, 97);\n",
                "insert into classroom values('Alumni', 547, 26);\n",
                "insert into classroom values('Alumni', 143, 47);\n",
                "insert into classroom values('Drown', 757, 18);\n",
                "insert into classroom values('Saucon', 180, 15);\n",
                "insert into classroom values('Whitman', 434, 32);\n",
                "insert into classroom values('Saucon', 844, 24);\n",
                "insert into classroom values('Bronfman', 700, 12);\n",
                "insert into classroom values('Polya', 808, 28);\n",
                "insert into classroom values('Gates', 707, 65);\n",
                "insert into classroom values('Gates', 314, 10);\n",
                "insert into classroom values('Main', 45, 30);\n",
                "insert into classroom values('Taylor', 183, 71);\n",
                "insert into classroom values('Power', 972, 10);\n",
                "insert into classroom values('Garfield', 119, 59);\n",
                "insert into classroom values('Rathbone', 261, 60);\n",
                "insert into classroom values('Stabler', 105, 113);\n",
                "insert into classroom values('Power', 717, 12);\n",
                "insert into classroom values('Main', 425, 22);\n",
                "insert into classroom values('Lambeau', 348, 51);\n",
                "insert into classroom values('Chandler', 804, 11);\n",
                "insert into department values('Civil Eng.', 'Chandler', 255041.46);\n",
                "insert into department values('Biology', 'Candlestick', 647610.55);\n",
                "insert into department values('History', 'Taylor', 699140.86);\n",
                "insert into department values('Physics', 'Wrigley', 942162.76);\n",
                "insert into department values('Marketing', 'Lambeau', 210627.58);\n",
                "insert into department values('Pol. Sci.', 'Whitman', 573745.09);\n",
                "insert into department values('English', 'Palmer', 611042.66);\n",
                "insert into department values('Accounting', 'Saucon', 441840.92);\n",
                "insert into department values('Comp. Sci.', 'Lamberton', 106378.69);\n",
                "insert into department values('Languages', 'Linderman', 601283.60);\n",
                "insert into department values('Finance', 'Candlestick', 866831.75);\n",
                "insert into department values('Geology', 'Palmer', 406557.93);\n",
                "insert into department values('Cybernetics', 'Mercer', 794541.46);\n",
                "insert into department values('Astronomy', 'Taylor', 617253.94);\n",
                "insert into department values('Athletics', 'Bronfman', 734550.70);\n",
                "insert into department values('Statistics', 'Taylor', 395051.74);\n",
                "insert into department values('Psychology', 'Thompson', 848175.04);\n",
                "insert into department values('Math', 'Brodhead', 777605.11);\n",
                "insert into department values('Elec. Eng.', 'Main', 276527.61);\n",
                "insert into department values('Mech. Eng.', 'Rauch', 520350.65);\n",
                "insert into course values('787', 'C  Programming', 'Mech. Eng.', 4);\n",
                "insert into course values('238', 'The Music of Donovan', 'Mech. Eng.', 3);\n",
                "insert into course values('608', 'Electron Microscopy', 'Mech. Eng.', 3);\n",
                "insert into course values('539', 'International Finance', 'Comp. Sci.', 3);\n",
                "insert into course values('278', 'Greek Tragedy', 'Statistics', 4);\n",
                "insert into course values('972', 'Greek Tragedy', 'Psychology', 4);\n",
                "insert into course values('391', 'Virology', 'Biology', 3);\n",
                "insert into course values('814', 'Compiler Design', 'Elec. Eng.', 3);\n",
                "insert into course values('272', 'Geology', 'Mech. Eng.', 3);\n",
                "insert into course values('612', 'Mobile Computing', 'Physics', 3);\n",
                "insert into course values('237', 'Surfing', 'Cybernetics', 3);\n",
                "insert into course values('313', 'International Trade', 'Marketing', 3);\n",
                "insert into course values('887', 'Latin', 'Mech. Eng.', 3);\n",
                "insert into course values('328', 'Composition and Literature', 'Cybernetics', 3);\n",
                "insert into course values('984', 'Music of the 50s', 'History', 3);\n",
                "insert into course values('241', 'Biostatistics', 'Geology', 3);\n",
                "insert into course values('338', 'Graph Theory', 'Psychology', 3);\n",
                "insert into course values('400', 'Visual BASIC', 'Psychology', 4);\n",
                "insert into course values('760', 'How to Groom your Cat', 'Accounting', 3);\n",
                "insert into course values('629', 'Finite Element Analysis', 'Cybernetics', 3);\n",
                "insert into course values('762', 'The Monkeys', 'History', 4);\n",
                "insert into course values('242', 'Rock and Roll', 'Marketing', 3);\n",
                "insert into course values('482', 'FOCAL Programming', 'Psychology', 4);\n",
                "insert into course values('581', 'Calculus', 'Pol. Sci.', 4);\n",
                "insert into course values('843', 'Environmental Law', 'Math', 4);\n",
                "insert into course values('679', 'The Beatles', 'Math', 3);\n",
                "insert into course values('704', 'Marine Mammals', 'Geology', 4);\n",
                "insert into course values('774', 'Game Programming', 'Cybernetics', 4);\n",
                "insert into course values('591', 'Shakespeare', 'Pol. Sci.', 4);\n",
                "insert into course values('319', 'World History', 'Finance', 4);\n",
                "insert into course values('960', 'Tort Law', 'Civil Eng.', 3);\n",
                "insert into course values('274', 'Corporate Law', 'Comp. Sci.', 4);\n",
                "insert into course values('426', 'Video Gaming', 'Finance', 3);\n",
                "insert into course values('852', 'World History', 'Athletics', 4);\n",
                "insert into course values('408', 'Bankruptcy', 'Accounting', 3);\n",
                "insert into course values('808', 'Organic Chemistry', 'English', 4);\n",
                "insert into course values('902', 'Existentialism', 'Finance', 3);\n",
                "insert into course values('730', 'Quantum Mechanics', 'Elec. Eng.', 4);\n",
                "insert into course values('362', 'Embedded Systems', 'Finance', 4);\n",
                "insert into course values('341', 'Quantum Mechanics', 'Cybernetics', 3);\n",
                "insert into course values('582', 'Marine Mammals', 'Cybernetics', 3);\n",
                "insert into course values('867', 'The IBM 360 Architecture', 'History', 3);\n",
                "insert into course values('169', 'Marine Mammals', 'Elec. Eng.', 3);\n",
                "insert into course values('680', 'Electricity and Magnetism', 'Civil Eng.', 3);\n",
                "insert into course values('227', 'Elastic Structures', 'Languages', 4);\n",
                "insert into course values('991', 'Transaction Processing', 'Psychology', 3);\n",
                "insert into course values('366', 'Computational Biology', 'English', 3);\n",
                "insert into course values('376', 'Cost Accounting', 'Physics', 4);\n",
                "insert into course values('489', 'Journalism', 'Astronomy', 4);\n",
                "insert into course values('663', 'Geology', 'Psychology', 3);\n",
                "insert into course values('461', 'Physical Chemistry', 'Math', 3);\n",
                "insert into course values('105', 'Image Processing', 'Astronomy', 3);\n",
                "insert into course values('407', 'Industrial Organization', 'Languages', 4);\n",
                "insert into course values('254', 'Security', 'Cybernetics', 3);\n",
                "insert into course values('998', 'Immunology', 'Civil Eng.', 4);\n",
                "insert into course values('457', 'Systems Software', 'History', 3);\n",
                "insert into course values('401', 'Sanitary Engineering', 'Athletics', 4);\n",
                "insert into course values('127', 'Thermodynamics', 'Geology', 3);\n",
                "insert into course values('399', 'RPG Programming', 'Pol. Sci.', 4);\n",
                "insert into course values('949', 'Japanese', 'Comp. Sci.', 3);\n",
                "insert into course values('496', 'Aquatic Chemistry', 'Cybernetics', 3);\n",
                "insert into course values('334', 'International Trade', 'Athletics', 3);\n",
                "insert into course values('544', 'Differential Geometry', 'Statistics', 3);\n",
                "insert into course values('451', 'Database System Concepts', 'Pol. Sci.', 4);\n",
                "insert into course values('190', 'Romantic Literature', 'Civil Eng.', 3);\n",
                "insert into course values('630', 'Religion', 'English', 3);\n",
                "insert into course values('761', 'Existentialism', 'Athletics', 3);\n",
                "insert into course values('804', 'Introduction to Burglary', 'Cybernetics', 4);\n",
                "insert into course values('781', 'Compiler Design', 'Finance', 4);\n",
                "insert into course values('805', 'Composition and Literature', 'Statistics', 4);\n",
                "insert into course values('318', 'Geology', 'Cybernetics', 3);\n",
                "insert into course values('353', 'Operating Systems', 'Psychology', 3);\n",
                "insert into course values('394', 'C  Programming', 'Athletics', 3);\n",
                "insert into course values('137', 'Manufacturing', 'Finance', 3);\n",
                "insert into course values('192', 'Drama', 'Languages', 4);\n",
                "insert into course values('681', 'Medieval Civilization or Lack Thereof', 'English', 3);\n",
                "insert into course values('377', 'Differential Geometry', 'Astronomy', 4);\n",
                "insert into course values('959', 'Bacteriology', 'Physics', 4);\n",
                "insert into course values('235', 'International Trade', 'Math', 3);\n",
                "insert into course values('421', 'Aquatic Chemistry', 'Athletics', 4);\n",
                "insert into course values('647', 'Service-Oriented Architectures', 'Comp. Sci.', 4);\n",
                "insert into course values('598', 'Number Theory', 'Accounting', 4);\n",
                "insert into course values('858', 'Sailing', 'Math', 4);\n",
                "insert into course values('487', 'Physical Chemistry', 'History', 3);\n",
                "insert into course values('133', 'Antidisestablishmentarianism in Modern America', 'Biology', 4);\n",
                "insert into course values('267', 'Hydraulics', 'Physics', 4);\n",
                "insert into course values('200', 'The Music of the Ramones', 'Accounting', 4);\n",
                "insert into course values('664', 'Elastic Structures', 'English', 3);\n",
                "insert into course values('599', 'Mechanics', 'Psychology', 4);\n",
                "insert into course values('456', 'Hebrew', 'Civil Eng.', 3);\n",
                "insert into course values('558', 'Environmental Law', 'Psychology', 3);\n",
                "insert into course values('919', 'Computability Theory', 'Math', 3);\n",
                "insert into course values('546', 'Creative Writing', 'Mech. Eng.', 4);\n",
                "insert into course values('969', 'The Monkeys', 'Astronomy', 4);\n",
                "insert into course values('877', 'Composition and Literature', 'Biology', 4);\n",
                "insert into course values('337', 'Differential Geometry', 'Statistics', 3);\n",
                "insert into course values('983', 'Virology', 'Languages', 4);\n",
                "insert into course values('603', 'Care and Feeding of Cats', 'Statistics', 3);\n",
                "insert into course values('747', 'International Practicum', 'Comp. Sci.', 4);\n",
                "insert into course values('659', 'Geology', 'Math', 4);\n",
                "insert into course values('559', 'Martian History', 'Biology', 3);\n",
                "insert into course values('403', 'Immunology', 'Biology', 3);\n",
                "insert into course values('436', 'Stream Processing', 'Physics', 4);\n",
                "insert into course values('656', 'Groups and Rings', 'Civil Eng.', 4);\n",
                "insert into course values('731', 'The Music of Donovan', 'Physics', 4);\n",
                "insert into course values('820', 'Assembly Language Programming', 'Cybernetics', 3);\n",
                "insert into course values('898', 'Petroleum Engineering', 'Marketing', 4);\n",
                "insert into course values('545', 'International Practicum', 'History', 3);\n",
                "insert into course values('893', 'Systems Software', 'Cybernetics', 3);\n",
                "insert into course values('818', 'Environmental Law', 'Astronomy', 4);\n",
                "insert into course values('618', 'Thermodynamics', 'English', 4);\n",
                "insert into course values('416', 'Data Mining', 'Accounting', 3);\n",
                "insert into course values('716', 'Medieval Civilization or Lack Thereof', 'Languages', 4);\n",
                "insert into course values('130', 'Differential Geometry', 'Physics', 3);\n",
                "insert into course values('476', 'International Communication', 'Astronomy', 4);\n",
                "insert into course values('101', 'Diffusion and Phase Transformation', 'Mech. Eng.', 3);\n",
                "insert into course values('123', 'Differential Equations', 'Mech. Eng.', 3);\n",
                "insert into course values('209', 'International Trade', 'Cybernetics', 4);\n",
                "insert into course values('352', 'Compiler Design', 'Psychology', 4);\n",
                "insert into course values('393', 'Aerodynamics', 'Languages', 3);\n",
                "insert into course values('795', 'Death and Taxes', 'Marketing', 3);\n",
                "insert into course values('577', 'The Music of Dave Edmunds', 'Elec. Eng.', 3);\n",
                "insert into course values('584', 'Computability Theory', 'Comp. Sci.', 3);\n",
                "insert into course values('864', 'Heat Transfer', 'Geology', 3);\n",
                "insert into course values('594', 'Cognitive Psychology', 'Finance', 3);\n",
                "insert into course values('802', 'African History', 'Cybernetics', 3);\n",
                "insert into course values('692', 'Cat Herding', 'Athletics', 3);\n",
                "insert into course values('258', 'Colloid and Surface Chemistry', 'Math', 3);\n",
                "insert into course values('748', 'Tort Law', 'Cybernetics', 4);\n",
                "insert into course values('770', 'European History', 'Pol. Sci.', 3);\n",
                "insert into course values('340', 'Corporate Law', 'History', 3);\n",
                "insert into course values('158', 'Elastic Structures', 'Cybernetics', 3);\n",
                "insert into course values('276', 'Game Design', 'Comp. Sci.', 4);\n",
                "insert into course values('626', 'Multimedia Design', 'History', 4);\n",
                "insert into course values('696', 'Heat Transfer', 'Marketing', 4);\n",
                "insert into course values('239', 'The Music of the Ramones', 'Physics', 4);\n",
                "insert into course values('962', 'Animal Behavior', 'Psychology', 3);\n",
                "insert into course values('527', 'Graphics', 'Finance', 3);\n",
                "insert into course values('275', 'Romantic Literature', 'Languages', 3);\n",
                "insert into course values('549', 'Banking and Finance', 'Astronomy', 3);\n",
                "insert into course values('974', 'Astronautics', 'Accounting', 3);\n",
                "insert into course values('897', 'How to Succeed in Business Without Really Trying', 'Languages', 4);\n",
                "insert into course values('359', 'Game Programming', 'Comp. Sci.', 4);\n",
                "insert into course values('345', 'Race Car Driving', 'Accounting', 4);\n",
                "insert into course values('371', 'Milton', 'Finance', 3);\n",
                "insert into course values('284', 'Topology', 'Comp. Sci.', 4);\n",
                "insert into course values('642', 'Video Gaming', 'Psychology', 3);\n",
                "insert into course values('769', 'Logic', 'Elec. Eng.', 4);\n",
                "insert into course values('947', 'Real-Time Database Systems', 'Accounting', 3);\n",
                "insert into course values('265', 'Thermal Physics', 'Cybernetics', 4);\n",
                "insert into course values('927', 'Differential Geometry', 'Cybernetics', 4);\n",
                "insert into course values('694', 'Optics', 'Math', 3);\n",
                "insert into course values('580', 'The Music of Dave Edmunds', 'Physics', 4);\n",
                "insert into course values('324', 'Ponzi Schemes', 'Civil Eng.', 3);\n",
                "insert into course values('349', 'Networking', 'Finance', 4);\n",
                "insert into course values('392', 'Recursive Function Theory', 'Astronomy', 4);\n",
                "insert into course values('735', 'Greek Tragedy', 'Geology', 3);\n",
                "insert into course values('702', 'Arabic', 'Biology', 3);\n",
                "insert into course values('458', 'The Renaissance', 'Civil Eng.', 4);\n",
                "insert into course values('348', 'Compiler Design', 'Elec. Eng.', 3);\n",
                "insert into course values('500', 'Networking', 'Astronomy', 3);\n",
                "insert into course values('494', 'Automobile Mechanics', 'Pol. Sci.', 4);\n",
                "insert into course values('411', 'Music of the 80s', 'Mech. Eng.', 4);\n",
                "insert into course values('493', 'Music of the 50s', 'Geology', 3);\n",
                "insert into course values('396', 'C  Programming', 'Languages', 3);\n",
                "insert into course values('810', 'Mobile Computing', 'Geology', 3);\n",
                "insert into course values('631', 'Plasma Physics', 'Elec. Eng.', 4);\n",
                "insert into course values('486', 'Accounting', 'Geology', 3);\n",
                "insert into course values('963', 'Groups and Rings', 'Languages', 4);\n",
                "insert into course values('445', 'Biostatistics', 'Finance', 3);\n",
                "insert into course values('292', 'Electron Microscopy', 'English', 4);\n",
                "insert into course values('830', 'Sensor Networks', 'Astronomy', 4);\n",
                "insert into course values('604', 'UNIX System Programmming', 'Statistics', 4);\n",
                "insert into course values('857', 'UNIX System Programmming', 'Geology', 4);\n",
                "insert into course values('304', 'Music 2 New for your Instructor', 'Finance', 4);\n",
                "insert into course values('922', 'Microeconomics', 'Finance', 4);\n",
                "insert into course values('571', 'Plastics', 'Comp. Sci.', 4);\n",
                "insert into course values('628', 'Existentialism', 'Accounting', 3);\n",
                "insert into course values('841', 'Fractal Geometry', 'Mech. Eng.', 4);\n",
                "insert into course values('586', 'Image Processing', 'Finance', 4);\n",
                "insert into course values('139', 'Number Theory', 'English', 4);\n",
                "insert into course values('666', 'Multivariable Calculus', 'Accounting', 3);\n",
                "insert into course values('443', 'Journalism', 'Physics', 4);\n",
                "insert into course values('195', 'Numerical Methods', 'Geology', 4);\n",
                "insert into course values('634', 'Astronomy', 'Cybernetics', 4);\n",
                "insert into course values('224', 'International Finance', 'Athletics', 3);\n",
                "insert into course values('791', 'Operating Systems', 'Marketing', 3);\n",
                "insert into course values('875', 'Bioinformatics', 'Cybernetics', 3);\n",
                "insert into course values('958', 'Fiction Writing', 'Mech. Eng.', 3);\n",
                "insert into course values('415', 'Numerical Methods', 'Biology', 3);\n",
                "insert into course values('442', 'Strength of Materials', 'Athletics', 3);\n",
                "insert into course values('468', 'Fractal Geometry', 'Civil Eng.', 4);\n",
                "insert into course values('270', 'Music of the 90s', 'Math', 4);\n",
                "insert into course values('966', 'Sanitary Engineering', 'History', 3);\n",
                "insert into course values('793', 'Decison Support Systems', 'Civil Eng.', 3);\n",
                "insert into course values('236', 'Design and Analysis of Algorithms', 'Mech. Eng.', 3);\n",
                "insert into course values('792', 'Image Processing', 'Accounting', 3);\n",
                "insert into course values('561', 'The Music of Donovan', 'Elec. Eng.', 4);\n",
                "insert into course values('344', 'Quantum Mechanics', 'Accounting', 4);\n",
                "insert into course values('780', 'Geology', 'Psychology', 3);\n",
                "insert into instructor values('63395', 'McKinnon', 'Cybernetics', 94333.99);\n",
                "insert into instructor values('78699', 'Pingr', 'Statistics', 59303.62);\n",
                "insert into instructor values('96895', 'Mird', 'Marketing', 119921.41);\n",
                "insert into instructor values('4233', 'Luo', 'English', 88791.45);\n",
                "insert into instructor values('4034', 'Murata', 'Athletics', 61387.56);\n",
                "insert into instructor values('50885', 'Konstantinides', 'Languages', 32570.50);\n",
                "insert into instructor values('79653', 'Levine', 'Elec. Eng.', 89805.83);\n",
                "insert into instructor values('50330', 'Shuming', 'Physics', 108011.81);\n",
                "insert into instructor values('80759', 'Queiroz', 'Biology', 45538.32);\n",
                "insert into instructor values('73623', 'Sullivan', 'Elec. Eng.', 90038.09);\n",
                "insert into instructor values('97302', 'Bertolino', 'Mech. Eng.', 51647.57);\n",
                "insert into instructor values('57180', 'Hau', 'Accounting', 43966.29);\n",
                "insert into instructor values('74420', 'Voronina', 'Physics', 121141.99);\n",
                "insert into instructor values('35579', 'Soisalon-Soininen', 'Psychology', 62579.61);\n",
                "insert into instructor values('31955', 'Moreira', 'Accounting', 71351.42);\n",
                "insert into instructor values('37687', 'Arias', 'Statistics', 104563.38);\n",
                "insert into instructor values('6569', 'Mingoz', 'Finance', 105311.38);\n",
                "insert into instructor values('16807', 'Yazdi', 'Athletics', 98333.65);\n",
                "insert into instructor values('14365', 'Lembr', 'Accounting', 32241.56);\n",
                "insert into instructor values('90643', 'Choll', 'Statistics', 57807.09);\n",
                "insert into instructor values('81991', 'Valtchev', 'Biology', 77036.18);\n",
                "insert into instructor values('95030', 'Arinb', 'Statistics', 54805.11);\n",
                "insert into instructor values('15347', 'Bawa', 'Athletics', 72140.88);\n",
                "insert into instructor values('74426', 'Kenje', 'Marketing', 106554.73);\n",
                "insert into instructor values('42782', 'Vicentino', 'Elec. Eng.', 34272.67);\n",
                "insert into instructor values('58558', 'Dusserre', 'Marketing', 66143.25);\n",
                "insert into instructor values('63287', 'Jaekel', 'Athletics', 103146.87);\n",
                "insert into instructor values('59795', 'Desyl', 'Languages', 48803.38);\n",
                "insert into instructor values('22591', 'DAgostino', 'Psychology', 59706.49);\n",
                "insert into instructor values('48570', 'Sarkar', 'Pol. Sci.', 87549.80);\n",
                "insert into instructor values('79081', 'Ullman ', 'Accounting', 47307.10);\n",
                "insert into instructor values('52647', 'Bancilhon', 'Pol. Sci.', 87958.01);\n",
                "insert into instructor values('25946', 'Liley', 'Languages', 90891.69);\n",
                "insert into instructor values('36897', 'Morris', 'Marketing', 43770.36);\n",
                "insert into instructor values('72553', 'Yin', 'English', 46397.59);\n",
                "insert into instructor values('3199', 'Gustafsson', 'Elec. Eng.', 82534.37);\n",
                "insert into instructor values('34175', 'Bondi', 'Comp. Sci.', 115469.11);\n",
                "insert into instructor values('48507', 'Lent', 'Mech. Eng.', 107978.47);\n",
                "insert into instructor values('65931', 'Pimenta', 'Cybernetics', 79866.95);\n",
                "insert into instructor values('3335', 'Bourrier', 'Comp. Sci.', 80797.83);\n",
                "insert into instructor values('64871', 'Gutierrez', 'Statistics', 45310.53);\n",
                "insert into instructor values('95709', 'Sakurai', 'English', 118143.98);\n",
                "insert into instructor values('43779', 'Romero', 'Astronomy', 79070.08);\n",
                "insert into instructor values('77346', 'Mahmoud', 'Geology', 99382.59);\n",
                "insert into instructor values('28097', 'Kean', 'English', 35023.18);\n",
                "insert into instructor values('90376', 'Bietzk', 'Cybernetics', 117836.50);\n",
                "insert into instructor values('28400', 'Atanassov', 'Statistics', 84982.92);\n",
                "insert into instructor values('41930', 'Tung', 'Athletics', 50482.03);\n",
                "insert into instructor values('19368', 'Wieland', 'Pol. Sci.', 124651.41);\n",
                "insert into instructor values('99052', 'Dale', 'Cybernetics', 93348.83);\n",
                "\n",
                "-- check\n",
                "SELECT TOP 10 * FROM course;\n",
                "GO\n",
                ""
            ],
            "metadata": {
                "azdata_cell_guid": "32f26441-1614-40b8-9f66-cfa1bf58d93c"
            },
            "outputs": [
                {
                    "output_type": "display_data",
                    "data": {
                        "text/html": "Commands completed successfully."
                    },
                    "metadata": {}
                },
                {
                    "output_type": "display_data",
                    "data": {
                        "text/html": "Commands completed successfully."
                    },
                    "metadata": {}
                },
                {
                    "output_type": "display_data",
                    "data": {
                        "text/html": "(6 rows affected)"
                    },
                    "metadata": {}
                },
                {
                    "output_type": "display_data",
                    "data": {
                        "text/html": "Commands completed successfully."
                    },
                    "metadata": {}
                },
                {
                    "output_type": "display_data",
                    "data": {
                        "text/html": "Commands completed successfully."
                    },
                    "metadata": {}
                },
                {
                    "output_type": "display_data",
                    "data": {
                        "text/html": "(1 row affected)"
                    },
                    "metadata": {}
                },
                {
                    "output_type": "display_data",
                    "data": {
                        "text/html": "(1 row affected)"
                    },
                    "metadata": {}
                },
                {
                    "output_type": "display_data",
                    "data": {
                        "text/html": "(1 row affected)"
                    },
                    "metadata": {}
                },
                {
                    "output_type": "display_data",
                    "data": {
                        "text/html": "(1 row affected)"
                    },
                    "metadata": {}
                },
                {
                    "output_type": "display_data",
                    "data": {
                        "text/html": "(1 row affected)"
                    },
                    "metadata": {}
                },
                {
                    "output_type": "display_data",
                    "data": {
                        "text/html": "(1 row affected)"
                    },
                    "metadata": {}
                },
                {
                    "output_type": "display_data",
                    "data": {
                        "text/html": "(1 row affected)"
                    },
                    "metadata": {}
                },
                {
                    "output_type": "display_data",
                    "data": {
                        "text/html": "(1 row affected)"
                    },
                    "metadata": {}
                },
                {
                    "output_type": "display_data",
                    "data": {
                        "text/html": "(1 row affected)"
                    },
                    "metadata": {}
                },
                {
                    "output_type": "display_data",
                    "data": {
                        "text/html": "(1 row affected)"
                    },
                    "metadata": {}
                },
                {
                    "output_type": "display_data",
                    "data": {
                        "text/html": "(1 row affected)"
                    },
                    "metadata": {}
                },
                {
                    "output_type": "display_data",
                    "data": {
                        "text/html": "(1 row affected)"
                    },
                    "metadata": {}
                },
                {
                    "output_type": "display_data",
                    "data": {
                        "text/html": "(1 row affected)"
                    },
                    "metadata": {}
                },
                {
                    "output_type": "display_data",
                    "data": {
                        "text/html": "(1 row affected)"
                    },
                    "metadata": {}
                },
                {
                    "output_type": "display_data",
                    "data": {
                        "text/html": "(1 row affected)"
                    },
                    "metadata": {}
                },
                {
                    "output_type": "display_data",
                    "data": {
                        "text/html": "(1 row affected)"
                    },
                    "metadata": {}
                },
                {
                    "output_type": "display_data",
                    "data": {
                        "text/html": "(1 row affected)"
                    },
                    "metadata": {}
                },
                {
                    "output_type": "display_data",
                    "data": {
                        "text/html": "(1 row affected)"
                    },
                    "metadata": {}
                },
                {
                    "output_type": "display_data",
                    "data": {
                        "text/html": "(1 row affected)"
                    },
                    "metadata": {}
                },
                {
                    "output_type": "display_data",
                    "data": {
                        "text/html": "(1 row affected)"
                    },
                    "metadata": {}
                },
                {
                    "output_type": "display_data",
                    "data": {
                        "text/html": "(1 row affected)"
                    },
                    "metadata": {}
                },
                {
                    "output_type": "display_data",
                    "data": {
                        "text/html": "(1 row affected)"
                    },
                    "metadata": {}
                },
                {
                    "output_type": "display_data",
                    "data": {
                        "text/html": "(1 row affected)"
                    },
                    "metadata": {}
                },
                {
                    "output_type": "display_data",
                    "data": {
                        "text/html": "(1 row affected)"
                    },
                    "metadata": {}
                },
                {
                    "output_type": "display_data",
                    "data": {
                        "text/html": "(1 row affected)"
                    },
                    "metadata": {}
                },
                {
                    "output_type": "display_data",
                    "data": {
                        "text/html": "(1 row affected)"
                    },
                    "metadata": {}
                },
                {
                    "output_type": "display_data",
                    "data": {
                        "text/html": "(1 row affected)"
                    },
                    "metadata": {}
                },
                {
                    "output_type": "display_data",
                    "data": {
                        "text/html": "(1 row affected)"
                    },
                    "metadata": {}
                },
                {
                    "output_type": "display_data",
                    "data": {
                        "text/html": "(1 row affected)"
                    },
                    "metadata": {}
                },
                {
                    "output_type": "display_data",
                    "data": {
                        "text/html": "(1 row affected)"
                    },
                    "metadata": {}
                },
                {
                    "output_type": "display_data",
                    "data": {
                        "text/html": "(1 row affected)"
                    },
                    "metadata": {}
                },
                {
                    "output_type": "display_data",
                    "data": {
                        "text/html": "(1 row affected)"
                    },
                    "metadata": {}
                },
                {
                    "output_type": "display_data",
                    "data": {
                        "text/html": "(1 row affected)"
                    },
                    "metadata": {}
                },
                {
                    "output_type": "display_data",
                    "data": {
                        "text/html": "(1 row affected)"
                    },
                    "metadata": {}
                },
                {
                    "output_type": "display_data",
                    "data": {
                        "text/html": "(1 row affected)"
                    },
                    "metadata": {}
                },
                {
                    "output_type": "display_data",
                    "data": {
                        "text/html": "(1 row affected)"
                    },
                    "metadata": {}
                },
                {
                    "output_type": "display_data",
                    "data": {
                        "text/html": "(1 row affected)"
                    },
                    "metadata": {}
                },
                {
                    "output_type": "display_data",
                    "data": {
                        "text/html": "(1 row affected)"
                    },
                    "metadata": {}
                },
                {
                    "output_type": "display_data",
                    "data": {
                        "text/html": "(1 row affected)"
                    },
                    "metadata": {}
                },
                {
                    "output_type": "display_data",
                    "data": {
                        "text/html": "(1 row affected)"
                    },
                    "metadata": {}
                },
                {
                    "output_type": "display_data",
                    "data": {
                        "text/html": "(1 row affected)"
                    },
                    "metadata": {}
                },
                {
                    "output_type": "display_data",
                    "data": {
                        "text/html": "(1 row affected)"
                    },
                    "metadata": {}
                },
                {
                    "output_type": "display_data",
                    "data": {
                        "text/html": "(1 row affected)"
                    },
                    "metadata": {}
                },
                {
                    "output_type": "display_data",
                    "data": {
                        "text/html": "(1 row affected)"
                    },
                    "metadata": {}
                },
                {
                    "output_type": "display_data",
                    "data": {
                        "text/html": "(1 row affected)"
                    },
                    "metadata": {}
                },
                {
                    "output_type": "display_data",
                    "data": {
                        "text/html": "(1 row affected)"
                    },
                    "metadata": {}
                },
                {
                    "output_type": "display_data",
                    "data": {
                        "text/html": "(1 row affected)"
                    },
                    "metadata": {}
                },
                {
                    "output_type": "display_data",
                    "data": {
                        "text/html": "(1 row affected)"
                    },
                    "metadata": {}
                },
                {
                    "output_type": "display_data",
                    "data": {
                        "text/html": "(1 row affected)"
                    },
                    "metadata": {}
                },
                {
                    "output_type": "display_data",
                    "data": {
                        "text/html": "(1 row affected)"
                    },
                    "metadata": {}
                },
                {
                    "output_type": "display_data",
                    "data": {
                        "text/html": "(1 row affected)"
                    },
                    "metadata": {}
                },
                {
                    "output_type": "display_data",
                    "data": {
                        "text/html": "(1 row affected)"
                    },
                    "metadata": {}
                },
                {
                    "output_type": "display_data",
                    "data": {
                        "text/html": "(1 row affected)"
                    },
                    "metadata": {}
                },
                {
                    "output_type": "display_data",
                    "data": {
                        "text/html": "(1 row affected)"
                    },
                    "metadata": {}
                },
                {
                    "output_type": "display_data",
                    "data": {
                        "text/html": "(1 row affected)"
                    },
                    "metadata": {}
                },
                {
                    "output_type": "display_data",
                    "data": {
                        "text/html": "(1 row affected)"
                    },
                    "metadata": {}
                },
                {
                    "output_type": "display_data",
                    "data": {
                        "text/html": "(1 row affected)"
                    },
                    "metadata": {}
                },
                {
                    "output_type": "display_data",
                    "data": {
                        "text/html": "(1 row affected)"
                    },
                    "metadata": {}
                },
                {
                    "output_type": "display_data",
                    "data": {
                        "text/html": "(1 row affected)"
                    },
                    "metadata": {}
                },
                {
                    "output_type": "display_data",
                    "data": {
                        "text/html": "(1 row affected)"
                    },
                    "metadata": {}
                },
                {
                    "output_type": "display_data",
                    "data": {
                        "text/html": "(1 row affected)"
                    },
                    "metadata": {}
                },
                {
                    "output_type": "display_data",
                    "data": {
                        "text/html": "(1 row affected)"
                    },
                    "metadata": {}
                },
                {
                    "output_type": "display_data",
                    "data": {
                        "text/html": "(1 row affected)"
                    },
                    "metadata": {}
                },
                {
                    "output_type": "display_data",
                    "data": {
                        "text/html": "(1 row affected)"
                    },
                    "metadata": {}
                },
                {
                    "output_type": "display_data",
                    "data": {
                        "text/html": "(1 row affected)"
                    },
                    "metadata": {}
                },
                {
                    "output_type": "display_data",
                    "data": {
                        "text/html": "(1 row affected)"
                    },
                    "metadata": {}
                },
                {
                    "output_type": "display_data",
                    "data": {
                        "text/html": "(1 row affected)"
                    },
                    "metadata": {}
                },
                {
                    "output_type": "display_data",
                    "data": {
                        "text/html": "(1 row affected)"
                    },
                    "metadata": {}
                },
                {
                    "output_type": "display_data",
                    "data": {
                        "text/html": "(1 row affected)"
                    },
                    "metadata": {}
                },
                {
                    "output_type": "display_data",
                    "data": {
                        "text/html": "(1 row affected)"
                    },
                    "metadata": {}
                },
                {
                    "output_type": "display_data",
                    "data": {
                        "text/html": "(1 row affected)"
                    },
                    "metadata": {}
                },
                {
                    "output_type": "display_data",
                    "data": {
                        "text/html": "(1 row affected)"
                    },
                    "metadata": {}
                },
                {
                    "output_type": "display_data",
                    "data": {
                        "text/html": "(1 row affected)"
                    },
                    "metadata": {}
                },
                {
                    "output_type": "display_data",
                    "data": {
                        "text/html": "(1 row affected)"
                    },
                    "metadata": {}
                },
                {
                    "output_type": "display_data",
                    "data": {
                        "text/html": "(1 row affected)"
                    },
                    "metadata": {}
                },
                {
                    "output_type": "display_data",
                    "data": {
                        "text/html": "(1 row affected)"
                    },
                    "metadata": {}
                },
                {
                    "output_type": "display_data",
                    "data": {
                        "text/html": "(1 row affected)"
                    },
                    "metadata": {}
                },
                {
                    "output_type": "display_data",
                    "data": {
                        "text/html": "(1 row affected)"
                    },
                    "metadata": {}
                },
                {
                    "output_type": "display_data",
                    "data": {
                        "text/html": "(1 row affected)"
                    },
                    "metadata": {}
                },
                {
                    "output_type": "display_data",
                    "data": {
                        "text/html": "(1 row affected)"
                    },
                    "metadata": {}
                },
                {
                    "output_type": "display_data",
                    "data": {
                        "text/html": "(1 row affected)"
                    },
                    "metadata": {}
                },
                {
                    "output_type": "display_data",
                    "data": {
                        "text/html": "(1 row affected)"
                    },
                    "metadata": {}
                },
                {
                    "output_type": "display_data",
                    "data": {
                        "text/html": "(1 row affected)"
                    },
                    "metadata": {}
                },
                {
                    "output_type": "display_data",
                    "data": {
                        "text/html": "(1 row affected)"
                    },
                    "metadata": {}
                },
                {
                    "output_type": "display_data",
                    "data": {
                        "text/html": "(1 row affected)"
                    },
                    "metadata": {}
                },
                {
                    "output_type": "display_data",
                    "data": {
                        "text/html": "(1 row affected)"
                    },
                    "metadata": {}
                },
                {
                    "output_type": "display_data",
                    "data": {
                        "text/html": "(1 row affected)"
                    },
                    "metadata": {}
                },
                {
                    "output_type": "display_data",
                    "data": {
                        "text/html": "(1 row affected)"
                    },
                    "metadata": {}
                },
                {
                    "output_type": "display_data",
                    "data": {
                        "text/html": "(1 row affected)"
                    },
                    "metadata": {}
                },
                {
                    "output_type": "display_data",
                    "data": {
                        "text/html": "(1 row affected)"
                    },
                    "metadata": {}
                },
                {
                    "output_type": "display_data",
                    "data": {
                        "text/html": "(1 row affected)"
                    },
                    "metadata": {}
                },
                {
                    "output_type": "display_data",
                    "data": {
                        "text/html": "(1 row affected)"
                    },
                    "metadata": {}
                },
                {
                    "output_type": "display_data",
                    "data": {
                        "text/html": "(1 row affected)"
                    },
                    "metadata": {}
                },
                {
                    "output_type": "display_data",
                    "data": {
                        "text/html": "(1 row affected)"
                    },
                    "metadata": {}
                },
                {
                    "output_type": "display_data",
                    "data": {
                        "text/html": "(1 row affected)"
                    },
                    "metadata": {}
                },
                {
                    "output_type": "display_data",
                    "data": {
                        "text/html": "(1 row affected)"
                    },
                    "metadata": {}
                },
                {
                    "output_type": "display_data",
                    "data": {
                        "text/html": "(1 row affected)"
                    },
                    "metadata": {}
                },
                {
                    "output_type": "display_data",
                    "data": {
                        "text/html": "(1 row affected)"
                    },
                    "metadata": {}
                },
                {
                    "output_type": "display_data",
                    "data": {
                        "text/html": "(1 row affected)"
                    },
                    "metadata": {}
                },
                {
                    "output_type": "display_data",
                    "data": {
                        "text/html": "(1 row affected)"
                    },
                    "metadata": {}
                },
                {
                    "output_type": "display_data",
                    "data": {
                        "text/html": "(1 row affected)"
                    },
                    "metadata": {}
                },
                {
                    "output_type": "display_data",
                    "data": {
                        "text/html": "(1 row affected)"
                    },
                    "metadata": {}
                },
                {
                    "output_type": "display_data",
                    "data": {
                        "text/html": "(1 row affected)"
                    },
                    "metadata": {}
                },
                {
                    "output_type": "display_data",
                    "data": {
                        "text/html": "(1 row affected)"
                    },
                    "metadata": {}
                },
                {
                    "output_type": "display_data",
                    "data": {
                        "text/html": "(1 row affected)"
                    },
                    "metadata": {}
                },
                {
                    "output_type": "display_data",
                    "data": {
                        "text/html": "(1 row affected)"
                    },
                    "metadata": {}
                },
                {
                    "output_type": "display_data",
                    "data": {
                        "text/html": "(1 row affected)"
                    },
                    "metadata": {}
                },
                {
                    "output_type": "display_data",
                    "data": {
                        "text/html": "(1 row affected)"
                    },
                    "metadata": {}
                },
                {
                    "output_type": "display_data",
                    "data": {
                        "text/html": "(1 row affected)"
                    },
                    "metadata": {}
                },
                {
                    "output_type": "display_data",
                    "data": {
                        "text/html": "(1 row affected)"
                    },
                    "metadata": {}
                },
                {
                    "output_type": "display_data",
                    "data": {
                        "text/html": "(1 row affected)"
                    },
                    "metadata": {}
                },
                {
                    "output_type": "display_data",
                    "data": {
                        "text/html": "(1 row affected)"
                    },
                    "metadata": {}
                },
                {
                    "output_type": "display_data",
                    "data": {
                        "text/html": "(1 row affected)"
                    },
                    "metadata": {}
                },
                {
                    "output_type": "display_data",
                    "data": {
                        "text/html": "(1 row affected)"
                    },
                    "metadata": {}
                },
                {
                    "output_type": "display_data",
                    "data": {
                        "text/html": "(1 row affected)"
                    },
                    "metadata": {}
                },
                {
                    "output_type": "display_data",
                    "data": {
                        "text/html": "(1 row affected)"
                    },
                    "metadata": {}
                },
                {
                    "output_type": "display_data",
                    "data": {
                        "text/html": "(1 row affected)"
                    },
                    "metadata": {}
                },
                {
                    "output_type": "display_data",
                    "data": {
                        "text/html": "(1 row affected)"
                    },
                    "metadata": {}
                },
                {
                    "output_type": "display_data",
                    "data": {
                        "text/html": "(1 row affected)"
                    },
                    "metadata": {}
                },
                {
                    "output_type": "display_data",
                    "data": {
                        "text/html": "(1 row affected)"
                    },
                    "metadata": {}
                },
                {
                    "output_type": "display_data",
                    "data": {
                        "text/html": "(1 row affected)"
                    },
                    "metadata": {}
                },
                {
                    "output_type": "display_data",
                    "data": {
                        "text/html": "(1 row affected)"
                    },
                    "metadata": {}
                },
                {
                    "output_type": "display_data",
                    "data": {
                        "text/html": "(1 row affected)"
                    },
                    "metadata": {}
                },
                {
                    "output_type": "display_data",
                    "data": {
                        "text/html": "(1 row affected)"
                    },
                    "metadata": {}
                },
                {
                    "output_type": "display_data",
                    "data": {
                        "text/html": "(1 row affected)"
                    },
                    "metadata": {}
                },
                {
                    "output_type": "display_data",
                    "data": {
                        "text/html": "(1 row affected)"
                    },
                    "metadata": {}
                },
                {
                    "output_type": "display_data",
                    "data": {
                        "text/html": "(1 row affected)"
                    },
                    "metadata": {}
                },
                {
                    "output_type": "display_data",
                    "data": {
                        "text/html": "(1 row affected)"
                    },
                    "metadata": {}
                },
                {
                    "output_type": "display_data",
                    "data": {
                        "text/html": "(1 row affected)"
                    },
                    "metadata": {}
                },
                {
                    "output_type": "display_data",
                    "data": {
                        "text/html": "(1 row affected)"
                    },
                    "metadata": {}
                },
                {
                    "output_type": "display_data",
                    "data": {
                        "text/html": "(1 row affected)"
                    },
                    "metadata": {}
                },
                {
                    "output_type": "display_data",
                    "data": {
                        "text/html": "(1 row affected)"
                    },
                    "metadata": {}
                },
                {
                    "output_type": "display_data",
                    "data": {
                        "text/html": "(1 row affected)"
                    },
                    "metadata": {}
                },
                {
                    "output_type": "display_data",
                    "data": {
                        "text/html": "(1 row affected)"
                    },
                    "metadata": {}
                },
                {
                    "output_type": "display_data",
                    "data": {
                        "text/html": "(1 row affected)"
                    },
                    "metadata": {}
                },
                {
                    "output_type": "display_data",
                    "data": {
                        "text/html": "(1 row affected)"
                    },
                    "metadata": {}
                },
                {
                    "output_type": "display_data",
                    "data": {
                        "text/html": "(1 row affected)"
                    },
                    "metadata": {}
                },
                {
                    "output_type": "display_data",
                    "data": {
                        "text/html": "(1 row affected)"
                    },
                    "metadata": {}
                },
                {
                    "output_type": "display_data",
                    "data": {
                        "text/html": "(1 row affected)"
                    },
                    "metadata": {}
                },
                {
                    "output_type": "display_data",
                    "data": {
                        "text/html": "(1 row affected)"
                    },
                    "metadata": {}
                },
                {
                    "output_type": "display_data",
                    "data": {
                        "text/html": "(1 row affected)"
                    },
                    "metadata": {}
                },
                {
                    "output_type": "display_data",
                    "data": {
                        "text/html": "(1 row affected)"
                    },
                    "metadata": {}
                },
                {
                    "output_type": "display_data",
                    "data": {
                        "text/html": "(1 row affected)"
                    },
                    "metadata": {}
                },
                {
                    "output_type": "display_data",
                    "data": {
                        "text/html": "(1 row affected)"
                    },
                    "metadata": {}
                },
                {
                    "output_type": "display_data",
                    "data": {
                        "text/html": "(1 row affected)"
                    },
                    "metadata": {}
                },
                {
                    "output_type": "display_data",
                    "data": {
                        "text/html": "(1 row affected)"
                    },
                    "metadata": {}
                },
                {
                    "output_type": "display_data",
                    "data": {
                        "text/html": "(1 row affected)"
                    },
                    "metadata": {}
                },
                {
                    "output_type": "display_data",
                    "data": {
                        "text/html": "(1 row affected)"
                    },
                    "metadata": {}
                },
                {
                    "output_type": "display_data",
                    "data": {
                        "text/html": "(1 row affected)"
                    },
                    "metadata": {}
                },
                {
                    "output_type": "display_data",
                    "data": {
                        "text/html": "(1 row affected)"
                    },
                    "metadata": {}
                },
                {
                    "output_type": "display_data",
                    "data": {
                        "text/html": "(1 row affected)"
                    },
                    "metadata": {}
                },
                {
                    "output_type": "display_data",
                    "data": {
                        "text/html": "(1 row affected)"
                    },
                    "metadata": {}
                },
                {
                    "output_type": "display_data",
                    "data": {
                        "text/html": "(1 row affected)"
                    },
                    "metadata": {}
                },
                {
                    "output_type": "display_data",
                    "data": {
                        "text/html": "(1 row affected)"
                    },
                    "metadata": {}
                },
                {
                    "output_type": "display_data",
                    "data": {
                        "text/html": "(1 row affected)"
                    },
                    "metadata": {}
                },
                {
                    "output_type": "display_data",
                    "data": {
                        "text/html": "(1 row affected)"
                    },
                    "metadata": {}
                },
                {
                    "output_type": "display_data",
                    "data": {
                        "text/html": "(1 row affected)"
                    },
                    "metadata": {}
                },
                {
                    "output_type": "display_data",
                    "data": {
                        "text/html": "(1 row affected)"
                    },
                    "metadata": {}
                },
                {
                    "output_type": "display_data",
                    "data": {
                        "text/html": "(1 row affected)"
                    },
                    "metadata": {}
                },
                {
                    "output_type": "display_data",
                    "data": {
                        "text/html": "(1 row affected)"
                    },
                    "metadata": {}
                },
                {
                    "output_type": "display_data",
                    "data": {
                        "text/html": "(1 row affected)"
                    },
                    "metadata": {}
                },
                {
                    "output_type": "display_data",
                    "data": {
                        "text/html": "(1 row affected)"
                    },
                    "metadata": {}
                },
                {
                    "output_type": "display_data",
                    "data": {
                        "text/html": "(1 row affected)"
                    },
                    "metadata": {}
                },
                {
                    "output_type": "display_data",
                    "data": {
                        "text/html": "(1 row affected)"
                    },
                    "metadata": {}
                },
                {
                    "output_type": "display_data",
                    "data": {
                        "text/html": "(1 row affected)"
                    },
                    "metadata": {}
                },
                {
                    "output_type": "display_data",
                    "data": {
                        "text/html": "(1 row affected)"
                    },
                    "metadata": {}
                },
                {
                    "output_type": "display_data",
                    "data": {
                        "text/html": "(1 row affected)"
                    },
                    "metadata": {}
                },
                {
                    "output_type": "display_data",
                    "data": {
                        "text/html": "(1 row affected)"
                    },
                    "metadata": {}
                },
                {
                    "output_type": "display_data",
                    "data": {
                        "text/html": "(1 row affected)"
                    },
                    "metadata": {}
                },
                {
                    "output_type": "display_data",
                    "data": {
                        "text/html": "(1 row affected)"
                    },
                    "metadata": {}
                },
                {
                    "output_type": "display_data",
                    "data": {
                        "text/html": "(1 row affected)"
                    },
                    "metadata": {}
                },
                {
                    "output_type": "display_data",
                    "data": {
                        "text/html": "(1 row affected)"
                    },
                    "metadata": {}
                },
                {
                    "output_type": "display_data",
                    "data": {
                        "text/html": "(1 row affected)"
                    },
                    "metadata": {}
                },
                {
                    "output_type": "display_data",
                    "data": {
                        "text/html": "(1 row affected)"
                    },
                    "metadata": {}
                },
                {
                    "output_type": "display_data",
                    "data": {
                        "text/html": "(1 row affected)"
                    },
                    "metadata": {}
                },
                {
                    "output_type": "display_data",
                    "data": {
                        "text/html": "(1 row affected)"
                    },
                    "metadata": {}
                },
                {
                    "output_type": "display_data",
                    "data": {
                        "text/html": "(1 row affected)"
                    },
                    "metadata": {}
                },
                {
                    "output_type": "display_data",
                    "data": {
                        "text/html": "(1 row affected)"
                    },
                    "metadata": {}
                },
                {
                    "output_type": "display_data",
                    "data": {
                        "text/html": "(1 row affected)"
                    },
                    "metadata": {}
                },
                {
                    "output_type": "display_data",
                    "data": {
                        "text/html": "(1 row affected)"
                    },
                    "metadata": {}
                },
                {
                    "output_type": "display_data",
                    "data": {
                        "text/html": "(1 row affected)"
                    },
                    "metadata": {}
                },
                {
                    "output_type": "display_data",
                    "data": {
                        "text/html": "(1 row affected)"
                    },
                    "metadata": {}
                },
                {
                    "output_type": "display_data",
                    "data": {
                        "text/html": "(1 row affected)"
                    },
                    "metadata": {}
                },
                {
                    "output_type": "display_data",
                    "data": {
                        "text/html": "(1 row affected)"
                    },
                    "metadata": {}
                },
                {
                    "output_type": "display_data",
                    "data": {
                        "text/html": "(1 row affected)"
                    },
                    "metadata": {}
                },
                {
                    "output_type": "display_data",
                    "data": {
                        "text/html": "(1 row affected)"
                    },
                    "metadata": {}
                },
                {
                    "output_type": "display_data",
                    "data": {
                        "text/html": "(1 row affected)"
                    },
                    "metadata": {}
                },
                {
                    "output_type": "display_data",
                    "data": {
                        "text/html": "(1 row affected)"
                    },
                    "metadata": {}
                },
                {
                    "output_type": "display_data",
                    "data": {
                        "text/html": "(1 row affected)"
                    },
                    "metadata": {}
                },
                {
                    "output_type": "display_data",
                    "data": {
                        "text/html": "(1 row affected)"
                    },
                    "metadata": {}
                },
                {
                    "output_type": "display_data",
                    "data": {
                        "text/html": "(1 row affected)"
                    },
                    "metadata": {}
                },
                {
                    "output_type": "display_data",
                    "data": {
                        "text/html": "(1 row affected)"
                    },
                    "metadata": {}
                },
                {
                    "output_type": "display_data",
                    "data": {
                        "text/html": "(1 row affected)"
                    },
                    "metadata": {}
                },
                {
                    "output_type": "display_data",
                    "data": {
                        "text/html": "(1 row affected)"
                    },
                    "metadata": {}
                },
                {
                    "output_type": "display_data",
                    "data": {
                        "text/html": "(1 row affected)"
                    },
                    "metadata": {}
                },
                {
                    "output_type": "display_data",
                    "data": {
                        "text/html": "(1 row affected)"
                    },
                    "metadata": {}
                },
                {
                    "output_type": "display_data",
                    "data": {
                        "text/html": "(1 row affected)"
                    },
                    "metadata": {}
                },
                {
                    "output_type": "display_data",
                    "data": {
                        "text/html": "(1 row affected)"
                    },
                    "metadata": {}
                },
                {
                    "output_type": "display_data",
                    "data": {
                        "text/html": "(1 row affected)"
                    },
                    "metadata": {}
                },
                {
                    "output_type": "display_data",
                    "data": {
                        "text/html": "(1 row affected)"
                    },
                    "metadata": {}
                },
                {
                    "output_type": "display_data",
                    "data": {
                        "text/html": "(1 row affected)"
                    },
                    "metadata": {}
                },
                {
                    "output_type": "display_data",
                    "data": {
                        "text/html": "(1 row affected)"
                    },
                    "metadata": {}
                },
                {
                    "output_type": "display_data",
                    "data": {
                        "text/html": "(1 row affected)"
                    },
                    "metadata": {}
                },
                {
                    "output_type": "display_data",
                    "data": {
                        "text/html": "(1 row affected)"
                    },
                    "metadata": {}
                },
                {
                    "output_type": "display_data",
                    "data": {
                        "text/html": "(1 row affected)"
                    },
                    "metadata": {}
                },
                {
                    "output_type": "display_data",
                    "data": {
                        "text/html": "(1 row affected)"
                    },
                    "metadata": {}
                },
                {
                    "output_type": "display_data",
                    "data": {
                        "text/html": "(1 row affected)"
                    },
                    "metadata": {}
                },
                {
                    "output_type": "display_data",
                    "data": {
                        "text/html": "(1 row affected)"
                    },
                    "metadata": {}
                },
                {
                    "output_type": "display_data",
                    "data": {
                        "text/html": "(1 row affected)"
                    },
                    "metadata": {}
                },
                {
                    "output_type": "display_data",
                    "data": {
                        "text/html": "(1 row affected)"
                    },
                    "metadata": {}
                },
                {
                    "output_type": "display_data",
                    "data": {
                        "text/html": "(1 row affected)"
                    },
                    "metadata": {}
                },
                {
                    "output_type": "display_data",
                    "data": {
                        "text/html": "(1 row affected)"
                    },
                    "metadata": {}
                },
                {
                    "output_type": "display_data",
                    "data": {
                        "text/html": "(1 row affected)"
                    },
                    "metadata": {}
                },
                {
                    "output_type": "display_data",
                    "data": {
                        "text/html": "(1 row affected)"
                    },
                    "metadata": {}
                },
                {
                    "output_type": "display_data",
                    "data": {
                        "text/html": "(1 row affected)"
                    },
                    "metadata": {}
                },
                {
                    "output_type": "display_data",
                    "data": {
                        "text/html": "(1 row affected)"
                    },
                    "metadata": {}
                },
                {
                    "output_type": "display_data",
                    "data": {
                        "text/html": "(1 row affected)"
                    },
                    "metadata": {}
                },
                {
                    "output_type": "display_data",
                    "data": {
                        "text/html": "(1 row affected)"
                    },
                    "metadata": {}
                },
                {
                    "output_type": "display_data",
                    "data": {
                        "text/html": "(1 row affected)"
                    },
                    "metadata": {}
                },
                {
                    "output_type": "display_data",
                    "data": {
                        "text/html": "(1 row affected)"
                    },
                    "metadata": {}
                },
                {
                    "output_type": "display_data",
                    "data": {
                        "text/html": "(1 row affected)"
                    },
                    "metadata": {}
                },
                {
                    "output_type": "display_data",
                    "data": {
                        "text/html": "(1 row affected)"
                    },
                    "metadata": {}
                },
                {
                    "output_type": "display_data",
                    "data": {
                        "text/html": "(1 row affected)"
                    },
                    "metadata": {}
                },
                {
                    "output_type": "display_data",
                    "data": {
                        "text/html": "(1 row affected)"
                    },
                    "metadata": {}
                },
                {
                    "output_type": "display_data",
                    "data": {
                        "text/html": "(1 row affected)"
                    },
                    "metadata": {}
                },
                {
                    "output_type": "display_data",
                    "data": {
                        "text/html": "(1 row affected)"
                    },
                    "metadata": {}
                },
                {
                    "output_type": "display_data",
                    "data": {
                        "text/html": "(1 row affected)"
                    },
                    "metadata": {}
                },
                {
                    "output_type": "display_data",
                    "data": {
                        "text/html": "(1 row affected)"
                    },
                    "metadata": {}
                },
                {
                    "output_type": "display_data",
                    "data": {
                        "text/html": "(1 row affected)"
                    },
                    "metadata": {}
                },
                {
                    "output_type": "display_data",
                    "data": {
                        "text/html": "(1 row affected)"
                    },
                    "metadata": {}
                },
                {
                    "output_type": "display_data",
                    "data": {
                        "text/html": "(1 row affected)"
                    },
                    "metadata": {}
                },
                {
                    "output_type": "display_data",
                    "data": {
                        "text/html": "(1 row affected)"
                    },
                    "metadata": {}
                },
                {
                    "output_type": "display_data",
                    "data": {
                        "text/html": "(1 row affected)"
                    },
                    "metadata": {}
                },
                {
                    "output_type": "display_data",
                    "data": {
                        "text/html": "(1 row affected)"
                    },
                    "metadata": {}
                },
                {
                    "output_type": "display_data",
                    "data": {
                        "text/html": "(1 row affected)"
                    },
                    "metadata": {}
                },
                {
                    "output_type": "display_data",
                    "data": {
                        "text/html": "(1 row affected)"
                    },
                    "metadata": {}
                },
                {
                    "output_type": "display_data",
                    "data": {
                        "text/html": "(1 row affected)"
                    },
                    "metadata": {}
                },
                {
                    "output_type": "display_data",
                    "data": {
                        "text/html": "(1 row affected)"
                    },
                    "metadata": {}
                },
                {
                    "output_type": "display_data",
                    "data": {
                        "text/html": "(1 row affected)"
                    },
                    "metadata": {}
                },
                {
                    "output_type": "display_data",
                    "data": {
                        "text/html": "(1 row affected)"
                    },
                    "metadata": {}
                },
                {
                    "output_type": "display_data",
                    "data": {
                        "text/html": "(1 row affected)"
                    },
                    "metadata": {}
                },
                {
                    "output_type": "display_data",
                    "data": {
                        "text/html": "(1 row affected)"
                    },
                    "metadata": {}
                },
                {
                    "output_type": "display_data",
                    "data": {
                        "text/html": "(1 row affected)"
                    },
                    "metadata": {}
                },
                {
                    "output_type": "display_data",
                    "data": {
                        "text/html": "(1 row affected)"
                    },
                    "metadata": {}
                },
                {
                    "output_type": "display_data",
                    "data": {
                        "text/html": "(1 row affected)"
                    },
                    "metadata": {}
                },
                {
                    "output_type": "display_data",
                    "data": {
                        "text/html": "(1 row affected)"
                    },
                    "metadata": {}
                },
                {
                    "output_type": "display_data",
                    "data": {
                        "text/html": "(1 row affected)"
                    },
                    "metadata": {}
                },
                {
                    "output_type": "display_data",
                    "data": {
                        "text/html": "(1 row affected)"
                    },
                    "metadata": {}
                },
                {
                    "output_type": "display_data",
                    "data": {
                        "text/html": "(1 row affected)"
                    },
                    "metadata": {}
                },
                {
                    "output_type": "display_data",
                    "data": {
                        "text/html": "(1 row affected)"
                    },
                    "metadata": {}
                },
                {
                    "output_type": "display_data",
                    "data": {
                        "text/html": "(1 row affected)"
                    },
                    "metadata": {}
                },
                {
                    "output_type": "display_data",
                    "data": {
                        "text/html": "(1 row affected)"
                    },
                    "metadata": {}
                },
                {
                    "output_type": "display_data",
                    "data": {
                        "text/html": "(1 row affected)"
                    },
                    "metadata": {}
                },
                {
                    "output_type": "display_data",
                    "data": {
                        "text/html": "(1 row affected)"
                    },
                    "metadata": {}
                },
                {
                    "output_type": "display_data",
                    "data": {
                        "text/html": "(1 row affected)"
                    },
                    "metadata": {}
                },
                {
                    "output_type": "display_data",
                    "data": {
                        "text/html": "(1 row affected)"
                    },
                    "metadata": {}
                },
                {
                    "output_type": "display_data",
                    "data": {
                        "text/html": "(1 row affected)"
                    },
                    "metadata": {}
                },
                {
                    "output_type": "display_data",
                    "data": {
                        "text/html": "(1 row affected)"
                    },
                    "metadata": {}
                },
                {
                    "output_type": "display_data",
                    "data": {
                        "text/html": "(1 row affected)"
                    },
                    "metadata": {}
                },
                {
                    "output_type": "display_data",
                    "data": {
                        "text/html": "(1 row affected)"
                    },
                    "metadata": {}
                },
                {
                    "output_type": "display_data",
                    "data": {
                        "text/html": "(1 row affected)"
                    },
                    "metadata": {}
                },
                {
                    "output_type": "display_data",
                    "data": {
                        "text/html": "(1 row affected)"
                    },
                    "metadata": {}
                },
                {
                    "output_type": "display_data",
                    "data": {
                        "text/html": "(1 row affected)"
                    },
                    "metadata": {}
                },
                {
                    "output_type": "display_data",
                    "data": {
                        "text/html": "(1 row affected)"
                    },
                    "metadata": {}
                },
                {
                    "output_type": "display_data",
                    "data": {
                        "text/html": "(1 row affected)"
                    },
                    "metadata": {}
                },
                {
                    "output_type": "display_data",
                    "data": {
                        "text/html": "(1 row affected)"
                    },
                    "metadata": {}
                },
                {
                    "output_type": "display_data",
                    "data": {
                        "text/html": "(1 row affected)"
                    },
                    "metadata": {}
                },
                {
                    "output_type": "display_data",
                    "data": {
                        "text/html": "(1 row affected)"
                    },
                    "metadata": {}
                },
                {
                    "output_type": "display_data",
                    "data": {
                        "text/html": "(1 row affected)"
                    },
                    "metadata": {}
                },
                {
                    "output_type": "display_data",
                    "data": {
                        "text/html": "(1 row affected)"
                    },
                    "metadata": {}
                },
                {
                    "output_type": "display_data",
                    "data": {
                        "text/html": "(1 row affected)"
                    },
                    "metadata": {}
                },
                {
                    "output_type": "display_data",
                    "data": {
                        "text/html": "(1 row affected)"
                    },
                    "metadata": {}
                },
                {
                    "output_type": "display_data",
                    "data": {
                        "text/html": "(1 row affected)"
                    },
                    "metadata": {}
                },
                {
                    "output_type": "display_data",
                    "data": {
                        "text/html": "(1 row affected)"
                    },
                    "metadata": {}
                },
                {
                    "output_type": "display_data",
                    "data": {
                        "text/html": "(1 row affected)"
                    },
                    "metadata": {}
                },
                {
                    "output_type": "display_data",
                    "data": {
                        "text/html": "(1 row affected)"
                    },
                    "metadata": {}
                },
                {
                    "output_type": "display_data",
                    "data": {
                        "text/html": "(1 row affected)"
                    },
                    "metadata": {}
                },
                {
                    "output_type": "display_data",
                    "data": {
                        "text/html": "(1 row affected)"
                    },
                    "metadata": {}
                },
                {
                    "output_type": "display_data",
                    "data": {
                        "text/html": "(1 row affected)"
                    },
                    "metadata": {}
                },
                {
                    "output_type": "display_data",
                    "data": {
                        "text/html": "(1 row affected)"
                    },
                    "metadata": {}
                },
                {
                    "output_type": "display_data",
                    "data": {
                        "text/html": "(1 row affected)"
                    },
                    "metadata": {}
                },
                {
                    "output_type": "display_data",
                    "data": {
                        "text/html": "(1 row affected)"
                    },
                    "metadata": {}
                },
                {
                    "output_type": "display_data",
                    "data": {
                        "text/html": "(1 row affected)"
                    },
                    "metadata": {}
                },
                {
                    "output_type": "display_data",
                    "data": {
                        "text/html": "(1 row affected)"
                    },
                    "metadata": {}
                },
                {
                    "output_type": "display_data",
                    "data": {
                        "text/html": "(1 row affected)"
                    },
                    "metadata": {}
                },
                {
                    "output_type": "display_data",
                    "data": {
                        "text/html": "(1 row affected)"
                    },
                    "metadata": {}
                },
                {
                    "output_type": "display_data",
                    "data": {
                        "text/html": "(1 row affected)"
                    },
                    "metadata": {}
                },
                {
                    "output_type": "display_data",
                    "data": {
                        "text/html": "(1 row affected)"
                    },
                    "metadata": {}
                },
                {
                    "output_type": "display_data",
                    "data": {
                        "text/html": "(1 row affected)"
                    },
                    "metadata": {}
                },
                {
                    "output_type": "display_data",
                    "data": {
                        "text/html": "(1 row affected)"
                    },
                    "metadata": {}
                },
                {
                    "output_type": "display_data",
                    "data": {
                        "text/html": "(1 row affected)"
                    },
                    "metadata": {}
                },
                {
                    "output_type": "display_data",
                    "data": {
                        "text/html": "(1 row affected)"
                    },
                    "metadata": {}
                },
                {
                    "output_type": "display_data",
                    "data": {
                        "text/html": "(1 row affected)"
                    },
                    "metadata": {}
                },
                {
                    "output_type": "display_data",
                    "data": {
                        "text/html": "(1 row affected)"
                    },
                    "metadata": {}
                },
                {
                    "output_type": "display_data",
                    "data": {
                        "text/html": "(1 row affected)"
                    },
                    "metadata": {}
                },
                {
                    "output_type": "display_data",
                    "data": {
                        "text/html": "(1 row affected)"
                    },
                    "metadata": {}
                },
                {
                    "output_type": "display_data",
                    "data": {
                        "text/html": "(1 row affected)"
                    },
                    "metadata": {}
                },
                {
                    "output_type": "display_data",
                    "data": {
                        "text/html": "(1 row affected)"
                    },
                    "metadata": {}
                },
                {
                    "output_type": "display_data",
                    "data": {
                        "text/html": "(1 row affected)"
                    },
                    "metadata": {}
                },
                {
                    "output_type": "display_data",
                    "data": {
                        "text/html": "(1 row affected)"
                    },
                    "metadata": {}
                },
                {
                    "output_type": "display_data",
                    "data": {
                        "text/html": "(1 row affected)"
                    },
                    "metadata": {}
                },
                {
                    "output_type": "display_data",
                    "data": {
                        "text/html": "(1 row affected)"
                    },
                    "metadata": {}
                },
                {
                    "output_type": "display_data",
                    "data": {
                        "text/html": "(1 row affected)"
                    },
                    "metadata": {}
                },
                {
                    "output_type": "display_data",
                    "data": {
                        "text/html": "(1 row affected)"
                    },
                    "metadata": {}
                },
                {
                    "output_type": "display_data",
                    "data": {
                        "text/html": "(1 row affected)"
                    },
                    "metadata": {}
                },
                {
                    "output_type": "display_data",
                    "data": {
                        "text/html": "(1 row affected)"
                    },
                    "metadata": {}
                },
                {
                    "output_type": "display_data",
                    "data": {
                        "text/html": "(1 row affected)"
                    },
                    "metadata": {}
                },
                {
                    "output_type": "display_data",
                    "data": {
                        "text/html": "(1 row affected)"
                    },
                    "metadata": {}
                },
                {
                    "output_type": "display_data",
                    "data": {
                        "text/html": "(1 row affected)"
                    },
                    "metadata": {}
                },
                {
                    "output_type": "display_data",
                    "data": {
                        "text/html": "(1 row affected)"
                    },
                    "metadata": {}
                },
                {
                    "output_type": "display_data",
                    "data": {
                        "text/html": "(1 row affected)"
                    },
                    "metadata": {}
                },
                {
                    "output_type": "display_data",
                    "data": {
                        "text/html": "(1 row affected)"
                    },
                    "metadata": {}
                },
                {
                    "output_type": "display_data",
                    "data": {
                        "text/html": "(1 row affected)"
                    },
                    "metadata": {}
                },
                {
                    "output_type": "display_data",
                    "data": {
                        "text/html": "(1 row affected)"
                    },
                    "metadata": {}
                },
                {
                    "output_type": "display_data",
                    "data": {
                        "text/html": "(1 row affected)"
                    },
                    "metadata": {}
                },
                {
                    "output_type": "display_data",
                    "data": {
                        "text/html": "(1 row affected)"
                    },
                    "metadata": {}
                },
                {
                    "output_type": "display_data",
                    "data": {
                        "text/html": "(1 row affected)"
                    },
                    "metadata": {}
                },
                {
                    "output_type": "display_data",
                    "data": {
                        "text/html": "(1 row affected)"
                    },
                    "metadata": {}
                },
                {
                    "output_type": "display_data",
                    "data": {
                        "text/html": "(1 row affected)"
                    },
                    "metadata": {}
                },
                {
                    "output_type": "display_data",
                    "data": {
                        "text/html": "(1 row affected)"
                    },
                    "metadata": {}
                },
                {
                    "output_type": "display_data",
                    "data": {
                        "text/html": "(10 rows affected)"
                    },
                    "metadata": {}
                },
                {
                    "output_type": "display_data",
                    "data": {
                        "text/html": "Total execution time: 00:00:01.295"
                    },
                    "metadata": {}
                },
                {
                    "output_type": "execute_result",
                    "execution_count": 31,
                    "data": {
                        "application/vnd.dataresource+json": {
                            "schema": {
                                "fields": [
                                    {
                                        "name": "name"
                                    }
                                ]
                            },
                            "data": [
                                {
                                    "0": "master"
                                },
                                {
                                    "0": "tempdb"
                                },
                                {
                                    "0": "model"
                                },
                                {
                                    "0": "msdb"
                                },
                                {
                                    "0": "udemy"
                                },
                                {
                                    "0": "dbm_project"
                                }
                            ]
                        },
                        "text/html": "<table><tr><th>name</th></tr><tr><td>master</td></tr><tr><td>tempdb</td></tr><tr><td>model</td></tr><tr><td>msdb</td></tr><tr><td>udemy</td></tr><tr><td>dbm_project</td></tr></table>"
                    },
                    "metadata": {
                        "resultSet": {
                            "id": 0,
                            "batchId": 2,
                            "rowCount": 6,
                            "complete": true,
                            "columnInfo": [
                                {
                                    "isBytes": false,
                                    "isChars": true,
                                    "isSqlVariant": false,
                                    "isUdt": false,
                                    "isXml": false,
                                    "isJson": false,
                                    "sqlDbType": 12,
                                    "isHierarchyId": false,
                                    "isSqlXmlType": false,
                                    "isUnknownType": false,
                                    "isUpdatable": false,
                                    "allowDBNull": true,
                                    "baseCatalogName": null,
                                    "baseColumnName": null,
                                    "baseSchemaName": null,
                                    "baseServerName": null,
                                    "baseTableName": null,
                                    "columnName": "name",
                                    "columnOrdinal": 0,
                                    "columnSize": 128,
                                    "isAliased": null,
                                    "isAutoIncrement": false,
                                    "isExpression": null,
                                    "isHidden": null,
                                    "isIdentity": false,
                                    "isKey": null,
                                    "isLong": false,
                                    "isReadOnly": true,
                                    "isUnique": false,
                                    "numericPrecision": 255,
                                    "numericScale": 255,
                                    "udtAssemblyQualifiedName": null,
                                    "dataType": "System.String, System.Private.CoreLib, Version=4.0.0.0, Culture=neutral, PublicKeyToken=7cec85d7bea7798e",
                                    "dataTypeName": "nvarchar"
                                }
                            ],
                            "specialAction": {
                                "none": true,
                                "expectYukonXMLShowPlan": false
                            }
                        }
                    }
                },
                {
                    "output_type": "execute_result",
                    "execution_count": 31,
                    "data": {
                        "application/vnd.dataresource+json": {
                            "schema": {
                                "fields": [
                                    {
                                        "name": "course_id"
                                    },
                                    {
                                        "name": "title"
                                    },
                                    {
                                        "name": "dept_name"
                                    },
                                    {
                                        "name": "credits"
                                    }
                                ]
                            },
                            "data": [
                                {
                                    "0": "101",
                                    "1": "Diffusion and Phase Transformation",
                                    "2": "Mech. Eng.",
                                    "3": "3"
                                },
                                {
                                    "0": "105",
                                    "1": "Image Processing",
                                    "2": "Astronomy",
                                    "3": "3"
                                },
                                {
                                    "0": "123",
                                    "1": "Differential Equations",
                                    "2": "Mech. Eng.",
                                    "3": "3"
                                },
                                {
                                    "0": "127",
                                    "1": "Thermodynamics",
                                    "2": "Geology",
                                    "3": "3"
                                },
                                {
                                    "0": "130",
                                    "1": "Differential Geometry",
                                    "2": "Physics",
                                    "3": "3"
                                },
                                {
                                    "0": "133",
                                    "1": "Antidisestablishmentarianism in Modern America",
                                    "2": "Biology",
                                    "3": "4"
                                },
                                {
                                    "0": "137",
                                    "1": "Manufacturing",
                                    "2": "Finance",
                                    "3": "3"
                                },
                                {
                                    "0": "139",
                                    "1": "Number Theory",
                                    "2": "English",
                                    "3": "4"
                                },
                                {
                                    "0": "158",
                                    "1": "Elastic Structures",
                                    "2": "Cybernetics",
                                    "3": "3"
                                },
                                {
                                    "0": "169",
                                    "1": "Marine Mammals",
                                    "2": "Elec. Eng.",
                                    "3": "3"
                                }
                            ]
                        },
                        "text/html": "<table><tr><th>course_id</th><th>title</th><th>dept_name</th><th>credits</th></tr><tr><td>101</td><td>Diffusion and Phase Transformation</td><td>Mech. Eng.</td><td>3</td></tr><tr><td>105</td><td>Image Processing</td><td>Astronomy</td><td>3</td></tr><tr><td>123</td><td>Differential Equations</td><td>Mech. Eng.</td><td>3</td></tr><tr><td>127</td><td>Thermodynamics</td><td>Geology</td><td>3</td></tr><tr><td>130</td><td>Differential Geometry</td><td>Physics</td><td>3</td></tr><tr><td>133</td><td>Antidisestablishmentarianism in Modern America</td><td>Biology</td><td>4</td></tr><tr><td>137</td><td>Manufacturing</td><td>Finance</td><td>3</td></tr><tr><td>139</td><td>Number Theory</td><td>English</td><td>4</td></tr><tr><td>158</td><td>Elastic Structures</td><td>Cybernetics</td><td>3</td></tr><tr><td>169</td><td>Marine Mammals</td><td>Elec. Eng.</td><td>3</td></tr></table>"
                    },
                    "metadata": {
                        "resultSet": {
                            "id": 0,
                            "batchId": 5,
                            "rowCount": 10,
                            "complete": true,
                            "columnInfo": [
                                {
                                    "isBytes": false,
                                    "isChars": true,
                                    "isSqlVariant": false,
                                    "isUdt": false,
                                    "isXml": false,
                                    "isJson": false,
                                    "sqlDbType": 22,
                                    "isHierarchyId": false,
                                    "isSqlXmlType": false,
                                    "isUnknownType": false,
                                    "isUpdatable": true,
                                    "allowDBNull": false,
                                    "baseCatalogName": null,
                                    "baseColumnName": null,
                                    "baseSchemaName": null,
                                    "baseServerName": null,
                                    "baseTableName": null,
                                    "columnName": "course_id",
                                    "columnOrdinal": 0,
                                    "columnSize": 8,
                                    "isAliased": null,
                                    "isAutoIncrement": false,
                                    "isExpression": null,
                                    "isHidden": null,
                                    "isIdentity": false,
                                    "isKey": null,
                                    "isLong": false,
                                    "isReadOnly": false,
                                    "isUnique": false,
                                    "numericPrecision": 255,
                                    "numericScale": 255,
                                    "udtAssemblyQualifiedName": null,
                                    "dataType": "System.String, System.Private.CoreLib, Version=4.0.0.0, Culture=neutral, PublicKeyToken=7cec85d7bea7798e",
                                    "dataTypeName": "varchar"
                                },
                                {
                                    "isBytes": false,
                                    "isChars": true,
                                    "isSqlVariant": false,
                                    "isUdt": false,
                                    "isXml": false,
                                    "isJson": false,
                                    "sqlDbType": 22,
                                    "isHierarchyId": false,
                                    "isSqlXmlType": false,
                                    "isUnknownType": false,
                                    "isUpdatable": true,
                                    "allowDBNull": true,
                                    "baseCatalogName": null,
                                    "baseColumnName": null,
                                    "baseSchemaName": null,
                                    "baseServerName": null,
                                    "baseTableName": null,
                                    "columnName": "title",
                                    "columnOrdinal": 1,
                                    "columnSize": 50,
                                    "isAliased": null,
                                    "isAutoIncrement": false,
                                    "isExpression": null,
                                    "isHidden": null,
                                    "isIdentity": false,
                                    "isKey": null,
                                    "isLong": false,
                                    "isReadOnly": false,
                                    "isUnique": false,
                                    "numericPrecision": 255,
                                    "numericScale": 255,
                                    "udtAssemblyQualifiedName": null,
                                    "dataType": "System.String, System.Private.CoreLib, Version=4.0.0.0, Culture=neutral, PublicKeyToken=7cec85d7bea7798e",
                                    "dataTypeName": "varchar"
                                },
                                {
                                    "isBytes": false,
                                    "isChars": true,
                                    "isSqlVariant": false,
                                    "isUdt": false,
                                    "isXml": false,
                                    "isJson": false,
                                    "sqlDbType": 22,
                                    "isHierarchyId": false,
                                    "isSqlXmlType": false,
                                    "isUnknownType": false,
                                    "isUpdatable": true,
                                    "allowDBNull": true,
                                    "baseCatalogName": null,
                                    "baseColumnName": null,
                                    "baseSchemaName": null,
                                    "baseServerName": null,
                                    "baseTableName": null,
                                    "columnName": "dept_name",
                                    "columnOrdinal": 2,
                                    "columnSize": 20,
                                    "isAliased": null,
                                    "isAutoIncrement": false,
                                    "isExpression": null,
                                    "isHidden": null,
                                    "isIdentity": false,
                                    "isKey": null,
                                    "isLong": false,
                                    "isReadOnly": false,
                                    "isUnique": false,
                                    "numericPrecision": 255,
                                    "numericScale": 255,
                                    "udtAssemblyQualifiedName": null,
                                    "dataType": "System.String, System.Private.CoreLib, Version=4.0.0.0, Culture=neutral, PublicKeyToken=7cec85d7bea7798e",
                                    "dataTypeName": "varchar"
                                },
                                {
                                    "isBytes": false,
                                    "isChars": false,
                                    "isSqlVariant": false,
                                    "isUdt": false,
                                    "isXml": false,
                                    "isJson": false,
                                    "sqlDbType": 5,
                                    "isHierarchyId": false,
                                    "isSqlXmlType": false,
                                    "isUnknownType": false,
                                    "isUpdatable": true,
                                    "allowDBNull": true,
                                    "baseCatalogName": null,
                                    "baseColumnName": null,
                                    "baseSchemaName": null,
                                    "baseServerName": null,
                                    "baseTableName": null,
                                    "columnName": "credits",
                                    "columnOrdinal": 3,
                                    "columnSize": 17,
                                    "isAliased": null,
                                    "isAutoIncrement": false,
                                    "isExpression": null,
                                    "isHidden": null,
                                    "isIdentity": false,
                                    "isKey": null,
                                    "isLong": false,
                                    "isReadOnly": false,
                                    "isUnique": false,
                                    "numericPrecision": 2,
                                    "numericScale": 0,
                                    "udtAssemblyQualifiedName": null,
                                    "dataType": "System.Decimal, System.Private.CoreLib, Version=4.0.0.0, Culture=neutral, PublicKeyToken=7cec85d7bea7798e",
                                    "dataTypeName": "decimal"
                                }
                            ],
                            "specialAction": {
                                "none": true,
                                "expectYukonXMLShowPlan": false
                            }
                        }
                    }
                }
            ],
            "execution_count": 31
        },
        {
            "cell_type": "markdown",
            "source": [
                "We can aggregate observations by group using the ``GROUP BY`` clause. As an ilustration, we can find the number of courses offered by each department."
            ],
            "metadata": {
                "azdata_cell_guid": "43ced61b-4b81-49de-a203-d70e5aa14ecd"
            }
        },
        {
            "cell_type": "code",
            "source": [
                "SELECT dept_name, COUNT(course_id) as [course number]\n",
                "FROM course\n",
                "GROUP BY dept_name;\n",
                "GO"
            ],
            "metadata": {
                "azdata_cell_guid": "67efdd10-eb27-4485-b11a-31af0f27524d"
            },
            "outputs": [
                {
                    "output_type": "display_data",
                    "data": {
                        "text/html": "(20 rows affected)"
                    },
                    "metadata": {}
                },
                {
                    "output_type": "display_data",
                    "data": {
                        "text/html": "Total execution time: 00:00:00.010"
                    },
                    "metadata": {}
                },
                {
                    "output_type": "execute_result",
                    "execution_count": 32,
                    "data": {
                        "application/vnd.dataresource+json": {
                            "schema": {
                                "fields": [
                                    {
                                        "name": "dept_name"
                                    },
                                    {
                                        "name": "course number"
                                    }
                                ]
                            },
                            "data": [
                                {
                                    "0": "Accounting",
                                    "1": "12"
                                },
                                {
                                    "0": "Astronomy",
                                    "1": "10"
                                },
                                {
                                    "0": "Athletics",
                                    "1": "9"
                                },
                                {
                                    "0": "Biology",
                                    "1": "7"
                                },
                                {
                                    "0": "Civil Eng.",
                                    "1": "10"
                                },
                                {
                                    "0": "Comp. Sci.",
                                    "1": "10"
                                },
                                {
                                    "0": "Cybernetics",
                                    "1": "20"
                                },
                                {
                                    "0": "Elec. Eng.",
                                    "1": "8"
                                },
                                {
                                    "0": "English",
                                    "1": "8"
                                },
                                {
                                    "0": "Finance",
                                    "1": "14"
                                },
                                {
                                    "0": "Geology",
                                    "1": "10"
                                },
                                {
                                    "0": "History",
                                    "1": "9"
                                },
                                {
                                    "0": "Languages",
                                    "1": "10"
                                },
                                {
                                    "0": "Marketing",
                                    "1": "6"
                                },
                                {
                                    "0": "Math",
                                    "1": "10"
                                },
                                {
                                    "0": "Mech. Eng.",
                                    "1": "12"
                                },
                                {
                                    "0": "Physics",
                                    "1": "10"
                                },
                                {
                                    "0": "Pol. Sci.",
                                    "1": "6"
                                },
                                {
                                    "0": "Psychology",
                                    "1": "13"
                                },
                                {
                                    "0": "Statistics",
                                    "1": "6"
                                }
                            ]
                        },
                        "text/html": "<table><tr><th>dept_name</th><th>course number</th></tr><tr><td>Accounting</td><td>12</td></tr><tr><td>Astronomy</td><td>10</td></tr><tr><td>Athletics</td><td>9</td></tr><tr><td>Biology</td><td>7</td></tr><tr><td>Civil Eng.</td><td>10</td></tr><tr><td>Comp. Sci.</td><td>10</td></tr><tr><td>Cybernetics</td><td>20</td></tr><tr><td>Elec. Eng.</td><td>8</td></tr><tr><td>English</td><td>8</td></tr><tr><td>Finance</td><td>14</td></tr><tr><td>Geology</td><td>10</td></tr><tr><td>History</td><td>9</td></tr><tr><td>Languages</td><td>10</td></tr><tr><td>Marketing</td><td>6</td></tr><tr><td>Math</td><td>10</td></tr><tr><td>Mech. Eng.</td><td>12</td></tr><tr><td>Physics</td><td>10</td></tr><tr><td>Pol. Sci.</td><td>6</td></tr><tr><td>Psychology</td><td>13</td></tr><tr><td>Statistics</td><td>6</td></tr></table>"
                    },
                    "metadata": {
                        "resultSet": {
                            "id": 0,
                            "batchId": 0,
                            "rowCount": 20,
                            "complete": true,
                            "columnInfo": [
                                {
                                    "isBytes": false,
                                    "isChars": true,
                                    "isSqlVariant": false,
                                    "isUdt": false,
                                    "isXml": false,
                                    "isJson": false,
                                    "sqlDbType": 22,
                                    "isHierarchyId": false,
                                    "isSqlXmlType": false,
                                    "isUnknownType": false,
                                    "isUpdatable": true,
                                    "allowDBNull": true,
                                    "baseCatalogName": null,
                                    "baseColumnName": null,
                                    "baseSchemaName": null,
                                    "baseServerName": null,
                                    "baseTableName": null,
                                    "columnName": "dept_name",
                                    "columnOrdinal": 0,
                                    "columnSize": 20,
                                    "isAliased": null,
                                    "isAutoIncrement": false,
                                    "isExpression": null,
                                    "isHidden": null,
                                    "isIdentity": false,
                                    "isKey": null,
                                    "isLong": false,
                                    "isReadOnly": false,
                                    "isUnique": false,
                                    "numericPrecision": 255,
                                    "numericScale": 255,
                                    "udtAssemblyQualifiedName": null,
                                    "dataType": "System.String, System.Private.CoreLib, Version=4.0.0.0, Culture=neutral, PublicKeyToken=7cec85d7bea7798e",
                                    "dataTypeName": "varchar"
                                },
                                {
                                    "isBytes": false,
                                    "isChars": false,
                                    "isSqlVariant": false,
                                    "isUdt": false,
                                    "isXml": false,
                                    "isJson": false,
                                    "sqlDbType": 8,
                                    "isHierarchyId": false,
                                    "isSqlXmlType": false,
                                    "isUnknownType": false,
                                    "isUpdatable": false,
                                    "allowDBNull": true,
                                    "baseCatalogName": null,
                                    "baseColumnName": null,
                                    "baseSchemaName": null,
                                    "baseServerName": null,
                                    "baseTableName": null,
                                    "columnName": "course number",
                                    "columnOrdinal": 1,
                                    "columnSize": 4,
                                    "isAliased": null,
                                    "isAutoIncrement": false,
                                    "isExpression": null,
                                    "isHidden": null,
                                    "isIdentity": false,
                                    "isKey": null,
                                    "isLong": false,
                                    "isReadOnly": true,
                                    "isUnique": false,
                                    "numericPrecision": 10,
                                    "numericScale": 255,
                                    "udtAssemblyQualifiedName": null,
                                    "dataType": "System.Int32, System.Private.CoreLib, Version=4.0.0.0, Culture=neutral, PublicKeyToken=7cec85d7bea7798e",
                                    "dataTypeName": "int"
                                }
                            ],
                            "specialAction": {
                                "none": true,
                                "expectYukonXMLShowPlan": false
                            }
                        }
                    }
                }
            ],
            "execution_count": 32
        },
        {
            "cell_type": "markdown",
            "source": [
                "Similarly, we can find the number of departments by building."
            ],
            "metadata": {
                "azdata_cell_guid": "3278baf2-14d7-4e0c-8fb7-7e720812f50d"
            }
        },
        {
            "cell_type": "code",
            "source": [
                "-- find the available table\n",
                "SELECT TABLE_NAME FROM INFORMATION_SCHEMA.TABLES ;\n",
                "GO\n",
                "\n",
                "-- make the query\n",
                "SELECT building, COUNT(dept_name) as [department count]\n",
                "FROM department\n",
                "GROUP BY building;\n",
                "GO"
            ],
            "metadata": {
                "azdata_cell_guid": "e953300b-59ba-4e84-bb7f-62bccde0e7ec"
            },
            "outputs": [
                {
                    "output_type": "display_data",
                    "data": {
                        "text/html": "(5 rows affected)"
                    },
                    "metadata": {}
                },
                {
                    "output_type": "display_data",
                    "data": {
                        "text/html": "(16 rows affected)"
                    },
                    "metadata": {}
                },
                {
                    "output_type": "display_data",
                    "data": {
                        "text/html": "Total execution time: 00:00:00.018"
                    },
                    "metadata": {}
                },
                {
                    "output_type": "execute_result",
                    "execution_count": 33,
                    "data": {
                        "application/vnd.dataresource+json": {
                            "schema": {
                                "fields": [
                                    {
                                        "name": "TABLE_NAME"
                                    }
                                ]
                            },
                            "data": [
                                {
                                    "0": "classroom"
                                },
                                {
                                    "0": "department"
                                },
                                {
                                    "0": "course"
                                },
                                {
                                    "0": "instructor"
                                },
                                {
                                    "0": "time_slot"
                                }
                            ]
                        },
                        "text/html": "<table><tr><th>TABLE_NAME</th></tr><tr><td>classroom</td></tr><tr><td>department</td></tr><tr><td>course</td></tr><tr><td>instructor</td></tr><tr><td>time_slot</td></tr></table>"
                    },
                    "metadata": {
                        "resultSet": {
                            "id": 0,
                            "batchId": 0,
                            "rowCount": 5,
                            "complete": true,
                            "columnInfo": [
                                {
                                    "isBytes": false,
                                    "isChars": true,
                                    "isSqlVariant": false,
                                    "isUdt": false,
                                    "isXml": false,
                                    "isJson": false,
                                    "sqlDbType": 12,
                                    "isHierarchyId": false,
                                    "isSqlXmlType": false,
                                    "isUnknownType": false,
                                    "isUpdatable": true,
                                    "allowDBNull": false,
                                    "baseCatalogName": null,
                                    "baseColumnName": null,
                                    "baseSchemaName": null,
                                    "baseServerName": null,
                                    "baseTableName": null,
                                    "columnName": "TABLE_NAME",
                                    "columnOrdinal": 0,
                                    "columnSize": 128,
                                    "isAliased": null,
                                    "isAutoIncrement": false,
                                    "isExpression": null,
                                    "isHidden": null,
                                    "isIdentity": false,
                                    "isKey": null,
                                    "isLong": false,
                                    "isReadOnly": false,
                                    "isUnique": false,
                                    "numericPrecision": 255,
                                    "numericScale": 255,
                                    "udtAssemblyQualifiedName": null,
                                    "dataType": "System.String, System.Private.CoreLib, Version=4.0.0.0, Culture=neutral, PublicKeyToken=7cec85d7bea7798e",
                                    "dataTypeName": "nvarchar"
                                }
                            ],
                            "specialAction": {
                                "none": true,
                                "expectYukonXMLShowPlan": false
                            }
                        }
                    }
                },
                {
                    "output_type": "execute_result",
                    "execution_count": 33,
                    "data": {
                        "application/vnd.dataresource+json": {
                            "schema": {
                                "fields": [
                                    {
                                        "name": "building"
                                    },
                                    {
                                        "name": "department count"
                                    }
                                ]
                            },
                            "data": [
                                {
                                    "0": "Brodhead",
                                    "1": "1"
                                },
                                {
                                    "0": "Bronfman",
                                    "1": "1"
                                },
                                {
                                    "0": "Candlestick",
                                    "1": "2"
                                },
                                {
                                    "0": "Chandler",
                                    "1": "1"
                                },
                                {
                                    "0": "Lambeau",
                                    "1": "1"
                                },
                                {
                                    "0": "Lamberton",
                                    "1": "1"
                                },
                                {
                                    "0": "Linderman",
                                    "1": "1"
                                },
                                {
                                    "0": "Main",
                                    "1": "1"
                                },
                                {
                                    "0": "Mercer",
                                    "1": "1"
                                },
                                {
                                    "0": "Palmer",
                                    "1": "2"
                                },
                                {
                                    "0": "Rauch",
                                    "1": "1"
                                },
                                {
                                    "0": "Saucon",
                                    "1": "1"
                                },
                                {
                                    "0": "Taylor",
                                    "1": "3"
                                },
                                {
                                    "0": "Thompson",
                                    "1": "1"
                                },
                                {
                                    "0": "Whitman",
                                    "1": "1"
                                },
                                {
                                    "0": "Wrigley",
                                    "1": "1"
                                }
                            ]
                        },
                        "text/html": "<table><tr><th>building</th><th>department count</th></tr><tr><td>Brodhead</td><td>1</td></tr><tr><td>Bronfman</td><td>1</td></tr><tr><td>Candlestick</td><td>2</td></tr><tr><td>Chandler</td><td>1</td></tr><tr><td>Lambeau</td><td>1</td></tr><tr><td>Lamberton</td><td>1</td></tr><tr><td>Linderman</td><td>1</td></tr><tr><td>Main</td><td>1</td></tr><tr><td>Mercer</td><td>1</td></tr><tr><td>Palmer</td><td>2</td></tr><tr><td>Rauch</td><td>1</td></tr><tr><td>Saucon</td><td>1</td></tr><tr><td>Taylor</td><td>3</td></tr><tr><td>Thompson</td><td>1</td></tr><tr><td>Whitman</td><td>1</td></tr><tr><td>Wrigley</td><td>1</td></tr></table>"
                    },
                    "metadata": {
                        "resultSet": {
                            "id": 0,
                            "batchId": 1,
                            "rowCount": 16,
                            "complete": true,
                            "columnInfo": [
                                {
                                    "isBytes": false,
                                    "isChars": true,
                                    "isSqlVariant": false,
                                    "isUdt": false,
                                    "isXml": false,
                                    "isJson": false,
                                    "sqlDbType": 22,
                                    "isHierarchyId": false,
                                    "isSqlXmlType": false,
                                    "isUnknownType": false,
                                    "isUpdatable": true,
                                    "allowDBNull": true,
                                    "baseCatalogName": null,
                                    "baseColumnName": null,
                                    "baseSchemaName": null,
                                    "baseServerName": null,
                                    "baseTableName": null,
                                    "columnName": "building",
                                    "columnOrdinal": 0,
                                    "columnSize": 15,
                                    "isAliased": null,
                                    "isAutoIncrement": false,
                                    "isExpression": null,
                                    "isHidden": null,
                                    "isIdentity": false,
                                    "isKey": null,
                                    "isLong": false,
                                    "isReadOnly": false,
                                    "isUnique": false,
                                    "numericPrecision": 255,
                                    "numericScale": 255,
                                    "udtAssemblyQualifiedName": null,
                                    "dataType": "System.String, System.Private.CoreLib, Version=4.0.0.0, Culture=neutral, PublicKeyToken=7cec85d7bea7798e",
                                    "dataTypeName": "varchar"
                                },
                                {
                                    "isBytes": false,
                                    "isChars": false,
                                    "isSqlVariant": false,
                                    "isUdt": false,
                                    "isXml": false,
                                    "isJson": false,
                                    "sqlDbType": 8,
                                    "isHierarchyId": false,
                                    "isSqlXmlType": false,
                                    "isUnknownType": false,
                                    "isUpdatable": false,
                                    "allowDBNull": true,
                                    "baseCatalogName": null,
                                    "baseColumnName": null,
                                    "baseSchemaName": null,
                                    "baseServerName": null,
                                    "baseTableName": null,
                                    "columnName": "department count",
                                    "columnOrdinal": 1,
                                    "columnSize": 4,
                                    "isAliased": null,
                                    "isAutoIncrement": false,
                                    "isExpression": null,
                                    "isHidden": null,
                                    "isIdentity": false,
                                    "isKey": null,
                                    "isLong": false,
                                    "isReadOnly": true,
                                    "isUnique": false,
                                    "numericPrecision": 10,
                                    "numericScale": 255,
                                    "udtAssemblyQualifiedName": null,
                                    "dataType": "System.Int32, System.Private.CoreLib, Version=4.0.0.0, Culture=neutral, PublicKeyToken=7cec85d7bea7798e",
                                    "dataTypeName": "int"
                                }
                            ],
                            "specialAction": {
                                "none": true,
                                "expectYukonXMLShowPlan": false
                            }
                        }
                    }
                }
            ],
            "execution_count": 33
        },
        {
            "cell_type": "markdown",
            "source": [
                "At times it is useful to state a condition that applies to groups rather than to tuples - that is, a <code>WHERE</code> for groups. For this, we can use the <code>HAVING</code> clause. For example, we may be interested in the average budget by building where the average budget must exceed 500,000."
            ],
            "metadata": {
                "azdata_cell_guid": "8dc0d616-59cc-4595-ab0e-444de9e541ca"
            }
        },
        {
            "cell_type": "code",
            "source": [
                "-- all\n",
                "SELECT building, AVG(budget) as [average budget]\n",
                "FROM department\n",
                "GROUP BY building;\n",
                "GO\n",
                "\n",
                "-- filtered\n",
                "SELECT building, AVG(budget) as [average budget]\n",
                "FROM department\n",
                "GROUP BY building\n",
                "HAVING AVG(budget) > 500000.00;\n",
                "GO"
            ],
            "metadata": {
                "azdata_cell_guid": "206ec1b0-64e4-4381-af23-466b1b505375"
            },
            "outputs": [
                {
                    "output_type": "display_data",
                    "data": {
                        "text/html": "(16 rows affected)"
                    },
                    "metadata": {}
                },
                {
                    "output_type": "display_data",
                    "data": {
                        "text/html": "(11 rows affected)"
                    },
                    "metadata": {}
                },
                {
                    "output_type": "display_data",
                    "data": {
                        "text/html": "Total execution time: 00:00:00.016"
                    },
                    "metadata": {}
                },
                {
                    "output_type": "execute_result",
                    "execution_count": 34,
                    "data": {
                        "application/vnd.dataresource+json": {
                            "schema": {
                                "fields": [
                                    {
                                        "name": "building"
                                    },
                                    {
                                        "name": "average budget"
                                    }
                                ]
                            },
                            "data": [
                                {
                                    "0": "Brodhead",
                                    "1": "777605.110000"
                                },
                                {
                                    "0": "Bronfman",
                                    "1": "734550.700000"
                                },
                                {
                                    "0": "Candlestick",
                                    "1": "757221.150000"
                                },
                                {
                                    "0": "Chandler",
                                    "1": "255041.460000"
                                },
                                {
                                    "0": "Lambeau",
                                    "1": "210627.580000"
                                },
                                {
                                    "0": "Lamberton",
                                    "1": "106378.690000"
                                },
                                {
                                    "0": "Linderman",
                                    "1": "601283.600000"
                                },
                                {
                                    "0": "Main",
                                    "1": "276527.610000"
                                },
                                {
                                    "0": "Mercer",
                                    "1": "794541.460000"
                                },
                                {
                                    "0": "Palmer",
                                    "1": "508800.295000"
                                },
                                {
                                    "0": "Rauch",
                                    "1": "520350.650000"
                                },
                                {
                                    "0": "Saucon",
                                    "1": "441840.920000"
                                },
                                {
                                    "0": "Taylor",
                                    "1": "570482.180000"
                                },
                                {
                                    "0": "Thompson",
                                    "1": "848175.040000"
                                },
                                {
                                    "0": "Whitman",
                                    "1": "573745.090000"
                                },
                                {
                                    "0": "Wrigley",
                                    "1": "942162.760000"
                                }
                            ]
                        },
                        "text/html": "<table><tr><th>building</th><th>average budget</th></tr><tr><td>Brodhead</td><td>777605.110000</td></tr><tr><td>Bronfman</td><td>734550.700000</td></tr><tr><td>Candlestick</td><td>757221.150000</td></tr><tr><td>Chandler</td><td>255041.460000</td></tr><tr><td>Lambeau</td><td>210627.580000</td></tr><tr><td>Lamberton</td><td>106378.690000</td></tr><tr><td>Linderman</td><td>601283.600000</td></tr><tr><td>Main</td><td>276527.610000</td></tr><tr><td>Mercer</td><td>794541.460000</td></tr><tr><td>Palmer</td><td>508800.295000</td></tr><tr><td>Rauch</td><td>520350.650000</td></tr><tr><td>Saucon</td><td>441840.920000</td></tr><tr><td>Taylor</td><td>570482.180000</td></tr><tr><td>Thompson</td><td>848175.040000</td></tr><tr><td>Whitman</td><td>573745.090000</td></tr><tr><td>Wrigley</td><td>942162.760000</td></tr></table>"
                    },
                    "metadata": {
                        "resultSet": {
                            "id": 0,
                            "batchId": 0,
                            "rowCount": 16,
                            "complete": true,
                            "columnInfo": [
                                {
                                    "isBytes": false,
                                    "isChars": true,
                                    "isSqlVariant": false,
                                    "isUdt": false,
                                    "isXml": false,
                                    "isJson": false,
                                    "sqlDbType": 22,
                                    "isHierarchyId": false,
                                    "isSqlXmlType": false,
                                    "isUnknownType": false,
                                    "isUpdatable": true,
                                    "allowDBNull": true,
                                    "baseCatalogName": null,
                                    "baseColumnName": null,
                                    "baseSchemaName": null,
                                    "baseServerName": null,
                                    "baseTableName": null,
                                    "columnName": "building",
                                    "columnOrdinal": 0,
                                    "columnSize": 15,
                                    "isAliased": null,
                                    "isAutoIncrement": false,
                                    "isExpression": null,
                                    "isHidden": null,
                                    "isIdentity": false,
                                    "isKey": null,
                                    "isLong": false,
                                    "isReadOnly": false,
                                    "isUnique": false,
                                    "numericPrecision": 255,
                                    "numericScale": 255,
                                    "udtAssemblyQualifiedName": null,
                                    "dataType": "System.String, System.Private.CoreLib, Version=4.0.0.0, Culture=neutral, PublicKeyToken=7cec85d7bea7798e",
                                    "dataTypeName": "varchar"
                                },
                                {
                                    "isBytes": false,
                                    "isChars": false,
                                    "isSqlVariant": false,
                                    "isUdt": false,
                                    "isXml": false,
                                    "isJson": false,
                                    "sqlDbType": 5,
                                    "isHierarchyId": false,
                                    "isSqlXmlType": false,
                                    "isUnknownType": false,
                                    "isUpdatable": false,
                                    "allowDBNull": true,
                                    "baseCatalogName": null,
                                    "baseColumnName": null,
                                    "baseSchemaName": null,
                                    "baseServerName": null,
                                    "baseTableName": null,
                                    "columnName": "average budget",
                                    "columnOrdinal": 1,
                                    "columnSize": 17,
                                    "isAliased": null,
                                    "isAutoIncrement": false,
                                    "isExpression": null,
                                    "isHidden": null,
                                    "isIdentity": false,
                                    "isKey": null,
                                    "isLong": false,
                                    "isReadOnly": true,
                                    "isUnique": false,
                                    "numericPrecision": 38,
                                    "numericScale": 6,
                                    "udtAssemblyQualifiedName": null,
                                    "dataType": "System.Decimal, System.Private.CoreLib, Version=4.0.0.0, Culture=neutral, PublicKeyToken=7cec85d7bea7798e",
                                    "dataTypeName": "decimal"
                                }
                            ],
                            "specialAction": {
                                "none": true,
                                "expectYukonXMLShowPlan": false
                            }
                        }
                    }
                },
                {
                    "output_type": "execute_result",
                    "execution_count": 34,
                    "data": {
                        "application/vnd.dataresource+json": {
                            "schema": {
                                "fields": [
                                    {
                                        "name": "building"
                                    },
                                    {
                                        "name": "average budget"
                                    }
                                ]
                            },
                            "data": [
                                {
                                    "0": "Brodhead",
                                    "1": "777605.110000"
                                },
                                {
                                    "0": "Bronfman",
                                    "1": "734550.700000"
                                },
                                {
                                    "0": "Candlestick",
                                    "1": "757221.150000"
                                },
                                {
                                    "0": "Linderman",
                                    "1": "601283.600000"
                                },
                                {
                                    "0": "Mercer",
                                    "1": "794541.460000"
                                },
                                {
                                    "0": "Palmer",
                                    "1": "508800.295000"
                                },
                                {
                                    "0": "Rauch",
                                    "1": "520350.650000"
                                },
                                {
                                    "0": "Taylor",
                                    "1": "570482.180000"
                                },
                                {
                                    "0": "Thompson",
                                    "1": "848175.040000"
                                },
                                {
                                    "0": "Whitman",
                                    "1": "573745.090000"
                                },
                                {
                                    "0": "Wrigley",
                                    "1": "942162.760000"
                                }
                            ]
                        },
                        "text/html": "<table><tr><th>building</th><th>average budget</th></tr><tr><td>Brodhead</td><td>777605.110000</td></tr><tr><td>Bronfman</td><td>734550.700000</td></tr><tr><td>Candlestick</td><td>757221.150000</td></tr><tr><td>Linderman</td><td>601283.600000</td></tr><tr><td>Mercer</td><td>794541.460000</td></tr><tr><td>Palmer</td><td>508800.295000</td></tr><tr><td>Rauch</td><td>520350.650000</td></tr><tr><td>Taylor</td><td>570482.180000</td></tr><tr><td>Thompson</td><td>848175.040000</td></tr><tr><td>Whitman</td><td>573745.090000</td></tr><tr><td>Wrigley</td><td>942162.760000</td></tr></table>"
                    },
                    "metadata": {
                        "resultSet": {
                            "id": 0,
                            "batchId": 1,
                            "rowCount": 11,
                            "complete": true,
                            "columnInfo": [
                                {
                                    "isBytes": false,
                                    "isChars": true,
                                    "isSqlVariant": false,
                                    "isUdt": false,
                                    "isXml": false,
                                    "isJson": false,
                                    "sqlDbType": 22,
                                    "isHierarchyId": false,
                                    "isSqlXmlType": false,
                                    "isUnknownType": false,
                                    "isUpdatable": true,
                                    "allowDBNull": true,
                                    "baseCatalogName": null,
                                    "baseColumnName": null,
                                    "baseSchemaName": null,
                                    "baseServerName": null,
                                    "baseTableName": null,
                                    "columnName": "building",
                                    "columnOrdinal": 0,
                                    "columnSize": 15,
                                    "isAliased": null,
                                    "isAutoIncrement": false,
                                    "isExpression": null,
                                    "isHidden": null,
                                    "isIdentity": false,
                                    "isKey": null,
                                    "isLong": false,
                                    "isReadOnly": false,
                                    "isUnique": false,
                                    "numericPrecision": 255,
                                    "numericScale": 255,
                                    "udtAssemblyQualifiedName": null,
                                    "dataType": "System.String, System.Private.CoreLib, Version=4.0.0.0, Culture=neutral, PublicKeyToken=7cec85d7bea7798e",
                                    "dataTypeName": "varchar"
                                },
                                {
                                    "isBytes": false,
                                    "isChars": false,
                                    "isSqlVariant": false,
                                    "isUdt": false,
                                    "isXml": false,
                                    "isJson": false,
                                    "sqlDbType": 5,
                                    "isHierarchyId": false,
                                    "isSqlXmlType": false,
                                    "isUnknownType": false,
                                    "isUpdatable": false,
                                    "allowDBNull": true,
                                    "baseCatalogName": null,
                                    "baseColumnName": null,
                                    "baseSchemaName": null,
                                    "baseServerName": null,
                                    "baseTableName": null,
                                    "columnName": "average budget",
                                    "columnOrdinal": 1,
                                    "columnSize": 17,
                                    "isAliased": null,
                                    "isAutoIncrement": false,
                                    "isExpression": null,
                                    "isHidden": null,
                                    "isIdentity": false,
                                    "isKey": null,
                                    "isLong": false,
                                    "isReadOnly": true,
                                    "isUnique": false,
                                    "numericPrecision": 38,
                                    "numericScale": 6,
                                    "udtAssemblyQualifiedName": null,
                                    "dataType": "System.Decimal, System.Private.CoreLib, Version=4.0.0.0, Culture=neutral, PublicKeyToken=7cec85d7bea7798e",
                                    "dataTypeName": "decimal"
                                }
                            ],
                            "specialAction": {
                                "none": true,
                                "expectYukonXMLShowPlan": false
                            }
                        }
                    }
                }
            ],
            "execution_count": 34
        },
        {
            "cell_type": "markdown",
            "source": [
                "### Nested subqueries\n",
                "\n",
                "SQL provides a mechanism for nesting subqueries. A subquery is a <strong>select-from-where expression that is nested within another query</strong>.\n",
                "\n",
                "#### Set membership\n",
                "\n",
                "Before we resorted to intersection to find overlapping set membership. We could also use a nested subquery. For example, the query below shows us all the departments in buildings with room capacity higher than 50."
            ],
            "metadata": {
                "azdata_cell_guid": "56b3d4db-d927-4fc0-a2a6-78c7c89a9490"
            }
        },
        {
            "cell_type": "code",
            "source": [
                "SELECT *\n",
                "FROM classroom\n",
                "ORDER BY capacity;\n",
                "GO\n",
                "\n",
                "-- subquery\n",
                "SELECT dept_name, building\n",
                "FROM department\n",
                "WHERE building IN (SELECT building\n",
                "                   FROM classroom\n",
                "                   WHERE capacity > 50);\n",
                "GO\n",
                "\n",
                ""
            ],
            "metadata": {
                "azdata_cell_guid": "227aa340-095c-44be-8bb8-e126e140353d"
            },
            "outputs": [
                {
                    "output_type": "display_data",
                    "data": {
                        "text/html": "(30 rows affected)"
                    },
                    "metadata": {}
                },
                {
                    "output_type": "display_data",
                    "data": {
                        "text/html": "(6 rows affected)"
                    },
                    "metadata": {}
                },
                {
                    "output_type": "display_data",
                    "data": {
                        "text/html": "Total execution time: 00:00:00.016"
                    },
                    "metadata": {}
                },
                {
                    "output_type": "execute_result",
                    "execution_count": 35,
                    "data": {
                        "application/vnd.dataresource+json": {
                            "schema": {
                                "fields": [
                                    {
                                        "name": "building"
                                    },
                                    {
                                        "name": "room_number"
                                    },
                                    {
                                        "name": "capacity"
                                    }
                                ]
                            },
                            "data": [
                                {
                                    "0": "Chandler",
                                    "1": "375",
                                    "2": "10"
                                },
                                {
                                    "0": "Gates",
                                    "1": "314",
                                    "2": "10"
                                },
                                {
                                    "0": "Lamberton",
                                    "1": "134",
                                    "2": "10"
                                },
                                {
                                    "0": "Lamberton",
                                    "1": "143",
                                    "2": "10"
                                },
                                {
                                    "0": "Power",
                                    "1": "972",
                                    "2": "10"
                                },
                                {
                                    "0": "Chandler",
                                    "1": "804",
                                    "2": "11"
                                },
                                {
                                    "0": "Bronfman",
                                    "1": "700",
                                    "2": "12"
                                },
                                {
                                    "0": "Power",
                                    "1": "717",
                                    "2": "12"
                                },
                                {
                                    "0": "Saucon",
                                    "1": "180",
                                    "2": "15"
                                },
                                {
                                    "0": "Drown",
                                    "1": "757",
                                    "2": "18"
                                },
                                {
                                    "0": "Main",
                                    "1": "425",
                                    "2": "22"
                                },
                                {
                                    "0": "Saucon",
                                    "1": "844",
                                    "2": "24"
                                },
                                {
                                    "0": "Alumni",
                                    "1": "547",
                                    "2": "26"
                                },
                                {
                                    "0": "Fairchild",
                                    "1": "145",
                                    "2": "27"
                                },
                                {
                                    "0": "Polya",
                                    "1": "808",
                                    "2": "28"
                                },
                                {
                                    "0": "Main",
                                    "1": "45",
                                    "2": "30"
                                },
                                {
                                    "0": "Whitman",
                                    "1": "434",
                                    "2": "32"
                                },
                                {
                                    "0": "Grace",
                                    "1": "40",
                                    "2": "34"
                                },
                                {
                                    "0": "Alumni",
                                    "1": "143",
                                    "2": "47"
                                },
                                {
                                    "0": "Lambeau",
                                    "1": "348",
                                    "2": "51"
                                },
                                {
                                    "0": "Garfield",
                                    "1": "119",
                                    "2": "59"
                                },
                                {
                                    "0": "Rathbone",
                                    "1": "261",
                                    "2": "60"
                                },
                                {
                                    "0": "Gates",
                                    "1": "707",
                                    "2": "65"
                                },
                                {
                                    "0": "Taylor",
                                    "1": "183",
                                    "2": "71"
                                },
                                {
                                    "0": "Nassau",
                                    "1": "45",
                                    "2": "92"
                                },
                                {
                                    "0": "Painter",
                                    "1": "86",
                                    "2": "97"
                                },
                                {
                                    "0": "Saucon",
                                    "1": "113",
                                    "2": "109"
                                },
                                {
                                    "0": "Stabler",
                                    "1": "105",
                                    "2": "113"
                                },
                                {
                                    "0": "Taylor",
                                    "1": "812",
                                    "2": "115"
                                },
                                {
                                    "0": "Whitman",
                                    "1": "134",
                                    "2": "120"
                                }
                            ]
                        },
                        "text/html": "<table><tr><th>building</th><th>room_number</th><th>capacity</th></tr><tr><td>Chandler</td><td>375</td><td>10</td></tr><tr><td>Gates</td><td>314</td><td>10</td></tr><tr><td>Lamberton</td><td>134</td><td>10</td></tr><tr><td>Lamberton</td><td>143</td><td>10</td></tr><tr><td>Power</td><td>972</td><td>10</td></tr><tr><td>Chandler</td><td>804</td><td>11</td></tr><tr><td>Bronfman</td><td>700</td><td>12</td></tr><tr><td>Power</td><td>717</td><td>12</td></tr><tr><td>Saucon</td><td>180</td><td>15</td></tr><tr><td>Drown</td><td>757</td><td>18</td></tr><tr><td>Main</td><td>425</td><td>22</td></tr><tr><td>Saucon</td><td>844</td><td>24</td></tr><tr><td>Alumni</td><td>547</td><td>26</td></tr><tr><td>Fairchild</td><td>145</td><td>27</td></tr><tr><td>Polya</td><td>808</td><td>28</td></tr><tr><td>Main</td><td>45</td><td>30</td></tr><tr><td>Whitman</td><td>434</td><td>32</td></tr><tr><td>Grace</td><td>40</td><td>34</td></tr><tr><td>Alumni</td><td>143</td><td>47</td></tr><tr><td>Lambeau</td><td>348</td><td>51</td></tr><tr><td>Garfield</td><td>119</td><td>59</td></tr><tr><td>Rathbone</td><td>261</td><td>60</td></tr><tr><td>Gates</td><td>707</td><td>65</td></tr><tr><td>Taylor</td><td>183</td><td>71</td></tr><tr><td>Nassau</td><td>45</td><td>92</td></tr><tr><td>Painter</td><td>86</td><td>97</td></tr><tr><td>Saucon</td><td>113</td><td>109</td></tr><tr><td>Stabler</td><td>105</td><td>113</td></tr><tr><td>Taylor</td><td>812</td><td>115</td></tr><tr><td>Whitman</td><td>134</td><td>120</td></tr></table>"
                    },
                    "metadata": {
                        "resultSet": {
                            "id": 0,
                            "batchId": 0,
                            "rowCount": 30,
                            "complete": true,
                            "columnInfo": [
                                {
                                    "isBytes": false,
                                    "isChars": true,
                                    "isSqlVariant": false,
                                    "isUdt": false,
                                    "isXml": false,
                                    "isJson": false,
                                    "sqlDbType": 22,
                                    "isHierarchyId": false,
                                    "isSqlXmlType": false,
                                    "isUnknownType": false,
                                    "isUpdatable": true,
                                    "allowDBNull": false,
                                    "baseCatalogName": null,
                                    "baseColumnName": null,
                                    "baseSchemaName": null,
                                    "baseServerName": null,
                                    "baseTableName": null,
                                    "columnName": "building",
                                    "columnOrdinal": 0,
                                    "columnSize": 15,
                                    "isAliased": null,
                                    "isAutoIncrement": false,
                                    "isExpression": null,
                                    "isHidden": null,
                                    "isIdentity": false,
                                    "isKey": null,
                                    "isLong": false,
                                    "isReadOnly": false,
                                    "isUnique": false,
                                    "numericPrecision": 255,
                                    "numericScale": 255,
                                    "udtAssemblyQualifiedName": null,
                                    "dataType": "System.String, System.Private.CoreLib, Version=4.0.0.0, Culture=neutral, PublicKeyToken=7cec85d7bea7798e",
                                    "dataTypeName": "varchar"
                                },
                                {
                                    "isBytes": false,
                                    "isChars": true,
                                    "isSqlVariant": false,
                                    "isUdt": false,
                                    "isXml": false,
                                    "isJson": false,
                                    "sqlDbType": 22,
                                    "isHierarchyId": false,
                                    "isSqlXmlType": false,
                                    "isUnknownType": false,
                                    "isUpdatable": true,
                                    "allowDBNull": false,
                                    "baseCatalogName": null,
                                    "baseColumnName": null,
                                    "baseSchemaName": null,
                                    "baseServerName": null,
                                    "baseTableName": null,
                                    "columnName": "room_number",
                                    "columnOrdinal": 1,
                                    "columnSize": 7,
                                    "isAliased": null,
                                    "isAutoIncrement": false,
                                    "isExpression": null,
                                    "isHidden": null,
                                    "isIdentity": false,
                                    "isKey": null,
                                    "isLong": false,
                                    "isReadOnly": false,
                                    "isUnique": false,
                                    "numericPrecision": 255,
                                    "numericScale": 255,
                                    "udtAssemblyQualifiedName": null,
                                    "dataType": "System.String, System.Private.CoreLib, Version=4.0.0.0, Culture=neutral, PublicKeyToken=7cec85d7bea7798e",
                                    "dataTypeName": "varchar"
                                },
                                {
                                    "isBytes": false,
                                    "isChars": false,
                                    "isSqlVariant": false,
                                    "isUdt": false,
                                    "isXml": false,
                                    "isJson": false,
                                    "sqlDbType": 5,
                                    "isHierarchyId": false,
                                    "isSqlXmlType": false,
                                    "isUnknownType": false,
                                    "isUpdatable": true,
                                    "allowDBNull": true,
                                    "baseCatalogName": null,
                                    "baseColumnName": null,
                                    "baseSchemaName": null,
                                    "baseServerName": null,
                                    "baseTableName": null,
                                    "columnName": "capacity",
                                    "columnOrdinal": 2,
                                    "columnSize": 17,
                                    "isAliased": null,
                                    "isAutoIncrement": false,
                                    "isExpression": null,
                                    "isHidden": null,
                                    "isIdentity": false,
                                    "isKey": null,
                                    "isLong": false,
                                    "isReadOnly": false,
                                    "isUnique": false,
                                    "numericPrecision": 4,
                                    "numericScale": 0,
                                    "udtAssemblyQualifiedName": null,
                                    "dataType": "System.Decimal, System.Private.CoreLib, Version=4.0.0.0, Culture=neutral, PublicKeyToken=7cec85d7bea7798e",
                                    "dataTypeName": "decimal"
                                }
                            ],
                            "specialAction": {
                                "none": true,
                                "expectYukonXMLShowPlan": false
                            }
                        }
                    }
                },
                {
                    "output_type": "execute_result",
                    "execution_count": 35,
                    "data": {
                        "application/vnd.dataresource+json": {
                            "schema": {
                                "fields": [
                                    {
                                        "name": "dept_name"
                                    },
                                    {
                                        "name": "building"
                                    }
                                ]
                            },
                            "data": [
                                {
                                    "0": "Accounting",
                                    "1": "Saucon"
                                },
                                {
                                    "0": "Astronomy",
                                    "1": "Taylor"
                                },
                                {
                                    "0": "History",
                                    "1": "Taylor"
                                },
                                {
                                    "0": "Marketing",
                                    "1": "Lambeau"
                                },
                                {
                                    "0": "Pol. Sci.",
                                    "1": "Whitman"
                                },
                                {
                                    "0": "Statistics",
                                    "1": "Taylor"
                                }
                            ]
                        },
                        "text/html": "<table><tr><th>dept_name</th><th>building</th></tr><tr><td>Accounting</td><td>Saucon</td></tr><tr><td>Astronomy</td><td>Taylor</td></tr><tr><td>History</td><td>Taylor</td></tr><tr><td>Marketing</td><td>Lambeau</td></tr><tr><td>Pol. Sci.</td><td>Whitman</td></tr><tr><td>Statistics</td><td>Taylor</td></tr></table>"
                    },
                    "metadata": {
                        "resultSet": {
                            "id": 0,
                            "batchId": 1,
                            "rowCount": 6,
                            "complete": true,
                            "columnInfo": [
                                {
                                    "isBytes": false,
                                    "isChars": true,
                                    "isSqlVariant": false,
                                    "isUdt": false,
                                    "isXml": false,
                                    "isJson": false,
                                    "sqlDbType": 22,
                                    "isHierarchyId": false,
                                    "isSqlXmlType": false,
                                    "isUnknownType": false,
                                    "isUpdatable": true,
                                    "allowDBNull": false,
                                    "baseCatalogName": null,
                                    "baseColumnName": null,
                                    "baseSchemaName": null,
                                    "baseServerName": null,
                                    "baseTableName": null,
                                    "columnName": "dept_name",
                                    "columnOrdinal": 0,
                                    "columnSize": 20,
                                    "isAliased": null,
                                    "isAutoIncrement": false,
                                    "isExpression": null,
                                    "isHidden": null,
                                    "isIdentity": false,
                                    "isKey": null,
                                    "isLong": false,
                                    "isReadOnly": false,
                                    "isUnique": false,
                                    "numericPrecision": 255,
                                    "numericScale": 255,
                                    "udtAssemblyQualifiedName": null,
                                    "dataType": "System.String, System.Private.CoreLib, Version=4.0.0.0, Culture=neutral, PublicKeyToken=7cec85d7bea7798e",
                                    "dataTypeName": "varchar"
                                },
                                {
                                    "isBytes": false,
                                    "isChars": true,
                                    "isSqlVariant": false,
                                    "isUdt": false,
                                    "isXml": false,
                                    "isJson": false,
                                    "sqlDbType": 22,
                                    "isHierarchyId": false,
                                    "isSqlXmlType": false,
                                    "isUnknownType": false,
                                    "isUpdatable": true,
                                    "allowDBNull": true,
                                    "baseCatalogName": null,
                                    "baseColumnName": null,
                                    "baseSchemaName": null,
                                    "baseServerName": null,
                                    "baseTableName": null,
                                    "columnName": "building",
                                    "columnOrdinal": 1,
                                    "columnSize": 15,
                                    "isAliased": null,
                                    "isAutoIncrement": false,
                                    "isExpression": null,
                                    "isHidden": null,
                                    "isIdentity": false,
                                    "isKey": null,
                                    "isLong": false,
                                    "isReadOnly": false,
                                    "isUnique": false,
                                    "numericPrecision": 255,
                                    "numericScale": 255,
                                    "udtAssemblyQualifiedName": null,
                                    "dataType": "System.String, System.Private.CoreLib, Version=4.0.0.0, Culture=neutral, PublicKeyToken=7cec85d7bea7798e",
                                    "dataTypeName": "varchar"
                                }
                            ],
                            "specialAction": {
                                "none": true,
                                "expectYukonXMLShowPlan": false
                            }
                        }
                    }
                }
            ],
            "execution_count": 35
        },
        {
            "cell_type": "markdown",
            "source": [
                "#### Set comparison\n",
                "\n",
                "Another ability of nested subqueries is executing set comparisons. For example, take the query *Find the name of all instructors whose salary is greater than at least one instructor in the BIology department*. \n",
                "\n",
                "\n",
                "Because if a salary is larger than the smallest salary in the biology department, implies that it is larger than at least one, we could write that nested subquery."
            ],
            "metadata": {
                "azdata_cell_guid": "44238808-bd4a-46ac-8900-3a911fe00480"
            }
        },
        {
            "cell_type": "code",
            "source": [
                "-- exploiting the min\n",
                "SELECT prof_name as [Salary greater than at least one bio prof]\n",
                "FROM instructor\n",
                "WHERE salary > (SELECT MIN(salary)\n",
                "                FROM instructor\n",
                "                WHERE dept_name = 'Biology');\n",
                "GO\n",
                ""
            ],
            "metadata": {
                "azdata_cell_guid": "e55e7027-47b0-4c5d-ba2f-3ae2105cf080"
            },
            "outputs": [
                {
                    "output_type": "display_data",
                    "data": {
                        "text/html": "(42 rows affected)"
                    },
                    "metadata": {}
                },
                {
                    "output_type": "display_data",
                    "data": {
                        "text/html": "Total execution time: 00:00:00.012"
                    },
                    "metadata": {}
                },
                {
                    "output_type": "execute_result",
                    "execution_count": 36,
                    "data": {
                        "application/vnd.dataresource+json": {
                            "schema": {
                                "fields": [
                                    {
                                        "name": "Salary greater than at least one bio prof"
                                    }
                                ]
                            },
                            "data": [
                                {
                                    "0": "Bawa"
                                },
                                {
                                    "0": "Yazdi"
                                },
                                {
                                    "0": "Wieland"
                                },
                                {
                                    "0": "DAgostino"
                                },
                                {
                                    "0": "Liley"
                                },
                                {
                                    "0": "Atanassov"
                                },
                                {
                                    "0": "Moreira"
                                },
                                {
                                    "0": "Gustafsson"
                                },
                                {
                                    "0": "Bourrier"
                                },
                                {
                                    "0": "Bondi"
                                },
                                {
                                    "0": "Soisalon-Soininen"
                                },
                                {
                                    "0": "Arias"
                                },
                                {
                                    "0": "Murata"
                                },
                                {
                                    "0": "Tung"
                                },
                                {
                                    "0": "Luo"
                                },
                                {
                                    "0": "Romero"
                                },
                                {
                                    "0": "Lent"
                                },
                                {
                                    "0": "Sarkar"
                                },
                                {
                                    "0": "Shuming"
                                },
                                {
                                    "0": "Bancilhon"
                                },
                                {
                                    "0": "Dusserre"
                                },
                                {
                                    "0": "Desyl"
                                },
                                {
                                    "0": "Jaekel"
                                },
                                {
                                    "0": "McKinnon"
                                },
                                {
                                    "0": "Mingoz"
                                },
                                {
                                    "0": "Pimenta"
                                },
                                {
                                    "0": "Yin"
                                },
                                {
                                    "0": "Sullivan"
                                },
                                {
                                    "0": "Voronina"
                                },
                                {
                                    "0": "Kenje"
                                },
                                {
                                    "0": "Mahmoud"
                                },
                                {
                                    "0": "Pingr"
                                },
                                {
                                    "0": "Ullman "
                                },
                                {
                                    "0": "Levine"
                                },
                                {
                                    "0": "Valtchev"
                                },
                                {
                                    "0": "Bietzk"
                                },
                                {
                                    "0": "Choll"
                                },
                                {
                                    "0": "Arinb"
                                },
                                {
                                    "0": "Sakurai"
                                },
                                {
                                    "0": "Mird"
                                },
                                {
                                    "0": "Bertolino"
                                },
                                {
                                    "0": "Dale"
                                }
                            ]
                        },
                        "text/html": "<table><tr><th>Salary greater than at least one bio prof</th></tr><tr><td>Bawa</td></tr><tr><td>Yazdi</td></tr><tr><td>Wieland</td></tr><tr><td>DAgostino</td></tr><tr><td>Liley</td></tr><tr><td>Atanassov</td></tr><tr><td>Moreira</td></tr><tr><td>Gustafsson</td></tr><tr><td>Bourrier</td></tr><tr><td>Bondi</td></tr><tr><td>Soisalon-Soininen</td></tr><tr><td>Arias</td></tr><tr><td>Murata</td></tr><tr><td>Tung</td></tr><tr><td>Luo</td></tr><tr><td>Romero</td></tr><tr><td>Lent</td></tr><tr><td>Sarkar</td></tr><tr><td>Shuming</td></tr><tr><td>Bancilhon</td></tr><tr><td>Dusserre</td></tr><tr><td>Desyl</td></tr><tr><td>Jaekel</td></tr><tr><td>McKinnon</td></tr><tr><td>Mingoz</td></tr><tr><td>Pimenta</td></tr><tr><td>Yin</td></tr><tr><td>Sullivan</td></tr><tr><td>Voronina</td></tr><tr><td>Kenje</td></tr><tr><td>Mahmoud</td></tr><tr><td>Pingr</td></tr><tr><td>Ullman </td></tr><tr><td>Levine</td></tr><tr><td>Valtchev</td></tr><tr><td>Bietzk</td></tr><tr><td>Choll</td></tr><tr><td>Arinb</td></tr><tr><td>Sakurai</td></tr><tr><td>Mird</td></tr><tr><td>Bertolino</td></tr><tr><td>Dale</td></tr></table>"
                    },
                    "metadata": {
                        "resultSet": {
                            "id": 0,
                            "batchId": 0,
                            "rowCount": 42,
                            "complete": true,
                            "columnInfo": [
                                {
                                    "isBytes": false,
                                    "isChars": true,
                                    "isSqlVariant": false,
                                    "isUdt": false,
                                    "isXml": false,
                                    "isJson": false,
                                    "sqlDbType": 22,
                                    "isHierarchyId": false,
                                    "isSqlXmlType": false,
                                    "isUnknownType": false,
                                    "isUpdatable": true,
                                    "allowDBNull": false,
                                    "baseCatalogName": null,
                                    "baseColumnName": null,
                                    "baseSchemaName": null,
                                    "baseServerName": null,
                                    "baseTableName": null,
                                    "columnName": "Salary greater than at least one bio prof",
                                    "columnOrdinal": 0,
                                    "columnSize": 20,
                                    "isAliased": null,
                                    "isAutoIncrement": false,
                                    "isExpression": null,
                                    "isHidden": null,
                                    "isIdentity": false,
                                    "isKey": null,
                                    "isLong": false,
                                    "isReadOnly": false,
                                    "isUnique": false,
                                    "numericPrecision": 255,
                                    "numericScale": 255,
                                    "udtAssemblyQualifiedName": null,
                                    "dataType": "System.String, System.Private.CoreLib, Version=4.0.0.0, Culture=neutral, PublicKeyToken=7cec85d7bea7798e",
                                    "dataTypeName": "varchar"
                                }
                            ],
                            "specialAction": {
                                "none": true,
                                "expectYukonXMLShowPlan": false
                            }
                        }
                    }
                }
            ],
            "execution_count": 36
        },
        {
            "cell_type": "markdown",
            "source": [
                "Alternatively, we could make use of ``SOME``. The ``SOME`` operator **evaluates the condition between the outer and inner tables and evaluates to true if the final result returns <strong>any one</strong> row. If not, then it evaluates to false**."
            ],
            "metadata": {
                "azdata_cell_guid": "ffafc7e0-aa06-42c2-98cb-0844ed9f4906"
            }
        },
        {
            "cell_type": "code",
            "source": [
                "SELECT prof_name\n",
                "FROM instructor\n",
                "WHERE salary > SOME (SELECT salary \n",
                "                     FROM instructor\n",
                "                     WHERE dept_name = 'Biology');\n",
                "GO"
            ],
            "metadata": {
                "azdata_cell_guid": "298c0f2a-0a3e-427d-988b-074605806b3d"
            },
            "outputs": [
                {
                    "output_type": "display_data",
                    "data": {
                        "text/html": "(42 rows affected)"
                    },
                    "metadata": {}
                },
                {
                    "output_type": "display_data",
                    "data": {
                        "text/html": "Total execution time: 00:00:00.006"
                    },
                    "metadata": {}
                },
                {
                    "output_type": "execute_result",
                    "execution_count": 37,
                    "data": {
                        "application/vnd.dataresource+json": {
                            "schema": {
                                "fields": [
                                    {
                                        "name": "prof_name"
                                    }
                                ]
                            },
                            "data": [
                                {
                                    "0": "Bawa"
                                },
                                {
                                    "0": "Yazdi"
                                },
                                {
                                    "0": "Wieland"
                                },
                                {
                                    "0": "DAgostino"
                                },
                                {
                                    "0": "Liley"
                                },
                                {
                                    "0": "Atanassov"
                                },
                                {
                                    "0": "Moreira"
                                },
                                {
                                    "0": "Gustafsson"
                                },
                                {
                                    "0": "Bourrier"
                                },
                                {
                                    "0": "Bondi"
                                },
                                {
                                    "0": "Soisalon-Soininen"
                                },
                                {
                                    "0": "Arias"
                                },
                                {
                                    "0": "Murata"
                                },
                                {
                                    "0": "Tung"
                                },
                                {
                                    "0": "Luo"
                                },
                                {
                                    "0": "Romero"
                                },
                                {
                                    "0": "Lent"
                                },
                                {
                                    "0": "Sarkar"
                                },
                                {
                                    "0": "Shuming"
                                },
                                {
                                    "0": "Bancilhon"
                                },
                                {
                                    "0": "Dusserre"
                                },
                                {
                                    "0": "Desyl"
                                },
                                {
                                    "0": "Jaekel"
                                },
                                {
                                    "0": "McKinnon"
                                },
                                {
                                    "0": "Mingoz"
                                },
                                {
                                    "0": "Pimenta"
                                },
                                {
                                    "0": "Yin"
                                },
                                {
                                    "0": "Sullivan"
                                },
                                {
                                    "0": "Voronina"
                                },
                                {
                                    "0": "Kenje"
                                },
                                {
                                    "0": "Mahmoud"
                                },
                                {
                                    "0": "Pingr"
                                },
                                {
                                    "0": "Ullman "
                                },
                                {
                                    "0": "Levine"
                                },
                                {
                                    "0": "Valtchev"
                                },
                                {
                                    "0": "Bietzk"
                                },
                                {
                                    "0": "Choll"
                                },
                                {
                                    "0": "Arinb"
                                },
                                {
                                    "0": "Sakurai"
                                },
                                {
                                    "0": "Mird"
                                },
                                {
                                    "0": "Bertolino"
                                },
                                {
                                    "0": "Dale"
                                }
                            ]
                        },
                        "text/html": "<table><tr><th>prof_name</th></tr><tr><td>Bawa</td></tr><tr><td>Yazdi</td></tr><tr><td>Wieland</td></tr><tr><td>DAgostino</td></tr><tr><td>Liley</td></tr><tr><td>Atanassov</td></tr><tr><td>Moreira</td></tr><tr><td>Gustafsson</td></tr><tr><td>Bourrier</td></tr><tr><td>Bondi</td></tr><tr><td>Soisalon-Soininen</td></tr><tr><td>Arias</td></tr><tr><td>Murata</td></tr><tr><td>Tung</td></tr><tr><td>Luo</td></tr><tr><td>Romero</td></tr><tr><td>Lent</td></tr><tr><td>Sarkar</td></tr><tr><td>Shuming</td></tr><tr><td>Bancilhon</td></tr><tr><td>Dusserre</td></tr><tr><td>Desyl</td></tr><tr><td>Jaekel</td></tr><tr><td>McKinnon</td></tr><tr><td>Mingoz</td></tr><tr><td>Pimenta</td></tr><tr><td>Yin</td></tr><tr><td>Sullivan</td></tr><tr><td>Voronina</td></tr><tr><td>Kenje</td></tr><tr><td>Mahmoud</td></tr><tr><td>Pingr</td></tr><tr><td>Ullman </td></tr><tr><td>Levine</td></tr><tr><td>Valtchev</td></tr><tr><td>Bietzk</td></tr><tr><td>Choll</td></tr><tr><td>Arinb</td></tr><tr><td>Sakurai</td></tr><tr><td>Mird</td></tr><tr><td>Bertolino</td></tr><tr><td>Dale</td></tr></table>"
                    },
                    "metadata": {
                        "resultSet": {
                            "id": 0,
                            "batchId": 0,
                            "rowCount": 42,
                            "complete": true,
                            "columnInfo": [
                                {
                                    "isBytes": false,
                                    "isChars": true,
                                    "isSqlVariant": false,
                                    "isUdt": false,
                                    "isXml": false,
                                    "isJson": false,
                                    "sqlDbType": 22,
                                    "isHierarchyId": false,
                                    "isSqlXmlType": false,
                                    "isUnknownType": false,
                                    "isUpdatable": true,
                                    "allowDBNull": false,
                                    "baseCatalogName": null,
                                    "baseColumnName": null,
                                    "baseSchemaName": null,
                                    "baseServerName": null,
                                    "baseTableName": null,
                                    "columnName": "prof_name",
                                    "columnOrdinal": 0,
                                    "columnSize": 20,
                                    "isAliased": null,
                                    "isAutoIncrement": false,
                                    "isExpression": null,
                                    "isHidden": null,
                                    "isIdentity": false,
                                    "isKey": null,
                                    "isLong": false,
                                    "isReadOnly": false,
                                    "isUnique": false,
                                    "numericPrecision": 255,
                                    "numericScale": 255,
                                    "udtAssemblyQualifiedName": null,
                                    "dataType": "System.String, System.Private.CoreLib, Version=4.0.0.0, Culture=neutral, PublicKeyToken=7cec85d7bea7798e",
                                    "dataTypeName": "varchar"
                                }
                            ],
                            "specialAction": {
                                "none": true,
                                "expectYukonXMLShowPlan": false
                            }
                        }
                    }
                }
            ],
            "execution_count": 37
        },
        {
            "cell_type": "markdown",
            "source": [
                "Now we modify our query to finding *all the names of instructors who have a salary higher than all instructors in the biology department*. Here we use the ``ALL`` operator."
            ],
            "metadata": {
                "azdata_cell_guid": "a4efca7b-1ba7-4238-a915-f66d686e9377"
            }
        },
        {
            "cell_type": "code",
            "source": [
                "SELECT prof_name\n",
                "FROM instructor \n",
                "WHERE salary > ALL(SELECT salary \n",
                "                   FROM instructor\n",
                "                   WHERE dept_name = 'Biology');\n",
                "GO"
            ],
            "metadata": {
                "azdata_cell_guid": "3079f4d1-7990-414c-8ac2-d40e59ed4de3"
            },
            "outputs": [
                {
                    "output_type": "display_data",
                    "data": {
                        "text/html": "(27 rows affected)"
                    },
                    "metadata": {}
                },
                {
                    "output_type": "display_data",
                    "data": {
                        "text/html": "Total execution time: 00:00:00.004"
                    },
                    "metadata": {}
                },
                {
                    "output_type": "execute_result",
                    "execution_count": 38,
                    "data": {
                        "application/vnd.dataresource+json": {
                            "schema": {
                                "fields": [
                                    {
                                        "name": "prof_name"
                                    }
                                ]
                            },
                            "data": [
                                {
                                    "0": "Yazdi"
                                },
                                {
                                    "0": "Wieland"
                                },
                                {
                                    "0": "Liley"
                                },
                                {
                                    "0": "Atanassov"
                                },
                                {
                                    "0": "Gustafsson"
                                },
                                {
                                    "0": "Bourrier"
                                },
                                {
                                    "0": "Bondi"
                                },
                                {
                                    "0": "Arias"
                                },
                                {
                                    "0": "Luo"
                                },
                                {
                                    "0": "Romero"
                                },
                                {
                                    "0": "Lent"
                                },
                                {
                                    "0": "Sarkar"
                                },
                                {
                                    "0": "Shuming"
                                },
                                {
                                    "0": "Bancilhon"
                                },
                                {
                                    "0": "Jaekel"
                                },
                                {
                                    "0": "McKinnon"
                                },
                                {
                                    "0": "Mingoz"
                                },
                                {
                                    "0": "Pimenta"
                                },
                                {
                                    "0": "Sullivan"
                                },
                                {
                                    "0": "Voronina"
                                },
                                {
                                    "0": "Kenje"
                                },
                                {
                                    "0": "Mahmoud"
                                },
                                {
                                    "0": "Levine"
                                },
                                {
                                    "0": "Bietzk"
                                },
                                {
                                    "0": "Sakurai"
                                },
                                {
                                    "0": "Mird"
                                },
                                {
                                    "0": "Dale"
                                }
                            ]
                        },
                        "text/html": "<table><tr><th>prof_name</th></tr><tr><td>Yazdi</td></tr><tr><td>Wieland</td></tr><tr><td>Liley</td></tr><tr><td>Atanassov</td></tr><tr><td>Gustafsson</td></tr><tr><td>Bourrier</td></tr><tr><td>Bondi</td></tr><tr><td>Arias</td></tr><tr><td>Luo</td></tr><tr><td>Romero</td></tr><tr><td>Lent</td></tr><tr><td>Sarkar</td></tr><tr><td>Shuming</td></tr><tr><td>Bancilhon</td></tr><tr><td>Jaekel</td></tr><tr><td>McKinnon</td></tr><tr><td>Mingoz</td></tr><tr><td>Pimenta</td></tr><tr><td>Sullivan</td></tr><tr><td>Voronina</td></tr><tr><td>Kenje</td></tr><tr><td>Mahmoud</td></tr><tr><td>Levine</td></tr><tr><td>Bietzk</td></tr><tr><td>Sakurai</td></tr><tr><td>Mird</td></tr><tr><td>Dale</td></tr></table>"
                    },
                    "metadata": {
                        "resultSet": {
                            "id": 0,
                            "batchId": 0,
                            "rowCount": 27,
                            "complete": true,
                            "columnInfo": [
                                {
                                    "isBytes": false,
                                    "isChars": true,
                                    "isSqlVariant": false,
                                    "isUdt": false,
                                    "isXml": false,
                                    "isJson": false,
                                    "sqlDbType": 22,
                                    "isHierarchyId": false,
                                    "isSqlXmlType": false,
                                    "isUnknownType": false,
                                    "isUpdatable": true,
                                    "allowDBNull": false,
                                    "baseCatalogName": null,
                                    "baseColumnName": null,
                                    "baseSchemaName": null,
                                    "baseServerName": null,
                                    "baseTableName": null,
                                    "columnName": "prof_name",
                                    "columnOrdinal": 0,
                                    "columnSize": 20,
                                    "isAliased": null,
                                    "isAutoIncrement": false,
                                    "isExpression": null,
                                    "isHidden": null,
                                    "isIdentity": false,
                                    "isKey": null,
                                    "isLong": false,
                                    "isReadOnly": false,
                                    "isUnique": false,
                                    "numericPrecision": 255,
                                    "numericScale": 255,
                                    "udtAssemblyQualifiedName": null,
                                    "dataType": "System.String, System.Private.CoreLib, Version=4.0.0.0, Culture=neutral, PublicKeyToken=7cec85d7bea7798e",
                                    "dataTypeName": "varchar"
                                }
                            ],
                            "specialAction": {
                                "none": true,
                                "expectYukonXMLShowPlan": false
                            }
                        }
                    }
                }
            ],
            "execution_count": 38
        },
        {
            "cell_type": "markdown",
            "source": [
                "As another set comparison, <em>find the departments that have above average, average salaries</em>"
            ],
            "metadata": {
                "azdata_cell_guid": "f5531b2b-4159-4c8a-b750-3be444ffac61"
            }
        },
        {
            "cell_type": "code",
            "source": [
                "SELECT dept_name, AVG(SALARY) as avg_salary\n",
                "FROM instructor\n",
                "GROUP BY dept_name\n",
                "HAVING AVG(salary) > (SELECT AVG(SALARY) as avg_salary\n",
                "                      FROM instructor)\n",
                "\n",
                "-- double-check\n",
                "SELECT AVG(salary) as avg_salary\n",
                "FROM instructor;\n",
                "GO\n",
                ""
            ],
            "metadata": {
                "azdata_cell_guid": "1eab90e2-feb7-4b5d-818b-4fddf67193f4"
            },
            "outputs": [
                {
                    "output_type": "display_data",
                    "data": {
                        "text/html": "(9 rows affected)"
                    },
                    "metadata": {}
                },
                {
                    "output_type": "display_data",
                    "data": {
                        "text/html": "(1 row affected)"
                    },
                    "metadata": {}
                },
                {
                    "output_type": "display_data",
                    "data": {
                        "text/html": "Total execution time: 00:00:00.005"
                    },
                    "metadata": {}
                },
                {
                    "output_type": "execute_result",
                    "execution_count": 39,
                    "data": {
                        "application/vnd.dataresource+json": {
                            "schema": {
                                "fields": [
                                    {
                                        "name": "dept_name"
                                    },
                                    {
                                        "name": "avg_salary"
                                    }
                                ]
                            },
                            "data": [
                                {
                                    "0": "Astronomy",
                                    "1": "79070.080000"
                                },
                                {
                                    "0": "Comp. Sci.",
                                    "1": "98133.470000"
                                },
                                {
                                    "0": "Cybernetics",
                                    "1": "96346.567500"
                                },
                                {
                                    "0": "Finance",
                                    "1": "105311.380000"
                                },
                                {
                                    "0": "Geology",
                                    "1": "99382.590000"
                                },
                                {
                                    "0": "Marketing",
                                    "1": "84097.437500"
                                },
                                {
                                    "0": "Mech. Eng.",
                                    "1": "79813.020000"
                                },
                                {
                                    "0": "Physics",
                                    "1": "114576.900000"
                                },
                                {
                                    "0": "Pol. Sci.",
                                    "1": "100053.073333"
                                }
                            ]
                        },
                        "text/html": "<table><tr><th>dept_name</th><th>avg_salary</th></tr><tr><td>Astronomy</td><td>79070.080000</td></tr><tr><td>Comp. Sci.</td><td>98133.470000</td></tr><tr><td>Cybernetics</td><td>96346.567500</td></tr><tr><td>Finance</td><td>105311.380000</td></tr><tr><td>Geology</td><td>99382.590000</td></tr><tr><td>Marketing</td><td>84097.437500</td></tr><tr><td>Mech. Eng.</td><td>79813.020000</td></tr><tr><td>Physics</td><td>114576.900000</td></tr><tr><td>Pol. Sci.</td><td>100053.073333</td></tr></table>"
                    },
                    "metadata": {
                        "resultSet": {
                            "id": 0,
                            "batchId": 0,
                            "rowCount": 9,
                            "complete": true,
                            "columnInfo": [
                                {
                                    "isBytes": false,
                                    "isChars": true,
                                    "isSqlVariant": false,
                                    "isUdt": false,
                                    "isXml": false,
                                    "isJson": false,
                                    "sqlDbType": 22,
                                    "isHierarchyId": false,
                                    "isSqlXmlType": false,
                                    "isUnknownType": false,
                                    "isUpdatable": true,
                                    "allowDBNull": true,
                                    "baseCatalogName": null,
                                    "baseColumnName": null,
                                    "baseSchemaName": null,
                                    "baseServerName": null,
                                    "baseTableName": null,
                                    "columnName": "dept_name",
                                    "columnOrdinal": 0,
                                    "columnSize": 20,
                                    "isAliased": null,
                                    "isAutoIncrement": false,
                                    "isExpression": null,
                                    "isHidden": null,
                                    "isIdentity": false,
                                    "isKey": null,
                                    "isLong": false,
                                    "isReadOnly": false,
                                    "isUnique": false,
                                    "numericPrecision": 255,
                                    "numericScale": 255,
                                    "udtAssemblyQualifiedName": null,
                                    "dataType": "System.String, System.Private.CoreLib, Version=4.0.0.0, Culture=neutral, PublicKeyToken=7cec85d7bea7798e",
                                    "dataTypeName": "varchar"
                                },
                                {
                                    "isBytes": false,
                                    "isChars": false,
                                    "isSqlVariant": false,
                                    "isUdt": false,
                                    "isXml": false,
                                    "isJson": false,
                                    "sqlDbType": 5,
                                    "isHierarchyId": false,
                                    "isSqlXmlType": false,
                                    "isUnknownType": false,
                                    "isUpdatable": false,
                                    "allowDBNull": true,
                                    "baseCatalogName": null,
                                    "baseColumnName": null,
                                    "baseSchemaName": null,
                                    "baseServerName": null,
                                    "baseTableName": null,
                                    "columnName": "avg_salary",
                                    "columnOrdinal": 1,
                                    "columnSize": 17,
                                    "isAliased": null,
                                    "isAutoIncrement": false,
                                    "isExpression": null,
                                    "isHidden": null,
                                    "isIdentity": false,
                                    "isKey": null,
                                    "isLong": false,
                                    "isReadOnly": true,
                                    "isUnique": false,
                                    "numericPrecision": 38,
                                    "numericScale": 6,
                                    "udtAssemblyQualifiedName": null,
                                    "dataType": "System.Decimal, System.Private.CoreLib, Version=4.0.0.0, Culture=neutral, PublicKeyToken=7cec85d7bea7798e",
                                    "dataTypeName": "decimal"
                                }
                            ],
                            "specialAction": {
                                "none": true,
                                "expectYukonXMLShowPlan": false
                            }
                        }
                    }
                },
                {
                    "output_type": "execute_result",
                    "execution_count": 39,
                    "data": {
                        "application/vnd.dataresource+json": {
                            "schema": {
                                "fields": [
                                    {
                                        "name": "avg_salary"
                                    }
                                ]
                            },
                            "data": [
                                {
                                    "0": "77600.188200"
                                }
                            ]
                        },
                        "text/html": "<table><tr><th>avg_salary</th></tr><tr><td>77600.188200</td></tr></table>"
                    },
                    "metadata": {
                        "resultSet": {
                            "id": 1,
                            "batchId": 0,
                            "rowCount": 1,
                            "complete": true,
                            "columnInfo": [
                                {
                                    "isBytes": false,
                                    "isChars": false,
                                    "isSqlVariant": false,
                                    "isUdt": false,
                                    "isXml": false,
                                    "isJson": false,
                                    "sqlDbType": 5,
                                    "isHierarchyId": false,
                                    "isSqlXmlType": false,
                                    "isUnknownType": false,
                                    "isUpdatable": false,
                                    "allowDBNull": true,
                                    "baseCatalogName": null,
                                    "baseColumnName": null,
                                    "baseSchemaName": null,
                                    "baseServerName": null,
                                    "baseTableName": null,
                                    "columnName": "avg_salary",
                                    "columnOrdinal": 0,
                                    "columnSize": 17,
                                    "isAliased": null,
                                    "isAutoIncrement": false,
                                    "isExpression": null,
                                    "isHidden": null,
                                    "isIdentity": false,
                                    "isKey": null,
                                    "isLong": false,
                                    "isReadOnly": true,
                                    "isUnique": false,
                                    "numericPrecision": 38,
                                    "numericScale": 6,
                                    "udtAssemblyQualifiedName": null,
                                    "dataType": "System.Decimal, System.Private.CoreLib, Version=4.0.0.0, Culture=neutral, PublicKeyToken=7cec85d7bea7798e",
                                    "dataTypeName": "decimal"
                                }
                            ],
                            "specialAction": {
                                "none": true,
                                "expectYukonXMLShowPlan": false
                            }
                        }
                    }
                }
            ],
            "execution_count": 39
        },
        {
            "cell_type": "markdown",
            "source": [
                "Similarly, we can ask *who are the professors with above average salaries*."
            ],
            "metadata": {
                "azdata_cell_guid": "416c182c-1359-4443-ba58-6342bdd97e87"
            }
        },
        {
            "cell_type": "code",
            "source": [
                "SELECT prof_name, salary\n",
                "FROM instructor \n",
                "WHERE salary > (SELECT AVG(salary)\n",
                "                FROM instructor);\n",
                "GO\n",
                "\n",
                "-- double check\n",
                "SELECT AVG(salary) AS avg_salary\n",
                "FROM instructor;\n",
                "GO"
            ],
            "metadata": {
                "azdata_cell_guid": "63245999-772e-4711-afb4-7b5a40c2e80a"
            },
            "outputs": [
                {
                    "output_type": "display_data",
                    "data": {
                        "text/html": "(27 rows affected)"
                    },
                    "metadata": {}
                },
                {
                    "output_type": "display_data",
                    "data": {
                        "text/html": "(1 row affected)"
                    },
                    "metadata": {}
                },
                {
                    "output_type": "display_data",
                    "data": {
                        "text/html": "Total execution time: 00:00:00.005"
                    },
                    "metadata": {}
                },
                {
                    "output_type": "execute_result",
                    "execution_count": 40,
                    "data": {
                        "application/vnd.dataresource+json": {
                            "schema": {
                                "fields": [
                                    {
                                        "name": "prof_name"
                                    },
                                    {
                                        "name": "salary"
                                    }
                                ]
                            },
                            "data": [
                                {
                                    "0": "Yazdi",
                                    "1": "98333.65"
                                },
                                {
                                    "0": "Wieland",
                                    "1": "124651.41"
                                },
                                {
                                    "0": "Liley",
                                    "1": "90891.69"
                                },
                                {
                                    "0": "Atanassov",
                                    "1": "84982.92"
                                },
                                {
                                    "0": "Gustafsson",
                                    "1": "82534.37"
                                },
                                {
                                    "0": "Bourrier",
                                    "1": "80797.83"
                                },
                                {
                                    "0": "Bondi",
                                    "1": "115469.11"
                                },
                                {
                                    "0": "Arias",
                                    "1": "104563.38"
                                },
                                {
                                    "0": "Luo",
                                    "1": "88791.45"
                                },
                                {
                                    "0": "Romero",
                                    "1": "79070.08"
                                },
                                {
                                    "0": "Lent",
                                    "1": "107978.47"
                                },
                                {
                                    "0": "Sarkar",
                                    "1": "87549.80"
                                },
                                {
                                    "0": "Shuming",
                                    "1": "108011.81"
                                },
                                {
                                    "0": "Bancilhon",
                                    "1": "87958.01"
                                },
                                {
                                    "0": "Jaekel",
                                    "1": "103146.87"
                                },
                                {
                                    "0": "McKinnon",
                                    "1": "94333.99"
                                },
                                {
                                    "0": "Mingoz",
                                    "1": "105311.38"
                                },
                                {
                                    "0": "Pimenta",
                                    "1": "79866.95"
                                },
                                {
                                    "0": "Sullivan",
                                    "1": "90038.09"
                                },
                                {
                                    "0": "Voronina",
                                    "1": "121141.99"
                                },
                                {
                                    "0": "Kenje",
                                    "1": "106554.73"
                                },
                                {
                                    "0": "Mahmoud",
                                    "1": "99382.59"
                                },
                                {
                                    "0": "Levine",
                                    "1": "89805.83"
                                },
                                {
                                    "0": "Bietzk",
                                    "1": "117836.50"
                                },
                                {
                                    "0": "Sakurai",
                                    "1": "118143.98"
                                },
                                {
                                    "0": "Mird",
                                    "1": "119921.41"
                                },
                                {
                                    "0": "Dale",
                                    "1": "93348.83"
                                }
                            ]
                        },
                        "text/html": "<table><tr><th>prof_name</th><th>salary</th></tr><tr><td>Yazdi</td><td>98333.65</td></tr><tr><td>Wieland</td><td>124651.41</td></tr><tr><td>Liley</td><td>90891.69</td></tr><tr><td>Atanassov</td><td>84982.92</td></tr><tr><td>Gustafsson</td><td>82534.37</td></tr><tr><td>Bourrier</td><td>80797.83</td></tr><tr><td>Bondi</td><td>115469.11</td></tr><tr><td>Arias</td><td>104563.38</td></tr><tr><td>Luo</td><td>88791.45</td></tr><tr><td>Romero</td><td>79070.08</td></tr><tr><td>Lent</td><td>107978.47</td></tr><tr><td>Sarkar</td><td>87549.80</td></tr><tr><td>Shuming</td><td>108011.81</td></tr><tr><td>Bancilhon</td><td>87958.01</td></tr><tr><td>Jaekel</td><td>103146.87</td></tr><tr><td>McKinnon</td><td>94333.99</td></tr><tr><td>Mingoz</td><td>105311.38</td></tr><tr><td>Pimenta</td><td>79866.95</td></tr><tr><td>Sullivan</td><td>90038.09</td></tr><tr><td>Voronina</td><td>121141.99</td></tr><tr><td>Kenje</td><td>106554.73</td></tr><tr><td>Mahmoud</td><td>99382.59</td></tr><tr><td>Levine</td><td>89805.83</td></tr><tr><td>Bietzk</td><td>117836.50</td></tr><tr><td>Sakurai</td><td>118143.98</td></tr><tr><td>Mird</td><td>119921.41</td></tr><tr><td>Dale</td><td>93348.83</td></tr></table>"
                    },
                    "metadata": {
                        "resultSet": {
                            "id": 0,
                            "batchId": 0,
                            "rowCount": 27,
                            "complete": true,
                            "columnInfo": [
                                {
                                    "isBytes": false,
                                    "isChars": true,
                                    "isSqlVariant": false,
                                    "isUdt": false,
                                    "isXml": false,
                                    "isJson": false,
                                    "sqlDbType": 22,
                                    "isHierarchyId": false,
                                    "isSqlXmlType": false,
                                    "isUnknownType": false,
                                    "isUpdatable": true,
                                    "allowDBNull": false,
                                    "baseCatalogName": null,
                                    "baseColumnName": null,
                                    "baseSchemaName": null,
                                    "baseServerName": null,
                                    "baseTableName": null,
                                    "columnName": "prof_name",
                                    "columnOrdinal": 0,
                                    "columnSize": 20,
                                    "isAliased": null,
                                    "isAutoIncrement": false,
                                    "isExpression": null,
                                    "isHidden": null,
                                    "isIdentity": false,
                                    "isKey": null,
                                    "isLong": false,
                                    "isReadOnly": false,
                                    "isUnique": false,
                                    "numericPrecision": 255,
                                    "numericScale": 255,
                                    "udtAssemblyQualifiedName": null,
                                    "dataType": "System.String, System.Private.CoreLib, Version=4.0.0.0, Culture=neutral, PublicKeyToken=7cec85d7bea7798e",
                                    "dataTypeName": "varchar"
                                },
                                {
                                    "isBytes": false,
                                    "isChars": false,
                                    "isSqlVariant": false,
                                    "isUdt": false,
                                    "isXml": false,
                                    "isJson": false,
                                    "sqlDbType": 5,
                                    "isHierarchyId": false,
                                    "isSqlXmlType": false,
                                    "isUnknownType": false,
                                    "isUpdatable": true,
                                    "allowDBNull": true,
                                    "baseCatalogName": null,
                                    "baseColumnName": null,
                                    "baseSchemaName": null,
                                    "baseServerName": null,
                                    "baseTableName": null,
                                    "columnName": "salary",
                                    "columnOrdinal": 1,
                                    "columnSize": 17,
                                    "isAliased": null,
                                    "isAutoIncrement": false,
                                    "isExpression": null,
                                    "isHidden": null,
                                    "isIdentity": false,
                                    "isKey": null,
                                    "isLong": false,
                                    "isReadOnly": false,
                                    "isUnique": false,
                                    "numericPrecision": 8,
                                    "numericScale": 2,
                                    "udtAssemblyQualifiedName": null,
                                    "dataType": "System.Decimal, System.Private.CoreLib, Version=4.0.0.0, Culture=neutral, PublicKeyToken=7cec85d7bea7798e",
                                    "dataTypeName": "decimal"
                                }
                            ],
                            "specialAction": {
                                "none": true,
                                "expectYukonXMLShowPlan": false
                            }
                        }
                    }
                },
                {
                    "output_type": "execute_result",
                    "execution_count": 40,
                    "data": {
                        "application/vnd.dataresource+json": {
                            "schema": {
                                "fields": [
                                    {
                                        "name": "avg_salary"
                                    }
                                ]
                            },
                            "data": [
                                {
                                    "0": "77600.188200"
                                }
                            ]
                        },
                        "text/html": "<table><tr><th>avg_salary</th></tr><tr><td>77600.188200</td></tr></table>"
                    },
                    "metadata": {
                        "resultSet": {
                            "id": 0,
                            "batchId": 1,
                            "rowCount": 1,
                            "complete": true,
                            "columnInfo": [
                                {
                                    "isBytes": false,
                                    "isChars": false,
                                    "isSqlVariant": false,
                                    "isUdt": false,
                                    "isXml": false,
                                    "isJson": false,
                                    "sqlDbType": 5,
                                    "isHierarchyId": false,
                                    "isSqlXmlType": false,
                                    "isUnknownType": false,
                                    "isUpdatable": false,
                                    "allowDBNull": true,
                                    "baseCatalogName": null,
                                    "baseColumnName": null,
                                    "baseSchemaName": null,
                                    "baseServerName": null,
                                    "baseTableName": null,
                                    "columnName": "avg_salary",
                                    "columnOrdinal": 0,
                                    "columnSize": 17,
                                    "isAliased": null,
                                    "isAutoIncrement": false,
                                    "isExpression": null,
                                    "isHidden": null,
                                    "isIdentity": false,
                                    "isKey": null,
                                    "isLong": false,
                                    "isReadOnly": true,
                                    "isUnique": false,
                                    "numericPrecision": 38,
                                    "numericScale": 6,
                                    "udtAssemblyQualifiedName": null,
                                    "dataType": "System.Decimal, System.Private.CoreLib, Version=4.0.0.0, Culture=neutral, PublicKeyToken=7cec85d7bea7798e",
                                    "dataTypeName": "decimal"
                                }
                            ],
                            "specialAction": {
                                "none": true,
                                "expectYukonXMLShowPlan": false
                            }
                        }
                    }
                }
            ],
            "execution_count": 40
        },
        {
            "cell_type": "markdown",
            "source": [
                "#### Testing for empty relations\n",
                "\n",
                "SQL includes a feature for testing whether a subquery has any tuples in its result -\\> <code>EXISTS.</code><br>"
            ],
            "metadata": {
                "azdata_cell_guid": "4947e73e-8793-415d-ad23-c93f737ed488"
            }
        },
        {
            "cell_type": "code",
            "source": [
                "SELECT prof_name, salary \n",
                "FROM instructor\n",
                "WHERE salary <= 8000 AND EXISTS(SELECT prof_name, salary \n",
                "                                FROM instructor AS i\n",
                "                                WHERE i.salary <= 8000);\n",
                "GO"
            ],
            "metadata": {
                "azdata_cell_guid": "966fde28-e759-474f-92ff-8435a55e8a91"
            },
            "outputs": [
                {
                    "output_type": "display_data",
                    "data": {
                        "text/html": "(0 rows affected)"
                    },
                    "metadata": {}
                },
                {
                    "output_type": "display_data",
                    "data": {
                        "text/html": "Total execution time: 00:00:00.002"
                    },
                    "metadata": {}
                },
                {
                    "output_type": "execute_result",
                    "execution_count": 41,
                    "data": {
                        "application/vnd.dataresource+json": {
                            "schema": {
                                "fields": [
                                    {
                                        "name": "prof_name"
                                    },
                                    {
                                        "name": "salary"
                                    }
                                ]
                            },
                            "data": []
                        },
                        "text/html": "<table><tr><th>prof_name</th><th>salary</th></tr></table>"
                    },
                    "metadata": {
                        "resultSet": {
                            "id": 0,
                            "batchId": 0,
                            "rowCount": 0,
                            "complete": false,
                            "columnInfo": [
                                {
                                    "isBytes": false,
                                    "isChars": true,
                                    "isSqlVariant": false,
                                    "isUdt": false,
                                    "isXml": false,
                                    "isJson": false,
                                    "sqlDbType": 22,
                                    "isHierarchyId": false,
                                    "isSqlXmlType": false,
                                    "isUnknownType": false,
                                    "isUpdatable": true,
                                    "allowDBNull": false,
                                    "baseCatalogName": null,
                                    "baseColumnName": null,
                                    "baseSchemaName": null,
                                    "baseServerName": null,
                                    "baseTableName": null,
                                    "columnName": "prof_name",
                                    "columnOrdinal": 0,
                                    "columnSize": 20,
                                    "isAliased": null,
                                    "isAutoIncrement": false,
                                    "isExpression": null,
                                    "isHidden": null,
                                    "isIdentity": false,
                                    "isKey": null,
                                    "isLong": false,
                                    "isReadOnly": false,
                                    "isUnique": false,
                                    "numericPrecision": 255,
                                    "numericScale": 255,
                                    "udtAssemblyQualifiedName": null,
                                    "dataType": "System.String, System.Private.CoreLib, Version=4.0.0.0, Culture=neutral, PublicKeyToken=7cec85d7bea7798e",
                                    "dataTypeName": "varchar"
                                },
                                {
                                    "isBytes": false,
                                    "isChars": false,
                                    "isSqlVariant": false,
                                    "isUdt": false,
                                    "isXml": false,
                                    "isJson": false,
                                    "sqlDbType": 5,
                                    "isHierarchyId": false,
                                    "isSqlXmlType": false,
                                    "isUnknownType": false,
                                    "isUpdatable": true,
                                    "allowDBNull": true,
                                    "baseCatalogName": null,
                                    "baseColumnName": null,
                                    "baseSchemaName": null,
                                    "baseServerName": null,
                                    "baseTableName": null,
                                    "columnName": "salary",
                                    "columnOrdinal": 1,
                                    "columnSize": 17,
                                    "isAliased": null,
                                    "isAutoIncrement": false,
                                    "isExpression": null,
                                    "isHidden": null,
                                    "isIdentity": false,
                                    "isKey": null,
                                    "isLong": false,
                                    "isReadOnly": false,
                                    "isUnique": false,
                                    "numericPrecision": 8,
                                    "numericScale": 2,
                                    "udtAssemblyQualifiedName": null,
                                    "dataType": "System.Decimal, System.Private.CoreLib, Version=4.0.0.0, Culture=neutral, PublicKeyToken=7cec85d7bea7798e",
                                    "dataTypeName": "decimal"
                                }
                            ],
                            "specialAction": null
                        }
                    }
                }
            ],
            "execution_count": 41
        },
        {
            "cell_type": "markdown",
            "source": [
                "#### Subqueries in the  `FROM` Clause\n",
                "\n",
                "Any <code>SELECT-FROM-WHERE</code> expression returns a table as a result. Being so, we can actually use the output of an <code>SELECT-FROM-WHERE</code> expression within another <code>SELECT-FROM-WHERE</code> expression. For example, consider the following query: <em>Find the average instructors' salaries of those departments where the average salary is greater than 60,000 and smaller than 70,000</em>"
            ],
            "metadata": {
                "azdata_cell_guid": "46bd653b-a179-4da1-af2a-e8c8e1813beb"
            }
        },
        {
            "cell_type": "code",
            "source": [
                "SELECT t.dept_name, t.avg_salary\n",
                "FROM (\n",
                "    SELECT dept_name, AVG(salary) as avg_salary\n",
                "    FROM instructor\n",
                "    GROUP BY dept_name\n",
                ") as t\n",
                "WHERE t.avg_salary BETWEEN  60000 AND 70000;\n",
                "GO"
            ],
            "metadata": {
                "azdata_cell_guid": "575f8fcb-378e-416b-9507-99d4ea0d6577",
                "tags": []
            },
            "outputs": [
                {
                    "output_type": "display_data",
                    "data": {
                        "text/html": "(3 rows affected)"
                    },
                    "metadata": {}
                },
                {
                    "output_type": "display_data",
                    "data": {
                        "text/html": "Total execution time: 00:00:00.004"
                    },
                    "metadata": {}
                },
                {
                    "output_type": "execute_result",
                    "execution_count": 42,
                    "data": {
                        "application/vnd.dataresource+json": {
                            "schema": {
                                "fields": [
                                    {
                                        "name": "dept_name"
                                    },
                                    {
                                        "name": "avg_salary"
                                    }
                                ]
                            },
                            "data": [
                                {
                                    "0": "Biology",
                                    "1": "61287.250000"
                                },
                                {
                                    "0": "Psychology",
                                    "1": "61143.050000"
                                },
                                {
                                    "0": "Statistics",
                                    "1": "67795.441666"
                                }
                            ]
                        },
                        "text/html": "<table><tr><th>dept_name</th><th>avg_salary</th></tr><tr><td>Biology</td><td>61287.250000</td></tr><tr><td>Psychology</td><td>61143.050000</td></tr><tr><td>Statistics</td><td>67795.441666</td></tr></table>"
                    },
                    "metadata": {
                        "resultSet": {
                            "id": 0,
                            "batchId": 0,
                            "rowCount": 3,
                            "complete": true,
                            "columnInfo": [
                                {
                                    "isBytes": false,
                                    "isChars": true,
                                    "isSqlVariant": false,
                                    "isUdt": false,
                                    "isXml": false,
                                    "isJson": false,
                                    "sqlDbType": 22,
                                    "isHierarchyId": false,
                                    "isSqlXmlType": false,
                                    "isUnknownType": false,
                                    "isUpdatable": true,
                                    "allowDBNull": true,
                                    "baseCatalogName": null,
                                    "baseColumnName": null,
                                    "baseSchemaName": null,
                                    "baseServerName": null,
                                    "baseTableName": null,
                                    "columnName": "dept_name",
                                    "columnOrdinal": 0,
                                    "columnSize": 20,
                                    "isAliased": null,
                                    "isAutoIncrement": false,
                                    "isExpression": null,
                                    "isHidden": null,
                                    "isIdentity": false,
                                    "isKey": null,
                                    "isLong": false,
                                    "isReadOnly": false,
                                    "isUnique": false,
                                    "numericPrecision": 255,
                                    "numericScale": 255,
                                    "udtAssemblyQualifiedName": null,
                                    "dataType": "System.String, System.Private.CoreLib, Version=4.0.0.0, Culture=neutral, PublicKeyToken=7cec85d7bea7798e",
                                    "dataTypeName": "varchar"
                                },
                                {
                                    "isBytes": false,
                                    "isChars": false,
                                    "isSqlVariant": false,
                                    "isUdt": false,
                                    "isXml": false,
                                    "isJson": false,
                                    "sqlDbType": 5,
                                    "isHierarchyId": false,
                                    "isSqlXmlType": false,
                                    "isUnknownType": false,
                                    "isUpdatable": false,
                                    "allowDBNull": true,
                                    "baseCatalogName": null,
                                    "baseColumnName": null,
                                    "baseSchemaName": null,
                                    "baseServerName": null,
                                    "baseTableName": null,
                                    "columnName": "avg_salary",
                                    "columnOrdinal": 1,
                                    "columnSize": 17,
                                    "isAliased": null,
                                    "isAutoIncrement": false,
                                    "isExpression": null,
                                    "isHidden": null,
                                    "isIdentity": false,
                                    "isKey": null,
                                    "isLong": false,
                                    "isReadOnly": true,
                                    "isUnique": false,
                                    "numericPrecision": 38,
                                    "numericScale": 6,
                                    "udtAssemblyQualifiedName": null,
                                    "dataType": "System.Decimal, System.Private.CoreLib, Version=4.0.0.0, Culture=neutral, PublicKeyToken=7cec85d7bea7798e",
                                    "dataTypeName": "decimal"
                                }
                            ],
                            "specialAction": {
                                "none": true,
                                "expectYukonXMLShowPlan": false
                            }
                        }
                    }
                }
            ],
            "execution_count": 42
        },
        {
            "cell_type": "markdown",
            "source": [
                "Note that this is the same as we did before using the <code>HAVING</code>, however here we did not need it since we computed the average salary in the from clause."
            ],
            "metadata": {
                "azdata_cell_guid": "ceeff691-3e24-44d7-aa3c-b47232b30b93"
            }
        },
        {
            "cell_type": "code",
            "source": [
                "SELECT dept_name, AVG(salary) AS avg_salary\n",
                "FROM instructor\n",
                "GROUP BY dept_name\n",
                "HAVING AVG(salary) BETWEEN 60000 AND 70000;\n",
                "GO"
            ],
            "metadata": {
                "azdata_cell_guid": "2542aad7-75d1-49df-a81c-baf8659b3edc"
            },
            "outputs": [
                {
                    "output_type": "display_data",
                    "data": {
                        "text/html": "(3 rows affected)"
                    },
                    "metadata": {}
                },
                {
                    "output_type": "display_data",
                    "data": {
                        "text/html": "Total execution time: 00:00:00.006"
                    },
                    "metadata": {}
                },
                {
                    "output_type": "execute_result",
                    "execution_count": 43,
                    "data": {
                        "application/vnd.dataresource+json": {
                            "schema": {
                                "fields": [
                                    {
                                        "name": "dept_name"
                                    },
                                    {
                                        "name": "avg_salary"
                                    }
                                ]
                            },
                            "data": [
                                {
                                    "0": "Biology",
                                    "1": "61287.250000"
                                },
                                {
                                    "0": "Psychology",
                                    "1": "61143.050000"
                                },
                                {
                                    "0": "Statistics",
                                    "1": "67795.441666"
                                }
                            ]
                        },
                        "text/html": "<table><tr><th>dept_name</th><th>avg_salary</th></tr><tr><td>Biology</td><td>61287.250000</td></tr><tr><td>Psychology</td><td>61143.050000</td></tr><tr><td>Statistics</td><td>67795.441666</td></tr></table>"
                    },
                    "metadata": {
                        "resultSet": {
                            "id": 0,
                            "batchId": 0,
                            "rowCount": 3,
                            "complete": true,
                            "columnInfo": [
                                {
                                    "isBytes": false,
                                    "isChars": true,
                                    "isSqlVariant": false,
                                    "isUdt": false,
                                    "isXml": false,
                                    "isJson": false,
                                    "sqlDbType": 22,
                                    "isHierarchyId": false,
                                    "isSqlXmlType": false,
                                    "isUnknownType": false,
                                    "isUpdatable": true,
                                    "allowDBNull": true,
                                    "baseCatalogName": null,
                                    "baseColumnName": null,
                                    "baseSchemaName": null,
                                    "baseServerName": null,
                                    "baseTableName": null,
                                    "columnName": "dept_name",
                                    "columnOrdinal": 0,
                                    "columnSize": 20,
                                    "isAliased": null,
                                    "isAutoIncrement": false,
                                    "isExpression": null,
                                    "isHidden": null,
                                    "isIdentity": false,
                                    "isKey": null,
                                    "isLong": false,
                                    "isReadOnly": false,
                                    "isUnique": false,
                                    "numericPrecision": 255,
                                    "numericScale": 255,
                                    "udtAssemblyQualifiedName": null,
                                    "dataType": "System.String, System.Private.CoreLib, Version=4.0.0.0, Culture=neutral, PublicKeyToken=7cec85d7bea7798e",
                                    "dataTypeName": "varchar"
                                },
                                {
                                    "isBytes": false,
                                    "isChars": false,
                                    "isSqlVariant": false,
                                    "isUdt": false,
                                    "isXml": false,
                                    "isJson": false,
                                    "sqlDbType": 5,
                                    "isHierarchyId": false,
                                    "isSqlXmlType": false,
                                    "isUnknownType": false,
                                    "isUpdatable": false,
                                    "allowDBNull": true,
                                    "baseCatalogName": null,
                                    "baseColumnName": null,
                                    "baseSchemaName": null,
                                    "baseServerName": null,
                                    "baseTableName": null,
                                    "columnName": "avg_salary",
                                    "columnOrdinal": 1,
                                    "columnSize": 17,
                                    "isAliased": null,
                                    "isAutoIncrement": false,
                                    "isExpression": null,
                                    "isHidden": null,
                                    "isIdentity": false,
                                    "isKey": null,
                                    "isLong": false,
                                    "isReadOnly": true,
                                    "isUnique": false,
                                    "numericPrecision": 38,
                                    "numericScale": 6,
                                    "udtAssemblyQualifiedName": null,
                                    "dataType": "System.Decimal, System.Private.CoreLib, Version=4.0.0.0, Culture=neutral, PublicKeyToken=7cec85d7bea7798e",
                                    "dataTypeName": "decimal"
                                }
                            ],
                            "specialAction": {
                                "none": true,
                                "expectYukonXMLShowPlan": false
                            }
                        }
                    }
                }
            ],
            "execution_count": 43
        },
        {
            "cell_type": "markdown",
            "source": [
                "As another example, suppose *we wish to find the maximum across all departments of the total of all instructors salaries in each department*"
            ],
            "metadata": {
                "azdata_cell_guid": "2b92a53e-4411-4900-9c14-c04658aa1ded"
            }
        },
        {
            "cell_type": "code",
            "source": [
                "SELECT MAX(t.total_salary) AS [highest total salary]\n",
                "FROM (\n",
                "    SELECT SUM(salary) as total_salary\n",
                "    FROM instructor\n",
                "    GROUP BY dept_name\n",
                ") AS t;\n",
                "GO\n",
                "\n",
                "-- double-check\n",
                "SELECT TOP 1 dept_name, SUM(salary) as sum_salary\n",
                "FROM instructor\n",
                "GROUP BY dept_name\n",
                "ORDER BY sum_salary DESC;\n",
                "GO"
            ],
            "metadata": {
                "azdata_cell_guid": "baa2bb67-01fa-4b39-92be-176be5525c0e"
            },
            "outputs": [
                {
                    "output_type": "display_data",
                    "data": {
                        "text/html": "(1 row affected)"
                    },
                    "metadata": {}
                },
                {
                    "output_type": "display_data",
                    "data": {
                        "text/html": "(1 row affected)"
                    },
                    "metadata": {}
                },
                {
                    "output_type": "display_data",
                    "data": {
                        "text/html": "Total execution time: 00:00:00.005"
                    },
                    "metadata": {}
                },
                {
                    "output_type": "execute_result",
                    "execution_count": 58,
                    "data": {
                        "application/vnd.dataresource+json": {
                            "schema": {
                                "fields": [
                                    {
                                        "name": "highest total salary"
                                    }
                                ]
                            },
                            "data": [
                                {
                                    "0": "406772.65"
                                }
                            ]
                        },
                        "text/html": "<table><tr><th>highest total salary</th></tr><tr><td>406772.65</td></tr></table>"
                    },
                    "metadata": {
                        "resultSet": {
                            "id": 0,
                            "batchId": 0,
                            "rowCount": 1,
                            "complete": true,
                            "columnInfo": [
                                {
                                    "isBytes": false,
                                    "isChars": false,
                                    "isSqlVariant": false,
                                    "isUdt": false,
                                    "isXml": false,
                                    "isJson": false,
                                    "sqlDbType": 5,
                                    "isHierarchyId": false,
                                    "isSqlXmlType": false,
                                    "isUnknownType": false,
                                    "isUpdatable": false,
                                    "allowDBNull": true,
                                    "baseCatalogName": null,
                                    "baseColumnName": null,
                                    "baseSchemaName": null,
                                    "baseServerName": null,
                                    "baseTableName": null,
                                    "columnName": "highest total salary",
                                    "columnOrdinal": 0,
                                    "columnSize": 17,
                                    "isAliased": null,
                                    "isAutoIncrement": false,
                                    "isExpression": null,
                                    "isHidden": null,
                                    "isIdentity": false,
                                    "isKey": null,
                                    "isLong": false,
                                    "isReadOnly": true,
                                    "isUnique": false,
                                    "numericPrecision": 38,
                                    "numericScale": 2,
                                    "udtAssemblyQualifiedName": null,
                                    "dataType": "System.Decimal, System.Private.CoreLib, Version=4.0.0.0, Culture=neutral, PublicKeyToken=7cec85d7bea7798e",
                                    "dataTypeName": "decimal"
                                }
                            ],
                            "specialAction": {
                                "none": true,
                                "expectYukonXMLShowPlan": false
                            }
                        }
                    }
                },
                {
                    "output_type": "execute_result",
                    "execution_count": 58,
                    "data": {
                        "application/vnd.dataresource+json": {
                            "schema": {
                                "fields": [
                                    {
                                        "name": "dept_name"
                                    },
                                    {
                                        "name": "sum_salary"
                                    }
                                ]
                            },
                            "data": [
                                {
                                    "0": "Statistics",
                                    "1": "406772.65"
                                }
                            ]
                        },
                        "text/html": "<table><tr><th>dept_name</th><th>sum_salary</th></tr><tr><td>Statistics</td><td>406772.65</td></tr></table>"
                    },
                    "metadata": {
                        "resultSet": {
                            "id": 0,
                            "batchId": 1,
                            "rowCount": 1,
                            "complete": true,
                            "columnInfo": [
                                {
                                    "isBytes": false,
                                    "isChars": true,
                                    "isSqlVariant": false,
                                    "isUdt": false,
                                    "isXml": false,
                                    "isJson": false,
                                    "sqlDbType": 22,
                                    "isHierarchyId": false,
                                    "isSqlXmlType": false,
                                    "isUnknownType": false,
                                    "isUpdatable": true,
                                    "allowDBNull": true,
                                    "baseCatalogName": null,
                                    "baseColumnName": null,
                                    "baseSchemaName": null,
                                    "baseServerName": null,
                                    "baseTableName": null,
                                    "columnName": "dept_name",
                                    "columnOrdinal": 0,
                                    "columnSize": 20,
                                    "isAliased": null,
                                    "isAutoIncrement": false,
                                    "isExpression": null,
                                    "isHidden": null,
                                    "isIdentity": false,
                                    "isKey": null,
                                    "isLong": false,
                                    "isReadOnly": false,
                                    "isUnique": false,
                                    "numericPrecision": 255,
                                    "numericScale": 255,
                                    "udtAssemblyQualifiedName": null,
                                    "dataType": "System.String, System.Private.CoreLib, Version=4.0.0.0, Culture=neutral, PublicKeyToken=7cec85d7bea7798e",
                                    "dataTypeName": "varchar"
                                },
                                {
                                    "isBytes": false,
                                    "isChars": false,
                                    "isSqlVariant": false,
                                    "isUdt": false,
                                    "isXml": false,
                                    "isJson": false,
                                    "sqlDbType": 5,
                                    "isHierarchyId": false,
                                    "isSqlXmlType": false,
                                    "isUnknownType": false,
                                    "isUpdatable": false,
                                    "allowDBNull": true,
                                    "baseCatalogName": null,
                                    "baseColumnName": null,
                                    "baseSchemaName": null,
                                    "baseServerName": null,
                                    "baseTableName": null,
                                    "columnName": "sum_salary",
                                    "columnOrdinal": 1,
                                    "columnSize": 17,
                                    "isAliased": null,
                                    "isAutoIncrement": false,
                                    "isExpression": null,
                                    "isHidden": null,
                                    "isIdentity": false,
                                    "isKey": null,
                                    "isLong": false,
                                    "isReadOnly": true,
                                    "isUnique": false,
                                    "numericPrecision": 38,
                                    "numericScale": 2,
                                    "udtAssemblyQualifiedName": null,
                                    "dataType": "System.Decimal, System.Private.CoreLib, Version=4.0.0.0, Culture=neutral, PublicKeyToken=7cec85d7bea7798e",
                                    "dataTypeName": "decimal"
                                }
                            ],
                            "specialAction": {
                                "none": true,
                                "expectYukonXMLShowPlan": false
                            }
                        }
                    }
                }
            ],
            "execution_count": 58
        },
        {
            "cell_type": "markdown",
            "source": [
                "### The ``WITH`` clause\n",
                "\n",
                "The ``WITH``clause in the query defines a temporary table whose deifinition is available only to the query in which it occurs. It is useful as it may be used in the later parts of the same query. This clause is supported by many, but not all, database systems. Consider the following query, which finds those departments with the maximum budget"
            ],
            "metadata": {
                "azdata_cell_guid": "cd0a23e4-d3a5-410f-9d3f-f337fb3e9313"
            }
        },
        {
            "cell_type": "code",
            "source": [
                "WITH max_budget (maximum_value) AS ( \n",
                "    SELECT MAX(budget) AS maximum_value\n",
                "    FROM department\n",
                ") \n",
                "SELECT department.dept_name, max_budget.maximum_value AS [max budget]\n",
                "FROM department, max_budget\n",
                "WHERE department.budget = max_budget.maximum_value;\n",
                "GO"
            ],
            "metadata": {
                "azdata_cell_guid": "49dbca7d-aa7c-4161-90c4-f2fd39efdaa8"
            },
            "outputs": [
                {
                    "output_type": "display_data",
                    "data": {
                        "text/html": "(1 row affected)"
                    },
                    "metadata": {}
                },
                {
                    "output_type": "display_data",
                    "data": {
                        "text/html": "Total execution time: 00:00:00.010"
                    },
                    "metadata": {}
                },
                {
                    "output_type": "execute_result",
                    "execution_count": 60,
                    "data": {
                        "application/vnd.dataresource+json": {
                            "schema": {
                                "fields": [
                                    {
                                        "name": "dept_name"
                                    },
                                    {
                                        "name": "max budget"
                                    }
                                ]
                            },
                            "data": [
                                {
                                    "0": "Physics",
                                    "1": "942162.76"
                                }
                            ]
                        },
                        "text/html": "<table><tr><th>dept_name</th><th>max budget</th></tr><tr><td>Physics</td><td>942162.76</td></tr></table>"
                    },
                    "metadata": {
                        "resultSet": {
                            "id": 0,
                            "batchId": 0,
                            "rowCount": 1,
                            "complete": true,
                            "columnInfo": [
                                {
                                    "isBytes": false,
                                    "isChars": true,
                                    "isSqlVariant": false,
                                    "isUdt": false,
                                    "isXml": false,
                                    "isJson": false,
                                    "sqlDbType": 22,
                                    "isHierarchyId": false,
                                    "isSqlXmlType": false,
                                    "isUnknownType": false,
                                    "isUpdatable": true,
                                    "allowDBNull": false,
                                    "baseCatalogName": null,
                                    "baseColumnName": null,
                                    "baseSchemaName": null,
                                    "baseServerName": null,
                                    "baseTableName": null,
                                    "columnName": "dept_name",
                                    "columnOrdinal": 0,
                                    "columnSize": 20,
                                    "isAliased": null,
                                    "isAutoIncrement": false,
                                    "isExpression": null,
                                    "isHidden": null,
                                    "isIdentity": false,
                                    "isKey": null,
                                    "isLong": false,
                                    "isReadOnly": false,
                                    "isUnique": false,
                                    "numericPrecision": 255,
                                    "numericScale": 255,
                                    "udtAssemblyQualifiedName": null,
                                    "dataType": "System.String, System.Private.CoreLib, Version=4.0.0.0, Culture=neutral, PublicKeyToken=7cec85d7bea7798e",
                                    "dataTypeName": "varchar"
                                },
                                {
                                    "isBytes": false,
                                    "isChars": false,
                                    "isSqlVariant": false,
                                    "isUdt": false,
                                    "isXml": false,
                                    "isJson": false,
                                    "sqlDbType": 5,
                                    "isHierarchyId": false,
                                    "isSqlXmlType": false,
                                    "isUnknownType": false,
                                    "isUpdatable": false,
                                    "allowDBNull": true,
                                    "baseCatalogName": null,
                                    "baseColumnName": null,
                                    "baseSchemaName": null,
                                    "baseServerName": null,
                                    "baseTableName": null,
                                    "columnName": "max budget",
                                    "columnOrdinal": 1,
                                    "columnSize": 17,
                                    "isAliased": null,
                                    "isAutoIncrement": false,
                                    "isExpression": null,
                                    "isHidden": null,
                                    "isIdentity": false,
                                    "isKey": null,
                                    "isLong": false,
                                    "isReadOnly": true,
                                    "isUnique": false,
                                    "numericPrecision": 12,
                                    "numericScale": 2,
                                    "udtAssemblyQualifiedName": null,
                                    "dataType": "System.Decimal, System.Private.CoreLib, Version=4.0.0.0, Culture=neutral, PublicKeyToken=7cec85d7bea7798e",
                                    "dataTypeName": "decimal"
                                }
                            ],
                            "specialAction": {
                                "none": true,
                                "expectYukonXMLShowPlan": false
                            }
                        }
                    }
                }
            ],
            "execution_count": 60
        },
        {
            "cell_type": "markdown",
            "source": [
                "As another example, suppose we want to find all departments where the total salary is greater than the average of the total salary at all departments"
            ],
            "metadata": {
                "azdata_cell_guid": "2beda9ee-d108-479b-8193-7d4b5e9f0acd"
            }
        },
        {
            "cell_type": "code",
            "source": [
                "WITH dept_total (dept_name, total) AS (\n",
                "    SELECT dept_name, sum(salary)\n",
                "    FROM instructor\n",
                "    GROUP BY dept_name\n",
                "), dept_total_avg (total) AS (\n",
                "    SELECT AVG(total)\n",
                "    FROM dept_total\n",
                ")\n",
                "SELECT dept_name\n",
                "FROM dept_total, dept_total_avg\n",
                "WHERE dept_total.total > dept_total_avg.total;\n",
                "GO"
            ],
            "metadata": {
                "azdata_cell_guid": "2235196b-9557-4abf-8620-cb0cb30e50a1"
            },
            "outputs": [
                {
                    "output_type": "display_data",
                    "data": {
                        "text/html": "(8 rows affected)"
                    },
                    "metadata": {}
                },
                {
                    "output_type": "display_data",
                    "data": {
                        "text/html": "Total execution time: 00:00:00.010"
                    },
                    "metadata": {}
                },
                {
                    "output_type": "execute_result",
                    "execution_count": 68,
                    "data": {
                        "application/vnd.dataresource+json": {
                            "schema": {
                                "fields": [
                                    {
                                        "name": "dept_name"
                                    }
                                ]
                            },
                            "data": [
                                {
                                    "0": "Athletics"
                                },
                                {
                                    "0": "Cybernetics"
                                },
                                {
                                    "0": "Elec. Eng."
                                },
                                {
                                    "0": "English"
                                },
                                {
                                    "0": "Marketing"
                                },
                                {
                                    "0": "Physics"
                                },
                                {
                                    "0": "Pol. Sci."
                                },
                                {
                                    "0": "Statistics"
                                }
                            ]
                        },
                        "text/html": "<table><tr><th>dept_name</th></tr><tr><td>Athletics</td></tr><tr><td>Cybernetics</td></tr><tr><td>Elec. Eng.</td></tr><tr><td>English</td></tr><tr><td>Marketing</td></tr><tr><td>Physics</td></tr><tr><td>Pol. Sci.</td></tr><tr><td>Statistics</td></tr></table>"
                    },
                    "metadata": {
                        "resultSet": {
                            "id": 0,
                            "batchId": 0,
                            "rowCount": 8,
                            "complete": true,
                            "columnInfo": [
                                {
                                    "isBytes": false,
                                    "isChars": true,
                                    "isSqlVariant": false,
                                    "isUdt": false,
                                    "isXml": false,
                                    "isJson": false,
                                    "sqlDbType": 22,
                                    "isHierarchyId": false,
                                    "isSqlXmlType": false,
                                    "isUnknownType": false,
                                    "isUpdatable": true,
                                    "allowDBNull": true,
                                    "baseCatalogName": null,
                                    "baseColumnName": null,
                                    "baseSchemaName": null,
                                    "baseServerName": null,
                                    "baseTableName": null,
                                    "columnName": "dept_name",
                                    "columnOrdinal": 0,
                                    "columnSize": 20,
                                    "isAliased": null,
                                    "isAutoIncrement": false,
                                    "isExpression": null,
                                    "isHidden": null,
                                    "isIdentity": false,
                                    "isKey": null,
                                    "isLong": false,
                                    "isReadOnly": false,
                                    "isUnique": false,
                                    "numericPrecision": 255,
                                    "numericScale": 255,
                                    "udtAssemblyQualifiedName": null,
                                    "dataType": "System.String, System.Private.CoreLib, Version=4.0.0.0, Culture=neutral, PublicKeyToken=7cec85d7bea7798e",
                                    "dataTypeName": "varchar"
                                }
                            ],
                            "specialAction": {
                                "none": true,
                                "expectYukonXMLShowPlan": false
                            }
                        }
                    }
                }
            ],
            "execution_count": 68
        },
        {
            "cell_type": "markdown",
            "source": [
                "### Data insertion\n",
                "\n",
                "To insert data into a relation, we either\n",
                "\n",
                "1. specify a tuple to be inserted or\n",
                "2. write a query whose result is a set of tuples to be inserted. \n",
                "\n",
                "\n",
                "Requirements:\n",
                "\n",
                "* **The attribute values for inserted tuples must be members of the corresponding attribute's domain**\n",
                "* **Tuples must have the correct number of attributes**\n",
                "\n",
                "Below, we have few examples of some simple insertions of the first type"
            ],
            "metadata": {
                "azdata_cell_guid": "a8568cdb-ee10-4a87-8787-5e54c70892c8"
            }
        },
        {
            "cell_type": "code",
            "source": [
                "INSERT course (course_id, title, dept_name, credits)\n",
                "VALUES ('CS-437', 'Database systems', 'Comp. Sci.', 4)"
            ],
            "metadata": {
                "azdata_cell_guid": "e619c2bb-fc05-4dd9-a542-47ab76059032"
            },
            "outputs": [
                {
                    "output_type": "display_data",
                    "data": {
                        "text/html": "(1 row affected)"
                    },
                    "metadata": {}
                },
                {
                    "output_type": "display_data",
                    "data": {
                        "text/html": "Total execution time: 00:00:00.005"
                    },
                    "metadata": {}
                }
            ],
            "execution_count": 72
        },
        {
            "cell_type": "markdown",
            "source": [
                "### Updates\n",
                "\n",
                "In certain situations, we may wish to change a value in a tuple withou changing all values in the tuple. For this purpose, the ``UPDATE``statement can be used.\n",
                "\n",
                "Suppose that salary increases are being made and that the salaries of all instructors is increased by 5%."
            ],
            "metadata": {
                "azdata_cell_guid": "e526b24c-4910-4584-889a-9256fb5fb731"
            }
        },
        {
            "cell_type": "code",
            "source": [
                "-- before\n",
                "SELECT TOP 3 salary FROM instructor;\n",
                "GO\n",
                "\n",
                "-- update\n",
                "UPDATE instructor\n",
                "SET salary = salary * 1.05;\n",
                "GO\n",
                "\n",
                "-- after\n",
                "SELECT TOP 3 salary FROM instructor;\n",
                "GO"
            ],
            "metadata": {
                "azdata_cell_guid": "028df531-98de-40d8-9611-db40b4009d6d"
            },
            "outputs": [
                {
                    "output_type": "display_data",
                    "data": {
                        "text/html": "(3 rows affected)"
                    },
                    "metadata": {}
                },
                {
                    "output_type": "display_data",
                    "data": {
                        "text/html": "(50 rows affected)"
                    },
                    "metadata": {}
                },
                {
                    "output_type": "display_data",
                    "data": {
                        "text/html": "(3 rows affected)"
                    },
                    "metadata": {}
                },
                {
                    "output_type": "display_data",
                    "data": {
                        "text/html": "Total execution time: 00:00:00.011"
                    },
                    "metadata": {}
                },
                {
                    "output_type": "execute_result",
                    "execution_count": 74,
                    "data": {
                        "application/vnd.dataresource+json": {
                            "schema": {
                                "fields": [
                                    {
                                        "name": "salary"
                                    }
                                ]
                            },
                            "data": [
                                {
                                    "0": "32241.56"
                                },
                                {
                                    "0": "72140.88"
                                },
                                {
                                    "0": "98333.65"
                                }
                            ]
                        },
                        "text/html": "<table><tr><th>salary</th></tr><tr><td>32241.56</td></tr><tr><td>72140.88</td></tr><tr><td>98333.65</td></tr></table>"
                    },
                    "metadata": {
                        "resultSet": {
                            "id": 0,
                            "batchId": 0,
                            "rowCount": 3,
                            "complete": true,
                            "columnInfo": [
                                {
                                    "isBytes": false,
                                    "isChars": false,
                                    "isSqlVariant": false,
                                    "isUdt": false,
                                    "isXml": false,
                                    "isJson": false,
                                    "sqlDbType": 5,
                                    "isHierarchyId": false,
                                    "isSqlXmlType": false,
                                    "isUnknownType": false,
                                    "isUpdatable": true,
                                    "allowDBNull": true,
                                    "baseCatalogName": null,
                                    "baseColumnName": null,
                                    "baseSchemaName": null,
                                    "baseServerName": null,
                                    "baseTableName": null,
                                    "columnName": "salary",
                                    "columnOrdinal": 0,
                                    "columnSize": 17,
                                    "isAliased": null,
                                    "isAutoIncrement": false,
                                    "isExpression": null,
                                    "isHidden": null,
                                    "isIdentity": false,
                                    "isKey": null,
                                    "isLong": false,
                                    "isReadOnly": false,
                                    "isUnique": false,
                                    "numericPrecision": 8,
                                    "numericScale": 2,
                                    "udtAssemblyQualifiedName": null,
                                    "dataType": "System.Decimal, System.Private.CoreLib, Version=4.0.0.0, Culture=neutral, PublicKeyToken=7cec85d7bea7798e",
                                    "dataTypeName": "decimal"
                                }
                            ],
                            "specialAction": {
                                "none": true,
                                "expectYukonXMLShowPlan": false
                            }
                        }
                    }
                },
                {
                    "output_type": "execute_result",
                    "execution_count": 74,
                    "data": {
                        "application/vnd.dataresource+json": {
                            "schema": {
                                "fields": [
                                    {
                                        "name": "salary"
                                    }
                                ]
                            },
                            "data": [
                                {
                                    "0": "33853.64"
                                },
                                {
                                    "0": "75747.92"
                                },
                                {
                                    "0": "103250.33"
                                }
                            ]
                        },
                        "text/html": "<table><tr><th>salary</th></tr><tr><td>33853.64</td></tr><tr><td>75747.92</td></tr><tr><td>103250.33</td></tr></table>"
                    },
                    "metadata": {
                        "resultSet": {
                            "id": 0,
                            "batchId": 2,
                            "rowCount": 3,
                            "complete": true,
                            "columnInfo": [
                                {
                                    "isBytes": false,
                                    "isChars": false,
                                    "isSqlVariant": false,
                                    "isUdt": false,
                                    "isXml": false,
                                    "isJson": false,
                                    "sqlDbType": 5,
                                    "isHierarchyId": false,
                                    "isSqlXmlType": false,
                                    "isUnknownType": false,
                                    "isUpdatable": true,
                                    "allowDBNull": true,
                                    "baseCatalogName": null,
                                    "baseColumnName": null,
                                    "baseSchemaName": null,
                                    "baseServerName": null,
                                    "baseTableName": null,
                                    "columnName": "salary",
                                    "columnOrdinal": 0,
                                    "columnSize": 17,
                                    "isAliased": null,
                                    "isAutoIncrement": false,
                                    "isExpression": null,
                                    "isHidden": null,
                                    "isIdentity": false,
                                    "isKey": null,
                                    "isLong": false,
                                    "isReadOnly": false,
                                    "isUnique": false,
                                    "numericPrecision": 8,
                                    "numericScale": 2,
                                    "udtAssemblyQualifiedName": null,
                                    "dataType": "System.Decimal, System.Private.CoreLib, Version=4.0.0.0, Culture=neutral, PublicKeyToken=7cec85d7bea7798e",
                                    "dataTypeName": "decimal"
                                }
                            ],
                            "specialAction": {
                                "none": true,
                                "expectYukonXMLShowPlan": false
                            }
                        }
                    }
                }
            ],
            "execution_count": 74
        },
        {
            "cell_type": "markdown",
            "source": [
                "Also, imagine that a new endowment was attributed to the History department."
            ],
            "metadata": {
                "azdata_cell_guid": "2467ccc4-9d1f-40f0-8931-5f8b228fad55"
            }
        },
        {
            "cell_type": "code",
            "source": [
                "-- before\n",
                "SELECT * FROM department\n",
                "WHERE dept_name = 'History';\n",
                "GO\n",
                "\n",
                "-- History dept gets 10,000 more\n",
                "UPDATE department\n",
                "SET budget = budget + 10000.00\n",
                "WHERE dept_name = 'History'\n",
                "\n",
                "-- after\n",
                "SELECT * FROM department\n",
                "WHERE dept_name = 'History';\n",
                "GO"
            ],
            "metadata": {
                "azdata_cell_guid": "2bf64557-c2d1-4d92-a94c-cbd088d5422d"
            },
            "outputs": [
                {
                    "output_type": "display_data",
                    "data": {
                        "text/html": "(1 row affected)"
                    },
                    "metadata": {}
                },
                {
                    "output_type": "display_data",
                    "data": {
                        "text/html": "(1 row affected)"
                    },
                    "metadata": {}
                },
                {
                    "output_type": "display_data",
                    "data": {
                        "text/html": "(1 row affected)"
                    },
                    "metadata": {}
                },
                {
                    "output_type": "display_data",
                    "data": {
                        "text/html": "Total execution time: 00:00:00.008"
                    },
                    "metadata": {}
                },
                {
                    "output_type": "execute_result",
                    "execution_count": 81,
                    "data": {
                        "application/vnd.dataresource+json": {
                            "schema": {
                                "fields": [
                                    {
                                        "name": "dept_name"
                                    },
                                    {
                                        "name": "building"
                                    },
                                    {
                                        "name": "budget"
                                    }
                                ]
                            },
                            "data": [
                                {
                                    "0": "History",
                                    "1": "Taylor",
                                    "2": "699140.86"
                                }
                            ]
                        },
                        "text/html": "<table><tr><th>dept_name</th><th>building</th><th>budget</th></tr><tr><td>History</td><td>Taylor</td><td>699140.86</td></tr></table>"
                    },
                    "metadata": {
                        "resultSet": {
                            "id": 0,
                            "batchId": 0,
                            "rowCount": 1,
                            "complete": true,
                            "columnInfo": [
                                {
                                    "isBytes": false,
                                    "isChars": true,
                                    "isSqlVariant": false,
                                    "isUdt": false,
                                    "isXml": false,
                                    "isJson": false,
                                    "sqlDbType": 22,
                                    "isHierarchyId": false,
                                    "isSqlXmlType": false,
                                    "isUnknownType": false,
                                    "isUpdatable": true,
                                    "allowDBNull": false,
                                    "baseCatalogName": null,
                                    "baseColumnName": null,
                                    "baseSchemaName": null,
                                    "baseServerName": null,
                                    "baseTableName": null,
                                    "columnName": "dept_name",
                                    "columnOrdinal": 0,
                                    "columnSize": 20,
                                    "isAliased": null,
                                    "isAutoIncrement": false,
                                    "isExpression": null,
                                    "isHidden": null,
                                    "isIdentity": false,
                                    "isKey": null,
                                    "isLong": false,
                                    "isReadOnly": false,
                                    "isUnique": false,
                                    "numericPrecision": 255,
                                    "numericScale": 255,
                                    "udtAssemblyQualifiedName": null,
                                    "dataType": "System.String, System.Private.CoreLib, Version=4.0.0.0, Culture=neutral, PublicKeyToken=7cec85d7bea7798e",
                                    "dataTypeName": "varchar"
                                },
                                {
                                    "isBytes": false,
                                    "isChars": true,
                                    "isSqlVariant": false,
                                    "isUdt": false,
                                    "isXml": false,
                                    "isJson": false,
                                    "sqlDbType": 22,
                                    "isHierarchyId": false,
                                    "isSqlXmlType": false,
                                    "isUnknownType": false,
                                    "isUpdatable": true,
                                    "allowDBNull": true,
                                    "baseCatalogName": null,
                                    "baseColumnName": null,
                                    "baseSchemaName": null,
                                    "baseServerName": null,
                                    "baseTableName": null,
                                    "columnName": "building",
                                    "columnOrdinal": 1,
                                    "columnSize": 15,
                                    "isAliased": null,
                                    "isAutoIncrement": false,
                                    "isExpression": null,
                                    "isHidden": null,
                                    "isIdentity": false,
                                    "isKey": null,
                                    "isLong": false,
                                    "isReadOnly": false,
                                    "isUnique": false,
                                    "numericPrecision": 255,
                                    "numericScale": 255,
                                    "udtAssemblyQualifiedName": null,
                                    "dataType": "System.String, System.Private.CoreLib, Version=4.0.0.0, Culture=neutral, PublicKeyToken=7cec85d7bea7798e",
                                    "dataTypeName": "varchar"
                                },
                                {
                                    "isBytes": false,
                                    "isChars": false,
                                    "isSqlVariant": false,
                                    "isUdt": false,
                                    "isXml": false,
                                    "isJson": false,
                                    "sqlDbType": 5,
                                    "isHierarchyId": false,
                                    "isSqlXmlType": false,
                                    "isUnknownType": false,
                                    "isUpdatable": true,
                                    "allowDBNull": true,
                                    "baseCatalogName": null,
                                    "baseColumnName": null,
                                    "baseSchemaName": null,
                                    "baseServerName": null,
                                    "baseTableName": null,
                                    "columnName": "budget",
                                    "columnOrdinal": 2,
                                    "columnSize": 17,
                                    "isAliased": null,
                                    "isAutoIncrement": false,
                                    "isExpression": null,
                                    "isHidden": null,
                                    "isIdentity": false,
                                    "isKey": null,
                                    "isLong": false,
                                    "isReadOnly": false,
                                    "isUnique": false,
                                    "numericPrecision": 12,
                                    "numericScale": 2,
                                    "udtAssemblyQualifiedName": null,
                                    "dataType": "System.Decimal, System.Private.CoreLib, Version=4.0.0.0, Culture=neutral, PublicKeyToken=7cec85d7bea7798e",
                                    "dataTypeName": "decimal"
                                }
                            ],
                            "specialAction": {
                                "none": true,
                                "expectYukonXMLShowPlan": false
                            }
                        }
                    }
                },
                {
                    "output_type": "execute_result",
                    "execution_count": 81,
                    "data": {
                        "application/vnd.dataresource+json": {
                            "schema": {
                                "fields": [
                                    {
                                        "name": "dept_name"
                                    },
                                    {
                                        "name": "building"
                                    },
                                    {
                                        "name": "budget"
                                    }
                                ]
                            },
                            "data": [
                                {
                                    "0": "History",
                                    "1": "Taylor",
                                    "2": "709140.86"
                                }
                            ]
                        },
                        "text/html": "<table><tr><th>dept_name</th><th>building</th><th>budget</th></tr><tr><td>History</td><td>Taylor</td><td>709140.86</td></tr></table>"
                    },
                    "metadata": {
                        "resultSet": {
                            "id": 0,
                            "batchId": 1,
                            "rowCount": 1,
                            "complete": true,
                            "columnInfo": [
                                {
                                    "isBytes": false,
                                    "isChars": true,
                                    "isSqlVariant": false,
                                    "isUdt": false,
                                    "isXml": false,
                                    "isJson": false,
                                    "sqlDbType": 22,
                                    "isHierarchyId": false,
                                    "isSqlXmlType": false,
                                    "isUnknownType": false,
                                    "isUpdatable": true,
                                    "allowDBNull": false,
                                    "baseCatalogName": null,
                                    "baseColumnName": null,
                                    "baseSchemaName": null,
                                    "baseServerName": null,
                                    "baseTableName": null,
                                    "columnName": "dept_name",
                                    "columnOrdinal": 0,
                                    "columnSize": 20,
                                    "isAliased": null,
                                    "isAutoIncrement": false,
                                    "isExpression": null,
                                    "isHidden": null,
                                    "isIdentity": false,
                                    "isKey": null,
                                    "isLong": false,
                                    "isReadOnly": false,
                                    "isUnique": false,
                                    "numericPrecision": 255,
                                    "numericScale": 255,
                                    "udtAssemblyQualifiedName": null,
                                    "dataType": "System.String, System.Private.CoreLib, Version=4.0.0.0, Culture=neutral, PublicKeyToken=7cec85d7bea7798e",
                                    "dataTypeName": "varchar"
                                },
                                {
                                    "isBytes": false,
                                    "isChars": true,
                                    "isSqlVariant": false,
                                    "isUdt": false,
                                    "isXml": false,
                                    "isJson": false,
                                    "sqlDbType": 22,
                                    "isHierarchyId": false,
                                    "isSqlXmlType": false,
                                    "isUnknownType": false,
                                    "isUpdatable": true,
                                    "allowDBNull": true,
                                    "baseCatalogName": null,
                                    "baseColumnName": null,
                                    "baseSchemaName": null,
                                    "baseServerName": null,
                                    "baseTableName": null,
                                    "columnName": "building",
                                    "columnOrdinal": 1,
                                    "columnSize": 15,
                                    "isAliased": null,
                                    "isAutoIncrement": false,
                                    "isExpression": null,
                                    "isHidden": null,
                                    "isIdentity": false,
                                    "isKey": null,
                                    "isLong": false,
                                    "isReadOnly": false,
                                    "isUnique": false,
                                    "numericPrecision": 255,
                                    "numericScale": 255,
                                    "udtAssemblyQualifiedName": null,
                                    "dataType": "System.String, System.Private.CoreLib, Version=4.0.0.0, Culture=neutral, PublicKeyToken=7cec85d7bea7798e",
                                    "dataTypeName": "varchar"
                                },
                                {
                                    "isBytes": false,
                                    "isChars": false,
                                    "isSqlVariant": false,
                                    "isUdt": false,
                                    "isXml": false,
                                    "isJson": false,
                                    "sqlDbType": 5,
                                    "isHierarchyId": false,
                                    "isSqlXmlType": false,
                                    "isUnknownType": false,
                                    "isUpdatable": true,
                                    "allowDBNull": true,
                                    "baseCatalogName": null,
                                    "baseColumnName": null,
                                    "baseSchemaName": null,
                                    "baseServerName": null,
                                    "baseTableName": null,
                                    "columnName": "budget",
                                    "columnOrdinal": 2,
                                    "columnSize": 17,
                                    "isAliased": null,
                                    "isAutoIncrement": false,
                                    "isExpression": null,
                                    "isHidden": null,
                                    "isIdentity": false,
                                    "isKey": null,
                                    "isLong": false,
                                    "isReadOnly": false,
                                    "isUnique": false,
                                    "numericPrecision": 12,
                                    "numericScale": 2,
                                    "udtAssemblyQualifiedName": null,
                                    "dataType": "System.Decimal, System.Private.CoreLib, Version=4.0.0.0, Culture=neutral, PublicKeyToken=7cec85d7bea7798e",
                                    "dataTypeName": "decimal"
                                }
                            ],
                            "specialAction": {
                                "none": true,
                                "expectYukonXMLShowPlan": false
                            }
                        }
                    }
                }
            ],
            "execution_count": 81
        },
        {
            "cell_type": "markdown",
            "source": [
                "Give a 20% raise to all professors which have salaries below average."
            ],
            "metadata": {
                "azdata_cell_guid": "b773972f-8ded-47c9-8b66-7e39e715d1a3"
            }
        },
        {
            "cell_type": "code",
            "source": [
                "-- before\n",
                "SELECT salary FROM instructor;\n",
                "GO\n",
                "\n",
                "-- update\n",
                "update instructor\n",
                "SET salary = salary * 1.20\n",
                "WHERE salary < (SELECT AVG(salary)\n",
                "                FROM instructor)\n",
                "\n",
                "-- after\n",
                "SELECT salary FROM instructor;\n",
                "GO"
            ],
            "metadata": {
                "azdata_cell_guid": "22fe1b38-c9b3-48e2-ba1f-760a6dc6a30a"
            },
            "outputs": [
                {
                    "output_type": "display_data",
                    "data": {
                        "text/html": "(50 rows affected)"
                    },
                    "metadata": {}
                },
                {
                    "output_type": "display_data",
                    "data": {
                        "text/html": "(23 rows affected)"
                    },
                    "metadata": {}
                },
                {
                    "output_type": "display_data",
                    "data": {
                        "text/html": "(50 rows affected)"
                    },
                    "metadata": {}
                },
                {
                    "output_type": "display_data",
                    "data": {
                        "text/html": "Total execution time: 00:00:00.010"
                    },
                    "metadata": {}
                },
                {
                    "output_type": "execute_result",
                    "execution_count": 82,
                    "data": {
                        "application/vnd.dataresource+json": {
                            "schema": {
                                "fields": [
                                    {
                                        "name": "salary"
                                    }
                                ]
                            },
                            "data": [
                                {
                                    "0": "33853.64"
                                },
                                {
                                    "0": "75747.92"
                                },
                                {
                                    "0": "103250.33"
                                },
                                {
                                    "0": "130883.98"
                                },
                                {
                                    "0": "62691.81"
                                },
                                {
                                    "0": "95436.27"
                                },
                                {
                                    "0": "36774.34"
                                },
                                {
                                    "0": "89232.07"
                                },
                                {
                                    "0": "74918.99"
                                },
                                {
                                    "0": "86661.09"
                                },
                                {
                                    "0": "84837.72"
                                },
                                {
                                    "0": "121242.57"
                                },
                                {
                                    "0": "65708.59"
                                },
                                {
                                    "0": "45958.88"
                                },
                                {
                                    "0": "109791.55"
                                },
                                {
                                    "0": "64456.94"
                                },
                                {
                                    "0": "53006.13"
                                },
                                {
                                    "0": "93231.02"
                                },
                                {
                                    "0": "35986.30"
                                },
                                {
                                    "0": "83023.58"
                                },
                                {
                                    "0": "113377.39"
                                },
                                {
                                    "0": "91927.29"
                                },
                                {
                                    "0": "113412.40"
                                },
                                {
                                    "0": "34199.03"
                                },
                                {
                                    "0": "92355.91"
                                },
                                {
                                    "0": "46164.60"
                                },
                                {
                                    "0": "69450.41"
                                },
                                {
                                    "0": "51243.55"
                                },
                                {
                                    "0": "108304.21"
                                },
                                {
                                    "0": "99050.69"
                                },
                                {
                                    "0": "47576.06"
                                },
                                {
                                    "0": "110576.95"
                                },
                                {
                                    "0": "83860.30"
                                },
                                {
                                    "0": "48717.47"
                                },
                                {
                                    "0": "94539.99"
                                },
                                {
                                    "0": "127199.09"
                                },
                                {
                                    "0": "111882.47"
                                },
                                {
                                    "0": "104351.72"
                                },
                                {
                                    "0": "62268.80"
                                },
                                {
                                    "0": "49672.46"
                                },
                                {
                                    "0": "94296.12"
                                },
                                {
                                    "0": "47815.24"
                                },
                                {
                                    "0": "80887.99"
                                },
                                {
                                    "0": "123728.33"
                                },
                                {
                                    "0": "60697.44"
                                },
                                {
                                    "0": "57545.37"
                                },
                                {
                                    "0": "124051.18"
                                },
                                {
                                    "0": "125917.48"
                                },
                                {
                                    "0": "54229.95"
                                },
                                {
                                    "0": "98016.27"
                                }
                            ]
                        },
                        "text/html": "<table><tr><th>salary</th></tr><tr><td>33853.64</td></tr><tr><td>75747.92</td></tr><tr><td>103250.33</td></tr><tr><td>130883.98</td></tr><tr><td>62691.81</td></tr><tr><td>95436.27</td></tr><tr><td>36774.34</td></tr><tr><td>89232.07</td></tr><tr><td>74918.99</td></tr><tr><td>86661.09</td></tr><tr><td>84837.72</td></tr><tr><td>121242.57</td></tr><tr><td>65708.59</td></tr><tr><td>45958.88</td></tr><tr><td>109791.55</td></tr><tr><td>64456.94</td></tr><tr><td>53006.13</td></tr><tr><td>93231.02</td></tr><tr><td>35986.30</td></tr><tr><td>83023.58</td></tr><tr><td>113377.39</td></tr><tr><td>91927.29</td></tr><tr><td>113412.40</td></tr><tr><td>34199.03</td></tr><tr><td>92355.91</td></tr><tr><td>46164.60</td></tr><tr><td>69450.41</td></tr><tr><td>51243.55</td></tr><tr><td>108304.21</td></tr><tr><td>99050.69</td></tr><tr><td>47576.06</td></tr><tr><td>110576.95</td></tr><tr><td>83860.30</td></tr><tr><td>48717.47</td></tr><tr><td>94539.99</td></tr><tr><td>127199.09</td></tr><tr><td>111882.47</td></tr><tr><td>104351.72</td></tr><tr><td>62268.80</td></tr><tr><td>49672.46</td></tr><tr><td>94296.12</td></tr><tr><td>47815.24</td></tr><tr><td>80887.99</td></tr><tr><td>123728.33</td></tr><tr><td>60697.44</td></tr><tr><td>57545.37</td></tr><tr><td>124051.18</td></tr><tr><td>125917.48</td></tr><tr><td>54229.95</td></tr><tr><td>98016.27</td></tr></table>"
                    },
                    "metadata": {
                        "resultSet": {
                            "id": 0,
                            "batchId": 0,
                            "rowCount": 50,
                            "complete": true,
                            "columnInfo": [
                                {
                                    "isBytes": false,
                                    "isChars": false,
                                    "isSqlVariant": false,
                                    "isUdt": false,
                                    "isXml": false,
                                    "isJson": false,
                                    "sqlDbType": 5,
                                    "isHierarchyId": false,
                                    "isSqlXmlType": false,
                                    "isUnknownType": false,
                                    "isUpdatable": true,
                                    "allowDBNull": true,
                                    "baseCatalogName": null,
                                    "baseColumnName": null,
                                    "baseSchemaName": null,
                                    "baseServerName": null,
                                    "baseTableName": null,
                                    "columnName": "salary",
                                    "columnOrdinal": 0,
                                    "columnSize": 17,
                                    "isAliased": null,
                                    "isAutoIncrement": false,
                                    "isExpression": null,
                                    "isHidden": null,
                                    "isIdentity": false,
                                    "isKey": null,
                                    "isLong": false,
                                    "isReadOnly": false,
                                    "isUnique": false,
                                    "numericPrecision": 8,
                                    "numericScale": 2,
                                    "udtAssemblyQualifiedName": null,
                                    "dataType": "System.Decimal, System.Private.CoreLib, Version=4.0.0.0, Culture=neutral, PublicKeyToken=7cec85d7bea7798e",
                                    "dataTypeName": "decimal"
                                }
                            ],
                            "specialAction": {
                                "none": true,
                                "expectYukonXMLShowPlan": false
                            }
                        }
                    }
                },
                {
                    "output_type": "execute_result",
                    "execution_count": 82,
                    "data": {
                        "application/vnd.dataresource+json": {
                            "schema": {
                                "fields": [
                                    {
                                        "name": "salary"
                                    }
                                ]
                            },
                            "data": [
                                {
                                    "0": "40624.37"
                                },
                                {
                                    "0": "90897.50"
                                },
                                {
                                    "0": "103250.33"
                                },
                                {
                                    "0": "130883.98"
                                },
                                {
                                    "0": "75230.17"
                                },
                                {
                                    "0": "95436.27"
                                },
                                {
                                    "0": "44129.21"
                                },
                                {
                                    "0": "89232.07"
                                },
                                {
                                    "0": "89902.79"
                                },
                                {
                                    "0": "86661.09"
                                },
                                {
                                    "0": "84837.72"
                                },
                                {
                                    "0": "121242.57"
                                },
                                {
                                    "0": "78850.31"
                                },
                                {
                                    "0": "55150.66"
                                },
                                {
                                    "0": "109791.55"
                                },
                                {
                                    "0": "77348.33"
                                },
                                {
                                    "0": "63607.36"
                                },
                                {
                                    "0": "93231.02"
                                },
                                {
                                    "0": "43183.56"
                                },
                                {
                                    "0": "83023.58"
                                },
                                {
                                    "0": "113377.39"
                                },
                                {
                                    "0": "91927.29"
                                },
                                {
                                    "0": "113412.40"
                                },
                                {
                                    "0": "41038.84"
                                },
                                {
                                    "0": "92355.91"
                                },
                                {
                                    "0": "55397.52"
                                },
                                {
                                    "0": "83340.49"
                                },
                                {
                                    "0": "61492.26"
                                },
                                {
                                    "0": "108304.21"
                                },
                                {
                                    "0": "99050.69"
                                },
                                {
                                    "0": "57091.27"
                                },
                                {
                                    "0": "110576.95"
                                },
                                {
                                    "0": "83860.30"
                                },
                                {
                                    "0": "58460.96"
                                },
                                {
                                    "0": "94539.99"
                                },
                                {
                                    "0": "127199.09"
                                },
                                {
                                    "0": "111882.47"
                                },
                                {
                                    "0": "104351.72"
                                },
                                {
                                    "0": "74722.56"
                                },
                                {
                                    "0": "59606.95"
                                },
                                {
                                    "0": "94296.12"
                                },
                                {
                                    "0": "57378.29"
                                },
                                {
                                    "0": "97065.59"
                                },
                                {
                                    "0": "123728.33"
                                },
                                {
                                    "0": "72836.93"
                                },
                                {
                                    "0": "69054.44"
                                },
                                {
                                    "0": "124051.18"
                                },
                                {
                                    "0": "125917.48"
                                },
                                {
                                    "0": "65075.94"
                                },
                                {
                                    "0": "98016.27"
                                }
                            ]
                        },
                        "text/html": "<table><tr><th>salary</th></tr><tr><td>40624.37</td></tr><tr><td>90897.50</td></tr><tr><td>103250.33</td></tr><tr><td>130883.98</td></tr><tr><td>75230.17</td></tr><tr><td>95436.27</td></tr><tr><td>44129.21</td></tr><tr><td>89232.07</td></tr><tr><td>89902.79</td></tr><tr><td>86661.09</td></tr><tr><td>84837.72</td></tr><tr><td>121242.57</td></tr><tr><td>78850.31</td></tr><tr><td>55150.66</td></tr><tr><td>109791.55</td></tr><tr><td>77348.33</td></tr><tr><td>63607.36</td></tr><tr><td>93231.02</td></tr><tr><td>43183.56</td></tr><tr><td>83023.58</td></tr><tr><td>113377.39</td></tr><tr><td>91927.29</td></tr><tr><td>113412.40</td></tr><tr><td>41038.84</td></tr><tr><td>92355.91</td></tr><tr><td>55397.52</td></tr><tr><td>83340.49</td></tr><tr><td>61492.26</td></tr><tr><td>108304.21</td></tr><tr><td>99050.69</td></tr><tr><td>57091.27</td></tr><tr><td>110576.95</td></tr><tr><td>83860.30</td></tr><tr><td>58460.96</td></tr><tr><td>94539.99</td></tr><tr><td>127199.09</td></tr><tr><td>111882.47</td></tr><tr><td>104351.72</td></tr><tr><td>74722.56</td></tr><tr><td>59606.95</td></tr><tr><td>94296.12</td></tr><tr><td>57378.29</td></tr><tr><td>97065.59</td></tr><tr><td>123728.33</td></tr><tr><td>72836.93</td></tr><tr><td>69054.44</td></tr><tr><td>124051.18</td></tr><tr><td>125917.48</td></tr><tr><td>65075.94</td></tr><tr><td>98016.27</td></tr></table>"
                    },
                    "metadata": {
                        "resultSet": {
                            "id": 0,
                            "batchId": 1,
                            "rowCount": 50,
                            "complete": true,
                            "columnInfo": [
                                {
                                    "isBytes": false,
                                    "isChars": false,
                                    "isSqlVariant": false,
                                    "isUdt": false,
                                    "isXml": false,
                                    "isJson": false,
                                    "sqlDbType": 5,
                                    "isHierarchyId": false,
                                    "isSqlXmlType": false,
                                    "isUnknownType": false,
                                    "isUpdatable": true,
                                    "allowDBNull": true,
                                    "baseCatalogName": null,
                                    "baseColumnName": null,
                                    "baseSchemaName": null,
                                    "baseServerName": null,
                                    "baseTableName": null,
                                    "columnName": "salary",
                                    "columnOrdinal": 0,
                                    "columnSize": 17,
                                    "isAliased": null,
                                    "isAutoIncrement": false,
                                    "isExpression": null,
                                    "isHidden": null,
                                    "isIdentity": false,
                                    "isKey": null,
                                    "isLong": false,
                                    "isReadOnly": false,
                                    "isUnique": false,
                                    "numericPrecision": 8,
                                    "numericScale": 2,
                                    "udtAssemblyQualifiedName": null,
                                    "dataType": "System.Decimal, System.Private.CoreLib, Version=4.0.0.0, Culture=neutral, PublicKeyToken=7cec85d7bea7798e",
                                    "dataTypeName": "decimal"
                                }
                            ],
                            "specialAction": {
                                "none": true,
                                "expectYukonXMLShowPlan": false
                            }
                        }
                    }
                }
            ],
            "execution_count": 82
        },
        {
            "cell_type": "markdown",
            "source": [
                "#### Using the `CASE ... WHEN ...`\n",
                "\n",
                "SQL provides a realy helpful <code>CASE..WHEN...</code> construct we can use to perform both updates with a single update statement, thus avoiding the problem with the order of the updates. For exemple, 5% increase for salaries smaller or equal to 100,000, 3% for smaller or equal to 70,000 and no raise for the remaining."
            ],
            "metadata": {
                "azdata_cell_guid": "db43e0d1-4342-4b22-b3e0-5ef1ba55fa1c"
            }
        },
        {
            "cell_type": "code",
            "source": [
                "UPDATE instructor\n",
                "SET salary = CASE \n",
                "                WHEN salary <= 100000.00 THEN salary * 1.05\n",
                "                WHEN salary <= 70000.00 THEN salary * 1.03\n",
                "                ELSE salary\n",
                "             END"
            ],
            "metadata": {
                "azdata_cell_guid": "8ec23bbd-ebfb-4e13-a8d2-b0e443b8d28b"
            },
            "outputs": [
                {
                    "output_type": "display_data",
                    "data": {
                        "text/html": "(50 rows affected)"
                    },
                    "metadata": {}
                },
                {
                    "output_type": "display_data",
                    "data": {
                        "text/html": "Total execution time: 00:00:00.005"
                    },
                    "metadata": {}
                }
            ],
            "execution_count": 84
        },
        {
            "cell_type": "code",
            "source": [
                "-- check\n",
                "SELECT salary FROM instructor;\n",
                "GO\n",
                "\n",
                ""
            ],
            "metadata": {
                "azdata_cell_guid": "d4913153-f5e9-4d93-b882-f9a81c51ad93"
            },
            "outputs": [
                {
                    "output_type": "display_data",
                    "data": {
                        "text/html": "(50 rows affected)"
                    },
                    "metadata": {}
                },
                {
                    "output_type": "display_data",
                    "data": {
                        "text/html": "Total execution time: 00:00:00.002"
                    },
                    "metadata": {}
                },
                {
                    "output_type": "execute_result",
                    "execution_count": 85,
                    "data": {
                        "application/vnd.dataresource+json": {
                            "schema": {
                                "fields": [
                                    {
                                        "name": "salary"
                                    }
                                ]
                            },
                            "data": [
                                {
                                    "0": "42655.59"
                                },
                                {
                                    "0": "95442.38"
                                },
                                {
                                    "0": "103250.33"
                                },
                                {
                                    "0": "130883.98"
                                },
                                {
                                    "0": "78991.68"
                                },
                                {
                                    "0": "100208.08"
                                },
                                {
                                    "0": "46335.67"
                                },
                                {
                                    "0": "93693.67"
                                },
                                {
                                    "0": "94397.93"
                                },
                                {
                                    "0": "90994.14"
                                },
                                {
                                    "0": "89079.61"
                                },
                                {
                                    "0": "121242.57"
                                },
                                {
                                    "0": "82792.83"
                                },
                                {
                                    "0": "57908.19"
                                },
                                {
                                    "0": "109791.55"
                                },
                                {
                                    "0": "81215.75"
                                },
                                {
                                    "0": "66787.73"
                                },
                                {
                                    "0": "97892.57"
                                },
                                {
                                    "0": "45342.74"
                                },
                                {
                                    "0": "87174.76"
                                },
                                {
                                    "0": "113377.39"
                                },
                                {
                                    "0": "96523.65"
                                },
                                {
                                    "0": "113412.40"
                                },
                                {
                                    "0": "43090.78"
                                },
                                {
                                    "0": "96973.71"
                                },
                                {
                                    "0": "58167.40"
                                },
                                {
                                    "0": "87507.51"
                                },
                                {
                                    "0": "64566.87"
                                },
                                {
                                    "0": "108304.21"
                                },
                                {
                                    "0": "104003.22"
                                },
                                {
                                    "0": "59945.83"
                                },
                                {
                                    "0": "110576.95"
                                },
                                {
                                    "0": "88053.32"
                                },
                                {
                                    "0": "61384.01"
                                },
                                {
                                    "0": "99266.99"
                                },
                                {
                                    "0": "127199.09"
                                },
                                {
                                    "0": "111882.47"
                                },
                                {
                                    "0": "104351.72"
                                },
                                {
                                    "0": "78458.69"
                                },
                                {
                                    "0": "62587.30"
                                },
                                {
                                    "0": "99010.93"
                                },
                                {
                                    "0": "60247.20"
                                },
                                {
                                    "0": "101918.87"
                                },
                                {
                                    "0": "123728.33"
                                },
                                {
                                    "0": "76478.78"
                                },
                                {
                                    "0": "72507.16"
                                },
                                {
                                    "0": "124051.18"
                                },
                                {
                                    "0": "125917.48"
                                },
                                {
                                    "0": "68329.74"
                                },
                                {
                                    "0": "102917.08"
                                }
                            ]
                        },
                        "text/html": "<table><tr><th>salary</th></tr><tr><td>42655.59</td></tr><tr><td>95442.38</td></tr><tr><td>103250.33</td></tr><tr><td>130883.98</td></tr><tr><td>78991.68</td></tr><tr><td>100208.08</td></tr><tr><td>46335.67</td></tr><tr><td>93693.67</td></tr><tr><td>94397.93</td></tr><tr><td>90994.14</td></tr><tr><td>89079.61</td></tr><tr><td>121242.57</td></tr><tr><td>82792.83</td></tr><tr><td>57908.19</td></tr><tr><td>109791.55</td></tr><tr><td>81215.75</td></tr><tr><td>66787.73</td></tr><tr><td>97892.57</td></tr><tr><td>45342.74</td></tr><tr><td>87174.76</td></tr><tr><td>113377.39</td></tr><tr><td>96523.65</td></tr><tr><td>113412.40</td></tr><tr><td>43090.78</td></tr><tr><td>96973.71</td></tr><tr><td>58167.40</td></tr><tr><td>87507.51</td></tr><tr><td>64566.87</td></tr><tr><td>108304.21</td></tr><tr><td>104003.22</td></tr><tr><td>59945.83</td></tr><tr><td>110576.95</td></tr><tr><td>88053.32</td></tr><tr><td>61384.01</td></tr><tr><td>99266.99</td></tr><tr><td>127199.09</td></tr><tr><td>111882.47</td></tr><tr><td>104351.72</td></tr><tr><td>78458.69</td></tr><tr><td>62587.30</td></tr><tr><td>99010.93</td></tr><tr><td>60247.20</td></tr><tr><td>101918.87</td></tr><tr><td>123728.33</td></tr><tr><td>76478.78</td></tr><tr><td>72507.16</td></tr><tr><td>124051.18</td></tr><tr><td>125917.48</td></tr><tr><td>68329.74</td></tr><tr><td>102917.08</td></tr></table>"
                    },
                    "metadata": {
                        "resultSet": {
                            "id": 0,
                            "batchId": 0,
                            "rowCount": 50,
                            "complete": true,
                            "columnInfo": [
                                {
                                    "isBytes": false,
                                    "isChars": false,
                                    "isSqlVariant": false,
                                    "isUdt": false,
                                    "isXml": false,
                                    "isJson": false,
                                    "sqlDbType": 5,
                                    "isHierarchyId": false,
                                    "isSqlXmlType": false,
                                    "isUnknownType": false,
                                    "isUpdatable": true,
                                    "allowDBNull": true,
                                    "baseCatalogName": null,
                                    "baseColumnName": null,
                                    "baseSchemaName": null,
                                    "baseServerName": null,
                                    "baseTableName": null,
                                    "columnName": "salary",
                                    "columnOrdinal": 0,
                                    "columnSize": 17,
                                    "isAliased": null,
                                    "isAutoIncrement": false,
                                    "isExpression": null,
                                    "isHidden": null,
                                    "isIdentity": false,
                                    "isKey": null,
                                    "isLong": false,
                                    "isReadOnly": false,
                                    "isUnique": false,
                                    "numericPrecision": 8,
                                    "numericScale": 2,
                                    "udtAssemblyQualifiedName": null,
                                    "dataType": "System.Decimal, System.Private.CoreLib, Version=4.0.0.0, Culture=neutral, PublicKeyToken=7cec85d7bea7798e",
                                    "dataTypeName": "decimal"
                                }
                            ],
                            "specialAction": {
                                "none": true,
                                "expectYukonXMLShowPlan": false
                            }
                        }
                    }
                }
            ],
            "execution_count": 85
        },
        {
            "cell_type": "code",
            "source": [
                "-- clean up \n",
                "IF EXISTS (SELECT * FROM sys.databases WHERE name = 'uni')\n",
                "    BEGIN\n",
                "        USE master\n",
                "        DROP DATABASE uni\n",
                "    END;\n",
                "    GO"
            ],
            "metadata": {
                "azdata_cell_guid": "661ac821-9f5f-48ec-b754-a7e4ccaa71d3"
            },
            "outputs": [
                {
                    "output_type": "display_data",
                    "data": {
                        "text/html": "Commands completed successfully."
                    },
                    "metadata": {}
                },
                {
                    "output_type": "display_data",
                    "data": {
                        "text/html": "Total execution time: 00:00:00.100"
                    },
                    "metadata": {}
                }
            ],
            "execution_count": 86
        },
        {
            "cell_type": "markdown",
            "source": [
                "## Practice exercises\n",
                "\n",
                "<strong>NOTE: be sure to run the university DDL and DML scripts in the scripts folder before doing them.</strong><br>\n",
                "\n",
                "<em>Exercises from Silberchatz et al chapter 3</em>\n",
                "\n",
                "Write the following queries in SQL, using the university schema.\n",
                "\n",
                "a. Find the titles of courses in the Comp. Sci. department that have 3 credits.\n",
                "\n",
                "b. Find the IDs of all students who were taught by an instructor named 'Bawa'; make sure there are no duplicates in the result.\n",
                "\n",
                "c. Find the highest salary of any instructor.\n",
                "\n",
                "d. Find all instructors earning the highest salary (there may be more than one with the same salary).\n",
                "\n",
                "e. Find the enrollment of each section that was offered in Fall 2017.\n",
                "\n",
                "f. Find the maximum enrollment, across all sections, in Fall 2017.\n",
                "\n",
                "g. Find the sections that had the maximum enrollment in Fall 2017."
            ],
            "metadata": {
                "azdata_cell_guid": "e6a5ae54-6a63-497e-be20-138203fef9d1"
            }
        },
        {
            "cell_type": "code",
            "source": [
                "-- query for displaying all the tables along with all their features and features metadata\n",
                "SELECT T.name AS Table_Name ,\n",
                "    C.name AS Column_Name ,\n",
                "    P.name AS Data_Type ,\n",
                "    P.max_length AS Size ,\n",
                "    CAST(P.precision AS VARCHAR) + '/' + CAST(P.scale AS VARCHAR) AS Precision_Scale\n",
                "FROM   sys.objects AS T\n",
                "    JOIN sys.columns AS C ON T.object_id = C.object_id\n",
                "    JOIN sys.types AS P ON C.system_type_id = P.system_type_id\n",
                "WHERE  T.type_desc = 'USER_TABLE';"
            ],
            "metadata": {
                "azdata_cell_guid": "1b76590f-2115-4ab2-892a-be5ae71649c1"
            },
            "outputs": [
{
    "output_type": "display_data",
    "data": {
        "text/html": "(46 rows affected)"
    },
    "metadata": {}
}, {
    "output_type": "display_data",
    "data": {
        "text/html": "Total execution time: 00:00:00.034"
    },
    "metadata": {}
}, {
    "output_type": "execute_result",
    "metadata": {
        "resultSet": {
            "id": 0,
            "batchId": 0,
            "rowCount": 46,
            "complete": true,
            "columnInfo": [
                {
                    "isBytes": false,
                    "isChars": true,
                    "isSqlVariant": false,
                    "isUdt": false,
                    "isXml": false,
                    "isJson": false,
                    "sqlDbType": 12,
                    "isHierarchyId": false,
                    "isSqlXmlType": false,
                    "isUnknownType": false,
                    "isUpdatable": true,
                    "allowDBNull": false,
                    "baseCatalogName": null,
                    "baseColumnName": null,
                    "baseSchemaName": null,
                    "baseServerName": null,
                    "baseTableName": null,
                    "columnName": "Table_Name",
                    "columnOrdinal": 0,
                    "columnSize": 128,
                    "isAliased": null,
                    "isAutoIncrement": false,
                    "isExpression": null,
                    "isHidden": null,
                    "isIdentity": false,
                    "isKey": null,
                    "isLong": false,
                    "isReadOnly": false,
                    "isUnique": false,
                    "numericPrecision": 255,
                    "numericScale": 255,
                    "udtAssemblyQualifiedName": null,
                    "dataType": "System.String, System.Private.CoreLib, Version=4.0.0.0, Culture=neutral, PublicKeyToken=7cec85d7bea7798e",
                    "dataTypeName": "nvarchar"
                },
                {
                    "isBytes": false,
                    "isChars": true,
                    "isSqlVariant": false,
                    "isUdt": false,
                    "isXml": false,
                    "isJson": false,
                    "sqlDbType": 12,
                    "isHierarchyId": false,
                    "isSqlXmlType": false,
                    "isUnknownType": false,
                    "isUpdatable": true,
                    "allowDBNull": true,
                    "baseCatalogName": null,
                    "baseColumnName": null,
                    "baseSchemaName": null,
                    "baseServerName": null,
                    "baseTableName": null,
                    "columnName": "Column_Name",
                    "columnOrdinal": 1,
                    "columnSize": 128,
                    "isAliased": null,
                    "isAutoIncrement": false,
                    "isExpression": null,
                    "isHidden": null,
                    "isIdentity": false,
                    "isKey": null,
                    "isLong": false,
                    "isReadOnly": false,
                    "isUnique": false,
                    "numericPrecision": 255,
                    "numericScale": 255,
                    "udtAssemblyQualifiedName": null,
                    "dataType": "System.String, System.Private.CoreLib, Version=4.0.0.0, Culture=neutral, PublicKeyToken=7cec85d7bea7798e",
                    "dataTypeName": "nvarchar"
                },
                {
                    "isBytes": false,
                    "isChars": true,
                    "isSqlVariant": false,
                    "isUdt": false,
                    "isXml": false,
                    "isJson": false,
                    "sqlDbType": 12,
                    "isHierarchyId": false,
                    "isSqlXmlType": false,
                    "isUnknownType": false,
                    "isUpdatable": true,
                    "allowDBNull": false,
                    "baseCatalogName": null,
                    "baseColumnName": null,
                    "baseSchemaName": null,
                    "baseServerName": null,
                    "baseTableName": null,
                    "columnName": "Data_Type",
                    "columnOrdinal": 2,
                    "columnSize": 128,
                    "isAliased": null,
                    "isAutoIncrement": false,
                    "isExpression": null,
                    "isHidden": null,
                    "isIdentity": false,
                    "isKey": null,
                    "isLong": false,
                    "isReadOnly": false,
                    "isUnique": false,
                    "numericPrecision": 255,
                    "numericScale": 255,
                    "udtAssemblyQualifiedName": null,
                    "dataType": "System.String, System.Private.CoreLib, Version=4.0.0.0, Culture=neutral, PublicKeyToken=7cec85d7bea7798e",
                    "dataTypeName": "nvarchar"
                },
                {
                    "isBytes": false,
                    "isChars": false,
                    "isSqlVariant": false,
                    "isUdt": false,
                    "isXml": false,
                    "isJson": false,
                    "sqlDbType": 16,
                    "isHierarchyId": false,
                    "isSqlXmlType": false,
                    "isUnknownType": false,
                    "isUpdatable": true,
                    "allowDBNull": false,
                    "baseCatalogName": null,
                    "baseColumnName": null,
                    "baseSchemaName": null,
                    "baseServerName": null,
                    "baseTableName": null,
                    "columnName": "Size",
                    "columnOrdinal": 3,
                    "columnSize": 2,
                    "isAliased": null,
                    "isAutoIncrement": false,
                    "isExpression": null,
                    "isHidden": null,
                    "isIdentity": false,
                    "isKey": null,
                    "isLong": false,
                    "isReadOnly": false,
                    "isUnique": false,
                    "numericPrecision": 5,
                    "numericScale": 255,
                    "udtAssemblyQualifiedName": null,
                    "dataType": "System.Int16, System.Private.CoreLib, Version=4.0.0.0, Culture=neutral, PublicKeyToken=7cec85d7bea7798e",
                    "dataTypeName": "smallint"
                },
                {
                    "isBytes": false,
                    "isChars": true,
                    "isSqlVariant": false,
                    "isUdt": false,
                    "isXml": false,
                    "isJson": false,
                    "sqlDbType": 22,
                    "isHierarchyId": false,
                    "isSqlXmlType": false,
                    "isUnknownType": false,
                    "isUpdatable": false,
                    "allowDBNull": true,
                    "baseCatalogName": null,
                    "baseColumnName": null,
                    "baseSchemaName": null,
                    "baseServerName": null,
                    "baseTableName": null,
                    "columnName": "Precision_Scale",
                    "columnOrdinal": 4,
                    "columnSize": 61,
                    "isAliased": null,
                    "isAutoIncrement": false,
                    "isExpression": null,
                    "isHidden": null,
                    "isIdentity": false,
                    "isKey": null,
                    "isLong": false,
                    "isReadOnly": true,
                    "isUnique": false,
                    "numericPrecision": 255,
                    "numericScale": 255,
                    "udtAssemblyQualifiedName": null,
                    "dataType": "System.String, System.Private.CoreLib, Version=4.0.0.0, Culture=neutral, PublicKeyToken=7cec85d7bea7798e",
                    "dataTypeName": "varchar"
                }
            ],
            "specialAction": {
                "none": true,
                "expectYukonXMLShowPlan": false
            }
        }
    },
    "execution_count": 24,
    "data": {
        "application/vnd.dataresource+json": {
            "schema": {
                "fields": [
                    {
                        "name": "Table_Name"
                    },
                    {
                        "name": "Column_Name"
                    },
                    {
                        "name": "Data_Type"
                    },
                    {
                        "name": "Size"
                    },
                    {
                        "name": "Precision_Scale"
                    }
                ]
            },
            "data": [
                {
                    "0": "classroom",
                    "1": "building",
                    "2": "varchar",
                    "3": "8000",
                    "4": "0/0"
                },
                {
                    "0": "classroom",
                    "1": "room_number",
                    "2": "varchar",
                    "3": "8000",
                    "4": "0/0"
                },
                {
                    "0": "classroom",
                    "1": "capacity",
                    "2": "numeric",
                    "3": "17",
                    "4": "38/38"
                },
                {
                    "0": "department",
                    "1": "dept_name",
                    "2": "varchar",
                    "3": "8000",
                    "4": "0/0"
                },
                {
                    "0": "department",
                    "1": "building",
                    "2": "varchar",
                    "3": "8000",
                    "4": "0/0"
                },
                {
                    "0": "department",
                    "1": "budget",
                    "2": "numeric",
                    "3": "17",
                    "4": "38/38"
                },
                {
                    "0": "course",
                    "1": "course_id",
                    "2": "varchar",
                    "3": "8000",
                    "4": "0/0"
                },
                {
                    "0": "course",
                    "1": "title",
                    "2": "varchar",
                    "3": "8000",
                    "4": "0/0"
                },
                {
                    "0": "course",
                    "1": "dept_name",
                    "2": "varchar",
                    "3": "8000",
                    "4": "0/0"
                },
                {
                    "0": "course",
                    "1": "credits",
                    "2": "numeric",
                    "3": "17",
                    "4": "38/38"
                },
                {
                    "0": "instructor",
                    "1": "ID",
                    "2": "varchar",
                    "3": "8000",
                    "4": "0/0"
                },
                {
                    "0": "instructor",
                    "1": "name",
                    "2": "varchar",
                    "3": "8000",
                    "4": "0/0"
                },
                {
                    "0": "instructor",
                    "1": "dept_name",
                    "2": "varchar",
                    "3": "8000",
                    "4": "0/0"
                },
                {
                    "0": "instructor",
                    "1": "salary",
                    "2": "numeric",
                    "3": "17",
                    "4": "38/38"
                },
                {
                    "0": "section",
                    "1": "course_id",
                    "2": "varchar",
                    "3": "8000",
                    "4": "0/0"
                },
                {
                    "0": "section",
                    "1": "sec_id",
                    "2": "varchar",
                    "3": "8000",
                    "4": "0/0"
                },
                {
                    "0": "section",
                    "1": "semester",
                    "2": "varchar",
                    "3": "8000",
                    "4": "0/0"
                },
                {
                    "0": "section",
                    "1": "year",
                    "2": "numeric",
                    "3": "17",
                    "4": "38/38"
                },
                {
                    "0": "section",
                    "1": "building",
                    "2": "varchar",
                    "3": "8000",
                    "4": "0/0"
                },
                {
                    "0": "section",
                    "1": "room_number",
                    "2": "varchar",
                    "3": "8000",
                    "4": "0/0"
                },
                {
                    "0": "section",
                    "1": "time_slot_id",
                    "2": "varchar",
                    "3": "8000",
                    "4": "0/0"
                },
                {
                    "0": "teaches",
                    "1": "ID",
                    "2": "varchar",
                    "3": "8000",
                    "4": "0/0"
                },
                {
                    "0": "teaches",
                    "1": "course_id",
                    "2": "varchar",
                    "3": "8000",
                    "4": "0/0"
                },
                {
                    "0": "teaches",
                    "1": "sec_id",
                    "2": "varchar",
                    "3": "8000",
                    "4": "0/0"
                },
                {
                    "0": "teaches",
                    "1": "semester",
                    "2": "varchar",
                    "3": "8000",
                    "4": "0/0"
                },
                {
                    "0": "teaches",
                    "1": "year",
                    "2": "numeric",
                    "3": "17",
                    "4": "38/38"
                },
                {
                    "0": "student",
                    "1": "ID",
                    "2": "varchar",
                    "3": "8000",
                    "4": "0/0"
                },
                {
                    "0": "student",
                    "1": "name",
                    "2": "varchar",
                    "3": "8000",
                    "4": "0/0"
                },
                {
                    "0": "student",
                    "1": "dept_name",
                    "2": "varchar",
                    "3": "8000",
                    "4": "0/0"
                },
                {
                    "0": "student",
                    "1": "tot_cred",
                    "2": "numeric",
                    "3": "17",
                    "4": "38/38"
                },
                {
                    "0": "takes",
                    "1": "ID",
                    "2": "varchar",
                    "3": "8000",
                    "4": "0/0"
                },
                {
                    "0": "takes",
                    "1": "course_id",
                    "2": "varchar",
                    "3": "8000",
                    "4": "0/0"
                },
                {
                    "0": "takes",
                    "1": "sec_id",
                    "2": "varchar",
                    "3": "8000",
                    "4": "0/0"
                },
                {
                    "0": "takes",
                    "1": "semester",
                    "2": "varchar",
                    "3": "8000",
                    "4": "0/0"
                },
                {
                    "0": "takes",
                    "1": "year",
                    "2": "numeric",
                    "3": "17",
                    "4": "38/38"
                },
                {
                    "0": "takes",
                    "1": "grade",
                    "2": "varchar",
                    "3": "8000",
                    "4": "0/0"
                },
                {
                    "0": "advisor",
                    "1": "s_ID",
                    "2": "varchar",
                    "3": "8000",
                    "4": "0/0"
                },
                {
                    "0": "advisor",
                    "1": "i_ID",
                    "2": "varchar",
                    "3": "8000",
                    "4": "0/0"
                },
                {
                    "0": "time_slot",
                    "1": "time_slot_id",
                    "2": "varchar",
                    "3": "8000",
                    "4": "0/0"
                },
                {
                    "0": "time_slot",
                    "1": "day",
                    "2": "varchar",
                    "3": "8000",
                    "4": "0/0"
                },
                {
                    "0": "time_slot",
                    "1": "start_hr",
                    "2": "numeric",
                    "3": "17",
                    "4": "38/38"
                },
                {
                    "0": "time_slot",
                    "1": "start_min",
                    "2": "numeric",
                    "3": "17",
                    "4": "38/38"
                },
                {
                    "0": "time_slot",
                    "1": "end_hr",
                    "2": "numeric",
                    "3": "17",
                    "4": "38/38"
                },
                {
                    "0": "time_slot",
                    "1": "end_min",
                    "2": "numeric",
                    "3": "17",
                    "4": "38/38"
                },
                {
                    "0": "prereq",
                    "1": "course_id",
                    "2": "varchar",
                    "3": "8000",
                    "4": "0/0"
                },
                {
                    "0": "prereq",
                    "1": "prereq_id",
                    "2": "varchar",
                    "3": "8000",
                    "4": "0/0"
                }
            ]
        },
        "text/html": [
            "<table>",
            "<tr><th>Table_Name</th><th>Column_Name</th><th>Data_Type</th><th>Size</th><th>Precision_Scale</th></tr>",
            "<tr><td>classroom</td><td>building</td><td>varchar</td><td>8000</td><td>0/0</td></tr>",
            "<tr><td>classroom</td><td>room_number</td><td>varchar</td><td>8000</td><td>0/0</td></tr>",
            "<tr><td>classroom</td><td>capacity</td><td>numeric</td><td>17</td><td>38/38</td></tr>",
            "<tr><td>department</td><td>dept_name</td><td>varchar</td><td>8000</td><td>0/0</td></tr>",
            "<tr><td>department</td><td>building</td><td>varchar</td><td>8000</td><td>0/0</td></tr>",
            "<tr><td>department</td><td>budget</td><td>numeric</td><td>17</td><td>38/38</td></tr>",
            "<tr><td>course</td><td>course_id</td><td>varchar</td><td>8000</td><td>0/0</td></tr>",
            "<tr><td>course</td><td>title</td><td>varchar</td><td>8000</td><td>0/0</td></tr>",
            "<tr><td>course</td><td>dept_name</td><td>varchar</td><td>8000</td><td>0/0</td></tr>",
            "<tr><td>course</td><td>credits</td><td>numeric</td><td>17</td><td>38/38</td></tr>",
            "<tr><td>instructor</td><td>ID</td><td>varchar</td><td>8000</td><td>0/0</td></tr>",
            "<tr><td>instructor</td><td>name</td><td>varchar</td><td>8000</td><td>0/0</td></tr>",
            "<tr><td>instructor</td><td>dept_name</td><td>varchar</td><td>8000</td><td>0/0</td></tr>",
            "<tr><td>instructor</td><td>salary</td><td>numeric</td><td>17</td><td>38/38</td></tr>",
            "<tr><td>section</td><td>course_id</td><td>varchar</td><td>8000</td><td>0/0</td></tr>",
            "<tr><td>section</td><td>sec_id</td><td>varchar</td><td>8000</td><td>0/0</td></tr>",
            "<tr><td>section</td><td>semester</td><td>varchar</td><td>8000</td><td>0/0</td></tr>",
            "<tr><td>section</td><td>year</td><td>numeric</td><td>17</td><td>38/38</td></tr>",
            "<tr><td>section</td><td>building</td><td>varchar</td><td>8000</td><td>0/0</td></tr>",
            "<tr><td>section</td><td>room_number</td><td>varchar</td><td>8000</td><td>0/0</td></tr>",
            "<tr><td>section</td><td>time_slot_id</td><td>varchar</td><td>8000</td><td>0/0</td></tr>",
            "<tr><td>teaches</td><td>ID</td><td>varchar</td><td>8000</td><td>0/0</td></tr>",
            "<tr><td>teaches</td><td>course_id</td><td>varchar</td><td>8000</td><td>0/0</td></tr>",
            "<tr><td>teaches</td><td>sec_id</td><td>varchar</td><td>8000</td><td>0/0</td></tr>",
            "<tr><td>teaches</td><td>semester</td><td>varchar</td><td>8000</td><td>0/0</td></tr>",
            "<tr><td>teaches</td><td>year</td><td>numeric</td><td>17</td><td>38/38</td></tr>",
            "<tr><td>student</td><td>ID</td><td>varchar</td><td>8000</td><td>0/0</td></tr>",
            "<tr><td>student</td><td>name</td><td>varchar</td><td>8000</td><td>0/0</td></tr>",
            "<tr><td>student</td><td>dept_name</td><td>varchar</td><td>8000</td><td>0/0</td></tr>",
            "<tr><td>student</td><td>tot_cred</td><td>numeric</td><td>17</td><td>38/38</td></tr>",
            "<tr><td>takes</td><td>ID</td><td>varchar</td><td>8000</td><td>0/0</td></tr>",
            "<tr><td>takes</td><td>course_id</td><td>varchar</td><td>8000</td><td>0/0</td></tr>",
            "<tr><td>takes</td><td>sec_id</td><td>varchar</td><td>8000</td><td>0/0</td></tr>",
            "<tr><td>takes</td><td>semester</td><td>varchar</td><td>8000</td><td>0/0</td></tr>",
            "<tr><td>takes</td><td>year</td><td>numeric</td><td>17</td><td>38/38</td></tr>",
            "<tr><td>takes</td><td>grade</td><td>varchar</td><td>8000</td><td>0/0</td></tr>",
            "<tr><td>advisor</td><td>s_ID</td><td>varchar</td><td>8000</td><td>0/0</td></tr>",
            "<tr><td>advisor</td><td>i_ID</td><td>varchar</td><td>8000</td><td>0/0</td></tr>",
            "<tr><td>time_slot</td><td>time_slot_id</td><td>varchar</td><td>8000</td><td>0/0</td></tr>",
            "<tr><td>time_slot</td><td>day</td><td>varchar</td><td>8000</td><td>0/0</td></tr>",
            "<tr><td>time_slot</td><td>start_hr</td><td>numeric</td><td>17</td><td>38/38</td></tr>",
            "<tr><td>time_slot</td><td>start_min</td><td>numeric</td><td>17</td><td>38/38</td></tr>",
            "<tr><td>time_slot</td><td>end_hr</td><td>numeric</td><td>17</td><td>38/38</td></tr>",
            "<tr><td>time_slot</td><td>end_min</td><td>numeric</td><td>17</td><td>38/38</td></tr>",
            "<tr><td>prereq</td><td>course_id</td><td>varchar</td><td>8000</td><td>0/0</td></tr>",
            "<tr><td>prereq</td><td>prereq_id</td><td>varchar</td><td>8000</td><td>0/0</td></tr>",
            "</table>"
        ]
    }
}
],
            "execution_count": 24
        },
        {
            "cell_type": "code",
            "source": [
                "--- a)\n",
                "SELECT title \n",
                "FROM course \n",
                "WHERE dept_name = 'Comp. Sci.' AND credits = 3;\n",
                "GO\n",
                "\n",
                "--- b)\n",
                "SELECT DISTINCT takes.ID \n",
                "FROM takes, teaches, instructor\n",
                "WHERE takes.course_id = teaches.course_id AND\n",
                "takes.sec_id = teaches.sec_id AND\n",
                "takes.semester = teaches.semester AND\n",
                "takes.[year] = teaches.[year] AND\n",
                "teaches.ID = instructor.ID AND\n",
                "instructor.name = 'Bawa';\n",
                "GO\n",
                "\n",
                "--- c)\n",
                "SELECT MAX(salary) as max_salary\n",
                "FROM instructor;\n",
                "GO\n",
                "-- alternative\n",
                "SELECT TOP 1 salary as max_salary\n",
                "FROM instructor\n",
                "ORDER BY salary DESC;\n",
                "GO\n",
                "\n",
                "--- d)\n",
                "SELECT instructor.name\n",
                "FROM instructor\n",
                "WHERE salary = (\n",
                "    SELECT MAX(salary)\n",
                "    FROM instructor\n",
                ");\n",
                "GO\n",
                "\n",
                "--- e)\n",
                "SELECT course_id, sec_id, (\n",
                "    SELECT COUNT (ID)\n",
                "    FROM takes\n",
                "    WHERE takes.course_id = section.course_id AND\n",
                "    takes.[year] = section.[year] AND\n",
                "    takes.semester = section.semester AND\n",
                "    takes.sec_id = section.sec_id\n",
                ") AS enrollments\n",
                "FROM section\n",
                "WHERE semester = 'Fall' AND [year] = 2007;\n",
                "GO\n",
                "\n",
                "--- f)\n",
                "SELECT MAX(t.enrollment) AS max_enrollment\n",
                "FROM (\n",
                "    SELECT COUNT(ID) as enrollment\n",
                "    FROM section, takes\n",
                "    WHERE takes.[year] = section.[year] AND\n",
                "        takes.semester = section.semester AND \n",
                "        takes.course_id = section.course_id AND \n",
                "        takes.sec_id = section.sec_id AND \n",
                "        takes.semester = 'Fall' AND \n",
                "        takes.[year] = 2007\n",
                "    GROUP BY takes.course_id, takes.sec_id\n",
                ") AS t;\n",
                "GO\n",
                "\n",
                "--- g)\n",
                "WITH sec_enrollment (enrollment, sec_id, course_id) AS (\n",
                "    SELECT takes.course_id, takes.sec_id, COUNT(ID) as enrollment\n",
                "    FROM section, takes\n",
                "    WHERE takes.course_id = section.course_id AND \n",
                "    takes.sec_id = section.sec_id AND \n",
                "    takes.semester = section.semester AND \n",
                "    takes.semester = 'Fall' AND \n",
                "    takes.[year] = 2007\n",
                "    GROUP BY takes.course_id, takes.sec_id\n",
                ")\n",
                "SELECT sec_id, course_id\n",
                "FROM sec_enrollment \n",
                "WHERE enrollment = (\n",
                "    SELECT MAX(enrollment)\n",
                "    FROM sec_enrollment\n",
                ");\n",
                "GO\n",
                ""
            ],
            "metadata": {
                "azdata_cell_guid": "2503ee0b-4122-4b4c-b8af-d5da2a1afbcc",
                "tags": []
            },
            "outputs": [
{
    "output_type": "display_data",
    "data": {
        "text/html": "(3 rows affected)"
    },
    "metadata": {}
}, {
    "output_type": "display_data",
    "data": {
        "text/html": "(266 rows affected)"
    },
    "metadata": {}
}, {
    "output_type": "display_data",
    "data": {
        "text/html": "(1 row affected)"
    },
    "metadata": {}
}, {
    "output_type": "display_data",
    "data": {
        "text/html": "(1 row affected)"
    },
    "metadata": {}
}, {
    "output_type": "display_data",
    "data": {
        "text/html": "(1 row affected)"
    },
    "metadata": {}
}, {
    "output_type": "display_data",
    "data": {
        "text/html": "(6 rows affected)"
    },
    "metadata": {}
}, {
    "output_type": "display_data",
    "data": {
        "text/html": "(1 row affected)"
    },
    "metadata": {}
}, {
    "output_type": "display_data",
    "data": {
        "text/html": "(1 row affected)"
    },
    "metadata": {}
}, {
    "output_type": "display_data",
    "data": {
        "text/html": "Total execution time: 00:00:00.068"
    },
    "metadata": {}
}, {
    "output_type": "execute_result",
    "metadata": {
        "resultSet": {
            "id": 0,
            "batchId": 0,
            "rowCount": 3,
            "complete": true,
            "columnInfo": [
                {
                    "isBytes": false,
                    "isChars": true,
                    "isSqlVariant": false,
                    "isUdt": false,
                    "isXml": false,
                    "isJson": false,
                    "sqlDbType": 22,
                    "isHierarchyId": false,
                    "isSqlXmlType": false,
                    "isUnknownType": false,
                    "isUpdatable": true,
                    "allowDBNull": true,
                    "baseCatalogName": null,
                    "baseColumnName": null,
                    "baseSchemaName": null,
                    "baseServerName": null,
                    "baseTableName": null,
                    "columnName": "title",
                    "columnOrdinal": 0,
                    "columnSize": 50,
                    "isAliased": null,
                    "isAutoIncrement": false,
                    "isExpression": null,
                    "isHidden": null,
                    "isIdentity": false,
                    "isKey": null,
                    "isLong": false,
                    "isReadOnly": false,
                    "isUnique": false,
                    "numericPrecision": 255,
                    "numericScale": 255,
                    "udtAssemblyQualifiedName": null,
                    "dataType": "System.String, System.Private.CoreLib, Version=4.0.0.0, Culture=neutral, PublicKeyToken=7cec85d7bea7798e",
                    "dataTypeName": "varchar"
                }
            ],
            "specialAction": {
                "none": true,
                "expectYukonXMLShowPlan": false
            }
        }
    },
    "execution_count": 30,
    "data": {
        "application/vnd.dataresource+json": {
            "schema": {
                "fields": [
                    {
                        "name": "title"
                    }
                ]
            },
            "data": [
                {
                    "0": "International Finance"
                },
                {
                    "0": "Computability Theory"
                },
                {
                    "0": "Japanese"
                }
            ]
        },
        "text/html": [
            "<table>",
            "<tr><th>title</th></tr>",
            "<tr><td>International Finance</td></tr>",
            "<tr><td>Computability Theory</td></tr>",
            "<tr><td>Japanese</td></tr>",
            "</table>"
        ]
    }
}, {
    "output_type": "execute_result",
    "metadata": {
        "resultSet": {
            "id": 0,
            "batchId": 1,
            "rowCount": 266,
            "complete": true,
            "columnInfo": [
                {
                    "isBytes": false,
                    "isChars": true,
                    "isSqlVariant": false,
                    "isUdt": false,
                    "isXml": false,
                    "isJson": false,
                    "sqlDbType": 22,
                    "isHierarchyId": false,
                    "isSqlXmlType": false,
                    "isUnknownType": false,
                    "isUpdatable": true,
                    "allowDBNull": false,
                    "baseCatalogName": null,
                    "baseColumnName": null,
                    "baseSchemaName": null,
                    "baseServerName": null,
                    "baseTableName": null,
                    "columnName": "ID",
                    "columnOrdinal": 0,
                    "columnSize": 5,
                    "isAliased": null,
                    "isAutoIncrement": false,
                    "isExpression": null,
                    "isHidden": null,
                    "isIdentity": false,
                    "isKey": null,
                    "isLong": false,
                    "isReadOnly": false,
                    "isUnique": false,
                    "numericPrecision": 255,
                    "numericScale": 255,
                    "udtAssemblyQualifiedName": null,
                    "dataType": "System.String, System.Private.CoreLib, Version=4.0.0.0, Culture=neutral, PublicKeyToken=7cec85d7bea7798e",
                    "dataTypeName": "varchar"
                }
            ],
            "specialAction": {
                "none": true,
                "expectYukonXMLShowPlan": false
            }
        }
    },
    "execution_count": 30,
    "data": {
        "application/vnd.dataresource+json": {
            "schema": {
                "fields": [
                    {
                        "name": "ID"
                    }
                ]
            },
            "data": [
                {
                    "0": "10033"
                },
                {
                    "0": "1018"
                },
                {
                    "0": "107"
                },
                {
                    "0": "108"
                },
                {
                    "0": "10838"
                },
                {
                    "0": "11055"
                },
                {
                    "0": "11095"
                },
                {
                    "0": "11202"
                },
                {
                    "0": "11530"
                },
                {
                    "0": "12971"
                },
                {
                    "0": "13365"
                },
                {
                    "0": "13749"
                },
                {
                    "0": "13921"
                },
                {
                    "0": "14596"
                },
                {
                    "0": "14874"
                },
                {
                    "0": "15538"
                },
                {
                    "0": "15578"
                },
                {
                    "0": "16347"
                },
                {
                    "0": "16453"
                },
                {
                    "0": "16515"
                },
                {
                    "0": "16993"
                },
                {
                    "0": "17057"
                },
                {
                    "0": "17133"
                },
                {
                    "0": "1726"
                },
                {
                    "0": "17397"
                },
                {
                    "0": "17676"
                },
                {
                    "0": "1836"
                },
                {
                    "0": "18583"
                },
                {
                    "0": "18859"
                },
                {
                    "0": "19048"
                },
                {
                    "0": "19450"
                },
                {
                    "0": "19917"
                },
                {
                    "0": "20814"
                },
                {
                    "0": "21009"
                },
                {
                    "0": "21102"
                },
                {
                    "0": "21552"
                },
                {
                    "0": "21789"
                },
                {
                    "0": "22086"
                },
                {
                    "0": "23373"
                },
                {
                    "0": "23525"
                },
                {
                    "0": "24010"
                },
                {
                    "0": "24796"
                },
                {
                    "0": "25525"
                },
                {
                    "0": "26028"
                },
                {
                    "0": "26102"
                },
                {
                    "0": "26147"
                },
                {
                    "0": "2629"
                },
                {
                    "0": "26802"
                },
                {
                    "0": "27366"
                },
                {
                    "0": "27430"
                },
                {
                    "0": "27687"
                },
                {
                    "0": "27898"
                },
                {
                    "0": "282"
                },
                {
                    "0": "28252"
                },
                {
                    "0": "28952"
                },
                {
                    "0": "29002"
                },
                {
                    "0": "29140"
                },
                {
                    "0": "2967"
                },
                {
                    "0": "29705"
                },
                {
                    "0": "29920"
                },
                {
                    "0": "30017"
                },
                {
                    "0": "30164"
                },
                {
                    "0": "30177"
                },
                {
                    "0": "30289"
                },
                {
                    "0": "30772"
                },
                {
                    "0": "30957"
                },
                {
                    "0": "31442"
                },
                {
                    "0": "31560"
                },
                {
                    "0": "31761"
                },
                {
                    "0": "32217"
                },
                {
                    "0": "32345"
                },
                {
                    "0": "32419"
                },
                {
                    "0": "32772"
                },
                {
                    "0": "32954"
                },
                {
                    "0": "33349"
                },
                {
                    "0": "34018"
                },
                {
                    "0": "34170"
                },
                {
                    "0": "34197"
                },
                {
                    "0": "34569"
                },
                {
                    "0": "35175"
                },
                {
                    "0": "35498"
                },
                {
                    "0": "35588"
                },
                {
                    "0": "36052"
                },
                {
                    "0": "36263"
                },
                {
                    "0": "36513"
                },
                {
                    "0": "36685"
                },
                {
                    "0": "37219"
                },
                {
                    "0": "37653"
                },
                {
                    "0": "37869"
                },
                {
                    "0": "37946"
                },
                {
                    "0": "38691"
                },
                {
                    "0": "39157"
                },
                {
                    "0": "39310"
                },
                {
                    "0": "39521"
                },
                {
                    "0": "39881"
                },
                {
                    "0": "40481"
                },
                {
                    "0": "40897"
                },
                {
                    "0": "40992"
                },
                {
                    "0": "4182"
                },
                {
                    "0": "41827"
                },
                {
                    "0": "41832"
                },
                {
                    "0": "41973"
                },
                {
                    "0": "42565"
                },
                {
                    "0": "4355"
                },
                {
                    "0": "43658"
                },
                {
                    "0": "43912"
                },
                {
                    "0": "44998"
                },
                {
                    "0": "45436"
                },
                {
                    "0": "45770"
                },
                {
                    "0": "46035"
                },
                {
                    "0": "46066"
                },
                {
                    "0": "46337"
                },
                {
                    "0": "46442"
                },
                {
                    "0": "47001"
                },
                {
                    "0": "47379"
                },
                {
                    "0": "48778"
                },
                {
                    "0": "48850"
                },
                {
                    "0": "49611"
                },
                {
                    "0": "49792"
                },
                {
                    "0": "50267"
                },
                {
                    "0": "50467"
                },
                {
                    "0": "50537"
                },
                {
                    "0": "50873"
                },
                {
                    "0": "51203"
                },
                {
                    "0": "51416"
                },
                {
                    "0": "51538"
                },
                {
                    "0": "51955"
                },
                {
                    "0": "52187"
                },
                {
                    "0": "52203"
                },
                {
                    "0": "52371"
                },
                {
                    "0": "52750"
                },
                {
                    "0": "52866"
                },
                {
                    "0": "52872"
                },
                {
                    "0": "53118"
                },
                {
                    "0": "5336"
                },
                {
                    "0": "53803"
                },
                {
                    "0": "53805"
                },
                {
                    "0": "5381"
                },
                {
                    "0": "5393"
                },
                {
                    "0": "5414"
                },
                {
                    "0": "544"
                },
                {
                    "0": "54605"
                },
                {
                    "0": "54610"
                },
                {
                    "0": "5463"
                },
                {
                    "0": "54875"
                },
                {
                    "0": "55009"
                },
                {
                    "0": "55857"
                },
                {
                    "0": "56499"
                },
                {
                    "0": "57156"
                },
                {
                    "0": "57185"
                },
                {
                    "0": "57242"
                },
                {
                    "0": "57538"
                },
                {
                    "0": "58594"
                },
                {
                    "0": "58634"
                },
                {
                    "0": "59908"
                },
                {
                    "0": "60040"
                },
                {
                    "0": "60748"
                },
                {
                    "0": "61354"
                },
                {
                    "0": "61356"
                },
                {
                    "0": "61444"
                },
                {
                    "0": "62054"
                },
                {
                    "0": "62705"
                },
                {
                    "0": "62784"
                },
                {
                    "0": "64039"
                },
                {
                    "0": "64164"
                },
                {
                    "0": "64169"
                },
                {
                    "0": "64249"
                },
                {
                    "0": "6474"
                },
                {
                    "0": "64934"
                },
                {
                    "0": "65121"
                },
                {
                    "0": "65438"
                },
                {
                    "0": "65714"
                },
                {
                    "0": "66259"
                },
                {
                    "0": "67222"
                },
                {
                    "0": "68278"
                },
                {
                    "0": "68779"
                },
                {
                    "0": "69122"
                },
                {
                    "0": "69581"
                },
                {
                    "0": "69628"
                },
                {
                    "0": "69747"
                },
                {
                    "0": "69850"
                },
                {
                    "0": "69853"
                },
                {
                    "0": "69960"
                },
                {
                    "0": "70099"
                },
                {
                    "0": "70564"
                },
                {
                    "0": "70572"
                },
                {
                    "0": "70807"
                },
                {
                    "0": "71529"
                },
                {
                    "0": "71631"
                },
                {
                    "0": "71944"
                },
                {
                    "0": "72177"
                },
                {
                    "0": "72657"
                },
                {
                    "0": "72669"
                },
                {
                    "0": "74840"
                },
                {
                    "0": "75123"
                },
                {
                    "0": "760"
                },
                {
                    "0": "76250"
                },
                {
                    "0": "7656"
                },
                {
                    "0": "76911"
                },
                {
                    "0": "77898"
                },
                {
                    "0": "78469"
                },
                {
                    "0": "78481"
                },
                {
                    "0": "78572"
                },
                {
                    "0": "7861"
                },
                {
                    "0": "78792"
                },
                {
                    "0": "78911"
                },
                {
                    "0": "792"
                },
                {
                    "0": "79210"
                },
                {
                    "0": "79469"
                },
                {
                    "0": "81566"
                },
                {
                    "0": "81610"
                },
                {
                    "0": "82066"
                },
                {
                    "0": "82083"
                },
                {
                    "0": "82402"
                },
                {
                    "0": "82688"
                },
                {
                    "0": "82974"
                },
                {
                    "0": "83170"
                },
                {
                    "0": "83314"
                },
                {
                    "0": "83686"
                },
                {
                    "0": "84189"
                },
                {
                    "0": "84702"
                },
                {
                    "0": "84792"
                },
                {
                    "0": "8483"
                },
                {
                    "0": "85754"
                },
                {
                    "0": "86001"
                },
                {
                    "0": "87439"
                },
                {
                    "0": "88045"
                },
                {
                    "0": "8807"
                },
                {
                    "0": "88577"
                },
                {
                    "0": "89196"
                },
                {
                    "0": "898"
                },
                {
                    "0": "90779"
                },
                {
                    "0": "9084"
                },
                {
                    "0": "91063"
                },
                {
                    "0": "914"
                },
                {
                    "0": "91569"
                },
                {
                    "0": "91580"
                },
                {
                    "0": "91788"
                },
                {
                    "0": "92332"
                },
                {
                    "0": "92442"
                },
                {
                    "0": "92659"
                },
                {
                    "0": "92864"
                },
                {
                    "0": "93061"
                },
                {
                    "0": "93814"
                },
                {
                    "0": "9460"
                },
                {
                    "0": "94620"
                },
                {
                    "0": "94801"
                },
                {
                    "0": "94815"
                },
                {
                    "0": "9495"
                },
                {
                    "0": "95175"
                },
                {
                    "0": "95260"
                },
                {
                    "0": "95366"
                },
                {
                    "0": "96085"
                },
                {
                    "0": "96134"
                },
                {
                    "0": "96246"
                },
                {
                    "0": "96988"
                },
                {
                    "0": "97551"
                },
                {
                    "0": "97573"
                },
                {
                    "0": "97953"
                },
                {
                    "0": "98315"
                },
                {
                    "0": "98359"
                },
                {
                    "0": "98984"
                },
                {
                    "0": "993"
                },
                {
                    "0": "9933"
                },
                {
                    "0": "99348"
                },
                {
                    "0": "99694"
                }
            ]
        },
        "text/html": [
            "<table>",
            "<tr><th>ID</th></tr>",
            "<tr><td>10033</td></tr>",
            "<tr><td>1018</td></tr>",
            "<tr><td>107</td></tr>",
            "<tr><td>108</td></tr>",
            "<tr><td>10838</td></tr>",
            "<tr><td>11055</td></tr>",
            "<tr><td>11095</td></tr>",
            "<tr><td>11202</td></tr>",
            "<tr><td>11530</td></tr>",
            "<tr><td>12971</td></tr>",
            "<tr><td>13365</td></tr>",
            "<tr><td>13749</td></tr>",
            "<tr><td>13921</td></tr>",
            "<tr><td>14596</td></tr>",
            "<tr><td>14874</td></tr>",
            "<tr><td>15538</td></tr>",
            "<tr><td>15578</td></tr>",
            "<tr><td>16347</td></tr>",
            "<tr><td>16453</td></tr>",
            "<tr><td>16515</td></tr>",
            "<tr><td>16993</td></tr>",
            "<tr><td>17057</td></tr>",
            "<tr><td>17133</td></tr>",
            "<tr><td>1726</td></tr>",
            "<tr><td>17397</td></tr>",
            "<tr><td>17676</td></tr>",
            "<tr><td>1836</td></tr>",
            "<tr><td>18583</td></tr>",
            "<tr><td>18859</td></tr>",
            "<tr><td>19048</td></tr>",
            "<tr><td>19450</td></tr>",
            "<tr><td>19917</td></tr>",
            "<tr><td>20814</td></tr>",
            "<tr><td>21009</td></tr>",
            "<tr><td>21102</td></tr>",
            "<tr><td>21552</td></tr>",
            "<tr><td>21789</td></tr>",
            "<tr><td>22086</td></tr>",
            "<tr><td>23373</td></tr>",
            "<tr><td>23525</td></tr>",
            "<tr><td>24010</td></tr>",
            "<tr><td>24796</td></tr>",
            "<tr><td>25525</td></tr>",
            "<tr><td>26028</td></tr>",
            "<tr><td>26102</td></tr>",
            "<tr><td>26147</td></tr>",
            "<tr><td>2629</td></tr>",
            "<tr><td>26802</td></tr>",
            "<tr><td>27366</td></tr>",
            "<tr><td>27430</td></tr>",
            "<tr><td>27687</td></tr>",
            "<tr><td>27898</td></tr>",
            "<tr><td>282</td></tr>",
            "<tr><td>28252</td></tr>",
            "<tr><td>28952</td></tr>",
            "<tr><td>29002</td></tr>",
            "<tr><td>29140</td></tr>",
            "<tr><td>2967</td></tr>",
            "<tr><td>29705</td></tr>",
            "<tr><td>29920</td></tr>",
            "<tr><td>30017</td></tr>",
            "<tr><td>30164</td></tr>",
            "<tr><td>30177</td></tr>",
            "<tr><td>30289</td></tr>",
            "<tr><td>30772</td></tr>",
            "<tr><td>30957</td></tr>",
            "<tr><td>31442</td></tr>",
            "<tr><td>31560</td></tr>",
            "<tr><td>31761</td></tr>",
            "<tr><td>32217</td></tr>",
            "<tr><td>32345</td></tr>",
            "<tr><td>32419</td></tr>",
            "<tr><td>32772</td></tr>",
            "<tr><td>32954</td></tr>",
            "<tr><td>33349</td></tr>",
            "<tr><td>34018</td></tr>",
            "<tr><td>34170</td></tr>",
            "<tr><td>34197</td></tr>",
            "<tr><td>34569</td></tr>",
            "<tr><td>35175</td></tr>",
            "<tr><td>35498</td></tr>",
            "<tr><td>35588</td></tr>",
            "<tr><td>36052</td></tr>",
            "<tr><td>36263</td></tr>",
            "<tr><td>36513</td></tr>",
            "<tr><td>36685</td></tr>",
            "<tr><td>37219</td></tr>",
            "<tr><td>37653</td></tr>",
            "<tr><td>37869</td></tr>",
            "<tr><td>37946</td></tr>",
            "<tr><td>38691</td></tr>",
            "<tr><td>39157</td></tr>",
            "<tr><td>39310</td></tr>",
            "<tr><td>39521</td></tr>",
            "<tr><td>39881</td></tr>",
            "<tr><td>40481</td></tr>",
            "<tr><td>40897</td></tr>",
            "<tr><td>40992</td></tr>",
            "<tr><td>4182</td></tr>",
            "<tr><td>41827</td></tr>",
            "<tr><td>41832</td></tr>",
            "<tr><td>41973</td></tr>",
            "<tr><td>42565</td></tr>",
            "<tr><td>4355</td></tr>",
            "<tr><td>43658</td></tr>",
            "<tr><td>43912</td></tr>",
            "<tr><td>44998</td></tr>",
            "<tr><td>45436</td></tr>",
            "<tr><td>45770</td></tr>",
            "<tr><td>46035</td></tr>",
            "<tr><td>46066</td></tr>",
            "<tr><td>46337</td></tr>",
            "<tr><td>46442</td></tr>",
            "<tr><td>47001</td></tr>",
            "<tr><td>47379</td></tr>",
            "<tr><td>48778</td></tr>",
            "<tr><td>48850</td></tr>",
            "<tr><td>49611</td></tr>",
            "<tr><td>49792</td></tr>",
            "<tr><td>50267</td></tr>",
            "<tr><td>50467</td></tr>",
            "<tr><td>50537</td></tr>",
            "<tr><td>50873</td></tr>",
            "<tr><td>51203</td></tr>",
            "<tr><td>51416</td></tr>",
            "<tr><td>51538</td></tr>",
            "<tr><td>51955</td></tr>",
            "<tr><td>52187</td></tr>",
            "<tr><td>52203</td></tr>",
            "<tr><td>52371</td></tr>",
            "<tr><td>52750</td></tr>",
            "<tr><td>52866</td></tr>",
            "<tr><td>52872</td></tr>",
            "<tr><td>53118</td></tr>",
            "<tr><td>5336</td></tr>",
            "<tr><td>53803</td></tr>",
            "<tr><td>53805</td></tr>",
            "<tr><td>5381</td></tr>",
            "<tr><td>5393</td></tr>",
            "<tr><td>5414</td></tr>",
            "<tr><td>544</td></tr>",
            "<tr><td>54605</td></tr>",
            "<tr><td>54610</td></tr>",
            "<tr><td>5463</td></tr>",
            "<tr><td>54875</td></tr>",
            "<tr><td>55009</td></tr>",
            "<tr><td>55857</td></tr>",
            "<tr><td>56499</td></tr>",
            "<tr><td>57156</td></tr>",
            "<tr><td>57185</td></tr>",
            "<tr><td>57242</td></tr>",
            "<tr><td>57538</td></tr>",
            "<tr><td>58594</td></tr>",
            "<tr><td>58634</td></tr>",
            "<tr><td>59908</td></tr>",
            "<tr><td>60040</td></tr>",
            "<tr><td>60748</td></tr>",
            "<tr><td>61354</td></tr>",
            "<tr><td>61356</td></tr>",
            "<tr><td>61444</td></tr>",
            "<tr><td>62054</td></tr>",
            "<tr><td>62705</td></tr>",
            "<tr><td>62784</td></tr>",
            "<tr><td>64039</td></tr>",
            "<tr><td>64164</td></tr>",
            "<tr><td>64169</td></tr>",
            "<tr><td>64249</td></tr>",
            "<tr><td>6474</td></tr>",
            "<tr><td>64934</td></tr>",
            "<tr><td>65121</td></tr>",
            "<tr><td>65438</td></tr>",
            "<tr><td>65714</td></tr>",
            "<tr><td>66259</td></tr>",
            "<tr><td>67222</td></tr>",
            "<tr><td>68278</td></tr>",
            "<tr><td>68779</td></tr>",
            "<tr><td>69122</td></tr>",
            "<tr><td>69581</td></tr>",
            "<tr><td>69628</td></tr>",
            "<tr><td>69747</td></tr>",
            "<tr><td>69850</td></tr>",
            "<tr><td>69853</td></tr>",
            "<tr><td>69960</td></tr>",
            "<tr><td>70099</td></tr>",
            "<tr><td>70564</td></tr>",
            "<tr><td>70572</td></tr>",
            "<tr><td>70807</td></tr>",
            "<tr><td>71529</td></tr>",
            "<tr><td>71631</td></tr>",
            "<tr><td>71944</td></tr>",
            "<tr><td>72177</td></tr>",
            "<tr><td>72657</td></tr>",
            "<tr><td>72669</td></tr>",
            "<tr><td>74840</td></tr>",
            "<tr><td>75123</td></tr>",
            "<tr><td>760</td></tr>",
            "<tr><td>76250</td></tr>",
            "<tr><td>7656</td></tr>",
            "<tr><td>76911</td></tr>",
            "<tr><td>77898</td></tr>",
            "<tr><td>78469</td></tr>",
            "<tr><td>78481</td></tr>",
            "<tr><td>78572</td></tr>",
            "<tr><td>7861</td></tr>",
            "<tr><td>78792</td></tr>",
            "<tr><td>78911</td></tr>",
            "<tr><td>792</td></tr>",
            "<tr><td>79210</td></tr>",
            "<tr><td>79469</td></tr>",
            "<tr><td>81566</td></tr>",
            "<tr><td>81610</td></tr>",
            "<tr><td>82066</td></tr>",
            "<tr><td>82083</td></tr>",
            "<tr><td>82402</td></tr>",
            "<tr><td>82688</td></tr>",
            "<tr><td>82974</td></tr>",
            "<tr><td>83170</td></tr>",
            "<tr><td>83314</td></tr>",
            "<tr><td>83686</td></tr>",
            "<tr><td>84189</td></tr>",
            "<tr><td>84702</td></tr>",
            "<tr><td>84792</td></tr>",
            "<tr><td>8483</td></tr>",
            "<tr><td>85754</td></tr>",
            "<tr><td>86001</td></tr>",
            "<tr><td>87439</td></tr>",
            "<tr><td>88045</td></tr>",
            "<tr><td>8807</td></tr>",
            "<tr><td>88577</td></tr>",
            "<tr><td>89196</td></tr>",
            "<tr><td>898</td></tr>",
            "<tr><td>90779</td></tr>",
            "<tr><td>9084</td></tr>",
            "<tr><td>91063</td></tr>",
            "<tr><td>914</td></tr>",
            "<tr><td>91569</td></tr>",
            "<tr><td>91580</td></tr>",
            "<tr><td>91788</td></tr>",
            "<tr><td>92332</td></tr>",
            "<tr><td>92442</td></tr>",
            "<tr><td>92659</td></tr>",
            "<tr><td>92864</td></tr>",
            "<tr><td>93061</td></tr>",
            "<tr><td>93814</td></tr>",
            "<tr><td>9460</td></tr>",
            "<tr><td>94620</td></tr>",
            "<tr><td>94801</td></tr>",
            "<tr><td>94815</td></tr>",
            "<tr><td>9495</td></tr>",
            "<tr><td>95175</td></tr>",
            "<tr><td>95260</td></tr>",
            "<tr><td>95366</td></tr>",
            "<tr><td>96085</td></tr>",
            "<tr><td>96134</td></tr>",
            "<tr><td>96246</td></tr>",
            "<tr><td>96988</td></tr>",
            "<tr><td>97551</td></tr>",
            "<tr><td>97573</td></tr>",
            "<tr><td>97953</td></tr>",
            "<tr><td>98315</td></tr>",
            "<tr><td>98359</td></tr>",
            "<tr><td>98984</td></tr>",
            "<tr><td>993</td></tr>",
            "<tr><td>9933</td></tr>",
            "<tr><td>99348</td></tr>",
            "<tr><td>99694</td></tr>",
            "</table>"
        ]
    }
}, {
    "output_type": "execute_result",
    "metadata": {
        "resultSet": {
            "id": 0,
            "batchId": 2,
            "rowCount": 1,
            "complete": true,
            "columnInfo": [
                {
                    "isBytes": false,
                    "isChars": false,
                    "isSqlVariant": false,
                    "isUdt": false,
                    "isXml": false,
                    "isJson": false,
                    "sqlDbType": 5,
                    "isHierarchyId": false,
                    "isSqlXmlType": false,
                    "isUnknownType": false,
                    "isUpdatable": false,
                    "allowDBNull": true,
                    "baseCatalogName": null,
                    "baseColumnName": null,
                    "baseSchemaName": null,
                    "baseServerName": null,
                    "baseTableName": null,
                    "columnName": "max_salary",
                    "columnOrdinal": 0,
                    "columnSize": 17,
                    "isAliased": null,
                    "isAutoIncrement": false,
                    "isExpression": null,
                    "isHidden": null,
                    "isIdentity": false,
                    "isKey": null,
                    "isLong": false,
                    "isReadOnly": true,
                    "isUnique": false,
                    "numericPrecision": 8,
                    "numericScale": 2,
                    "udtAssemblyQualifiedName": null,
                    "dataType": "System.Decimal, System.Private.CoreLib, Version=4.0.0.0, Culture=neutral, PublicKeyToken=7cec85d7bea7798e",
                    "dataTypeName": "decimal"
                }
            ],
            "specialAction": {
                "none": true,
                "expectYukonXMLShowPlan": false
            }
        }
    },
    "execution_count": 30,
    "data": {
        "application/vnd.dataresource+json": {
            "schema": {
                "fields": [
                    {
                        "name": "max_salary"
                    }
                ]
            },
            "data": [
                {
                    "0": "124651.41"
                }
            ]
        },
        "text/html": [
            "<table>",
            "<tr><th>max_salary</th></tr>",
            "<tr><td>124651.41</td></tr>",
            "</table>"
        ]
    }
}, {
    "output_type": "execute_result",
    "metadata": {
        "resultSet": {
            "id": 0,
            "batchId": 3,
            "rowCount": 1,
            "complete": true,
            "columnInfo": [
                {
                    "isBytes": false,
                    "isChars": false,
                    "isSqlVariant": false,
                    "isUdt": false,
                    "isXml": false,
                    "isJson": false,
                    "sqlDbType": 5,
                    "isHierarchyId": false,
                    "isSqlXmlType": false,
                    "isUnknownType": false,
                    "isUpdatable": true,
                    "allowDBNull": true,
                    "baseCatalogName": null,
                    "baseColumnName": null,
                    "baseSchemaName": null,
                    "baseServerName": null,
                    "baseTableName": null,
                    "columnName": "max_salary",
                    "columnOrdinal": 0,
                    "columnSize": 17,
                    "isAliased": null,
                    "isAutoIncrement": false,
                    "isExpression": null,
                    "isHidden": null,
                    "isIdentity": false,
                    "isKey": null,
                    "isLong": false,
                    "isReadOnly": false,
                    "isUnique": false,
                    "numericPrecision": 8,
                    "numericScale": 2,
                    "udtAssemblyQualifiedName": null,
                    "dataType": "System.Decimal, System.Private.CoreLib, Version=4.0.0.0, Culture=neutral, PublicKeyToken=7cec85d7bea7798e",
                    "dataTypeName": "decimal"
                }
            ],
            "specialAction": {
                "none": true,
                "expectYukonXMLShowPlan": false
            }
        }
    },
    "execution_count": 30,
    "data": {
        "application/vnd.dataresource+json": {
            "schema": {
                "fields": [
                    {
                        "name": "max_salary"
                    }
                ]
            },
            "data": [
                {
                    "0": "124651.41"
                }
            ]
        },
        "text/html": [
            "<table>",
            "<tr><th>max_salary</th></tr>",
            "<tr><td>124651.41</td></tr>",
            "</table>"
        ]
    }
}, {
    "output_type": "execute_result",
    "metadata": {
        "resultSet": {
            "id": 0,
            "batchId": 4,
            "rowCount": 1,
            "complete": true,
            "columnInfo": [
                {
                    "isBytes": false,
                    "isChars": true,
                    "isSqlVariant": false,
                    "isUdt": false,
                    "isXml": false,
                    "isJson": false,
                    "sqlDbType": 22,
                    "isHierarchyId": false,
                    "isSqlXmlType": false,
                    "isUnknownType": false,
                    "isUpdatable": true,
                    "allowDBNull": false,
                    "baseCatalogName": null,
                    "baseColumnName": null,
                    "baseSchemaName": null,
                    "baseServerName": null,
                    "baseTableName": null,
                    "columnName": "name",
                    "columnOrdinal": 0,
                    "columnSize": 20,
                    "isAliased": null,
                    "isAutoIncrement": false,
                    "isExpression": null,
                    "isHidden": null,
                    "isIdentity": false,
                    "isKey": null,
                    "isLong": false,
                    "isReadOnly": false,
                    "isUnique": false,
                    "numericPrecision": 255,
                    "numericScale": 255,
                    "udtAssemblyQualifiedName": null,
                    "dataType": "System.String, System.Private.CoreLib, Version=4.0.0.0, Culture=neutral, PublicKeyToken=7cec85d7bea7798e",
                    "dataTypeName": "varchar"
                }
            ],
            "specialAction": {
                "none": true,
                "expectYukonXMLShowPlan": false
            }
        }
    },
    "execution_count": 30,
    "data": {
        "application/vnd.dataresource+json": {
            "schema": {
                "fields": [
                    {
                        "name": "name"
                    }
                ]
            },
            "data": [
                {
                    "0": "Wieland"
                }
            ]
        },
        "text/html": [
            "<table>",
            "<tr><th>name</th></tr>",
            "<tr><td>Wieland</td></tr>",
            "</table>"
        ]
    }
}, {
    "output_type": "execute_result",
    "metadata": {
        "resultSet": {
            "id": 0,
            "batchId": 5,
            "rowCount": 6,
            "complete": true,
            "columnInfo": [
                {
                    "isBytes": false,
                    "isChars": true,
                    "isSqlVariant": false,
                    "isUdt": false,
                    "isXml": false,
                    "isJson": false,
                    "sqlDbType": 22,
                    "isHierarchyId": false,
                    "isSqlXmlType": false,
                    "isUnknownType": false,
                    "isUpdatable": true,
                    "allowDBNull": false,
                    "baseCatalogName": null,
                    "baseColumnName": null,
                    "baseSchemaName": null,
                    "baseServerName": null,
                    "baseTableName": null,
                    "columnName": "course_id",
                    "columnOrdinal": 0,
                    "columnSize": 8,
                    "isAliased": null,
                    "isAutoIncrement": false,
                    "isExpression": null,
                    "isHidden": null,
                    "isIdentity": false,
                    "isKey": null,
                    "isLong": false,
                    "isReadOnly": false,
                    "isUnique": false,
                    "numericPrecision": 255,
                    "numericScale": 255,
                    "udtAssemblyQualifiedName": null,
                    "dataType": "System.String, System.Private.CoreLib, Version=4.0.0.0, Culture=neutral, PublicKeyToken=7cec85d7bea7798e",
                    "dataTypeName": "varchar"
                },
                {
                    "isBytes": false,
                    "isChars": true,
                    "isSqlVariant": false,
                    "isUdt": false,
                    "isXml": false,
                    "isJson": false,
                    "sqlDbType": 22,
                    "isHierarchyId": false,
                    "isSqlXmlType": false,
                    "isUnknownType": false,
                    "isUpdatable": true,
                    "allowDBNull": false,
                    "baseCatalogName": null,
                    "baseColumnName": null,
                    "baseSchemaName": null,
                    "baseServerName": null,
                    "baseTableName": null,
                    "columnName": "sec_id",
                    "columnOrdinal": 1,
                    "columnSize": 8,
                    "isAliased": null,
                    "isAutoIncrement": false,
                    "isExpression": null,
                    "isHidden": null,
                    "isIdentity": false,
                    "isKey": null,
                    "isLong": false,
                    "isReadOnly": false,
                    "isUnique": false,
                    "numericPrecision": 255,
                    "numericScale": 255,
                    "udtAssemblyQualifiedName": null,
                    "dataType": "System.String, System.Private.CoreLib, Version=4.0.0.0, Culture=neutral, PublicKeyToken=7cec85d7bea7798e",
                    "dataTypeName": "varchar"
                },
                {
                    "isBytes": false,
                    "isChars": false,
                    "isSqlVariant": false,
                    "isUdt": false,
                    "isXml": false,
                    "isJson": false,
                    "sqlDbType": 8,
                    "isHierarchyId": false,
                    "isSqlXmlType": false,
                    "isUnknownType": false,
                    "isUpdatable": false,
                    "allowDBNull": true,
                    "baseCatalogName": null,
                    "baseColumnName": null,
                    "baseSchemaName": null,
                    "baseServerName": null,
                    "baseTableName": null,
                    "columnName": "enrollments",
                    "columnOrdinal": 2,
                    "columnSize": 4,
                    "isAliased": null,
                    "isAutoIncrement": false,
                    "isExpression": null,
                    "isHidden": null,
                    "isIdentity": false,
                    "isKey": null,
                    "isLong": false,
                    "isReadOnly": true,
                    "isUnique": false,
                    "numericPrecision": 10,
                    "numericScale": 255,
                    "udtAssemblyQualifiedName": null,
                    "dataType": "System.Int32, System.Private.CoreLib, Version=4.0.0.0, Culture=neutral, PublicKeyToken=7cec85d7bea7798e",
                    "dataTypeName": "int"
                }
            ],
            "specialAction": {
                "none": true,
                "expectYukonXMLShowPlan": false
            }
        }
    },
    "execution_count": 30,
    "data": {
        "application/vnd.dataresource+json": {
            "schema": {
                "fields": [
                    {
                        "name": "course_id"
                    },
                    {
                        "name": "sec_id"
                    },
                    {
                        "name": "enrollments"
                    }
                ]
            },
            "data": [
                {
                    "0": "612",
                    "1": "1",
                    "2": "285"
                },
                {
                    "0": "489",
                    "1": "1",
                    "2": "292"
                },
                {
                    "0": "258",
                    "1": "1",
                    "2": "294"
                },
                {
                    "0": "893",
                    "1": "1",
                    "2": "284"
                },
                {
                    "0": "468",
                    "1": "2",
                    "2": "315"
                },
                {
                    "0": "949",
                    "1": "1",
                    "2": "303"
                }
            ]
        },
        "text/html": [
            "<table>",
            "<tr><th>course_id</th><th>sec_id</th><th>enrollments</th></tr>",
            "<tr><td>612</td><td>1</td><td>285</td></tr>",
            "<tr><td>489</td><td>1</td><td>292</td></tr>",
            "<tr><td>258</td><td>1</td><td>294</td></tr>",
            "<tr><td>893</td><td>1</td><td>284</td></tr>",
            "<tr><td>468</td><td>2</td><td>315</td></tr>",
            "<tr><td>949</td><td>1</td><td>303</td></tr>",
            "</table>"
        ]
    }
}, {
    "output_type": "execute_result",
    "metadata": {
        "resultSet": {
            "id": 0,
            "batchId": 6,
            "rowCount": 1,
            "complete": true,
            "columnInfo": [
                {
                    "isBytes": false,
                    "isChars": false,
                    "isSqlVariant": false,
                    "isUdt": false,
                    "isXml": false,
                    "isJson": false,
                    "sqlDbType": 8,
                    "isHierarchyId": false,
                    "isSqlXmlType": false,
                    "isUnknownType": false,
                    "isUpdatable": false,
                    "allowDBNull": true,
                    "baseCatalogName": null,
                    "baseColumnName": null,
                    "baseSchemaName": null,
                    "baseServerName": null,
                    "baseTableName": null,
                    "columnName": "max_enrollment",
                    "columnOrdinal": 0,
                    "columnSize": 4,
                    "isAliased": null,
                    "isAutoIncrement": false,
                    "isExpression": null,
                    "isHidden": null,
                    "isIdentity": false,
                    "isKey": null,
                    "isLong": false,
                    "isReadOnly": true,
                    "isUnique": false,
                    "numericPrecision": 10,
                    "numericScale": 255,
                    "udtAssemblyQualifiedName": null,
                    "dataType": "System.Int32, System.Private.CoreLib, Version=4.0.0.0, Culture=neutral, PublicKeyToken=7cec85d7bea7798e",
                    "dataTypeName": "int"
                }
            ],
            "specialAction": {
                "none": true,
                "expectYukonXMLShowPlan": false
            }
        }
    },
    "execution_count": 30,
    "data": {
        "application/vnd.dataresource+json": {
            "schema": {
                "fields": [
                    {
                        "name": "max_enrollment"
                    }
                ]
            },
            "data": [
                {
                    "0": "315"
                }
            ]
        },
        "text/html": [
            "<table>",
            "<tr><th>max_enrollment</th></tr>",
            "<tr><td>315</td></tr>",
            "</table>"
        ]
    }
}, {
    "output_type": "execute_result",
    "metadata": {
        "resultSet": {
            "id": 0,
            "batchId": 7,
            "rowCount": 1,
            "complete": true,
            "columnInfo": [
                {
                    "isBytes": false,
                    "isChars": true,
                    "isSqlVariant": false,
                    "isUdt": false,
                    "isXml": false,
                    "isJson": false,
                    "sqlDbType": 22,
                    "isHierarchyId": false,
                    "isSqlXmlType": false,
                    "isUnknownType": false,
                    "isUpdatable": true,
                    "allowDBNull": false,
                    "baseCatalogName": null,
                    "baseColumnName": null,
                    "baseSchemaName": null,
                    "baseServerName": null,
                    "baseTableName": null,
                    "columnName": "sec_id",
                    "columnOrdinal": 0,
                    "columnSize": 8,
                    "isAliased": null,
                    "isAutoIncrement": false,
                    "isExpression": null,
                    "isHidden": null,
                    "isIdentity": false,
                    "isKey": null,
                    "isLong": false,
                    "isReadOnly": false,
                    "isUnique": false,
                    "numericPrecision": 255,
                    "numericScale": 255,
                    "udtAssemblyQualifiedName": null,
                    "dataType": "System.String, System.Private.CoreLib, Version=4.0.0.0, Culture=neutral, PublicKeyToken=7cec85d7bea7798e",
                    "dataTypeName": "varchar"
                },
                {
                    "isBytes": false,
                    "isChars": false,
                    "isSqlVariant": false,
                    "isUdt": false,
                    "isXml": false,
                    "isJson": false,
                    "sqlDbType": 8,
                    "isHierarchyId": false,
                    "isSqlXmlType": false,
                    "isUnknownType": false,
                    "isUpdatable": false,
                    "allowDBNull": true,
                    "baseCatalogName": null,
                    "baseColumnName": null,
                    "baseSchemaName": null,
                    "baseServerName": null,
                    "baseTableName": null,
                    "columnName": "course_id",
                    "columnOrdinal": 1,
                    "columnSize": 4,
                    "isAliased": null,
                    "isAutoIncrement": false,
                    "isExpression": null,
                    "isHidden": null,
                    "isIdentity": false,
                    "isKey": null,
                    "isLong": false,
                    "isReadOnly": true,
                    "isUnique": false,
                    "numericPrecision": 10,
                    "numericScale": 255,
                    "udtAssemblyQualifiedName": null,
                    "dataType": "System.Int32, System.Private.CoreLib, Version=4.0.0.0, Culture=neutral, PublicKeyToken=7cec85d7bea7798e",
                    "dataTypeName": "int"
                }
            ],
            "specialAction": {
                "none": true,
                "expectYukonXMLShowPlan": false
            }
        }
    },
    "execution_count": 30,
    "data": {
        "application/vnd.dataresource+json": {
            "schema": {
                "fields": [
                    {
                        "name": "sec_id"
                    },
                    {
                        "name": "course_id"
                    }
                ]
            },
            "data": [
                {
                    "0": "1",
                    "1": "303"
                }
            ]
        },
        "text/html": [
            "<table>",
            "<tr><th>sec_id</th><th>course_id</th></tr>",
            "<tr><td>1</td><td>303</td></tr>",
            "</table>"
        ]
    }
}
],
            "execution_count": 30
        }
    ]
}