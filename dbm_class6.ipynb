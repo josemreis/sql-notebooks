{
    "metadata": {
        "kernelspec": {
            "name": "SQL",
            "display_name": "SQL",
            "language": "sql"
        },
        "language_info": {
            "name": "sql",
            "version": ""
        }
    },
    "nbformat_minor": 2,
    "nbformat": 4,
    "cells": [
        {
            "cell_type": "markdown",
            "source": [
                "# Introduction to SQL\n",
                "\n",
                "## Overview of the SQL query language\n",
                "\n",
                "The **Structured Query Language (SQL)** has several parts:\n",
                "\n",
                "1. **Data-definition language (DDL)**; the SQL DDL provides commands for defining relation schemas (e.g. ``student (age, name, sex, ...)``), deleting relations, and modifying relation schemas. Specifically with commands for:\n",
                "    * **Integrity**; specifying integrity constraints that the data stored in the database must satisfy. Updates that violate integrity constraints are disallowed.\n",
                "    * **View definition**;\n",
                "2. **Data-manipulation language (DML)**; the SQL DML provides the ability to query information from the database and to insert tuples into, delete tuples from, and modify tuples in a database. Here, it seems crucial to point out that SQL allows for:\n",
                "    * **transaction control**; a transaction is a unit of work performed against a database, such as update or delete; SQL contains commands to control whether the transactions are actually concluded or not which is useful to guarantee the integrity of the database, namely via commands such as ``COMMIT`` or ``ROLL BACK``\n",
                "\n",
                "## Basic data types\n",
                "\n",
                "Main built-in data types supported:\n",
                "\n",
                "* ``char(n)``; a fixed-length character string with user-specified length n, if the string is shorter than *n* SQL recycles it with spaces, e.g. if ``char(3)``,\"hi\" becomes \"hi \"\n",
                "* ``varchar(n)``; A variable-length character string with user-specified maximum length;\n",
                "* ``boolean``; logical values TRUE, FALSE AND UNKNOWN\n",
                "* ``int``; An integer;\n",
                "* ``smallint``; \n",
                "* ``numeric(p,d)``; a fixed-point number with user-specified precision, defined by the *p* parameter as number of digits of the number, and *d* as the number of the *p* digits to the right of the decimal point.\n",
                "* ``real, double precision``; Floating-point and double-precision floating-point numbers with machine dependent precision;\n",
                "* ``float(n)``; A floating-point number wiht precision of at least n digits\n",
                "* ``date``; defaults to the following format YYYY-MM-DD. For other formats, including time and datetime, [see](https://docs.microsoft.com/en-us/sql/t-sql/data-types/date-transact-sql?view=sql-server-ver15)\n",
                "\n",
                "## Basic Schema Definition (creating databases and tables)\n",
                "\n",
                "Before actually writting the code, lets create a temp database. If it already exists delete it.\n",
                "\n",
                ""
            ],
            "metadata": {
                "azdata_cell_guid": "659ec809-d657-4975-ba36-1d6464a2d645"
            }
        },
        {
            "cell_type": "code",
            "source": [
                "-- conditional creation of a temporary database\n",
                "USE master;\n",
                "GO\n",
                "IF EXISTS (SELECT * FROM sys.databases WHERE name = 'uni')\n",
                "    BEGIN\n",
                "        -- delete the db\n",
                "        DROP DATABASE uni\n",
                "    END\n",
                "ELSE \n",
                "    BEGIN\n",
                "        -- create it\n",
                "        CREATE DATABASE uni\n",
                "    END;\n",
                "GO\n",
                "\n",
                "-- double check\n",
                "SELECT name, database_id AS id FROM sys.databases WHERE name = 'uni';\n",
                "GO"
            ],
            "metadata": {
                "azdata_cell_guid": "aab3b5b2-bdbc-41fa-8255-facff0667ac1"
            },
            "outputs": [
                {
                    "output_type": "display_data",
                    "data": {
                        "text/html": "Commands completed successfully."
                    },
                    "metadata": {}
                },
                {
                    "output_type": "display_data",
                    "data": {
                        "text/html": "Commands completed successfully."
                    },
                    "metadata": {}
                },
                {
                    "output_type": "display_data",
                    "data": {
                        "text/html": "(1 row affected)"
                    },
                    "metadata": {}
                },
                {
                    "output_type": "display_data",
                    "data": {
                        "text/html": "Total execution time: 00:00:00.715"
                    },
                    "metadata": {}
                },
                {
                    "output_type": "execute_result",
                    "metadata": {
                        "resultSet": {
                            "id": 0,
                            "batchId": 2,
                            "rowCount": 1,
                            "complete": true,
                            "columnInfo": [
                                {
                                    "isBytes": false,
                                    "isChars": true,
                                    "isSqlVariant": false,
                                    "isUdt": false,
                                    "isXml": false,
                                    "isJson": false,
                                    "sqlDbType": 12,
                                    "isHierarchyId": false,
                                    "isSqlXmlType": false,
                                    "isUnknownType": false,
                                    "isUpdatable": false,
                                    "allowDBNull": true,
                                    "baseCatalogName": null,
                                    "baseColumnName": null,
                                    "baseSchemaName": null,
                                    "baseServerName": null,
                                    "baseTableName": null,
                                    "columnName": "name",
                                    "columnOrdinal": 0,
                                    "columnSize": 128,
                                    "isAliased": null,
                                    "isAutoIncrement": false,
                                    "isExpression": null,
                                    "isHidden": null,
                                    "isIdentity": false,
                                    "isKey": null,
                                    "isLong": false,
                                    "isReadOnly": true,
                                    "isUnique": false,
                                    "numericPrecision": 255,
                                    "numericScale": 255,
                                    "udtAssemblyQualifiedName": null,
                                    "dataType": "System.String, System.Private.CoreLib, Version=4.0.0.0, Culture=neutral, PublicKeyToken=7cec85d7bea7798e",
                                    "dataTypeName": "nvarchar"
                                },
                                {
                                    "isBytes": false,
                                    "isChars": false,
                                    "isSqlVariant": false,
                                    "isUdt": false,
                                    "isXml": false,
                                    "isJson": false,
                                    "sqlDbType": 8,
                                    "isHierarchyId": false,
                                    "isSqlXmlType": false,
                                    "isUnknownType": false,
                                    "isUpdatable": true,
                                    "allowDBNull": false,
                                    "baseCatalogName": null,
                                    "baseColumnName": null,
                                    "baseSchemaName": null,
                                    "baseServerName": null,
                                    "baseTableName": null,
                                    "columnName": "id",
                                    "columnOrdinal": 1,
                                    "columnSize": 4,
                                    "isAliased": null,
                                    "isAutoIncrement": false,
                                    "isExpression": null,
                                    "isHidden": null,
                                    "isIdentity": false,
                                    "isKey": null,
                                    "isLong": false,
                                    "isReadOnly": false,
                                    "isUnique": false,
                                    "numericPrecision": 10,
                                    "numericScale": 255,
                                    "udtAssemblyQualifiedName": null,
                                    "dataType": "System.Int32, System.Private.CoreLib, Version=4.0.0.0, Culture=neutral, PublicKeyToken=7cec85d7bea7798e",
                                    "dataTypeName": "int"
                                }
                            ],
                            "specialAction": {
                                "none": true,
                                "expectYukonXMLShowPlan": false
                            }
                        }
                    },
                    "execution_count": 35,
                    "data": {
                        "application/vnd.dataresource+json": {
                            "schema": {
                                "fields": [
                                    {
                                        "name": "name"
                                    },
                                    {
                                        "name": "id"
                                    }
                                ]
                            },
                            "data": [
                                {
                                    "0": "uni",
                                    "1": "7"
                                }
                            ]
                        },
                        "text/html": [
                            "<table>",
                            "<tr><th>name</th><th>id</th></tr>",
                            "<tr><td>uni</td><td>7</td></tr>",
                            "</table>"
                        ]
                    }
                }
            ],
            "execution_count": 35
        },
        {
            "cell_type": "markdown",
            "source": [
                "We define a SQL relation via the <code>CREATE TABLE</code> command. The command below defines the relation department. Notice that integrity constraints are added at the bottom within a list. In this cade we specificy that dept_name is the primary key of the department relation."
            ],
            "metadata": {
                "azdata_cell_guid": "0b379d90-27c2-4b1c-a8bb-da6f6a50ccaf"
            }
        },
        {
            "cell_type": "code",
            "source": [
                "-- select the relevant db\n",
                "USE uni;\n",
                "GO\n",
                "\n",
                "-- creat the dept table\n",
                "CREATE TABLE department (\n",
                "    dept_name VARCHAR(20),\n",
                "    building VARCHAR(15),\n",
                "    budget numeric (12,2),\n",
                "    PRIMARY KEY (dept_name)\n",
                ")\n",
                "\n",
                "-- double-check\n",
                "SELECT * FROM department;\n",
                "GO"
            ],
            "metadata": {
                "azdata_cell_guid": "3802d6e8-60e6-4ef4-ae21-f8dacbc803f8"
            },
            "outputs": [
                {
                    "output_type": "display_data",
                    "data": {
                        "text/html": "Commands completed successfully."
                    },
                    "metadata": {}
                },
                {
                    "output_type": "display_data",
                    "data": {
                        "text/html": "(0 rows affected)"
                    },
                    "metadata": {}
                },
                {
                    "output_type": "display_data",
                    "data": {
                        "text/html": "Total execution time: 00:00:00.007"
                    },
                    "metadata": {}
                },
                {
                    "output_type": "execute_result",
                    "metadata": {
                        "resultSet": {
                            "id": 0,
                            "batchId": 1,
                            "rowCount": 0,
                            "complete": false,
                            "columnInfo": [
                                {
                                    "isBytes": false,
                                    "isChars": true,
                                    "isSqlVariant": false,
                                    "isUdt": false,
                                    "isXml": false,
                                    "isJson": false,
                                    "sqlDbType": 22,
                                    "isHierarchyId": false,
                                    "isSqlXmlType": false,
                                    "isUnknownType": false,
                                    "isUpdatable": true,
                                    "allowDBNull": false,
                                    "baseCatalogName": null,
                                    "baseColumnName": null,
                                    "baseSchemaName": null,
                                    "baseServerName": null,
                                    "baseTableName": null,
                                    "columnName": "dept_name",
                                    "columnOrdinal": 0,
                                    "columnSize": 20,
                                    "isAliased": null,
                                    "isAutoIncrement": false,
                                    "isExpression": null,
                                    "isHidden": null,
                                    "isIdentity": false,
                                    "isKey": null,
                                    "isLong": false,
                                    "isReadOnly": false,
                                    "isUnique": false,
                                    "numericPrecision": 255,
                                    "numericScale": 255,
                                    "udtAssemblyQualifiedName": null,
                                    "dataType": "System.String, System.Private.CoreLib, Version=4.0.0.0, Culture=neutral, PublicKeyToken=7cec85d7bea7798e",
                                    "dataTypeName": "varchar"
                                },
                                {
                                    "isBytes": false,
                                    "isChars": true,
                                    "isSqlVariant": false,
                                    "isUdt": false,
                                    "isXml": false,
                                    "isJson": false,
                                    "sqlDbType": 22,
                                    "isHierarchyId": false,
                                    "isSqlXmlType": false,
                                    "isUnknownType": false,
                                    "isUpdatable": true,
                                    "allowDBNull": true,
                                    "baseCatalogName": null,
                                    "baseColumnName": null,
                                    "baseSchemaName": null,
                                    "baseServerName": null,
                                    "baseTableName": null,
                                    "columnName": "building",
                                    "columnOrdinal": 1,
                                    "columnSize": 15,
                                    "isAliased": null,
                                    "isAutoIncrement": false,
                                    "isExpression": null,
                                    "isHidden": null,
                                    "isIdentity": false,
                                    "isKey": null,
                                    "isLong": false,
                                    "isReadOnly": false,
                                    "isUnique": false,
                                    "numericPrecision": 255,
                                    "numericScale": 255,
                                    "udtAssemblyQualifiedName": null,
                                    "dataType": "System.String, System.Private.CoreLib, Version=4.0.0.0, Culture=neutral, PublicKeyToken=7cec85d7bea7798e",
                                    "dataTypeName": "varchar"
                                },
                                {
                                    "isBytes": false,
                                    "isChars": false,
                                    "isSqlVariant": false,
                                    "isUdt": false,
                                    "isXml": false,
                                    "isJson": false,
                                    "sqlDbType": 5,
                                    "isHierarchyId": false,
                                    "isSqlXmlType": false,
                                    "isUnknownType": false,
                                    "isUpdatable": true,
                                    "allowDBNull": true,
                                    "baseCatalogName": null,
                                    "baseColumnName": null,
                                    "baseSchemaName": null,
                                    "baseServerName": null,
                                    "baseTableName": null,
                                    "columnName": "budget",
                                    "columnOrdinal": 2,
                                    "columnSize": 17,
                                    "isAliased": null,
                                    "isAutoIncrement": false,
                                    "isExpression": null,
                                    "isHidden": null,
                                    "isIdentity": false,
                                    "isKey": null,
                                    "isLong": false,
                                    "isReadOnly": false,
                                    "isUnique": false,
                                    "numericPrecision": 12,
                                    "numericScale": 2,
                                    "udtAssemblyQualifiedName": null,
                                    "dataType": "System.Decimal, System.Private.CoreLib, Version=4.0.0.0, Culture=neutral, PublicKeyToken=7cec85d7bea7798e",
                                    "dataTypeName": "decimal"
                                }
                            ],
                            "specialAction": null
                        }
                    },
                    "execution_count": 36,
                    "data": {
                        "application/vnd.dataresource+json": {
                            "schema": {
                                "fields": [
                                    {
                                        "name": "dept_name"
                                    },
                                    {
                                        "name": "building"
                                    },
                                    {
                                        "name": "budget"
                                    }
                                ]
                            },
                            "data": []
                        },
                        "text/html": [
                            "<table>",
                            "<tr><th>dept_name</th><th>building</th><th>budget</th></tr>",
                            "</table>"
                        ]
                    }
                }
            ],
            "execution_count": 36
        },
        {
            "cell_type": "markdown",
            "source": [
                "Sql <strong>supports a number of different integrity constraints</strong>, namely:\n",
                "\n",
                "- `FOREIGN KEY (A_1, ..., A_n) REFERENCE s`; recall that foreign key restriction state that the value of attributes `(A_1, ..., A_n)` for any tuple in the relation must correspond to values of the primary key attributes of some tuple in relation s.<br>\n",
                "\n",
                "<br>"
            ],
            "metadata": {
                "azdata_cell_guid": "095fe054-fcbd-48b4-9c9c-283318ec0bc1"
            }
        },
        {
            "cell_type": "code",
            "source": [
                "--create another table\n",
                "CREATE TABLE professors (\n",
                "    prof_id int,\n",
                "    prof_name varchar(250),\n",
                "    salary NUMERIC(8,2),\n",
                "    dept_name varchar(20),\n",
                "    PRIMARY KEY (prof_id),\n",
                "    FOREIGN KEY (dept_name) REFERENCES department\n",
                ");\n",
                "GO\n",
                "\n",
                "SELECT * FROM professors;\n",
                "GO"
            ],
            "metadata": {
                "azdata_cell_guid": "ee4bc07f-4161-4022-96c2-cac359739411"
            },
            "outputs": [
                {
                    "output_type": "display_data",
                    "data": {
                        "text/html": "Commands completed successfully."
                    },
                    "metadata": {}
                },
                {
                    "output_type": "display_data",
                    "data": {
                        "text/html": "(0 rows affected)"
                    },
                    "metadata": {}
                },
                {
                    "output_type": "display_data",
                    "data": {
                        "text/html": "Total execution time: 00:00:00.011"
                    },
                    "metadata": {}
                },
                {
                    "output_type": "execute_result",
                    "metadata": {
                        "resultSet": {
                            "id": 0,
                            "batchId": 1,
                            "rowCount": 0,
                            "complete": false,
                            "columnInfo": [
                                {
                                    "isBytes": false,
                                    "isChars": false,
                                    "isSqlVariant": false,
                                    "isUdt": false,
                                    "isXml": false,
                                    "isJson": false,
                                    "sqlDbType": 8,
                                    "isHierarchyId": false,
                                    "isSqlXmlType": false,
                                    "isUnknownType": false,
                                    "isUpdatable": true,
                                    "allowDBNull": false,
                                    "baseCatalogName": null,
                                    "baseColumnName": null,
                                    "baseSchemaName": null,
                                    "baseServerName": null,
                                    "baseTableName": null,
                                    "columnName": "prof_id",
                                    "columnOrdinal": 0,
                                    "columnSize": 4,
                                    "isAliased": null,
                                    "isAutoIncrement": false,
                                    "isExpression": null,
                                    "isHidden": null,
                                    "isIdentity": false,
                                    "isKey": null,
                                    "isLong": false,
                                    "isReadOnly": false,
                                    "isUnique": false,
                                    "numericPrecision": 10,
                                    "numericScale": 255,
                                    "udtAssemblyQualifiedName": null,
                                    "dataType": "System.Int32, System.Private.CoreLib, Version=4.0.0.0, Culture=neutral, PublicKeyToken=7cec85d7bea7798e",
                                    "dataTypeName": "int"
                                },
                                {
                                    "isBytes": false,
                                    "isChars": true,
                                    "isSqlVariant": false,
                                    "isUdt": false,
                                    "isXml": false,
                                    "isJson": false,
                                    "sqlDbType": 22,
                                    "isHierarchyId": false,
                                    "isSqlXmlType": false,
                                    "isUnknownType": false,
                                    "isUpdatable": true,
                                    "allowDBNull": true,
                                    "baseCatalogName": null,
                                    "baseColumnName": null,
                                    "baseSchemaName": null,
                                    "baseServerName": null,
                                    "baseTableName": null,
                                    "columnName": "prof_name",
                                    "columnOrdinal": 1,
                                    "columnSize": 250,
                                    "isAliased": null,
                                    "isAutoIncrement": false,
                                    "isExpression": null,
                                    "isHidden": null,
                                    "isIdentity": false,
                                    "isKey": null,
                                    "isLong": false,
                                    "isReadOnly": false,
                                    "isUnique": false,
                                    "numericPrecision": 255,
                                    "numericScale": 255,
                                    "udtAssemblyQualifiedName": null,
                                    "dataType": "System.String, System.Private.CoreLib, Version=4.0.0.0, Culture=neutral, PublicKeyToken=7cec85d7bea7798e",
                                    "dataTypeName": "varchar"
                                },
                                {
                                    "isBytes": false,
                                    "isChars": false,
                                    "isSqlVariant": false,
                                    "isUdt": false,
                                    "isXml": false,
                                    "isJson": false,
                                    "sqlDbType": 5,
                                    "isHierarchyId": false,
                                    "isSqlXmlType": false,
                                    "isUnknownType": false,
                                    "isUpdatable": true,
                                    "allowDBNull": true,
                                    "baseCatalogName": null,
                                    "baseColumnName": null,
                                    "baseSchemaName": null,
                                    "baseServerName": null,
                                    "baseTableName": null,
                                    "columnName": "salary",
                                    "columnOrdinal": 2,
                                    "columnSize": 17,
                                    "isAliased": null,
                                    "isAutoIncrement": false,
                                    "isExpression": null,
                                    "isHidden": null,
                                    "isIdentity": false,
                                    "isKey": null,
                                    "isLong": false,
                                    "isReadOnly": false,
                                    "isUnique": false,
                                    "numericPrecision": 8,
                                    "numericScale": 2,
                                    "udtAssemblyQualifiedName": null,
                                    "dataType": "System.Decimal, System.Private.CoreLib, Version=4.0.0.0, Culture=neutral, PublicKeyToken=7cec85d7bea7798e",
                                    "dataTypeName": "decimal"
                                },
                                {
                                    "isBytes": false,
                                    "isChars": true,
                                    "isSqlVariant": false,
                                    "isUdt": false,
                                    "isXml": false,
                                    "isJson": false,
                                    "sqlDbType": 22,
                                    "isHierarchyId": false,
                                    "isSqlXmlType": false,
                                    "isUnknownType": false,
                                    "isUpdatable": true,
                                    "allowDBNull": true,
                                    "baseCatalogName": null,
                                    "baseColumnName": null,
                                    "baseSchemaName": null,
                                    "baseServerName": null,
                                    "baseTableName": null,
                                    "columnName": "dept_name",
                                    "columnOrdinal": 3,
                                    "columnSize": 20,
                                    "isAliased": null,
                                    "isAutoIncrement": false,
                                    "isExpression": null,
                                    "isHidden": null,
                                    "isIdentity": false,
                                    "isKey": null,
                                    "isLong": false,
                                    "isReadOnly": false,
                                    "isUnique": false,
                                    "numericPrecision": 255,
                                    "numericScale": 255,
                                    "udtAssemblyQualifiedName": null,
                                    "dataType": "System.String, System.Private.CoreLib, Version=4.0.0.0, Culture=neutral, PublicKeyToken=7cec85d7bea7798e",
                                    "dataTypeName": "varchar"
                                }
                            ],
                            "specialAction": null
                        }
                    },
                    "execution_count": 37,
                    "data": {
                        "application/vnd.dataresource+json": {
                            "schema": {
                                "fields": [
                                    {
                                        "name": "prof_id"
                                    },
                                    {
                                        "name": "prof_name"
                                    },
                                    {
                                        "name": "salary"
                                    },
                                    {
                                        "name": "dept_name"
                                    }
                                ]
                            },
                            "data": []
                        },
                        "text/html": [
                            "<table>",
                            "<tr><th>prof_id</th><th>prof_name</th><th>salary</th><th>dept_name</th></tr>",
                            "</table>"
                        ]
                    }
                }
            ],
            "execution_count": 37
        },
        {
            "cell_type": "markdown",
            "source": [
                "- `PRIMARY KEY ((A_1, ..., A_n)`; the primary key attributes are required to be **non-null** and **unique**. The primary key specifications are optional but strongly recommended."
            ],
            "metadata": {
                "azdata_cell_guid": "b2c73aa3-4b46-414f-86f9-41fb587b2e54"
            }
        },
        {
            "cell_type": "code",
            "source": [
                "-- another example\n",
                "CREATE TABLE courses (\n",
                "    course_id int,\n",
                "    title varchar(15),\n",
                "    dept_name varchar(20),\n",
                "    PRIMARY KEY (course_id),\n",
                "    FOREIGN KEY (dept_name) REFERENCES department\n",
                ");\n",
                "GO\n",
                "\n",
                "-- primary key can be composed by many fields\n",
                "CREATE TABLE teaches(\n",
                "    prof_id int,\n",
                "    course_id int,\n",
                "    semester varchar(6),\n",
                "    year numeric(4,0),\n",
                "    PRIMARY KEY (prof_id, course_id, semester, year),\n",
                "    FOREIGN KEY (course_id) REFERENCES courses,\n",
                "    FOREIGN KEY (prof_id) REFERENCES professors,\n",
                ");\n",
                "GO\n",
                "\n",
                "SELECT * FROM courses;\n",
                "GO\n",
                "\n",
                "SELECT * FROM teaches;\n",
                "GO"
            ],
            "metadata": {
                "azdata_cell_guid": "f12dfc35-b642-4f45-b9df-af2ecb623dfc"
            },
            "outputs": [
                {
                    "output_type": "display_data",
                    "data": {
                        "text/html": "Commands completed successfully."
                    },
                    "metadata": {}
                },
                {
                    "output_type": "display_data",
                    "data": {
                        "text/html": "Commands completed successfully."
                    },
                    "metadata": {}
                },
                {
                    "output_type": "display_data",
                    "data": {
                        "text/html": "(0 rows affected)"
                    },
                    "metadata": {}
                },
                {
                    "output_type": "display_data",
                    "data": {
                        "text/html": "(0 rows affected)"
                    },
                    "metadata": {}
                },
                {
                    "output_type": "display_data",
                    "data": {
                        "text/html": "Total execution time: 00:00:00.015"
                    },
                    "metadata": {}
                },
                {
                    "output_type": "execute_result",
                    "metadata": {
                        "resultSet": {
                            "id": 0,
                            "batchId": 2,
                            "rowCount": 0,
                            "complete": false,
                            "columnInfo": [
                                {
                                    "isBytes": false,
                                    "isChars": false,
                                    "isSqlVariant": false,
                                    "isUdt": false,
                                    "isXml": false,
                                    "isJson": false,
                                    "sqlDbType": 8,
                                    "isHierarchyId": false,
                                    "isSqlXmlType": false,
                                    "isUnknownType": false,
                                    "isUpdatable": true,
                                    "allowDBNull": false,
                                    "baseCatalogName": null,
                                    "baseColumnName": null,
                                    "baseSchemaName": null,
                                    "baseServerName": null,
                                    "baseTableName": null,
                                    "columnName": "course_id",
                                    "columnOrdinal": 0,
                                    "columnSize": 4,
                                    "isAliased": null,
                                    "isAutoIncrement": false,
                                    "isExpression": null,
                                    "isHidden": null,
                                    "isIdentity": false,
                                    "isKey": null,
                                    "isLong": false,
                                    "isReadOnly": false,
                                    "isUnique": false,
                                    "numericPrecision": 10,
                                    "numericScale": 255,
                                    "udtAssemblyQualifiedName": null,
                                    "dataType": "System.Int32, System.Private.CoreLib, Version=4.0.0.0, Culture=neutral, PublicKeyToken=7cec85d7bea7798e",
                                    "dataTypeName": "int"
                                },
                                {
                                    "isBytes": false,
                                    "isChars": true,
                                    "isSqlVariant": false,
                                    "isUdt": false,
                                    "isXml": false,
                                    "isJson": false,
                                    "sqlDbType": 22,
                                    "isHierarchyId": false,
                                    "isSqlXmlType": false,
                                    "isUnknownType": false,
                                    "isUpdatable": true,
                                    "allowDBNull": true,
                                    "baseCatalogName": null,
                                    "baseColumnName": null,
                                    "baseSchemaName": null,
                                    "baseServerName": null,
                                    "baseTableName": null,
                                    "columnName": "title",
                                    "columnOrdinal": 1,
                                    "columnSize": 15,
                                    "isAliased": null,
                                    "isAutoIncrement": false,
                                    "isExpression": null,
                                    "isHidden": null,
                                    "isIdentity": false,
                                    "isKey": null,
                                    "isLong": false,
                                    "isReadOnly": false,
                                    "isUnique": false,
                                    "numericPrecision": 255,
                                    "numericScale": 255,
                                    "udtAssemblyQualifiedName": null,
                                    "dataType": "System.String, System.Private.CoreLib, Version=4.0.0.0, Culture=neutral, PublicKeyToken=7cec85d7bea7798e",
                                    "dataTypeName": "varchar"
                                },
                                {
                                    "isBytes": false,
                                    "isChars": true,
                                    "isSqlVariant": false,
                                    "isUdt": false,
                                    "isXml": false,
                                    "isJson": false,
                                    "sqlDbType": 22,
                                    "isHierarchyId": false,
                                    "isSqlXmlType": false,
                                    "isUnknownType": false,
                                    "isUpdatable": true,
                                    "allowDBNull": true,
                                    "baseCatalogName": null,
                                    "baseColumnName": null,
                                    "baseSchemaName": null,
                                    "baseServerName": null,
                                    "baseTableName": null,
                                    "columnName": "dept_name",
                                    "columnOrdinal": 2,
                                    "columnSize": 20,
                                    "isAliased": null,
                                    "isAutoIncrement": false,
                                    "isExpression": null,
                                    "isHidden": null,
                                    "isIdentity": false,
                                    "isKey": null,
                                    "isLong": false,
                                    "isReadOnly": false,
                                    "isUnique": false,
                                    "numericPrecision": 255,
                                    "numericScale": 255,
                                    "udtAssemblyQualifiedName": null,
                                    "dataType": "System.String, System.Private.CoreLib, Version=4.0.0.0, Culture=neutral, PublicKeyToken=7cec85d7bea7798e",
                                    "dataTypeName": "varchar"
                                }
                            ],
                            "specialAction": null
                        }
                    },
                    "execution_count": 38,
                    "data": {
                        "application/vnd.dataresource+json": {
                            "schema": {
                                "fields": [
                                    {
                                        "name": "course_id"
                                    },
                                    {
                                        "name": "title"
                                    },
                                    {
                                        "name": "dept_name"
                                    }
                                ]
                            },
                            "data": []
                        },
                        "text/html": [
                            "<table>",
                            "<tr><th>course_id</th><th>title</th><th>dept_name</th></tr>",
                            "</table>"
                        ]
                    }
                },
                {
                    "output_type": "execute_result",
                    "metadata": {
                        "resultSet": {
                            "id": 0,
                            "batchId": 3,
                            "rowCount": 0,
                            "complete": false,
                            "columnInfo": [
                                {
                                    "isBytes": false,
                                    "isChars": false,
                                    "isSqlVariant": false,
                                    "isUdt": false,
                                    "isXml": false,
                                    "isJson": false,
                                    "sqlDbType": 8,
                                    "isHierarchyId": false,
                                    "isSqlXmlType": false,
                                    "isUnknownType": false,
                                    "isUpdatable": true,
                                    "allowDBNull": false,
                                    "baseCatalogName": null,
                                    "baseColumnName": null,
                                    "baseSchemaName": null,
                                    "baseServerName": null,
                                    "baseTableName": null,
                                    "columnName": "prof_id",
                                    "columnOrdinal": 0,
                                    "columnSize": 4,
                                    "isAliased": null,
                                    "isAutoIncrement": false,
                                    "isExpression": null,
                                    "isHidden": null,
                                    "isIdentity": false,
                                    "isKey": null,
                                    "isLong": false,
                                    "isReadOnly": false,
                                    "isUnique": false,
                                    "numericPrecision": 10,
                                    "numericScale": 255,
                                    "udtAssemblyQualifiedName": null,
                                    "dataType": "System.Int32, System.Private.CoreLib, Version=4.0.0.0, Culture=neutral, PublicKeyToken=7cec85d7bea7798e",
                                    "dataTypeName": "int"
                                },
                                {
                                    "isBytes": false,
                                    "isChars": false,
                                    "isSqlVariant": false,
                                    "isUdt": false,
                                    "isXml": false,
                                    "isJson": false,
                                    "sqlDbType": 8,
                                    "isHierarchyId": false,
                                    "isSqlXmlType": false,
                                    "isUnknownType": false,
                                    "isUpdatable": true,
                                    "allowDBNull": false,
                                    "baseCatalogName": null,
                                    "baseColumnName": null,
                                    "baseSchemaName": null,
                                    "baseServerName": null,
                                    "baseTableName": null,
                                    "columnName": "course_id",
                                    "columnOrdinal": 1,
                                    "columnSize": 4,
                                    "isAliased": null,
                                    "isAutoIncrement": false,
                                    "isExpression": null,
                                    "isHidden": null,
                                    "isIdentity": false,
                                    "isKey": null,
                                    "isLong": false,
                                    "isReadOnly": false,
                                    "isUnique": false,
                                    "numericPrecision": 10,
                                    "numericScale": 255,
                                    "udtAssemblyQualifiedName": null,
                                    "dataType": "System.Int32, System.Private.CoreLib, Version=4.0.0.0, Culture=neutral, PublicKeyToken=7cec85d7bea7798e",
                                    "dataTypeName": "int"
                                },
                                {
                                    "isBytes": false,
                                    "isChars": true,
                                    "isSqlVariant": false,
                                    "isUdt": false,
                                    "isXml": false,
                                    "isJson": false,
                                    "sqlDbType": 22,
                                    "isHierarchyId": false,
                                    "isSqlXmlType": false,
                                    "isUnknownType": false,
                                    "isUpdatable": true,
                                    "allowDBNull": false,
                                    "baseCatalogName": null,
                                    "baseColumnName": null,
                                    "baseSchemaName": null,
                                    "baseServerName": null,
                                    "baseTableName": null,
                                    "columnName": "semester",
                                    "columnOrdinal": 2,
                                    "columnSize": 6,
                                    "isAliased": null,
                                    "isAutoIncrement": false,
                                    "isExpression": null,
                                    "isHidden": null,
                                    "isIdentity": false,
                                    "isKey": null,
                                    "isLong": false,
                                    "isReadOnly": false,
                                    "isUnique": false,
                                    "numericPrecision": 255,
                                    "numericScale": 255,
                                    "udtAssemblyQualifiedName": null,
                                    "dataType": "System.String, System.Private.CoreLib, Version=4.0.0.0, Culture=neutral, PublicKeyToken=7cec85d7bea7798e",
                                    "dataTypeName": "varchar"
                                },
                                {
                                    "isBytes": false,
                                    "isChars": false,
                                    "isSqlVariant": false,
                                    "isUdt": false,
                                    "isXml": false,
                                    "isJson": false,
                                    "sqlDbType": 5,
                                    "isHierarchyId": false,
                                    "isSqlXmlType": false,
                                    "isUnknownType": false,
                                    "isUpdatable": true,
                                    "allowDBNull": false,
                                    "baseCatalogName": null,
                                    "baseColumnName": null,
                                    "baseSchemaName": null,
                                    "baseServerName": null,
                                    "baseTableName": null,
                                    "columnName": "year",
                                    "columnOrdinal": 3,
                                    "columnSize": 17,
                                    "isAliased": null,
                                    "isAutoIncrement": false,
                                    "isExpression": null,
                                    "isHidden": null,
                                    "isIdentity": false,
                                    "isKey": null,
                                    "isLong": false,
                                    "isReadOnly": false,
                                    "isUnique": false,
                                    "numericPrecision": 4,
                                    "numericScale": 0,
                                    "udtAssemblyQualifiedName": null,
                                    "dataType": "System.Decimal, System.Private.CoreLib, Version=4.0.0.0, Culture=neutral, PublicKeyToken=7cec85d7bea7798e",
                                    "dataTypeName": "decimal"
                                }
                            ],
                            "specialAction": null
                        }
                    },
                    "execution_count": 38,
                    "data": {
                        "application/vnd.dataresource+json": {
                            "schema": {
                                "fields": [
                                    {
                                        "name": "prof_id"
                                    },
                                    {
                                        "name": "course_id"
                                    },
                                    {
                                        "name": "semester"
                                    },
                                    {
                                        "name": "year"
                                    }
                                ]
                            },
                            "data": []
                        },
                        "text/html": [
                            "<table>",
                            "<tr><th>prof_id</th><th>course_id</th><th>semester</th><th>year</th></tr>",
                            "</table>"
                        ]
                    }
                }
            ],
            "execution_count": 38
        },
        {
            "cell_type": "markdown",
            "source": [
                "## Droping dabases and tables\n",
                "\n",
                "It is pretty straightforward."
            ],
            "metadata": {
                "azdata_cell_guid": "68e442b5-dd58-4543-9e58-32bd51a7bfd1"
            }
        },
        {
            "cell_type": "code",
            "source": [
                "-- Switch database being used\n",
                "USE master;\n",
                "GO\n",
                "-- droping a database as a whole\n",
                "DROP DATABASE uni;\n",
                "GO\n",
                "-- rebuilding it but without foreign key constraints\n",
                "CREATE DATABASE uni;\n",
                "GO\n",
                "USE uni;\n",
                "GO\n",
                "CREATE TABLE courses (\n",
                "    course_id int,\n",
                "    title varchar(15),\n",
                "    dept_name varchar(20),\n",
                "    PRIMARY KEY (course_id)\n",
                ");\n",
                "GO\n",
                "CREATE TABLE teaches(\n",
                "    prof_id int,\n",
                "    course_id int,\n",
                "    semester varchar(6),\n",
                "    year numeric(4,0),\n",
                "    PRIMARY KEY (prof_id, course_id, semester, year)\n",
                ");\n",
                "GO\n",
                "CREATE TABLE professors (\n",
                "    prof_id int,\n",
                "    prof_name varchar(250),\n",
                "    salary NUMERIC(8,2),\n",
                "    dept_name varchar(20),\n",
                "    PRIMARY KEY (prof_id),\n",
                ");\n",
                "GO\n",
                "\n",
                "SELECT name, object_id AS id FROM sys.tables;\n",
                "GO \n",
                "-- Drop a table\n",
                "DROP TABLE courses;\n",
                "GO\n",
                "-- check\n",
                "SELECT name, object_id AS id FROM sys.tables;\n",
                "GO \n",
                "-- Drop two tables\n",
                "DROP TABLE teaches, professors;\n",
                "GO\n",
                "-- check\n",
                "SELECT name, object_id AS id FROM sys.tables;\n",
                "GO\n",
                "-- Switch database being used\n",
                "USE tempdb;\n",
                "GO\n",
                "-- Drop the entire database\n",
                "DROP DATABASE uni;\n",
                "GO\n",
                "-- check\n",
                "SELECT name FROM sys.databases;\n",
                "GO  "
            ],
            "metadata": {
                "azdata_cell_guid": "6d191b65-46b5-44c3-8a17-39c65599ae35"
            },
            "outputs": [
                {
                    "output_type": "display_data",
                    "data": {
                        "text/html": "Commands completed successfully."
                    },
                    "metadata": {}
                },
                {
                    "output_type": "display_data",
                    "data": {
                        "text/html": "Commands completed successfully."
                    },
                    "metadata": {}
                },
                {
                    "output_type": "display_data",
                    "data": {
                        "text/html": "Commands completed successfully."
                    },
                    "metadata": {}
                },
                {
                    "output_type": "display_data",
                    "data": {
                        "text/html": "Commands completed successfully."
                    },
                    "metadata": {}
                },
                {
                    "output_type": "display_data",
                    "data": {
                        "text/html": "Commands completed successfully."
                    },
                    "metadata": {}
                },
                {
                    "output_type": "display_data",
                    "data": {
                        "text/html": "Commands completed successfully."
                    },
                    "metadata": {}
                },
                {
                    "output_type": "display_data",
                    "data": {
                        "text/html": "Commands completed successfully."
                    },
                    "metadata": {}
                },
                {
                    "output_type": "display_data",
                    "data": {
                        "text/html": "(3 rows affected)"
                    },
                    "metadata": {}
                },
                {
                    "output_type": "display_data",
                    "data": {
                        "text/html": "Commands completed successfully."
                    },
                    "metadata": {}
                },
                {
                    "output_type": "display_data",
                    "data": {
                        "text/html": "(2 rows affected)"
                    },
                    "metadata": {}
                },
                {
                    "output_type": "display_data",
                    "data": {
                        "text/html": "Commands completed successfully."
                    },
                    "metadata": {}
                },
                {
                    "output_type": "display_data",
                    "data": {
                        "text/html": "(0 rows affected)"
                    },
                    "metadata": {}
                },
                {
                    "output_type": "display_data",
                    "data": {
                        "text/html": "Commands completed successfully."
                    },
                    "metadata": {}
                },
                {
                    "output_type": "display_data",
                    "data": {
                        "text/html": "Commands completed successfully."
                    },
                    "metadata": {}
                },
                {
                    "output_type": "display_data",
                    "data": {
                        "text/html": "(6 rows affected)"
                    },
                    "metadata": {}
                },
                {
                    "output_type": "display_data",
                    "data": {
                        "text/html": "Total execution time: 00:00:00.827"
                    },
                    "metadata": {}
                },
                {
                    "output_type": "execute_result",
                    "metadata": {
                        "resultSet": {
                            "id": 0,
                            "batchId": 7,
                            "rowCount": 3,
                            "complete": true,
                            "columnInfo": [
                                {
                                    "isBytes": false,
                                    "isChars": true,
                                    "isSqlVariant": false,
                                    "isUdt": false,
                                    "isXml": false,
                                    "isJson": false,
                                    "sqlDbType": 12,
                                    "isHierarchyId": false,
                                    "isSqlXmlType": false,
                                    "isUnknownType": false,
                                    "isUpdatable": true,
                                    "allowDBNull": false,
                                    "baseCatalogName": null,
                                    "baseColumnName": null,
                                    "baseSchemaName": null,
                                    "baseServerName": null,
                                    "baseTableName": null,
                                    "columnName": "name",
                                    "columnOrdinal": 0,
                                    "columnSize": 128,
                                    "isAliased": null,
                                    "isAutoIncrement": false,
                                    "isExpression": null,
                                    "isHidden": null,
                                    "isIdentity": false,
                                    "isKey": null,
                                    "isLong": false,
                                    "isReadOnly": false,
                                    "isUnique": false,
                                    "numericPrecision": 255,
                                    "numericScale": 255,
                                    "udtAssemblyQualifiedName": null,
                                    "dataType": "System.String, System.Private.CoreLib, Version=4.0.0.0, Culture=neutral, PublicKeyToken=7cec85d7bea7798e",
                                    "dataTypeName": "nvarchar"
                                },
                                {
                                    "isBytes": false,
                                    "isChars": false,
                                    "isSqlVariant": false,
                                    "isUdt": false,
                                    "isXml": false,
                                    "isJson": false,
                                    "sqlDbType": 8,
                                    "isHierarchyId": false,
                                    "isSqlXmlType": false,
                                    "isUnknownType": false,
                                    "isUpdatable": true,
                                    "allowDBNull": false,
                                    "baseCatalogName": null,
                                    "baseColumnName": null,
                                    "baseSchemaName": null,
                                    "baseServerName": null,
                                    "baseTableName": null,
                                    "columnName": "id",
                                    "columnOrdinal": 1,
                                    "columnSize": 4,
                                    "isAliased": null,
                                    "isAutoIncrement": false,
                                    "isExpression": null,
                                    "isHidden": null,
                                    "isIdentity": false,
                                    "isKey": null,
                                    "isLong": false,
                                    "isReadOnly": false,
                                    "isUnique": false,
                                    "numericPrecision": 10,
                                    "numericScale": 255,
                                    "udtAssemblyQualifiedName": null,
                                    "dataType": "System.Int32, System.Private.CoreLib, Version=4.0.0.0, Culture=neutral, PublicKeyToken=7cec85d7bea7798e",
                                    "dataTypeName": "int"
                                }
                            ],
                            "specialAction": {
                                "none": true,
                                "expectYukonXMLShowPlan": false
                            }
                        }
                    },
                    "execution_count": 39,
                    "data": {
                        "application/vnd.dataresource+json": {
                            "schema": {
                                "fields": [
                                    {
                                        "name": "name"
                                    },
                                    {
                                        "name": "id"
                                    }
                                ]
                            },
                            "data": [
                                {
                                    "0": "courses",
                                    "1": "581577110"
                                },
                                {
                                    "0": "teaches",
                                    "1": "613577224"
                                },
                                {
                                    "0": "professors",
                                    "1": "645577338"
                                }
                            ]
                        },
                        "text/html": [
                            "<table>",
                            "<tr><th>name</th><th>id</th></tr>",
                            "<tr><td>courses</td><td>581577110</td></tr>",
                            "<tr><td>teaches</td><td>613577224</td></tr>",
                            "<tr><td>professors</td><td>645577338</td></tr>",
                            "</table>"
                        ]
                    }
                },
                {
                    "output_type": "execute_result",
                    "metadata": {
                        "resultSet": {
                            "id": 0,
                            "batchId": 9,
                            "rowCount": 2,
                            "complete": true,
                            "columnInfo": [
                                {
                                    "isBytes": false,
                                    "isChars": true,
                                    "isSqlVariant": false,
                                    "isUdt": false,
                                    "isXml": false,
                                    "isJson": false,
                                    "sqlDbType": 12,
                                    "isHierarchyId": false,
                                    "isSqlXmlType": false,
                                    "isUnknownType": false,
                                    "isUpdatable": true,
                                    "allowDBNull": false,
                                    "baseCatalogName": null,
                                    "baseColumnName": null,
                                    "baseSchemaName": null,
                                    "baseServerName": null,
                                    "baseTableName": null,
                                    "columnName": "name",
                                    "columnOrdinal": 0,
                                    "columnSize": 128,
                                    "isAliased": null,
                                    "isAutoIncrement": false,
                                    "isExpression": null,
                                    "isHidden": null,
                                    "isIdentity": false,
                                    "isKey": null,
                                    "isLong": false,
                                    "isReadOnly": false,
                                    "isUnique": false,
                                    "numericPrecision": 255,
                                    "numericScale": 255,
                                    "udtAssemblyQualifiedName": null,
                                    "dataType": "System.String, System.Private.CoreLib, Version=4.0.0.0, Culture=neutral, PublicKeyToken=7cec85d7bea7798e",
                                    "dataTypeName": "nvarchar"
                                },
                                {
                                    "isBytes": false,
                                    "isChars": false,
                                    "isSqlVariant": false,
                                    "isUdt": false,
                                    "isXml": false,
                                    "isJson": false,
                                    "sqlDbType": 8,
                                    "isHierarchyId": false,
                                    "isSqlXmlType": false,
                                    "isUnknownType": false,
                                    "isUpdatable": true,
                                    "allowDBNull": false,
                                    "baseCatalogName": null,
                                    "baseColumnName": null,
                                    "baseSchemaName": null,
                                    "baseServerName": null,
                                    "baseTableName": null,
                                    "columnName": "id",
                                    "columnOrdinal": 1,
                                    "columnSize": 4,
                                    "isAliased": null,
                                    "isAutoIncrement": false,
                                    "isExpression": null,
                                    "isHidden": null,
                                    "isIdentity": false,
                                    "isKey": null,
                                    "isLong": false,
                                    "isReadOnly": false,
                                    "isUnique": false,
                                    "numericPrecision": 10,
                                    "numericScale": 255,
                                    "udtAssemblyQualifiedName": null,
                                    "dataType": "System.Int32, System.Private.CoreLib, Version=4.0.0.0, Culture=neutral, PublicKeyToken=7cec85d7bea7798e",
                                    "dataTypeName": "int"
                                }
                            ],
                            "specialAction": {
                                "none": true,
                                "expectYukonXMLShowPlan": false
                            }
                        }
                    },
                    "execution_count": 39,
                    "data": {
                        "application/vnd.dataresource+json": {
                            "schema": {
                                "fields": [
                                    {
                                        "name": "name"
                                    },
                                    {
                                        "name": "id"
                                    }
                                ]
                            },
                            "data": [
                                {
                                    "0": "teaches",
                                    "1": "613577224"
                                },
                                {
                                    "0": "professors",
                                    "1": "645577338"
                                }
                            ]
                        },
                        "text/html": [
                            "<table>",
                            "<tr><th>name</th><th>id</th></tr>",
                            "<tr><td>teaches</td><td>613577224</td></tr>",
                            "<tr><td>professors</td><td>645577338</td></tr>",
                            "</table>"
                        ]
                    }
                },
                {
                    "output_type": "execute_result",
                    "metadata": {
                        "resultSet": {
                            "id": 0,
                            "batchId": 11,
                            "rowCount": 0,
                            "complete": false,
                            "columnInfo": [
                                {
                                    "isBytes": false,
                                    "isChars": true,
                                    "isSqlVariant": false,
                                    "isUdt": false,
                                    "isXml": false,
                                    "isJson": false,
                                    "sqlDbType": 12,
                                    "isHierarchyId": false,
                                    "isSqlXmlType": false,
                                    "isUnknownType": false,
                                    "isUpdatable": true,
                                    "allowDBNull": false,
                                    "baseCatalogName": null,
                                    "baseColumnName": null,
                                    "baseSchemaName": null,
                                    "baseServerName": null,
                                    "baseTableName": null,
                                    "columnName": "name",
                                    "columnOrdinal": 0,
                                    "columnSize": 128,
                                    "isAliased": null,
                                    "isAutoIncrement": false,
                                    "isExpression": null,
                                    "isHidden": null,
                                    "isIdentity": false,
                                    "isKey": null,
                                    "isLong": false,
                                    "isReadOnly": false,
                                    "isUnique": false,
                                    "numericPrecision": 255,
                                    "numericScale": 255,
                                    "udtAssemblyQualifiedName": null,
                                    "dataType": "System.String, System.Private.CoreLib, Version=4.0.0.0, Culture=neutral, PublicKeyToken=7cec85d7bea7798e",
                                    "dataTypeName": "nvarchar"
                                },
                                {
                                    "isBytes": false,
                                    "isChars": false,
                                    "isSqlVariant": false,
                                    "isUdt": false,
                                    "isXml": false,
                                    "isJson": false,
                                    "sqlDbType": 8,
                                    "isHierarchyId": false,
                                    "isSqlXmlType": false,
                                    "isUnknownType": false,
                                    "isUpdatable": true,
                                    "allowDBNull": false,
                                    "baseCatalogName": null,
                                    "baseColumnName": null,
                                    "baseSchemaName": null,
                                    "baseServerName": null,
                                    "baseTableName": null,
                                    "columnName": "id",
                                    "columnOrdinal": 1,
                                    "columnSize": 4,
                                    "isAliased": null,
                                    "isAutoIncrement": false,
                                    "isExpression": null,
                                    "isHidden": null,
                                    "isIdentity": false,
                                    "isKey": null,
                                    "isLong": false,
                                    "isReadOnly": false,
                                    "isUnique": false,
                                    "numericPrecision": 10,
                                    "numericScale": 255,
                                    "udtAssemblyQualifiedName": null,
                                    "dataType": "System.Int32, System.Private.CoreLib, Version=4.0.0.0, Culture=neutral, PublicKeyToken=7cec85d7bea7798e",
                                    "dataTypeName": "int"
                                }
                            ],
                            "specialAction": null
                        }
                    },
                    "execution_count": 39,
                    "data": {
                        "application/vnd.dataresource+json": {
                            "schema": {
                                "fields": [
                                    {
                                        "name": "name"
                                    },
                                    {
                                        "name": "id"
                                    }
                                ]
                            },
                            "data": []
                        },
                        "text/html": [
                            "<table>",
                            "<tr><th>name</th><th>id</th></tr>",
                            "</table>"
                        ]
                    }
                },
                {
                    "output_type": "execute_result",
                    "metadata": {
                        "resultSet": {
                            "id": 0,
                            "batchId": 14,
                            "rowCount": 6,
                            "complete": true,
                            "columnInfo": [
                                {
                                    "isBytes": false,
                                    "isChars": true,
                                    "isSqlVariant": false,
                                    "isUdt": false,
                                    "isXml": false,
                                    "isJson": false,
                                    "sqlDbType": 12,
                                    "isHierarchyId": false,
                                    "isSqlXmlType": false,
                                    "isUnknownType": false,
                                    "isUpdatable": false,
                                    "allowDBNull": true,
                                    "baseCatalogName": null,
                                    "baseColumnName": null,
                                    "baseSchemaName": null,
                                    "baseServerName": null,
                                    "baseTableName": null,
                                    "columnName": "name",
                                    "columnOrdinal": 0,
                                    "columnSize": 128,
                                    "isAliased": null,
                                    "isAutoIncrement": false,
                                    "isExpression": null,
                                    "isHidden": null,
                                    "isIdentity": false,
                                    "isKey": null,
                                    "isLong": false,
                                    "isReadOnly": true,
                                    "isUnique": false,
                                    "numericPrecision": 255,
                                    "numericScale": 255,
                                    "udtAssemblyQualifiedName": null,
                                    "dataType": "System.String, System.Private.CoreLib, Version=4.0.0.0, Culture=neutral, PublicKeyToken=7cec85d7bea7798e",
                                    "dataTypeName": "nvarchar"
                                }
                            ],
                            "specialAction": {
                                "none": true,
                                "expectYukonXMLShowPlan": false
                            }
                        }
                    },
                    "execution_count": 39,
                    "data": {
                        "application/vnd.dataresource+json": {
                            "schema": {
                                "fields": [
                                    {
                                        "name": "name"
                                    }
                                ]
                            },
                            "data": [
                                {
                                    "0": "master"
                                },
                                {
                                    "0": "tempdb"
                                },
                                {
                                    "0": "model"
                                },
                                {
                                    "0": "msdb"
                                },
                                {
                                    "0": "udemy"
                                },
                                {
                                    "0": "dbm_project"
                                }
                            ]
                        },
                        "text/html": [
                            "<table>",
                            "<tr><th>name</th></tr>",
                            "<tr><td>master</td></tr>",
                            "<tr><td>tempdb</td></tr>",
                            "<tr><td>model</td></tr>",
                            "<tr><td>msdb</td></tr>",
                            "<tr><td>udemy</td></tr>",
                            "<tr><td>dbm_project</td></tr>",
                            "</table>"
                        ]
                    }
                }
            ],
            "execution_count": 39
        }
    ]
}