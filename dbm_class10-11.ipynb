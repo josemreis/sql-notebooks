{
    "metadata": {
        "kernelspec": {
            "name": "SQL",
            "display_name": "SQL",
            "language": "sql"
        },
        "language_info": {
            "name": "sql",
            "version": ""
        }
    },
    "nbformat_minor": 2,
    "nbformat": 4,
    "cells": [
        {
            "cell_type": "markdown",
            "source": [
                "# Advanced SQL\n",
                "\n",
                "## Functions and Procedures\n",
                "\n",
                "We have already seen several functions that are built into the SQL language. In this section, we show how developers can write their ow functions and procedures, and **store them in the database** so as to invoke them from SQL statements. \n",
                "\n",
                "SQL allows for the definition of functions, procedures, and methods.\n",
                "\n",
                "### Declaring and Invoking MSSQL functions and procedures\n",
                "\n",
                "Suppose that we want a function that, given the name of a department, returns the count of the number of instructors in that department. "
            ],
            "metadata": {
                "azdata_cell_guid": "41eea18a-0708-4c8f-a15b-df2e5cf71228"
            }
        },
        {
            "cell_type": "code",
            "source": [
                "-- select the database\n",
                "USE uni;\n",
                "GO\n",
                "-- existing, drop it\n",
                "IF EXISTS (SELECT  * FROM dbo.sysobjects WHERE id = OBJECT_ID(N'[dbo].[instructor_count]'))\n",
                "    BEGIN\n",
                "        DROP FUNCTION dbo.instructor_count\n",
                "    END;\n",
                "GO\n",
                "\n",
                "-- define the function\n",
                "CREATE FUNCTION dbo.instructor_count(@dept_name VARCHAR(20))\n",
                "RETURNS INT \n",
                "AS\n",
                "BEGIN\n",
                "    -- Declare the return variable here\n",
                "    DECLARE @instructor_n INT\n",
                "    -- Make the query\n",
                "    SELECT @instructor_n = COUNT(*)\n",
                "    FROM instructor\n",
                "    WHERE instructor.dept_name = @dept_name\n",
                "    -- return\n",
                "    RETURN @instructor_n\n",
                "END;\n",
                "GO\n",
                ""
            ],
            "metadata": {
                "azdata_cell_guid": "c5d29a8e-4b1b-4468-a5bb-8c0815bf9ed8"
            },
            "outputs": [
                {
                    "output_type": "display_data",
                    "data": {
                        "text/html": "Commands completed successfully."
                    },
                    "metadata": {}
                },
                {
                    "output_type": "display_data",
                    "data": {
                        "text/html": "Commands completed successfully."
                    },
                    "metadata": {}
                },
                {
                    "output_type": "display_data",
                    "data": {
                        "text/html": "Commands completed successfully."
                    },
                    "metadata": {}
                },
                {
                    "output_type": "display_data",
                    "data": {
                        "text/html": "Total execution time: 00:00:00.017"
                    },
                    "metadata": {}
                }
            ],
            "execution_count": 6
        },
        {
            "cell_type": "code",
            "source": [
                "-- test it\n",
                "SELECT dbo.instructor_count('Statistics') AS inst_n;\n",
                "GO\n",
                "\n",
                "SELECT COUNT(*) AS inst_n\n",
                "FROM instructor\n",
                "WHERE instructor.dept_name = 'Statistics';\n",
                "GO"
            ],
            "metadata": {
                "azdata_cell_guid": "8c99670c-687a-491f-8c8d-328da57fcdb2"
            },
            "outputs": [
                {
                    "output_type": "display_data",
                    "data": {
                        "text/html": "(1 row affected)"
                    },
                    "metadata": {}
                },
                {
                    "output_type": "display_data",
                    "data": {
                        "text/html": "(1 row affected)"
                    },
                    "metadata": {}
                },
                {
                    "output_type": "display_data",
                    "data": {
                        "text/html": "Total execution time: 00:00:00.036"
                    },
                    "metadata": {}
                },
                {
                    "output_type": "execute_result",
                    "execution_count": 4,
                    "data": {
                        "application/vnd.dataresource+json": {
                            "schema": {
                                "fields": [
                                    {
                                        "name": "inst_n"
                                    }
                                ]
                            },
                            "data": [
                                {
                                    "0": "6"
                                }
                            ]
                        },
                        "text/html": "<table><tr><th>inst_n</th></tr><tr><td>6</td></tr></table>"
                    },
                    "metadata": {
                        "resultSet": {
                            "id": 0,
                            "batchId": 0,
                            "rowCount": 1,
                            "complete": false,
                            "columnInfo": [
                                {
                                    "isBytes": false,
                                    "isChars": false,
                                    "isSqlVariant": false,
                                    "isUdt": false,
                                    "isXml": false,
                                    "isJson": false,
                                    "sqlDbType": 8,
                                    "isHierarchyId": false,
                                    "isSqlXmlType": false,
                                    "isUnknownType": false,
                                    "isUpdatable": false,
                                    "allowDBNull": true,
                                    "baseCatalogName": null,
                                    "baseColumnName": null,
                                    "baseSchemaName": null,
                                    "baseServerName": null,
                                    "baseTableName": null,
                                    "columnName": "inst_n",
                                    "columnOrdinal": 0,
                                    "columnSize": 4,
                                    "isAliased": null,
                                    "isAutoIncrement": false,
                                    "isExpression": null,
                                    "isHidden": null,
                                    "isIdentity": false,
                                    "isKey": null,
                                    "isLong": false,
                                    "isReadOnly": true,
                                    "isUnique": false,
                                    "numericPrecision": 10,
                                    "numericScale": 255,
                                    "udtAssemblyQualifiedName": null,
                                    "dataType": "System.Int32, System.Private.CoreLib, Version=4.0.0.0, Culture=neutral, PublicKeyToken=7cec85d7bea7798e",
                                    "dataTypeName": "int"
                                }
                            ],
                            "specialAction": null
                        }
                    }
                },
                {
                    "output_type": "execute_result",
                    "execution_count": 4,
                    "data": {
                        "application/vnd.dataresource+json": {
                            "schema": {
                                "fields": [
                                    {
                                        "name": "inst_n"
                                    }
                                ]
                            },
                            "data": [
                                {
                                    "0": "6"
                                }
                            ]
                        },
                        "text/html": "<table><tr><th>inst_n</th></tr><tr><td>6</td></tr></table>"
                    },
                    "metadata": {
                        "resultSet": {
                            "id": 0,
                            "batchId": 1,
                            "rowCount": 1,
                            "complete": true,
                            "columnInfo": [
                                {
                                    "isBytes": false,
                                    "isChars": false,
                                    "isSqlVariant": false,
                                    "isUdt": false,
                                    "isXml": false,
                                    "isJson": false,
                                    "sqlDbType": 8,
                                    "isHierarchyId": false,
                                    "isSqlXmlType": false,
                                    "isUnknownType": false,
                                    "isUpdatable": false,
                                    "allowDBNull": true,
                                    "baseCatalogName": null,
                                    "baseColumnName": null,
                                    "baseSchemaName": null,
                                    "baseServerName": null,
                                    "baseTableName": null,
                                    "columnName": "inst_n",
                                    "columnOrdinal": 0,
                                    "columnSize": 4,
                                    "isAliased": null,
                                    "isAutoIncrement": false,
                                    "isExpression": null,
                                    "isHidden": null,
                                    "isIdentity": false,
                                    "isKey": null,
                                    "isLong": false,
                                    "isReadOnly": true,
                                    "isUnique": false,
                                    "numericPrecision": 10,
                                    "numericScale": 255,
                                    "udtAssemblyQualifiedName": null,
                                    "dataType": "System.Int32, System.Private.CoreLib, Version=4.0.0.0, Culture=neutral, PublicKeyToken=7cec85d7bea7798e",
                                    "dataTypeName": "int"
                                }
                            ],
                            "specialAction": {
                                "none": true,
                                "expectYukonXMLShowPlan": false
                            }
                        }
                    }
                }
            ],
            "execution_count": 4
        },
        {
            "cell_type": "markdown",
            "source": [
                "This function returns all the professors names as well as ids for a department. This is an example of a table function which is relatively different in its definition from scalar output functions such as the one above."
            ],
            "metadata": {
                "azdata_cell_guid": "c82b2b64-eaf3-4728-8e12-c0ced832bca8"
            }
        },
        {
            "cell_type": "code",
            "source": [
                "-- existing, drop it\n",
                "IF EXISTS (SELECT  * FROM dbo.sysobjects WHERE id = OBJECT_ID(N'[dbo].[dept_instructors]'))\n",
                "    BEGIN\n",
                "        DROP FUNCTION dbo.dept_instructors\n",
                "    END;\n",
                "GO\n",
                "\n",
                "CREATE FUNCTION dbo.dept_instructors(@dept_name VARCHAR(20))\n",
                "RETURNS TABLE\n",
                "AS \n",
                "RETURN(\n",
                "    SELECT [name], ID \n",
                "    FROM instructor \n",
                "    WHERE dept_name = @dept_name \n",
                ");\n",
                "GO\n",
                ""
            ],
            "metadata": {
                "azdata_cell_guid": "4136ffd7-15ce-4786-a016-e543ceded163",
                "tags": []
            },
            "outputs": [
                {
                    "output_type": "display_data",
                    "data": {
                        "text/html": "Commands completed successfully."
                    },
                    "metadata": {}
                },
                {
                    "output_type": "display_data",
                    "data": {
                        "text/html": "Commands completed successfully."
                    },
                    "metadata": {}
                },
                {
                    "output_type": "display_data",
                    "data": {
                        "text/html": "Total execution time: 00:00:00.012"
                    },
                    "metadata": {}
                }
            ],
            "execution_count": 7
        },
        {
            "cell_type": "code",
            "source": [
                "-- test it\n",
                "SELECT * FROM dbo.dept_instructors('Statistics');\n",
                "GO\n",
                "\n",
                "SELECT [name], ID \n",
                "FROM instructor \n",
                "WHERE dept_name = 'Statistics';\n",
                "GO"
            ],
            "metadata": {
                "azdata_cell_guid": "dd09e608-fe89-4a4f-a812-883a0742ed96"
            },
            "outputs": [
                {
                    "output_type": "display_data",
                    "data": {
                        "text/html": "(6 rows affected)"
                    },
                    "metadata": {}
                },
                {
                    "output_type": "display_data",
                    "data": {
                        "text/html": "(6 rows affected)"
                    },
                    "metadata": {}
                },
                {
                    "output_type": "display_data",
                    "data": {
                        "text/html": "Total execution time: 00:00:00.018"
                    },
                    "metadata": {}
                },
                {
                    "output_type": "execute_result",
                    "execution_count": 8,
                    "data": {
                        "application/vnd.dataresource+json": {
                            "schema": {
                                "fields": [
                                    {
                                        "name": "name"
                                    },
                                    {
                                        "name": "ID"
                                    }
                                ]
                            },
                            "data": [
                                {
                                    "0": "Atanassov",
                                    "1": "28400"
                                },
                                {
                                    "0": "Arias",
                                    "1": "37687"
                                },
                                {
                                    "0": "Gutierrez",
                                    "1": "64871"
                                },
                                {
                                    "0": "Pingr",
                                    "1": "78699"
                                },
                                {
                                    "0": "Choll",
                                    "1": "90643"
                                },
                                {
                                    "0": "Arinb",
                                    "1": "95030"
                                }
                            ]
                        },
                        "text/html": "<table><tr><th>name</th><th>ID</th></tr><tr><td>Atanassov</td><td>28400</td></tr><tr><td>Arias</td><td>37687</td></tr><tr><td>Gutierrez</td><td>64871</td></tr><tr><td>Pingr</td><td>78699</td></tr><tr><td>Choll</td><td>90643</td></tr><tr><td>Arinb</td><td>95030</td></tr></table>"
                    },
                    "metadata": {
                        "resultSet": {
                            "id": 0,
                            "batchId": 0,
                            "rowCount": 6,
                            "complete": true,
                            "columnInfo": [
                                {
                                    "isBytes": false,
                                    "isChars": true,
                                    "isSqlVariant": false,
                                    "isUdt": false,
                                    "isXml": false,
                                    "isJson": false,
                                    "sqlDbType": 22,
                                    "isHierarchyId": false,
                                    "isSqlXmlType": false,
                                    "isUnknownType": false,
                                    "isUpdatable": true,
                                    "allowDBNull": false,
                                    "baseCatalogName": null,
                                    "baseColumnName": null,
                                    "baseSchemaName": null,
                                    "baseServerName": null,
                                    "baseTableName": null,
                                    "columnName": "name",
                                    "columnOrdinal": 0,
                                    "columnSize": 20,
                                    "isAliased": null,
                                    "isAutoIncrement": false,
                                    "isExpression": null,
                                    "isHidden": null,
                                    "isIdentity": false,
                                    "isKey": null,
                                    "isLong": false,
                                    "isReadOnly": false,
                                    "isUnique": false,
                                    "numericPrecision": 255,
                                    "numericScale": 255,
                                    "udtAssemblyQualifiedName": null,
                                    "dataType": "System.String, System.Private.CoreLib, Version=4.0.0.0, Culture=neutral, PublicKeyToken=7cec85d7bea7798e",
                                    "dataTypeName": "varchar"
                                },
                                {
                                    "isBytes": false,
                                    "isChars": true,
                                    "isSqlVariant": false,
                                    "isUdt": false,
                                    "isXml": false,
                                    "isJson": false,
                                    "sqlDbType": 22,
                                    "isHierarchyId": false,
                                    "isSqlXmlType": false,
                                    "isUnknownType": false,
                                    "isUpdatable": true,
                                    "allowDBNull": false,
                                    "baseCatalogName": null,
                                    "baseColumnName": null,
                                    "baseSchemaName": null,
                                    "baseServerName": null,
                                    "baseTableName": null,
                                    "columnName": "ID",
                                    "columnOrdinal": 1,
                                    "columnSize": 5,
                                    "isAliased": null,
                                    "isAutoIncrement": false,
                                    "isExpression": null,
                                    "isHidden": null,
                                    "isIdentity": false,
                                    "isKey": null,
                                    "isLong": false,
                                    "isReadOnly": false,
                                    "isUnique": false,
                                    "numericPrecision": 255,
                                    "numericScale": 255,
                                    "udtAssemblyQualifiedName": null,
                                    "dataType": "System.String, System.Private.CoreLib, Version=4.0.0.0, Culture=neutral, PublicKeyToken=7cec85d7bea7798e",
                                    "dataTypeName": "varchar"
                                }
                            ],
                            "specialAction": {
                                "none": true,
                                "expectYukonXMLShowPlan": false
                            }
                        }
                    }
                },
                {
                    "output_type": "execute_result",
                    "execution_count": 8,
                    "data": {
                        "application/vnd.dataresource+json": {
                            "schema": {
                                "fields": [
                                    {
                                        "name": "name"
                                    },
                                    {
                                        "name": "ID"
                                    }
                                ]
                            },
                            "data": [
                                {
                                    "0": "Atanassov",
                                    "1": "28400"
                                },
                                {
                                    "0": "Arias",
                                    "1": "37687"
                                },
                                {
                                    "0": "Gutierrez",
                                    "1": "64871"
                                },
                                {
                                    "0": "Pingr",
                                    "1": "78699"
                                },
                                {
                                    "0": "Choll",
                                    "1": "90643"
                                },
                                {
                                    "0": "Arinb",
                                    "1": "95030"
                                }
                            ]
                        },
                        "text/html": "<table><tr><th>name</th><th>ID</th></tr><tr><td>Atanassov</td><td>28400</td></tr><tr><td>Arias</td><td>37687</td></tr><tr><td>Gutierrez</td><td>64871</td></tr><tr><td>Pingr</td><td>78699</td></tr><tr><td>Choll</td><td>90643</td></tr><tr><td>Arinb</td><td>95030</td></tr></table>"
                    },
                    "metadata": {
                        "resultSet": {
                            "id": 0,
                            "batchId": 1,
                            "rowCount": 6,
                            "complete": true,
                            "columnInfo": [
                                {
                                    "isBytes": false,
                                    "isChars": true,
                                    "isSqlVariant": false,
                                    "isUdt": false,
                                    "isXml": false,
                                    "isJson": false,
                                    "sqlDbType": 22,
                                    "isHierarchyId": false,
                                    "isSqlXmlType": false,
                                    "isUnknownType": false,
                                    "isUpdatable": true,
                                    "allowDBNull": false,
                                    "baseCatalogName": null,
                                    "baseColumnName": null,
                                    "baseSchemaName": null,
                                    "baseServerName": null,
                                    "baseTableName": null,
                                    "columnName": "name",
                                    "columnOrdinal": 0,
                                    "columnSize": 20,
                                    "isAliased": null,
                                    "isAutoIncrement": false,
                                    "isExpression": null,
                                    "isHidden": null,
                                    "isIdentity": false,
                                    "isKey": null,
                                    "isLong": false,
                                    "isReadOnly": false,
                                    "isUnique": false,
                                    "numericPrecision": 255,
                                    "numericScale": 255,
                                    "udtAssemblyQualifiedName": null,
                                    "dataType": "System.String, System.Private.CoreLib, Version=4.0.0.0, Culture=neutral, PublicKeyToken=7cec85d7bea7798e",
                                    "dataTypeName": "varchar"
                                },
                                {
                                    "isBytes": false,
                                    "isChars": true,
                                    "isSqlVariant": false,
                                    "isUdt": false,
                                    "isXml": false,
                                    "isJson": false,
                                    "sqlDbType": 22,
                                    "isHierarchyId": false,
                                    "isSqlXmlType": false,
                                    "isUnknownType": false,
                                    "isUpdatable": true,
                                    "allowDBNull": false,
                                    "baseCatalogName": null,
                                    "baseColumnName": null,
                                    "baseSchemaName": null,
                                    "baseServerName": null,
                                    "baseTableName": null,
                                    "columnName": "ID",
                                    "columnOrdinal": 1,
                                    "columnSize": 5,
                                    "isAliased": null,
                                    "isAutoIncrement": false,
                                    "isExpression": null,
                                    "isHidden": null,
                                    "isIdentity": false,
                                    "isKey": null,
                                    "isLong": false,
                                    "isReadOnly": false,
                                    "isUnique": false,
                                    "numericPrecision": 255,
                                    "numericScale": 255,
                                    "udtAssemblyQualifiedName": null,
                                    "dataType": "System.String, System.Private.CoreLib, Version=4.0.0.0, Culture=neutral, PublicKeyToken=7cec85d7bea7798e",
                                    "dataTypeName": "varchar"
                                }
                            ],
                            "specialAction": {
                                "none": true,
                                "expectYukonXMLShowPlan": false
                            }
                        }
                    }
                }
            ],
            "execution_count": 8
        },
        {
            "cell_type": "markdown",
            "source": [
                "Below we generate a stored procedure which does exactly the same."
            ],
            "metadata": {
                "azdata_cell_guid": "09aec1d5-a897-46b8-9afe-0df14aaa1426"
            }
        },
        {
            "cell_type": "code",
            "source": [
                "-- existing, drop it\n",
                "IF EXISTS (SELECT  * FROM dbo.sysobjects WHERE id = OBJECT_ID(N'[dbo].[dept_instructors_proc]'))\n",
                "    BEGIN\n",
                "        DROP PROCEDURE dbo.dept_instructors_proc\n",
                "    END;\n",
                "GO\n",
                "\n",
                "-- define the stored procedure\n",
                "CREATE PROCEDURE dbo.dept_instructors_proc(@dept_name VARCHAR(20))\n",
                "AS\n",
                "BEGIN\n",
                "    SELECT [name], ID \n",
                "    FROM instructor \n",
                "    WHERE dept_name = @dept_name\n",
                "END;\n",
                "GO\n",
                "\n",
                "-- Running it\n",
                "EXEC dept_instructors_proc @dept_name = 'Statistics';\n",
                "GO"
            ],
            "metadata": {
                "azdata_cell_guid": "fc38eb76-55ee-4792-a838-ac48878b1b9f"
            },
            "outputs": [
                {
                    "output_type": "display_data",
                    "data": {
                        "text/html": "Commands completed successfully."
                    },
                    "metadata": {}
                },
                {
                    "output_type": "display_data",
                    "data": {
                        "text/html": "Commands completed successfully."
                    },
                    "metadata": {}
                },
                {
                    "output_type": "display_data",
                    "data": {
                        "text/html": "(6 rows affected)"
                    },
                    "metadata": {}
                },
                {
                    "output_type": "display_data",
                    "data": {
                        "text/html": "Total execution time: 00:00:00.018"
                    },
                    "metadata": {}
                },
                {
                    "output_type": "execute_result",
                    "execution_count": 9,
                    "data": {
                        "application/vnd.dataresource+json": {
                            "schema": {
                                "fields": [
                                    {
                                        "name": "name"
                                    },
                                    {
                                        "name": "ID"
                                    }
                                ]
                            },
                            "data": [
                                {
                                    "0": "Atanassov",
                                    "1": "28400"
                                },
                                {
                                    "0": "Arias",
                                    "1": "37687"
                                },
                                {
                                    "0": "Gutierrez",
                                    "1": "64871"
                                },
                                {
                                    "0": "Pingr",
                                    "1": "78699"
                                },
                                {
                                    "0": "Choll",
                                    "1": "90643"
                                },
                                {
                                    "0": "Arinb",
                                    "1": "95030"
                                }
                            ]
                        },
                        "text/html": "<table><tr><th>name</th><th>ID</th></tr><tr><td>Atanassov</td><td>28400</td></tr><tr><td>Arias</td><td>37687</td></tr><tr><td>Gutierrez</td><td>64871</td></tr><tr><td>Pingr</td><td>78699</td></tr><tr><td>Choll</td><td>90643</td></tr><tr><td>Arinb</td><td>95030</td></tr></table>"
                    },
                    "metadata": {
                        "resultSet": {
                            "id": 0,
                            "batchId": 2,
                            "rowCount": 6,
                            "complete": true,
                            "columnInfo": [
                                {
                                    "isBytes": false,
                                    "isChars": true,
                                    "isSqlVariant": false,
                                    "isUdt": false,
                                    "isXml": false,
                                    "isJson": false,
                                    "sqlDbType": 22,
                                    "isHierarchyId": false,
                                    "isSqlXmlType": false,
                                    "isUnknownType": false,
                                    "isUpdatable": true,
                                    "allowDBNull": false,
                                    "baseCatalogName": null,
                                    "baseColumnName": null,
                                    "baseSchemaName": null,
                                    "baseServerName": null,
                                    "baseTableName": null,
                                    "columnName": "name",
                                    "columnOrdinal": 0,
                                    "columnSize": 20,
                                    "isAliased": null,
                                    "isAutoIncrement": false,
                                    "isExpression": null,
                                    "isHidden": null,
                                    "isIdentity": false,
                                    "isKey": null,
                                    "isLong": false,
                                    "isReadOnly": false,
                                    "isUnique": false,
                                    "numericPrecision": 255,
                                    "numericScale": 255,
                                    "udtAssemblyQualifiedName": null,
                                    "dataType": "System.String, System.Private.CoreLib, Version=4.0.0.0, Culture=neutral, PublicKeyToken=7cec85d7bea7798e",
                                    "dataTypeName": "varchar"
                                },
                                {
                                    "isBytes": false,
                                    "isChars": true,
                                    "isSqlVariant": false,
                                    "isUdt": false,
                                    "isXml": false,
                                    "isJson": false,
                                    "sqlDbType": 22,
                                    "isHierarchyId": false,
                                    "isSqlXmlType": false,
                                    "isUnknownType": false,
                                    "isUpdatable": true,
                                    "allowDBNull": false,
                                    "baseCatalogName": null,
                                    "baseColumnName": null,
                                    "baseSchemaName": null,
                                    "baseServerName": null,
                                    "baseTableName": null,
                                    "columnName": "ID",
                                    "columnOrdinal": 1,
                                    "columnSize": 5,
                                    "isAliased": null,
                                    "isAutoIncrement": false,
                                    "isExpression": null,
                                    "isHidden": null,
                                    "isIdentity": false,
                                    "isKey": null,
                                    "isLong": false,
                                    "isReadOnly": false,
                                    "isUnique": false,
                                    "numericPrecision": 255,
                                    "numericScale": 255,
                                    "udtAssemblyQualifiedName": null,
                                    "dataType": "System.String, System.Private.CoreLib, Version=4.0.0.0, Culture=neutral, PublicKeyToken=7cec85d7bea7798e",
                                    "dataTypeName": "varchar"
                                }
                            ],
                            "specialAction": {
                                "none": true,
                                "expectYukonXMLShowPlan": false
                            }
                        }
                    }
                }
            ],
            "execution_count": 9
        },
        {
            "cell_type": "markdown",
            "source": [
                "### Stored procedures versus functions\n",
                "\n",
                "While the output is the same, there are differences beyound just how they are coded:\n",
                "\n",
                "- **Functions are computed values and cannot perform permanent changes to the server, whereas stored procedures can**\n",
                "- **[The output of] functions can be using within SQL query, stored procedures, since they need the ``EXEC`` statement to be ran, cannot.**\n",
                "- **Stored procedures can return zero, single or multiple values; functions must return a single value, being either a scalar or a table**\n",
                "- **We can use exception handling using Try-Catch blocks in stored procedures, but we cannot within functions**\n",
                "- **We can define input paramters for functions; we can define both input as well as output parameters for stored procedures**\n",
                "\n",
                "Found this [thread](https://stackoverflow.com/questions/1179758/function-vs-stored-procedure-in-sql-server) really helpful."
            ],
            "metadata": {
                "azdata_cell_guid": "4d2857e3-acce-4e13-9cee-1bc0a246a2db"
            }
        },
        {
            "cell_type": "code",
            "source": [
                "-- a stored procedure with an output parameter\n",
                "-- existing, drop it\n",
                "IF EXISTS (SELECT  * FROM dbo.sysobjects WHERE id = OBJECT_ID(N'[dbo].[dept_instructors_proc2]'))\n",
                "    BEGIN\n",
                "        DROP PROCEDURE dbo.dept_instructors_proc2\n",
                "    END;\n",
                "GO\n",
                "\n",
                "-- define the stored procedure\n",
                "CREATE PROCEDURE dbo.dept_instructors_proc2 (\n",
                "    @dept_name VARCHAR(20),\n",
                "    @instructor_count INT OUTPUT  \n",
                ") AS\n",
                "BEGIN\n",
                "    SELECT [name], ID \n",
                "    FROM instructor \n",
                "    WHERE dept_name = @dept_name;\n",
                "\n",
                "    -- prepare the output\n",
                "    SELECT @instructor_count = @@ROWCOUNT;\n",
                "END;\n",
                "GO\n",
                "\n",
                "-- declare the output parameter\n",
                "DECLARE @count INT\n",
                "-- Running it\n",
                "EXEC dept_instructors_proc2 @dept_name = 'Statistics', @instructor_count = @count OUTPUT\n",
                "-- retrieve the output\n",
                "SELECT @count AS 'Number of instructors found';\n",
                "GO"
            ],
            "metadata": {
                "azdata_cell_guid": "41883ed7-f564-42e9-8c65-962bdc242c6e"
            },
            "outputs": [
                {
                    "output_type": "display_data",
                    "data": {
                        "text/html": "Commands completed successfully."
                    },
                    "metadata": {}
                },
                {
                    "output_type": "display_data",
                    "data": {
                        "text/html": "Commands completed successfully."
                    },
                    "metadata": {}
                },
                {
                    "output_type": "display_data",
                    "data": {
                        "text/html": "(6 rows affected)"
                    },
                    "metadata": {}
                },
                {
                    "output_type": "display_data",
                    "data": {
                        "text/html": "(1 row affected)"
                    },
                    "metadata": {}
                },
                {
                    "output_type": "display_data",
                    "data": {
                        "text/html": "Total execution time: 00:00:00.014"
                    },
                    "metadata": {}
                },
                {
                    "output_type": "execute_result",
                    "execution_count": 16,
                    "data": {
                        "application/vnd.dataresource+json": {
                            "schema": {
                                "fields": [
                                    {
                                        "name": "name"
                                    },
                                    {
                                        "name": "ID"
                                    }
                                ]
                            },
                            "data": [
                                {
                                    "0": "Atanassov",
                                    "1": "28400"
                                },
                                {
                                    "0": "Arias",
                                    "1": "37687"
                                },
                                {
                                    "0": "Gutierrez",
                                    "1": "64871"
                                },
                                {
                                    "0": "Pingr",
                                    "1": "78699"
                                },
                                {
                                    "0": "Choll",
                                    "1": "90643"
                                },
                                {
                                    "0": "Arinb",
                                    "1": "95030"
                                }
                            ]
                        },
                        "text/html": "<table><tr><th>name</th><th>ID</th></tr><tr><td>Atanassov</td><td>28400</td></tr><tr><td>Arias</td><td>37687</td></tr><tr><td>Gutierrez</td><td>64871</td></tr><tr><td>Pingr</td><td>78699</td></tr><tr><td>Choll</td><td>90643</td></tr><tr><td>Arinb</td><td>95030</td></tr></table>"
                    },
                    "metadata": {
                        "resultSet": {
                            "id": 0,
                            "batchId": 2,
                            "rowCount": 6,
                            "complete": true,
                            "columnInfo": [
                                {
                                    "isBytes": false,
                                    "isChars": true,
                                    "isSqlVariant": false,
                                    "isUdt": false,
                                    "isXml": false,
                                    "isJson": false,
                                    "sqlDbType": 22,
                                    "isHierarchyId": false,
                                    "isSqlXmlType": false,
                                    "isUnknownType": false,
                                    "isUpdatable": true,
                                    "allowDBNull": false,
                                    "baseCatalogName": null,
                                    "baseColumnName": null,
                                    "baseSchemaName": null,
                                    "baseServerName": null,
                                    "baseTableName": null,
                                    "columnName": "name",
                                    "columnOrdinal": 0,
                                    "columnSize": 20,
                                    "isAliased": null,
                                    "isAutoIncrement": false,
                                    "isExpression": null,
                                    "isHidden": null,
                                    "isIdentity": false,
                                    "isKey": null,
                                    "isLong": false,
                                    "isReadOnly": false,
                                    "isUnique": false,
                                    "numericPrecision": 255,
                                    "numericScale": 255,
                                    "udtAssemblyQualifiedName": null,
                                    "dataType": "System.String, System.Private.CoreLib, Version=4.0.0.0, Culture=neutral, PublicKeyToken=7cec85d7bea7798e",
                                    "dataTypeName": "varchar"
                                },
                                {
                                    "isBytes": false,
                                    "isChars": true,
                                    "isSqlVariant": false,
                                    "isUdt": false,
                                    "isXml": false,
                                    "isJson": false,
                                    "sqlDbType": 22,
                                    "isHierarchyId": false,
                                    "isSqlXmlType": false,
                                    "isUnknownType": false,
                                    "isUpdatable": true,
                                    "allowDBNull": false,
                                    "baseCatalogName": null,
                                    "baseColumnName": null,
                                    "baseSchemaName": null,
                                    "baseServerName": null,
                                    "baseTableName": null,
                                    "columnName": "ID",
                                    "columnOrdinal": 1,
                                    "columnSize": 5,
                                    "isAliased": null,
                                    "isAutoIncrement": false,
                                    "isExpression": null,
                                    "isHidden": null,
                                    "isIdentity": false,
                                    "isKey": null,
                                    "isLong": false,
                                    "isReadOnly": false,
                                    "isUnique": false,
                                    "numericPrecision": 255,
                                    "numericScale": 255,
                                    "udtAssemblyQualifiedName": null,
                                    "dataType": "System.String, System.Private.CoreLib, Version=4.0.0.0, Culture=neutral, PublicKeyToken=7cec85d7bea7798e",
                                    "dataTypeName": "varchar"
                                }
                            ],
                            "specialAction": {
                                "none": true,
                                "expectYukonXMLShowPlan": false
                            }
                        }
                    }
                },
                {
                    "output_type": "execute_result",
                    "execution_count": 16,
                    "data": {
                        "application/vnd.dataresource+json": {
                            "schema": {
                                "fields": [
                                    {
                                        "name": "Number of instructors found"
                                    }
                                ]
                            },
                            "data": [
                                {
                                    "0": "6"
                                }
                            ]
                        },
                        "text/html": "<table><tr><th>Number of instructors found</th></tr><tr><td>6</td></tr></table>"
                    },
                    "metadata": {
                        "resultSet": {
                            "id": 1,
                            "batchId": 2,
                            "rowCount": 1,
                            "complete": true,
                            "columnInfo": [
                                {
                                    "isBytes": false,
                                    "isChars": false,
                                    "isSqlVariant": false,
                                    "isUdt": false,
                                    "isXml": false,
                                    "isJson": false,
                                    "sqlDbType": 8,
                                    "isHierarchyId": false,
                                    "isSqlXmlType": false,
                                    "isUnknownType": false,
                                    "isUpdatable": false,
                                    "allowDBNull": true,
                                    "baseCatalogName": null,
                                    "baseColumnName": null,
                                    "baseSchemaName": null,
                                    "baseServerName": null,
                                    "baseTableName": null,
                                    "columnName": "Number of instructors found",
                                    "columnOrdinal": 0,
                                    "columnSize": 4,
                                    "isAliased": null,
                                    "isAutoIncrement": false,
                                    "isExpression": null,
                                    "isHidden": null,
                                    "isIdentity": false,
                                    "isKey": null,
                                    "isLong": false,
                                    "isReadOnly": true,
                                    "isUnique": false,
                                    "numericPrecision": 10,
                                    "numericScale": 255,
                                    "udtAssemblyQualifiedName": null,
                                    "dataType": "System.Int32, System.Private.CoreLib, Version=4.0.0.0, Culture=neutral, PublicKeyToken=7cec85d7bea7798e",
                                    "dataTypeName": "int"
                                }
                            ],
                            "specialAction": {
                                "none": true,
                                "expectYukonXMLShowPlan": false
                            }
                        }
                    }
                }
            ],
            "execution_count": 16
        },
        {
            "cell_type": "markdown",
            "source": [
                "## Control-of-Flow statements\n",
                "\n",
                "One of the nice things of functions and stored procedures is that we can make use of several control of flow statements.\n",
                "\n",
                "### The `BEGIN...END` statement\n",
                "\n",
                "The BEGIN...END statement is used to define a statement block. A statement block consists of a set of SQL statements that execute together. A statement block is also known as a batch.\n",
                "\n",
                "```\n",
                "BEGIN\n",
                "    { sql_statement | statement_block}\n",
                "END\n",
                "```\n",
                "\n",
                "For example, in the code belo we combine a sql query and printing a message conditional on the number of rows in the output table of that query. We can do this because we included them in a batch. Note that ``@@ROWCOUNT`` is a system variable that returns the number of rows affected by the last previous statement."
            ],
            "metadata": {
                "azdata_cell_guid": "ff7e1a66-b161-4b74-9210-2a5840b1021c"
            }
        },
        {
            "cell_type": "code",
            "source": [
                "BEGIN\n",
                "    SELECT [name], ID \n",
                "    FROM instructor \n",
                "    WHERE dept_name = 'Statistics';\n",
                "\n",
                "IF @@ROWCOUNT > 5\n",
                "    PRINT 'There are more than 5 instructors in the department'\n",
                "ELSE\n",
                "    PRINT 'There are less than 5 instructors in the department'\n",
                "END;\n",
                "GO"
            ],
            "metadata": {
                "azdata_cell_guid": "2192de5b-b877-466e-99fd-503218b2b010"
            },
            "outputs": [
                {
                    "output_type": "display_data",
                    "data": {
                        "text/html": "(6 rows affected)"
                    },
                    "metadata": {}
                },
                {
                    "output_type": "display_data",
                    "data": {
                        "text/html": "There are more than 5 instructors in the department"
                    },
                    "metadata": {}
                },
                {
                    "output_type": "display_data",
                    "data": {
                        "text/html": "Total execution time: 00:00:00.003"
                    },
                    "metadata": {}
                },
                {
                    "output_type": "execute_result",
                    "execution_count": 17,
                    "data": {
                        "application/vnd.dataresource+json": {
                            "schema": {
                                "fields": [
                                    {
                                        "name": "name"
                                    },
                                    {
                                        "name": "ID"
                                    }
                                ]
                            },
                            "data": [
                                {
                                    "0": "Atanassov",
                                    "1": "28400"
                                },
                                {
                                    "0": "Arias",
                                    "1": "37687"
                                },
                                {
                                    "0": "Gutierrez",
                                    "1": "64871"
                                },
                                {
                                    "0": "Pingr",
                                    "1": "78699"
                                },
                                {
                                    "0": "Choll",
                                    "1": "90643"
                                },
                                {
                                    "0": "Arinb",
                                    "1": "95030"
                                }
                            ]
                        },
                        "text/html": "<table><tr><th>name</th><th>ID</th></tr><tr><td>Atanassov</td><td>28400</td></tr><tr><td>Arias</td><td>37687</td></tr><tr><td>Gutierrez</td><td>64871</td></tr><tr><td>Pingr</td><td>78699</td></tr><tr><td>Choll</td><td>90643</td></tr><tr><td>Arinb</td><td>95030</td></tr></table>"
                    },
                    "metadata": {
                        "resultSet": {
                            "id": 0,
                            "batchId": 0,
                            "rowCount": 6,
                            "complete": true,
                            "columnInfo": [
                                {
                                    "isBytes": false,
                                    "isChars": true,
                                    "isSqlVariant": false,
                                    "isUdt": false,
                                    "isXml": false,
                                    "isJson": false,
                                    "sqlDbType": 22,
                                    "isHierarchyId": false,
                                    "isSqlXmlType": false,
                                    "isUnknownType": false,
                                    "isUpdatable": true,
                                    "allowDBNull": false,
                                    "baseCatalogName": null,
                                    "baseColumnName": null,
                                    "baseSchemaName": null,
                                    "baseServerName": null,
                                    "baseTableName": null,
                                    "columnName": "name",
                                    "columnOrdinal": 0,
                                    "columnSize": 20,
                                    "isAliased": null,
                                    "isAutoIncrement": false,
                                    "isExpression": null,
                                    "isHidden": null,
                                    "isIdentity": false,
                                    "isKey": null,
                                    "isLong": false,
                                    "isReadOnly": false,
                                    "isUnique": false,
                                    "numericPrecision": 255,
                                    "numericScale": 255,
                                    "udtAssemblyQualifiedName": null,
                                    "dataType": "System.String, System.Private.CoreLib, Version=4.0.0.0, Culture=neutral, PublicKeyToken=7cec85d7bea7798e",
                                    "dataTypeName": "varchar"
                                },
                                {
                                    "isBytes": false,
                                    "isChars": true,
                                    "isSqlVariant": false,
                                    "isUdt": false,
                                    "isXml": false,
                                    "isJson": false,
                                    "sqlDbType": 22,
                                    "isHierarchyId": false,
                                    "isSqlXmlType": false,
                                    "isUnknownType": false,
                                    "isUpdatable": true,
                                    "allowDBNull": false,
                                    "baseCatalogName": null,
                                    "baseColumnName": null,
                                    "baseSchemaName": null,
                                    "baseServerName": null,
                                    "baseTableName": null,
                                    "columnName": "ID",
                                    "columnOrdinal": 1,
                                    "columnSize": 5,
                                    "isAliased": null,
                                    "isAutoIncrement": false,
                                    "isExpression": null,
                                    "isHidden": null,
                                    "isIdentity": false,
                                    "isKey": null,
                                    "isLong": false,
                                    "isReadOnly": false,
                                    "isUnique": false,
                                    "numericPrecision": 255,
                                    "numericScale": 255,
                                    "udtAssemblyQualifiedName": null,
                                    "dataType": "System.String, System.Private.CoreLib, Version=4.0.0.0, Culture=neutral, PublicKeyToken=7cec85d7bea7798e",
                                    "dataTypeName": "varchar"
                                }
                            ],
                            "specialAction": {
                                "none": true,
                                "expectYukonXMLShowPlan": false
                            }
                        }
                    }
                }
            ],
            "execution_count": 17
        },
        {
            "cell_type": "markdown",
            "source": [
                "We can also nest several begin end statements. For example"
            ],
            "metadata": {
                "azdata_cell_guid": "4e1a5909-a267-42c2-9dce-ad96d20f5cdf"
            }
        },
        {
            "cell_type": "code",
            "source": [
                "BEGIN \n",
                "    -- declare the variables we will use in this batch\n",
                "    DECLARE @student_name VARCHAR(40)\n",
                "    DECLARE @dept_name VARCHAR(40)\n",
                "    DECLARE @tc INT\n",
                "\n",
                "    -- the query: highest total credits\n",
                "    SELECT TOP 1\n",
                "        @student_name = [name],\n",
                "        @dept_name = dept_name,\n",
                "        @tc = tot_cred\n",
                "    FROM student\n",
                "    ORDER BY tot_cred DESC;\n",
                "\n",
                "    -- second level\n",
                "    IF @dept_name IN ('Biology', 'Comp. Sci.', 'Statistics', 'Math', 'Mech Eng.', 'Civil Eng.')\n",
                "        BEGIN\n",
                "            PRINT 'The student with the highest total credits is ' + @student_name  +' (STEM FIELD) with ' + CONVERT(varchar(10), @tc)\n",
                "        END\n",
                "    ELSE\n",
                "        BEGIN\n",
                "            PRINT 'The student with the highest total credits is ' + @student_name + ' (NON-STEM FIELD) with ' + CONVERT(varchar(10), @tc)\n",
                "        END;\n",
                "END;"
            ],
            "metadata": {
                "azdata_cell_guid": "1ea13740-4aec-4b6f-b90b-47f60e98e35d"
            },
            "outputs": [
                {
                    "output_type": "display_data",
                    "data": {
                        "text/html": "The student with the highest total credits is Yoneda (NON-STEM FIELD) with 129"
                    },
                    "metadata": {}
                },
                {
                    "output_type": "display_data",
                    "data": {
                        "text/html": "Total execution time: 00:00:00.004"
                    },
                    "metadata": {}
                }
            ],
            "execution_count": 23
        },
        {
            "cell_type": "markdown",
            "source": [
                "### ``IF...ELSE``\n",
                "\n",
                "When the condition in the IF clause evaluates to FALSE and you want to execute another statement block, you can use the ELSE clause.\n",
                "\n",
                "```\n",
                "IF Boolean_expression\n",
                "BEGIN\n",
                "    -- Statement block executes when the Boolean expression is TRUE\n",
                "END\n",
                "ELSE\n",
                "BEGIN\n",
                "    -- Statement block executes when the Boolean expression is FALSE\n",
                "END\n",
                "```\n",
                "For example, say that we want to check whether more than half of the students in a certain class failed"
            ],
            "metadata": {
                "azdata_cell_guid": "41ba8b07-e143-4de5-b9e3-fe0084bc1371"
            }
        },
        {
            "cell_type": "code",
            "source": [
                "BEGIN\n",
                "    -- Declare the variables to be used in the batch\n",
                "    DECLARE @rel_dept AS VARCHAR(20)\n",
                "    SET @rel_dept = 'Statistics'\n",
                "    DECLARE @percent_fail AS FLOAT\n",
                "    -- the query\n",
                "    SET @percent_fail = (\n",
                "        SELECT AVG(CAST(IIF(takes.grade LIKE 'C_', 1, 0) AS FLOAT))\n",
                "        FROM takes, student, course\n",
                "        WHERE \n",
                "            takes.ID = student.ID AND \n",
                "            course.course_id = takes.course_id AND \n",
                "            course.dept_name = @rel_dept\n",
                "    );\n",
                "    -- messages\n",
                "    IF (@percent_fail > 0.5)\n",
                "        BEGIN\n",
                "            PRINT 'More than half of students failed, namely ' + CONVERT(VARCHAR(10), ROUND(@percent_fail * 100, 2)) + '%'\n",
                "        END\n",
                "    ELSE\n",
                "        BEGIN\n",
                "            PRINT 'Less than half of students failed, namely ' + CONVERT(VARCHAR(10), ROUND(@percent_fail * 100, 2)) + '%'\n",
                "        END;\n",
                "END;\n",
                ""
            ],
            "metadata": {
                "azdata_cell_guid": "2efd903c-0795-4fb3-ac5a-740a68ea7a9a"
            },
            "outputs": [
                {
                    "output_type": "display_data",
                    "data": {
                        "text/html": "Less than half of students failed, namely 35.31%"
                    },
                    "metadata": {}
                },
                {
                    "output_type": "display_data",
                    "data": {
                        "text/html": "Total execution time: 00:00:00.057"
                    },
                    "metadata": {}
                }
            ],
            "execution_count": 39
        },
        {
            "cell_type": "markdown",
            "source": [
                "Note that we can nest them too and use ``ELSE IF``."
            ],
            "metadata": {
                "azdata_cell_guid": "8fe5f077-c2ec-4b97-842d-f976f3a34cac"
            }
        },
        {
            "cell_type": "code",
            "source": [
                "BEGIN\n",
                "    -- Declare the variables to be used in the batch\n",
                "    DECLARE @rel_dept AS VARCHAR(20)\n",
                "    SET @rel_dept = 'Biology'\n",
                "    DECLARE @percent_fail AS FLOAT\n",
                "    -- the query\n",
                "    SET @percent_fail = (\n",
                "        SELECT AVG(CAST(IIF(takes.grade LIKE 'C_', 1, 0) AS FLOAT))\n",
                "        FROM takes, student, course\n",
                "        WHERE \n",
                "            takes.ID = student.ID AND \n",
                "            course.course_id = takes.course_id AND \n",
                "            course.dept_name = @rel_dept\n",
                "    );\n",
                "    -- messages\n",
                "    IF (@percent_fail > 0.5) AND @rel_dept IN ('Biology', 'Comp. Sci.', 'Statistics', 'Math', 'Mech Eng.', 'Civil Eng.')\n",
                "        BEGIN\n",
                "            PRINT 'More than half of students failed in this STEM-field, namely ' + CONVERT(VARCHAR(10), ROUND(@percent_fail * 100, 2)) + '%'\n",
                "        END\n",
                "    ELSE IF (@percent_fail > 0.5) AND @rel_dept IN ('Biology', 'Comp. Sci.', 'Statistics', 'Math', 'Mech Eng.', 'Civil Eng.')\n",
                "        BEGIN\n",
                "            PRINT 'More than half of students failed in this STEM-field, namely ' + CONVERT(VARCHAR(10), ROUND(@percent_fail * 100, 2)) + '%'\n",
                "        END\n",
                "    ELSE IF (@percent_fail < 0.5) AND @rel_dept IN ('Biology', 'Comp. Sci.', 'Statistics', 'Math', 'Mech Eng.', 'Civil Eng.')\n",
                "        BEGIN\n",
                "            PRINT 'More than half of students failed in this STEM-field, namely ' + CONVERT(VARCHAR(10), ROUND(@percent_fail * 100, 2)) + '%'\n",
                "        END\n",
                "    ELSE\n",
                "        BEGIN\n",
                "            PRINT 'Less than half of students failed, namely ' + CONVERT(VARCHAR(10), ROUND(@percent_fail * 100, 2)) + '%'\n",
                "        END;\n",
                "END;"
            ],
            "metadata": {
                "azdata_cell_guid": "4232a7f1-f642-40ae-bca8-1f21688d76da"
            },
            "outputs": [
                {
                    "output_type": "display_data",
                    "data": {
                        "text/html": "More than half of students failed in this STEM-field, namely 33.96%"
                    },
                    "metadata": {}
                },
                {
                    "output_type": "display_data",
                    "data": {
                        "text/html": "Total execution time: 00:00:00.032"
                    },
                    "metadata": {}
                }
            ],
            "execution_count": 47
        },
        {
            "cell_type": "markdown",
            "source": [
                "### `WHILE`\n",
                "\n",
                "The WHILE statement is a control-flow statement that allows you to execute a statement block repeatedly as long as a specified condition is TRUE.\n",
                "\n",
                "First, the Boolean_expression is an expression that evaluates to TRUE or FALSE.\n",
                "\n",
                "Second, <code>sql_statement | statement_block</code> is any Transact-SQL statement or a set of Transact-SQL statements. A statement block is defined using the <code>BEGIN...END</code> statement.\n",
                "\n",
                "If the Boolean_expression evaluates to FALSE in an iteration, no statement inside the WHILE loop will be executed.\n",
                "\n",
                "Inside the WHILE loop, you must change some variables to make the Boolean_expression returns FALSE at some points. Otherwise, you will have an indefinite loop.\n",
                "\n",
                "Furthermore:\n",
                "\n",
                "- `BREAK` - Causes an exit from the innermost WHILE loop. Any statements that appear after the END keyword, marking the end of the loop, are executed\n",
                "- `CONTINUE` - Causes the WHILE loop to restart, ignoring any statements after the `CONTINUE` keyword, i.e. skiping the current itearation\n",
                "\n",
                "```\n",
                "WHILE Boolean_expression\n",
                "{ sql_statement | statement_block | BREAK | CONTINUE }\n",
                "\n",
                "```\n",
                "\n",
                "Below an example.Double the budget of departments with below average budgets until the average budget is higher than 3,000,000. However, never allow one of them to be above 3,000,000 after the doubling."
            ],
            "metadata": {
                "azdata_cell_guid": "b9bc4802-1d5c-4f43-832f-a00a29f733bb"
            }
        },
        {
            "cell_type": "code",
            "source": [
                "-- before\n",
                "SELECT AVG(budget) FROM department;\n",
                "GO\n",
                "\n",
                "-- Start the while loop\n",
                "WHILE (SELECT AVG(budget) FROM department) < 3000000\n",
                "BEGIN\n",
                "    -- declare the relevant variables\n",
                "    DECLARE @cur_depts AS VARCHAR(20)\n",
                "    -- Below average departments\n",
                "    SELECT @cur_depts = dept_name\n",
                "    FROM department\n",
                "    WHERE budget < (SELECT AVG(budget) FROM department);\n",
                "    -- alter the database\n",
                "    UPDATE department\n",
                "    SET budget = budget * 2;\n",
                "    -- message\n",
                "    PRINT 'Doubling the budget from ' + COALESCE(@cur_depts, ', ', '')\n",
                "    -- no budget can exceed 3,000,000\n",
                "    IF (SELECT MAX(budget) FROM department) > 3000000\n",
                "        BREAK\n",
                "    ELSE\n",
                "        CONTINUE\n",
                "END;\n",
                "GO\n",
                "\n",
                "-- after\n",
                "SELECT AVG(budget) FROM department;\n",
                "GO\n",
                ""
            ],
            "metadata": {
                "azdata_cell_guid": "28b8cc46-0841-471f-b27f-8472779ac6f0"
            },
            "outputs": [
                {
                    "output_type": "display_data",
                    "data": {
                        "text/html": "(1 row affected)"
                    },
                    "metadata": {}
                },
                {
                    "output_type": "display_data",
                    "data": {
                        "text/html": "(20 rows affected)"
                    },
                    "metadata": {}
                },
                {
                    "output_type": "display_data",
                    "data": {
                        "text/html": "Doubling the budget from Statistics"
                    },
                    "metadata": {}
                },
                {
                    "output_type": "display_data",
                    "data": {
                        "text/html": "(1 row affected)"
                    },
                    "metadata": {}
                },
                {
                    "output_type": "display_data",
                    "data": {
                        "text/html": "Total execution time: 00:00:00.013"
                    },
                    "metadata": {}
                },
                {
                    "output_type": "execute_result",
                    "execution_count": 45,
                    "data": {
                        "application/vnd.dataresource+json": {
                            "schema": {
                                "fields": [
                                    {
                                        "name": "(No column name)"
                                    }
                                ]
                            },
                            "data": [
                                {
                                    "0": "2265264.020000"
                                }
                            ]
                        },
                        "text/html": "<table><tr><th>(No column name)</th></tr><tr><td>2265264.020000</td></tr></table>"
                    },
                    "metadata": {
                        "resultSet": {
                            "id": 0,
                            "batchId": 0,
                            "rowCount": 1,
                            "complete": true,
                            "columnInfo": [
                                {
                                    "isBytes": false,
                                    "isChars": false,
                                    "isSqlVariant": false,
                                    "isUdt": false,
                                    "isXml": false,
                                    "isJson": false,
                                    "sqlDbType": 5,
                                    "isHierarchyId": false,
                                    "isSqlXmlType": false,
                                    "isUnknownType": false,
                                    "isUpdatable": false,
                                    "allowDBNull": true,
                                    "baseCatalogName": null,
                                    "baseColumnName": null,
                                    "baseSchemaName": null,
                                    "baseServerName": null,
                                    "baseTableName": null,
                                    "columnName": "(No column name)",
                                    "columnOrdinal": 0,
                                    "columnSize": 17,
                                    "isAliased": null,
                                    "isAutoIncrement": false,
                                    "isExpression": null,
                                    "isHidden": null,
                                    "isIdentity": false,
                                    "isKey": null,
                                    "isLong": false,
                                    "isReadOnly": true,
                                    "isUnique": false,
                                    "numericPrecision": 38,
                                    "numericScale": 6,
                                    "udtAssemblyQualifiedName": null,
                                    "dataType": "System.Decimal, System.Private.CoreLib, Version=4.0.0.0, Culture=neutral, PublicKeyToken=7cec85d7bea7798e",
                                    "dataTypeName": "decimal"
                                }
                            ],
                            "specialAction": {
                                "none": true,
                                "expectYukonXMLShowPlan": false
                            }
                        }
                    }
                },
                {
                    "output_type": "execute_result",
                    "execution_count": 45,
                    "data": {
                        "application/vnd.dataresource+json": {
                            "schema": {
                                "fields": [
                                    {
                                        "name": "(No column name)"
                                    }
                                ]
                            },
                            "data": [
                                {
                                    "0": "4530528.040000"
                                }
                            ]
                        },
                        "text/html": "<table><tr><th>(No column name)</th></tr><tr><td>4530528.040000</td></tr></table>"
                    },
                    "metadata": {
                        "resultSet": {
                            "id": 0,
                            "batchId": 2,
                            "rowCount": 1,
                            "complete": true,
                            "columnInfo": [
                                {
                                    "isBytes": false,
                                    "isChars": false,
                                    "isSqlVariant": false,
                                    "isUdt": false,
                                    "isXml": false,
                                    "isJson": false,
                                    "sqlDbType": 5,
                                    "isHierarchyId": false,
                                    "isSqlXmlType": false,
                                    "isUnknownType": false,
                                    "isUpdatable": false,
                                    "allowDBNull": true,
                                    "baseCatalogName": null,
                                    "baseColumnName": null,
                                    "baseSchemaName": null,
                                    "baseServerName": null,
                                    "baseTableName": null,
                                    "columnName": "(No column name)",
                                    "columnOrdinal": 0,
                                    "columnSize": 17,
                                    "isAliased": null,
                                    "isAutoIncrement": false,
                                    "isExpression": null,
                                    "isHidden": null,
                                    "isIdentity": false,
                                    "isKey": null,
                                    "isLong": false,
                                    "isReadOnly": true,
                                    "isUnique": false,
                                    "numericPrecision": 38,
                                    "numericScale": 6,
                                    "udtAssemblyQualifiedName": null,
                                    "dataType": "System.Decimal, System.Private.CoreLib, Version=4.0.0.0, Culture=neutral, PublicKeyToken=7cec85d7bea7798e",
                                    "dataTypeName": "decimal"
                                }
                            ],
                            "specialAction": {
                                "none": true,
                                "expectYukonXMLShowPlan": false
                            }
                        }
                    }
                }
            ],
            "execution_count": 45
        },
        {
            "cell_type": "markdown",
            "source": [
                "## Database cursor\n",
                "\n",
                "A database cursor is an object that enables traversal over the rows of a result set. It allows you to process individual row returned by a query.\n",
                "\n",
                "It involves the following steps.\n",
                "\n",
                "1. Declare the relevant variables to hold the values of the rows we are after"
            ],
            "metadata": {
                "azdata_cell_guid": "5b6b55de-0a2e-45b5-a654-1a1669b272e8"
            }
        },
        {
            "cell_type": "code",
            "source": [
                "DECLARE @student_id INT;"
            ],
            "metadata": {
                "azdata_cell_guid": "03198ec9-dcd3-4a1e-8b6b-4fb02e291330"
            },
            "outputs": [
                {
                    "output_type": "display_data",
                    "data": {
                        "text/html": "Commands completed successfully."
                    },
                    "metadata": {}
                },
                {
                    "output_type": "display_data",
                    "data": {
                        "text/html": "Total execution time: 00:00:00.001"
                    },
                    "metadata": {}
                }
            ],
            "execution_count": 56
        },
        {
            "cell_type": "markdown",
            "source": [
                "2. Declare the cursor"
            ],
            "metadata": {
                "azdata_cell_guid": "01d97a62-9987-444b-9eb7-9a16fd3ab4c9"
            }
        },
        {
            "cell_type": "code",
            "source": [
                "DECLARE below_totavg_cursor CURSOR\n",
                "    FOR SELECT\n",
                "        ID\n",
                "        FROM student\n",
                "        WHERE tot_cred < (SELECT AVG(tot_cred) FROM student);"
            ],
            "metadata": {
                "azdata_cell_guid": "86bb61c0-3e55-4662-a709-c54c59e0b41c"
            },
            "outputs": [
                {
                    "output_type": "display_data",
                    "data": {
                        "text/html": "Commands completed successfully."
                    },
                    "metadata": {}
                },
                {
                    "output_type": "display_data",
                    "data": {
                        "text/html": "Total execution time: 00:00:00.001"
                    },
                    "metadata": {}
                }
            ],
            "execution_count": 57
        },
        {
            "cell_type": "markdown",
            "source": [
                "3. Next, open the cursor"
            ],
            "metadata": {
                "azdata_cell_guid": "81f0fb41-7929-4fd4-8141-094373b9e843"
            }
        },
        {
            "cell_type": "code",
            "source": [
                "OPEN below_totavg_cursor;"
            ],
            "metadata": {
                "azdata_cell_guid": "871008e7-410a-4fd6-8da9-0b05d4c63098"
            },
            "outputs": [
                {
                    "output_type": "display_data",
                    "data": {
                        "text/html": "Commands completed successfully."
                    },
                    "metadata": {}
                },
                {
                    "output_type": "display_data",
                    "data": {
                        "text/html": "Total execution time: 00:00:00.006"
                    },
                    "metadata": {}
                }
            ],
            "execution_count": 58
        },
        {
            "cell_type": "markdown",
            "source": [
                "4. Then, fetch each row from the cursor and print out the product name and list price."
            ],
            "metadata": {
                "azdata_cell_guid": "8f48fe41-8b1b-4772-ae0c-c84bd4929793"
            }
        },
        {
            "cell_type": "code",
            "source": [
                "WHILE @@FETCH_STATUS = 0\n",
                "    BEGIN \n",
                "        PRINT 'Student with the ID ' + @student_id + 'has below average total credits'\n",
                "        FETCH NEXT FROM below_totavg_cursor INTO\n",
                "            @student_id\n",
                "    END;\n",
                "GO"
            ],
            "metadata": {
                "azdata_cell_guid": "4b8b1de7-8ad5-4dc8-b149-18e76c1a98f2"
            },
            "outputs": [
                {
                    "output_type": "error",
                    "ename": "",
                    "evalue": "Msg 137, Level 15, State 2, Line 3\nMust declare the scalar variable \"@student_id\".",
                    "traceback": []
                },
                {
                    "output_type": "error",
                    "ename": "",
                    "evalue": "Msg 137, Level 15, State 2, Line 5\nMust declare the scalar variable \"@student_id\".",
                    "traceback": []
                },
                {
                    "output_type": "display_data",
                    "data": {
                        "text/html": "Total execution time: 00:00:00.001"
                    },
                    "metadata": {}
                }
            ],
            "execution_count": 59
        },
        {
            "cell_type": "markdown",
            "source": [
                "5. Close and deallocate the cursor"
            ],
            "metadata": {
                "azdata_cell_guid": "a7695c6d-c1bc-469e-add2-af18ad5585c5"
            }
        },
        {
            "cell_type": "code",
            "source": [
                "CLOSE below_totavg_cursor;\n",
                "DEALLOCATE below_totavg_cursor;"
            ],
            "metadata": {
                "azdata_cell_guid": "e0a75bb0-350f-4d36-b4cc-bc255c7a15f0"
            },
            "outputs": [
                {
                    "output_type": "display_data",
                    "data": {
                        "text/html": "Commands completed successfully."
                    },
                    "metadata": {}
                },
                {
                    "output_type": "display_data",
                    "data": {
                        "text/html": "Total execution time: 00:00:00"
                    },
                    "metadata": {}
                }
            ],
            "execution_count": 55
        },
        {
            "cell_type": "markdown",
            "source": [
                "All in one with 110 credits has a treshhold (less printing)."
            ],
            "metadata": {
                "azdata_cell_guid": "c4b1e1bd-08f6-4cf1-ad3a-9e3c9cd786b3"
            }
        },
        {
            "cell_type": "code",
            "source": [
                "USE uni;\n",
                "GO\n",
                "\n",
                "DECLARE @student_id VARCHAR(20);\n",
                "\n",
                "DECLARE above_110_cursor CURSOR\n",
                "    FOR SELECT\n",
                "        [ID]\n",
                "        FROM student\n",
                "        WHERE tot_cred > 110;\n",
                "\n",
                "OPEN above_110_cursor;\n",
                "\n",
                "WHILE @@FETCH_STATUS = 0\n",
                "    BEGIN \n",
                "        PRINT 'Student with the ID ' + @student_id + ' has more than 110 total credits'\n",
                "        FETCH NEXT FROM above_110_cursor INTO @student_id\n",
                "    END;\n",
                "GO\n",
                "\n",
                "CLOSE above_110_cursor;\n",
                "DEALLOCATE above_110_cursor;\n",
                ""
            ],
            "metadata": {
                "azdata_cell_guid": "154eb09a-411d-426b-ba48-c765834bfc8d"
            },
            "outputs": [
                {
                    "output_type": "display_data",
                    "data": {
                        "text/html": "Commands completed successfully."
                    },
                    "metadata": {}
                },
                {
                    "output_type": "display_data",
                    "data": {
                        "text/html": " "
                    },
                    "metadata": {}
                },
                {
                    "output_type": "display_data",
                    "data": {
                        "text/html": "Student with the ID 10204 has more than 110 total credits"
                    },
                    "metadata": {}
                },
                {
                    "output_type": "display_data",
                    "data": {
                        "text/html": "Student with the ID 10454 has more than 110 total credits"
                    },
                    "metadata": {}
                },
                {
                    "output_type": "display_data",
                    "data": {
                        "text/html": "Student with the ID 10527 has more than 110 total credits"
                    },
                    "metadata": {}
                },
                {
                    "output_type": "display_data",
                    "data": {
                        "text/html": "Student with the ID 10693 has more than 110 total credits"
                    },
                    "metadata": {}
                },
                {
                    "output_type": "display_data",
                    "data": {
                        "text/html": "Student with the ID 10834 has more than 110 total credits"
                    },
                    "metadata": {}
                },
                {
                    "output_type": "display_data",
                    "data": {
                        "text/html": "Student with the ID 11055 has more than 110 total credits"
                    },
                    "metadata": {}
                },
                {
                    "output_type": "display_data",
                    "data": {
                        "text/html": "Student with the ID 11057 has more than 110 total credits"
                    },
                    "metadata": {}
                },
                {
                    "output_type": "display_data",
                    "data": {
                        "text/html": "Student with the ID 11076 has more than 110 total credits"
                    },
                    "metadata": {}
                },
                {
                    "output_type": "display_data",
                    "data": {
                        "text/html": "Student with the ID 11083 has more than 110 total credits"
                    },
                    "metadata": {}
                },
                {
                    "output_type": "display_data",
                    "data": {
                        "text/html": "Student with the ID 11101 has more than 110 total credits"
                    },
                    "metadata": {}
                },
                {
                    "output_type": "display_data",
                    "data": {
                        "text/html": "Student with the ID 11202 has more than 110 total credits"
                    },
                    "metadata": {}
                },
                {
                    "output_type": "display_data",
                    "data": {
                        "text/html": "Student with the ID 11262 has more than 110 total credits"
                    },
                    "metadata": {}
                },
                {
                    "output_type": "display_data",
                    "data": {
                        "text/html": "Student with the ID 11682 has more than 110 total credits"
                    },
                    "metadata": {}
                },
                {
                    "output_type": "display_data",
                    "data": {
                        "text/html": "Student with the ID 11855 has more than 110 total credits"
                    },
                    "metadata": {}
                },
                {
                    "output_type": "display_data",
                    "data": {
                        "text/html": "Student with the ID 12236 has more than 110 total credits"
                    },
                    "metadata": {}
                },
                {
                    "output_type": "display_data",
                    "data": {
                        "text/html": "Student with the ID 12362 has more than 110 total credits"
                    },
                    "metadata": {}
                },
                {
                    "output_type": "display_data",
                    "data": {
                        "text/html": "Student with the ID 12666 has more than 110 total credits"
                    },
                    "metadata": {}
                },
                {
                    "output_type": "display_data",
                    "data": {
                        "text/html": "Student with the ID 12683 has more than 110 total credits"
                    },
                    "metadata": {}
                },
                {
                    "output_type": "display_data",
                    "data": {
                        "text/html": "Student with the ID 13081 has more than 110 total credits"
                    },
                    "metadata": {}
                },
                {
                    "output_type": "display_data",
                    "data": {
                        "text/html": "Student with the ID 13741 has more than 110 total credits"
                    },
                    "metadata": {}
                },
                {
                    "output_type": "display_data",
                    "data": {
                        "text/html": "Student with the ID 13921 has more than 110 total credits"
                    },
                    "metadata": {}
                },
                {
                    "output_type": "display_data",
                    "data": {
                        "text/html": "Student with the ID 14214 has more than 110 total credits"
                    },
                    "metadata": {}
                },
                {
                    "output_type": "display_data",
                    "data": {
                        "text/html": "Student with the ID 14499 has more than 110 total credits"
                    },
                    "metadata": {}
                },
                {
                    "output_type": "display_data",
                    "data": {
                        "text/html": "Student with the ID 14581 has more than 110 total credits"
                    },
                    "metadata": {}
                },
                {
                    "output_type": "display_data",
                    "data": {
                        "text/html": "Student with the ID 15328 has more than 110 total credits"
                    },
                    "metadata": {}
                },
                {
                    "output_type": "display_data",
                    "data": {
                        "text/html": "Student with the ID 15457 has more than 110 total credits"
                    },
                    "metadata": {}
                },
                {
                    "output_type": "display_data",
                    "data": {
                        "text/html": "Student with the ID 15538 has more than 110 total credits"
                    },
                    "metadata": {}
                },
                {
                    "output_type": "display_data",
                    "data": {
                        "text/html": "Student with the ID 16057 has more than 110 total credits"
                    },
                    "metadata": {}
                },
                {
                    "output_type": "display_data",
                    "data": {
                        "text/html": "Student with the ID 16523 has more than 110 total credits"
                    },
                    "metadata": {}
                },
                {
                    "output_type": "display_data",
                    "data": {
                        "text/html": "Student with the ID 16849 has more than 110 total credits"
                    },
                    "metadata": {}
                },
                {
                    "output_type": "display_data",
                    "data": {
                        "text/html": "Student with the ID 1737 has more than 110 total credits"
                    },
                    "metadata": {}
                },
                {
                    "output_type": "display_data",
                    "data": {
                        "text/html": "Student with the ID 17607 has more than 110 total credits"
                    },
                    "metadata": {}
                },
                {
                    "output_type": "display_data",
                    "data": {
                        "text/html": "Student with the ID 17997 has more than 110 total credits"
                    },
                    "metadata": {}
                },
                {
                    "output_type": "display_data",
                    "data": {
                        "text/html": "Student with the ID 18808 has more than 110 total credits"
                    },
                    "metadata": {}
                },
                {
                    "output_type": "display_data",
                    "data": {
                        "text/html": "Student with the ID 19048 has more than 110 total credits"
                    },
                    "metadata": {}
                },
                {
                    "output_type": "display_data",
                    "data": {
                        "text/html": "Student with the ID 19293 has more than 110 total credits"
                    },
                    "metadata": {}
                },
                {
                    "output_type": "display_data",
                    "data": {
                        "text/html": "Student with the ID 19321 has more than 110 total credits"
                    },
                    "metadata": {}
                },
                {
                    "output_type": "display_data",
                    "data": {
                        "text/html": "Student with the ID 19362 has more than 110 total credits"
                    },
                    "metadata": {}
                },
                {
                    "output_type": "display_data",
                    "data": {
                        "text/html": "Student with the ID 19603 has more than 110 total credits"
                    },
                    "metadata": {}
                },
                {
                    "output_type": "display_data",
                    "data": {
                        "text/html": "Student with the ID 19917 has more than 110 total credits"
                    },
                    "metadata": {}
                },
                {
                    "output_type": "display_data",
                    "data": {
                        "text/html": "Student with the ID 20244 has more than 110 total credits"
                    },
                    "metadata": {}
                },
                {
                    "output_type": "display_data",
                    "data": {
                        "text/html": "Student with the ID 20803 has more than 110 total credits"
                    },
                    "metadata": {}
                },
                {
                    "output_type": "display_data",
                    "data": {
                        "text/html": "Student with the ID 20974 has more than 110 total credits"
                    },
                    "metadata": {}
                },
                {
                    "output_type": "display_data",
                    "data": {
                        "text/html": "Student with the ID 21009 has more than 110 total credits"
                    },
                    "metadata": {}
                },
                {
                    "output_type": "display_data",
                    "data": {
                        "text/html": "Student with the ID 21101 has more than 110 total credits"
                    },
                    "metadata": {}
                },
                {
                    "output_type": "display_data",
                    "data": {
                        "text/html": "Student with the ID 21102 has more than 110 total credits"
                    },
                    "metadata": {}
                },
                {
                    "output_type": "display_data",
                    "data": {
                        "text/html": "Student with the ID 21225 has more than 110 total credits"
                    },
                    "metadata": {}
                },
                {
                    "output_type": "display_data",
                    "data": {
                        "text/html": "Student with the ID 21394 has more than 110 total credits"
                    },
                    "metadata": {}
                },
                {
                    "output_type": "display_data",
                    "data": {
                        "text/html": "Student with the ID 21789 has more than 110 total credits"
                    },
                    "metadata": {}
                },
                {
                    "output_type": "display_data",
                    "data": {
                        "text/html": "Student with the ID 22226 has more than 110 total credits"
                    },
                    "metadata": {}
                },
                {
                    "output_type": "display_data",
                    "data": {
                        "text/html": "Student with the ID 22532 has more than 110 total credits"
                    },
                    "metadata": {}
                },
                {
                    "output_type": "display_data",
                    "data": {
                        "text/html": "Student with the ID 23525 has more than 110 total credits"
                    },
                    "metadata": {}
                },
                {
                    "output_type": "display_data",
                    "data": {
                        "text/html": "Student with the ID 2423 has more than 110 total credits"
                    },
                    "metadata": {}
                },
                {
                    "output_type": "display_data",
                    "data": {
                        "text/html": "Student with the ID 24784 has more than 110 total credits"
                    },
                    "metadata": {}
                },
                {
                    "output_type": "display_data",
                    "data": {
                        "text/html": "Student with the ID 24865 has more than 110 total credits"
                    },
                    "metadata": {}
                },
                {
                    "output_type": "display_data",
                    "data": {
                        "text/html": "Student with the ID 25362 has more than 110 total credits"
                    },
                    "metadata": {}
                },
                {
                    "output_type": "display_data",
                    "data": {
                        "text/html": "Student with the ID 25725 has more than 110 total credits"
                    },
                    "metadata": {}
                },
                {
                    "output_type": "display_data",
                    "data": {
                        "text/html": "Student with the ID 25940 has more than 110 total credits"
                    },
                    "metadata": {}
                },
                {
                    "output_type": "display_data",
                    "data": {
                        "text/html": "Student with the ID 26102 has more than 110 total credits"
                    },
                    "metadata": {}
                },
                {
                    "output_type": "display_data",
                    "data": {
                        "text/html": "Student with the ID 26147 has more than 110 total credits"
                    },
                    "metadata": {}
                },
                {
                    "output_type": "display_data",
                    "data": {
                        "text/html": "Student with the ID 26427 has more than 110 total credits"
                    },
                    "metadata": {}
                },
                {
                    "output_type": "display_data",
                    "data": {
                        "text/html": "Student with the ID 27043 has more than 110 total credits"
                    },
                    "metadata": {}
                },
                {
                    "output_type": "display_data",
                    "data": {
                        "text/html": "Student with the ID 27094 has more than 110 total credits"
                    },
                    "metadata": {}
                },
                {
                    "output_type": "display_data",
                    "data": {
                        "text/html": "Student with the ID 27727 has more than 110 total credits"
                    },
                    "metadata": {}
                },
                {
                    "output_type": "display_data",
                    "data": {
                        "text/html": "Student with the ID 27919 has more than 110 total credits"
                    },
                    "metadata": {}
                },
                {
                    "output_type": "display_data",
                    "data": {
                        "text/html": "Student with the ID 28128 has more than 110 total credits"
                    },
                    "metadata": {}
                },
                {
                    "output_type": "display_data",
                    "data": {
                        "text/html": "Student with the ID 28299 has more than 110 total credits"
                    },
                    "metadata": {}
                },
                {
                    "output_type": "display_data",
                    "data": {
                        "text/html": "Student with the ID 2848 has more than 110 total credits"
                    },
                    "metadata": {}
                },
                {
                    "output_type": "display_data",
                    "data": {
                        "text/html": "Student with the ID 28829 has more than 110 total credits"
                    },
                    "metadata": {}
                },
                {
                    "output_type": "display_data",
                    "data": {
                        "text/html": "Student with the ID 29140 has more than 110 total credits"
                    },
                    "metadata": {}
                },
                {
                    "output_type": "display_data",
                    "data": {
                        "text/html": "Student with the ID 29514 has more than 110 total credits"
                    },
                    "metadata": {}
                },
                {
                    "output_type": "display_data",
                    "data": {
                        "text/html": "Student with the ID 29645 has more than 110 total credits"
                    },
                    "metadata": {}
                },
                {
                    "output_type": "display_data",
                    "data": {
                        "text/html": "Student with the ID 29863 has more than 110 total credits"
                    },
                    "metadata": {}
                },
                {
                    "output_type": "display_data",
                    "data": {
                        "text/html": "Student with the ID 30124 has more than 110 total credits"
                    },
                    "metadata": {}
                },
                {
                    "output_type": "display_data",
                    "data": {
                        "text/html": "Student with the ID 30164 has more than 110 total credits"
                    },
                    "metadata": {}
                },
                {
                    "output_type": "display_data",
                    "data": {
                        "text/html": "Student with the ID 30188 has more than 110 total credits"
                    },
                    "metadata": {}
                },
                {
                    "output_type": "display_data",
                    "data": {
                        "text/html": "Student with the ID 30222 has more than 110 total credits"
                    },
                    "metadata": {}
                },
                {
                    "output_type": "display_data",
                    "data": {
                        "text/html": "Student with the ID 30397 has more than 110 total credits"
                    },
                    "metadata": {}
                },
                {
                    "output_type": "display_data",
                    "data": {
                        "text/html": "Student with the ID 30723 has more than 110 total credits"
                    },
                    "metadata": {}
                },
                {
                    "output_type": "display_data",
                    "data": {
                        "text/html": "Student with the ID 31086 has more than 110 total credits"
                    },
                    "metadata": {}
                },
                {
                    "output_type": "display_data",
                    "data": {
                        "text/html": "Student with the ID 32385 has more than 110 total credits"
                    },
                    "metadata": {}
                },
                {
                    "output_type": "display_data",
                    "data": {
                        "text/html": "Student with the ID 32483 has more than 110 total credits"
                    },
                    "metadata": {}
                },
                {
                    "output_type": "display_data",
                    "data": {
                        "text/html": "Student with the ID 32490 has more than 110 total credits"
                    },
                    "metadata": {}
                },
                {
                    "output_type": "display_data",
                    "data": {
                        "text/html": "Student with the ID 32954 has more than 110 total credits"
                    },
                    "metadata": {}
                },
                {
                    "output_type": "display_data",
                    "data": {
                        "text/html": "Student with the ID 33349 has more than 110 total credits"
                    },
                    "metadata": {}
                },
                {
                    "output_type": "display_data",
                    "data": {
                        "text/html": "Student with the ID 33645 has more than 110 total credits"
                    },
                    "metadata": {}
                },
                {
                    "output_type": "display_data",
                    "data": {
                        "text/html": "Student with the ID 34055 has more than 110 total credits"
                    },
                    "metadata": {}
                },
                {
                    "output_type": "display_data",
                    "data": {
                        "text/html": "Student with the ID 34158 has more than 110 total credits"
                    },
                    "metadata": {}
                },
                {
                    "output_type": "display_data",
                    "data": {
                        "text/html": "Student with the ID 34195 has more than 110 total credits"
                    },
                    "metadata": {}
                },
                {
                    "output_type": "display_data",
                    "data": {
                        "text/html": "Student with the ID 34770 has more than 110 total credits"
                    },
                    "metadata": {}
                },
                {
                    "output_type": "display_data",
                    "data": {
                        "text/html": "Student with the ID 3545 has more than 110 total credits"
                    },
                    "metadata": {}
                },
                {
                    "output_type": "display_data",
                    "data": {
                        "text/html": "Student with the ID 36019 has more than 110 total credits"
                    },
                    "metadata": {}
                },
                {
                    "output_type": "display_data",
                    "data": {
                        "text/html": "Student with the ID 36379 has more than 110 total credits"
                    },
                    "metadata": {}
                },
                {
                    "output_type": "display_data",
                    "data": {
                        "text/html": "Student with the ID 36402 has more than 110 total credits"
                    },
                    "metadata": {}
                },
                {
                    "output_type": "display_data",
                    "data": {
                        "text/html": "Student with the ID 37038 has more than 110 total credits"
                    },
                    "metadata": {}
                },
                {
                    "output_type": "display_data",
                    "data": {
                        "text/html": "Student with the ID 38476 has more than 110 total credits"
                    },
                    "metadata": {}
                },
                {
                    "output_type": "display_data",
                    "data": {
                        "text/html": "Student with the ID 38545 has more than 110 total credits"
                    },
                    "metadata": {}
                },
                {
                    "output_type": "display_data",
                    "data": {
                        "text/html": "Student with the ID 38696 has more than 110 total credits"
                    },
                    "metadata": {}
                },
                {
                    "output_type": "display_data",
                    "data": {
                        "text/html": "Student with the ID 39046 has more than 110 total credits"
                    },
                    "metadata": {}
                },
                {
                    "output_type": "display_data",
                    "data": {
                        "text/html": "Student with the ID 39521 has more than 110 total credits"
                    },
                    "metadata": {}
                },
                {
                    "output_type": "display_data",
                    "data": {
                        "text/html": "Student with the ID 39580 has more than 110 total credits"
                    },
                    "metadata": {}
                },
                {
                    "output_type": "display_data",
                    "data": {
                        "text/html": "Student with the ID 40457 has more than 110 total credits"
                    },
                    "metadata": {}
                },
                {
                    "output_type": "display_data",
                    "data": {
                        "text/html": "Student with the ID 40677 has more than 110 total credits"
                    },
                    "metadata": {}
                },
                {
                    "output_type": "display_data",
                    "data": {
                        "text/html": "Student with the ID 40682 has more than 110 total credits"
                    },
                    "metadata": {}
                },
                {
                    "output_type": "display_data",
                    "data": {
                        "text/html": "Student with the ID 40937 has more than 110 total credits"
                    },
                    "metadata": {}
                },
                {
                    "output_type": "display_data",
                    "data": {
                        "text/html": "Student with the ID 41211 has more than 110 total credits"
                    },
                    "metadata": {}
                },
                {
                    "output_type": "display_data",
                    "data": {
                        "text/html": "Student with the ID 41973 has more than 110 total credits"
                    },
                    "metadata": {}
                },
                {
                    "output_type": "display_data",
                    "data": {
                        "text/html": "Student with the ID 42991 has more than 110 total credits"
                    },
                    "metadata": {}
                },
                {
                    "output_type": "display_data",
                    "data": {
                        "text/html": "Student with the ID 43130 has more than 110 total credits"
                    },
                    "metadata": {}
                },
                {
                    "output_type": "display_data",
                    "data": {
                        "text/html": "Student with the ID 4345 has more than 110 total credits"
                    },
                    "metadata": {}
                },
                {
                    "output_type": "display_data",
                    "data": {
                        "text/html": "Student with the ID 43495 has more than 110 total credits"
                    },
                    "metadata": {}
                },
                {
                    "output_type": "display_data",
                    "data": {
                        "text/html": "Student with the ID 43505 has more than 110 total credits"
                    },
                    "metadata": {}
                },
                {
                    "output_type": "display_data",
                    "data": {
                        "text/html": "Student with the ID 4355 has more than 110 total credits"
                    },
                    "metadata": {}
                },
                {
                    "output_type": "display_data",
                    "data": {
                        "text/html": "Student with the ID 4383 has more than 110 total credits"
                    },
                    "metadata": {}
                },
                {
                    "output_type": "display_data",
                    "data": {
                        "text/html": "Student with the ID 43993 has more than 110 total credits"
                    },
                    "metadata": {}
                },
                {
                    "output_type": "display_data",
                    "data": {
                        "text/html": "Student with the ID 44551 has more than 110 total credits"
                    },
                    "metadata": {}
                },
                {
                    "output_type": "display_data",
                    "data": {
                        "text/html": "Student with the ID 44706 has more than 110 total credits"
                    },
                    "metadata": {}
                },
                {
                    "output_type": "display_data",
                    "data": {
                        "text/html": "Student with the ID 4508 has more than 110 total credits"
                    },
                    "metadata": {}
                },
                {
                    "output_type": "display_data",
                    "data": {
                        "text/html": "Student with the ID 45200 has more than 110 total credits"
                    },
                    "metadata": {}
                },
                {
                    "output_type": "display_data",
                    "data": {
                        "text/html": "Student with the ID 45720 has more than 110 total credits"
                    },
                    "metadata": {}
                },
                {
                    "output_type": "display_data",
                    "data": {
                        "text/html": "Student with the ID 46451 has more than 110 total credits"
                    },
                    "metadata": {}
                },
                {
                    "output_type": "display_data",
                    "data": {
                        "text/html": "Student with the ID 46655 has more than 110 total credits"
                    },
                    "metadata": {}
                },
                {
                    "output_type": "display_data",
                    "data": {
                        "text/html": "Student with the ID 46694 has more than 110 total credits"
                    },
                    "metadata": {}
                },
                {
                    "output_type": "display_data",
                    "data": {
                        "text/html": "Student with the ID 46981 has more than 110 total credits"
                    },
                    "metadata": {}
                },
                {
                    "output_type": "display_data",
                    "data": {
                        "text/html": "Student with the ID 47379 has more than 110 total credits"
                    },
                    "metadata": {}
                },
                {
                    "output_type": "display_data",
                    "data": {
                        "text/html": "Student with the ID 48469 has more than 110 total credits"
                    },
                    "metadata": {}
                },
                {
                    "output_type": "display_data",
                    "data": {
                        "text/html": "Student with the ID 48678 has more than 110 total credits"
                    },
                    "metadata": {}
                },
                {
                    "output_type": "display_data",
                    "data": {
                        "text/html": "Student with the ID 50039 has more than 110 total credits"
                    },
                    "metadata": {}
                },
                {
                    "output_type": "display_data",
                    "data": {
                        "text/html": "Student with the ID 50365 has more than 110 total credits"
                    },
                    "metadata": {}
                },
                {
                    "output_type": "display_data",
                    "data": {
                        "text/html": "Student with the ID 50386 has more than 110 total credits"
                    },
                    "metadata": {}
                },
                {
                    "output_type": "display_data",
                    "data": {
                        "text/html": "Student with the ID 50583 has more than 110 total credits"
                    },
                    "metadata": {}
                },
                {
                    "output_type": "display_data",
                    "data": {
                        "text/html": "Student with the ID 50664 has more than 110 total credits"
                    },
                    "metadata": {}
                },
                {
                    "output_type": "display_data",
                    "data": {
                        "text/html": "Student with the ID 507 has more than 110 total credits"
                    },
                    "metadata": {}
                },
                {
                    "output_type": "display_data",
                    "data": {
                        "text/html": "Student with the ID 50969 has more than 110 total credits"
                    },
                    "metadata": {}
                },
                {
                    "output_type": "display_data",
                    "data": {
                        "text/html": "Student with the ID 51553 has more than 110 total credits"
                    },
                    "metadata": {}
                },
                {
                    "output_type": "display_data",
                    "data": {
                        "text/html": "Student with the ID 51923 has more than 110 total credits"
                    },
                    "metadata": {}
                },
                {
                    "output_type": "display_data",
                    "data": {
                        "text/html": "Student with the ID 51975 has more than 110 total credits"
                    },
                    "metadata": {}
                },
                {
                    "output_type": "display_data",
                    "data": {
                        "text/html": "Student with the ID 52019 has more than 110 total credits"
                    },
                    "metadata": {}
                },
                {
                    "output_type": "display_data",
                    "data": {
                        "text/html": "Student with the ID 52669 has more than 110 total credits"
                    },
                    "metadata": {}
                },
                {
                    "output_type": "display_data",
                    "data": {
                        "text/html": "Student with the ID 52856 has more than 110 total credits"
                    },
                    "metadata": {}
                },
                {
                    "output_type": "display_data",
                    "data": {
                        "text/html": "Student with the ID 52929 has more than 110 total credits"
                    },
                    "metadata": {}
                },
                {
                    "output_type": "display_data",
                    "data": {
                        "text/html": "Student with the ID 53048 has more than 110 total credits"
                    },
                    "metadata": {}
                },
                {
                    "output_type": "display_data",
                    "data": {
                        "text/html": "Student with the ID 53118 has more than 110 total credits"
                    },
                    "metadata": {}
                },
                {
                    "output_type": "display_data",
                    "data": {
                        "text/html": "Student with the ID 5414 has more than 110 total credits"
                    },
                    "metadata": {}
                },
                {
                    "output_type": "display_data",
                    "data": {
                        "text/html": "Student with the ID 56057 has more than 110 total credits"
                    },
                    "metadata": {}
                },
                {
                    "output_type": "display_data",
                    "data": {
                        "text/html": "Student with the ID 56058 has more than 110 total credits"
                    },
                    "metadata": {}
                },
                {
                    "output_type": "display_data",
                    "data": {
                        "text/html": "Student with the ID 56080 has more than 110 total credits"
                    },
                    "metadata": {}
                },
                {
                    "output_type": "display_data",
                    "data": {
                        "text/html": "Student with the ID 56276 has more than 110 total credits"
                    },
                    "metadata": {}
                },
                {
                    "output_type": "display_data",
                    "data": {
                        "text/html": "Student with the ID 57156 has more than 110 total credits"
                    },
                    "metadata": {}
                },
                {
                    "output_type": "display_data",
                    "data": {
                        "text/html": "Student with the ID 58170 has more than 110 total credits"
                    },
                    "metadata": {}
                },
                {
                    "output_type": "display_data",
                    "data": {
                        "text/html": "Student with the ID 58172 has more than 110 total credits"
                    },
                    "metadata": {}
                },
                {
                    "output_type": "display_data",
                    "data": {
                        "text/html": "Student with the ID 5824 has more than 110 total credits"
                    },
                    "metadata": {}
                },
                {
                    "output_type": "display_data",
                    "data": {
                        "text/html": "Student with the ID 5920 has more than 110 total credits"
                    },
                    "metadata": {}
                },
                {
                    "output_type": "display_data",
                    "data": {
                        "text/html": "Student with the ID 59290 has more than 110 total credits"
                    },
                    "metadata": {}
                },
                {
                    "output_type": "display_data",
                    "data": {
                        "text/html": "Student with the ID 59397 has more than 110 total credits"
                    },
                    "metadata": {}
                },
                {
                    "output_type": "display_data",
                    "data": {
                        "text/html": "Student with the ID 59538 has more than 110 total credits"
                    },
                    "metadata": {}
                },
                {
                    "output_type": "display_data",
                    "data": {
                        "text/html": "Student with the ID 60406 has more than 110 total credits"
                    },
                    "metadata": {}
                },
                {
                    "output_type": "display_data",
                    "data": {
                        "text/html": "Student with the ID 60762 has more than 110 total credits"
                    },
                    "metadata": {}
                },
                {
                    "output_type": "display_data",
                    "data": {
                        "text/html": "Student with the ID 61354 has more than 110 total credits"
                    },
                    "metadata": {}
                },
                {
                    "output_type": "display_data",
                    "data": {
                        "text/html": "Student with the ID 61444 has more than 110 total credits"
                    },
                    "metadata": {}
                },
                {
                    "output_type": "display_data",
                    "data": {
                        "text/html": "Student with the ID 61854 has more than 110 total credits"
                    },
                    "metadata": {}
                },
                {
                    "output_type": "display_data",
                    "data": {
                        "text/html": "Student with the ID 62429 has more than 110 total credits"
                    },
                    "metadata": {}
                },
                {
                    "output_type": "display_data",
                    "data": {
                        "text/html": "Student with the ID 6304 has more than 110 total credits"
                    },
                    "metadata": {}
                },
                {
                    "output_type": "display_data",
                    "data": {
                        "text/html": "Student with the ID 63090 has more than 110 total credits"
                    },
                    "metadata": {}
                },
                {
                    "output_type": "display_data",
                    "data": {
                        "text/html": "Student with the ID 63582 has more than 110 total credits"
                    },
                    "metadata": {}
                },
                {
                    "output_type": "display_data",
                    "data": {
                        "text/html": "Student with the ID 64039 has more than 110 total credits"
                    },
                    "metadata": {}
                },
                {
                    "output_type": "display_data",
                    "data": {
                        "text/html": "Student with the ID 64121 has more than 110 total credits"
                    },
                    "metadata": {}
                },
                {
                    "output_type": "display_data",
                    "data": {
                        "text/html": "Student with the ID 64140 has more than 110 total credits"
                    },
                    "metadata": {}
                },
                {
                    "output_type": "display_data",
                    "data": {
                        "text/html": "Student with the ID 64164 has more than 110 total credits"
                    },
                    "metadata": {}
                },
                {
                    "output_type": "display_data",
                    "data": {
                        "text/html": "Student with the ID 64259 has more than 110 total credits"
                    },
                    "metadata": {}
                },
                {
                    "output_type": "display_data",
                    "data": {
                        "text/html": "Student with the ID 64938 has more than 110 total credits"
                    },
                    "metadata": {}
                },
                {
                    "output_type": "display_data",
                    "data": {
                        "text/html": "Student with the ID 65144 has more than 110 total credits"
                    },
                    "metadata": {}
                },
                {
                    "output_type": "display_data",
                    "data": {
                        "text/html": "Student with the ID 65205 has more than 110 total credits"
                    },
                    "metadata": {}
                },
                {
                    "output_type": "display_data",
                    "data": {
                        "text/html": "Student with the ID 65433 has more than 110 total credits"
                    },
                    "metadata": {}
                },
                {
                    "output_type": "display_data",
                    "data": {
                        "text/html": "Student with the ID 65563 has more than 110 total credits"
                    },
                    "metadata": {}
                },
                {
                    "output_type": "display_data",
                    "data": {
                        "text/html": "Student with the ID 65901 has more than 110 total credits"
                    },
                    "metadata": {}
                },
                {
                    "output_type": "display_data",
                    "data": {
                        "text/html": "Student with the ID 66212 has more than 110 total credits"
                    },
                    "metadata": {}
                },
                {
                    "output_type": "display_data",
                    "data": {
                        "text/html": "Student with the ID 66229 has more than 110 total credits"
                    },
                    "metadata": {}
                },
                {
                    "output_type": "display_data",
                    "data": {
                        "text/html": "Student with the ID 67146 has more than 110 total credits"
                    },
                    "metadata": {}
                },
                {
                    "output_type": "display_data",
                    "data": {
                        "text/html": "Student with the ID 67407 has more than 110 total credits"
                    },
                    "metadata": {}
                },
                {
                    "output_type": "display_data",
                    "data": {
                        "text/html": "Student with the ID 67810 has more than 110 total credits"
                    },
                    "metadata": {}
                },
                {
                    "output_type": "display_data",
                    "data": {
                        "text/html": "Student with the ID 68280 has more than 110 total credits"
                    },
                    "metadata": {}
                },
                {
                    "output_type": "display_data",
                    "data": {
                        "text/html": "Student with the ID 68999 has more than 110 total credits"
                    },
                    "metadata": {}
                },
                {
                    "output_type": "display_data",
                    "data": {
                        "text/html": "Student with the ID 69122 has more than 110 total credits"
                    },
                    "metadata": {}
                },
                {
                    "output_type": "display_data",
                    "data": {
                        "text/html": "Student with the ID 69230 has more than 110 total credits"
                    },
                    "metadata": {}
                },
                {
                    "output_type": "display_data",
                    "data": {
                        "text/html": "Student with the ID 69521 has more than 110 total credits"
                    },
                    "metadata": {}
                },
                {
                    "output_type": "display_data",
                    "data": {
                        "text/html": "Student with the ID 69628 has more than 110 total credits"
                    },
                    "metadata": {}
                },
                {
                    "output_type": "display_data",
                    "data": {
                        "text/html": "Student with the ID 69783 has more than 110 total credits"
                    },
                    "metadata": {}
                },
                {
                    "output_type": "display_data",
                    "data": {
                        "text/html": "Student with the ID 69952 has more than 110 total credits"
                    },
                    "metadata": {}
                },
                {
                    "output_type": "display_data",
                    "data": {
                        "text/html": "Student with the ID 70395 has more than 110 total credits"
                    },
                    "metadata": {}
                },
                {
                    "output_type": "display_data",
                    "data": {
                        "text/html": "Student with the ID 71025 has more than 110 total credits"
                    },
                    "metadata": {}
                },
                {
                    "output_type": "display_data",
                    "data": {
                        "text/html": "Student with the ID 7149 has more than 110 total credits"
                    },
                    "metadata": {}
                },
                {
                    "output_type": "display_data",
                    "data": {
                        "text/html": "Student with the ID 71630 has more than 110 total credits"
                    },
                    "metadata": {}
                },
                {
                    "output_type": "display_data",
                    "data": {
                        "text/html": "Student with the ID 72006 has more than 110 total credits"
                    },
                    "metadata": {}
                },
                {
                    "output_type": "display_data",
                    "data": {
                        "text/html": "Student with the ID 72657 has more than 110 total credits"
                    },
                    "metadata": {}
                },
                {
                    "output_type": "display_data",
                    "data": {
                        "text/html": "Student with the ID 72669 has more than 110 total credits"
                    },
                    "metadata": {}
                },
                {
                    "output_type": "display_data",
                    "data": {
                        "text/html": "Student with the ID 7287 has more than 110 total credits"
                    },
                    "metadata": {}
                },
                {
                    "output_type": "display_data",
                    "data": {
                        "text/html": "Student with the ID 72979 has more than 110 total credits"
                    },
                    "metadata": {}
                },
                {
                    "output_type": "display_data",
                    "data": {
                        "text/html": "Student with the ID 73602 has more than 110 total credits"
                    },
                    "metadata": {}
                },
                {
                    "output_type": "display_data",
                    "data": {
                        "text/html": "Student with the ID 74070 has more than 110 total credits"
                    },
                    "metadata": {}
                },
                {
                    "output_type": "display_data",
                    "data": {
                        "text/html": "Student with the ID 74163 has more than 110 total credits"
                    },
                    "metadata": {}
                },
                {
                    "output_type": "display_data",
                    "data": {
                        "text/html": "Student with the ID 74460 has more than 110 total credits"
                    },
                    "metadata": {}
                },
                {
                    "output_type": "display_data",
                    "data": {
                        "text/html": "Student with the ID 74840 has more than 110 total credits"
                    },
                    "metadata": {}
                },
                {
                    "output_type": "display_data",
                    "data": {
                        "text/html": "Student with the ID 74911 has more than 110 total credits"
                    },
                    "metadata": {}
                },
                {
                    "output_type": "display_data",
                    "data": {
                        "text/html": "Student with the ID 75082 has more than 110 total credits"
                    },
                    "metadata": {}
                },
                {
                    "output_type": "display_data",
                    "data": {
                        "text/html": "Student with the ID 75116 has more than 110 total credits"
                    },
                    "metadata": {}
                },
                {
                    "output_type": "display_data",
                    "data": {
                        "text/html": "Student with the ID 75231 has more than 110 total credits"
                    },
                    "metadata": {}
                },
                {
                    "output_type": "display_data",
                    "data": {
                        "text/html": "Student with the ID 75510 has more than 110 total credits"
                    },
                    "metadata": {}
                },
                {
                    "output_type": "display_data",
                    "data": {
                        "text/html": "Student with the ID 75560 has more than 110 total credits"
                    },
                    "metadata": {}
                },
                {
                    "output_type": "display_data",
                    "data": {
                        "text/html": "Student with the ID 76049 has more than 110 total credits"
                    },
                    "metadata": {}
                },
                {
                    "output_type": "display_data",
                    "data": {
                        "text/html": "Student with the ID 76169 has more than 110 total credits"
                    },
                    "metadata": {}
                },
                {
                    "output_type": "display_data",
                    "data": {
                        "text/html": "Student with the ID 76173 has more than 110 total credits"
                    },
                    "metadata": {}
                },
                {
                    "output_type": "display_data",
                    "data": {
                        "text/html": "Student with the ID 76270 has more than 110 total credits"
                    },
                    "metadata": {}
                },
                {
                    "output_type": "display_data",
                    "data": {
                        "text/html": "Student with the ID 76672 has more than 110 total credits"
                    },
                    "metadata": {}
                },
                {
                    "output_type": "display_data",
                    "data": {
                        "text/html": "Student with the ID 77000 has more than 110 total credits"
                    },
                    "metadata": {}
                },
                {
                    "output_type": "display_data",
                    "data": {
                        "text/html": "Student with the ID 77021 has more than 110 total credits"
                    },
                    "metadata": {}
                },
                {
                    "output_type": "display_data",
                    "data": {
                        "text/html": "Student with the ID 77588 has more than 110 total credits"
                    },
                    "metadata": {}
                },
                {
                    "output_type": "display_data",
                    "data": {
                        "text/html": "Student with the ID 77664 has more than 110 total credits"
                    },
                    "metadata": {}
                },
                {
                    "output_type": "display_data",
                    "data": {
                        "text/html": "Student with the ID 7854 has more than 110 total credits"
                    },
                    "metadata": {}
                },
                {
                    "output_type": "display_data",
                    "data": {
                        "text/html": "Student with the ID 7861 has more than 110 total credits"
                    },
                    "metadata": {}
                },
                {
                    "output_type": "display_data",
                    "data": {
                        "text/html": "Student with the ID 79205 has more than 110 total credits"
                    },
                    "metadata": {}
                },
                {
                    "output_type": "display_data",
                    "data": {
                        "text/html": "Student with the ID 79763 has more than 110 total credits"
                    },
                    "metadata": {}
                },
                {
                    "output_type": "display_data",
                    "data": {
                        "text/html": "Student with the ID 79911 has more than 110 total credits"
                    },
                    "metadata": {}
                },
                {
                    "output_type": "display_data",
                    "data": {
                        "text/html": "Student with the ID 80254 has more than 110 total credits"
                    },
                    "metadata": {}
                },
                {
                    "output_type": "display_data",
                    "data": {
                        "text/html": "Student with the ID 80990 has more than 110 total credits"
                    },
                    "metadata": {}
                },
                {
                    "output_type": "display_data",
                    "data": {
                        "text/html": "Student with the ID 81207 has more than 110 total credits"
                    },
                    "metadata": {}
                },
                {
                    "output_type": "display_data",
                    "data": {
                        "text/html": "Student with the ID 81294 has more than 110 total credits"
                    },
                    "metadata": {}
                },
                {
                    "output_type": "display_data",
                    "data": {
                        "text/html": "Student with the ID 81538 has more than 110 total credits"
                    },
                    "metadata": {}
                },
                {
                    "output_type": "display_data",
                    "data": {
                        "text/html": "Student with the ID 81883 has more than 110 total credits"
                    },
                    "metadata": {}
                },
                {
                    "output_type": "display_data",
                    "data": {
                        "text/html": "Student with the ID 8192 has more than 110 total credits"
                    },
                    "metadata": {}
                },
                {
                    "output_type": "display_data",
                    "data": {
                        "text/html": "Student with the ID 82301 has more than 110 total credits"
                    },
                    "metadata": {}
                },
                {
                    "output_type": "display_data",
                    "data": {
                        "text/html": "Student with the ID 82974 has more than 110 total credits"
                    },
                    "metadata": {}
                },
                {
                    "output_type": "display_data",
                    "data": {
                        "text/html": "Student with the ID 83039 has more than 110 total credits"
                    },
                    "metadata": {}
                },
                {
                    "output_type": "display_data",
                    "data": {
                        "text/html": "Student with the ID 83444 has more than 110 total credits"
                    },
                    "metadata": {}
                },
                {
                    "output_type": "display_data",
                    "data": {
                        "text/html": "Student with the ID 84189 has more than 110 total credits"
                    },
                    "metadata": {}
                },
                {
                    "output_type": "display_data",
                    "data": {
                        "text/html": "Student with the ID 84432 has more than 110 total credits"
                    },
                    "metadata": {}
                },
                {
                    "output_type": "display_data",
                    "data": {
                        "text/html": "Student with the ID 84515 has more than 110 total credits"
                    },
                    "metadata": {}
                },
                {
                    "output_type": "display_data",
                    "data": {
                        "text/html": "Student with the ID 85366 has more than 110 total credits"
                    },
                    "metadata": {}
                },
                {
                    "output_type": "display_data",
                    "data": {
                        "text/html": "Student with the ID 85505 has more than 110 total credits"
                    },
                    "metadata": {}
                },
                {
                    "output_type": "display_data",
                    "data": {
                        "text/html": "Student with the ID 85904 has more than 110 total credits"
                    },
                    "metadata": {}
                },
                {
                    "output_type": "display_data",
                    "data": {
                        "text/html": "Student with the ID 86969 has more than 110 total credits"
                    },
                    "metadata": {}
                },
                {
                    "output_type": "display_data",
                    "data": {
                        "text/html": "Student with the ID 87222 has more than 110 total credits"
                    },
                    "metadata": {}
                },
                {
                    "output_type": "display_data",
                    "data": {
                        "text/html": "Student with the ID 87785 has more than 110 total credits"
                    },
                    "metadata": {}
                },
                {
                    "output_type": "display_data",
                    "data": {
                        "text/html": "Student with the ID 87831 has more than 110 total credits"
                    },
                    "metadata": {}
                },
                {
                    "output_type": "display_data",
                    "data": {
                        "text/html": "Student with the ID 88045 has more than 110 total credits"
                    },
                    "metadata": {}
                },
                {
                    "output_type": "display_data",
                    "data": {
                        "text/html": "Student with the ID 88140 has more than 110 total credits"
                    },
                    "metadata": {}
                },
                {
                    "output_type": "display_data",
                    "data": {
                        "text/html": "Student with the ID 88418 has more than 110 total credits"
                    },
                    "metadata": {}
                },
                {
                    "output_type": "display_data",
                    "data": {
                        "text/html": "Student with the ID 88887 has more than 110 total credits"
                    },
                    "metadata": {}
                },
                {
                    "output_type": "display_data",
                    "data": {
                        "text/html": "Student with the ID 89551 has more than 110 total credits"
                    },
                    "metadata": {}
                },
                {
                    "output_type": "display_data",
                    "data": {
                        "text/html": "Student with the ID 8986 has more than 110 total credits"
                    },
                    "metadata": {}
                },
                {
                    "output_type": "display_data",
                    "data": {
                        "text/html": "Student with the ID 90041 has more than 110 total credits"
                    },
                    "metadata": {}
                },
                {
                    "output_type": "display_data",
                    "data": {
                        "text/html": "Student with the ID 90220 has more than 110 total credits"
                    },
                    "metadata": {}
                },
                {
                    "output_type": "display_data",
                    "data": {
                        "text/html": "Student with the ID 90448 has more than 110 total credits"
                    },
                    "metadata": {}
                },
                {
                    "output_type": "display_data",
                    "data": {
                        "text/html": "Student with the ID 90567 has more than 110 total credits"
                    },
                    "metadata": {}
                },
                {
                    "output_type": "display_data",
                    "data": {
                        "text/html": "Student with the ID 90663 has more than 110 total credits"
                    },
                    "metadata": {}
                },
                {
                    "output_type": "display_data",
                    "data": {
                        "text/html": "Student with the ID 9114 has more than 110 total credits"
                    },
                    "metadata": {}
                },
                {
                    "output_type": "display_data",
                    "data": {
                        "text/html": "Student with the ID 91915 has more than 110 total credits"
                    },
                    "metadata": {}
                },
                {
                    "output_type": "display_data",
                    "data": {
                        "text/html": "Student with the ID 91978 has more than 110 total credits"
                    },
                    "metadata": {}
                },
                {
                    "output_type": "display_data",
                    "data": {
                        "text/html": "Student with the ID 92839 has more than 110 total credits"
                    },
                    "metadata": {}
                },
                {
                    "output_type": "display_data",
                    "data": {
                        "text/html": "Student with the ID 92949 has more than 110 total credits"
                    },
                    "metadata": {}
                },
                {
                    "output_type": "display_data",
                    "data": {
                        "text/html": "Student with the ID 93004 has more than 110 total credits"
                    },
                    "metadata": {}
                },
                {
                    "output_type": "display_data",
                    "data": {
                        "text/html": "Student with the ID 931 has more than 110 total credits"
                    },
                    "metadata": {}
                },
                {
                    "output_type": "display_data",
                    "data": {
                        "text/html": "Student with the ID 93653 has more than 110 total credits"
                    },
                    "metadata": {}
                },
                {
                    "output_type": "display_data",
                    "data": {
                        "text/html": "Student with the ID 94324 has more than 110 total credits"
                    },
                    "metadata": {}
                },
                {
                    "output_type": "display_data",
                    "data": {
                        "text/html": "Student with the ID 94371 has more than 110 total credits"
                    },
                    "metadata": {}
                },
                {
                    "output_type": "display_data",
                    "data": {
                        "text/html": "Student with the ID 94535 has more than 110 total credits"
                    },
                    "metadata": {}
                },
                {
                    "output_type": "display_data",
                    "data": {
                        "text/html": "Student with the ID 94569 has more than 110 total credits"
                    },
                    "metadata": {}
                },
                {
                    "output_type": "display_data",
                    "data": {
                        "text/html": "Student with the ID 94990 has more than 110 total credits"
                    },
                    "metadata": {}
                },
                {
                    "output_type": "display_data",
                    "data": {
                        "text/html": "Student with the ID 95089 has more than 110 total credits"
                    },
                    "metadata": {}
                },
                {
                    "output_type": "display_data",
                    "data": {
                        "text/html": "Student with the ID 9514 has more than 110 total credits"
                    },
                    "metadata": {}
                },
                {
                    "output_type": "display_data",
                    "data": {
                        "text/html": "Student with the ID 95205 has more than 110 total credits"
                    },
                    "metadata": {}
                },
                {
                    "output_type": "display_data",
                    "data": {
                        "text/html": "Student with the ID 95320 has more than 110 total credits"
                    },
                    "metadata": {}
                },
                {
                    "output_type": "display_data",
                    "data": {
                        "text/html": "Student with the ID 95574 has more than 110 total credits"
                    },
                    "metadata": {}
                },
                {
                    "output_type": "display_data",
                    "data": {
                        "text/html": "Student with the ID 95840 has more than 110 total credits"
                    },
                    "metadata": {}
                },
                {
                    "output_type": "display_data",
                    "data": {
                        "text/html": "Student with the ID 96067 has more than 110 total credits"
                    },
                    "metadata": {}
                },
                {
                    "output_type": "display_data",
                    "data": {
                        "text/html": "Student with the ID 96117 has more than 110 total credits"
                    },
                    "metadata": {}
                },
                {
                    "output_type": "display_data",
                    "data": {
                        "text/html": "Student with the ID 96134 has more than 110 total credits"
                    },
                    "metadata": {}
                },
                {
                    "output_type": "display_data",
                    "data": {
                        "text/html": "Student with the ID 96772 has more than 110 total credits"
                    },
                    "metadata": {}
                },
                {
                    "output_type": "display_data",
                    "data": {
                        "text/html": "Student with the ID 96968 has more than 110 total credits"
                    },
                    "metadata": {}
                },
                {
                    "output_type": "display_data",
                    "data": {
                        "text/html": "Student with the ID 96988 has more than 110 total credits"
                    },
                    "metadata": {}
                },
                {
                    "output_type": "display_data",
                    "data": {
                        "text/html": "Student with the ID 97551 has more than 110 total credits"
                    },
                    "metadata": {}
                },
                {
                    "output_type": "display_data",
                    "data": {
                        "text/html": "Student with the ID 978 has more than 110 total credits"
                    },
                    "metadata": {}
                },
                {
                    "output_type": "display_data",
                    "data": {
                        "text/html": "Student with the ID 99268 has more than 110 total credits"
                    },
                    "metadata": {}
                },
                {
                    "output_type": "display_data",
                    "data": {
                        "text/html": "Student with the ID 99660 has more than 110 total credits"
                    },
                    "metadata": {}
                },
                {
                    "output_type": "display_data",
                    "data": {
                        "text/html": "Student with the ID 99694 has more than 110 total credits"
                    },
                    "metadata": {}
                },
                {
                    "output_type": "display_data",
                    "data": {
                        "text/html": "Student with the ID 99710 has more than 110 total credits"
                    },
                    "metadata": {}
                },
                {
                    "output_type": "display_data",
                    "data": {
                        "text/html": "Student with the ID 99775 has more than 110 total credits"
                    },
                    "metadata": {}
                },
                {
                    "output_type": "display_data",
                    "data": {
                        "text/html": "Student with the ID 99949 has more than 110 total credits"
                    },
                    "metadata": {}
                },
                {
                    "output_type": "display_data",
                    "data": {
                        "text/html": "Commands completed successfully."
                    },
                    "metadata": {}
                },
                {
                    "output_type": "display_data",
                    "data": {
                        "text/html": "Total execution time: 00:00:00.089"
                    },
                    "metadata": {}
                }
            ],
            "execution_count": 1
        },
        {
            "cell_type": "markdown",
            "source": [
                "### ``TRY...CATCH``\n",
                "\n",
                "The TRY CATCH construct allows you to handle exceptions in SQL Server. To use the TRY CATCH construct, you first place a group of Transact-SQL statements that could cause an exception in a BEGIN TRY...END TRY block as follows:\n",
                "\n",
                "```\n",
                "BEGIN TRY  \n",
                "   -- statements that may cause exceptions\n",
                "END TRY  \n",
                "```\n",
                "Then you use a BEGIN CATCH...END CATCH block immediately after the TRY block:\n",
                "```\n",
                "BEGIN CATCH  \n",
                "   -- statements that handle exception\n",
                "END CATCH  \n",
                "```\n",
                "We have an example below. We define a stored procedure which divindes two values with exception handling."
            ],
            "metadata": {
                "azdata_cell_guid": "7d6056d5-1228-4a12-a1b2-c4a8c85569b9"
            }
        },
        {
            "cell_type": "code",
            "source": [
                "CREATE PROC usp_divide (\n",
                "    @a DECIMAL,\n",
                "    @b DECIMAL,\n",
                "    @c DECIMAL OUTPUT\n",
                ") AS\n",
                "BEGIN\n",
                "    BEGIN TRY\n",
                "        SET @c = @a/@b\n",
                "    END TRY\n",
                "    BEGIN CATCH\n",
                "        SELECT \n",
                "            ERROR_NUMBER() AS ErrorNumber,\n",
                "            ERROR_SEVERITY() AS ErrorSeverity,\n",
                "            ERROR_STATE() AS ErrorState,\n",
                "            ERROR_PROCEDURE() AS ErrorProcedure,\n",
                "            ERROR_LINE() AS ErrorLine,\n",
                "            ERROR_MESSAGE() AS ErrorMessage;  \n",
                "    END CATCH\n",
                "END;\n",
                "GO"
            ],
            "metadata": {
                "azdata_cell_guid": "870bd473-fafe-4c33-8058-8de8d65560a4"
            },
            "outputs": [
                {
                    "output_type": "display_data",
                    "data": {
                        "text/html": "Commands completed successfully."
                    },
                    "metadata": {}
                },
                {
                    "output_type": "display_data",
                    "data": {
                        "text/html": "Total execution time: 00:00:00.006"
                    },
                    "metadata": {}
                }
            ],
            "execution_count": 6
        },
        {
            "cell_type": "code",
            "source": [
                "DECLARE @r DECIMAL;\n",
                "EXEC usp_divide 10, 2, @r OUTPUT;\n",
                "PRINT @r;"
            ],
            "metadata": {
                "azdata_cell_guid": "11b8708c-fd16-41dc-a25e-848950185cd2"
            },
            "outputs": [
                {
                    "output_type": "display_data",
                    "data": {
                        "text/html": "5"
                    },
                    "metadata": {}
                },
                {
                    "output_type": "display_data",
                    "data": {
                        "text/html": "Total execution time: 00:00:00.001"
                    },
                    "metadata": {}
                }
            ],
            "execution_count": 12
        },
        {
            "cell_type": "markdown",
            "source": [
                "Next we run it in a way which will trigger an error. Inside the <code>CATCH</code> block, you can use the following functions to get the detailed information on the error that occurred:\n",
                "\n",
                "- `ERROR_LINE()` returns the line number on which the exception occurred.\n",
                "- `ERROR_MESSAGE()` returns the complete text of the generated error message.\n",
                "- `ERROR_PROCEDURE()` returns the name of the stored procedure or trigger where the error occurred.\n",
                "- `ERROR_NUMBER()` returns the number of the error that occurred.\n",
                "- `ERROR_SEVERITY()` returns the severity level of the error that occurred.\n",
                "- `ERROR_STATE()` returns the state number of the error that occurred.\n",
                "\n",
                "Note that you only use these functions in the <code>CATCH</code> block. If you use them outside of the <code>CATCH</code> block, all of these functions will return <code>NULL</code>."
            ],
            "metadata": {
                "azdata_cell_guid": "c4d1d3c8-f533-4c51-9cdc-797ccdd6aa35"
            }
        },
        {
            "cell_type": "code",
            "source": [
                "DECLARE @r DECIMAL;\n",
                "EXEC usp_divide 10, 0, @r OUTPUT;\n",
                "PRINT @r;"
            ],
            "metadata": {
                "azdata_cell_guid": "05f64ccb-3850-4c2e-a857-f52cc59e0e4d"
            },
            "outputs": [
                {
                    "output_type": "display_data",
                    "data": {
                        "text/html": "(1 row affected)"
                    },
                    "metadata": {}
                },
                {
                    "output_type": "display_data",
                    "data": {
                        "text/html": " "
                    },
                    "metadata": {}
                },
                {
                    "output_type": "display_data",
                    "data": {
                        "text/html": "Total execution time: 00:00:00.008"
                    },
                    "metadata": {}
                },
                {
                    "output_type": "execute_result",
                    "execution_count": 14,
                    "data": {
                        "application/vnd.dataresource+json": {
                            "schema": {
                                "fields": [
                                    {
                                        "name": "ErrorNumber"
                                    },
                                    {
                                        "name": "ErrorSeverity"
                                    },
                                    {
                                        "name": "ErrorState"
                                    },
                                    {
                                        "name": "ErrorProcedure"
                                    },
                                    {
                                        "name": "ErrorLine"
                                    },
                                    {
                                        "name": "ErrorMessage"
                                    }
                                ]
                            },
                            "data": [
                                {
                                    "0": "8134",
                                    "1": "16",
                                    "2": "1",
                                    "3": "usp_divide",
                                    "4": "8",
                                    "5": "Divide by zero error encountered."
                                }
                            ]
                        },
                        "text/html": "<table><tr><th>ErrorNumber</th><th>ErrorSeverity</th><th>ErrorState</th><th>ErrorProcedure</th><th>ErrorLine</th><th>ErrorMessage</th></tr><tr><td>8134</td><td>16</td><td>1</td><td>usp_divide</td><td>8</td><td>Divide by zero error encountered.</td></tr></table>"
                    },
                    "metadata": {
                        "resultSet": {
                            "id": 0,
                            "batchId": 0,
                            "rowCount": 1,
                            "complete": true,
                            "columnInfo": [
                                {
                                    "isBytes": false,
                                    "isChars": false,
                                    "isSqlVariant": false,
                                    "isUdt": false,
                                    "isXml": false,
                                    "isJson": false,
                                    "sqlDbType": 8,
                                    "isHierarchyId": false,
                                    "isSqlXmlType": false,
                                    "isUnknownType": false,
                                    "isUpdatable": false,
                                    "allowDBNull": true,
                                    "baseCatalogName": null,
                                    "baseColumnName": null,
                                    "baseSchemaName": null,
                                    "baseServerName": null,
                                    "baseTableName": null,
                                    "columnName": "ErrorNumber",
                                    "columnOrdinal": 0,
                                    "columnSize": 4,
                                    "isAliased": null,
                                    "isAutoIncrement": false,
                                    "isExpression": null,
                                    "isHidden": null,
                                    "isIdentity": false,
                                    "isKey": null,
                                    "isLong": false,
                                    "isReadOnly": true,
                                    "isUnique": false,
                                    "numericPrecision": 10,
                                    "numericScale": 255,
                                    "udtAssemblyQualifiedName": null,
                                    "dataType": "System.Int32, System.Private.CoreLib, Version=4.0.0.0, Culture=neutral, PublicKeyToken=7cec85d7bea7798e",
                                    "dataTypeName": "int"
                                },
                                {
                                    "isBytes": false,
                                    "isChars": false,
                                    "isSqlVariant": false,
                                    "isUdt": false,
                                    "isXml": false,
                                    "isJson": false,
                                    "sqlDbType": 8,
                                    "isHierarchyId": false,
                                    "isSqlXmlType": false,
                                    "isUnknownType": false,
                                    "isUpdatable": false,
                                    "allowDBNull": true,
                                    "baseCatalogName": null,
                                    "baseColumnName": null,
                                    "baseSchemaName": null,
                                    "baseServerName": null,
                                    "baseTableName": null,
                                    "columnName": "ErrorSeverity",
                                    "columnOrdinal": 1,
                                    "columnSize": 4,
                                    "isAliased": null,
                                    "isAutoIncrement": false,
                                    "isExpression": null,
                                    "isHidden": null,
                                    "isIdentity": false,
                                    "isKey": null,
                                    "isLong": false,
                                    "isReadOnly": true,
                                    "isUnique": false,
                                    "numericPrecision": 10,
                                    "numericScale": 255,
                                    "udtAssemblyQualifiedName": null,
                                    "dataType": "System.Int32, System.Private.CoreLib, Version=4.0.0.0, Culture=neutral, PublicKeyToken=7cec85d7bea7798e",
                                    "dataTypeName": "int"
                                },
                                {
                                    "isBytes": false,
                                    "isChars": false,
                                    "isSqlVariant": false,
                                    "isUdt": false,
                                    "isXml": false,
                                    "isJson": false,
                                    "sqlDbType": 8,
                                    "isHierarchyId": false,
                                    "isSqlXmlType": false,
                                    "isUnknownType": false,
                                    "isUpdatable": false,
                                    "allowDBNull": true,
                                    "baseCatalogName": null,
                                    "baseColumnName": null,
                                    "baseSchemaName": null,
                                    "baseServerName": null,
                                    "baseTableName": null,
                                    "columnName": "ErrorState",
                                    "columnOrdinal": 2,
                                    "columnSize": 4,
                                    "isAliased": null,
                                    "isAutoIncrement": false,
                                    "isExpression": null,
                                    "isHidden": null,
                                    "isIdentity": false,
                                    "isKey": null,
                                    "isLong": false,
                                    "isReadOnly": true,
                                    "isUnique": false,
                                    "numericPrecision": 10,
                                    "numericScale": 255,
                                    "udtAssemblyQualifiedName": null,
                                    "dataType": "System.Int32, System.Private.CoreLib, Version=4.0.0.0, Culture=neutral, PublicKeyToken=7cec85d7bea7798e",
                                    "dataTypeName": "int"
                                },
                                {
                                    "isBytes": false,
                                    "isChars": true,
                                    "isSqlVariant": false,
                                    "isUdt": false,
                                    "isXml": false,
                                    "isJson": false,
                                    "sqlDbType": 12,
                                    "isHierarchyId": false,
                                    "isSqlXmlType": false,
                                    "isUnknownType": false,
                                    "isUpdatable": false,
                                    "allowDBNull": true,
                                    "baseCatalogName": null,
                                    "baseColumnName": null,
                                    "baseSchemaName": null,
                                    "baseServerName": null,
                                    "baseTableName": null,
                                    "columnName": "ErrorProcedure",
                                    "columnOrdinal": 3,
                                    "columnSize": 128,
                                    "isAliased": null,
                                    "isAutoIncrement": false,
                                    "isExpression": null,
                                    "isHidden": null,
                                    "isIdentity": false,
                                    "isKey": null,
                                    "isLong": false,
                                    "isReadOnly": true,
                                    "isUnique": false,
                                    "numericPrecision": 255,
                                    "numericScale": 255,
                                    "udtAssemblyQualifiedName": null,
                                    "dataType": "System.String, System.Private.CoreLib, Version=4.0.0.0, Culture=neutral, PublicKeyToken=7cec85d7bea7798e",
                                    "dataTypeName": "nvarchar"
                                },
                                {
                                    "isBytes": false,
                                    "isChars": false,
                                    "isSqlVariant": false,
                                    "isUdt": false,
                                    "isXml": false,
                                    "isJson": false,
                                    "sqlDbType": 8,
                                    "isHierarchyId": false,
                                    "isSqlXmlType": false,
                                    "isUnknownType": false,
                                    "isUpdatable": false,
                                    "allowDBNull": true,
                                    "baseCatalogName": null,
                                    "baseColumnName": null,
                                    "baseSchemaName": null,
                                    "baseServerName": null,
                                    "baseTableName": null,
                                    "columnName": "ErrorLine",
                                    "columnOrdinal": 4,
                                    "columnSize": 4,
                                    "isAliased": null,
                                    "isAutoIncrement": false,
                                    "isExpression": null,
                                    "isHidden": null,
                                    "isIdentity": false,
                                    "isKey": null,
                                    "isLong": false,
                                    "isReadOnly": true,
                                    "isUnique": false,
                                    "numericPrecision": 10,
                                    "numericScale": 255,
                                    "udtAssemblyQualifiedName": null,
                                    "dataType": "System.Int32, System.Private.CoreLib, Version=4.0.0.0, Culture=neutral, PublicKeyToken=7cec85d7bea7798e",
                                    "dataTypeName": "int"
                                },
                                {
                                    "isBytes": false,
                                    "isChars": true,
                                    "isSqlVariant": false,
                                    "isUdt": false,
                                    "isXml": false,
                                    "isJson": false,
                                    "sqlDbType": 12,
                                    "isHierarchyId": false,
                                    "isSqlXmlType": false,
                                    "isUnknownType": false,
                                    "isUpdatable": false,
                                    "allowDBNull": true,
                                    "baseCatalogName": null,
                                    "baseColumnName": null,
                                    "baseSchemaName": null,
                                    "baseServerName": null,
                                    "baseTableName": null,
                                    "columnName": "ErrorMessage",
                                    "columnOrdinal": 5,
                                    "columnSize": 4000,
                                    "isAliased": null,
                                    "isAutoIncrement": false,
                                    "isExpression": null,
                                    "isHidden": null,
                                    "isIdentity": false,
                                    "isKey": null,
                                    "isLong": false,
                                    "isReadOnly": true,
                                    "isUnique": false,
                                    "numericPrecision": 255,
                                    "numericScale": 255,
                                    "udtAssemblyQualifiedName": null,
                                    "dataType": "System.String, System.Private.CoreLib, Version=4.0.0.0, Culture=neutral, PublicKeyToken=7cec85d7bea7798e",
                                    "dataTypeName": "nvarchar"
                                }
                            ],
                            "specialAction": {
                                "none": true,
                                "expectYukonXMLShowPlan": false
                            }
                        }
                    }
                }
            ],
            "execution_count": 14
        },
        {
            "cell_type": "markdown",
            "source": [
                "Inside the <code>CATCH</code> block, you can test the state of transactions by using the <code>XACT_STATE()</code> function:\n",
                "\n",
                "1. If the `XACT_STATE()` function returns -1, it means that an uncommitable transaction is pending, you should issue a rollback transaction statement\n",
                "2. In case the `XACT_STATE()` function returns 1, it mean that a commitable transaction is pending. You can issue a COMMIT TRANSACTION statement in this case.\n",
                "3. If the `XACT_STATE()` function returns 0, it mean no transaction is pending therefore you do not neet to take any action.\n",
                "\n",
                "It is in general a good practice to test our changes to the database before commiting the underlying transaction. In the case below, we will test just that. We define a stored procedure for updating students credits data, but we wrap it around the try catch."
            ],
            "metadata": {
                "azdata_cell_guid": "1e78c066-3757-4837-9992-c51236f3dcc1"
            }
        },
        {
            "cell_type": "code",
            "source": [
                "---- Preparing the test data\n",
                "USE uni;\n",
                "GO\n",
                "-- create a dummy table\n",
                "IF NOT EXISTS(SELECT * FROM sys.objects WHERE [name] = 'student_copy')\n",
                "    BEGIN\n",
                "        SELECT * \n",
                "        INTO student_copy\n",
                "        FROM student;\n",
                "        -- add a check constraint for inducing errors\n",
                "        ALTER TABLE student_copy\n",
                "        ADD CONSTRAINT check_total_credits CHECK (tot_cred < 150);\n",
                "    END\n",
                "GO\n",
                "--- Stored procedure 1: reports an error\n",
                "-- existing, drop it\n",
                "IF EXISTS (SELECT  * FROM dbo.sysobjects WHERE id = OBJECT_ID(N'[dbo].[sp_report_error]'))\n",
                "    BEGIN\n",
                "        DROP PROCEDURE dbo.sp_report_error\n",
                "    END;\n",
                "GO\n",
                "-- define the stored procedure for reporting an error\n",
                "CREATE PROC sp_report_error\n",
                "AS\n",
                "    SELECT   \n",
                "        ERROR_NUMBER() AS ErrorNumber,\n",
                "        ERROR_SEVERITY() AS ErrorSeverity, \n",
                "        ERROR_STATE() AS ErrorState,\n",
                "        ERROR_LINE () AS ErrorLine,\n",
                "        ERROR_PROCEDURE() AS ErrorProcedure, \n",
                "        ERROR_MESSAGE() AS ErrorMessage;  \n",
                "GO\n",
                "\n",
                "--- Stored Procedure 2: updates total credits of a student with error handling and transaction control\n",
                "-- existing, drop it\n",
                "IF EXISTS (SELECT  * FROM dbo.sysobjects WHERE id = OBJECT_ID(N'[dbo].[sp_update_tot_cred]'))\n",
                "    BEGIN\n",
                "        DROP PROCEDURE dbo.sp_update_tot_cred\n",
                "    END;\n",
                "GO\n",
                "-- define the stored procedure for updating total credits\n",
                "CREATE PROC dbo.sp_update_tot_cred (\n",
                "    @student_id INT,\n",
                "    @cred_update INT\n",
                ") AS\n",
                "BEGIN\n",
                "    BEGIN TRY\n",
                "        BEGIN TRANSACTION;\n",
                "        -- update the grades\n",
                "        UPDATE student_copy\n",
                "        SET tot_cred = tot_cred + @cred_update\n",
                "        WHERE ID = @student_id;\n",
                "        -- if DELETE succeeds, commit the transaction\n",
                "        COMMIT TRANSACTION;  \n",
                "    END TRY\n",
                "    BEGIN CATCH\n",
                "            EXEC sp_report_error;\n",
                "            -- Test if the transaction is uncommittable.  \n",
                "            IF (XACT_STATE()) = -1  \n",
                "            BEGIN  \n",
                "                PRINT  N'The transaction is in an uncommittable state.' +  \n",
                "                        'Rolling back transaction.'  \n",
                "                ROLLBACK TRANSACTION;  \n",
                "            END;  \n",
                "            -- Test if the transaction is committable.  \n",
                "            IF (XACT_STATE()) = 1  \n",
                "            BEGIN  \n",
                "                PRINT N'The transaction is committable.' +  \n",
                "                    'Committing transaction.'  \n",
                "                COMMIT TRANSACTION;     \n",
                "            END;          \n",
                "    END CATCH\n",
                "END;\n",
                "GO\n",
                "\n",
                "--- try it\n",
                "--- Case without error\n",
                "-- before\n",
                "SELECT * \n",
                "FROM student_copy\n",
                "WHERE ID = 10033;\n",
                "go\n",
                "-- all good...\n",
                "EXEC dbo.sp_update_tot_cred \n",
                "    @student_id = 10033,\n",
                "    @cred_update = 3;\n",
                "GO\n",
                "-- after \n",
                "SELECT * \n",
                "FROM student_copy\n",
                "WHERE ID = 10033;\n",
                "GO\n",
                "--- case with error\n",
                "-- before\n",
                "SELECT * \n",
                "FROM student_copy\n",
                "WHERE ID = 10033;\n",
                "GO\n",
                "-- error...\n",
                "EXEC dbo.sp_update_tot_cred \n",
                "    @student_id = 10033,\n",
                "    @cred_update = 300;\n",
                "GO\n",
                "-- after\n",
                "SELECT * \n",
                "FROM student_copy\n",
                "WHERE ID = 10033;\n",
                "GO\n",
                ""
            ],
            "metadata": {
                "azdata_cell_guid": "820fb777-d943-4fb5-87e9-3db5b8f07cc2"
            },
            "outputs": [
                {
                    "output_type": "display_data",
                    "data": {
                        "text/html": "Commands completed successfully."
                    },
                    "metadata": {}
                },
                {
                    "output_type": "display_data",
                    "data": {
                        "text/html": "(2000 rows affected)"
                    },
                    "metadata": {}
                },
                {
                    "output_type": "display_data",
                    "data": {
                        "text/html": "Commands completed successfully."
                    },
                    "metadata": {}
                },
                {
                    "output_type": "display_data",
                    "data": {
                        "text/html": "Commands completed successfully."
                    },
                    "metadata": {}
                },
                {
                    "output_type": "display_data",
                    "data": {
                        "text/html": "Commands completed successfully."
                    },
                    "metadata": {}
                },
                {
                    "output_type": "display_data",
                    "data": {
                        "text/html": "Commands completed successfully."
                    },
                    "metadata": {}
                },
                {
                    "output_type": "display_data",
                    "data": {
                        "text/html": "(1 row affected)"
                    },
                    "metadata": {}
                },
                {
                    "output_type": "display_data",
                    "data": {
                        "text/html": "(1 row affected)"
                    },
                    "metadata": {}
                },
                {
                    "output_type": "display_data",
                    "data": {
                        "text/html": "(1 row affected)"
                    },
                    "metadata": {}
                },
                {
                    "output_type": "display_data",
                    "data": {
                        "text/html": "(1 row affected)"
                    },
                    "metadata": {}
                },
                {
                    "output_type": "display_data",
                    "data": {
                        "text/html": "(0 rows affected)"
                    },
                    "metadata": {}
                },
                {
                    "output_type": "display_data",
                    "data": {
                        "text/html": "(1 row affected)"
                    },
                    "metadata": {}
                },
                {
                    "output_type": "display_data",
                    "data": {
                        "text/html": "The transaction is committable.Committing transaction."
                    },
                    "metadata": {}
                },
                {
                    "output_type": "display_data",
                    "data": {
                        "text/html": "(1 row affected)"
                    },
                    "metadata": {}
                },
                {
                    "output_type": "display_data",
                    "data": {
                        "text/html": "Total execution time: 00:00:00.104"
                    },
                    "metadata": {}
                },
                {
                    "output_type": "execute_result",
                    "metadata": {
                        "resultSet": {
                            "id": 0,
                            "batchId": 6,
                            "rowCount": 1,
                            "complete": true,
                            "columnInfo": [
                                {
                                    "isBytes": false,
                                    "isChars": true,
                                    "isSqlVariant": false,
                                    "isUdt": false,
                                    "isXml": false,
                                    "isJson": false,
                                    "sqlDbType": 22,
                                    "isHierarchyId": false,
                                    "isSqlXmlType": false,
                                    "isUnknownType": false,
                                    "isUpdatable": true,
                                    "allowDBNull": false,
                                    "baseCatalogName": null,
                                    "baseColumnName": null,
                                    "baseSchemaName": null,
                                    "baseServerName": null,
                                    "baseTableName": null,
                                    "columnName": "ID",
                                    "columnOrdinal": 0,
                                    "columnSize": 5,
                                    "isAliased": null,
                                    "isAutoIncrement": false,
                                    "isExpression": null,
                                    "isHidden": null,
                                    "isIdentity": false,
                                    "isKey": null,
                                    "isLong": false,
                                    "isReadOnly": false,
                                    "isUnique": false,
                                    "numericPrecision": 255,
                                    "numericScale": 255,
                                    "udtAssemblyQualifiedName": null,
                                    "dataType": "System.String, System.Private.CoreLib, Version=4.0.0.0, Culture=neutral, PublicKeyToken=7cec85d7bea7798e",
                                    "dataTypeName": "varchar"
                                },
                                {
                                    "isBytes": false,
                                    "isChars": true,
                                    "isSqlVariant": false,
                                    "isUdt": false,
                                    "isXml": false,
                                    "isJson": false,
                                    "sqlDbType": 22,
                                    "isHierarchyId": false,
                                    "isSqlXmlType": false,
                                    "isUnknownType": false,
                                    "isUpdatable": true,
                                    "allowDBNull": false,
                                    "baseCatalogName": null,
                                    "baseColumnName": null,
                                    "baseSchemaName": null,
                                    "baseServerName": null,
                                    "baseTableName": null,
                                    "columnName": "name",
                                    "columnOrdinal": 1,
                                    "columnSize": 20,
                                    "isAliased": null,
                                    "isAutoIncrement": false,
                                    "isExpression": null,
                                    "isHidden": null,
                                    "isIdentity": false,
                                    "isKey": null,
                                    "isLong": false,
                                    "isReadOnly": false,
                                    "isUnique": false,
                                    "numericPrecision": 255,
                                    "numericScale": 255,
                                    "udtAssemblyQualifiedName": null,
                                    "dataType": "System.String, System.Private.CoreLib, Version=4.0.0.0, Culture=neutral, PublicKeyToken=7cec85d7bea7798e",
                                    "dataTypeName": "varchar"
                                },
                                {
                                    "isBytes": false,
                                    "isChars": true,
                                    "isSqlVariant": false,
                                    "isUdt": false,
                                    "isXml": false,
                                    "isJson": false,
                                    "sqlDbType": 22,
                                    "isHierarchyId": false,
                                    "isSqlXmlType": false,
                                    "isUnknownType": false,
                                    "isUpdatable": true,
                                    "allowDBNull": true,
                                    "baseCatalogName": null,
                                    "baseColumnName": null,
                                    "baseSchemaName": null,
                                    "baseServerName": null,
                                    "baseTableName": null,
                                    "columnName": "dept_name",
                                    "columnOrdinal": 2,
                                    "columnSize": 20,
                                    "isAliased": null,
                                    "isAutoIncrement": false,
                                    "isExpression": null,
                                    "isHidden": null,
                                    "isIdentity": false,
                                    "isKey": null,
                                    "isLong": false,
                                    "isReadOnly": false,
                                    "isUnique": false,
                                    "numericPrecision": 255,
                                    "numericScale": 255,
                                    "udtAssemblyQualifiedName": null,
                                    "dataType": "System.String, System.Private.CoreLib, Version=4.0.0.0, Culture=neutral, PublicKeyToken=7cec85d7bea7798e",
                                    "dataTypeName": "varchar"
                                },
                                {
                                    "isBytes": false,
                                    "isChars": false,
                                    "isSqlVariant": false,
                                    "isUdt": false,
                                    "isXml": false,
                                    "isJson": false,
                                    "sqlDbType": 5,
                                    "isHierarchyId": false,
                                    "isSqlXmlType": false,
                                    "isUnknownType": false,
                                    "isUpdatable": true,
                                    "allowDBNull": true,
                                    "baseCatalogName": null,
                                    "baseColumnName": null,
                                    "baseSchemaName": null,
                                    "baseServerName": null,
                                    "baseTableName": null,
                                    "columnName": "tot_cred",
                                    "columnOrdinal": 3,
                                    "columnSize": 17,
                                    "isAliased": null,
                                    "isAutoIncrement": false,
                                    "isExpression": null,
                                    "isHidden": null,
                                    "isIdentity": false,
                                    "isKey": null,
                                    "isLong": false,
                                    "isReadOnly": false,
                                    "isUnique": false,
                                    "numericPrecision": 3,
                                    "numericScale": 0,
                                    "udtAssemblyQualifiedName": null,
                                    "dataType": "System.Decimal, System.Private.CoreLib, Version=4.0.0.0, Culture=neutral, PublicKeyToken=7cec85d7bea7798e",
                                    "dataTypeName": "decimal"
                                }
                            ],
                            "specialAction": {
                                "none": true,
                                "expectYukonXMLShowPlan": false
                            }
                        }
                    },
                    "execution_count": 3,
                    "data": {
                        "application/vnd.dataresource+json": {
                            "schema": {
                                "fields": [
                                    {
                                        "name": "ID"
                                    },
                                    {
                                        "name": "name"
                                    },
                                    {
                                        "name": "dept_name"
                                    },
                                    {
                                        "name": "tot_cred"
                                    }
                                ]
                            },
                            "data": [
                                {
                                    "0": "10033",
                                    "1": "Zelty",
                                    "2": "Mech. Eng.",
                                    "3": "60"
                                }
                            ]
                        },
                        "text/html": [
                            "<table>",
                            "<tr><th>ID</th><th>name</th><th>dept_name</th><th>tot_cred</th></tr>",
                            "<tr><td>10033</td><td>Zelty</td><td>Mech. Eng.</td><td>60</td></tr>",
                            "</table>"
                        ]
                    }
                },
                {
                    "output_type": "execute_result",
                    "metadata": {
                        "resultSet": {
                            "id": 0,
                            "batchId": 8,
                            "rowCount": 1,
                            "complete": true,
                            "columnInfo": [
                                {
                                    "isBytes": false,
                                    "isChars": true,
                                    "isSqlVariant": false,
                                    "isUdt": false,
                                    "isXml": false,
                                    "isJson": false,
                                    "sqlDbType": 22,
                                    "isHierarchyId": false,
                                    "isSqlXmlType": false,
                                    "isUnknownType": false,
                                    "isUpdatable": true,
                                    "allowDBNull": false,
                                    "baseCatalogName": null,
                                    "baseColumnName": null,
                                    "baseSchemaName": null,
                                    "baseServerName": null,
                                    "baseTableName": null,
                                    "columnName": "ID",
                                    "columnOrdinal": 0,
                                    "columnSize": 5,
                                    "isAliased": null,
                                    "isAutoIncrement": false,
                                    "isExpression": null,
                                    "isHidden": null,
                                    "isIdentity": false,
                                    "isKey": null,
                                    "isLong": false,
                                    "isReadOnly": false,
                                    "isUnique": false,
                                    "numericPrecision": 255,
                                    "numericScale": 255,
                                    "udtAssemblyQualifiedName": null,
                                    "dataType": "System.String, System.Private.CoreLib, Version=4.0.0.0, Culture=neutral, PublicKeyToken=7cec85d7bea7798e",
                                    "dataTypeName": "varchar"
                                },
                                {
                                    "isBytes": false,
                                    "isChars": true,
                                    "isSqlVariant": false,
                                    "isUdt": false,
                                    "isXml": false,
                                    "isJson": false,
                                    "sqlDbType": 22,
                                    "isHierarchyId": false,
                                    "isSqlXmlType": false,
                                    "isUnknownType": false,
                                    "isUpdatable": true,
                                    "allowDBNull": false,
                                    "baseCatalogName": null,
                                    "baseColumnName": null,
                                    "baseSchemaName": null,
                                    "baseServerName": null,
                                    "baseTableName": null,
                                    "columnName": "name",
                                    "columnOrdinal": 1,
                                    "columnSize": 20,
                                    "isAliased": null,
                                    "isAutoIncrement": false,
                                    "isExpression": null,
                                    "isHidden": null,
                                    "isIdentity": false,
                                    "isKey": null,
                                    "isLong": false,
                                    "isReadOnly": false,
                                    "isUnique": false,
                                    "numericPrecision": 255,
                                    "numericScale": 255,
                                    "udtAssemblyQualifiedName": null,
                                    "dataType": "System.String, System.Private.CoreLib, Version=4.0.0.0, Culture=neutral, PublicKeyToken=7cec85d7bea7798e",
                                    "dataTypeName": "varchar"
                                },
                                {
                                    "isBytes": false,
                                    "isChars": true,
                                    "isSqlVariant": false,
                                    "isUdt": false,
                                    "isXml": false,
                                    "isJson": false,
                                    "sqlDbType": 22,
                                    "isHierarchyId": false,
                                    "isSqlXmlType": false,
                                    "isUnknownType": false,
                                    "isUpdatable": true,
                                    "allowDBNull": true,
                                    "baseCatalogName": null,
                                    "baseColumnName": null,
                                    "baseSchemaName": null,
                                    "baseServerName": null,
                                    "baseTableName": null,
                                    "columnName": "dept_name",
                                    "columnOrdinal": 2,
                                    "columnSize": 20,
                                    "isAliased": null,
                                    "isAutoIncrement": false,
                                    "isExpression": null,
                                    "isHidden": null,
                                    "isIdentity": false,
                                    "isKey": null,
                                    "isLong": false,
                                    "isReadOnly": false,
                                    "isUnique": false,
                                    "numericPrecision": 255,
                                    "numericScale": 255,
                                    "udtAssemblyQualifiedName": null,
                                    "dataType": "System.String, System.Private.CoreLib, Version=4.0.0.0, Culture=neutral, PublicKeyToken=7cec85d7bea7798e",
                                    "dataTypeName": "varchar"
                                },
                                {
                                    "isBytes": false,
                                    "isChars": false,
                                    "isSqlVariant": false,
                                    "isUdt": false,
                                    "isXml": false,
                                    "isJson": false,
                                    "sqlDbType": 5,
                                    "isHierarchyId": false,
                                    "isSqlXmlType": false,
                                    "isUnknownType": false,
                                    "isUpdatable": true,
                                    "allowDBNull": true,
                                    "baseCatalogName": null,
                                    "baseColumnName": null,
                                    "baseSchemaName": null,
                                    "baseServerName": null,
                                    "baseTableName": null,
                                    "columnName": "tot_cred",
                                    "columnOrdinal": 3,
                                    "columnSize": 17,
                                    "isAliased": null,
                                    "isAutoIncrement": false,
                                    "isExpression": null,
                                    "isHidden": null,
                                    "isIdentity": false,
                                    "isKey": null,
                                    "isLong": false,
                                    "isReadOnly": false,
                                    "isUnique": false,
                                    "numericPrecision": 3,
                                    "numericScale": 0,
                                    "udtAssemblyQualifiedName": null,
                                    "dataType": "System.Decimal, System.Private.CoreLib, Version=4.0.0.0, Culture=neutral, PublicKeyToken=7cec85d7bea7798e",
                                    "dataTypeName": "decimal"
                                }
                            ],
                            "specialAction": {
                                "none": true,
                                "expectYukonXMLShowPlan": false
                            }
                        }
                    },
                    "execution_count": 3,
                    "data": {
                        "application/vnd.dataresource+json": {
                            "schema": {
                                "fields": [
                                    {
                                        "name": "ID"
                                    },
                                    {
                                        "name": "name"
                                    },
                                    {
                                        "name": "dept_name"
                                    },
                                    {
                                        "name": "tot_cred"
                                    }
                                ]
                            },
                            "data": [
                                {
                                    "0": "10033",
                                    "1": "Zelty",
                                    "2": "Mech. Eng.",
                                    "3": "63"
                                }
                            ]
                        },
                        "text/html": [
                            "<table>",
                            "<tr><th>ID</th><th>name</th><th>dept_name</th><th>tot_cred</th></tr>",
                            "<tr><td>10033</td><td>Zelty</td><td>Mech. Eng.</td><td>63</td></tr>",
                            "</table>"
                        ]
                    }
                },
                {
                    "output_type": "execute_result",
                    "metadata": {
                        "resultSet": {
                            "id": 0,
                            "batchId": 9,
                            "rowCount": 1,
                            "complete": true,
                            "columnInfo": [
                                {
                                    "isBytes": false,
                                    "isChars": true,
                                    "isSqlVariant": false,
                                    "isUdt": false,
                                    "isXml": false,
                                    "isJson": false,
                                    "sqlDbType": 22,
                                    "isHierarchyId": false,
                                    "isSqlXmlType": false,
                                    "isUnknownType": false,
                                    "isUpdatable": true,
                                    "allowDBNull": false,
                                    "baseCatalogName": null,
                                    "baseColumnName": null,
                                    "baseSchemaName": null,
                                    "baseServerName": null,
                                    "baseTableName": null,
                                    "columnName": "ID",
                                    "columnOrdinal": 0,
                                    "columnSize": 5,
                                    "isAliased": null,
                                    "isAutoIncrement": false,
                                    "isExpression": null,
                                    "isHidden": null,
                                    "isIdentity": false,
                                    "isKey": null,
                                    "isLong": false,
                                    "isReadOnly": false,
                                    "isUnique": false,
                                    "numericPrecision": 255,
                                    "numericScale": 255,
                                    "udtAssemblyQualifiedName": null,
                                    "dataType": "System.String, System.Private.CoreLib, Version=4.0.0.0, Culture=neutral, PublicKeyToken=7cec85d7bea7798e",
                                    "dataTypeName": "varchar"
                                },
                                {
                                    "isBytes": false,
                                    "isChars": true,
                                    "isSqlVariant": false,
                                    "isUdt": false,
                                    "isXml": false,
                                    "isJson": false,
                                    "sqlDbType": 22,
                                    "isHierarchyId": false,
                                    "isSqlXmlType": false,
                                    "isUnknownType": false,
                                    "isUpdatable": true,
                                    "allowDBNull": false,
                                    "baseCatalogName": null,
                                    "baseColumnName": null,
                                    "baseSchemaName": null,
                                    "baseServerName": null,
                                    "baseTableName": null,
                                    "columnName": "name",
                                    "columnOrdinal": 1,
                                    "columnSize": 20,
                                    "isAliased": null,
                                    "isAutoIncrement": false,
                                    "isExpression": null,
                                    "isHidden": null,
                                    "isIdentity": false,
                                    "isKey": null,
                                    "isLong": false,
                                    "isReadOnly": false,
                                    "isUnique": false,
                                    "numericPrecision": 255,
                                    "numericScale": 255,
                                    "udtAssemblyQualifiedName": null,
                                    "dataType": "System.String, System.Private.CoreLib, Version=4.0.0.0, Culture=neutral, PublicKeyToken=7cec85d7bea7798e",
                                    "dataTypeName": "varchar"
                                },
                                {
                                    "isBytes": false,
                                    "isChars": true,
                                    "isSqlVariant": false,
                                    "isUdt": false,
                                    "isXml": false,
                                    "isJson": false,
                                    "sqlDbType": 22,
                                    "isHierarchyId": false,
                                    "isSqlXmlType": false,
                                    "isUnknownType": false,
                                    "isUpdatable": true,
                                    "allowDBNull": true,
                                    "baseCatalogName": null,
                                    "baseColumnName": null,
                                    "baseSchemaName": null,
                                    "baseServerName": null,
                                    "baseTableName": null,
                                    "columnName": "dept_name",
                                    "columnOrdinal": 2,
                                    "columnSize": 20,
                                    "isAliased": null,
                                    "isAutoIncrement": false,
                                    "isExpression": null,
                                    "isHidden": null,
                                    "isIdentity": false,
                                    "isKey": null,
                                    "isLong": false,
                                    "isReadOnly": false,
                                    "isUnique": false,
                                    "numericPrecision": 255,
                                    "numericScale": 255,
                                    "udtAssemblyQualifiedName": null,
                                    "dataType": "System.String, System.Private.CoreLib, Version=4.0.0.0, Culture=neutral, PublicKeyToken=7cec85d7bea7798e",
                                    "dataTypeName": "varchar"
                                },
                                {
                                    "isBytes": false,
                                    "isChars": false,
                                    "isSqlVariant": false,
                                    "isUdt": false,
                                    "isXml": false,
                                    "isJson": false,
                                    "sqlDbType": 5,
                                    "isHierarchyId": false,
                                    "isSqlXmlType": false,
                                    "isUnknownType": false,
                                    "isUpdatable": true,
                                    "allowDBNull": true,
                                    "baseCatalogName": null,
                                    "baseColumnName": null,
                                    "baseSchemaName": null,
                                    "baseServerName": null,
                                    "baseTableName": null,
                                    "columnName": "tot_cred",
                                    "columnOrdinal": 3,
                                    "columnSize": 17,
                                    "isAliased": null,
                                    "isAutoIncrement": false,
                                    "isExpression": null,
                                    "isHidden": null,
                                    "isIdentity": false,
                                    "isKey": null,
                                    "isLong": false,
                                    "isReadOnly": false,
                                    "isUnique": false,
                                    "numericPrecision": 3,
                                    "numericScale": 0,
                                    "udtAssemblyQualifiedName": null,
                                    "dataType": "System.Decimal, System.Private.CoreLib, Version=4.0.0.0, Culture=neutral, PublicKeyToken=7cec85d7bea7798e",
                                    "dataTypeName": "decimal"
                                }
                            ],
                            "specialAction": {
                                "none": true,
                                "expectYukonXMLShowPlan": false
                            }
                        }
                    },
                    "execution_count": 3,
                    "data": {
                        "application/vnd.dataresource+json": {
                            "schema": {
                                "fields": [
                                    {
                                        "name": "ID"
                                    },
                                    {
                                        "name": "name"
                                    },
                                    {
                                        "name": "dept_name"
                                    },
                                    {
                                        "name": "tot_cred"
                                    }
                                ]
                            },
                            "data": [
                                {
                                    "0": "10033",
                                    "1": "Zelty",
                                    "2": "Mech. Eng.",
                                    "3": "63"
                                }
                            ]
                        },
                        "text/html": [
                            "<table>",
                            "<tr><th>ID</th><th>name</th><th>dept_name</th><th>tot_cred</th></tr>",
                            "<tr><td>10033</td><td>Zelty</td><td>Mech. Eng.</td><td>63</td></tr>",
                            "</table>"
                        ]
                    }
                },
                {
                    "output_type": "execute_result",
                    "metadata": {
                        "resultSet": {
                            "id": 0,
                            "batchId": 10,
                            "rowCount": 1,
                            "complete": true,
                            "columnInfo": [
                                {
                                    "isBytes": false,
                                    "isChars": false,
                                    "isSqlVariant": false,
                                    "isUdt": false,
                                    "isXml": false,
                                    "isJson": false,
                                    "sqlDbType": 8,
                                    "isHierarchyId": false,
                                    "isSqlXmlType": false,
                                    "isUnknownType": false,
                                    "isUpdatable": false,
                                    "allowDBNull": true,
                                    "baseCatalogName": null,
                                    "baseColumnName": null,
                                    "baseSchemaName": null,
                                    "baseServerName": null,
                                    "baseTableName": null,
                                    "columnName": "ErrorNumber",
                                    "columnOrdinal": 0,
                                    "columnSize": 4,
                                    "isAliased": null,
                                    "isAutoIncrement": false,
                                    "isExpression": null,
                                    "isHidden": null,
                                    "isIdentity": false,
                                    "isKey": null,
                                    "isLong": false,
                                    "isReadOnly": true,
                                    "isUnique": false,
                                    "numericPrecision": 10,
                                    "numericScale": 255,
                                    "udtAssemblyQualifiedName": null,
                                    "dataType": "System.Int32, System.Private.CoreLib, Version=4.0.0.0, Culture=neutral, PublicKeyToken=7cec85d7bea7798e",
                                    "dataTypeName": "int"
                                },
                                {
                                    "isBytes": false,
                                    "isChars": false,
                                    "isSqlVariant": false,
                                    "isUdt": false,
                                    "isXml": false,
                                    "isJson": false,
                                    "sqlDbType": 8,
                                    "isHierarchyId": false,
                                    "isSqlXmlType": false,
                                    "isUnknownType": false,
                                    "isUpdatable": false,
                                    "allowDBNull": true,
                                    "baseCatalogName": null,
                                    "baseColumnName": null,
                                    "baseSchemaName": null,
                                    "baseServerName": null,
                                    "baseTableName": null,
                                    "columnName": "ErrorSeverity",
                                    "columnOrdinal": 1,
                                    "columnSize": 4,
                                    "isAliased": null,
                                    "isAutoIncrement": false,
                                    "isExpression": null,
                                    "isHidden": null,
                                    "isIdentity": false,
                                    "isKey": null,
                                    "isLong": false,
                                    "isReadOnly": true,
                                    "isUnique": false,
                                    "numericPrecision": 10,
                                    "numericScale": 255,
                                    "udtAssemblyQualifiedName": null,
                                    "dataType": "System.Int32, System.Private.CoreLib, Version=4.0.0.0, Culture=neutral, PublicKeyToken=7cec85d7bea7798e",
                                    "dataTypeName": "int"
                                },
                                {
                                    "isBytes": false,
                                    "isChars": false,
                                    "isSqlVariant": false,
                                    "isUdt": false,
                                    "isXml": false,
                                    "isJson": false,
                                    "sqlDbType": 8,
                                    "isHierarchyId": false,
                                    "isSqlXmlType": false,
                                    "isUnknownType": false,
                                    "isUpdatable": false,
                                    "allowDBNull": true,
                                    "baseCatalogName": null,
                                    "baseColumnName": null,
                                    "baseSchemaName": null,
                                    "baseServerName": null,
                                    "baseTableName": null,
                                    "columnName": "ErrorState",
                                    "columnOrdinal": 2,
                                    "columnSize": 4,
                                    "isAliased": null,
                                    "isAutoIncrement": false,
                                    "isExpression": null,
                                    "isHidden": null,
                                    "isIdentity": false,
                                    "isKey": null,
                                    "isLong": false,
                                    "isReadOnly": true,
                                    "isUnique": false,
                                    "numericPrecision": 10,
                                    "numericScale": 255,
                                    "udtAssemblyQualifiedName": null,
                                    "dataType": "System.Int32, System.Private.CoreLib, Version=4.0.0.0, Culture=neutral, PublicKeyToken=7cec85d7bea7798e",
                                    "dataTypeName": "int"
                                },
                                {
                                    "isBytes": false,
                                    "isChars": false,
                                    "isSqlVariant": false,
                                    "isUdt": false,
                                    "isXml": false,
                                    "isJson": false,
                                    "sqlDbType": 8,
                                    "isHierarchyId": false,
                                    "isSqlXmlType": false,
                                    "isUnknownType": false,
                                    "isUpdatable": false,
                                    "allowDBNull": true,
                                    "baseCatalogName": null,
                                    "baseColumnName": null,
                                    "baseSchemaName": null,
                                    "baseServerName": null,
                                    "baseTableName": null,
                                    "columnName": "ErrorLine",
                                    "columnOrdinal": 3,
                                    "columnSize": 4,
                                    "isAliased": null,
                                    "isAutoIncrement": false,
                                    "isExpression": null,
                                    "isHidden": null,
                                    "isIdentity": false,
                                    "isKey": null,
                                    "isLong": false,
                                    "isReadOnly": true,
                                    "isUnique": false,
                                    "numericPrecision": 10,
                                    "numericScale": 255,
                                    "udtAssemblyQualifiedName": null,
                                    "dataType": "System.Int32, System.Private.CoreLib, Version=4.0.0.0, Culture=neutral, PublicKeyToken=7cec85d7bea7798e",
                                    "dataTypeName": "int"
                                },
                                {
                                    "isBytes": false,
                                    "isChars": true,
                                    "isSqlVariant": false,
                                    "isUdt": false,
                                    "isXml": false,
                                    "isJson": false,
                                    "sqlDbType": 12,
                                    "isHierarchyId": false,
                                    "isSqlXmlType": false,
                                    "isUnknownType": false,
                                    "isUpdatable": false,
                                    "allowDBNull": true,
                                    "baseCatalogName": null,
                                    "baseColumnName": null,
                                    "baseSchemaName": null,
                                    "baseServerName": null,
                                    "baseTableName": null,
                                    "columnName": "ErrorProcedure",
                                    "columnOrdinal": 4,
                                    "columnSize": 128,
                                    "isAliased": null,
                                    "isAutoIncrement": false,
                                    "isExpression": null,
                                    "isHidden": null,
                                    "isIdentity": false,
                                    "isKey": null,
                                    "isLong": false,
                                    "isReadOnly": true,
                                    "isUnique": false,
                                    "numericPrecision": 255,
                                    "numericScale": 255,
                                    "udtAssemblyQualifiedName": null,
                                    "dataType": "System.String, System.Private.CoreLib, Version=4.0.0.0, Culture=neutral, PublicKeyToken=7cec85d7bea7798e",
                                    "dataTypeName": "nvarchar"
                                },
                                {
                                    "isBytes": false,
                                    "isChars": true,
                                    "isSqlVariant": false,
                                    "isUdt": false,
                                    "isXml": false,
                                    "isJson": false,
                                    "sqlDbType": 12,
                                    "isHierarchyId": false,
                                    "isSqlXmlType": false,
                                    "isUnknownType": false,
                                    "isUpdatable": false,
                                    "allowDBNull": true,
                                    "baseCatalogName": null,
                                    "baseColumnName": null,
                                    "baseSchemaName": null,
                                    "baseServerName": null,
                                    "baseTableName": null,
                                    "columnName": "ErrorMessage",
                                    "columnOrdinal": 5,
                                    "columnSize": 4000,
                                    "isAliased": null,
                                    "isAutoIncrement": false,
                                    "isExpression": null,
                                    "isHidden": null,
                                    "isIdentity": false,
                                    "isKey": null,
                                    "isLong": false,
                                    "isReadOnly": true,
                                    "isUnique": false,
                                    "numericPrecision": 255,
                                    "numericScale": 255,
                                    "udtAssemblyQualifiedName": null,
                                    "dataType": "System.String, System.Private.CoreLib, Version=4.0.0.0, Culture=neutral, PublicKeyToken=7cec85d7bea7798e",
                                    "dataTypeName": "nvarchar"
                                }
                            ],
                            "specialAction": {
                                "none": true,
                                "expectYukonXMLShowPlan": false
                            }
                        }
                    },
                    "execution_count": 3,
                    "data": {
                        "application/vnd.dataresource+json": {
                            "schema": {
                                "fields": [
                                    {
                                        "name": "ErrorNumber"
                                    },
                                    {
                                        "name": "ErrorSeverity"
                                    },
                                    {
                                        "name": "ErrorState"
                                    },
                                    {
                                        "name": "ErrorLine"
                                    },
                                    {
                                        "name": "ErrorProcedure"
                                    },
                                    {
                                        "name": "ErrorMessage"
                                    }
                                ]
                            },
                            "data": [
                                {
                                    "0": "547",
                                    "1": "16",
                                    "2": "0",
                                    "3": "10",
                                    "4": "dbo.sp_update_tot_cred",
                                    "5": "The UPDATE statement conflicted with the CHECK constraint \"check_total_credits\". The conflict occurred in database \"uni\", table \"dbo.student_copy\", column 'tot_cred'."
                                }
                            ]
                        },
                        "text/html": [
                            "<table>",
                            "<tr><th>ErrorNumber</th><th>ErrorSeverity</th><th>ErrorState</th><th>ErrorLine</th><th>ErrorProcedure</th><th>ErrorMessage</th></tr>",
                            "<tr><td>547</td><td>16</td><td>0</td><td>10</td><td>dbo.sp_update_tot_cred</td><td>The UPDATE statement conflicted with the CHECK constraint &quot;check_total_credits&quot;. The conflict occurred in database &quot;uni&quot;, table &quot;dbo.student_copy&quot;, column 'tot_cred'.</td></tr>",
                            "</table>"
                        ]
                    }
                },
                {
                    "output_type": "execute_result",
                    "metadata": {
                        "resultSet": {
                            "id": 0,
                            "batchId": 11,
                            "rowCount": 1,
                            "complete": true,
                            "columnInfo": [
                                {
                                    "isBytes": false,
                                    "isChars": true,
                                    "isSqlVariant": false,
                                    "isUdt": false,
                                    "isXml": false,
                                    "isJson": false,
                                    "sqlDbType": 22,
                                    "isHierarchyId": false,
                                    "isSqlXmlType": false,
                                    "isUnknownType": false,
                                    "isUpdatable": true,
                                    "allowDBNull": false,
                                    "baseCatalogName": null,
                                    "baseColumnName": null,
                                    "baseSchemaName": null,
                                    "baseServerName": null,
                                    "baseTableName": null,
                                    "columnName": "ID",
                                    "columnOrdinal": 0,
                                    "columnSize": 5,
                                    "isAliased": null,
                                    "isAutoIncrement": false,
                                    "isExpression": null,
                                    "isHidden": null,
                                    "isIdentity": false,
                                    "isKey": null,
                                    "isLong": false,
                                    "isReadOnly": false,
                                    "isUnique": false,
                                    "numericPrecision": 255,
                                    "numericScale": 255,
                                    "udtAssemblyQualifiedName": null,
                                    "dataType": "System.String, System.Private.CoreLib, Version=4.0.0.0, Culture=neutral, PublicKeyToken=7cec85d7bea7798e",
                                    "dataTypeName": "varchar"
                                },
                                {
                                    "isBytes": false,
                                    "isChars": true,
                                    "isSqlVariant": false,
                                    "isUdt": false,
                                    "isXml": false,
                                    "isJson": false,
                                    "sqlDbType": 22,
                                    "isHierarchyId": false,
                                    "isSqlXmlType": false,
                                    "isUnknownType": false,
                                    "isUpdatable": true,
                                    "allowDBNull": false,
                                    "baseCatalogName": null,
                                    "baseColumnName": null,
                                    "baseSchemaName": null,
                                    "baseServerName": null,
                                    "baseTableName": null,
                                    "columnName": "name",
                                    "columnOrdinal": 1,
                                    "columnSize": 20,
                                    "isAliased": null,
                                    "isAutoIncrement": false,
                                    "isExpression": null,
                                    "isHidden": null,
                                    "isIdentity": false,
                                    "isKey": null,
                                    "isLong": false,
                                    "isReadOnly": false,
                                    "isUnique": false,
                                    "numericPrecision": 255,
                                    "numericScale": 255,
                                    "udtAssemblyQualifiedName": null,
                                    "dataType": "System.String, System.Private.CoreLib, Version=4.0.0.0, Culture=neutral, PublicKeyToken=7cec85d7bea7798e",
                                    "dataTypeName": "varchar"
                                },
                                {
                                    "isBytes": false,
                                    "isChars": true,
                                    "isSqlVariant": false,
                                    "isUdt": false,
                                    "isXml": false,
                                    "isJson": false,
                                    "sqlDbType": 22,
                                    "isHierarchyId": false,
                                    "isSqlXmlType": false,
                                    "isUnknownType": false,
                                    "isUpdatable": true,
                                    "allowDBNull": true,
                                    "baseCatalogName": null,
                                    "baseColumnName": null,
                                    "baseSchemaName": null,
                                    "baseServerName": null,
                                    "baseTableName": null,
                                    "columnName": "dept_name",
                                    "columnOrdinal": 2,
                                    "columnSize": 20,
                                    "isAliased": null,
                                    "isAutoIncrement": false,
                                    "isExpression": null,
                                    "isHidden": null,
                                    "isIdentity": false,
                                    "isKey": null,
                                    "isLong": false,
                                    "isReadOnly": false,
                                    "isUnique": false,
                                    "numericPrecision": 255,
                                    "numericScale": 255,
                                    "udtAssemblyQualifiedName": null,
                                    "dataType": "System.String, System.Private.CoreLib, Version=4.0.0.0, Culture=neutral, PublicKeyToken=7cec85d7bea7798e",
                                    "dataTypeName": "varchar"
                                },
                                {
                                    "isBytes": false,
                                    "isChars": false,
                                    "isSqlVariant": false,
                                    "isUdt": false,
                                    "isXml": false,
                                    "isJson": false,
                                    "sqlDbType": 5,
                                    "isHierarchyId": false,
                                    "isSqlXmlType": false,
                                    "isUnknownType": false,
                                    "isUpdatable": true,
                                    "allowDBNull": true,
                                    "baseCatalogName": null,
                                    "baseColumnName": null,
                                    "baseSchemaName": null,
                                    "baseServerName": null,
                                    "baseTableName": null,
                                    "columnName": "tot_cred",
                                    "columnOrdinal": 3,
                                    "columnSize": 17,
                                    "isAliased": null,
                                    "isAutoIncrement": false,
                                    "isExpression": null,
                                    "isHidden": null,
                                    "isIdentity": false,
                                    "isKey": null,
                                    "isLong": false,
                                    "isReadOnly": false,
                                    "isUnique": false,
                                    "numericPrecision": 3,
                                    "numericScale": 0,
                                    "udtAssemblyQualifiedName": null,
                                    "dataType": "System.Decimal, System.Private.CoreLib, Version=4.0.0.0, Culture=neutral, PublicKeyToken=7cec85d7bea7798e",
                                    "dataTypeName": "decimal"
                                }
                            ],
                            "specialAction": {
                                "none": true,
                                "expectYukonXMLShowPlan": false
                            }
                        }
                    },
                    "execution_count": 3,
                    "data": {
                        "application/vnd.dataresource+json": {
                            "schema": {
                                "fields": [
                                    {
                                        "name": "ID"
                                    },
                                    {
                                        "name": "name"
                                    },
                                    {
                                        "name": "dept_name"
                                    },
                                    {
                                        "name": "tot_cred"
                                    }
                                ]
                            },
                            "data": [
                                {
                                    "0": "10033",
                                    "1": "Zelty",
                                    "2": "Mech. Eng.",
                                    "3": "63"
                                }
                            ]
                        },
                        "text/html": [
                            "<table>",
                            "<tr><th>ID</th><th>name</th><th>dept_name</th><th>tot_cred</th></tr>",
                            "<tr><td>10033</td><td>Zelty</td><td>Mech. Eng.</td><td>63</td></tr>",
                            "</table>"
                        ]
                    }
                }
            ],
            "execution_count": 3
        },
        {
            "cell_type": "markdown",
            "source": [
                "### ``RAISEERROR``\n",
                "\n",
                "The RAISERROR statement allows you to generate your own error messages and return these messages back to the application using the same format as a system error or warning message generated by SQL Server Database Engine. In addition, the RAISERROR statement allows you to set a specific message id, level of severity, and state for the error messages.\n",
                "\n",
                "Syntax:\n",
                "\n",
                "```\n",
                "RAISERROR ( { message_id | message_text | @local_variable }  \n",
                "    { ,severity ,state }  \n",
                "    [ ,argument [ ,...n ] ] )  \n",
                "    [ WITH option [ ,...n ] ];\n",
                "```\n",
                "- ``message_id`` is a user-defined error message number stored in the ``sys.messages`` catalog view. User defined error message numbers should be greater than 50,000."
            ],
            "metadata": {
                "azdata_cell_guid": "52d84659-712f-47e9-95d2-64f0967f374a"
            }
        },
        {
            "cell_type": "code",
            "source": [
                "-- The following code adds a user defined error message to the system catalog\n",
                "EXEC sp_addmessage \n",
                "    @msgnum = 51111, \n",
                "    @severity = 1, \n",
                "    @msgtext = 'BAAAAAAAAAAAAAAAAAAAAAAAAAAAAAAAAH!';\n",
                "\n",
                "--try\n",
                "RAISERROR (51111, 1, 1)\n",
                "\n",
                "-- remove it \n",
                "EXEC sp_dropmessage \n",
                "    @msgnum = 51111;\n",
                ""
            ],
            "metadata": {
                "azdata_cell_guid": "80f01bcb-3b3f-45c3-95aa-dcf363a5e99f"
            },
            "outputs": [
                {
                    "output_type": "display_data",
                    "data": {
                        "text/html": "Msg 51111, Level 1, State 1, Line 8\nBAAAAAAAAAAAAAAAAAAAAAAAAAAAAAAAAH!"
                    },
                    "metadata": {}
                },
                {
                    "output_type": "display_data",
                    "data": {
                        "text/html": "Total execution time: 00:00:00.007"
                    },
                    "metadata": {}
                }
            ],
            "execution_count": 7
        },
        {
            "cell_type": "markdown",
            "source": [
                "* ``message_text`` is a user-defined message which is defined directly in the raiserror funtion and using its default message id (50000)."
            ],
            "metadata": {
                "azdata_cell_guid": "cdac21cb-636f-4f88-9aa3-99da3167bb97"
            }
        },
        {
            "cell_type": "code",
            "source": [
                "RAISERROR ('BAAAAAAAAAAAAAAAAAAAAAAAAAAAAAAAAAAAAH!', 1, 1)"
            ],
            "metadata": {
                "azdata_cell_guid": "804af31a-7046-4daf-a650-8f13f05cb352"
            },
            "outputs": [
                {
                    "output_type": "display_data",
                    "data": {
                        "text/html": "Msg 50000, Level 1, State 1, Line 1\nBAAAAAAAAAAAAAAAAAAAAAAAAAAAAAAAAAAAAH!"
                    },
                    "metadata": {}
                },
                {
                    "output_type": "display_data",
                    "data": {
                        "text/html": "Total execution time: 00:00:00"
                    },
                    "metadata": {}
                }
            ],
            "execution_count": 8
        },
        {
            "cell_type": "markdown",
            "source": [
                "- ``severity`` level is an integer between 0 and 25 with each level representing the seriousness of the error\n",
                "\n",
                "```\n",
                "0–10 Informational messages\n",
                "11–18 Errors\n",
                "19–25 Fatal errors\n",
                "```"
            ],
            "metadata": {
                "azdata_cell_guid": "0df81d60-1729-4fb1-b1ca-af0b799fba26"
            }
        },
        {
            "cell_type": "markdown",
            "source": [
                "* ``WITH OPTION`` allows\n",
                "    - ``WITH LOG`` logs the error in the error log and application log for the instance of the SQL Server Database Engine.\n",
                "    - ``WITH NOWAIT`` sends the error message to the client immediately.\n",
                "    - ``WITH SETERROR`` sets the ERROR_NUMBER and @@ERROR values to message_id or 50000, regardless of the severity level."
            ],
            "metadata": {
                "azdata_cell_guid": "709eac00-a743-42e3-8323-375485c45fc8"
            }
        },
        {
            "cell_type": "markdown",
            "source": [
                "We can take the previous SP and add a custom error to be triggered immeadiatly if the input of credits is higher than the limited allowed."
            ],
            "metadata": {
                "azdata_cell_guid": "f6700b84-add7-4140-ab87-090f6d150fc8"
            }
        },
        {
            "cell_type": "code",
            "source": [
                "--- Stored Procedure 3: updates total credits of a student with error handling and transaction control\n",
                "-- existing, drop it\n",
                "IF EXISTS (SELECT  * FROM dbo.sysobjects WHERE id = OBJECT_ID(N'[dbo].[sp_update_tot_cred]'))\n",
                "    BEGIN\n",
                "        DROP PROCEDURE dbo.sp_update_tot_cred\n",
                "    END;\n",
                "GO\n",
                "-- define the stored procedure for updating total credits\n",
                "CREATE PROC dbo.sp_update_tot_cred (\n",
                "    @student_id INT,\n",
                "    @cred_update INT\n",
                ") AS\n",
                "BEGIN\n",
                "    -- raise error if update plus current credits would lead to more than 300\n",
                "    DECLARE @current_tot_cred INT;\n",
                "    SELECT @current_tot_cred = tot_cred \n",
                "    FROM student_copy\n",
                "    WHERE ID = @student_id;\n",
                "    -- if the sum of the two exceeds 300, abort the procedure\n",
                "    IF (@current_tot_cred + @cred_update) > 300\n",
                "        -- prep the error custom message\n",
                "        DECLARE @error_msg VARCHAR(250)\n",
                "        SET @error_msg = N'A student can only have up to 300 credits'\n",
                "        DECLARE @excess_creds INT\n",
                "        SET @excess_creds = STR(@current_tot_cred + @cred_update)\n",
                "        RAISERROR (\n",
                "            @error_msg, -- message text\n",
                "            16, --severity\n",
                "            1 --state\n",
                "        )\n",
                "    BEGIN TRY\n",
                "        -- check how many the student currently has\n",
                "        BEGIN TRANSACTION;\n",
                "        -- update the grades\n",
                "        UPDATE student_copy\n",
                "        SET tot_cred = tot_cred + @cred_update\n",
                "        WHERE ID = @student_id;\n",
                "        -- if DELETE succeeds, commit the transaction\n",
                "        COMMIT TRANSACTION;  \n",
                "    END TRY\n",
                "    BEGIN CATCH\n",
                "            EXEC sp_report_error;\n",
                "            -- Test if the transaction is uncommittable.  \n",
                "            IF (XACT_STATE()) = -1  \n",
                "            BEGIN  \n",
                "                PRINT  N'The transaction is in an uncommittable state.' +  \n",
                "                        'Rolling back transaction.'  \n",
                "                ROLLBACK TRANSACTION;  \n",
                "            END;  \n",
                "            -- Test if the transaction is committable.  \n",
                "            IF (XACT_STATE()) = 1  \n",
                "            BEGIN  \n",
                "                PRINT N'The transaction is committable.' +  \n",
                "                    'Committing transaction.'  \n",
                "                COMMIT TRANSACTION;     \n",
                "            END;          \n",
                "    END CATCH\n",
                "END;\n",
                "GO\n",
                "\n",
                "--- try it\n",
                "-- error...\n",
                "EXEC dbo.sp_update_tot_cred \n",
                "    @student_id = 10033,\n",
                "    @cred_update = 300;\n",
                "GO"
            ],
            "metadata": {
                "azdata_cell_guid": "a298bcb6-086a-477f-a379-0ba38d319b91"
            },
            "outputs": [
                {
                    "output_type": "display_data",
                    "data": {
                        "text/html": "Commands completed successfully."
                    },
                    "metadata": {}
                },
                {
                    "output_type": "display_data",
                    "data": {
                        "text/html": "Commands completed successfully."
                    },
                    "metadata": {}
                },
                {
                    "output_type": "display_data",
                    "data": {
                        "text/html": "(0 rows affected)"
                    },
                    "metadata": {}
                },
                {
                    "output_type": "display_data",
                    "data": {
                        "text/html": "(1 row affected)"
                    },
                    "metadata": {}
                },
                {
                    "output_type": "display_data",
                    "data": {
                        "text/html": "The transaction is committable.Committing transaction."
                    },
                    "metadata": {}
                },
                {
                    "output_type": "display_data",
                    "data": {
                        "text/html": "Total execution time: 00:00:00.014"
                    },
                    "metadata": {}
                },
                {
                    "output_type": "execute_result",
                    "metadata": {
                        "resultSet": {
                            "id": 0,
                            "batchId": 2,
                            "rowCount": 1,
                            "complete": true,
                            "columnInfo": [
                                {
                                    "isBytes": false,
                                    "isChars": false,
                                    "isSqlVariant": false,
                                    "isUdt": false,
                                    "isXml": false,
                                    "isJson": false,
                                    "sqlDbType": 8,
                                    "isHierarchyId": false,
                                    "isSqlXmlType": false,
                                    "isUnknownType": false,
                                    "isUpdatable": false,
                                    "allowDBNull": true,
                                    "baseCatalogName": null,
                                    "baseColumnName": null,
                                    "baseSchemaName": null,
                                    "baseServerName": null,
                                    "baseTableName": null,
                                    "columnName": "ErrorNumber",
                                    "columnOrdinal": 0,
                                    "columnSize": 4,
                                    "isAliased": null,
                                    "isAutoIncrement": false,
                                    "isExpression": null,
                                    "isHidden": null,
                                    "isIdentity": false,
                                    "isKey": null,
                                    "isLong": false,
                                    "isReadOnly": true,
                                    "isUnique": false,
                                    "numericPrecision": 10,
                                    "numericScale": 255,
                                    "udtAssemblyQualifiedName": null,
                                    "dataType": "System.Int32, System.Private.CoreLib, Version=4.0.0.0, Culture=neutral, PublicKeyToken=7cec85d7bea7798e",
                                    "dataTypeName": "int"
                                },
                                {
                                    "isBytes": false,
                                    "isChars": false,
                                    "isSqlVariant": false,
                                    "isUdt": false,
                                    "isXml": false,
                                    "isJson": false,
                                    "sqlDbType": 8,
                                    "isHierarchyId": false,
                                    "isSqlXmlType": false,
                                    "isUnknownType": false,
                                    "isUpdatable": false,
                                    "allowDBNull": true,
                                    "baseCatalogName": null,
                                    "baseColumnName": null,
                                    "baseSchemaName": null,
                                    "baseServerName": null,
                                    "baseTableName": null,
                                    "columnName": "ErrorSeverity",
                                    "columnOrdinal": 1,
                                    "columnSize": 4,
                                    "isAliased": null,
                                    "isAutoIncrement": false,
                                    "isExpression": null,
                                    "isHidden": null,
                                    "isIdentity": false,
                                    "isKey": null,
                                    "isLong": false,
                                    "isReadOnly": true,
                                    "isUnique": false,
                                    "numericPrecision": 10,
                                    "numericScale": 255,
                                    "udtAssemblyQualifiedName": null,
                                    "dataType": "System.Int32, System.Private.CoreLib, Version=4.0.0.0, Culture=neutral, PublicKeyToken=7cec85d7bea7798e",
                                    "dataTypeName": "int"
                                },
                                {
                                    "isBytes": false,
                                    "isChars": false,
                                    "isSqlVariant": false,
                                    "isUdt": false,
                                    "isXml": false,
                                    "isJson": false,
                                    "sqlDbType": 8,
                                    "isHierarchyId": false,
                                    "isSqlXmlType": false,
                                    "isUnknownType": false,
                                    "isUpdatable": false,
                                    "allowDBNull": true,
                                    "baseCatalogName": null,
                                    "baseColumnName": null,
                                    "baseSchemaName": null,
                                    "baseServerName": null,
                                    "baseTableName": null,
                                    "columnName": "ErrorState",
                                    "columnOrdinal": 2,
                                    "columnSize": 4,
                                    "isAliased": null,
                                    "isAutoIncrement": false,
                                    "isExpression": null,
                                    "isHidden": null,
                                    "isIdentity": false,
                                    "isKey": null,
                                    "isLong": false,
                                    "isReadOnly": true,
                                    "isUnique": false,
                                    "numericPrecision": 10,
                                    "numericScale": 255,
                                    "udtAssemblyQualifiedName": null,
                                    "dataType": "System.Int32, System.Private.CoreLib, Version=4.0.0.0, Culture=neutral, PublicKeyToken=7cec85d7bea7798e",
                                    "dataTypeName": "int"
                                },
                                {
                                    "isBytes": false,
                                    "isChars": false,
                                    "isSqlVariant": false,
                                    "isUdt": false,
                                    "isXml": false,
                                    "isJson": false,
                                    "sqlDbType": 8,
                                    "isHierarchyId": false,
                                    "isSqlXmlType": false,
                                    "isUnknownType": false,
                                    "isUpdatable": false,
                                    "allowDBNull": true,
                                    "baseCatalogName": null,
                                    "baseColumnName": null,
                                    "baseSchemaName": null,
                                    "baseServerName": null,
                                    "baseTableName": null,
                                    "columnName": "ErrorLine",
                                    "columnOrdinal": 3,
                                    "columnSize": 4,
                                    "isAliased": null,
                                    "isAutoIncrement": false,
                                    "isExpression": null,
                                    "isHidden": null,
                                    "isIdentity": false,
                                    "isKey": null,
                                    "isLong": false,
                                    "isReadOnly": true,
                                    "isUnique": false,
                                    "numericPrecision": 10,
                                    "numericScale": 255,
                                    "udtAssemblyQualifiedName": null,
                                    "dataType": "System.Int32, System.Private.CoreLib, Version=4.0.0.0, Culture=neutral, PublicKeyToken=7cec85d7bea7798e",
                                    "dataTypeName": "int"
                                },
                                {
                                    "isBytes": false,
                                    "isChars": true,
                                    "isSqlVariant": false,
                                    "isUdt": false,
                                    "isXml": false,
                                    "isJson": false,
                                    "sqlDbType": 12,
                                    "isHierarchyId": false,
                                    "isSqlXmlType": false,
                                    "isUnknownType": false,
                                    "isUpdatable": false,
                                    "allowDBNull": true,
                                    "baseCatalogName": null,
                                    "baseColumnName": null,
                                    "baseSchemaName": null,
                                    "baseServerName": null,
                                    "baseTableName": null,
                                    "columnName": "ErrorProcedure",
                                    "columnOrdinal": 4,
                                    "columnSize": 128,
                                    "isAliased": null,
                                    "isAutoIncrement": false,
                                    "isExpression": null,
                                    "isHidden": null,
                                    "isIdentity": false,
                                    "isKey": null,
                                    "isLong": false,
                                    "isReadOnly": true,
                                    "isUnique": false,
                                    "numericPrecision": 255,
                                    "numericScale": 255,
                                    "udtAssemblyQualifiedName": null,
                                    "dataType": "System.String, System.Private.CoreLib, Version=4.0.0.0, Culture=neutral, PublicKeyToken=7cec85d7bea7798e",
                                    "dataTypeName": "nvarchar"
                                },
                                {
                                    "isBytes": false,
                                    "isChars": true,
                                    "isSqlVariant": false,
                                    "isUdt": false,
                                    "isXml": false,
                                    "isJson": false,
                                    "sqlDbType": 12,
                                    "isHierarchyId": false,
                                    "isSqlXmlType": false,
                                    "isUnknownType": false,
                                    "isUpdatable": false,
                                    "allowDBNull": true,
                                    "baseCatalogName": null,
                                    "baseColumnName": null,
                                    "baseSchemaName": null,
                                    "baseServerName": null,
                                    "baseTableName": null,
                                    "columnName": "ErrorMessage",
                                    "columnOrdinal": 5,
                                    "columnSize": 4000,
                                    "isAliased": null,
                                    "isAutoIncrement": false,
                                    "isExpression": null,
                                    "isHidden": null,
                                    "isIdentity": false,
                                    "isKey": null,
                                    "isLong": false,
                                    "isReadOnly": true,
                                    "isUnique": false,
                                    "numericPrecision": 255,
                                    "numericScale": 255,
                                    "udtAssemblyQualifiedName": null,
                                    "dataType": "System.String, System.Private.CoreLib, Version=4.0.0.0, Culture=neutral, PublicKeyToken=7cec85d7bea7798e",
                                    "dataTypeName": "nvarchar"
                                }
                            ],
                            "specialAction": {
                                "none": true,
                                "expectYukonXMLShowPlan": false
                            }
                        }
                    },
                    "execution_count": 15,
                    "data": {
                        "application/vnd.dataresource+json": {
                            "schema": {
                                "fields": [
                                    {
                                        "name": "ErrorNumber"
                                    },
                                    {
                                        "name": "ErrorSeverity"
                                    },
                                    {
                                        "name": "ErrorState"
                                    },
                                    {
                                        "name": "ErrorLine"
                                    },
                                    {
                                        "name": "ErrorProcedure"
                                    },
                                    {
                                        "name": "ErrorMessage"
                                    }
                                ]
                            },
                            "data": [
                                {
                                    "0": "547",
                                    "1": "16",
                                    "2": "0",
                                    "3": "28",
                                    "4": "dbo.sp_update_tot_cred",
                                    "5": "The UPDATE statement conflicted with the CHECK constraint \"check_total_credits\". The conflict occurred in database \"uni\", table \"dbo.student_copy\", column 'tot_cred'."
                                }
                            ]
                        },
                        "text/html": [
                            "<table>",
                            "<tr><th>ErrorNumber</th><th>ErrorSeverity</th><th>ErrorState</th><th>ErrorLine</th><th>ErrorProcedure</th><th>ErrorMessage</th></tr>",
                            "<tr><td>547</td><td>16</td><td>0</td><td>28</td><td>dbo.sp_update_tot_cred</td><td>The UPDATE statement conflicted with the CHECK constraint &quot;check_total_credits&quot;. The conflict occurred in database &quot;uni&quot;, table &quot;dbo.student_copy&quot;, column 'tot_cred'.</td></tr>",
                            "</table>"
                        ]
                    }
                },
                {
                    "output_type": "error",
                    "evalue": "Msg 50000, Level 16, State 1, Procedure dbo.sp_update_tot_cred, Line 19\nA student can only have up to 300 credits",
                    "ename": "",
                    "traceback": []
                }
            ],
            "execution_count": 15
        },
        {
            "cell_type": "markdown",
            "source": [
                "## Dynamic SQL\n",
                "\n",
                "(Mostly drawing on <a href=\"https://www.sqlservertutorial.net/sql-server-stored-procedures/sql-server-dynamic-sql/\" data-href=\"https://www.sqlservertutorial.net/sql-server-stored-procedures/sql-server-dynamic-sql/\" title=\"https://www.sqlservertutorial.net/sql-server-stored-procedures/sql-server-dynamic-sql/\">this page</a>)\n",
                "\n",
                "Dynamic SQL is a programming technique that allows you to construct SQL statements dynamically at runtime. It allows you to create more general purpose and flexible SQL statement because the full text of the SQL statements may be unknown at compilation. For example, you can use the dynamic SQL to create a stored procedure that queries data against a table whose name is not known until runtime.\n",
                "\n",
                "This particularly useful for working with SQL from other programs such as Python or R.\n",
                "\n",
                "For creating dynamic SQL you just need to turn an SQL expression into a string, e.g.\n",
                "\n",
                "```\n",
                "'SELECT TOP 6 * FROM department;'\n",
                "```\n",
                "\n",
                "and execute it using the stored procedure <code>sp_executesql</code>."
            ],
            "metadata": {
                "azdata_cell_guid": "b21f45cd-0bb4-4f18-ba4c-3d8136c84627"
            }
        },
        {
            "cell_type": "code",
            "source": [
                "EXEC sp_executesql N'SELECT TOP 6 * FROM department;';\n",
                "GO"
            ],
            "metadata": {
                "azdata_cell_guid": "07c1feba-8bc4-47e9-9984-c40b1daa5de9"
            },
            "outputs": [
                {
                    "output_type": "display_data",
                    "data": {
                        "text/html": "(6 rows affected)"
                    },
                    "metadata": {}
                },
                {
                    "output_type": "display_data",
                    "data": {
                        "text/html": "Total execution time: 00:00:00.003"
                    },
                    "metadata": {}
                },
                {
                    "output_type": "execute_result",
                    "metadata": {
                        "resultSet": {
                            "id": 0,
                            "batchId": 0,
                            "rowCount": 6,
                            "complete": true,
                            "columnInfo": [
                                {
                                    "isBytes": false,
                                    "isChars": true,
                                    "isSqlVariant": false,
                                    "isUdt": false,
                                    "isXml": false,
                                    "isJson": false,
                                    "sqlDbType": 22,
                                    "isHierarchyId": false,
                                    "isSqlXmlType": false,
                                    "isUnknownType": false,
                                    "isUpdatable": true,
                                    "allowDBNull": false,
                                    "baseCatalogName": null,
                                    "baseColumnName": null,
                                    "baseSchemaName": null,
                                    "baseServerName": null,
                                    "baseTableName": null,
                                    "columnName": "dept_name",
                                    "columnOrdinal": 0,
                                    "columnSize": 20,
                                    "isAliased": null,
                                    "isAutoIncrement": false,
                                    "isExpression": null,
                                    "isHidden": null,
                                    "isIdentity": false,
                                    "isKey": null,
                                    "isLong": false,
                                    "isReadOnly": false,
                                    "isUnique": false,
                                    "numericPrecision": 255,
                                    "numericScale": 255,
                                    "udtAssemblyQualifiedName": null,
                                    "dataType": "System.String, System.Private.CoreLib, Version=4.0.0.0, Culture=neutral, PublicKeyToken=7cec85d7bea7798e",
                                    "dataTypeName": "varchar"
                                },
                                {
                                    "isBytes": false,
                                    "isChars": true,
                                    "isSqlVariant": false,
                                    "isUdt": false,
                                    "isXml": false,
                                    "isJson": false,
                                    "sqlDbType": 22,
                                    "isHierarchyId": false,
                                    "isSqlXmlType": false,
                                    "isUnknownType": false,
                                    "isUpdatable": true,
                                    "allowDBNull": true,
                                    "baseCatalogName": null,
                                    "baseColumnName": null,
                                    "baseSchemaName": null,
                                    "baseServerName": null,
                                    "baseTableName": null,
                                    "columnName": "building",
                                    "columnOrdinal": 1,
                                    "columnSize": 15,
                                    "isAliased": null,
                                    "isAutoIncrement": false,
                                    "isExpression": null,
                                    "isHidden": null,
                                    "isIdentity": false,
                                    "isKey": null,
                                    "isLong": false,
                                    "isReadOnly": false,
                                    "isUnique": false,
                                    "numericPrecision": 255,
                                    "numericScale": 255,
                                    "udtAssemblyQualifiedName": null,
                                    "dataType": "System.String, System.Private.CoreLib, Version=4.0.0.0, Culture=neutral, PublicKeyToken=7cec85d7bea7798e",
                                    "dataTypeName": "varchar"
                                },
                                {
                                    "isBytes": false,
                                    "isChars": false,
                                    "isSqlVariant": false,
                                    "isUdt": false,
                                    "isXml": false,
                                    "isJson": false,
                                    "sqlDbType": 5,
                                    "isHierarchyId": false,
                                    "isSqlXmlType": false,
                                    "isUnknownType": false,
                                    "isUpdatable": true,
                                    "allowDBNull": true,
                                    "baseCatalogName": null,
                                    "baseColumnName": null,
                                    "baseSchemaName": null,
                                    "baseServerName": null,
                                    "baseTableName": null,
                                    "columnName": "budget",
                                    "columnOrdinal": 2,
                                    "columnSize": 17,
                                    "isAliased": null,
                                    "isAutoIncrement": false,
                                    "isExpression": null,
                                    "isHidden": null,
                                    "isIdentity": false,
                                    "isKey": null,
                                    "isLong": false,
                                    "isReadOnly": false,
                                    "isUnique": false,
                                    "numericPrecision": 12,
                                    "numericScale": 2,
                                    "udtAssemblyQualifiedName": null,
                                    "dataType": "System.Decimal, System.Private.CoreLib, Version=4.0.0.0, Culture=neutral, PublicKeyToken=7cec85d7bea7798e",
                                    "dataTypeName": "decimal"
                                }
                            ],
                            "specialAction": {
                                "none": true,
                                "expectYukonXMLShowPlan": false
                            }
                        }
                    },
                    "execution_count": 17,
                    "data": {
                        "application/vnd.dataresource+json": {
                            "schema": {
                                "fields": [
                                    {
                                        "name": "dept_name"
                                    },
                                    {
                                        "name": "building"
                                    },
                                    {
                                        "name": "budget"
                                    }
                                ]
                            },
                            "data": [
                                {
                                    "0": "Accounting",
                                    "1": "Saucon",
                                    "2": "3534727.36"
                                },
                                {
                                    "0": "Astronomy",
                                    "1": "Taylor",
                                    "2": "4938031.52"
                                },
                                {
                                    "0": "Athletics",
                                    "1": "Bronfman",
                                    "2": "5876405.60"
                                },
                                {
                                    "0": "Biology",
                                    "1": "Candlestick",
                                    "2": "5180884.40"
                                },
                                {
                                    "0": "Civil Eng.",
                                    "1": "Chandler",
                                    "2": "2040331.68"
                                },
                                {
                                    "0": "Comp. Sci.",
                                    "1": "Lamberton",
                                    "2": "851029.52"
                                }
                            ]
                        },
                        "text/html": [
                            "<table>",
                            "<tr><th>dept_name</th><th>building</th><th>budget</th></tr>",
                            "<tr><td>Accounting</td><td>Saucon</td><td>3534727.36</td></tr>",
                            "<tr><td>Astronomy</td><td>Taylor</td><td>4938031.52</td></tr>",
                            "<tr><td>Athletics</td><td>Bronfman</td><td>5876405.60</td></tr>",
                            "<tr><td>Biology</td><td>Candlestick</td><td>5180884.40</td></tr>",
                            "<tr><td>Civil Eng.</td><td>Chandler</td><td>2040331.68</td></tr>",
                            "<tr><td>Comp. Sci.</td><td>Lamberton</td><td>851029.52</td></tr>",
                            "</table>"
                        ]
                    }
                }
            ],
            "execution_count": 17
        },
        {
            "cell_type": "markdown",
            "source": [
                "Because the <code>sp_executesql</code> accepts the dynamic SQL as a Unicode string, you need to prefix it with an <code>N</code>.\n",
                "\n",
                "### Using dynamic SQL to query from any table example\n",
                "\n",
                "1. First, declare two variables, `@table` for holding the name of the table from which you want to query and `@sql` for holding the dynamic SQL.\n",
                "2. Second, set the value of the `@table` variable to the relevant table.\n",
                "3. Third, construct the dynamic SQL by concatenating the `SELECT` statement with the table name parameter\n",
                "4. Fourth, call the `sp_executesql` stored procedure by passing the `@sql` parameter."
            ],
            "metadata": {
                "azdata_cell_guid": "c1da2353-c040-41a3-8153-1b4786b37736"
            }
        },
        {
            "cell_type": "code",
            "source": [
                "BEGIN\n",
                "    DECLARE @table NVARCHAR(128), @sql NVARCHAR(MAX);\n",
                "    SET @table = N'department';\n",
                "    SET @sql = N'SELECT TOP 6 * FROM ' + @table;\n",
                "    EXEC sp_executesql @sql;\n",
                "END;\n",
                "GO"
            ],
            "metadata": {
                "azdata_cell_guid": "41056f63-2641-4091-87b6-59d56687430f"
            },
            "outputs": [
                {
                    "output_type": "display_data",
                    "data": {
                        "text/html": "(6 rows affected)"
                    },
                    "metadata": {}
                },
                {
                    "output_type": "display_data",
                    "data": {
                        "text/html": "Total execution time: 00:00:00.006"
                    },
                    "metadata": {}
                },
                {
                    "output_type": "execute_result",
                    "metadata": {
                        "resultSet": {
                            "id": 0,
                            "batchId": 0,
                            "rowCount": 6,
                            "complete": true,
                            "columnInfo": [
                                {
                                    "isBytes": false,
                                    "isChars": true,
                                    "isSqlVariant": false,
                                    "isUdt": false,
                                    "isXml": false,
                                    "isJson": false,
                                    "sqlDbType": 22,
                                    "isHierarchyId": false,
                                    "isSqlXmlType": false,
                                    "isUnknownType": false,
                                    "isUpdatable": true,
                                    "allowDBNull": false,
                                    "baseCatalogName": null,
                                    "baseColumnName": null,
                                    "baseSchemaName": null,
                                    "baseServerName": null,
                                    "baseTableName": null,
                                    "columnName": "dept_name",
                                    "columnOrdinal": 0,
                                    "columnSize": 20,
                                    "isAliased": null,
                                    "isAutoIncrement": false,
                                    "isExpression": null,
                                    "isHidden": null,
                                    "isIdentity": false,
                                    "isKey": null,
                                    "isLong": false,
                                    "isReadOnly": false,
                                    "isUnique": false,
                                    "numericPrecision": 255,
                                    "numericScale": 255,
                                    "udtAssemblyQualifiedName": null,
                                    "dataType": "System.String, System.Private.CoreLib, Version=4.0.0.0, Culture=neutral, PublicKeyToken=7cec85d7bea7798e",
                                    "dataTypeName": "varchar"
                                },
                                {
                                    "isBytes": false,
                                    "isChars": true,
                                    "isSqlVariant": false,
                                    "isUdt": false,
                                    "isXml": false,
                                    "isJson": false,
                                    "sqlDbType": 22,
                                    "isHierarchyId": false,
                                    "isSqlXmlType": false,
                                    "isUnknownType": false,
                                    "isUpdatable": true,
                                    "allowDBNull": true,
                                    "baseCatalogName": null,
                                    "baseColumnName": null,
                                    "baseSchemaName": null,
                                    "baseServerName": null,
                                    "baseTableName": null,
                                    "columnName": "building",
                                    "columnOrdinal": 1,
                                    "columnSize": 15,
                                    "isAliased": null,
                                    "isAutoIncrement": false,
                                    "isExpression": null,
                                    "isHidden": null,
                                    "isIdentity": false,
                                    "isKey": null,
                                    "isLong": false,
                                    "isReadOnly": false,
                                    "isUnique": false,
                                    "numericPrecision": 255,
                                    "numericScale": 255,
                                    "udtAssemblyQualifiedName": null,
                                    "dataType": "System.String, System.Private.CoreLib, Version=4.0.0.0, Culture=neutral, PublicKeyToken=7cec85d7bea7798e",
                                    "dataTypeName": "varchar"
                                },
                                {
                                    "isBytes": false,
                                    "isChars": false,
                                    "isSqlVariant": false,
                                    "isUdt": false,
                                    "isXml": false,
                                    "isJson": false,
                                    "sqlDbType": 5,
                                    "isHierarchyId": false,
                                    "isSqlXmlType": false,
                                    "isUnknownType": false,
                                    "isUpdatable": true,
                                    "allowDBNull": true,
                                    "baseCatalogName": null,
                                    "baseColumnName": null,
                                    "baseSchemaName": null,
                                    "baseServerName": null,
                                    "baseTableName": null,
                                    "columnName": "budget",
                                    "columnOrdinal": 2,
                                    "columnSize": 17,
                                    "isAliased": null,
                                    "isAutoIncrement": false,
                                    "isExpression": null,
                                    "isHidden": null,
                                    "isIdentity": false,
                                    "isKey": null,
                                    "isLong": false,
                                    "isReadOnly": false,
                                    "isUnique": false,
                                    "numericPrecision": 12,
                                    "numericScale": 2,
                                    "udtAssemblyQualifiedName": null,
                                    "dataType": "System.Decimal, System.Private.CoreLib, Version=4.0.0.0, Culture=neutral, PublicKeyToken=7cec85d7bea7798e",
                                    "dataTypeName": "decimal"
                                }
                            ],
                            "specialAction": {
                                "none": true,
                                "expectYukonXMLShowPlan": false
                            }
                        }
                    },
                    "execution_count": 24,
                    "data": {
                        "application/vnd.dataresource+json": {
                            "schema": {
                                "fields": [
                                    {
                                        "name": "dept_name"
                                    },
                                    {
                                        "name": "building"
                                    },
                                    {
                                        "name": "budget"
                                    }
                                ]
                            },
                            "data": [
                                {
                                    "0": "Accounting",
                                    "1": "Saucon",
                                    "2": "3534727.36"
                                },
                                {
                                    "0": "Astronomy",
                                    "1": "Taylor",
                                    "2": "4938031.52"
                                },
                                {
                                    "0": "Athletics",
                                    "1": "Bronfman",
                                    "2": "5876405.60"
                                },
                                {
                                    "0": "Biology",
                                    "1": "Candlestick",
                                    "2": "5180884.40"
                                },
                                {
                                    "0": "Civil Eng.",
                                    "1": "Chandler",
                                    "2": "2040331.68"
                                },
                                {
                                    "0": "Comp. Sci.",
                                    "1": "Lamberton",
                                    "2": "851029.52"
                                }
                            ]
                        },
                        "text/html": [
                            "<table>",
                            "<tr><th>dept_name</th><th>building</th><th>budget</th></tr>",
                            "<tr><td>Accounting</td><td>Saucon</td><td>3534727.36</td></tr>",
                            "<tr><td>Astronomy</td><td>Taylor</td><td>4938031.52</td></tr>",
                            "<tr><td>Athletics</td><td>Bronfman</td><td>5876405.60</td></tr>",
                            "<tr><td>Biology</td><td>Candlestick</td><td>5180884.40</td></tr>",
                            "<tr><td>Civil Eng.</td><td>Chandler</td><td>2040331.68</td></tr>",
                            "<tr><td>Comp. Sci.</td><td>Lamberton</td><td>851029.52</td></tr>",
                            "</table>"
                        ]
                    }
                }
            ],
            "execution_count": 24
        },
        {
            "cell_type": "markdown",
            "source": [
                "Now we can define our own stored procedure so as to get the first 6 rows of any table. But lets try to make something more useful. This stored procedure takes as input a database name and a table, it outputs a description of the columns and their data-types."
            ],
            "metadata": {
                "azdata_cell_guid": "6d0ddce7-cb82-457f-acca-2db7fb1f6bd3"
            }
        },
        {
            "cell_type": "code",
            "source": [
                "--- Stored Procedure: Describes columns and the respective data types for a given table in a given database in the server\n",
                "-- existing, drop it\n",
                "IF EXISTS (SELECT  * FROM dbo.sysobjects WHERE id = OBJECT_ID(N'[usp_describe_table]'))\n",
                "    BEGIN\n",
                "        DROP PROCEDURE usp_describe_table\n",
                "    END;\n",
                "GO\n",
                "\n",
                "\n",
                "CREATE PROC usp_describe_table (\n",
                "    @table NVARCHAR(128),\n",
                "    @db NVARCHAR(128) = 'uni' -- default\n",
                ") AS \n",
                "BEGIN\n",
                "    -- declare SQL \n",
                "    DECLARE @sql NVARCHAR(MAX)\n",
                "    -- construct the SQL\n",
                "    SET @sql = N'USE ' + @db + N'; \n",
                "    SELECT \n",
                "    c.name [Column Name],\n",
                "    t.Name [Data type],\n",
                "    c.max_length [Max Length],\n",
                "    c.precision ,\n",
                "    c.scale ,\n",
                "    c.is_nullable,\n",
                "    ISNULL(i.is_primary_key, 0) [Primary Key]\n",
                "FROM    \n",
                "    sys.columns c\n",
                "INNER JOIN \n",
                "    sys.types t ON c.user_type_id = t.user_type_id\n",
                "LEFT OUTER JOIN \n",
                "    sys.index_columns ic ON ic.object_id = c.object_id AND ic.column_id = c.column_id\n",
                "LEFT OUTER JOIN \n",
                "    sys.indexes i ON ic.object_id = i.object_id AND ic.index_id = i.index_id\n",
                "WHERE\n",
                "    c.object_id = OBJECT_ID(''' + @table +''');'\n",
                "    -- execute it\n",
                "    EXEC sp_executesql @sql;\n",
                "END;\n",
                "GO"
            ],
            "metadata": {
                "azdata_cell_guid": "186bd4ec-def0-48b4-989f-c862a9d46ca6"
            },
            "outputs": [
                {
                    "output_type": "display_data",
                    "data": {
                        "text/html": "Commands completed successfully."
                    },
                    "metadata": {}
                },
                {
                    "output_type": "display_data",
                    "data": {
                        "text/html": "Commands completed successfully."
                    },
                    "metadata": {}
                },
                {
                    "output_type": "display_data",
                    "data": {
                        "text/html": "Total execution time: 00:00:00.008"
                    },
                    "metadata": {}
                }
            ],
            "execution_count": 29
        },
        {
            "cell_type": "code",
            "source": [
                "-- test it\n",
                "EXEC usp_describe_table @db = 'uni', @table = 'takes';\n",
                "GO\n",
                "-- test it with another database\n",
                "EXEC usp_describe_table @db = 'dbm_project', @table = 'RETURNS';\n",
                "GO"
            ],
            "metadata": {
                "azdata_cell_guid": "9ba2f5a8-19a7-46ec-80b1-d7daa8941d8e"
            },
            "outputs": [
                {
                    "output_type": "display_data",
                    "data": {
                        "text/html": "(6 rows affected)"
                    },
                    "metadata": {}
                },
                {
                    "output_type": "display_data",
                    "data": {
                        "text/html": "(7 rows affected)"
                    },
                    "metadata": {}
                },
                {
                    "output_type": "display_data",
                    "data": {
                        "text/html": "Total execution time: 00:00:00.050"
                    },
                    "metadata": {}
                },
                {
                    "output_type": "execute_result",
                    "metadata": {
                        "resultSet": {
                            "id": 0,
                            "batchId": 0,
                            "rowCount": 6,
                            "complete": true,
                            "columnInfo": [
                                {
                                    "isBytes": false,
                                    "isChars": true,
                                    "isSqlVariant": false,
                                    "isUdt": false,
                                    "isXml": false,
                                    "isJson": false,
                                    "sqlDbType": 12,
                                    "isHierarchyId": false,
                                    "isSqlXmlType": false,
                                    "isUnknownType": false,
                                    "isUpdatable": true,
                                    "allowDBNull": true,
                                    "baseCatalogName": null,
                                    "baseColumnName": null,
                                    "baseSchemaName": null,
                                    "baseServerName": null,
                                    "baseTableName": null,
                                    "columnName": "Column Name",
                                    "columnOrdinal": 0,
                                    "columnSize": 128,
                                    "isAliased": null,
                                    "isAutoIncrement": false,
                                    "isExpression": null,
                                    "isHidden": null,
                                    "isIdentity": false,
                                    "isKey": null,
                                    "isLong": false,
                                    "isReadOnly": false,
                                    "isUnique": false,
                                    "numericPrecision": 255,
                                    "numericScale": 255,
                                    "udtAssemblyQualifiedName": null,
                                    "dataType": "System.String, System.Private.CoreLib, Version=4.0.0.0, Culture=neutral, PublicKeyToken=7cec85d7bea7798e",
                                    "dataTypeName": "nvarchar"
                                },
                                {
                                    "isBytes": false,
                                    "isChars": true,
                                    "isSqlVariant": false,
                                    "isUdt": false,
                                    "isXml": false,
                                    "isJson": false,
                                    "sqlDbType": 12,
                                    "isHierarchyId": false,
                                    "isSqlXmlType": false,
                                    "isUnknownType": false,
                                    "isUpdatable": true,
                                    "allowDBNull": false,
                                    "baseCatalogName": null,
                                    "baseColumnName": null,
                                    "baseSchemaName": null,
                                    "baseServerName": null,
                                    "baseTableName": null,
                                    "columnName": "Data type",
                                    "columnOrdinal": 1,
                                    "columnSize": 128,
                                    "isAliased": null,
                                    "isAutoIncrement": false,
                                    "isExpression": null,
                                    "isHidden": null,
                                    "isIdentity": false,
                                    "isKey": null,
                                    "isLong": false,
                                    "isReadOnly": false,
                                    "isUnique": false,
                                    "numericPrecision": 255,
                                    "numericScale": 255,
                                    "udtAssemblyQualifiedName": null,
                                    "dataType": "System.String, System.Private.CoreLib, Version=4.0.0.0, Culture=neutral, PublicKeyToken=7cec85d7bea7798e",
                                    "dataTypeName": "nvarchar"
                                },
                                {
                                    "isBytes": false,
                                    "isChars": false,
                                    "isSqlVariant": false,
                                    "isUdt": false,
                                    "isXml": false,
                                    "isJson": false,
                                    "sqlDbType": 16,
                                    "isHierarchyId": false,
                                    "isSqlXmlType": false,
                                    "isUnknownType": false,
                                    "isUpdatable": true,
                                    "allowDBNull": false,
                                    "baseCatalogName": null,
                                    "baseColumnName": null,
                                    "baseSchemaName": null,
                                    "baseServerName": null,
                                    "baseTableName": null,
                                    "columnName": "Max Length",
                                    "columnOrdinal": 2,
                                    "columnSize": 2,
                                    "isAliased": null,
                                    "isAutoIncrement": false,
                                    "isExpression": null,
                                    "isHidden": null,
                                    "isIdentity": false,
                                    "isKey": null,
                                    "isLong": false,
                                    "isReadOnly": false,
                                    "isUnique": false,
                                    "numericPrecision": 5,
                                    "numericScale": 255,
                                    "udtAssemblyQualifiedName": null,
                                    "dataType": "System.Int16, System.Private.CoreLib, Version=4.0.0.0, Culture=neutral, PublicKeyToken=7cec85d7bea7798e",
                                    "dataTypeName": "smallint"
                                },
                                {
                                    "isBytes": false,
                                    "isChars": false,
                                    "isSqlVariant": false,
                                    "isUdt": false,
                                    "isXml": false,
                                    "isJson": false,
                                    "sqlDbType": 20,
                                    "isHierarchyId": false,
                                    "isSqlXmlType": false,
                                    "isUnknownType": false,
                                    "isUpdatable": true,
                                    "allowDBNull": false,
                                    "baseCatalogName": null,
                                    "baseColumnName": null,
                                    "baseSchemaName": null,
                                    "baseServerName": null,
                                    "baseTableName": null,
                                    "columnName": "precision",
                                    "columnOrdinal": 3,
                                    "columnSize": 1,
                                    "isAliased": null,
                                    "isAutoIncrement": false,
                                    "isExpression": null,
                                    "isHidden": null,
                                    "isIdentity": false,
                                    "isKey": null,
                                    "isLong": false,
                                    "isReadOnly": false,
                                    "isUnique": false,
                                    "numericPrecision": 3,
                                    "numericScale": 255,
                                    "udtAssemblyQualifiedName": null,
                                    "dataType": "System.Byte, System.Private.CoreLib, Version=4.0.0.0, Culture=neutral, PublicKeyToken=7cec85d7bea7798e",
                                    "dataTypeName": "tinyint"
                                },
                                {
                                    "isBytes": false,
                                    "isChars": false,
                                    "isSqlVariant": false,
                                    "isUdt": false,
                                    "isXml": false,
                                    "isJson": false,
                                    "sqlDbType": 20,
                                    "isHierarchyId": false,
                                    "isSqlXmlType": false,
                                    "isUnknownType": false,
                                    "isUpdatable": true,
                                    "allowDBNull": false,
                                    "baseCatalogName": null,
                                    "baseColumnName": null,
                                    "baseSchemaName": null,
                                    "baseServerName": null,
                                    "baseTableName": null,
                                    "columnName": "scale",
                                    "columnOrdinal": 4,
                                    "columnSize": 1,
                                    "isAliased": null,
                                    "isAutoIncrement": false,
                                    "isExpression": null,
                                    "isHidden": null,
                                    "isIdentity": false,
                                    "isKey": null,
                                    "isLong": false,
                                    "isReadOnly": false,
                                    "isUnique": false,
                                    "numericPrecision": 3,
                                    "numericScale": 255,
                                    "udtAssemblyQualifiedName": null,
                                    "dataType": "System.Byte, System.Private.CoreLib, Version=4.0.0.0, Culture=neutral, PublicKeyToken=7cec85d7bea7798e",
                                    "dataTypeName": "tinyint"
                                },
                                {
                                    "isBytes": false,
                                    "isChars": false,
                                    "isSqlVariant": false,
                                    "isUdt": false,
                                    "isXml": false,
                                    "isJson": false,
                                    "sqlDbType": 2,
                                    "isHierarchyId": false,
                                    "isSqlXmlType": false,
                                    "isUnknownType": false,
                                    "isUpdatable": false,
                                    "allowDBNull": true,
                                    "baseCatalogName": null,
                                    "baseColumnName": null,
                                    "baseSchemaName": null,
                                    "baseServerName": null,
                                    "baseTableName": null,
                                    "columnName": "is_nullable",
                                    "columnOrdinal": 5,
                                    "columnSize": 1,
                                    "isAliased": null,
                                    "isAutoIncrement": false,
                                    "isExpression": null,
                                    "isHidden": null,
                                    "isIdentity": false,
                                    "isKey": null,
                                    "isLong": false,
                                    "isReadOnly": true,
                                    "isUnique": false,
                                    "numericPrecision": 255,
                                    "numericScale": 255,
                                    "udtAssemblyQualifiedName": null,
                                    "dataType": "System.Boolean, System.Private.CoreLib, Version=4.0.0.0, Culture=neutral, PublicKeyToken=7cec85d7bea7798e",
                                    "dataTypeName": "bit"
                                },
                                {
                                    "isBytes": false,
                                    "isChars": false,
                                    "isSqlVariant": false,
                                    "isUdt": false,
                                    "isXml": false,
                                    "isJson": false,
                                    "sqlDbType": 2,
                                    "isHierarchyId": false,
                                    "isSqlXmlType": false,
                                    "isUnknownType": false,
                                    "isUpdatable": false,
                                    "allowDBNull": false,
                                    "baseCatalogName": null,
                                    "baseColumnName": null,
                                    "baseSchemaName": null,
                                    "baseServerName": null,
                                    "baseTableName": null,
                                    "columnName": "Primary Key",
                                    "columnOrdinal": 6,
                                    "columnSize": 1,
                                    "isAliased": null,
                                    "isAutoIncrement": false,
                                    "isExpression": null,
                                    "isHidden": null,
                                    "isIdentity": false,
                                    "isKey": null,
                                    "isLong": false,
                                    "isReadOnly": true,
                                    "isUnique": false,
                                    "numericPrecision": 255,
                                    "numericScale": 255,
                                    "udtAssemblyQualifiedName": null,
                                    "dataType": "System.Boolean, System.Private.CoreLib, Version=4.0.0.0, Culture=neutral, PublicKeyToken=7cec85d7bea7798e",
                                    "dataTypeName": "bit"
                                }
                            ],
                            "specialAction": {
                                "none": true,
                                "expectYukonXMLShowPlan": false
                            }
                        }
                    },
                    "execution_count": 32,
                    "data": {
                        "application/vnd.dataresource+json": {
                            "schema": {
                                "fields": [
                                    {
                                        "name": "Column Name"
                                    },
                                    {
                                        "name": "Data type"
                                    },
                                    {
                                        "name": "Max Length"
                                    },
                                    {
                                        "name": "precision"
                                    },
                                    {
                                        "name": "scale"
                                    },
                                    {
                                        "name": "is_nullable"
                                    },
                                    {
                                        "name": "Primary Key"
                                    }
                                ]
                            },
                            "data": [
                                {
                                    "0": "ID",
                                    "1": "varchar",
                                    "2": "5",
                                    "3": "0",
                                    "4": "0",
                                    "5": "0",
                                    "6": "1"
                                },
                                {
                                    "0": "course_id",
                                    "1": "varchar",
                                    "2": "8",
                                    "3": "0",
                                    "4": "0",
                                    "5": "0",
                                    "6": "1"
                                },
                                {
                                    "0": "sec_id",
                                    "1": "varchar",
                                    "2": "8",
                                    "3": "0",
                                    "4": "0",
                                    "5": "0",
                                    "6": "1"
                                },
                                {
                                    "0": "semester",
                                    "1": "varchar",
                                    "2": "6",
                                    "3": "0",
                                    "4": "0",
                                    "5": "0",
                                    "6": "1"
                                },
                                {
                                    "0": "year",
                                    "1": "numeric",
                                    "2": "5",
                                    "3": "4",
                                    "4": "0",
                                    "5": "0",
                                    "6": "1"
                                },
                                {
                                    "0": "grade",
                                    "1": "varchar",
                                    "2": "2",
                                    "3": "0",
                                    "4": "0",
                                    "5": "1",
                                    "6": "0"
                                }
                            ]
                        },
                        "text/html": [
                            "<table>",
                            "<tr><th>Column Name</th><th>Data type</th><th>Max Length</th><th>precision</th><th>scale</th><th>is_nullable</th><th>Primary Key</th></tr>",
                            "<tr><td>ID</td><td>varchar</td><td>5</td><td>0</td><td>0</td><td>0</td><td>1</td></tr>",
                            "<tr><td>course_id</td><td>varchar</td><td>8</td><td>0</td><td>0</td><td>0</td><td>1</td></tr>",
                            "<tr><td>sec_id</td><td>varchar</td><td>8</td><td>0</td><td>0</td><td>0</td><td>1</td></tr>",
                            "<tr><td>semester</td><td>varchar</td><td>6</td><td>0</td><td>0</td><td>0</td><td>1</td></tr>",
                            "<tr><td>year</td><td>numeric</td><td>5</td><td>4</td><td>0</td><td>0</td><td>1</td></tr>",
                            "<tr><td>grade</td><td>varchar</td><td>2</td><td>0</td><td>0</td><td>1</td><td>0</td></tr>",
                            "</table>"
                        ]
                    }
                },
                {
                    "output_type": "execute_result",
                    "metadata": {
                        "resultSet": {
                            "id": 0,
                            "batchId": 1,
                            "rowCount": 7,
                            "complete": true,
                            "columnInfo": [
                                {
                                    "isBytes": false,
                                    "isChars": true,
                                    "isSqlVariant": false,
                                    "isUdt": false,
                                    "isXml": false,
                                    "isJson": false,
                                    "sqlDbType": 12,
                                    "isHierarchyId": false,
                                    "isSqlXmlType": false,
                                    "isUnknownType": false,
                                    "isUpdatable": true,
                                    "allowDBNull": true,
                                    "baseCatalogName": null,
                                    "baseColumnName": null,
                                    "baseSchemaName": null,
                                    "baseServerName": null,
                                    "baseTableName": null,
                                    "columnName": "Column Name",
                                    "columnOrdinal": 0,
                                    "columnSize": 128,
                                    "isAliased": null,
                                    "isAutoIncrement": false,
                                    "isExpression": null,
                                    "isHidden": null,
                                    "isIdentity": false,
                                    "isKey": null,
                                    "isLong": false,
                                    "isReadOnly": false,
                                    "isUnique": false,
                                    "numericPrecision": 255,
                                    "numericScale": 255,
                                    "udtAssemblyQualifiedName": null,
                                    "dataType": "System.String, System.Private.CoreLib, Version=4.0.0.0, Culture=neutral, PublicKeyToken=7cec85d7bea7798e",
                                    "dataTypeName": "nvarchar"
                                },
                                {
                                    "isBytes": false,
                                    "isChars": true,
                                    "isSqlVariant": false,
                                    "isUdt": false,
                                    "isXml": false,
                                    "isJson": false,
                                    "sqlDbType": 12,
                                    "isHierarchyId": false,
                                    "isSqlXmlType": false,
                                    "isUnknownType": false,
                                    "isUpdatable": true,
                                    "allowDBNull": false,
                                    "baseCatalogName": null,
                                    "baseColumnName": null,
                                    "baseSchemaName": null,
                                    "baseServerName": null,
                                    "baseTableName": null,
                                    "columnName": "Data type",
                                    "columnOrdinal": 1,
                                    "columnSize": 128,
                                    "isAliased": null,
                                    "isAutoIncrement": false,
                                    "isExpression": null,
                                    "isHidden": null,
                                    "isIdentity": false,
                                    "isKey": null,
                                    "isLong": false,
                                    "isReadOnly": false,
                                    "isUnique": false,
                                    "numericPrecision": 255,
                                    "numericScale": 255,
                                    "udtAssemblyQualifiedName": null,
                                    "dataType": "System.String, System.Private.CoreLib, Version=4.0.0.0, Culture=neutral, PublicKeyToken=7cec85d7bea7798e",
                                    "dataTypeName": "nvarchar"
                                },
                                {
                                    "isBytes": false,
                                    "isChars": false,
                                    "isSqlVariant": false,
                                    "isUdt": false,
                                    "isXml": false,
                                    "isJson": false,
                                    "sqlDbType": 16,
                                    "isHierarchyId": false,
                                    "isSqlXmlType": false,
                                    "isUnknownType": false,
                                    "isUpdatable": true,
                                    "allowDBNull": false,
                                    "baseCatalogName": null,
                                    "baseColumnName": null,
                                    "baseSchemaName": null,
                                    "baseServerName": null,
                                    "baseTableName": null,
                                    "columnName": "Max Length",
                                    "columnOrdinal": 2,
                                    "columnSize": 2,
                                    "isAliased": null,
                                    "isAutoIncrement": false,
                                    "isExpression": null,
                                    "isHidden": null,
                                    "isIdentity": false,
                                    "isKey": null,
                                    "isLong": false,
                                    "isReadOnly": false,
                                    "isUnique": false,
                                    "numericPrecision": 5,
                                    "numericScale": 255,
                                    "udtAssemblyQualifiedName": null,
                                    "dataType": "System.Int16, System.Private.CoreLib, Version=4.0.0.0, Culture=neutral, PublicKeyToken=7cec85d7bea7798e",
                                    "dataTypeName": "smallint"
                                },
                                {
                                    "isBytes": false,
                                    "isChars": false,
                                    "isSqlVariant": false,
                                    "isUdt": false,
                                    "isXml": false,
                                    "isJson": false,
                                    "sqlDbType": 20,
                                    "isHierarchyId": false,
                                    "isSqlXmlType": false,
                                    "isUnknownType": false,
                                    "isUpdatable": true,
                                    "allowDBNull": false,
                                    "baseCatalogName": null,
                                    "baseColumnName": null,
                                    "baseSchemaName": null,
                                    "baseServerName": null,
                                    "baseTableName": null,
                                    "columnName": "precision",
                                    "columnOrdinal": 3,
                                    "columnSize": 1,
                                    "isAliased": null,
                                    "isAutoIncrement": false,
                                    "isExpression": null,
                                    "isHidden": null,
                                    "isIdentity": false,
                                    "isKey": null,
                                    "isLong": false,
                                    "isReadOnly": false,
                                    "isUnique": false,
                                    "numericPrecision": 3,
                                    "numericScale": 255,
                                    "udtAssemblyQualifiedName": null,
                                    "dataType": "System.Byte, System.Private.CoreLib, Version=4.0.0.0, Culture=neutral, PublicKeyToken=7cec85d7bea7798e",
                                    "dataTypeName": "tinyint"
                                },
                                {
                                    "isBytes": false,
                                    "isChars": false,
                                    "isSqlVariant": false,
                                    "isUdt": false,
                                    "isXml": false,
                                    "isJson": false,
                                    "sqlDbType": 20,
                                    "isHierarchyId": false,
                                    "isSqlXmlType": false,
                                    "isUnknownType": false,
                                    "isUpdatable": true,
                                    "allowDBNull": false,
                                    "baseCatalogName": null,
                                    "baseColumnName": null,
                                    "baseSchemaName": null,
                                    "baseServerName": null,
                                    "baseTableName": null,
                                    "columnName": "scale",
                                    "columnOrdinal": 4,
                                    "columnSize": 1,
                                    "isAliased": null,
                                    "isAutoIncrement": false,
                                    "isExpression": null,
                                    "isHidden": null,
                                    "isIdentity": false,
                                    "isKey": null,
                                    "isLong": false,
                                    "isReadOnly": false,
                                    "isUnique": false,
                                    "numericPrecision": 3,
                                    "numericScale": 255,
                                    "udtAssemblyQualifiedName": null,
                                    "dataType": "System.Byte, System.Private.CoreLib, Version=4.0.0.0, Culture=neutral, PublicKeyToken=7cec85d7bea7798e",
                                    "dataTypeName": "tinyint"
                                },
                                {
                                    "isBytes": false,
                                    "isChars": false,
                                    "isSqlVariant": false,
                                    "isUdt": false,
                                    "isXml": false,
                                    "isJson": false,
                                    "sqlDbType": 2,
                                    "isHierarchyId": false,
                                    "isSqlXmlType": false,
                                    "isUnknownType": false,
                                    "isUpdatable": false,
                                    "allowDBNull": true,
                                    "baseCatalogName": null,
                                    "baseColumnName": null,
                                    "baseSchemaName": null,
                                    "baseServerName": null,
                                    "baseTableName": null,
                                    "columnName": "is_nullable",
                                    "columnOrdinal": 5,
                                    "columnSize": 1,
                                    "isAliased": null,
                                    "isAutoIncrement": false,
                                    "isExpression": null,
                                    "isHidden": null,
                                    "isIdentity": false,
                                    "isKey": null,
                                    "isLong": false,
                                    "isReadOnly": true,
                                    "isUnique": false,
                                    "numericPrecision": 255,
                                    "numericScale": 255,
                                    "udtAssemblyQualifiedName": null,
                                    "dataType": "System.Boolean, System.Private.CoreLib, Version=4.0.0.0, Culture=neutral, PublicKeyToken=7cec85d7bea7798e",
                                    "dataTypeName": "bit"
                                },
                                {
                                    "isBytes": false,
                                    "isChars": false,
                                    "isSqlVariant": false,
                                    "isUdt": false,
                                    "isXml": false,
                                    "isJson": false,
                                    "sqlDbType": 2,
                                    "isHierarchyId": false,
                                    "isSqlXmlType": false,
                                    "isUnknownType": false,
                                    "isUpdatable": false,
                                    "allowDBNull": false,
                                    "baseCatalogName": null,
                                    "baseColumnName": null,
                                    "baseSchemaName": null,
                                    "baseServerName": null,
                                    "baseTableName": null,
                                    "columnName": "Primary Key",
                                    "columnOrdinal": 6,
                                    "columnSize": 1,
                                    "isAliased": null,
                                    "isAutoIncrement": false,
                                    "isExpression": null,
                                    "isHidden": null,
                                    "isIdentity": false,
                                    "isKey": null,
                                    "isLong": false,
                                    "isReadOnly": true,
                                    "isUnique": false,
                                    "numericPrecision": 255,
                                    "numericScale": 255,
                                    "udtAssemblyQualifiedName": null,
                                    "dataType": "System.Boolean, System.Private.CoreLib, Version=4.0.0.0, Culture=neutral, PublicKeyToken=7cec85d7bea7798e",
                                    "dataTypeName": "bit"
                                }
                            ],
                            "specialAction": {
                                "none": true,
                                "expectYukonXMLShowPlan": false
                            }
                        }
                    },
                    "execution_count": 32,
                    "data": {
                        "application/vnd.dataresource+json": {
                            "schema": {
                                "fields": [
                                    {
                                        "name": "Column Name"
                                    },
                                    {
                                        "name": "Data type"
                                    },
                                    {
                                        "name": "Max Length"
                                    },
                                    {
                                        "name": "precision"
                                    },
                                    {
                                        "name": "scale"
                                    },
                                    {
                                        "name": "is_nullable"
                                    },
                                    {
                                        "name": "Primary Key"
                                    }
                                ]
                            },
                            "data": [
                                {
                                    "0": "IDRETURN",
                                    "1": "numeric",
                                    "2": "9",
                                    "3": "18",
                                    "4": "0",
                                    "5": "0",
                                    "6": "1"
                                },
                                {
                                    "0": "PRODUCT",
                                    "1": "numeric",
                                    "2": "9",
                                    "3": "18",
                                    "4": "0",
                                    "5": "0",
                                    "6": "0"
                                },
                                {
                                    "0": "WAREHOUSE",
                                    "1": "numeric",
                                    "2": "9",
                                    "3": "18",
                                    "4": "0",
                                    "5": "0",
                                    "6": "0"
                                },
                                {
                                    "0": "SALE",
                                    "1": "numeric",
                                    "2": "9",
                                    "3": "18",
                                    "4": "0",
                                    "5": "0",
                                    "6": "0"
                                },
                                {
                                    "0": "RETURN_DATE",
                                    "1": "datetime",
                                    "2": "8",
                                    "3": "23",
                                    "4": "3",
                                    "5": "0",
                                    "6": "0"
                                },
                                {
                                    "0": "RETURN_QUANTITY",
                                    "1": "smallint",
                                    "2": "2",
                                    "3": "5",
                                    "4": "0",
                                    "5": "0",
                                    "6": "0"
                                },
                                {
                                    "0": "RETURN_REASON",
                                    "1": "varchar",
                                    "2": "100",
                                    "3": "0",
                                    "4": "0",
                                    "5": "0",
                                    "6": "0"
                                }
                            ]
                        },
                        "text/html": [
                            "<table>",
                            "<tr><th>Column Name</th><th>Data type</th><th>Max Length</th><th>precision</th><th>scale</th><th>is_nullable</th><th>Primary Key</th></tr>",
                            "<tr><td>IDRETURN</td><td>numeric</td><td>9</td><td>18</td><td>0</td><td>0</td><td>1</td></tr>",
                            "<tr><td>PRODUCT</td><td>numeric</td><td>9</td><td>18</td><td>0</td><td>0</td><td>0</td></tr>",
                            "<tr><td>WAREHOUSE</td><td>numeric</td><td>9</td><td>18</td><td>0</td><td>0</td><td>0</td></tr>",
                            "<tr><td>SALE</td><td>numeric</td><td>9</td><td>18</td><td>0</td><td>0</td><td>0</td></tr>",
                            "<tr><td>RETURN_DATE</td><td>datetime</td><td>8</td><td>23</td><td>3</td><td>0</td><td>0</td></tr>",
                            "<tr><td>RETURN_QUANTITY</td><td>smallint</td><td>2</td><td>5</td><td>0</td><td>0</td><td>0</td></tr>",
                            "<tr><td>RETURN_REASON</td><td>varchar</td><td>100</td><td>0</td><td>0</td><td>0</td><td>0</td></tr>",
                            "</table>"
                        ]
                    }
                }
            ],
            "execution_count": 32
        },
        {
            "cell_type": "markdown",
            "source": [
                "### Detour: SQL injections\n",
                "\n",
                "Take this simple stored procedure which queries a table."
            ],
            "metadata": {
                "azdata_cell_guid": "4037e45b-89b8-4e94-a8f8-10a4116d2810"
            }
        },
        {
            "cell_type": "code",
            "source": [
                "--- Stored Procedure: Queries all rows and cols in a table\n",
                "-- existing, drop it\n",
                "IF EXISTS (SELECT * FROM dbo.sysobjects WHERE id = OBJECT_ID(N'[usp_simple_query]'))\n",
                "    BEGIN\n",
                "        DROP PROCEDURE usp_simple_query\n",
                "    END;\n",
                "GO\n",
                "CREATE PROC usp_simple_query (\n",
                "    @table NVARCHAR(128)\n",
                ") AS \n",
                "BEGIN\n",
                "    -- declare SQL \n",
                "    DECLARE @sql NVARCHAR(MAX)\n",
                "    -- construct the SQL\n",
                "    SET @sql = N'SELECT TOP 6 * FROM ' + @table + ';'\n",
                "    -- execute it\n",
                "    EXEC sp_executesql @sql;\n",
                "END;\n",
                "GO"
            ],
            "metadata": {
                "azdata_cell_guid": "2573bb95-8d3a-485c-af72-6a018700f586"
            },
            "outputs": [
                {
                    "output_type": "display_data",
                    "data": {
                        "text/html": "Commands completed successfully."
                    },
                    "metadata": {}
                },
                {
                    "output_type": "display_data",
                    "data": {
                        "text/html": "Commands completed successfully."
                    },
                    "metadata": {}
                },
                {
                    "output_type": "display_data",
                    "data": {
                        "text/html": "Total execution time: 00:00:00.009"
                    },
                    "metadata": {}
                }
            ],
            "execution_count": 35
        },
        {
            "cell_type": "markdown",
            "source": [
                "While only taking as input the table name, this statement does not prevent users from passing more SQL commands in the table name parameter. This unknowingly allowing database users to possibly run SQL statements which alter or retrieve data from a dataase is called ``SQL injection``. For example, here the SQL injection will lead to the destruction of a table by adding another SQL command after the query."
            ],
            "metadata": {
                "azdata_cell_guid": "0e3546de-010e-4f27-be9f-d6d0b610f9d4"
            }
        },
        {
            "cell_type": "code",
            "source": [
                "-- create a dummy table\n",
                "IF NOT EXISTS(SELECT * FROM sys.objects WHERE [name] = 'student_copy')\n",
                "    BEGIN\n",
                "        SELECT * \n",
                "        INTO student_copy\n",
                "        FROM student;\n",
                "    END\n",
                "GO\n",
                "\n",
                "-- before the injection\n",
                "SELECT TABLE_NAME\n",
                "FROM INFORMATION_SCHEMA.TABLES\n",
                "WHERE TABLE_NAME = 'student_copy';\n",
                "GO\n",
                "-- SQL injection\n",
                "EXEC usp_simple_query @table = 'student_copy; DROP TABLE student_copy;'\n",
                "\n",
                "-- after the injection\n",
                "SELECT TABLE_NAME\n",
                "FROM INFORMATION_SCHEMA.TABLES\n",
                "WHERE TABLE_NAME = 'student_copy';\n",
                "GO"
            ],
            "metadata": {
                "azdata_cell_guid": "e1f18d11-69a0-4d8d-a8db-d2efc0287cc3"
            },
            "outputs": [
                {
                    "output_type": "display_data",
                    "data": {
                        "text/html": "(2000 rows affected)"
                    },
                    "metadata": {}
                },
                {
                    "output_type": "display_data",
                    "data": {
                        "text/html": "(1 row affected)"
                    },
                    "metadata": {}
                },
                {
                    "output_type": "display_data",
                    "data": {
                        "text/html": "(6 rows affected)"
                    },
                    "metadata": {}
                },
                {
                    "output_type": "display_data",
                    "data": {
                        "text/html": "(0 rows affected)"
                    },
                    "metadata": {}
                },
                {
                    "output_type": "display_data",
                    "data": {
                        "text/html": "Total execution time: 00:00:00.030"
                    },
                    "metadata": {}
                },
                {
                    "output_type": "execute_result",
                    "metadata": {
                        "resultSet": {
                            "id": 0,
                            "batchId": 1,
                            "rowCount": 1,
                            "complete": true,
                            "columnInfo": [
                                {
                                    "isBytes": false,
                                    "isChars": true,
                                    "isSqlVariant": false,
                                    "isUdt": false,
                                    "isXml": false,
                                    "isJson": false,
                                    "sqlDbType": 12,
                                    "isHierarchyId": false,
                                    "isSqlXmlType": false,
                                    "isUnknownType": false,
                                    "isUpdatable": true,
                                    "allowDBNull": false,
                                    "baseCatalogName": null,
                                    "baseColumnName": null,
                                    "baseSchemaName": null,
                                    "baseServerName": null,
                                    "baseTableName": null,
                                    "columnName": "TABLE_NAME",
                                    "columnOrdinal": 0,
                                    "columnSize": 128,
                                    "isAliased": null,
                                    "isAutoIncrement": false,
                                    "isExpression": null,
                                    "isHidden": null,
                                    "isIdentity": false,
                                    "isKey": null,
                                    "isLong": false,
                                    "isReadOnly": false,
                                    "isUnique": false,
                                    "numericPrecision": 255,
                                    "numericScale": 255,
                                    "udtAssemblyQualifiedName": null,
                                    "dataType": "System.String, System.Private.CoreLib, Version=4.0.0.0, Culture=neutral, PublicKeyToken=7cec85d7bea7798e",
                                    "dataTypeName": "nvarchar"
                                }
                            ],
                            "specialAction": {
                                "none": true,
                                "expectYukonXMLShowPlan": false
                            }
                        }
                    },
                    "execution_count": 42,
                    "data": {
                        "application/vnd.dataresource+json": {
                            "schema": {
                                "fields": [
                                    {
                                        "name": "TABLE_NAME"
                                    }
                                ]
                            },
                            "data": [
                                {
                                    "0": "student_copy"
                                }
                            ]
                        },
                        "text/html": [
                            "<table>",
                            "<tr><th>TABLE_NAME</th></tr>",
                            "<tr><td>student_copy</td></tr>",
                            "</table>"
                        ]
                    }
                },
                {
                    "output_type": "execute_result",
                    "metadata": {
                        "resultSet": {
                            "id": 0,
                            "batchId": 2,
                            "rowCount": 6,
                            "complete": true,
                            "columnInfo": [
                                {
                                    "isBytes": false,
                                    "isChars": true,
                                    "isSqlVariant": false,
                                    "isUdt": false,
                                    "isXml": false,
                                    "isJson": false,
                                    "sqlDbType": 22,
                                    "isHierarchyId": false,
                                    "isSqlXmlType": false,
                                    "isUnknownType": false,
                                    "isUpdatable": true,
                                    "allowDBNull": false,
                                    "baseCatalogName": null,
                                    "baseColumnName": null,
                                    "baseSchemaName": null,
                                    "baseServerName": null,
                                    "baseTableName": null,
                                    "columnName": "ID",
                                    "columnOrdinal": 0,
                                    "columnSize": 5,
                                    "isAliased": null,
                                    "isAutoIncrement": false,
                                    "isExpression": null,
                                    "isHidden": null,
                                    "isIdentity": false,
                                    "isKey": null,
                                    "isLong": false,
                                    "isReadOnly": false,
                                    "isUnique": false,
                                    "numericPrecision": 255,
                                    "numericScale": 255,
                                    "udtAssemblyQualifiedName": null,
                                    "dataType": "System.String, System.Private.CoreLib, Version=4.0.0.0, Culture=neutral, PublicKeyToken=7cec85d7bea7798e",
                                    "dataTypeName": "varchar"
                                },
                                {
                                    "isBytes": false,
                                    "isChars": true,
                                    "isSqlVariant": false,
                                    "isUdt": false,
                                    "isXml": false,
                                    "isJson": false,
                                    "sqlDbType": 22,
                                    "isHierarchyId": false,
                                    "isSqlXmlType": false,
                                    "isUnknownType": false,
                                    "isUpdatable": true,
                                    "allowDBNull": false,
                                    "baseCatalogName": null,
                                    "baseColumnName": null,
                                    "baseSchemaName": null,
                                    "baseServerName": null,
                                    "baseTableName": null,
                                    "columnName": "name",
                                    "columnOrdinal": 1,
                                    "columnSize": 20,
                                    "isAliased": null,
                                    "isAutoIncrement": false,
                                    "isExpression": null,
                                    "isHidden": null,
                                    "isIdentity": false,
                                    "isKey": null,
                                    "isLong": false,
                                    "isReadOnly": false,
                                    "isUnique": false,
                                    "numericPrecision": 255,
                                    "numericScale": 255,
                                    "udtAssemblyQualifiedName": null,
                                    "dataType": "System.String, System.Private.CoreLib, Version=4.0.0.0, Culture=neutral, PublicKeyToken=7cec85d7bea7798e",
                                    "dataTypeName": "varchar"
                                },
                                {
                                    "isBytes": false,
                                    "isChars": true,
                                    "isSqlVariant": false,
                                    "isUdt": false,
                                    "isXml": false,
                                    "isJson": false,
                                    "sqlDbType": 22,
                                    "isHierarchyId": false,
                                    "isSqlXmlType": false,
                                    "isUnknownType": false,
                                    "isUpdatable": true,
                                    "allowDBNull": true,
                                    "baseCatalogName": null,
                                    "baseColumnName": null,
                                    "baseSchemaName": null,
                                    "baseServerName": null,
                                    "baseTableName": null,
                                    "columnName": "dept_name",
                                    "columnOrdinal": 2,
                                    "columnSize": 20,
                                    "isAliased": null,
                                    "isAutoIncrement": false,
                                    "isExpression": null,
                                    "isHidden": null,
                                    "isIdentity": false,
                                    "isKey": null,
                                    "isLong": false,
                                    "isReadOnly": false,
                                    "isUnique": false,
                                    "numericPrecision": 255,
                                    "numericScale": 255,
                                    "udtAssemblyQualifiedName": null,
                                    "dataType": "System.String, System.Private.CoreLib, Version=4.0.0.0, Culture=neutral, PublicKeyToken=7cec85d7bea7798e",
                                    "dataTypeName": "varchar"
                                },
                                {
                                    "isBytes": false,
                                    "isChars": false,
                                    "isSqlVariant": false,
                                    "isUdt": false,
                                    "isXml": false,
                                    "isJson": false,
                                    "sqlDbType": 5,
                                    "isHierarchyId": false,
                                    "isSqlXmlType": false,
                                    "isUnknownType": false,
                                    "isUpdatable": true,
                                    "allowDBNull": true,
                                    "baseCatalogName": null,
                                    "baseColumnName": null,
                                    "baseSchemaName": null,
                                    "baseServerName": null,
                                    "baseTableName": null,
                                    "columnName": "tot_cred",
                                    "columnOrdinal": 3,
                                    "columnSize": 17,
                                    "isAliased": null,
                                    "isAutoIncrement": false,
                                    "isExpression": null,
                                    "isHidden": null,
                                    "isIdentity": false,
                                    "isKey": null,
                                    "isLong": false,
                                    "isReadOnly": false,
                                    "isUnique": false,
                                    "numericPrecision": 3,
                                    "numericScale": 0,
                                    "udtAssemblyQualifiedName": null,
                                    "dataType": "System.Decimal, System.Private.CoreLib, Version=4.0.0.0, Culture=neutral, PublicKeyToken=7cec85d7bea7798e",
                                    "dataTypeName": "decimal"
                                }
                            ],
                            "specialAction": {
                                "none": true,
                                "expectYukonXMLShowPlan": false
                            }
                        }
                    },
                    "execution_count": 42,
                    "data": {
                        "application/vnd.dataresource+json": {
                            "schema": {
                                "fields": [
                                    {
                                        "name": "ID"
                                    },
                                    {
                                        "name": "name"
                                    },
                                    {
                                        "name": "dept_name"
                                    },
                                    {
                                        "name": "tot_cred"
                                    }
                                ]
                            },
                            "data": [
                                {
                                    "0": "1000",
                                    "1": "Manber",
                                    "2": "Civil Eng.",
                                    "3": "39"
                                },
                                {
                                    "0": "10033",
                                    "1": "Zelty",
                                    "2": "Mech. Eng.",
                                    "3": "60"
                                },
                                {
                                    "0": "10076",
                                    "1": "Duan",
                                    "2": "Civil Eng.",
                                    "3": "105"
                                },
                                {
                                    "0": "1018",
                                    "1": "Colin",
                                    "2": "Civil Eng.",
                                    "3": "81"
                                },
                                {
                                    "0": "10204",
                                    "1": "Mediratta",
                                    "2": "Geology",
                                    "3": "112"
                                },
                                {
                                    "0": "10267",
                                    "1": "Rzecz",
                                    "2": "Comp. Sci.",
                                    "3": "5"
                                }
                            ]
                        },
                        "text/html": [
                            "<table>",
                            "<tr><th>ID</th><th>name</th><th>dept_name</th><th>tot_cred</th></tr>",
                            "<tr><td>1000</td><td>Manber</td><td>Civil Eng.</td><td>39</td></tr>",
                            "<tr><td>10033</td><td>Zelty</td><td>Mech. Eng.</td><td>60</td></tr>",
                            "<tr><td>10076</td><td>Duan</td><td>Civil Eng.</td><td>105</td></tr>",
                            "<tr><td>1018</td><td>Colin</td><td>Civil Eng.</td><td>81</td></tr>",
                            "<tr><td>10204</td><td>Mediratta</td><td>Geology</td><td>112</td></tr>",
                            "<tr><td>10267</td><td>Rzecz</td><td>Comp. Sci.</td><td>5</td></tr>",
                            "</table>"
                        ]
                    }
                },
                {
                    "output_type": "execute_result",
                    "metadata": {
                        "resultSet": {
                            "id": 1,
                            "batchId": 2,
                            "rowCount": 0,
                            "complete": false,
                            "columnInfo": [
                                {
                                    "isBytes": false,
                                    "isChars": true,
                                    "isSqlVariant": false,
                                    "isUdt": false,
                                    "isXml": false,
                                    "isJson": false,
                                    "sqlDbType": 12,
                                    "isHierarchyId": false,
                                    "isSqlXmlType": false,
                                    "isUnknownType": false,
                                    "isUpdatable": true,
                                    "allowDBNull": false,
                                    "baseCatalogName": null,
                                    "baseColumnName": null,
                                    "baseSchemaName": null,
                                    "baseServerName": null,
                                    "baseTableName": null,
                                    "columnName": "TABLE_NAME",
                                    "columnOrdinal": 0,
                                    "columnSize": 128,
                                    "isAliased": null,
                                    "isAutoIncrement": false,
                                    "isExpression": null,
                                    "isHidden": null,
                                    "isIdentity": false,
                                    "isKey": null,
                                    "isLong": false,
                                    "isReadOnly": false,
                                    "isUnique": false,
                                    "numericPrecision": 255,
                                    "numericScale": 255,
                                    "udtAssemblyQualifiedName": null,
                                    "dataType": "System.String, System.Private.CoreLib, Version=4.0.0.0, Culture=neutral, PublicKeyToken=7cec85d7bea7798e",
                                    "dataTypeName": "nvarchar"
                                }
                            ],
                            "specialAction": null
                        }
                    },
                    "execution_count": 42,
                    "data": {
                        "application/vnd.dataresource+json": {
                            "schema": {
                                "fields": [
                                    {
                                        "name": "TABLE_NAME"
                                    }
                                ]
                            },
                            "data": []
                        },
                        "text/html": [
                            "<table>",
                            "<tr><th>TABLE_NAME</th></tr>",
                            "</table>"
                        ]
                    }
                }
            ],
            "execution_count": 42
        },
        {
            "cell_type": "markdown",
            "source": [
                "In this example, closer to issues related with data security, we get acess to the students data even if we do not have a student id. The main takeaway is that the where clause will filter the amount of data returned based on evaluating the logical predicates present. If we add an optional predicate which always evaluate to ``TRUE`` we can retrieve all the data as it will evaluate as true for the entire table."
            ],
            "metadata": {
                "azdata_cell_guid": "af2108c0-e852-46f4-b408-01522b526195"
            }
        },
        {
            "cell_type": "code",
            "source": [
                "--- Stored Procedure: Queries all rows and cols in a table\n",
                "-- existing, drop it\n",
                "IF EXISTS (SELECT * FROM dbo.sysobjects WHERE id = OBJECT_ID(N'[usp_get_student]'))\n",
                "    BEGIN\n",
                "        DROP PROCEDURE usp_get_student\n",
                "    END;\n",
                "GO\n",
                "CREATE PROC usp_get_student (\n",
                "    @student_name VARCHAR(200)\n",
                ") AS \n",
                "BEGIN\n",
                "    -- declare SQL \n",
                "    DECLARE @sql NVARCHAR(MAX)\n",
                "    -- construct the SQL\n",
                "    SET @sql = N'SELECT TOP 6 * FROM student WHERE name = ' + @student_name\n",
                "    -- execute it\n",
                "    EXEC sp_executesql @sql;\n",
                "END;\n",
                "GO\n",
                "\n",
                "-- normal query with match\n",
                "EXEC usp_get_student @student_name = '''Zelty''';\n",
                "GO\n",
                "-- normal query without match\n",
                "EXEC usp_get_student @student_name = '''Mickey Mouse''';\n",
                "GO\n",
                "-- injection of fake name plus a logical condition which evaluates to TRUE\n",
                "EXEC usp_get_student @student_name = ' ''Mickey Mouse'' OR 1 + 1 = 2 ';\n",
                "GO"
            ],
            "metadata": {
                "azdata_cell_guid": "7d7ab9e4-e374-42e3-91d4-4338716e3cf7"
            },
            "outputs": [
                {
                    "output_type": "display_data",
                    "data": {
                        "text/html": "Commands completed successfully."
                    },
                    "metadata": {}
                },
                {
                    "output_type": "display_data",
                    "data": {
                        "text/html": "Commands completed successfully."
                    },
                    "metadata": {}
                },
                {
                    "output_type": "display_data",
                    "data": {
                        "text/html": "(1 row affected)"
                    },
                    "metadata": {}
                },
                {
                    "output_type": "display_data",
                    "data": {
                        "text/html": "(0 rows affected)"
                    },
                    "metadata": {}
                },
                {
                    "output_type": "display_data",
                    "data": {
                        "text/html": "(6 rows affected)"
                    },
                    "metadata": {}
                },
                {
                    "output_type": "display_data",
                    "data": {
                        "text/html": "Total execution time: 00:00:00.017"
                    },
                    "metadata": {}
                },
                {
                    "output_type": "execute_result",
                    "metadata": {
                        "resultSet": {
                            "id": 0,
                            "batchId": 2,
                            "rowCount": 1,
                            "complete": true,
                            "columnInfo": [
                                {
                                    "isBytes": false,
                                    "isChars": true,
                                    "isSqlVariant": false,
                                    "isUdt": false,
                                    "isXml": false,
                                    "isJson": false,
                                    "sqlDbType": 22,
                                    "isHierarchyId": false,
                                    "isSqlXmlType": false,
                                    "isUnknownType": false,
                                    "isUpdatable": true,
                                    "allowDBNull": false,
                                    "baseCatalogName": null,
                                    "baseColumnName": null,
                                    "baseSchemaName": null,
                                    "baseServerName": null,
                                    "baseTableName": null,
                                    "columnName": "ID",
                                    "columnOrdinal": 0,
                                    "columnSize": 5,
                                    "isAliased": null,
                                    "isAutoIncrement": false,
                                    "isExpression": null,
                                    "isHidden": null,
                                    "isIdentity": false,
                                    "isKey": null,
                                    "isLong": false,
                                    "isReadOnly": false,
                                    "isUnique": false,
                                    "numericPrecision": 255,
                                    "numericScale": 255,
                                    "udtAssemblyQualifiedName": null,
                                    "dataType": "System.String, System.Private.CoreLib, Version=4.0.0.0, Culture=neutral, PublicKeyToken=7cec85d7bea7798e",
                                    "dataTypeName": "varchar"
                                },
                                {
                                    "isBytes": false,
                                    "isChars": true,
                                    "isSqlVariant": false,
                                    "isUdt": false,
                                    "isXml": false,
                                    "isJson": false,
                                    "sqlDbType": 22,
                                    "isHierarchyId": false,
                                    "isSqlXmlType": false,
                                    "isUnknownType": false,
                                    "isUpdatable": true,
                                    "allowDBNull": false,
                                    "baseCatalogName": null,
                                    "baseColumnName": null,
                                    "baseSchemaName": null,
                                    "baseServerName": null,
                                    "baseTableName": null,
                                    "columnName": "name",
                                    "columnOrdinal": 1,
                                    "columnSize": 20,
                                    "isAliased": null,
                                    "isAutoIncrement": false,
                                    "isExpression": null,
                                    "isHidden": null,
                                    "isIdentity": false,
                                    "isKey": null,
                                    "isLong": false,
                                    "isReadOnly": false,
                                    "isUnique": false,
                                    "numericPrecision": 255,
                                    "numericScale": 255,
                                    "udtAssemblyQualifiedName": null,
                                    "dataType": "System.String, System.Private.CoreLib, Version=4.0.0.0, Culture=neutral, PublicKeyToken=7cec85d7bea7798e",
                                    "dataTypeName": "varchar"
                                },
                                {
                                    "isBytes": false,
                                    "isChars": true,
                                    "isSqlVariant": false,
                                    "isUdt": false,
                                    "isXml": false,
                                    "isJson": false,
                                    "sqlDbType": 22,
                                    "isHierarchyId": false,
                                    "isSqlXmlType": false,
                                    "isUnknownType": false,
                                    "isUpdatable": true,
                                    "allowDBNull": true,
                                    "baseCatalogName": null,
                                    "baseColumnName": null,
                                    "baseSchemaName": null,
                                    "baseServerName": null,
                                    "baseTableName": null,
                                    "columnName": "dept_name",
                                    "columnOrdinal": 2,
                                    "columnSize": 20,
                                    "isAliased": null,
                                    "isAutoIncrement": false,
                                    "isExpression": null,
                                    "isHidden": null,
                                    "isIdentity": false,
                                    "isKey": null,
                                    "isLong": false,
                                    "isReadOnly": false,
                                    "isUnique": false,
                                    "numericPrecision": 255,
                                    "numericScale": 255,
                                    "udtAssemblyQualifiedName": null,
                                    "dataType": "System.String, System.Private.CoreLib, Version=4.0.0.0, Culture=neutral, PublicKeyToken=7cec85d7bea7798e",
                                    "dataTypeName": "varchar"
                                },
                                {
                                    "isBytes": false,
                                    "isChars": false,
                                    "isSqlVariant": false,
                                    "isUdt": false,
                                    "isXml": false,
                                    "isJson": false,
                                    "sqlDbType": 5,
                                    "isHierarchyId": false,
                                    "isSqlXmlType": false,
                                    "isUnknownType": false,
                                    "isUpdatable": true,
                                    "allowDBNull": true,
                                    "baseCatalogName": null,
                                    "baseColumnName": null,
                                    "baseSchemaName": null,
                                    "baseServerName": null,
                                    "baseTableName": null,
                                    "columnName": "tot_cred",
                                    "columnOrdinal": 3,
                                    "columnSize": 17,
                                    "isAliased": null,
                                    "isAutoIncrement": false,
                                    "isExpression": null,
                                    "isHidden": null,
                                    "isIdentity": false,
                                    "isKey": null,
                                    "isLong": false,
                                    "isReadOnly": false,
                                    "isUnique": false,
                                    "numericPrecision": 3,
                                    "numericScale": 0,
                                    "udtAssemblyQualifiedName": null,
                                    "dataType": "System.Decimal, System.Private.CoreLib, Version=4.0.0.0, Culture=neutral, PublicKeyToken=7cec85d7bea7798e",
                                    "dataTypeName": "decimal"
                                }
                            ],
                            "specialAction": {
                                "none": true,
                                "expectYukonXMLShowPlan": false
                            }
                        }
                    },
                    "execution_count": 87,
                    "data": {
                        "application/vnd.dataresource+json": {
                            "schema": {
                                "fields": [
                                    {
                                        "name": "ID"
                                    },
                                    {
                                        "name": "name"
                                    },
                                    {
                                        "name": "dept_name"
                                    },
                                    {
                                        "name": "tot_cred"
                                    }
                                ]
                            },
                            "data": [
                                {
                                    "0": "10033",
                                    "1": "Zelty",
                                    "2": "Mech. Eng.",
                                    "3": "60"
                                }
                            ]
                        },
                        "text/html": [
                            "<table>",
                            "<tr><th>ID</th><th>name</th><th>dept_name</th><th>tot_cred</th></tr>",
                            "<tr><td>10033</td><td>Zelty</td><td>Mech. Eng.</td><td>60</td></tr>",
                            "</table>"
                        ]
                    }
                },
                {
                    "output_type": "execute_result",
                    "metadata": {
                        "resultSet": {
                            "id": 0,
                            "batchId": 3,
                            "rowCount": 0,
                            "complete": false,
                            "columnInfo": [
                                {
                                    "isBytes": false,
                                    "isChars": true,
                                    "isSqlVariant": false,
                                    "isUdt": false,
                                    "isXml": false,
                                    "isJson": false,
                                    "sqlDbType": 22,
                                    "isHierarchyId": false,
                                    "isSqlXmlType": false,
                                    "isUnknownType": false,
                                    "isUpdatable": true,
                                    "allowDBNull": false,
                                    "baseCatalogName": null,
                                    "baseColumnName": null,
                                    "baseSchemaName": null,
                                    "baseServerName": null,
                                    "baseTableName": null,
                                    "columnName": "ID",
                                    "columnOrdinal": 0,
                                    "columnSize": 5,
                                    "isAliased": null,
                                    "isAutoIncrement": false,
                                    "isExpression": null,
                                    "isHidden": null,
                                    "isIdentity": false,
                                    "isKey": null,
                                    "isLong": false,
                                    "isReadOnly": false,
                                    "isUnique": false,
                                    "numericPrecision": 255,
                                    "numericScale": 255,
                                    "udtAssemblyQualifiedName": null,
                                    "dataType": "System.String, System.Private.CoreLib, Version=4.0.0.0, Culture=neutral, PublicKeyToken=7cec85d7bea7798e",
                                    "dataTypeName": "varchar"
                                },
                                {
                                    "isBytes": false,
                                    "isChars": true,
                                    "isSqlVariant": false,
                                    "isUdt": false,
                                    "isXml": false,
                                    "isJson": false,
                                    "sqlDbType": 22,
                                    "isHierarchyId": false,
                                    "isSqlXmlType": false,
                                    "isUnknownType": false,
                                    "isUpdatable": true,
                                    "allowDBNull": false,
                                    "baseCatalogName": null,
                                    "baseColumnName": null,
                                    "baseSchemaName": null,
                                    "baseServerName": null,
                                    "baseTableName": null,
                                    "columnName": "name",
                                    "columnOrdinal": 1,
                                    "columnSize": 20,
                                    "isAliased": null,
                                    "isAutoIncrement": false,
                                    "isExpression": null,
                                    "isHidden": null,
                                    "isIdentity": false,
                                    "isKey": null,
                                    "isLong": false,
                                    "isReadOnly": false,
                                    "isUnique": false,
                                    "numericPrecision": 255,
                                    "numericScale": 255,
                                    "udtAssemblyQualifiedName": null,
                                    "dataType": "System.String, System.Private.CoreLib, Version=4.0.0.0, Culture=neutral, PublicKeyToken=7cec85d7bea7798e",
                                    "dataTypeName": "varchar"
                                },
                                {
                                    "isBytes": false,
                                    "isChars": true,
                                    "isSqlVariant": false,
                                    "isUdt": false,
                                    "isXml": false,
                                    "isJson": false,
                                    "sqlDbType": 22,
                                    "isHierarchyId": false,
                                    "isSqlXmlType": false,
                                    "isUnknownType": false,
                                    "isUpdatable": true,
                                    "allowDBNull": true,
                                    "baseCatalogName": null,
                                    "baseColumnName": null,
                                    "baseSchemaName": null,
                                    "baseServerName": null,
                                    "baseTableName": null,
                                    "columnName": "dept_name",
                                    "columnOrdinal": 2,
                                    "columnSize": 20,
                                    "isAliased": null,
                                    "isAutoIncrement": false,
                                    "isExpression": null,
                                    "isHidden": null,
                                    "isIdentity": false,
                                    "isKey": null,
                                    "isLong": false,
                                    "isReadOnly": false,
                                    "isUnique": false,
                                    "numericPrecision": 255,
                                    "numericScale": 255,
                                    "udtAssemblyQualifiedName": null,
                                    "dataType": "System.String, System.Private.CoreLib, Version=4.0.0.0, Culture=neutral, PublicKeyToken=7cec85d7bea7798e",
                                    "dataTypeName": "varchar"
                                },
                                {
                                    "isBytes": false,
                                    "isChars": false,
                                    "isSqlVariant": false,
                                    "isUdt": false,
                                    "isXml": false,
                                    "isJson": false,
                                    "sqlDbType": 5,
                                    "isHierarchyId": false,
                                    "isSqlXmlType": false,
                                    "isUnknownType": false,
                                    "isUpdatable": true,
                                    "allowDBNull": true,
                                    "baseCatalogName": null,
                                    "baseColumnName": null,
                                    "baseSchemaName": null,
                                    "baseServerName": null,
                                    "baseTableName": null,
                                    "columnName": "tot_cred",
                                    "columnOrdinal": 3,
                                    "columnSize": 17,
                                    "isAliased": null,
                                    "isAutoIncrement": false,
                                    "isExpression": null,
                                    "isHidden": null,
                                    "isIdentity": false,
                                    "isKey": null,
                                    "isLong": false,
                                    "isReadOnly": false,
                                    "isUnique": false,
                                    "numericPrecision": 3,
                                    "numericScale": 0,
                                    "udtAssemblyQualifiedName": null,
                                    "dataType": "System.Decimal, System.Private.CoreLib, Version=4.0.0.0, Culture=neutral, PublicKeyToken=7cec85d7bea7798e",
                                    "dataTypeName": "decimal"
                                }
                            ],
                            "specialAction": null
                        }
                    },
                    "execution_count": 87,
                    "data": {
                        "application/vnd.dataresource+json": {
                            "schema": {
                                "fields": [
                                    {
                                        "name": "ID"
                                    },
                                    {
                                        "name": "name"
                                    },
                                    {
                                        "name": "dept_name"
                                    },
                                    {
                                        "name": "tot_cred"
                                    }
                                ]
                            },
                            "data": []
                        },
                        "text/html": [
                            "<table>",
                            "<tr><th>ID</th><th>name</th><th>dept_name</th><th>tot_cred</th></tr>",
                            "</table>"
                        ]
                    }
                },
                {
                    "output_type": "execute_result",
                    "metadata": {
                        "resultSet": {
                            "id": 0,
                            "batchId": 4,
                            "rowCount": 6,
                            "complete": true,
                            "columnInfo": [
                                {
                                    "isBytes": false,
                                    "isChars": true,
                                    "isSqlVariant": false,
                                    "isUdt": false,
                                    "isXml": false,
                                    "isJson": false,
                                    "sqlDbType": 22,
                                    "isHierarchyId": false,
                                    "isSqlXmlType": false,
                                    "isUnknownType": false,
                                    "isUpdatable": true,
                                    "allowDBNull": false,
                                    "baseCatalogName": null,
                                    "baseColumnName": null,
                                    "baseSchemaName": null,
                                    "baseServerName": null,
                                    "baseTableName": null,
                                    "columnName": "ID",
                                    "columnOrdinal": 0,
                                    "columnSize": 5,
                                    "isAliased": null,
                                    "isAutoIncrement": false,
                                    "isExpression": null,
                                    "isHidden": null,
                                    "isIdentity": false,
                                    "isKey": null,
                                    "isLong": false,
                                    "isReadOnly": false,
                                    "isUnique": false,
                                    "numericPrecision": 255,
                                    "numericScale": 255,
                                    "udtAssemblyQualifiedName": null,
                                    "dataType": "System.String, System.Private.CoreLib, Version=4.0.0.0, Culture=neutral, PublicKeyToken=7cec85d7bea7798e",
                                    "dataTypeName": "varchar"
                                },
                                {
                                    "isBytes": false,
                                    "isChars": true,
                                    "isSqlVariant": false,
                                    "isUdt": false,
                                    "isXml": false,
                                    "isJson": false,
                                    "sqlDbType": 22,
                                    "isHierarchyId": false,
                                    "isSqlXmlType": false,
                                    "isUnknownType": false,
                                    "isUpdatable": true,
                                    "allowDBNull": false,
                                    "baseCatalogName": null,
                                    "baseColumnName": null,
                                    "baseSchemaName": null,
                                    "baseServerName": null,
                                    "baseTableName": null,
                                    "columnName": "name",
                                    "columnOrdinal": 1,
                                    "columnSize": 20,
                                    "isAliased": null,
                                    "isAutoIncrement": false,
                                    "isExpression": null,
                                    "isHidden": null,
                                    "isIdentity": false,
                                    "isKey": null,
                                    "isLong": false,
                                    "isReadOnly": false,
                                    "isUnique": false,
                                    "numericPrecision": 255,
                                    "numericScale": 255,
                                    "udtAssemblyQualifiedName": null,
                                    "dataType": "System.String, System.Private.CoreLib, Version=4.0.0.0, Culture=neutral, PublicKeyToken=7cec85d7bea7798e",
                                    "dataTypeName": "varchar"
                                },
                                {
                                    "isBytes": false,
                                    "isChars": true,
                                    "isSqlVariant": false,
                                    "isUdt": false,
                                    "isXml": false,
                                    "isJson": false,
                                    "sqlDbType": 22,
                                    "isHierarchyId": false,
                                    "isSqlXmlType": false,
                                    "isUnknownType": false,
                                    "isUpdatable": true,
                                    "allowDBNull": true,
                                    "baseCatalogName": null,
                                    "baseColumnName": null,
                                    "baseSchemaName": null,
                                    "baseServerName": null,
                                    "baseTableName": null,
                                    "columnName": "dept_name",
                                    "columnOrdinal": 2,
                                    "columnSize": 20,
                                    "isAliased": null,
                                    "isAutoIncrement": false,
                                    "isExpression": null,
                                    "isHidden": null,
                                    "isIdentity": false,
                                    "isKey": null,
                                    "isLong": false,
                                    "isReadOnly": false,
                                    "isUnique": false,
                                    "numericPrecision": 255,
                                    "numericScale": 255,
                                    "udtAssemblyQualifiedName": null,
                                    "dataType": "System.String, System.Private.CoreLib, Version=4.0.0.0, Culture=neutral, PublicKeyToken=7cec85d7bea7798e",
                                    "dataTypeName": "varchar"
                                },
                                {
                                    "isBytes": false,
                                    "isChars": false,
                                    "isSqlVariant": false,
                                    "isUdt": false,
                                    "isXml": false,
                                    "isJson": false,
                                    "sqlDbType": 5,
                                    "isHierarchyId": false,
                                    "isSqlXmlType": false,
                                    "isUnknownType": false,
                                    "isUpdatable": true,
                                    "allowDBNull": true,
                                    "baseCatalogName": null,
                                    "baseColumnName": null,
                                    "baseSchemaName": null,
                                    "baseServerName": null,
                                    "baseTableName": null,
                                    "columnName": "tot_cred",
                                    "columnOrdinal": 3,
                                    "columnSize": 17,
                                    "isAliased": null,
                                    "isAutoIncrement": false,
                                    "isExpression": null,
                                    "isHidden": null,
                                    "isIdentity": false,
                                    "isKey": null,
                                    "isLong": false,
                                    "isReadOnly": false,
                                    "isUnique": false,
                                    "numericPrecision": 3,
                                    "numericScale": 0,
                                    "udtAssemblyQualifiedName": null,
                                    "dataType": "System.Decimal, System.Private.CoreLib, Version=4.0.0.0, Culture=neutral, PublicKeyToken=7cec85d7bea7798e",
                                    "dataTypeName": "decimal"
                                }
                            ],
                            "specialAction": {
                                "none": true,
                                "expectYukonXMLShowPlan": false
                            }
                        }
                    },
                    "execution_count": 87,
                    "data": {
                        "application/vnd.dataresource+json": {
                            "schema": {
                                "fields": [
                                    {
                                        "name": "ID"
                                    },
                                    {
                                        "name": "name"
                                    },
                                    {
                                        "name": "dept_name"
                                    },
                                    {
                                        "name": "tot_cred"
                                    }
                                ]
                            },
                            "data": [
                                {
                                    "0": "1000",
                                    "1": "Manber",
                                    "2": "Civil Eng.",
                                    "3": "39"
                                },
                                {
                                    "0": "10033",
                                    "1": "Zelty",
                                    "2": "Mech. Eng.",
                                    "3": "60"
                                },
                                {
                                    "0": "10076",
                                    "1": "Duan",
                                    "2": "Civil Eng.",
                                    "3": "105"
                                },
                                {
                                    "0": "1018",
                                    "1": "Colin",
                                    "2": "Civil Eng.",
                                    "3": "81"
                                },
                                {
                                    "0": "10204",
                                    "1": "Mediratta",
                                    "2": "Geology",
                                    "3": "112"
                                },
                                {
                                    "0": "10267",
                                    "1": "Rzecz",
                                    "2": "Comp. Sci.",
                                    "3": "5"
                                }
                            ]
                        },
                        "text/html": [
                            "<table>",
                            "<tr><th>ID</th><th>name</th><th>dept_name</th><th>tot_cred</th></tr>",
                            "<tr><td>1000</td><td>Manber</td><td>Civil Eng.</td><td>39</td></tr>",
                            "<tr><td>10033</td><td>Zelty</td><td>Mech. Eng.</td><td>60</td></tr>",
                            "<tr><td>10076</td><td>Duan</td><td>Civil Eng.</td><td>105</td></tr>",
                            "<tr><td>1018</td><td>Colin</td><td>Civil Eng.</td><td>81</td></tr>",
                            "<tr><td>10204</td><td>Mediratta</td><td>Geology</td><td>112</td></tr>",
                            "<tr><td>10267</td><td>Rzecz</td><td>Comp. Sci.</td><td>5</td></tr>",
                            "</table>"
                        ]
                    }
                }
            ],
            "execution_count": 87
        },
        {
            "cell_type": "markdown",
            "source": [
                "Below you have one possible way of curbing this issue, though there are more such as paramaterizing the query etc."
            ],
            "metadata": {
                "azdata_cell_guid": "4b74687b-4574-4f14-9706-758421dd226b"
            }
        },
        {
            "cell_type": "code",
            "source": [
                "--- Stored Procedure: Queries all rows and cols in a table\n",
                "-- existing, drop it\n",
                "IF EXISTS (SELECT * FROM dbo.sysobjects WHERE id = OBJECT_ID(N'[usp_safely_get_student]'))\n",
                "    BEGIN\n",
                "        DROP PROCEDURE usp_safely_get_student\n",
                "    END;\n",
                "GO\n",
                "CREATE PROC usp_safely_get_student (\n",
                "    @student_name VARCHAR(200)\n",
                ") AS \n",
                "BEGIN\n",
                "    -- declare SQL \n",
                "    DECLARE @sql NVARCHAR(MAX)\n",
                "    -- construct the SQL\n",
                "    SET @sql = N'SELECT TOP 6 * FROM student WHERE name = ''' + REPLACE(@student_name,'''', '''''') + ''''\n",
                "    -- execute it\n",
                "    EXEC sp_executesql @sql;\n",
                "END;\n",
                "GO\n",
                "\n",
                "-- normal query with match\n",
                "EXEC usp_safely_get_student @student_name = 'Zelty';\n",
                "GO\n",
                "-- normal query without match\n",
                "EXEC usp_safely_get_student @student_name = 'Mickey Mouse';\n",
                "GO\n",
                "-- injection of fake name plus a logical condition which evaluates to TRUE\n",
                "EXEC usp_safely_get_student @student_name = ' ''Mickey Mouse'' OR 1 + 1 = 2 ';\n",
                "GO"
            ],
            "metadata": {
                "azdata_cell_guid": "12a9e639-c8bf-412a-b2a6-11af6f28c4d6",
                "tags": []
            },
            "outputs": [
                {
                    "output_type": "display_data",
                    "data": {
                        "text/html": "Commands completed successfully."
                    },
                    "metadata": {}
                },
                {
                    "output_type": "display_data",
                    "data": {
                        "text/html": "Commands completed successfully."
                    },
                    "metadata": {}
                },
                {
                    "output_type": "display_data",
                    "data": {
                        "text/html": "(1 row affected)"
                    },
                    "metadata": {}
                },
                {
                    "output_type": "display_data",
                    "data": {
                        "text/html": "(0 rows affected)"
                    },
                    "metadata": {}
                },
                {
                    "output_type": "display_data",
                    "data": {
                        "text/html": "(0 rows affected)"
                    },
                    "metadata": {}
                },
                {
                    "output_type": "display_data",
                    "data": {
                        "text/html": "Total execution time: 00:00:00.019"
                    },
                    "metadata": {}
                },
                {
                    "output_type": "execute_result",
                    "metadata": {
                        "resultSet": {
                            "id": 0,
                            "batchId": 2,
                            "rowCount": 1,
                            "complete": true,
                            "columnInfo": [
                                {
                                    "isBytes": false,
                                    "isChars": true,
                                    "isSqlVariant": false,
                                    "isUdt": false,
                                    "isXml": false,
                                    "isJson": false,
                                    "sqlDbType": 22,
                                    "isHierarchyId": false,
                                    "isSqlXmlType": false,
                                    "isUnknownType": false,
                                    "isUpdatable": true,
                                    "allowDBNull": false,
                                    "baseCatalogName": null,
                                    "baseColumnName": null,
                                    "baseSchemaName": null,
                                    "baseServerName": null,
                                    "baseTableName": null,
                                    "columnName": "ID",
                                    "columnOrdinal": 0,
                                    "columnSize": 5,
                                    "isAliased": null,
                                    "isAutoIncrement": false,
                                    "isExpression": null,
                                    "isHidden": null,
                                    "isIdentity": false,
                                    "isKey": null,
                                    "isLong": false,
                                    "isReadOnly": false,
                                    "isUnique": false,
                                    "numericPrecision": 255,
                                    "numericScale": 255,
                                    "udtAssemblyQualifiedName": null,
                                    "dataType": "System.String, System.Private.CoreLib, Version=4.0.0.0, Culture=neutral, PublicKeyToken=7cec85d7bea7798e",
                                    "dataTypeName": "varchar"
                                },
                                {
                                    "isBytes": false,
                                    "isChars": true,
                                    "isSqlVariant": false,
                                    "isUdt": false,
                                    "isXml": false,
                                    "isJson": false,
                                    "sqlDbType": 22,
                                    "isHierarchyId": false,
                                    "isSqlXmlType": false,
                                    "isUnknownType": false,
                                    "isUpdatable": true,
                                    "allowDBNull": false,
                                    "baseCatalogName": null,
                                    "baseColumnName": null,
                                    "baseSchemaName": null,
                                    "baseServerName": null,
                                    "baseTableName": null,
                                    "columnName": "name",
                                    "columnOrdinal": 1,
                                    "columnSize": 20,
                                    "isAliased": null,
                                    "isAutoIncrement": false,
                                    "isExpression": null,
                                    "isHidden": null,
                                    "isIdentity": false,
                                    "isKey": null,
                                    "isLong": false,
                                    "isReadOnly": false,
                                    "isUnique": false,
                                    "numericPrecision": 255,
                                    "numericScale": 255,
                                    "udtAssemblyQualifiedName": null,
                                    "dataType": "System.String, System.Private.CoreLib, Version=4.0.0.0, Culture=neutral, PublicKeyToken=7cec85d7bea7798e",
                                    "dataTypeName": "varchar"
                                },
                                {
                                    "isBytes": false,
                                    "isChars": true,
                                    "isSqlVariant": false,
                                    "isUdt": false,
                                    "isXml": false,
                                    "isJson": false,
                                    "sqlDbType": 22,
                                    "isHierarchyId": false,
                                    "isSqlXmlType": false,
                                    "isUnknownType": false,
                                    "isUpdatable": true,
                                    "allowDBNull": true,
                                    "baseCatalogName": null,
                                    "baseColumnName": null,
                                    "baseSchemaName": null,
                                    "baseServerName": null,
                                    "baseTableName": null,
                                    "columnName": "dept_name",
                                    "columnOrdinal": 2,
                                    "columnSize": 20,
                                    "isAliased": null,
                                    "isAutoIncrement": false,
                                    "isExpression": null,
                                    "isHidden": null,
                                    "isIdentity": false,
                                    "isKey": null,
                                    "isLong": false,
                                    "isReadOnly": false,
                                    "isUnique": false,
                                    "numericPrecision": 255,
                                    "numericScale": 255,
                                    "udtAssemblyQualifiedName": null,
                                    "dataType": "System.String, System.Private.CoreLib, Version=4.0.0.0, Culture=neutral, PublicKeyToken=7cec85d7bea7798e",
                                    "dataTypeName": "varchar"
                                },
                                {
                                    "isBytes": false,
                                    "isChars": false,
                                    "isSqlVariant": false,
                                    "isUdt": false,
                                    "isXml": false,
                                    "isJson": false,
                                    "sqlDbType": 5,
                                    "isHierarchyId": false,
                                    "isSqlXmlType": false,
                                    "isUnknownType": false,
                                    "isUpdatable": true,
                                    "allowDBNull": true,
                                    "baseCatalogName": null,
                                    "baseColumnName": null,
                                    "baseSchemaName": null,
                                    "baseServerName": null,
                                    "baseTableName": null,
                                    "columnName": "tot_cred",
                                    "columnOrdinal": 3,
                                    "columnSize": 17,
                                    "isAliased": null,
                                    "isAutoIncrement": false,
                                    "isExpression": null,
                                    "isHidden": null,
                                    "isIdentity": false,
                                    "isKey": null,
                                    "isLong": false,
                                    "isReadOnly": false,
                                    "isUnique": false,
                                    "numericPrecision": 3,
                                    "numericScale": 0,
                                    "udtAssemblyQualifiedName": null,
                                    "dataType": "System.Decimal, System.Private.CoreLib, Version=4.0.0.0, Culture=neutral, PublicKeyToken=7cec85d7bea7798e",
                                    "dataTypeName": "decimal"
                                }
                            ],
                            "specialAction": {
                                "none": true,
                                "expectYukonXMLShowPlan": false
                            }
                        }
                    },
                    "execution_count": 84,
                    "data": {
                        "application/vnd.dataresource+json": {
                            "schema": {
                                "fields": [
                                    {
                                        "name": "ID"
                                    },
                                    {
                                        "name": "name"
                                    },
                                    {
                                        "name": "dept_name"
                                    },
                                    {
                                        "name": "tot_cred"
                                    }
                                ]
                            },
                            "data": [
                                {
                                    "0": "10033",
                                    "1": "Zelty",
                                    "2": "Mech. Eng.",
                                    "3": "60"
                                }
                            ]
                        },
                        "text/html": [
                            "<table>",
                            "<tr><th>ID</th><th>name</th><th>dept_name</th><th>tot_cred</th></tr>",
                            "<tr><td>10033</td><td>Zelty</td><td>Mech. Eng.</td><td>60</td></tr>",
                            "</table>"
                        ]
                    }
                },
                {
                    "output_type": "execute_result",
                    "metadata": {
                        "resultSet": {
                            "id": 0,
                            "batchId": 3,
                            "rowCount": 0,
                            "complete": false,
                            "columnInfo": [
                                {
                                    "isBytes": false,
                                    "isChars": true,
                                    "isSqlVariant": false,
                                    "isUdt": false,
                                    "isXml": false,
                                    "isJson": false,
                                    "sqlDbType": 22,
                                    "isHierarchyId": false,
                                    "isSqlXmlType": false,
                                    "isUnknownType": false,
                                    "isUpdatable": true,
                                    "allowDBNull": false,
                                    "baseCatalogName": null,
                                    "baseColumnName": null,
                                    "baseSchemaName": null,
                                    "baseServerName": null,
                                    "baseTableName": null,
                                    "columnName": "ID",
                                    "columnOrdinal": 0,
                                    "columnSize": 5,
                                    "isAliased": null,
                                    "isAutoIncrement": false,
                                    "isExpression": null,
                                    "isHidden": null,
                                    "isIdentity": false,
                                    "isKey": null,
                                    "isLong": false,
                                    "isReadOnly": false,
                                    "isUnique": false,
                                    "numericPrecision": 255,
                                    "numericScale": 255,
                                    "udtAssemblyQualifiedName": null,
                                    "dataType": "System.String, System.Private.CoreLib, Version=4.0.0.0, Culture=neutral, PublicKeyToken=7cec85d7bea7798e",
                                    "dataTypeName": "varchar"
                                },
                                {
                                    "isBytes": false,
                                    "isChars": true,
                                    "isSqlVariant": false,
                                    "isUdt": false,
                                    "isXml": false,
                                    "isJson": false,
                                    "sqlDbType": 22,
                                    "isHierarchyId": false,
                                    "isSqlXmlType": false,
                                    "isUnknownType": false,
                                    "isUpdatable": true,
                                    "allowDBNull": false,
                                    "baseCatalogName": null,
                                    "baseColumnName": null,
                                    "baseSchemaName": null,
                                    "baseServerName": null,
                                    "baseTableName": null,
                                    "columnName": "name",
                                    "columnOrdinal": 1,
                                    "columnSize": 20,
                                    "isAliased": null,
                                    "isAutoIncrement": false,
                                    "isExpression": null,
                                    "isHidden": null,
                                    "isIdentity": false,
                                    "isKey": null,
                                    "isLong": false,
                                    "isReadOnly": false,
                                    "isUnique": false,
                                    "numericPrecision": 255,
                                    "numericScale": 255,
                                    "udtAssemblyQualifiedName": null,
                                    "dataType": "System.String, System.Private.CoreLib, Version=4.0.0.0, Culture=neutral, PublicKeyToken=7cec85d7bea7798e",
                                    "dataTypeName": "varchar"
                                },
                                {
                                    "isBytes": false,
                                    "isChars": true,
                                    "isSqlVariant": false,
                                    "isUdt": false,
                                    "isXml": false,
                                    "isJson": false,
                                    "sqlDbType": 22,
                                    "isHierarchyId": false,
                                    "isSqlXmlType": false,
                                    "isUnknownType": false,
                                    "isUpdatable": true,
                                    "allowDBNull": true,
                                    "baseCatalogName": null,
                                    "baseColumnName": null,
                                    "baseSchemaName": null,
                                    "baseServerName": null,
                                    "baseTableName": null,
                                    "columnName": "dept_name",
                                    "columnOrdinal": 2,
                                    "columnSize": 20,
                                    "isAliased": null,
                                    "isAutoIncrement": false,
                                    "isExpression": null,
                                    "isHidden": null,
                                    "isIdentity": false,
                                    "isKey": null,
                                    "isLong": false,
                                    "isReadOnly": false,
                                    "isUnique": false,
                                    "numericPrecision": 255,
                                    "numericScale": 255,
                                    "udtAssemblyQualifiedName": null,
                                    "dataType": "System.String, System.Private.CoreLib, Version=4.0.0.0, Culture=neutral, PublicKeyToken=7cec85d7bea7798e",
                                    "dataTypeName": "varchar"
                                },
                                {
                                    "isBytes": false,
                                    "isChars": false,
                                    "isSqlVariant": false,
                                    "isUdt": false,
                                    "isXml": false,
                                    "isJson": false,
                                    "sqlDbType": 5,
                                    "isHierarchyId": false,
                                    "isSqlXmlType": false,
                                    "isUnknownType": false,
                                    "isUpdatable": true,
                                    "allowDBNull": true,
                                    "baseCatalogName": null,
                                    "baseColumnName": null,
                                    "baseSchemaName": null,
                                    "baseServerName": null,
                                    "baseTableName": null,
                                    "columnName": "tot_cred",
                                    "columnOrdinal": 3,
                                    "columnSize": 17,
                                    "isAliased": null,
                                    "isAutoIncrement": false,
                                    "isExpression": null,
                                    "isHidden": null,
                                    "isIdentity": false,
                                    "isKey": null,
                                    "isLong": false,
                                    "isReadOnly": false,
                                    "isUnique": false,
                                    "numericPrecision": 3,
                                    "numericScale": 0,
                                    "udtAssemblyQualifiedName": null,
                                    "dataType": "System.Decimal, System.Private.CoreLib, Version=4.0.0.0, Culture=neutral, PublicKeyToken=7cec85d7bea7798e",
                                    "dataTypeName": "decimal"
                                }
                            ],
                            "specialAction": null
                        }
                    },
                    "execution_count": 84,
                    "data": {
                        "application/vnd.dataresource+json": {
                            "schema": {
                                "fields": [
                                    {
                                        "name": "ID"
                                    },
                                    {
                                        "name": "name"
                                    },
                                    {
                                        "name": "dept_name"
                                    },
                                    {
                                        "name": "tot_cred"
                                    }
                                ]
                            },
                            "data": []
                        },
                        "text/html": [
                            "<table>",
                            "<tr><th>ID</th><th>name</th><th>dept_name</th><th>tot_cred</th></tr>",
                            "</table>"
                        ]
                    }
                },
                {
                    "output_type": "execute_result",
                    "metadata": {
                        "resultSet": {
                            "id": 0,
                            "batchId": 4,
                            "rowCount": 0,
                            "complete": false,
                            "columnInfo": [
                                {
                                    "isBytes": false,
                                    "isChars": true,
                                    "isSqlVariant": false,
                                    "isUdt": false,
                                    "isXml": false,
                                    "isJson": false,
                                    "sqlDbType": 22,
                                    "isHierarchyId": false,
                                    "isSqlXmlType": false,
                                    "isUnknownType": false,
                                    "isUpdatable": true,
                                    "allowDBNull": false,
                                    "baseCatalogName": null,
                                    "baseColumnName": null,
                                    "baseSchemaName": null,
                                    "baseServerName": null,
                                    "baseTableName": null,
                                    "columnName": "ID",
                                    "columnOrdinal": 0,
                                    "columnSize": 5,
                                    "isAliased": null,
                                    "isAutoIncrement": false,
                                    "isExpression": null,
                                    "isHidden": null,
                                    "isIdentity": false,
                                    "isKey": null,
                                    "isLong": false,
                                    "isReadOnly": false,
                                    "isUnique": false,
                                    "numericPrecision": 255,
                                    "numericScale": 255,
                                    "udtAssemblyQualifiedName": null,
                                    "dataType": "System.String, System.Private.CoreLib, Version=4.0.0.0, Culture=neutral, PublicKeyToken=7cec85d7bea7798e",
                                    "dataTypeName": "varchar"
                                },
                                {
                                    "isBytes": false,
                                    "isChars": true,
                                    "isSqlVariant": false,
                                    "isUdt": false,
                                    "isXml": false,
                                    "isJson": false,
                                    "sqlDbType": 22,
                                    "isHierarchyId": false,
                                    "isSqlXmlType": false,
                                    "isUnknownType": false,
                                    "isUpdatable": true,
                                    "allowDBNull": false,
                                    "baseCatalogName": null,
                                    "baseColumnName": null,
                                    "baseSchemaName": null,
                                    "baseServerName": null,
                                    "baseTableName": null,
                                    "columnName": "name",
                                    "columnOrdinal": 1,
                                    "columnSize": 20,
                                    "isAliased": null,
                                    "isAutoIncrement": false,
                                    "isExpression": null,
                                    "isHidden": null,
                                    "isIdentity": false,
                                    "isKey": null,
                                    "isLong": false,
                                    "isReadOnly": false,
                                    "isUnique": false,
                                    "numericPrecision": 255,
                                    "numericScale": 255,
                                    "udtAssemblyQualifiedName": null,
                                    "dataType": "System.String, System.Private.CoreLib, Version=4.0.0.0, Culture=neutral, PublicKeyToken=7cec85d7bea7798e",
                                    "dataTypeName": "varchar"
                                },
                                {
                                    "isBytes": false,
                                    "isChars": true,
                                    "isSqlVariant": false,
                                    "isUdt": false,
                                    "isXml": false,
                                    "isJson": false,
                                    "sqlDbType": 22,
                                    "isHierarchyId": false,
                                    "isSqlXmlType": false,
                                    "isUnknownType": false,
                                    "isUpdatable": true,
                                    "allowDBNull": true,
                                    "baseCatalogName": null,
                                    "baseColumnName": null,
                                    "baseSchemaName": null,
                                    "baseServerName": null,
                                    "baseTableName": null,
                                    "columnName": "dept_name",
                                    "columnOrdinal": 2,
                                    "columnSize": 20,
                                    "isAliased": null,
                                    "isAutoIncrement": false,
                                    "isExpression": null,
                                    "isHidden": null,
                                    "isIdentity": false,
                                    "isKey": null,
                                    "isLong": false,
                                    "isReadOnly": false,
                                    "isUnique": false,
                                    "numericPrecision": 255,
                                    "numericScale": 255,
                                    "udtAssemblyQualifiedName": null,
                                    "dataType": "System.String, System.Private.CoreLib, Version=4.0.0.0, Culture=neutral, PublicKeyToken=7cec85d7bea7798e",
                                    "dataTypeName": "varchar"
                                },
                                {
                                    "isBytes": false,
                                    "isChars": false,
                                    "isSqlVariant": false,
                                    "isUdt": false,
                                    "isXml": false,
                                    "isJson": false,
                                    "sqlDbType": 5,
                                    "isHierarchyId": false,
                                    "isSqlXmlType": false,
                                    "isUnknownType": false,
                                    "isUpdatable": true,
                                    "allowDBNull": true,
                                    "baseCatalogName": null,
                                    "baseColumnName": null,
                                    "baseSchemaName": null,
                                    "baseServerName": null,
                                    "baseTableName": null,
                                    "columnName": "tot_cred",
                                    "columnOrdinal": 3,
                                    "columnSize": 17,
                                    "isAliased": null,
                                    "isAutoIncrement": false,
                                    "isExpression": null,
                                    "isHidden": null,
                                    "isIdentity": false,
                                    "isKey": null,
                                    "isLong": false,
                                    "isReadOnly": false,
                                    "isUnique": false,
                                    "numericPrecision": 3,
                                    "numericScale": 0,
                                    "udtAssemblyQualifiedName": null,
                                    "dataType": "System.Decimal, System.Private.CoreLib, Version=4.0.0.0, Culture=neutral, PublicKeyToken=7cec85d7bea7798e",
                                    "dataTypeName": "decimal"
                                }
                            ],
                            "specialAction": null
                        }
                    },
                    "execution_count": 84,
                    "data": {
                        "application/vnd.dataresource+json": {
                            "schema": {
                                "fields": [
                                    {
                                        "name": "ID"
                                    },
                                    {
                                        "name": "name"
                                    },
                                    {
                                        "name": "dept_name"
                                    },
                                    {
                                        "name": "tot_cred"
                                    }
                                ]
                            },
                            "data": []
                        },
                        "text/html": [
                            "<table>",
                            "<tr><th>ID</th><th>name</th><th>dept_name</th><th>tot_cred</th></tr>",
                            "</table>"
                        ]
                    }
                }
            ],
            "execution_count": 84
        }
    ]
}