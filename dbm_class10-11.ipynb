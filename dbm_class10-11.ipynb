{
    "metadata": {
        "kernelspec": {
            "name": "SQL",
            "display_name": "SQL",
            "language": "sql"
        },
        "language_info": {
            "name": "sql",
            "version": ""
        }
    },
    "nbformat_minor": 2,
    "nbformat": 4,
    "cells": [
        {
            "cell_type": "markdown",
            "source": [
                "# Advanced SQL\n",
                "\n",
                "## Functions and Procedures\n",
                "\n",
                "We have already seen several functions that are built into the SQL language. In this section, we show how developers can write their ow functions and procedures, and **store them in the database** so as to invoke them from SQL statements. \n",
                "\n",
                "SQL allows for the definition of functions, procedures, and methods.\n",
                "\n",
                "### Declaring and Invoking MSSQL functions and procedures\n",
                "\n",
                "Suppose that we want a function that, given the name of a department, returns the count of the number of instructors in that department. "
            ],
            "metadata": {
                "azdata_cell_guid": "41eea18a-0708-4c8f-a15b-df2e5cf71228"
            }
        },
        {
            "cell_type": "code",
            "source": [
                "-- select the database\n",
                "USE uni;\n",
                "GO\n",
                "-- existing, drop it\n",
                "IF EXISTS (SELECT  * FROM dbo.sysobjects WHERE id = OBJECT_ID(N'[dbo].[instructor_count]'))\n",
                "    BEGIN\n",
                "        DROP FUNCTION dbo.instructor_count\n",
                "    END;\n",
                "GO\n",
                "\n",
                "-- define the function\n",
                "CREATE FUNCTION dbo.instructor_count(@dept_name VARCHAR(20))\n",
                "RETURNS INT \n",
                "AS\n",
                "BEGIN\n",
                "    -- Declare the return variable here\n",
                "    DECLARE @instructor_n INT\n",
                "    -- Make the query\n",
                "    SELECT @instructor_n = COUNT(*)\n",
                "    FROM instructor\n",
                "    WHERE instructor.dept_name = @dept_name\n",
                "    -- return\n",
                "    RETURN @instructor_n\n",
                "END;\n",
                "GO\n",
                ""
            ],
            "metadata": {
                "azdata_cell_guid": "c5d29a8e-4b1b-4468-a5bb-8c0815bf9ed8"
            },
            "outputs": [
                {
                    "output_type": "display_data",
                    "data": {
                        "text/html": "Commands completed successfully."
                    },
                    "metadata": {}
                },
                {
                    "output_type": "display_data",
                    "data": {
                        "text/html": "Commands completed successfully."
                    },
                    "metadata": {}
                },
                {
                    "output_type": "display_data",
                    "data": {
                        "text/html": "Commands completed successfully."
                    },
                    "metadata": {}
                },
                {
                    "output_type": "display_data",
                    "data": {
                        "text/html": "Total execution time: 00:00:00.017"
                    },
                    "metadata": {}
                }
            ],
            "execution_count": 6
        },
        {
            "cell_type": "code",
            "source": [
                "-- test it\n",
                "SELECT dbo.instructor_count('Statistics') AS inst_n;\n",
                "GO\n",
                "\n",
                "SELECT COUNT(*) AS inst_n\n",
                "FROM instructor\n",
                "WHERE instructor.dept_name = 'Statistics';\n",
                "GO"
            ],
            "metadata": {
                "azdata_cell_guid": "8c99670c-687a-491f-8c8d-328da57fcdb2"
            },
            "outputs": [
                {
                    "output_type": "display_data",
                    "data": {
                        "text/html": "(1 row affected)"
                    },
                    "metadata": {}
                },
                {
                    "output_type": "display_data",
                    "data": {
                        "text/html": "(1 row affected)"
                    },
                    "metadata": {}
                },
                {
                    "output_type": "display_data",
                    "data": {
                        "text/html": "Total execution time: 00:00:00.036"
                    },
                    "metadata": {}
                },
                {
                    "output_type": "execute_result",
                    "metadata": {
                        "resultSet": {
                            "id": 0,
                            "batchId": 0,
                            "rowCount": 1,
                            "complete": false,
                            "columnInfo": [
                                {
                                    "isBytes": false,
                                    "isChars": false,
                                    "isSqlVariant": false,
                                    "isUdt": false,
                                    "isXml": false,
                                    "isJson": false,
                                    "sqlDbType": 8,
                                    "isHierarchyId": false,
                                    "isSqlXmlType": false,
                                    "isUnknownType": false,
                                    "isUpdatable": false,
                                    "allowDBNull": true,
                                    "baseCatalogName": null,
                                    "baseColumnName": null,
                                    "baseSchemaName": null,
                                    "baseServerName": null,
                                    "baseTableName": null,
                                    "columnName": "inst_n",
                                    "columnOrdinal": 0,
                                    "columnSize": 4,
                                    "isAliased": null,
                                    "isAutoIncrement": false,
                                    "isExpression": null,
                                    "isHidden": null,
                                    "isIdentity": false,
                                    "isKey": null,
                                    "isLong": false,
                                    "isReadOnly": true,
                                    "isUnique": false,
                                    "numericPrecision": 10,
                                    "numericScale": 255,
                                    "udtAssemblyQualifiedName": null,
                                    "dataType": "System.Int32, System.Private.CoreLib, Version=4.0.0.0, Culture=neutral, PublicKeyToken=7cec85d7bea7798e",
                                    "dataTypeName": "int"
                                }
                            ],
                            "specialAction": null
                        }
                    },
                    "execution_count": 4,
                    "data": {
                        "application/vnd.dataresource+json": {
                            "schema": {
                                "fields": [
                                    {
                                        "name": "inst_n"
                                    }
                                ]
                            },
                            "data": [
                                {
                                    "0": "6"
                                }
                            ]
                        },
                        "text/html": [
                            "<table>",
                            "<tr><th>inst_n</th></tr>",
                            "<tr><td>6</td></tr>",
                            "</table>"
                        ]
                    }
                },
                {
                    "output_type": "execute_result",
                    "metadata": {
                        "resultSet": {
                            "id": 0,
                            "batchId": 1,
                            "rowCount": 1,
                            "complete": true,
                            "columnInfo": [
                                {
                                    "isBytes": false,
                                    "isChars": false,
                                    "isSqlVariant": false,
                                    "isUdt": false,
                                    "isXml": false,
                                    "isJson": false,
                                    "sqlDbType": 8,
                                    "isHierarchyId": false,
                                    "isSqlXmlType": false,
                                    "isUnknownType": false,
                                    "isUpdatable": false,
                                    "allowDBNull": true,
                                    "baseCatalogName": null,
                                    "baseColumnName": null,
                                    "baseSchemaName": null,
                                    "baseServerName": null,
                                    "baseTableName": null,
                                    "columnName": "inst_n",
                                    "columnOrdinal": 0,
                                    "columnSize": 4,
                                    "isAliased": null,
                                    "isAutoIncrement": false,
                                    "isExpression": null,
                                    "isHidden": null,
                                    "isIdentity": false,
                                    "isKey": null,
                                    "isLong": false,
                                    "isReadOnly": true,
                                    "isUnique": false,
                                    "numericPrecision": 10,
                                    "numericScale": 255,
                                    "udtAssemblyQualifiedName": null,
                                    "dataType": "System.Int32, System.Private.CoreLib, Version=4.0.0.0, Culture=neutral, PublicKeyToken=7cec85d7bea7798e",
                                    "dataTypeName": "int"
                                }
                            ],
                            "specialAction": {
                                "none": true,
                                "expectYukonXMLShowPlan": false
                            }
                        }
                    },
                    "execution_count": 4,
                    "data": {
                        "application/vnd.dataresource+json": {
                            "schema": {
                                "fields": [
                                    {
                                        "name": "inst_n"
                                    }
                                ]
                            },
                            "data": [
                                {
                                    "0": "6"
                                }
                            ]
                        },
                        "text/html": [
                            "<table>",
                            "<tr><th>inst_n</th></tr>",
                            "<tr><td>6</td></tr>",
                            "</table>"
                        ]
                    }
                }
            ],
            "execution_count": 4
        },
        {
            "cell_type": "markdown",
            "source": [
                "This function returns all the professors names as well as ids for a department. This is an example of a table function which is relatively different in its definition from scalar output functions such as the one above."
            ],
            "metadata": {
                "azdata_cell_guid": "c82b2b64-eaf3-4728-8e12-c0ced832bca8"
            }
        },
        {
            "cell_type": "code",
            "source": [
                "-- existing, drop it\n",
                "IF EXISTS (SELECT  * FROM dbo.sysobjects WHERE id = OBJECT_ID(N'[dbo].[dept_instructors]'))\n",
                "    BEGIN\n",
                "        DROP FUNCTION dbo.dept_instructors\n",
                "    END;\n",
                "GO\n",
                "\n",
                "CREATE FUNCTION dbo.dept_instructors(@dept_name VARCHAR(20))\n",
                "RETURNS TABLE\n",
                "AS \n",
                "RETURN(\n",
                "    SELECT [name], ID \n",
                "    FROM instructor \n",
                "    WHERE dept_name = @dept_name \n",
                ");\n",
                "GO\n",
                ""
            ],
            "metadata": {
                "azdata_cell_guid": "4136ffd7-15ce-4786-a016-e543ceded163",
                "tags": []
            },
            "outputs": [
                {
                    "output_type": "display_data",
                    "data": {
                        "text/html": "Commands completed successfully."
                    },
                    "metadata": {}
                },
                {
                    "output_type": "display_data",
                    "data": {
                        "text/html": "Commands completed successfully."
                    },
                    "metadata": {}
                },
                {
                    "output_type": "display_data",
                    "data": {
                        "text/html": "Total execution time: 00:00:00.012"
                    },
                    "metadata": {}
                }
            ],
            "execution_count": 7
        },
        {
            "cell_type": "code",
            "source": [
                "-- test it\n",
                "SELECT * FROM dbo.dept_instructors('Statistics');\n",
                "GO\n",
                "\n",
                "SELECT [name], ID \n",
                "FROM instructor \n",
                "WHERE dept_name = 'Statistics';\n",
                "GO"
            ],
            "metadata": {
                "azdata_cell_guid": "dd09e608-fe89-4a4f-a812-883a0742ed96"
            },
            "outputs": [
                {
                    "output_type": "display_data",
                    "data": {
                        "text/html": "(6 rows affected)"
                    },
                    "metadata": {}
                },
                {
                    "output_type": "display_data",
                    "data": {
                        "text/html": "(6 rows affected)"
                    },
                    "metadata": {}
                },
                {
                    "output_type": "display_data",
                    "data": {
                        "text/html": "Total execution time: 00:00:00.018"
                    },
                    "metadata": {}
                },
                {
                    "output_type": "execute_result",
                    "metadata": {
                        "resultSet": {
                            "id": 0,
                            "batchId": 0,
                            "rowCount": 6,
                            "complete": true,
                            "columnInfo": [
                                {
                                    "isBytes": false,
                                    "isChars": true,
                                    "isSqlVariant": false,
                                    "isUdt": false,
                                    "isXml": false,
                                    "isJson": false,
                                    "sqlDbType": 22,
                                    "isHierarchyId": false,
                                    "isSqlXmlType": false,
                                    "isUnknownType": false,
                                    "isUpdatable": true,
                                    "allowDBNull": false,
                                    "baseCatalogName": null,
                                    "baseColumnName": null,
                                    "baseSchemaName": null,
                                    "baseServerName": null,
                                    "baseTableName": null,
                                    "columnName": "name",
                                    "columnOrdinal": 0,
                                    "columnSize": 20,
                                    "isAliased": null,
                                    "isAutoIncrement": false,
                                    "isExpression": null,
                                    "isHidden": null,
                                    "isIdentity": false,
                                    "isKey": null,
                                    "isLong": false,
                                    "isReadOnly": false,
                                    "isUnique": false,
                                    "numericPrecision": 255,
                                    "numericScale": 255,
                                    "udtAssemblyQualifiedName": null,
                                    "dataType": "System.String, System.Private.CoreLib, Version=4.0.0.0, Culture=neutral, PublicKeyToken=7cec85d7bea7798e",
                                    "dataTypeName": "varchar"
                                },
                                {
                                    "isBytes": false,
                                    "isChars": true,
                                    "isSqlVariant": false,
                                    "isUdt": false,
                                    "isXml": false,
                                    "isJson": false,
                                    "sqlDbType": 22,
                                    "isHierarchyId": false,
                                    "isSqlXmlType": false,
                                    "isUnknownType": false,
                                    "isUpdatable": true,
                                    "allowDBNull": false,
                                    "baseCatalogName": null,
                                    "baseColumnName": null,
                                    "baseSchemaName": null,
                                    "baseServerName": null,
                                    "baseTableName": null,
                                    "columnName": "ID",
                                    "columnOrdinal": 1,
                                    "columnSize": 5,
                                    "isAliased": null,
                                    "isAutoIncrement": false,
                                    "isExpression": null,
                                    "isHidden": null,
                                    "isIdentity": false,
                                    "isKey": null,
                                    "isLong": false,
                                    "isReadOnly": false,
                                    "isUnique": false,
                                    "numericPrecision": 255,
                                    "numericScale": 255,
                                    "udtAssemblyQualifiedName": null,
                                    "dataType": "System.String, System.Private.CoreLib, Version=4.0.0.0, Culture=neutral, PublicKeyToken=7cec85d7bea7798e",
                                    "dataTypeName": "varchar"
                                }
                            ],
                            "specialAction": {
                                "none": true,
                                "expectYukonXMLShowPlan": false
                            }
                        }
                    },
                    "execution_count": 8,
                    "data": {
                        "application/vnd.dataresource+json": {
                            "schema": {
                                "fields": [
                                    {
                                        "name": "name"
                                    },
                                    {
                                        "name": "ID"
                                    }
                                ]
                            },
                            "data": [
                                {
                                    "0": "Atanassov",
                                    "1": "28400"
                                },
                                {
                                    "0": "Arias",
                                    "1": "37687"
                                },
                                {
                                    "0": "Gutierrez",
                                    "1": "64871"
                                },
                                {
                                    "0": "Pingr",
                                    "1": "78699"
                                },
                                {
                                    "0": "Choll",
                                    "1": "90643"
                                },
                                {
                                    "0": "Arinb",
                                    "1": "95030"
                                }
                            ]
                        },
                        "text/html": [
                            "<table>",
                            "<tr><th>name</th><th>ID</th></tr>",
                            "<tr><td>Atanassov</td><td>28400</td></tr>",
                            "<tr><td>Arias</td><td>37687</td></tr>",
                            "<tr><td>Gutierrez</td><td>64871</td></tr>",
                            "<tr><td>Pingr</td><td>78699</td></tr>",
                            "<tr><td>Choll</td><td>90643</td></tr>",
                            "<tr><td>Arinb</td><td>95030</td></tr>",
                            "</table>"
                        ]
                    }
                },
                {
                    "output_type": "execute_result",
                    "metadata": {
                        "resultSet": {
                            "id": 0,
                            "batchId": 1,
                            "rowCount": 6,
                            "complete": true,
                            "columnInfo": [
                                {
                                    "isBytes": false,
                                    "isChars": true,
                                    "isSqlVariant": false,
                                    "isUdt": false,
                                    "isXml": false,
                                    "isJson": false,
                                    "sqlDbType": 22,
                                    "isHierarchyId": false,
                                    "isSqlXmlType": false,
                                    "isUnknownType": false,
                                    "isUpdatable": true,
                                    "allowDBNull": false,
                                    "baseCatalogName": null,
                                    "baseColumnName": null,
                                    "baseSchemaName": null,
                                    "baseServerName": null,
                                    "baseTableName": null,
                                    "columnName": "name",
                                    "columnOrdinal": 0,
                                    "columnSize": 20,
                                    "isAliased": null,
                                    "isAutoIncrement": false,
                                    "isExpression": null,
                                    "isHidden": null,
                                    "isIdentity": false,
                                    "isKey": null,
                                    "isLong": false,
                                    "isReadOnly": false,
                                    "isUnique": false,
                                    "numericPrecision": 255,
                                    "numericScale": 255,
                                    "udtAssemblyQualifiedName": null,
                                    "dataType": "System.String, System.Private.CoreLib, Version=4.0.0.0, Culture=neutral, PublicKeyToken=7cec85d7bea7798e",
                                    "dataTypeName": "varchar"
                                },
                                {
                                    "isBytes": false,
                                    "isChars": true,
                                    "isSqlVariant": false,
                                    "isUdt": false,
                                    "isXml": false,
                                    "isJson": false,
                                    "sqlDbType": 22,
                                    "isHierarchyId": false,
                                    "isSqlXmlType": false,
                                    "isUnknownType": false,
                                    "isUpdatable": true,
                                    "allowDBNull": false,
                                    "baseCatalogName": null,
                                    "baseColumnName": null,
                                    "baseSchemaName": null,
                                    "baseServerName": null,
                                    "baseTableName": null,
                                    "columnName": "ID",
                                    "columnOrdinal": 1,
                                    "columnSize": 5,
                                    "isAliased": null,
                                    "isAutoIncrement": false,
                                    "isExpression": null,
                                    "isHidden": null,
                                    "isIdentity": false,
                                    "isKey": null,
                                    "isLong": false,
                                    "isReadOnly": false,
                                    "isUnique": false,
                                    "numericPrecision": 255,
                                    "numericScale": 255,
                                    "udtAssemblyQualifiedName": null,
                                    "dataType": "System.String, System.Private.CoreLib, Version=4.0.0.0, Culture=neutral, PublicKeyToken=7cec85d7bea7798e",
                                    "dataTypeName": "varchar"
                                }
                            ],
                            "specialAction": {
                                "none": true,
                                "expectYukonXMLShowPlan": false
                            }
                        }
                    },
                    "execution_count": 8,
                    "data": {
                        "application/vnd.dataresource+json": {
                            "schema": {
                                "fields": [
                                    {
                                        "name": "name"
                                    },
                                    {
                                        "name": "ID"
                                    }
                                ]
                            },
                            "data": [
                                {
                                    "0": "Atanassov",
                                    "1": "28400"
                                },
                                {
                                    "0": "Arias",
                                    "1": "37687"
                                },
                                {
                                    "0": "Gutierrez",
                                    "1": "64871"
                                },
                                {
                                    "0": "Pingr",
                                    "1": "78699"
                                },
                                {
                                    "0": "Choll",
                                    "1": "90643"
                                },
                                {
                                    "0": "Arinb",
                                    "1": "95030"
                                }
                            ]
                        },
                        "text/html": [
                            "<table>",
                            "<tr><th>name</th><th>ID</th></tr>",
                            "<tr><td>Atanassov</td><td>28400</td></tr>",
                            "<tr><td>Arias</td><td>37687</td></tr>",
                            "<tr><td>Gutierrez</td><td>64871</td></tr>",
                            "<tr><td>Pingr</td><td>78699</td></tr>",
                            "<tr><td>Choll</td><td>90643</td></tr>",
                            "<tr><td>Arinb</td><td>95030</td></tr>",
                            "</table>"
                        ]
                    }
                }
            ],
            "execution_count": 8
        },
        {
            "cell_type": "markdown",
            "source": [
                "Below we generate a stored procedure which does exactly the same."
            ],
            "metadata": {
                "azdata_cell_guid": "09aec1d5-a897-46b8-9afe-0df14aaa1426"
            }
        },
        {
            "cell_type": "code",
            "source": [
                "-- existing, drop it\n",
                "IF EXISTS (SELECT  * FROM dbo.sysobjects WHERE id = OBJECT_ID(N'[dbo].[dept_instructors_proc]'))\n",
                "    BEGIN\n",
                "        DROP PROCEDURE dbo.dept_instructors_proc\n",
                "    END;\n",
                "GO\n",
                "\n",
                "-- define the stored procedure\n",
                "CREATE PROCEDURE dbo.dept_instructors_proc(@dept_name VARCHAR(20))\n",
                "AS\n",
                "BEGIN\n",
                "    SELECT [name], ID \n",
                "    FROM instructor \n",
                "    WHERE dept_name = @dept_name\n",
                "END;\n",
                "GO\n",
                "\n",
                "-- Running it\n",
                "EXEC dept_instructors_proc @dept_name = 'Statistics';\n",
                "GO"
            ],
            "metadata": {
                "azdata_cell_guid": "fc38eb76-55ee-4792-a838-ac48878b1b9f"
            },
            "outputs": [
                {
                    "output_type": "display_data",
                    "data": {
                        "text/html": "Commands completed successfully."
                    },
                    "metadata": {}
                },
                {
                    "output_type": "display_data",
                    "data": {
                        "text/html": "Commands completed successfully."
                    },
                    "metadata": {}
                },
                {
                    "output_type": "display_data",
                    "data": {
                        "text/html": "(6 rows affected)"
                    },
                    "metadata": {}
                },
                {
                    "output_type": "display_data",
                    "data": {
                        "text/html": "Total execution time: 00:00:00.018"
                    },
                    "metadata": {}
                },
                {
                    "output_type": "execute_result",
                    "metadata": {
                        "resultSet": {
                            "id": 0,
                            "batchId": 2,
                            "rowCount": 6,
                            "complete": true,
                            "columnInfo": [
                                {
                                    "isBytes": false,
                                    "isChars": true,
                                    "isSqlVariant": false,
                                    "isUdt": false,
                                    "isXml": false,
                                    "isJson": false,
                                    "sqlDbType": 22,
                                    "isHierarchyId": false,
                                    "isSqlXmlType": false,
                                    "isUnknownType": false,
                                    "isUpdatable": true,
                                    "allowDBNull": false,
                                    "baseCatalogName": null,
                                    "baseColumnName": null,
                                    "baseSchemaName": null,
                                    "baseServerName": null,
                                    "baseTableName": null,
                                    "columnName": "name",
                                    "columnOrdinal": 0,
                                    "columnSize": 20,
                                    "isAliased": null,
                                    "isAutoIncrement": false,
                                    "isExpression": null,
                                    "isHidden": null,
                                    "isIdentity": false,
                                    "isKey": null,
                                    "isLong": false,
                                    "isReadOnly": false,
                                    "isUnique": false,
                                    "numericPrecision": 255,
                                    "numericScale": 255,
                                    "udtAssemblyQualifiedName": null,
                                    "dataType": "System.String, System.Private.CoreLib, Version=4.0.0.0, Culture=neutral, PublicKeyToken=7cec85d7bea7798e",
                                    "dataTypeName": "varchar"
                                },
                                {
                                    "isBytes": false,
                                    "isChars": true,
                                    "isSqlVariant": false,
                                    "isUdt": false,
                                    "isXml": false,
                                    "isJson": false,
                                    "sqlDbType": 22,
                                    "isHierarchyId": false,
                                    "isSqlXmlType": false,
                                    "isUnknownType": false,
                                    "isUpdatable": true,
                                    "allowDBNull": false,
                                    "baseCatalogName": null,
                                    "baseColumnName": null,
                                    "baseSchemaName": null,
                                    "baseServerName": null,
                                    "baseTableName": null,
                                    "columnName": "ID",
                                    "columnOrdinal": 1,
                                    "columnSize": 5,
                                    "isAliased": null,
                                    "isAutoIncrement": false,
                                    "isExpression": null,
                                    "isHidden": null,
                                    "isIdentity": false,
                                    "isKey": null,
                                    "isLong": false,
                                    "isReadOnly": false,
                                    "isUnique": false,
                                    "numericPrecision": 255,
                                    "numericScale": 255,
                                    "udtAssemblyQualifiedName": null,
                                    "dataType": "System.String, System.Private.CoreLib, Version=4.0.0.0, Culture=neutral, PublicKeyToken=7cec85d7bea7798e",
                                    "dataTypeName": "varchar"
                                }
                            ],
                            "specialAction": {
                                "none": true,
                                "expectYukonXMLShowPlan": false
                            }
                        }
                    },
                    "execution_count": 9,
                    "data": {
                        "application/vnd.dataresource+json": {
                            "schema": {
                                "fields": [
                                    {
                                        "name": "name"
                                    },
                                    {
                                        "name": "ID"
                                    }
                                ]
                            },
                            "data": [
                                {
                                    "0": "Atanassov",
                                    "1": "28400"
                                },
                                {
                                    "0": "Arias",
                                    "1": "37687"
                                },
                                {
                                    "0": "Gutierrez",
                                    "1": "64871"
                                },
                                {
                                    "0": "Pingr",
                                    "1": "78699"
                                },
                                {
                                    "0": "Choll",
                                    "1": "90643"
                                },
                                {
                                    "0": "Arinb",
                                    "1": "95030"
                                }
                            ]
                        },
                        "text/html": [
                            "<table>",
                            "<tr><th>name</th><th>ID</th></tr>",
                            "<tr><td>Atanassov</td><td>28400</td></tr>",
                            "<tr><td>Arias</td><td>37687</td></tr>",
                            "<tr><td>Gutierrez</td><td>64871</td></tr>",
                            "<tr><td>Pingr</td><td>78699</td></tr>",
                            "<tr><td>Choll</td><td>90643</td></tr>",
                            "<tr><td>Arinb</td><td>95030</td></tr>",
                            "</table>"
                        ]
                    }
                }
            ],
            "execution_count": 9
        },
        {
            "cell_type": "markdown",
            "source": [
                "### Stored procedures versus functions\n",
                "\n",
                "While the output is the same, there are differences beyound just how they are coded:\n",
                "\n",
                "- **Functions are computed values and cannot perform permanent changes to the server, whereas stored procedures can**\n",
                "- **[The output of] functions can be using within SQL query, stored procedures, since they need the ``EXEC`` statement to be ran, cannot.**\n",
                "- **Stored procedures can return zero, single or multiple values; functions must return a single value, being either a scalar or a table**\n",
                "- **We can use exception handling using Try-Catch blocks in stored procedures, but we cannot within functions**\n",
                "- **We can define input paramters for functions; we can define both input as well as output parameters for stored procedures**\n",
                "\n",
                "Found this [thread](https://stackoverflow.com/questions/1179758/function-vs-stored-procedure-in-sql-server) really helpful."
            ],
            "metadata": {
                "azdata_cell_guid": "4d2857e3-acce-4e13-9cee-1bc0a246a2db"
            }
        },
        {
            "cell_type": "code",
            "source": [
                "-- a stored procedure with an output parameter\n",
                "-- existing, drop it\n",
                "IF EXISTS (SELECT  * FROM dbo.sysobjects WHERE id = OBJECT_ID(N'[dbo].[dept_instructors_proc2]'))\n",
                "    BEGIN\n",
                "        DROP PROCEDURE dbo.dept_instructors_proc2\n",
                "    END;\n",
                "GO\n",
                "\n",
                "-- define the stored procedure\n",
                "CREATE PROCEDURE dbo.dept_instructors_proc2 (\n",
                "    @dept_name VARCHAR(20),\n",
                "    @instructor_count INT OUTPUT  \n",
                ") AS\n",
                "BEGIN\n",
                "    SELECT [name], ID \n",
                "    FROM instructor \n",
                "    WHERE dept_name = @dept_name;\n",
                "\n",
                "    -- prepare the output\n",
                "    SELECT @instructor_count = @@ROWCOUNT;\n",
                "END;\n",
                "GO\n",
                "\n",
                "-- declare the output parameter\n",
                "DECLARE @count INT\n",
                "-- Running it\n",
                "EXEC dept_instructors_proc2 @dept_name = 'Statistics', @instructor_count = @count OUTPUT\n",
                "-- retrieve the output\n",
                "SELECT @count AS 'Number of instructors found';\n",
                "GO"
            ],
            "metadata": {
                "azdata_cell_guid": "41883ed7-f564-42e9-8c65-962bdc242c6e"
            },
            "outputs": [
                {
                    "output_type": "display_data",
                    "data": {
                        "text/html": "Commands completed successfully."
                    },
                    "metadata": {}
                },
                {
                    "output_type": "display_data",
                    "data": {
                        "text/html": "Commands completed successfully."
                    },
                    "metadata": {}
                },
                {
                    "output_type": "display_data",
                    "data": {
                        "text/html": "(6 rows affected)"
                    },
                    "metadata": {}
                },
                {
                    "output_type": "display_data",
                    "data": {
                        "text/html": "(1 row affected)"
                    },
                    "metadata": {}
                },
                {
                    "output_type": "display_data",
                    "data": {
                        "text/html": "Total execution time: 00:00:00.014"
                    },
                    "metadata": {}
                },
                {
                    "output_type": "execute_result",
                    "metadata": {
                        "resultSet": {
                            "id": 0,
                            "batchId": 2,
                            "rowCount": 6,
                            "complete": true,
                            "columnInfo": [
                                {
                                    "isBytes": false,
                                    "isChars": true,
                                    "isSqlVariant": false,
                                    "isUdt": false,
                                    "isXml": false,
                                    "isJson": false,
                                    "sqlDbType": 22,
                                    "isHierarchyId": false,
                                    "isSqlXmlType": false,
                                    "isUnknownType": false,
                                    "isUpdatable": true,
                                    "allowDBNull": false,
                                    "baseCatalogName": null,
                                    "baseColumnName": null,
                                    "baseSchemaName": null,
                                    "baseServerName": null,
                                    "baseTableName": null,
                                    "columnName": "name",
                                    "columnOrdinal": 0,
                                    "columnSize": 20,
                                    "isAliased": null,
                                    "isAutoIncrement": false,
                                    "isExpression": null,
                                    "isHidden": null,
                                    "isIdentity": false,
                                    "isKey": null,
                                    "isLong": false,
                                    "isReadOnly": false,
                                    "isUnique": false,
                                    "numericPrecision": 255,
                                    "numericScale": 255,
                                    "udtAssemblyQualifiedName": null,
                                    "dataType": "System.String, System.Private.CoreLib, Version=4.0.0.0, Culture=neutral, PublicKeyToken=7cec85d7bea7798e",
                                    "dataTypeName": "varchar"
                                },
                                {
                                    "isBytes": false,
                                    "isChars": true,
                                    "isSqlVariant": false,
                                    "isUdt": false,
                                    "isXml": false,
                                    "isJson": false,
                                    "sqlDbType": 22,
                                    "isHierarchyId": false,
                                    "isSqlXmlType": false,
                                    "isUnknownType": false,
                                    "isUpdatable": true,
                                    "allowDBNull": false,
                                    "baseCatalogName": null,
                                    "baseColumnName": null,
                                    "baseSchemaName": null,
                                    "baseServerName": null,
                                    "baseTableName": null,
                                    "columnName": "ID",
                                    "columnOrdinal": 1,
                                    "columnSize": 5,
                                    "isAliased": null,
                                    "isAutoIncrement": false,
                                    "isExpression": null,
                                    "isHidden": null,
                                    "isIdentity": false,
                                    "isKey": null,
                                    "isLong": false,
                                    "isReadOnly": false,
                                    "isUnique": false,
                                    "numericPrecision": 255,
                                    "numericScale": 255,
                                    "udtAssemblyQualifiedName": null,
                                    "dataType": "System.String, System.Private.CoreLib, Version=4.0.0.0, Culture=neutral, PublicKeyToken=7cec85d7bea7798e",
                                    "dataTypeName": "varchar"
                                }
                            ],
                            "specialAction": {
                                "none": true,
                                "expectYukonXMLShowPlan": false
                            }
                        }
                    },
                    "execution_count": 16,
                    "data": {
                        "application/vnd.dataresource+json": {
                            "schema": {
                                "fields": [
                                    {
                                        "name": "name"
                                    },
                                    {
                                        "name": "ID"
                                    }
                                ]
                            },
                            "data": [
                                {
                                    "0": "Atanassov",
                                    "1": "28400"
                                },
                                {
                                    "0": "Arias",
                                    "1": "37687"
                                },
                                {
                                    "0": "Gutierrez",
                                    "1": "64871"
                                },
                                {
                                    "0": "Pingr",
                                    "1": "78699"
                                },
                                {
                                    "0": "Choll",
                                    "1": "90643"
                                },
                                {
                                    "0": "Arinb",
                                    "1": "95030"
                                }
                            ]
                        },
                        "text/html": [
                            "<table>",
                            "<tr><th>name</th><th>ID</th></tr>",
                            "<tr><td>Atanassov</td><td>28400</td></tr>",
                            "<tr><td>Arias</td><td>37687</td></tr>",
                            "<tr><td>Gutierrez</td><td>64871</td></tr>",
                            "<tr><td>Pingr</td><td>78699</td></tr>",
                            "<tr><td>Choll</td><td>90643</td></tr>",
                            "<tr><td>Arinb</td><td>95030</td></tr>",
                            "</table>"
                        ]
                    }
                },
                {
                    "output_type": "execute_result",
                    "metadata": {
                        "resultSet": {
                            "id": 1,
                            "batchId": 2,
                            "rowCount": 1,
                            "complete": true,
                            "columnInfo": [
                                {
                                    "isBytes": false,
                                    "isChars": false,
                                    "isSqlVariant": false,
                                    "isUdt": false,
                                    "isXml": false,
                                    "isJson": false,
                                    "sqlDbType": 8,
                                    "isHierarchyId": false,
                                    "isSqlXmlType": false,
                                    "isUnknownType": false,
                                    "isUpdatable": false,
                                    "allowDBNull": true,
                                    "baseCatalogName": null,
                                    "baseColumnName": null,
                                    "baseSchemaName": null,
                                    "baseServerName": null,
                                    "baseTableName": null,
                                    "columnName": "Number of instructors found",
                                    "columnOrdinal": 0,
                                    "columnSize": 4,
                                    "isAliased": null,
                                    "isAutoIncrement": false,
                                    "isExpression": null,
                                    "isHidden": null,
                                    "isIdentity": false,
                                    "isKey": null,
                                    "isLong": false,
                                    "isReadOnly": true,
                                    "isUnique": false,
                                    "numericPrecision": 10,
                                    "numericScale": 255,
                                    "udtAssemblyQualifiedName": null,
                                    "dataType": "System.Int32, System.Private.CoreLib, Version=4.0.0.0, Culture=neutral, PublicKeyToken=7cec85d7bea7798e",
                                    "dataTypeName": "int"
                                }
                            ],
                            "specialAction": {
                                "none": true,
                                "expectYukonXMLShowPlan": false
                            }
                        }
                    },
                    "execution_count": 16,
                    "data": {
                        "application/vnd.dataresource+json": {
                            "schema": {
                                "fields": [
                                    {
                                        "name": "Number of instructors found"
                                    }
                                ]
                            },
                            "data": [
                                {
                                    "0": "6"
                                }
                            ]
                        },
                        "text/html": [
                            "<table>",
                            "<tr><th>Number of instructors found</th></tr>",
                            "<tr><td>6</td></tr>",
                            "</table>"
                        ]
                    }
                }
            ],
            "execution_count": 16
        },
        {
            "cell_type": "markdown",
            "source": [
                "## Control-of-Flow statements\n",
                "\n",
                "One of the nice things of functions and stored procedures is that we can make use of several control of flow statements.\n",
                "\n",
                "### The `BEGIN...END` statement\n",
                "\n",
                "The BEGIN...END statement is used to define a statement block. A statement block consists of a set of SQL statements that execute together. A statement block is also known as a batch.\n",
                "\n",
                "```\n",
                "BEGIN\n",
                "    { sql_statement | statement_block}\n",
                "END\n",
                "```\n",
                "\n",
                "For example, in the code belo we combine a sql query and printing a message conditional on the number of rows in the output table of that query. We can do this because we included them in a batch. Note that ``@@ROWCOUNT`` is a system variable that returns the number of rows affected by the last previous statement."
            ],
            "metadata": {
                "azdata_cell_guid": "ff7e1a66-b161-4b74-9210-2a5840b1021c"
            }
        },
        {
            "cell_type": "code",
            "source": [
                "BEGIN\n",
                "    SELECT [name], ID \n",
                "    FROM instructor \n",
                "    WHERE dept_name = 'Statistics';\n",
                "\n",
                "IF @@ROWCOUNT > 5\n",
                "    PRINT 'There are more than 5 instructors in the department'\n",
                "ELSE\n",
                "    PRINT 'There are less than 5 instructors in the department'\n",
                "END;\n",
                "GO"
            ],
            "metadata": {
                "azdata_cell_guid": "2192de5b-b877-466e-99fd-503218b2b010"
            },
            "outputs": [
                {
                    "output_type": "display_data",
                    "data": {
                        "text/html": "(6 rows affected)"
                    },
                    "metadata": {}
                },
                {
                    "output_type": "display_data",
                    "data": {
                        "text/html": "There are more than 5 instructors in the department"
                    },
                    "metadata": {}
                },
                {
                    "output_type": "display_data",
                    "data": {
                        "text/html": "Total execution time: 00:00:00.003"
                    },
                    "metadata": {}
                },
                {
                    "output_type": "execute_result",
                    "metadata": {
                        "resultSet": {
                            "id": 0,
                            "batchId": 0,
                            "rowCount": 6,
                            "complete": true,
                            "columnInfo": [
                                {
                                    "isBytes": false,
                                    "isChars": true,
                                    "isSqlVariant": false,
                                    "isUdt": false,
                                    "isXml": false,
                                    "isJson": false,
                                    "sqlDbType": 22,
                                    "isHierarchyId": false,
                                    "isSqlXmlType": false,
                                    "isUnknownType": false,
                                    "isUpdatable": true,
                                    "allowDBNull": false,
                                    "baseCatalogName": null,
                                    "baseColumnName": null,
                                    "baseSchemaName": null,
                                    "baseServerName": null,
                                    "baseTableName": null,
                                    "columnName": "name",
                                    "columnOrdinal": 0,
                                    "columnSize": 20,
                                    "isAliased": null,
                                    "isAutoIncrement": false,
                                    "isExpression": null,
                                    "isHidden": null,
                                    "isIdentity": false,
                                    "isKey": null,
                                    "isLong": false,
                                    "isReadOnly": false,
                                    "isUnique": false,
                                    "numericPrecision": 255,
                                    "numericScale": 255,
                                    "udtAssemblyQualifiedName": null,
                                    "dataType": "System.String, System.Private.CoreLib, Version=4.0.0.0, Culture=neutral, PublicKeyToken=7cec85d7bea7798e",
                                    "dataTypeName": "varchar"
                                },
                                {
                                    "isBytes": false,
                                    "isChars": true,
                                    "isSqlVariant": false,
                                    "isUdt": false,
                                    "isXml": false,
                                    "isJson": false,
                                    "sqlDbType": 22,
                                    "isHierarchyId": false,
                                    "isSqlXmlType": false,
                                    "isUnknownType": false,
                                    "isUpdatable": true,
                                    "allowDBNull": false,
                                    "baseCatalogName": null,
                                    "baseColumnName": null,
                                    "baseSchemaName": null,
                                    "baseServerName": null,
                                    "baseTableName": null,
                                    "columnName": "ID",
                                    "columnOrdinal": 1,
                                    "columnSize": 5,
                                    "isAliased": null,
                                    "isAutoIncrement": false,
                                    "isExpression": null,
                                    "isHidden": null,
                                    "isIdentity": false,
                                    "isKey": null,
                                    "isLong": false,
                                    "isReadOnly": false,
                                    "isUnique": false,
                                    "numericPrecision": 255,
                                    "numericScale": 255,
                                    "udtAssemblyQualifiedName": null,
                                    "dataType": "System.String, System.Private.CoreLib, Version=4.0.0.0, Culture=neutral, PublicKeyToken=7cec85d7bea7798e",
                                    "dataTypeName": "varchar"
                                }
                            ],
                            "specialAction": {
                                "none": true,
                                "expectYukonXMLShowPlan": false
                            }
                        }
                    },
                    "execution_count": 17,
                    "data": {
                        "application/vnd.dataresource+json": {
                            "schema": {
                                "fields": [
                                    {
                                        "name": "name"
                                    },
                                    {
                                        "name": "ID"
                                    }
                                ]
                            },
                            "data": [
                                {
                                    "0": "Atanassov",
                                    "1": "28400"
                                },
                                {
                                    "0": "Arias",
                                    "1": "37687"
                                },
                                {
                                    "0": "Gutierrez",
                                    "1": "64871"
                                },
                                {
                                    "0": "Pingr",
                                    "1": "78699"
                                },
                                {
                                    "0": "Choll",
                                    "1": "90643"
                                },
                                {
                                    "0": "Arinb",
                                    "1": "95030"
                                }
                            ]
                        },
                        "text/html": [
                            "<table>",
                            "<tr><th>name</th><th>ID</th></tr>",
                            "<tr><td>Atanassov</td><td>28400</td></tr>",
                            "<tr><td>Arias</td><td>37687</td></tr>",
                            "<tr><td>Gutierrez</td><td>64871</td></tr>",
                            "<tr><td>Pingr</td><td>78699</td></tr>",
                            "<tr><td>Choll</td><td>90643</td></tr>",
                            "<tr><td>Arinb</td><td>95030</td></tr>",
                            "</table>"
                        ]
                    }
                }
            ],
            "execution_count": 17
        },
        {
            "cell_type": "markdown",
            "source": [
                "We can also nest several begin end statements. For example"
            ],
            "metadata": {
                "azdata_cell_guid": "4e1a5909-a267-42c2-9dce-ad96d20f5cdf"
            }
        },
        {
            "cell_type": "code",
            "source": [
                "BEGIN \n",
                "    -- declare the variables we will use in this batch\n",
                "    DECLARE @student_name VARCHAR(40)\n",
                "    DECLARE @dept_name VARCHAR(40)\n",
                "    DECLARE @tc INT\n",
                "\n",
                "    -- the query: highest total credits\n",
                "    SELECT TOP 1\n",
                "        @student_name = [name],\n",
                "        @dept_name = dept_name,\n",
                "        @tc = tot_cred\n",
                "    FROM student\n",
                "    ORDER BY tot_cred DESC;\n",
                "\n",
                "    -- second level\n",
                "    IF @dept_name IN ('Biology', 'Comp. Sci.', 'Statistics', 'Math', 'Mech Eng.', 'Civil Eng.')\n",
                "        BEGIN\n",
                "            PRINT 'The student with the highest total credits is ' + @student_name  +' (STEM FIELD) with ' + CONVERT(varchar(10), @tc)\n",
                "        END\n",
                "    ELSE\n",
                "        BEGIN\n",
                "            PRINT 'The student with the highest total credits is ' + @student_name + ' (NON-STEM FIELD) with ' + CONVERT(varchar(10), @tc)\n",
                "        END;\n",
                "END;"
            ],
            "metadata": {
                "azdata_cell_guid": "1ea13740-4aec-4b6f-b90b-47f60e98e35d"
            },
            "outputs": [
                {
                    "output_type": "display_data",
                    "data": {
                        "text/html": "The student with the highest total credits is Yoneda (NON-STEM FIELD) with 129"
                    },
                    "metadata": {}
                },
                {
                    "output_type": "display_data",
                    "data": {
                        "text/html": "Total execution time: 00:00:00.004"
                    },
                    "metadata": {}
                }
            ],
            "execution_count": 23
        },
        {
            "cell_type": "markdown",
            "source": [
                "### ``IF...ELSE``\n",
                "\n",
                "When the condition in the IF clause evaluates to FALSE and you want to execute another statement block, you can use the ELSE clause.\n",
                "\n",
                "```\n",
                "IF Boolean_expression\n",
                "BEGIN\n",
                "    -- Statement block executes when the Boolean expression is TRUE\n",
                "END\n",
                "ELSE\n",
                "BEGIN\n",
                "    -- Statement block executes when the Boolean expression is FALSE\n",
                "END\n",
                "```\n",
                "For example, say that we want to check whether more than half of the students in a certain class failed"
            ],
            "metadata": {
                "azdata_cell_guid": "41ba8b07-e143-4de5-b9e3-fe0084bc1371"
            }
        },
        {
            "cell_type": "code",
            "source": [
                "BEGIN\n",
                "    -- Declare the variables to be used in the batch\n",
                "    DECLARE @rel_dept AS VARCHAR(20)\n",
                "    SET @rel_dept = 'Statistics'\n",
                "    DECLARE @percent_fail AS FLOAT\n",
                "    -- the query\n",
                "    SET @percent_fail = (\n",
                "        SELECT AVG(CAST(IIF(takes.grade LIKE 'C_', 1, 0) AS FLOAT))\n",
                "        FROM takes, student, course\n",
                "        WHERE \n",
                "            takes.ID = student.ID AND \n",
                "            course.course_id = takes.course_id AND \n",
                "            course.dept_name = @rel_dept\n",
                "    );\n",
                "    -- messages\n",
                "    IF (@percent_fail > 0.5)\n",
                "        BEGIN\n",
                "            PRINT 'More than half of students failed, namely ' + CONVERT(VARCHAR(10), ROUND(@percent_fail * 100, 2)) + '%'\n",
                "        END\n",
                "    ELSE\n",
                "        BEGIN\n",
                "            PRINT 'Less than half of students failed, namely ' + CONVERT(VARCHAR(10), ROUND(@percent_fail * 100, 2)) + '%'\n",
                "        END;\n",
                "END;\n",
                ""
            ],
            "metadata": {
                "azdata_cell_guid": "2efd903c-0795-4fb3-ac5a-740a68ea7a9a"
            },
            "outputs": [
                {
                    "output_type": "display_data",
                    "data": {
                        "text/html": "Less than half of students failed, namely 35.31%"
                    },
                    "metadata": {}
                },
                {
                    "output_type": "display_data",
                    "data": {
                        "text/html": "Total execution time: 00:00:00.057"
                    },
                    "metadata": {}
                }
            ],
            "execution_count": 39
        },
        {
            "cell_type": "markdown",
            "source": [
                "Note that we can nest them too and use ``ELSE IF``."
            ],
            "metadata": {
                "azdata_cell_guid": "8fe5f077-c2ec-4b97-842d-f976f3a34cac"
            }
        },
        {
            "cell_type": "code",
            "source": [
                "BEGIN\n",
                "    -- Declare the variables to be used in the batch\n",
                "    DECLARE @rel_dept AS VARCHAR(20)\n",
                "    SET @rel_dept = 'Biology'\n",
                "    DECLARE @percent_fail AS FLOAT\n",
                "    -- the query\n",
                "    SET @percent_fail = (\n",
                "        SELECT AVG(CAST(IIF(takes.grade LIKE 'C_', 1, 0) AS FLOAT))\n",
                "        FROM takes, student, course\n",
                "        WHERE \n",
                "            takes.ID = student.ID AND \n",
                "            course.course_id = takes.course_id AND \n",
                "            course.dept_name = @rel_dept\n",
                "    );\n",
                "    -- messages\n",
                "    IF (@percent_fail > 0.5) AND @rel_dept IN ('Biology', 'Comp. Sci.', 'Statistics', 'Math', 'Mech Eng.', 'Civil Eng.')\n",
                "        BEGIN\n",
                "            PRINT 'More than half of students failed in this STEM-field, namely ' + CONVERT(VARCHAR(10), ROUND(@percent_fail * 100, 2)) + '%'\n",
                "        END\n",
                "    ELSE IF (@percent_fail > 0.5) AND @rel_dept IN ('Biology', 'Comp. Sci.', 'Statistics', 'Math', 'Mech Eng.', 'Civil Eng.')\n",
                "        BEGIN\n",
                "            PRINT 'More than half of students failed in this STEM-field, namely ' + CONVERT(VARCHAR(10), ROUND(@percent_fail * 100, 2)) + '%'\n",
                "        END\n",
                "    ELSE IF (@percent_fail < 0.5) AND @rel_dept IN ('Biology', 'Comp. Sci.', 'Statistics', 'Math', 'Mech Eng.', 'Civil Eng.')\n",
                "        BEGIN\n",
                "            PRINT 'More than half of students failed in this STEM-field, namely ' + CONVERT(VARCHAR(10), ROUND(@percent_fail * 100, 2)) + '%'\n",
                "        END\n",
                "    ELSE\n",
                "        BEGIN\n",
                "            PRINT 'Less than half of students failed, namely ' + CONVERT(VARCHAR(10), ROUND(@percent_fail * 100, 2)) + '%'\n",
                "        END;\n",
                "END;"
            ],
            "metadata": {
                "azdata_cell_guid": "4232a7f1-f642-40ae-bca8-1f21688d76da"
            },
            "outputs": [
                {
                    "output_type": "display_data",
                    "data": {
                        "text/html": "More than half of students failed in this STEM-field, namely 33.96%"
                    },
                    "metadata": {}
                },
                {
                    "output_type": "display_data",
                    "data": {
                        "text/html": "Total execution time: 00:00:00.032"
                    },
                    "metadata": {}
                }
            ],
            "execution_count": 47
        },
        {
            "cell_type": "markdown",
            "source": [
                "### `WHILE`\n",
                "\n",
                "The WHILE statement is a control-flow statement that allows you to execute a statement block repeatedly as long as a specified condition is TRUE.\n",
                "\n",
                "First, the Boolean_expression is an expression that evaluates to TRUE or FALSE.\n",
                "\n",
                "Second, <code>sql_statement | statement_block</code> is any Transact-SQL statement or a set of Transact-SQL statements. A statement block is defined using the <code>BEGIN...END</code> statement.\n",
                "\n",
                "If the Boolean_expression evaluates to FALSE in an iteration, no statement inside the WHILE loop will be executed.\n",
                "\n",
                "Inside the WHILE loop, you must change some variables to make the Boolean_expression returns FALSE at some points. Otherwise, you will have an indefinite loop.\n",
                "\n",
                "Furthermore:\n",
                "\n",
                "- `BREAK` - Causes an exit from the innermost WHILE loop. Any statements that appear after the END keyword, marking the end of the loop, are executed\n",
                "- `CONTINUE` - Causes the WHILE loop to restart, ignoring any statements after the `CONTINUE` keyword, i.e. skiping the current itearation\n",
                "\n",
                "```\n",
                "WHILE Boolean_expression\n",
                "{ sql_statement | statement_block | BREAK | CONTINUE }\n",
                "\n",
                "```\n",
                "\n",
                "Below an example.Double the budget of departments with below average budgets until the average budget is higher than 3,000,000. However, never allow one of them to be above 3,000,000 after the doubling."
            ],
            "metadata": {
                "azdata_cell_guid": "b9bc4802-1d5c-4f43-832f-a00a29f733bb"
            }
        },
        {
            "cell_type": "code",
            "source": [
                "-- before\n",
                "SELECT AVG(budget) FROM department;\n",
                "GO\n",
                "\n",
                "-- Start the while loop\n",
                "WHILE (SELECT AVG(budget) FROM department) < 3000000\n",
                "BEGIN\n",
                "    -- declare the relevant variables\n",
                "    DECLARE @cur_depts AS VARCHAR(20)\n",
                "    -- Below average departments\n",
                "    SELECT @cur_depts = dept_name\n",
                "    FROM department\n",
                "    WHERE budget < (SELECT AVG(budget) FROM department);\n",
                "    -- alter the database\n",
                "    UPDATE department\n",
                "    SET budget = budget * 2;\n",
                "    -- message\n",
                "    PRINT 'Doubling the budget from ' + COALESCE(@cur_depts, ', ', '')\n",
                "    -- no budget can exceed 3,000,000\n",
                "    IF (SELECT MAX(budget) FROM department) > 3000000\n",
                "        BREAK\n",
                "    ELSE\n",
                "        CONTINUE\n",
                "END;\n",
                "GO\n",
                "\n",
                "-- after\n",
                "SELECT AVG(budget) FROM department;\n",
                "GO\n",
                ""
            ],
            "metadata": {
                "azdata_cell_guid": "28b8cc46-0841-471f-b27f-8472779ac6f0"
            },
            "outputs": [
                {
                    "output_type": "display_data",
                    "data": {
                        "text/html": "(1 row affected)"
                    },
                    "metadata": {}
                },
                {
                    "output_type": "display_data",
                    "data": {
                        "text/html": "(20 rows affected)"
                    },
                    "metadata": {}
                },
                {
                    "output_type": "display_data",
                    "data": {
                        "text/html": "Doubling the budget from Statistics"
                    },
                    "metadata": {}
                },
                {
                    "output_type": "display_data",
                    "data": {
                        "text/html": "(1 row affected)"
                    },
                    "metadata": {}
                },
                {
                    "output_type": "display_data",
                    "data": {
                        "text/html": "Total execution time: 00:00:00.013"
                    },
                    "metadata": {}
                },
                {
                    "output_type": "execute_result",
                    "metadata": {
                        "resultSet": {
                            "id": 0,
                            "batchId": 0,
                            "rowCount": 1,
                            "complete": true,
                            "columnInfo": [
                                {
                                    "isBytes": false,
                                    "isChars": false,
                                    "isSqlVariant": false,
                                    "isUdt": false,
                                    "isXml": false,
                                    "isJson": false,
                                    "sqlDbType": 5,
                                    "isHierarchyId": false,
                                    "isSqlXmlType": false,
                                    "isUnknownType": false,
                                    "isUpdatable": false,
                                    "allowDBNull": true,
                                    "baseCatalogName": null,
                                    "baseColumnName": null,
                                    "baseSchemaName": null,
                                    "baseServerName": null,
                                    "baseTableName": null,
                                    "columnName": "(No column name)",
                                    "columnOrdinal": 0,
                                    "columnSize": 17,
                                    "isAliased": null,
                                    "isAutoIncrement": false,
                                    "isExpression": null,
                                    "isHidden": null,
                                    "isIdentity": false,
                                    "isKey": null,
                                    "isLong": false,
                                    "isReadOnly": true,
                                    "isUnique": false,
                                    "numericPrecision": 38,
                                    "numericScale": 6,
                                    "udtAssemblyQualifiedName": null,
                                    "dataType": "System.Decimal, System.Private.CoreLib, Version=4.0.0.0, Culture=neutral, PublicKeyToken=7cec85d7bea7798e",
                                    "dataTypeName": "decimal"
                                }
                            ],
                            "specialAction": {
                                "none": true,
                                "expectYukonXMLShowPlan": false
                            }
                        }
                    },
                    "execution_count": 45,
                    "data": {
                        "application/vnd.dataresource+json": {
                            "schema": {
                                "fields": [
                                    {
                                        "name": "(No column name)"
                                    }
                                ]
                            },
                            "data": [
                                {
                                    "0": "2265264.020000"
                                }
                            ]
                        },
                        "text/html": [
                            "<table>",
                            "<tr><th>(No column name)</th></tr>",
                            "<tr><td>2265264.020000</td></tr>",
                            "</table>"
                        ]
                    }
                },
                {
                    "output_type": "execute_result",
                    "metadata": {
                        "resultSet": {
                            "id": 0,
                            "batchId": 2,
                            "rowCount": 1,
                            "complete": true,
                            "columnInfo": [
                                {
                                    "isBytes": false,
                                    "isChars": false,
                                    "isSqlVariant": false,
                                    "isUdt": false,
                                    "isXml": false,
                                    "isJson": false,
                                    "sqlDbType": 5,
                                    "isHierarchyId": false,
                                    "isSqlXmlType": false,
                                    "isUnknownType": false,
                                    "isUpdatable": false,
                                    "allowDBNull": true,
                                    "baseCatalogName": null,
                                    "baseColumnName": null,
                                    "baseSchemaName": null,
                                    "baseServerName": null,
                                    "baseTableName": null,
                                    "columnName": "(No column name)",
                                    "columnOrdinal": 0,
                                    "columnSize": 17,
                                    "isAliased": null,
                                    "isAutoIncrement": false,
                                    "isExpression": null,
                                    "isHidden": null,
                                    "isIdentity": false,
                                    "isKey": null,
                                    "isLong": false,
                                    "isReadOnly": true,
                                    "isUnique": false,
                                    "numericPrecision": 38,
                                    "numericScale": 6,
                                    "udtAssemblyQualifiedName": null,
                                    "dataType": "System.Decimal, System.Private.CoreLib, Version=4.0.0.0, Culture=neutral, PublicKeyToken=7cec85d7bea7798e",
                                    "dataTypeName": "decimal"
                                }
                            ],
                            "specialAction": {
                                "none": true,
                                "expectYukonXMLShowPlan": false
                            }
                        }
                    },
                    "execution_count": 45,
                    "data": {
                        "application/vnd.dataresource+json": {
                            "schema": {
                                "fields": [
                                    {
                                        "name": "(No column name)"
                                    }
                                ]
                            },
                            "data": [
                                {
                                    "0": "4530528.040000"
                                }
                            ]
                        },
                        "text/html": [
                            "<table>",
                            "<tr><th>(No column name)</th></tr>",
                            "<tr><td>4530528.040000</td></tr>",
                            "</table>"
                        ]
                    }
                }
            ],
            "execution_count": 45
        },
        {
            "cell_type": "markdown",
            "source": [
                "#"
            ],
            "metadata": {
                "azdata_cell_guid": "5b6b55de-0a2e-45b5-a654-1a1669b272e8"
            }
        },
        {
            "cell_type": "markdown",
            "source": [
                ""
            ],
            "metadata": {
                "azdata_cell_guid": "019c590d-8e52-4135-84f4-3add5b18f887"
            }
        }
    ]
}