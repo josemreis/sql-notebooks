{
    "metadata": {
        "kernelspec": {
            "name": "SQL",
            "display_name": "SQL",
            "language": "sql"
        },
        "language_info": {
            "name": "sql",
            "version": ""
        }
    },
    "nbformat_minor": 2,
    "nbformat": 4,
    "cells": [
        {
            "cell_type": "markdown",
            "source": [
                "# Intermediate SQL\n",
                "\n",
                "## Join expressions\n",
                "\n",
                "Previously, we combined information from several multiple queries using the cartesian product operator (except when we used set operations). In this section we introduce a number of **Join operations** that allow us to express some queries which are harder using the cartesian operator."
            ],
            "metadata": {
                "azdata_cell_guid": "d9307eba-b4e3-427f-a55c-804b7d831cd8"
            }
        }
    ]
}