{
    "metadata": {
        "kernelspec": {
            "name": "SQL",
            "display_name": "SQL",
            "language": "sql"
        },
        "language_info": {
            "name": "sql",
            "version": ""
        }
    },
    "nbformat_minor": 2,
    "nbformat": 4,
    "cells": [
        {
            "cell_type": "markdown",
            "source": [
                "# Intermediate SQL\n",
                "\n",
                "## Join expressions\n",
                "\n",
                "Previously, we combined information from several multiple queries using the cartesian product operator (except when we used set operations). In this section we introduce a number of <strong>Join operations</strong> that allow us to express some queries which are harder using the cartesian operator. As before, we will continue using the UNI database for now. Run the scripts in the folder before.\n",
                "\n",
                "### The ``NATURAL JOIN``\n",
                "\n",
                "Consider the following SQL query which computes, for each student, the set of courses a student has taken. "
            ],
            "metadata": {
                "azdata_cell_guid": "d9307eba-b4e3-427f-a55c-804b7d831cd8"
            }
        },
        {
            "cell_type": "code",
            "source": [
                "USE uni;\n",
                "GO\n",
                "-- the query\n",
                "SELECT TOP 3 --restricting to first 3 obs\n",
                "student.name, takes.course_id\n",
                "FROM student, takes\n",
                "WHERE student.ID = takes.ID;\n",
                "GO"
            ],
            "metadata": {
                "azdata_cell_guid": "1d705df1-1cf9-480e-92c8-e6560d738875"
            },
            "outputs": [
                {
                    "output_type": "display_data",
                    "data": {
                        "text/html": "Commands completed successfully."
                    },
                    "metadata": {}
                },
                {
                    "output_type": "display_data",
                    "data": {
                        "text/html": "(6 rows affected)"
                    },
                    "metadata": {}
                },
                {
                    "output_type": "display_data",
                    "data": {
                        "text/html": "Total execution time: 00:00:00.005"
                    },
                    "metadata": {}
                },
                {
                    "output_type": "execute_result",
                    "execution_count": 2,
                    "data": {
                        "application/vnd.dataresource+json": {
                            "schema": {
                                "fields": [
                                    {
                                        "name": "name"
                                    },
                                    {
                                        "name": "course_id"
                                    }
                                ]
                            },
                            "data": [
                                {
                                    "0": "Manber",
                                    "1": "239"
                                },
                                {
                                    "0": "Manber",
                                    "1": "319"
                                },
                                {
                                    "0": "Manber",
                                    "1": "362"
                                },
                                {
                                    "0": "Manber",
                                    "1": "493"
                                },
                                {
                                    "0": "Manber",
                                    "1": "571"
                                },
                                {
                                    "0": "Manber",
                                    "1": "642"
                                }
                            ]
                        },
                        "text/html": "<table><tr><th>name</th><th>course_id</th></tr><tr><td>Manber</td><td>239</td></tr><tr><td>Manber</td><td>319</td></tr><tr><td>Manber</td><td>362</td></tr><tr><td>Manber</td><td>493</td></tr><tr><td>Manber</td><td>571</td></tr><tr><td>Manber</td><td>642</td></tr></table>"
                    },
                    "metadata": {
                        "resultSet": {
                            "id": 0,
                            "batchId": 1,
                            "rowCount": 6,
                            "complete": true,
                            "columnInfo": [
                                {
                                    "isBytes": false,
                                    "isChars": true,
                                    "isSqlVariant": false,
                                    "isUdt": false,
                                    "isXml": false,
                                    "isJson": false,
                                    "sqlDbType": 22,
                                    "isHierarchyId": false,
                                    "isSqlXmlType": false,
                                    "isUnknownType": false,
                                    "isUpdatable": true,
                                    "allowDBNull": false,
                                    "baseCatalogName": null,
                                    "baseColumnName": null,
                                    "baseSchemaName": null,
                                    "baseServerName": null,
                                    "baseTableName": null,
                                    "columnName": "name",
                                    "columnOrdinal": 0,
                                    "columnSize": 20,
                                    "isAliased": null,
                                    "isAutoIncrement": false,
                                    "isExpression": null,
                                    "isHidden": null,
                                    "isIdentity": false,
                                    "isKey": null,
                                    "isLong": false,
                                    "isReadOnly": false,
                                    "isUnique": false,
                                    "numericPrecision": 255,
                                    "numericScale": 255,
                                    "udtAssemblyQualifiedName": null,
                                    "dataType": "System.String, System.Private.CoreLib, Version=4.0.0.0, Culture=neutral, PublicKeyToken=7cec85d7bea7798e",
                                    "dataTypeName": "varchar"
                                },
                                {
                                    "isBytes": false,
                                    "isChars": true,
                                    "isSqlVariant": false,
                                    "isUdt": false,
                                    "isXml": false,
                                    "isJson": false,
                                    "sqlDbType": 22,
                                    "isHierarchyId": false,
                                    "isSqlXmlType": false,
                                    "isUnknownType": false,
                                    "isUpdatable": true,
                                    "allowDBNull": false,
                                    "baseCatalogName": null,
                                    "baseColumnName": null,
                                    "baseSchemaName": null,
                                    "baseServerName": null,
                                    "baseTableName": null,
                                    "columnName": "course_id",
                                    "columnOrdinal": 1,
                                    "columnSize": 8,
                                    "isAliased": null,
                                    "isAutoIncrement": false,
                                    "isExpression": null,
                                    "isHidden": null,
                                    "isIdentity": false,
                                    "isKey": null,
                                    "isLong": false,
                                    "isReadOnly": false,
                                    "isUnique": false,
                                    "numericPrecision": 255,
                                    "numericScale": 255,
                                    "udtAssemblyQualifiedName": null,
                                    "dataType": "System.String, System.Private.CoreLib, Version=4.0.0.0, Culture=neutral, PublicKeyToken=7cec85d7bea7798e",
                                    "dataTypeName": "varchar"
                                }
                            ],
                            "specialAction": {
                                "none": true,
                                "expectYukonXMLShowPlan": false
                            }
                        }
                    }
                }
            ],
            "execution_count": 2
        },
        {
            "cell_type": "markdown",
            "source": [
                "Note that in the student and takes table, the matching condition required both <code>ID</code> variables to be the same.\n",
                "\n",
                "The natural join operation operates on two relations and produces a relation as result. However, unlike the cartesian product, which concatenates each row of the first relation with all of the second, the <strong>natural join considers only the pairs of rows with the same value on the attributes which appear in the schema of both relations</strong>.\n",
                "\n",
                "<code>Natural Join</code>s are not supported by MS SQL servers. The code in other servers goes like this.\n",
                "\n",
                "```\n",
                "student NATURAL JOIN takes;\n",
                "```\n",
                "\n",
                "MS SQL, probably for the best, forces you to pre-select the features you want to join the ralations on. Wrote, however, a small nested query which, given two tables, returns the common features. In this case, as expected, it is the ``ID`` feature."
            ],
            "metadata": {
                "azdata_cell_guid": "1c040c90-11ae-467c-a15b-27c3418b9179"
            }
        },
        {
            "cell_type": "code",
            "source": [
                "-- checking shared features with a subquery\n",
                "SELECT COLUMN_NAME AS common_feature\n",
                "FROM INFORMATION_SCHEMA.COLUMNS\n",
                "WHERE TABLE_NAME = 'student' AND COLUMN_NAME IN (\n",
                "    SELECT COLUMN_NAME\n",
                "    FROM INFORMATION_SCHEMA.COLUMNS\n",
                "    WHERE TABLE_NAME = 'takes'\n",
                ");\n",
                "GO"
            ],
            "metadata": {
                "azdata_cell_guid": "449526fa-3419-41a6-bbc3-1262c7776be1"
            },
            "outputs": [
                {
                    "output_type": "display_data",
                    "data": {
                        "text/html": "(1 row affected)"
                    },
                    "metadata": {}
                },
                {
                    "output_type": "display_data",
                    "data": {
                        "text/html": "Total execution time: 00:00:00.053"
                    },
                    "metadata": {}
                },
                {
                    "output_type": "execute_result",
                    "execution_count": 10,
                    "data": {
                        "application/vnd.dataresource+json": {
                            "schema": {
                                "fields": [
                                    {
                                        "name": "common_feature"
                                    }
                                ]
                            },
                            "data": [
                                {
                                    "0": "ID"
                                }
                            ]
                        },
                        "text/html": "<table><tr><th>common_feature</th></tr><tr><td>ID</td></tr></table>"
                    },
                    "metadata": {
                        "resultSet": {
                            "id": 0,
                            "batchId": 0,
                            "rowCount": 1,
                            "complete": true,
                            "columnInfo": [
                                {
                                    "isBytes": false,
                                    "isChars": true,
                                    "isSqlVariant": false,
                                    "isUdt": false,
                                    "isXml": false,
                                    "isJson": false,
                                    "sqlDbType": 12,
                                    "isHierarchyId": false,
                                    "isSqlXmlType": false,
                                    "isUnknownType": false,
                                    "isUpdatable": true,
                                    "allowDBNull": true,
                                    "baseCatalogName": null,
                                    "baseColumnName": null,
                                    "baseSchemaName": null,
                                    "baseServerName": null,
                                    "baseTableName": null,
                                    "columnName": "common_feature",
                                    "columnOrdinal": 0,
                                    "columnSize": 128,
                                    "isAliased": null,
                                    "isAutoIncrement": false,
                                    "isExpression": null,
                                    "isHidden": null,
                                    "isIdentity": false,
                                    "isKey": null,
                                    "isLong": false,
                                    "isReadOnly": false,
                                    "isUnique": false,
                                    "numericPrecision": 255,
                                    "numericScale": 255,
                                    "udtAssemblyQualifiedName": null,
                                    "dataType": "System.String, System.Private.CoreLib, Version=4.0.0.0, Culture=neutral, PublicKeyToken=7cec85d7bea7798e",
                                    "dataTypeName": "nvarchar"
                                }
                            ],
                            "specialAction": {
                                "none": true,
                                "expectYukonXMLShowPlan": false
                            }
                        }
                    }
                }
            ],
            "execution_count": 10
        },
        {
            "cell_type": "markdown",
            "source": [
                "Join Conditions<br>\n",
                "\n",
                "As we saw before, the nice property of natural joins is that it identifies overlapping features for joining the data.\n",
                "\n",
                "The <code>ON</code> keyword allows a general predicate for selecting which variables should be used for the join operation. The on condition is writen exactly as a where predicate. It also appears at the end of the join expression.<br>"
            ],
            "metadata": {
                "azdata_cell_guid": "7c0dc951-d28d-4227-aedf-63449d5aeefe"
            }
        },
        {
            "cell_type": "code",
            "source": [
                "-- the join\n",
                "SELECT COUNT(*) AS row_number\n",
                "FROM student\n",
                "JOIN takes ON student.ID = takes.ID;\n",
                "GO\n",
                "-- which is the same as\n",
                "SELECT COUNT(*) AS row_number\n",
                "FROM student, takes\n",
                "WHERE student.ID = takes.ID;\n",
                "GO"
            ],
            "metadata": {
                "azdata_cell_guid": "ecd38048-6bca-43c7-a8f6-22198b2e8eec",
                "tags": []
            },
            "outputs": [
                {
                    "output_type": "display_data",
                    "data": {
                        "text/html": "(1 row affected)"
                    },
                    "metadata": {}
                },
                {
                    "output_type": "display_data",
                    "data": {
                        "text/html": "(1 row affected)"
                    },
                    "metadata": {}
                },
                {
                    "output_type": "display_data",
                    "data": {
                        "text/html": "Total execution time: 00:00:00.009"
                    },
                    "metadata": {}
                },
                {
                    "output_type": "execute_result",
                    "execution_count": 17,
                    "data": {
                        "application/vnd.dataresource+json": {
                            "schema": {
                                "fields": [
                                    {
                                        "name": "row_number"
                                    }
                                ]
                            },
                            "data": [
                                {
                                    "0": "30000"
                                }
                            ]
                        },
                        "text/html": "<table><tr><th>row_number</th></tr><tr><td>30000</td></tr></table>"
                    },
                    "metadata": {
                        "resultSet": {
                            "id": 0,
                            "batchId": 0,
                            "rowCount": 1,
                            "complete": true,
                            "columnInfo": [
                                {
                                    "isBytes": false,
                                    "isChars": false,
                                    "isSqlVariant": false,
                                    "isUdt": false,
                                    "isXml": false,
                                    "isJson": false,
                                    "sqlDbType": 8,
                                    "isHierarchyId": false,
                                    "isSqlXmlType": false,
                                    "isUnknownType": false,
                                    "isUpdatable": false,
                                    "allowDBNull": true,
                                    "baseCatalogName": null,
                                    "baseColumnName": null,
                                    "baseSchemaName": null,
                                    "baseServerName": null,
                                    "baseTableName": null,
                                    "columnName": "row_number",
                                    "columnOrdinal": 0,
                                    "columnSize": 4,
                                    "isAliased": null,
                                    "isAutoIncrement": false,
                                    "isExpression": null,
                                    "isHidden": null,
                                    "isIdentity": false,
                                    "isKey": null,
                                    "isLong": false,
                                    "isReadOnly": true,
                                    "isUnique": false,
                                    "numericPrecision": 10,
                                    "numericScale": 255,
                                    "udtAssemblyQualifiedName": null,
                                    "dataType": "System.Int32, System.Private.CoreLib, Version=4.0.0.0, Culture=neutral, PublicKeyToken=7cec85d7bea7798e",
                                    "dataTypeName": "int"
                                }
                            ],
                            "specialAction": {
                                "none": true,
                                "expectYukonXMLShowPlan": false
                            }
                        }
                    }
                },
                {
                    "output_type": "execute_result",
                    "execution_count": 17,
                    "data": {
                        "application/vnd.dataresource+json": {
                            "schema": {
                                "fields": [
                                    {
                                        "name": "row_number"
                                    }
                                ]
                            },
                            "data": [
                                {
                                    "0": "30000"
                                }
                            ]
                        },
                        "text/html": "<table><tr><th>row_number</th></tr><tr><td>30000</td></tr></table>"
                    },
                    "metadata": {
                        "resultSet": {
                            "id": 0,
                            "batchId": 1,
                            "rowCount": 1,
                            "complete": true,
                            "columnInfo": [
                                {
                                    "isBytes": false,
                                    "isChars": false,
                                    "isSqlVariant": false,
                                    "isUdt": false,
                                    "isXml": false,
                                    "isJson": false,
                                    "sqlDbType": 8,
                                    "isHierarchyId": false,
                                    "isSqlXmlType": false,
                                    "isUnknownType": false,
                                    "isUpdatable": false,
                                    "allowDBNull": true,
                                    "baseCatalogName": null,
                                    "baseColumnName": null,
                                    "baseSchemaName": null,
                                    "baseServerName": null,
                                    "baseTableName": null,
                                    "columnName": "row_number",
                                    "columnOrdinal": 0,
                                    "columnSize": 4,
                                    "isAliased": null,
                                    "isAutoIncrement": false,
                                    "isExpression": null,
                                    "isHidden": null,
                                    "isIdentity": false,
                                    "isKey": null,
                                    "isLong": false,
                                    "isReadOnly": true,
                                    "isUnique": false,
                                    "numericPrecision": 10,
                                    "numericScale": 255,
                                    "udtAssemblyQualifiedName": null,
                                    "dataType": "System.Int32, System.Private.CoreLib, Version=4.0.0.0, Culture=neutral, PublicKeyToken=7cec85d7bea7798e",
                                    "dataTypeName": "int"
                                }
                            ],
                            "specialAction": {
                                "none": true,
                                "expectYukonXMLShowPlan": false
                            }
                        }
                    }
                }
            ],
            "execution_count": 17
        },
        {
            "cell_type": "markdown",
            "source": [
                "### `OUTER JOIN`\n",
                "\n",
                "Suppose we wish to display a list of all students, displaying their id, name, dept_name, tot_cred, along with the courses that they have taken. The following query we used before does not work very well. Suppose that there is some student that takes no course and who, hence, cannot be found in the takes relation (via ID). This student will be dropped out from the resulting relation."
            ],
            "metadata": {
                "azdata_cell_guid": "27c23684-9d5e-4181-babe-af260a894b9f"
            }
        },
        {
            "cell_type": "code",
            "source": [
                "-- insert a dummy\n",
                "IF NOT EXISTS (SELECT ID FROM student WHERE ID = '10049')\n",
                "    BEGIN\n",
                "        INSERT INTO student VALUES ('10049', 'Snow', 'Civil Eng.', 0)\n",
                "    END;\n",
                "    GO\n",
                "\n",
                "-- we loose it with a natural join\n",
                "SELECT *\n",
                "FROM student\n",
                "JOIN takes ON student.ID = takes.ID\n",
                "WHERE student.ID = '10049';\n",
                "GO"
            ],
            "metadata": {
                "azdata_cell_guid": "c7501e9d-c383-4725-a8d4-c261e10dab9f"
            },
            "outputs": [
                {
                    "output_type": "display_data",
                    "data": {
                        "text/html": "Commands completed successfully."
                    },
                    "metadata": {}
                },
                {
                    "output_type": "display_data",
                    "data": {
                        "text/html": "(0 rows affected)"
                    },
                    "metadata": {}
                },
                {
                    "output_type": "display_data",
                    "data": {
                        "text/html": "Total execution time: 00:00:00.009"
                    },
                    "metadata": {}
                },
                {
                    "output_type": "execute_result",
                    "execution_count": 26,
                    "data": {
                        "application/vnd.dataresource+json": {
                            "schema": {
                                "fields": [
                                    {
                                        "name": "ID"
                                    },
                                    {
                                        "name": "name"
                                    },
                                    {
                                        "name": "dept_name"
                                    },
                                    {
                                        "name": "tot_cred"
                                    },
                                    {
                                        "name": "ID"
                                    },
                                    {
                                        "name": "course_id"
                                    },
                                    {
                                        "name": "sec_id"
                                    },
                                    {
                                        "name": "semester"
                                    },
                                    {
                                        "name": "year"
                                    },
                                    {
                                        "name": "grade"
                                    }
                                ]
                            },
                            "data": []
                        },
                        "text/html": "<table><tr><th>ID</th><th>name</th><th>dept_name</th><th>tot_cred</th><th>ID</th><th>course_id</th><th>sec_id</th><th>semester</th><th>year</th><th>grade</th></tr></table>"
                    },
                    "metadata": {
                        "resultSet": {
                            "id": 0,
                            "batchId": 1,
                            "rowCount": 0,
                            "complete": false,
                            "columnInfo": [
                                {
                                    "isBytes": false,
                                    "isChars": true,
                                    "isSqlVariant": false,
                                    "isUdt": false,
                                    "isXml": false,
                                    "isJson": false,
                                    "sqlDbType": 22,
                                    "isHierarchyId": false,
                                    "isSqlXmlType": false,
                                    "isUnknownType": false,
                                    "isUpdatable": true,
                                    "allowDBNull": false,
                                    "baseCatalogName": null,
                                    "baseColumnName": null,
                                    "baseSchemaName": null,
                                    "baseServerName": null,
                                    "baseTableName": null,
                                    "columnName": "ID",
                                    "columnOrdinal": 0,
                                    "columnSize": 5,
                                    "isAliased": null,
                                    "isAutoIncrement": false,
                                    "isExpression": null,
                                    "isHidden": null,
                                    "isIdentity": false,
                                    "isKey": null,
                                    "isLong": false,
                                    "isReadOnly": false,
                                    "isUnique": false,
                                    "numericPrecision": 255,
                                    "numericScale": 255,
                                    "udtAssemblyQualifiedName": null,
                                    "dataType": "System.String, System.Private.CoreLib, Version=4.0.0.0, Culture=neutral, PublicKeyToken=7cec85d7bea7798e",
                                    "dataTypeName": "varchar"
                                },
                                {
                                    "isBytes": false,
                                    "isChars": true,
                                    "isSqlVariant": false,
                                    "isUdt": false,
                                    "isXml": false,
                                    "isJson": false,
                                    "sqlDbType": 22,
                                    "isHierarchyId": false,
                                    "isSqlXmlType": false,
                                    "isUnknownType": false,
                                    "isUpdatable": true,
                                    "allowDBNull": false,
                                    "baseCatalogName": null,
                                    "baseColumnName": null,
                                    "baseSchemaName": null,
                                    "baseServerName": null,
                                    "baseTableName": null,
                                    "columnName": "name",
                                    "columnOrdinal": 1,
                                    "columnSize": 20,
                                    "isAliased": null,
                                    "isAutoIncrement": false,
                                    "isExpression": null,
                                    "isHidden": null,
                                    "isIdentity": false,
                                    "isKey": null,
                                    "isLong": false,
                                    "isReadOnly": false,
                                    "isUnique": false,
                                    "numericPrecision": 255,
                                    "numericScale": 255,
                                    "udtAssemblyQualifiedName": null,
                                    "dataType": "System.String, System.Private.CoreLib, Version=4.0.0.0, Culture=neutral, PublicKeyToken=7cec85d7bea7798e",
                                    "dataTypeName": "varchar"
                                },
                                {
                                    "isBytes": false,
                                    "isChars": true,
                                    "isSqlVariant": false,
                                    "isUdt": false,
                                    "isXml": false,
                                    "isJson": false,
                                    "sqlDbType": 22,
                                    "isHierarchyId": false,
                                    "isSqlXmlType": false,
                                    "isUnknownType": false,
                                    "isUpdatable": true,
                                    "allowDBNull": true,
                                    "baseCatalogName": null,
                                    "baseColumnName": null,
                                    "baseSchemaName": null,
                                    "baseServerName": null,
                                    "baseTableName": null,
                                    "columnName": "dept_name",
                                    "columnOrdinal": 2,
                                    "columnSize": 20,
                                    "isAliased": null,
                                    "isAutoIncrement": false,
                                    "isExpression": null,
                                    "isHidden": null,
                                    "isIdentity": false,
                                    "isKey": null,
                                    "isLong": false,
                                    "isReadOnly": false,
                                    "isUnique": false,
                                    "numericPrecision": 255,
                                    "numericScale": 255,
                                    "udtAssemblyQualifiedName": null,
                                    "dataType": "System.String, System.Private.CoreLib, Version=4.0.0.0, Culture=neutral, PublicKeyToken=7cec85d7bea7798e",
                                    "dataTypeName": "varchar"
                                },
                                {
                                    "isBytes": false,
                                    "isChars": false,
                                    "isSqlVariant": false,
                                    "isUdt": false,
                                    "isXml": false,
                                    "isJson": false,
                                    "sqlDbType": 5,
                                    "isHierarchyId": false,
                                    "isSqlXmlType": false,
                                    "isUnknownType": false,
                                    "isUpdatable": true,
                                    "allowDBNull": true,
                                    "baseCatalogName": null,
                                    "baseColumnName": null,
                                    "baseSchemaName": null,
                                    "baseServerName": null,
                                    "baseTableName": null,
                                    "columnName": "tot_cred",
                                    "columnOrdinal": 3,
                                    "columnSize": 17,
                                    "isAliased": null,
                                    "isAutoIncrement": false,
                                    "isExpression": null,
                                    "isHidden": null,
                                    "isIdentity": false,
                                    "isKey": null,
                                    "isLong": false,
                                    "isReadOnly": false,
                                    "isUnique": false,
                                    "numericPrecision": 3,
                                    "numericScale": 0,
                                    "udtAssemblyQualifiedName": null,
                                    "dataType": "System.Decimal, System.Private.CoreLib, Version=4.0.0.0, Culture=neutral, PublicKeyToken=7cec85d7bea7798e",
                                    "dataTypeName": "decimal"
                                },
                                {
                                    "isBytes": false,
                                    "isChars": true,
                                    "isSqlVariant": false,
                                    "isUdt": false,
                                    "isXml": false,
                                    "isJson": false,
                                    "sqlDbType": 22,
                                    "isHierarchyId": false,
                                    "isSqlXmlType": false,
                                    "isUnknownType": false,
                                    "isUpdatable": true,
                                    "allowDBNull": false,
                                    "baseCatalogName": null,
                                    "baseColumnName": null,
                                    "baseSchemaName": null,
                                    "baseServerName": null,
                                    "baseTableName": null,
                                    "columnName": "ID",
                                    "columnOrdinal": 4,
                                    "columnSize": 5,
                                    "isAliased": null,
                                    "isAutoIncrement": false,
                                    "isExpression": null,
                                    "isHidden": null,
                                    "isIdentity": false,
                                    "isKey": null,
                                    "isLong": false,
                                    "isReadOnly": false,
                                    "isUnique": false,
                                    "numericPrecision": 255,
                                    "numericScale": 255,
                                    "udtAssemblyQualifiedName": null,
                                    "dataType": "System.String, System.Private.CoreLib, Version=4.0.0.0, Culture=neutral, PublicKeyToken=7cec85d7bea7798e",
                                    "dataTypeName": "varchar"
                                },
                                {
                                    "isBytes": false,
                                    "isChars": true,
                                    "isSqlVariant": false,
                                    "isUdt": false,
                                    "isXml": false,
                                    "isJson": false,
                                    "sqlDbType": 22,
                                    "isHierarchyId": false,
                                    "isSqlXmlType": false,
                                    "isUnknownType": false,
                                    "isUpdatable": true,
                                    "allowDBNull": false,
                                    "baseCatalogName": null,
                                    "baseColumnName": null,
                                    "baseSchemaName": null,
                                    "baseServerName": null,
                                    "baseTableName": null,
                                    "columnName": "course_id",
                                    "columnOrdinal": 5,
                                    "columnSize": 8,
                                    "isAliased": null,
                                    "isAutoIncrement": false,
                                    "isExpression": null,
                                    "isHidden": null,
                                    "isIdentity": false,
                                    "isKey": null,
                                    "isLong": false,
                                    "isReadOnly": false,
                                    "isUnique": false,
                                    "numericPrecision": 255,
                                    "numericScale": 255,
                                    "udtAssemblyQualifiedName": null,
                                    "dataType": "System.String, System.Private.CoreLib, Version=4.0.0.0, Culture=neutral, PublicKeyToken=7cec85d7bea7798e",
                                    "dataTypeName": "varchar"
                                },
                                {
                                    "isBytes": false,
                                    "isChars": true,
                                    "isSqlVariant": false,
                                    "isUdt": false,
                                    "isXml": false,
                                    "isJson": false,
                                    "sqlDbType": 22,
                                    "isHierarchyId": false,
                                    "isSqlXmlType": false,
                                    "isUnknownType": false,
                                    "isUpdatable": true,
                                    "allowDBNull": false,
                                    "baseCatalogName": null,
                                    "baseColumnName": null,
                                    "baseSchemaName": null,
                                    "baseServerName": null,
                                    "baseTableName": null,
                                    "columnName": "sec_id",
                                    "columnOrdinal": 6,
                                    "columnSize": 8,
                                    "isAliased": null,
                                    "isAutoIncrement": false,
                                    "isExpression": null,
                                    "isHidden": null,
                                    "isIdentity": false,
                                    "isKey": null,
                                    "isLong": false,
                                    "isReadOnly": false,
                                    "isUnique": false,
                                    "numericPrecision": 255,
                                    "numericScale": 255,
                                    "udtAssemblyQualifiedName": null,
                                    "dataType": "System.String, System.Private.CoreLib, Version=4.0.0.0, Culture=neutral, PublicKeyToken=7cec85d7bea7798e",
                                    "dataTypeName": "varchar"
                                },
                                {
                                    "isBytes": false,
                                    "isChars": true,
                                    "isSqlVariant": false,
                                    "isUdt": false,
                                    "isXml": false,
                                    "isJson": false,
                                    "sqlDbType": 22,
                                    "isHierarchyId": false,
                                    "isSqlXmlType": false,
                                    "isUnknownType": false,
                                    "isUpdatable": true,
                                    "allowDBNull": false,
                                    "baseCatalogName": null,
                                    "baseColumnName": null,
                                    "baseSchemaName": null,
                                    "baseServerName": null,
                                    "baseTableName": null,
                                    "columnName": "semester",
                                    "columnOrdinal": 7,
                                    "columnSize": 6,
                                    "isAliased": null,
                                    "isAutoIncrement": false,
                                    "isExpression": null,
                                    "isHidden": null,
                                    "isIdentity": false,
                                    "isKey": null,
                                    "isLong": false,
                                    "isReadOnly": false,
                                    "isUnique": false,
                                    "numericPrecision": 255,
                                    "numericScale": 255,
                                    "udtAssemblyQualifiedName": null,
                                    "dataType": "System.String, System.Private.CoreLib, Version=4.0.0.0, Culture=neutral, PublicKeyToken=7cec85d7bea7798e",
                                    "dataTypeName": "varchar"
                                },
                                {
                                    "isBytes": false,
                                    "isChars": false,
                                    "isSqlVariant": false,
                                    "isUdt": false,
                                    "isXml": false,
                                    "isJson": false,
                                    "sqlDbType": 5,
                                    "isHierarchyId": false,
                                    "isSqlXmlType": false,
                                    "isUnknownType": false,
                                    "isUpdatable": true,
                                    "allowDBNull": false,
                                    "baseCatalogName": null,
                                    "baseColumnName": null,
                                    "baseSchemaName": null,
                                    "baseServerName": null,
                                    "baseTableName": null,
                                    "columnName": "year",
                                    "columnOrdinal": 8,
                                    "columnSize": 17,
                                    "isAliased": null,
                                    "isAutoIncrement": false,
                                    "isExpression": null,
                                    "isHidden": null,
                                    "isIdentity": false,
                                    "isKey": null,
                                    "isLong": false,
                                    "isReadOnly": false,
                                    "isUnique": false,
                                    "numericPrecision": 4,
                                    "numericScale": 0,
                                    "udtAssemblyQualifiedName": null,
                                    "dataType": "System.Decimal, System.Private.CoreLib, Version=4.0.0.0, Culture=neutral, PublicKeyToken=7cec85d7bea7798e",
                                    "dataTypeName": "decimal"
                                },
                                {
                                    "isBytes": false,
                                    "isChars": true,
                                    "isSqlVariant": false,
                                    "isUdt": false,
                                    "isXml": false,
                                    "isJson": false,
                                    "sqlDbType": 22,
                                    "isHierarchyId": false,
                                    "isSqlXmlType": false,
                                    "isUnknownType": false,
                                    "isUpdatable": true,
                                    "allowDBNull": true,
                                    "baseCatalogName": null,
                                    "baseColumnName": null,
                                    "baseSchemaName": null,
                                    "baseServerName": null,
                                    "baseTableName": null,
                                    "columnName": "grade",
                                    "columnOrdinal": 9,
                                    "columnSize": 2,
                                    "isAliased": null,
                                    "isAutoIncrement": false,
                                    "isExpression": null,
                                    "isHidden": null,
                                    "isIdentity": false,
                                    "isKey": null,
                                    "isLong": false,
                                    "isReadOnly": false,
                                    "isUnique": false,
                                    "numericPrecision": 255,
                                    "numericScale": 255,
                                    "udtAssemblyQualifiedName": null,
                                    "dataType": "System.String, System.Private.CoreLib, Version=4.0.0.0, Culture=neutral, PublicKeyToken=7cec85d7bea7798e",
                                    "dataTypeName": "varchar"
                                }
                            ],
                            "specialAction": null
                        }
                    }
                }
            ],
            "execution_count": 26
        },
        {
            "cell_type": "markdown",
            "source": [
                "More generally, some tuples in either or both relations being joined may be <em>lost</em> in this way. The outer join operation works in a manner similar to the join operations already studied but <strong>it preserves those tuples that would be lost in a join by creating tuples in the sult containing NULL values.</strong>\n",
                "\n",
                "\n",
                "There are three forms of outer join:\n",
                "\n",
                "1. The ``LEFT OUTER JOIN`` preserves tuples in the relation named to the left of the join operation."
            ],
            "metadata": {
                "azdata_cell_guid": "81beb3ab-c50a-4ee2-a2bf-4919465255b4"
            }
        },
        {
            "cell_type": "code",
            "source": [
                "SELECT *\n",
                "FROM student\n",
                "LEFT OUTER JOIN takes ON student.ID = takes.ID\n",
                "WHERE student.ID = '10049';\n",
                "GO"
            ],
            "metadata": {
                "azdata_cell_guid": "4c9868e3-d8bc-46ac-a8a9-69c0fcddc2e7"
            },
            "outputs": [
                {
                    "output_type": "display_data",
                    "data": {
                        "text/html": "(1 row affected)"
                    },
                    "metadata": {}
                },
                {
                    "output_type": "display_data",
                    "data": {
                        "text/html": "Total execution time: 00:00:00.006"
                    },
                    "metadata": {}
                },
                {
                    "output_type": "execute_result",
                    "execution_count": 27,
                    "data": {
                        "application/vnd.dataresource+json": {
                            "schema": {
                                "fields": [
                                    {
                                        "name": "ID"
                                    },
                                    {
                                        "name": "name"
                                    },
                                    {
                                        "name": "dept_name"
                                    },
                                    {
                                        "name": "tot_cred"
                                    },
                                    {
                                        "name": "ID"
                                    },
                                    {
                                        "name": "course_id"
                                    },
                                    {
                                        "name": "sec_id"
                                    },
                                    {
                                        "name": "semester"
                                    },
                                    {
                                        "name": "year"
                                    },
                                    {
                                        "name": "grade"
                                    }
                                ]
                            },
                            "data": [
                                {
                                    "0": "10049",
                                    "1": "Snow",
                                    "2": "Civil Eng.",
                                    "3": "0",
                                    "4": "NULL",
                                    "5": "NULL",
                                    "6": "NULL",
                                    "7": "NULL",
                                    "8": "NULL",
                                    "9": "NULL"
                                }
                            ]
                        },
                        "text/html": "<table><tr><th>ID</th><th>name</th><th>dept_name</th><th>tot_cred</th><th>ID</th><th>course_id</th><th>sec_id</th><th>semester</th><th>year</th><th>grade</th></tr><tr><td>10049</td><td>Snow</td><td>Civil Eng.</td><td>0</td><td>NULL</td><td>NULL</td><td>NULL</td><td>NULL</td><td>NULL</td><td>NULL</td></tr></table>"
                    },
                    "metadata": {
                        "resultSet": {
                            "id": 0,
                            "batchId": 0,
                            "rowCount": 1,
                            "complete": true,
                            "columnInfo": [
                                {
                                    "isBytes": false,
                                    "isChars": true,
                                    "isSqlVariant": false,
                                    "isUdt": false,
                                    "isXml": false,
                                    "isJson": false,
                                    "sqlDbType": 22,
                                    "isHierarchyId": false,
                                    "isSqlXmlType": false,
                                    "isUnknownType": false,
                                    "isUpdatable": true,
                                    "allowDBNull": false,
                                    "baseCatalogName": null,
                                    "baseColumnName": null,
                                    "baseSchemaName": null,
                                    "baseServerName": null,
                                    "baseTableName": null,
                                    "columnName": "ID",
                                    "columnOrdinal": 0,
                                    "columnSize": 5,
                                    "isAliased": null,
                                    "isAutoIncrement": false,
                                    "isExpression": null,
                                    "isHidden": null,
                                    "isIdentity": false,
                                    "isKey": null,
                                    "isLong": false,
                                    "isReadOnly": false,
                                    "isUnique": false,
                                    "numericPrecision": 255,
                                    "numericScale": 255,
                                    "udtAssemblyQualifiedName": null,
                                    "dataType": "System.String, System.Private.CoreLib, Version=4.0.0.0, Culture=neutral, PublicKeyToken=7cec85d7bea7798e",
                                    "dataTypeName": "varchar"
                                },
                                {
                                    "isBytes": false,
                                    "isChars": true,
                                    "isSqlVariant": false,
                                    "isUdt": false,
                                    "isXml": false,
                                    "isJson": false,
                                    "sqlDbType": 22,
                                    "isHierarchyId": false,
                                    "isSqlXmlType": false,
                                    "isUnknownType": false,
                                    "isUpdatable": true,
                                    "allowDBNull": false,
                                    "baseCatalogName": null,
                                    "baseColumnName": null,
                                    "baseSchemaName": null,
                                    "baseServerName": null,
                                    "baseTableName": null,
                                    "columnName": "name",
                                    "columnOrdinal": 1,
                                    "columnSize": 20,
                                    "isAliased": null,
                                    "isAutoIncrement": false,
                                    "isExpression": null,
                                    "isHidden": null,
                                    "isIdentity": false,
                                    "isKey": null,
                                    "isLong": false,
                                    "isReadOnly": false,
                                    "isUnique": false,
                                    "numericPrecision": 255,
                                    "numericScale": 255,
                                    "udtAssemblyQualifiedName": null,
                                    "dataType": "System.String, System.Private.CoreLib, Version=4.0.0.0, Culture=neutral, PublicKeyToken=7cec85d7bea7798e",
                                    "dataTypeName": "varchar"
                                },
                                {
                                    "isBytes": false,
                                    "isChars": true,
                                    "isSqlVariant": false,
                                    "isUdt": false,
                                    "isXml": false,
                                    "isJson": false,
                                    "sqlDbType": 22,
                                    "isHierarchyId": false,
                                    "isSqlXmlType": false,
                                    "isUnknownType": false,
                                    "isUpdatable": true,
                                    "allowDBNull": true,
                                    "baseCatalogName": null,
                                    "baseColumnName": null,
                                    "baseSchemaName": null,
                                    "baseServerName": null,
                                    "baseTableName": null,
                                    "columnName": "dept_name",
                                    "columnOrdinal": 2,
                                    "columnSize": 20,
                                    "isAliased": null,
                                    "isAutoIncrement": false,
                                    "isExpression": null,
                                    "isHidden": null,
                                    "isIdentity": false,
                                    "isKey": null,
                                    "isLong": false,
                                    "isReadOnly": false,
                                    "isUnique": false,
                                    "numericPrecision": 255,
                                    "numericScale": 255,
                                    "udtAssemblyQualifiedName": null,
                                    "dataType": "System.String, System.Private.CoreLib, Version=4.0.0.0, Culture=neutral, PublicKeyToken=7cec85d7bea7798e",
                                    "dataTypeName": "varchar"
                                },
                                {
                                    "isBytes": false,
                                    "isChars": false,
                                    "isSqlVariant": false,
                                    "isUdt": false,
                                    "isXml": false,
                                    "isJson": false,
                                    "sqlDbType": 5,
                                    "isHierarchyId": false,
                                    "isSqlXmlType": false,
                                    "isUnknownType": false,
                                    "isUpdatable": true,
                                    "allowDBNull": true,
                                    "baseCatalogName": null,
                                    "baseColumnName": null,
                                    "baseSchemaName": null,
                                    "baseServerName": null,
                                    "baseTableName": null,
                                    "columnName": "tot_cred",
                                    "columnOrdinal": 3,
                                    "columnSize": 17,
                                    "isAliased": null,
                                    "isAutoIncrement": false,
                                    "isExpression": null,
                                    "isHidden": null,
                                    "isIdentity": false,
                                    "isKey": null,
                                    "isLong": false,
                                    "isReadOnly": false,
                                    "isUnique": false,
                                    "numericPrecision": 3,
                                    "numericScale": 0,
                                    "udtAssemblyQualifiedName": null,
                                    "dataType": "System.Decimal, System.Private.CoreLib, Version=4.0.0.0, Culture=neutral, PublicKeyToken=7cec85d7bea7798e",
                                    "dataTypeName": "decimal"
                                },
                                {
                                    "isBytes": false,
                                    "isChars": true,
                                    "isSqlVariant": false,
                                    "isUdt": false,
                                    "isXml": false,
                                    "isJson": false,
                                    "sqlDbType": 22,
                                    "isHierarchyId": false,
                                    "isSqlXmlType": false,
                                    "isUnknownType": false,
                                    "isUpdatable": true,
                                    "allowDBNull": true,
                                    "baseCatalogName": null,
                                    "baseColumnName": null,
                                    "baseSchemaName": null,
                                    "baseServerName": null,
                                    "baseTableName": null,
                                    "columnName": "ID",
                                    "columnOrdinal": 4,
                                    "columnSize": 5,
                                    "isAliased": null,
                                    "isAutoIncrement": false,
                                    "isExpression": null,
                                    "isHidden": null,
                                    "isIdentity": false,
                                    "isKey": null,
                                    "isLong": false,
                                    "isReadOnly": false,
                                    "isUnique": false,
                                    "numericPrecision": 255,
                                    "numericScale": 255,
                                    "udtAssemblyQualifiedName": null,
                                    "dataType": "System.String, System.Private.CoreLib, Version=4.0.0.0, Culture=neutral, PublicKeyToken=7cec85d7bea7798e",
                                    "dataTypeName": "varchar"
                                },
                                {
                                    "isBytes": false,
                                    "isChars": true,
                                    "isSqlVariant": false,
                                    "isUdt": false,
                                    "isXml": false,
                                    "isJson": false,
                                    "sqlDbType": 22,
                                    "isHierarchyId": false,
                                    "isSqlXmlType": false,
                                    "isUnknownType": false,
                                    "isUpdatable": true,
                                    "allowDBNull": true,
                                    "baseCatalogName": null,
                                    "baseColumnName": null,
                                    "baseSchemaName": null,
                                    "baseServerName": null,
                                    "baseTableName": null,
                                    "columnName": "course_id",
                                    "columnOrdinal": 5,
                                    "columnSize": 8,
                                    "isAliased": null,
                                    "isAutoIncrement": false,
                                    "isExpression": null,
                                    "isHidden": null,
                                    "isIdentity": false,
                                    "isKey": null,
                                    "isLong": false,
                                    "isReadOnly": false,
                                    "isUnique": false,
                                    "numericPrecision": 255,
                                    "numericScale": 255,
                                    "udtAssemblyQualifiedName": null,
                                    "dataType": "System.String, System.Private.CoreLib, Version=4.0.0.0, Culture=neutral, PublicKeyToken=7cec85d7bea7798e",
                                    "dataTypeName": "varchar"
                                },
                                {
                                    "isBytes": false,
                                    "isChars": true,
                                    "isSqlVariant": false,
                                    "isUdt": false,
                                    "isXml": false,
                                    "isJson": false,
                                    "sqlDbType": 22,
                                    "isHierarchyId": false,
                                    "isSqlXmlType": false,
                                    "isUnknownType": false,
                                    "isUpdatable": true,
                                    "allowDBNull": true,
                                    "baseCatalogName": null,
                                    "baseColumnName": null,
                                    "baseSchemaName": null,
                                    "baseServerName": null,
                                    "baseTableName": null,
                                    "columnName": "sec_id",
                                    "columnOrdinal": 6,
                                    "columnSize": 8,
                                    "isAliased": null,
                                    "isAutoIncrement": false,
                                    "isExpression": null,
                                    "isHidden": null,
                                    "isIdentity": false,
                                    "isKey": null,
                                    "isLong": false,
                                    "isReadOnly": false,
                                    "isUnique": false,
                                    "numericPrecision": 255,
                                    "numericScale": 255,
                                    "udtAssemblyQualifiedName": null,
                                    "dataType": "System.String, System.Private.CoreLib, Version=4.0.0.0, Culture=neutral, PublicKeyToken=7cec85d7bea7798e",
                                    "dataTypeName": "varchar"
                                },
                                {
                                    "isBytes": false,
                                    "isChars": true,
                                    "isSqlVariant": false,
                                    "isUdt": false,
                                    "isXml": false,
                                    "isJson": false,
                                    "sqlDbType": 22,
                                    "isHierarchyId": false,
                                    "isSqlXmlType": false,
                                    "isUnknownType": false,
                                    "isUpdatable": true,
                                    "allowDBNull": true,
                                    "baseCatalogName": null,
                                    "baseColumnName": null,
                                    "baseSchemaName": null,
                                    "baseServerName": null,
                                    "baseTableName": null,
                                    "columnName": "semester",
                                    "columnOrdinal": 7,
                                    "columnSize": 6,
                                    "isAliased": null,
                                    "isAutoIncrement": false,
                                    "isExpression": null,
                                    "isHidden": null,
                                    "isIdentity": false,
                                    "isKey": null,
                                    "isLong": false,
                                    "isReadOnly": false,
                                    "isUnique": false,
                                    "numericPrecision": 255,
                                    "numericScale": 255,
                                    "udtAssemblyQualifiedName": null,
                                    "dataType": "System.String, System.Private.CoreLib, Version=4.0.0.0, Culture=neutral, PublicKeyToken=7cec85d7bea7798e",
                                    "dataTypeName": "varchar"
                                },
                                {
                                    "isBytes": false,
                                    "isChars": false,
                                    "isSqlVariant": false,
                                    "isUdt": false,
                                    "isXml": false,
                                    "isJson": false,
                                    "sqlDbType": 5,
                                    "isHierarchyId": false,
                                    "isSqlXmlType": false,
                                    "isUnknownType": false,
                                    "isUpdatable": true,
                                    "allowDBNull": true,
                                    "baseCatalogName": null,
                                    "baseColumnName": null,
                                    "baseSchemaName": null,
                                    "baseServerName": null,
                                    "baseTableName": null,
                                    "columnName": "year",
                                    "columnOrdinal": 8,
                                    "columnSize": 17,
                                    "isAliased": null,
                                    "isAutoIncrement": false,
                                    "isExpression": null,
                                    "isHidden": null,
                                    "isIdentity": false,
                                    "isKey": null,
                                    "isLong": false,
                                    "isReadOnly": false,
                                    "isUnique": false,
                                    "numericPrecision": 4,
                                    "numericScale": 0,
                                    "udtAssemblyQualifiedName": null,
                                    "dataType": "System.Decimal, System.Private.CoreLib, Version=4.0.0.0, Culture=neutral, PublicKeyToken=7cec85d7bea7798e",
                                    "dataTypeName": "decimal"
                                },
                                {
                                    "isBytes": false,
                                    "isChars": true,
                                    "isSqlVariant": false,
                                    "isUdt": false,
                                    "isXml": false,
                                    "isJson": false,
                                    "sqlDbType": 22,
                                    "isHierarchyId": false,
                                    "isSqlXmlType": false,
                                    "isUnknownType": false,
                                    "isUpdatable": true,
                                    "allowDBNull": true,
                                    "baseCatalogName": null,
                                    "baseColumnName": null,
                                    "baseSchemaName": null,
                                    "baseServerName": null,
                                    "baseTableName": null,
                                    "columnName": "grade",
                                    "columnOrdinal": 9,
                                    "columnSize": 2,
                                    "isAliased": null,
                                    "isAutoIncrement": false,
                                    "isExpression": null,
                                    "isHidden": null,
                                    "isIdentity": false,
                                    "isKey": null,
                                    "isLong": false,
                                    "isReadOnly": false,
                                    "isUnique": false,
                                    "numericPrecision": 255,
                                    "numericScale": 255,
                                    "udtAssemblyQualifiedName": null,
                                    "dataType": "System.String, System.Private.CoreLib, Version=4.0.0.0, Culture=neutral, PublicKeyToken=7cec85d7bea7798e",
                                    "dataTypeName": "varchar"
                                }
                            ],
                            "specialAction": {
                                "none": true,
                                "expectYukonXMLShowPlan": false
                            }
                        }
                    }
                }
            ],
            "execution_count": 27
        },
        {
            "cell_type": "markdown",
            "source": [
                "2. The `RIGHT OUTER JOIN` perserves tuple only in the relation named after the join operation"
            ],
            "metadata": {
                "azdata_cell_guid": "f7a81401-b5ce-4c8d-bd7c-d30a6e33ceff"
            }
        },
        {
            "cell_type": "code",
            "source": [
                "-- we miss it like this, since it does not exist in takes\n",
                "SELECT *\n",
                "FROM student\n",
                "RIGHT OUTER JOIN takes ON student.ID = takes.ID\n",
                "WHERE student.ID = '10049';\n",
                "GO\n",
                "\n",
                "-- but not like this\n",
                "SELECT *\n",
                "FROM takes\n",
                "RIGHT OUTER JOIN student ON student.ID = takes.ID\n",
                "WHERE student.ID = '10049';\n",
                "GO"
            ],
            "metadata": {
                "azdata_cell_guid": "30260743-def4-4c30-947b-66f4762bec33"
            },
            "outputs": [
                {
                    "output_type": "display_data",
                    "data": {
                        "text/html": "(0 rows affected)"
                    },
                    "metadata": {}
                },
                {
                    "output_type": "display_data",
                    "data": {
                        "text/html": "(1 row affected)"
                    },
                    "metadata": {}
                },
                {
                    "output_type": "display_data",
                    "data": {
                        "text/html": "Total execution time: 00:00:00.010"
                    },
                    "metadata": {}
                },
                {
                    "output_type": "execute_result",
                    "execution_count": 31,
                    "data": {
                        "application/vnd.dataresource+json": {
                            "schema": {
                                "fields": [
                                    {
                                        "name": "ID"
                                    },
                                    {
                                        "name": "name"
                                    },
                                    {
                                        "name": "dept_name"
                                    },
                                    {
                                        "name": "tot_cred"
                                    },
                                    {
                                        "name": "ID"
                                    },
                                    {
                                        "name": "course_id"
                                    },
                                    {
                                        "name": "sec_id"
                                    },
                                    {
                                        "name": "semester"
                                    },
                                    {
                                        "name": "year"
                                    },
                                    {
                                        "name": "grade"
                                    }
                                ]
                            },
                            "data": []
                        },
                        "text/html": "<table><tr><th>ID</th><th>name</th><th>dept_name</th><th>tot_cred</th><th>ID</th><th>course_id</th><th>sec_id</th><th>semester</th><th>year</th><th>grade</th></tr></table>"
                    },
                    "metadata": {
                        "resultSet": {
                            "id": 0,
                            "batchId": 0,
                            "rowCount": 0,
                            "complete": false,
                            "columnInfo": [
                                {
                                    "isBytes": false,
                                    "isChars": true,
                                    "isSqlVariant": false,
                                    "isUdt": false,
                                    "isXml": false,
                                    "isJson": false,
                                    "sqlDbType": 22,
                                    "isHierarchyId": false,
                                    "isSqlXmlType": false,
                                    "isUnknownType": false,
                                    "isUpdatable": true,
                                    "allowDBNull": true,
                                    "baseCatalogName": null,
                                    "baseColumnName": null,
                                    "baseSchemaName": null,
                                    "baseServerName": null,
                                    "baseTableName": null,
                                    "columnName": "ID",
                                    "columnOrdinal": 0,
                                    "columnSize": 5,
                                    "isAliased": null,
                                    "isAutoIncrement": false,
                                    "isExpression": null,
                                    "isHidden": null,
                                    "isIdentity": false,
                                    "isKey": null,
                                    "isLong": false,
                                    "isReadOnly": false,
                                    "isUnique": false,
                                    "numericPrecision": 255,
                                    "numericScale": 255,
                                    "udtAssemblyQualifiedName": null,
                                    "dataType": "System.String, System.Private.CoreLib, Version=4.0.0.0, Culture=neutral, PublicKeyToken=7cec85d7bea7798e",
                                    "dataTypeName": "varchar"
                                },
                                {
                                    "isBytes": false,
                                    "isChars": true,
                                    "isSqlVariant": false,
                                    "isUdt": false,
                                    "isXml": false,
                                    "isJson": false,
                                    "sqlDbType": 22,
                                    "isHierarchyId": false,
                                    "isSqlXmlType": false,
                                    "isUnknownType": false,
                                    "isUpdatable": true,
                                    "allowDBNull": true,
                                    "baseCatalogName": null,
                                    "baseColumnName": null,
                                    "baseSchemaName": null,
                                    "baseServerName": null,
                                    "baseTableName": null,
                                    "columnName": "name",
                                    "columnOrdinal": 1,
                                    "columnSize": 20,
                                    "isAliased": null,
                                    "isAutoIncrement": false,
                                    "isExpression": null,
                                    "isHidden": null,
                                    "isIdentity": false,
                                    "isKey": null,
                                    "isLong": false,
                                    "isReadOnly": false,
                                    "isUnique": false,
                                    "numericPrecision": 255,
                                    "numericScale": 255,
                                    "udtAssemblyQualifiedName": null,
                                    "dataType": "System.String, System.Private.CoreLib, Version=4.0.0.0, Culture=neutral, PublicKeyToken=7cec85d7bea7798e",
                                    "dataTypeName": "varchar"
                                },
                                {
                                    "isBytes": false,
                                    "isChars": true,
                                    "isSqlVariant": false,
                                    "isUdt": false,
                                    "isXml": false,
                                    "isJson": false,
                                    "sqlDbType": 22,
                                    "isHierarchyId": false,
                                    "isSqlXmlType": false,
                                    "isUnknownType": false,
                                    "isUpdatable": true,
                                    "allowDBNull": true,
                                    "baseCatalogName": null,
                                    "baseColumnName": null,
                                    "baseSchemaName": null,
                                    "baseServerName": null,
                                    "baseTableName": null,
                                    "columnName": "dept_name",
                                    "columnOrdinal": 2,
                                    "columnSize": 20,
                                    "isAliased": null,
                                    "isAutoIncrement": false,
                                    "isExpression": null,
                                    "isHidden": null,
                                    "isIdentity": false,
                                    "isKey": null,
                                    "isLong": false,
                                    "isReadOnly": false,
                                    "isUnique": false,
                                    "numericPrecision": 255,
                                    "numericScale": 255,
                                    "udtAssemblyQualifiedName": null,
                                    "dataType": "System.String, System.Private.CoreLib, Version=4.0.0.0, Culture=neutral, PublicKeyToken=7cec85d7bea7798e",
                                    "dataTypeName": "varchar"
                                },
                                {
                                    "isBytes": false,
                                    "isChars": false,
                                    "isSqlVariant": false,
                                    "isUdt": false,
                                    "isXml": false,
                                    "isJson": false,
                                    "sqlDbType": 5,
                                    "isHierarchyId": false,
                                    "isSqlXmlType": false,
                                    "isUnknownType": false,
                                    "isUpdatable": true,
                                    "allowDBNull": true,
                                    "baseCatalogName": null,
                                    "baseColumnName": null,
                                    "baseSchemaName": null,
                                    "baseServerName": null,
                                    "baseTableName": null,
                                    "columnName": "tot_cred",
                                    "columnOrdinal": 3,
                                    "columnSize": 17,
                                    "isAliased": null,
                                    "isAutoIncrement": false,
                                    "isExpression": null,
                                    "isHidden": null,
                                    "isIdentity": false,
                                    "isKey": null,
                                    "isLong": false,
                                    "isReadOnly": false,
                                    "isUnique": false,
                                    "numericPrecision": 3,
                                    "numericScale": 0,
                                    "udtAssemblyQualifiedName": null,
                                    "dataType": "System.Decimal, System.Private.CoreLib, Version=4.0.0.0, Culture=neutral, PublicKeyToken=7cec85d7bea7798e",
                                    "dataTypeName": "decimal"
                                },
                                {
                                    "isBytes": false,
                                    "isChars": true,
                                    "isSqlVariant": false,
                                    "isUdt": false,
                                    "isXml": false,
                                    "isJson": false,
                                    "sqlDbType": 22,
                                    "isHierarchyId": false,
                                    "isSqlXmlType": false,
                                    "isUnknownType": false,
                                    "isUpdatable": true,
                                    "allowDBNull": false,
                                    "baseCatalogName": null,
                                    "baseColumnName": null,
                                    "baseSchemaName": null,
                                    "baseServerName": null,
                                    "baseTableName": null,
                                    "columnName": "ID",
                                    "columnOrdinal": 4,
                                    "columnSize": 5,
                                    "isAliased": null,
                                    "isAutoIncrement": false,
                                    "isExpression": null,
                                    "isHidden": null,
                                    "isIdentity": false,
                                    "isKey": null,
                                    "isLong": false,
                                    "isReadOnly": false,
                                    "isUnique": false,
                                    "numericPrecision": 255,
                                    "numericScale": 255,
                                    "udtAssemblyQualifiedName": null,
                                    "dataType": "System.String, System.Private.CoreLib, Version=4.0.0.0, Culture=neutral, PublicKeyToken=7cec85d7bea7798e",
                                    "dataTypeName": "varchar"
                                },
                                {
                                    "isBytes": false,
                                    "isChars": true,
                                    "isSqlVariant": false,
                                    "isUdt": false,
                                    "isXml": false,
                                    "isJson": false,
                                    "sqlDbType": 22,
                                    "isHierarchyId": false,
                                    "isSqlXmlType": false,
                                    "isUnknownType": false,
                                    "isUpdatable": true,
                                    "allowDBNull": false,
                                    "baseCatalogName": null,
                                    "baseColumnName": null,
                                    "baseSchemaName": null,
                                    "baseServerName": null,
                                    "baseTableName": null,
                                    "columnName": "course_id",
                                    "columnOrdinal": 5,
                                    "columnSize": 8,
                                    "isAliased": null,
                                    "isAutoIncrement": false,
                                    "isExpression": null,
                                    "isHidden": null,
                                    "isIdentity": false,
                                    "isKey": null,
                                    "isLong": false,
                                    "isReadOnly": false,
                                    "isUnique": false,
                                    "numericPrecision": 255,
                                    "numericScale": 255,
                                    "udtAssemblyQualifiedName": null,
                                    "dataType": "System.String, System.Private.CoreLib, Version=4.0.0.0, Culture=neutral, PublicKeyToken=7cec85d7bea7798e",
                                    "dataTypeName": "varchar"
                                },
                                {
                                    "isBytes": false,
                                    "isChars": true,
                                    "isSqlVariant": false,
                                    "isUdt": false,
                                    "isXml": false,
                                    "isJson": false,
                                    "sqlDbType": 22,
                                    "isHierarchyId": false,
                                    "isSqlXmlType": false,
                                    "isUnknownType": false,
                                    "isUpdatable": true,
                                    "allowDBNull": false,
                                    "baseCatalogName": null,
                                    "baseColumnName": null,
                                    "baseSchemaName": null,
                                    "baseServerName": null,
                                    "baseTableName": null,
                                    "columnName": "sec_id",
                                    "columnOrdinal": 6,
                                    "columnSize": 8,
                                    "isAliased": null,
                                    "isAutoIncrement": false,
                                    "isExpression": null,
                                    "isHidden": null,
                                    "isIdentity": false,
                                    "isKey": null,
                                    "isLong": false,
                                    "isReadOnly": false,
                                    "isUnique": false,
                                    "numericPrecision": 255,
                                    "numericScale": 255,
                                    "udtAssemblyQualifiedName": null,
                                    "dataType": "System.String, System.Private.CoreLib, Version=4.0.0.0, Culture=neutral, PublicKeyToken=7cec85d7bea7798e",
                                    "dataTypeName": "varchar"
                                },
                                {
                                    "isBytes": false,
                                    "isChars": true,
                                    "isSqlVariant": false,
                                    "isUdt": false,
                                    "isXml": false,
                                    "isJson": false,
                                    "sqlDbType": 22,
                                    "isHierarchyId": false,
                                    "isSqlXmlType": false,
                                    "isUnknownType": false,
                                    "isUpdatable": true,
                                    "allowDBNull": false,
                                    "baseCatalogName": null,
                                    "baseColumnName": null,
                                    "baseSchemaName": null,
                                    "baseServerName": null,
                                    "baseTableName": null,
                                    "columnName": "semester",
                                    "columnOrdinal": 7,
                                    "columnSize": 6,
                                    "isAliased": null,
                                    "isAutoIncrement": false,
                                    "isExpression": null,
                                    "isHidden": null,
                                    "isIdentity": false,
                                    "isKey": null,
                                    "isLong": false,
                                    "isReadOnly": false,
                                    "isUnique": false,
                                    "numericPrecision": 255,
                                    "numericScale": 255,
                                    "udtAssemblyQualifiedName": null,
                                    "dataType": "System.String, System.Private.CoreLib, Version=4.0.0.0, Culture=neutral, PublicKeyToken=7cec85d7bea7798e",
                                    "dataTypeName": "varchar"
                                },
                                {
                                    "isBytes": false,
                                    "isChars": false,
                                    "isSqlVariant": false,
                                    "isUdt": false,
                                    "isXml": false,
                                    "isJson": false,
                                    "sqlDbType": 5,
                                    "isHierarchyId": false,
                                    "isSqlXmlType": false,
                                    "isUnknownType": false,
                                    "isUpdatable": true,
                                    "allowDBNull": false,
                                    "baseCatalogName": null,
                                    "baseColumnName": null,
                                    "baseSchemaName": null,
                                    "baseServerName": null,
                                    "baseTableName": null,
                                    "columnName": "year",
                                    "columnOrdinal": 8,
                                    "columnSize": 17,
                                    "isAliased": null,
                                    "isAutoIncrement": false,
                                    "isExpression": null,
                                    "isHidden": null,
                                    "isIdentity": false,
                                    "isKey": null,
                                    "isLong": false,
                                    "isReadOnly": false,
                                    "isUnique": false,
                                    "numericPrecision": 4,
                                    "numericScale": 0,
                                    "udtAssemblyQualifiedName": null,
                                    "dataType": "System.Decimal, System.Private.CoreLib, Version=4.0.0.0, Culture=neutral, PublicKeyToken=7cec85d7bea7798e",
                                    "dataTypeName": "decimal"
                                },
                                {
                                    "isBytes": false,
                                    "isChars": true,
                                    "isSqlVariant": false,
                                    "isUdt": false,
                                    "isXml": false,
                                    "isJson": false,
                                    "sqlDbType": 22,
                                    "isHierarchyId": false,
                                    "isSqlXmlType": false,
                                    "isUnknownType": false,
                                    "isUpdatable": true,
                                    "allowDBNull": true,
                                    "baseCatalogName": null,
                                    "baseColumnName": null,
                                    "baseSchemaName": null,
                                    "baseServerName": null,
                                    "baseTableName": null,
                                    "columnName": "grade",
                                    "columnOrdinal": 9,
                                    "columnSize": 2,
                                    "isAliased": null,
                                    "isAutoIncrement": false,
                                    "isExpression": null,
                                    "isHidden": null,
                                    "isIdentity": false,
                                    "isKey": null,
                                    "isLong": false,
                                    "isReadOnly": false,
                                    "isUnique": false,
                                    "numericPrecision": 255,
                                    "numericScale": 255,
                                    "udtAssemblyQualifiedName": null,
                                    "dataType": "System.String, System.Private.CoreLib, Version=4.0.0.0, Culture=neutral, PublicKeyToken=7cec85d7bea7798e",
                                    "dataTypeName": "varchar"
                                }
                            ],
                            "specialAction": null
                        }
                    }
                },
                {
                    "output_type": "execute_result",
                    "execution_count": 31,
                    "data": {
                        "application/vnd.dataresource+json": {
                            "schema": {
                                "fields": [
                                    {
                                        "name": "ID"
                                    },
                                    {
                                        "name": "course_id"
                                    },
                                    {
                                        "name": "sec_id"
                                    },
                                    {
                                        "name": "semester"
                                    },
                                    {
                                        "name": "year"
                                    },
                                    {
                                        "name": "grade"
                                    },
                                    {
                                        "name": "ID"
                                    },
                                    {
                                        "name": "name"
                                    },
                                    {
                                        "name": "dept_name"
                                    },
                                    {
                                        "name": "tot_cred"
                                    }
                                ]
                            },
                            "data": [
                                {
                                    "0": "NULL",
                                    "1": "NULL",
                                    "2": "NULL",
                                    "3": "NULL",
                                    "4": "NULL",
                                    "5": "NULL",
                                    "6": "10049",
                                    "7": "Snow",
                                    "8": "Civil Eng.",
                                    "9": "0"
                                }
                            ]
                        },
                        "text/html": "<table><tr><th>ID</th><th>course_id</th><th>sec_id</th><th>semester</th><th>year</th><th>grade</th><th>ID</th><th>name</th><th>dept_name</th><th>tot_cred</th></tr><tr><td>NULL</td><td>NULL</td><td>NULL</td><td>NULL</td><td>NULL</td><td>NULL</td><td>10049</td><td>Snow</td><td>Civil Eng.</td><td>0</td></tr></table>"
                    },
                    "metadata": {
                        "resultSet": {
                            "id": 0,
                            "batchId": 1,
                            "rowCount": 1,
                            "complete": true,
                            "columnInfo": [
                                {
                                    "isBytes": false,
                                    "isChars": true,
                                    "isSqlVariant": false,
                                    "isUdt": false,
                                    "isXml": false,
                                    "isJson": false,
                                    "sqlDbType": 22,
                                    "isHierarchyId": false,
                                    "isSqlXmlType": false,
                                    "isUnknownType": false,
                                    "isUpdatable": true,
                                    "allowDBNull": true,
                                    "baseCatalogName": null,
                                    "baseColumnName": null,
                                    "baseSchemaName": null,
                                    "baseServerName": null,
                                    "baseTableName": null,
                                    "columnName": "ID",
                                    "columnOrdinal": 0,
                                    "columnSize": 5,
                                    "isAliased": null,
                                    "isAutoIncrement": false,
                                    "isExpression": null,
                                    "isHidden": null,
                                    "isIdentity": false,
                                    "isKey": null,
                                    "isLong": false,
                                    "isReadOnly": false,
                                    "isUnique": false,
                                    "numericPrecision": 255,
                                    "numericScale": 255,
                                    "udtAssemblyQualifiedName": null,
                                    "dataType": "System.String, System.Private.CoreLib, Version=4.0.0.0, Culture=neutral, PublicKeyToken=7cec85d7bea7798e",
                                    "dataTypeName": "varchar"
                                },
                                {
                                    "isBytes": false,
                                    "isChars": true,
                                    "isSqlVariant": false,
                                    "isUdt": false,
                                    "isXml": false,
                                    "isJson": false,
                                    "sqlDbType": 22,
                                    "isHierarchyId": false,
                                    "isSqlXmlType": false,
                                    "isUnknownType": false,
                                    "isUpdatable": true,
                                    "allowDBNull": true,
                                    "baseCatalogName": null,
                                    "baseColumnName": null,
                                    "baseSchemaName": null,
                                    "baseServerName": null,
                                    "baseTableName": null,
                                    "columnName": "course_id",
                                    "columnOrdinal": 1,
                                    "columnSize": 8,
                                    "isAliased": null,
                                    "isAutoIncrement": false,
                                    "isExpression": null,
                                    "isHidden": null,
                                    "isIdentity": false,
                                    "isKey": null,
                                    "isLong": false,
                                    "isReadOnly": false,
                                    "isUnique": false,
                                    "numericPrecision": 255,
                                    "numericScale": 255,
                                    "udtAssemblyQualifiedName": null,
                                    "dataType": "System.String, System.Private.CoreLib, Version=4.0.0.0, Culture=neutral, PublicKeyToken=7cec85d7bea7798e",
                                    "dataTypeName": "varchar"
                                },
                                {
                                    "isBytes": false,
                                    "isChars": true,
                                    "isSqlVariant": false,
                                    "isUdt": false,
                                    "isXml": false,
                                    "isJson": false,
                                    "sqlDbType": 22,
                                    "isHierarchyId": false,
                                    "isSqlXmlType": false,
                                    "isUnknownType": false,
                                    "isUpdatable": true,
                                    "allowDBNull": true,
                                    "baseCatalogName": null,
                                    "baseColumnName": null,
                                    "baseSchemaName": null,
                                    "baseServerName": null,
                                    "baseTableName": null,
                                    "columnName": "sec_id",
                                    "columnOrdinal": 2,
                                    "columnSize": 8,
                                    "isAliased": null,
                                    "isAutoIncrement": false,
                                    "isExpression": null,
                                    "isHidden": null,
                                    "isIdentity": false,
                                    "isKey": null,
                                    "isLong": false,
                                    "isReadOnly": false,
                                    "isUnique": false,
                                    "numericPrecision": 255,
                                    "numericScale": 255,
                                    "udtAssemblyQualifiedName": null,
                                    "dataType": "System.String, System.Private.CoreLib, Version=4.0.0.0, Culture=neutral, PublicKeyToken=7cec85d7bea7798e",
                                    "dataTypeName": "varchar"
                                },
                                {
                                    "isBytes": false,
                                    "isChars": true,
                                    "isSqlVariant": false,
                                    "isUdt": false,
                                    "isXml": false,
                                    "isJson": false,
                                    "sqlDbType": 22,
                                    "isHierarchyId": false,
                                    "isSqlXmlType": false,
                                    "isUnknownType": false,
                                    "isUpdatable": true,
                                    "allowDBNull": true,
                                    "baseCatalogName": null,
                                    "baseColumnName": null,
                                    "baseSchemaName": null,
                                    "baseServerName": null,
                                    "baseTableName": null,
                                    "columnName": "semester",
                                    "columnOrdinal": 3,
                                    "columnSize": 6,
                                    "isAliased": null,
                                    "isAutoIncrement": false,
                                    "isExpression": null,
                                    "isHidden": null,
                                    "isIdentity": false,
                                    "isKey": null,
                                    "isLong": false,
                                    "isReadOnly": false,
                                    "isUnique": false,
                                    "numericPrecision": 255,
                                    "numericScale": 255,
                                    "udtAssemblyQualifiedName": null,
                                    "dataType": "System.String, System.Private.CoreLib, Version=4.0.0.0, Culture=neutral, PublicKeyToken=7cec85d7bea7798e",
                                    "dataTypeName": "varchar"
                                },
                                {
                                    "isBytes": false,
                                    "isChars": false,
                                    "isSqlVariant": false,
                                    "isUdt": false,
                                    "isXml": false,
                                    "isJson": false,
                                    "sqlDbType": 5,
                                    "isHierarchyId": false,
                                    "isSqlXmlType": false,
                                    "isUnknownType": false,
                                    "isUpdatable": true,
                                    "allowDBNull": true,
                                    "baseCatalogName": null,
                                    "baseColumnName": null,
                                    "baseSchemaName": null,
                                    "baseServerName": null,
                                    "baseTableName": null,
                                    "columnName": "year",
                                    "columnOrdinal": 4,
                                    "columnSize": 17,
                                    "isAliased": null,
                                    "isAutoIncrement": false,
                                    "isExpression": null,
                                    "isHidden": null,
                                    "isIdentity": false,
                                    "isKey": null,
                                    "isLong": false,
                                    "isReadOnly": false,
                                    "isUnique": false,
                                    "numericPrecision": 4,
                                    "numericScale": 0,
                                    "udtAssemblyQualifiedName": null,
                                    "dataType": "System.Decimal, System.Private.CoreLib, Version=4.0.0.0, Culture=neutral, PublicKeyToken=7cec85d7bea7798e",
                                    "dataTypeName": "decimal"
                                },
                                {
                                    "isBytes": false,
                                    "isChars": true,
                                    "isSqlVariant": false,
                                    "isUdt": false,
                                    "isXml": false,
                                    "isJson": false,
                                    "sqlDbType": 22,
                                    "isHierarchyId": false,
                                    "isSqlXmlType": false,
                                    "isUnknownType": false,
                                    "isUpdatable": true,
                                    "allowDBNull": true,
                                    "baseCatalogName": null,
                                    "baseColumnName": null,
                                    "baseSchemaName": null,
                                    "baseServerName": null,
                                    "baseTableName": null,
                                    "columnName": "grade",
                                    "columnOrdinal": 5,
                                    "columnSize": 2,
                                    "isAliased": null,
                                    "isAutoIncrement": false,
                                    "isExpression": null,
                                    "isHidden": null,
                                    "isIdentity": false,
                                    "isKey": null,
                                    "isLong": false,
                                    "isReadOnly": false,
                                    "isUnique": false,
                                    "numericPrecision": 255,
                                    "numericScale": 255,
                                    "udtAssemblyQualifiedName": null,
                                    "dataType": "System.String, System.Private.CoreLib, Version=4.0.0.0, Culture=neutral, PublicKeyToken=7cec85d7bea7798e",
                                    "dataTypeName": "varchar"
                                },
                                {
                                    "isBytes": false,
                                    "isChars": true,
                                    "isSqlVariant": false,
                                    "isUdt": false,
                                    "isXml": false,
                                    "isJson": false,
                                    "sqlDbType": 22,
                                    "isHierarchyId": false,
                                    "isSqlXmlType": false,
                                    "isUnknownType": false,
                                    "isUpdatable": true,
                                    "allowDBNull": false,
                                    "baseCatalogName": null,
                                    "baseColumnName": null,
                                    "baseSchemaName": null,
                                    "baseServerName": null,
                                    "baseTableName": null,
                                    "columnName": "ID",
                                    "columnOrdinal": 6,
                                    "columnSize": 5,
                                    "isAliased": null,
                                    "isAutoIncrement": false,
                                    "isExpression": null,
                                    "isHidden": null,
                                    "isIdentity": false,
                                    "isKey": null,
                                    "isLong": false,
                                    "isReadOnly": false,
                                    "isUnique": false,
                                    "numericPrecision": 255,
                                    "numericScale": 255,
                                    "udtAssemblyQualifiedName": null,
                                    "dataType": "System.String, System.Private.CoreLib, Version=4.0.0.0, Culture=neutral, PublicKeyToken=7cec85d7bea7798e",
                                    "dataTypeName": "varchar"
                                },
                                {
                                    "isBytes": false,
                                    "isChars": true,
                                    "isSqlVariant": false,
                                    "isUdt": false,
                                    "isXml": false,
                                    "isJson": false,
                                    "sqlDbType": 22,
                                    "isHierarchyId": false,
                                    "isSqlXmlType": false,
                                    "isUnknownType": false,
                                    "isUpdatable": true,
                                    "allowDBNull": false,
                                    "baseCatalogName": null,
                                    "baseColumnName": null,
                                    "baseSchemaName": null,
                                    "baseServerName": null,
                                    "baseTableName": null,
                                    "columnName": "name",
                                    "columnOrdinal": 7,
                                    "columnSize": 20,
                                    "isAliased": null,
                                    "isAutoIncrement": false,
                                    "isExpression": null,
                                    "isHidden": null,
                                    "isIdentity": false,
                                    "isKey": null,
                                    "isLong": false,
                                    "isReadOnly": false,
                                    "isUnique": false,
                                    "numericPrecision": 255,
                                    "numericScale": 255,
                                    "udtAssemblyQualifiedName": null,
                                    "dataType": "System.String, System.Private.CoreLib, Version=4.0.0.0, Culture=neutral, PublicKeyToken=7cec85d7bea7798e",
                                    "dataTypeName": "varchar"
                                },
                                {
                                    "isBytes": false,
                                    "isChars": true,
                                    "isSqlVariant": false,
                                    "isUdt": false,
                                    "isXml": false,
                                    "isJson": false,
                                    "sqlDbType": 22,
                                    "isHierarchyId": false,
                                    "isSqlXmlType": false,
                                    "isUnknownType": false,
                                    "isUpdatable": true,
                                    "allowDBNull": true,
                                    "baseCatalogName": null,
                                    "baseColumnName": null,
                                    "baseSchemaName": null,
                                    "baseServerName": null,
                                    "baseTableName": null,
                                    "columnName": "dept_name",
                                    "columnOrdinal": 8,
                                    "columnSize": 20,
                                    "isAliased": null,
                                    "isAutoIncrement": false,
                                    "isExpression": null,
                                    "isHidden": null,
                                    "isIdentity": false,
                                    "isKey": null,
                                    "isLong": false,
                                    "isReadOnly": false,
                                    "isUnique": false,
                                    "numericPrecision": 255,
                                    "numericScale": 255,
                                    "udtAssemblyQualifiedName": null,
                                    "dataType": "System.String, System.Private.CoreLib, Version=4.0.0.0, Culture=neutral, PublicKeyToken=7cec85d7bea7798e",
                                    "dataTypeName": "varchar"
                                },
                                {
                                    "isBytes": false,
                                    "isChars": false,
                                    "isSqlVariant": false,
                                    "isUdt": false,
                                    "isXml": false,
                                    "isJson": false,
                                    "sqlDbType": 5,
                                    "isHierarchyId": false,
                                    "isSqlXmlType": false,
                                    "isUnknownType": false,
                                    "isUpdatable": true,
                                    "allowDBNull": true,
                                    "baseCatalogName": null,
                                    "baseColumnName": null,
                                    "baseSchemaName": null,
                                    "baseServerName": null,
                                    "baseTableName": null,
                                    "columnName": "tot_cred",
                                    "columnOrdinal": 9,
                                    "columnSize": 17,
                                    "isAliased": null,
                                    "isAutoIncrement": false,
                                    "isExpression": null,
                                    "isHidden": null,
                                    "isIdentity": false,
                                    "isKey": null,
                                    "isLong": false,
                                    "isReadOnly": false,
                                    "isUnique": false,
                                    "numericPrecision": 3,
                                    "numericScale": 0,
                                    "udtAssemblyQualifiedName": null,
                                    "dataType": "System.Decimal, System.Private.CoreLib, Version=4.0.0.0, Culture=neutral, PublicKeyToken=7cec85d7bea7798e",
                                    "dataTypeName": "decimal"
                                }
                            ],
                            "specialAction": {
                                "none": true,
                                "expectYukonXMLShowPlan": false
                            }
                        }
                    }
                }
            ],
            "execution_count": 31
        },
        {
            "cell_type": "markdown",
            "source": [
                "3. ``FULL OUTER JOIN`` preserves tuples in both relations"
            ],
            "metadata": {
                "azdata_cell_guid": "ac3de085-edc5-4ed1-b2e0-70ec1e21e360"
            }
        },
        {
            "cell_type": "code",
            "source": [
                "SELECT *\n",
                "FROM student\n",
                "FULL OUTER JOIN takes ON student.ID = takes.ID\n",
                "WHERE student.ID = '10049';\n",
                "GO"
            ],
            "metadata": {
                "azdata_cell_guid": "8748099c-3fc9-41bf-b0f2-26cb5daf9d18"
            },
            "outputs": [
                {
                    "output_type": "display_data",
                    "data": {
                        "text/html": "(1 row affected)"
                    },
                    "metadata": {}
                },
                {
                    "output_type": "display_data",
                    "data": {
                        "text/html": "Total execution time: 00:00:00.004"
                    },
                    "metadata": {}
                },
                {
                    "output_type": "execute_result",
                    "execution_count": 32,
                    "data": {
                        "application/vnd.dataresource+json": {
                            "schema": {
                                "fields": [
                                    {
                                        "name": "ID"
                                    },
                                    {
                                        "name": "name"
                                    },
                                    {
                                        "name": "dept_name"
                                    },
                                    {
                                        "name": "tot_cred"
                                    },
                                    {
                                        "name": "ID"
                                    },
                                    {
                                        "name": "course_id"
                                    },
                                    {
                                        "name": "sec_id"
                                    },
                                    {
                                        "name": "semester"
                                    },
                                    {
                                        "name": "year"
                                    },
                                    {
                                        "name": "grade"
                                    }
                                ]
                            },
                            "data": [
                                {
                                    "0": "10049",
                                    "1": "Snow",
                                    "2": "Civil Eng.",
                                    "3": "0",
                                    "4": "NULL",
                                    "5": "NULL",
                                    "6": "NULL",
                                    "7": "NULL",
                                    "8": "NULL",
                                    "9": "NULL"
                                }
                            ]
                        },
                        "text/html": "<table><tr><th>ID</th><th>name</th><th>dept_name</th><th>tot_cred</th><th>ID</th><th>course_id</th><th>sec_id</th><th>semester</th><th>year</th><th>grade</th></tr><tr><td>10049</td><td>Snow</td><td>Civil Eng.</td><td>0</td><td>NULL</td><td>NULL</td><td>NULL</td><td>NULL</td><td>NULL</td><td>NULL</td></tr></table>"
                    },
                    "metadata": {
                        "resultSet": {
                            "id": 0,
                            "batchId": 0,
                            "rowCount": 1,
                            "complete": true,
                            "columnInfo": [
                                {
                                    "isBytes": false,
                                    "isChars": true,
                                    "isSqlVariant": false,
                                    "isUdt": false,
                                    "isXml": false,
                                    "isJson": false,
                                    "sqlDbType": 22,
                                    "isHierarchyId": false,
                                    "isSqlXmlType": false,
                                    "isUnknownType": false,
                                    "isUpdatable": true,
                                    "allowDBNull": true,
                                    "baseCatalogName": null,
                                    "baseColumnName": null,
                                    "baseSchemaName": null,
                                    "baseServerName": null,
                                    "baseTableName": null,
                                    "columnName": "ID",
                                    "columnOrdinal": 0,
                                    "columnSize": 5,
                                    "isAliased": null,
                                    "isAutoIncrement": false,
                                    "isExpression": null,
                                    "isHidden": null,
                                    "isIdentity": false,
                                    "isKey": null,
                                    "isLong": false,
                                    "isReadOnly": false,
                                    "isUnique": false,
                                    "numericPrecision": 255,
                                    "numericScale": 255,
                                    "udtAssemblyQualifiedName": null,
                                    "dataType": "System.String, System.Private.CoreLib, Version=4.0.0.0, Culture=neutral, PublicKeyToken=7cec85d7bea7798e",
                                    "dataTypeName": "varchar"
                                },
                                {
                                    "isBytes": false,
                                    "isChars": true,
                                    "isSqlVariant": false,
                                    "isUdt": false,
                                    "isXml": false,
                                    "isJson": false,
                                    "sqlDbType": 22,
                                    "isHierarchyId": false,
                                    "isSqlXmlType": false,
                                    "isUnknownType": false,
                                    "isUpdatable": true,
                                    "allowDBNull": true,
                                    "baseCatalogName": null,
                                    "baseColumnName": null,
                                    "baseSchemaName": null,
                                    "baseServerName": null,
                                    "baseTableName": null,
                                    "columnName": "name",
                                    "columnOrdinal": 1,
                                    "columnSize": 20,
                                    "isAliased": null,
                                    "isAutoIncrement": false,
                                    "isExpression": null,
                                    "isHidden": null,
                                    "isIdentity": false,
                                    "isKey": null,
                                    "isLong": false,
                                    "isReadOnly": false,
                                    "isUnique": false,
                                    "numericPrecision": 255,
                                    "numericScale": 255,
                                    "udtAssemblyQualifiedName": null,
                                    "dataType": "System.String, System.Private.CoreLib, Version=4.0.0.0, Culture=neutral, PublicKeyToken=7cec85d7bea7798e",
                                    "dataTypeName": "varchar"
                                },
                                {
                                    "isBytes": false,
                                    "isChars": true,
                                    "isSqlVariant": false,
                                    "isUdt": false,
                                    "isXml": false,
                                    "isJson": false,
                                    "sqlDbType": 22,
                                    "isHierarchyId": false,
                                    "isSqlXmlType": false,
                                    "isUnknownType": false,
                                    "isUpdatable": true,
                                    "allowDBNull": true,
                                    "baseCatalogName": null,
                                    "baseColumnName": null,
                                    "baseSchemaName": null,
                                    "baseServerName": null,
                                    "baseTableName": null,
                                    "columnName": "dept_name",
                                    "columnOrdinal": 2,
                                    "columnSize": 20,
                                    "isAliased": null,
                                    "isAutoIncrement": false,
                                    "isExpression": null,
                                    "isHidden": null,
                                    "isIdentity": false,
                                    "isKey": null,
                                    "isLong": false,
                                    "isReadOnly": false,
                                    "isUnique": false,
                                    "numericPrecision": 255,
                                    "numericScale": 255,
                                    "udtAssemblyQualifiedName": null,
                                    "dataType": "System.String, System.Private.CoreLib, Version=4.0.0.0, Culture=neutral, PublicKeyToken=7cec85d7bea7798e",
                                    "dataTypeName": "varchar"
                                },
                                {
                                    "isBytes": false,
                                    "isChars": false,
                                    "isSqlVariant": false,
                                    "isUdt": false,
                                    "isXml": false,
                                    "isJson": false,
                                    "sqlDbType": 5,
                                    "isHierarchyId": false,
                                    "isSqlXmlType": false,
                                    "isUnknownType": false,
                                    "isUpdatable": true,
                                    "allowDBNull": true,
                                    "baseCatalogName": null,
                                    "baseColumnName": null,
                                    "baseSchemaName": null,
                                    "baseServerName": null,
                                    "baseTableName": null,
                                    "columnName": "tot_cred",
                                    "columnOrdinal": 3,
                                    "columnSize": 17,
                                    "isAliased": null,
                                    "isAutoIncrement": false,
                                    "isExpression": null,
                                    "isHidden": null,
                                    "isIdentity": false,
                                    "isKey": null,
                                    "isLong": false,
                                    "isReadOnly": false,
                                    "isUnique": false,
                                    "numericPrecision": 3,
                                    "numericScale": 0,
                                    "udtAssemblyQualifiedName": null,
                                    "dataType": "System.Decimal, System.Private.CoreLib, Version=4.0.0.0, Culture=neutral, PublicKeyToken=7cec85d7bea7798e",
                                    "dataTypeName": "decimal"
                                },
                                {
                                    "isBytes": false,
                                    "isChars": true,
                                    "isSqlVariant": false,
                                    "isUdt": false,
                                    "isXml": false,
                                    "isJson": false,
                                    "sqlDbType": 22,
                                    "isHierarchyId": false,
                                    "isSqlXmlType": false,
                                    "isUnknownType": false,
                                    "isUpdatable": true,
                                    "allowDBNull": true,
                                    "baseCatalogName": null,
                                    "baseColumnName": null,
                                    "baseSchemaName": null,
                                    "baseServerName": null,
                                    "baseTableName": null,
                                    "columnName": "ID",
                                    "columnOrdinal": 4,
                                    "columnSize": 5,
                                    "isAliased": null,
                                    "isAutoIncrement": false,
                                    "isExpression": null,
                                    "isHidden": null,
                                    "isIdentity": false,
                                    "isKey": null,
                                    "isLong": false,
                                    "isReadOnly": false,
                                    "isUnique": false,
                                    "numericPrecision": 255,
                                    "numericScale": 255,
                                    "udtAssemblyQualifiedName": null,
                                    "dataType": "System.String, System.Private.CoreLib, Version=4.0.0.0, Culture=neutral, PublicKeyToken=7cec85d7bea7798e",
                                    "dataTypeName": "varchar"
                                },
                                {
                                    "isBytes": false,
                                    "isChars": true,
                                    "isSqlVariant": false,
                                    "isUdt": false,
                                    "isXml": false,
                                    "isJson": false,
                                    "sqlDbType": 22,
                                    "isHierarchyId": false,
                                    "isSqlXmlType": false,
                                    "isUnknownType": false,
                                    "isUpdatable": true,
                                    "allowDBNull": true,
                                    "baseCatalogName": null,
                                    "baseColumnName": null,
                                    "baseSchemaName": null,
                                    "baseServerName": null,
                                    "baseTableName": null,
                                    "columnName": "course_id",
                                    "columnOrdinal": 5,
                                    "columnSize": 8,
                                    "isAliased": null,
                                    "isAutoIncrement": false,
                                    "isExpression": null,
                                    "isHidden": null,
                                    "isIdentity": false,
                                    "isKey": null,
                                    "isLong": false,
                                    "isReadOnly": false,
                                    "isUnique": false,
                                    "numericPrecision": 255,
                                    "numericScale": 255,
                                    "udtAssemblyQualifiedName": null,
                                    "dataType": "System.String, System.Private.CoreLib, Version=4.0.0.0, Culture=neutral, PublicKeyToken=7cec85d7bea7798e",
                                    "dataTypeName": "varchar"
                                },
                                {
                                    "isBytes": false,
                                    "isChars": true,
                                    "isSqlVariant": false,
                                    "isUdt": false,
                                    "isXml": false,
                                    "isJson": false,
                                    "sqlDbType": 22,
                                    "isHierarchyId": false,
                                    "isSqlXmlType": false,
                                    "isUnknownType": false,
                                    "isUpdatable": true,
                                    "allowDBNull": true,
                                    "baseCatalogName": null,
                                    "baseColumnName": null,
                                    "baseSchemaName": null,
                                    "baseServerName": null,
                                    "baseTableName": null,
                                    "columnName": "sec_id",
                                    "columnOrdinal": 6,
                                    "columnSize": 8,
                                    "isAliased": null,
                                    "isAutoIncrement": false,
                                    "isExpression": null,
                                    "isHidden": null,
                                    "isIdentity": false,
                                    "isKey": null,
                                    "isLong": false,
                                    "isReadOnly": false,
                                    "isUnique": false,
                                    "numericPrecision": 255,
                                    "numericScale": 255,
                                    "udtAssemblyQualifiedName": null,
                                    "dataType": "System.String, System.Private.CoreLib, Version=4.0.0.0, Culture=neutral, PublicKeyToken=7cec85d7bea7798e",
                                    "dataTypeName": "varchar"
                                },
                                {
                                    "isBytes": false,
                                    "isChars": true,
                                    "isSqlVariant": false,
                                    "isUdt": false,
                                    "isXml": false,
                                    "isJson": false,
                                    "sqlDbType": 22,
                                    "isHierarchyId": false,
                                    "isSqlXmlType": false,
                                    "isUnknownType": false,
                                    "isUpdatable": true,
                                    "allowDBNull": true,
                                    "baseCatalogName": null,
                                    "baseColumnName": null,
                                    "baseSchemaName": null,
                                    "baseServerName": null,
                                    "baseTableName": null,
                                    "columnName": "semester",
                                    "columnOrdinal": 7,
                                    "columnSize": 6,
                                    "isAliased": null,
                                    "isAutoIncrement": false,
                                    "isExpression": null,
                                    "isHidden": null,
                                    "isIdentity": false,
                                    "isKey": null,
                                    "isLong": false,
                                    "isReadOnly": false,
                                    "isUnique": false,
                                    "numericPrecision": 255,
                                    "numericScale": 255,
                                    "udtAssemblyQualifiedName": null,
                                    "dataType": "System.String, System.Private.CoreLib, Version=4.0.0.0, Culture=neutral, PublicKeyToken=7cec85d7bea7798e",
                                    "dataTypeName": "varchar"
                                },
                                {
                                    "isBytes": false,
                                    "isChars": false,
                                    "isSqlVariant": false,
                                    "isUdt": false,
                                    "isXml": false,
                                    "isJson": false,
                                    "sqlDbType": 5,
                                    "isHierarchyId": false,
                                    "isSqlXmlType": false,
                                    "isUnknownType": false,
                                    "isUpdatable": true,
                                    "allowDBNull": true,
                                    "baseCatalogName": null,
                                    "baseColumnName": null,
                                    "baseSchemaName": null,
                                    "baseServerName": null,
                                    "baseTableName": null,
                                    "columnName": "year",
                                    "columnOrdinal": 8,
                                    "columnSize": 17,
                                    "isAliased": null,
                                    "isAutoIncrement": false,
                                    "isExpression": null,
                                    "isHidden": null,
                                    "isIdentity": false,
                                    "isKey": null,
                                    "isLong": false,
                                    "isReadOnly": false,
                                    "isUnique": false,
                                    "numericPrecision": 4,
                                    "numericScale": 0,
                                    "udtAssemblyQualifiedName": null,
                                    "dataType": "System.Decimal, System.Private.CoreLib, Version=4.0.0.0, Culture=neutral, PublicKeyToken=7cec85d7bea7798e",
                                    "dataTypeName": "decimal"
                                },
                                {
                                    "isBytes": false,
                                    "isChars": true,
                                    "isSqlVariant": false,
                                    "isUdt": false,
                                    "isXml": false,
                                    "isJson": false,
                                    "sqlDbType": 22,
                                    "isHierarchyId": false,
                                    "isSqlXmlType": false,
                                    "isUnknownType": false,
                                    "isUpdatable": true,
                                    "allowDBNull": true,
                                    "baseCatalogName": null,
                                    "baseColumnName": null,
                                    "baseSchemaName": null,
                                    "baseServerName": null,
                                    "baseTableName": null,
                                    "columnName": "grade",
                                    "columnOrdinal": 9,
                                    "columnSize": 2,
                                    "isAliased": null,
                                    "isAutoIncrement": false,
                                    "isExpression": null,
                                    "isHidden": null,
                                    "isIdentity": false,
                                    "isKey": null,
                                    "isLong": false,
                                    "isReadOnly": false,
                                    "isUnique": false,
                                    "numericPrecision": 255,
                                    "numericScale": 255,
                                    "udtAssemblyQualifiedName": null,
                                    "dataType": "System.String, System.Private.CoreLib, Version=4.0.0.0, Culture=neutral, PublicKeyToken=7cec85d7bea7798e",
                                    "dataTypeName": "varchar"
                                }
                            ],
                            "specialAction": {
                                "none": true,
                                "expectYukonXMLShowPlan": false
                            }
                        }
                    }
                }
            ],
            "execution_count": 32
        },
        {
            "cell_type": "markdown",
            "source": [
                "### ``INNER JOIN``\n",
                "\n",
                "In contrast, the join operation that do not preserve nonmatched tuples are called inner join operations. It basically returns a table containing tuples in both relations."
            ],
            "metadata": {
                "azdata_cell_guid": "034ff50e-7dc4-47da-9559-afb8958d8207"
            }
        },
        {
            "cell_type": "code",
            "source": [
                "-- not missing\n",
                "SELECT TOP 6 *\n",
                "FROM student\n",
                "INNER JOIN takes on student.ID = takes.ID;\n",
                "GO\n",
                "\n",
                "-- missing is still...missing\n",
                "SELECT TOP 6 *\n",
                "FROM student\n",
                "INNER JOIN takes ON student.ID = takes.ID\n",
                "WHERE student.ID = '10049';\n",
                "GO"
            ],
            "metadata": {
                "azdata_cell_guid": "f4c50c21-ff93-4657-b4a8-0455844a190c"
            },
            "outputs": [
                {
                    "output_type": "display_data",
                    "data": {
                        "text/html": "(6 rows affected)"
                    },
                    "metadata": {}
                },
                {
                    "output_type": "display_data",
                    "data": {
                        "text/html": "(0 rows affected)"
                    },
                    "metadata": {}
                },
                {
                    "output_type": "display_data",
                    "data": {
                        "text/html": "Total execution time: 00:00:00.010"
                    },
                    "metadata": {}
                },
                {
                    "output_type": "execute_result",
                    "execution_count": 82,
                    "data": {
                        "application/vnd.dataresource+json": {
                            "schema": {
                                "fields": [
                                    {
                                        "name": "ID"
                                    },
                                    {
                                        "name": "name"
                                    },
                                    {
                                        "name": "dept_name"
                                    },
                                    {
                                        "name": "tot_cred"
                                    },
                                    {
                                        "name": "ID"
                                    },
                                    {
                                        "name": "course_id"
                                    },
                                    {
                                        "name": "sec_id"
                                    },
                                    {
                                        "name": "semester"
                                    },
                                    {
                                        "name": "year"
                                    },
                                    {
                                        "name": "grade"
                                    }
                                ]
                            },
                            "data": [
                                {
                                    "0": "1000",
                                    "1": "Manber",
                                    "2": "Civil Eng.",
                                    "3": "39",
                                    "4": "1000",
                                    "5": "239",
                                    "6": "1",
                                    "7": "Fall",
                                    "8": "2006",
                                    "9": "C "
                                },
                                {
                                    "0": "1000",
                                    "1": "Manber",
                                    "2": "Civil Eng.",
                                    "3": "39",
                                    "4": "1000",
                                    "5": "319",
                                    "6": "1",
                                    "7": "Spring",
                                    "8": "2003",
                                    "9": "B+"
                                },
                                {
                                    "0": "1000",
                                    "1": "Manber",
                                    "2": "Civil Eng.",
                                    "3": "39",
                                    "4": "1000",
                                    "5": "362",
                                    "6": "1",
                                    "7": "Fall",
                                    "8": "2005",
                                    "9": "B+"
                                },
                                {
                                    "0": "1000",
                                    "1": "Manber",
                                    "2": "Civil Eng.",
                                    "3": "39",
                                    "4": "1000",
                                    "5": "493",
                                    "6": "1",
                                    "7": "Spring",
                                    "8": "2010",
                                    "9": "A-"
                                },
                                {
                                    "0": "1000",
                                    "1": "Manber",
                                    "2": "Civil Eng.",
                                    "3": "39",
                                    "4": "1000",
                                    "5": "571",
                                    "6": "1",
                                    "7": "Spring",
                                    "8": "2004",
                                    "9": "C+"
                                },
                                {
                                    "0": "1000",
                                    "1": "Manber",
                                    "2": "Civil Eng.",
                                    "3": "39",
                                    "4": "1000",
                                    "5": "642",
                                    "6": "1",
                                    "7": "Fall",
                                    "8": "2004",
                                    "9": "C-"
                                }
                            ]
                        },
                        "text/html": "<table><tr><th>ID</th><th>name</th><th>dept_name</th><th>tot_cred</th><th>ID</th><th>course_id</th><th>sec_id</th><th>semester</th><th>year</th><th>grade</th></tr><tr><td>1000</td><td>Manber</td><td>Civil Eng.</td><td>39</td><td>1000</td><td>239</td><td>1</td><td>Fall</td><td>2006</td><td>C </td></tr><tr><td>1000</td><td>Manber</td><td>Civil Eng.</td><td>39</td><td>1000</td><td>319</td><td>1</td><td>Spring</td><td>2003</td><td>B+</td></tr><tr><td>1000</td><td>Manber</td><td>Civil Eng.</td><td>39</td><td>1000</td><td>362</td><td>1</td><td>Fall</td><td>2005</td><td>B+</td></tr><tr><td>1000</td><td>Manber</td><td>Civil Eng.</td><td>39</td><td>1000</td><td>493</td><td>1</td><td>Spring</td><td>2010</td><td>A-</td></tr><tr><td>1000</td><td>Manber</td><td>Civil Eng.</td><td>39</td><td>1000</td><td>571</td><td>1</td><td>Spring</td><td>2004</td><td>C+</td></tr><tr><td>1000</td><td>Manber</td><td>Civil Eng.</td><td>39</td><td>1000</td><td>642</td><td>1</td><td>Fall</td><td>2004</td><td>C-</td></tr></table>"
                    },
                    "metadata": {
                        "resultSet": {
                            "id": 0,
                            "batchId": 0,
                            "rowCount": 6,
                            "complete": true,
                            "columnInfo": [
                                {
                                    "isBytes": false,
                                    "isChars": true,
                                    "isSqlVariant": false,
                                    "isUdt": false,
                                    "isXml": false,
                                    "isJson": false,
                                    "sqlDbType": 22,
                                    "isHierarchyId": false,
                                    "isSqlXmlType": false,
                                    "isUnknownType": false,
                                    "isUpdatable": true,
                                    "allowDBNull": false,
                                    "baseCatalogName": null,
                                    "baseColumnName": null,
                                    "baseSchemaName": null,
                                    "baseServerName": null,
                                    "baseTableName": null,
                                    "columnName": "ID",
                                    "columnOrdinal": 0,
                                    "columnSize": 5,
                                    "isAliased": null,
                                    "isAutoIncrement": false,
                                    "isExpression": null,
                                    "isHidden": null,
                                    "isIdentity": false,
                                    "isKey": null,
                                    "isLong": false,
                                    "isReadOnly": false,
                                    "isUnique": false,
                                    "numericPrecision": 255,
                                    "numericScale": 255,
                                    "udtAssemblyQualifiedName": null,
                                    "dataType": "System.String, System.Private.CoreLib, Version=4.0.0.0, Culture=neutral, PublicKeyToken=7cec85d7bea7798e",
                                    "dataTypeName": "varchar"
                                },
                                {
                                    "isBytes": false,
                                    "isChars": true,
                                    "isSqlVariant": false,
                                    "isUdt": false,
                                    "isXml": false,
                                    "isJson": false,
                                    "sqlDbType": 22,
                                    "isHierarchyId": false,
                                    "isSqlXmlType": false,
                                    "isUnknownType": false,
                                    "isUpdatable": true,
                                    "allowDBNull": false,
                                    "baseCatalogName": null,
                                    "baseColumnName": null,
                                    "baseSchemaName": null,
                                    "baseServerName": null,
                                    "baseTableName": null,
                                    "columnName": "name",
                                    "columnOrdinal": 1,
                                    "columnSize": 20,
                                    "isAliased": null,
                                    "isAutoIncrement": false,
                                    "isExpression": null,
                                    "isHidden": null,
                                    "isIdentity": false,
                                    "isKey": null,
                                    "isLong": false,
                                    "isReadOnly": false,
                                    "isUnique": false,
                                    "numericPrecision": 255,
                                    "numericScale": 255,
                                    "udtAssemblyQualifiedName": null,
                                    "dataType": "System.String, System.Private.CoreLib, Version=4.0.0.0, Culture=neutral, PublicKeyToken=7cec85d7bea7798e",
                                    "dataTypeName": "varchar"
                                },
                                {
                                    "isBytes": false,
                                    "isChars": true,
                                    "isSqlVariant": false,
                                    "isUdt": false,
                                    "isXml": false,
                                    "isJson": false,
                                    "sqlDbType": 22,
                                    "isHierarchyId": false,
                                    "isSqlXmlType": false,
                                    "isUnknownType": false,
                                    "isUpdatable": true,
                                    "allowDBNull": true,
                                    "baseCatalogName": null,
                                    "baseColumnName": null,
                                    "baseSchemaName": null,
                                    "baseServerName": null,
                                    "baseTableName": null,
                                    "columnName": "dept_name",
                                    "columnOrdinal": 2,
                                    "columnSize": 20,
                                    "isAliased": null,
                                    "isAutoIncrement": false,
                                    "isExpression": null,
                                    "isHidden": null,
                                    "isIdentity": false,
                                    "isKey": null,
                                    "isLong": false,
                                    "isReadOnly": false,
                                    "isUnique": false,
                                    "numericPrecision": 255,
                                    "numericScale": 255,
                                    "udtAssemblyQualifiedName": null,
                                    "dataType": "System.String, System.Private.CoreLib, Version=4.0.0.0, Culture=neutral, PublicKeyToken=7cec85d7bea7798e",
                                    "dataTypeName": "varchar"
                                },
                                {
                                    "isBytes": false,
                                    "isChars": false,
                                    "isSqlVariant": false,
                                    "isUdt": false,
                                    "isXml": false,
                                    "isJson": false,
                                    "sqlDbType": 5,
                                    "isHierarchyId": false,
                                    "isSqlXmlType": false,
                                    "isUnknownType": false,
                                    "isUpdatable": true,
                                    "allowDBNull": true,
                                    "baseCatalogName": null,
                                    "baseColumnName": null,
                                    "baseSchemaName": null,
                                    "baseServerName": null,
                                    "baseTableName": null,
                                    "columnName": "tot_cred",
                                    "columnOrdinal": 3,
                                    "columnSize": 17,
                                    "isAliased": null,
                                    "isAutoIncrement": false,
                                    "isExpression": null,
                                    "isHidden": null,
                                    "isIdentity": false,
                                    "isKey": null,
                                    "isLong": false,
                                    "isReadOnly": false,
                                    "isUnique": false,
                                    "numericPrecision": 3,
                                    "numericScale": 0,
                                    "udtAssemblyQualifiedName": null,
                                    "dataType": "System.Decimal, System.Private.CoreLib, Version=4.0.0.0, Culture=neutral, PublicKeyToken=7cec85d7bea7798e",
                                    "dataTypeName": "decimal"
                                },
                                {
                                    "isBytes": false,
                                    "isChars": true,
                                    "isSqlVariant": false,
                                    "isUdt": false,
                                    "isXml": false,
                                    "isJson": false,
                                    "sqlDbType": 22,
                                    "isHierarchyId": false,
                                    "isSqlXmlType": false,
                                    "isUnknownType": false,
                                    "isUpdatable": true,
                                    "allowDBNull": false,
                                    "baseCatalogName": null,
                                    "baseColumnName": null,
                                    "baseSchemaName": null,
                                    "baseServerName": null,
                                    "baseTableName": null,
                                    "columnName": "ID",
                                    "columnOrdinal": 4,
                                    "columnSize": 5,
                                    "isAliased": null,
                                    "isAutoIncrement": false,
                                    "isExpression": null,
                                    "isHidden": null,
                                    "isIdentity": false,
                                    "isKey": null,
                                    "isLong": false,
                                    "isReadOnly": false,
                                    "isUnique": false,
                                    "numericPrecision": 255,
                                    "numericScale": 255,
                                    "udtAssemblyQualifiedName": null,
                                    "dataType": "System.String, System.Private.CoreLib, Version=4.0.0.0, Culture=neutral, PublicKeyToken=7cec85d7bea7798e",
                                    "dataTypeName": "varchar"
                                },
                                {
                                    "isBytes": false,
                                    "isChars": true,
                                    "isSqlVariant": false,
                                    "isUdt": false,
                                    "isXml": false,
                                    "isJson": false,
                                    "sqlDbType": 22,
                                    "isHierarchyId": false,
                                    "isSqlXmlType": false,
                                    "isUnknownType": false,
                                    "isUpdatable": true,
                                    "allowDBNull": false,
                                    "baseCatalogName": null,
                                    "baseColumnName": null,
                                    "baseSchemaName": null,
                                    "baseServerName": null,
                                    "baseTableName": null,
                                    "columnName": "course_id",
                                    "columnOrdinal": 5,
                                    "columnSize": 8,
                                    "isAliased": null,
                                    "isAutoIncrement": false,
                                    "isExpression": null,
                                    "isHidden": null,
                                    "isIdentity": false,
                                    "isKey": null,
                                    "isLong": false,
                                    "isReadOnly": false,
                                    "isUnique": false,
                                    "numericPrecision": 255,
                                    "numericScale": 255,
                                    "udtAssemblyQualifiedName": null,
                                    "dataType": "System.String, System.Private.CoreLib, Version=4.0.0.0, Culture=neutral, PublicKeyToken=7cec85d7bea7798e",
                                    "dataTypeName": "varchar"
                                },
                                {
                                    "isBytes": false,
                                    "isChars": true,
                                    "isSqlVariant": false,
                                    "isUdt": false,
                                    "isXml": false,
                                    "isJson": false,
                                    "sqlDbType": 22,
                                    "isHierarchyId": false,
                                    "isSqlXmlType": false,
                                    "isUnknownType": false,
                                    "isUpdatable": true,
                                    "allowDBNull": false,
                                    "baseCatalogName": null,
                                    "baseColumnName": null,
                                    "baseSchemaName": null,
                                    "baseServerName": null,
                                    "baseTableName": null,
                                    "columnName": "sec_id",
                                    "columnOrdinal": 6,
                                    "columnSize": 8,
                                    "isAliased": null,
                                    "isAutoIncrement": false,
                                    "isExpression": null,
                                    "isHidden": null,
                                    "isIdentity": false,
                                    "isKey": null,
                                    "isLong": false,
                                    "isReadOnly": false,
                                    "isUnique": false,
                                    "numericPrecision": 255,
                                    "numericScale": 255,
                                    "udtAssemblyQualifiedName": null,
                                    "dataType": "System.String, System.Private.CoreLib, Version=4.0.0.0, Culture=neutral, PublicKeyToken=7cec85d7bea7798e",
                                    "dataTypeName": "varchar"
                                },
                                {
                                    "isBytes": false,
                                    "isChars": true,
                                    "isSqlVariant": false,
                                    "isUdt": false,
                                    "isXml": false,
                                    "isJson": false,
                                    "sqlDbType": 22,
                                    "isHierarchyId": false,
                                    "isSqlXmlType": false,
                                    "isUnknownType": false,
                                    "isUpdatable": true,
                                    "allowDBNull": false,
                                    "baseCatalogName": null,
                                    "baseColumnName": null,
                                    "baseSchemaName": null,
                                    "baseServerName": null,
                                    "baseTableName": null,
                                    "columnName": "semester",
                                    "columnOrdinal": 7,
                                    "columnSize": 6,
                                    "isAliased": null,
                                    "isAutoIncrement": false,
                                    "isExpression": null,
                                    "isHidden": null,
                                    "isIdentity": false,
                                    "isKey": null,
                                    "isLong": false,
                                    "isReadOnly": false,
                                    "isUnique": false,
                                    "numericPrecision": 255,
                                    "numericScale": 255,
                                    "udtAssemblyQualifiedName": null,
                                    "dataType": "System.String, System.Private.CoreLib, Version=4.0.0.0, Culture=neutral, PublicKeyToken=7cec85d7bea7798e",
                                    "dataTypeName": "varchar"
                                },
                                {
                                    "isBytes": false,
                                    "isChars": false,
                                    "isSqlVariant": false,
                                    "isUdt": false,
                                    "isXml": false,
                                    "isJson": false,
                                    "sqlDbType": 5,
                                    "isHierarchyId": false,
                                    "isSqlXmlType": false,
                                    "isUnknownType": false,
                                    "isUpdatable": true,
                                    "allowDBNull": false,
                                    "baseCatalogName": null,
                                    "baseColumnName": null,
                                    "baseSchemaName": null,
                                    "baseServerName": null,
                                    "baseTableName": null,
                                    "columnName": "year",
                                    "columnOrdinal": 8,
                                    "columnSize": 17,
                                    "isAliased": null,
                                    "isAutoIncrement": false,
                                    "isExpression": null,
                                    "isHidden": null,
                                    "isIdentity": false,
                                    "isKey": null,
                                    "isLong": false,
                                    "isReadOnly": false,
                                    "isUnique": false,
                                    "numericPrecision": 4,
                                    "numericScale": 0,
                                    "udtAssemblyQualifiedName": null,
                                    "dataType": "System.Decimal, System.Private.CoreLib, Version=4.0.0.0, Culture=neutral, PublicKeyToken=7cec85d7bea7798e",
                                    "dataTypeName": "decimal"
                                },
                                {
                                    "isBytes": false,
                                    "isChars": true,
                                    "isSqlVariant": false,
                                    "isUdt": false,
                                    "isXml": false,
                                    "isJson": false,
                                    "sqlDbType": 22,
                                    "isHierarchyId": false,
                                    "isSqlXmlType": false,
                                    "isUnknownType": false,
                                    "isUpdatable": true,
                                    "allowDBNull": true,
                                    "baseCatalogName": null,
                                    "baseColumnName": null,
                                    "baseSchemaName": null,
                                    "baseServerName": null,
                                    "baseTableName": null,
                                    "columnName": "grade",
                                    "columnOrdinal": 9,
                                    "columnSize": 2,
                                    "isAliased": null,
                                    "isAutoIncrement": false,
                                    "isExpression": null,
                                    "isHidden": null,
                                    "isIdentity": false,
                                    "isKey": null,
                                    "isLong": false,
                                    "isReadOnly": false,
                                    "isUnique": false,
                                    "numericPrecision": 255,
                                    "numericScale": 255,
                                    "udtAssemblyQualifiedName": null,
                                    "dataType": "System.String, System.Private.CoreLib, Version=4.0.0.0, Culture=neutral, PublicKeyToken=7cec85d7bea7798e",
                                    "dataTypeName": "varchar"
                                }
                            ],
                            "specialAction": {
                                "none": true,
                                "expectYukonXMLShowPlan": false
                            }
                        }
                    }
                },
                {
                    "output_type": "execute_result",
                    "execution_count": 82,
                    "data": {
                        "application/vnd.dataresource+json": {
                            "schema": {
                                "fields": [
                                    {
                                        "name": "ID"
                                    },
                                    {
                                        "name": "name"
                                    },
                                    {
                                        "name": "dept_name"
                                    },
                                    {
                                        "name": "tot_cred"
                                    },
                                    {
                                        "name": "ID"
                                    },
                                    {
                                        "name": "course_id"
                                    },
                                    {
                                        "name": "sec_id"
                                    },
                                    {
                                        "name": "semester"
                                    },
                                    {
                                        "name": "year"
                                    },
                                    {
                                        "name": "grade"
                                    }
                                ]
                            },
                            "data": []
                        },
                        "text/html": "<table><tr><th>ID</th><th>name</th><th>dept_name</th><th>tot_cred</th><th>ID</th><th>course_id</th><th>sec_id</th><th>semester</th><th>year</th><th>grade</th></tr></table>"
                    },
                    "metadata": {
                        "resultSet": {
                            "id": 0,
                            "batchId": 1,
                            "rowCount": 0,
                            "complete": false,
                            "columnInfo": [
                                {
                                    "isBytes": false,
                                    "isChars": true,
                                    "isSqlVariant": false,
                                    "isUdt": false,
                                    "isXml": false,
                                    "isJson": false,
                                    "sqlDbType": 22,
                                    "isHierarchyId": false,
                                    "isSqlXmlType": false,
                                    "isUnknownType": false,
                                    "isUpdatable": true,
                                    "allowDBNull": false,
                                    "baseCatalogName": null,
                                    "baseColumnName": null,
                                    "baseSchemaName": null,
                                    "baseServerName": null,
                                    "baseTableName": null,
                                    "columnName": "ID",
                                    "columnOrdinal": 0,
                                    "columnSize": 5,
                                    "isAliased": null,
                                    "isAutoIncrement": false,
                                    "isExpression": null,
                                    "isHidden": null,
                                    "isIdentity": false,
                                    "isKey": null,
                                    "isLong": false,
                                    "isReadOnly": false,
                                    "isUnique": false,
                                    "numericPrecision": 255,
                                    "numericScale": 255,
                                    "udtAssemblyQualifiedName": null,
                                    "dataType": "System.String, System.Private.CoreLib, Version=4.0.0.0, Culture=neutral, PublicKeyToken=7cec85d7bea7798e",
                                    "dataTypeName": "varchar"
                                },
                                {
                                    "isBytes": false,
                                    "isChars": true,
                                    "isSqlVariant": false,
                                    "isUdt": false,
                                    "isXml": false,
                                    "isJson": false,
                                    "sqlDbType": 22,
                                    "isHierarchyId": false,
                                    "isSqlXmlType": false,
                                    "isUnknownType": false,
                                    "isUpdatable": true,
                                    "allowDBNull": false,
                                    "baseCatalogName": null,
                                    "baseColumnName": null,
                                    "baseSchemaName": null,
                                    "baseServerName": null,
                                    "baseTableName": null,
                                    "columnName": "name",
                                    "columnOrdinal": 1,
                                    "columnSize": 20,
                                    "isAliased": null,
                                    "isAutoIncrement": false,
                                    "isExpression": null,
                                    "isHidden": null,
                                    "isIdentity": false,
                                    "isKey": null,
                                    "isLong": false,
                                    "isReadOnly": false,
                                    "isUnique": false,
                                    "numericPrecision": 255,
                                    "numericScale": 255,
                                    "udtAssemblyQualifiedName": null,
                                    "dataType": "System.String, System.Private.CoreLib, Version=4.0.0.0, Culture=neutral, PublicKeyToken=7cec85d7bea7798e",
                                    "dataTypeName": "varchar"
                                },
                                {
                                    "isBytes": false,
                                    "isChars": true,
                                    "isSqlVariant": false,
                                    "isUdt": false,
                                    "isXml": false,
                                    "isJson": false,
                                    "sqlDbType": 22,
                                    "isHierarchyId": false,
                                    "isSqlXmlType": false,
                                    "isUnknownType": false,
                                    "isUpdatable": true,
                                    "allowDBNull": true,
                                    "baseCatalogName": null,
                                    "baseColumnName": null,
                                    "baseSchemaName": null,
                                    "baseServerName": null,
                                    "baseTableName": null,
                                    "columnName": "dept_name",
                                    "columnOrdinal": 2,
                                    "columnSize": 20,
                                    "isAliased": null,
                                    "isAutoIncrement": false,
                                    "isExpression": null,
                                    "isHidden": null,
                                    "isIdentity": false,
                                    "isKey": null,
                                    "isLong": false,
                                    "isReadOnly": false,
                                    "isUnique": false,
                                    "numericPrecision": 255,
                                    "numericScale": 255,
                                    "udtAssemblyQualifiedName": null,
                                    "dataType": "System.String, System.Private.CoreLib, Version=4.0.0.0, Culture=neutral, PublicKeyToken=7cec85d7bea7798e",
                                    "dataTypeName": "varchar"
                                },
                                {
                                    "isBytes": false,
                                    "isChars": false,
                                    "isSqlVariant": false,
                                    "isUdt": false,
                                    "isXml": false,
                                    "isJson": false,
                                    "sqlDbType": 5,
                                    "isHierarchyId": false,
                                    "isSqlXmlType": false,
                                    "isUnknownType": false,
                                    "isUpdatable": true,
                                    "allowDBNull": true,
                                    "baseCatalogName": null,
                                    "baseColumnName": null,
                                    "baseSchemaName": null,
                                    "baseServerName": null,
                                    "baseTableName": null,
                                    "columnName": "tot_cred",
                                    "columnOrdinal": 3,
                                    "columnSize": 17,
                                    "isAliased": null,
                                    "isAutoIncrement": false,
                                    "isExpression": null,
                                    "isHidden": null,
                                    "isIdentity": false,
                                    "isKey": null,
                                    "isLong": false,
                                    "isReadOnly": false,
                                    "isUnique": false,
                                    "numericPrecision": 3,
                                    "numericScale": 0,
                                    "udtAssemblyQualifiedName": null,
                                    "dataType": "System.Decimal, System.Private.CoreLib, Version=4.0.0.0, Culture=neutral, PublicKeyToken=7cec85d7bea7798e",
                                    "dataTypeName": "decimal"
                                },
                                {
                                    "isBytes": false,
                                    "isChars": true,
                                    "isSqlVariant": false,
                                    "isUdt": false,
                                    "isXml": false,
                                    "isJson": false,
                                    "sqlDbType": 22,
                                    "isHierarchyId": false,
                                    "isSqlXmlType": false,
                                    "isUnknownType": false,
                                    "isUpdatable": true,
                                    "allowDBNull": false,
                                    "baseCatalogName": null,
                                    "baseColumnName": null,
                                    "baseSchemaName": null,
                                    "baseServerName": null,
                                    "baseTableName": null,
                                    "columnName": "ID",
                                    "columnOrdinal": 4,
                                    "columnSize": 5,
                                    "isAliased": null,
                                    "isAutoIncrement": false,
                                    "isExpression": null,
                                    "isHidden": null,
                                    "isIdentity": false,
                                    "isKey": null,
                                    "isLong": false,
                                    "isReadOnly": false,
                                    "isUnique": false,
                                    "numericPrecision": 255,
                                    "numericScale": 255,
                                    "udtAssemblyQualifiedName": null,
                                    "dataType": "System.String, System.Private.CoreLib, Version=4.0.0.0, Culture=neutral, PublicKeyToken=7cec85d7bea7798e",
                                    "dataTypeName": "varchar"
                                },
                                {
                                    "isBytes": false,
                                    "isChars": true,
                                    "isSqlVariant": false,
                                    "isUdt": false,
                                    "isXml": false,
                                    "isJson": false,
                                    "sqlDbType": 22,
                                    "isHierarchyId": false,
                                    "isSqlXmlType": false,
                                    "isUnknownType": false,
                                    "isUpdatable": true,
                                    "allowDBNull": false,
                                    "baseCatalogName": null,
                                    "baseColumnName": null,
                                    "baseSchemaName": null,
                                    "baseServerName": null,
                                    "baseTableName": null,
                                    "columnName": "course_id",
                                    "columnOrdinal": 5,
                                    "columnSize": 8,
                                    "isAliased": null,
                                    "isAutoIncrement": false,
                                    "isExpression": null,
                                    "isHidden": null,
                                    "isIdentity": false,
                                    "isKey": null,
                                    "isLong": false,
                                    "isReadOnly": false,
                                    "isUnique": false,
                                    "numericPrecision": 255,
                                    "numericScale": 255,
                                    "udtAssemblyQualifiedName": null,
                                    "dataType": "System.String, System.Private.CoreLib, Version=4.0.0.0, Culture=neutral, PublicKeyToken=7cec85d7bea7798e",
                                    "dataTypeName": "varchar"
                                },
                                {
                                    "isBytes": false,
                                    "isChars": true,
                                    "isSqlVariant": false,
                                    "isUdt": false,
                                    "isXml": false,
                                    "isJson": false,
                                    "sqlDbType": 22,
                                    "isHierarchyId": false,
                                    "isSqlXmlType": false,
                                    "isUnknownType": false,
                                    "isUpdatable": true,
                                    "allowDBNull": false,
                                    "baseCatalogName": null,
                                    "baseColumnName": null,
                                    "baseSchemaName": null,
                                    "baseServerName": null,
                                    "baseTableName": null,
                                    "columnName": "sec_id",
                                    "columnOrdinal": 6,
                                    "columnSize": 8,
                                    "isAliased": null,
                                    "isAutoIncrement": false,
                                    "isExpression": null,
                                    "isHidden": null,
                                    "isIdentity": false,
                                    "isKey": null,
                                    "isLong": false,
                                    "isReadOnly": false,
                                    "isUnique": false,
                                    "numericPrecision": 255,
                                    "numericScale": 255,
                                    "udtAssemblyQualifiedName": null,
                                    "dataType": "System.String, System.Private.CoreLib, Version=4.0.0.0, Culture=neutral, PublicKeyToken=7cec85d7bea7798e",
                                    "dataTypeName": "varchar"
                                },
                                {
                                    "isBytes": false,
                                    "isChars": true,
                                    "isSqlVariant": false,
                                    "isUdt": false,
                                    "isXml": false,
                                    "isJson": false,
                                    "sqlDbType": 22,
                                    "isHierarchyId": false,
                                    "isSqlXmlType": false,
                                    "isUnknownType": false,
                                    "isUpdatable": true,
                                    "allowDBNull": false,
                                    "baseCatalogName": null,
                                    "baseColumnName": null,
                                    "baseSchemaName": null,
                                    "baseServerName": null,
                                    "baseTableName": null,
                                    "columnName": "semester",
                                    "columnOrdinal": 7,
                                    "columnSize": 6,
                                    "isAliased": null,
                                    "isAutoIncrement": false,
                                    "isExpression": null,
                                    "isHidden": null,
                                    "isIdentity": false,
                                    "isKey": null,
                                    "isLong": false,
                                    "isReadOnly": false,
                                    "isUnique": false,
                                    "numericPrecision": 255,
                                    "numericScale": 255,
                                    "udtAssemblyQualifiedName": null,
                                    "dataType": "System.String, System.Private.CoreLib, Version=4.0.0.0, Culture=neutral, PublicKeyToken=7cec85d7bea7798e",
                                    "dataTypeName": "varchar"
                                },
                                {
                                    "isBytes": false,
                                    "isChars": false,
                                    "isSqlVariant": false,
                                    "isUdt": false,
                                    "isXml": false,
                                    "isJson": false,
                                    "sqlDbType": 5,
                                    "isHierarchyId": false,
                                    "isSqlXmlType": false,
                                    "isUnknownType": false,
                                    "isUpdatable": true,
                                    "allowDBNull": false,
                                    "baseCatalogName": null,
                                    "baseColumnName": null,
                                    "baseSchemaName": null,
                                    "baseServerName": null,
                                    "baseTableName": null,
                                    "columnName": "year",
                                    "columnOrdinal": 8,
                                    "columnSize": 17,
                                    "isAliased": null,
                                    "isAutoIncrement": false,
                                    "isExpression": null,
                                    "isHidden": null,
                                    "isIdentity": false,
                                    "isKey": null,
                                    "isLong": false,
                                    "isReadOnly": false,
                                    "isUnique": false,
                                    "numericPrecision": 4,
                                    "numericScale": 0,
                                    "udtAssemblyQualifiedName": null,
                                    "dataType": "System.Decimal, System.Private.CoreLib, Version=4.0.0.0, Culture=neutral, PublicKeyToken=7cec85d7bea7798e",
                                    "dataTypeName": "decimal"
                                },
                                {
                                    "isBytes": false,
                                    "isChars": true,
                                    "isSqlVariant": false,
                                    "isUdt": false,
                                    "isXml": false,
                                    "isJson": false,
                                    "sqlDbType": 22,
                                    "isHierarchyId": false,
                                    "isSqlXmlType": false,
                                    "isUnknownType": false,
                                    "isUpdatable": true,
                                    "allowDBNull": true,
                                    "baseCatalogName": null,
                                    "baseColumnName": null,
                                    "baseSchemaName": null,
                                    "baseServerName": null,
                                    "baseTableName": null,
                                    "columnName": "grade",
                                    "columnOrdinal": 9,
                                    "columnSize": 2,
                                    "isAliased": null,
                                    "isAutoIncrement": false,
                                    "isExpression": null,
                                    "isHidden": null,
                                    "isIdentity": false,
                                    "isKey": null,
                                    "isLong": false,
                                    "isReadOnly": false,
                                    "isUnique": false,
                                    "numericPrecision": 255,
                                    "numericScale": 255,
                                    "udtAssemblyQualifiedName": null,
                                    "dataType": "System.String, System.Private.CoreLib, Version=4.0.0.0, Culture=neutral, PublicKeyToken=7cec85d7bea7798e",
                                    "dataTypeName": "varchar"
                                }
                            ],
                            "specialAction": null
                        }
                    }
                }
            ],
            "execution_count": 82
        },
        {
            "cell_type": "markdown",
            "source": [
                "### `Cross Join`\n",
                "\n",
                "The SQL CROSS JOIN produces a result set which is the number of rows in the first table multiplied by the number of rows in the second table if no WHERE clause is used along with CROSS JOIN.This kind of result is called as Cartesian Product.  \n",
                ""
            ],
            "metadata": {
                "azdata_cell_guid": "9c9e2f9c-2121-44a0-9e24-0bdb6bb3a0e6"
            }
        },
        {
            "cell_type": "code",
            "source": [
                "SELECT COUNT(student.ID) AS [count]\n",
                "FROM student\n",
                "CROSS JOIN takes;\n",
                "GO\n",
                "\n",
                "SELECT COUNT(ID) AS [count]\n",
                "FROM student;\n",
                "GO\n",
                "\n",
                "SELECT COUNT(ID) AS [count]\n",
                "FROM takes;\n",
                "GO\n",
                "\n",
                "SELECT "
            ],
            "metadata": {
                "azdata_cell_guid": "52a07b63-0c21-4e7c-bb03-c10ae935f556",
                "tags": []
            },
            "outputs": [
                {
                    "output_type": "display_data",
                    "data": {
                        "text/html": "(1 row affected)"
                    },
                    "metadata": {}
                },
                {
                    "output_type": "display_data",
                    "data": {
                        "text/html": "(1 row affected)"
                    },
                    "metadata": {}
                },
                {
                    "output_type": "display_data",
                    "data": {
                        "text/html": "(1 row affected)"
                    },
                    "metadata": {}
                },
                {
                    "output_type": "display_data",
                    "data": {
                        "text/html": "Total execution time: 00:00:00.016"
                    },
                    "metadata": {}
                },
                {
                    "output_type": "execute_result",
                    "execution_count": 45,
                    "data": {
                        "application/vnd.dataresource+json": {
                            "schema": {
                                "fields": [
                                    {
                                        "name": "count"
                                    }
                                ]
                            },
                            "data": [
                                {
                                    "0": "60060000"
                                }
                            ]
                        },
                        "text/html": "<table><tr><th>count</th></tr><tr><td>60060000</td></tr></table>"
                    },
                    "metadata": {
                        "resultSet": {
                            "id": 0,
                            "batchId": 0,
                            "rowCount": 1,
                            "complete": true,
                            "columnInfo": [
                                {
                                    "isBytes": false,
                                    "isChars": false,
                                    "isSqlVariant": false,
                                    "isUdt": false,
                                    "isXml": false,
                                    "isJson": false,
                                    "sqlDbType": 8,
                                    "isHierarchyId": false,
                                    "isSqlXmlType": false,
                                    "isUnknownType": false,
                                    "isUpdatable": false,
                                    "allowDBNull": true,
                                    "baseCatalogName": null,
                                    "baseColumnName": null,
                                    "baseSchemaName": null,
                                    "baseServerName": null,
                                    "baseTableName": null,
                                    "columnName": "count",
                                    "columnOrdinal": 0,
                                    "columnSize": 4,
                                    "isAliased": null,
                                    "isAutoIncrement": false,
                                    "isExpression": null,
                                    "isHidden": null,
                                    "isIdentity": false,
                                    "isKey": null,
                                    "isLong": false,
                                    "isReadOnly": true,
                                    "isUnique": false,
                                    "numericPrecision": 10,
                                    "numericScale": 255,
                                    "udtAssemblyQualifiedName": null,
                                    "dataType": "System.Int32, System.Private.CoreLib, Version=4.0.0.0, Culture=neutral, PublicKeyToken=7cec85d7bea7798e",
                                    "dataTypeName": "int"
                                }
                            ],
                            "specialAction": {
                                "none": true,
                                "expectYukonXMLShowPlan": false
                            }
                        }
                    }
                },
                {
                    "output_type": "execute_result",
                    "execution_count": 45,
                    "data": {
                        "application/vnd.dataresource+json": {
                            "schema": {
                                "fields": [
                                    {
                                        "name": "count"
                                    }
                                ]
                            },
                            "data": [
                                {
                                    "0": "2002"
                                }
                            ]
                        },
                        "text/html": "<table><tr><th>count</th></tr><tr><td>2002</td></tr></table>"
                    },
                    "metadata": {
                        "resultSet": {
                            "id": 0,
                            "batchId": 1,
                            "rowCount": 1,
                            "complete": true,
                            "columnInfo": [
                                {
                                    "isBytes": false,
                                    "isChars": false,
                                    "isSqlVariant": false,
                                    "isUdt": false,
                                    "isXml": false,
                                    "isJson": false,
                                    "sqlDbType": 8,
                                    "isHierarchyId": false,
                                    "isSqlXmlType": false,
                                    "isUnknownType": false,
                                    "isUpdatable": false,
                                    "allowDBNull": true,
                                    "baseCatalogName": null,
                                    "baseColumnName": null,
                                    "baseSchemaName": null,
                                    "baseServerName": null,
                                    "baseTableName": null,
                                    "columnName": "count",
                                    "columnOrdinal": 0,
                                    "columnSize": 4,
                                    "isAliased": null,
                                    "isAutoIncrement": false,
                                    "isExpression": null,
                                    "isHidden": null,
                                    "isIdentity": false,
                                    "isKey": null,
                                    "isLong": false,
                                    "isReadOnly": true,
                                    "isUnique": false,
                                    "numericPrecision": 10,
                                    "numericScale": 255,
                                    "udtAssemblyQualifiedName": null,
                                    "dataType": "System.Int32, System.Private.CoreLib, Version=4.0.0.0, Culture=neutral, PublicKeyToken=7cec85d7bea7798e",
                                    "dataTypeName": "int"
                                }
                            ],
                            "specialAction": {
                                "none": true,
                                "expectYukonXMLShowPlan": false
                            }
                        }
                    }
                },
                {
                    "output_type": "execute_result",
                    "execution_count": 45,
                    "data": {
                        "application/vnd.dataresource+json": {
                            "schema": {
                                "fields": [
                                    {
                                        "name": "count"
                                    }
                                ]
                            },
                            "data": [
                                {
                                    "0": "30000"
                                }
                            ]
                        },
                        "text/html": "<table><tr><th>count</th></tr><tr><td>30000</td></tr></table>"
                    },
                    "metadata": {
                        "resultSet": {
                            "id": 0,
                            "batchId": 2,
                            "rowCount": 1,
                            "complete": true,
                            "columnInfo": [
                                {
                                    "isBytes": false,
                                    "isChars": false,
                                    "isSqlVariant": false,
                                    "isUdt": false,
                                    "isXml": false,
                                    "isJson": false,
                                    "sqlDbType": 8,
                                    "isHierarchyId": false,
                                    "isSqlXmlType": false,
                                    "isUnknownType": false,
                                    "isUpdatable": false,
                                    "allowDBNull": true,
                                    "baseCatalogName": null,
                                    "baseColumnName": null,
                                    "baseSchemaName": null,
                                    "baseServerName": null,
                                    "baseTableName": null,
                                    "columnName": "count",
                                    "columnOrdinal": 0,
                                    "columnSize": 4,
                                    "isAliased": null,
                                    "isAutoIncrement": false,
                                    "isExpression": null,
                                    "isHidden": null,
                                    "isIdentity": false,
                                    "isKey": null,
                                    "isLong": false,
                                    "isReadOnly": true,
                                    "isUnique": false,
                                    "numericPrecision": 10,
                                    "numericScale": 255,
                                    "udtAssemblyQualifiedName": null,
                                    "dataType": "System.Int32, System.Private.CoreLib, Version=4.0.0.0, Culture=neutral, PublicKeyToken=7cec85d7bea7798e",
                                    "dataTypeName": "int"
                                }
                            ],
                            "specialAction": {
                                "none": true,
                                "expectYukonXMLShowPlan": false
                            }
                        }
                    }
                }
            ],
            "execution_count": 45
        },
        {
            "cell_type": "markdown",
            "source": [
                "## Views\n",
                "\n",
                "It is not always desirable for all users to see the entire set of relations in the database. For example, a university worker may need to access the students-related tables but we might want her to not have access to the salaries.\n",
                "\n",
                "Aside from security reasons, we may wish to create a personalized collection of virtual relation that s better matched to a certain user's intuition of the structure of the database. For example, we may want to have a list of all course sections offered by the physics department in the fall of 2007 with the building and room number of each section."
            ],
            "metadata": {
                "azdata_cell_guid": "a12dee7b-3646-4a84-b961-f6ed2e009403"
            }
        },
        {
            "cell_type": "code",
            "source": [
                "-- with explicitly joins\n",
                "SELECT course.course_id, course.title, section.building, section.room_number \n",
                "FROM course\n",
                "INNER JOIN section ON course.course_id = section.course_id\n",
                "WHERE semester = 'Fall' AND dept_name = 'Physics' AND [year] = '2007';\n",
                "GO\n",
                "-- alternatively\n",
                "SELECT course.course_id, course.title, section.building, section.room_number \n",
                "FROM course, section\n",
                "WHERE semester = 'Fall' AND \n",
                "      dept_name = 'Physics' AND \n",
                "      section.[year] = '2007' AND\n",
                "      course.course_id = section.course_id;\n",
                "GO"
            ],
            "metadata": {
                "azdata_cell_guid": "7e96aeee-3d5c-4e3e-af93-cd2024fe82a1"
            },
            "outputs": [
                {
                    "output_type": "display_data",
                    "data": {
                        "text/html": "(1 row affected)"
                    },
                    "metadata": {}
                },
                {
                    "output_type": "display_data",
                    "data": {
                        "text/html": "(1 row affected)"
                    },
                    "metadata": {}
                },
                {
                    "output_type": "display_data",
                    "data": {
                        "text/html": "Total execution time: 00:00:00.013"
                    },
                    "metadata": {}
                },
                {
                    "output_type": "execute_result",
                    "execution_count": 51,
                    "data": {
                        "application/vnd.dataresource+json": {
                            "schema": {
                                "fields": [
                                    {
                                        "name": "course_id"
                                    },
                                    {
                                        "name": "title"
                                    },
                                    {
                                        "name": "building"
                                    },
                                    {
                                        "name": "room_number"
                                    }
                                ]
                            },
                            "data": [
                                {
                                    "0": "612",
                                    "1": "Mobile Computing",
                                    "2": "Lamberton",
                                    "3": "143"
                                }
                            ]
                        },
                        "text/html": "<table><tr><th>course_id</th><th>title</th><th>building</th><th>room_number</th></tr><tr><td>612</td><td>Mobile Computing</td><td>Lamberton</td><td>143</td></tr></table>"
                    },
                    "metadata": {
                        "resultSet": {
                            "id": 0,
                            "batchId": 0,
                            "rowCount": 1,
                            "complete": true,
                            "columnInfo": [
                                {
                                    "isBytes": false,
                                    "isChars": true,
                                    "isSqlVariant": false,
                                    "isUdt": false,
                                    "isXml": false,
                                    "isJson": false,
                                    "sqlDbType": 22,
                                    "isHierarchyId": false,
                                    "isSqlXmlType": false,
                                    "isUnknownType": false,
                                    "isUpdatable": true,
                                    "allowDBNull": false,
                                    "baseCatalogName": null,
                                    "baseColumnName": null,
                                    "baseSchemaName": null,
                                    "baseServerName": null,
                                    "baseTableName": null,
                                    "columnName": "course_id",
                                    "columnOrdinal": 0,
                                    "columnSize": 8,
                                    "isAliased": null,
                                    "isAutoIncrement": false,
                                    "isExpression": null,
                                    "isHidden": null,
                                    "isIdentity": false,
                                    "isKey": null,
                                    "isLong": false,
                                    "isReadOnly": false,
                                    "isUnique": false,
                                    "numericPrecision": 255,
                                    "numericScale": 255,
                                    "udtAssemblyQualifiedName": null,
                                    "dataType": "System.String, System.Private.CoreLib, Version=4.0.0.0, Culture=neutral, PublicKeyToken=7cec85d7bea7798e",
                                    "dataTypeName": "varchar"
                                },
                                {
                                    "isBytes": false,
                                    "isChars": true,
                                    "isSqlVariant": false,
                                    "isUdt": false,
                                    "isXml": false,
                                    "isJson": false,
                                    "sqlDbType": 22,
                                    "isHierarchyId": false,
                                    "isSqlXmlType": false,
                                    "isUnknownType": false,
                                    "isUpdatable": true,
                                    "allowDBNull": true,
                                    "baseCatalogName": null,
                                    "baseColumnName": null,
                                    "baseSchemaName": null,
                                    "baseServerName": null,
                                    "baseTableName": null,
                                    "columnName": "title",
                                    "columnOrdinal": 1,
                                    "columnSize": 50,
                                    "isAliased": null,
                                    "isAutoIncrement": false,
                                    "isExpression": null,
                                    "isHidden": null,
                                    "isIdentity": false,
                                    "isKey": null,
                                    "isLong": false,
                                    "isReadOnly": false,
                                    "isUnique": false,
                                    "numericPrecision": 255,
                                    "numericScale": 255,
                                    "udtAssemblyQualifiedName": null,
                                    "dataType": "System.String, System.Private.CoreLib, Version=4.0.0.0, Culture=neutral, PublicKeyToken=7cec85d7bea7798e",
                                    "dataTypeName": "varchar"
                                },
                                {
                                    "isBytes": false,
                                    "isChars": true,
                                    "isSqlVariant": false,
                                    "isUdt": false,
                                    "isXml": false,
                                    "isJson": false,
                                    "sqlDbType": 22,
                                    "isHierarchyId": false,
                                    "isSqlXmlType": false,
                                    "isUnknownType": false,
                                    "isUpdatable": true,
                                    "allowDBNull": true,
                                    "baseCatalogName": null,
                                    "baseColumnName": null,
                                    "baseSchemaName": null,
                                    "baseServerName": null,
                                    "baseTableName": null,
                                    "columnName": "building",
                                    "columnOrdinal": 2,
                                    "columnSize": 15,
                                    "isAliased": null,
                                    "isAutoIncrement": false,
                                    "isExpression": null,
                                    "isHidden": null,
                                    "isIdentity": false,
                                    "isKey": null,
                                    "isLong": false,
                                    "isReadOnly": false,
                                    "isUnique": false,
                                    "numericPrecision": 255,
                                    "numericScale": 255,
                                    "udtAssemblyQualifiedName": null,
                                    "dataType": "System.String, System.Private.CoreLib, Version=4.0.0.0, Culture=neutral, PublicKeyToken=7cec85d7bea7798e",
                                    "dataTypeName": "varchar"
                                },
                                {
                                    "isBytes": false,
                                    "isChars": true,
                                    "isSqlVariant": false,
                                    "isUdt": false,
                                    "isXml": false,
                                    "isJson": false,
                                    "sqlDbType": 22,
                                    "isHierarchyId": false,
                                    "isSqlXmlType": false,
                                    "isUnknownType": false,
                                    "isUpdatable": true,
                                    "allowDBNull": true,
                                    "baseCatalogName": null,
                                    "baseColumnName": null,
                                    "baseSchemaName": null,
                                    "baseServerName": null,
                                    "baseTableName": null,
                                    "columnName": "room_number",
                                    "columnOrdinal": 3,
                                    "columnSize": 7,
                                    "isAliased": null,
                                    "isAutoIncrement": false,
                                    "isExpression": null,
                                    "isHidden": null,
                                    "isIdentity": false,
                                    "isKey": null,
                                    "isLong": false,
                                    "isReadOnly": false,
                                    "isUnique": false,
                                    "numericPrecision": 255,
                                    "numericScale": 255,
                                    "udtAssemblyQualifiedName": null,
                                    "dataType": "System.String, System.Private.CoreLib, Version=4.0.0.0, Culture=neutral, PublicKeyToken=7cec85d7bea7798e",
                                    "dataTypeName": "varchar"
                                }
                            ],
                            "specialAction": {
                                "none": true,
                                "expectYukonXMLShowPlan": false
                            }
                        }
                    }
                },
                {
                    "output_type": "execute_result",
                    "execution_count": 51,
                    "data": {
                        "application/vnd.dataresource+json": {
                            "schema": {
                                "fields": [
                                    {
                                        "name": "course_id"
                                    },
                                    {
                                        "name": "title"
                                    },
                                    {
                                        "name": "building"
                                    },
                                    {
                                        "name": "room_number"
                                    }
                                ]
                            },
                            "data": [
                                {
                                    "0": "612",
                                    "1": "Mobile Computing",
                                    "2": "Lamberton",
                                    "3": "143"
                                }
                            ]
                        },
                        "text/html": "<table><tr><th>course_id</th><th>title</th><th>building</th><th>room_number</th></tr><tr><td>612</td><td>Mobile Computing</td><td>Lamberton</td><td>143</td></tr></table>"
                    },
                    "metadata": {
                        "resultSet": {
                            "id": 0,
                            "batchId": 1,
                            "rowCount": 1,
                            "complete": true,
                            "columnInfo": [
                                {
                                    "isBytes": false,
                                    "isChars": true,
                                    "isSqlVariant": false,
                                    "isUdt": false,
                                    "isXml": false,
                                    "isJson": false,
                                    "sqlDbType": 22,
                                    "isHierarchyId": false,
                                    "isSqlXmlType": false,
                                    "isUnknownType": false,
                                    "isUpdatable": true,
                                    "allowDBNull": false,
                                    "baseCatalogName": null,
                                    "baseColumnName": null,
                                    "baseSchemaName": null,
                                    "baseServerName": null,
                                    "baseTableName": null,
                                    "columnName": "course_id",
                                    "columnOrdinal": 0,
                                    "columnSize": 8,
                                    "isAliased": null,
                                    "isAutoIncrement": false,
                                    "isExpression": null,
                                    "isHidden": null,
                                    "isIdentity": false,
                                    "isKey": null,
                                    "isLong": false,
                                    "isReadOnly": false,
                                    "isUnique": false,
                                    "numericPrecision": 255,
                                    "numericScale": 255,
                                    "udtAssemblyQualifiedName": null,
                                    "dataType": "System.String, System.Private.CoreLib, Version=4.0.0.0, Culture=neutral, PublicKeyToken=7cec85d7bea7798e",
                                    "dataTypeName": "varchar"
                                },
                                {
                                    "isBytes": false,
                                    "isChars": true,
                                    "isSqlVariant": false,
                                    "isUdt": false,
                                    "isXml": false,
                                    "isJson": false,
                                    "sqlDbType": 22,
                                    "isHierarchyId": false,
                                    "isSqlXmlType": false,
                                    "isUnknownType": false,
                                    "isUpdatable": true,
                                    "allowDBNull": true,
                                    "baseCatalogName": null,
                                    "baseColumnName": null,
                                    "baseSchemaName": null,
                                    "baseServerName": null,
                                    "baseTableName": null,
                                    "columnName": "title",
                                    "columnOrdinal": 1,
                                    "columnSize": 50,
                                    "isAliased": null,
                                    "isAutoIncrement": false,
                                    "isExpression": null,
                                    "isHidden": null,
                                    "isIdentity": false,
                                    "isKey": null,
                                    "isLong": false,
                                    "isReadOnly": false,
                                    "isUnique": false,
                                    "numericPrecision": 255,
                                    "numericScale": 255,
                                    "udtAssemblyQualifiedName": null,
                                    "dataType": "System.String, System.Private.CoreLib, Version=4.0.0.0, Culture=neutral, PublicKeyToken=7cec85d7bea7798e",
                                    "dataTypeName": "varchar"
                                },
                                {
                                    "isBytes": false,
                                    "isChars": true,
                                    "isSqlVariant": false,
                                    "isUdt": false,
                                    "isXml": false,
                                    "isJson": false,
                                    "sqlDbType": 22,
                                    "isHierarchyId": false,
                                    "isSqlXmlType": false,
                                    "isUnknownType": false,
                                    "isUpdatable": true,
                                    "allowDBNull": true,
                                    "baseCatalogName": null,
                                    "baseColumnName": null,
                                    "baseSchemaName": null,
                                    "baseServerName": null,
                                    "baseTableName": null,
                                    "columnName": "building",
                                    "columnOrdinal": 2,
                                    "columnSize": 15,
                                    "isAliased": null,
                                    "isAutoIncrement": false,
                                    "isExpression": null,
                                    "isHidden": null,
                                    "isIdentity": false,
                                    "isKey": null,
                                    "isLong": false,
                                    "isReadOnly": false,
                                    "isUnique": false,
                                    "numericPrecision": 255,
                                    "numericScale": 255,
                                    "udtAssemblyQualifiedName": null,
                                    "dataType": "System.String, System.Private.CoreLib, Version=4.0.0.0, Culture=neutral, PublicKeyToken=7cec85d7bea7798e",
                                    "dataTypeName": "varchar"
                                },
                                {
                                    "isBytes": false,
                                    "isChars": true,
                                    "isSqlVariant": false,
                                    "isUdt": false,
                                    "isXml": false,
                                    "isJson": false,
                                    "sqlDbType": 22,
                                    "isHierarchyId": false,
                                    "isSqlXmlType": false,
                                    "isUnknownType": false,
                                    "isUpdatable": true,
                                    "allowDBNull": true,
                                    "baseCatalogName": null,
                                    "baseColumnName": null,
                                    "baseSchemaName": null,
                                    "baseServerName": null,
                                    "baseTableName": null,
                                    "columnName": "room_number",
                                    "columnOrdinal": 3,
                                    "columnSize": 7,
                                    "isAliased": null,
                                    "isAutoIncrement": false,
                                    "isExpression": null,
                                    "isHidden": null,
                                    "isIdentity": false,
                                    "isKey": null,
                                    "isLong": false,
                                    "isReadOnly": false,
                                    "isUnique": false,
                                    "numericPrecision": 255,
                                    "numericScale": 255,
                                    "udtAssemblyQualifiedName": null,
                                    "dataType": "System.String, System.Private.CoreLib, Version=4.0.0.0, Culture=neutral, PublicKeyToken=7cec85d7bea7798e",
                                    "dataTypeName": "varchar"
                                }
                            ],
                            "specialAction": {
                                "none": true,
                                "expectYukonXMLShowPlan": false
                            }
                        }
                    }
                }
            ],
            "execution_count": 51
        },
        {
            "cell_type": "markdown",
            "source": [
                "It is possibe to compute and store the results of queries such as this and then make them stored relations available to users. However, if we did so, and the underlying data in the relations instructor, course, or section changed, the stored query results would then no longer match the result of reexecuting the query on the relations. In general, it is a bad idea to compute and store query results such as those in the above examples.\n",
                "\n",
                "<br>\n",
                "\n",
                "Instead, SQL allows us a \"virtual relatio\" to be defined by a query and the relation conceptually contains the result of the query. The virtual relation is not precomputed and stored but instead is computed by executing the query whenever the virtual relation is used. Namely, using ``VIEW``s.\n",
                "\n",
                "<br>\n",
                "\n",
                "We define a view in SQL using the ``CREATE VIEW`` command. More precisely\n",
                "\n",
                "```\n",
                "create view v as <query expression>;\n",
                "GO\n",
                "```\n",
                "Using the query from above..."
            ],
            "metadata": {
                "azdata_cell_guid": "2be09364-3466-46af-947c-825cb17130ab"
            }
        },
        {
            "cell_type": "code",
            "source": [
                "CREATE VIEW physics_fall_2007 AS \n",
                "SELECT course.course_id, course.title, section.building, section.room_number \n",
                "FROM course\n",
                "INNER JOIN section ON course.course_id = section.course_id\n",
                "WHERE semester = 'Fall' AND dept_name = 'Physics' AND [year] = '2007';\n",
                "GO"
            ],
            "metadata": {
                "azdata_cell_guid": "04c2eafa-e92e-486e-bd33-f54ce029235e"
            },
            "outputs": [
                {
                    "output_type": "error",
                    "ename": "",
                    "evalue": "Msg 2714, Level 16, State 3, Procedure physics_fall_2007, Line 1\nThere is already an object named 'physics_fall_2007' in the database.",
                    "traceback": []
                },
                {
                    "output_type": "display_data",
                    "data": {
                        "text/html": "Total execution time: 00:00:00.001"
                    },
                    "metadata": {}
                }
            ],
            "execution_count": 59
        },
        {
            "cell_type": "code",
            "source": [
                "SELECT * \n",
                "FROM physics_fall_2007;\n",
                "GO\n",
                ""
            ],
            "metadata": {
                "azdata_cell_guid": "8c016981-9ca7-4f1e-a8f6-d40c1436d633"
            },
            "outputs": [
                {
                    "output_type": "display_data",
                    "data": {
                        "text/html": "(1 row affected)"
                    },
                    "metadata": {}
                },
                {
                    "output_type": "display_data",
                    "data": {
                        "text/html": "Commands completed successfully."
                    },
                    "metadata": {}
                },
                {
                    "output_type": "display_data",
                    "data": {
                        "text/html": "Total execution time: 00:00:00.004"
                    },
                    "metadata": {}
                },
                {
                    "output_type": "execute_result",
                    "execution_count": 54,
                    "data": {
                        "application/vnd.dataresource+json": {
                            "schema": {
                                "fields": [
                                    {
                                        "name": "course_id"
                                    },
                                    {
                                        "name": "title"
                                    },
                                    {
                                        "name": "building"
                                    },
                                    {
                                        "name": "room_number"
                                    }
                                ]
                            },
                            "data": [
                                {
                                    "0": "612",
                                    "1": "Mobile Computing",
                                    "2": "Lamberton",
                                    "3": "143"
                                }
                            ]
                        },
                        "text/html": "<table><tr><th>course_id</th><th>title</th><th>building</th><th>room_number</th></tr><tr><td>612</td><td>Mobile Computing</td><td>Lamberton</td><td>143</td></tr></table>"
                    },
                    "metadata": {
                        "resultSet": {
                            "id": 0,
                            "batchId": 0,
                            "rowCount": 1,
                            "complete": true,
                            "columnInfo": [
                                {
                                    "isBytes": false,
                                    "isChars": true,
                                    "isSqlVariant": false,
                                    "isUdt": false,
                                    "isXml": false,
                                    "isJson": false,
                                    "sqlDbType": 22,
                                    "isHierarchyId": false,
                                    "isSqlXmlType": false,
                                    "isUnknownType": false,
                                    "isUpdatable": true,
                                    "allowDBNull": false,
                                    "baseCatalogName": null,
                                    "baseColumnName": null,
                                    "baseSchemaName": null,
                                    "baseServerName": null,
                                    "baseTableName": null,
                                    "columnName": "course_id",
                                    "columnOrdinal": 0,
                                    "columnSize": 8,
                                    "isAliased": null,
                                    "isAutoIncrement": false,
                                    "isExpression": null,
                                    "isHidden": null,
                                    "isIdentity": false,
                                    "isKey": null,
                                    "isLong": false,
                                    "isReadOnly": false,
                                    "isUnique": false,
                                    "numericPrecision": 255,
                                    "numericScale": 255,
                                    "udtAssemblyQualifiedName": null,
                                    "dataType": "System.String, System.Private.CoreLib, Version=4.0.0.0, Culture=neutral, PublicKeyToken=7cec85d7bea7798e",
                                    "dataTypeName": "varchar"
                                },
                                {
                                    "isBytes": false,
                                    "isChars": true,
                                    "isSqlVariant": false,
                                    "isUdt": false,
                                    "isXml": false,
                                    "isJson": false,
                                    "sqlDbType": 22,
                                    "isHierarchyId": false,
                                    "isSqlXmlType": false,
                                    "isUnknownType": false,
                                    "isUpdatable": true,
                                    "allowDBNull": true,
                                    "baseCatalogName": null,
                                    "baseColumnName": null,
                                    "baseSchemaName": null,
                                    "baseServerName": null,
                                    "baseTableName": null,
                                    "columnName": "title",
                                    "columnOrdinal": 1,
                                    "columnSize": 50,
                                    "isAliased": null,
                                    "isAutoIncrement": false,
                                    "isExpression": null,
                                    "isHidden": null,
                                    "isIdentity": false,
                                    "isKey": null,
                                    "isLong": false,
                                    "isReadOnly": false,
                                    "isUnique": false,
                                    "numericPrecision": 255,
                                    "numericScale": 255,
                                    "udtAssemblyQualifiedName": null,
                                    "dataType": "System.String, System.Private.CoreLib, Version=4.0.0.0, Culture=neutral, PublicKeyToken=7cec85d7bea7798e",
                                    "dataTypeName": "varchar"
                                },
                                {
                                    "isBytes": false,
                                    "isChars": true,
                                    "isSqlVariant": false,
                                    "isUdt": false,
                                    "isXml": false,
                                    "isJson": false,
                                    "sqlDbType": 22,
                                    "isHierarchyId": false,
                                    "isSqlXmlType": false,
                                    "isUnknownType": false,
                                    "isUpdatable": true,
                                    "allowDBNull": true,
                                    "baseCatalogName": null,
                                    "baseColumnName": null,
                                    "baseSchemaName": null,
                                    "baseServerName": null,
                                    "baseTableName": null,
                                    "columnName": "building",
                                    "columnOrdinal": 2,
                                    "columnSize": 15,
                                    "isAliased": null,
                                    "isAutoIncrement": false,
                                    "isExpression": null,
                                    "isHidden": null,
                                    "isIdentity": false,
                                    "isKey": null,
                                    "isLong": false,
                                    "isReadOnly": false,
                                    "isUnique": false,
                                    "numericPrecision": 255,
                                    "numericScale": 255,
                                    "udtAssemblyQualifiedName": null,
                                    "dataType": "System.String, System.Private.CoreLib, Version=4.0.0.0, Culture=neutral, PublicKeyToken=7cec85d7bea7798e",
                                    "dataTypeName": "varchar"
                                },
                                {
                                    "isBytes": false,
                                    "isChars": true,
                                    "isSqlVariant": false,
                                    "isUdt": false,
                                    "isXml": false,
                                    "isJson": false,
                                    "sqlDbType": 22,
                                    "isHierarchyId": false,
                                    "isSqlXmlType": false,
                                    "isUnknownType": false,
                                    "isUpdatable": true,
                                    "allowDBNull": true,
                                    "baseCatalogName": null,
                                    "baseColumnName": null,
                                    "baseSchemaName": null,
                                    "baseServerName": null,
                                    "baseTableName": null,
                                    "columnName": "room_number",
                                    "columnOrdinal": 3,
                                    "columnSize": 7,
                                    "isAliased": null,
                                    "isAutoIncrement": false,
                                    "isExpression": null,
                                    "isHidden": null,
                                    "isIdentity": false,
                                    "isKey": null,
                                    "isLong": false,
                                    "isReadOnly": false,
                                    "isUnique": false,
                                    "numericPrecision": 255,
                                    "numericScale": 255,
                                    "udtAssemblyQualifiedName": null,
                                    "dataType": "System.String, System.Private.CoreLib, Version=4.0.0.0, Culture=neutral, PublicKeyToken=7cec85d7bea7798e",
                                    "dataTypeName": "varchar"
                                }
                            ],
                            "specialAction": {
                                "none": true,
                                "expectYukonXMLShowPlan": false
                            }
                        }
                    }
                }
            ],
            "execution_count": 54
        },
        {
            "cell_type": "code",
            "source": [
                "-- Another example\n",
                "CREATE VIEW faculty AS \n",
                "SELECT ID, [name], dept_name\n",
                "FROM instructor;\n",
                "GO\n",
                "\n",
                "SELECT TOP 6 * \n",
                "FROM faculty;\n",
                "GO\n",
                "\n",
                "-- drop it\n",
                "DROP VIEW faculty;\n",
                "GO"
            ],
            "metadata": {
                "azdata_cell_guid": "5e62765d-d050-4302-b256-a5df62ad06ab"
            },
            "outputs": [
                {
                    "output_type": "display_data",
                    "data": {
                        "text/html": "Commands completed successfully."
                    },
                    "metadata": {}
                },
                {
                    "output_type": "display_data",
                    "data": {
                        "text/html": "(6 rows affected)"
                    },
                    "metadata": {}
                },
                {
                    "output_type": "display_data",
                    "data": {
                        "text/html": "Commands completed successfully."
                    },
                    "metadata": {}
                },
                {
                    "output_type": "display_data",
                    "data": {
                        "text/html": "Total execution time: 00:00:00.007"
                    },
                    "metadata": {}
                },
                {
                    "output_type": "execute_result",
                    "execution_count": 57,
                    "data": {
                        "application/vnd.dataresource+json": {
                            "schema": {
                                "fields": [
                                    {
                                        "name": "ID"
                                    },
                                    {
                                        "name": "name"
                                    },
                                    {
                                        "name": "dept_name"
                                    }
                                ]
                            },
                            "data": [
                                {
                                    "0": "10076",
                                    "1": "Duan",
                                    "2": "Civil Eng."
                                },
                                {
                                    "0": "10204",
                                    "1": "Mediratta",
                                    "2": "Geology"
                                },
                                {
                                    "0": "10454",
                                    "1": "Ugarte",
                                    "2": "Pol. Sci."
                                },
                                {
                                    "0": "10527",
                                    "1": "Kieras",
                                    "2": "Physics"
                                },
                                {
                                    "0": "10693",
                                    "1": "Zabary",
                                    "2": "Statistics"
                                },
                                {
                                    "0": "10834",
                                    "1": "More",
                                    "2": "Geology"
                                }
                            ]
                        },
                        "text/html": "<table><tr><th>ID</th><th>name</th><th>dept_name</th></tr><tr><td>10076</td><td>Duan</td><td>Civil Eng.</td></tr><tr><td>10204</td><td>Mediratta</td><td>Geology</td></tr><tr><td>10454</td><td>Ugarte</td><td>Pol. Sci.</td></tr><tr><td>10527</td><td>Kieras</td><td>Physics</td></tr><tr><td>10693</td><td>Zabary</td><td>Statistics</td></tr><tr><td>10834</td><td>More</td><td>Geology</td></tr></table>"
                    },
                    "metadata": {
                        "resultSet": {
                            "id": 0,
                            "batchId": 1,
                            "rowCount": 6,
                            "complete": true,
                            "columnInfo": [
                                {
                                    "isBytes": false,
                                    "isChars": true,
                                    "isSqlVariant": false,
                                    "isUdt": false,
                                    "isXml": false,
                                    "isJson": false,
                                    "sqlDbType": 22,
                                    "isHierarchyId": false,
                                    "isSqlXmlType": false,
                                    "isUnknownType": false,
                                    "isUpdatable": true,
                                    "allowDBNull": false,
                                    "baseCatalogName": null,
                                    "baseColumnName": null,
                                    "baseSchemaName": null,
                                    "baseServerName": null,
                                    "baseTableName": null,
                                    "columnName": "ID",
                                    "columnOrdinal": 0,
                                    "columnSize": 5,
                                    "isAliased": null,
                                    "isAutoIncrement": false,
                                    "isExpression": null,
                                    "isHidden": null,
                                    "isIdentity": false,
                                    "isKey": null,
                                    "isLong": false,
                                    "isReadOnly": false,
                                    "isUnique": false,
                                    "numericPrecision": 255,
                                    "numericScale": 255,
                                    "udtAssemblyQualifiedName": null,
                                    "dataType": "System.String, System.Private.CoreLib, Version=4.0.0.0, Culture=neutral, PublicKeyToken=7cec85d7bea7798e",
                                    "dataTypeName": "varchar"
                                },
                                {
                                    "isBytes": false,
                                    "isChars": true,
                                    "isSqlVariant": false,
                                    "isUdt": false,
                                    "isXml": false,
                                    "isJson": false,
                                    "sqlDbType": 22,
                                    "isHierarchyId": false,
                                    "isSqlXmlType": false,
                                    "isUnknownType": false,
                                    "isUpdatable": true,
                                    "allowDBNull": false,
                                    "baseCatalogName": null,
                                    "baseColumnName": null,
                                    "baseSchemaName": null,
                                    "baseServerName": null,
                                    "baseTableName": null,
                                    "columnName": "name",
                                    "columnOrdinal": 1,
                                    "columnSize": 20,
                                    "isAliased": null,
                                    "isAutoIncrement": false,
                                    "isExpression": null,
                                    "isHidden": null,
                                    "isIdentity": false,
                                    "isKey": null,
                                    "isLong": false,
                                    "isReadOnly": false,
                                    "isUnique": false,
                                    "numericPrecision": 255,
                                    "numericScale": 255,
                                    "udtAssemblyQualifiedName": null,
                                    "dataType": "System.String, System.Private.CoreLib, Version=4.0.0.0, Culture=neutral, PublicKeyToken=7cec85d7bea7798e",
                                    "dataTypeName": "varchar"
                                },
                                {
                                    "isBytes": false,
                                    "isChars": true,
                                    "isSqlVariant": false,
                                    "isUdt": false,
                                    "isXml": false,
                                    "isJson": false,
                                    "sqlDbType": 22,
                                    "isHierarchyId": false,
                                    "isSqlXmlType": false,
                                    "isUnknownType": false,
                                    "isUpdatable": true,
                                    "allowDBNull": true,
                                    "baseCatalogName": null,
                                    "baseColumnName": null,
                                    "baseSchemaName": null,
                                    "baseServerName": null,
                                    "baseTableName": null,
                                    "columnName": "dept_name",
                                    "columnOrdinal": 2,
                                    "columnSize": 20,
                                    "isAliased": null,
                                    "isAutoIncrement": false,
                                    "isExpression": null,
                                    "isHidden": null,
                                    "isIdentity": false,
                                    "isKey": null,
                                    "isLong": false,
                                    "isReadOnly": false,
                                    "isUnique": false,
                                    "numericPrecision": 255,
                                    "numericScale": 255,
                                    "udtAssemblyQualifiedName": null,
                                    "dataType": "System.String, System.Private.CoreLib, Version=4.0.0.0, Culture=neutral, PublicKeyToken=7cec85d7bea7798e",
                                    "dataTypeName": "varchar"
                                }
                            ],
                            "specialAction": {
                                "none": true,
                                "expectYukonXMLShowPlan": false
                            }
                        }
                    }
                }
            ],
            "execution_count": 57
        },
        {
            "cell_type": "markdown",
            "source": [
                "### Using ``VIEW``s in queries\n",
                "\n",
                "Once we have defined a view, we can use the view name to refer to the virtual relation and to make queries on this virtual relation."
            ],
            "metadata": {
                "azdata_cell_guid": "c3216baf-7168-410b-9cef-095916f98077"
            }
        },
        {
            "cell_type": "code",
            "source": [
                "SELECT COUNT(*) as [n]\n",
                "FROM physics_fall_2007;\n",
                "\n",
                "-- drop\n",
                "DROP VIEW physics_fall_2007;"
            ],
            "metadata": {
                "azdata_cell_guid": "7a0b447b-ac09-4996-b314-4353507b7606"
            },
            "outputs": [
                {
                    "output_type": "display_data",
                    "data": {
                        "text/html": "(1 row affected)"
                    },
                    "metadata": {}
                },
                {
                    "output_type": "display_data",
                    "data": {
                        "text/html": "Total execution time: 00:00:00.018"
                    },
                    "metadata": {}
                },
                {
                    "output_type": "execute_result",
                    "execution_count": 62,
                    "data": {
                        "application/vnd.dataresource+json": {
                            "schema": {
                                "fields": [
                                    {
                                        "name": "n"
                                    }
                                ]
                            },
                            "data": [
                                {
                                    "0": "1"
                                }
                            ]
                        },
                        "text/html": "<table><tr><th>n</th></tr><tr><td>1</td></tr></table>"
                    },
                    "metadata": {
                        "resultSet": {
                            "id": 0,
                            "batchId": 0,
                            "rowCount": 1,
                            "complete": true,
                            "columnInfo": [
                                {
                                    "isBytes": false,
                                    "isChars": false,
                                    "isSqlVariant": false,
                                    "isUdt": false,
                                    "isXml": false,
                                    "isJson": false,
                                    "sqlDbType": 8,
                                    "isHierarchyId": false,
                                    "isSqlXmlType": false,
                                    "isUnknownType": false,
                                    "isUpdatable": false,
                                    "allowDBNull": true,
                                    "baseCatalogName": null,
                                    "baseColumnName": null,
                                    "baseSchemaName": null,
                                    "baseServerName": null,
                                    "baseTableName": null,
                                    "columnName": "n",
                                    "columnOrdinal": 0,
                                    "columnSize": 4,
                                    "isAliased": null,
                                    "isAutoIncrement": false,
                                    "isExpression": null,
                                    "isHidden": null,
                                    "isIdentity": false,
                                    "isKey": null,
                                    "isLong": false,
                                    "isReadOnly": true,
                                    "isUnique": false,
                                    "numericPrecision": 10,
                                    "numericScale": 255,
                                    "udtAssemblyQualifiedName": null,
                                    "dataType": "System.Int32, System.Private.CoreLib, Version=4.0.0.0, Culture=neutral, PublicKeyToken=7cec85d7bea7798e",
                                    "dataTypeName": "int"
                                }
                            ],
                            "specialAction": {
                                "none": true,
                                "expectYukonXMLShowPlan": false
                            }
                        }
                    }
                }
            ],
            "execution_count": 62
        },
        {
            "cell_type": "code",
            "source": [
                "-- department salary\n",
                "CREATE VIEW department_total_salary (dept_name, total_salary) AS\n",
                "SELECT dept_name, SUM (salary) AS total_salary\n",
                "FROM instructor\n",
                "GROUP BY dept_name;\n",
                "GO\n",
                "\n",
                "SELECT * FROM department_total_salary;\n",
                "GO\n",
                "\n",
                "-- drop\n",
                "DROP VIEW department_total_salary;\n",
                "GO\n",
                ""
            ],
            "metadata": {
                "azdata_cell_guid": "ecfdbfb6-ded1-45e1-a28f-f53525a06408"
            },
            "outputs": [
                {
                    "output_type": "display_data",
                    "data": {
                        "text/html": "Commands completed successfully."
                    },
                    "metadata": {}
                },
                {
                    "output_type": "display_data",
                    "data": {
                        "text/html": "(20 rows affected)"
                    },
                    "metadata": {}
                },
                {
                    "output_type": "display_data",
                    "data": {
                        "text/html": "Commands completed successfully."
                    },
                    "metadata": {}
                },
                {
                    "output_type": "display_data",
                    "data": {
                        "text/html": "Total execution time: 00:00:00.012"
                    },
                    "metadata": {}
                },
                {
                    "output_type": "execute_result",
                    "execution_count": 65,
                    "data": {
                        "application/vnd.dataresource+json": {
                            "schema": {
                                "fields": [
                                    {
                                        "name": "dept_name"
                                    },
                                    {
                                        "name": "total_salary"
                                    }
                                ]
                            },
                            "data": [
                                {
                                    "0": "Accounting",
                                    "1": "600880.37"
                                },
                                {
                                    "0": "Astronomy",
                                    "1": "746093.08"
                                },
                                {
                                    "0": "Athletics",
                                    "1": "1139516.99"
                                },
                                {
                                    "0": "Biology",
                                    "1": "876600.50"
                                },
                                {
                                    "0": "Civil Eng.",
                                    "1": "667023.00"
                                },
                                {
                                    "0": "Comp. Sci.",
                                    "1": "911917.63"
                                },
                                {
                                    "0": "Cybernetics",
                                    "1": "994407.27"
                                },
                                {
                                    "0": "Elec. Eng.",
                                    "1": "934672.96"
                                },
                                {
                                    "0": "English",
                                    "1": "955379.20"
                                },
                                {
                                    "0": "Finance",
                                    "1": "743333.38"
                                },
                                {
                                    "0": "Geology",
                                    "1": "795406.59"
                                },
                                {
                                    "0": "History",
                                    "1": "870030.00"
                                },
                                {
                                    "0": "Languages",
                                    "1": "897290.57"
                                },
                                {
                                    "0": "Marketing",
                                    "1": "1003412.75"
                                },
                                {
                                    "0": "Math",
                                    "1": "609021.00"
                                },
                                {
                                    "0": "Mech. Eng.",
                                    "1": "855650.04"
                                },
                                {
                                    "0": "Physics",
                                    "1": "896176.80"
                                },
                                {
                                    "0": "Pol. Sci.",
                                    "1": "967182.22"
                                },
                                {
                                    "0": "Psychology",
                                    "1": "731307.10"
                                },
                                {
                                    "0": "Statistics",
                                    "1": "1131797.65"
                                }
                            ]
                        },
                        "text/html": "<table><tr><th>dept_name</th><th>total_salary</th></tr><tr><td>Accounting</td><td>600880.37</td></tr><tr><td>Astronomy</td><td>746093.08</td></tr><tr><td>Athletics</td><td>1139516.99</td></tr><tr><td>Biology</td><td>876600.50</td></tr><tr><td>Civil Eng.</td><td>667023.00</td></tr><tr><td>Comp. Sci.</td><td>911917.63</td></tr><tr><td>Cybernetics</td><td>994407.27</td></tr><tr><td>Elec. Eng.</td><td>934672.96</td></tr><tr><td>English</td><td>955379.20</td></tr><tr><td>Finance</td><td>743333.38</td></tr><tr><td>Geology</td><td>795406.59</td></tr><tr><td>History</td><td>870030.00</td></tr><tr><td>Languages</td><td>897290.57</td></tr><tr><td>Marketing</td><td>1003412.75</td></tr><tr><td>Math</td><td>609021.00</td></tr><tr><td>Mech. Eng.</td><td>855650.04</td></tr><tr><td>Physics</td><td>896176.80</td></tr><tr><td>Pol. Sci.</td><td>967182.22</td></tr><tr><td>Psychology</td><td>731307.10</td></tr><tr><td>Statistics</td><td>1131797.65</td></tr></table>"
                    },
                    "metadata": {
                        "resultSet": {
                            "id": 0,
                            "batchId": 1,
                            "rowCount": 20,
                            "complete": true,
                            "columnInfo": [
                                {
                                    "isBytes": false,
                                    "isChars": true,
                                    "isSqlVariant": false,
                                    "isUdt": false,
                                    "isXml": false,
                                    "isJson": false,
                                    "sqlDbType": 22,
                                    "isHierarchyId": false,
                                    "isSqlXmlType": false,
                                    "isUnknownType": false,
                                    "isUpdatable": true,
                                    "allowDBNull": true,
                                    "baseCatalogName": null,
                                    "baseColumnName": null,
                                    "baseSchemaName": null,
                                    "baseServerName": null,
                                    "baseTableName": null,
                                    "columnName": "dept_name",
                                    "columnOrdinal": 0,
                                    "columnSize": 20,
                                    "isAliased": null,
                                    "isAutoIncrement": false,
                                    "isExpression": null,
                                    "isHidden": null,
                                    "isIdentity": false,
                                    "isKey": null,
                                    "isLong": false,
                                    "isReadOnly": false,
                                    "isUnique": false,
                                    "numericPrecision": 255,
                                    "numericScale": 255,
                                    "udtAssemblyQualifiedName": null,
                                    "dataType": "System.String, System.Private.CoreLib, Version=4.0.0.0, Culture=neutral, PublicKeyToken=7cec85d7bea7798e",
                                    "dataTypeName": "varchar"
                                },
                                {
                                    "isBytes": false,
                                    "isChars": false,
                                    "isSqlVariant": false,
                                    "isUdt": false,
                                    "isXml": false,
                                    "isJson": false,
                                    "sqlDbType": 5,
                                    "isHierarchyId": false,
                                    "isSqlXmlType": false,
                                    "isUnknownType": false,
                                    "isUpdatable": true,
                                    "allowDBNull": true,
                                    "baseCatalogName": null,
                                    "baseColumnName": null,
                                    "baseSchemaName": null,
                                    "baseServerName": null,
                                    "baseTableName": null,
                                    "columnName": "total_salary",
                                    "columnOrdinal": 1,
                                    "columnSize": 17,
                                    "isAliased": null,
                                    "isAutoIncrement": false,
                                    "isExpression": null,
                                    "isHidden": null,
                                    "isIdentity": false,
                                    "isKey": null,
                                    "isLong": false,
                                    "isReadOnly": false,
                                    "isUnique": false,
                                    "numericPrecision": 38,
                                    "numericScale": 2,
                                    "udtAssemblyQualifiedName": null,
                                    "dataType": "System.Decimal, System.Private.CoreLib, Version=4.0.0.0, Culture=neutral, PublicKeyToken=7cec85d7bea7798e",
                                    "dataTypeName": "decimal"
                                }
                            ],
                            "specialAction": {
                                "none": true,
                                "expectYukonXMLShowPlan": false
                            }
                        }
                    }
                }
            ],
            "execution_count": 65
        },
        {
            "cell_type": "markdown",
            "source": [
                "## Transactions\n",
                "\n",
                "A transaction consists of a sequence of query and/or update statements. The SQL standard specifies that a transaction begins implicitly when an SQL statement is executed. One of the following SQL statements must end the transaction:\n",
                "\n",
                "- **commit work**; commits the current transaction, that is, it makes the updates performed by the transaction become permanent in the database. After the transaction is committed, a new transaction is automatically started. Once a transaction is commited it cannot be reversed by rollback.\n",
                "- **rollback** causes the current transaction to be rolled back; that is, it undoes all the updates performed by the SQL statements in the transaction. Thus, the tabase state is restored to what it was before the first statement of the transaction execution. **Rollback** is particularly useful if some error is detected during the execution of the transaction.\n",
                "\n",
                "For instance, consider a banking application where we need to transfer money from one bank account to another in the same bank. To do so, we need to update two account balances, subtracting the amount transferred from one, and adding it to the other. If the system crashes after subtracting the amount from the first account but before adding it to the second account, the bank balances will be inconsistent. A similar problem occurs if the second account is credited before subtracting the amount from the first account and the system crashes just after crediting the amount.\n",
                "\n",
                "As another example, consider our running example of a university application. We assume that the attribute tot cred of each tuple in the student relation is kept up-to- date by modifying it whenever the student successfully completes a course. To do so, whenever the takes relation is updated to record successful completion of a course by a student (by assigning an appropriate grade), the corresponding student tuple must also be updated. If the application performing these two updates crashes after one update is performed, but before the second one is performed, the data in the database will be inconsistent.\n",
                "\n",
                "Applying the notion of transactions to the above applications, the update statements should be executed as a single transaction. An error while a transaction executes one of its statements would result in undoing the effects of the earlier statements of the transaction so that the database is not left in a partially updated state.\n",
                "\n",
                "Below we have an example of a data insertion with explicit transaction control. In this case, one of the insertions triggers an error due to a violation of an integrity constraint. We run the code under a try-catch framework, if an error is caught we roll back so that the database returns to the original state, else we commit it."
            ],
            "metadata": {
                "azdata_cell_guid": "05c3882d-e82e-4fd0-ab3b-c757ade0e51e"
            }
        },
        {
            "cell_type": "code",
            "source": [
                "-- check before\n",
                "SELECT COUNT(*) AS n FROM student;\n",
                "GO\n",
                "\n",
                "-- the transaction\n",
                "BEGIN TRANSACTION;\n",
                "    -- Try to run the code and catch the error\n",
                "    BEGIN TRY \n",
                "        INSERT INTO student VALUES ('14', 'Anne', NULL, 60); -- This is fine\n",
                "        INSERT INTO student VALUES ('9002', 'Jane', NULL, -75); -- This violates integritiy constraint of stricly positive total credits\n",
                "    END TRY\n",
                "-- check if any errors occured, if yes and there are more than one transactions, rollback\n",
                "BEGIN CATCH\n",
                "    SELECT \n",
                "        ERROR_NUMBER() AS ErrorNumber,\n",
                "        ERROR_SEVERITY() AS ErrorSeverity,\n",
                "        ERROR_STATE() AS ErrorState,\n",
                "        ERROR_PROCEDURE() AS ErrorProcedure,\n",
                "        ERROR_LINE() AS ErrorLine,\n",
                "        ERROR_MESSAGE() AS ErrorMessage;\n",
                "    -- more than one error, rollback\n",
                "    IF @@TRANCOUNT > 0\n",
                "        ROLLBACK TRANSACTION;\n",
                "END CATCH;\n",
                "-- no error and more than 0 transactions, commit it\n",
                "IF @@TRANCOUNT > 0 -- Returns the number of BEGIN TRANSACTION statements that have occurred on the current connection.\n",
                "    COMMIT TRANSACTION;\n",
                "GO\n",
                "\n",
                "-- check after: If code goes well, due to the roll back, both should look the same\n",
                "SELECT COUNT(*) AS n FROM student;\n",
                "GO"
            ],
            "metadata": {
                "azdata_cell_guid": "6fa44915-3267-4c56-b13b-50dea1402201"
            },
            "outputs": [
                {
                    "output_type": "display_data",
                    "data": {
                        "text/html": "(1 row affected)"
                    },
                    "metadata": {}
                },
                {
                    "output_type": "display_data",
                    "data": {
                        "text/html": "(1 row affected)"
                    },
                    "metadata": {}
                },
                {
                    "output_type": "display_data",
                    "data": {
                        "text/html": "(0 rows affected)"
                    },
                    "metadata": {}
                },
                {
                    "output_type": "display_data",
                    "data": {
                        "text/html": "(1 row affected)"
                    },
                    "metadata": {}
                },
                {
                    "output_type": "display_data",
                    "data": {
                        "text/html": "(1 row affected)"
                    },
                    "metadata": {}
                },
                {
                    "output_type": "display_data",
                    "data": {
                        "text/html": "Total execution time: 00:00:00.006"
                    },
                    "metadata": {}
                },
                {
                    "output_type": "execute_result",
                    "execution_count": 80,
                    "data": {
                        "application/vnd.dataresource+json": {
                            "schema": {
                                "fields": [
                                    {
                                        "name": "n"
                                    }
                                ]
                            },
                            "data": [
                                {
                                    "0": "2006"
                                }
                            ]
                        },
                        "text/html": "<table><tr><th>n</th></tr><tr><td>2006</td></tr></table>"
                    },
                    "metadata": {
                        "resultSet": {
                            "id": 0,
                            "batchId": 0,
                            "rowCount": 1,
                            "complete": true,
                            "columnInfo": [
                                {
                                    "isBytes": false,
                                    "isChars": false,
                                    "isSqlVariant": false,
                                    "isUdt": false,
                                    "isXml": false,
                                    "isJson": false,
                                    "sqlDbType": 8,
                                    "isHierarchyId": false,
                                    "isSqlXmlType": false,
                                    "isUnknownType": false,
                                    "isUpdatable": false,
                                    "allowDBNull": true,
                                    "baseCatalogName": null,
                                    "baseColumnName": null,
                                    "baseSchemaName": null,
                                    "baseServerName": null,
                                    "baseTableName": null,
                                    "columnName": "n",
                                    "columnOrdinal": 0,
                                    "columnSize": 4,
                                    "isAliased": null,
                                    "isAutoIncrement": false,
                                    "isExpression": null,
                                    "isHidden": null,
                                    "isIdentity": false,
                                    "isKey": null,
                                    "isLong": false,
                                    "isReadOnly": true,
                                    "isUnique": false,
                                    "numericPrecision": 10,
                                    "numericScale": 255,
                                    "udtAssemblyQualifiedName": null,
                                    "dataType": "System.Int32, System.Private.CoreLib, Version=4.0.0.0, Culture=neutral, PublicKeyToken=7cec85d7bea7798e",
                                    "dataTypeName": "int"
                                }
                            ],
                            "specialAction": {
                                "none": true,
                                "expectYukonXMLShowPlan": false
                            }
                        }
                    }
                },
                {
                    "output_type": "execute_result",
                    "execution_count": 80,
                    "data": {
                        "application/vnd.dataresource+json": {
                            "schema": {
                                "fields": [
                                    {
                                        "name": "ErrorNumber"
                                    },
                                    {
                                        "name": "ErrorSeverity"
                                    },
                                    {
                                        "name": "ErrorState"
                                    },
                                    {
                                        "name": "ErrorProcedure"
                                    },
                                    {
                                        "name": "ErrorLine"
                                    },
                                    {
                                        "name": "ErrorMessage"
                                    }
                                ]
                            },
                            "data": [
                                {
                                    "0": "547",
                                    "1": "16",
                                    "2": "0",
                                    "3": "NULL",
                                    "4": "7",
                                    "5": "The INSERT statement conflicted with the CHECK constraint \"CK__student__tot_cre__3A81B327\". The conflict occurred in database \"uni\", table \"dbo.student\", column 'tot_cred'."
                                }
                            ]
                        },
                        "text/html": "<table><tr><th>ErrorNumber</th><th>ErrorSeverity</th><th>ErrorState</th><th>ErrorProcedure</th><th>ErrorLine</th><th>ErrorMessage</th></tr><tr><td>547</td><td>16</td><td>0</td><td>NULL</td><td>7</td><td>The INSERT statement conflicted with the CHECK constraint &quot;CK__student__tot_cre__3A81B327&quot;. The conflict occurred in database &quot;uni&quot;, table &quot;dbo.student&quot;, column 'tot_cred'.</td></tr></table>"
                    },
                    "metadata": {
                        "resultSet": {
                            "id": 0,
                            "batchId": 1,
                            "rowCount": 1,
                            "complete": true,
                            "columnInfo": [
                                {
                                    "isBytes": false,
                                    "isChars": false,
                                    "isSqlVariant": false,
                                    "isUdt": false,
                                    "isXml": false,
                                    "isJson": false,
                                    "sqlDbType": 8,
                                    "isHierarchyId": false,
                                    "isSqlXmlType": false,
                                    "isUnknownType": false,
                                    "isUpdatable": false,
                                    "allowDBNull": true,
                                    "baseCatalogName": null,
                                    "baseColumnName": null,
                                    "baseSchemaName": null,
                                    "baseServerName": null,
                                    "baseTableName": null,
                                    "columnName": "ErrorNumber",
                                    "columnOrdinal": 0,
                                    "columnSize": 4,
                                    "isAliased": null,
                                    "isAutoIncrement": false,
                                    "isExpression": null,
                                    "isHidden": null,
                                    "isIdentity": false,
                                    "isKey": null,
                                    "isLong": false,
                                    "isReadOnly": true,
                                    "isUnique": false,
                                    "numericPrecision": 10,
                                    "numericScale": 255,
                                    "udtAssemblyQualifiedName": null,
                                    "dataType": "System.Int32, System.Private.CoreLib, Version=4.0.0.0, Culture=neutral, PublicKeyToken=7cec85d7bea7798e",
                                    "dataTypeName": "int"
                                },
                                {
                                    "isBytes": false,
                                    "isChars": false,
                                    "isSqlVariant": false,
                                    "isUdt": false,
                                    "isXml": false,
                                    "isJson": false,
                                    "sqlDbType": 8,
                                    "isHierarchyId": false,
                                    "isSqlXmlType": false,
                                    "isUnknownType": false,
                                    "isUpdatable": false,
                                    "allowDBNull": true,
                                    "baseCatalogName": null,
                                    "baseColumnName": null,
                                    "baseSchemaName": null,
                                    "baseServerName": null,
                                    "baseTableName": null,
                                    "columnName": "ErrorSeverity",
                                    "columnOrdinal": 1,
                                    "columnSize": 4,
                                    "isAliased": null,
                                    "isAutoIncrement": false,
                                    "isExpression": null,
                                    "isHidden": null,
                                    "isIdentity": false,
                                    "isKey": null,
                                    "isLong": false,
                                    "isReadOnly": true,
                                    "isUnique": false,
                                    "numericPrecision": 10,
                                    "numericScale": 255,
                                    "udtAssemblyQualifiedName": null,
                                    "dataType": "System.Int32, System.Private.CoreLib, Version=4.0.0.0, Culture=neutral, PublicKeyToken=7cec85d7bea7798e",
                                    "dataTypeName": "int"
                                },
                                {
                                    "isBytes": false,
                                    "isChars": false,
                                    "isSqlVariant": false,
                                    "isUdt": false,
                                    "isXml": false,
                                    "isJson": false,
                                    "sqlDbType": 8,
                                    "isHierarchyId": false,
                                    "isSqlXmlType": false,
                                    "isUnknownType": false,
                                    "isUpdatable": false,
                                    "allowDBNull": true,
                                    "baseCatalogName": null,
                                    "baseColumnName": null,
                                    "baseSchemaName": null,
                                    "baseServerName": null,
                                    "baseTableName": null,
                                    "columnName": "ErrorState",
                                    "columnOrdinal": 2,
                                    "columnSize": 4,
                                    "isAliased": null,
                                    "isAutoIncrement": false,
                                    "isExpression": null,
                                    "isHidden": null,
                                    "isIdentity": false,
                                    "isKey": null,
                                    "isLong": false,
                                    "isReadOnly": true,
                                    "isUnique": false,
                                    "numericPrecision": 10,
                                    "numericScale": 255,
                                    "udtAssemblyQualifiedName": null,
                                    "dataType": "System.Int32, System.Private.CoreLib, Version=4.0.0.0, Culture=neutral, PublicKeyToken=7cec85d7bea7798e",
                                    "dataTypeName": "int"
                                },
                                {
                                    "isBytes": false,
                                    "isChars": true,
                                    "isSqlVariant": false,
                                    "isUdt": false,
                                    "isXml": false,
                                    "isJson": false,
                                    "sqlDbType": 12,
                                    "isHierarchyId": false,
                                    "isSqlXmlType": false,
                                    "isUnknownType": false,
                                    "isUpdatable": false,
                                    "allowDBNull": true,
                                    "baseCatalogName": null,
                                    "baseColumnName": null,
                                    "baseSchemaName": null,
                                    "baseServerName": null,
                                    "baseTableName": null,
                                    "columnName": "ErrorProcedure",
                                    "columnOrdinal": 3,
                                    "columnSize": 128,
                                    "isAliased": null,
                                    "isAutoIncrement": false,
                                    "isExpression": null,
                                    "isHidden": null,
                                    "isIdentity": false,
                                    "isKey": null,
                                    "isLong": false,
                                    "isReadOnly": true,
                                    "isUnique": false,
                                    "numericPrecision": 255,
                                    "numericScale": 255,
                                    "udtAssemblyQualifiedName": null,
                                    "dataType": "System.String, System.Private.CoreLib, Version=4.0.0.0, Culture=neutral, PublicKeyToken=7cec85d7bea7798e",
                                    "dataTypeName": "nvarchar"
                                },
                                {
                                    "isBytes": false,
                                    "isChars": false,
                                    "isSqlVariant": false,
                                    "isUdt": false,
                                    "isXml": false,
                                    "isJson": false,
                                    "sqlDbType": 8,
                                    "isHierarchyId": false,
                                    "isSqlXmlType": false,
                                    "isUnknownType": false,
                                    "isUpdatable": false,
                                    "allowDBNull": true,
                                    "baseCatalogName": null,
                                    "baseColumnName": null,
                                    "baseSchemaName": null,
                                    "baseServerName": null,
                                    "baseTableName": null,
                                    "columnName": "ErrorLine",
                                    "columnOrdinal": 4,
                                    "columnSize": 4,
                                    "isAliased": null,
                                    "isAutoIncrement": false,
                                    "isExpression": null,
                                    "isHidden": null,
                                    "isIdentity": false,
                                    "isKey": null,
                                    "isLong": false,
                                    "isReadOnly": true,
                                    "isUnique": false,
                                    "numericPrecision": 10,
                                    "numericScale": 255,
                                    "udtAssemblyQualifiedName": null,
                                    "dataType": "System.Int32, System.Private.CoreLib, Version=4.0.0.0, Culture=neutral, PublicKeyToken=7cec85d7bea7798e",
                                    "dataTypeName": "int"
                                },
                                {
                                    "isBytes": false,
                                    "isChars": true,
                                    "isSqlVariant": false,
                                    "isUdt": false,
                                    "isXml": false,
                                    "isJson": false,
                                    "sqlDbType": 12,
                                    "isHierarchyId": false,
                                    "isSqlXmlType": false,
                                    "isUnknownType": false,
                                    "isUpdatable": false,
                                    "allowDBNull": true,
                                    "baseCatalogName": null,
                                    "baseColumnName": null,
                                    "baseSchemaName": null,
                                    "baseServerName": null,
                                    "baseTableName": null,
                                    "columnName": "ErrorMessage",
                                    "columnOrdinal": 5,
                                    "columnSize": 4000,
                                    "isAliased": null,
                                    "isAutoIncrement": false,
                                    "isExpression": null,
                                    "isHidden": null,
                                    "isIdentity": false,
                                    "isKey": null,
                                    "isLong": false,
                                    "isReadOnly": true,
                                    "isUnique": false,
                                    "numericPrecision": 255,
                                    "numericScale": 255,
                                    "udtAssemblyQualifiedName": null,
                                    "dataType": "System.String, System.Private.CoreLib, Version=4.0.0.0, Culture=neutral, PublicKeyToken=7cec85d7bea7798e",
                                    "dataTypeName": "nvarchar"
                                }
                            ],
                            "specialAction": {
                                "none": true,
                                "expectYukonXMLShowPlan": false
                            }
                        }
                    }
                },
                {
                    "output_type": "execute_result",
                    "execution_count": 80,
                    "data": {
                        "application/vnd.dataresource+json": {
                            "schema": {
                                "fields": [
                                    {
                                        "name": "n"
                                    }
                                ]
                            },
                            "data": [
                                {
                                    "0": "2006"
                                }
                            ]
                        },
                        "text/html": "<table><tr><th>n</th></tr><tr><td>2006</td></tr></table>"
                    },
                    "metadata": {
                        "resultSet": {
                            "id": 0,
                            "batchId": 2,
                            "rowCount": 1,
                            "complete": true,
                            "columnInfo": [
                                {
                                    "isBytes": false,
                                    "isChars": false,
                                    "isSqlVariant": false,
                                    "isUdt": false,
                                    "isXml": false,
                                    "isJson": false,
                                    "sqlDbType": 8,
                                    "isHierarchyId": false,
                                    "isSqlXmlType": false,
                                    "isUnknownType": false,
                                    "isUpdatable": false,
                                    "allowDBNull": true,
                                    "baseCatalogName": null,
                                    "baseColumnName": null,
                                    "baseSchemaName": null,
                                    "baseServerName": null,
                                    "baseTableName": null,
                                    "columnName": "n",
                                    "columnOrdinal": 0,
                                    "columnSize": 4,
                                    "isAliased": null,
                                    "isAutoIncrement": false,
                                    "isExpression": null,
                                    "isHidden": null,
                                    "isIdentity": false,
                                    "isKey": null,
                                    "isLong": false,
                                    "isReadOnly": true,
                                    "isUnique": false,
                                    "numericPrecision": 10,
                                    "numericScale": 255,
                                    "udtAssemblyQualifiedName": null,
                                    "dataType": "System.Int32, System.Private.CoreLib, Version=4.0.0.0, Culture=neutral, PublicKeyToken=7cec85d7bea7798e",
                                    "dataTypeName": "int"
                                }
                            ],
                            "specialAction": {
                                "none": true,
                                "expectYukonXMLShowPlan": false
                            }
                        }
                    }
                }
            ],
            "execution_count": 80
        },
        {
            "cell_type": "markdown",
            "source": [
                "Here we do the same, but now both insertions are fine."
            ],
            "metadata": {
                "azdata_cell_guid": "f0136f55-5951-4ac6-9fd2-dc485ac55fdf"
            }
        },
        {
            "cell_type": "code",
            "source": [
                "-- check before\n",
                "SELECT COUNT(*) AS n FROM student;\n",
                "GO\n",
                "\n",
                "-- the transaction\n",
                "BEGIN TRANSACTION;\n",
                "    -- Try to run the code and catch the error\n",
                "    BEGIN TRY \n",
                "        INSERT INTO student VALUES ('14', 'Anne', NULL, 60); -- This is fine\n",
                "        INSERT INTO student VALUES ('9002', 'Jane', NULL, 75); -- This violates integritiy constraint of stricly positive total credits\n",
                "    END TRY\n",
                "-- check if any errors occured, if yes and there are more than one transactions, rollback\n",
                "BEGIN CATCH\n",
                "    SELECT \n",
                "        ERROR_NUMBER() AS ErrorNumber,\n",
                "        ERROR_SEVERITY() AS ErrorSeverity,\n",
                "        ERROR_STATE() AS ErrorState,\n",
                "        ERROR_PROCEDURE() AS ErrorProcedure,\n",
                "        ERROR_LINE() AS ErrorLine,\n",
                "        ERROR_MESSAGE() AS ErrorMessage;\n",
                "    -- more than one error, rollback\n",
                "    IF @@TRANCOUNT > 0\n",
                "        ROLLBACK TRANSACTION;\n",
                "END CATCH;\n",
                "-- no error and more than 0 transactions, commit it\n",
                "IF @@TRANCOUNT > 0\n",
                "    COMMIT TRANSACTION;\n",
                "GO\n",
                "\n",
                "-- check after: If code goes well, due to the roll back, both should look the same\n",
                "SELECT COUNT(*) AS n FROM student;\n",
                "GO\n",
                ""
            ],
            "metadata": {
                "azdata_cell_guid": "ad7738b6-0676-4a4f-a2d9-406caa07fb38"
            },
            "outputs": [
                {
                    "output_type": "display_data",
                    "data": {
                        "text/html": "(1 row affected)"
                    },
                    "metadata": {}
                },
                {
                    "output_type": "display_data",
                    "data": {
                        "text/html": "(1 row affected)"
                    },
                    "metadata": {}
                },
                {
                    "output_type": "display_data",
                    "data": {
                        "text/html": "(1 row affected)"
                    },
                    "metadata": {}
                },
                {
                    "output_type": "display_data",
                    "data": {
                        "text/html": "(1 row affected)"
                    },
                    "metadata": {}
                },
                {
                    "output_type": "display_data",
                    "data": {
                        "text/html": "Total execution time: 00:00:00.009"
                    },
                    "metadata": {}
                },
                {
                    "output_type": "execute_result",
                    "execution_count": 81,
                    "data": {
                        "application/vnd.dataresource+json": {
                            "schema": {
                                "fields": [
                                    {
                                        "name": "n"
                                    }
                                ]
                            },
                            "data": [
                                {
                                    "0": "2006"
                                }
                            ]
                        },
                        "text/html": "<table><tr><th>n</th></tr><tr><td>2006</td></tr></table>"
                    },
                    "metadata": {
                        "resultSet": {
                            "id": 0,
                            "batchId": 0,
                            "rowCount": 1,
                            "complete": true,
                            "columnInfo": [
                                {
                                    "isBytes": false,
                                    "isChars": false,
                                    "isSqlVariant": false,
                                    "isUdt": false,
                                    "isXml": false,
                                    "isJson": false,
                                    "sqlDbType": 8,
                                    "isHierarchyId": false,
                                    "isSqlXmlType": false,
                                    "isUnknownType": false,
                                    "isUpdatable": false,
                                    "allowDBNull": true,
                                    "baseCatalogName": null,
                                    "baseColumnName": null,
                                    "baseSchemaName": null,
                                    "baseServerName": null,
                                    "baseTableName": null,
                                    "columnName": "n",
                                    "columnOrdinal": 0,
                                    "columnSize": 4,
                                    "isAliased": null,
                                    "isAutoIncrement": false,
                                    "isExpression": null,
                                    "isHidden": null,
                                    "isIdentity": false,
                                    "isKey": null,
                                    "isLong": false,
                                    "isReadOnly": true,
                                    "isUnique": false,
                                    "numericPrecision": 10,
                                    "numericScale": 255,
                                    "udtAssemblyQualifiedName": null,
                                    "dataType": "System.Int32, System.Private.CoreLib, Version=4.0.0.0, Culture=neutral, PublicKeyToken=7cec85d7bea7798e",
                                    "dataTypeName": "int"
                                }
                            ],
                            "specialAction": {
                                "none": true,
                                "expectYukonXMLShowPlan": false
                            }
                        }
                    }
                },
                {
                    "output_type": "execute_result",
                    "execution_count": 81,
                    "data": {
                        "application/vnd.dataresource+json": {
                            "schema": {
                                "fields": [
                                    {
                                        "name": "n"
                                    }
                                ]
                            },
                            "data": [
                                {
                                    "0": "2008"
                                }
                            ]
                        },
                        "text/html": "<table><tr><th>n</th></tr><tr><td>2008</td></tr></table>"
                    },
                    "metadata": {
                        "resultSet": {
                            "id": 0,
                            "batchId": 2,
                            "rowCount": 1,
                            "complete": true,
                            "columnInfo": [
                                {
                                    "isBytes": false,
                                    "isChars": false,
                                    "isSqlVariant": false,
                                    "isUdt": false,
                                    "isXml": false,
                                    "isJson": false,
                                    "sqlDbType": 8,
                                    "isHierarchyId": false,
                                    "isSqlXmlType": false,
                                    "isUnknownType": false,
                                    "isUpdatable": false,
                                    "allowDBNull": true,
                                    "baseCatalogName": null,
                                    "baseColumnName": null,
                                    "baseSchemaName": null,
                                    "baseServerName": null,
                                    "baseTableName": null,
                                    "columnName": "n",
                                    "columnOrdinal": 0,
                                    "columnSize": 4,
                                    "isAliased": null,
                                    "isAutoIncrement": false,
                                    "isExpression": null,
                                    "isHidden": null,
                                    "isIdentity": false,
                                    "isKey": null,
                                    "isLong": false,
                                    "isReadOnly": true,
                                    "isUnique": false,
                                    "numericPrecision": 10,
                                    "numericScale": 255,
                                    "udtAssemblyQualifiedName": null,
                                    "dataType": "System.Int32, System.Private.CoreLib, Version=4.0.0.0, Culture=neutral, PublicKeyToken=7cec85d7bea7798e",
                                    "dataTypeName": "int"
                                }
                            ],
                            "specialAction": {
                                "none": true,
                                "expectYukonXMLShowPlan": false
                            }
                        }
                    }
                }
            ],
            "execution_count": 81
        },
        {
            "cell_type": "markdown",
            "source": [
                "## Integrity constraints\n",
                "\n",
                "Integrity constraints ensure that changes made to the database by unauthorized users do not result in a loss of data consistency. **Integrity constraints are usually identified as part of the database schema design process and declared as part of the creation or update of a relation**.\n",
                "\n",
                "Among other, SQL allows the following integrity constraints:\n",
                "\n",
                "1. ``NOT NULL``\n",
                "```\n",
                "CREATE TABLE(\n",
                "name VARCHAR(20) NOT NULL\n",
                "budget NUMERIC(12,2) NOT NULL\n",
                ")\n",
                "```\n",
                "2. ``UNIQUE``\n",
                "```\n",
                "CREATE TABLE(\n",
                "name VARCHAR(20) NOT NULL\n",
                "budget NUMERIC(12,2) NOT NULL\n",
                "CONSTRAINT unique_name UNIQUE(name)  \n",
                ")\n",
                "```\n",
                "3. ``CHECK(<predicate>)``\n",
                "\n",
                "```\n",
                "CREATE TABLE(\n",
                "name VARCHAR(20) NOT NULL\n",
                "budget NUMERIC(12,2) NOT NULL\n",
                "CONSTRAINT unique_name UNIQUE(name)  \n",
                "CONSTRAINT budget_range CHECK (budget BETWEEN 0 and 100000000)\n",
                ")\n",
                "```\n",
                "Or \n",
                "```\n",
                "CREATE TABLE(\n",
                "name VARCHAR(20) NOT NULL\n",
                "semester VARCHAR(20)\n",
                "budget NUMERIC(12,2) NOT NULL\n",
                "CONSTRAINT unique_name UNIQUE(name)  \n",
                "CONSTRAINT semester_check CHECK (semester IN ('fall', 'summer', 'autumn', 'winter'))\n",
                ")\n",
                "```"
            ],
            "metadata": {
                "azdata_cell_guid": "a00faf25-a4d3-4234-b3d3-6d486a961e0e"
            }
        },
        {
            "cell_type": "markdown",
            "source": [
                "## Referential Integrity\n",
                "\n",
                "Often we wish to ensure that a value which appears in one relation, the <em>referencing relation</em>, for a given set of attributes also appears for a certain set of attributes in another relation (the <em>referenced relation</em>). We saw before how to set referential integrity constraints, namely, foreign keys.\n",
                "\n",
                "When a referential-integrity constraint is violated, the normal procedure is to reject the action that caused the violation (i.e., the transaction performing the update action is rolled back).\n",
                "\n",
                "However, a <strong>foreign key clause can specify that if a delete or update action on the referenced relation violates the constraint, then, instead of rejecting the action, the system must take steps to change the tuple in the referencing relation to restore the constraint</strong>.\n",
                "\n",
                "```\n",
                "create table course ( ...\n",
                "    foreign key (dept name) references department,\n",
                "        on delete cascade\n",
                "        on update cascade,\n",
                "... );\n",
                "\n",
                "```\n",
                "\n",
                "Because of the <strong>on delete cascade</strong> associated with the foreign-key declaration, if a delete of a tuple in the <em>department</em> results in this <em>referential-integrity constraint being violated, the system does not reject the delete</em>. Instead, <em>the delete cascades</em> to the course relation, that is, that tuple will also be deleted there.\n",
                "\n",
                "Similarly, the system does not reject an update to a filed referenced by the constrant if it violates the constraint, instead <em>the system updates the field detp_name in the referencing tuples in course to the new value as well</em>.\n",
                "\n",
                "SQL also allows the foreign key clause to specify actions other than cascade, if the constraint is violated: The referencing field (here, dept name) <strong>can be set to null (by using set null in place of cascade)</strong>, or <strong>to the default value for the domain (by using set default)</strong>.\n",
                "\n",
                "## Integrity constraint violation during a transaction\n",
                "\n",
                "Transactions may consist of several changes to the database and integrity constraints may be temporarily violated after one of these steps but a later step may remove the violation.\n",
                "\n",
                "To handle such situaitons, the SQL standard allows a clause <strong>initially deferred</strong> to be added to a constraint specification; the constraint would then be checked at the end of a transaction and not at intermediate steps.\n",
                "\n",
                "A constrain can alternatively be specified as <strong>deferrable</strong>, which means it is checked immediatly by default but can be deferred when desired.\n",
                "\n",
                "For constraints declared as deferrable, executing a statement <strong>set constraints</strong> <em>constraint-list</em> <strong>deferred</strong> as part of a transaction causes the checking of the specified constraints to be deferred to the end of that transaction. Constraints which appear in the constraint list must, obviously, be named during their creation.\n",
                "\n",
                "<br>"
            ],
            "metadata": {
                "azdata_cell_guid": "fd177016-6baf-465c-9c46-9a3ad6925265"
            }
        },
        {
            "cell_type": "markdown",
            "source": [
                "# Practice exercises from the book\n",
                "\n",
                "(From chapter 4 of Silberchatz et al)\n",
                "\n",
                "<br>\n",
                "\n",
                "4.1. Consider the following SQL query that seeks to find a list of titles of all courses taught in Spring 2017 along with the name of the instructor"
            ],
            "metadata": {
                "azdata_cell_guid": "11526b3d-6b18-4cc6-a92f-5111fb1141b0"
            }
        },
        {
            "cell_type": "code",
            "source": [
                "USE uni;\n",
                "GO\n",
                "-- no joins\n",
                "SELECT instructor.name, course.title\n",
                "FROM course, instructor, teaches\n",
                "WHERE \n",
                "    course.course_id = teaches.course_id AND\n",
                "    instructor.ID = teaches.ID AND \n",
                "    teaches.semester = 'Spring' AND\n",
                "    teaches.year = '2007';\n",
                "GO\n",
                "\n",
                "-- With nested inner joins\n",
                "SELECT [name], title\n",
                "FROM course \n",
                "    INNER JOIN teaches ON  course.course_id = teaches.course_id\n",
                "    INNER JOIN instructor ON instructor.ID = teaches.ID\n",
                "WHERE  \n",
                "    teaches.semester = 'Spring' AND\n",
                "    teaches.year = '2007';\n",
                "GO"
            ],
            "metadata": {
                "azdata_cell_guid": "fd3b1ca4-b3c3-4158-b198-0e56b3c69a48"
            },
            "outputs": [
                {
                    "output_type": "display_data",
                    "data": {
                        "text/html": "Commands completed successfully."
                    },
                    "metadata": {}
                },
                {
                    "output_type": "display_data",
                    "data": {
                        "text/html": "(6 rows affected)"
                    },
                    "metadata": {}
                },
                {
                    "output_type": "display_data",
                    "data": {
                        "text/html": "(6 rows affected)"
                    },
                    "metadata": {}
                },
                {
                    "output_type": "display_data",
                    "data": {
                        "text/html": "Total execution time: 00:00:00.018"
                    },
                    "metadata": {}
                },
                {
                    "output_type": "execute_result",
                    "execution_count": 3,
                    "data": {
                        "application/vnd.dataresource+json": {
                            "schema": {
                                "fields": [
                                    {
                                        "name": "name"
                                    },
                                    {
                                        "name": "title"
                                    }
                                ]
                            },
                            "data": [
                                {
                                    "0": "Lembr",
                                    "1": "The Music of the Ramones"
                                },
                                {
                                    "0": "DAgostino",
                                    "1": "Graph Theory"
                                },
                                {
                                    "0": "DAgostino",
                                    "1": "Visual BASIC"
                                },
                                {
                                    "0": "Gustafsson",
                                    "1": "Marine Mammals"
                                },
                                {
                                    "0": "Gustafsson",
                                    "1": "Plasma Physics"
                                },
                                {
                                    "0": "Ullman ",
                                    "1": "Bankruptcy"
                                }
                            ]
                        },
                        "text/html": "<table><tr><th>name</th><th>title</th></tr><tr><td>Lembr</td><td>The Music of the Ramones</td></tr><tr><td>DAgostino</td><td>Graph Theory</td></tr><tr><td>DAgostino</td><td>Visual BASIC</td></tr><tr><td>Gustafsson</td><td>Marine Mammals</td></tr><tr><td>Gustafsson</td><td>Plasma Physics</td></tr><tr><td>Ullman </td><td>Bankruptcy</td></tr></table>"
                    },
                    "metadata": {
                        "resultSet": {
                            "id": 0,
                            "batchId": 1,
                            "rowCount": 6,
                            "complete": true,
                            "columnInfo": [
                                {
                                    "isBytes": false,
                                    "isChars": true,
                                    "isSqlVariant": false,
                                    "isUdt": false,
                                    "isXml": false,
                                    "isJson": false,
                                    "sqlDbType": 22,
                                    "isHierarchyId": false,
                                    "isSqlXmlType": false,
                                    "isUnknownType": false,
                                    "isUpdatable": true,
                                    "allowDBNull": false,
                                    "baseCatalogName": null,
                                    "baseColumnName": null,
                                    "baseSchemaName": null,
                                    "baseServerName": null,
                                    "baseTableName": null,
                                    "columnName": "name",
                                    "columnOrdinal": 0,
                                    "columnSize": 20,
                                    "isAliased": null,
                                    "isAutoIncrement": false,
                                    "isExpression": null,
                                    "isHidden": null,
                                    "isIdentity": false,
                                    "isKey": null,
                                    "isLong": false,
                                    "isReadOnly": false,
                                    "isUnique": false,
                                    "numericPrecision": 255,
                                    "numericScale": 255,
                                    "udtAssemblyQualifiedName": null,
                                    "dataType": "System.String, System.Private.CoreLib, Version=4.0.0.0, Culture=neutral, PublicKeyToken=7cec85d7bea7798e",
                                    "dataTypeName": "varchar"
                                },
                                {
                                    "isBytes": false,
                                    "isChars": true,
                                    "isSqlVariant": false,
                                    "isUdt": false,
                                    "isXml": false,
                                    "isJson": false,
                                    "sqlDbType": 22,
                                    "isHierarchyId": false,
                                    "isSqlXmlType": false,
                                    "isUnknownType": false,
                                    "isUpdatable": true,
                                    "allowDBNull": true,
                                    "baseCatalogName": null,
                                    "baseColumnName": null,
                                    "baseSchemaName": null,
                                    "baseServerName": null,
                                    "baseTableName": null,
                                    "columnName": "title",
                                    "columnOrdinal": 1,
                                    "columnSize": 50,
                                    "isAliased": null,
                                    "isAutoIncrement": false,
                                    "isExpression": null,
                                    "isHidden": null,
                                    "isIdentity": false,
                                    "isKey": null,
                                    "isLong": false,
                                    "isReadOnly": false,
                                    "isUnique": false,
                                    "numericPrecision": 255,
                                    "numericScale": 255,
                                    "udtAssemblyQualifiedName": null,
                                    "dataType": "System.String, System.Private.CoreLib, Version=4.0.0.0, Culture=neutral, PublicKeyToken=7cec85d7bea7798e",
                                    "dataTypeName": "varchar"
                                }
                            ],
                            "specialAction": {
                                "none": true,
                                "expectYukonXMLShowPlan": false
                            }
                        }
                    }
                },
                {
                    "output_type": "execute_result",
                    "execution_count": 3,
                    "data": {
                        "application/vnd.dataresource+json": {
                            "schema": {
                                "fields": [
                                    {
                                        "name": "name"
                                    },
                                    {
                                        "name": "title"
                                    }
                                ]
                            },
                            "data": [
                                {
                                    "0": "Lembr",
                                    "1": "The Music of the Ramones"
                                },
                                {
                                    "0": "DAgostino",
                                    "1": "Graph Theory"
                                },
                                {
                                    "0": "DAgostino",
                                    "1": "Visual BASIC"
                                },
                                {
                                    "0": "Gustafsson",
                                    "1": "Marine Mammals"
                                },
                                {
                                    "0": "Gustafsson",
                                    "1": "Plasma Physics"
                                },
                                {
                                    "0": "Ullman ",
                                    "1": "Bankruptcy"
                                }
                            ]
                        },
                        "text/html": "<table><tr><th>name</th><th>title</th></tr><tr><td>Lembr</td><td>The Music of the Ramones</td></tr><tr><td>DAgostino</td><td>Graph Theory</td></tr><tr><td>DAgostino</td><td>Visual BASIC</td></tr><tr><td>Gustafsson</td><td>Marine Mammals</td></tr><tr><td>Gustafsson</td><td>Plasma Physics</td></tr><tr><td>Ullman </td><td>Bankruptcy</td></tr></table>"
                    },
                    "metadata": {
                        "resultSet": {
                            "id": 0,
                            "batchId": 2,
                            "rowCount": 6,
                            "complete": true,
                            "columnInfo": [
                                {
                                    "isBytes": false,
                                    "isChars": true,
                                    "isSqlVariant": false,
                                    "isUdt": false,
                                    "isXml": false,
                                    "isJson": false,
                                    "sqlDbType": 22,
                                    "isHierarchyId": false,
                                    "isSqlXmlType": false,
                                    "isUnknownType": false,
                                    "isUpdatable": true,
                                    "allowDBNull": false,
                                    "baseCatalogName": null,
                                    "baseColumnName": null,
                                    "baseSchemaName": null,
                                    "baseServerName": null,
                                    "baseTableName": null,
                                    "columnName": "name",
                                    "columnOrdinal": 0,
                                    "columnSize": 20,
                                    "isAliased": null,
                                    "isAutoIncrement": false,
                                    "isExpression": null,
                                    "isHidden": null,
                                    "isIdentity": false,
                                    "isKey": null,
                                    "isLong": false,
                                    "isReadOnly": false,
                                    "isUnique": false,
                                    "numericPrecision": 255,
                                    "numericScale": 255,
                                    "udtAssemblyQualifiedName": null,
                                    "dataType": "System.String, System.Private.CoreLib, Version=4.0.0.0, Culture=neutral, PublicKeyToken=7cec85d7bea7798e",
                                    "dataTypeName": "varchar"
                                },
                                {
                                    "isBytes": false,
                                    "isChars": true,
                                    "isSqlVariant": false,
                                    "isUdt": false,
                                    "isXml": false,
                                    "isJson": false,
                                    "sqlDbType": 22,
                                    "isHierarchyId": false,
                                    "isSqlXmlType": false,
                                    "isUnknownType": false,
                                    "isUpdatable": true,
                                    "allowDBNull": true,
                                    "baseCatalogName": null,
                                    "baseColumnName": null,
                                    "baseSchemaName": null,
                                    "baseServerName": null,
                                    "baseTableName": null,
                                    "columnName": "title",
                                    "columnOrdinal": 1,
                                    "columnSize": 50,
                                    "isAliased": null,
                                    "isAutoIncrement": false,
                                    "isExpression": null,
                                    "isHidden": null,
                                    "isIdentity": false,
                                    "isKey": null,
                                    "isLong": false,
                                    "isReadOnly": false,
                                    "isUnique": false,
                                    "numericPrecision": 255,
                                    "numericScale": 255,
                                    "udtAssemblyQualifiedName": null,
                                    "dataType": "System.String, System.Private.CoreLib, Version=4.0.0.0, Culture=neutral, PublicKeyToken=7cec85d7bea7798e",
                                    "dataTypeName": "varchar"
                                }
                            ],
                            "specialAction": {
                                "none": true,
                                "expectYukonXMLShowPlan": false
                            }
                        }
                    }
                }
            ],
            "execution_count": 3
        },
        {
            "cell_type": "markdown",
            "source": [
                "4.2. Write the following queries in SQL\n",
                "\n",
                "a) Display a list of all instructors showing each instructor ID and the number of sections thaught. Make shure to show the number of sectons as 0 for instructors who have not thaught any sections. Your query should use outer join and no subqueries.<br>"
            ],
            "metadata": {
                "azdata_cell_guid": "0204e36c-1105-407c-a939-9ede4c3f9ad1"
            }
        },
        {
            "cell_type": "code",
            "source": [
                "SELECT instructor.ID, instructor.[name], COUNT(teaches.sec_id) AS section_n\n",
                "FROM instructor\n",
                "LEFT OUTER JOIN teaches ON teaches.ID = instructor.ID\n",
                "GROUP BY instructor.ID, instructor.name;"
            ],
            "metadata": {
                "azdata_cell_guid": "82c09605-1274-41b1-902b-3443e964781e"
            },
            "outputs": [
                {
                    "output_type": "display_data",
                    "data": {
                        "text/html": "(513 rows affected)"
                    },
                    "metadata": {}
                },
                {
                    "output_type": "display_data",
                    "data": {
                        "text/html": "Total execution time: 00:00:00.005"
                    },
                    "metadata": {}
                },
                {
                    "output_type": "execute_result",
                    "execution_count": 6,
                    "data": {
                        "application/vnd.dataresource+json": {
                            "schema": {
                                "fields": [
                                    {
                                        "name": "ID"
                                    },
                                    {
                                        "name": "name"
                                    },
                                    {
                                        "name": "section_n"
                                    }
                                ]
                            },
                            "data": [
                                {
                                    "0": "10076",
                                    "1": "Duan",
                                    "2": "0"
                                },
                                {
                                    "0": "10204",
                                    "1": "Mediratta",
                                    "2": "0"
                                },
                                {
                                    "0": "10454",
                                    "1": "Ugarte",
                                    "2": "0"
                                },
                                {
                                    "0": "10527",
                                    "1": "Kieras",
                                    "2": "0"
                                },
                                {
                                    "0": "10693",
                                    "1": "Zabary",
                                    "2": "0"
                                },
                                {
                                    "0": "10834",
                                    "1": "More",
                                    "2": "0"
                                },
                                {
                                    "0": "11055",
                                    "1": "Arnoux",
                                    "2": "0"
                                },
                                {
                                    "0": "11057",
                                    "1": "Robinson",
                                    "2": "0"
                                },
                                {
                                    "0": "11076",
                                    "1": "Prasad",
                                    "2": "0"
                                },
                                {
                                    "0": "11083",
                                    "1": "Kerridge",
                                    "2": "0"
                                },
                                {
                                    "0": "11101",
                                    "1": "Glaho",
                                    "2": "0"
                                },
                                {
                                    "0": "11202",
                                    "1": "Heckman",
                                    "2": "0"
                                },
                                {
                                    "0": "11262",
                                    "1": "Foels",
                                    "2": "0"
                                },
                                {
                                    "0": "11453",
                                    "1": "Yamashita",
                                    "2": "0"
                                },
                                {
                                    "0": "11682",
                                    "1": "Juol",
                                    "2": "0"
                                },
                                {
                                    "0": "11855",
                                    "1": "Mendelzon",
                                    "2": "0"
                                },
                                {
                                    "0": "12236",
                                    "1": "Bricker",
                                    "2": "0"
                                },
                                {
                                    "0": "1232",
                                    "1": "Marcus",
                                    "2": "0"
                                },
                                {
                                    "0": "12362",
                                    "1": "Zhanr",
                                    "2": "0"
                                },
                                {
                                    "0": "12666",
                                    "1": "Power",
                                    "2": "0"
                                },
                                {
                                    "0": "12683",
                                    "1": "Sin",
                                    "2": "0"
                                },
                                {
                                    "0": "13023",
                                    "1": "Serrano",
                                    "2": "0"
                                },
                                {
                                    "0": "13081",
                                    "1": "Alqui",
                                    "2": "0"
                                },
                                {
                                    "0": "13741",
                                    "1": "Grieng",
                                    "2": "0"
                                },
                                {
                                    "0": "13921",
                                    "1": "Berger",
                                    "2": "0"
                                },
                                {
                                    "0": "14214",
                                    "1": "Yoneda",
                                    "2": "0"
                                },
                                {
                                    "0": "14365",
                                    "1": "Lembr",
                                    "2": "2"
                                },
                                {
                                    "0": "14499",
                                    "1": "Axte",
                                    "2": "0"
                                },
                                {
                                    "0": "14581",
                                    "1": "Vagn",
                                    "2": "0"
                                },
                                {
                                    "0": "14596",
                                    "1": "Vekk",
                                    "2": "0"
                                },
                                {
                                    "0": "14829",
                                    "1": "Philippe",
                                    "2": "0"
                                },
                                {
                                    "0": "14869",
                                    "1": "Palmer",
                                    "2": "0"
                                },
                                {
                                    "0": "15144",
                                    "1": "Lapio",
                                    "2": "0"
                                },
                                {
                                    "0": "15328",
                                    "1": "Chien",
                                    "2": "0"
                                },
                                {
                                    "0": "15347",
                                    "1": "Bawa",
                                    "2": "1"
                                },
                                {
                                    "0": "15457",
                                    "1": "Arinb",
                                    "2": "0"
                                },
                                {
                                    "0": "15538",
                                    "1": "Yeung",
                                    "2": "0"
                                },
                                {
                                    "0": "16057",
                                    "1": "Wicki",
                                    "2": "0"
                                },
                                {
                                    "0": "16523",
                                    "1": "Redw",
                                    "2": "0"
                                },
                                {
                                    "0": "16807",
                                    "1": "Yazdi",
                                    "2": "0"
                                },
                                {
                                    "0": "16849",
                                    "1": "Kantors",
                                    "2": "0"
                                },
                                {
                                    "0": "17133",
                                    "1": "Kang",
                                    "2": "0"
                                },
                                {
                                    "0": "1737",
                                    "1": "Shinagawa",
                                    "2": "0"
                                },
                                {
                                    "0": "17607",
                                    "1": "Ould",
                                    "2": "0"
                                },
                                {
                                    "0": "17996",
                                    "1": "Karpist",
                                    "2": "0"
                                },
                                {
                                    "0": "17997",
                                    "1": "Ishikawa",
                                    "2": "0"
                                },
                                {
                                    "0": "18108",
                                    "1": "Brailsford",
                                    "2": "0"
                                },
                                {
                                    "0": "18286",
                                    "1": "Pang",
                                    "2": "0"
                                },
                                {
                                    "0": "18752",
                                    "1": "Schulman",
                                    "2": "0"
                                },
                                {
                                    "0": "18808",
                                    "1": "Snif",
                                    "2": "0"
                                },
                                {
                                    "0": "19048",
                                    "1": "Leuen",
                                    "2": "0"
                                },
                                {
                                    "0": "19293",
                                    "1": "Singhal",
                                    "2": "0"
                                },
                                {
                                    "0": "19321",
                                    "1": "Chang",
                                    "2": "0"
                                },
                                {
                                    "0": "19362",
                                    "1": "Linden",
                                    "2": "0"
                                },
                                {
                                    "0": "19368",
                                    "1": "Wieland",
                                    "2": "3"
                                },
                                {
                                    "0": "19603",
                                    "1": "Colu",
                                    "2": "0"
                                },
                                {
                                    "0": "19638",
                                    "1": "Dawson",
                                    "2": "0"
                                },
                                {
                                    "0": "19917",
                                    "1": "Hayrapetyan",
                                    "2": "0"
                                },
                                {
                                    "0": "20244",
                                    "1": "Abu-B",
                                    "2": "0"
                                },
                                {
                                    "0": "20803",
                                    "1": "Mercurio",
                                    "2": "0"
                                },
                                {
                                    "0": "20974",
                                    "1": "Hawkins",
                                    "2": "0"
                                },
                                {
                                    "0": "21009",
                                    "1": "Geon",
                                    "2": "0"
                                },
                                {
                                    "0": "21101",
                                    "1": "Gotchev",
                                    "2": "0"
                                },
                                {
                                    "0": "21102",
                                    "1": "He",
                                    "2": "0"
                                },
                                {
                                    "0": "21225",
                                    "1": "Choll",
                                    "2": "0"
                                },
                                {
                                    "0": "21394",
                                    "1": "Patel",
                                    "2": "0"
                                },
                                {
                                    "0": "21789",
                                    "1": "Bates",
                                    "2": "0"
                                },
                                {
                                    "0": "22004",
                                    "1": "OBrien",
                                    "2": "0"
                                },
                                {
                                    "0": "22050",
                                    "1": "Alioto",
                                    "2": "0"
                                },
                                {
                                    "0": "22198",
                                    "1": "Read",
                                    "2": "0"
                                },
                                {
                                    "0": "22226",
                                    "1": "Kinney",
                                    "2": "0"
                                },
                                {
                                    "0": "22532",
                                    "1": "Silverman",
                                    "2": "0"
                                },
                                {
                                    "0": "22591",
                                    "1": "DAgostino",
                                    "2": "13"
                                },
                                {
                                    "0": "22618",
                                    "1": "Voss",
                                    "2": "0"
                                },
                                {
                                    "0": "23270",
                                    "1": "Bouras",
                                    "2": "0"
                                },
                                {
                                    "0": "23439",
                                    "1": "Cai",
                                    "2": "0"
                                },
                                {
                                    "0": "23506",
                                    "1": "Åström",
                                    "2": "0"
                                },
                                {
                                    "0": "23525",
                                    "1": "DAgostino",
                                    "2": "0"
                                },
                                {
                                    "0": "2423",
                                    "1": "Giralt",
                                    "2": "0"
                                },
                                {
                                    "0": "24374",
                                    "1": "Jo",
                                    "2": "0"
                                },
                                {
                                    "0": "24784",
                                    "1": "Jessup",
                                    "2": "0"
                                },
                                {
                                    "0": "24865",
                                    "1": "Tran-",
                                    "2": "0"
                                },
                                {
                                    "0": "25187",
                                    "1": "Fenwick",
                                    "2": "0"
                                },
                                {
                                    "0": "25362",
                                    "1": "Simmel",
                                    "2": "0"
                                },
                                {
                                    "0": "25525",
                                    "1": "Moreira",
                                    "2": "0"
                                },
                                {
                                    "0": "25552",
                                    "1": "Calles",
                                    "2": "0"
                                },
                                {
                                    "0": "25611",
                                    "1": "Sve",
                                    "2": "0"
                                },
                                {
                                    "0": "25725",
                                    "1": "Steeh",
                                    "2": "0"
                                },
                                {
                                    "0": "259",
                                    "1": "Bertranp",
                                    "2": "0"
                                },
                                {
                                    "0": "25940",
                                    "1": "Rosenkrantz",
                                    "2": "0"
                                },
                                {
                                    "0": "25946",
                                    "1": "Liley",
                                    "2": "1"
                                },
                                {
                                    "0": "26102",
                                    "1": "Tanaka",
                                    "2": "0"
                                },
                                {
                                    "0": "26147",
                                    "1": "Richter",
                                    "2": "0"
                                },
                                {
                                    "0": "26427",
                                    "1": "Ende",
                                    "2": "0"
                                },
                                {
                                    "0": "26695",
                                    "1": "Hac",
                                    "2": "0"
                                },
                                {
                                    "0": "26881",
                                    "1": "Markin",
                                    "2": "0"
                                },
                                {
                                    "0": "27043",
                                    "1": "Garze",
                                    "2": "0"
                                },
                                {
                                    "0": "27094",
                                    "1": "Gur",
                                    "2": "0"
                                },
                                {
                                    "0": "27236",
                                    "1": "Date",
                                    "2": "0"
                                },
                                {
                                    "0": "27727",
                                    "1": "Duong",
                                    "2": "0"
                                },
                                {
                                    "0": "27919",
                                    "1": "Hubr",
                                    "2": "0"
                                },
                                {
                                    "0": "28097",
                                    "1": "Kean",
                                    "2": "2"
                                },
                                {
                                    "0": "28128",
                                    "1": "Crick",
                                    "2": "0"
                                },
                                {
                                    "0": "28299",
                                    "1": "Grange",
                                    "2": "0"
                                },
                                {
                                    "0": "28361",
                                    "1": "Sorensen",
                                    "2": "0"
                                },
                                {
                                    "0": "28400",
                                    "1": "Atanassov",
                                    "2": "2"
                                },
                                {
                                    "0": "2848",
                                    "1": "Carr",
                                    "2": "0"
                                },
                                {
                                    "0": "28829",
                                    "1": "Reiss",
                                    "2": "0"
                                },
                                {
                                    "0": "28989",
                                    "1": "Albinal",
                                    "2": "0"
                                },
                                {
                                    "0": "28994",
                                    "1": "Williamson",
                                    "2": "0"
                                },
                                {
                                    "0": "29140",
                                    "1": "Reuver",
                                    "2": "0"
                                },
                                {
                                    "0": "29239",
                                    "1": "Simmel",
                                    "2": "0"
                                },
                                {
                                    "0": "29514",
                                    "1": "Michael",
                                    "2": "0"
                                },
                                {
                                    "0": "29645",
                                    "1": "Oller",
                                    "2": "0"
                                },
                                {
                                    "0": "29863",
                                    "1": "Harmon",
                                    "2": "0"
                                },
                                {
                                    "0": "30124",
                                    "1": "Alfaro",
                                    "2": "0"
                                },
                                {
                                    "0": "30164",
                                    "1": "Ende",
                                    "2": "0"
                                },
                                {
                                    "0": "30188",
                                    "1": "Ahmad",
                                    "2": "0"
                                },
                                {
                                    "0": "30222",
                                    "1": "Lepp",
                                    "2": "0"
                                },
                                {
                                    "0": "30397",
                                    "1": "Dism",
                                    "2": "0"
                                },
                                {
                                    "0": "30650",
                                    "1": "Chaudhuri",
                                    "2": "0"
                                },
                                {
                                    "0": "30723",
                                    "1": "Mali",
                                    "2": "0"
                                },
                                {
                                    "0": "31086",
                                    "1": "Zulueta",
                                    "2": "0"
                                },
                                {
                                    "0": "31101",
                                    "1": "Lhomme",
                                    "2": "0"
                                },
                                {
                                    "0": "31302",
                                    "1": "Qian",
                                    "2": "0"
                                },
                                {
                                    "0": "31554",
                                    "1": "Fuller",
                                    "2": "0"
                                },
                                {
                                    "0": "31624",
                                    "1": "Keuk",
                                    "2": "0"
                                },
                                {
                                    "0": "31690",
                                    "1": "Bondi",
                                    "2": "0"
                                },
                                {
                                    "0": "31955",
                                    "1": "Moreira",
                                    "2": "0"
                                },
                                {
                                    "0": "3199",
                                    "1": "Gustafsson",
                                    "2": "4"
                                },
                                {
                                    "0": "32385",
                                    "1": "Park",
                                    "2": "0"
                                },
                                {
                                    "0": "32483",
                                    "1": "Atre",
                                    "2": "0"
                                },
                                {
                                    "0": "32490",
                                    "1": "McCracken",
                                    "2": "0"
                                },
                                {
                                    "0": "32954",
                                    "1": "Curutchet",
                                    "2": "0"
                                },
                                {
                                    "0": "33206",
                                    "1": "McCormack",
                                    "2": "0"
                                },
                                {
                                    "0": "33349",
                                    "1": "Peck",
                                    "2": "0"
                                },
                                {
                                    "0": "3335",
                                    "1": "Bourrier",
                                    "2": "2"
                                },
                                {
                                    "0": "33645",
                                    "1": "Kawakami",
                                    "2": "0"
                                },
                                {
                                    "0": "34018",
                                    "1": "Asahara",
                                    "2": "0"
                                },
                                {
                                    "0": "34055",
                                    "1": "Orono",
                                    "2": "0"
                                },
                                {
                                    "0": "34158",
                                    "1": "Mantzo",
                                    "2": "0"
                                },
                                {
                                    "0": "34175",
                                    "1": "Bondi",
                                    "2": "3"
                                },
                                {
                                    "0": "34195",
                                    "1": "Bosnjak",
                                    "2": "0"
                                },
                                {
                                    "0": "34197",
                                    "1": "Nestor",
                                    "2": "0"
                                },
                                {
                                    "0": "34770",
                                    "1": "Porter",
                                    "2": "0"
                                },
                                {
                                    "0": "35",
                                    "1": "Glaho",
                                    "2": "0"
                                },
                                {
                                    "0": "3545",
                                    "1": "Peskin",
                                    "2": "0"
                                },
                                {
                                    "0": "35579",
                                    "1": "Soisalon-Soininen",
                                    "2": "0"
                                },
                                {
                                    "0": "36019",
                                    "1": "Quaranta",
                                    "2": "0"
                                },
                                {
                                    "0": "36102",
                                    "1": "Szendrei",
                                    "2": "0"
                                },
                                {
                                    "0": "36379",
                                    "1": "Triebel",
                                    "2": "0"
                                },
                                {
                                    "0": "36402",
                                    "1": "Hippu",
                                    "2": "0"
                                },
                                {
                                    "0": "36897",
                                    "1": "Morris",
                                    "2": "5"
                                },
                                {
                                    "0": "37038",
                                    "1": "Grieng",
                                    "2": "0"
                                },
                                {
                                    "0": "37454",
                                    "1": "Frasinc",
                                    "2": "0"
                                },
                                {
                                    "0": "37687",
                                    "1": "Arias",
                                    "2": "0"
                                },
                                {
                                    "0": "37869",
                                    "1": "Beeu",
                                    "2": "0"
                                },
                                {
                                    "0": "37946",
                                    "1": "Vrato",
                                    "2": "0"
                                },
                                {
                                    "0": "38288",
                                    "1": "Matsuda",
                                    "2": "0"
                                },
                                {
                                    "0": "38476",
                                    "1": "Rzecz",
                                    "2": "0"
                                },
                                {
                                    "0": "38545",
                                    "1": "Fok",
                                    "2": "0"
                                },
                                {
                                    "0": "38602",
                                    "1": "Torres",
                                    "2": "0"
                                },
                                {
                                    "0": "38696",
                                    "1": "Spadon",
                                    "2": "0"
                                },
                                {
                                    "0": "39046",
                                    "1": "Narasimhamu",
                                    "2": "0"
                                },
                                {
                                    "0": "39254",
                                    "1": "Elme",
                                    "2": "0"
                                },
                                {
                                    "0": "39521",
                                    "1": "Holloway",
                                    "2": "0"
                                },
                                {
                                    "0": "39580",
                                    "1": "Macias",
                                    "2": "0"
                                },
                                {
                                    "0": "39612",
                                    "1": "Androutsopoulos",
                                    "2": "0"
                                },
                                {
                                    "0": "40044",
                                    "1": "Jode",
                                    "2": "0"
                                },
                                {
                                    "0": "40189",
                                    "1": "Holt",
                                    "2": "0"
                                },
                                {
                                    "0": "4034",
                                    "1": "Murata",
                                    "2": "0"
                                },
                                {
                                    "0": "40371",
                                    "1": "Trimble",
                                    "2": "0"
                                },
                                {
                                    "0": "40457",
                                    "1": "Bouras",
                                    "2": "0"
                                },
                                {
                                    "0": "40558",
                                    "1": "Pacie",
                                    "2": "0"
                                },
                                {
                                    "0": "40677",
                                    "1": "Ponnambalam",
                                    "2": "0"
                                },
                                {
                                    "0": "40682",
                                    "1": "Rowe",
                                    "2": "0"
                                },
                                {
                                    "0": "40937",
                                    "1": "Petzo",
                                    "2": "0"
                                },
                                {
                                    "0": "41211",
                                    "1": "Fok",
                                    "2": "0"
                                },
                                {
                                    "0": "4182",
                                    "1": "Powals",
                                    "2": "0"
                                },
                                {
                                    "0": "41930",
                                    "1": "Tung",
                                    "2": "3"
                                },
                                {
                                    "0": "41973",
                                    "1": "Werf",
                                    "2": "0"
                                },
                                {
                                    "0": "4233",
                                    "1": "Luo",
                                    "2": "1"
                                },
                                {
                                    "0": "42782",
                                    "1": "Vicentino",
                                    "2": "1"
                                },
                                {
                                    "0": "42991",
                                    "1": "Kaiser",
                                    "2": "0"
                                },
                                {
                                    "0": "43130",
                                    "1": "Yong",
                                    "2": "0"
                                },
                                {
                                    "0": "4345",
                                    "1": "Resa",
                                    "2": "0"
                                },
                                {
                                    "0": "43495",
                                    "1": "Scher",
                                    "2": "0"
                                },
                                {
                                    "0": "43505",
                                    "1": "Yoon",
                                    "2": "0"
                                },
                                {
                                    "0": "4355",
                                    "1": "Cui",
                                    "2": "0"
                                },
                                {
                                    "0": "43779",
                                    "1": "Romero",
                                    "2": "4"
                                },
                                {
                                    "0": "4383",
                                    "1": "Tallis",
                                    "2": "0"
                                },
                                {
                                    "0": "43993",
                                    "1": "Halbert",
                                    "2": "0"
                                },
                                {
                                    "0": "44271",
                                    "1": "Sowerby",
                                    "2": "0"
                                },
                                {
                                    "0": "44352",
                                    "1": "Itoh",
                                    "2": "0"
                                },
                                {
                                    "0": "4438",
                                    "1": "Yoshioka",
                                    "2": "0"
                                },
                                {
                                    "0": "44551",
                                    "1": "Nguyen",
                                    "2": "0"
                                },
                                {
                                    "0": "44706",
                                    "1": "Bland",
                                    "2": "0"
                                },
                                {
                                    "0": "45002",
                                    "1": "Abraham",
                                    "2": "0"
                                },
                                {
                                    "0": "4508",
                                    "1": "Cochran",
                                    "2": "0"
                                },
                                {
                                    "0": "45200",
                                    "1": "Kitagawa",
                                    "2": "0"
                                },
                                {
                                    "0": "45436",
                                    "1": "Ahmadian",
                                    "2": "0"
                                },
                                {
                                    "0": "45494",
                                    "1": "Matsush",
                                    "2": "0"
                                },
                                {
                                    "0": "45720",
                                    "1": "Yeoh",
                                    "2": "0"
                                },
                                {
                                    "0": "46451",
                                    "1": "Chilu",
                                    "2": "0"
                                },
                                {
                                    "0": "46655",
                                    "1": "Advani",
                                    "2": "0"
                                },
                                {
                                    "0": "46694",
                                    "1": "Masamura",
                                    "2": "0"
                                },
                                {
                                    "0": "46928",
                                    "1": "Barry",
                                    "2": "0"
                                },
                                {
                                    "0": "46981",
                                    "1": "Yalk",
                                    "2": "0"
                                },
                                {
                                    "0": "47265",
                                    "1": "Albinal",
                                    "2": "0"
                                },
                                {
                                    "0": "47379",
                                    "1": "Wakamiya",
                                    "2": "0"
                                },
                                {
                                    "0": "47677",
                                    "1": "Tso",
                                    "2": "0"
                                },
                                {
                                    "0": "48469",
                                    "1": "Kolodko",
                                    "2": "0"
                                },
                                {
                                    "0": "48507",
                                    "1": "Lent",
                                    "2": "1"
                                },
                                {
                                    "0": "48570",
                                    "1": "Sarkar",
                                    "2": "1"
                                },
                                {
                                    "0": "48611",
                                    "1": "Suppan",
                                    "2": "0"
                                },
                                {
                                    "0": "48678",
                                    "1": "Tuomisto",
                                    "2": "0"
                                },
                                {
                                    "0": "48778",
                                    "1": "Pup",
                                    "2": "0"
                                },
                                {
                                    "0": "49339",
                                    "1": "Snif",
                                    "2": "0"
                                },
                                {
                                    "0": "4940",
                                    "1": "Rhyne",
                                    "2": "0"
                                },
                                {
                                    "0": "49503",
                                    "1": "Seaz",
                                    "2": "0"
                                },
                                {
                                    "0": "49759",
                                    "1": "Androutsopoulos",
                                    "2": "0"
                                },
                                {
                                    "0": "50039",
                                    "1": "Kurt",
                                    "2": "0"
                                },
                                {
                                    "0": "50206",
                                    "1": "Cesaret",
                                    "2": "0"
                                },
                                {
                                    "0": "50330",
                                    "1": "Shuming",
                                    "2": "1"
                                },
                                {
                                    "0": "50365",
                                    "1": "Held",
                                    "2": "0"
                                },
                                {
                                    "0": "50386",
                                    "1": "Bersk",
                                    "2": "0"
                                },
                                {
                                    "0": "50583",
                                    "1": "Ng",
                                    "2": "0"
                                },
                                {
                                    "0": "50664",
                                    "1": "Rajnov",
                                    "2": "0"
                                },
                                {
                                    "0": "507",
                                    "1": "Recc",
                                    "2": "0"
                                },
                                {
                                    "0": "50885",
                                    "1": "Konstantinides",
                                    "2": "0"
                                },
                                {
                                    "0": "50969",
                                    "1": "Terauchi",
                                    "2": "0"
                                },
                                {
                                    "0": "51008",
                                    "1": "Kandadai",
                                    "2": "0"
                                },
                                {
                                    "0": "51553",
                                    "1": "Willis",
                                    "2": "0"
                                },
                                {
                                    "0": "51862",
                                    "1": "Carrillo",
                                    "2": "0"
                                },
                                {
                                    "0": "51868",
                                    "1": "Guthk",
                                    "2": "0"
                                },
                                {
                                    "0": "51923",
                                    "1": "Peterson",
                                    "2": "0"
                                },
                                {
                                    "0": "51955",
                                    "1": "Tompa",
                                    "2": "0"
                                },
                                {
                                    "0": "51975",
                                    "1": "Nicol",
                                    "2": "0"
                                },
                                {
                                    "0": "52019",
                                    "1": "Engen",
                                    "2": "0"
                                },
                                {
                                    "0": "52057",
                                    "1": "Garg",
                                    "2": "0"
                                },
                                {
                                    "0": "52371",
                                    "1": "Boons",
                                    "2": "0"
                                },
                                {
                                    "0": "52471",
                                    "1": "Recc",
                                    "2": "0"
                                },
                                {
                                    "0": "52647",
                                    "1": "Bancilhon",
                                    "2": "0"
                                },
                                {
                                    "0": "52669",
                                    "1": "Rayad",
                                    "2": "0"
                                },
                                {
                                    "0": "52856",
                                    "1": "Grange",
                                    "2": "0"
                                },
                                {
                                    "0": "52929",
                                    "1": "Hashim",
                                    "2": "0"
                                },
                                {
                                    "0": "53048",
                                    "1": "Keps",
                                    "2": "0"
                                },
                                {
                                    "0": "53118",
                                    "1": "Carvey",
                                    "2": "0"
                                },
                                {
                                    "0": "53788",
                                    "1": "Byun",
                                    "2": "0"
                                },
                                {
                                    "0": "5414",
                                    "1": "Aiken",
                                    "2": "0"
                                },
                                {
                                    "0": "54612",
                                    "1": "Zaraté",
                                    "2": "0"
                                },
                                {
                                    "0": "54622",
                                    "1": "Yu",
                                    "2": "0"
                                },
                                {
                                    "0": "55000",
                                    "1": "Levitan",
                                    "2": "0"
                                },
                                {
                                    "0": "55354",
                                    "1": "Yang",
                                    "2": "0"
                                },
                                {
                                    "0": "56057",
                                    "1": "Hull",
                                    "2": "0"
                                },
                                {
                                    "0": "56058",
                                    "1": "Fettes",
                                    "2": "0"
                                },
                                {
                                    "0": "56080",
                                    "1": "Zamani",
                                    "2": "0"
                                },
                                {
                                    "0": "56089",
                                    "1": "Mezzar",
                                    "2": "0"
                                },
                                {
                                    "0": "56276",
                                    "1": "Lansi",
                                    "2": "0"
                                },
                                {
                                    "0": "56486",
                                    "1": "DeMil",
                                    "2": "0"
                                },
                                {
                                    "0": "57083",
                                    "1": "Gray",
                                    "2": "0"
                                },
                                {
                                    "0": "57156",
                                    "1": "Haigh",
                                    "2": "0"
                                },
                                {
                                    "0": "57180",
                                    "1": "Hau",
                                    "2": "0"
                                },
                                {
                                    "0": "57242",
                                    "1": "Chatfield",
                                    "2": "0"
                                },
                                {
                                    "0": "57474",
                                    "1": "Coddington",
                                    "2": "0"
                                },
                                {
                                    "0": "58170",
                                    "1": "Lao",
                                    "2": "0"
                                },
                                {
                                    "0": "58172",
                                    "1": "Geißl",
                                    "2": "0"
                                },
                                {
                                    "0": "5824",
                                    "1": "Ocel",
                                    "2": "0"
                                },
                                {
                                    "0": "58558",
                                    "1": "Dusserre",
                                    "2": "0"
                                },
                                {
                                    "0": "58634",
                                    "1": "Choung",
                                    "2": "0"
                                },
                                {
                                    "0": "58874",
                                    "1": "Ray",
                                    "2": "0"
                                },
                                {
                                    "0": "59117",
                                    "1": "Belmes",
                                    "2": "0"
                                },
                                {
                                    "0": "5920",
                                    "1": "Godfrey",
                                    "2": "0"
                                },
                                {
                                    "0": "59290",
                                    "1": "Morris",
                                    "2": "0"
                                },
                                {
                                    "0": "59397",
                                    "1": "Williams",
                                    "2": "0"
                                },
                                {
                                    "0": "59455",
                                    "1": "Lowenstein",
                                    "2": "0"
                                },
                                {
                                    "0": "59538",
                                    "1": "Kothari",
                                    "2": "0"
                                },
                                {
                                    "0": "59553",
                                    "1": "Schoenfl",
                                    "2": "0"
                                },
                                {
                                    "0": "59795",
                                    "1": "Desyl",
                                    "2": "0"
                                },
                                {
                                    "0": "60366",
                                    "1": "Kostie",
                                    "2": "0"
                                },
                                {
                                    "0": "60406",
                                    "1": "Sofer",
                                    "2": "0"
                                },
                                {
                                    "0": "60762",
                                    "1": "Bernstein",
                                    "2": "0"
                                },
                                {
                                    "0": "61354",
                                    "1": "Barranco",
                                    "2": "0"
                                },
                                {
                                    "0": "61444",
                                    "1": "Vries",
                                    "2": "0"
                                },
                                {
                                    "0": "61783",
                                    "1": "Guyer",
                                    "2": "0"
                                },
                                {
                                    "0": "61854",
                                    "1": "Roytman",
                                    "2": "0"
                                },
                                {
                                    "0": "62124",
                                    "1": "Towsey",
                                    "2": "0"
                                },
                                {
                                    "0": "62429",
                                    "1": "Dietzsch",
                                    "2": "0"
                                },
                                {
                                    "0": "62520",
                                    "1": "Im",
                                    "2": "0"
                                },
                                {
                                    "0": "62728",
                                    "1": "Camme",
                                    "2": "0"
                                },
                                {
                                    "0": "6304",
                                    "1": "Tamura",
                                    "2": "0"
                                },
                                {
                                    "0": "63090",
                                    "1": "Hoov",
                                    "2": "0"
                                },
                                {
                                    "0": "63287",
                                    "1": "Jaekel",
                                    "2": "2"
                                },
                                {
                                    "0": "63310",
                                    "1": "Luan",
                                    "2": "0"
                                },
                                {
                                    "0": "63395",
                                    "1": "McKinnon",
                                    "2": "0"
                                },
                                {
                                    "0": "63582",
                                    "1": "Fischer",
                                    "2": "0"
                                },
                                {
                                    "0": "63860",
                                    "1": "Bayn",
                                    "2": "0"
                                },
                                {
                                    "0": "6400",
                                    "1": "Kelly",
                                    "2": "0"
                                },
                                {
                                    "0": "64013",
                                    "1": "Auriche",
                                    "2": "0"
                                },
                                {
                                    "0": "64039",
                                    "1": "Aarde",
                                    "2": "0"
                                },
                                {
                                    "0": "64121",
                                    "1": "Mansint",
                                    "2": "0"
                                },
                                {
                                    "0": "64140",
                                    "1": "Tiroz",
                                    "2": "0"
                                },
                                {
                                    "0": "64164",
                                    "1": "Zander",
                                    "2": "0"
                                },
                                {
                                    "0": "64249",
                                    "1": "Kalantari",
                                    "2": "0"
                                },
                                {
                                    "0": "64259",
                                    "1": "Busch",
                                    "2": "0"
                                },
                                {
                                    "0": "64871",
                                    "1": "Gutierrez",
                                    "2": "0"
                                },
                                {
                                    "0": "64938",
                                    "1": "Kaep",
                                    "2": "0"
                                },
                                {
                                    "0": "65144",
                                    "1": "Butler",
                                    "2": "0"
                                },
                                {
                                    "0": "65205",
                                    "1": "Sauer",
                                    "2": "0"
                                },
                                {
                                    "0": "65433",
                                    "1": "Stratulat",
                                    "2": "0"
                                },
                                {
                                    "0": "65563",
                                    "1": "Bawa",
                                    "2": "0"
                                },
                                {
                                    "0": "6569",
                                    "1": "Mingoz",
                                    "2": "10"
                                },
                                {
                                    "0": "65901",
                                    "1": "Shishkin",
                                    "2": "0"
                                },
                                {
                                    "0": "65931",
                                    "1": "Pimenta",
                                    "2": "1"
                                },
                                {
                                    "0": "66212",
                                    "1": "Kurt",
                                    "2": "0"
                                },
                                {
                                    "0": "66229",
                                    "1": "Qvi",
                                    "2": "0"
                                },
                                {
                                    "0": "66469",
                                    "1": "Komori",
                                    "2": "0"
                                },
                                {
                                    "0": "67017",
                                    "1": "Westervelt",
                                    "2": "0"
                                },
                                {
                                    "0": "6710",
                                    "1": "Matli",
                                    "2": "0"
                                },
                                {
                                    "0": "67146",
                                    "1": "Scherze",
                                    "2": "0"
                                },
                                {
                                    "0": "67407",
                                    "1": "Yoneda",
                                    "2": "0"
                                },
                                {
                                    "0": "67657",
                                    "1": "Beeu",
                                    "2": "0"
                                },
                                {
                                    "0": "67810",
                                    "1": "Forestiero",
                                    "2": "0"
                                },
                                {
                                    "0": "68242",
                                    "1": "Hugo",
                                    "2": "0"
                                },
                                {
                                    "0": "68280",
                                    "1": "Shuming",
                                    "2": "0"
                                },
                                {
                                    "0": "68395",
                                    "1": "Jessup",
                                    "2": "0"
                                },
                                {
                                    "0": "68453",
                                    "1": "Kjellmer",
                                    "2": "0"
                                },
                                {
                                    "0": "68999",
                                    "1": "Greve",
                                    "2": "0"
                                },
                                {
                                    "0": "69122",
                                    "1": "Epstein",
                                    "2": "0"
                                },
                                {
                                    "0": "69230",
                                    "1": "Masum",
                                    "2": "0"
                                },
                                {
                                    "0": "69521",
                                    "1": "Greenbaum",
                                    "2": "0"
                                },
                                {
                                    "0": "69628",
                                    "1": "Bouamama",
                                    "2": "0"
                                },
                                {
                                    "0": "69783",
                                    "1": "Putru",
                                    "2": "0"
                                },
                                {
                                    "0": "69952",
                                    "1": "Muñoz",
                                    "2": "0"
                                },
                                {
                                    "0": "70235",
                                    "1": "Zle",
                                    "2": "0"
                                },
                                {
                                    "0": "70310",
                                    "1": "Ding",
                                    "2": "0"
                                },
                                {
                                    "0": "70395",
                                    "1": "Ballew",
                                    "2": "0"
                                },
                                {
                                    "0": "71025",
                                    "1": "Cadis",
                                    "2": "0"
                                },
                                {
                                    "0": "7149",
                                    "1": "Xin",
                                    "2": "0"
                                },
                                {
                                    "0": "71630",
                                    "1": "Heath",
                                    "2": "0"
                                },
                                {
                                    "0": "72006",
                                    "1": "Jawad",
                                    "2": "0"
                                },
                                {
                                    "0": "72186",
                                    "1": "Pace",
                                    "2": "0"
                                },
                                {
                                    "0": "72553",
                                    "1": "Yin",
                                    "2": "0"
                                },
                                {
                                    "0": "72657",
                                    "1": "Hird",
                                    "2": "0"
                                },
                                {
                                    "0": "72669",
                                    "1": "Schmitz",
                                    "2": "0"
                                },
                                {
                                    "0": "7287",
                                    "1": "Tadjo",
                                    "2": "0"
                                },
                                {
                                    "0": "72979",
                                    "1": "Guix",
                                    "2": "0"
                                },
                                {
                                    "0": "73602",
                                    "1": "Richardson",
                                    "2": "0"
                                },
                                {
                                    "0": "73623",
                                    "1": "Sullivan",
                                    "2": "1"
                                },
                                {
                                    "0": "74070",
                                    "1": "Sandberg",
                                    "2": "0"
                                },
                                {
                                    "0": "74163",
                                    "1": "Chettao",
                                    "2": "0"
                                },
                                {
                                    "0": "74420",
                                    "1": "Voronina",
                                    "2": "6"
                                },
                                {
                                    "0": "74426",
                                    "1": "Kenje",
                                    "2": "0"
                                },
                                {
                                    "0": "74460",
                                    "1": "McWilliams",
                                    "2": "0"
                                },
                                {
                                    "0": "74530",
                                    "1": "Ranno",
                                    "2": "0"
                                },
                                {
                                    "0": "74796",
                                    "1": "Vulp",
                                    "2": "0"
                                },
                                {
                                    "0": "74840",
                                    "1": "Schill",
                                    "2": "0"
                                },
                                {
                                    "0": "74911",
                                    "1": "Wall",
                                    "2": "0"
                                },
                                {
                                    "0": "75046",
                                    "1": "Hamagi",
                                    "2": "0"
                                },
                                {
                                    "0": "75082",
                                    "1": "Havill",
                                    "2": "0"
                                },
                                {
                                    "0": "75116",
                                    "1": "Samar",
                                    "2": "0"
                                },
                                {
                                    "0": "75231",
                                    "1": "Ravindranath",
                                    "2": "0"
                                },
                                {
                                    "0": "75510",
                                    "1": "Dumont",
                                    "2": "0"
                                },
                                {
                                    "0": "75522",
                                    "1": "Yin",
                                    "2": "0"
                                },
                                {
                                    "0": "75560",
                                    "1": "Tabor",
                                    "2": "0"
                                },
                                {
                                    "0": "76049",
                                    "1": "Tavan",
                                    "2": "0"
                                },
                                {
                                    "0": "76169",
                                    "1": "Williamson",
                                    "2": "0"
                                },
                                {
                                    "0": "76173",
                                    "1": "Jovicic",
                                    "2": "0"
                                },
                                {
                                    "0": "7620",
                                    "1": "Potry",
                                    "2": "0"
                                },
                                {
                                    "0": "76270",
                                    "1": "Qian",
                                    "2": "0"
                                },
                                {
                                    "0": "76672",
                                    "1": "Miliko",
                                    "2": "0"
                                },
                                {
                                    "0": "77000",
                                    "1": "Cherchi",
                                    "2": "0"
                                },
                                {
                                    "0": "77021",
                                    "1": "Bollen",
                                    "2": "0"
                                },
                                {
                                    "0": "77346",
                                    "1": "Mahmoud",
                                    "2": "6"
                                },
                                {
                                    "0": "77415",
                                    "1": "Morales",
                                    "2": "0"
                                },
                                {
                                    "0": "77588",
                                    "1": "Aguilar",
                                    "2": "0"
                                },
                                {
                                    "0": "77664",
                                    "1": "Apostolov",
                                    "2": "0"
                                },
                                {
                                    "0": "7854",
                                    "1": "Someren",
                                    "2": "0"
                                },
                                {
                                    "0": "7861",
                                    "1": "Bollen",
                                    "2": "0"
                                },
                                {
                                    "0": "78699",
                                    "1": "Pingr",
                                    "2": "0"
                                },
                                {
                                    "0": "78782",
                                    "1": "Sherman",
                                    "2": "0"
                                },
                                {
                                    "0": "78792",
                                    "1": "Ram",
                                    "2": "0"
                                },
                                {
                                    "0": "79081",
                                    "1": "Ullman ",
                                    "2": "6"
                                },
                                {
                                    "0": "792",
                                    "1": "Hashimoto",
                                    "2": "0"
                                },
                                {
                                    "0": "79205",
                                    "1": "Zander",
                                    "2": "0"
                                },
                                {
                                    "0": "79329",
                                    "1": "Velikovs",
                                    "2": "0"
                                },
                                {
                                    "0": "7956",
                                    "1": "Brandsd",
                                    "2": "0"
                                },
                                {
                                    "0": "79589",
                                    "1": "Schopp",
                                    "2": "0"
                                },
                                {
                                    "0": "79653",
                                    "1": "Levine",
                                    "2": "0"
                                },
                                {
                                    "0": "79763",
                                    "1": "Ikeda",
                                    "2": "0"
                                },
                                {
                                    "0": "79911",
                                    "1": "Corr",
                                    "2": "0"
                                },
                                {
                                    "0": "80057",
                                    "1": "Szczerban",
                                    "2": "0"
                                },
                                {
                                    "0": "80254",
                                    "1": "Mittelm",
                                    "2": "0"
                                },
                                {
                                    "0": "80651",
                                    "1": "Holz",
                                    "2": "0"
                                },
                                {
                                    "0": "80759",
                                    "1": "Queiroz",
                                    "2": "1"
                                },
                                {
                                    "0": "80799",
                                    "1": "Almeida",
                                    "2": "0"
                                },
                                {
                                    "0": "80821",
                                    "1": "Morris",
                                    "2": "0"
                                },
                                {
                                    "0": "80990",
                                    "1": "Strzem",
                                    "2": "0"
                                },
                                {
                                    "0": "81028",
                                    "1": "Perna",
                                    "2": "0"
                                },
                                {
                                    "0": "81207",
                                    "1": "Masri",
                                    "2": "0"
                                },
                                {
                                    "0": "81258",
                                    "1": "Nirenbu",
                                    "2": "0"
                                },
                                {
                                    "0": "81294",
                                    "1": "Massey",
                                    "2": "0"
                                },
                                {
                                    "0": "81538",
                                    "1": "Wunderli",
                                    "2": "0"
                                },
                                {
                                    "0": "81785",
                                    "1": "Crues",
                                    "2": "0"
                                },
                                {
                                    "0": "81876",
                                    "1": "Arora",
                                    "2": "0"
                                },
                                {
                                    "0": "81883",
                                    "1": "Perei",
                                    "2": "0"
                                },
                                {
                                    "0": "8192",
                                    "1": "Verma",
                                    "2": "0"
                                },
                                {
                                    "0": "81991",
                                    "1": "Valtchev",
                                    "2": "2"
                                },
                                {
                                    "0": "82126",
                                    "1": "Koizumi",
                                    "2": "0"
                                },
                                {
                                    "0": "82301",
                                    "1": "Conti",
                                    "2": "0"
                                },
                                {
                                    "0": "82580",
                                    "1": "Wyes",
                                    "2": "0"
                                },
                                {
                                    "0": "82868",
                                    "1": "So",
                                    "2": "0"
                                },
                                {
                                    "0": "82974",
                                    "1": "Duncan",
                                    "2": "0"
                                },
                                {
                                    "0": "83039",
                                    "1": "Harmon",
                                    "2": "0"
                                },
                                {
                                    "0": "8343",
                                    "1": "Shoji",
                                    "2": "0"
                                },
                                {
                                    "0": "83444",
                                    "1": "Vieira",
                                    "2": "0"
                                },
                                {
                                    "0": "84189",
                                    "1": "Kuwadak",
                                    "2": "0"
                                },
                                {
                                    "0": "84432",
                                    "1": "Schrefl",
                                    "2": "0"
                                },
                                {
                                    "0": "84515",
                                    "1": "Levie",
                                    "2": "0"
                                },
                                {
                                    "0": "847",
                                    "1": "Yamaguchi",
                                    "2": "0"
                                },
                                {
                                    "0": "84702",
                                    "1": "Lucas",
                                    "2": "0"
                                },
                                {
                                    "0": "84727",
                                    "1": "Hennig",
                                    "2": "0"
                                },
                                {
                                    "0": "84808",
                                    "1": "Randers",
                                    "2": "0"
                                },
                                {
                                    "0": "85211",
                                    "1": "Sumi",
                                    "2": "0"
                                },
                                {
                                    "0": "85366",
                                    "1": "Erol",
                                    "2": "0"
                                },
                                {
                                    "0": "85505",
                                    "1": "Wells",
                                    "2": "0"
                                },
                                {
                                    "0": "85904",
                                    "1": "Harass",
                                    "2": "0"
                                },
                                {
                                    "0": "86075",
                                    "1": "Juchn",
                                    "2": "0"
                                },
                                {
                                    "0": "86375",
                                    "1": "Loher",
                                    "2": "0"
                                },
                                {
                                    "0": "86573",
                                    "1": "Schauser",
                                    "2": "0"
                                },
                                {
                                    "0": "86641",
                                    "1": "Dair",
                                    "2": "0"
                                },
                                {
                                    "0": "86674",
                                    "1": "Peter",
                                    "2": "0"
                                },
                                {
                                    "0": "86806",
                                    "1": "Unger",
                                    "2": "0"
                                },
                                {
                                    "0": "86969",
                                    "1": "Wicki",
                                    "2": "0"
                                },
                                {
                                    "0": "87222",
                                    "1": "Allard",
                                    "2": "0"
                                },
                                {
                                    "0": "87785",
                                    "1": "Liepelt",
                                    "2": "0"
                                },
                                {
                                    "0": "87831",
                                    "1": "Turunen",
                                    "2": "0"
                                },
                                {
                                    "0": "88045",
                                    "1": "Jackson",
                                    "2": "0"
                                },
                                {
                                    "0": "88140",
                                    "1": "Stanko",
                                    "2": "0"
                                },
                                {
                                    "0": "88169",
                                    "1": "Schroeder",
                                    "2": "0"
                                },
                                {
                                    "0": "88418",
                                    "1": "Slaw",
                                    "2": "0"
                                },
                                {
                                    "0": "88801",
                                    "1": "Fonseca",
                                    "2": "0"
                                },
                                {
                                    "0": "88887",
                                    "1": "Wodn",
                                    "2": "0"
                                },
                                {
                                    "0": "89132",
                                    "1": "Janssen",
                                    "2": "0"
                                },
                                {
                                    "0": "89312",
                                    "1": "Marques",
                                    "2": "0"
                                },
                                {
                                    "0": "89551",
                                    "1": "Shapiro",
                                    "2": "0"
                                },
                                {
                                    "0": "8986",
                                    "1": "Maesf",
                                    "2": "0"
                                },
                                {
                                    "0": "90041",
                                    "1": "Barberis",
                                    "2": "0"
                                },
                                {
                                    "0": "90124",
                                    "1": "Koppit",
                                    "2": "0"
                                },
                                {
                                    "0": "90220",
                                    "1": "Iacovoni",
                                    "2": "0"
                                },
                                {
                                    "0": "90372",
                                    "1": "Rho",
                                    "2": "0"
                                },
                                {
                                    "0": "90376",
                                    "1": "Bietzk",
                                    "2": "1"
                                },
                                {
                                    "0": "90381",
                                    "1": "Chaudhuri",
                                    "2": "0"
                                },
                                {
                                    "0": "90448",
                                    "1": "Godfrey",
                                    "2": "0"
                                },
                                {
                                    "0": "90567",
                                    "1": "Tomason",
                                    "2": "0"
                                },
                                {
                                    "0": "90643",
                                    "1": "Choll",
                                    "2": "1"
                                },
                                {
                                    "0": "90663",
                                    "1": "Sram",
                                    "2": "0"
                                },
                                {
                                    "0": "90814",
                                    "1": "Finance",
                                    "2": "0"
                                },
                                {
                                    "0": "91063",
                                    "1": "Dair",
                                    "2": "0"
                                },
                                {
                                    "0": "91091",
                                    "1": "Ockerb",
                                    "2": "0"
                                },
                                {
                                    "0": "9114",
                                    "1": "Swien",
                                    "2": "0"
                                },
                                {
                                    "0": "91197",
                                    "1": "Manzoor",
                                    "2": "0"
                                },
                                {
                                    "0": "91851",
                                    "1": "Tchuri",
                                    "2": "0"
                                },
                                {
                                    "0": "91915",
                                    "1": "Cacciari",
                                    "2": "0"
                                },
                                {
                                    "0": "91978",
                                    "1": "Pourkas",
                                    "2": "0"
                                },
                                {
                                    "0": "9256",
                                    "1": "Tran-",
                                    "2": "0"
                                },
                                {
                                    "0": "92839",
                                    "1": "Cirsto",
                                    "2": "0"
                                },
                                {
                                    "0": "92949",
                                    "1": "Retzel",
                                    "2": "0"
                                },
                                {
                                    "0": "93004",
                                    "1": "Gibbs",
                                    "2": "0"
                                },
                                {
                                    "0": "931",
                                    "1": "Tsalidi",
                                    "2": "0"
                                },
                                {
                                    "0": "93653",
                                    "1": "Mellor",
                                    "2": "0"
                                },
                                {
                                    "0": "94324",
                                    "1": "Willson",
                                    "2": "0"
                                },
                                {
                                    "0": "94371",
                                    "1": "Milner",
                                    "2": "0"
                                },
                                {
                                    "0": "94535",
                                    "1": "Nishida",
                                    "2": "0"
                                },
                                {
                                    "0": "94569",
                                    "1": "Yip",
                                    "2": "0"
                                },
                                {
                                    "0": "94697",
                                    "1": "Pettersen",
                                    "2": "0"
                                },
                                {
                                    "0": "94730",
                                    "1": "Neff",
                                    "2": "0"
                                },
                                {
                                    "0": "94846",
                                    "1": "Hossain",
                                    "2": "0"
                                },
                                {
                                    "0": "94990",
                                    "1": "Lykin",
                                    "2": "0"
                                },
                                {
                                    "0": "95030",
                                    "1": "Arinb",
                                    "2": "0"
                                },
                                {
                                    "0": "95089",
                                    "1": "Zarpell",
                                    "2": "0"
                                },
                                {
                                    "0": "9514",
                                    "1": "Dickson",
                                    "2": "0"
                                },
                                {
                                    "0": "95205",
                                    "1": "Hammond",
                                    "2": "0"
                                },
                                {
                                    "0": "95260",
                                    "1": "Yannakakis",
                                    "2": "0"
                                },
                                {
                                    "0": "95320",
                                    "1": "Morgan",
                                    "2": "0"
                                },
                                {
                                    "0": "95574",
                                    "1": "Pampal",
                                    "2": "0"
                                },
                                {
                                    "0": "95709",
                                    "1": "Sakurai",
                                    "2": "4"
                                },
                                {
                                    "0": "95840",
                                    "1": "Jakobsen",
                                    "2": "0"
                                },
                                {
                                    "0": "96067",
                                    "1": "Sugavanam",
                                    "2": "0"
                                },
                                {
                                    "0": "96117",
                                    "1": "Nisso",
                                    "2": "0"
                                },
                                {
                                    "0": "96134",
                                    "1": "Prince",
                                    "2": "0"
                                },
                                {
                                    "0": "96772",
                                    "1": "Rieger",
                                    "2": "0"
                                },
                                {
                                    "0": "96895",
                                    "1": "Mird",
                                    "2": "0"
                                },
                                {
                                    "0": "96968",
                                    "1": "Mohamed",
                                    "2": "0"
                                },
                                {
                                    "0": "96988",
                                    "1": "Bussel",
                                    "2": "0"
                                },
                                {
                                    "0": "97302",
                                    "1": "Bertolino",
                                    "2": "0"
                                },
                                {
                                    "0": "97551",
                                    "1": "Labaye",
                                    "2": "0"
                                },
                                {
                                    "0": "97629",
                                    "1": "Awano",
                                    "2": "0"
                                },
                                {
                                    "0": "97679",
                                    "1": "Sacchi",
                                    "2": "0"
                                },
                                {
                                    "0": "978",
                                    "1": "Salzman",
                                    "2": "0"
                                },
                                {
                                    "0": "97868",
                                    "1": "Schinag",
                                    "2": "0"
                                },
                                {
                                    "0": "97953",
                                    "1": "Kaneko",
                                    "2": "0"
                                },
                                {
                                    "0": "98359",
                                    "1": "Patne",
                                    "2": "0"
                                },
                                {
                                    "0": "98423",
                                    "1": "Alfaro",
                                    "2": "0"
                                },
                                {
                                    "0": "99052",
                                    "1": "Dale",
                                    "2": "9"
                                },
                                {
                                    "0": "99268",
                                    "1": "Makarychev",
                                    "2": "0"
                                },
                                {
                                    "0": "99647",
                                    "1": "Bellman",
                                    "2": "0"
                                },
                                {
                                    "0": "99660",
                                    "1": "OMalley",
                                    "2": "0"
                                },
                                {
                                    "0": "99694",
                                    "1": "Beckert",
                                    "2": "0"
                                },
                                {
                                    "0": "99710",
                                    "1": "Savolainen",
                                    "2": "0"
                                },
                                {
                                    "0": "99764",
                                    "1": "Lv",
                                    "2": "0"
                                },
                                {
                                    "0": "99775",
                                    "1": "Epley",
                                    "2": "0"
                                },
                                {
                                    "0": "99949",
                                    "1": "Samo",
                                    "2": "0"
                                }
                            ]
                        },
                        "text/html": "<table><tr><th>ID</th><th>name</th><th>section_n</th></tr><tr><td>10076</td><td>Duan</td><td>0</td></tr><tr><td>10204</td><td>Mediratta</td><td>0</td></tr><tr><td>10454</td><td>Ugarte</td><td>0</td></tr><tr><td>10527</td><td>Kieras</td><td>0</td></tr><tr><td>10693</td><td>Zabary</td><td>0</td></tr><tr><td>10834</td><td>More</td><td>0</td></tr><tr><td>11055</td><td>Arnoux</td><td>0</td></tr><tr><td>11057</td><td>Robinson</td><td>0</td></tr><tr><td>11076</td><td>Prasad</td><td>0</td></tr><tr><td>11083</td><td>Kerridge</td><td>0</td></tr><tr><td>11101</td><td>Glaho</td><td>0</td></tr><tr><td>11202</td><td>Heckman</td><td>0</td></tr><tr><td>11262</td><td>Foels</td><td>0</td></tr><tr><td>11453</td><td>Yamashita</td><td>0</td></tr><tr><td>11682</td><td>Juol</td><td>0</td></tr><tr><td>11855</td><td>Mendelzon</td><td>0</td></tr><tr><td>12236</td><td>Bricker</td><td>0</td></tr><tr><td>1232</td><td>Marcus</td><td>0</td></tr><tr><td>12362</td><td>Zhanr</td><td>0</td></tr><tr><td>12666</td><td>Power</td><td>0</td></tr><tr><td>12683</td><td>Sin</td><td>0</td></tr><tr><td>13023</td><td>Serrano</td><td>0</td></tr><tr><td>13081</td><td>Alqui</td><td>0</td></tr><tr><td>13741</td><td>Grieng</td><td>0</td></tr><tr><td>13921</td><td>Berger</td><td>0</td></tr><tr><td>14214</td><td>Yoneda</td><td>0</td></tr><tr><td>14365</td><td>Lembr</td><td>2</td></tr><tr><td>14499</td><td>Axte</td><td>0</td></tr><tr><td>14581</td><td>Vagn</td><td>0</td></tr><tr><td>14596</td><td>Vekk</td><td>0</td></tr><tr><td>14829</td><td>Philippe</td><td>0</td></tr><tr><td>14869</td><td>Palmer</td><td>0</td></tr><tr><td>15144</td><td>Lapio</td><td>0</td></tr><tr><td>15328</td><td>Chien</td><td>0</td></tr><tr><td>15347</td><td>Bawa</td><td>1</td></tr><tr><td>15457</td><td>Arinb</td><td>0</td></tr><tr><td>15538</td><td>Yeung</td><td>0</td></tr><tr><td>16057</td><td>Wicki</td><td>0</td></tr><tr><td>16523</td><td>Redw</td><td>0</td></tr><tr><td>16807</td><td>Yazdi</td><td>0</td></tr><tr><td>16849</td><td>Kantors</td><td>0</td></tr><tr><td>17133</td><td>Kang</td><td>0</td></tr><tr><td>1737</td><td>Shinagawa</td><td>0</td></tr><tr><td>17607</td><td>Ould</td><td>0</td></tr><tr><td>17996</td><td>Karpist</td><td>0</td></tr><tr><td>17997</td><td>Ishikawa</td><td>0</td></tr><tr><td>18108</td><td>Brailsford</td><td>0</td></tr><tr><td>18286</td><td>Pang</td><td>0</td></tr><tr><td>18752</td><td>Schulman</td><td>0</td></tr><tr><td>18808</td><td>Snif</td><td>0</td></tr><tr><td>19048</td><td>Leuen</td><td>0</td></tr><tr><td>19293</td><td>Singhal</td><td>0</td></tr><tr><td>19321</td><td>Chang</td><td>0</td></tr><tr><td>19362</td><td>Linden</td><td>0</td></tr><tr><td>19368</td><td>Wieland</td><td>3</td></tr><tr><td>19603</td><td>Colu</td><td>0</td></tr><tr><td>19638</td><td>Dawson</td><td>0</td></tr><tr><td>19917</td><td>Hayrapetyan</td><td>0</td></tr><tr><td>20244</td><td>Abu-B</td><td>0</td></tr><tr><td>20803</td><td>Mercurio</td><td>0</td></tr><tr><td>20974</td><td>Hawkins</td><td>0</td></tr><tr><td>21009</td><td>Geon</td><td>0</td></tr><tr><td>21101</td><td>Gotchev</td><td>0</td></tr><tr><td>21102</td><td>He</td><td>0</td></tr><tr><td>21225</td><td>Choll</td><td>0</td></tr><tr><td>21394</td><td>Patel</td><td>0</td></tr><tr><td>21789</td><td>Bates</td><td>0</td></tr><tr><td>22004</td><td>OBrien</td><td>0</td></tr><tr><td>22050</td><td>Alioto</td><td>0</td></tr><tr><td>22198</td><td>Read</td><td>0</td></tr><tr><td>22226</td><td>Kinney</td><td>0</td></tr><tr><td>22532</td><td>Silverman</td><td>0</td></tr><tr><td>22591</td><td>DAgostino</td><td>13</td></tr><tr><td>22618</td><td>Voss</td><td>0</td></tr><tr><td>23270</td><td>Bouras</td><td>0</td></tr><tr><td>23439</td><td>Cai</td><td>0</td></tr><tr><td>23506</td><td>Åström</td><td>0</td></tr><tr><td>23525</td><td>DAgostino</td><td>0</td></tr><tr><td>2423</td><td>Giralt</td><td>0</td></tr><tr><td>24374</td><td>Jo</td><td>0</td></tr><tr><td>24784</td><td>Jessup</td><td>0</td></tr><tr><td>24865</td><td>Tran-</td><td>0</td></tr><tr><td>25187</td><td>Fenwick</td><td>0</td></tr><tr><td>25362</td><td>Simmel</td><td>0</td></tr><tr><td>25525</td><td>Moreira</td><td>0</td></tr><tr><td>25552</td><td>Calles</td><td>0</td></tr><tr><td>25611</td><td>Sve</td><td>0</td></tr><tr><td>25725</td><td>Steeh</td><td>0</td></tr><tr><td>259</td><td>Bertranp</td><td>0</td></tr><tr><td>25940</td><td>Rosenkrantz</td><td>0</td></tr><tr><td>25946</td><td>Liley</td><td>1</td></tr><tr><td>26102</td><td>Tanaka</td><td>0</td></tr><tr><td>26147</td><td>Richter</td><td>0</td></tr><tr><td>26427</td><td>Ende</td><td>0</td></tr><tr><td>26695</td><td>Hac</td><td>0</td></tr><tr><td>26881</td><td>Markin</td><td>0</td></tr><tr><td>27043</td><td>Garze</td><td>0</td></tr><tr><td>27094</td><td>Gur</td><td>0</td></tr><tr><td>27236</td><td>Date</td><td>0</td></tr><tr><td>27727</td><td>Duong</td><td>0</td></tr><tr><td>27919</td><td>Hubr</td><td>0</td></tr><tr><td>28097</td><td>Kean</td><td>2</td></tr><tr><td>28128</td><td>Crick</td><td>0</td></tr><tr><td>28299</td><td>Grange</td><td>0</td></tr><tr><td>28361</td><td>Sorensen</td><td>0</td></tr><tr><td>28400</td><td>Atanassov</td><td>2</td></tr><tr><td>2848</td><td>Carr</td><td>0</td></tr><tr><td>28829</td><td>Reiss</td><td>0</td></tr><tr><td>28989</td><td>Albinal</td><td>0</td></tr><tr><td>28994</td><td>Williamson</td><td>0</td></tr><tr><td>29140</td><td>Reuver</td><td>0</td></tr><tr><td>29239</td><td>Simmel</td><td>0</td></tr><tr><td>29514</td><td>Michael</td><td>0</td></tr><tr><td>29645</td><td>Oller</td><td>0</td></tr><tr><td>29863</td><td>Harmon</td><td>0</td></tr><tr><td>30124</td><td>Alfaro</td><td>0</td></tr><tr><td>30164</td><td>Ende</td><td>0</td></tr><tr><td>30188</td><td>Ahmad</td><td>0</td></tr><tr><td>30222</td><td>Lepp</td><td>0</td></tr><tr><td>30397</td><td>Dism</td><td>0</td></tr><tr><td>30650</td><td>Chaudhuri</td><td>0</td></tr><tr><td>30723</td><td>Mali</td><td>0</td></tr><tr><td>31086</td><td>Zulueta</td><td>0</td></tr><tr><td>31101</td><td>Lhomme</td><td>0</td></tr><tr><td>31302</td><td>Qian</td><td>0</td></tr><tr><td>31554</td><td>Fuller</td><td>0</td></tr><tr><td>31624</td><td>Keuk</td><td>0</td></tr><tr><td>31690</td><td>Bondi</td><td>0</td></tr><tr><td>31955</td><td>Moreira</td><td>0</td></tr><tr><td>3199</td><td>Gustafsson</td><td>4</td></tr><tr><td>32385</td><td>Park</td><td>0</td></tr><tr><td>32483</td><td>Atre</td><td>0</td></tr><tr><td>32490</td><td>McCracken</td><td>0</td></tr><tr><td>32954</td><td>Curutchet</td><td>0</td></tr><tr><td>33206</td><td>McCormack</td><td>0</td></tr><tr><td>33349</td><td>Peck</td><td>0</td></tr><tr><td>3335</td><td>Bourrier</td><td>2</td></tr><tr><td>33645</td><td>Kawakami</td><td>0</td></tr><tr><td>34018</td><td>Asahara</td><td>0</td></tr><tr><td>34055</td><td>Orono</td><td>0</td></tr><tr><td>34158</td><td>Mantzo</td><td>0</td></tr><tr><td>34175</td><td>Bondi</td><td>3</td></tr><tr><td>34195</td><td>Bosnjak</td><td>0</td></tr><tr><td>34197</td><td>Nestor</td><td>0</td></tr><tr><td>34770</td><td>Porter</td><td>0</td></tr><tr><td>35</td><td>Glaho</td><td>0</td></tr><tr><td>3545</td><td>Peskin</td><td>0</td></tr><tr><td>35579</td><td>Soisalon-Soininen</td><td>0</td></tr><tr><td>36019</td><td>Quaranta</td><td>0</td></tr><tr><td>36102</td><td>Szendrei</td><td>0</td></tr><tr><td>36379</td><td>Triebel</td><td>0</td></tr><tr><td>36402</td><td>Hippu</td><td>0</td></tr><tr><td>36897</td><td>Morris</td><td>5</td></tr><tr><td>37038</td><td>Grieng</td><td>0</td></tr><tr><td>37454</td><td>Frasinc</td><td>0</td></tr><tr><td>37687</td><td>Arias</td><td>0</td></tr><tr><td>37869</td><td>Beeu</td><td>0</td></tr><tr><td>37946</td><td>Vrato</td><td>0</td></tr><tr><td>38288</td><td>Matsuda</td><td>0</td></tr><tr><td>38476</td><td>Rzecz</td><td>0</td></tr><tr><td>38545</td><td>Fok</td><td>0</td></tr><tr><td>38602</td><td>Torres</td><td>0</td></tr><tr><td>38696</td><td>Spadon</td><td>0</td></tr><tr><td>39046</td><td>Narasimhamu</td><td>0</td></tr><tr><td>39254</td><td>Elme</td><td>0</td></tr><tr><td>39521</td><td>Holloway</td><td>0</td></tr><tr><td>39580</td><td>Macias</td><td>0</td></tr><tr><td>39612</td><td>Androutsopoulos</td><td>0</td></tr><tr><td>40044</td><td>Jode</td><td>0</td></tr><tr><td>40189</td><td>Holt</td><td>0</td></tr><tr><td>4034</td><td>Murata</td><td>0</td></tr><tr><td>40371</td><td>Trimble</td><td>0</td></tr><tr><td>40457</td><td>Bouras</td><td>0</td></tr><tr><td>40558</td><td>Pacie</td><td>0</td></tr><tr><td>40677</td><td>Ponnambalam</td><td>0</td></tr><tr><td>40682</td><td>Rowe</td><td>0</td></tr><tr><td>40937</td><td>Petzo</td><td>0</td></tr><tr><td>41211</td><td>Fok</td><td>0</td></tr><tr><td>4182</td><td>Powals</td><td>0</td></tr><tr><td>41930</td><td>Tung</td><td>3</td></tr><tr><td>41973</td><td>Werf</td><td>0</td></tr><tr><td>4233</td><td>Luo</td><td>1</td></tr><tr><td>42782</td><td>Vicentino</td><td>1</td></tr><tr><td>42991</td><td>Kaiser</td><td>0</td></tr><tr><td>43130</td><td>Yong</td><td>0</td></tr><tr><td>4345</td><td>Resa</td><td>0</td></tr><tr><td>43495</td><td>Scher</td><td>0</td></tr><tr><td>43505</td><td>Yoon</td><td>0</td></tr><tr><td>4355</td><td>Cui</td><td>0</td></tr><tr><td>43779</td><td>Romero</td><td>4</td></tr><tr><td>4383</td><td>Tallis</td><td>0</td></tr><tr><td>43993</td><td>Halbert</td><td>0</td></tr><tr><td>44271</td><td>Sowerby</td><td>0</td></tr><tr><td>44352</td><td>Itoh</td><td>0</td></tr><tr><td>4438</td><td>Yoshioka</td><td>0</td></tr><tr><td>44551</td><td>Nguyen</td><td>0</td></tr><tr><td>44706</td><td>Bland</td><td>0</td></tr><tr><td>45002</td><td>Abraham</td><td>0</td></tr><tr><td>4508</td><td>Cochran</td><td>0</td></tr><tr><td>45200</td><td>Kitagawa</td><td>0</td></tr><tr><td>45436</td><td>Ahmadian</td><td>0</td></tr><tr><td>45494</td><td>Matsush</td><td>0</td></tr><tr><td>45720</td><td>Yeoh</td><td>0</td></tr><tr><td>46451</td><td>Chilu</td><td>0</td></tr><tr><td>46655</td><td>Advani</td><td>0</td></tr><tr><td>46694</td><td>Masamura</td><td>0</td></tr><tr><td>46928</td><td>Barry</td><td>0</td></tr><tr><td>46981</td><td>Yalk</td><td>0</td></tr><tr><td>47265</td><td>Albinal</td><td>0</td></tr><tr><td>47379</td><td>Wakamiya</td><td>0</td></tr><tr><td>47677</td><td>Tso</td><td>0</td></tr><tr><td>48469</td><td>Kolodko</td><td>0</td></tr><tr><td>48507</td><td>Lent</td><td>1</td></tr><tr><td>48570</td><td>Sarkar</td><td>1</td></tr><tr><td>48611</td><td>Suppan</td><td>0</td></tr><tr><td>48678</td><td>Tuomisto</td><td>0</td></tr><tr><td>48778</td><td>Pup</td><td>0</td></tr><tr><td>49339</td><td>Snif</td><td>0</td></tr><tr><td>4940</td><td>Rhyne</td><td>0</td></tr><tr><td>49503</td><td>Seaz</td><td>0</td></tr><tr><td>49759</td><td>Androutsopoulos</td><td>0</td></tr><tr><td>50039</td><td>Kurt</td><td>0</td></tr><tr><td>50206</td><td>Cesaret</td><td>0</td></tr><tr><td>50330</td><td>Shuming</td><td>1</td></tr><tr><td>50365</td><td>Held</td><td>0</td></tr><tr><td>50386</td><td>Bersk</td><td>0</td></tr><tr><td>50583</td><td>Ng</td><td>0</td></tr><tr><td>50664</td><td>Rajnov</td><td>0</td></tr><tr><td>507</td><td>Recc</td><td>0</td></tr><tr><td>50885</td><td>Konstantinides</td><td>0</td></tr><tr><td>50969</td><td>Terauchi</td><td>0</td></tr><tr><td>51008</td><td>Kandadai</td><td>0</td></tr><tr><td>51553</td><td>Willis</td><td>0</td></tr><tr><td>51862</td><td>Carrillo</td><td>0</td></tr><tr><td>51868</td><td>Guthk</td><td>0</td></tr><tr><td>51923</td><td>Peterson</td><td>0</td></tr><tr><td>51955</td><td>Tompa</td><td>0</td></tr><tr><td>51975</td><td>Nicol</td><td>0</td></tr><tr><td>52019</td><td>Engen</td><td>0</td></tr><tr><td>52057</td><td>Garg</td><td>0</td></tr><tr><td>52371</td><td>Boons</td><td>0</td></tr><tr><td>52471</td><td>Recc</td><td>0</td></tr><tr><td>52647</td><td>Bancilhon</td><td>0</td></tr><tr><td>52669</td><td>Rayad</td><td>0</td></tr><tr><td>52856</td><td>Grange</td><td>0</td></tr><tr><td>52929</td><td>Hashim</td><td>0</td></tr><tr><td>53048</td><td>Keps</td><td>0</td></tr><tr><td>53118</td><td>Carvey</td><td>0</td></tr><tr><td>53788</td><td>Byun</td><td>0</td></tr><tr><td>5414</td><td>Aiken</td><td>0</td></tr><tr><td>54612</td><td>Zaraté</td><td>0</td></tr><tr><td>54622</td><td>Yu</td><td>0</td></tr><tr><td>55000</td><td>Levitan</td><td>0</td></tr><tr><td>55354</td><td>Yang</td><td>0</td></tr><tr><td>56057</td><td>Hull</td><td>0</td></tr><tr><td>56058</td><td>Fettes</td><td>0</td></tr><tr><td>56080</td><td>Zamani</td><td>0</td></tr><tr><td>56089</td><td>Mezzar</td><td>0</td></tr><tr><td>56276</td><td>Lansi</td><td>0</td></tr><tr><td>56486</td><td>DeMil</td><td>0</td></tr><tr><td>57083</td><td>Gray</td><td>0</td></tr><tr><td>57156</td><td>Haigh</td><td>0</td></tr><tr><td>57180</td><td>Hau</td><td>0</td></tr><tr><td>57242</td><td>Chatfield</td><td>0</td></tr><tr><td>57474</td><td>Coddington</td><td>0</td></tr><tr><td>58170</td><td>Lao</td><td>0</td></tr><tr><td>58172</td><td>Geißl</td><td>0</td></tr><tr><td>5824</td><td>Ocel</td><td>0</td></tr><tr><td>58558</td><td>Dusserre</td><td>0</td></tr><tr><td>58634</td><td>Choung</td><td>0</td></tr><tr><td>58874</td><td>Ray</td><td>0</td></tr><tr><td>59117</td><td>Belmes</td><td>0</td></tr><tr><td>5920</td><td>Godfrey</td><td>0</td></tr><tr><td>59290</td><td>Morris</td><td>0</td></tr><tr><td>59397</td><td>Williams</td><td>0</td></tr><tr><td>59455</td><td>Lowenstein</td><td>0</td></tr><tr><td>59538</td><td>Kothari</td><td>0</td></tr><tr><td>59553</td><td>Schoenfl</td><td>0</td></tr><tr><td>59795</td><td>Desyl</td><td>0</td></tr><tr><td>60366</td><td>Kostie</td><td>0</td></tr><tr><td>60406</td><td>Sofer</td><td>0</td></tr><tr><td>60762</td><td>Bernstein</td><td>0</td></tr><tr><td>61354</td><td>Barranco</td><td>0</td></tr><tr><td>61444</td><td>Vries</td><td>0</td></tr><tr><td>61783</td><td>Guyer</td><td>0</td></tr><tr><td>61854</td><td>Roytman</td><td>0</td></tr><tr><td>62124</td><td>Towsey</td><td>0</td></tr><tr><td>62429</td><td>Dietzsch</td><td>0</td></tr><tr><td>62520</td><td>Im</td><td>0</td></tr><tr><td>62728</td><td>Camme</td><td>0</td></tr><tr><td>6304</td><td>Tamura</td><td>0</td></tr><tr><td>63090</td><td>Hoov</td><td>0</td></tr><tr><td>63287</td><td>Jaekel</td><td>2</td></tr><tr><td>63310</td><td>Luan</td><td>0</td></tr><tr><td>63395</td><td>McKinnon</td><td>0</td></tr><tr><td>63582</td><td>Fischer</td><td>0</td></tr><tr><td>63860</td><td>Bayn</td><td>0</td></tr><tr><td>6400</td><td>Kelly</td><td>0</td></tr><tr><td>64013</td><td>Auriche</td><td>0</td></tr><tr><td>64039</td><td>Aarde</td><td>0</td></tr><tr><td>64121</td><td>Mansint</td><td>0</td></tr><tr><td>64140</td><td>Tiroz</td><td>0</td></tr><tr><td>64164</td><td>Zander</td><td>0</td></tr><tr><td>64249</td><td>Kalantari</td><td>0</td></tr><tr><td>64259</td><td>Busch</td><td>0</td></tr><tr><td>64871</td><td>Gutierrez</td><td>0</td></tr><tr><td>64938</td><td>Kaep</td><td>0</td></tr><tr><td>65144</td><td>Butler</td><td>0</td></tr><tr><td>65205</td><td>Sauer</td><td>0</td></tr><tr><td>65433</td><td>Stratulat</td><td>0</td></tr><tr><td>65563</td><td>Bawa</td><td>0</td></tr><tr><td>6569</td><td>Mingoz</td><td>10</td></tr><tr><td>65901</td><td>Shishkin</td><td>0</td></tr><tr><td>65931</td><td>Pimenta</td><td>1</td></tr><tr><td>66212</td><td>Kurt</td><td>0</td></tr><tr><td>66229</td><td>Qvi</td><td>0</td></tr><tr><td>66469</td><td>Komori</td><td>0</td></tr><tr><td>67017</td><td>Westervelt</td><td>0</td></tr><tr><td>6710</td><td>Matli</td><td>0</td></tr><tr><td>67146</td><td>Scherze</td><td>0</td></tr><tr><td>67407</td><td>Yoneda</td><td>0</td></tr><tr><td>67657</td><td>Beeu</td><td>0</td></tr><tr><td>67810</td><td>Forestiero</td><td>0</td></tr><tr><td>68242</td><td>Hugo</td><td>0</td></tr><tr><td>68280</td><td>Shuming</td><td>0</td></tr><tr><td>68395</td><td>Jessup</td><td>0</td></tr><tr><td>68453</td><td>Kjellmer</td><td>0</td></tr><tr><td>68999</td><td>Greve</td><td>0</td></tr><tr><td>69122</td><td>Epstein</td><td>0</td></tr><tr><td>69230</td><td>Masum</td><td>0</td></tr><tr><td>69521</td><td>Greenbaum</td><td>0</td></tr><tr><td>69628</td><td>Bouamama</td><td>0</td></tr><tr><td>69783</td><td>Putru</td><td>0</td></tr><tr><td>69952</td><td>Muñoz</td><td>0</td></tr><tr><td>70235</td><td>Zle</td><td>0</td></tr><tr><td>70310</td><td>Ding</td><td>0</td></tr><tr><td>70395</td><td>Ballew</td><td>0</td></tr><tr><td>71025</td><td>Cadis</td><td>0</td></tr><tr><td>7149</td><td>Xin</td><td>0</td></tr><tr><td>71630</td><td>Heath</td><td>0</td></tr><tr><td>72006</td><td>Jawad</td><td>0</td></tr><tr><td>72186</td><td>Pace</td><td>0</td></tr><tr><td>72553</td><td>Yin</td><td>0</td></tr><tr><td>72657</td><td>Hird</td><td>0</td></tr><tr><td>72669</td><td>Schmitz</td><td>0</td></tr><tr><td>7287</td><td>Tadjo</td><td>0</td></tr><tr><td>72979</td><td>Guix</td><td>0</td></tr><tr><td>73602</td><td>Richardson</td><td>0</td></tr><tr><td>73623</td><td>Sullivan</td><td>1</td></tr><tr><td>74070</td><td>Sandberg</td><td>0</td></tr><tr><td>74163</td><td>Chettao</td><td>0</td></tr><tr><td>74420</td><td>Voronina</td><td>6</td></tr><tr><td>74426</td><td>Kenje</td><td>0</td></tr><tr><td>74460</td><td>McWilliams</td><td>0</td></tr><tr><td>74530</td><td>Ranno</td><td>0</td></tr><tr><td>74796</td><td>Vulp</td><td>0</td></tr><tr><td>74840</td><td>Schill</td><td>0</td></tr><tr><td>74911</td><td>Wall</td><td>0</td></tr><tr><td>75046</td><td>Hamagi</td><td>0</td></tr><tr><td>75082</td><td>Havill</td><td>0</td></tr><tr><td>75116</td><td>Samar</td><td>0</td></tr><tr><td>75231</td><td>Ravindranath</td><td>0</td></tr><tr><td>75510</td><td>Dumont</td><td>0</td></tr><tr><td>75522</td><td>Yin</td><td>0</td></tr><tr><td>75560</td><td>Tabor</td><td>0</td></tr><tr><td>76049</td><td>Tavan</td><td>0</td></tr><tr><td>76169</td><td>Williamson</td><td>0</td></tr><tr><td>76173</td><td>Jovicic</td><td>0</td></tr><tr><td>7620</td><td>Potry</td><td>0</td></tr><tr><td>76270</td><td>Qian</td><td>0</td></tr><tr><td>76672</td><td>Miliko</td><td>0</td></tr><tr><td>77000</td><td>Cherchi</td><td>0</td></tr><tr><td>77021</td><td>Bollen</td><td>0</td></tr><tr><td>77346</td><td>Mahmoud</td><td>6</td></tr><tr><td>77415</td><td>Morales</td><td>0</td></tr><tr><td>77588</td><td>Aguilar</td><td>0</td></tr><tr><td>77664</td><td>Apostolov</td><td>0</td></tr><tr><td>7854</td><td>Someren</td><td>0</td></tr><tr><td>7861</td><td>Bollen</td><td>0</td></tr><tr><td>78699</td><td>Pingr</td><td>0</td></tr><tr><td>78782</td><td>Sherman</td><td>0</td></tr><tr><td>78792</td><td>Ram</td><td>0</td></tr><tr><td>79081</td><td>Ullman </td><td>6</td></tr><tr><td>792</td><td>Hashimoto</td><td>0</td></tr><tr><td>79205</td><td>Zander</td><td>0</td></tr><tr><td>79329</td><td>Velikovs</td><td>0</td></tr><tr><td>7956</td><td>Brandsd</td><td>0</td></tr><tr><td>79589</td><td>Schopp</td><td>0</td></tr><tr><td>79653</td><td>Levine</td><td>0</td></tr><tr><td>79763</td><td>Ikeda</td><td>0</td></tr><tr><td>79911</td><td>Corr</td><td>0</td></tr><tr><td>80057</td><td>Szczerban</td><td>0</td></tr><tr><td>80254</td><td>Mittelm</td><td>0</td></tr><tr><td>80651</td><td>Holz</td><td>0</td></tr><tr><td>80759</td><td>Queiroz</td><td>1</td></tr><tr><td>80799</td><td>Almeida</td><td>0</td></tr><tr><td>80821</td><td>Morris</td><td>0</td></tr><tr><td>80990</td><td>Strzem</td><td>0</td></tr><tr><td>81028</td><td>Perna</td><td>0</td></tr><tr><td>81207</td><td>Masri</td><td>0</td></tr><tr><td>81258</td><td>Nirenbu</td><td>0</td></tr><tr><td>81294</td><td>Massey</td><td>0</td></tr><tr><td>81538</td><td>Wunderli</td><td>0</td></tr><tr><td>81785</td><td>Crues</td><td>0</td></tr><tr><td>81876</td><td>Arora</td><td>0</td></tr><tr><td>81883</td><td>Perei</td><td>0</td></tr><tr><td>8192</td><td>Verma</td><td>0</td></tr><tr><td>81991</td><td>Valtchev</td><td>2</td></tr><tr><td>82126</td><td>Koizumi</td><td>0</td></tr><tr><td>82301</td><td>Conti</td><td>0</td></tr><tr><td>82580</td><td>Wyes</td><td>0</td></tr><tr><td>82868</td><td>So</td><td>0</td></tr><tr><td>82974</td><td>Duncan</td><td>0</td></tr><tr><td>83039</td><td>Harmon</td><td>0</td></tr><tr><td>8343</td><td>Shoji</td><td>0</td></tr><tr><td>83444</td><td>Vieira</td><td>0</td></tr><tr><td>84189</td><td>Kuwadak</td><td>0</td></tr><tr><td>84432</td><td>Schrefl</td><td>0</td></tr><tr><td>84515</td><td>Levie</td><td>0</td></tr><tr><td>847</td><td>Yamaguchi</td><td>0</td></tr><tr><td>84702</td><td>Lucas</td><td>0</td></tr><tr><td>84727</td><td>Hennig</td><td>0</td></tr><tr><td>84808</td><td>Randers</td><td>0</td></tr><tr><td>85211</td><td>Sumi</td><td>0</td></tr><tr><td>85366</td><td>Erol</td><td>0</td></tr><tr><td>85505</td><td>Wells</td><td>0</td></tr><tr><td>85904</td><td>Harass</td><td>0</td></tr><tr><td>86075</td><td>Juchn</td><td>0</td></tr><tr><td>86375</td><td>Loher</td><td>0</td></tr><tr><td>86573</td><td>Schauser</td><td>0</td></tr><tr><td>86641</td><td>Dair</td><td>0</td></tr><tr><td>86674</td><td>Peter</td><td>0</td></tr><tr><td>86806</td><td>Unger</td><td>0</td></tr><tr><td>86969</td><td>Wicki</td><td>0</td></tr><tr><td>87222</td><td>Allard</td><td>0</td></tr><tr><td>87785</td><td>Liepelt</td><td>0</td></tr><tr><td>87831</td><td>Turunen</td><td>0</td></tr><tr><td>88045</td><td>Jackson</td><td>0</td></tr><tr><td>88140</td><td>Stanko</td><td>0</td></tr><tr><td>88169</td><td>Schroeder</td><td>0</td></tr><tr><td>88418</td><td>Slaw</td><td>0</td></tr><tr><td>88801</td><td>Fonseca</td><td>0</td></tr><tr><td>88887</td><td>Wodn</td><td>0</td></tr><tr><td>89132</td><td>Janssen</td><td>0</td></tr><tr><td>89312</td><td>Marques</td><td>0</td></tr><tr><td>89551</td><td>Shapiro</td><td>0</td></tr><tr><td>8986</td><td>Maesf</td><td>0</td></tr><tr><td>90041</td><td>Barberis</td><td>0</td></tr><tr><td>90124</td><td>Koppit</td><td>0</td></tr><tr><td>90220</td><td>Iacovoni</td><td>0</td></tr><tr><td>90372</td><td>Rho</td><td>0</td></tr><tr><td>90376</td><td>Bietzk</td><td>1</td></tr><tr><td>90381</td><td>Chaudhuri</td><td>0</td></tr><tr><td>90448</td><td>Godfrey</td><td>0</td></tr><tr><td>90567</td><td>Tomason</td><td>0</td></tr><tr><td>90643</td><td>Choll</td><td>1</td></tr><tr><td>90663</td><td>Sram</td><td>0</td></tr><tr><td>90814</td><td>Finance</td><td>0</td></tr><tr><td>91063</td><td>Dair</td><td>0</td></tr><tr><td>91091</td><td>Ockerb</td><td>0</td></tr><tr><td>9114</td><td>Swien</td><td>0</td></tr><tr><td>91197</td><td>Manzoor</td><td>0</td></tr><tr><td>91851</td><td>Tchuri</td><td>0</td></tr><tr><td>91915</td><td>Cacciari</td><td>0</td></tr><tr><td>91978</td><td>Pourkas</td><td>0</td></tr><tr><td>9256</td><td>Tran-</td><td>0</td></tr><tr><td>92839</td><td>Cirsto</td><td>0</td></tr><tr><td>92949</td><td>Retzel</td><td>0</td></tr><tr><td>93004</td><td>Gibbs</td><td>0</td></tr><tr><td>931</td><td>Tsalidi</td><td>0</td></tr><tr><td>93653</td><td>Mellor</td><td>0</td></tr><tr><td>94324</td><td>Willson</td><td>0</td></tr><tr><td>94371</td><td>Milner</td><td>0</td></tr><tr><td>94535</td><td>Nishida</td><td>0</td></tr><tr><td>94569</td><td>Yip</td><td>0</td></tr><tr><td>94697</td><td>Pettersen</td><td>0</td></tr><tr><td>94730</td><td>Neff</td><td>0</td></tr><tr><td>94846</td><td>Hossain</td><td>0</td></tr><tr><td>94990</td><td>Lykin</td><td>0</td></tr><tr><td>95030</td><td>Arinb</td><td>0</td></tr><tr><td>95089</td><td>Zarpell</td><td>0</td></tr><tr><td>9514</td><td>Dickson</td><td>0</td></tr><tr><td>95205</td><td>Hammond</td><td>0</td></tr><tr><td>95260</td><td>Yannakakis</td><td>0</td></tr><tr><td>95320</td><td>Morgan</td><td>0</td></tr><tr><td>95574</td><td>Pampal</td><td>0</td></tr><tr><td>95709</td><td>Sakurai</td><td>4</td></tr><tr><td>95840</td><td>Jakobsen</td><td>0</td></tr><tr><td>96067</td><td>Sugavanam</td><td>0</td></tr><tr><td>96117</td><td>Nisso</td><td>0</td></tr><tr><td>96134</td><td>Prince</td><td>0</td></tr><tr><td>96772</td><td>Rieger</td><td>0</td></tr><tr><td>96895</td><td>Mird</td><td>0</td></tr><tr><td>96968</td><td>Mohamed</td><td>0</td></tr><tr><td>96988</td><td>Bussel</td><td>0</td></tr><tr><td>97302</td><td>Bertolino</td><td>0</td></tr><tr><td>97551</td><td>Labaye</td><td>0</td></tr><tr><td>97629</td><td>Awano</td><td>0</td></tr><tr><td>97679</td><td>Sacchi</td><td>0</td></tr><tr><td>978</td><td>Salzman</td><td>0</td></tr><tr><td>97868</td><td>Schinag</td><td>0</td></tr><tr><td>97953</td><td>Kaneko</td><td>0</td></tr><tr><td>98359</td><td>Patne</td><td>0</td></tr><tr><td>98423</td><td>Alfaro</td><td>0</td></tr><tr><td>99052</td><td>Dale</td><td>9</td></tr><tr><td>99268</td><td>Makarychev</td><td>0</td></tr><tr><td>99647</td><td>Bellman</td><td>0</td></tr><tr><td>99660</td><td>OMalley</td><td>0</td></tr><tr><td>99694</td><td>Beckert</td><td>0</td></tr><tr><td>99710</td><td>Savolainen</td><td>0</td></tr><tr><td>99764</td><td>Lv</td><td>0</td></tr><tr><td>99775</td><td>Epley</td><td>0</td></tr><tr><td>99949</td><td>Samo</td><td>0</td></tr></table>"
                    },
                    "metadata": {
                        "resultSet": {
                            "id": 0,
                            "batchId": 0,
                            "rowCount": 513,
                            "complete": true,
                            "columnInfo": [
                                {
                                    "isBytes": false,
                                    "isChars": true,
                                    "isSqlVariant": false,
                                    "isUdt": false,
                                    "isXml": false,
                                    "isJson": false,
                                    "sqlDbType": 22,
                                    "isHierarchyId": false,
                                    "isSqlXmlType": false,
                                    "isUnknownType": false,
                                    "isUpdatable": true,
                                    "allowDBNull": false,
                                    "baseCatalogName": null,
                                    "baseColumnName": null,
                                    "baseSchemaName": null,
                                    "baseServerName": null,
                                    "baseTableName": null,
                                    "columnName": "ID",
                                    "columnOrdinal": 0,
                                    "columnSize": 5,
                                    "isAliased": null,
                                    "isAutoIncrement": false,
                                    "isExpression": null,
                                    "isHidden": null,
                                    "isIdentity": false,
                                    "isKey": null,
                                    "isLong": false,
                                    "isReadOnly": false,
                                    "isUnique": false,
                                    "numericPrecision": 255,
                                    "numericScale": 255,
                                    "udtAssemblyQualifiedName": null,
                                    "dataType": "System.String, System.Private.CoreLib, Version=4.0.0.0, Culture=neutral, PublicKeyToken=7cec85d7bea7798e",
                                    "dataTypeName": "varchar"
                                },
                                {
                                    "isBytes": false,
                                    "isChars": true,
                                    "isSqlVariant": false,
                                    "isUdt": false,
                                    "isXml": false,
                                    "isJson": false,
                                    "sqlDbType": 22,
                                    "isHierarchyId": false,
                                    "isSqlXmlType": false,
                                    "isUnknownType": false,
                                    "isUpdatable": true,
                                    "allowDBNull": false,
                                    "baseCatalogName": null,
                                    "baseColumnName": null,
                                    "baseSchemaName": null,
                                    "baseServerName": null,
                                    "baseTableName": null,
                                    "columnName": "name",
                                    "columnOrdinal": 1,
                                    "columnSize": 20,
                                    "isAliased": null,
                                    "isAutoIncrement": false,
                                    "isExpression": null,
                                    "isHidden": null,
                                    "isIdentity": false,
                                    "isKey": null,
                                    "isLong": false,
                                    "isReadOnly": false,
                                    "isUnique": false,
                                    "numericPrecision": 255,
                                    "numericScale": 255,
                                    "udtAssemblyQualifiedName": null,
                                    "dataType": "System.String, System.Private.CoreLib, Version=4.0.0.0, Culture=neutral, PublicKeyToken=7cec85d7bea7798e",
                                    "dataTypeName": "varchar"
                                },
                                {
                                    "isBytes": false,
                                    "isChars": false,
                                    "isSqlVariant": false,
                                    "isUdt": false,
                                    "isXml": false,
                                    "isJson": false,
                                    "sqlDbType": 8,
                                    "isHierarchyId": false,
                                    "isSqlXmlType": false,
                                    "isUnknownType": false,
                                    "isUpdatable": false,
                                    "allowDBNull": true,
                                    "baseCatalogName": null,
                                    "baseColumnName": null,
                                    "baseSchemaName": null,
                                    "baseServerName": null,
                                    "baseTableName": null,
                                    "columnName": "section_n",
                                    "columnOrdinal": 2,
                                    "columnSize": 4,
                                    "isAliased": null,
                                    "isAutoIncrement": false,
                                    "isExpression": null,
                                    "isHidden": null,
                                    "isIdentity": false,
                                    "isKey": null,
                                    "isLong": false,
                                    "isReadOnly": true,
                                    "isUnique": false,
                                    "numericPrecision": 10,
                                    "numericScale": 255,
                                    "udtAssemblyQualifiedName": null,
                                    "dataType": "System.Int32, System.Private.CoreLib, Version=4.0.0.0, Culture=neutral, PublicKeyToken=7cec85d7bea7798e",
                                    "dataTypeName": "int"
                                }
                            ],
                            "specialAction": {
                                "none": true,
                                "expectYukonXMLShowPlan": false
                            }
                        }
                    }
                }
            ],
            "execution_count": 6
        },
        {
            "cell_type": "markdown",
            "source": [
                "b) Write the same query as above, but using a scalar subquery and not using outerjoin"
            ],
            "metadata": {
                "azdata_cell_guid": "5b4eca83-ff1f-48cd-a039-0e77049b795f"
            }
        },
        {
            "cell_type": "code",
            "source": [
                "SELECT ID, (\n",
                "    SELECT COUNT(*) AS section_n\n",
                "    FROM teaches\n",
                "    WHERE teaches.ID = instructor.ID\n",
                ")\n",
                "FROM instructor;\n",
                "GO"
            ],
            "metadata": {
                "azdata_cell_guid": "6fff380b-ea23-4ae4-a806-013d52755c0d"
            },
            "outputs": [
                {
                    "output_type": "display_data",
                    "data": {
                        "text/html": "(513 rows affected)"
                    },
                    "metadata": {}
                },
                {
                    "output_type": "display_data",
                    "data": {
                        "text/html": "Total execution time: 00:00:00.006"
                    },
                    "metadata": {}
                },
                {
                    "output_type": "execute_result",
                    "execution_count": 7,
                    "data": {
                        "application/vnd.dataresource+json": {
                            "schema": {
                                "fields": [
                                    {
                                        "name": "ID"
                                    },
                                    {
                                        "name": "(No column name)"
                                    }
                                ]
                            },
                            "data": [
                                {
                                    "0": "10076",
                                    "1": "0"
                                },
                                {
                                    "0": "10204",
                                    "1": "0"
                                },
                                {
                                    "0": "10454",
                                    "1": "0"
                                },
                                {
                                    "0": "10527",
                                    "1": "0"
                                },
                                {
                                    "0": "10693",
                                    "1": "0"
                                },
                                {
                                    "0": "10834",
                                    "1": "0"
                                },
                                {
                                    "0": "11055",
                                    "1": "0"
                                },
                                {
                                    "0": "11057",
                                    "1": "0"
                                },
                                {
                                    "0": "11076",
                                    "1": "0"
                                },
                                {
                                    "0": "11083",
                                    "1": "0"
                                },
                                {
                                    "0": "11101",
                                    "1": "0"
                                },
                                {
                                    "0": "11202",
                                    "1": "0"
                                },
                                {
                                    "0": "11262",
                                    "1": "0"
                                },
                                {
                                    "0": "11453",
                                    "1": "0"
                                },
                                {
                                    "0": "11682",
                                    "1": "0"
                                },
                                {
                                    "0": "11855",
                                    "1": "0"
                                },
                                {
                                    "0": "12236",
                                    "1": "0"
                                },
                                {
                                    "0": "1232",
                                    "1": "0"
                                },
                                {
                                    "0": "12362",
                                    "1": "0"
                                },
                                {
                                    "0": "12666",
                                    "1": "0"
                                },
                                {
                                    "0": "12683",
                                    "1": "0"
                                },
                                {
                                    "0": "13023",
                                    "1": "0"
                                },
                                {
                                    "0": "13081",
                                    "1": "0"
                                },
                                {
                                    "0": "13741",
                                    "1": "0"
                                },
                                {
                                    "0": "13921",
                                    "1": "0"
                                },
                                {
                                    "0": "14214",
                                    "1": "0"
                                },
                                {
                                    "0": "14365",
                                    "1": "2"
                                },
                                {
                                    "0": "14499",
                                    "1": "0"
                                },
                                {
                                    "0": "14581",
                                    "1": "0"
                                },
                                {
                                    "0": "14596",
                                    "1": "0"
                                },
                                {
                                    "0": "14829",
                                    "1": "0"
                                },
                                {
                                    "0": "14869",
                                    "1": "0"
                                },
                                {
                                    "0": "15144",
                                    "1": "0"
                                },
                                {
                                    "0": "15328",
                                    "1": "0"
                                },
                                {
                                    "0": "15347",
                                    "1": "1"
                                },
                                {
                                    "0": "15457",
                                    "1": "0"
                                },
                                {
                                    "0": "15538",
                                    "1": "0"
                                },
                                {
                                    "0": "16057",
                                    "1": "0"
                                },
                                {
                                    "0": "16523",
                                    "1": "0"
                                },
                                {
                                    "0": "16807",
                                    "1": "0"
                                },
                                {
                                    "0": "16849",
                                    "1": "0"
                                },
                                {
                                    "0": "17133",
                                    "1": "0"
                                },
                                {
                                    "0": "1737",
                                    "1": "0"
                                },
                                {
                                    "0": "17607",
                                    "1": "0"
                                },
                                {
                                    "0": "17996",
                                    "1": "0"
                                },
                                {
                                    "0": "17997",
                                    "1": "0"
                                },
                                {
                                    "0": "18108",
                                    "1": "0"
                                },
                                {
                                    "0": "18286",
                                    "1": "0"
                                },
                                {
                                    "0": "18752",
                                    "1": "0"
                                },
                                {
                                    "0": "18808",
                                    "1": "0"
                                },
                                {
                                    "0": "19048",
                                    "1": "0"
                                },
                                {
                                    "0": "19293",
                                    "1": "0"
                                },
                                {
                                    "0": "19321",
                                    "1": "0"
                                },
                                {
                                    "0": "19362",
                                    "1": "0"
                                },
                                {
                                    "0": "19368",
                                    "1": "3"
                                },
                                {
                                    "0": "19603",
                                    "1": "0"
                                },
                                {
                                    "0": "19638",
                                    "1": "0"
                                },
                                {
                                    "0": "19917",
                                    "1": "0"
                                },
                                {
                                    "0": "20244",
                                    "1": "0"
                                },
                                {
                                    "0": "20803",
                                    "1": "0"
                                },
                                {
                                    "0": "20974",
                                    "1": "0"
                                },
                                {
                                    "0": "21009",
                                    "1": "0"
                                },
                                {
                                    "0": "21101",
                                    "1": "0"
                                },
                                {
                                    "0": "21102",
                                    "1": "0"
                                },
                                {
                                    "0": "21225",
                                    "1": "0"
                                },
                                {
                                    "0": "21394",
                                    "1": "0"
                                },
                                {
                                    "0": "21789",
                                    "1": "0"
                                },
                                {
                                    "0": "22004",
                                    "1": "0"
                                },
                                {
                                    "0": "22050",
                                    "1": "0"
                                },
                                {
                                    "0": "22198",
                                    "1": "0"
                                },
                                {
                                    "0": "22226",
                                    "1": "0"
                                },
                                {
                                    "0": "22532",
                                    "1": "0"
                                },
                                {
                                    "0": "22591",
                                    "1": "13"
                                },
                                {
                                    "0": "22618",
                                    "1": "0"
                                },
                                {
                                    "0": "23270",
                                    "1": "0"
                                },
                                {
                                    "0": "23439",
                                    "1": "0"
                                },
                                {
                                    "0": "23506",
                                    "1": "0"
                                },
                                {
                                    "0": "23525",
                                    "1": "0"
                                },
                                {
                                    "0": "2423",
                                    "1": "0"
                                },
                                {
                                    "0": "24374",
                                    "1": "0"
                                },
                                {
                                    "0": "24784",
                                    "1": "0"
                                },
                                {
                                    "0": "24865",
                                    "1": "0"
                                },
                                {
                                    "0": "25187",
                                    "1": "0"
                                },
                                {
                                    "0": "25362",
                                    "1": "0"
                                },
                                {
                                    "0": "25525",
                                    "1": "0"
                                },
                                {
                                    "0": "25552",
                                    "1": "0"
                                },
                                {
                                    "0": "25611",
                                    "1": "0"
                                },
                                {
                                    "0": "25725",
                                    "1": "0"
                                },
                                {
                                    "0": "259",
                                    "1": "0"
                                },
                                {
                                    "0": "25940",
                                    "1": "0"
                                },
                                {
                                    "0": "25946",
                                    "1": "1"
                                },
                                {
                                    "0": "26102",
                                    "1": "0"
                                },
                                {
                                    "0": "26147",
                                    "1": "0"
                                },
                                {
                                    "0": "26427",
                                    "1": "0"
                                },
                                {
                                    "0": "26695",
                                    "1": "0"
                                },
                                {
                                    "0": "26881",
                                    "1": "0"
                                },
                                {
                                    "0": "27043",
                                    "1": "0"
                                },
                                {
                                    "0": "27094",
                                    "1": "0"
                                },
                                {
                                    "0": "27236",
                                    "1": "0"
                                },
                                {
                                    "0": "27727",
                                    "1": "0"
                                },
                                {
                                    "0": "27919",
                                    "1": "0"
                                },
                                {
                                    "0": "28097",
                                    "1": "2"
                                },
                                {
                                    "0": "28128",
                                    "1": "0"
                                },
                                {
                                    "0": "28299",
                                    "1": "0"
                                },
                                {
                                    "0": "28361",
                                    "1": "0"
                                },
                                {
                                    "0": "28400",
                                    "1": "2"
                                },
                                {
                                    "0": "2848",
                                    "1": "0"
                                },
                                {
                                    "0": "28829",
                                    "1": "0"
                                },
                                {
                                    "0": "28989",
                                    "1": "0"
                                },
                                {
                                    "0": "28994",
                                    "1": "0"
                                },
                                {
                                    "0": "29140",
                                    "1": "0"
                                },
                                {
                                    "0": "29239",
                                    "1": "0"
                                },
                                {
                                    "0": "29514",
                                    "1": "0"
                                },
                                {
                                    "0": "29645",
                                    "1": "0"
                                },
                                {
                                    "0": "29863",
                                    "1": "0"
                                },
                                {
                                    "0": "30124",
                                    "1": "0"
                                },
                                {
                                    "0": "30164",
                                    "1": "0"
                                },
                                {
                                    "0": "30188",
                                    "1": "0"
                                },
                                {
                                    "0": "30222",
                                    "1": "0"
                                },
                                {
                                    "0": "30397",
                                    "1": "0"
                                },
                                {
                                    "0": "30650",
                                    "1": "0"
                                },
                                {
                                    "0": "30723",
                                    "1": "0"
                                },
                                {
                                    "0": "31086",
                                    "1": "0"
                                },
                                {
                                    "0": "31101",
                                    "1": "0"
                                },
                                {
                                    "0": "31302",
                                    "1": "0"
                                },
                                {
                                    "0": "31554",
                                    "1": "0"
                                },
                                {
                                    "0": "31624",
                                    "1": "0"
                                },
                                {
                                    "0": "31690",
                                    "1": "0"
                                },
                                {
                                    "0": "31955",
                                    "1": "0"
                                },
                                {
                                    "0": "3199",
                                    "1": "4"
                                },
                                {
                                    "0": "32385",
                                    "1": "0"
                                },
                                {
                                    "0": "32483",
                                    "1": "0"
                                },
                                {
                                    "0": "32490",
                                    "1": "0"
                                },
                                {
                                    "0": "32954",
                                    "1": "0"
                                },
                                {
                                    "0": "33206",
                                    "1": "0"
                                },
                                {
                                    "0": "33349",
                                    "1": "0"
                                },
                                {
                                    "0": "3335",
                                    "1": "2"
                                },
                                {
                                    "0": "33645",
                                    "1": "0"
                                },
                                {
                                    "0": "34018",
                                    "1": "0"
                                },
                                {
                                    "0": "34055",
                                    "1": "0"
                                },
                                {
                                    "0": "34158",
                                    "1": "0"
                                },
                                {
                                    "0": "34175",
                                    "1": "3"
                                },
                                {
                                    "0": "34195",
                                    "1": "0"
                                },
                                {
                                    "0": "34197",
                                    "1": "0"
                                },
                                {
                                    "0": "34770",
                                    "1": "0"
                                },
                                {
                                    "0": "35",
                                    "1": "0"
                                },
                                {
                                    "0": "3545",
                                    "1": "0"
                                },
                                {
                                    "0": "35579",
                                    "1": "0"
                                },
                                {
                                    "0": "36019",
                                    "1": "0"
                                },
                                {
                                    "0": "36102",
                                    "1": "0"
                                },
                                {
                                    "0": "36379",
                                    "1": "0"
                                },
                                {
                                    "0": "36402",
                                    "1": "0"
                                },
                                {
                                    "0": "36897",
                                    "1": "5"
                                },
                                {
                                    "0": "37038",
                                    "1": "0"
                                },
                                {
                                    "0": "37454",
                                    "1": "0"
                                },
                                {
                                    "0": "37687",
                                    "1": "0"
                                },
                                {
                                    "0": "37869",
                                    "1": "0"
                                },
                                {
                                    "0": "37946",
                                    "1": "0"
                                },
                                {
                                    "0": "38288",
                                    "1": "0"
                                },
                                {
                                    "0": "38476",
                                    "1": "0"
                                },
                                {
                                    "0": "38545",
                                    "1": "0"
                                },
                                {
                                    "0": "38602",
                                    "1": "0"
                                },
                                {
                                    "0": "38696",
                                    "1": "0"
                                },
                                {
                                    "0": "39046",
                                    "1": "0"
                                },
                                {
                                    "0": "39254",
                                    "1": "0"
                                },
                                {
                                    "0": "39521",
                                    "1": "0"
                                },
                                {
                                    "0": "39580",
                                    "1": "0"
                                },
                                {
                                    "0": "39612",
                                    "1": "0"
                                },
                                {
                                    "0": "40044",
                                    "1": "0"
                                },
                                {
                                    "0": "40189",
                                    "1": "0"
                                },
                                {
                                    "0": "4034",
                                    "1": "0"
                                },
                                {
                                    "0": "40371",
                                    "1": "0"
                                },
                                {
                                    "0": "40457",
                                    "1": "0"
                                },
                                {
                                    "0": "40558",
                                    "1": "0"
                                },
                                {
                                    "0": "40677",
                                    "1": "0"
                                },
                                {
                                    "0": "40682",
                                    "1": "0"
                                },
                                {
                                    "0": "40937",
                                    "1": "0"
                                },
                                {
                                    "0": "41211",
                                    "1": "0"
                                },
                                {
                                    "0": "4182",
                                    "1": "0"
                                },
                                {
                                    "0": "41930",
                                    "1": "3"
                                },
                                {
                                    "0": "41973",
                                    "1": "0"
                                },
                                {
                                    "0": "4233",
                                    "1": "1"
                                },
                                {
                                    "0": "42782",
                                    "1": "1"
                                },
                                {
                                    "0": "42991",
                                    "1": "0"
                                },
                                {
                                    "0": "43130",
                                    "1": "0"
                                },
                                {
                                    "0": "4345",
                                    "1": "0"
                                },
                                {
                                    "0": "43495",
                                    "1": "0"
                                },
                                {
                                    "0": "43505",
                                    "1": "0"
                                },
                                {
                                    "0": "4355",
                                    "1": "0"
                                },
                                {
                                    "0": "43779",
                                    "1": "4"
                                },
                                {
                                    "0": "4383",
                                    "1": "0"
                                },
                                {
                                    "0": "43993",
                                    "1": "0"
                                },
                                {
                                    "0": "44271",
                                    "1": "0"
                                },
                                {
                                    "0": "44352",
                                    "1": "0"
                                },
                                {
                                    "0": "4438",
                                    "1": "0"
                                },
                                {
                                    "0": "44551",
                                    "1": "0"
                                },
                                {
                                    "0": "44706",
                                    "1": "0"
                                },
                                {
                                    "0": "45002",
                                    "1": "0"
                                },
                                {
                                    "0": "4508",
                                    "1": "0"
                                },
                                {
                                    "0": "45200",
                                    "1": "0"
                                },
                                {
                                    "0": "45436",
                                    "1": "0"
                                },
                                {
                                    "0": "45494",
                                    "1": "0"
                                },
                                {
                                    "0": "45720",
                                    "1": "0"
                                },
                                {
                                    "0": "46451",
                                    "1": "0"
                                },
                                {
                                    "0": "46655",
                                    "1": "0"
                                },
                                {
                                    "0": "46694",
                                    "1": "0"
                                },
                                {
                                    "0": "46928",
                                    "1": "0"
                                },
                                {
                                    "0": "46981",
                                    "1": "0"
                                },
                                {
                                    "0": "47265",
                                    "1": "0"
                                },
                                {
                                    "0": "47379",
                                    "1": "0"
                                },
                                {
                                    "0": "47677",
                                    "1": "0"
                                },
                                {
                                    "0": "48469",
                                    "1": "0"
                                },
                                {
                                    "0": "48507",
                                    "1": "1"
                                },
                                {
                                    "0": "48570",
                                    "1": "1"
                                },
                                {
                                    "0": "48611",
                                    "1": "0"
                                },
                                {
                                    "0": "48678",
                                    "1": "0"
                                },
                                {
                                    "0": "48778",
                                    "1": "0"
                                },
                                {
                                    "0": "49339",
                                    "1": "0"
                                },
                                {
                                    "0": "4940",
                                    "1": "0"
                                },
                                {
                                    "0": "49503",
                                    "1": "0"
                                },
                                {
                                    "0": "49759",
                                    "1": "0"
                                },
                                {
                                    "0": "50039",
                                    "1": "0"
                                },
                                {
                                    "0": "50206",
                                    "1": "0"
                                },
                                {
                                    "0": "50330",
                                    "1": "1"
                                },
                                {
                                    "0": "50365",
                                    "1": "0"
                                },
                                {
                                    "0": "50386",
                                    "1": "0"
                                },
                                {
                                    "0": "50583",
                                    "1": "0"
                                },
                                {
                                    "0": "50664",
                                    "1": "0"
                                },
                                {
                                    "0": "507",
                                    "1": "0"
                                },
                                {
                                    "0": "50885",
                                    "1": "0"
                                },
                                {
                                    "0": "50969",
                                    "1": "0"
                                },
                                {
                                    "0": "51008",
                                    "1": "0"
                                },
                                {
                                    "0": "51553",
                                    "1": "0"
                                },
                                {
                                    "0": "51862",
                                    "1": "0"
                                },
                                {
                                    "0": "51868",
                                    "1": "0"
                                },
                                {
                                    "0": "51923",
                                    "1": "0"
                                },
                                {
                                    "0": "51955",
                                    "1": "0"
                                },
                                {
                                    "0": "51975",
                                    "1": "0"
                                },
                                {
                                    "0": "52019",
                                    "1": "0"
                                },
                                {
                                    "0": "52057",
                                    "1": "0"
                                },
                                {
                                    "0": "52371",
                                    "1": "0"
                                },
                                {
                                    "0": "52471",
                                    "1": "0"
                                },
                                {
                                    "0": "52647",
                                    "1": "0"
                                },
                                {
                                    "0": "52669",
                                    "1": "0"
                                },
                                {
                                    "0": "52856",
                                    "1": "0"
                                },
                                {
                                    "0": "52929",
                                    "1": "0"
                                },
                                {
                                    "0": "53048",
                                    "1": "0"
                                },
                                {
                                    "0": "53118",
                                    "1": "0"
                                },
                                {
                                    "0": "53788",
                                    "1": "0"
                                },
                                {
                                    "0": "5414",
                                    "1": "0"
                                },
                                {
                                    "0": "54612",
                                    "1": "0"
                                },
                                {
                                    "0": "54622",
                                    "1": "0"
                                },
                                {
                                    "0": "55000",
                                    "1": "0"
                                },
                                {
                                    "0": "55354",
                                    "1": "0"
                                },
                                {
                                    "0": "56057",
                                    "1": "0"
                                },
                                {
                                    "0": "56058",
                                    "1": "0"
                                },
                                {
                                    "0": "56080",
                                    "1": "0"
                                },
                                {
                                    "0": "56089",
                                    "1": "0"
                                },
                                {
                                    "0": "56276",
                                    "1": "0"
                                },
                                {
                                    "0": "56486",
                                    "1": "0"
                                },
                                {
                                    "0": "57083",
                                    "1": "0"
                                },
                                {
                                    "0": "57156",
                                    "1": "0"
                                },
                                {
                                    "0": "57180",
                                    "1": "0"
                                },
                                {
                                    "0": "57242",
                                    "1": "0"
                                },
                                {
                                    "0": "57474",
                                    "1": "0"
                                },
                                {
                                    "0": "58170",
                                    "1": "0"
                                },
                                {
                                    "0": "58172",
                                    "1": "0"
                                },
                                {
                                    "0": "5824",
                                    "1": "0"
                                },
                                {
                                    "0": "58558",
                                    "1": "0"
                                },
                                {
                                    "0": "58634",
                                    "1": "0"
                                },
                                {
                                    "0": "58874",
                                    "1": "0"
                                },
                                {
                                    "0": "59117",
                                    "1": "0"
                                },
                                {
                                    "0": "5920",
                                    "1": "0"
                                },
                                {
                                    "0": "59290",
                                    "1": "0"
                                },
                                {
                                    "0": "59397",
                                    "1": "0"
                                },
                                {
                                    "0": "59455",
                                    "1": "0"
                                },
                                {
                                    "0": "59538",
                                    "1": "0"
                                },
                                {
                                    "0": "59553",
                                    "1": "0"
                                },
                                {
                                    "0": "59795",
                                    "1": "0"
                                },
                                {
                                    "0": "60366",
                                    "1": "0"
                                },
                                {
                                    "0": "60406",
                                    "1": "0"
                                },
                                {
                                    "0": "60762",
                                    "1": "0"
                                },
                                {
                                    "0": "61354",
                                    "1": "0"
                                },
                                {
                                    "0": "61444",
                                    "1": "0"
                                },
                                {
                                    "0": "61783",
                                    "1": "0"
                                },
                                {
                                    "0": "61854",
                                    "1": "0"
                                },
                                {
                                    "0": "62124",
                                    "1": "0"
                                },
                                {
                                    "0": "62429",
                                    "1": "0"
                                },
                                {
                                    "0": "62520",
                                    "1": "0"
                                },
                                {
                                    "0": "62728",
                                    "1": "0"
                                },
                                {
                                    "0": "6304",
                                    "1": "0"
                                },
                                {
                                    "0": "63090",
                                    "1": "0"
                                },
                                {
                                    "0": "63287",
                                    "1": "2"
                                },
                                {
                                    "0": "63310",
                                    "1": "0"
                                },
                                {
                                    "0": "63395",
                                    "1": "0"
                                },
                                {
                                    "0": "63582",
                                    "1": "0"
                                },
                                {
                                    "0": "63860",
                                    "1": "0"
                                },
                                {
                                    "0": "6400",
                                    "1": "0"
                                },
                                {
                                    "0": "64013",
                                    "1": "0"
                                },
                                {
                                    "0": "64039",
                                    "1": "0"
                                },
                                {
                                    "0": "64121",
                                    "1": "0"
                                },
                                {
                                    "0": "64140",
                                    "1": "0"
                                },
                                {
                                    "0": "64164",
                                    "1": "0"
                                },
                                {
                                    "0": "64249",
                                    "1": "0"
                                },
                                {
                                    "0": "64259",
                                    "1": "0"
                                },
                                {
                                    "0": "64871",
                                    "1": "0"
                                },
                                {
                                    "0": "64938",
                                    "1": "0"
                                },
                                {
                                    "0": "65144",
                                    "1": "0"
                                },
                                {
                                    "0": "65205",
                                    "1": "0"
                                },
                                {
                                    "0": "65433",
                                    "1": "0"
                                },
                                {
                                    "0": "65563",
                                    "1": "0"
                                },
                                {
                                    "0": "6569",
                                    "1": "10"
                                },
                                {
                                    "0": "65901",
                                    "1": "0"
                                },
                                {
                                    "0": "65931",
                                    "1": "1"
                                },
                                {
                                    "0": "66212",
                                    "1": "0"
                                },
                                {
                                    "0": "66229",
                                    "1": "0"
                                },
                                {
                                    "0": "66469",
                                    "1": "0"
                                },
                                {
                                    "0": "67017",
                                    "1": "0"
                                },
                                {
                                    "0": "6710",
                                    "1": "0"
                                },
                                {
                                    "0": "67146",
                                    "1": "0"
                                },
                                {
                                    "0": "67407",
                                    "1": "0"
                                },
                                {
                                    "0": "67657",
                                    "1": "0"
                                },
                                {
                                    "0": "67810",
                                    "1": "0"
                                },
                                {
                                    "0": "68242",
                                    "1": "0"
                                },
                                {
                                    "0": "68280",
                                    "1": "0"
                                },
                                {
                                    "0": "68395",
                                    "1": "0"
                                },
                                {
                                    "0": "68453",
                                    "1": "0"
                                },
                                {
                                    "0": "68999",
                                    "1": "0"
                                },
                                {
                                    "0": "69122",
                                    "1": "0"
                                },
                                {
                                    "0": "69230",
                                    "1": "0"
                                },
                                {
                                    "0": "69521",
                                    "1": "0"
                                },
                                {
                                    "0": "69628",
                                    "1": "0"
                                },
                                {
                                    "0": "69783",
                                    "1": "0"
                                },
                                {
                                    "0": "69952",
                                    "1": "0"
                                },
                                {
                                    "0": "70235",
                                    "1": "0"
                                },
                                {
                                    "0": "70310",
                                    "1": "0"
                                },
                                {
                                    "0": "70395",
                                    "1": "0"
                                },
                                {
                                    "0": "71025",
                                    "1": "0"
                                },
                                {
                                    "0": "7149",
                                    "1": "0"
                                },
                                {
                                    "0": "71630",
                                    "1": "0"
                                },
                                {
                                    "0": "72006",
                                    "1": "0"
                                },
                                {
                                    "0": "72186",
                                    "1": "0"
                                },
                                {
                                    "0": "72553",
                                    "1": "0"
                                },
                                {
                                    "0": "72657",
                                    "1": "0"
                                },
                                {
                                    "0": "72669",
                                    "1": "0"
                                },
                                {
                                    "0": "7287",
                                    "1": "0"
                                },
                                {
                                    "0": "72979",
                                    "1": "0"
                                },
                                {
                                    "0": "73602",
                                    "1": "0"
                                },
                                {
                                    "0": "73623",
                                    "1": "1"
                                },
                                {
                                    "0": "74070",
                                    "1": "0"
                                },
                                {
                                    "0": "74163",
                                    "1": "0"
                                },
                                {
                                    "0": "74420",
                                    "1": "6"
                                },
                                {
                                    "0": "74426",
                                    "1": "0"
                                },
                                {
                                    "0": "74460",
                                    "1": "0"
                                },
                                {
                                    "0": "74530",
                                    "1": "0"
                                },
                                {
                                    "0": "74796",
                                    "1": "0"
                                },
                                {
                                    "0": "74840",
                                    "1": "0"
                                },
                                {
                                    "0": "74911",
                                    "1": "0"
                                },
                                {
                                    "0": "75046",
                                    "1": "0"
                                },
                                {
                                    "0": "75082",
                                    "1": "0"
                                },
                                {
                                    "0": "75116",
                                    "1": "0"
                                },
                                {
                                    "0": "75231",
                                    "1": "0"
                                },
                                {
                                    "0": "75510",
                                    "1": "0"
                                },
                                {
                                    "0": "75522",
                                    "1": "0"
                                },
                                {
                                    "0": "75560",
                                    "1": "0"
                                },
                                {
                                    "0": "76049",
                                    "1": "0"
                                },
                                {
                                    "0": "76169",
                                    "1": "0"
                                },
                                {
                                    "0": "76173",
                                    "1": "0"
                                },
                                {
                                    "0": "7620",
                                    "1": "0"
                                },
                                {
                                    "0": "76270",
                                    "1": "0"
                                },
                                {
                                    "0": "76672",
                                    "1": "0"
                                },
                                {
                                    "0": "77000",
                                    "1": "0"
                                },
                                {
                                    "0": "77021",
                                    "1": "0"
                                },
                                {
                                    "0": "77346",
                                    "1": "6"
                                },
                                {
                                    "0": "77415",
                                    "1": "0"
                                },
                                {
                                    "0": "77588",
                                    "1": "0"
                                },
                                {
                                    "0": "77664",
                                    "1": "0"
                                },
                                {
                                    "0": "7854",
                                    "1": "0"
                                },
                                {
                                    "0": "7861",
                                    "1": "0"
                                },
                                {
                                    "0": "78699",
                                    "1": "0"
                                },
                                {
                                    "0": "78782",
                                    "1": "0"
                                },
                                {
                                    "0": "78792",
                                    "1": "0"
                                },
                                {
                                    "0": "79081",
                                    "1": "6"
                                },
                                {
                                    "0": "792",
                                    "1": "0"
                                },
                                {
                                    "0": "79205",
                                    "1": "0"
                                },
                                {
                                    "0": "79329",
                                    "1": "0"
                                },
                                {
                                    "0": "7956",
                                    "1": "0"
                                },
                                {
                                    "0": "79589",
                                    "1": "0"
                                },
                                {
                                    "0": "79653",
                                    "1": "0"
                                },
                                {
                                    "0": "79763",
                                    "1": "0"
                                },
                                {
                                    "0": "79911",
                                    "1": "0"
                                },
                                {
                                    "0": "80057",
                                    "1": "0"
                                },
                                {
                                    "0": "80254",
                                    "1": "0"
                                },
                                {
                                    "0": "80651",
                                    "1": "0"
                                },
                                {
                                    "0": "80759",
                                    "1": "1"
                                },
                                {
                                    "0": "80799",
                                    "1": "0"
                                },
                                {
                                    "0": "80821",
                                    "1": "0"
                                },
                                {
                                    "0": "80990",
                                    "1": "0"
                                },
                                {
                                    "0": "81028",
                                    "1": "0"
                                },
                                {
                                    "0": "81207",
                                    "1": "0"
                                },
                                {
                                    "0": "81258",
                                    "1": "0"
                                },
                                {
                                    "0": "81294",
                                    "1": "0"
                                },
                                {
                                    "0": "81538",
                                    "1": "0"
                                },
                                {
                                    "0": "81785",
                                    "1": "0"
                                },
                                {
                                    "0": "81876",
                                    "1": "0"
                                },
                                {
                                    "0": "81883",
                                    "1": "0"
                                },
                                {
                                    "0": "8192",
                                    "1": "0"
                                },
                                {
                                    "0": "81991",
                                    "1": "2"
                                },
                                {
                                    "0": "82126",
                                    "1": "0"
                                },
                                {
                                    "0": "82301",
                                    "1": "0"
                                },
                                {
                                    "0": "82580",
                                    "1": "0"
                                },
                                {
                                    "0": "82868",
                                    "1": "0"
                                },
                                {
                                    "0": "82974",
                                    "1": "0"
                                },
                                {
                                    "0": "83039",
                                    "1": "0"
                                },
                                {
                                    "0": "8343",
                                    "1": "0"
                                },
                                {
                                    "0": "83444",
                                    "1": "0"
                                },
                                {
                                    "0": "84189",
                                    "1": "0"
                                },
                                {
                                    "0": "84432",
                                    "1": "0"
                                },
                                {
                                    "0": "84515",
                                    "1": "0"
                                },
                                {
                                    "0": "847",
                                    "1": "0"
                                },
                                {
                                    "0": "84702",
                                    "1": "0"
                                },
                                {
                                    "0": "84727",
                                    "1": "0"
                                },
                                {
                                    "0": "84808",
                                    "1": "0"
                                },
                                {
                                    "0": "85211",
                                    "1": "0"
                                },
                                {
                                    "0": "85366",
                                    "1": "0"
                                },
                                {
                                    "0": "85505",
                                    "1": "0"
                                },
                                {
                                    "0": "85904",
                                    "1": "0"
                                },
                                {
                                    "0": "86075",
                                    "1": "0"
                                },
                                {
                                    "0": "86375",
                                    "1": "0"
                                },
                                {
                                    "0": "86573",
                                    "1": "0"
                                },
                                {
                                    "0": "86641",
                                    "1": "0"
                                },
                                {
                                    "0": "86674",
                                    "1": "0"
                                },
                                {
                                    "0": "86806",
                                    "1": "0"
                                },
                                {
                                    "0": "86969",
                                    "1": "0"
                                },
                                {
                                    "0": "87222",
                                    "1": "0"
                                },
                                {
                                    "0": "87785",
                                    "1": "0"
                                },
                                {
                                    "0": "87831",
                                    "1": "0"
                                },
                                {
                                    "0": "88045",
                                    "1": "0"
                                },
                                {
                                    "0": "88140",
                                    "1": "0"
                                },
                                {
                                    "0": "88169",
                                    "1": "0"
                                },
                                {
                                    "0": "88418",
                                    "1": "0"
                                },
                                {
                                    "0": "88801",
                                    "1": "0"
                                },
                                {
                                    "0": "88887",
                                    "1": "0"
                                },
                                {
                                    "0": "89132",
                                    "1": "0"
                                },
                                {
                                    "0": "89312",
                                    "1": "0"
                                },
                                {
                                    "0": "89551",
                                    "1": "0"
                                },
                                {
                                    "0": "8986",
                                    "1": "0"
                                },
                                {
                                    "0": "90041",
                                    "1": "0"
                                },
                                {
                                    "0": "90124",
                                    "1": "0"
                                },
                                {
                                    "0": "90220",
                                    "1": "0"
                                },
                                {
                                    "0": "90372",
                                    "1": "0"
                                },
                                {
                                    "0": "90376",
                                    "1": "1"
                                },
                                {
                                    "0": "90381",
                                    "1": "0"
                                },
                                {
                                    "0": "90448",
                                    "1": "0"
                                },
                                {
                                    "0": "90567",
                                    "1": "0"
                                },
                                {
                                    "0": "90643",
                                    "1": "1"
                                },
                                {
                                    "0": "90663",
                                    "1": "0"
                                },
                                {
                                    "0": "90814",
                                    "1": "0"
                                },
                                {
                                    "0": "91063",
                                    "1": "0"
                                },
                                {
                                    "0": "91091",
                                    "1": "0"
                                },
                                {
                                    "0": "9114",
                                    "1": "0"
                                },
                                {
                                    "0": "91197",
                                    "1": "0"
                                },
                                {
                                    "0": "91851",
                                    "1": "0"
                                },
                                {
                                    "0": "91915",
                                    "1": "0"
                                },
                                {
                                    "0": "91978",
                                    "1": "0"
                                },
                                {
                                    "0": "9256",
                                    "1": "0"
                                },
                                {
                                    "0": "92839",
                                    "1": "0"
                                },
                                {
                                    "0": "92949",
                                    "1": "0"
                                },
                                {
                                    "0": "93004",
                                    "1": "0"
                                },
                                {
                                    "0": "931",
                                    "1": "0"
                                },
                                {
                                    "0": "93653",
                                    "1": "0"
                                },
                                {
                                    "0": "94324",
                                    "1": "0"
                                },
                                {
                                    "0": "94371",
                                    "1": "0"
                                },
                                {
                                    "0": "94535",
                                    "1": "0"
                                },
                                {
                                    "0": "94569",
                                    "1": "0"
                                },
                                {
                                    "0": "94697",
                                    "1": "0"
                                },
                                {
                                    "0": "94730",
                                    "1": "0"
                                },
                                {
                                    "0": "94846",
                                    "1": "0"
                                },
                                {
                                    "0": "94990",
                                    "1": "0"
                                },
                                {
                                    "0": "95030",
                                    "1": "0"
                                },
                                {
                                    "0": "95089",
                                    "1": "0"
                                },
                                {
                                    "0": "9514",
                                    "1": "0"
                                },
                                {
                                    "0": "95205",
                                    "1": "0"
                                },
                                {
                                    "0": "95260",
                                    "1": "0"
                                },
                                {
                                    "0": "95320",
                                    "1": "0"
                                },
                                {
                                    "0": "95574",
                                    "1": "0"
                                },
                                {
                                    "0": "95709",
                                    "1": "4"
                                },
                                {
                                    "0": "95840",
                                    "1": "0"
                                },
                                {
                                    "0": "96067",
                                    "1": "0"
                                },
                                {
                                    "0": "96117",
                                    "1": "0"
                                },
                                {
                                    "0": "96134",
                                    "1": "0"
                                },
                                {
                                    "0": "96772",
                                    "1": "0"
                                },
                                {
                                    "0": "96895",
                                    "1": "0"
                                },
                                {
                                    "0": "96968",
                                    "1": "0"
                                },
                                {
                                    "0": "96988",
                                    "1": "0"
                                },
                                {
                                    "0": "97302",
                                    "1": "0"
                                },
                                {
                                    "0": "97551",
                                    "1": "0"
                                },
                                {
                                    "0": "97629",
                                    "1": "0"
                                },
                                {
                                    "0": "97679",
                                    "1": "0"
                                },
                                {
                                    "0": "978",
                                    "1": "0"
                                },
                                {
                                    "0": "97868",
                                    "1": "0"
                                },
                                {
                                    "0": "97953",
                                    "1": "0"
                                },
                                {
                                    "0": "98359",
                                    "1": "0"
                                },
                                {
                                    "0": "98423",
                                    "1": "0"
                                },
                                {
                                    "0": "99052",
                                    "1": "9"
                                },
                                {
                                    "0": "99268",
                                    "1": "0"
                                },
                                {
                                    "0": "99647",
                                    "1": "0"
                                },
                                {
                                    "0": "99660",
                                    "1": "0"
                                },
                                {
                                    "0": "99694",
                                    "1": "0"
                                },
                                {
                                    "0": "99710",
                                    "1": "0"
                                },
                                {
                                    "0": "99764",
                                    "1": "0"
                                },
                                {
                                    "0": "99775",
                                    "1": "0"
                                },
                                {
                                    "0": "99949",
                                    "1": "0"
                                }
                            ]
                        },
                        "text/html": "<table><tr><th>ID</th><th>(No column name)</th></tr><tr><td>10076</td><td>0</td></tr><tr><td>10204</td><td>0</td></tr><tr><td>10454</td><td>0</td></tr><tr><td>10527</td><td>0</td></tr><tr><td>10693</td><td>0</td></tr><tr><td>10834</td><td>0</td></tr><tr><td>11055</td><td>0</td></tr><tr><td>11057</td><td>0</td></tr><tr><td>11076</td><td>0</td></tr><tr><td>11083</td><td>0</td></tr><tr><td>11101</td><td>0</td></tr><tr><td>11202</td><td>0</td></tr><tr><td>11262</td><td>0</td></tr><tr><td>11453</td><td>0</td></tr><tr><td>11682</td><td>0</td></tr><tr><td>11855</td><td>0</td></tr><tr><td>12236</td><td>0</td></tr><tr><td>1232</td><td>0</td></tr><tr><td>12362</td><td>0</td></tr><tr><td>12666</td><td>0</td></tr><tr><td>12683</td><td>0</td></tr><tr><td>13023</td><td>0</td></tr><tr><td>13081</td><td>0</td></tr><tr><td>13741</td><td>0</td></tr><tr><td>13921</td><td>0</td></tr><tr><td>14214</td><td>0</td></tr><tr><td>14365</td><td>2</td></tr><tr><td>14499</td><td>0</td></tr><tr><td>14581</td><td>0</td></tr><tr><td>14596</td><td>0</td></tr><tr><td>14829</td><td>0</td></tr><tr><td>14869</td><td>0</td></tr><tr><td>15144</td><td>0</td></tr><tr><td>15328</td><td>0</td></tr><tr><td>15347</td><td>1</td></tr><tr><td>15457</td><td>0</td></tr><tr><td>15538</td><td>0</td></tr><tr><td>16057</td><td>0</td></tr><tr><td>16523</td><td>0</td></tr><tr><td>16807</td><td>0</td></tr><tr><td>16849</td><td>0</td></tr><tr><td>17133</td><td>0</td></tr><tr><td>1737</td><td>0</td></tr><tr><td>17607</td><td>0</td></tr><tr><td>17996</td><td>0</td></tr><tr><td>17997</td><td>0</td></tr><tr><td>18108</td><td>0</td></tr><tr><td>18286</td><td>0</td></tr><tr><td>18752</td><td>0</td></tr><tr><td>18808</td><td>0</td></tr><tr><td>19048</td><td>0</td></tr><tr><td>19293</td><td>0</td></tr><tr><td>19321</td><td>0</td></tr><tr><td>19362</td><td>0</td></tr><tr><td>19368</td><td>3</td></tr><tr><td>19603</td><td>0</td></tr><tr><td>19638</td><td>0</td></tr><tr><td>19917</td><td>0</td></tr><tr><td>20244</td><td>0</td></tr><tr><td>20803</td><td>0</td></tr><tr><td>20974</td><td>0</td></tr><tr><td>21009</td><td>0</td></tr><tr><td>21101</td><td>0</td></tr><tr><td>21102</td><td>0</td></tr><tr><td>21225</td><td>0</td></tr><tr><td>21394</td><td>0</td></tr><tr><td>21789</td><td>0</td></tr><tr><td>22004</td><td>0</td></tr><tr><td>22050</td><td>0</td></tr><tr><td>22198</td><td>0</td></tr><tr><td>22226</td><td>0</td></tr><tr><td>22532</td><td>0</td></tr><tr><td>22591</td><td>13</td></tr><tr><td>22618</td><td>0</td></tr><tr><td>23270</td><td>0</td></tr><tr><td>23439</td><td>0</td></tr><tr><td>23506</td><td>0</td></tr><tr><td>23525</td><td>0</td></tr><tr><td>2423</td><td>0</td></tr><tr><td>24374</td><td>0</td></tr><tr><td>24784</td><td>0</td></tr><tr><td>24865</td><td>0</td></tr><tr><td>25187</td><td>0</td></tr><tr><td>25362</td><td>0</td></tr><tr><td>25525</td><td>0</td></tr><tr><td>25552</td><td>0</td></tr><tr><td>25611</td><td>0</td></tr><tr><td>25725</td><td>0</td></tr><tr><td>259</td><td>0</td></tr><tr><td>25940</td><td>0</td></tr><tr><td>25946</td><td>1</td></tr><tr><td>26102</td><td>0</td></tr><tr><td>26147</td><td>0</td></tr><tr><td>26427</td><td>0</td></tr><tr><td>26695</td><td>0</td></tr><tr><td>26881</td><td>0</td></tr><tr><td>27043</td><td>0</td></tr><tr><td>27094</td><td>0</td></tr><tr><td>27236</td><td>0</td></tr><tr><td>27727</td><td>0</td></tr><tr><td>27919</td><td>0</td></tr><tr><td>28097</td><td>2</td></tr><tr><td>28128</td><td>0</td></tr><tr><td>28299</td><td>0</td></tr><tr><td>28361</td><td>0</td></tr><tr><td>28400</td><td>2</td></tr><tr><td>2848</td><td>0</td></tr><tr><td>28829</td><td>0</td></tr><tr><td>28989</td><td>0</td></tr><tr><td>28994</td><td>0</td></tr><tr><td>29140</td><td>0</td></tr><tr><td>29239</td><td>0</td></tr><tr><td>29514</td><td>0</td></tr><tr><td>29645</td><td>0</td></tr><tr><td>29863</td><td>0</td></tr><tr><td>30124</td><td>0</td></tr><tr><td>30164</td><td>0</td></tr><tr><td>30188</td><td>0</td></tr><tr><td>30222</td><td>0</td></tr><tr><td>30397</td><td>0</td></tr><tr><td>30650</td><td>0</td></tr><tr><td>30723</td><td>0</td></tr><tr><td>31086</td><td>0</td></tr><tr><td>31101</td><td>0</td></tr><tr><td>31302</td><td>0</td></tr><tr><td>31554</td><td>0</td></tr><tr><td>31624</td><td>0</td></tr><tr><td>31690</td><td>0</td></tr><tr><td>31955</td><td>0</td></tr><tr><td>3199</td><td>4</td></tr><tr><td>32385</td><td>0</td></tr><tr><td>32483</td><td>0</td></tr><tr><td>32490</td><td>0</td></tr><tr><td>32954</td><td>0</td></tr><tr><td>33206</td><td>0</td></tr><tr><td>33349</td><td>0</td></tr><tr><td>3335</td><td>2</td></tr><tr><td>33645</td><td>0</td></tr><tr><td>34018</td><td>0</td></tr><tr><td>34055</td><td>0</td></tr><tr><td>34158</td><td>0</td></tr><tr><td>34175</td><td>3</td></tr><tr><td>34195</td><td>0</td></tr><tr><td>34197</td><td>0</td></tr><tr><td>34770</td><td>0</td></tr><tr><td>35</td><td>0</td></tr><tr><td>3545</td><td>0</td></tr><tr><td>35579</td><td>0</td></tr><tr><td>36019</td><td>0</td></tr><tr><td>36102</td><td>0</td></tr><tr><td>36379</td><td>0</td></tr><tr><td>36402</td><td>0</td></tr><tr><td>36897</td><td>5</td></tr><tr><td>37038</td><td>0</td></tr><tr><td>37454</td><td>0</td></tr><tr><td>37687</td><td>0</td></tr><tr><td>37869</td><td>0</td></tr><tr><td>37946</td><td>0</td></tr><tr><td>38288</td><td>0</td></tr><tr><td>38476</td><td>0</td></tr><tr><td>38545</td><td>0</td></tr><tr><td>38602</td><td>0</td></tr><tr><td>38696</td><td>0</td></tr><tr><td>39046</td><td>0</td></tr><tr><td>39254</td><td>0</td></tr><tr><td>39521</td><td>0</td></tr><tr><td>39580</td><td>0</td></tr><tr><td>39612</td><td>0</td></tr><tr><td>40044</td><td>0</td></tr><tr><td>40189</td><td>0</td></tr><tr><td>4034</td><td>0</td></tr><tr><td>40371</td><td>0</td></tr><tr><td>40457</td><td>0</td></tr><tr><td>40558</td><td>0</td></tr><tr><td>40677</td><td>0</td></tr><tr><td>40682</td><td>0</td></tr><tr><td>40937</td><td>0</td></tr><tr><td>41211</td><td>0</td></tr><tr><td>4182</td><td>0</td></tr><tr><td>41930</td><td>3</td></tr><tr><td>41973</td><td>0</td></tr><tr><td>4233</td><td>1</td></tr><tr><td>42782</td><td>1</td></tr><tr><td>42991</td><td>0</td></tr><tr><td>43130</td><td>0</td></tr><tr><td>4345</td><td>0</td></tr><tr><td>43495</td><td>0</td></tr><tr><td>43505</td><td>0</td></tr><tr><td>4355</td><td>0</td></tr><tr><td>43779</td><td>4</td></tr><tr><td>4383</td><td>0</td></tr><tr><td>43993</td><td>0</td></tr><tr><td>44271</td><td>0</td></tr><tr><td>44352</td><td>0</td></tr><tr><td>4438</td><td>0</td></tr><tr><td>44551</td><td>0</td></tr><tr><td>44706</td><td>0</td></tr><tr><td>45002</td><td>0</td></tr><tr><td>4508</td><td>0</td></tr><tr><td>45200</td><td>0</td></tr><tr><td>45436</td><td>0</td></tr><tr><td>45494</td><td>0</td></tr><tr><td>45720</td><td>0</td></tr><tr><td>46451</td><td>0</td></tr><tr><td>46655</td><td>0</td></tr><tr><td>46694</td><td>0</td></tr><tr><td>46928</td><td>0</td></tr><tr><td>46981</td><td>0</td></tr><tr><td>47265</td><td>0</td></tr><tr><td>47379</td><td>0</td></tr><tr><td>47677</td><td>0</td></tr><tr><td>48469</td><td>0</td></tr><tr><td>48507</td><td>1</td></tr><tr><td>48570</td><td>1</td></tr><tr><td>48611</td><td>0</td></tr><tr><td>48678</td><td>0</td></tr><tr><td>48778</td><td>0</td></tr><tr><td>49339</td><td>0</td></tr><tr><td>4940</td><td>0</td></tr><tr><td>49503</td><td>0</td></tr><tr><td>49759</td><td>0</td></tr><tr><td>50039</td><td>0</td></tr><tr><td>50206</td><td>0</td></tr><tr><td>50330</td><td>1</td></tr><tr><td>50365</td><td>0</td></tr><tr><td>50386</td><td>0</td></tr><tr><td>50583</td><td>0</td></tr><tr><td>50664</td><td>0</td></tr><tr><td>507</td><td>0</td></tr><tr><td>50885</td><td>0</td></tr><tr><td>50969</td><td>0</td></tr><tr><td>51008</td><td>0</td></tr><tr><td>51553</td><td>0</td></tr><tr><td>51862</td><td>0</td></tr><tr><td>51868</td><td>0</td></tr><tr><td>51923</td><td>0</td></tr><tr><td>51955</td><td>0</td></tr><tr><td>51975</td><td>0</td></tr><tr><td>52019</td><td>0</td></tr><tr><td>52057</td><td>0</td></tr><tr><td>52371</td><td>0</td></tr><tr><td>52471</td><td>0</td></tr><tr><td>52647</td><td>0</td></tr><tr><td>52669</td><td>0</td></tr><tr><td>52856</td><td>0</td></tr><tr><td>52929</td><td>0</td></tr><tr><td>53048</td><td>0</td></tr><tr><td>53118</td><td>0</td></tr><tr><td>53788</td><td>0</td></tr><tr><td>5414</td><td>0</td></tr><tr><td>54612</td><td>0</td></tr><tr><td>54622</td><td>0</td></tr><tr><td>55000</td><td>0</td></tr><tr><td>55354</td><td>0</td></tr><tr><td>56057</td><td>0</td></tr><tr><td>56058</td><td>0</td></tr><tr><td>56080</td><td>0</td></tr><tr><td>56089</td><td>0</td></tr><tr><td>56276</td><td>0</td></tr><tr><td>56486</td><td>0</td></tr><tr><td>57083</td><td>0</td></tr><tr><td>57156</td><td>0</td></tr><tr><td>57180</td><td>0</td></tr><tr><td>57242</td><td>0</td></tr><tr><td>57474</td><td>0</td></tr><tr><td>58170</td><td>0</td></tr><tr><td>58172</td><td>0</td></tr><tr><td>5824</td><td>0</td></tr><tr><td>58558</td><td>0</td></tr><tr><td>58634</td><td>0</td></tr><tr><td>58874</td><td>0</td></tr><tr><td>59117</td><td>0</td></tr><tr><td>5920</td><td>0</td></tr><tr><td>59290</td><td>0</td></tr><tr><td>59397</td><td>0</td></tr><tr><td>59455</td><td>0</td></tr><tr><td>59538</td><td>0</td></tr><tr><td>59553</td><td>0</td></tr><tr><td>59795</td><td>0</td></tr><tr><td>60366</td><td>0</td></tr><tr><td>60406</td><td>0</td></tr><tr><td>60762</td><td>0</td></tr><tr><td>61354</td><td>0</td></tr><tr><td>61444</td><td>0</td></tr><tr><td>61783</td><td>0</td></tr><tr><td>61854</td><td>0</td></tr><tr><td>62124</td><td>0</td></tr><tr><td>62429</td><td>0</td></tr><tr><td>62520</td><td>0</td></tr><tr><td>62728</td><td>0</td></tr><tr><td>6304</td><td>0</td></tr><tr><td>63090</td><td>0</td></tr><tr><td>63287</td><td>2</td></tr><tr><td>63310</td><td>0</td></tr><tr><td>63395</td><td>0</td></tr><tr><td>63582</td><td>0</td></tr><tr><td>63860</td><td>0</td></tr><tr><td>6400</td><td>0</td></tr><tr><td>64013</td><td>0</td></tr><tr><td>64039</td><td>0</td></tr><tr><td>64121</td><td>0</td></tr><tr><td>64140</td><td>0</td></tr><tr><td>64164</td><td>0</td></tr><tr><td>64249</td><td>0</td></tr><tr><td>64259</td><td>0</td></tr><tr><td>64871</td><td>0</td></tr><tr><td>64938</td><td>0</td></tr><tr><td>65144</td><td>0</td></tr><tr><td>65205</td><td>0</td></tr><tr><td>65433</td><td>0</td></tr><tr><td>65563</td><td>0</td></tr><tr><td>6569</td><td>10</td></tr><tr><td>65901</td><td>0</td></tr><tr><td>65931</td><td>1</td></tr><tr><td>66212</td><td>0</td></tr><tr><td>66229</td><td>0</td></tr><tr><td>66469</td><td>0</td></tr><tr><td>67017</td><td>0</td></tr><tr><td>6710</td><td>0</td></tr><tr><td>67146</td><td>0</td></tr><tr><td>67407</td><td>0</td></tr><tr><td>67657</td><td>0</td></tr><tr><td>67810</td><td>0</td></tr><tr><td>68242</td><td>0</td></tr><tr><td>68280</td><td>0</td></tr><tr><td>68395</td><td>0</td></tr><tr><td>68453</td><td>0</td></tr><tr><td>68999</td><td>0</td></tr><tr><td>69122</td><td>0</td></tr><tr><td>69230</td><td>0</td></tr><tr><td>69521</td><td>0</td></tr><tr><td>69628</td><td>0</td></tr><tr><td>69783</td><td>0</td></tr><tr><td>69952</td><td>0</td></tr><tr><td>70235</td><td>0</td></tr><tr><td>70310</td><td>0</td></tr><tr><td>70395</td><td>0</td></tr><tr><td>71025</td><td>0</td></tr><tr><td>7149</td><td>0</td></tr><tr><td>71630</td><td>0</td></tr><tr><td>72006</td><td>0</td></tr><tr><td>72186</td><td>0</td></tr><tr><td>72553</td><td>0</td></tr><tr><td>72657</td><td>0</td></tr><tr><td>72669</td><td>0</td></tr><tr><td>7287</td><td>0</td></tr><tr><td>72979</td><td>0</td></tr><tr><td>73602</td><td>0</td></tr><tr><td>73623</td><td>1</td></tr><tr><td>74070</td><td>0</td></tr><tr><td>74163</td><td>0</td></tr><tr><td>74420</td><td>6</td></tr><tr><td>74426</td><td>0</td></tr><tr><td>74460</td><td>0</td></tr><tr><td>74530</td><td>0</td></tr><tr><td>74796</td><td>0</td></tr><tr><td>74840</td><td>0</td></tr><tr><td>74911</td><td>0</td></tr><tr><td>75046</td><td>0</td></tr><tr><td>75082</td><td>0</td></tr><tr><td>75116</td><td>0</td></tr><tr><td>75231</td><td>0</td></tr><tr><td>75510</td><td>0</td></tr><tr><td>75522</td><td>0</td></tr><tr><td>75560</td><td>0</td></tr><tr><td>76049</td><td>0</td></tr><tr><td>76169</td><td>0</td></tr><tr><td>76173</td><td>0</td></tr><tr><td>7620</td><td>0</td></tr><tr><td>76270</td><td>0</td></tr><tr><td>76672</td><td>0</td></tr><tr><td>77000</td><td>0</td></tr><tr><td>77021</td><td>0</td></tr><tr><td>77346</td><td>6</td></tr><tr><td>77415</td><td>0</td></tr><tr><td>77588</td><td>0</td></tr><tr><td>77664</td><td>0</td></tr><tr><td>7854</td><td>0</td></tr><tr><td>7861</td><td>0</td></tr><tr><td>78699</td><td>0</td></tr><tr><td>78782</td><td>0</td></tr><tr><td>78792</td><td>0</td></tr><tr><td>79081</td><td>6</td></tr><tr><td>792</td><td>0</td></tr><tr><td>79205</td><td>0</td></tr><tr><td>79329</td><td>0</td></tr><tr><td>7956</td><td>0</td></tr><tr><td>79589</td><td>0</td></tr><tr><td>79653</td><td>0</td></tr><tr><td>79763</td><td>0</td></tr><tr><td>79911</td><td>0</td></tr><tr><td>80057</td><td>0</td></tr><tr><td>80254</td><td>0</td></tr><tr><td>80651</td><td>0</td></tr><tr><td>80759</td><td>1</td></tr><tr><td>80799</td><td>0</td></tr><tr><td>80821</td><td>0</td></tr><tr><td>80990</td><td>0</td></tr><tr><td>81028</td><td>0</td></tr><tr><td>81207</td><td>0</td></tr><tr><td>81258</td><td>0</td></tr><tr><td>81294</td><td>0</td></tr><tr><td>81538</td><td>0</td></tr><tr><td>81785</td><td>0</td></tr><tr><td>81876</td><td>0</td></tr><tr><td>81883</td><td>0</td></tr><tr><td>8192</td><td>0</td></tr><tr><td>81991</td><td>2</td></tr><tr><td>82126</td><td>0</td></tr><tr><td>82301</td><td>0</td></tr><tr><td>82580</td><td>0</td></tr><tr><td>82868</td><td>0</td></tr><tr><td>82974</td><td>0</td></tr><tr><td>83039</td><td>0</td></tr><tr><td>8343</td><td>0</td></tr><tr><td>83444</td><td>0</td></tr><tr><td>84189</td><td>0</td></tr><tr><td>84432</td><td>0</td></tr><tr><td>84515</td><td>0</td></tr><tr><td>847</td><td>0</td></tr><tr><td>84702</td><td>0</td></tr><tr><td>84727</td><td>0</td></tr><tr><td>84808</td><td>0</td></tr><tr><td>85211</td><td>0</td></tr><tr><td>85366</td><td>0</td></tr><tr><td>85505</td><td>0</td></tr><tr><td>85904</td><td>0</td></tr><tr><td>86075</td><td>0</td></tr><tr><td>86375</td><td>0</td></tr><tr><td>86573</td><td>0</td></tr><tr><td>86641</td><td>0</td></tr><tr><td>86674</td><td>0</td></tr><tr><td>86806</td><td>0</td></tr><tr><td>86969</td><td>0</td></tr><tr><td>87222</td><td>0</td></tr><tr><td>87785</td><td>0</td></tr><tr><td>87831</td><td>0</td></tr><tr><td>88045</td><td>0</td></tr><tr><td>88140</td><td>0</td></tr><tr><td>88169</td><td>0</td></tr><tr><td>88418</td><td>0</td></tr><tr><td>88801</td><td>0</td></tr><tr><td>88887</td><td>0</td></tr><tr><td>89132</td><td>0</td></tr><tr><td>89312</td><td>0</td></tr><tr><td>89551</td><td>0</td></tr><tr><td>8986</td><td>0</td></tr><tr><td>90041</td><td>0</td></tr><tr><td>90124</td><td>0</td></tr><tr><td>90220</td><td>0</td></tr><tr><td>90372</td><td>0</td></tr><tr><td>90376</td><td>1</td></tr><tr><td>90381</td><td>0</td></tr><tr><td>90448</td><td>0</td></tr><tr><td>90567</td><td>0</td></tr><tr><td>90643</td><td>1</td></tr><tr><td>90663</td><td>0</td></tr><tr><td>90814</td><td>0</td></tr><tr><td>91063</td><td>0</td></tr><tr><td>91091</td><td>0</td></tr><tr><td>9114</td><td>0</td></tr><tr><td>91197</td><td>0</td></tr><tr><td>91851</td><td>0</td></tr><tr><td>91915</td><td>0</td></tr><tr><td>91978</td><td>0</td></tr><tr><td>9256</td><td>0</td></tr><tr><td>92839</td><td>0</td></tr><tr><td>92949</td><td>0</td></tr><tr><td>93004</td><td>0</td></tr><tr><td>931</td><td>0</td></tr><tr><td>93653</td><td>0</td></tr><tr><td>94324</td><td>0</td></tr><tr><td>94371</td><td>0</td></tr><tr><td>94535</td><td>0</td></tr><tr><td>94569</td><td>0</td></tr><tr><td>94697</td><td>0</td></tr><tr><td>94730</td><td>0</td></tr><tr><td>94846</td><td>0</td></tr><tr><td>94990</td><td>0</td></tr><tr><td>95030</td><td>0</td></tr><tr><td>95089</td><td>0</td></tr><tr><td>9514</td><td>0</td></tr><tr><td>95205</td><td>0</td></tr><tr><td>95260</td><td>0</td></tr><tr><td>95320</td><td>0</td></tr><tr><td>95574</td><td>0</td></tr><tr><td>95709</td><td>4</td></tr><tr><td>95840</td><td>0</td></tr><tr><td>96067</td><td>0</td></tr><tr><td>96117</td><td>0</td></tr><tr><td>96134</td><td>0</td></tr><tr><td>96772</td><td>0</td></tr><tr><td>96895</td><td>0</td></tr><tr><td>96968</td><td>0</td></tr><tr><td>96988</td><td>0</td></tr><tr><td>97302</td><td>0</td></tr><tr><td>97551</td><td>0</td></tr><tr><td>97629</td><td>0</td></tr><tr><td>97679</td><td>0</td></tr><tr><td>978</td><td>0</td></tr><tr><td>97868</td><td>0</td></tr><tr><td>97953</td><td>0</td></tr><tr><td>98359</td><td>0</td></tr><tr><td>98423</td><td>0</td></tr><tr><td>99052</td><td>9</td></tr><tr><td>99268</td><td>0</td></tr><tr><td>99647</td><td>0</td></tr><tr><td>99660</td><td>0</td></tr><tr><td>99694</td><td>0</td></tr><tr><td>99710</td><td>0</td></tr><tr><td>99764</td><td>0</td></tr><tr><td>99775</td><td>0</td></tr><tr><td>99949</td><td>0</td></tr></table>"
                    },
                    "metadata": {
                        "resultSet": {
                            "id": 0,
                            "batchId": 0,
                            "rowCount": 513,
                            "complete": true,
                            "columnInfo": [
                                {
                                    "isBytes": false,
                                    "isChars": true,
                                    "isSqlVariant": false,
                                    "isUdt": false,
                                    "isXml": false,
                                    "isJson": false,
                                    "sqlDbType": 22,
                                    "isHierarchyId": false,
                                    "isSqlXmlType": false,
                                    "isUnknownType": false,
                                    "isUpdatable": true,
                                    "allowDBNull": false,
                                    "baseCatalogName": null,
                                    "baseColumnName": null,
                                    "baseSchemaName": null,
                                    "baseServerName": null,
                                    "baseTableName": null,
                                    "columnName": "ID",
                                    "columnOrdinal": 0,
                                    "columnSize": 5,
                                    "isAliased": null,
                                    "isAutoIncrement": false,
                                    "isExpression": null,
                                    "isHidden": null,
                                    "isIdentity": false,
                                    "isKey": null,
                                    "isLong": false,
                                    "isReadOnly": false,
                                    "isUnique": false,
                                    "numericPrecision": 255,
                                    "numericScale": 255,
                                    "udtAssemblyQualifiedName": null,
                                    "dataType": "System.String, System.Private.CoreLib, Version=4.0.0.0, Culture=neutral, PublicKeyToken=7cec85d7bea7798e",
                                    "dataTypeName": "varchar"
                                },
                                {
                                    "isBytes": false,
                                    "isChars": false,
                                    "isSqlVariant": false,
                                    "isUdt": false,
                                    "isXml": false,
                                    "isJson": false,
                                    "sqlDbType": 8,
                                    "isHierarchyId": false,
                                    "isSqlXmlType": false,
                                    "isUnknownType": false,
                                    "isUpdatable": false,
                                    "allowDBNull": true,
                                    "baseCatalogName": null,
                                    "baseColumnName": null,
                                    "baseSchemaName": null,
                                    "baseServerName": null,
                                    "baseTableName": null,
                                    "columnName": "(No column name)",
                                    "columnOrdinal": 1,
                                    "columnSize": 4,
                                    "isAliased": null,
                                    "isAutoIncrement": false,
                                    "isExpression": null,
                                    "isHidden": null,
                                    "isIdentity": false,
                                    "isKey": null,
                                    "isLong": false,
                                    "isReadOnly": true,
                                    "isUnique": false,
                                    "numericPrecision": 10,
                                    "numericScale": 255,
                                    "udtAssemblyQualifiedName": null,
                                    "dataType": "System.Int32, System.Private.CoreLib, Version=4.0.0.0, Culture=neutral, PublicKeyToken=7cec85d7bea7798e",
                                    "dataTypeName": "int"
                                }
                            ],
                            "specialAction": {
                                "none": true,
                                "expectYukonXMLShowPlan": false
                            }
                        }
                    }
                }
            ],
            "execution_count": 7
        },
        {
            "cell_type": "markdown",
            "source": [
                "c) Display the list of all course sections offered in Spring 2008, along with the ID and name of each instructor teaching the section. If a section has more than one instructor, that section should appear as many times in the result as it has instructors. If a section does not have any instructor, it should still appear in the result with the instructor name set to '-'."
            ],
            "metadata": {
                "azdata_cell_guid": "6942e5f9-dd07-42fe-a071-d1208d87ab42"
            }
        },
        {
            "cell_type": "code",
            "source": [
                "\n",
                "SELECT section.course_id, section.sec_id, instructor.ID, IIF(\n",
                "    instructor.name IS NULL, \n",
                "    '-', \n",
                "    instructor.name\n",
                "    ) AS instructor_name\n",
                "FROM (section LEFT OUTER JOIN teaches ON section.sec_id = teaches.sec_id AND section.course_id = teaches.course_id)\n",
                "    LEFT OUTER JOIN instructor ON teaches.ID = instructor.ID\n",
                "WHERE section.semester = 'Spring' AND section.[year] = '2008';\n",
                "GO"
            ],
            "metadata": {
                "azdata_cell_guid": "3f9a1583-416c-4341-af51-f074ed201ddc"
            },
            "outputs": [
                {
                    "output_type": "display_data",
                    "data": {
                        "text/html": "(9 rows affected)"
                    },
                    "metadata": {}
                },
                {
                    "output_type": "display_data",
                    "data": {
                        "text/html": "Total execution time: 00:00:00.003"
                    },
                    "metadata": {}
                },
                {
                    "output_type": "execute_result",
                    "execution_count": 14,
                    "data": {
                        "application/vnd.dataresource+json": {
                            "schema": {
                                "fields": [
                                    {
                                        "name": "course_id"
                                    },
                                    {
                                        "name": "sec_id"
                                    },
                                    {
                                        "name": "ID"
                                    },
                                    {
                                        "name": "instructor_name"
                                    }
                                ]
                            },
                            "data": [
                                {
                                    "0": "158",
                                    "1": "2",
                                    "2": "99052",
                                    "3": "Dale"
                                },
                                {
                                    "0": "237",
                                    "1": "1",
                                    "2": "99052",
                                    "3": "Dale"
                                },
                                {
                                    "0": "345",
                                    "1": "1",
                                    "2": "79081",
                                    "3": "Ullman "
                                },
                                {
                                    "0": "349",
                                    "1": "1",
                                    "2": "6569",
                                    "3": "Mingoz"
                                },
                                {
                                    "0": "362",
                                    "1": "3",
                                    "2": "6569",
                                    "3": "Mingoz"
                                },
                                {
                                    "0": "704",
                                    "1": "1",
                                    "2": "77346",
                                    "3": "Mahmoud"
                                },
                                {
                                    "0": "852",
                                    "1": "1",
                                    "2": "63287",
                                    "3": "Jaekel"
                                },
                                {
                                    "0": "962",
                                    "1": "1",
                                    "2": "22591",
                                    "3": "DAgostino"
                                },
                                {
                                    "0": "991",
                                    "1": "1",
                                    "2": "22591",
                                    "3": "DAgostino"
                                }
                            ]
                        },
                        "text/html": "<table><tr><th>course_id</th><th>sec_id</th><th>ID</th><th>instructor_name</th></tr><tr><td>158</td><td>2</td><td>99052</td><td>Dale</td></tr><tr><td>237</td><td>1</td><td>99052</td><td>Dale</td></tr><tr><td>345</td><td>1</td><td>79081</td><td>Ullman </td></tr><tr><td>349</td><td>1</td><td>6569</td><td>Mingoz</td></tr><tr><td>362</td><td>3</td><td>6569</td><td>Mingoz</td></tr><tr><td>704</td><td>1</td><td>77346</td><td>Mahmoud</td></tr><tr><td>852</td><td>1</td><td>63287</td><td>Jaekel</td></tr><tr><td>962</td><td>1</td><td>22591</td><td>DAgostino</td></tr><tr><td>991</td><td>1</td><td>22591</td><td>DAgostino</td></tr></table>"
                    },
                    "metadata": {
                        "resultSet": {
                            "id": 0,
                            "batchId": 0,
                            "rowCount": 9,
                            "complete": true,
                            "columnInfo": [
                                {
                                    "isBytes": false,
                                    "isChars": true,
                                    "isSqlVariant": false,
                                    "isUdt": false,
                                    "isXml": false,
                                    "isJson": false,
                                    "sqlDbType": 22,
                                    "isHierarchyId": false,
                                    "isSqlXmlType": false,
                                    "isUnknownType": false,
                                    "isUpdatable": true,
                                    "allowDBNull": false,
                                    "baseCatalogName": null,
                                    "baseColumnName": null,
                                    "baseSchemaName": null,
                                    "baseServerName": null,
                                    "baseTableName": null,
                                    "columnName": "course_id",
                                    "columnOrdinal": 0,
                                    "columnSize": 8,
                                    "isAliased": null,
                                    "isAutoIncrement": false,
                                    "isExpression": null,
                                    "isHidden": null,
                                    "isIdentity": false,
                                    "isKey": null,
                                    "isLong": false,
                                    "isReadOnly": false,
                                    "isUnique": false,
                                    "numericPrecision": 255,
                                    "numericScale": 255,
                                    "udtAssemblyQualifiedName": null,
                                    "dataType": "System.String, System.Private.CoreLib, Version=4.0.0.0, Culture=neutral, PublicKeyToken=7cec85d7bea7798e",
                                    "dataTypeName": "varchar"
                                },
                                {
                                    "isBytes": false,
                                    "isChars": true,
                                    "isSqlVariant": false,
                                    "isUdt": false,
                                    "isXml": false,
                                    "isJson": false,
                                    "sqlDbType": 22,
                                    "isHierarchyId": false,
                                    "isSqlXmlType": false,
                                    "isUnknownType": false,
                                    "isUpdatable": true,
                                    "allowDBNull": false,
                                    "baseCatalogName": null,
                                    "baseColumnName": null,
                                    "baseSchemaName": null,
                                    "baseServerName": null,
                                    "baseTableName": null,
                                    "columnName": "sec_id",
                                    "columnOrdinal": 1,
                                    "columnSize": 8,
                                    "isAliased": null,
                                    "isAutoIncrement": false,
                                    "isExpression": null,
                                    "isHidden": null,
                                    "isIdentity": false,
                                    "isKey": null,
                                    "isLong": false,
                                    "isReadOnly": false,
                                    "isUnique": false,
                                    "numericPrecision": 255,
                                    "numericScale": 255,
                                    "udtAssemblyQualifiedName": null,
                                    "dataType": "System.String, System.Private.CoreLib, Version=4.0.0.0, Culture=neutral, PublicKeyToken=7cec85d7bea7798e",
                                    "dataTypeName": "varchar"
                                },
                                {
                                    "isBytes": false,
                                    "isChars": true,
                                    "isSqlVariant": false,
                                    "isUdt": false,
                                    "isXml": false,
                                    "isJson": false,
                                    "sqlDbType": 22,
                                    "isHierarchyId": false,
                                    "isSqlXmlType": false,
                                    "isUnknownType": false,
                                    "isUpdatable": true,
                                    "allowDBNull": true,
                                    "baseCatalogName": null,
                                    "baseColumnName": null,
                                    "baseSchemaName": null,
                                    "baseServerName": null,
                                    "baseTableName": null,
                                    "columnName": "ID",
                                    "columnOrdinal": 2,
                                    "columnSize": 5,
                                    "isAliased": null,
                                    "isAutoIncrement": false,
                                    "isExpression": null,
                                    "isHidden": null,
                                    "isIdentity": false,
                                    "isKey": null,
                                    "isLong": false,
                                    "isReadOnly": false,
                                    "isUnique": false,
                                    "numericPrecision": 255,
                                    "numericScale": 255,
                                    "udtAssemblyQualifiedName": null,
                                    "dataType": "System.String, System.Private.CoreLib, Version=4.0.0.0, Culture=neutral, PublicKeyToken=7cec85d7bea7798e",
                                    "dataTypeName": "varchar"
                                },
                                {
                                    "isBytes": false,
                                    "isChars": true,
                                    "isSqlVariant": false,
                                    "isUdt": false,
                                    "isXml": false,
                                    "isJson": false,
                                    "sqlDbType": 22,
                                    "isHierarchyId": false,
                                    "isSqlXmlType": false,
                                    "isUnknownType": false,
                                    "isUpdatable": false,
                                    "allowDBNull": true,
                                    "baseCatalogName": null,
                                    "baseColumnName": null,
                                    "baseSchemaName": null,
                                    "baseServerName": null,
                                    "baseTableName": null,
                                    "columnName": "instructor_name",
                                    "columnOrdinal": 3,
                                    "columnSize": 20,
                                    "isAliased": null,
                                    "isAutoIncrement": false,
                                    "isExpression": null,
                                    "isHidden": null,
                                    "isIdentity": false,
                                    "isKey": null,
                                    "isLong": false,
                                    "isReadOnly": true,
                                    "isUnique": false,
                                    "numericPrecision": 255,
                                    "numericScale": 255,
                                    "udtAssemblyQualifiedName": null,
                                    "dataType": "System.String, System.Private.CoreLib, Version=4.0.0.0, Culture=neutral, PublicKeyToken=7cec85d7bea7798e",
                                    "dataTypeName": "varchar"
                                }
                            ],
                            "specialAction": {
                                "none": true,
                                "expectYukonXMLShowPlan": false
                            }
                        }
                    }
                }
            ],
            "execution_count": 14
        },
        {
            "cell_type": "markdown",
            "source": [
                "d) Display the lsit of all departments, with the total number of instructors in each department, without using subqueries. Make sure to show departments that have no instructors and list those departments with an instructor count of zero."
            ],
            "metadata": {
                "azdata_cell_guid": "9f5795e1-f6df-4c64-b3bf-02cef1220d53"
            }
        },
        {
            "cell_type": "code",
            "source": [
                "SELECT department.dept_name, COUNT(instructor.ID) AS instructor_n\n",
                "FROM department LEFT OUTER JOIN instructor ON department.dept_name = instructor.dept_name\n",
                "GROUP BY department.dept_name;\n",
                "GO"
            ],
            "metadata": {
                "azdata_cell_guid": "b1078d7f-a78e-4695-ad99-1cdec69882b0"
            },
            "outputs": [
                {
                    "output_type": "display_data",
                    "data": {
                        "text/html": "(20 rows affected)"
                    },
                    "metadata": {}
                },
                {
                    "output_type": "display_data",
                    "data": {
                        "text/html": "Total execution time: 00:00:00.007"
                    },
                    "metadata": {}
                },
                {
                    "output_type": "execute_result",
                    "execution_count": 15,
                    "data": {
                        "application/vnd.dataresource+json": {
                            "schema": {
                                "fields": [
                                    {
                                        "name": "dept_name"
                                    },
                                    {
                                        "name": "instructor_n"
                                    }
                                ]
                            },
                            "data": [
                                {
                                    "0": "Accounting",
                                    "1": "18"
                                },
                                {
                                    "0": "Astronomy",
                                    "1": "24"
                                },
                                {
                                    "0": "Athletics",
                                    "1": "31"
                                },
                                {
                                    "0": "Biology",
                                    "1": "28"
                                },
                                {
                                    "0": "Civil Eng.",
                                    "1": "23"
                                },
                                {
                                    "0": "Comp. Sci.",
                                    "1": "26"
                                },
                                {
                                    "0": "Cybernetics",
                                    "1": "25"
                                },
                                {
                                    "0": "Elec. Eng.",
                                    "1": "26"
                                },
                                {
                                    "0": "English",
                                    "1": "27"
                                },
                                {
                                    "0": "Finance",
                                    "1": "23"
                                },
                                {
                                    "0": "Geology",
                                    "1": "25"
                                },
                                {
                                    "0": "History",
                                    "1": "30"
                                },
                                {
                                    "0": "Languages",
                                    "1": "28"
                                },
                                {
                                    "0": "Marketing",
                                    "1": "27"
                                },
                                {
                                    "0": "Math",
                                    "1": "21"
                                },
                                {
                                    "0": "Mech. Eng.",
                                    "1": "26"
                                },
                                {
                                    "0": "Physics",
                                    "1": "25"
                                },
                                {
                                    "0": "Pol. Sci.",
                                    "1": "26"
                                },
                                {
                                    "0": "Psychology",
                                    "1": "23"
                                },
                                {
                                    "0": "Statistics",
                                    "1": "31"
                                }
                            ]
                        },
                        "text/html": "<table><tr><th>dept_name</th><th>instructor_n</th></tr><tr><td>Accounting</td><td>18</td></tr><tr><td>Astronomy</td><td>24</td></tr><tr><td>Athletics</td><td>31</td></tr><tr><td>Biology</td><td>28</td></tr><tr><td>Civil Eng.</td><td>23</td></tr><tr><td>Comp. Sci.</td><td>26</td></tr><tr><td>Cybernetics</td><td>25</td></tr><tr><td>Elec. Eng.</td><td>26</td></tr><tr><td>English</td><td>27</td></tr><tr><td>Finance</td><td>23</td></tr><tr><td>Geology</td><td>25</td></tr><tr><td>History</td><td>30</td></tr><tr><td>Languages</td><td>28</td></tr><tr><td>Marketing</td><td>27</td></tr><tr><td>Math</td><td>21</td></tr><tr><td>Mech. Eng.</td><td>26</td></tr><tr><td>Physics</td><td>25</td></tr><tr><td>Pol. Sci.</td><td>26</td></tr><tr><td>Psychology</td><td>23</td></tr><tr><td>Statistics</td><td>31</td></tr></table>"
                    },
                    "metadata": {
                        "resultSet": {
                            "id": 0,
                            "batchId": 0,
                            "rowCount": 20,
                            "complete": true,
                            "columnInfo": [
                                {
                                    "isBytes": false,
                                    "isChars": true,
                                    "isSqlVariant": false,
                                    "isUdt": false,
                                    "isXml": false,
                                    "isJson": false,
                                    "sqlDbType": 22,
                                    "isHierarchyId": false,
                                    "isSqlXmlType": false,
                                    "isUnknownType": false,
                                    "isUpdatable": true,
                                    "allowDBNull": false,
                                    "baseCatalogName": null,
                                    "baseColumnName": null,
                                    "baseSchemaName": null,
                                    "baseServerName": null,
                                    "baseTableName": null,
                                    "columnName": "dept_name",
                                    "columnOrdinal": 0,
                                    "columnSize": 20,
                                    "isAliased": null,
                                    "isAutoIncrement": false,
                                    "isExpression": null,
                                    "isHidden": null,
                                    "isIdentity": false,
                                    "isKey": null,
                                    "isLong": false,
                                    "isReadOnly": false,
                                    "isUnique": false,
                                    "numericPrecision": 255,
                                    "numericScale": 255,
                                    "udtAssemblyQualifiedName": null,
                                    "dataType": "System.String, System.Private.CoreLib, Version=4.0.0.0, Culture=neutral, PublicKeyToken=7cec85d7bea7798e",
                                    "dataTypeName": "varchar"
                                },
                                {
                                    "isBytes": false,
                                    "isChars": false,
                                    "isSqlVariant": false,
                                    "isUdt": false,
                                    "isXml": false,
                                    "isJson": false,
                                    "sqlDbType": 8,
                                    "isHierarchyId": false,
                                    "isSqlXmlType": false,
                                    "isUnknownType": false,
                                    "isUpdatable": false,
                                    "allowDBNull": true,
                                    "baseCatalogName": null,
                                    "baseColumnName": null,
                                    "baseSchemaName": null,
                                    "baseServerName": null,
                                    "baseTableName": null,
                                    "columnName": "instructor_n",
                                    "columnOrdinal": 1,
                                    "columnSize": 4,
                                    "isAliased": null,
                                    "isAutoIncrement": false,
                                    "isExpression": null,
                                    "isHidden": null,
                                    "isIdentity": false,
                                    "isKey": null,
                                    "isLong": false,
                                    "isReadOnly": true,
                                    "isUnique": false,
                                    "numericPrecision": 10,
                                    "numericScale": 255,
                                    "udtAssemblyQualifiedName": null,
                                    "dataType": "System.Int32, System.Private.CoreLib, Version=4.0.0.0, Culture=neutral, PublicKeyToken=7cec85d7bea7798e",
                                    "dataTypeName": "int"
                                }
                            ],
                            "specialAction": {
                                "none": true,
                                "expectYukonXMLShowPlan": false
                            }
                        }
                    }
                }
            ],
            "execution_count": 15
        },
        {
            "cell_type": "markdown",
            "source": [
                "## Exercise from class\n",
                "\n",
                "Be sure to run ``scripts/Create_PhotoSharing.sql`` and ``scripts/PhotoSharing_LoadRandomData.sql`` before doing the exercise.\n",
                "\n",
                "The database in a nutshell\n",
                ""
            ],
            "metadata": {
                "azdata_cell_guid": "c8531a5e-b502-4f2c-bb82-b387ba2877c4"
            }
        },
        {
            "cell_type": "code",
            "source": [
                "USE PhotoSharing;\n",
                "GO\n",
                "\n",
                "SELECT TABLE_NAME, COLUMN_NAME FROM INFORMATION_SCHEMA.COLUMNS;\n",
                "GO"
            ],
            "metadata": {
                "azdata_cell_guid": "79e0e563-6744-426f-8977-c9483eff2b24"
            },
            "outputs": [
                {
                    "output_type": "display_data",
                    "data": {
                        "text/html": "Commands completed successfully."
                    },
                    "metadata": {}
                },
                {
                    "output_type": "display_data",
                    "data": {
                        "text/html": "(10 rows affected)"
                    },
                    "metadata": {}
                },
                {
                    "output_type": "display_data",
                    "data": {
                        "text/html": "Total execution time: 00:00:00.032"
                    },
                    "metadata": {}
                },
                {
                    "output_type": "execute_result",
                    "execution_count": 17,
                    "data": {
                        "application/vnd.dataresource+json": {
                            "schema": {
                                "fields": [
                                    {
                                        "name": "TABLE_NAME"
                                    },
                                    {
                                        "name": "COLUMN_NAME"
                                    }
                                ]
                            },
                            "data": [
                                {
                                    "0": "COMMENT",
                                    "1": "CID"
                                },
                                {
                                    "0": "COMMENT",
                                    "1": "PID"
                                },
                                {
                                    "0": "COMMENT",
                                    "1": "SCORE"
                                },
                                {
                                    "0": "COMMENT",
                                    "1": "TXT"
                                },
                                {
                                    "0": "COMMENT",
                                    "1": "UID"
                                },
                                {
                                    "0": "PICTURE",
                                    "1": "AUTHOR"
                                },
                                {
                                    "0": "PICTURE",
                                    "1": "IMG"
                                },
                                {
                                    "0": "PICTURE",
                                    "1": "PID"
                                },
                                {
                                    "0": "USERS",
                                    "1": "NAME"
                                },
                                {
                                    "0": "USERS",
                                    "1": "UID"
                                }
                            ]
                        },
                        "text/html": "<table><tr><th>TABLE_NAME</th><th>COLUMN_NAME</th></tr><tr><td>COMMENT</td><td>CID</td></tr><tr><td>COMMENT</td><td>PID</td></tr><tr><td>COMMENT</td><td>SCORE</td></tr><tr><td>COMMENT</td><td>TXT</td></tr><tr><td>COMMENT</td><td>UID</td></tr><tr><td>PICTURE</td><td>AUTHOR</td></tr><tr><td>PICTURE</td><td>IMG</td></tr><tr><td>PICTURE</td><td>PID</td></tr><tr><td>USERS</td><td>NAME</td></tr><tr><td>USERS</td><td>UID</td></tr></table>"
                    },
                    "metadata": {
                        "resultSet": {
                            "id": 0,
                            "batchId": 1,
                            "rowCount": 10,
                            "complete": true,
                            "columnInfo": [
                                {
                                    "isBytes": false,
                                    "isChars": true,
                                    "isSqlVariant": false,
                                    "isUdt": false,
                                    "isXml": false,
                                    "isJson": false,
                                    "sqlDbType": 12,
                                    "isHierarchyId": false,
                                    "isSqlXmlType": false,
                                    "isUnknownType": false,
                                    "isUpdatable": true,
                                    "allowDBNull": false,
                                    "baseCatalogName": null,
                                    "baseColumnName": null,
                                    "baseSchemaName": null,
                                    "baseServerName": null,
                                    "baseTableName": null,
                                    "columnName": "TABLE_NAME",
                                    "columnOrdinal": 0,
                                    "columnSize": 128,
                                    "isAliased": null,
                                    "isAutoIncrement": false,
                                    "isExpression": null,
                                    "isHidden": null,
                                    "isIdentity": false,
                                    "isKey": null,
                                    "isLong": false,
                                    "isReadOnly": false,
                                    "isUnique": false,
                                    "numericPrecision": 255,
                                    "numericScale": 255,
                                    "udtAssemblyQualifiedName": null,
                                    "dataType": "System.String, System.Private.CoreLib, Version=4.0.0.0, Culture=neutral, PublicKeyToken=7cec85d7bea7798e",
                                    "dataTypeName": "nvarchar"
                                },
                                {
                                    "isBytes": false,
                                    "isChars": true,
                                    "isSqlVariant": false,
                                    "isUdt": false,
                                    "isXml": false,
                                    "isJson": false,
                                    "sqlDbType": 12,
                                    "isHierarchyId": false,
                                    "isSqlXmlType": false,
                                    "isUnknownType": false,
                                    "isUpdatable": true,
                                    "allowDBNull": true,
                                    "baseCatalogName": null,
                                    "baseColumnName": null,
                                    "baseSchemaName": null,
                                    "baseServerName": null,
                                    "baseTableName": null,
                                    "columnName": "COLUMN_NAME",
                                    "columnOrdinal": 1,
                                    "columnSize": 128,
                                    "isAliased": null,
                                    "isAutoIncrement": false,
                                    "isExpression": null,
                                    "isHidden": null,
                                    "isIdentity": false,
                                    "isKey": null,
                                    "isLong": false,
                                    "isReadOnly": false,
                                    "isUnique": false,
                                    "numericPrecision": 255,
                                    "numericScale": 255,
                                    "udtAssemblyQualifiedName": null,
                                    "dataType": "System.String, System.Private.CoreLib, Version=4.0.0.0, Culture=neutral, PublicKeyToken=7cec85d7bea7798e",
                                    "dataTypeName": "nvarchar"
                                }
                            ],
                            "specialAction": {
                                "none": true,
                                "expectYukonXMLShowPlan": false
                            }
                        }
                    }
                }
            ],
            "execution_count": 17
        },
        {
            "cell_type": "markdown",
            "source": [
                "1.\n",
                "\n",
                "a) Write a SQL query that returns all users who have given a score of 4 or higher to 5 pictures or more. For each user, your query should return the user ID and the name."
            ],
            "metadata": {
                "azdata_cell_guid": "b6fe5214-388c-4828-9f86-28debfd45b8e"
            }
        },
        {
            "cell_type": "code",
            "source": [
                "-- with join clause\n",
                "select USERS.[NAME], USERS.UID\n",
                "from USERS left join COMMENT on USERS.UID = COMMENT.UID\n",
                "where COMMENT.SCORE >= 4 \n",
                "GROUP BY USERS.[NAME], USERS.UID\n",
                "HAVING COUNT(*) >= 5;\n",
                "\n",
                "-- without\n",
                "select USERS.[NAME], USERS.UID\n",
                "from USERS, COMMENT\n",
                "where COMMENT.SCORE >= 4 AND USERS.UID = COMMENT.UID\n",
                "GROUP BY USERS.[NAME], USERS.UID\n",
                "HAVING COUNT(*) >= 5;\n",
                ""
            ],
            "metadata": {
                "azdata_cell_guid": "2b05cdb0-c42f-4dec-b34a-4fcc449a4e02"
            },
            "outputs": [
                {
                    "output_type": "display_data",
                    "data": {
                        "text/html": "(3 rows affected)"
                    },
                    "metadata": {}
                },
                {
                    "output_type": "display_data",
                    "data": {
                        "text/html": "(3 rows affected)"
                    },
                    "metadata": {}
                },
                {
                    "output_type": "display_data",
                    "data": {
                        "text/html": "Total execution time: 00:00:00.010"
                    },
                    "metadata": {}
                },
                {
                    "output_type": "execute_result",
                    "execution_count": 29,
                    "data": {
                        "application/vnd.dataresource+json": {
                            "schema": {
                                "fields": [
                                    {
                                        "name": "NAME"
                                    },
                                    {
                                        "name": "UID"
                                    }
                                ]
                            },
                            "data": [
                                {
                                    "0": "Zephr L. Sheppard",
                                    "1": "27"
                                },
                                {
                                    "0": "Galvin T. Oneal",
                                    "1": "28"
                                },
                                {
                                    "0": "Vincent C. Sheppard",
                                    "1": "84"
                                }
                            ]
                        },
                        "text/html": "<table><tr><th>NAME</th><th>UID</th></tr><tr><td>Zephr L. Sheppard</td><td>27</td></tr><tr><td>Galvin T. Oneal</td><td>28</td></tr><tr><td>Vincent C. Sheppard</td><td>84</td></tr></table>"
                    },
                    "metadata": {
                        "resultSet": {
                            "id": 0,
                            "batchId": 0,
                            "rowCount": 3,
                            "complete": true,
                            "columnInfo": [
                                {
                                    "isBytes": false,
                                    "isChars": true,
                                    "isSqlVariant": false,
                                    "isUdt": false,
                                    "isXml": false,
                                    "isJson": false,
                                    "sqlDbType": 12,
                                    "isHierarchyId": false,
                                    "isSqlXmlType": false,
                                    "isUnknownType": false,
                                    "isUpdatable": true,
                                    "allowDBNull": false,
                                    "baseCatalogName": null,
                                    "baseColumnName": null,
                                    "baseSchemaName": null,
                                    "baseServerName": null,
                                    "baseTableName": null,
                                    "columnName": "NAME",
                                    "columnOrdinal": 0,
                                    "columnSize": 50,
                                    "isAliased": null,
                                    "isAutoIncrement": false,
                                    "isExpression": null,
                                    "isHidden": null,
                                    "isIdentity": false,
                                    "isKey": null,
                                    "isLong": false,
                                    "isReadOnly": false,
                                    "isUnique": false,
                                    "numericPrecision": 255,
                                    "numericScale": 255,
                                    "udtAssemblyQualifiedName": null,
                                    "dataType": "System.String, System.Private.CoreLib, Version=4.0.0.0, Culture=neutral, PublicKeyToken=7cec85d7bea7798e",
                                    "dataTypeName": "nvarchar"
                                },
                                {
                                    "isBytes": false,
                                    "isChars": false,
                                    "isSqlVariant": false,
                                    "isUdt": false,
                                    "isXml": false,
                                    "isJson": false,
                                    "sqlDbType": 16,
                                    "isHierarchyId": false,
                                    "isSqlXmlType": false,
                                    "isUnknownType": false,
                                    "isUpdatable": true,
                                    "allowDBNull": false,
                                    "baseCatalogName": null,
                                    "baseColumnName": null,
                                    "baseSchemaName": null,
                                    "baseServerName": null,
                                    "baseTableName": null,
                                    "columnName": "UID",
                                    "columnOrdinal": 1,
                                    "columnSize": 2,
                                    "isAliased": null,
                                    "isAutoIncrement": false,
                                    "isExpression": null,
                                    "isHidden": null,
                                    "isIdentity": false,
                                    "isKey": null,
                                    "isLong": false,
                                    "isReadOnly": false,
                                    "isUnique": false,
                                    "numericPrecision": 5,
                                    "numericScale": 255,
                                    "udtAssemblyQualifiedName": null,
                                    "dataType": "System.Int16, System.Private.CoreLib, Version=4.0.0.0, Culture=neutral, PublicKeyToken=7cec85d7bea7798e",
                                    "dataTypeName": "smallint"
                                }
                            ],
                            "specialAction": {
                                "none": true,
                                "expectYukonXMLShowPlan": false
                            }
                        }
                    }
                },
                {
                    "output_type": "execute_result",
                    "execution_count": 29,
                    "data": {
                        "application/vnd.dataresource+json": {
                            "schema": {
                                "fields": [
                                    {
                                        "name": "NAME"
                                    },
                                    {
                                        "name": "UID"
                                    }
                                ]
                            },
                            "data": [
                                {
                                    "0": "Zephr L. Sheppard",
                                    "1": "27"
                                },
                                {
                                    "0": "Galvin T. Oneal",
                                    "1": "28"
                                },
                                {
                                    "0": "Vincent C. Sheppard",
                                    "1": "84"
                                }
                            ]
                        },
                        "text/html": "<table><tr><th>NAME</th><th>UID</th></tr><tr><td>Zephr L. Sheppard</td><td>27</td></tr><tr><td>Galvin T. Oneal</td><td>28</td></tr><tr><td>Vincent C. Sheppard</td><td>84</td></tr></table>"
                    },
                    "metadata": {
                        "resultSet": {
                            "id": 1,
                            "batchId": 0,
                            "rowCount": 3,
                            "complete": true,
                            "columnInfo": [
                                {
                                    "isBytes": false,
                                    "isChars": true,
                                    "isSqlVariant": false,
                                    "isUdt": false,
                                    "isXml": false,
                                    "isJson": false,
                                    "sqlDbType": 12,
                                    "isHierarchyId": false,
                                    "isSqlXmlType": false,
                                    "isUnknownType": false,
                                    "isUpdatable": true,
                                    "allowDBNull": false,
                                    "baseCatalogName": null,
                                    "baseColumnName": null,
                                    "baseSchemaName": null,
                                    "baseServerName": null,
                                    "baseTableName": null,
                                    "columnName": "NAME",
                                    "columnOrdinal": 0,
                                    "columnSize": 50,
                                    "isAliased": null,
                                    "isAutoIncrement": false,
                                    "isExpression": null,
                                    "isHidden": null,
                                    "isIdentity": false,
                                    "isKey": null,
                                    "isLong": false,
                                    "isReadOnly": false,
                                    "isUnique": false,
                                    "numericPrecision": 255,
                                    "numericScale": 255,
                                    "udtAssemblyQualifiedName": null,
                                    "dataType": "System.String, System.Private.CoreLib, Version=4.0.0.0, Culture=neutral, PublicKeyToken=7cec85d7bea7798e",
                                    "dataTypeName": "nvarchar"
                                },
                                {
                                    "isBytes": false,
                                    "isChars": false,
                                    "isSqlVariant": false,
                                    "isUdt": false,
                                    "isXml": false,
                                    "isJson": false,
                                    "sqlDbType": 16,
                                    "isHierarchyId": false,
                                    "isSqlXmlType": false,
                                    "isUnknownType": false,
                                    "isUpdatable": true,
                                    "allowDBNull": false,
                                    "baseCatalogName": null,
                                    "baseColumnName": null,
                                    "baseSchemaName": null,
                                    "baseServerName": null,
                                    "baseTableName": null,
                                    "columnName": "UID",
                                    "columnOrdinal": 1,
                                    "columnSize": 2,
                                    "isAliased": null,
                                    "isAutoIncrement": false,
                                    "isExpression": null,
                                    "isHidden": null,
                                    "isIdentity": false,
                                    "isKey": null,
                                    "isLong": false,
                                    "isReadOnly": false,
                                    "isUnique": false,
                                    "numericPrecision": 5,
                                    "numericScale": 255,
                                    "udtAssemblyQualifiedName": null,
                                    "dataType": "System.Int16, System.Private.CoreLib, Version=4.0.0.0, Culture=neutral, PublicKeyToken=7cec85d7bea7798e",
                                    "dataTypeName": "smallint"
                                }
                            ],
                            "specialAction": {
                                "none": true,
                                "expectYukonXMLShowPlan": false
                            }
                        }
                    }
                }
            ],
            "execution_count": 29
        },
        {
            "cell_type": "markdown",
            "source": [
                "b) A picture is considered highly rated if it received at least one score of 5 from a user other than its author. A caustious user is a user who commented only on highly rated pictures. A user who did not comment at all is also cautious. Write a SQL query that finds all cautious users. Your query should return a list of uid, name pairs."
            ],
            "metadata": {
                "azdata_cell_guid": "626ba0fc-7e8a-4e2a-89ce-302ac407227b"
            }
        },
        {
            "cell_type": "code",
            "source": [
                "-- users which commented only on highly rated pictures (solution with subqueries)\n",
                "select distinct USERS.[NAME], USERS.UID\n",
                "from USERS right outer join COMMENT on USERS.UID = COMMENT.UID\n",
                "-- subquery for all picture ids which have more than 1 ratings of 5\n",
                "where COMMENT.PID in ( \n",
                "    select COMMENT.PID\n",
                "    from COMMENT, PICTURE\n",
                "    where COMMENT.SCORE = 5 and COMMENT.PID = PICTURE.PID\n",
                "    group by COMMENT.PID\n",
                "    having count(*) > 1\n",
                ")\n",
                "-- union of the sets\n",
                "union \n",
                "-- users who did not comment\n",
                "select distinct USERS.[NAME], USERS.UID\n",
                "from USERS, COMMENT\n",
                "where USERS.UID not in (select COMMENT.UID from COMMENT); "
            ],
            "metadata": {
                "azdata_cell_guid": "8b778919-48fc-4037-9874-4ac1e7a895c7"
            },
            "outputs": [
                {
                    "output_type": "display_data",
                    "data": {
                        "text/html": "(24 rows affected)"
                    },
                    "metadata": {}
                },
                {
                    "output_type": "display_data",
                    "data": {
                        "text/html": "Total execution time: 00:00:00.017"
                    },
                    "metadata": {}
                },
                {
                    "output_type": "execute_result",
                    "execution_count": 44,
                    "data": {
                        "application/vnd.dataresource+json": {
                            "schema": {
                                "fields": [
                                    {
                                        "name": "NAME"
                                    },
                                    {
                                        "name": "UID"
                                    }
                                ]
                            },
                            "data": [
                                {
                                    "0": "Devin L. Boyd",
                                    "1": "1"
                                },
                                {
                                    "0": "Sloane F. Weaver",
                                    "1": "12"
                                },
                                {
                                    "0": "Courtney W. Bush",
                                    "1": "18"
                                },
                                {
                                    "0": "Kiona U. Avery",
                                    "1": "19"
                                },
                                {
                                    "0": "Elijah U. Hamilton",
                                    "1": "23"
                                },
                                {
                                    "0": "Zephr L. Sheppard",
                                    "1": "27"
                                },
                                {
                                    "0": "Chelsea V. Stokes",
                                    "1": "39"
                                },
                                {
                                    "0": "Mollie T. Levy",
                                    "1": "40"
                                },
                                {
                                    "0": "Malachi P. Pate",
                                    "1": "41"
                                },
                                {
                                    "0": "Adena E. Burch",
                                    "1": "48"
                                },
                                {
                                    "0": "Kirsten Q. Noble",
                                    "1": "56"
                                },
                                {
                                    "0": "Clinton P. Luna",
                                    "1": "59"
                                },
                                {
                                    "0": "Geraldine J. Blanchard",
                                    "1": "61"
                                },
                                {
                                    "0": "Audrey M. Luna",
                                    "1": "68"
                                },
                                {
                                    "0": "Iliana J. Kane",
                                    "1": "70"
                                },
                                {
                                    "0": "Gregory P. Snider",
                                    "1": "73"
                                },
                                {
                                    "0": "Aaron Y. George",
                                    "1": "82"
                                },
                                {
                                    "0": "Chaim O. Anderson",
                                    "1": "83"
                                },
                                {
                                    "0": "Vincent C. Sheppard",
                                    "1": "84"
                                },
                                {
                                    "0": "Nerea W. Miranda",
                                    "1": "87"
                                },
                                {
                                    "0": "Zenia G. Richardson",
                                    "1": "88"
                                },
                                {
                                    "0": "Kieran X. Cohen",
                                    "1": "89"
                                },
                                {
                                    "0": "Reed N. Nolan",
                                    "1": "93"
                                },
                                {
                                    "0": "Rae H. Hodges",
                                    "1": "99"
                                }
                            ]
                        },
                        "text/html": "<table><tr><th>NAME</th><th>UID</th></tr><tr><td>Devin L. Boyd</td><td>1</td></tr><tr><td>Sloane F. Weaver</td><td>12</td></tr><tr><td>Courtney W. Bush</td><td>18</td></tr><tr><td>Kiona U. Avery</td><td>19</td></tr><tr><td>Elijah U. Hamilton</td><td>23</td></tr><tr><td>Zephr L. Sheppard</td><td>27</td></tr><tr><td>Chelsea V. Stokes</td><td>39</td></tr><tr><td>Mollie T. Levy</td><td>40</td></tr><tr><td>Malachi P. Pate</td><td>41</td></tr><tr><td>Adena E. Burch</td><td>48</td></tr><tr><td>Kirsten Q. Noble</td><td>56</td></tr><tr><td>Clinton P. Luna</td><td>59</td></tr><tr><td>Geraldine J. Blanchard</td><td>61</td></tr><tr><td>Audrey M. Luna</td><td>68</td></tr><tr><td>Iliana J. Kane</td><td>70</td></tr><tr><td>Gregory P. Snider</td><td>73</td></tr><tr><td>Aaron Y. George</td><td>82</td></tr><tr><td>Chaim O. Anderson</td><td>83</td></tr><tr><td>Vincent C. Sheppard</td><td>84</td></tr><tr><td>Nerea W. Miranda</td><td>87</td></tr><tr><td>Zenia G. Richardson</td><td>88</td></tr><tr><td>Kieran X. Cohen</td><td>89</td></tr><tr><td>Reed N. Nolan</td><td>93</td></tr><tr><td>Rae H. Hodges</td><td>99</td></tr></table>"
                    },
                    "metadata": {
                        "resultSet": {
                            "id": 0,
                            "batchId": 0,
                            "rowCount": 24,
                            "complete": true,
                            "columnInfo": [
                                {
                                    "isBytes": false,
                                    "isChars": true,
                                    "isSqlVariant": false,
                                    "isUdt": false,
                                    "isXml": false,
                                    "isJson": false,
                                    "sqlDbType": 12,
                                    "isHierarchyId": false,
                                    "isSqlXmlType": false,
                                    "isUnknownType": false,
                                    "isUpdatable": false,
                                    "allowDBNull": true,
                                    "baseCatalogName": null,
                                    "baseColumnName": null,
                                    "baseSchemaName": null,
                                    "baseServerName": null,
                                    "baseTableName": null,
                                    "columnName": "NAME",
                                    "columnOrdinal": 0,
                                    "columnSize": 50,
                                    "isAliased": null,
                                    "isAutoIncrement": false,
                                    "isExpression": null,
                                    "isHidden": null,
                                    "isIdentity": false,
                                    "isKey": null,
                                    "isLong": false,
                                    "isReadOnly": true,
                                    "isUnique": false,
                                    "numericPrecision": 255,
                                    "numericScale": 255,
                                    "udtAssemblyQualifiedName": null,
                                    "dataType": "System.String, System.Private.CoreLib, Version=4.0.0.0, Culture=neutral, PublicKeyToken=7cec85d7bea7798e",
                                    "dataTypeName": "nvarchar"
                                },
                                {
                                    "isBytes": false,
                                    "isChars": false,
                                    "isSqlVariant": false,
                                    "isUdt": false,
                                    "isXml": false,
                                    "isJson": false,
                                    "sqlDbType": 16,
                                    "isHierarchyId": false,
                                    "isSqlXmlType": false,
                                    "isUnknownType": false,
                                    "isUpdatable": false,
                                    "allowDBNull": true,
                                    "baseCatalogName": null,
                                    "baseColumnName": null,
                                    "baseSchemaName": null,
                                    "baseServerName": null,
                                    "baseTableName": null,
                                    "columnName": "UID",
                                    "columnOrdinal": 1,
                                    "columnSize": 2,
                                    "isAliased": null,
                                    "isAutoIncrement": false,
                                    "isExpression": null,
                                    "isHidden": null,
                                    "isIdentity": false,
                                    "isKey": null,
                                    "isLong": false,
                                    "isReadOnly": true,
                                    "isUnique": false,
                                    "numericPrecision": 5,
                                    "numericScale": 255,
                                    "udtAssemblyQualifiedName": null,
                                    "dataType": "System.Int16, System.Private.CoreLib, Version=4.0.0.0, Culture=neutral, PublicKeyToken=7cec85d7bea7798e",
                                    "dataTypeName": "smallint"
                                }
                            ],
                            "specialAction": {
                                "none": true,
                                "expectYukonXMLShowPlan": false
                            }
                        }
                    }
                }
            ],
            "execution_count": 44
        },
        {
            "cell_type": "markdown",
            "source": [
                "2. A hacker found a way to break into the system and ran the following commands\n",
                "\n",
                "```\n",
                "insert into Comment(uid, pid, score, txt)\n",
                "select x.uid, y.pid, 0 as score, 'worst picture I ever saw' as txt\n",
                "from Users x, Picture y\n",
                "where x.uid = y.author;\n",
                "update Picture\n",
                "set author = (select top 1 x.uid\n",
                "from Comment x\n",
                "where x.pid = Picture.pid\n",
                "order by x.score desc);\n",
                "\n",
                "```\n",
                "\n",
                "b) Your task is to repair the database writing a set of SQL commands that put it in its original state knowing that there were no backups before the hackers intrusion. Use INSERT/UPDATE/DELETE COMMANDS knowing that previously the scores were between 1 and 5."
            ],
            "metadata": {
                "azdata_cell_guid": "b05dde74-c6a4-4276-8725-c0940d65b7be"
            }
        },
        {
            "cell_type": "code",
            "source": [
                "-- n rows with score = 0\n",
                "select COUNT(*)\n",
                "from COMMENT\n",
                "where COMMENT.SCORE = 0;\n",
                "\n",
                "-- author ids messed up are the same as those with score 0\n",
                "update PICTURE\n",
                "\tset author =\n",
                "\t\t(select COMMENT.uid\n",
                "\t\t from COMMENT, PICTURE\n",
                "\t\t where COMMENT.score = 0 and COMMENT.pid = PICTURE.pid\n",
                "\t\t);\n",
                "\n",
                "-- Removing the data added by the hacker\n",
                "delete from COMMENT\n",
                "    where COMMENT.SCORE = 0;\n",
                "\n",
                "-- Check\n",
                "select COUNT(*)\n",
                "from COMMENT\n",
                "where COMMENT.SCORE = 0;"
            ],
            "metadata": {
                "azdata_cell_guid": "ab1ca792-2c27-4eb9-a482-160afd3ff864"
            },
            "outputs": [
                {
                    "output_type": "display_data",
                    "data": {
                        "text/html": "(1 row affected)"
                    },
                    "metadata": {}
                },
                {
                    "output_type": "display_data",
                    "data": {
                        "text/html": "The statement has been terminated."
                    },
                    "metadata": {}
                },
                {
                    "output_type": "display_data",
                    "data": {
                        "text/html": "(250 rows affected)"
                    },
                    "metadata": {}
                },
                {
                    "output_type": "display_data",
                    "data": {
                        "text/html": "(1 row affected)"
                    },
                    "metadata": {}
                },
                {
                    "output_type": "display_data",
                    "data": {
                        "text/html": "Total execution time: 00:00:00.012"
                    },
                    "metadata": {}
                },
                {
                    "output_type": "execute_result",
                    "execution_count": 47,
                    "data": {
                        "application/vnd.dataresource+json": {
                            "schema": {
                                "fields": [
                                    {
                                        "name": "(No column name)"
                                    }
                                ]
                            },
                            "data": [
                                {
                                    "0": "250"
                                }
                            ]
                        },
                        "text/html": "<table><tr><th>(No column name)</th></tr><tr><td>250</td></tr></table>"
                    },
                    "metadata": {
                        "resultSet": {
                            "id": 0,
                            "batchId": 0,
                            "rowCount": 1,
                            "complete": true,
                            "columnInfo": [
                                {
                                    "isBytes": false,
                                    "isChars": false,
                                    "isSqlVariant": false,
                                    "isUdt": false,
                                    "isXml": false,
                                    "isJson": false,
                                    "sqlDbType": 8,
                                    "isHierarchyId": false,
                                    "isSqlXmlType": false,
                                    "isUnknownType": false,
                                    "isUpdatable": false,
                                    "allowDBNull": true,
                                    "baseCatalogName": null,
                                    "baseColumnName": null,
                                    "baseSchemaName": null,
                                    "baseServerName": null,
                                    "baseTableName": null,
                                    "columnName": "(No column name)",
                                    "columnOrdinal": 0,
                                    "columnSize": 4,
                                    "isAliased": null,
                                    "isAutoIncrement": false,
                                    "isExpression": null,
                                    "isHidden": null,
                                    "isIdentity": false,
                                    "isKey": null,
                                    "isLong": false,
                                    "isReadOnly": true,
                                    "isUnique": false,
                                    "numericPrecision": 10,
                                    "numericScale": 255,
                                    "udtAssemblyQualifiedName": null,
                                    "dataType": "System.Int32, System.Private.CoreLib, Version=4.0.0.0, Culture=neutral, PublicKeyToken=7cec85d7bea7798e",
                                    "dataTypeName": "int"
                                }
                            ],
                            "specialAction": {
                                "none": true,
                                "expectYukonXMLShowPlan": false
                            }
                        }
                    }
                },
                {
                    "output_type": "execute_result",
                    "execution_count": 47,
                    "data": {
                        "application/vnd.dataresource+json": {
                            "schema": {
                                "fields": [
                                    {
                                        "name": "(No column name)"
                                    }
                                ]
                            },
                            "data": [
                                {
                                    "0": "0"
                                }
                            ]
                        },
                        "text/html": "<table><tr><th>(No column name)</th></tr><tr><td>0</td></tr></table>"
                    },
                    "metadata": {
                        "resultSet": {
                            "id": 1,
                            "batchId": 0,
                            "rowCount": 1,
                            "complete": true,
                            "columnInfo": [
                                {
                                    "isBytes": false,
                                    "isChars": false,
                                    "isSqlVariant": false,
                                    "isUdt": false,
                                    "isXml": false,
                                    "isJson": false,
                                    "sqlDbType": 8,
                                    "isHierarchyId": false,
                                    "isSqlXmlType": false,
                                    "isUnknownType": false,
                                    "isUpdatable": false,
                                    "allowDBNull": true,
                                    "baseCatalogName": null,
                                    "baseColumnName": null,
                                    "baseSchemaName": null,
                                    "baseServerName": null,
                                    "baseTableName": null,
                                    "columnName": "(No column name)",
                                    "columnOrdinal": 0,
                                    "columnSize": 4,
                                    "isAliased": null,
                                    "isAutoIncrement": false,
                                    "isExpression": null,
                                    "isHidden": null,
                                    "isIdentity": false,
                                    "isKey": null,
                                    "isLong": false,
                                    "isReadOnly": true,
                                    "isUnique": false,
                                    "numericPrecision": 10,
                                    "numericScale": 255,
                                    "udtAssemblyQualifiedName": null,
                                    "dataType": "System.Int32, System.Private.CoreLib, Version=4.0.0.0, Culture=neutral, PublicKeyToken=7cec85d7bea7798e",
                                    "dataTypeName": "int"
                                }
                            ],
                            "specialAction": {
                                "none": true,
                                "expectYukonXMLShowPlan": false
                            }
                        }
                    }
                },
                {
                    "output_type": "error",
                    "ename": "",
                    "evalue": "Msg 512, Level 16, State 1, Line 7\nSubquery returned more than 1 value. This is not permitted when the subquery follows =, !=, <, <= , >, >= or when the subquery is used as an expression.",
                    "traceback": []
                }
            ],
            "execution_count": 47
        },
        {
            "cell_type": "code",
            "source": [
                "USE master;\n",
                "GO\n",
                "-- delete the databases\n",
                "IF EXISTS (SELECT [name] FROM sys.databases WHERE [name] = 'uni')\n",
                "    BEGIN   \n",
                "        -- kill all connections active with the database\n",
                "        ALTER DATABASE uni SET SINGLE_USER WITH ROLLBACK IMMEDIATE\n",
                "        DROP DATABASE uni\n",
                "    END;\n",
                "GO\n",
                "\n",
                "IF EXISTS (SELECT [name] FROM sys.databases WHERE [name] = 'PhotoSharing')\n",
                "    BEGIN\n",
                "        -- kill all connections active with the database\n",
                "        ALTER DATABASE PhotoSharing SET SINGLE_USER WITH ROLLBACK IMMEDIATE\n",
                "        DROP DATABASE PhotoSharing\n",
                "    END;\n",
                "GO\n",
                "-- double-check\n",
                "SELECT [name] FROM sys.databases;\n",
                "GO"
            ],
            "metadata": {
                "azdata_cell_guid": "eab2ca00-a8c3-4a95-ad62-7dfecc07568e"
            },
            "outputs": [
                {
                    "output_type": "display_data",
                    "data": {
                        "text/html": "Commands completed successfully."
                    },
                    "metadata": {}
                },
                {
                    "output_type": "display_data",
                    "data": {
                        "text/html": "Nonqualified transactions are being rolled back. Estimated rollback completion: 0%."
                    },
                    "metadata": {}
                },
                {
                    "output_type": "display_data",
                    "data": {
                        "text/html": "Nonqualified transactions are being rolled back. Estimated rollback completion: 100%."
                    },
                    "metadata": {}
                },
                {
                    "output_type": "display_data",
                    "data": {
                        "text/html": "Nonqualified transactions are being rolled back. Estimated rollback completion: 0%."
                    },
                    "metadata": {}
                },
                {
                    "output_type": "display_data",
                    "data": {
                        "text/html": "Nonqualified transactions are being rolled back. Estimated rollback completion: 100%."
                    },
                    "metadata": {}
                },
                {
                    "output_type": "display_data",
                    "data": {
                        "text/html": "(6 rows affected)"
                    },
                    "metadata": {}
                },
                {
                    "output_type": "display_data",
                    "data": {
                        "text/html": "Total execution time: 00:00:06.377"
                    },
                    "metadata": {}
                },
                {
                    "output_type": "execute_result",
                    "execution_count": 52,
                    "data": {
                        "application/vnd.dataresource+json": {
                            "schema": {
                                "fields": [
                                    {
                                        "name": "name"
                                    }
                                ]
                            },
                            "data": [
                                {
                                    "0": "master"
                                },
                                {
                                    "0": "tempdb"
                                },
                                {
                                    "0": "model"
                                },
                                {
                                    "0": "msdb"
                                },
                                {
                                    "0": "udemy"
                                },
                                {
                                    "0": "dbm_project"
                                }
                            ]
                        },
                        "text/html": "<table><tr><th>name</th></tr><tr><td>master</td></tr><tr><td>tempdb</td></tr><tr><td>model</td></tr><tr><td>msdb</td></tr><tr><td>udemy</td></tr><tr><td>dbm_project</td></tr></table>"
                    },
                    "metadata": {
                        "resultSet": {
                            "id": 0,
                            "batchId": 3,
                            "rowCount": 6,
                            "complete": true,
                            "columnInfo": [
                                {
                                    "isBytes": false,
                                    "isChars": true,
                                    "isSqlVariant": false,
                                    "isUdt": false,
                                    "isXml": false,
                                    "isJson": false,
                                    "sqlDbType": 12,
                                    "isHierarchyId": false,
                                    "isSqlXmlType": false,
                                    "isUnknownType": false,
                                    "isUpdatable": false,
                                    "allowDBNull": true,
                                    "baseCatalogName": null,
                                    "baseColumnName": null,
                                    "baseSchemaName": null,
                                    "baseServerName": null,
                                    "baseTableName": null,
                                    "columnName": "name",
                                    "columnOrdinal": 0,
                                    "columnSize": 128,
                                    "isAliased": null,
                                    "isAutoIncrement": false,
                                    "isExpression": null,
                                    "isHidden": null,
                                    "isIdentity": false,
                                    "isKey": null,
                                    "isLong": false,
                                    "isReadOnly": true,
                                    "isUnique": false,
                                    "numericPrecision": 255,
                                    "numericScale": 255,
                                    "udtAssemblyQualifiedName": null,
                                    "dataType": "System.String, System.Private.CoreLib, Version=4.0.0.0, Culture=neutral, PublicKeyToken=7cec85d7bea7798e",
                                    "dataTypeName": "nvarchar"
                                }
                            ],
                            "specialAction": {
                                "none": true,
                                "expectYukonXMLShowPlan": false
                            }
                        }
                    }
                }
            ],
            "execution_count": 52
        },
        {
            "cell_type": "markdown",
            "source": [
                "### Exercises from class 9: Microcredit - queries\n",
                "\n",
                "Be sure to restore the backup file provided in class, ``data/microcredit.bak``. In my case, the following code, after moving the backup to the location of the server in a new folder, works. This code is auto generated by azure data studio.\n",
                ""
            ],
            "metadata": {
                "azdata_cell_guid": "3c82845a-eec2-464f-8065-ff9f6334f161"
            }
        },
        {
            "cell_type": "code",
            "source": [
                "IF NOT EXISTS (SELECT [name] FROM sys.databases WHERE [name] = 'MICROCREDIT')\n",
                "    BEGIN\n",
                "        -- restore the database from the backup file\n",
                "        USE [master]\n",
                "        BACKUP LOG [MICROCREDIT] TO  DISK = N'/var/opt/mssql/data/MICROCREDIT_LogBackup_2020-12-05_22-01-48.bak' WITH NOFORMAT, NOINIT,  NAME = N'MICROCREDIT_LogBackup_2020-12-05_22-01-48', NOSKIP, NOREWIND, NOUNLOAD,  NORECOVERY ,  STATS = 5\n",
                "        RESTORE DATABASE [MICROCREDIT] FROM  DISK = N'/var/opt/mssql/temp-backups/microcredit.bak' WITH  FILE = 1,  MOVE N'MICROCREDIT' TO N'/var/opt/mssql/data/MICROCREDIT.mdf',  MOVE N'MICROCREDIT_log' TO N'/var/opt/mssql/data/MICROCREDIT_log.ldf',  NOUNLOAD,  STATS = 5\n",
                "    END;\n",
                "GO\n",
                "\n",
                "USE MICROCREDIT;\n",
                "GO\n",
                "\n",
                "SELECT TABLE_NAME, COLUMN_NAME\n",
                "FROM INFORMATION_SCHEMA.COLUMNS;\n",
                "GO\n",
                ""
            ],
            "metadata": {
                "azdata_cell_guid": "5ec61284-6c05-4dc3-9d59-4407d0d5c28a"
            },
            "outputs": [
                {
                    "output_type": "display_data",
                    "data": {
                        "text/html": "Commands completed successfully."
                    },
                    "metadata": {}
                },
                {
                    "output_type": "display_data",
                    "data": {
                        "text/html": "Commands completed successfully."
                    },
                    "metadata": {}
                },
                {
                    "output_type": "display_data",
                    "data": {
                        "text/html": "(40 rows affected)"
                    },
                    "metadata": {}
                },
                {
                    "output_type": "display_data",
                    "data": {
                        "text/html": "Total execution time: 00:00:00.045"
                    },
                    "metadata": {}
                },
                {
                    "output_type": "execute_result",
                    "metadata": {
                        "resultSet": {
                            "id": 0,
                            "batchId": 2,
                            "rowCount": 40,
                            "complete": true,
                            "columnInfo": [
                                {
                                    "isBytes": false,
                                    "isChars": true,
                                    "isSqlVariant": false,
                                    "isUdt": false,
                                    "isXml": false,
                                    "isJson": false,
                                    "sqlDbType": 12,
                                    "isHierarchyId": false,
                                    "isSqlXmlType": false,
                                    "isUnknownType": false,
                                    "isUpdatable": true,
                                    "allowDBNull": false,
                                    "baseCatalogName": null,
                                    "baseColumnName": null,
                                    "baseSchemaName": null,
                                    "baseServerName": null,
                                    "baseTableName": null,
                                    "columnName": "TABLE_NAME",
                                    "columnOrdinal": 0,
                                    "columnSize": 128,
                                    "isAliased": null,
                                    "isAutoIncrement": false,
                                    "isExpression": null,
                                    "isHidden": null,
                                    "isIdentity": false,
                                    "isKey": null,
                                    "isLong": false,
                                    "isReadOnly": false,
                                    "isUnique": false,
                                    "numericPrecision": 255,
                                    "numericScale": 255,
                                    "udtAssemblyQualifiedName": null,
                                    "dataType": "System.String, System.Private.CoreLib, Version=4.0.0.0, Culture=neutral, PublicKeyToken=7cec85d7bea7798e",
                                    "dataTypeName": "nvarchar"
                                },
                                {
                                    "isBytes": false,
                                    "isChars": true,
                                    "isSqlVariant": false,
                                    "isUdt": false,
                                    "isXml": false,
                                    "isJson": false,
                                    "sqlDbType": 12,
                                    "isHierarchyId": false,
                                    "isSqlXmlType": false,
                                    "isUnknownType": false,
                                    "isUpdatable": true,
                                    "allowDBNull": true,
                                    "baseCatalogName": null,
                                    "baseColumnName": null,
                                    "baseSchemaName": null,
                                    "baseServerName": null,
                                    "baseTableName": null,
                                    "columnName": "COLUMN_NAME",
                                    "columnOrdinal": 1,
                                    "columnSize": 128,
                                    "isAliased": null,
                                    "isAutoIncrement": false,
                                    "isExpression": null,
                                    "isHidden": null,
                                    "isIdentity": false,
                                    "isKey": null,
                                    "isLong": false,
                                    "isReadOnly": false,
                                    "isUnique": false,
                                    "numericPrecision": 255,
                                    "numericScale": 255,
                                    "udtAssemblyQualifiedName": null,
                                    "dataType": "System.String, System.Private.CoreLib, Version=4.0.0.0, Culture=neutral, PublicKeyToken=7cec85d7bea7798e",
                                    "dataTypeName": "nvarchar"
                                }
                            ],
                            "specialAction": {
                                "none": true,
                                "expectYukonXMLShowPlan": false
                            }
                        }
                    },
                    "execution_count": 2,
                    "data": {
                        "application/vnd.dataresource+json": {
                            "schema": {
                                "fields": [
                                    {
                                        "name": "TABLE_NAME"
                                    },
                                    {
                                        "name": "COLUMN_NAME"
                                    }
                                ]
                            },
                            "data": [
                                {
                                    "0": "HISTORICDATES",
                                    "1": "HISTORICDATE"
                                },
                                {
                                    "0": "HISTORICDATES",
                                    "1": "HISTORICID"
                                },
                                {
                                    "0": "HISTORICDATES",
                                    "1": "LOAN"
                                },
                                {
                                    "0": "LOANS",
                                    "1": "DATEOFLOAN"
                                },
                                {
                                    "0": "LOANS",
                                    "1": "LIMITPAYMENTDATE"
                                },
                                {
                                    "0": "LOANS",
                                    "1": "LOAN_APPLICATION"
                                },
                                {
                                    "0": "LOANS",
                                    "1": "LOANID"
                                },
                                {
                                    "0": "LOAN_APPLICATIONS",
                                    "1": "DESCRIPTION"
                                },
                                {
                                    "0": "LOAN_APPLICATIONS",
                                    "1": "ENTREPRENEUR"
                                },
                                {
                                    "0": "LOAN_APPLICATIONS",
                                    "1": "LOAN"
                                },
                                {
                                    "0": "LOAN_APPLICATIONS",
                                    "1": "LOANAPPLICATIONDATE"
                                },
                                {
                                    "0": "LOAN_APPLICATIONS",
                                    "1": "LOANAPPLICATIONDEADLINE"
                                },
                                {
                                    "0": "LOAN_APPLICATIONS",
                                    "1": "LOANAPPLICATIONID"
                                },
                                {
                                    "0": "LOAN_APPLICATIONS",
                                    "1": "STATUS"
                                },
                                {
                                    "0": "LOAN_APPLICATIONS",
                                    "1": "TOTALLOANAMOUNT"
                                },
                                {
                                    "0": "LOAN_COMMITMENTS",
                                    "1": "COMMITMENTAMOUNT"
                                },
                                {
                                    "0": "LOAN_COMMITMENTS",
                                    "1": "COMMITMENTDATE"
                                },
                                {
                                    "0": "LOAN_COMMITMENTS",
                                    "1": "INVESTOR"
                                },
                                {
                                    "0": "LOAN_COMMITMENTS",
                                    "1": "LOAN_APPLICATION"
                                },
                                {
                                    "0": "PAYMENTS",
                                    "1": "LOAN"
                                },
                                {
                                    "0": "PAYMENTS",
                                    "1": "PAYEDAMOUNT"
                                },
                                {
                                    "0": "PAYMENTS",
                                    "1": "PAYMENTDATE"
                                },
                                {
                                    "0": "PAYMENTS",
                                    "1": "PAYMENTID"
                                },
                                {
                                    "0": "REIMBURSEMENTS",
                                    "1": "AMOUNT"
                                },
                                {
                                    "0": "REIMBURSEMENTS",
                                    "1": "INVESTOR"
                                },
                                {
                                    "0": "REIMBURSEMENTS",
                                    "1": "LOAN"
                                },
                                {
                                    "0": "REIMBURSEMENTS",
                                    "1": "REIMBURSEMENTDATE"
                                },
                                {
                                    "0": "REIMBURSEMENTS",
                                    "1": "REIMBURSEMENTID"
                                },
                                {
                                    "0": "RISK",
                                    "1": "ENTREPRENEUR"
                                },
                                {
                                    "0": "RISK",
                                    "1": "INVESTOR"
                                },
                                {
                                    "0": "RISK",
                                    "1": "PERCENTAGE"
                                },
                                {
                                    "0": "USERS",
                                    "1": "ADDRESS"
                                },
                                {
                                    "0": "USERS",
                                    "1": "EMAIL"
                                },
                                {
                                    "0": "USERS",
                                    "1": "NAME"
                                },
                                {
                                    "0": "USERS",
                                    "1": "USERID"
                                },
                                {
                                    "0": "sysdiagrams",
                                    "1": "definition"
                                },
                                {
                                    "0": "sysdiagrams",
                                    "1": "diagram_id"
                                },
                                {
                                    "0": "sysdiagrams",
                                    "1": "name"
                                },
                                {
                                    "0": "sysdiagrams",
                                    "1": "principal_id"
                                },
                                {
                                    "0": "sysdiagrams",
                                    "1": "version"
                                }
                            ]
                        },
                        "text/html": [
                            "<table>",
                            "<tr><th>TABLE_NAME</th><th>COLUMN_NAME</th></tr>",
                            "<tr><td>HISTORICDATES</td><td>HISTORICDATE</td></tr>",
                            "<tr><td>HISTORICDATES</td><td>HISTORICID</td></tr>",
                            "<tr><td>HISTORICDATES</td><td>LOAN</td></tr>",
                            "<tr><td>LOANS</td><td>DATEOFLOAN</td></tr>",
                            "<tr><td>LOANS</td><td>LIMITPAYMENTDATE</td></tr>",
                            "<tr><td>LOANS</td><td>LOAN_APPLICATION</td></tr>",
                            "<tr><td>LOANS</td><td>LOANID</td></tr>",
                            "<tr><td>LOAN_APPLICATIONS</td><td>DESCRIPTION</td></tr>",
                            "<tr><td>LOAN_APPLICATIONS</td><td>ENTREPRENEUR</td></tr>",
                            "<tr><td>LOAN_APPLICATIONS</td><td>LOAN</td></tr>",
                            "<tr><td>LOAN_APPLICATIONS</td><td>LOANAPPLICATIONDATE</td></tr>",
                            "<tr><td>LOAN_APPLICATIONS</td><td>LOANAPPLICATIONDEADLINE</td></tr>",
                            "<tr><td>LOAN_APPLICATIONS</td><td>LOANAPPLICATIONID</td></tr>",
                            "<tr><td>LOAN_APPLICATIONS</td><td>STATUS</td></tr>",
                            "<tr><td>LOAN_APPLICATIONS</td><td>TOTALLOANAMOUNT</td></tr>",
                            "<tr><td>LOAN_COMMITMENTS</td><td>COMMITMENTAMOUNT</td></tr>",
                            "<tr><td>LOAN_COMMITMENTS</td><td>COMMITMENTDATE</td></tr>",
                            "<tr><td>LOAN_COMMITMENTS</td><td>INVESTOR</td></tr>",
                            "<tr><td>LOAN_COMMITMENTS</td><td>LOAN_APPLICATION</td></tr>",
                            "<tr><td>PAYMENTS</td><td>LOAN</td></tr>",
                            "<tr><td>PAYMENTS</td><td>PAYEDAMOUNT</td></tr>",
                            "<tr><td>PAYMENTS</td><td>PAYMENTDATE</td></tr>",
                            "<tr><td>PAYMENTS</td><td>PAYMENTID</td></tr>",
                            "<tr><td>REIMBURSEMENTS</td><td>AMOUNT</td></tr>",
                            "<tr><td>REIMBURSEMENTS</td><td>INVESTOR</td></tr>",
                            "<tr><td>REIMBURSEMENTS</td><td>LOAN</td></tr>",
                            "<tr><td>REIMBURSEMENTS</td><td>REIMBURSEMENTDATE</td></tr>",
                            "<tr><td>REIMBURSEMENTS</td><td>REIMBURSEMENTID</td></tr>",
                            "<tr><td>RISK</td><td>ENTREPRENEUR</td></tr>",
                            "<tr><td>RISK</td><td>INVESTOR</td></tr>",
                            "<tr><td>RISK</td><td>PERCENTAGE</td></tr>",
                            "<tr><td>USERS</td><td>ADDRESS</td></tr>",
                            "<tr><td>USERS</td><td>EMAIL</td></tr>",
                            "<tr><td>USERS</td><td>NAME</td></tr>",
                            "<tr><td>USERS</td><td>USERID</td></tr>",
                            "<tr><td>sysdiagrams</td><td>definition</td></tr>",
                            "<tr><td>sysdiagrams</td><td>diagram_id</td></tr>",
                            "<tr><td>sysdiagrams</td><td>name</td></tr>",
                            "<tr><td>sysdiagrams</td><td>principal_id</td></tr>",
                            "<tr><td>sysdiagrams</td><td>version</td></tr>",
                            "</table>"
                        ]
                    }
                }
            ],
            "execution_count": 2
        },
        {
            "cell_type": "markdown",
            "source": [
                "1. Insert new loan commitments with entrepreneurs investing in their own projects 10% of the total amount requested in the loan application with commitment date = loan application date."
            ],
            "metadata": {
                "azdata_cell_guid": "1c1cc3e9-5b83-4e60-95d2-a46ab1d20e9b"
            }
        },
        {
            "cell_type": "code",
            "source": [
                "-- before\n",
                "select count(*)\n",
                "FROM LOAN_COMMITMENTS;\n",
                "GO\n",
                "\n",
                "-- update\n",
                "insert into LOAN_COMMITMENTS (COMMITMENTAMOUNT, COMMITMENTDATE, INVESTOR, LOAN_APPLICATION)\n",
                "    select lapp.TOTALLOANAMOUNT * 1.10, lapp.LOANAPPLICATIONDATE, lapp.ENTREPRENEUR, lapp.LOANAPPLICATIONID\n",
                "    from LOAN_APPLICATIONS as lapp;\n",
                "GO\n",
                "\n",
                "-- after\n",
                "select count(*)\n",
                "FROM LOAN_COMMITMENTS;\n",
                "GO"
            ],
            "metadata": {
                "azdata_cell_guid": "95c0a14c-1641-4a21-a85e-9dbf346d9c31"
            },
            "outputs": [
                {
                    "output_type": "display_data",
                    "data": {
                        "text/html": "(1 row affected)"
                    },
                    "metadata": {}
                },
                {
                    "output_type": "display_data",
                    "data": {
                        "text/html": "(164 rows affected)"
                    },
                    "metadata": {}
                },
                {
                    "output_type": "display_data",
                    "data": {
                        "text/html": "(1 row affected)"
                    },
                    "metadata": {}
                },
                {
                    "output_type": "display_data",
                    "data": {
                        "text/html": "Total execution time: 00:00:00.019"
                    },
                    "metadata": {}
                },
                {
                    "output_type": "execute_result",
                    "metadata": {
                        "resultSet": {
                            "id": 0,
                            "batchId": 0,
                            "rowCount": 1,
                            "complete": true,
                            "columnInfo": [
                                {
                                    "isBytes": false,
                                    "isChars": false,
                                    "isSqlVariant": false,
                                    "isUdt": false,
                                    "isXml": false,
                                    "isJson": false,
                                    "sqlDbType": 8,
                                    "isHierarchyId": false,
                                    "isSqlXmlType": false,
                                    "isUnknownType": false,
                                    "isUpdatable": false,
                                    "allowDBNull": true,
                                    "baseCatalogName": null,
                                    "baseColumnName": null,
                                    "baseSchemaName": null,
                                    "baseServerName": null,
                                    "baseTableName": null,
                                    "columnName": "(No column name)",
                                    "columnOrdinal": 0,
                                    "columnSize": 4,
                                    "isAliased": null,
                                    "isAutoIncrement": false,
                                    "isExpression": null,
                                    "isHidden": null,
                                    "isIdentity": false,
                                    "isKey": null,
                                    "isLong": false,
                                    "isReadOnly": true,
                                    "isUnique": false,
                                    "numericPrecision": 10,
                                    "numericScale": 255,
                                    "udtAssemblyQualifiedName": null,
                                    "dataType": "System.Int32, System.Private.CoreLib, Version=4.0.0.0, Culture=neutral, PublicKeyToken=7cec85d7bea7798e",
                                    "dataTypeName": "int"
                                }
                            ],
                            "specialAction": {
                                "none": true,
                                "expectYukonXMLShowPlan": false
                            }
                        }
                    },
                    "execution_count": 6,
                    "data": {
                        "application/vnd.dataresource+json": {
                            "schema": {
                                "fields": [
                                    {
                                        "name": "(No column name)"
                                    }
                                ]
                            },
                            "data": [
                                {
                                    "0": "273"
                                }
                            ]
                        },
                        "text/html": [
                            "<table>",
                            "<tr><th>(No column name)</th></tr>",
                            "<tr><td>273</td></tr>",
                            "</table>"
                        ]
                    }
                },
                {
                    "output_type": "execute_result",
                    "metadata": {
                        "resultSet": {
                            "id": 0,
                            "batchId": 2,
                            "rowCount": 1,
                            "complete": true,
                            "columnInfo": [
                                {
                                    "isBytes": false,
                                    "isChars": false,
                                    "isSqlVariant": false,
                                    "isUdt": false,
                                    "isXml": false,
                                    "isJson": false,
                                    "sqlDbType": 8,
                                    "isHierarchyId": false,
                                    "isSqlXmlType": false,
                                    "isUnknownType": false,
                                    "isUpdatable": false,
                                    "allowDBNull": true,
                                    "baseCatalogName": null,
                                    "baseColumnName": null,
                                    "baseSchemaName": null,
                                    "baseServerName": null,
                                    "baseTableName": null,
                                    "columnName": "(No column name)",
                                    "columnOrdinal": 0,
                                    "columnSize": 4,
                                    "isAliased": null,
                                    "isAutoIncrement": false,
                                    "isExpression": null,
                                    "isHidden": null,
                                    "isIdentity": false,
                                    "isKey": null,
                                    "isLong": false,
                                    "isReadOnly": true,
                                    "isUnique": false,
                                    "numericPrecision": 10,
                                    "numericScale": 255,
                                    "udtAssemblyQualifiedName": null,
                                    "dataType": "System.Int32, System.Private.CoreLib, Version=4.0.0.0, Culture=neutral, PublicKeyToken=7cec85d7bea7798e",
                                    "dataTypeName": "int"
                                }
                            ],
                            "specialAction": {
                                "none": true,
                                "expectYukonXMLShowPlan": false
                            }
                        }
                    },
                    "execution_count": 6,
                    "data": {
                        "application/vnd.dataresource+json": {
                            "schema": {
                                "fields": [
                                    {
                                        "name": "(No column name)"
                                    }
                                ]
                            },
                            "data": [
                                {
                                    "0": "437"
                                }
                            ]
                        },
                        "text/html": [
                            "<table>",
                            "<tr><th>(No column name)</th></tr>",
                            "<tr><td>437</td></tr>",
                            "</table>"
                        ]
                    }
                }
            ],
            "execution_count": 6
        },
        {
            "cell_type": "markdown",
            "source": [
                "2. Write a query to find if users are investing in their own projects and delete those commitments"
            ],
            "metadata": {
                "azdata_cell_guid": "8ba85c9f-90ca-4c44-93be-a517073933fc"
            }
        },
        {
            "cell_type": "code",
            "source": [
                "-- before\n",
                "select lc.INVESTOR\n",
                "from LOAN_COMMITMENTS as lc, LOAN_APPLICATIONS as lp\n",
                "where lc.LOAN_APPLICATION = lp.LOANAPPLICATIONID and lc.INVESTOR = lp.ENTREPRENEUR;\n",
                "GO\n",
                "\n",
                "-- delete\n",
                "delete LOAN_COMMITMENTS\n",
                "from USERS as u, LOAN_COMMITMENTS as lc, LOAN_APPLICATIONS as lp\n",
                "where lc.LOAN_APPLICATION = lp.LOANAPPLICATIONID and lc.INVESTOR = lp.ENTREPRENEUR;\n",
                "GO\n",
                "\n",
                "-- after\n",
                "select lc.INVESTOR\n",
                "from LOAN_COMMITMENTS as lc, LOAN_APPLICATIONS as lp\n",
                "where lc.LOAN_APPLICATION = lp.LOANAPPLICATIONID and lc.INVESTOR = lp.ENTREPRENEUR;\n",
                "GO"
            ],
            "metadata": {
                "azdata_cell_guid": "1daf1063-3163-4379-939a-c06f9a533273"
            },
            "outputs": [
                {
                    "output_type": "display_data",
                    "data": {
                        "text/html": "(164 rows affected)"
                    },
                    "metadata": {}
                },
                {
                    "output_type": "display_data",
                    "data": {
                        "text/html": "(164 rows affected)"
                    },
                    "metadata": {}
                },
                {
                    "output_type": "display_data",
                    "data": {
                        "text/html": "(0 rows affected)"
                    },
                    "metadata": {}
                },
                {
                    "output_type": "display_data",
                    "data": {
                        "text/html": "Total execution time: 00:00:00.061"
                    },
                    "metadata": {}
                },
                {
                    "output_type": "execute_result",
                    "metadata": {
                        "resultSet": {
                            "id": 0,
                            "batchId": 0,
                            "rowCount": 164,
                            "complete": true,
                            "columnInfo": [
                                {
                                    "isBytes": false,
                                    "isChars": false,
                                    "isSqlVariant": false,
                                    "isUdt": false,
                                    "isXml": false,
                                    "isJson": false,
                                    "sqlDbType": 5,
                                    "isHierarchyId": false,
                                    "isSqlXmlType": false,
                                    "isUnknownType": false,
                                    "isUpdatable": true,
                                    "allowDBNull": false,
                                    "baseCatalogName": null,
                                    "baseColumnName": null,
                                    "baseSchemaName": null,
                                    "baseServerName": null,
                                    "baseTableName": null,
                                    "columnName": "INVESTOR",
                                    "columnOrdinal": 0,
                                    "columnSize": 17,
                                    "isAliased": null,
                                    "isAutoIncrement": false,
                                    "isExpression": null,
                                    "isHidden": null,
                                    "isIdentity": false,
                                    "isKey": null,
                                    "isLong": false,
                                    "isReadOnly": false,
                                    "isUnique": false,
                                    "numericPrecision": 18,
                                    "numericScale": 0,
                                    "udtAssemblyQualifiedName": null,
                                    "dataType": "System.Decimal, System.Private.CoreLib, Version=4.0.0.0, Culture=neutral, PublicKeyToken=7cec85d7bea7798e",
                                    "dataTypeName": "decimal"
                                }
                            ],
                            "specialAction": {
                                "none": true,
                                "expectYukonXMLShowPlan": false
                            }
                        }
                    },
                    "execution_count": 7,
                    "data": {
                        "application/vnd.dataresource+json": {
                            "schema": {
                                "fields": [
                                    {
                                        "name": "INVESTOR"
                                    }
                                ]
                            },
                            "data": [
                                {
                                    "0": "3"
                                },
                                {
                                    "0": "7"
                                },
                                {
                                    "0": "8"
                                },
                                {
                                    "0": "9"
                                },
                                {
                                    "0": "9"
                                },
                                {
                                    "0": "10"
                                },
                                {
                                    "0": "12"
                                },
                                {
                                    "0": "14"
                                },
                                {
                                    "0": "19"
                                },
                                {
                                    "0": "20"
                                },
                                {
                                    "0": "23"
                                },
                                {
                                    "0": "26"
                                },
                                {
                                    "0": "27"
                                },
                                {
                                    "0": "27"
                                },
                                {
                                    "0": "37"
                                },
                                {
                                    "0": "39"
                                },
                                {
                                    "0": "41"
                                },
                                {
                                    "0": "47"
                                },
                                {
                                    "0": "52"
                                },
                                {
                                    "0": "52"
                                },
                                {
                                    "0": "56"
                                },
                                {
                                    "0": "59"
                                },
                                {
                                    "0": "62"
                                },
                                {
                                    "0": "64"
                                },
                                {
                                    "0": "68"
                                },
                                {
                                    "0": "68"
                                },
                                {
                                    "0": "70"
                                },
                                {
                                    "0": "70"
                                },
                                {
                                    "0": "75"
                                },
                                {
                                    "0": "75"
                                },
                                {
                                    "0": "77"
                                },
                                {
                                    "0": "79"
                                },
                                {
                                    "0": "80"
                                },
                                {
                                    "0": "84"
                                },
                                {
                                    "0": "85"
                                },
                                {
                                    "0": "87"
                                },
                                {
                                    "0": "87"
                                },
                                {
                                    "0": "89"
                                },
                                {
                                    "0": "89"
                                },
                                {
                                    "0": "89"
                                },
                                {
                                    "0": "92"
                                },
                                {
                                    "0": "97"
                                },
                                {
                                    "0": "98"
                                },
                                {
                                    "0": "99"
                                },
                                {
                                    "0": "107"
                                },
                                {
                                    "0": "110"
                                },
                                {
                                    "0": "113"
                                },
                                {
                                    "0": "120"
                                },
                                {
                                    "0": "123"
                                },
                                {
                                    "0": "129"
                                },
                                {
                                    "0": "130"
                                },
                                {
                                    "0": "138"
                                },
                                {
                                    "0": "147"
                                },
                                {
                                    "0": "151"
                                },
                                {
                                    "0": "154"
                                },
                                {
                                    "0": "156"
                                },
                                {
                                    "0": "160"
                                },
                                {
                                    "0": "162"
                                },
                                {
                                    "0": "170"
                                },
                                {
                                    "0": "172"
                                },
                                {
                                    "0": "173"
                                },
                                {
                                    "0": "176"
                                },
                                {
                                    "0": "177"
                                },
                                {
                                    "0": "178"
                                },
                                {
                                    "0": "190"
                                },
                                {
                                    "0": "198"
                                },
                                {
                                    "0": "201"
                                },
                                {
                                    "0": "203"
                                },
                                {
                                    "0": "212"
                                },
                                {
                                    "0": "214"
                                },
                                {
                                    "0": "218"
                                },
                                {
                                    "0": "219"
                                },
                                {
                                    "0": "222"
                                },
                                {
                                    "0": "225"
                                },
                                {
                                    "0": "228"
                                },
                                {
                                    "0": "235"
                                },
                                {
                                    "0": "238"
                                },
                                {
                                    "0": "242"
                                },
                                {
                                    "0": "245"
                                },
                                {
                                    "0": "246"
                                },
                                {
                                    "0": "247"
                                },
                                {
                                    "0": "252"
                                },
                                {
                                    "0": "254"
                                },
                                {
                                    "0": "254"
                                },
                                {
                                    "0": "255"
                                },
                                {
                                    "0": "257"
                                },
                                {
                                    "0": "261"
                                },
                                {
                                    "0": "263"
                                },
                                {
                                    "0": "263"
                                },
                                {
                                    "0": "266"
                                },
                                {
                                    "0": "272"
                                },
                                {
                                    "0": "277"
                                },
                                {
                                    "0": "278"
                                },
                                {
                                    "0": "279"
                                },
                                {
                                    "0": "281"
                                },
                                {
                                    "0": "281"
                                },
                                {
                                    "0": "283"
                                },
                                {
                                    "0": "285"
                                },
                                {
                                    "0": "286"
                                },
                                {
                                    "0": "287"
                                },
                                {
                                    "0": "289"
                                },
                                {
                                    "0": "289"
                                },
                                {
                                    "0": "300"
                                },
                                {
                                    "0": "306"
                                },
                                {
                                    "0": "307"
                                },
                                {
                                    "0": "309"
                                },
                                {
                                    "0": "315"
                                },
                                {
                                    "0": "316"
                                },
                                {
                                    "0": "317"
                                },
                                {
                                    "0": "320"
                                },
                                {
                                    "0": "326"
                                },
                                {
                                    "0": "331"
                                },
                                {
                                    "0": "331"
                                },
                                {
                                    "0": "334"
                                },
                                {
                                    "0": "334"
                                },
                                {
                                    "0": "347"
                                },
                                {
                                    "0": "349"
                                },
                                {
                                    "0": "357"
                                },
                                {
                                    "0": "358"
                                },
                                {
                                    "0": "358"
                                },
                                {
                                    "0": "361"
                                },
                                {
                                    "0": "366"
                                },
                                {
                                    "0": "371"
                                },
                                {
                                    "0": "376"
                                },
                                {
                                    "0": "377"
                                },
                                {
                                    "0": "381"
                                },
                                {
                                    "0": "382"
                                },
                                {
                                    "0": "382"
                                },
                                {
                                    "0": "382"
                                },
                                {
                                    "0": "385"
                                },
                                {
                                    "0": "387"
                                },
                                {
                                    "0": "388"
                                },
                                {
                                    "0": "403"
                                },
                                {
                                    "0": "406"
                                },
                                {
                                    "0": "409"
                                },
                                {
                                    "0": "413"
                                },
                                {
                                    "0": "414"
                                },
                                {
                                    "0": "418"
                                },
                                {
                                    "0": "425"
                                },
                                {
                                    "0": "431"
                                },
                                {
                                    "0": "434"
                                },
                                {
                                    "0": "439"
                                },
                                {
                                    "0": "440"
                                },
                                {
                                    "0": "440"
                                },
                                {
                                    "0": "443"
                                },
                                {
                                    "0": "445"
                                },
                                {
                                    "0": "446"
                                },
                                {
                                    "0": "448"
                                },
                                {
                                    "0": "450"
                                },
                                {
                                    "0": "451"
                                },
                                {
                                    "0": "452"
                                },
                                {
                                    "0": "455"
                                },
                                {
                                    "0": "455"
                                },
                                {
                                    "0": "456"
                                },
                                {
                                    "0": "457"
                                },
                                {
                                    "0": "459"
                                },
                                {
                                    "0": "468"
                                },
                                {
                                    "0": "469"
                                },
                                {
                                    "0": "477"
                                },
                                {
                                    "0": "477"
                                },
                                {
                                    "0": "477"
                                },
                                {
                                    "0": "486"
                                },
                                {
                                    "0": "494"
                                },
                                {
                                    "0": "499"
                                }
                            ]
                        },
                        "text/html": [
                            "<table>",
                            "<tr><th>INVESTOR</th></tr>",
                            "<tr><td>3</td></tr>",
                            "<tr><td>7</td></tr>",
                            "<tr><td>8</td></tr>",
                            "<tr><td>9</td></tr>",
                            "<tr><td>9</td></tr>",
                            "<tr><td>10</td></tr>",
                            "<tr><td>12</td></tr>",
                            "<tr><td>14</td></tr>",
                            "<tr><td>19</td></tr>",
                            "<tr><td>20</td></tr>",
                            "<tr><td>23</td></tr>",
                            "<tr><td>26</td></tr>",
                            "<tr><td>27</td></tr>",
                            "<tr><td>27</td></tr>",
                            "<tr><td>37</td></tr>",
                            "<tr><td>39</td></tr>",
                            "<tr><td>41</td></tr>",
                            "<tr><td>47</td></tr>",
                            "<tr><td>52</td></tr>",
                            "<tr><td>52</td></tr>",
                            "<tr><td>56</td></tr>",
                            "<tr><td>59</td></tr>",
                            "<tr><td>62</td></tr>",
                            "<tr><td>64</td></tr>",
                            "<tr><td>68</td></tr>",
                            "<tr><td>68</td></tr>",
                            "<tr><td>70</td></tr>",
                            "<tr><td>70</td></tr>",
                            "<tr><td>75</td></tr>",
                            "<tr><td>75</td></tr>",
                            "<tr><td>77</td></tr>",
                            "<tr><td>79</td></tr>",
                            "<tr><td>80</td></tr>",
                            "<tr><td>84</td></tr>",
                            "<tr><td>85</td></tr>",
                            "<tr><td>87</td></tr>",
                            "<tr><td>87</td></tr>",
                            "<tr><td>89</td></tr>",
                            "<tr><td>89</td></tr>",
                            "<tr><td>89</td></tr>",
                            "<tr><td>92</td></tr>",
                            "<tr><td>97</td></tr>",
                            "<tr><td>98</td></tr>",
                            "<tr><td>99</td></tr>",
                            "<tr><td>107</td></tr>",
                            "<tr><td>110</td></tr>",
                            "<tr><td>113</td></tr>",
                            "<tr><td>120</td></tr>",
                            "<tr><td>123</td></tr>",
                            "<tr><td>129</td></tr>",
                            "<tr><td>130</td></tr>",
                            "<tr><td>138</td></tr>",
                            "<tr><td>147</td></tr>",
                            "<tr><td>151</td></tr>",
                            "<tr><td>154</td></tr>",
                            "<tr><td>156</td></tr>",
                            "<tr><td>160</td></tr>",
                            "<tr><td>162</td></tr>",
                            "<tr><td>170</td></tr>",
                            "<tr><td>172</td></tr>",
                            "<tr><td>173</td></tr>",
                            "<tr><td>176</td></tr>",
                            "<tr><td>177</td></tr>",
                            "<tr><td>178</td></tr>",
                            "<tr><td>190</td></tr>",
                            "<tr><td>198</td></tr>",
                            "<tr><td>201</td></tr>",
                            "<tr><td>203</td></tr>",
                            "<tr><td>212</td></tr>",
                            "<tr><td>214</td></tr>",
                            "<tr><td>218</td></tr>",
                            "<tr><td>219</td></tr>",
                            "<tr><td>222</td></tr>",
                            "<tr><td>225</td></tr>",
                            "<tr><td>228</td></tr>",
                            "<tr><td>235</td></tr>",
                            "<tr><td>238</td></tr>",
                            "<tr><td>242</td></tr>",
                            "<tr><td>245</td></tr>",
                            "<tr><td>246</td></tr>",
                            "<tr><td>247</td></tr>",
                            "<tr><td>252</td></tr>",
                            "<tr><td>254</td></tr>",
                            "<tr><td>254</td></tr>",
                            "<tr><td>255</td></tr>",
                            "<tr><td>257</td></tr>",
                            "<tr><td>261</td></tr>",
                            "<tr><td>263</td></tr>",
                            "<tr><td>263</td></tr>",
                            "<tr><td>266</td></tr>",
                            "<tr><td>272</td></tr>",
                            "<tr><td>277</td></tr>",
                            "<tr><td>278</td></tr>",
                            "<tr><td>279</td></tr>",
                            "<tr><td>281</td></tr>",
                            "<tr><td>281</td></tr>",
                            "<tr><td>283</td></tr>",
                            "<tr><td>285</td></tr>",
                            "<tr><td>286</td></tr>",
                            "<tr><td>287</td></tr>",
                            "<tr><td>289</td></tr>",
                            "<tr><td>289</td></tr>",
                            "<tr><td>300</td></tr>",
                            "<tr><td>306</td></tr>",
                            "<tr><td>307</td></tr>",
                            "<tr><td>309</td></tr>",
                            "<tr><td>315</td></tr>",
                            "<tr><td>316</td></tr>",
                            "<tr><td>317</td></tr>",
                            "<tr><td>320</td></tr>",
                            "<tr><td>326</td></tr>",
                            "<tr><td>331</td></tr>",
                            "<tr><td>331</td></tr>",
                            "<tr><td>334</td></tr>",
                            "<tr><td>334</td></tr>",
                            "<tr><td>347</td></tr>",
                            "<tr><td>349</td></tr>",
                            "<tr><td>357</td></tr>",
                            "<tr><td>358</td></tr>",
                            "<tr><td>358</td></tr>",
                            "<tr><td>361</td></tr>",
                            "<tr><td>366</td></tr>",
                            "<tr><td>371</td></tr>",
                            "<tr><td>376</td></tr>",
                            "<tr><td>377</td></tr>",
                            "<tr><td>381</td></tr>",
                            "<tr><td>382</td></tr>",
                            "<tr><td>382</td></tr>",
                            "<tr><td>382</td></tr>",
                            "<tr><td>385</td></tr>",
                            "<tr><td>387</td></tr>",
                            "<tr><td>388</td></tr>",
                            "<tr><td>403</td></tr>",
                            "<tr><td>406</td></tr>",
                            "<tr><td>409</td></tr>",
                            "<tr><td>413</td></tr>",
                            "<tr><td>414</td></tr>",
                            "<tr><td>418</td></tr>",
                            "<tr><td>425</td></tr>",
                            "<tr><td>431</td></tr>",
                            "<tr><td>434</td></tr>",
                            "<tr><td>439</td></tr>",
                            "<tr><td>440</td></tr>",
                            "<tr><td>440</td></tr>",
                            "<tr><td>443</td></tr>",
                            "<tr><td>445</td></tr>",
                            "<tr><td>446</td></tr>",
                            "<tr><td>448</td></tr>",
                            "<tr><td>450</td></tr>",
                            "<tr><td>451</td></tr>",
                            "<tr><td>452</td></tr>",
                            "<tr><td>455</td></tr>",
                            "<tr><td>455</td></tr>",
                            "<tr><td>456</td></tr>",
                            "<tr><td>457</td></tr>",
                            "<tr><td>459</td></tr>",
                            "<tr><td>468</td></tr>",
                            "<tr><td>469</td></tr>",
                            "<tr><td>477</td></tr>",
                            "<tr><td>477</td></tr>",
                            "<tr><td>477</td></tr>",
                            "<tr><td>486</td></tr>",
                            "<tr><td>494</td></tr>",
                            "<tr><td>499</td></tr>",
                            "</table>"
                        ]
                    }
                },
                {
                    "output_type": "execute_result",
                    "metadata": {
                        "resultSet": {
                            "id": 0,
                            "batchId": 2,
                            "rowCount": 0,
                            "complete": false,
                            "columnInfo": [
                                {
                                    "isBytes": false,
                                    "isChars": false,
                                    "isSqlVariant": false,
                                    "isUdt": false,
                                    "isXml": false,
                                    "isJson": false,
                                    "sqlDbType": 5,
                                    "isHierarchyId": false,
                                    "isSqlXmlType": false,
                                    "isUnknownType": false,
                                    "isUpdatable": true,
                                    "allowDBNull": false,
                                    "baseCatalogName": null,
                                    "baseColumnName": null,
                                    "baseSchemaName": null,
                                    "baseServerName": null,
                                    "baseTableName": null,
                                    "columnName": "INVESTOR",
                                    "columnOrdinal": 0,
                                    "columnSize": 17,
                                    "isAliased": null,
                                    "isAutoIncrement": false,
                                    "isExpression": null,
                                    "isHidden": null,
                                    "isIdentity": false,
                                    "isKey": null,
                                    "isLong": false,
                                    "isReadOnly": false,
                                    "isUnique": false,
                                    "numericPrecision": 18,
                                    "numericScale": 0,
                                    "udtAssemblyQualifiedName": null,
                                    "dataType": "System.Decimal, System.Private.CoreLib, Version=4.0.0.0, Culture=neutral, PublicKeyToken=7cec85d7bea7798e",
                                    "dataTypeName": "decimal"
                                }
                            ],
                            "specialAction": null
                        }
                    },
                    "execution_count": 7,
                    "data": {
                        "application/vnd.dataresource+json": {
                            "schema": {
                                "fields": [
                                    {
                                        "name": "INVESTOR"
                                    }
                                ]
                            },
                            "data": []
                        },
                        "text/html": [
                            "<table>",
                            "<tr><th>INVESTOR</th></tr>",
                            "</table>"
                        ]
                    }
                }
            ],
            "execution_count": 7
        },
        {
            "cell_type": "markdown",
            "source": [
                "3. Calculate the total amount of commitments that each loan application have received."
            ],
            "metadata": {
                "azdata_cell_guid": "2dc69f4b-c92e-4ec5-a70d-f3ec70d915b9"
            }
        },
        {
            "cell_type": "code",
            "source": [
                "select LOAN_APPLICATION, sum(COMMITMENTAMOUNT) as total_commitment_amount\n",
                "from LOAN_COMMITMENTS\n",
                "group by LOAN_APPLICATION;\n",
                "go"
            ],
            "metadata": {
                "azdata_cell_guid": "d58fad9b-3271-4781-befc-b823a61d9c28"
            },
            "outputs": [
                {
                    "output_type": "display_data",
                    "data": {
                        "text/html": "(159 rows affected)"
                    },
                    "metadata": {}
                },
                {
                    "output_type": "display_data",
                    "data": {
                        "text/html": "Total execution time: 00:00:00.003"
                    },
                    "metadata": {}
                },
                {
                    "output_type": "execute_result",
                    "metadata": {
                        "resultSet": {
                            "id": 0,
                            "batchId": 0,
                            "rowCount": 159,
                            "complete": true,
                            "columnInfo": [
                                {
                                    "isBytes": false,
                                    "isChars": false,
                                    "isSqlVariant": false,
                                    "isUdt": false,
                                    "isXml": false,
                                    "isJson": false,
                                    "sqlDbType": 5,
                                    "isHierarchyId": false,
                                    "isSqlXmlType": false,
                                    "isUnknownType": false,
                                    "isUpdatable": true,
                                    "allowDBNull": false,
                                    "baseCatalogName": null,
                                    "baseColumnName": null,
                                    "baseSchemaName": null,
                                    "baseServerName": null,
                                    "baseTableName": null,
                                    "columnName": "LOAN_APPLICATION",
                                    "columnOrdinal": 0,
                                    "columnSize": 17,
                                    "isAliased": null,
                                    "isAutoIncrement": false,
                                    "isExpression": null,
                                    "isHidden": null,
                                    "isIdentity": false,
                                    "isKey": null,
                                    "isLong": false,
                                    "isReadOnly": false,
                                    "isUnique": false,
                                    "numericPrecision": 18,
                                    "numericScale": 0,
                                    "udtAssemblyQualifiedName": null,
                                    "dataType": "System.Decimal, System.Private.CoreLib, Version=4.0.0.0, Culture=neutral, PublicKeyToken=7cec85d7bea7798e",
                                    "dataTypeName": "decimal"
                                },
                                {
                                    "isBytes": false,
                                    "isChars": false,
                                    "isSqlVariant": false,
                                    "isUdt": false,
                                    "isXml": false,
                                    "isJson": false,
                                    "sqlDbType": 9,
                                    "isHierarchyId": false,
                                    "isSqlXmlType": false,
                                    "isUnknownType": false,
                                    "isUpdatable": false,
                                    "allowDBNull": true,
                                    "baseCatalogName": null,
                                    "baseColumnName": null,
                                    "baseSchemaName": null,
                                    "baseServerName": null,
                                    "baseTableName": null,
                                    "columnName": "total_commitment_amount",
                                    "columnOrdinal": 1,
                                    "columnSize": 8,
                                    "isAliased": null,
                                    "isAutoIncrement": false,
                                    "isExpression": null,
                                    "isHidden": null,
                                    "isIdentity": false,
                                    "isKey": null,
                                    "isLong": false,
                                    "isReadOnly": true,
                                    "isUnique": false,
                                    "numericPrecision": 19,
                                    "numericScale": 255,
                                    "udtAssemblyQualifiedName": null,
                                    "dataType": "System.Decimal, System.Private.CoreLib, Version=4.0.0.0, Culture=neutral, PublicKeyToken=7cec85d7bea7798e",
                                    "dataTypeName": "money"
                                }
                            ],
                            "specialAction": {
                                "none": true,
                                "expectYukonXMLShowPlan": false
                            }
                        }
                    },
                    "execution_count": 15,
                    "data": {
                        "application/vnd.dataresource+json": {
                            "schema": {
                                "fields": [
                                    {
                                        "name": "LOAN_APPLICATION"
                                    },
                                    {
                                        "name": "total_commitment_amount"
                                    }
                                ]
                            },
                            "data": [
                                {
                                    "0": "43",
                                    "1": "291.3300"
                                },
                                {
                                    "0": "44",
                                    "1": "5320.4200"
                                },
                                {
                                    "0": "45",
                                    "1": "4090.9200"
                                },
                                {
                                    "0": "46",
                                    "1": "584.3200"
                                },
                                {
                                    "0": "47",
                                    "1": "4315.6800"
                                },
                                {
                                    "0": "48",
                                    "1": "1310.4700"
                                },
                                {
                                    "0": "49",
                                    "1": "1063.4400"
                                },
                                {
                                    "0": "50",
                                    "1": "3112.2000"
                                },
                                {
                                    "0": "51",
                                    "1": "514.5000"
                                },
                                {
                                    "0": "52",
                                    "1": "6043.5000"
                                },
                                {
                                    "0": "53",
                                    "1": "5083.6800"
                                },
                                {
                                    "0": "54",
                                    "1": "5849.1500"
                                },
                                {
                                    "0": "55",
                                    "1": "1915.7500"
                                },
                                {
                                    "0": "56",
                                    "1": "3315.5100"
                                },
                                {
                                    "0": "57",
                                    "1": "2811.2400"
                                },
                                {
                                    "0": "59",
                                    "1": "4579.0000"
                                },
                                {
                                    "0": "60",
                                    "1": "186.0100"
                                },
                                {
                                    "0": "61",
                                    "1": "3925.7000"
                                },
                                {
                                    "0": "62",
                                    "1": "609.8400"
                                },
                                {
                                    "0": "63",
                                    "1": "3354.0000"
                                },
                                {
                                    "0": "64",
                                    "1": "6286.6000"
                                },
                                {
                                    "0": "65",
                                    "1": "3501.5200"
                                },
                                {
                                    "0": "66",
                                    "1": "5517.8200"
                                },
                                {
                                    "0": "67",
                                    "1": "1703.1600"
                                },
                                {
                                    "0": "68",
                                    "1": "3052.2800"
                                },
                                {
                                    "0": "69",
                                    "1": "503.2300"
                                },
                                {
                                    "0": "70",
                                    "1": "6231.6800"
                                },
                                {
                                    "0": "71",
                                    "1": "2461.3200"
                                },
                                {
                                    "0": "72",
                                    "1": "2797.1200"
                                },
                                {
                                    "0": "73",
                                    "1": "4089.2400"
                                },
                                {
                                    "0": "74",
                                    "1": "2909.0400"
                                },
                                {
                                    "0": "75",
                                    "1": "1012.8000"
                                },
                                {
                                    "0": "77",
                                    "1": "7590.7400"
                                },
                                {
                                    "0": "78",
                                    "1": "2518.8800"
                                },
                                {
                                    "0": "79",
                                    "1": "2764.2600"
                                },
                                {
                                    "0": "80",
                                    "1": "1288.2600"
                                },
                                {
                                    "0": "81",
                                    "1": "7969.2000"
                                },
                                {
                                    "0": "82",
                                    "1": "1470.3800"
                                },
                                {
                                    "0": "83",
                                    "1": "2727.7400"
                                },
                                {
                                    "0": "85",
                                    "1": "1293.9400"
                                },
                                {
                                    "0": "87",
                                    "1": "4888.1700"
                                },
                                {
                                    "0": "88",
                                    "1": "4423.6800"
                                },
                                {
                                    "0": "89",
                                    "1": "382.3200"
                                },
                                {
                                    "0": "90",
                                    "1": "935.5600"
                                },
                                {
                                    "0": "92",
                                    "1": "7243.8300"
                                },
                                {
                                    "0": "93",
                                    "1": "3185.1600"
                                },
                                {
                                    "0": "94",
                                    "1": "1927.9000"
                                },
                                {
                                    "0": "95",
                                    "1": "1670.1000"
                                },
                                {
                                    "0": "97",
                                    "1": "4192.5300"
                                },
                                {
                                    "0": "98",
                                    "1": "6484.5900"
                                },
                                {
                                    "0": "99",
                                    "1": "4609.4400"
                                },
                                {
                                    "0": "101",
                                    "1": "9458.8800"
                                },
                                {
                                    "0": "102",
                                    "1": "1066.2400"
                                },
                                {
                                    "0": "103",
                                    "1": "2734.4800"
                                },
                                {
                                    "0": "104",
                                    "1": "3335.0000"
                                },
                                {
                                    "0": "105",
                                    "1": "7458.4500"
                                },
                                {
                                    "0": "106",
                                    "1": "365.8000"
                                },
                                {
                                    "0": "107",
                                    "1": "1825.0000"
                                },
                                {
                                    "0": "108",
                                    "1": "7607.4800"
                                },
                                {
                                    "0": "109",
                                    "1": "3268.2000"
                                },
                                {
                                    "0": "110",
                                    "1": "9305.0000"
                                },
                                {
                                    "0": "111",
                                    "1": "7490.8800"
                                },
                                {
                                    "0": "113",
                                    "1": "1907.4700"
                                },
                                {
                                    "0": "114",
                                    "1": "5790.0000"
                                },
                                {
                                    "0": "115",
                                    "1": "3875.0400"
                                },
                                {
                                    "0": "116",
                                    "1": "2340.8000"
                                },
                                {
                                    "0": "117",
                                    "1": "2756.5500"
                                },
                                {
                                    "0": "118",
                                    "1": "1343.2000"
                                },
                                {
                                    "0": "119",
                                    "1": "607.5100"
                                },
                                {
                                    "0": "120",
                                    "1": "4690.4600"
                                },
                                {
                                    "0": "121",
                                    "1": "4538.8800"
                                },
                                {
                                    "0": "122",
                                    "1": "6886.4400"
                                },
                                {
                                    "0": "124",
                                    "1": "6848.6400"
                                },
                                {
                                    "0": "125",
                                    "1": "1372.9800"
                                },
                                {
                                    "0": "126",
                                    "1": "3306.0000"
                                },
                                {
                                    "0": "127",
                                    "1": "8644.0900"
                                },
                                {
                                    "0": "128",
                                    "1": "3187.8400"
                                },
                                {
                                    "0": "129",
                                    "1": "1221.4800"
                                },
                                {
                                    "0": "130",
                                    "1": "5987.5200"
                                },
                                {
                                    "0": "132",
                                    "1": "7817.0500"
                                },
                                {
                                    "0": "133",
                                    "1": "461.6600"
                                },
                                {
                                    "0": "134",
                                    "1": "1209.1600"
                                },
                                {
                                    "0": "135",
                                    "1": "2786.6300"
                                },
                                {
                                    "0": "136",
                                    "1": "4967.2500"
                                },
                                {
                                    "0": "137",
                                    "1": "4046.4000"
                                },
                                {
                                    "0": "138",
                                    "1": "427.0000"
                                },
                                {
                                    "0": "139",
                                    "1": "2075.4800"
                                },
                                {
                                    "0": "140",
                                    "1": "5282.4000"
                                },
                                {
                                    "0": "141",
                                    "1": "4452.7300"
                                },
                                {
                                    "0": "142",
                                    "1": "3873.6000"
                                },
                                {
                                    "0": "143",
                                    "1": "7241.0400"
                                },
                                {
                                    "0": "144",
                                    "1": "3505.7300"
                                },
                                {
                                    "0": "145",
                                    "1": "2546.1000"
                                },
                                {
                                    "0": "146",
                                    "1": "1259.0400"
                                },
                                {
                                    "0": "147",
                                    "1": "78.0900"
                                },
                                {
                                    "0": "148",
                                    "1": "367.3200"
                                },
                                {
                                    "0": "149",
                                    "1": "6849.9200"
                                },
                                {
                                    "0": "150",
                                    "1": "3832.7200"
                                },
                                {
                                    "0": "151",
                                    "1": "4508.3500"
                                },
                                {
                                    "0": "152",
                                    "1": "5312.0000"
                                },
                                {
                                    "0": "153",
                                    "1": "6190.5500"
                                },
                                {
                                    "0": "154",
                                    "1": "5507.6000"
                                },
                                {
                                    "0": "155",
                                    "1": "5893.2900"
                                },
                                {
                                    "0": "156",
                                    "1": "1962.4300"
                                },
                                {
                                    "0": "157",
                                    "1": "2760.1600"
                                },
                                {
                                    "0": "159",
                                    "1": "5273.6400"
                                },
                                {
                                    "0": "160",
                                    "1": "8587.6700"
                                },
                                {
                                    "0": "161",
                                    "1": "6386.9800"
                                },
                                {
                                    "0": "162",
                                    "1": "602.4000"
                                },
                                {
                                    "0": "163",
                                    "1": "3344.0700"
                                },
                                {
                                    "0": "164",
                                    "1": "1117.6100"
                                },
                                {
                                    "0": "165",
                                    "1": "244.3800"
                                },
                                {
                                    "0": "166",
                                    "1": "960.6400"
                                },
                                {
                                    "0": "167",
                                    "1": "4850.4000"
                                },
                                {
                                    "0": "168",
                                    "1": "7223.3000"
                                },
                                {
                                    "0": "169",
                                    "1": "1967.0700"
                                },
                                {
                                    "0": "170",
                                    "1": "5543.0000"
                                },
                                {
                                    "0": "171",
                                    "1": "5091.1000"
                                },
                                {
                                    "0": "172",
                                    "1": "7257.6000"
                                },
                                {
                                    "0": "173",
                                    "1": "4917.1300"
                                },
                                {
                                    "0": "174",
                                    "1": "2861.3600"
                                },
                                {
                                    "0": "175",
                                    "1": "2771.0100"
                                },
                                {
                                    "0": "176",
                                    "1": "2829.0000"
                                },
                                {
                                    "0": "178",
                                    "1": "1805.4000"
                                },
                                {
                                    "0": "179",
                                    "1": "4039.4700"
                                },
                                {
                                    "0": "180",
                                    "1": "2406.7200"
                                },
                                {
                                    "0": "181",
                                    "1": "1039.3700"
                                },
                                {
                                    "0": "182",
                                    "1": "1474.0000"
                                },
                                {
                                    "0": "183",
                                    "1": "7924.9000"
                                },
                                {
                                    "0": "184",
                                    "1": "3619.5500"
                                },
                                {
                                    "0": "185",
                                    "1": "4806.2400"
                                },
                                {
                                    "0": "186",
                                    "1": "7611.2400"
                                },
                                {
                                    "0": "187",
                                    "1": "760.1400"
                                },
                                {
                                    "0": "189",
                                    "1": "740.3200"
                                },
                                {
                                    "0": "190",
                                    "1": "5478.8400"
                                },
                                {
                                    "0": "191",
                                    "1": "4913.7200"
                                },
                                {
                                    "0": "192",
                                    "1": "1702.7400"
                                },
                                {
                                    "0": "193",
                                    "1": "6563.2800"
                                },
                                {
                                    "0": "194",
                                    "1": "3767.3100"
                                },
                                {
                                    "0": "196",
                                    "1": "2671.3600"
                                },
                                {
                                    "0": "197",
                                    "1": "4984.0000"
                                },
                                {
                                    "0": "198",
                                    "1": "3567.3400"
                                },
                                {
                                    "0": "199",
                                    "1": "2137.5200"
                                },
                                {
                                    "0": "200",
                                    "1": "3527.7200"
                                },
                                {
                                    "0": "202",
                                    "1": "3317.4000"
                                },
                                {
                                    "0": "203",
                                    "1": "907.8000"
                                },
                                {
                                    "0": "204",
                                    "1": "1881.6000"
                                },
                                {
                                    "0": "205",
                                    "1": "5365.3600"
                                },
                                {
                                    "0": "206",
                                    "1": "6370.3800"
                                },
                                {
                                    "0": "207",
                                    "1": "565.8800"
                                },
                                {
                                    "0": "208",
                                    "1": "2856.4000"
                                },
                                {
                                    "0": "209",
                                    "1": "3867.9400"
                                },
                                {
                                    "0": "210",
                                    "1": "7430.7200"
                                },
                                {
                                    "0": "211",
                                    "1": "4679.0100"
                                },
                                {
                                    "0": "212",
                                    "1": "1435.4800"
                                },
                                {
                                    "0": "213",
                                    "1": "3225.0400"
                                },
                                {
                                    "0": "214",
                                    "1": "2026.6200"
                                },
                                {
                                    "0": "215",
                                    "1": "1522.9100"
                                },
                                {
                                    "0": "216",
                                    "1": "439.4700"
                                }
                            ]
                        },
                        "text/html": [
                            "<table>",
                            "<tr><th>LOAN_APPLICATION</th><th>total_commitment_amount</th></tr>",
                            "<tr><td>43</td><td>291.3300</td></tr>",
                            "<tr><td>44</td><td>5320.4200</td></tr>",
                            "<tr><td>45</td><td>4090.9200</td></tr>",
                            "<tr><td>46</td><td>584.3200</td></tr>",
                            "<tr><td>47</td><td>4315.6800</td></tr>",
                            "<tr><td>48</td><td>1310.4700</td></tr>",
                            "<tr><td>49</td><td>1063.4400</td></tr>",
                            "<tr><td>50</td><td>3112.2000</td></tr>",
                            "<tr><td>51</td><td>514.5000</td></tr>",
                            "<tr><td>52</td><td>6043.5000</td></tr>",
                            "<tr><td>53</td><td>5083.6800</td></tr>",
                            "<tr><td>54</td><td>5849.1500</td></tr>",
                            "<tr><td>55</td><td>1915.7500</td></tr>",
                            "<tr><td>56</td><td>3315.5100</td></tr>",
                            "<tr><td>57</td><td>2811.2400</td></tr>",
                            "<tr><td>59</td><td>4579.0000</td></tr>",
                            "<tr><td>60</td><td>186.0100</td></tr>",
                            "<tr><td>61</td><td>3925.7000</td></tr>",
                            "<tr><td>62</td><td>609.8400</td></tr>",
                            "<tr><td>63</td><td>3354.0000</td></tr>",
                            "<tr><td>64</td><td>6286.6000</td></tr>",
                            "<tr><td>65</td><td>3501.5200</td></tr>",
                            "<tr><td>66</td><td>5517.8200</td></tr>",
                            "<tr><td>67</td><td>1703.1600</td></tr>",
                            "<tr><td>68</td><td>3052.2800</td></tr>",
                            "<tr><td>69</td><td>503.2300</td></tr>",
                            "<tr><td>70</td><td>6231.6800</td></tr>",
                            "<tr><td>71</td><td>2461.3200</td></tr>",
                            "<tr><td>72</td><td>2797.1200</td></tr>",
                            "<tr><td>73</td><td>4089.2400</td></tr>",
                            "<tr><td>74</td><td>2909.0400</td></tr>",
                            "<tr><td>75</td><td>1012.8000</td></tr>",
                            "<tr><td>77</td><td>7590.7400</td></tr>",
                            "<tr><td>78</td><td>2518.8800</td></tr>",
                            "<tr><td>79</td><td>2764.2600</td></tr>",
                            "<tr><td>80</td><td>1288.2600</td></tr>",
                            "<tr><td>81</td><td>7969.2000</td></tr>",
                            "<tr><td>82</td><td>1470.3800</td></tr>",
                            "<tr><td>83</td><td>2727.7400</td></tr>",
                            "<tr><td>85</td><td>1293.9400</td></tr>",
                            "<tr><td>87</td><td>4888.1700</td></tr>",
                            "<tr><td>88</td><td>4423.6800</td></tr>",
                            "<tr><td>89</td><td>382.3200</td></tr>",
                            "<tr><td>90</td><td>935.5600</td></tr>",
                            "<tr><td>92</td><td>7243.8300</td></tr>",
                            "<tr><td>93</td><td>3185.1600</td></tr>",
                            "<tr><td>94</td><td>1927.9000</td></tr>",
                            "<tr><td>95</td><td>1670.1000</td></tr>",
                            "<tr><td>97</td><td>4192.5300</td></tr>",
                            "<tr><td>98</td><td>6484.5900</td></tr>",
                            "<tr><td>99</td><td>4609.4400</td></tr>",
                            "<tr><td>101</td><td>9458.8800</td></tr>",
                            "<tr><td>102</td><td>1066.2400</td></tr>",
                            "<tr><td>103</td><td>2734.4800</td></tr>",
                            "<tr><td>104</td><td>3335.0000</td></tr>",
                            "<tr><td>105</td><td>7458.4500</td></tr>",
                            "<tr><td>106</td><td>365.8000</td></tr>",
                            "<tr><td>107</td><td>1825.0000</td></tr>",
                            "<tr><td>108</td><td>7607.4800</td></tr>",
                            "<tr><td>109</td><td>3268.2000</td></tr>",
                            "<tr><td>110</td><td>9305.0000</td></tr>",
                            "<tr><td>111</td><td>7490.8800</td></tr>",
                            "<tr><td>113</td><td>1907.4700</td></tr>",
                            "<tr><td>114</td><td>5790.0000</td></tr>",
                            "<tr><td>115</td><td>3875.0400</td></tr>",
                            "<tr><td>116</td><td>2340.8000</td></tr>",
                            "<tr><td>117</td><td>2756.5500</td></tr>",
                            "<tr><td>118</td><td>1343.2000</td></tr>",
                            "<tr><td>119</td><td>607.5100</td></tr>",
                            "<tr><td>120</td><td>4690.4600</td></tr>",
                            "<tr><td>121</td><td>4538.8800</td></tr>",
                            "<tr><td>122</td><td>6886.4400</td></tr>",
                            "<tr><td>124</td><td>6848.6400</td></tr>",
                            "<tr><td>125</td><td>1372.9800</td></tr>",
                            "<tr><td>126</td><td>3306.0000</td></tr>",
                            "<tr><td>127</td><td>8644.0900</td></tr>",
                            "<tr><td>128</td><td>3187.8400</td></tr>",
                            "<tr><td>129</td><td>1221.4800</td></tr>",
                            "<tr><td>130</td><td>5987.5200</td></tr>",
                            "<tr><td>132</td><td>7817.0500</td></tr>",
                            "<tr><td>133</td><td>461.6600</td></tr>",
                            "<tr><td>134</td><td>1209.1600</td></tr>",
                            "<tr><td>135</td><td>2786.6300</td></tr>",
                            "<tr><td>136</td><td>4967.2500</td></tr>",
                            "<tr><td>137</td><td>4046.4000</td></tr>",
                            "<tr><td>138</td><td>427.0000</td></tr>",
                            "<tr><td>139</td><td>2075.4800</td></tr>",
                            "<tr><td>140</td><td>5282.4000</td></tr>",
                            "<tr><td>141</td><td>4452.7300</td></tr>",
                            "<tr><td>142</td><td>3873.6000</td></tr>",
                            "<tr><td>143</td><td>7241.0400</td></tr>",
                            "<tr><td>144</td><td>3505.7300</td></tr>",
                            "<tr><td>145</td><td>2546.1000</td></tr>",
                            "<tr><td>146</td><td>1259.0400</td></tr>",
                            "<tr><td>147</td><td>78.0900</td></tr>",
                            "<tr><td>148</td><td>367.3200</td></tr>",
                            "<tr><td>149</td><td>6849.9200</td></tr>",
                            "<tr><td>150</td><td>3832.7200</td></tr>",
                            "<tr><td>151</td><td>4508.3500</td></tr>",
                            "<tr><td>152</td><td>5312.0000</td></tr>",
                            "<tr><td>153</td><td>6190.5500</td></tr>",
                            "<tr><td>154</td><td>5507.6000</td></tr>",
                            "<tr><td>155</td><td>5893.2900</td></tr>",
                            "<tr><td>156</td><td>1962.4300</td></tr>",
                            "<tr><td>157</td><td>2760.1600</td></tr>",
                            "<tr><td>159</td><td>5273.6400</td></tr>",
                            "<tr><td>160</td><td>8587.6700</td></tr>",
                            "<tr><td>161</td><td>6386.9800</td></tr>",
                            "<tr><td>162</td><td>602.4000</td></tr>",
                            "<tr><td>163</td><td>3344.0700</td></tr>",
                            "<tr><td>164</td><td>1117.6100</td></tr>",
                            "<tr><td>165</td><td>244.3800</td></tr>",
                            "<tr><td>166</td><td>960.6400</td></tr>",
                            "<tr><td>167</td><td>4850.4000</td></tr>",
                            "<tr><td>168</td><td>7223.3000</td></tr>",
                            "<tr><td>169</td><td>1967.0700</td></tr>",
                            "<tr><td>170</td><td>5543.0000</td></tr>",
                            "<tr><td>171</td><td>5091.1000</td></tr>",
                            "<tr><td>172</td><td>7257.6000</td></tr>",
                            "<tr><td>173</td><td>4917.1300</td></tr>",
                            "<tr><td>174</td><td>2861.3600</td></tr>",
                            "<tr><td>175</td><td>2771.0100</td></tr>",
                            "<tr><td>176</td><td>2829.0000</td></tr>",
                            "<tr><td>178</td><td>1805.4000</td></tr>",
                            "<tr><td>179</td><td>4039.4700</td></tr>",
                            "<tr><td>180</td><td>2406.7200</td></tr>",
                            "<tr><td>181</td><td>1039.3700</td></tr>",
                            "<tr><td>182</td><td>1474.0000</td></tr>",
                            "<tr><td>183</td><td>7924.9000</td></tr>",
                            "<tr><td>184</td><td>3619.5500</td></tr>",
                            "<tr><td>185</td><td>4806.2400</td></tr>",
                            "<tr><td>186</td><td>7611.2400</td></tr>",
                            "<tr><td>187</td><td>760.1400</td></tr>",
                            "<tr><td>189</td><td>740.3200</td></tr>",
                            "<tr><td>190</td><td>5478.8400</td></tr>",
                            "<tr><td>191</td><td>4913.7200</td></tr>",
                            "<tr><td>192</td><td>1702.7400</td></tr>",
                            "<tr><td>193</td><td>6563.2800</td></tr>",
                            "<tr><td>194</td><td>3767.3100</td></tr>",
                            "<tr><td>196</td><td>2671.3600</td></tr>",
                            "<tr><td>197</td><td>4984.0000</td></tr>",
                            "<tr><td>198</td><td>3567.3400</td></tr>",
                            "<tr><td>199</td><td>2137.5200</td></tr>",
                            "<tr><td>200</td><td>3527.7200</td></tr>",
                            "<tr><td>202</td><td>3317.4000</td></tr>",
                            "<tr><td>203</td><td>907.8000</td></tr>",
                            "<tr><td>204</td><td>1881.6000</td></tr>",
                            "<tr><td>205</td><td>5365.3600</td></tr>",
                            "<tr><td>206</td><td>6370.3800</td></tr>",
                            "<tr><td>207</td><td>565.8800</td></tr>",
                            "<tr><td>208</td><td>2856.4000</td></tr>",
                            "<tr><td>209</td><td>3867.9400</td></tr>",
                            "<tr><td>210</td><td>7430.7200</td></tr>",
                            "<tr><td>211</td><td>4679.0100</td></tr>",
                            "<tr><td>212</td><td>1435.4800</td></tr>",
                            "<tr><td>213</td><td>3225.0400</td></tr>",
                            "<tr><td>214</td><td>2026.6200</td></tr>",
                            "<tr><td>215</td><td>1522.9100</td></tr>",
                            "<tr><td>216</td><td>439.4700</td></tr>",
                            "</table>"
                        ]
                    }
                }
            ],
            "execution_count": 15
        },
        {
            "cell_type": "markdown",
            "source": [
                "4. From the previous query select only the loan application sfor which commitments didn't overcome the initial amount requestd"
            ],
            "metadata": {
                "azdata_cell_guid": "b1ce5c6f-3546-4d3c-b196-403520cda7a7"
            }
        },
        {
            "cell_type": "code",
            "source": [
                "-- with subqueries\n",
                "select lc.LOAN_APPLICATION, sum(lc.COMMITMENTAMOUNT) as total_commitment_amount\n",
                "from LOAN_COMMITMENTS as lc\n",
                "group by lc.LOAN_APPLICATION\n",
                "having sum(COMMITMENTAMOUNT) < (\n",
                "    select lap.TOTALLOANAMOUNT\n",
                "    from LOAN_APPLICATIONS as lap\n",
                "    where lap.LOANAPPLICATIONID = lc.LOAN_APPLICATION\n",
                ");\n",
                "go\n",
                "\n",
                "-- with a join expression\n",
                "select lc.LOAN_APPLICATION, sum(lc.COMMITMENTAMOUNT) as total_commitment_amount\n",
                "from LOAN_COMMITMENTS as lc inner join  LOAN_APPLICATIONS as lap on lc.LOAN_APPLICATION = lap.LOANAPPLICATIONID\n",
                "group by lc.LOAN_APPLICATION, lap.TOTALLOANAMOUNT\n",
                "having sum(lc.COMMITMENTAMOUNT) < lap.TOTALLOANAMOUNT;\n",
                "go"
            ],
            "metadata": {
                "azdata_cell_guid": "1449f140-33e4-439a-93c6-12d3edd6b5df"
            },
            "outputs": [
                {
                    "output_type": "display_data",
                    "data": {
                        "text/html": "(157 rows affected)"
                    },
                    "metadata": {}
                },
                {
                    "output_type": "display_data",
                    "data": {
                        "text/html": "(157 rows affected)"
                    },
                    "metadata": {}
                },
                {
                    "output_type": "display_data",
                    "data": {
                        "text/html": "Total execution time: 00:00:00.007"
                    },
                    "metadata": {}
                },
                {
                    "output_type": "execute_result",
                    "metadata": {
                        "resultSet": {
                            "id": 0,
                            "batchId": 0,
                            "rowCount": 157,
                            "complete": true,
                            "columnInfo": [
                                {
                                    "isBytes": false,
                                    "isChars": false,
                                    "isSqlVariant": false,
                                    "isUdt": false,
                                    "isXml": false,
                                    "isJson": false,
                                    "sqlDbType": 5,
                                    "isHierarchyId": false,
                                    "isSqlXmlType": false,
                                    "isUnknownType": false,
                                    "isUpdatable": true,
                                    "allowDBNull": false,
                                    "baseCatalogName": null,
                                    "baseColumnName": null,
                                    "baseSchemaName": null,
                                    "baseServerName": null,
                                    "baseTableName": null,
                                    "columnName": "LOAN_APPLICATION",
                                    "columnOrdinal": 0,
                                    "columnSize": 17,
                                    "isAliased": null,
                                    "isAutoIncrement": false,
                                    "isExpression": null,
                                    "isHidden": null,
                                    "isIdentity": false,
                                    "isKey": null,
                                    "isLong": false,
                                    "isReadOnly": false,
                                    "isUnique": false,
                                    "numericPrecision": 18,
                                    "numericScale": 0,
                                    "udtAssemblyQualifiedName": null,
                                    "dataType": "System.Decimal, System.Private.CoreLib, Version=4.0.0.0, Culture=neutral, PublicKeyToken=7cec85d7bea7798e",
                                    "dataTypeName": "decimal"
                                },
                                {
                                    "isBytes": false,
                                    "isChars": false,
                                    "isSqlVariant": false,
                                    "isUdt": false,
                                    "isXml": false,
                                    "isJson": false,
                                    "sqlDbType": 9,
                                    "isHierarchyId": false,
                                    "isSqlXmlType": false,
                                    "isUnknownType": false,
                                    "isUpdatable": false,
                                    "allowDBNull": true,
                                    "baseCatalogName": null,
                                    "baseColumnName": null,
                                    "baseSchemaName": null,
                                    "baseServerName": null,
                                    "baseTableName": null,
                                    "columnName": "total_commitment_amount",
                                    "columnOrdinal": 1,
                                    "columnSize": 8,
                                    "isAliased": null,
                                    "isAutoIncrement": false,
                                    "isExpression": null,
                                    "isHidden": null,
                                    "isIdentity": false,
                                    "isKey": null,
                                    "isLong": false,
                                    "isReadOnly": true,
                                    "isUnique": false,
                                    "numericPrecision": 19,
                                    "numericScale": 255,
                                    "udtAssemblyQualifiedName": null,
                                    "dataType": "System.Decimal, System.Private.CoreLib, Version=4.0.0.0, Culture=neutral, PublicKeyToken=7cec85d7bea7798e",
                                    "dataTypeName": "money"
                                }
                            ],
                            "specialAction": {
                                "none": true,
                                "expectYukonXMLShowPlan": false
                            }
                        }
                    },
                    "execution_count": 20,
                    "data": {
                        "application/vnd.dataresource+json": {
                            "schema": {
                                "fields": [
                                    {
                                        "name": "LOAN_APPLICATION"
                                    },
                                    {
                                        "name": "total_commitment_amount"
                                    }
                                ]
                            },
                            "data": [
                                {
                                    "0": "43",
                                    "1": "291.3300"
                                },
                                {
                                    "0": "44",
                                    "1": "5320.4200"
                                },
                                {
                                    "0": "45",
                                    "1": "4090.9200"
                                },
                                {
                                    "0": "46",
                                    "1": "584.3200"
                                },
                                {
                                    "0": "47",
                                    "1": "4315.6800"
                                },
                                {
                                    "0": "48",
                                    "1": "1310.4700"
                                },
                                {
                                    "0": "49",
                                    "1": "1063.4400"
                                },
                                {
                                    "0": "50",
                                    "1": "3112.2000"
                                },
                                {
                                    "0": "51",
                                    "1": "514.5000"
                                },
                                {
                                    "0": "52",
                                    "1": "6043.5000"
                                },
                                {
                                    "0": "53",
                                    "1": "5083.6800"
                                },
                                {
                                    "0": "54",
                                    "1": "5849.1500"
                                },
                                {
                                    "0": "55",
                                    "1": "1915.7500"
                                },
                                {
                                    "0": "56",
                                    "1": "3315.5100"
                                },
                                {
                                    "0": "57",
                                    "1": "2811.2400"
                                },
                                {
                                    "0": "59",
                                    "1": "4579.0000"
                                },
                                {
                                    "0": "60",
                                    "1": "186.0100"
                                },
                                {
                                    "0": "61",
                                    "1": "3925.7000"
                                },
                                {
                                    "0": "62",
                                    "1": "609.8400"
                                },
                                {
                                    "0": "63",
                                    "1": "3354.0000"
                                },
                                {
                                    "0": "64",
                                    "1": "6286.6000"
                                },
                                {
                                    "0": "65",
                                    "1": "3501.5200"
                                },
                                {
                                    "0": "66",
                                    "1": "5517.8200"
                                },
                                {
                                    "0": "67",
                                    "1": "1703.1600"
                                },
                                {
                                    "0": "68",
                                    "1": "3052.2800"
                                },
                                {
                                    "0": "69",
                                    "1": "503.2300"
                                },
                                {
                                    "0": "70",
                                    "1": "6231.6800"
                                },
                                {
                                    "0": "71",
                                    "1": "2461.3200"
                                },
                                {
                                    "0": "72",
                                    "1": "2797.1200"
                                },
                                {
                                    "0": "73",
                                    "1": "4089.2400"
                                },
                                {
                                    "0": "74",
                                    "1": "2909.0400"
                                },
                                {
                                    "0": "75",
                                    "1": "1012.8000"
                                },
                                {
                                    "0": "77",
                                    "1": "7590.7400"
                                },
                                {
                                    "0": "78",
                                    "1": "2518.8800"
                                },
                                {
                                    "0": "79",
                                    "1": "2764.2600"
                                },
                                {
                                    "0": "80",
                                    "1": "1288.2600"
                                },
                                {
                                    "0": "81",
                                    "1": "7969.2000"
                                },
                                {
                                    "0": "82",
                                    "1": "1470.3800"
                                },
                                {
                                    "0": "83",
                                    "1": "2727.7400"
                                },
                                {
                                    "0": "85",
                                    "1": "1293.9400"
                                },
                                {
                                    "0": "87",
                                    "1": "4888.1700"
                                },
                                {
                                    "0": "88",
                                    "1": "4423.6800"
                                },
                                {
                                    "0": "89",
                                    "1": "382.3200"
                                },
                                {
                                    "0": "90",
                                    "1": "935.5600"
                                },
                                {
                                    "0": "92",
                                    "1": "7243.8300"
                                },
                                {
                                    "0": "93",
                                    "1": "3185.1600"
                                },
                                {
                                    "0": "94",
                                    "1": "1927.9000"
                                },
                                {
                                    "0": "95",
                                    "1": "1670.1000"
                                },
                                {
                                    "0": "97",
                                    "1": "4192.5300"
                                },
                                {
                                    "0": "98",
                                    "1": "6484.5900"
                                },
                                {
                                    "0": "99",
                                    "1": "4609.4400"
                                },
                                {
                                    "0": "101",
                                    "1": "9458.8800"
                                },
                                {
                                    "0": "102",
                                    "1": "1066.2400"
                                },
                                {
                                    "0": "103",
                                    "1": "2734.4800"
                                },
                                {
                                    "0": "104",
                                    "1": "3335.0000"
                                },
                                {
                                    "0": "105",
                                    "1": "7458.4500"
                                },
                                {
                                    "0": "106",
                                    "1": "365.8000"
                                },
                                {
                                    "0": "107",
                                    "1": "1825.0000"
                                },
                                {
                                    "0": "108",
                                    "1": "7607.4800"
                                },
                                {
                                    "0": "109",
                                    "1": "3268.2000"
                                },
                                {
                                    "0": "111",
                                    "1": "7490.8800"
                                },
                                {
                                    "0": "113",
                                    "1": "1907.4700"
                                },
                                {
                                    "0": "114",
                                    "1": "5790.0000"
                                },
                                {
                                    "0": "115",
                                    "1": "3875.0400"
                                },
                                {
                                    "0": "116",
                                    "1": "2340.8000"
                                },
                                {
                                    "0": "117",
                                    "1": "2756.5500"
                                },
                                {
                                    "0": "118",
                                    "1": "1343.2000"
                                },
                                {
                                    "0": "119",
                                    "1": "607.5100"
                                },
                                {
                                    "0": "120",
                                    "1": "4690.4600"
                                },
                                {
                                    "0": "121",
                                    "1": "4538.8800"
                                },
                                {
                                    "0": "122",
                                    "1": "6886.4400"
                                },
                                {
                                    "0": "124",
                                    "1": "6848.6400"
                                },
                                {
                                    "0": "125",
                                    "1": "1372.9800"
                                },
                                {
                                    "0": "126",
                                    "1": "3306.0000"
                                },
                                {
                                    "0": "127",
                                    "1": "8644.0900"
                                },
                                {
                                    "0": "128",
                                    "1": "3187.8400"
                                },
                                {
                                    "0": "129",
                                    "1": "1221.4800"
                                },
                                {
                                    "0": "130",
                                    "1": "5987.5200"
                                },
                                {
                                    "0": "132",
                                    "1": "7817.0500"
                                },
                                {
                                    "0": "133",
                                    "1": "461.6600"
                                },
                                {
                                    "0": "134",
                                    "1": "1209.1600"
                                },
                                {
                                    "0": "135",
                                    "1": "2786.6300"
                                },
                                {
                                    "0": "136",
                                    "1": "4967.2500"
                                },
                                {
                                    "0": "137",
                                    "1": "4046.4000"
                                },
                                {
                                    "0": "138",
                                    "1": "427.0000"
                                },
                                {
                                    "0": "139",
                                    "1": "2075.4800"
                                },
                                {
                                    "0": "140",
                                    "1": "5282.4000"
                                },
                                {
                                    "0": "141",
                                    "1": "4452.7300"
                                },
                                {
                                    "0": "142",
                                    "1": "3873.6000"
                                },
                                {
                                    "0": "143",
                                    "1": "7241.0400"
                                },
                                {
                                    "0": "144",
                                    "1": "3505.7300"
                                },
                                {
                                    "0": "145",
                                    "1": "2546.1000"
                                },
                                {
                                    "0": "146",
                                    "1": "1259.0400"
                                },
                                {
                                    "0": "147",
                                    "1": "78.0900"
                                },
                                {
                                    "0": "148",
                                    "1": "367.3200"
                                },
                                {
                                    "0": "149",
                                    "1": "6849.9200"
                                },
                                {
                                    "0": "150",
                                    "1": "3832.7200"
                                },
                                {
                                    "0": "151",
                                    "1": "4508.3500"
                                },
                                {
                                    "0": "152",
                                    "1": "5312.0000"
                                },
                                {
                                    "0": "153",
                                    "1": "6190.5500"
                                },
                                {
                                    "0": "154",
                                    "1": "5507.6000"
                                },
                                {
                                    "0": "155",
                                    "1": "5893.2900"
                                },
                                {
                                    "0": "156",
                                    "1": "1962.4300"
                                },
                                {
                                    "0": "157",
                                    "1": "2760.1600"
                                },
                                {
                                    "0": "159",
                                    "1": "5273.6400"
                                },
                                {
                                    "0": "160",
                                    "1": "8587.6700"
                                },
                                {
                                    "0": "161",
                                    "1": "6386.9800"
                                },
                                {
                                    "0": "162",
                                    "1": "602.4000"
                                },
                                {
                                    "0": "163",
                                    "1": "3344.0700"
                                },
                                {
                                    "0": "164",
                                    "1": "1117.6100"
                                },
                                {
                                    "0": "165",
                                    "1": "244.3800"
                                },
                                {
                                    "0": "166",
                                    "1": "960.6400"
                                },
                                {
                                    "0": "167",
                                    "1": "4850.4000"
                                },
                                {
                                    "0": "168",
                                    "1": "7223.3000"
                                },
                                {
                                    "0": "169",
                                    "1": "1967.0700"
                                },
                                {
                                    "0": "171",
                                    "1": "5091.1000"
                                },
                                {
                                    "0": "172",
                                    "1": "7257.6000"
                                },
                                {
                                    "0": "173",
                                    "1": "4917.1300"
                                },
                                {
                                    "0": "174",
                                    "1": "2861.3600"
                                },
                                {
                                    "0": "175",
                                    "1": "2771.0100"
                                },
                                {
                                    "0": "176",
                                    "1": "2829.0000"
                                },
                                {
                                    "0": "178",
                                    "1": "1805.4000"
                                },
                                {
                                    "0": "179",
                                    "1": "4039.4700"
                                },
                                {
                                    "0": "180",
                                    "1": "2406.7200"
                                },
                                {
                                    "0": "181",
                                    "1": "1039.3700"
                                },
                                {
                                    "0": "182",
                                    "1": "1474.0000"
                                },
                                {
                                    "0": "183",
                                    "1": "7924.9000"
                                },
                                {
                                    "0": "184",
                                    "1": "3619.5500"
                                },
                                {
                                    "0": "185",
                                    "1": "4806.2400"
                                },
                                {
                                    "0": "186",
                                    "1": "7611.2400"
                                },
                                {
                                    "0": "187",
                                    "1": "760.1400"
                                },
                                {
                                    "0": "189",
                                    "1": "740.3200"
                                },
                                {
                                    "0": "190",
                                    "1": "5478.8400"
                                },
                                {
                                    "0": "191",
                                    "1": "4913.7200"
                                },
                                {
                                    "0": "192",
                                    "1": "1702.7400"
                                },
                                {
                                    "0": "193",
                                    "1": "6563.2800"
                                },
                                {
                                    "0": "194",
                                    "1": "3767.3100"
                                },
                                {
                                    "0": "196",
                                    "1": "2671.3600"
                                },
                                {
                                    "0": "197",
                                    "1": "4984.0000"
                                },
                                {
                                    "0": "198",
                                    "1": "3567.3400"
                                },
                                {
                                    "0": "199",
                                    "1": "2137.5200"
                                },
                                {
                                    "0": "200",
                                    "1": "3527.7200"
                                },
                                {
                                    "0": "202",
                                    "1": "3317.4000"
                                },
                                {
                                    "0": "203",
                                    "1": "907.8000"
                                },
                                {
                                    "0": "204",
                                    "1": "1881.6000"
                                },
                                {
                                    "0": "205",
                                    "1": "5365.3600"
                                },
                                {
                                    "0": "206",
                                    "1": "6370.3800"
                                },
                                {
                                    "0": "207",
                                    "1": "565.8800"
                                },
                                {
                                    "0": "208",
                                    "1": "2856.4000"
                                },
                                {
                                    "0": "209",
                                    "1": "3867.9400"
                                },
                                {
                                    "0": "210",
                                    "1": "7430.7200"
                                },
                                {
                                    "0": "211",
                                    "1": "4679.0100"
                                },
                                {
                                    "0": "212",
                                    "1": "1435.4800"
                                },
                                {
                                    "0": "213",
                                    "1": "3225.0400"
                                },
                                {
                                    "0": "214",
                                    "1": "2026.6200"
                                },
                                {
                                    "0": "215",
                                    "1": "1522.9100"
                                },
                                {
                                    "0": "216",
                                    "1": "439.4700"
                                }
                            ]
                        },
                        "text/html": [
                            "<table>",
                            "<tr><th>LOAN_APPLICATION</th><th>total_commitment_amount</th></tr>",
                            "<tr><td>43</td><td>291.3300</td></tr>",
                            "<tr><td>44</td><td>5320.4200</td></tr>",
                            "<tr><td>45</td><td>4090.9200</td></tr>",
                            "<tr><td>46</td><td>584.3200</td></tr>",
                            "<tr><td>47</td><td>4315.6800</td></tr>",
                            "<tr><td>48</td><td>1310.4700</td></tr>",
                            "<tr><td>49</td><td>1063.4400</td></tr>",
                            "<tr><td>50</td><td>3112.2000</td></tr>",
                            "<tr><td>51</td><td>514.5000</td></tr>",
                            "<tr><td>52</td><td>6043.5000</td></tr>",
                            "<tr><td>53</td><td>5083.6800</td></tr>",
                            "<tr><td>54</td><td>5849.1500</td></tr>",
                            "<tr><td>55</td><td>1915.7500</td></tr>",
                            "<tr><td>56</td><td>3315.5100</td></tr>",
                            "<tr><td>57</td><td>2811.2400</td></tr>",
                            "<tr><td>59</td><td>4579.0000</td></tr>",
                            "<tr><td>60</td><td>186.0100</td></tr>",
                            "<tr><td>61</td><td>3925.7000</td></tr>",
                            "<tr><td>62</td><td>609.8400</td></tr>",
                            "<tr><td>63</td><td>3354.0000</td></tr>",
                            "<tr><td>64</td><td>6286.6000</td></tr>",
                            "<tr><td>65</td><td>3501.5200</td></tr>",
                            "<tr><td>66</td><td>5517.8200</td></tr>",
                            "<tr><td>67</td><td>1703.1600</td></tr>",
                            "<tr><td>68</td><td>3052.2800</td></tr>",
                            "<tr><td>69</td><td>503.2300</td></tr>",
                            "<tr><td>70</td><td>6231.6800</td></tr>",
                            "<tr><td>71</td><td>2461.3200</td></tr>",
                            "<tr><td>72</td><td>2797.1200</td></tr>",
                            "<tr><td>73</td><td>4089.2400</td></tr>",
                            "<tr><td>74</td><td>2909.0400</td></tr>",
                            "<tr><td>75</td><td>1012.8000</td></tr>",
                            "<tr><td>77</td><td>7590.7400</td></tr>",
                            "<tr><td>78</td><td>2518.8800</td></tr>",
                            "<tr><td>79</td><td>2764.2600</td></tr>",
                            "<tr><td>80</td><td>1288.2600</td></tr>",
                            "<tr><td>81</td><td>7969.2000</td></tr>",
                            "<tr><td>82</td><td>1470.3800</td></tr>",
                            "<tr><td>83</td><td>2727.7400</td></tr>",
                            "<tr><td>85</td><td>1293.9400</td></tr>",
                            "<tr><td>87</td><td>4888.1700</td></tr>",
                            "<tr><td>88</td><td>4423.6800</td></tr>",
                            "<tr><td>89</td><td>382.3200</td></tr>",
                            "<tr><td>90</td><td>935.5600</td></tr>",
                            "<tr><td>92</td><td>7243.8300</td></tr>",
                            "<tr><td>93</td><td>3185.1600</td></tr>",
                            "<tr><td>94</td><td>1927.9000</td></tr>",
                            "<tr><td>95</td><td>1670.1000</td></tr>",
                            "<tr><td>97</td><td>4192.5300</td></tr>",
                            "<tr><td>98</td><td>6484.5900</td></tr>",
                            "<tr><td>99</td><td>4609.4400</td></tr>",
                            "<tr><td>101</td><td>9458.8800</td></tr>",
                            "<tr><td>102</td><td>1066.2400</td></tr>",
                            "<tr><td>103</td><td>2734.4800</td></tr>",
                            "<tr><td>104</td><td>3335.0000</td></tr>",
                            "<tr><td>105</td><td>7458.4500</td></tr>",
                            "<tr><td>106</td><td>365.8000</td></tr>",
                            "<tr><td>107</td><td>1825.0000</td></tr>",
                            "<tr><td>108</td><td>7607.4800</td></tr>",
                            "<tr><td>109</td><td>3268.2000</td></tr>",
                            "<tr><td>111</td><td>7490.8800</td></tr>",
                            "<tr><td>113</td><td>1907.4700</td></tr>",
                            "<tr><td>114</td><td>5790.0000</td></tr>",
                            "<tr><td>115</td><td>3875.0400</td></tr>",
                            "<tr><td>116</td><td>2340.8000</td></tr>",
                            "<tr><td>117</td><td>2756.5500</td></tr>",
                            "<tr><td>118</td><td>1343.2000</td></tr>",
                            "<tr><td>119</td><td>607.5100</td></tr>",
                            "<tr><td>120</td><td>4690.4600</td></tr>",
                            "<tr><td>121</td><td>4538.8800</td></tr>",
                            "<tr><td>122</td><td>6886.4400</td></tr>",
                            "<tr><td>124</td><td>6848.6400</td></tr>",
                            "<tr><td>125</td><td>1372.9800</td></tr>",
                            "<tr><td>126</td><td>3306.0000</td></tr>",
                            "<tr><td>127</td><td>8644.0900</td></tr>",
                            "<tr><td>128</td><td>3187.8400</td></tr>",
                            "<tr><td>129</td><td>1221.4800</td></tr>",
                            "<tr><td>130</td><td>5987.5200</td></tr>",
                            "<tr><td>132</td><td>7817.0500</td></tr>",
                            "<tr><td>133</td><td>461.6600</td></tr>",
                            "<tr><td>134</td><td>1209.1600</td></tr>",
                            "<tr><td>135</td><td>2786.6300</td></tr>",
                            "<tr><td>136</td><td>4967.2500</td></tr>",
                            "<tr><td>137</td><td>4046.4000</td></tr>",
                            "<tr><td>138</td><td>427.0000</td></tr>",
                            "<tr><td>139</td><td>2075.4800</td></tr>",
                            "<tr><td>140</td><td>5282.4000</td></tr>",
                            "<tr><td>141</td><td>4452.7300</td></tr>",
                            "<tr><td>142</td><td>3873.6000</td></tr>",
                            "<tr><td>143</td><td>7241.0400</td></tr>",
                            "<tr><td>144</td><td>3505.7300</td></tr>",
                            "<tr><td>145</td><td>2546.1000</td></tr>",
                            "<tr><td>146</td><td>1259.0400</td></tr>",
                            "<tr><td>147</td><td>78.0900</td></tr>",
                            "<tr><td>148</td><td>367.3200</td></tr>",
                            "<tr><td>149</td><td>6849.9200</td></tr>",
                            "<tr><td>150</td><td>3832.7200</td></tr>",
                            "<tr><td>151</td><td>4508.3500</td></tr>",
                            "<tr><td>152</td><td>5312.0000</td></tr>",
                            "<tr><td>153</td><td>6190.5500</td></tr>",
                            "<tr><td>154</td><td>5507.6000</td></tr>",
                            "<tr><td>155</td><td>5893.2900</td></tr>",
                            "<tr><td>156</td><td>1962.4300</td></tr>",
                            "<tr><td>157</td><td>2760.1600</td></tr>",
                            "<tr><td>159</td><td>5273.6400</td></tr>",
                            "<tr><td>160</td><td>8587.6700</td></tr>",
                            "<tr><td>161</td><td>6386.9800</td></tr>",
                            "<tr><td>162</td><td>602.4000</td></tr>",
                            "<tr><td>163</td><td>3344.0700</td></tr>",
                            "<tr><td>164</td><td>1117.6100</td></tr>",
                            "<tr><td>165</td><td>244.3800</td></tr>",
                            "<tr><td>166</td><td>960.6400</td></tr>",
                            "<tr><td>167</td><td>4850.4000</td></tr>",
                            "<tr><td>168</td><td>7223.3000</td></tr>",
                            "<tr><td>169</td><td>1967.0700</td></tr>",
                            "<tr><td>171</td><td>5091.1000</td></tr>",
                            "<tr><td>172</td><td>7257.6000</td></tr>",
                            "<tr><td>173</td><td>4917.1300</td></tr>",
                            "<tr><td>174</td><td>2861.3600</td></tr>",
                            "<tr><td>175</td><td>2771.0100</td></tr>",
                            "<tr><td>176</td><td>2829.0000</td></tr>",
                            "<tr><td>178</td><td>1805.4000</td></tr>",
                            "<tr><td>179</td><td>4039.4700</td></tr>",
                            "<tr><td>180</td><td>2406.7200</td></tr>",
                            "<tr><td>181</td><td>1039.3700</td></tr>",
                            "<tr><td>182</td><td>1474.0000</td></tr>",
                            "<tr><td>183</td><td>7924.9000</td></tr>",
                            "<tr><td>184</td><td>3619.5500</td></tr>",
                            "<tr><td>185</td><td>4806.2400</td></tr>",
                            "<tr><td>186</td><td>7611.2400</td></tr>",
                            "<tr><td>187</td><td>760.1400</td></tr>",
                            "<tr><td>189</td><td>740.3200</td></tr>",
                            "<tr><td>190</td><td>5478.8400</td></tr>",
                            "<tr><td>191</td><td>4913.7200</td></tr>",
                            "<tr><td>192</td><td>1702.7400</td></tr>",
                            "<tr><td>193</td><td>6563.2800</td></tr>",
                            "<tr><td>194</td><td>3767.3100</td></tr>",
                            "<tr><td>196</td><td>2671.3600</td></tr>",
                            "<tr><td>197</td><td>4984.0000</td></tr>",
                            "<tr><td>198</td><td>3567.3400</td></tr>",
                            "<tr><td>199</td><td>2137.5200</td></tr>",
                            "<tr><td>200</td><td>3527.7200</td></tr>",
                            "<tr><td>202</td><td>3317.4000</td></tr>",
                            "<tr><td>203</td><td>907.8000</td></tr>",
                            "<tr><td>204</td><td>1881.6000</td></tr>",
                            "<tr><td>205</td><td>5365.3600</td></tr>",
                            "<tr><td>206</td><td>6370.3800</td></tr>",
                            "<tr><td>207</td><td>565.8800</td></tr>",
                            "<tr><td>208</td><td>2856.4000</td></tr>",
                            "<tr><td>209</td><td>3867.9400</td></tr>",
                            "<tr><td>210</td><td>7430.7200</td></tr>",
                            "<tr><td>211</td><td>4679.0100</td></tr>",
                            "<tr><td>212</td><td>1435.4800</td></tr>",
                            "<tr><td>213</td><td>3225.0400</td></tr>",
                            "<tr><td>214</td><td>2026.6200</td></tr>",
                            "<tr><td>215</td><td>1522.9100</td></tr>",
                            "<tr><td>216</td><td>439.4700</td></tr>",
                            "</table>"
                        ]
                    }
                },
                {
                    "output_type": "execute_result",
                    "metadata": {
                        "resultSet": {
                            "id": 0,
                            "batchId": 1,
                            "rowCount": 157,
                            "complete": true,
                            "columnInfo": [
                                {
                                    "isBytes": false,
                                    "isChars": false,
                                    "isSqlVariant": false,
                                    "isUdt": false,
                                    "isXml": false,
                                    "isJson": false,
                                    "sqlDbType": 5,
                                    "isHierarchyId": false,
                                    "isSqlXmlType": false,
                                    "isUnknownType": false,
                                    "isUpdatable": true,
                                    "allowDBNull": false,
                                    "baseCatalogName": null,
                                    "baseColumnName": null,
                                    "baseSchemaName": null,
                                    "baseServerName": null,
                                    "baseTableName": null,
                                    "columnName": "LOAN_APPLICATION",
                                    "columnOrdinal": 0,
                                    "columnSize": 17,
                                    "isAliased": null,
                                    "isAutoIncrement": false,
                                    "isExpression": null,
                                    "isHidden": null,
                                    "isIdentity": false,
                                    "isKey": null,
                                    "isLong": false,
                                    "isReadOnly": false,
                                    "isUnique": false,
                                    "numericPrecision": 18,
                                    "numericScale": 0,
                                    "udtAssemblyQualifiedName": null,
                                    "dataType": "System.Decimal, System.Private.CoreLib, Version=4.0.0.0, Culture=neutral, PublicKeyToken=7cec85d7bea7798e",
                                    "dataTypeName": "decimal"
                                },
                                {
                                    "isBytes": false,
                                    "isChars": false,
                                    "isSqlVariant": false,
                                    "isUdt": false,
                                    "isXml": false,
                                    "isJson": false,
                                    "sqlDbType": 9,
                                    "isHierarchyId": false,
                                    "isSqlXmlType": false,
                                    "isUnknownType": false,
                                    "isUpdatable": false,
                                    "allowDBNull": true,
                                    "baseCatalogName": null,
                                    "baseColumnName": null,
                                    "baseSchemaName": null,
                                    "baseServerName": null,
                                    "baseTableName": null,
                                    "columnName": "total_commitment_amount",
                                    "columnOrdinal": 1,
                                    "columnSize": 8,
                                    "isAliased": null,
                                    "isAutoIncrement": false,
                                    "isExpression": null,
                                    "isHidden": null,
                                    "isIdentity": false,
                                    "isKey": null,
                                    "isLong": false,
                                    "isReadOnly": true,
                                    "isUnique": false,
                                    "numericPrecision": 19,
                                    "numericScale": 255,
                                    "udtAssemblyQualifiedName": null,
                                    "dataType": "System.Decimal, System.Private.CoreLib, Version=4.0.0.0, Culture=neutral, PublicKeyToken=7cec85d7bea7798e",
                                    "dataTypeName": "money"
                                }
                            ],
                            "specialAction": {
                                "none": true,
                                "expectYukonXMLShowPlan": false
                            }
                        }
                    },
                    "execution_count": 20,
                    "data": {
                        "application/vnd.dataresource+json": {
                            "schema": {
                                "fields": [
                                    {
                                        "name": "LOAN_APPLICATION"
                                    },
                                    {
                                        "name": "total_commitment_amount"
                                    }
                                ]
                            },
                            "data": [
                                {
                                    "0": "43",
                                    "1": "291.3300"
                                },
                                {
                                    "0": "44",
                                    "1": "5320.4200"
                                },
                                {
                                    "0": "45",
                                    "1": "4090.9200"
                                },
                                {
                                    "0": "46",
                                    "1": "584.3200"
                                },
                                {
                                    "0": "47",
                                    "1": "4315.6800"
                                },
                                {
                                    "0": "48",
                                    "1": "1310.4700"
                                },
                                {
                                    "0": "49",
                                    "1": "1063.4400"
                                },
                                {
                                    "0": "50",
                                    "1": "3112.2000"
                                },
                                {
                                    "0": "51",
                                    "1": "514.5000"
                                },
                                {
                                    "0": "52",
                                    "1": "6043.5000"
                                },
                                {
                                    "0": "53",
                                    "1": "5083.6800"
                                },
                                {
                                    "0": "54",
                                    "1": "5849.1500"
                                },
                                {
                                    "0": "55",
                                    "1": "1915.7500"
                                },
                                {
                                    "0": "56",
                                    "1": "3315.5100"
                                },
                                {
                                    "0": "57",
                                    "1": "2811.2400"
                                },
                                {
                                    "0": "59",
                                    "1": "4579.0000"
                                },
                                {
                                    "0": "60",
                                    "1": "186.0100"
                                },
                                {
                                    "0": "61",
                                    "1": "3925.7000"
                                },
                                {
                                    "0": "62",
                                    "1": "609.8400"
                                },
                                {
                                    "0": "63",
                                    "1": "3354.0000"
                                },
                                {
                                    "0": "64",
                                    "1": "6286.6000"
                                },
                                {
                                    "0": "65",
                                    "1": "3501.5200"
                                },
                                {
                                    "0": "66",
                                    "1": "5517.8200"
                                },
                                {
                                    "0": "67",
                                    "1": "1703.1600"
                                },
                                {
                                    "0": "68",
                                    "1": "3052.2800"
                                },
                                {
                                    "0": "69",
                                    "1": "503.2300"
                                },
                                {
                                    "0": "70",
                                    "1": "6231.6800"
                                },
                                {
                                    "0": "71",
                                    "1": "2461.3200"
                                },
                                {
                                    "0": "72",
                                    "1": "2797.1200"
                                },
                                {
                                    "0": "73",
                                    "1": "4089.2400"
                                },
                                {
                                    "0": "74",
                                    "1": "2909.0400"
                                },
                                {
                                    "0": "75",
                                    "1": "1012.8000"
                                },
                                {
                                    "0": "77",
                                    "1": "7590.7400"
                                },
                                {
                                    "0": "78",
                                    "1": "2518.8800"
                                },
                                {
                                    "0": "79",
                                    "1": "2764.2600"
                                },
                                {
                                    "0": "80",
                                    "1": "1288.2600"
                                },
                                {
                                    "0": "81",
                                    "1": "7969.2000"
                                },
                                {
                                    "0": "82",
                                    "1": "1470.3800"
                                },
                                {
                                    "0": "83",
                                    "1": "2727.7400"
                                },
                                {
                                    "0": "85",
                                    "1": "1293.9400"
                                },
                                {
                                    "0": "87",
                                    "1": "4888.1700"
                                },
                                {
                                    "0": "88",
                                    "1": "4423.6800"
                                },
                                {
                                    "0": "89",
                                    "1": "382.3200"
                                },
                                {
                                    "0": "90",
                                    "1": "935.5600"
                                },
                                {
                                    "0": "92",
                                    "1": "7243.8300"
                                },
                                {
                                    "0": "93",
                                    "1": "3185.1600"
                                },
                                {
                                    "0": "94",
                                    "1": "1927.9000"
                                },
                                {
                                    "0": "95",
                                    "1": "1670.1000"
                                },
                                {
                                    "0": "97",
                                    "1": "4192.5300"
                                },
                                {
                                    "0": "98",
                                    "1": "6484.5900"
                                },
                                {
                                    "0": "99",
                                    "1": "4609.4400"
                                },
                                {
                                    "0": "101",
                                    "1": "9458.8800"
                                },
                                {
                                    "0": "102",
                                    "1": "1066.2400"
                                },
                                {
                                    "0": "103",
                                    "1": "2734.4800"
                                },
                                {
                                    "0": "104",
                                    "1": "3335.0000"
                                },
                                {
                                    "0": "105",
                                    "1": "7458.4500"
                                },
                                {
                                    "0": "106",
                                    "1": "365.8000"
                                },
                                {
                                    "0": "107",
                                    "1": "1825.0000"
                                },
                                {
                                    "0": "108",
                                    "1": "7607.4800"
                                },
                                {
                                    "0": "109",
                                    "1": "3268.2000"
                                },
                                {
                                    "0": "111",
                                    "1": "7490.8800"
                                },
                                {
                                    "0": "113",
                                    "1": "1907.4700"
                                },
                                {
                                    "0": "114",
                                    "1": "5790.0000"
                                },
                                {
                                    "0": "115",
                                    "1": "3875.0400"
                                },
                                {
                                    "0": "116",
                                    "1": "2340.8000"
                                },
                                {
                                    "0": "117",
                                    "1": "2756.5500"
                                },
                                {
                                    "0": "118",
                                    "1": "1343.2000"
                                },
                                {
                                    "0": "119",
                                    "1": "607.5100"
                                },
                                {
                                    "0": "120",
                                    "1": "4690.4600"
                                },
                                {
                                    "0": "121",
                                    "1": "4538.8800"
                                },
                                {
                                    "0": "122",
                                    "1": "6886.4400"
                                },
                                {
                                    "0": "124",
                                    "1": "6848.6400"
                                },
                                {
                                    "0": "125",
                                    "1": "1372.9800"
                                },
                                {
                                    "0": "126",
                                    "1": "3306.0000"
                                },
                                {
                                    "0": "127",
                                    "1": "8644.0900"
                                },
                                {
                                    "0": "128",
                                    "1": "3187.8400"
                                },
                                {
                                    "0": "129",
                                    "1": "1221.4800"
                                },
                                {
                                    "0": "130",
                                    "1": "5987.5200"
                                },
                                {
                                    "0": "132",
                                    "1": "7817.0500"
                                },
                                {
                                    "0": "133",
                                    "1": "461.6600"
                                },
                                {
                                    "0": "134",
                                    "1": "1209.1600"
                                },
                                {
                                    "0": "135",
                                    "1": "2786.6300"
                                },
                                {
                                    "0": "136",
                                    "1": "4967.2500"
                                },
                                {
                                    "0": "137",
                                    "1": "4046.4000"
                                },
                                {
                                    "0": "138",
                                    "1": "427.0000"
                                },
                                {
                                    "0": "139",
                                    "1": "2075.4800"
                                },
                                {
                                    "0": "140",
                                    "1": "5282.4000"
                                },
                                {
                                    "0": "141",
                                    "1": "4452.7300"
                                },
                                {
                                    "0": "142",
                                    "1": "3873.6000"
                                },
                                {
                                    "0": "143",
                                    "1": "7241.0400"
                                },
                                {
                                    "0": "144",
                                    "1": "3505.7300"
                                },
                                {
                                    "0": "145",
                                    "1": "2546.1000"
                                },
                                {
                                    "0": "146",
                                    "1": "1259.0400"
                                },
                                {
                                    "0": "147",
                                    "1": "78.0900"
                                },
                                {
                                    "0": "148",
                                    "1": "367.3200"
                                },
                                {
                                    "0": "149",
                                    "1": "6849.9200"
                                },
                                {
                                    "0": "150",
                                    "1": "3832.7200"
                                },
                                {
                                    "0": "151",
                                    "1": "4508.3500"
                                },
                                {
                                    "0": "152",
                                    "1": "5312.0000"
                                },
                                {
                                    "0": "153",
                                    "1": "6190.5500"
                                },
                                {
                                    "0": "154",
                                    "1": "5507.6000"
                                },
                                {
                                    "0": "155",
                                    "1": "5893.2900"
                                },
                                {
                                    "0": "156",
                                    "1": "1962.4300"
                                },
                                {
                                    "0": "157",
                                    "1": "2760.1600"
                                },
                                {
                                    "0": "159",
                                    "1": "5273.6400"
                                },
                                {
                                    "0": "160",
                                    "1": "8587.6700"
                                },
                                {
                                    "0": "161",
                                    "1": "6386.9800"
                                },
                                {
                                    "0": "162",
                                    "1": "602.4000"
                                },
                                {
                                    "0": "163",
                                    "1": "3344.0700"
                                },
                                {
                                    "0": "164",
                                    "1": "1117.6100"
                                },
                                {
                                    "0": "165",
                                    "1": "244.3800"
                                },
                                {
                                    "0": "166",
                                    "1": "960.6400"
                                },
                                {
                                    "0": "167",
                                    "1": "4850.4000"
                                },
                                {
                                    "0": "168",
                                    "1": "7223.3000"
                                },
                                {
                                    "0": "169",
                                    "1": "1967.0700"
                                },
                                {
                                    "0": "171",
                                    "1": "5091.1000"
                                },
                                {
                                    "0": "172",
                                    "1": "7257.6000"
                                },
                                {
                                    "0": "173",
                                    "1": "4917.1300"
                                },
                                {
                                    "0": "174",
                                    "1": "2861.3600"
                                },
                                {
                                    "0": "175",
                                    "1": "2771.0100"
                                },
                                {
                                    "0": "176",
                                    "1": "2829.0000"
                                },
                                {
                                    "0": "178",
                                    "1": "1805.4000"
                                },
                                {
                                    "0": "179",
                                    "1": "4039.4700"
                                },
                                {
                                    "0": "180",
                                    "1": "2406.7200"
                                },
                                {
                                    "0": "181",
                                    "1": "1039.3700"
                                },
                                {
                                    "0": "182",
                                    "1": "1474.0000"
                                },
                                {
                                    "0": "183",
                                    "1": "7924.9000"
                                },
                                {
                                    "0": "184",
                                    "1": "3619.5500"
                                },
                                {
                                    "0": "185",
                                    "1": "4806.2400"
                                },
                                {
                                    "0": "186",
                                    "1": "7611.2400"
                                },
                                {
                                    "0": "187",
                                    "1": "760.1400"
                                },
                                {
                                    "0": "189",
                                    "1": "740.3200"
                                },
                                {
                                    "0": "190",
                                    "1": "5478.8400"
                                },
                                {
                                    "0": "191",
                                    "1": "4913.7200"
                                },
                                {
                                    "0": "192",
                                    "1": "1702.7400"
                                },
                                {
                                    "0": "193",
                                    "1": "6563.2800"
                                },
                                {
                                    "0": "194",
                                    "1": "3767.3100"
                                },
                                {
                                    "0": "196",
                                    "1": "2671.3600"
                                },
                                {
                                    "0": "197",
                                    "1": "4984.0000"
                                },
                                {
                                    "0": "198",
                                    "1": "3567.3400"
                                },
                                {
                                    "0": "199",
                                    "1": "2137.5200"
                                },
                                {
                                    "0": "200",
                                    "1": "3527.7200"
                                },
                                {
                                    "0": "202",
                                    "1": "3317.4000"
                                },
                                {
                                    "0": "203",
                                    "1": "907.8000"
                                },
                                {
                                    "0": "204",
                                    "1": "1881.6000"
                                },
                                {
                                    "0": "205",
                                    "1": "5365.3600"
                                },
                                {
                                    "0": "206",
                                    "1": "6370.3800"
                                },
                                {
                                    "0": "207",
                                    "1": "565.8800"
                                },
                                {
                                    "0": "208",
                                    "1": "2856.4000"
                                },
                                {
                                    "0": "209",
                                    "1": "3867.9400"
                                },
                                {
                                    "0": "210",
                                    "1": "7430.7200"
                                },
                                {
                                    "0": "211",
                                    "1": "4679.0100"
                                },
                                {
                                    "0": "212",
                                    "1": "1435.4800"
                                },
                                {
                                    "0": "213",
                                    "1": "3225.0400"
                                },
                                {
                                    "0": "214",
                                    "1": "2026.6200"
                                },
                                {
                                    "0": "215",
                                    "1": "1522.9100"
                                },
                                {
                                    "0": "216",
                                    "1": "439.4700"
                                }
                            ]
                        },
                        "text/html": [
                            "<table>",
                            "<tr><th>LOAN_APPLICATION</th><th>total_commitment_amount</th></tr>",
                            "<tr><td>43</td><td>291.3300</td></tr>",
                            "<tr><td>44</td><td>5320.4200</td></tr>",
                            "<tr><td>45</td><td>4090.9200</td></tr>",
                            "<tr><td>46</td><td>584.3200</td></tr>",
                            "<tr><td>47</td><td>4315.6800</td></tr>",
                            "<tr><td>48</td><td>1310.4700</td></tr>",
                            "<tr><td>49</td><td>1063.4400</td></tr>",
                            "<tr><td>50</td><td>3112.2000</td></tr>",
                            "<tr><td>51</td><td>514.5000</td></tr>",
                            "<tr><td>52</td><td>6043.5000</td></tr>",
                            "<tr><td>53</td><td>5083.6800</td></tr>",
                            "<tr><td>54</td><td>5849.1500</td></tr>",
                            "<tr><td>55</td><td>1915.7500</td></tr>",
                            "<tr><td>56</td><td>3315.5100</td></tr>",
                            "<tr><td>57</td><td>2811.2400</td></tr>",
                            "<tr><td>59</td><td>4579.0000</td></tr>",
                            "<tr><td>60</td><td>186.0100</td></tr>",
                            "<tr><td>61</td><td>3925.7000</td></tr>",
                            "<tr><td>62</td><td>609.8400</td></tr>",
                            "<tr><td>63</td><td>3354.0000</td></tr>",
                            "<tr><td>64</td><td>6286.6000</td></tr>",
                            "<tr><td>65</td><td>3501.5200</td></tr>",
                            "<tr><td>66</td><td>5517.8200</td></tr>",
                            "<tr><td>67</td><td>1703.1600</td></tr>",
                            "<tr><td>68</td><td>3052.2800</td></tr>",
                            "<tr><td>69</td><td>503.2300</td></tr>",
                            "<tr><td>70</td><td>6231.6800</td></tr>",
                            "<tr><td>71</td><td>2461.3200</td></tr>",
                            "<tr><td>72</td><td>2797.1200</td></tr>",
                            "<tr><td>73</td><td>4089.2400</td></tr>",
                            "<tr><td>74</td><td>2909.0400</td></tr>",
                            "<tr><td>75</td><td>1012.8000</td></tr>",
                            "<tr><td>77</td><td>7590.7400</td></tr>",
                            "<tr><td>78</td><td>2518.8800</td></tr>",
                            "<tr><td>79</td><td>2764.2600</td></tr>",
                            "<tr><td>80</td><td>1288.2600</td></tr>",
                            "<tr><td>81</td><td>7969.2000</td></tr>",
                            "<tr><td>82</td><td>1470.3800</td></tr>",
                            "<tr><td>83</td><td>2727.7400</td></tr>",
                            "<tr><td>85</td><td>1293.9400</td></tr>",
                            "<tr><td>87</td><td>4888.1700</td></tr>",
                            "<tr><td>88</td><td>4423.6800</td></tr>",
                            "<tr><td>89</td><td>382.3200</td></tr>",
                            "<tr><td>90</td><td>935.5600</td></tr>",
                            "<tr><td>92</td><td>7243.8300</td></tr>",
                            "<tr><td>93</td><td>3185.1600</td></tr>",
                            "<tr><td>94</td><td>1927.9000</td></tr>",
                            "<tr><td>95</td><td>1670.1000</td></tr>",
                            "<tr><td>97</td><td>4192.5300</td></tr>",
                            "<tr><td>98</td><td>6484.5900</td></tr>",
                            "<tr><td>99</td><td>4609.4400</td></tr>",
                            "<tr><td>101</td><td>9458.8800</td></tr>",
                            "<tr><td>102</td><td>1066.2400</td></tr>",
                            "<tr><td>103</td><td>2734.4800</td></tr>",
                            "<tr><td>104</td><td>3335.0000</td></tr>",
                            "<tr><td>105</td><td>7458.4500</td></tr>",
                            "<tr><td>106</td><td>365.8000</td></tr>",
                            "<tr><td>107</td><td>1825.0000</td></tr>",
                            "<tr><td>108</td><td>7607.4800</td></tr>",
                            "<tr><td>109</td><td>3268.2000</td></tr>",
                            "<tr><td>111</td><td>7490.8800</td></tr>",
                            "<tr><td>113</td><td>1907.4700</td></tr>",
                            "<tr><td>114</td><td>5790.0000</td></tr>",
                            "<tr><td>115</td><td>3875.0400</td></tr>",
                            "<tr><td>116</td><td>2340.8000</td></tr>",
                            "<tr><td>117</td><td>2756.5500</td></tr>",
                            "<tr><td>118</td><td>1343.2000</td></tr>",
                            "<tr><td>119</td><td>607.5100</td></tr>",
                            "<tr><td>120</td><td>4690.4600</td></tr>",
                            "<tr><td>121</td><td>4538.8800</td></tr>",
                            "<tr><td>122</td><td>6886.4400</td></tr>",
                            "<tr><td>124</td><td>6848.6400</td></tr>",
                            "<tr><td>125</td><td>1372.9800</td></tr>",
                            "<tr><td>126</td><td>3306.0000</td></tr>",
                            "<tr><td>127</td><td>8644.0900</td></tr>",
                            "<tr><td>128</td><td>3187.8400</td></tr>",
                            "<tr><td>129</td><td>1221.4800</td></tr>",
                            "<tr><td>130</td><td>5987.5200</td></tr>",
                            "<tr><td>132</td><td>7817.0500</td></tr>",
                            "<tr><td>133</td><td>461.6600</td></tr>",
                            "<tr><td>134</td><td>1209.1600</td></tr>",
                            "<tr><td>135</td><td>2786.6300</td></tr>",
                            "<tr><td>136</td><td>4967.2500</td></tr>",
                            "<tr><td>137</td><td>4046.4000</td></tr>",
                            "<tr><td>138</td><td>427.0000</td></tr>",
                            "<tr><td>139</td><td>2075.4800</td></tr>",
                            "<tr><td>140</td><td>5282.4000</td></tr>",
                            "<tr><td>141</td><td>4452.7300</td></tr>",
                            "<tr><td>142</td><td>3873.6000</td></tr>",
                            "<tr><td>143</td><td>7241.0400</td></tr>",
                            "<tr><td>144</td><td>3505.7300</td></tr>",
                            "<tr><td>145</td><td>2546.1000</td></tr>",
                            "<tr><td>146</td><td>1259.0400</td></tr>",
                            "<tr><td>147</td><td>78.0900</td></tr>",
                            "<tr><td>148</td><td>367.3200</td></tr>",
                            "<tr><td>149</td><td>6849.9200</td></tr>",
                            "<tr><td>150</td><td>3832.7200</td></tr>",
                            "<tr><td>151</td><td>4508.3500</td></tr>",
                            "<tr><td>152</td><td>5312.0000</td></tr>",
                            "<tr><td>153</td><td>6190.5500</td></tr>",
                            "<tr><td>154</td><td>5507.6000</td></tr>",
                            "<tr><td>155</td><td>5893.2900</td></tr>",
                            "<tr><td>156</td><td>1962.4300</td></tr>",
                            "<tr><td>157</td><td>2760.1600</td></tr>",
                            "<tr><td>159</td><td>5273.6400</td></tr>",
                            "<tr><td>160</td><td>8587.6700</td></tr>",
                            "<tr><td>161</td><td>6386.9800</td></tr>",
                            "<tr><td>162</td><td>602.4000</td></tr>",
                            "<tr><td>163</td><td>3344.0700</td></tr>",
                            "<tr><td>164</td><td>1117.6100</td></tr>",
                            "<tr><td>165</td><td>244.3800</td></tr>",
                            "<tr><td>166</td><td>960.6400</td></tr>",
                            "<tr><td>167</td><td>4850.4000</td></tr>",
                            "<tr><td>168</td><td>7223.3000</td></tr>",
                            "<tr><td>169</td><td>1967.0700</td></tr>",
                            "<tr><td>171</td><td>5091.1000</td></tr>",
                            "<tr><td>172</td><td>7257.6000</td></tr>",
                            "<tr><td>173</td><td>4917.1300</td></tr>",
                            "<tr><td>174</td><td>2861.3600</td></tr>",
                            "<tr><td>175</td><td>2771.0100</td></tr>",
                            "<tr><td>176</td><td>2829.0000</td></tr>",
                            "<tr><td>178</td><td>1805.4000</td></tr>",
                            "<tr><td>179</td><td>4039.4700</td></tr>",
                            "<tr><td>180</td><td>2406.7200</td></tr>",
                            "<tr><td>181</td><td>1039.3700</td></tr>",
                            "<tr><td>182</td><td>1474.0000</td></tr>",
                            "<tr><td>183</td><td>7924.9000</td></tr>",
                            "<tr><td>184</td><td>3619.5500</td></tr>",
                            "<tr><td>185</td><td>4806.2400</td></tr>",
                            "<tr><td>186</td><td>7611.2400</td></tr>",
                            "<tr><td>187</td><td>760.1400</td></tr>",
                            "<tr><td>189</td><td>740.3200</td></tr>",
                            "<tr><td>190</td><td>5478.8400</td></tr>",
                            "<tr><td>191</td><td>4913.7200</td></tr>",
                            "<tr><td>192</td><td>1702.7400</td></tr>",
                            "<tr><td>193</td><td>6563.2800</td></tr>",
                            "<tr><td>194</td><td>3767.3100</td></tr>",
                            "<tr><td>196</td><td>2671.3600</td></tr>",
                            "<tr><td>197</td><td>4984.0000</td></tr>",
                            "<tr><td>198</td><td>3567.3400</td></tr>",
                            "<tr><td>199</td><td>2137.5200</td></tr>",
                            "<tr><td>200</td><td>3527.7200</td></tr>",
                            "<tr><td>202</td><td>3317.4000</td></tr>",
                            "<tr><td>203</td><td>907.8000</td></tr>",
                            "<tr><td>204</td><td>1881.6000</td></tr>",
                            "<tr><td>205</td><td>5365.3600</td></tr>",
                            "<tr><td>206</td><td>6370.3800</td></tr>",
                            "<tr><td>207</td><td>565.8800</td></tr>",
                            "<tr><td>208</td><td>2856.4000</td></tr>",
                            "<tr><td>209</td><td>3867.9400</td></tr>",
                            "<tr><td>210</td><td>7430.7200</td></tr>",
                            "<tr><td>211</td><td>4679.0100</td></tr>",
                            "<tr><td>212</td><td>1435.4800</td></tr>",
                            "<tr><td>213</td><td>3225.0400</td></tr>",
                            "<tr><td>214</td><td>2026.6200</td></tr>",
                            "<tr><td>215</td><td>1522.9100</td></tr>",
                            "<tr><td>216</td><td>439.4700</td></tr>",
                            "</table>"
                        ]
                    }
                }
            ],
            "execution_count": 20
        },
        {
            "cell_type": "markdown",
            "source": [
                "5. Update commitments from the investor that have the maximum commited amount for each loan application such that the loan applications from the previous query reach the initial amount requested."
            ],
            "metadata": {
                "azdata_cell_guid": "08fb7f83-1738-406a-b73b-3711f29c7f43"
            }
        },
        {
            "cell_type": "markdown",
            "source": [
                "6. For each loan payment generate proportional reimbursements to the investors that made commitments to the original loan application"
            ],
            "metadata": {
                "azdata_cell_guid": "631582d4-fc44-49d0-a2b4-0b9aaf029993"
            }
        },
        {
            "cell_type": "code",
            "source": [
                "insert into REIMBURSEMENTS\n",
                "select l.LOANID, lc.INVESTOR, getdate(),\n",
                "lc.COMMITMENTAMOUNT/ (select sum(COMMITMENTAMOUNT) from LOAN_COMMITMENTS\n",
                "where LOAN_APPLICATION = l.LOAN_APPLICATION) * p.PAYEDAMOUNT\n",
                "from PAYMENTS p, LOANS l, LOAN_COMMITMENTS lc\n",
                "where p.LOAN = l.LOANID and l.LOAN_APPLICATION = lc.LOAN_APPLICATION\n",
                ""
            ],
            "metadata": {
                "azdata_cell_guid": "6943dd33-8073-4b76-a53f-3b1225e45a59"
            },
            "outputs": [
                {
                    "output_type": "display_data",
                    "data": {
                        "text/html": "(388 rows affected)"
                    },
                    "metadata": {}
                },
                {
                    "output_type": "display_data",
                    "data": {
                        "text/html": "Total execution time: 00:00:00.048"
                    },
                    "metadata": {}
                }
            ],
            "execution_count": 26
        },
        {
            "cell_type": "markdown",
            "source": [
                "7. Delete all risk tuples where there is no relationship in the past (status of loan application in (‘Conceeded’, ’Payed’)) between investor and entrepreneur"
            ],
            "metadata": {
                "azdata_cell_guid": "7f8ec327-2105-480c-95ca-17fd256c8cb6"
            }
        },
        {
            "cell_type": "code",
            "source": [
                "delete from RISK\n",
                "where not exists (select 1 \n",
                "                  from LOAN_APPLICATIONS la, LOAN_COMMITMENTS lc \n",
                "                  where la.LOANAPPLICATIONID = lc.LOAN_APPLICATION\n",
                "                    and RISK.INVESTOR = LC.INVESTOR AND RISK.ENTREPRENEUR = LA.ENTREPRENEUR\n",
                "                    and la.STATUS in ('Conceeded', 'Payed'));\n",
                ""
            ],
            "metadata": {
                "azdata_cell_guid": "f34c4293-fdc0-48ee-a08c-605d23bbf683"
            },
            "outputs": [
                {
                    "output_type": "display_data",
                    "data": {
                        "text/html": "(130 rows affected)"
                    },
                    "metadata": {}
                },
                {
                    "output_type": "display_data",
                    "data": {
                        "text/html": "Total execution time: 00:00:00.020"
                    },
                    "metadata": {}
                }
            ],
            "execution_count": 27
        },
        {
            "cell_type": "code",
            "source": [
                "-- Remove the database\n",
                "USE master;\n",
                "GO\n",
                "IF EXISTS (SELECT [name] FROM sys.databases WHERE [name] = 'MICROCREDIT')\n",
                "    BEGIN \n",
                "        DROP DATABASE microcredit\n",
                "    END;\n",
                "GO\n",
                ""
            ],
            "metadata": {
                "azdata_cell_guid": "a9bafb32-6a0a-4844-84b2-c0e7d63a68b0"
            },
            "outputs": [
{
    "output_type": "display_data",
    "data": {
        "text/html": "Commands completed successfully."
    },
    "metadata": {}
}, {
    "output_type": "display_data",
    "data": {
        "text/html": "Commands completed successfully."
    },
    "metadata": {}
}, {
    "output_type": "display_data",
    "data": {
        "text/html": "Total execution time: 00:00:00.283"
    },
    "metadata": {}
}
],
            "execution_count": 29
        }
    ]
}